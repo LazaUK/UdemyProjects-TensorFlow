{
 "cells": [
  {
   "attachments": {},
   "cell_type": "markdown",
   "metadata": {},
   "source": [
    "# Time Series: Forecasting Bitcoin price"
   ]
  },
  {
   "cell_type": "code",
   "execution_count": 2,
   "metadata": {},
   "outputs": [
    {
     "name": "stdout",
     "output_type": "stream",
     "text": [
      "2.10.1\n"
     ]
    }
   ],
   "source": [
    "# Importing TF and checking the version\n",
    "import tensorflow as tf\n",
    "\n",
    "print(tf.__version__)"
   ]
  },
  {
   "attachments": {},
   "cell_type": "markdown",
   "metadata": {},
   "source": [
    "### Importing time series with Pandas"
   ]
  },
  {
   "cell_type": "code",
   "execution_count": 3,
   "metadata": {},
   "outputs": [
    {
     "data": {
      "text/html": [
       "<div>\n",
       "<style scoped>\n",
       "    .dataframe tbody tr th:only-of-type {\n",
       "        vertical-align: middle;\n",
       "    }\n",
       "\n",
       "    .dataframe tbody tr th {\n",
       "        vertical-align: top;\n",
       "    }\n",
       "\n",
       "    .dataframe thead th {\n",
       "        text-align: right;\n",
       "    }\n",
       "</style>\n",
       "<table border=\"1\" class=\"dataframe\">\n",
       "  <thead>\n",
       "    <tr style=\"text-align: right;\">\n",
       "      <th></th>\n",
       "      <th>Currency</th>\n",
       "      <th>Closing Price (USD)</th>\n",
       "      <th>24h Open (USD)</th>\n",
       "      <th>24h High (USD)</th>\n",
       "      <th>24h Low (USD)</th>\n",
       "    </tr>\n",
       "    <tr>\n",
       "      <th>Date</th>\n",
       "      <th></th>\n",
       "      <th></th>\n",
       "      <th></th>\n",
       "      <th></th>\n",
       "      <th></th>\n",
       "    </tr>\n",
       "  </thead>\n",
       "  <tbody>\n",
       "    <tr>\n",
       "      <th>2013-10-01</th>\n",
       "      <td>BTC</td>\n",
       "      <td>123.65499</td>\n",
       "      <td>124.30466</td>\n",
       "      <td>124.75166</td>\n",
       "      <td>122.56349</td>\n",
       "    </tr>\n",
       "    <tr>\n",
       "      <th>2013-10-02</th>\n",
       "      <td>BTC</td>\n",
       "      <td>125.45500</td>\n",
       "      <td>123.65499</td>\n",
       "      <td>125.75850</td>\n",
       "      <td>123.63383</td>\n",
       "    </tr>\n",
       "    <tr>\n",
       "      <th>2013-10-03</th>\n",
       "      <td>BTC</td>\n",
       "      <td>108.58483</td>\n",
       "      <td>125.45500</td>\n",
       "      <td>125.66566</td>\n",
       "      <td>83.32833</td>\n",
       "    </tr>\n",
       "    <tr>\n",
       "      <th>2013-10-04</th>\n",
       "      <td>BTC</td>\n",
       "      <td>118.67466</td>\n",
       "      <td>108.58483</td>\n",
       "      <td>118.67500</td>\n",
       "      <td>107.05816</td>\n",
       "    </tr>\n",
       "    <tr>\n",
       "      <th>2013-10-05</th>\n",
       "      <td>BTC</td>\n",
       "      <td>121.33866</td>\n",
       "      <td>118.67466</td>\n",
       "      <td>121.93633</td>\n",
       "      <td>118.00566</td>\n",
       "    </tr>\n",
       "  </tbody>\n",
       "</table>\n",
       "</div>"
      ],
      "text/plain": [
       "           Currency  Closing Price (USD)  24h Open (USD)  24h High (USD)  \\\n",
       "Date                                                                       \n",
       "2013-10-01      BTC            123.65499       124.30466       124.75166   \n",
       "2013-10-02      BTC            125.45500       123.65499       125.75850   \n",
       "2013-10-03      BTC            108.58483       125.45500       125.66566   \n",
       "2013-10-04      BTC            118.67466       108.58483       118.67500   \n",
       "2013-10-05      BTC            121.33866       118.67466       121.93633   \n",
       "\n",
       "            24h Low (USD)  \n",
       "Date                       \n",
       "2013-10-01      122.56349  \n",
       "2013-10-02      123.63383  \n",
       "2013-10-03       83.32833  \n",
       "2013-10-04      107.05816  \n",
       "2013-10-05      118.00566  "
      ]
     },
     "execution_count": 3,
     "metadata": {},
     "output_type": "execute_result"
    }
   ],
   "source": [
    "# Reading Bitcoin data and parsing dates\n",
    "import pandas as pd\n",
    "\n",
    "df = pd.read_csv(\n",
    "    \"BTC_USD_2013-10-01_2021-05-18-CoinDesk.csv\",\n",
    "    parse_dates=[\"Date\"],\n",
    "    index_col=[\"Date\"]   \n",
    ")\n",
    "df.head()"
   ]
  },
  {
   "cell_type": "code",
   "execution_count": 4,
   "metadata": {},
   "outputs": [
    {
     "data": {
      "text/html": [
       "<div>\n",
       "<style scoped>\n",
       "    .dataframe tbody tr th:only-of-type {\n",
       "        vertical-align: middle;\n",
       "    }\n",
       "\n",
       "    .dataframe tbody tr th {\n",
       "        vertical-align: top;\n",
       "    }\n",
       "\n",
       "    .dataframe thead th {\n",
       "        text-align: right;\n",
       "    }\n",
       "</style>\n",
       "<table border=\"1\" class=\"dataframe\">\n",
       "  <thead>\n",
       "    <tr style=\"text-align: right;\">\n",
       "      <th></th>\n",
       "      <th>Currency</th>\n",
       "      <th>Closing Price (USD)</th>\n",
       "      <th>24h Open (USD)</th>\n",
       "      <th>24h High (USD)</th>\n",
       "      <th>24h Low (USD)</th>\n",
       "    </tr>\n",
       "    <tr>\n",
       "      <th>Date</th>\n",
       "      <th></th>\n",
       "      <th></th>\n",
       "      <th></th>\n",
       "      <th></th>\n",
       "      <th></th>\n",
       "    </tr>\n",
       "  </thead>\n",
       "  <tbody>\n",
       "    <tr>\n",
       "      <th>2021-05-14</th>\n",
       "      <td>BTC</td>\n",
       "      <td>49764.132082</td>\n",
       "      <td>49596.778891</td>\n",
       "      <td>51448.798576</td>\n",
       "      <td>46294.720180</td>\n",
       "    </tr>\n",
       "    <tr>\n",
       "      <th>2021-05-15</th>\n",
       "      <td>BTC</td>\n",
       "      <td>50032.693137</td>\n",
       "      <td>49717.354353</td>\n",
       "      <td>51578.312545</td>\n",
       "      <td>48944.346536</td>\n",
       "    </tr>\n",
       "    <tr>\n",
       "      <th>2021-05-16</th>\n",
       "      <td>BTC</td>\n",
       "      <td>47885.625255</td>\n",
       "      <td>49926.035067</td>\n",
       "      <td>50690.802950</td>\n",
       "      <td>47005.102292</td>\n",
       "    </tr>\n",
       "    <tr>\n",
       "      <th>2021-05-17</th>\n",
       "      <td>BTC</td>\n",
       "      <td>45604.615754</td>\n",
       "      <td>46805.537852</td>\n",
       "      <td>49670.414174</td>\n",
       "      <td>43868.638969</td>\n",
       "    </tr>\n",
       "    <tr>\n",
       "      <th>2021-05-18</th>\n",
       "      <td>BTC</td>\n",
       "      <td>43144.471291</td>\n",
       "      <td>46439.336570</td>\n",
       "      <td>46622.853437</td>\n",
       "      <td>42102.346430</td>\n",
       "    </tr>\n",
       "  </tbody>\n",
       "</table>\n",
       "</div>"
      ],
      "text/plain": [
       "           Currency  Closing Price (USD)  24h Open (USD)  24h High (USD)  \\\n",
       "Date                                                                       \n",
       "2021-05-14      BTC         49764.132082    49596.778891    51448.798576   \n",
       "2021-05-15      BTC         50032.693137    49717.354353    51578.312545   \n",
       "2021-05-16      BTC         47885.625255    49926.035067    50690.802950   \n",
       "2021-05-17      BTC         45604.615754    46805.537852    49670.414174   \n",
       "2021-05-18      BTC         43144.471291    46439.336570    46622.853437   \n",
       "\n",
       "            24h Low (USD)  \n",
       "Date                       \n",
       "2021-05-14   46294.720180  \n",
       "2021-05-15   48944.346536  \n",
       "2021-05-16   47005.102292  \n",
       "2021-05-17   43868.638969  \n",
       "2021-05-18   42102.346430  "
      ]
     },
     "execution_count": 4,
     "metadata": {},
     "output_type": "execute_result"
    }
   ],
   "source": [
    "df.tail()"
   ]
  },
  {
   "cell_type": "code",
   "execution_count": 5,
   "metadata": {},
   "outputs": [
    {
     "name": "stdout",
     "output_type": "stream",
     "text": [
      "<class 'pandas.core.frame.DataFrame'>\n",
      "DatetimeIndex: 2787 entries, 2013-10-01 to 2021-05-18\n",
      "Data columns (total 5 columns):\n",
      " #   Column               Non-Null Count  Dtype  \n",
      "---  ------               --------------  -----  \n",
      " 0   Currency             2787 non-null   object \n",
      " 1   Closing Price (USD)  2787 non-null   float64\n",
      " 2   24h Open (USD)       2787 non-null   float64\n",
      " 3   24h High (USD)       2787 non-null   float64\n",
      " 4   24h Low (USD)        2787 non-null   float64\n",
      "dtypes: float64(4), object(1)\n",
      "memory usage: 130.6+ KB\n"
     ]
    }
   ],
   "source": [
    "df.info()"
   ]
  },
  {
   "cell_type": "code",
   "execution_count": 6,
   "metadata": {},
   "outputs": [
    {
     "data": {
      "text/plain": [
       "2787"
      ]
     },
     "execution_count": 6,
     "metadata": {},
     "output_type": "execute_result"
    }
   ],
   "source": [
    "len(df)"
   ]
  },
  {
   "cell_type": "code",
   "execution_count": 7,
   "metadata": {},
   "outputs": [
    {
     "data": {
      "text/html": [
       "<div>\n",
       "<style scoped>\n",
       "    .dataframe tbody tr th:only-of-type {\n",
       "        vertical-align: middle;\n",
       "    }\n",
       "\n",
       "    .dataframe tbody tr th {\n",
       "        vertical-align: top;\n",
       "    }\n",
       "\n",
       "    .dataframe thead th {\n",
       "        text-align: right;\n",
       "    }\n",
       "</style>\n",
       "<table border=\"1\" class=\"dataframe\">\n",
       "  <thead>\n",
       "    <tr style=\"text-align: right;\">\n",
       "      <th></th>\n",
       "      <th>Price</th>\n",
       "    </tr>\n",
       "    <tr>\n",
       "      <th>Date</th>\n",
       "      <th></th>\n",
       "    </tr>\n",
       "  </thead>\n",
       "  <tbody>\n",
       "    <tr>\n",
       "      <th>2013-10-01</th>\n",
       "      <td>123.65499</td>\n",
       "    </tr>\n",
       "    <tr>\n",
       "      <th>2013-10-02</th>\n",
       "      <td>125.45500</td>\n",
       "    </tr>\n",
       "    <tr>\n",
       "      <th>2013-10-03</th>\n",
       "      <td>108.58483</td>\n",
       "    </tr>\n",
       "    <tr>\n",
       "      <th>2013-10-04</th>\n",
       "      <td>118.67466</td>\n",
       "    </tr>\n",
       "    <tr>\n",
       "      <th>2013-10-05</th>\n",
       "      <td>121.33866</td>\n",
       "    </tr>\n",
       "  </tbody>\n",
       "</table>\n",
       "</div>"
      ],
      "text/plain": [
       "                Price\n",
       "Date                 \n",
       "2013-10-01  123.65499\n",
       "2013-10-02  125.45500\n",
       "2013-10-03  108.58483\n",
       "2013-10-04  118.67466\n",
       "2013-10-05  121.33866"
      ]
     },
     "execution_count": 7,
     "metadata": {},
     "output_type": "execute_result"
    }
   ],
   "source": [
    "# Separating closing prices for each day\n",
    "bitcoin_prices = pd.DataFrame(df[\"Closing Price (USD)\"]).rename(columns={\"Closing Price (USD)\":\"Price\"})\n",
    "bitcoin_prices.head()"
   ]
  },
  {
   "cell_type": "code",
   "execution_count": 8,
   "metadata": {},
   "outputs": [
    {
     "data": {
      "image/png": "[encoded data removed]",
      "text/plain": [
       "<Figure size 720x504 with 1 Axes>"
      ]
     },
     "metadata": {
      "needs_background": "light"
     },
     "output_type": "display_data"
    }
   ],
   "source": [
    "# Visualising Bitcoin prices\n",
    "import matplotlib.pyplot as plt\n",
    "bitcoin_prices.plot(figsize=(10, 7))\n",
    "plt.ylabel(\"BTC Price\")\n",
    "plt.title(\"Price of Bitcoin: Oct 2013 - May 2021\", fontsize=16)\n",
    "plt.legend(fontsize=14);"
   ]
  },
  {
   "attachments": {},
   "cell_type": "markdown",
   "metadata": {},
   "source": [
    "### Importing time series with Python"
   ]
  },
  {
   "cell_type": "code",
   "execution_count": 9,
   "metadata": {},
   "outputs": [
    {
     "data": {
      "text/plain": [
       "([datetime.datetime(2013, 10, 1, 0, 0),\n",
       "  datetime.datetime(2013, 10, 2, 0, 0),\n",
       "  datetime.datetime(2013, 10, 3, 0, 0),\n",
       "  datetime.datetime(2013, 10, 4, 0, 0),\n",
       "  datetime.datetime(2013, 10, 5, 0, 0),\n",
       "  datetime.datetime(2013, 10, 6, 0, 0),\n",
       "  datetime.datetime(2013, 10, 7, 0, 0),\n",
       "  datetime.datetime(2013, 10, 8, 0, 0),\n",
       "  datetime.datetime(2013, 10, 9, 0, 0),\n",
       "  datetime.datetime(2013, 10, 10, 0, 0)],\n",
       " [123.65499,\n",
       "  125.455,\n",
       "  108.58483,\n",
       "  118.67466,\n",
       "  121.33866,\n",
       "  120.65533,\n",
       "  121.795,\n",
       "  123.033,\n",
       "  124.049,\n",
       "  125.96116])"
      ]
     },
     "execution_count": 9,
     "metadata": {},
     "output_type": "execute_result"
    }
   ],
   "source": [
    "# Importing Bitcoin data with Python\n",
    "import csv\n",
    "from datetime import datetime\n",
    "\n",
    "timestamps = []\n",
    "btc_price = []\n",
    "with open(\"BTC_USD_2013-10-01_2021-05-18-CoinDesk.csv\", \"r\") as f:\n",
    "    csv_reader = csv.reader(f, delimiter=\",\")\n",
    "    next(csv_reader) # Skips first line to remove column names\n",
    "    for line in csv_reader:\n",
    "        timestamps.append(datetime.strptime(line[1], \"%Y-%m-%d\"))\n",
    "        btc_price.append(float(line[2]))\n",
    "\n",
    "# Viewing first 10 records\n",
    "timestamps[:10], btc_price[:10]"
   ]
  },
  {
   "cell_type": "code",
   "execution_count": 10,
   "metadata": {},
   "outputs": [
    {
     "data": {
      "text/plain": [
       "Text(0.5, 1.0, 'Price of Bitcoin: Oct 2013 - May 2021')"
      ]
     },
     "execution_count": 10,
     "metadata": {},
     "output_type": "execute_result"
    },
    {
     "data": {
      "image/png": "[encoded data removed]",
      "text/plain": [
       "<Figure size 720x504 with 1 Axes>"
      ]
     },
     "metadata": {
      "needs_background": "light"
     },
     "output_type": "display_data"
    }
   ],
   "source": [
    "# Plotting from CSV\n",
    "import matplotlib.pyplot as plt\n",
    "import numpy as np\n",
    "\n",
    "plt.figure(figsize=(10, 7))\n",
    "plt.plot(timestamps, btc_price)\n",
    "plt.xlabel(\"Date\")\n",
    "plt.ylabel(\"BTC Price\")\n",
    "plt.title(\"Price of Bitcoin: Oct 2013 - May 2021\", fontsize=16)\n",
    "#plt.legend();"
   ]
  },
  {
   "attachments": {},
   "cell_type": "markdown",
   "metadata": {},
   "source": [
    "### Creating train and test data"
   ]
  },
  {
   "cell_type": "code",
   "execution_count": 11,
   "metadata": {},
   "outputs": [
    {
     "data": {
      "text/plain": [
       "(array(['2013-10-01T00:00:00.000000000', '2013-10-02T00:00:00.000000000',\n",
       "        '2013-10-03T00:00:00.000000000', '2013-10-04T00:00:00.000000000',\n",
       "        '2013-10-05T00:00:00.000000000', '2013-10-06T00:00:00.000000000',\n",
       "        '2013-10-07T00:00:00.000000000', '2013-10-08T00:00:00.000000000',\n",
       "        '2013-10-09T00:00:00.000000000', '2013-10-10T00:00:00.000000000'],\n",
       "       dtype='datetime64[ns]'),\n",
       " array([123.65499, 125.455  , 108.58483, 118.67466, 121.33866, 120.65533,\n",
       "        121.795  , 123.033  , 124.049  , 125.96116]))"
      ]
     },
     "execution_count": 11,
     "metadata": {},
     "output_type": "execute_result"
    }
   ],
   "source": [
    "# Get Bitcoin date array\n",
    "timestamps = bitcoin_prices.index.to_numpy()\n",
    "prices = bitcoin_prices[\"Price\"].to_numpy()\n",
    "\n",
    "timestamps[:10], prices[:10]"
   ]
  },
  {
   "cell_type": "code",
   "execution_count": 12,
   "metadata": {},
   "outputs": [
    {
     "data": {
      "text/plain": [
       "((2229,), (558,), (2229,), (558,))"
      ]
     },
     "execution_count": 12,
     "metadata": {},
     "output_type": "execute_result"
    }
   ],
   "source": [
    "# Wrong way to create train / test split for time series data\n",
    "from sklearn.model_selection import train_test_split\n",
    "\n",
    "X_train, X_test, y_train, y_test = train_test_split(\n",
    "    timestamps, # dates\n",
    "    prices, # BTC prices\n",
    "    test_size=0.2,\n",
    "    random_state=42\n",
    ")\n",
    "X_train.shape, X_test.shape, y_train.shape, y_test.shape"
   ]
  },
  {
   "cell_type": "code",
   "execution_count": 13,
   "metadata": {},
   "outputs": [
    {
     "data": {
      "image/png": "[encoded data removed]",
      "text/plain": [
       "<Figure size 720x504 with 1 Axes>"
      ]
     },
     "metadata": {
      "needs_background": "light"
     },
     "output_type": "display_data"
    }
   ],
   "source": [
    "# Plotting the wrong data split results\n",
    "plt.figure(figsize=(10, 7))\n",
    "plt.scatter(X_train, y_train, s=5, label=\"Train data\")\n",
    "plt.scatter(X_test, y_test, s=5, label=\"Test data\")\n",
    "plt.xlabel(\"Date\")\n",
    "plt.ylabel(\"BTC Price\")\n",
    "plt.legend(fontsize=14)\n",
    "plt.show();"
   ]
  },
  {
   "cell_type": "code",
   "execution_count": 14,
   "metadata": {},
   "outputs": [
    {
     "data": {
      "text/plain": [
       "(2229, 558, 2229, 558)"
      ]
     },
     "execution_count": 14,
     "metadata": {},
     "output_type": "execute_result"
    }
   ],
   "source": [
    "# Right way to create train / test split for time series data\n",
    "split_size = int(0.8 * len(prices)) # 80% - train, 20% - test\n",
    "\n",
    "X_train, y_train = timestamps[:split_size], prices[:split_size]\n",
    "X_test, y_test = timestamps[split_size:], prices[split_size:]\n",
    "\n",
    "len(X_train), len(X_test), len(y_train), len(y_test)"
   ]
  },
  {
   "cell_type": "code",
   "execution_count": 15,
   "metadata": {},
   "outputs": [
    {
     "data": {
      "image/png": "[encoded data removed]",
      "text/plain": [
       "<Figure size 720x504 with 1 Axes>"
      ]
     },
     "metadata": {
      "needs_background": "light"
     },
     "output_type": "display_data"
    }
   ],
   "source": [
    "# Plotting the right data split results\n",
    "plt.figure(figsize=(10, 7))\n",
    "plt.scatter(X_train, y_train, s=5, label=\"Train data\")\n",
    "plt.scatter(X_test, y_test, s=5, label=\"Test data\")\n",
    "plt.xlabel(\"Date\")\n",
    "plt.ylabel(\"BTC Price\")\n",
    "plt.legend(fontsize=14)\n",
    "plt.show();"
   ]
  },
  {
   "cell_type": "code",
   "execution_count": 16,
   "metadata": {},
   "outputs": [],
   "source": [
    "# Creating plotting function\n",
    "def plot_time_series(timestamps, values, marker=\",\", start=0, end=None, label=None):\n",
    "    plt.plot(timestamps[start:end], values[start:end], marker=marker, label=label)\n",
    "    plt.xlabel(\"Time\")\n",
    "    plt.ylabel(\"BTC Price\")\n",
    "    if label:\n",
    "        plt.legend(fontsize=14)\n",
    "    plt.grid(True)"
   ]
  },
  {
   "cell_type": "code",
   "execution_count": 17,
   "metadata": {},
   "outputs": [
    {
     "data": {
      "image/png": "[encoded data removed]",
      "text/plain": [
       "<Figure size 720x504 with 1 Axes>"
      ]
     },
     "metadata": {
      "needs_background": "light"
     },
     "output_type": "display_data"
    }
   ],
   "source": [
    "# Testing plot function\n",
    "plt.figure(figsize=(10, 7))\n",
    "plot_time_series(timestamps=X_train, values=y_train, label=\"Train data\")\n",
    "plot_time_series(timestamps=X_test, values=y_test, label=\"Test data\")"
   ]
  },
  {
   "attachments": {},
   "cell_type": "markdown",
   "metadata": {},
   "source": [
    "### Model 0 - Naive forecast (baseline)"
   ]
  },
  {
   "attachments": {},
   "cell_type": "markdown",
   "metadata": {},
   "source": [
    "The prediction at timestamp t(y-hat) is equal to the value at timestamp t-1 (previous timestamp), i.e horizon of 1.\n",
    "$$\\hat{y}_{t} = y_{t-1}$$"
   ]
  },
  {
   "cell_type": "code",
   "execution_count": 18,
   "metadata": {},
   "outputs": [
    {
     "name": "stdout",
     "output_type": "stream",
     "text": [
      "First 10 values: [9226.48582088 8794.35864452 8798.04205463 9081.18687849 8711.53433917\n",
      " 8760.89271814 8749.52059102 8656.97092235 8500.64355816 8469.2608989 ]\n",
      "\n",
      "Last 10 values: [57107.12067189 58788.20967893 58102.19142623 55715.54665129\n",
      " 56573.5554719  52147.82118698 49764.1320816  50032.69313676\n",
      " 47885.62525472 45604.61575361]\n"
     ]
    }
   ],
   "source": [
    "# Creating naive forecast\n",
    "naive_forecast = y_test[:-1]\n",
    "\n",
    "print(f\"First 10 values: {naive_forecast[:10]}\\n\")\n",
    "print(f\"Last 10 values: {naive_forecast[-10:]}\")"
   ]
  },
  {
   "cell_type": "code",
   "execution_count": 19,
   "metadata": {},
   "outputs": [
    {
     "data": {
      "image/png": "[encoded data removed]",
      "text/plain": [
       "<Figure size 720x504 with 1 Axes>"
      ]
     },
     "metadata": {
      "needs_background": "light"
     },
     "output_type": "display_data"
    }
   ],
   "source": [
    "# Plotting naive forecast\n",
    "plt.figure(figsize=(10, 7))\n",
    "# plot_time_series(timestamps=X_train, values=y_train, label=\"Train data\")\n",
    "plot_time_series(timestamps=X_test, values=y_test, start=500, label=\"Test data\")\n",
    "plot_time_series(timestamps=X_test[1:], values=naive_forecast, start=500, marker=\"o\", label=\"Naive forecast\")"
   ]
  },
  {
   "cell_type": "code",
   "execution_count": 20,
   "metadata": {},
   "outputs": [],
   "source": [
    "# MASE implementation\n",
    "def mean_absolute_scaled_error(y_true, y_pred):\n",
    "    mae = tf.reduce_mean(tf.abs(y_true - y_pred))\n",
    "\n",
    "    # Find MAE of Naive Forecast (no seasonality)\n",
    "    mae_naive_no_season = tf.reduce_mean(tf.abs(y_true[1:] - y_true[:-1])) # Seasonality of 1 day\n",
    "\n",
    "    return mae / mae_naive_no_season"
   ]
  },
  {
   "cell_type": "code",
   "execution_count": 21,
   "metadata": {},
   "outputs": [
    {
     "data": {
      "text/plain": [
       "<tf.Tensor: shape=(), dtype=float64, numpy=0.9995699939182626>"
      ]
     },
     "execution_count": 21,
     "metadata": {},
     "output_type": "execute_result"
    }
   ],
   "source": [
    "# Verify if MASE of Naive Forecast is 1\n",
    "mean_absolute_scaled_error(\n",
    "    y_true=y_test[1:],\n",
    "    y_pred=naive_forecast\n",
    ")"
   ]
  },
  {
   "cell_type": "code",
   "execution_count": 22,
   "metadata": {},
   "outputs": [],
   "source": [
    "# Function for evaluation matrix\n",
    "def evaluate_preds(y_true, y_pred):\n",
    "\n",
    "    # Ensuring that we use float32 dtype (for metric calculations)\n",
    "    y_true = tf.cast(y_true, dtype=tf.float32)\n",
    "    y_pred = tf.cast(y_pred, dtype=tf.float32)\n",
    "\n",
    "    # Calculating various evaluation metrics\n",
    "    mae = tf.keras.metrics.mean_absolute_error(y_true, y_pred)\n",
    "    mse = tf.keras.metrics.mean_squared_error(y_true, y_pred)\n",
    "    rmse = tf.sqrt(mse)\n",
    "    mape = tf.keras.metrics.mean_absolute_percentage_error(y_true, y_pred)\n",
    "    mase = mean_absolute_scaled_error(y_true, y_pred)\n",
    "\n",
    "    return {\n",
    "        \"mae\": mae.numpy(),\n",
    "        \"mse\": mse.numpy(),\n",
    "        \"rmse\": rmse.numpy(),\n",
    "        \"mape\": mape.numpy(),\n",
    "        \"mase\": mase.numpy()\n",
    "    }"
   ]
  },
  {
   "cell_type": "code",
   "execution_count": 23,
   "metadata": {},
   "outputs": [
    {
     "data": {
      "text/plain": [
       "{'mae': 567.9802,\n",
       " 'mse': 1147547.0,\n",
       " 'rmse': 1071.2362,\n",
       " 'mape': 2.5165248,\n",
       " 'mase': 0.99957}"
      ]
     },
     "execution_count": 23,
     "metadata": {},
     "output_type": "execute_result"
    }
   ],
   "source": [
    "# Evaluating naive forecast results\n",
    "naive_results = evaluate_preds(y_true=y_test[1:], y_pred=naive_forecast)\n",
    "naive_results"
   ]
  },
  {
   "attachments": {},
   "cell_type": "markdown",
   "metadata": {},
   "source": [
    "### Windowing data"
   ]
  },
  {
   "cell_type": "code",
   "execution_count": 24,
   "metadata": {},
   "outputs": [
    {
     "name": "stdout",
     "output_type": "stream",
     "text": [
      "Intention is to use [123.65499, 125.455, 108.58483, 118.67466, 121.33866, 120.65533, 121.795] to predict 123.033\n"
     ]
    }
   ],
   "source": [
    "# We want to use Bitcoin prices of the week to predict next day price\n",
    "print(f\"Intention is to use {btc_price[:7]} to predict {btc_price[7]}\")"
   ]
  },
  {
   "cell_type": "code",
   "execution_count": 25,
   "metadata": {},
   "outputs": [],
   "source": [
    "# Setting up global variables for window size and horizon\n",
    "HORIZON = 1 # predict next 1 day\n",
    "WINDOW_SIZE = 7 # use the past week of Bitcoin data"
   ]
  },
  {
   "cell_type": "code",
   "execution_count": 26,
   "metadata": {},
   "outputs": [],
   "source": [
    "# Creating function to label windowed data\n",
    "def get_labelled_window(x, horizon=HORIZON):\n",
    "    return x[:, :-horizon], x[:, -horizon:]"
   ]
  },
  {
   "cell_type": "code",
   "execution_count": 27,
   "metadata": {},
   "outputs": [
    {
     "data": {
      "text/plain": [
       "(<tf.Tensor: shape=(1, 7), dtype=int32, numpy=array([[1, 2, 3, 4, 5, 6, 7]])>,\n",
       " <tf.Tensor: shape=(1, 1), dtype=int32, numpy=array([[8]])>)"
      ]
     },
     "execution_count": 27,
     "metadata": {},
     "output_type": "execute_result"
    }
   ],
   "source": [
    "# Testing window labelling function\n",
    "test_window, test_label = get_labelled_window(tf.expand_dims(tf.range(8) + 1, axis=0))\n",
    "test_window, test_label"
   ]
  },
  {
   "cell_type": "code",
   "execution_count": 28,
   "metadata": {},
   "outputs": [],
   "source": [
    "# Creating function to view NumPy arrays as windows\n",
    "def make_windows(x, window_size=WINDOW_SIZE, horizon=HORIZON):\n",
    "\n",
    "    # 1. Creating window of specific window size\n",
    "    window_step = np.expand_dims(np.arange(window_size + horizon), axis=0)\n",
    "\n",
    "    # 2. Creating 2D array of multiple windows\n",
    "    window_indexes = window_step + np.expand_dims(np.arange(len(x) - (window_size + horizon - 1)), axis=0).T\n",
    "    # print(f\"Windows indexes: {window_indexes} with shape of {window_indexes.shape}\")\n",
    "\n",
    "    # 3. Index on the target array (time series) with 2D of multiple window steps\n",
    "    windowed_array = x[window_indexes]\n",
    "\n",
    "    # 4. Get the labelled windows\n",
    "    windows, labels = get_labelled_window(windowed_array, horizon=horizon)\n",
    "    return windows, labels"
   ]
  },
  {
   "cell_type": "code",
   "execution_count": 29,
   "metadata": {},
   "outputs": [
    {
     "data": {
      "text/plain": [
       "(2780, 2780)"
      ]
     },
     "execution_count": 29,
     "metadata": {},
     "output_type": "execute_result"
    }
   ],
   "source": [
    "# Testing the function\n",
    "full_windows, full_labels = make_windows(prices)\n",
    "len(full_windows), len(full_labels)"
   ]
  },
  {
   "cell_type": "code",
   "execution_count": 30,
   "metadata": {},
   "outputs": [
    {
     "name": "stdout",
     "output_type": "stream",
     "text": [
      "Window: [123.65499 125.455   108.58483 118.67466 121.33866 120.65533 121.795  ] -> Label: [123.033]\n",
      "Window: [125.455   108.58483 118.67466 121.33866 120.65533 121.795   123.033  ] -> Label: [124.049]\n",
      "Window: [108.58483 118.67466 121.33866 120.65533 121.795   123.033   124.049  ] -> Label: [125.96116]\n"
     ]
    }
   ],
   "source": [
    "# Viewing the first 3 windows / labels\n",
    "for i in range(3):\n",
    "    print(f\"Window: {full_windows[i]} -> Label: {full_labels[i]}\")"
   ]
  },
  {
   "cell_type": "code",
   "execution_count": 31,
   "metadata": {},
   "outputs": [
    {
     "name": "stdout",
     "output_type": "stream",
     "text": [
      "Window: [58788.20967893 58102.19142623 55715.54665129 56573.5554719\n",
      " 52147.82118698 49764.1320816  50032.69313676] -> Label: [47885.62525472]\n",
      "Window: [58102.19142623 55715.54665129 56573.5554719  52147.82118698\n",
      " 49764.1320816  50032.69313676 47885.62525472] -> Label: [45604.61575361]\n",
      "Window: [55715.54665129 56573.5554719  52147.82118698 49764.1320816\n",
      " 50032.69313676 47885.62525472 45604.61575361] -> Label: [43144.47129086]\n"
     ]
    }
   ],
   "source": [
    "# Viewing the last 3 windows / labels\n",
    "for i in range(3):\n",
    "    print(f\"Window: {full_windows[i-3]} -> Label: {full_labels[i-3]}\")"
   ]
  },
  {
   "attachments": {},
   "cell_type": "markdown",
   "metadata": {},
   "source": [
    "### Splitting windows into training and testing sets"
   ]
  },
  {
   "cell_type": "code",
   "execution_count": 32,
   "metadata": {},
   "outputs": [],
   "source": [
    "# Creating function to make train / test splits\n",
    "def make_train_test_splits(windows, labels, test_split=0.2):\n",
    "    split_size = int(len(windows) * (1 - test_split)) # Default 80% train / 20% test\n",
    "    train_windows = windows[:split_size]\n",
    "    train_labels = labels[:split_size]\n",
    "    test_windows = windows[split_size:]\n",
    "    test_labels = labels[split_size:]\n",
    "    return train_windows, test_windows, train_labels, test_labels"
   ]
  },
  {
   "cell_type": "code",
   "execution_count": 33,
   "metadata": {},
   "outputs": [
    {
     "data": {
      "text/plain": [
       "(2224, 556, 2224, 556)"
      ]
     },
     "execution_count": 33,
     "metadata": {},
     "output_type": "execute_result"
    }
   ],
   "source": [
    "# Creating training and testing windows\n",
    "train_windows, test_windows, train_labels, test_labels = make_train_test_splits(\n",
    "    full_windows, full_labels\n",
    ")\n",
    "len(train_windows), len(test_windows), len(train_labels), len(test_labels)"
   ]
  },
  {
   "cell_type": "code",
   "execution_count": 34,
   "metadata": {},
   "outputs": [
    {
     "data": {
      "text/plain": [
       "(array([[123.65499, 125.455  , 108.58483, 118.67466, 121.33866, 120.65533,\n",
       "         121.795  ],\n",
       "        [125.455  , 108.58483, 118.67466, 121.33866, 120.65533, 121.795  ,\n",
       "         123.033  ],\n",
       "        [108.58483, 118.67466, 121.33866, 120.65533, 121.795  , 123.033  ,\n",
       "         124.049  ],\n",
       "        [118.67466, 121.33866, 120.65533, 121.795  , 123.033  , 124.049  ,\n",
       "         125.96116],\n",
       "        [121.33866, 120.65533, 121.795  , 123.033  , 124.049  , 125.96116,\n",
       "         125.27966]]),\n",
       " array([[123.033  ],\n",
       "        [124.049  ],\n",
       "        [125.96116],\n",
       "        [125.27966],\n",
       "        [125.9275 ]]))"
      ]
     },
     "execution_count": 34,
     "metadata": {},
     "output_type": "execute_result"
    }
   ],
   "source": [
    "# Checking the first 5 train window values\n",
    "train_windows[:5], train_labels[:5]"
   ]
  },
  {
   "cell_type": "code",
   "execution_count": 35,
   "metadata": {},
   "outputs": [
    {
     "data": {
      "text/plain": [
       "(array([[9290.89660239, 9202.41545055, 9369.62808116, 9326.59962378,\n",
       "         9335.75240233, 9226.48582088, 8794.35864452],\n",
       "        [9202.41545055, 9369.62808116, 9326.59962378, 9335.75240233,\n",
       "         9226.48582088, 8794.35864452, 8798.04205463],\n",
       "        [9369.62808116, 9326.59962378, 9335.75240233, 9226.48582088,\n",
       "         8794.35864452, 8798.04205463, 9081.18687849],\n",
       "        [9326.59962378, 9335.75240233, 9226.48582088, 8794.35864452,\n",
       "         8798.04205463, 9081.18687849, 8711.53433917],\n",
       "        [9335.75240233, 9226.48582088, 8794.35864452, 8798.04205463,\n",
       "         9081.18687849, 8711.53433917, 8760.89271814]]),\n",
       " array([[8798.04205463],\n",
       "        [9081.18687849],\n",
       "        [8711.53433917],\n",
       "        [8760.89271814],\n",
       "        [8749.52059102]]))"
      ]
     },
     "execution_count": 35,
     "metadata": {},
     "output_type": "execute_result"
    }
   ],
   "source": [
    "# Checking the first test values\n",
    "test_windows[:5], test_labels[:5]"
   ]
  },
  {
   "attachments": {},
   "cell_type": "markdown",
   "metadata": {},
   "source": [
    "### Modelling checkpoint callback"
   ]
  },
  {
   "cell_type": "code",
   "execution_count": 36,
   "metadata": {},
   "outputs": [],
   "source": [
    "# Function to implement ModelCheckpoint callback\n",
    "import os\n",
    "\n",
    "def create_model_checkpoint(model_name, save_path=\"model_experiments\"):\n",
    "    return tf.keras.callbacks.ModelCheckpoint(\n",
    "        filepath=os.path.join(save_path, model_name),\n",
    "        verbose=0,\n",
    "        save_best_only=True\n",
    "    )"
   ]
  },
  {
   "attachments": {},
   "cell_type": "markdown",
   "metadata": {},
   "source": [
    "### Model 1 - Dense model (window = 7, horizon = 1)"
   ]
  },
  {
   "cell_type": "code",
   "execution_count": 37,
   "metadata": {},
   "outputs": [
    {
     "name": "stdout",
     "output_type": "stream",
     "text": [
      "Epoch 1/100\n",
      "10/18 [===============>..............] - ETA: 0s - loss: 4730.9766 - mae: 4730.9766 - mse: 54996856.0000 INFO:tensorflow:Assets written to: model_experiments\\model_1_dense\\assets\n",
      "18/18 [==============================] - 5s 171ms/step - loss: 4007.0496 - mae: 4007.0496 - mse: 41227048.0000 - val_loss: 12410.7471 - val_mae: 12410.7471 - val_mse: 271330560.0000\n",
      "Epoch 2/100\n",
      "13/18 [====================>.........] - ETA: 0s - loss: 816.8917 - mae: 816.8917 - mse: 2447744.7500  INFO:tensorflow:Assets written to: model_experiments\\model_1_dense\\assets\n",
      "18/18 [==============================] - 2s 101ms/step - loss: 757.4069 - mae: 757.4069 - mse: 2067662.5000 - val_loss: 3453.9829 - val_mae: 3453.9827 - val_mse: 24432512.0000\n",
      "Epoch 3/100\n",
      "12/18 [===================>..........] - ETA: 0s - loss: 302.6194 - mae: 302.6194 - mse: 342943.8438INFO:tensorflow:Assets written to: model_experiments\\model_1_dense\\assets\n",
      "18/18 [==============================] - 2s 107ms/step - loss: 285.0446 - mae: 285.0446 - mse: 304284.4688 - val_loss: 859.3107 - val_mae: 859.3107 - val_mse: 2482116.2500\n",
      "Epoch 4/100\n",
      "12/18 [===================>..........] - ETA: 0s - loss: 192.9783 - mae: 192.9783 - mse: 180469.3125INFO:tensorflow:Assets written to: model_experiments\\model_1_dense\\assets\n",
      "18/18 [==============================] - 2s 111ms/step - loss: 177.8318 - mae: 177.8318 - mse: 155381.3906 - val_loss: 823.7545 - val_mae: 823.7545 - val_mse: 2301871.5000\n",
      "Epoch 5/100\n",
      "13/18 [====================>.........] - ETA: 0s - loss: 151.8040 - mae: 151.8040 - mse: 124520.9453INFO:tensorflow:Assets written to: model_experiments\\model_1_dense\\assets\n",
      "18/18 [==============================] - 2s 104ms/step - loss: 148.2036 - mae: 148.2036 - mse: 118549.8281 - val_loss: 807.5685 - val_mae: 807.5685 - val_mse: 2219046.2500\n",
      "Epoch 6/100\n",
      "12/18 [===================>..........] - ETA: 0s - loss: 144.5976 - mae: 144.5976 - mse: 105318.8750INFO:tensorflow:Assets written to: model_experiments\\model_1_dense\\assets\n",
      "18/18 [==============================] - 2s 102ms/step - loss: 147.3384 - mae: 147.3384 - mse: 118110.0156 - val_loss: 796.8505 - val_mae: 796.8505 - val_mse: 2168408.7500\n",
      "Epoch 7/100\n",
      "12/18 [===================>..........] - ETA: 0s - loss: 148.5278 - mae: 148.5278 - mse: 125667.1016INFO:tensorflow:Assets written to: model_experiments\\model_1_dense\\assets\n",
      "18/18 [==============================] - 2s 102ms/step - loss: 142.6197 - mae: 142.6197 - mse: 112304.4922 - val_loss: 792.4155 - val_mae: 792.4155 - val_mse: 2068447.2500\n",
      "Epoch 8/100\n",
      "10/18 [===============>..............] - ETA: 0s - loss: 136.6874 - mae: 136.6874 - mse: 104083.1719INFO:tensorflow:Assets written to: model_experiments\\model_1_dense\\assets\n",
      "18/18 [==============================] - 2s 139ms/step - loss: 139.9028 - mae: 139.9028 - mse: 109604.9219 - val_loss: 768.7539 - val_mae: 768.7539 - val_mse: 2013540.3750\n",
      "Epoch 9/100\n",
      "18/18 [==============================] - 0s 13ms/step - loss: 139.8049 - mae: 139.8049 - mse: 109121.3594 - val_loss: 791.4897 - val_mae: 791.4897 - val_mse: 1987550.8750\n",
      "Epoch 10/100\n",
      "10/18 [===============>..............] - ETA: 0s - loss: 133.7872 - mae: 133.7872 - mse: 95189.5625 INFO:tensorflow:Assets written to: model_experiments\\model_1_dense\\assets\n",
      "18/18 [==============================] - 2s 122ms/step - loss: 136.3308 - mae: 136.3308 - mse: 104455.4531 - val_loss: 738.6481 - val_mae: 738.6481 - val_mse: 1853660.7500\n",
      "Epoch 11/100\n",
      "12/18 [===================>..........] - ETA: 0s - loss: 138.9998 - mae: 138.9998 - mse: 110932.0547INFO:tensorflow:Assets written to: model_experiments\\model_1_dense\\assets\n",
      "18/18 [==============================] - 2s 98ms/step - loss: 132.9605 - mae: 132.9605 - mse: 100081.1094 - val_loss: 729.6804 - val_mae: 729.6804 - val_mse: 1794977.5000\n",
      "Epoch 12/100\n",
      "18/18 [==============================] - 0s 11ms/step - loss: 131.1650 - mae: 131.1650 - mse: 98040.2344 - val_loss: 756.7563 - val_mae: 756.7564 - val_mse: 1831315.7500\n",
      "Epoch 13/100\n",
      "11/18 [=================>............] - ETA: 0s - loss: 127.2110 - mae: 127.2110 - mse: 95279.9766INFO:tensorflow:Assets written to: model_experiments\\model_1_dense\\assets\n",
      "18/18 [==============================] - 2s 93ms/step - loss: 131.8773 - mae: 131.8773 - mse: 98498.3828 - val_loss: 721.8491 - val_mae: 721.8491 - val_mse: 1734522.2500\n",
      "Epoch 14/100\n",
      "18/18 [==============================] - 0s 11ms/step - loss: 128.7758 - mae: 128.7758 - mse: 95079.6953 - val_loss: 725.0116 - val_mae: 725.0116 - val_mse: 1724307.1250\n",
      "Epoch 15/100\n",
      "11/18 [=================>............] - ETA: 0s - loss: 126.1301 - mae: 126.1301 - mse: 92147.8516INFO:tensorflow:Assets written to: model_experiments\\model_1_dense\\assets\n",
      "18/18 [==============================] - 2s 130ms/step - loss: 129.7580 - mae: 129.7580 - mse: 95052.5625 - val_loss: 709.7195 - val_mae: 709.7195 - val_mse: 1673821.5000\n",
      "Epoch 16/100\n",
      "18/18 [==============================] - 0s 12ms/step - loss: 126.7700 - mae: 126.7700 - mse: 91510.5938 - val_loss: 721.1267 - val_mae: 721.1267 - val_mse: 1689682.0000\n",
      "Epoch 17/100\n",
      "12/18 [===================>..........] - ETA: 0s - loss: 130.0332 - mae: 130.0332 - mse: 94694.2109INFO:tensorflow:Assets written to: model_experiments\\model_1_dense\\assets\n",
      "18/18 [==============================] - 2s 99ms/step - loss: 125.9396 - mae: 125.9396 - mse: 90697.0312 - val_loss: 707.7372 - val_mae: 707.7372 - val_mse: 1645092.1250\n",
      "Epoch 18/100\n",
      "12/18 [===================>..........] - ETA: 0s - loss: 129.8290 - mae: 129.8290 - mse: 95668.5859 INFO:tensorflow:Assets written to: model_experiments\\model_1_dense\\assets\n",
      "18/18 [==============================] - 2s 98ms/step - loss: 125.2001 - mae: 125.2001 - mse: 90464.6875 - val_loss: 684.1790 - val_mae: 684.1790 - val_mse: 1577916.1250\n",
      "Epoch 19/100\n",
      "18/18 [==============================] - 0s 11ms/step - loss: 123.9315 - mae: 123.9315 - mse: 88698.2578 - val_loss: 694.4674 - val_mae: 694.4674 - val_mse: 1594199.0000\n",
      "Epoch 20/100\n",
      "11/18 [=================>............] - ETA: 0s - loss: 128.3384 - mae: 128.3384 - mse: 95083.0000 INFO:tensorflow:Assets written to: model_experiments\\model_1_dense\\assets\n",
      "18/18 [==============================] - 2s 95ms/step - loss: 124.5291 - mae: 124.5291 - mse: 89222.5625 - val_loss: 666.3372 - val_mae: 666.3372 - val_mse: 1534239.3750\n",
      "Epoch 21/100\n",
      "13/18 [====================>.........] - ETA: 0s - loss: 123.2752 - mae: 123.2752 - mse: 85349.6797INFO:tensorflow:Assets written to: model_experiments\\model_1_dense\\assets\n",
      "18/18 [==============================] - 2s 99ms/step - loss: 124.6679 - mae: 124.6679 - mse: 89727.4062 - val_loss: 661.0716 - val_mae: 661.0716 - val_mse: 1509560.3750\n",
      "Epoch 22/100\n",
      "10/18 [===============>..............] - ETA: 0s - loss: 138.1050 - mae: 138.1050 - mse: 111461.6094INFO:tensorflow:Assets written to: model_experiments\\model_1_dense\\assets\n",
      "18/18 [==============================] - 2s 98ms/step - loss: 121.6747 - mae: 121.6747 - mse: 86548.6562 - val_loss: 658.4731 - val_mae: 658.4731 - val_mse: 1486365.6250\n",
      "Epoch 23/100\n",
      "14/18 [======================>.......] - ETA: 0s - loss: 120.9524 - mae: 120.9524 - mse: 79608.6094INFO:tensorflow:Assets written to: model_experiments\\model_1_dense\\assets\n",
      "18/18 [==============================] - 2s 98ms/step - loss: 121.8604 - mae: 121.8604 - mse: 85262.6641 - val_loss: 658.4073 - val_mae: 658.4073 - val_mse: 1478713.3750\n",
      "Epoch 24/100\n",
      "12/18 [===================>..........] - ETA: 0s - loss: 124.8265 - mae: 124.8265 - mse: 94856.3203INFO:tensorflow:Assets written to: model_experiments\\model_1_dense\\assets\n",
      "18/18 [==============================] - 2s 96ms/step - loss: 122.8339 - mae: 122.8339 - mse: 86348.0234 - val_loss: 646.1476 - val_mae: 646.1476 - val_mse: 1454201.1250\n",
      "Epoch 25/100\n",
      "18/18 [==============================] - 0s 11ms/step - loss: 122.1045 - mae: 122.1045 - mse: 84192.9609 - val_loss: 670.5097 - val_mae: 670.5097 - val_mse: 1551434.1250\n",
      "Epoch 26/100\n",
      "18/18 [==============================] - 0s 11ms/step - loss: 123.0533 - mae: 123.0533 - mse: 85340.9844 - val_loss: 674.0204 - val_mae: 674.0204 - val_mse: 1558861.8750\n",
      "Epoch 27/100\n",
      "18/18 [==============================] - 0s 12ms/step - loss: 122.3131 - mae: 122.3131 - mse: 85468.2891 - val_loss: 664.0768 - val_mae: 664.0768 - val_mse: 1521860.1250\n",
      "Epoch 28/100\n",
      "12/18 [===================>..........] - ETA: 0s - loss: 119.6256 - mae: 119.6256 - mse: 81789.7891INFO:tensorflow:Assets written to: model_experiments\\model_1_dense\\assets\n",
      "18/18 [==============================] - 2s 92ms/step - loss: 119.1633 - mae: 119.1633 - mse: 83002.5625 - val_loss: 635.1716 - val_mae: 635.1716 - val_mse: 1416345.7500\n",
      "Epoch 29/100\n",
      "18/18 [==============================] - 0s 11ms/step - loss: 118.0068 - mae: 118.0068 - mse: 81989.1250 - val_loss: 654.2112 - val_mae: 654.2112 - val_mse: 1437539.2500\n",
      "Epoch 30/100\n",
      "18/18 [==============================] - 0s 10ms/step - loss: 124.2206 - mae: 124.2206 - mse: 85345.9375 - val_loss: 698.0998 - val_mae: 698.0998 - val_mse: 1542381.8750\n",
      "Epoch 31/100\n",
      "18/18 [==============================] - 0s 10ms/step - loss: 130.9452 - mae: 130.9452 - mse: 88722.0156 - val_loss: 880.0172 - val_mae: 880.0172 - val_mse: 2106221.5000\n",
      "Epoch 32/100\n",
      "13/18 [====================>.........] - ETA: 0s - loss: 140.6279 - mae: 140.6279 - mse: 97315.0469 INFO:tensorflow:Assets written to: model_experiments\\model_1_dense\\assets\n",
      "18/18 [==============================] - 2s 96ms/step - loss: 135.0990 - mae: 135.0990 - mse: 89699.3359 - val_loss: 621.1428 - val_mae: 621.1428 - val_mse: 1363130.5000\n",
      "Epoch 33/100\n",
      "18/18 [==============================] - 0s 11ms/step - loss: 127.6038 - mae: 127.6038 - mse: 81903.4375 - val_loss: 711.5135 - val_mae: 711.5135 - val_mse: 1632011.8750\n",
      "Epoch 34/100\n",
      "18/18 [==============================] - 0s 12ms/step - loss: 120.9594 - mae: 120.9594 - mse: 81829.0469 - val_loss: 666.3605 - val_mae: 666.3605 - val_mse: 1496464.6250\n",
      "Epoch 35/100\n",
      "12/18 [===================>..........] - ETA: 0s - loss: 117.9255 - mae: 117.9255 - mse: 80255.2812INFO:tensorflow:Assets written to: model_experiments\\model_1_dense\\assets\n",
      "18/18 [==============================] - 2s 100ms/step - loss: 116.8688 - mae: 116.8688 - mse: 80433.6875 - val_loss: 615.2338 - val_mae: 615.2338 - val_mse: 1335741.7500\n",
      "Epoch 36/100\n",
      "18/18 [==============================] - 0s 10ms/step - loss: 119.2810 - mae: 119.2810 - mse: 80128.0625 - val_loss: 672.0983 - val_mae: 672.0983 - val_mse: 1452385.8750\n",
      "Epoch 37/100\n",
      "18/18 [==============================] - 0s 11ms/step - loss: 117.6708 - mae: 117.6708 - mse: 79245.8281 - val_loss: 621.9968 - val_mae: 621.9968 - val_mse: 1354618.3750\n",
      "Epoch 38/100\n",
      "12/18 [===================>..........] - ETA: 0s - loss: 115.9363 - mae: 115.9363 - mse: 79592.0938INFO:tensorflow:Assets written to: model_experiments\\model_1_dense\\assets\n",
      "18/18 [==============================] - 2s 107ms/step - loss: 113.9245 - mae: 113.9245 - mse: 77997.6797 - val_loss: 605.0188 - val_mae: 605.0188 - val_mse: 1306724.8750\n",
      "Epoch 39/100\n",
      "14/18 [======================>.......] - ETA: 0s - loss: 116.0873 - mae: 116.0873 - mse: 81690.0078 INFO:tensorflow:Assets written to: model_experiments\\model_1_dense\\assets\n",
      "18/18 [==============================] - 2s 97ms/step - loss: 113.3425 - mae: 113.3425 - mse: 76734.3281 - val_loss: 604.3721 - val_mae: 604.3721 - val_mse: 1296987.8750\n",
      "Epoch 40/100\n",
      "10/18 [===============>..............] - ETA: 0s - loss: 113.1371 - mae: 113.1371 - mse: 79714.5469INFO:tensorflow:Assets written to: model_experiments\\model_1_dense\\assets\n",
      "18/18 [==============================] - 2s 105ms/step - loss: 112.9092 - mae: 112.9092 - mse: 75174.4922 - val_loss: 602.7549 - val_mae: 602.7549 - val_mse: 1298643.7500\n",
      "Epoch 41/100\n",
      "18/18 [==============================] - 0s 14ms/step - loss: 115.4254 - mae: 115.4254 - mse: 76931.8672 - val_loss: 718.4813 - val_mae: 718.4813 - val_mse: 1614791.6250\n",
      "Epoch 42/100\n",
      "11/18 [=================>............] - ETA: 0s - loss: 122.9778 - mae: 122.9778 - mse: 85604.9688INFO:tensorflow:Assets written to: model_experiments\\model_1_dense\\assets\n",
      "18/18 [==============================] - 2s 93ms/step - loss: 120.1179 - mae: 120.1179 - mse: 80801.3203 - val_loss: 597.6509 - val_mae: 597.6509 - val_mse: 1282047.8750\n",
      "Epoch 43/100\n",
      "18/18 [==============================] - 0s 11ms/step - loss: 112.3089 - mae: 112.3089 - mse: 74953.1016 - val_loss: 611.6253 - val_mae: 611.6253 - val_mse: 1310177.0000\n",
      "Epoch 44/100\n",
      "18/18 [==============================] - 0s 11ms/step - loss: 114.7918 - mae: 114.7918 - mse: 76166.3672 - val_loss: 609.2200 - val_mae: 609.2200 - val_mse: 1302117.0000\n",
      "Epoch 45/100\n",
      "18/18 [==============================] - 0s 11ms/step - loss: 113.9745 - mae: 113.9745 - mse: 77449.4375 - val_loss: 603.2963 - val_mae: 603.2963 - val_mse: 1279773.7500\n",
      "Epoch 46/100\n",
      "12/18 [===================>..........] - ETA: 0s - loss: 118.0298 - mae: 118.0298 - mse: 86825.5391INFO:tensorflow:Assets written to: model_experiments\\model_1_dense\\assets\n",
      "18/18 [==============================] - 2s 107ms/step - loss: 113.5453 - mae: 113.5453 - mse: 75585.5078 - val_loss: 590.3835 - val_mae: 590.3835 - val_mse: 1255711.0000\n",
      "Epoch 47/100\n",
      "18/18 [==============================] - 0s 10ms/step - loss: 117.9983 - mae: 117.9983 - mse: 80562.4766 - val_loss: 663.0744 - val_mae: 663.0744 - val_mse: 1402983.7500\n",
      "Epoch 48/100\n",
      "18/18 [==============================] - 0s 13ms/step - loss: 114.6868 - mae: 114.6868 - mse: 74959.6953 - val_loss: 718.2154 - val_mae: 718.2154 - val_mse: 1548538.1250\n",
      "Epoch 49/100\n",
      "12/18 [===================>..........] - ETA: 0s - loss: 122.3645 - mae: 122.3645 - mse: 90112.5078 INFO:tensorflow:Assets written to: model_experiments\\model_1_dense\\assets\n",
      "18/18 [==============================] - 2s 108ms/step - loss: 116.1271 - mae: 116.1271 - mse: 76440.1562 - val_loss: 587.0430 - val_mae: 587.0430 - val_mse: 1244699.6250\n",
      "Epoch 50/100\n",
      "18/18 [==============================] - 0s 12ms/step - loss: 111.1775 - mae: 111.1775 - mse: 74352.7891 - val_loss: 610.7017 - val_mae: 610.7017 - val_mse: 1292065.1250\n",
      "Epoch 51/100\n",
      "13/18 [====================>.........] - ETA: 0s - loss: 112.0701 - mae: 112.0701 - mse: 78128.4219INFO:tensorflow:Assets written to: model_experiments\\model_1_dense\\assets\n",
      "18/18 [==============================] - 2s 100ms/step - loss: 111.6654 - mae: 111.6654 - mse: 74070.3594 - val_loss: 585.6813 - val_mae: 585.6813 - val_mse: 1238329.6250\n",
      "Epoch 52/100\n",
      "12/18 [===================>..........] - ETA: 0s - loss: 117.8650 - mae: 117.8650 - mse: 84029.0703INFO:tensorflow:Assets written to: model_experiments\\model_1_dense\\assets\n",
      "18/18 [==============================] - 2s 95ms/step - loss: 111.2703 - mae: 111.2703 - mse: 74978.2656 - val_loss: 584.2066 - val_mae: 584.2066 - val_mse: 1234408.0000\n",
      "Epoch 53/100\n",
      "18/18 [==============================] - 0s 12ms/step - loss: 114.1440 - mae: 114.1440 - mse: 75964.6797 - val_loss: 589.9113 - val_mae: 589.9113 - val_mse: 1243320.6250\n",
      "Epoch 54/100\n",
      "18/18 [==============================] - 0s 9ms/step - loss: 115.9151 - mae: 115.9151 - mse: 76513.2578 - val_loss: 663.4423 - val_mae: 663.4423 - val_mse: 1395652.5000\n",
      "Epoch 55/100\n",
      "18/18 [==============================] - 0s 10ms/step - loss: 113.7188 - mae: 113.7188 - mse: 75254.3203 - val_loss: 596.1115 - val_mae: 596.1115 - val_mse: 1251859.5000\n",
      "Epoch 56/100\n",
      "18/18 [==============================] - 0s 10ms/step - loss: 110.5626 - mae: 110.5626 - mse: 73563.1797 - val_loss: 770.7419 - val_mae: 770.7419 - val_mse: 1747962.3750\n",
      "Epoch 57/100\n",
      "18/18 [==============================] - 0s 11ms/step - loss: 130.7190 - mae: 130.7190 - mse: 87962.6797 - val_loss: 692.8047 - val_mae: 692.8047 - val_mse: 1497584.6250\n",
      "Epoch 58/100\n",
      "18/18 [==============================] - 0s 9ms/step - loss: 124.2225 - mae: 124.2225 - mse: 81979.5000 - val_loss: 674.6844 - val_mae: 674.6844 - val_mse: 1443785.2500\n",
      "Epoch 59/100\n",
      "18/18 [==============================] - 0s 9ms/step - loss: 109.6716 - mae: 109.6716 - mse: 71862.6719 - val_loss: 624.9672 - val_mae: 624.9672 - val_mse: 1311576.7500\n",
      "Epoch 60/100\n",
      "18/18 [==============================] - 0s 10ms/step - loss: 112.8058 - mae: 112.8058 - mse: 75265.1797 - val_loss: 609.1337 - val_mae: 609.1337 - val_mse: 1270488.8750\n",
      "Epoch 61/100\n",
      "10/18 [===============>..............] - ETA: 0s - loss: 105.1731 - mae: 105.1731 - mse: 64808.4453INFO:tensorflow:Assets written to: model_experiments\\model_1_dense\\assets\n",
      "18/18 [==============================] - 2s 103ms/step - loss: 110.0497 - mae: 110.0497 - mse: 74143.8828 - val_loss: 582.9590 - val_mae: 582.9590 - val_mse: 1221806.5000\n",
      "Epoch 62/100\n",
      "12/18 [===================>..........] - ETA: 0s - loss: 109.1341 - mae: 109.1341 - mse: 70020.4375INFO:tensorflow:Assets written to: model_experiments\\model_1_dense\\assets\n",
      "18/18 [==============================] - 2s 91ms/step - loss: 109.1157 - mae: 109.1157 - mse: 71455.6953 - val_loss: 578.9491 - val_mae: 578.9491 - val_mse: 1213265.0000\n",
      "Epoch 63/100\n",
      "18/18 [==============================] - 0s 11ms/step - loss: 108.9211 - mae: 108.9211 - mse: 72112.2812 - val_loss: 597.6592 - val_mae: 597.6592 - val_mse: 1246120.2500\n",
      "Epoch 64/100\n",
      "18/18 [==============================] - 0s 12ms/step - loss: 109.9096 - mae: 109.9096 - mse: 72303.2500 - val_loss: 624.5069 - val_mae: 624.5069 - val_mse: 1299131.8750\n",
      "Epoch 65/100\n",
      "18/18 [==============================] - 0s 13ms/step - loss: 110.2334 - mae: 110.2334 - mse: 72667.4531 - val_loss: 593.6725 - val_mae: 593.6725 - val_mse: 1235895.0000\n",
      "Epoch 66/100\n",
      "18/18 [==============================] - 0s 12ms/step - loss: 109.3973 - mae: 109.3973 - mse: 72116.7344 - val_loss: 586.0561 - val_mae: 586.0561 - val_mse: 1220509.7500\n",
      "Epoch 67/100\n",
      "18/18 [==============================] - 0s 11ms/step - loss: 109.1297 - mae: 109.1297 - mse: 71702.4844 - val_loss: 673.8654 - val_mae: 673.8654 - val_mse: 1430409.5000\n",
      "Epoch 68/100\n",
      "18/18 [==============================] - 0s 10ms/step - loss: 119.6036 - mae: 119.6036 - mse: 74064.4766 - val_loss: 725.9335 - val_mae: 725.9335 - val_mse: 1584406.7500\n",
      "Epoch 69/100\n",
      "18/18 [==============================] - 0s 10ms/step - loss: 124.9857 - mae: 124.9857 - mse: 82259.1953 - val_loss: 658.4420 - val_mae: 658.4420 - val_mse: 1385785.3750\n",
      "Epoch 70/100\n",
      "11/18 [=================>............] - ETA: 0s - loss: 124.6581 - mae: 124.6581 - mse: 82920.3359 INFO:tensorflow:Assets written to: model_experiments\\model_1_dense\\assets\n",
      "18/18 [==============================] - 2s 90ms/step - loss: 122.0878 - mae: 122.0878 - mse: 80260.0234 - val_loss: 574.9373 - val_mae: 574.9373 - val_mse: 1199440.1250\n",
      "Epoch 71/100\n",
      "18/18 [==============================] - 0s 10ms/step - loss: 112.9461 - mae: 112.9461 - mse: 72728.6953 - val_loss: 595.5366 - val_mae: 595.5366 - val_mse: 1235678.1250\n",
      "Epoch 72/100\n",
      "18/18 [==============================] - 0s 10ms/step - loss: 108.5176 - mae: 108.5176 - mse: 72051.0000 - val_loss: 583.5234 - val_mae: 583.5234 - val_mse: 1211455.5000\n",
      "Epoch 73/100\n",
      "11/18 [=================>............] - ETA: 0s - loss: 110.0217 - mae: 110.0217 - mse: 76484.8438 INFO:tensorflow:Assets written to: model_experiments\\model_1_dense\\assets\n",
      "18/18 [==============================] - 2s 91ms/step - loss: 109.2234 - mae: 109.2234 - mse: 71553.6094 - val_loss: 574.4345 - val_mae: 574.4345 - val_mse: 1195133.6250\n",
      "Epoch 74/100\n",
      "13/18 [====================>.........] - ETA: 0s - loss: 110.2998 - mae: 110.2998 - mse: 72002.2266 INFO:tensorflow:Assets written to: model_experiments\\model_1_dense\\assets\n",
      "18/18 [==============================] - 2s 91ms/step - loss: 110.6724 - mae: 110.6724 - mse: 73055.2422 - val_loss: 572.7961 - val_mae: 572.7961 - val_mse: 1191401.5000\n",
      "Epoch 75/100\n",
      "18/18 [==============================] - 0s 11ms/step - loss: 108.3693 - mae: 108.3693 - mse: 70999.5938 - val_loss: 573.5353 - val_mae: 573.5353 - val_mse: 1191156.7500\n",
      "Epoch 76/100\n",
      "12/18 [===================>..........] - ETA: 0s - loss: 111.1069 - mae: 111.1069 - mse: 72303.9922INFO:tensorflow:Assets written to: model_experiments\\model_1_dense\\assets\n",
      "18/18 [==============================] - 2s 99ms/step - loss: 110.3961 - mae: 110.3961 - mse: 72563.0703 - val_loss: 571.8149 - val_mae: 571.8149 - val_mse: 1187571.1250\n",
      "Epoch 77/100\n",
      "18/18 [==============================] - 0s 11ms/step - loss: 108.4940 - mae: 108.4940 - mse: 70797.3750 - val_loss: 610.3459 - val_mae: 610.3459 - val_mse: 1260282.2500\n",
      "Epoch 78/100\n",
      "18/18 [==============================] - 0s 10ms/step - loss: 108.9169 - mae: 108.9169 - mse: 70497.0234 - val_loss: 597.9208 - val_mae: 597.9208 - val_mse: 1233261.1250\n",
      "Epoch 79/100\n",
      "18/18 [==============================] - 0s 11ms/step - loss: 112.7215 - mae: 112.7215 - mse: 76131.3438 - val_loss: 584.9961 - val_mae: 584.9961 - val_mse: 1207601.6250\n",
      "Epoch 80/100\n",
      "18/18 [==============================] - 0s 11ms/step - loss: 107.3766 - mae: 107.3766 - mse: 70845.4922 - val_loss: 597.1161 - val_mae: 597.1161 - val_mse: 1232639.5000\n",
      "Epoch 81/100\n",
      "18/18 [==============================] - 0s 11ms/step - loss: 109.1390 - mae: 109.1390 - mse: 71390.5000 - val_loss: 593.6262 - val_mae: 593.6262 - val_mse: 1222632.0000\n",
      "Epoch 82/100\n",
      "18/18 [==============================] - 0s 10ms/step - loss: 117.1400 - mae: 117.1400 - mse: 77384.0781 - val_loss: 599.9214 - val_mae: 599.9214 - val_mse: 1235152.5000\n",
      "Epoch 83/100\n",
      "18/18 [==============================] - 0s 10ms/step - loss: 110.7184 - mae: 110.7184 - mse: 72469.6875 - val_loss: 686.5418 - val_mae: 686.5418 - val_mse: 1452242.2500\n",
      "Epoch 84/100\n",
      "18/18 [==============================] - 0s 11ms/step - loss: 113.3184 - mae: 113.3184 - mse: 73188.5156 - val_loss: 584.2980 - val_mae: 584.2980 - val_mse: 1204096.0000\n",
      "Epoch 85/100\n",
      "18/18 [==============================] - 0s 10ms/step - loss: 108.1386 - mae: 108.1386 - mse: 70639.4766 - val_loss: 590.6226 - val_mae: 590.6226 - val_mse: 1216404.8750\n",
      "Epoch 86/100\n",
      "18/18 [==============================] - 0s 11ms/step - loss: 107.5174 - mae: 107.5174 - mse: 69685.9375 - val_loss: 626.4594 - val_mae: 626.4594 - val_mse: 1292594.3750\n",
      "Epoch 87/100\n",
      "18/18 [==============================] - 0s 11ms/step - loss: 109.9483 - mae: 109.9483 - mse: 70301.3828 - val_loss: 575.7205 - val_mae: 575.7205 - val_mse: 1186297.7500\n",
      "Epoch 88/100\n",
      "18/18 [==============================] - 0s 11ms/step - loss: 108.3308 - mae: 108.3308 - mse: 71305.9297 - val_loss: 576.8643 - val_mae: 576.8643 - val_mse: 1187875.2500\n",
      "Epoch 89/100\n",
      "18/18 [==============================] - 0s 11ms/step - loss: 107.8511 - mae: 107.8511 - mse: 69537.8984 - val_loss: 581.0850 - val_mae: 581.0850 - val_mse: 1194918.1250\n",
      "Epoch 90/100\n",
      "18/18 [==============================] - 0s 14ms/step - loss: 106.4045 - mae: 106.4045 - mse: 69247.9062 - val_loss: 602.3414 - val_mae: 602.3414 - val_mse: 1238222.5000\n",
      "Epoch 91/100\n",
      "18/18 [==============================] - 0s 11ms/step - loss: 109.3366 - mae: 109.3366 - mse: 71415.3203 - val_loss: 623.5416 - val_mae: 623.5416 - val_mse: 1283287.5000\n",
      "Epoch 92/100\n",
      "12/18 [===================>..........] - ETA: 0s - loss: 110.6900 - mae: 110.6900 - mse: 75459.3125INFO:tensorflow:Assets written to: model_experiments\\model_1_dense\\assets\n",
      "18/18 [==============================] - 2s 108ms/step - loss: 110.6240 - mae: 110.6240 - mse: 72122.9531 - val_loss: 569.4304 - val_mae: 569.4304 - val_mse: 1173440.0000\n",
      "Epoch 93/100\n",
      "18/18 [==============================] - 0s 11ms/step - loss: 114.8227 - mae: 114.8227 - mse: 74003.2578 - val_loss: 597.2047 - val_mae: 597.2047 - val_mse: 1224518.5000\n",
      "Epoch 94/100\n",
      "18/18 [==============================] - 0s 11ms/step - loss: 109.6457 - mae: 109.6457 - mse: 71749.4922 - val_loss: 581.2379 - val_mae: 581.2379 - val_mse: 1191554.5000\n",
      "Epoch 95/100\n",
      "18/18 [==============================] - 0s 11ms/step - loss: 106.2874 - mae: 106.2874 - mse: 68559.1172 - val_loss: 573.9775 - val_mae: 573.9775 - val_mse: 1179750.5000\n",
      "Epoch 96/100\n",
      "18/18 [==============================] - 0s 10ms/step - loss: 107.9966 - mae: 107.9966 - mse: 69989.5156 - val_loss: 634.1394 - val_mae: 634.1394 - val_mse: 1307451.7500\n",
      "Epoch 97/100\n",
      "18/18 [==============================] - 0s 11ms/step - loss: 109.8594 - mae: 109.8594 - mse: 72318.7734 - val_loss: 596.3799 - val_mae: 596.3799 - val_mse: 1225047.7500\n",
      "Epoch 98/100\n",
      "18/18 [==============================] - 0s 11ms/step - loss: 107.5677 - mae: 107.5677 - mse: 70698.3125 - val_loss: 578.4410 - val_mae: 578.4410 - val_mse: 1190184.8750\n",
      "Epoch 99/100\n",
      "11/18 [=================>............] - ETA: 0s - loss: 103.5700 - mae: 103.5700 - mse: 60682.2383 INFO:tensorflow:Assets written to: model_experiments\\model_1_dense\\assets\n",
      "18/18 [==============================] - 2s 94ms/step - loss: 108.1540 - mae: 108.1540 - mse: 70842.9375 - val_loss: 567.5463 - val_mae: 567.5463 - val_mse: 1166602.0000\n",
      "Epoch 100/100\n",
      "18/18 [==============================] - 0s 10ms/step - loss: 117.9537 - mae: 117.9537 - mse: 73812.3359 - val_loss: 688.4411 - val_mae: 688.4411 - val_mse: 1439873.7500\n"
     ]
    }
   ],
   "source": [
    "# Loading libraries\n",
    "import tensorflow as tf\n",
    "from tensorflow.keras import layers\n",
    "\n",
    "# Setting random seed\n",
    "tf.random.set_seed(42)\n",
    "\n",
    "# Constructing a model\n",
    "model_1 = tf.keras.Sequential([\n",
    "    layers.Dense(128, activation=\"relu\"),\n",
    "    layers.Dense(HORIZON, activation=\"linear\")\n",
    "], name=\"model_1_dense\")\n",
    "\n",
    "# Compiling the model\n",
    "model_1.compile(\n",
    "    loss=\"mae\",\n",
    "    optimizer=tf.keras.optimizers.Adam(),\n",
    "    metrics=[\"mae\", \"mse\"]\n",
    ")\n",
    "\n",
    "# Fitting the model\n",
    "history_1 = model_1.fit(\n",
    "    x=train_windows,\n",
    "    y=train_labels,\n",
    "    epochs=100,\n",
    "    verbose=1,\n",
    "    batch_size=128,\n",
    "    validation_data=(test_windows, test_labels),\n",
    "    callbacks=[create_model_checkpoint(model_name=model_1.name)]\n",
    ")"
   ]
  },
  {
   "cell_type": "code",
   "execution_count": 38,
   "metadata": {},
   "outputs": [
    {
     "name": "stdout",
     "output_type": "stream",
     "text": [
      "18/18 [==============================] - 0s 4ms/step - loss: 688.4412 - mae: 688.4412 - mse: 1439873.6250\n"
     ]
    },
    {
     "data": {
      "text/plain": [
       "[688.441162109375, 688.441162109375, 1439873.625]"
      ]
     },
     "execution_count": 38,
     "metadata": {},
     "output_type": "execute_result"
    }
   ],
   "source": [
    "# Evaluating the model on test data\n",
    "model_1.evaluate(test_windows, test_labels)"
   ]
  },
  {
   "cell_type": "code",
   "execution_count": 39,
   "metadata": {},
   "outputs": [
    {
     "name": "stdout",
     "output_type": "stream",
     "text": [
      "18/18 [==============================] - 0s 4ms/step - loss: 567.5463 - mae: 567.5463 - mse: 1166601.8750\n"
     ]
    },
    {
     "data": {
      "text/plain": [
       "[567.5462646484375, 567.5462646484375, 1166601.875]"
      ]
     },
     "execution_count": 39,
     "metadata": {},
     "output_type": "execute_result"
    }
   ],
   "source": [
    "# Loading the best performing model_1 run and evaluating on test data\n",
    "model_1_best = tf.keras.models.load_model(\"model_experiments/model_1_dense/\")\n",
    "model_1_best.evaluate(test_windows, test_labels)"
   ]
  },
  {
   "cell_type": "code",
   "execution_count": 40,
   "metadata": {},
   "outputs": [],
   "source": [
    "# Creating function to make predictions\n",
    "def make_preds(model, input_data):\n",
    "    forecast = model.predict(input_data)\n",
    "    return tf.squeeze(forecast) # 1D array of predictions"
   ]
  },
  {
   "cell_type": "code",
   "execution_count": 41,
   "metadata": {},
   "outputs": [
    {
     "name": "stdout",
     "output_type": "stream",
     "text": [
      "18/18 [==============================] - 0s 3ms/step\n"
     ]
    },
    {
     "data": {
      "text/plain": [
       "(556,\n",
       " <tf.Tensor: shape=(10,), dtype=float32, numpy=\n",
       " array([8671.934, 8586.085, 8856.737, 8647.604, 8547.379, 8549.002,\n",
       "        8511.563, 8374.979, 8266.794, 8364.219], dtype=float32)>)"
      ]
     },
     "execution_count": 41,
     "metadata": {},
     "output_type": "execute_result"
    }
   ],
   "source": [
    "# Making predictions with the model 1\n",
    "model_1_preds = make_preds(model_1, test_windows)\n",
    "len(model_1_preds), model_1_preds[:10]"
   ]
  },
  {
   "cell_type": "code",
   "execution_count": 42,
   "metadata": {},
   "outputs": [
    {
     "data": {
      "text/plain": [
       "{'mae': 688.44116,\n",
       " 'mse': 1439873.9,\n",
       " 'rmse': 1199.9474,\n",
       " 'mape': 3.191842,\n",
       " 'mase': 1.2094004}"
      ]
     },
     "execution_count": 42,
     "metadata": {},
     "output_type": "execute_result"
    }
   ],
   "source": [
    "# Evaluting model 1 predictions\n",
    "model_1_results = evaluate_preds(\n",
    "    y_true=tf.squeeze(test_labels),\n",
    "    y_pred=model_1_preds\n",
    ")\n",
    "model_1_results"
   ]
  },
  {
   "cell_type": "code",
   "execution_count": 43,
   "metadata": {},
   "outputs": [
    {
     "data": {
      "image/png": "[encoded data removed]",
      "text/plain": [
       "<Figure size 720x504 with 1 Axes>"
      ]
     },
     "metadata": {
      "needs_background": "light"
     },
     "output_type": "display_data"
    }
   ],
   "source": [
    "# Plotting model results\n",
    "offset = 300\n",
    "plt.figure(figsize=(10, 7))\n",
    "\n",
    "plot_time_series(\n",
    "    timestamps=X_test[-len(test_windows):],\n",
    "    values=test_labels[:, ],\n",
    "    start=offset,\n",
    "    label=\"Test Data\"\n",
    ")\n",
    "\n",
    "plot_time_series(\n",
    "    timestamps=X_test[-len(test_windows):],\n",
    "    values=model_1_preds,\n",
    "    start=offset,\n",
    "    label=\"Model 1 Preds\"\n",
    ")"
   ]
  },
  {
   "attachments": {},
   "cell_type": "markdown",
   "metadata": {},
   "source": [
    "### Model 2 - Dense model (window = 30, horizon = 1)"
   ]
  },
  {
   "cell_type": "code",
   "execution_count": 44,
   "metadata": {},
   "outputs": [],
   "source": [
    "# Hyperparameters\n",
    "HORIZON = 1\n",
    "WINDOW_SIZE = 30"
   ]
  },
  {
   "cell_type": "code",
   "execution_count": 45,
   "metadata": {},
   "outputs": [
    {
     "data": {
      "text/plain": [
       "(2757, 2757)"
      ]
     },
     "execution_count": 45,
     "metadata": {},
     "output_type": "execute_result"
    }
   ],
   "source": [
    "# Making windows data\n",
    "full_windows, full_labels = make_windows(\n",
    "    prices,\n",
    "    window_size=WINDOW_SIZE,\n",
    "    horizon=HORIZON\n",
    ")\n",
    "len(full_windows), len(full_labels)"
   ]
  },
  {
   "cell_type": "code",
   "execution_count": 46,
   "metadata": {},
   "outputs": [
    {
     "data": {
      "text/plain": [
       "(2205, 552, 2205, 552)"
      ]
     },
     "execution_count": 46,
     "metadata": {},
     "output_type": "execute_result"
    }
   ],
   "source": [
    "# Making train and test windows\n",
    "train_windows, test_windows, train_labels, test_labels = make_train_test_splits(\n",
    "    windows=full_windows,\n",
    "    labels=full_labels,\n",
    "    test_split=0.2\n",
    ")\n",
    "len(train_windows), len(test_windows), len(train_labels), len(test_labels)"
   ]
  },
  {
   "cell_type": "code",
   "execution_count": 47,
   "metadata": {},
   "outputs": [
    {
     "data": {
      "text/plain": [
       "array([[123.65499, 125.455  , 108.58483, 118.67466, 121.33866, 120.65533,\n",
       "        121.795  , 123.033  , 124.049  , 125.96116, 125.27966, 125.9275 ,\n",
       "        126.38333, 135.24199, 133.20333, 142.76333, 137.92333, 142.95166,\n",
       "        152.55183, 160.33883, 164.31499, 177.63333, 188.29716, 200.70166,\n",
       "        180.355  , 175.03166, 177.6965 , 187.15983, 192.75666, 197.4    ],\n",
       "       [125.455  , 108.58483, 118.67466, 121.33866, 120.65533, 121.795  ,\n",
       "        123.033  , 124.049  , 125.96116, 125.27966, 125.9275 , 126.38333,\n",
       "        135.24199, 133.20333, 142.76333, 137.92333, 142.95166, 152.55183,\n",
       "        160.33883, 164.31499, 177.63333, 188.29716, 200.70166, 180.355  ,\n",
       "        175.03166, 177.6965 , 187.15983, 192.75666, 197.4    , 196.02499],\n",
       "       [108.58483, 118.67466, 121.33866, 120.65533, 121.795  , 123.033  ,\n",
       "        124.049  , 125.96116, 125.27966, 125.9275 , 126.38333, 135.24199,\n",
       "        133.20333, 142.76333, 137.92333, 142.95166, 152.55183, 160.33883,\n",
       "        164.31499, 177.63333, 188.29716, 200.70166, 180.355  , 175.03166,\n",
       "        177.6965 , 187.15983, 192.75666, 197.4    , 196.02499, 198.04883]])"
      ]
     },
     "execution_count": 47,
     "metadata": {},
     "output_type": "execute_result"
    }
   ],
   "source": [
    "# Checking first 3 train windows\n",
    "train_windows[:3]"
   ]
  },
  {
   "cell_type": "code",
   "execution_count": 48,
   "metadata": {},
   "outputs": [
    {
     "name": "stdout",
     "output_type": "stream",
     "text": [
      "INFO:tensorflow:Assets written to: model_experiments\\model_2_dense\\assets\n",
      "INFO:tensorflow:Assets written to: model_experiments\\model_2_dense\\assets\n",
      "INFO:tensorflow:Assets written to: model_experiments\\model_2_dense\\assets\n",
      "INFO:tensorflow:Assets written to: model_experiments\\model_2_dense\\assets\n",
      "INFO:tensorflow:Assets written to: model_experiments\\model_2_dense\\assets\n",
      "INFO:tensorflow:Assets written to: model_experiments\\model_2_dense\\assets\n",
      "INFO:tensorflow:Assets written to: model_experiments\\model_2_dense\\assets\n",
      "INFO:tensorflow:Assets written to: model_experiments\\model_2_dense\\assets\n",
      "INFO:tensorflow:Assets written to: model_experiments\\model_2_dense\\assets\n",
      "INFO:tensorflow:Assets written to: model_experiments\\model_2_dense\\assets\n",
      "INFO:tensorflow:Assets written to: model_experiments\\model_2_dense\\assets\n",
      "INFO:tensorflow:Assets written to: model_experiments\\model_2_dense\\assets\n",
      "INFO:tensorflow:Assets written to: model_experiments\\model_2_dense\\assets\n",
      "INFO:tensorflow:Assets written to: model_experiments\\model_2_dense\\assets\n",
      "INFO:tensorflow:Assets written to: model_experiments\\model_2_dense\\assets\n",
      "INFO:tensorflow:Assets written to: model_experiments\\model_2_dense\\assets\n",
      "INFO:tensorflow:Assets written to: model_experiments\\model_2_dense\\assets\n",
      "INFO:tensorflow:Assets written to: model_experiments\\model_2_dense\\assets\n",
      "INFO:tensorflow:Assets written to: model_experiments\\model_2_dense\\assets\n",
      "INFO:tensorflow:Assets written to: model_experiments\\model_2_dense\\assets\n",
      "INFO:tensorflow:Assets written to: model_experiments\\model_2_dense\\assets\n",
      "INFO:tensorflow:Assets written to: model_experiments\\model_2_dense\\assets\n",
      "INFO:tensorflow:Assets written to: model_experiments\\model_2_dense\\assets\n",
      "INFO:tensorflow:Assets written to: model_experiments\\model_2_dense\\assets\n",
      "INFO:tensorflow:Assets written to: model_experiments\\model_2_dense\\assets\n",
      "INFO:tensorflow:Assets written to: model_experiments\\model_2_dense\\assets\n",
      "INFO:tensorflow:Assets written to: model_experiments\\model_2_dense\\assets\n",
      "INFO:tensorflow:Assets written to: model_experiments\\model_2_dense\\assets\n"
     ]
    }
   ],
   "source": [
    "# Creating a model\n",
    "model_2 = tf.keras.Sequential([\n",
    "    layers.Dense(128, activation=\"relu\"),\n",
    "    layers.Dense(HORIZON)\n",
    "], name=\"model_2_dense\")\n",
    "\n",
    "# Compiling the model\n",
    "model_2.compile(\n",
    "    loss=\"mae\",\n",
    "    optimizer=tf.keras.optimizers.Adam(),\n",
    "    metrics=[\"mae\"]\n",
    ")\n",
    "\n",
    "# Fitting the model\n",
    "history_2 = model_2.fit(\n",
    "    train_windows,\n",
    "    train_labels,\n",
    "    epochs=100,\n",
    "    batch_size=128,\n",
    "    verbose=0,\n",
    "    validation_data=(test_windows, test_labels),\n",
    "    callbacks=[create_model_checkpoint(model_name=model_2.name)]\n",
    ")"
   ]
  },
  {
   "cell_type": "code",
   "execution_count": 49,
   "metadata": {},
   "outputs": [
    {
     "name": "stdout",
     "output_type": "stream",
     "text": [
      "18/18 [==============================] - 0s 4ms/step - loss: 784.2819 - mae: 784.2819\n"
     ]
    },
    {
     "data": {
      "text/plain": [
       "[784.2819213867188, 784.2819213867188]"
      ]
     },
     "execution_count": 49,
     "metadata": {},
     "output_type": "execute_result"
    }
   ],
   "source": [
    "# Evaluating model 2\n",
    "model_2.evaluate(test_windows, test_labels)"
   ]
  },
  {
   "cell_type": "code",
   "execution_count": 50,
   "metadata": {},
   "outputs": [
    {
     "name": "stdout",
     "output_type": "stream",
     "text": [
      "18/18 [==============================] - 1s 5ms/step - loss: 598.8914 - mae: 598.8914\n"
     ]
    },
    {
     "data": {
      "text/plain": [
       "[598.8914184570312, 598.8914184570312]"
      ]
     },
     "execution_count": 50,
     "metadata": {},
     "output_type": "execute_result"
    }
   ],
   "source": [
    "# Loading the best model 2\n",
    "model_2_best = tf.keras.models.load_model(\"model_experiments/model_2_dense/\")\n",
    "model_2_best.evaluate(test_windows, test_labels)"
   ]
  },
  {
   "cell_type": "code",
   "execution_count": 51,
   "metadata": {},
   "outputs": [
    {
     "name": "stdout",
     "output_type": "stream",
     "text": [
      "18/18 [==============================] - 0s 4ms/step\n"
     ]
    }
   ],
   "source": [
    "# getting model 2 predictions\n",
    "model_2_preds = make_preds(\n",
    "    model_2,\n",
    "    input_data=test_windows\n",
    ")"
   ]
  },
  {
   "cell_type": "code",
   "execution_count": 52,
   "metadata": {},
   "outputs": [
    {
     "data": {
      "text/plain": [
       "{'mae': 784.2817,\n",
       " 'mse': 1812401.1,\n",
       " 'rmse': 1346.2545,\n",
       " 'mape': 3.7734795,\n",
       " 'mase': 1.3709321}"
      ]
     },
     "execution_count": 52,
     "metadata": {},
     "output_type": "execute_result"
    }
   ],
   "source": [
    "# Evaluating results\n",
    "model_2_results = evaluate_preds(\n",
    "    y_true=tf.squeeze(test_labels),\n",
    "    y_pred=model_2_preds\n",
    ")\n",
    "model_2_results"
   ]
  },
  {
   "cell_type": "code",
   "execution_count": 53,
   "metadata": {},
   "outputs": [
    {
     "data": {
      "image/png": "[encoded data removed]",
      "text/plain": [
       "<Figure size 720x504 with 1 Axes>"
      ]
     },
     "metadata": {
      "needs_background": "light"
     },
     "output_type": "display_data"
    }
   ],
   "source": [
    "# Visualising model 2 results\n",
    "offset = 300\n",
    "plt.figure(figsize=(10, 7))\n",
    "\n",
    "plot_time_series(\n",
    "    timestamps=X_test[-len(test_windows):],\n",
    "    values=test_labels[:, 0],\n",
    "    start=offset,\n",
    "    label=\"Test Data\"\n",
    ")\n",
    "\n",
    "plot_time_series(\n",
    "    timestamps=X_test[-len(test_windows):],\n",
    "    values=model_2_preds,\n",
    "    start=offset,\n",
    "    label=\"Model 2 Preds\"\n",
    ")"
   ]
  },
  {
   "attachments": {},
   "cell_type": "markdown",
   "metadata": {},
   "source": [
    "### Model 3 - Dense model (window = 30, horizon = 7)"
   ]
  },
  {
   "cell_type": "code",
   "execution_count": 54,
   "metadata": {},
   "outputs": [],
   "source": [
    "# Hyperparameters\n",
    "HORIZON = 7\n",
    "WINDOW_SIZE = 30"
   ]
  },
  {
   "cell_type": "code",
   "execution_count": 55,
   "metadata": {},
   "outputs": [
    {
     "data": {
      "text/plain": [
       "(2751, 2751)"
      ]
     },
     "execution_count": 55,
     "metadata": {},
     "output_type": "execute_result"
    }
   ],
   "source": [
    "# Making windows data\n",
    "full_windows, full_labels = make_windows(\n",
    "    prices,\n",
    "    window_size=WINDOW_SIZE,\n",
    "    horizon=HORIZON\n",
    ")\n",
    "len(full_windows), len(full_labels)"
   ]
  },
  {
   "cell_type": "code",
   "execution_count": 56,
   "metadata": {},
   "outputs": [
    {
     "data": {
      "text/plain": [
       "(2200, 551, 2200, 551)"
      ]
     },
     "execution_count": 56,
     "metadata": {},
     "output_type": "execute_result"
    }
   ],
   "source": [
    "# Making train and test windows\n",
    "train_windows, test_windows, train_labels, test_labels = make_train_test_splits(\n",
    "    windows=full_windows,\n",
    "    labels=full_labels,\n",
    "    test_split=0.2\n",
    ")\n",
    "len(train_windows), len(test_windows), len(train_labels), len(test_labels)"
   ]
  },
  {
   "cell_type": "code",
   "execution_count": 57,
   "metadata": {},
   "outputs": [
    {
     "name": "stdout",
     "output_type": "stream",
     "text": [
      "INFO:tensorflow:Assets written to: model_experiments\\model_3_dense\\assets\n",
      "INFO:tensorflow:Assets written to: model_experiments\\model_3_dense\\assets\n",
      "INFO:tensorflow:Assets written to: model_experiments\\model_3_dense\\assets\n",
      "INFO:tensorflow:Assets written to: model_experiments\\model_3_dense\\assets\n",
      "INFO:tensorflow:Assets written to: model_experiments\\model_3_dense\\assets\n",
      "INFO:tensorflow:Assets written to: model_experiments\\model_3_dense\\assets\n",
      "INFO:tensorflow:Assets written to: model_experiments\\model_3_dense\\assets\n",
      "INFO:tensorflow:Assets written to: model_experiments\\model_3_dense\\assets\n",
      "INFO:tensorflow:Assets written to: model_experiments\\model_3_dense\\assets\n",
      "INFO:tensorflow:Assets written to: model_experiments\\model_3_dense\\assets\n",
      "INFO:tensorflow:Assets written to: model_experiments\\model_3_dense\\assets\n",
      "INFO:tensorflow:Assets written to: model_experiments\\model_3_dense\\assets\n",
      "INFO:tensorflow:Assets written to: model_experiments\\model_3_dense\\assets\n",
      "INFO:tensorflow:Assets written to: model_experiments\\model_3_dense\\assets\n",
      "INFO:tensorflow:Assets written to: model_experiments\\model_3_dense\\assets\n",
      "INFO:tensorflow:Assets written to: model_experiments\\model_3_dense\\assets\n",
      "INFO:tensorflow:Assets written to: model_experiments\\model_3_dense\\assets\n",
      "INFO:tensorflow:Assets written to: model_experiments\\model_3_dense\\assets\n",
      "INFO:tensorflow:Assets written to: model_experiments\\model_3_dense\\assets\n",
      "INFO:tensorflow:Assets written to: model_experiments\\model_3_dense\\assets\n",
      "INFO:tensorflow:Assets written to: model_experiments\\model_3_dense\\assets\n",
      "INFO:tensorflow:Assets written to: model_experiments\\model_3_dense\\assets\n",
      "INFO:tensorflow:Assets written to: model_experiments\\model_3_dense\\assets\n",
      "INFO:tensorflow:Assets written to: model_experiments\\model_3_dense\\assets\n",
      "INFO:tensorflow:Assets written to: model_experiments\\model_3_dense\\assets\n",
      "INFO:tensorflow:Assets written to: model_experiments\\model_3_dense\\assets\n",
      "INFO:tensorflow:Assets written to: model_experiments\\model_3_dense\\assets\n",
      "INFO:tensorflow:Assets written to: model_experiments\\model_3_dense\\assets\n",
      "INFO:tensorflow:Assets written to: model_experiments\\model_3_dense\\assets\n"
     ]
    }
   ],
   "source": [
    "# Creating a model\n",
    "model_3 = tf.keras.Sequential([\n",
    "    layers.Dense(128, activation=\"relu\"),\n",
    "    layers.Dense(HORIZON)\n",
    "], name=\"model_3_dense\")\n",
    "\n",
    "# Compiling the model\n",
    "model_3.compile(\n",
    "    loss=\"mae\",\n",
    "    optimizer=tf.keras.optimizers.Adam(),\n",
    "    metrics=[\"mae\"]\n",
    ")\n",
    "\n",
    "# Fitting the model\n",
    "history_3 = model_3.fit(\n",
    "    train_windows,\n",
    "    train_labels,\n",
    "    epochs=100,\n",
    "    batch_size=128,\n",
    "    verbose=0,\n",
    "    validation_data=(test_windows, test_labels),\n",
    "    callbacks=[create_model_checkpoint(model_name=model_3.name)]\n",
    ")"
   ]
  },
  {
   "cell_type": "code",
   "execution_count": 58,
   "metadata": {},
   "outputs": [
    {
     "name": "stdout",
     "output_type": "stream",
     "text": [
      "18/18 [==============================] - 0s 5ms/step - loss: 1384.6562 - mae: 1384.6562\n"
     ]
    },
    {
     "data": {
      "text/plain": [
       "[1384.65625, 1384.65625]"
      ]
     },
     "execution_count": 58,
     "metadata": {},
     "output_type": "execute_result"
    }
   ],
   "source": [
    "# Evaluating model 3\n",
    "model_3.evaluate(test_windows, test_labels)"
   ]
  },
  {
   "cell_type": "code",
   "execution_count": 59,
   "metadata": {},
   "outputs": [
    {
     "name": "stdout",
     "output_type": "stream",
     "text": [
      "18/18 [==============================] - 0s 4ms/step\n"
     ]
    },
    {
     "data": {
      "text/plain": [
       "<tf.Tensor: shape=(3, 7), dtype=float32, numpy=\n",
       "array([[9135.213 , 9275.13  , 9164.792 , 9187.782 , 9059.964 , 9088.129 ,\n",
       "        9169.896 ],\n",
       "       [8861.149 , 9084.112 , 8815.979 , 8945.273 , 8784.909 , 8803.223 ,\n",
       "        8957.3955],\n",
       "       [8679.332 , 8954.706 , 8856.328 , 8890.657 , 8646.648 , 8641.01  ,\n",
       "        8946.8955]], dtype=float32)>"
      ]
     },
     "execution_count": 59,
     "metadata": {},
     "output_type": "execute_result"
    }
   ],
   "source": [
    "# Making predictions with model 3\n",
    "model_3_preds = make_preds(\n",
    "    model_3,\n",
    "    input_data=test_windows\n",
    ")\n",
    "model_3_preds[:3]"
   ]
  },
  {
   "cell_type": "code",
   "execution_count": 60,
   "metadata": {},
   "outputs": [
    {
     "data": {
      "text/plain": [
       "{'mae': array([ 361.2002  ,  141.89299 ,  215.70312 ,  271.39957 ,  277.07156 ,\n",
       "         281.95877 ,  312.0847  ,  297.3296  ,  300.16504 ,  426.57233 ,\n",
       "         547.659   ,  602.67883 ,  640.4925  ,  705.519   ,  440.72336 ,\n",
       "         253.92836 ,  273.78033 ,  491.44635 ,  529.70294 ,  537.99225 ,\n",
       "         270.3372  ,  154.62486 ,  138.1451  ,  161.63797 ,  147.34193 ,\n",
       "         187.22998 ,  276.5844  ,  321.8609  ,  267.86545 ,  135.39551 ,\n",
       "         127.33175 ,   83.5203  ,  137.4407  ,  138.9119  ,  190.29799 ,\n",
       "         215.46672 ,  208.54256 ,  268.1001  ,  254.50084 ,  427.12094 ,\n",
       "         705.5205  ,  319.45502 ,  272.7896  ,  290.34653 ,  125.14042 ,\n",
       "         137.82938 ,  214.36203 ,  202.04611 ,  146.97984 ,  231.40506 ,\n",
       "         221.4924  ,  251.32275 ,  163.51039 ,  281.15317 ,  398.36664 ,\n",
       "         516.9759  ,  787.78326 ,  761.2424  ,  833.1632  ,  804.15186 ,\n",
       "         609.4985  ,  415.35547 ,  424.21484 ,  584.49567 ,  602.3793  ,\n",
       "         713.7104  ,  675.3514  ,  780.826   ,  343.0438  ,  118.14244 ,\n",
       "         166.98465 ,  250.51102 ,  344.74414 ,  225.91824 ,  164.37877 ,\n",
       "         278.03223 ,  320.88492 ,  483.3093  ,  665.4118  ,  867.4572  ,\n",
       "         982.93945 ,  878.7832  ,  560.99835 ,  332.07437 ,  166.98256 ,\n",
       "         245.2924  ,  310.13406 ,  404.51465 ,  580.4542  ,  857.41016 ,\n",
       "         723.54913 ,  687.9361  ,  675.0636  ,  412.28207 ,  231.41615 ,\n",
       "         355.78726 ,  179.7073  ,  359.08804 ,  408.69656 ,  508.00308 ,\n",
       "         309.37262 ,  164.55998 ,  238.79646 ,  175.62598 ,  239.3072  ,\n",
       "         359.75055 ,  428.17383 ,  556.9428  ,  708.94446 ,  705.45856 ,\n",
       "         667.42523 ,  142.33733 ,  226.0992  ,  370.1854  ,  476.38727 ,\n",
       "         506.18423 ,  417.1951  ,  446.0309  ,  486.93137 ,  974.9538  ,\n",
       "        1406.1749  , 1929.2891  , 1814.1697  , 1869.4427  , 2047.0452  ,\n",
       "        2219.7366  ,  946.8004  ,  547.9033  ,  544.04407 ,  663.4635  ,\n",
       "         940.4223  ,  768.28925 ,  715.84656 ,  468.4476  ,  312.79367 ,\n",
       "         282.35944 ,  331.9476  ,  270.03787 ,  210.09221 ,  183.89355 ,\n",
       "         295.1167  ,  314.5512  ,  708.4185  , 1027.7898  , 1043.2726  ,\n",
       "        1031.807   ,  901.3437  ,  544.8071  ,  448.98584 ,  269.85422 ,\n",
       "         329.45865 ,  229.07645 ,  231.2553  ,  364.72916 ,  302.7839  ,\n",
       "         165.27623 ,  174.5593  ,  275.11264 ,  314.09842 ,  331.38992 ,\n",
       "         375.8681  ,  346.41644 ,  331.31857 ,  265.95117 ,  299.581   ,\n",
       "         471.68472 ,  689.9082  ,  939.4997  ,  825.2982  ,  837.0837  ,\n",
       "         944.5816  , 1069.2894  , 1115.9     , 1313.3899  ,  752.1408  ,\n",
       "         497.13937 ,  471.25836 ,  441.30258 ,  459.68805 ,  470.8934  ,\n",
       "         516.2676  ,  464.84808 ,  495.41812 ,  714.5013  ,  622.7655  ,\n",
       "         329.7359  ,  569.14996 ,  885.3136  ,  706.6964  ,  255.95117 ,\n",
       "         275.30524 ,  314.24707 ,  233.29353 ,  296.95312 ,  342.0572  ,\n",
       "         362.98618 ,  189.43164 ,  303.3973  ,  412.89398 ,  381.50656 ,\n",
       "         721.7521  ,  920.62946 ,  921.33105 ,  746.69    ,  609.4782  ,\n",
       "         339.8305  ,  300.18414 ,  231.58496 ,  168.92592 ,  281.34067 ,\n",
       "         256.4121  ,  299.64215 ,  302.06293 ,  190.34627 ,  245.15332 ,\n",
       "         147.95801 ,  233.2793  ,  160.73465 ,  150.14494 ,  125.12598 ,\n",
       "         215.81139 ,  193.97935 ,  213.28683 ,  189.65164 ,  306.68066 ,\n",
       "         253.86467 ,  280.2186  ,  262.31235 ,  140.38184 ,  251.06711 ,\n",
       "          85.5526  ,  122.74596 ,  112.81641 ,  339.1928  ,  339.2641  ,\n",
       "         263.3065  ,  282.08453 ,  248.27693 ,  304.94977 ,  334.81277 ,\n",
       "         317.9149  ,  415.09668 ,  322.73047 ,  290.44    ,  104.228516,\n",
       "         172.98619 ,  164.24986 ,  182.55385 ,  204.12961 ,  237.47908 ,\n",
       "         227.73912 ,  258.80942 ,  411.23618 ,  408.08942 ,  521.4361  ,\n",
       "         608.196   ,  927.80023 , 1007.20245 , 1106.1776  , 1194.3778  ,\n",
       "        1389.9099  , 1608.6139  , 1579.1621  ,  827.0269  ,  586.9118  ,\n",
       "         311.6225  ,  343.1857  ,  342.97    ,  285.80804 ,  320.45047 ,\n",
       "         330.82437 ,  462.2437  ,  204.19601 ,  175.97029 ,  150.49498 ,\n",
       "         137.96986 ,  220.87068 ,  247.21555 ,  481.66574 ,  456.26535 ,\n",
       "         471.1232  ,  398.40582 ,  321.99918 ,  227.78166 ,  218.20703 ,\n",
       "         182.35268 ,  142.61287 ,  192.6451  ,   98.43722 ,  190.51492 ,\n",
       "         175.01228 ,  149.74748 ,  344.8718  ,  388.30246 ,  607.7645  ,\n",
       "         514.2284  ,  597.85004 ,  722.847   ,  898.39984 , 1109.4552  ,\n",
       "        1064.5769  ,  520.65656 ,  273.8743  ,  360.42313 ,  519.0894  ,\n",
       "         450.05875 ,  609.4349  ,  659.8447  ,  638.55304 ,  582.9954  ,\n",
       "         658.42426 ,  705.5049  ,  500.89355 ,  306.6868  ,  247.39844 ,\n",
       "         201.58928 ,  198.21219 ,  187.85408 ,  248.88268 ,  432.67188 ,\n",
       "         502.90402 ,  694.6149  ,  562.6656  ,  303.90094 ,  183.38937 ,\n",
       "         160.37053 ,  139.19894 ,  136.19057 ,  153.47266 ,  200.73131 ,\n",
       "         333.1568  ,  516.4911  ,  611.566   ,  675.90497 ,  891.3965  ,\n",
       "         982.8171  ,  917.0572  ,  793.2665  ,  464.34723 ,  334.8379  ,\n",
       "         122.62193 ,  257.16324 ,  536.1783  ,  771.2196  , 1074.2516  ,\n",
       "        1395.2258  , 1586.2201  , 1467.2118  , 1552.1404  ,  718.31    ,\n",
       "         354.1494  ,  347.2902  ,  361.1561  ,  474.47867 ,  619.5444  ,\n",
       "         278.80176 ,  364.07477 ,  689.8492  ,  842.95636 ,  855.7333  ,\n",
       "        1105.7712  , 1330.1766  , 1388.5048  , 1509.1018  ,  781.88    ,\n",
       "         453.9272  ,  673.21124 ,  526.75696 ,  728.93945 , 1292.4082  ,\n",
       "        1258.4359  , 1060.8918  , 1186.0361  , 1687.0956  , 1996.7963  ,\n",
       "        1865.1012  , 1435.372   , 1081.01    ,  815.93445 ,  681.8239  ,\n",
       "         617.84406 ,  722.8256  ,  786.39984 ,  933.149   ,  933.2182  ,\n",
       "        1125.1967  , 1630.4651  , 1710.7628  , 1781.5072  ,  759.34625 ,\n",
       "         358.23047 ,  330.98492 ,  321.35742 ,  308.72824 ,  333.5879  ,\n",
       "         333.46597 ,  432.69363 ,  527.20087 ,  974.0279  , 1946.6022  ,\n",
       "        2933.6294  , 3184.3757  , 3418.82    , 3706.4058  , 4050.5376  ,\n",
       "        2873.3113  , 1517.4838  ,  936.7369  ,  717.98663 , 1183.163   ,\n",
       "        1688.8893  , 2291.6968  , 3090.506   , 3620.7278  , 3512.545   ,\n",
       "        3021.2502  , 3267.368   , 3248.09    , 3907.722   , 3827.1375  ,\n",
       "        4659.2856  , 5809.2744  , 5069.4497  , 4893.9946  , 5537.136   ,\n",
       "        4154.124   , 2939.2886  , 2012.8522  , 2953.591   , 4259.5015  ,\n",
       "        4118.8794  , 1146.0006  , 1927.0983  ,  813.5229  , 1793.947   ,\n",
       "        1453.2194  , 2105.5017  , 2465.9548  , 2580.403   , 2676.801   ,\n",
       "        2933.3926  ,  974.85187 , 1505.62    , 2423.2625  , 2761.6985  ,\n",
       "        2172.7483  , 3057.7893  , 4729.953   , 4405.2173  , 3351.2578  ,\n",
       "        3263.877   , 3584.2974  , 4971.5264  , 5707.219   , 6367.508   ,\n",
       "        7229.9272  , 8142.516   , 7136.169   , 8912.082   , 6059.411   ,\n",
       "        2634.3142  , 2890.139   , 2142.631   , 2508.0044  , 3531.5754  ,\n",
       "        4185.98    , 4387.686   , 4224.777   , 3323.359   , 3732.25    ,\n",
       "        4820.6265  , 6296.2188  , 8591.464   , 8204.375   , 3785.4128  ,\n",
       "        2157.8694  , 1813.2455  , 3302.727   , 3960.0854  , 5068.4404  ,\n",
       "        4631.1987  , 4809.7954  , 3963.1467  , 5212.238   , 6073.163   ,\n",
       "        7922.7373  , 8461.705   , 7678.9717  , 6095.261   , 3951.8315  ,\n",
       "        3044.8416  , 2680.3298  , 1794.0363  , 1832.4872  , 1502.592   ,\n",
       "        1442.2266  , 1780.2678  , 2947.3164  , 3165.7048  , 3408.937   ,\n",
       "        3782.3958  , 1518.4258  , 1971.7969  , 3309.9648  , 5815.8584  ,\n",
       "        5717.3315  , 4438.0024  , 4328.1924  , 3416.2153  , 1899.3281  ,\n",
       "        1407.5134  ,  927.8393  ,  613.86554 , 1374.515   , 1830.7205  ,\n",
       "        1564.9648  , 2785.4019  , 4469.3057  , 4920.4644  , 5803.1157  ,\n",
       "        4863.802   , 3560.9097  , 3218.7349  , 2928.612   , 4410.3774  ,\n",
       "        5700.535   , 6458.7886  , 6847.1006  , 4396.62    , 3039.8845  ,\n",
       "        2854.4934  , 2156.3772  , 2258.0535  , 3901.558   , 4732.5938  ,\n",
       "        7755.242   , 5450.591   , 2575.6697  , 2208.2708  , 3103.7317  ,\n",
       "        1673.472   , 1455.3583  , 2262.1458  , 1524.5413  , 3552.4106  ,\n",
       "        2920.891   , 3279.8833  , 3274.237   , 3895.7322  , 5793.9985  ,\n",
       "        6514.544   ], dtype=float32),\n",
       " 'mse': array([1.49255547e+05, 4.00229102e+04, 7.10844766e+04, 9.49164609e+04,\n",
       "        1.05915789e+05, 1.07351766e+05, 1.58372219e+05, 1.32397594e+05,\n",
       "        1.98050859e+05, 3.12860062e+05, 4.60079938e+05, 4.41422562e+05,\n",
       "        4.79049938e+05, 5.25720312e+05, 2.36763141e+05, 8.19756953e+04,\n",
       "        1.43046797e+05, 3.02527719e+05, 3.13820406e+05, 3.13629656e+05,\n",
       "        1.01093297e+05, 5.48612852e+04, 2.58366973e+04, 3.94578477e+04,\n",
       "        3.16514531e+04, 5.56766172e+04, 8.96116016e+04, 1.19091828e+05,\n",
       "        8.34213281e+04, 3.53361523e+04, 2.64950801e+04, 1.04236885e+04,\n",
       "        2.87495801e+04, 4.59531172e+04, 4.66574336e+04, 7.42503203e+04,\n",
       "        7.42837188e+04, 1.00777039e+05, 8.98861328e+04, 1.98467781e+05,\n",
       "        5.17572750e+05, 1.07228234e+05, 7.92677969e+04, 8.91453750e+04,\n",
       "        2.06453086e+04, 2.43723066e+04, 6.10340898e+04, 5.02907617e+04,\n",
       "        2.79319102e+04, 5.95030352e+04, 6.18937539e+04, 7.74171250e+04,\n",
       "        3.17919727e+04, 1.03324453e+05, 2.52021516e+05, 4.17790812e+05,\n",
       "        7.48025375e+05, 6.68851312e+05, 7.36929438e+05, 6.66047062e+05,\n",
       "        3.98924531e+05, 2.36224031e+05, 3.03946188e+05, 4.61648219e+05,\n",
       "        4.92020938e+05, 6.20154000e+05, 5.21103812e+05, 6.32406000e+05,\n",
       "        1.37540953e+05, 1.93286250e+04, 4.44134102e+04, 7.47990547e+04,\n",
       "        1.39806484e+05, 6.12009453e+04, 3.38966289e+04, 9.13966875e+04,\n",
       "        1.47435641e+05, 3.93620906e+05, 6.24058000e+05, 8.54658562e+05,\n",
       "        1.01807131e+06, 7.82757938e+05, 3.34170906e+05, 1.32708781e+05,\n",
       "        4.36797930e+04, 8.43731953e+04, 1.32322734e+05, 2.22299609e+05,\n",
       "        4.42339938e+05, 7.91103312e+05, 5.83460625e+05, 5.27246438e+05,\n",
       "        5.11593688e+05, 2.34888781e+05, 7.04894297e+04, 1.46339297e+05,\n",
       "        4.85799805e+04, 1.92558297e+05, 2.05860672e+05, 3.07267594e+05,\n",
       "        1.21725188e+05, 3.54267852e+04, 1.07294305e+05, 5.58667305e+04,\n",
       "        1.35956094e+05, 1.91554797e+05, 2.70862344e+05, 3.61711156e+05,\n",
       "        6.39650125e+05, 5.61023062e+05, 4.74124969e+05, 2.94601113e+04,\n",
       "        5.68972695e+04, 1.90700078e+05, 2.71231406e+05, 3.05375344e+05,\n",
       "        2.00546516e+05, 2.14103797e+05, 2.69298281e+05, 1.76393138e+06,\n",
       "        3.15695200e+06, 5.07991700e+06, 4.61010800e+06, 4.77179550e+06,\n",
       "        4.76108850e+06, 5.00440250e+06, 1.08655225e+06, 3.32597062e+05,\n",
       "        4.83755719e+05, 7.15280312e+05, 1.00411531e+06, 7.20443062e+05,\n",
       "        6.80659562e+05, 2.72221188e+05, 1.35574531e+05, 8.77696250e+04,\n",
       "        1.45759422e+05, 9.58729141e+04, 1.00245141e+05, 5.10290703e+04,\n",
       "        1.44123844e+05, 1.46406969e+05, 5.67056875e+05, 1.16936775e+06,\n",
       "        1.18256175e+06, 1.15058538e+06, 8.80502062e+05, 3.36805281e+05,\n",
       "        2.09338047e+05, 1.34406016e+05, 1.51391422e+05, 5.89722422e+04,\n",
       "        7.17568672e+04, 1.58755750e+05, 1.11610375e+05, 5.00760859e+04,\n",
       "        5.76027305e+04, 1.19127875e+05, 1.38606547e+05, 1.51339531e+05,\n",
       "        1.65260719e+05, 1.77361422e+05, 1.48826516e+05, 8.88220391e+04,\n",
       "        1.00560477e+05, 3.03329844e+05, 5.19125156e+05, 1.04458588e+06,\n",
       "        9.57741688e+05, 1.01226369e+06, 1.21066200e+06, 1.39634400e+06,\n",
       "        1.42155862e+06, 1.74511088e+06, 5.87076938e+05, 3.64847938e+05,\n",
       "        4.04131562e+05, 3.53060094e+05, 3.57570562e+05, 3.22467844e+05,\n",
       "        4.12323156e+05, 2.64432875e+05, 4.07798000e+05, 7.50989125e+05,\n",
       "        5.05645344e+05, 1.45609844e+05, 4.15912500e+05, 8.33398062e+05,\n",
       "        5.45125438e+05, 8.35184453e+04, 8.50781406e+04, 1.26426945e+05,\n",
       "        6.21199727e+04, 1.22651883e+05, 1.55446406e+05, 1.41338469e+05,\n",
       "        4.14049922e+04, 1.25063109e+05, 2.14421391e+05, 2.63570688e+05,\n",
       "        6.89419438e+05, 9.91580312e+05, 9.54233125e+05, 6.82431875e+05,\n",
       "        4.10388219e+05, 1.97076375e+05, 1.60305844e+05, 6.57450547e+04,\n",
       "        3.57168633e+04, 9.29969609e+04, 8.32230000e+04, 1.13196352e+05,\n",
       "        1.26048562e+05, 5.28299258e+04, 9.53109141e+04, 3.60226797e+04,\n",
       "        6.87048672e+04, 3.43968711e+04, 2.61473555e+04, 2.33052148e+04,\n",
       "        6.06158320e+04, 5.83569102e+04, 5.78150312e+04, 5.22788438e+04,\n",
       "        1.28996836e+05, 9.83749609e+04, 1.15427203e+05, 1.26640805e+05,\n",
       "        2.60164961e+04, 8.79436641e+04, 1.48481855e+04, 2.06195488e+04,\n",
       "        1.81382051e+04, 1.19813195e+05, 1.22705188e+05, 8.09267969e+04,\n",
       "        9.77317109e+04, 7.91722969e+04, 1.27216016e+05, 1.26778805e+05,\n",
       "        1.23677000e+05, 1.80128969e+05, 1.17564547e+05, 1.09125797e+05,\n",
       "        1.39267480e+04, 3.71776484e+04, 2.94913164e+04, 3.60492891e+04,\n",
       "        4.75895117e+04, 6.50928320e+04, 6.22320820e+04, 8.96648828e+04,\n",
       "        2.07056094e+05, 2.17172344e+05, 3.16721406e+05, 4.17884938e+05,\n",
       "        1.17888662e+06, 1.43318200e+06, 1.73153162e+06, 1.92863888e+06,\n",
       "        2.29998925e+06, 2.86084125e+06, 2.58256925e+06, 7.67044312e+05,\n",
       "        3.96306094e+05, 1.29974789e+05, 1.55983391e+05, 1.68998219e+05,\n",
       "        9.48759453e+04, 1.42969438e+05, 1.33383188e+05, 2.67631250e+05,\n",
       "        6.80041562e+04, 4.01716992e+04, 3.29161953e+04, 4.76350820e+04,\n",
       "        5.91581562e+04, 9.27855703e+04, 3.02459094e+05, 2.70458125e+05,\n",
       "        2.62459656e+05, 1.98477156e+05, 1.66478875e+05, 1.14010828e+05,\n",
       "        5.15407148e+04, 7.63779844e+04, 2.67063750e+04, 5.96838438e+04,\n",
       "        1.64080020e+04, 5.60198516e+04, 5.13454922e+04, 3.80247930e+04,\n",
       "        1.68975641e+05, 2.21435031e+05, 4.03870188e+05, 3.05402156e+05,\n",
       "        4.15674188e+05, 6.72315625e+05, 9.97249875e+05, 1.47853538e+06,\n",
       "        1.21534800e+06, 3.24916750e+05, 1.10028445e+05, 1.60048359e+05,\n",
       "        3.17066562e+05, 2.31020000e+05, 4.21999656e+05, 5.07826344e+05,\n",
       "        5.07224188e+05, 4.34763719e+05, 4.92400562e+05, 5.23533219e+05,\n",
       "        2.84729531e+05, 1.30352672e+05, 7.06343203e+04, 5.36485703e+04,\n",
       "        5.62736992e+04, 4.34183359e+04, 7.82336406e+04, 2.34849766e+05,\n",
       "        2.98451625e+05, 5.07743938e+05, 3.26126344e+05, 9.97044766e+04,\n",
       "        5.53332266e+04, 3.77434648e+04, 2.44708105e+04, 3.07063945e+04,\n",
       "        3.09628340e+04, 6.56253359e+04, 1.37330078e+05, 3.38851531e+05,\n",
       "        4.80400938e+05, 6.10791438e+05, 9.22223812e+05, 1.04139650e+06,\n",
       "        8.79733125e+05, 6.37004000e+05, 2.41985656e+05, 1.52743625e+05,\n",
       "        2.36643066e+04, 1.03837414e+05, 6.11858062e+05, 1.18186888e+06,\n",
       "        1.75409600e+06, 2.45514850e+06, 2.80032225e+06, 2.26564250e+06,\n",
       "        2.46513325e+06, 6.06759188e+05, 1.95474484e+05, 1.70866141e+05,\n",
       "        1.78125297e+05, 3.18130719e+05, 4.62440156e+05, 1.06371109e+05,\n",
       "        1.69483219e+05, 8.02431438e+05, 1.31868975e+06, 1.36549375e+06,\n",
       "        1.76482725e+06, 2.18816650e+06, 2.10143650e+06, 2.38832325e+06,\n",
       "        7.52938875e+05, 3.12100844e+05, 5.87981375e+05, 3.89229219e+05,\n",
       "        7.21739438e+05, 2.02171238e+06, 2.10102175e+06, 1.61560938e+06,\n",
       "        2.22743775e+06, 3.66392050e+06, 4.42325500e+06, 3.72365075e+06,\n",
       "        2.18086625e+06, 1.24098775e+06, 7.11610375e+05, 7.13548812e+05,\n",
       "        6.99079625e+05, 8.92375875e+05, 8.98932312e+05, 1.43352088e+06,\n",
       "        1.06359462e+06, 1.72949138e+06, 3.04991075e+06, 3.07464875e+06,\n",
       "        3.22874725e+06, 6.19551125e+05, 1.69109578e+05, 1.96482922e+05,\n",
       "        1.89351469e+05, 1.35006531e+05, 1.47083781e+05, 1.37341359e+05,\n",
       "        2.20665750e+05, 4.17153438e+05, 1.79694000e+06, 6.25767300e+06,\n",
       "        1.17038730e+07, 1.39743630e+07, 1.50193140e+07, 1.54862470e+07,\n",
       "        1.68493640e+07, 8.31413150e+06, 2.44189400e+06, 1.14435562e+06,\n",
       "        1.19048975e+06, 2.41136725e+06, 5.02667250e+06, 7.47451900e+06,\n",
       "        1.19876190e+07, 1.51505010e+07, 1.41097190e+07, 1.23008570e+07,\n",
       "        1.51525110e+07, 1.43124370e+07, 1.87113920e+07, 1.99550980e+07,\n",
       "        3.13928340e+07, 4.43954600e+07, 3.61460560e+07, 3.02814300e+07,\n",
       "        3.61890000e+07, 2.42077160e+07, 1.09012460e+07, 5.75421050e+06,\n",
       "        1.32955890e+07, 2.08045600e+07, 1.84477760e+07, 1.95552138e+06,\n",
       "        4.09660000e+06, 1.14316275e+06, 7.19316800e+06, 5.76488300e+06,\n",
       "        7.93860350e+06, 8.52228000e+06, 9.24099300e+06, 8.67127800e+06,\n",
       "        9.75313600e+06, 1.23086800e+06, 3.39811675e+06, 8.14217250e+06,\n",
       "        8.84635800e+06, 6.78495550e+06, 1.11414560e+07, 2.49271540e+07,\n",
       "        2.21698580e+07, 1.38520540e+07, 1.46225670e+07, 1.64135290e+07,\n",
       "        3.23565600e+07, 4.82708080e+07, 5.48327120e+07, 6.73587600e+07,\n",
       "        7.72192560e+07, 6.01259080e+07, 8.24649520e+07, 3.82710280e+07,\n",
       "        8.37609600e+06, 1.11877300e+07, 7.77001150e+06, 1.23150290e+07,\n",
       "        1.98310500e+07, 2.58024900e+07, 2.47238780e+07, 2.21500480e+07,\n",
       "        1.32771200e+07, 1.46338260e+07, 3.14441640e+07, 5.08990920e+07,\n",
       "        8.22191200e+07, 6.97309840e+07, 1.63868540e+07, 7.93373700e+06,\n",
       "        5.16932300e+06, 1.42258000e+07, 1.87692460e+07, 2.64107740e+07,\n",
       "        2.38998500e+07, 2.70384200e+07, 2.38030920e+07, 3.83096240e+07,\n",
       "        4.83223000e+07, 7.49985760e+07, 8.04786560e+07, 6.25922280e+07,\n",
       "        4.04698680e+07, 1.78479740e+07, 1.19230480e+07, 8.68062600e+06,\n",
       "        4.10613775e+06, 3.73948525e+06, 3.80757575e+06, 3.06654350e+06,\n",
       "        6.79447100e+06, 1.10644710e+07, 1.29700650e+07, 1.57741280e+07,\n",
       "        1.64372140e+07, 3.56080800e+06, 5.94828450e+06, 1.54720250e+07,\n",
       "        3.70430440e+07, 3.45373800e+07, 2.08464920e+07, 1.93824300e+07,\n",
       "        1.20367390e+07, 3.95782875e+06, 2.52865200e+06, 1.21994462e+06,\n",
       "        5.20657594e+05, 2.64727850e+06, 3.68234225e+06, 3.57212875e+06,\n",
       "        1.24113690e+07, 2.52210060e+07, 3.00088040e+07, 3.75404000e+07,\n",
       "        2.58054220e+07, 1.43433490e+07, 1.22551810e+07, 1.15798410e+07,\n",
       "        2.54392360e+07, 4.36096280e+07, 5.14796240e+07, 5.24898480e+07,\n",
       "        2.58227740e+07, 1.19034750e+07, 1.34824750e+07, 6.16734700e+06,\n",
       "        7.50558100e+06, 1.93901580e+07, 2.91511940e+07, 6.33832720e+07,\n",
       "        3.24965660e+07, 9.44722400e+06, 6.67753350e+06, 1.17250420e+07,\n",
       "        3.14294575e+06, 3.66286975e+06, 5.98317600e+06, 3.79098800e+06,\n",
       "        1.36575820e+07, 9.16065500e+06, 1.28292810e+07, 1.30500370e+07,\n",
       "        2.40288340e+07, 4.70238720e+07, 5.25775560e+07], dtype=float32),\n",
       " 'rmse': array([ 386.33606 ,  200.05727 ,  266.61673 ,  308.08514 ,  325.44705 ,\n",
       "         327.64578 ,  397.96008 ,  363.8648  ,  445.02905 ,  559.3389  ,\n",
       "         678.29193 ,  664.39636 ,  692.13434 ,  725.06573 ,  486.58313 ,\n",
       "         286.314   ,  378.21527 ,  550.0252  ,  560.1968  ,  560.0265  ,\n",
       "         317.95172 ,  234.22485 ,  160.73798 ,  198.64    ,  177.90855 ,\n",
       "         235.95894 ,  299.35196 ,  345.09683 ,  288.8275  ,  187.97913 ,\n",
       "         162.77309 ,  102.096466,  169.557   ,  214.36678 ,  216.00331 ,\n",
       "         272.4891  ,  272.55038 ,  317.454   ,  299.81015 ,  445.49722 ,\n",
       "         719.4253  ,  327.4572  ,  281.54538 ,  298.57224 ,  143.68475 ,\n",
       "         156.11632 ,  247.05078 ,  224.25601 ,  167.12842 ,  243.93243 ,\n",
       "         248.78455 ,  278.23932 ,  178.30304 ,  321.44122 ,  502.01746 ,\n",
       "         646.3674  ,  864.8846  ,  817.8333  ,  858.4459  ,  816.11707 ,\n",
       "         631.60474 ,  486.02884 ,  551.3132  ,  679.447   ,  701.442   ,\n",
       "         787.4986  ,  721.8752  ,  795.23956 ,  370.86514 ,  139.02742 ,\n",
       "         210.74489 ,  273.49417 ,  373.90704 ,  247.38824 ,  184.11037 ,\n",
       "         302.31885 ,  383.97348 ,  627.39215 ,  789.9734  ,  924.4775  ,\n",
       "        1008.9952  ,  884.7361  ,  578.0752  ,  364.29218 ,  208.99712 ,\n",
       "         290.47064 ,  363.76193 ,  471.4866  ,  665.0864  ,  889.4399  ,\n",
       "         763.84595 ,  726.1174  ,  715.25775 ,  484.65326 ,  265.49844 ,\n",
       "         382.54318 ,  220.40866 ,  438.81464 ,  453.71872 ,  554.31726 ,\n",
       "         348.89136 ,  188.22005 ,  327.5581  ,  236.36143 ,  368.72226 ,\n",
       "         437.66974 ,  520.4444  ,  601.42426 ,  799.7813  ,  749.0147  ,\n",
       "         688.5673  ,  171.63948 ,  238.53148 ,  436.6922  ,  520.7988  ,\n",
       "         552.6078  ,  447.8242  ,  462.7135  ,  518.9396  , 1328.1307  ,\n",
       "        1776.7814  , 2253.8672  , 2147.1162  , 2184.444   , 2181.992   ,\n",
       "        2237.0522  , 1042.3782  ,  576.7123  ,  695.5255  ,  845.7425  ,\n",
       "        1002.05554 ,  848.7892  ,  825.02094 ,  521.7482  ,  368.20447 ,\n",
       "         296.2594  ,  381.78452 ,  309.6335  ,  316.61514 ,  225.89615 ,\n",
       "         379.63647 ,  382.63162 ,  753.0318  , 1081.373   , 1087.4565  ,\n",
       "        1072.6534  ,  938.3507  ,  580.3493  ,  457.53476 ,  366.61426 ,\n",
       "         389.0905  ,  242.84201 ,  267.87473 ,  398.44165 ,  334.0814  ,\n",
       "         223.77687 ,  240.00569 ,  345.14905 ,  372.299   ,  389.0238  ,\n",
       "         406.5227  ,  421.143   ,  385.7804  ,  298.03027 ,  317.11273 ,\n",
       "         550.7539  ,  720.5034  , 1022.04987 ,  978.64276 , 1006.11316 ,\n",
       "        1100.3009  , 1181.67    , 1192.2914  , 1321.0265  ,  766.2095  ,\n",
       "         604.0264  ,  635.71344 ,  594.1886  ,  597.97205 ,  567.86255 ,\n",
       "         642.12396 ,  514.23035 ,  638.59064 ,  866.5963  ,  711.08746 ,\n",
       "         381.5886  ,  644.9128  ,  912.9064  ,  738.3261  ,  288.99557 ,\n",
       "         291.68158 ,  355.56567 ,  249.23878 ,  350.21692 ,  394.26694 ,\n",
       "         375.95007 ,  203.48216 ,  353.64264 ,  463.05658 ,  513.39136 ,\n",
       "         830.31287 ,  995.78125 ,  976.8486  ,  826.09436 ,  640.6155  ,\n",
       "         443.93286 ,  400.3821  ,  256.408   ,  188.98906 ,  304.95404 ,\n",
       "         288.48398 ,  336.44666 ,  355.03317 ,  229.84761 ,  308.72467 ,\n",
       "         189.79642 ,  262.11612 ,  185.46393 ,  161.70145 ,  152.66046 ,\n",
       "         246.20282 ,  241.57175 ,  240.44757 ,  228.64568 ,  359.1613  ,\n",
       "         313.64783 ,  339.7458  ,  355.86627 ,  161.2963  ,  296.55298 ,\n",
       "         121.853134,  143.5951  ,  134.67815 ,  346.14044 ,  350.293   ,\n",
       "         284.47635 ,  312.62073 ,  281.37573 ,  356.67355 ,  356.06012 ,\n",
       "         351.6774  ,  424.41605 ,  342.87686 ,  330.34195 ,  118.01164 ,\n",
       "         192.81506 ,  171.73036 ,  189.8665  ,  218.1502  ,  255.13297 ,\n",
       "         249.4636  ,  299.44095 ,  455.03418 ,  466.01755 ,  562.7801  ,\n",
       "         646.4402  , 1085.7655  , 1197.1558  , 1315.8767  , 1388.7544  ,\n",
       "        1516.5715  , 1691.4021  , 1607.0374  ,  875.81067 ,  629.52844 ,\n",
       "         360.52017 ,  394.94733 ,  411.09393 ,  308.01938 ,  378.113   ,\n",
       "         365.21664 ,  517.3309  ,  260.77606 ,  200.42879 ,  181.4282  ,\n",
       "         218.25462 ,  243.2245  ,  304.60724 ,  549.9628  ,  520.0559  ,\n",
       "         512.30817 ,  445.50775 ,  408.01822 ,  337.6549  ,  227.0258  ,\n",
       "         276.36566 ,  163.42085 ,  244.30276 ,  128.09372 ,  236.68513 ,\n",
       "         226.59544 ,  194.99947 ,  411.06647 ,  470.56885 ,  635.5078  ,\n",
       "         552.632   ,  644.72797 ,  819.94855 ,  998.62396 , 1215.9504  ,\n",
       "        1102.4282  ,  570.0147  ,  331.70535 ,  400.06046 ,  563.0866  ,\n",
       "         480.6454  ,  649.615   ,  712.6193  ,  712.1967  ,  659.36615 ,\n",
       "         701.7126  ,  723.55597 ,  533.6005  ,  361.04385 ,  265.77118 ,\n",
       "         231.62161 ,  237.22078 ,  208.37067 ,  279.70276 ,  484.613   ,\n",
       "         546.30725 ,  712.5615  ,  571.0747  ,  315.76016 ,  235.23016 ,\n",
       "         194.27678 ,  156.43149 ,  175.2324  ,  175.96259 ,  256.17444 ,\n",
       "         370.58072 ,  582.10956 ,  693.1096  ,  781.5315  ,  960.3248  ,\n",
       "        1020.48834 ,  937.9409  ,  798.1253  ,  491.92038 ,  390.82428 ,\n",
       "         153.83208 ,  322.23813 ,  782.21356 , 1087.138   , 1324.4229  ,\n",
       "        1566.8914  , 1673.4164  , 1505.2051  , 1570.0743  ,  778.9475  ,\n",
       "         442.12497 ,  413.3596  ,  422.04892 ,  564.03076 ,  680.02954 ,\n",
       "         326.14584 ,  411.6834  ,  895.7854  , 1148.3422  , 1168.5435  ,\n",
       "        1328.468   , 1479.2452  , 1449.6332  , 1545.42    ,  867.7205  ,\n",
       "         558.65985 ,  766.79944 ,  623.8824  ,  849.5525  , 1421.8694  ,\n",
       "        1449.4901  , 1271.0663  , 1492.4603  , 1914.137   , 2103.1536  ,\n",
       "        1929.6764  , 1476.7756  , 1113.9963  ,  843.57    ,  844.7182  ,\n",
       "         836.1098  ,  944.6565  ,  948.1204  , 1197.2974  , 1031.3073  ,\n",
       "        1315.1013  , 1746.3994  , 1753.4677  , 1796.8715  ,  787.1157  ,\n",
       "         411.22934 ,  443.26395 ,  435.14536 ,  367.43234 ,  383.51505 ,\n",
       "         370.59595 ,  469.75073 ,  645.87415 , 1340.4999  , 2501.5342  ,\n",
       "        3421.0923  , 3738.23    , 3875.476   , 3935.2568  , 4104.798   ,\n",
       "        2883.4236  , 1562.6561  , 1069.7456  , 1091.0957  , 1552.8578  ,\n",
       "        2242.0242  , 2733.9565  , 3462.3142  , 3892.3645  , 3756.2905  ,\n",
       "        3507.2578  , 3892.6226  , 3783.1782  , 4325.6665  , 4467.113   ,\n",
       "        5602.9307  , 6662.9917  , 6012.159   , 5502.8564  , 6015.7295  ,\n",
       "        4920.134   , 3301.7036  , 2398.7935  , 3646.3118  , 4561.2017  ,\n",
       "        4295.0874  , 1398.3995  , 2024.006   , 1069.1879  , 2682.0083  ,\n",
       "        2401.017   , 2817.5527  , 2919.2944  , 3039.9001  , 2944.7034  ,\n",
       "        3123.0012  , 1109.445   , 1843.3982  , 2853.4492  , 2974.2827  ,\n",
       "        2604.7947  , 3337.882   , 4992.71    , 4708.488   , 3721.8347  ,\n",
       "        3823.9465  , 4051.3613  , 5688.2827  , 6947.7197  , 7404.911   ,\n",
       "        8207.238   , 8787.449   , 7754.09    , 9081.021   , 6186.3584  ,\n",
       "        2894.1487  , 3344.8064  , 2787.474   , 3509.2776  , 4453.2065  ,\n",
       "        5079.615   , 4972.311   , 4706.384   , 3643.7783  , 3825.4185  ,\n",
       "        5607.51    , 7134.36    , 9067.476   , 8350.508   , 4048.0679  ,\n",
       "        2816.689   , 2273.6145  , 3771.7104  , 4332.3486  , 5139.1416  ,\n",
       "        4888.747   , 5199.848   , 4878.8413  , 6189.477   , 6951.4243  ,\n",
       "        8660.172   , 8970.989   , 7911.525   , 6361.5933  , 4224.686   ,\n",
       "        3452.9768  , 2946.2903  , 2026.3607  , 1933.7749  , 1951.301   ,\n",
       "        1751.1549  , 2606.6206  , 3326.33    , 3601.3977  , 3971.6655  ,\n",
       "        4054.2834  , 1887.0104  , 2438.9104  , 3933.4495  , 6086.3     ,\n",
       "        5876.851   , 4565.796   , 4402.5483  , 3469.4004  , 1989.4292  ,\n",
       "        1590.1736  , 1104.511   ,  721.56604 , 1627.0459  , 1918.943   ,\n",
       "        1890.0076  , 3522.9773  , 5022.052   , 5478.0293  , 6127.022   ,\n",
       "        5079.904   , 3787.2615  , 3500.74    , 3402.9165  , 5043.7324  ,\n",
       "        6603.759   , 7174.93    , 7244.988   , 5081.6113  , 3450.1414  ,\n",
       "        3671.8489  , 2483.4143  , 2739.6316  , 4403.426   , 5399.1846  ,\n",
       "        7961.3613  , 5700.576   , 3073.6338  , 2584.0923  , 3424.1848  ,\n",
       "        1772.8356  , 1913.8625  , 2446.0532  , 1947.046   , 3695.6167  ,\n",
       "        3026.6575  , 3581.7986  , 3612.4834  , 4901.9214  , 6857.3955  ,\n",
       "        7251.038   ], dtype=float32),\n",
       " 'mape': array([ 4.127819  ,  1.64572   ,  2.475576  ,  3.1560667 ,  3.262325  ,\n",
       "         3.380333  ,  3.803144  ,  3.7170947 ,  3.9553828 ,  5.660832  ,\n",
       "         7.467822  ,  8.220639  ,  8.846081  ,  9.722544  ,  6.121551  ,\n",
       "         3.4362338 ,  3.6178594 ,  6.553261  ,  7.076535  ,  7.1876183 ,\n",
       "         3.6055155 ,  2.041666  ,  1.8805852 ,  2.2019277 ,  1.9866565 ,\n",
       "         2.5109916 ,  3.717975  ,  4.3323336 ,  3.6096733 ,  1.8186924 ,\n",
       "         1.7347852 ,  1.1650523 ,  1.9438789 ,  2.028376  ,  2.7088702 ,\n",
       "         3.06009   ,  3.0112298 ,  3.8062103 ,  3.6110394 ,  5.933238  ,\n",
       "         9.733585  ,  4.4296546 ,  3.785228  ,  4.016649  ,  1.7323194 ,\n",
       "         1.8963041 ,  2.940007  ,  2.7752821 ,  2.0224366 ,  3.1919353 ,\n",
       "         3.0442772 ,  3.4514942 ,  2.2553368 ,  3.8151343 ,  5.2165413 ,\n",
       "         6.620987  , 10.116982  ,  9.667451  , 10.504752  , 10.032756  ,\n",
       "         7.547363  ,  5.0087495 ,  4.9706807 ,  6.824828  ,  6.919785  ,\n",
       "         8.137506  ,  7.6825037 ,  8.876567  ,  3.8984277 ,  1.3433098 ,\n",
       "         1.9131128 ,  2.919559  ,  4.058388  ,  2.6585276 ,  1.9297907 ,\n",
       "         3.2357135 ,  3.6246784 ,  5.240071  ,  7.1696997 ,  9.349914  ,\n",
       "        10.536205  ,  9.394622  ,  5.9872313 ,  3.5167093 ,  1.7539538 ,\n",
       "         2.5592742 ,  3.2029948 ,  4.12277   ,  5.8726354 ,  8.624552  ,\n",
       "         7.190315  ,  6.793967  ,  6.6099563 ,  4.0170293 ,  2.2692647 ,\n",
       "         3.5086434 ,  1.7794896 ,  3.6588583 ,  4.168242  ,  5.2250204 ,\n",
       "         3.1939678 ,  1.6804043 ,  2.4032874 ,  1.8303318 ,  2.5911336 ,\n",
       "         3.9226313 ,  4.7475243 ,  6.1993694 ,  8.110244  ,  8.066808  ,\n",
       "         7.6501718 ,  1.6401378 ,  2.5689368 ,  4.1363206 ,  5.322649  ,\n",
       "         5.6765714 ,  4.8573313 ,  5.287968  ,  5.768389  , 14.1637535 ,\n",
       "        21.89665   , 31.747883  , 31.72858   , 34.615307  , 37.769596  ,\n",
       "        41.315712  , 17.858532  , 10.045379  ,  9.301012  , 10.896082  ,\n",
       "        15.456684  , 12.124651  , 11.039988  ,  7.1624875 ,  4.830242  ,\n",
       "         4.3451242 ,  5.1036596 ,  4.2161326 ,  3.3995588 ,  2.9234738 ,\n",
       "         4.678607  ,  4.836299  , 10.678662  , 15.273349  , 15.240611  ,\n",
       "        14.849441  , 12.754292  ,  7.618124  ,  6.30683   ,  3.7188213 ,\n",
       "         4.5505276 ,  3.238403  ,  3.27801   ,  5.2991877 ,  4.4088645 ,\n",
       "         2.3897157 ,  2.437781  ,  3.8479776 ,  4.4074483 ,  4.6556916 ,\n",
       "         5.2960835 ,  4.7687116 ,  4.527323  ,  3.651764  ,  4.0720763 ,\n",
       "         6.210231  ,  9.068157  , 11.840621  , 10.007029  ,  9.849356  ,\n",
       "        10.889312  , 12.204324  , 12.620887  , 14.791849  ,  8.373187  ,\n",
       "         5.3257804 ,  4.8886375 ,  4.5374928 ,  4.752817  ,  4.9204793 ,\n",
       "         5.3600097 ,  5.0085998 ,  5.5731397 ,  8.029697  ,  6.968455  ,\n",
       "         3.584263  ,  5.934895  ,  9.213241  ,  7.3279595 ,  2.6780703 ,\n",
       "         2.9039538 ,  3.291154  ,  2.5035446 ,  3.2580826 ,  3.7959688 ,\n",
       "         4.0145216 ,  2.0809312 ,  3.2728922 ,  4.427018  ,  4.00408   ,\n",
       "         7.4508123 ,  9.507947  ,  9.474319  ,  7.6247582 ,  6.240093  ,\n",
       "         3.4317505 ,  3.0173912 ,  2.398989  ,  1.7325867 ,  2.8762033 ,\n",
       "         2.646092  ,  3.0777068 ,  3.0990999 ,  1.962212  ,  2.5828953 ,\n",
       "         1.5406138 ,  2.4798448 ,  1.699106  ,  1.5938169 ,  1.3321264 ,\n",
       "         2.2919428 ,  2.0410771 ,  2.2438157 ,  1.9963251 ,  3.2335434 ,\n",
       "         2.6745567 ,  2.9617753 ,  2.7609663 ,  1.5114939 ,  2.7479146 ,\n",
       "         0.9397989 ,  1.3400669 ,  1.2342498 ,  3.7098613 ,  3.7130456 ,\n",
       "         2.872977  ,  3.0689309 ,  2.6830688 ,  3.2841976 ,  3.6104507 ,\n",
       "         3.4209788 ,  4.4665403 ,  3.470492  ,  3.1179135 ,  1.1265504 ,\n",
       "         1.8731123 ,  1.7804133 ,  1.9821744 ,  2.2192936 ,  2.582078  ,\n",
       "         2.4689507 ,  2.7787302 ,  4.376438  ,  4.3088017 ,  5.4722404 ,\n",
       "         6.3138247 ,  9.1492605 ,  9.651556  , 10.297074  , 10.9335    ,\n",
       "        12.579553  , 14.307831  , 13.978486  ,  7.2916255 ,  5.1613407 ,\n",
       "         2.7124286 ,  2.962842  ,  2.9448662 ,  2.4982636 ,  2.7410383 ,\n",
       "         2.8236356 ,  3.9384809 ,  1.739111  ,  1.5118945 ,  1.2999288 ,\n",
       "         1.2010393 ,  1.8915908 ,  2.0723093 ,  4.002504  ,  3.7943    ,\n",
       "         3.9169383 ,  3.3115592 ,  2.668624  ,  1.8781366 ,  1.8546472 ,\n",
       "         1.5836399 ,  1.2287924 ,  1.6742077 ,  0.85133696,  1.6452352 ,\n",
       "         1.5152701 ,  1.3018237 ,  2.9512703 ,  3.3173006 ,  5.2526703 ,\n",
       "         4.50914   ,  5.464275  ,  6.799947  ,  8.574145  , 10.793321  ,\n",
       "        10.382069  ,  5.1095834 ,  2.6951935 ,  3.4862301 ,  5.013641  ,\n",
       "         4.323985  ,  5.7969627 ,  6.1877546 ,  5.922747  ,  5.369118  ,\n",
       "         6.0383396 ,  6.4643316 ,  4.5848227 ,  2.8040354 ,  2.3161395 ,\n",
       "         1.8892566 ,  1.8686628 ,  1.783384  ,  2.3475795 ,  4.0324326 ,\n",
       "         4.6797957 ,  6.459399  ,  5.2331176 ,  2.8313408 ,  1.7050161 ,\n",
       "         1.4930338 ,  1.3016319 ,  1.2735082 ,  1.4399326 ,  1.8713336 ,\n",
       "         3.0819075 ,  4.707226  ,  5.5132365 ,  5.993273  ,  7.8756137 ,\n",
       "         8.646231  ,  8.027961  ,  6.933387  ,  4.0516715 ,  2.9112952 ,\n",
       "         1.0623477 ,  2.2000837 ,  4.340751  ,  6.069631  ,  8.433741  ,\n",
       "        10.889349  , 12.316959  , 11.312732  , 11.782501  ,  5.419194  ,\n",
       "         2.6428776 ,  2.578852  ,  2.6564848 ,  3.467751  ,  4.525914  ,\n",
       "         2.0294113 ,  2.628536  ,  4.763196  ,  5.63092   ,  5.6636477 ,\n",
       "         7.2866597 ,  8.735011  ,  9.090716  ,  9.772097  ,  4.9835734 ,\n",
       "         2.8510163 ,  4.210432  ,  3.275068  ,  4.474697  ,  7.7788377 ,\n",
       "         7.385157  ,  6.0939455 ,  6.610877  ,  9.335078  , 10.981361  ,\n",
       "        10.175478  ,  7.7483215 ,  5.8012185 ,  4.4204464 ,  3.842077  ,\n",
       "         3.538568  ,  4.1224947 ,  4.4434752 ,  5.317677  ,  5.2282367 ,\n",
       "         5.927227  ,  8.57521   ,  8.969427  ,  9.297642  ,  3.9674191 ,\n",
       "         1.8728098 ,  1.7381003 ,  1.7248216 ,  1.663631  ,  1.7982692 ,\n",
       "         1.7960846 ,  2.3178368 ,  2.7659676 ,  4.8622465 ,  9.291495  ,\n",
       "        13.689138  , 14.273672  , 15.009877  , 16.173285  , 17.508753  ,\n",
       "        12.324252  ,  6.4692097 ,  3.9246862 ,  2.8657691 ,  4.653519  ,\n",
       "         6.468136  ,  8.708249  , 11.478305  , 13.175022  , 12.513407  ,\n",
       "        10.255139  , 10.641156  , 10.41302   , 12.206083  , 11.40632   ,\n",
       "        13.082774  , 15.722856  , 13.157733  , 12.608406  , 14.309395  ,\n",
       "        10.583056  ,  7.5491915 ,  5.4660125 ,  8.299601  , 11.890257  ,\n",
       "        11.523136  ,  3.1887558 ,  5.2214355 ,  2.1965673 ,  5.444037  ,\n",
       "         4.5231404 ,  6.5114317 ,  7.6244884 ,  8.036446  ,  8.364153  ,\n",
       "         9.276031  ,  3.0165446 ,  4.517394  ,  7.1887484 ,  8.254283  ,\n",
       "         6.3868656 ,  8.932438  , 13.49643   , 12.33976   ,  9.2152815 ,\n",
       "         8.659997  ,  9.387999  , 12.404614  , 13.433077  , 14.676232  ,\n",
       "        16.154789  , 17.850742  , 15.315649  , 18.920143  , 12.746413  ,\n",
       "         5.474404  ,  5.8421884 ,  4.2290926 ,  4.749777  ,  6.608862  ,\n",
       "         7.6536083 ,  8.005388  ,  7.732052  ,  6.2124004 ,  7.107921  ,\n",
       "         9.885182  , 13.179196  , 18.231106  , 17.41812   ,  8.086014  ,\n",
       "         4.6573443 ,  3.7799537 ,  6.7312136 ,  8.056591  , 10.262084  ,\n",
       "         9.267033  ,  9.395746  ,  7.427989  ,  9.530585  , 10.925756  ,\n",
       "        13.923505  , 14.620659  , 13.230445  , 10.438485  ,  6.729289  ,\n",
       "         5.1594863 ,  4.539946  ,  3.0813763 ,  3.1855874 ,  2.6520407 ,\n",
       "         2.5535204 ,  3.2866917 ,  5.4334793 ,  5.8837676 ,  6.3606014 ,\n",
       "         7.02619   ,  2.7824733 ,  3.5186782 ,  5.751764  , 10.096189  ,\n",
       "         9.847731  ,  7.621851  ,  7.405509  ,  5.8295374 ,  3.2442267 ,\n",
       "         2.4048193 ,  1.596169  ,  1.0644951 ,  2.3521762 ,  3.1285062 ,\n",
       "         2.6445236 ,  4.5916915 ,  7.3152676 ,  7.956816  ,  9.36366   ,\n",
       "         7.839521  ,  5.7562704 ,  5.266783  ,  5.0295825 ,  7.7751107 ,\n",
       "        10.374251  , 12.031504  , 12.9404125 ,  8.622194  ,  5.961967  ,\n",
       "         5.6608057 ,  4.203596  ,  4.260253  ,  7.152559  ,  8.496838  ,\n",
       "        13.914986  ,  9.671192  ,  4.539412  ,  3.8678267 ,  5.4315033 ,\n",
       "         2.954013  ,  2.5967355 ,  3.943997  ,  2.6667488 ,  6.191538  ,\n",
       "         5.171285  ,  5.8668375 ,  6.0585814 ,  7.77061   , 11.9092865 ,\n",
       "        13.822261  ], dtype=float32),\n",
       " 'mase': 2.4639182}"
      ]
     },
     "execution_count": 60,
     "metadata": {},
     "output_type": "execute_result"
    }
   ],
   "source": [
    "# Evaluating model 3 preds\n",
    "model_3_results = evaluate_preds(\n",
    "    y_true=tf.squeeze(test_labels),\n",
    "    y_pred=model_3_preds\n",
    ")\n",
    "model_3_results"
   ]
  },
  {
   "cell_type": "code",
   "execution_count": 61,
   "metadata": {},
   "outputs": [],
   "source": [
    "# Function for evaluation matrix\n",
    "# MAKING IT WORK FOR HIGHER HORIZON\n",
    "def evaluate_preds(y_true, y_pred):\n",
    "\n",
    "    # Ensuring that we use float32 dtype (for metric calculations)\n",
    "    y_true = tf.cast(y_true, dtype=tf.float32)\n",
    "    y_pred = tf.cast(y_pred, dtype=tf.float32)\n",
    "\n",
    "    # Calculating various evaluation metrics\n",
    "    mae = tf.keras.metrics.mean_absolute_error(y_true, y_pred)\n",
    "    mse = tf.keras.metrics.mean_squared_error(y_true, y_pred)\n",
    "    rmse = tf.sqrt(mse)\n",
    "    mape = tf.keras.metrics.mean_absolute_percentage_error(y_true, y_pred)\n",
    "    mase = mean_absolute_scaled_error(y_true, y_pred)\n",
    "\n",
    "    # Account for different size metrics\n",
    "    if mae.ndim > 0:\n",
    "        mae = tf.reduce_mean(mae)\n",
    "        mse = tf.reduce_mean(mse)\n",
    "        rmse = tf.reduce_mean(rmse)\n",
    "        mape = tf.reduce_mean(mape)\n",
    "        mase = tf.reduce_mean(mase)\n",
    "\n",
    "    return {\n",
    "        \"mae\": mae.numpy(),\n",
    "        \"mse\": mse.numpy(),\n",
    "        \"rmse\": rmse.numpy(),\n",
    "        \"mape\": mape.numpy(),\n",
    "        \"mase\": mase.numpy()\n",
    "    }"
   ]
  },
  {
   "cell_type": "code",
   "execution_count": 62,
   "metadata": {},
   "outputs": [
    {
     "data": {
      "text/plain": [
       "{'mae': 1384.6562,\n",
       " 'mse': 6027057.0,\n",
       " 'rmse': 1556.4397,\n",
       " 'mape': 6.17022,\n",
       " 'mase': 2.4639182}"
      ]
     },
     "execution_count": 62,
     "metadata": {},
     "output_type": "execute_result"
    }
   ],
   "source": [
    "# Re-evaluating model 3 preds\n",
    "model_3_results = evaluate_preds(\n",
    "    y_true=tf.squeeze(test_labels),\n",
    "    y_pred=model_3_preds\n",
    ")\n",
    "model_3_results"
   ]
  },
  {
   "cell_type": "code",
   "execution_count": 63,
   "metadata": {},
   "outputs": [
    {
     "data": {
      "image/png": "[encoded data removed]",
      "text/plain": [
       "<Figure size 720x504 with 1 Axes>"
      ]
     },
     "metadata": {
      "needs_background": "light"
     },
     "output_type": "display_data"
    }
   ],
   "source": [
    "# Visualising the data\n",
    "offset = 300\n",
    "plt.figure(figsize=(10, 7))\n",
    "plot_time_series(\n",
    "    timestamps=X_test[-len(test_windows):],\n",
    "    values=test_labels[:, 0],\n",
    "    start=offset,\n",
    "    label=\"Test data\"\n",
    ")\n",
    "plot_time_series(\n",
    "    timestamps=X_test[-len(test_windows):],\n",
    "    values=model_3_preds,\n",
    "    start=offset,\n",
    "    label=\"Model 3 preds\"\n",
    ")"
   ]
  },
  {
   "cell_type": "code",
   "execution_count": 64,
   "metadata": {},
   "outputs": [
    {
     "data": {
      "image/png": "[encoded data removed]",
      "text/plain": [
       "<Figure size 720x504 with 1 Axes>"
      ]
     },
     "metadata": {
      "needs_background": "light"
     },
     "output_type": "display_data"
    }
   ],
   "source": [
    "# Visualising the data\n",
    "offset = 300\n",
    "plt.figure(figsize=(10, 7))\n",
    "plot_time_series(\n",
    "    timestamps=X_test[-len(test_windows):],\n",
    "    values=test_labels[:, 0],\n",
    "    start=offset,\n",
    "    label=\"Test data\"\n",
    ")\n",
    "plot_time_series(\n",
    "    timestamps=X_test[-len(test_windows):],\n",
    "    values=tf.reduce_mean(model_3_preds, axis=1),\n",
    "    start=offset,\n",
    "    label=\"Model 3 preds\"\n",
    ")"
   ]
  },
  {
   "cell_type": "code",
   "execution_count": 65,
   "metadata": {},
   "outputs": [
    {
     "data": {
      "image/png": "[encoded data removed]",
      "text/plain": [
       "<Figure size 720x504 with 1 Axes>"
      ]
     },
     "metadata": {
      "needs_background": "light"
     },
     "output_type": "display_data"
    }
   ],
   "source": [
    "# Comparing models performance\n",
    "pd.DataFrame({\n",
    "    \"naive\": naive_results[\"mae\"],\n",
    "    \"horizon_1_window_7\": model_1_results[\"mae\"],\n",
    "    \"horizon_1_window_30\": model_2_results[\"mae\"],\n",
    "    \"horizon_7_window_30\": model_3_results[\"mae\"]\n",
    "}, index=[\"mae\"]).plot(figsize=(10, 7), kind=\"bar\");"
   ]
  },
  {
   "attachments": {},
   "cell_type": "markdown",
   "metadata": {},
   "source": [
    "### Model 4 - Using Conv1D"
   ]
  },
  {
   "cell_type": "code",
   "execution_count": 66,
   "metadata": {},
   "outputs": [],
   "source": [
    "# Defining horizon and window\n",
    "HORIZON = 1\n",
    "WINDOW_SIZE = 7"
   ]
  },
  {
   "cell_type": "code",
   "execution_count": 67,
   "metadata": {},
   "outputs": [
    {
     "data": {
      "text/plain": [
       "(2780, 2780)"
      ]
     },
     "execution_count": 67,
     "metadata": {},
     "output_type": "execute_result"
    }
   ],
   "source": [
    "# Creating windowed data\n",
    "full_windows,full_labels = make_windows(prices, window_size=WINDOW_SIZE, horizon=HORIZON)\n",
    "len(full_windows), len(full_labels)"
   ]
  },
  {
   "cell_type": "code",
   "execution_count": 68,
   "metadata": {},
   "outputs": [
    {
     "data": {
      "text/plain": [
       "(2224, 2224, 556, 556)"
      ]
     },
     "execution_count": 68,
     "metadata": {},
     "output_type": "execute_result"
    }
   ],
   "source": [
    "# Creating train / test datasets\n",
    "train_windows, test_windows, train_labels, test_labels = make_train_test_splits(full_windows, full_labels)\n",
    "len(train_windows), len(train_labels), len(test_windows), len(test_labels)"
   ]
  },
  {
   "cell_type": "code",
   "execution_count": 69,
   "metadata": {},
   "outputs": [
    {
     "data": {
      "text/plain": [
       "(7,)"
      ]
     },
     "execution_count": 69,
     "metadata": {},
     "output_type": "execute_result"
    }
   ],
   "source": [
    "# Checking data input shape\n",
    "train_windows[0].shape # returns WINDOW_SIZE"
   ]
  },
  {
   "cell_type": "code",
   "execution_count": 70,
   "metadata": {},
   "outputs": [],
   "source": [
    "# Conv1D expects input of (batch_size, timestamps, input_dim)"
   ]
  },
  {
   "cell_type": "code",
   "execution_count": 71,
   "metadata": {},
   "outputs": [
    {
     "data": {
      "text/plain": [
       "<tf.Tensor: shape=(7,), dtype=float64, numpy=\n",
       "array([123.65499, 125.455  , 108.58483, 118.67466, 121.33866, 120.65533,\n",
       "       121.795  ])>"
      ]
     },
     "execution_count": 71,
     "metadata": {},
     "output_type": "execute_result"
    }
   ],
   "source": [
    "# Reshaping the tensor\n",
    "x = tf.constant(train_windows[0])\n",
    "x"
   ]
  },
  {
   "cell_type": "code",
   "execution_count": 72,
   "metadata": {},
   "outputs": [],
   "source": [
    "# Creating Lambda layer\n",
    "expand_dim_layer = layers.Lambda(lambda x: tf.expand_dims(x, axis=1))"
   ]
  },
  {
   "cell_type": "code",
   "execution_count": 73,
   "metadata": {},
   "outputs": [
    {
     "name": "stdout",
     "output_type": "stream",
     "text": [
      "Original shape: (7,)\n",
      "Expanded shape: (7, 1)\n",
      "Original values with expanded shape:\n",
      " [[123.65499]\n",
      " [125.455  ]\n",
      " [108.58483]\n",
      " [118.67466]\n",
      " [121.33866]\n",
      " [120.65533]\n",
      " [121.795  ]]\n"
     ]
    }
   ],
   "source": [
    "# Testing Lambda layer\n",
    "print(f\"Original shape: {x.shape}\") # Output WINDOW_SIZE\n",
    "print(f\"Expanded shape: {expand_dim_layer(x).shape}\")\n",
    "print(f\"Original values with expanded shape:\\n {expand_dim_layer(x)}\")"
   ]
  },
  {
   "cell_type": "code",
   "execution_count": 74,
   "metadata": {},
   "outputs": [
    {
     "name": "stdout",
     "output_type": "stream",
     "text": [
      "Epoch 1/100\n",
      "12/18 [===================>..........] - ETA: 0s - loss: 2433.2502 "
     ]
    },
    {
     "name": "stderr",
     "output_type": "stream",
     "text": [
      "WARNING:absl:Found untraced functions such as _jit_compiled_convolution_op while saving (showing 1 of 1). These functions will not be directly callable after loading.\n"
     ]
    },
    {
     "name": "stdout",
     "output_type": "stream",
     "text": [
      "INFO:tensorflow:Assets written to: model_experiments\\model_4_Conv1D\\assets\n"
     ]
    },
    {
     "name": "stderr",
     "output_type": "stream",
     "text": [
      "INFO:tensorflow:Assets written to: model_experiments\\model_4_Conv1D\\assets\n"
     ]
    },
    {
     "name": "stdout",
     "output_type": "stream",
     "text": [
      "18/18 [==============================] - 4s 157ms/step - loss: 1957.2834 - val_loss: 1936.7765\n",
      "Epoch 2/100\n",
      "10/18 [===============>..............] - ETA: 0s - loss: 350.5321"
     ]
    },
    {
     "name": "stderr",
     "output_type": "stream",
     "text": [
      "WARNING:absl:Found untraced functions such as _jit_compiled_convolution_op while saving (showing 1 of 1). These functions will not be directly callable after loading.\n"
     ]
    },
    {
     "name": "stdout",
     "output_type": "stream",
     "text": [
      "INFO:tensorflow:Assets written to: model_experiments\\model_4_Conv1D\\assets\n"
     ]
    },
    {
     "name": "stderr",
     "output_type": "stream",
     "text": [
      "INFO:tensorflow:Assets written to: model_experiments\\model_4_Conv1D\\assets\n"
     ]
    },
    {
     "name": "stdout",
     "output_type": "stream",
     "text": [
      "18/18 [==============================] - 2s 131ms/step - loss: 310.9225 - val_loss: 1487.7366\n",
      "Epoch 3/100\n",
      "17/18 [===========================>..] - ETA: 0s - loss: 224.9273"
     ]
    },
    {
     "name": "stderr",
     "output_type": "stream",
     "text": [
      "WARNING:absl:Found untraced functions such as _jit_compiled_convolution_op while saving (showing 1 of 1). These functions will not be directly callable after loading.\n"
     ]
    },
    {
     "name": "stdout",
     "output_type": "stream",
     "text": [
      "INFO:tensorflow:Assets written to: model_experiments\\model_4_Conv1D\\assets\n"
     ]
    },
    {
     "name": "stderr",
     "output_type": "stream",
     "text": [
      "INFO:tensorflow:Assets written to: model_experiments\\model_4_Conv1D\\assets\n"
     ]
    },
    {
     "name": "stdout",
     "output_type": "stream",
     "text": [
      "18/18 [==============================] - 3s 163ms/step - loss: 223.0391 - val_loss: 1074.2041\n",
      "Epoch 4/100\n",
      "10/18 [===============>..............] - ETA: 0s - loss: 210.4687"
     ]
    },
    {
     "name": "stderr",
     "output_type": "stream",
     "text": [
      "WARNING:absl:Found untraced functions such as _jit_compiled_convolution_op while saving (showing 1 of 1). These functions will not be directly callable after loading.\n"
     ]
    },
    {
     "name": "stdout",
     "output_type": "stream",
     "text": [
      "INFO:tensorflow:Assets written to: model_experiments\\model_4_Conv1D\\assets\n"
     ]
    },
    {
     "name": "stderr",
     "output_type": "stream",
     "text": [
      "INFO:tensorflow:Assets written to: model_experiments\\model_4_Conv1D\\assets\n"
     ]
    },
    {
     "name": "stdout",
     "output_type": "stream",
     "text": [
      "18/18 [==============================] - 3s 157ms/step - loss: 193.9775 - val_loss: 1057.4503\n",
      "Epoch 5/100\n",
      "18/18 [==============================] - 0s 14ms/step - loss: 188.7275 - val_loss: 1057.7765\n",
      "Epoch 6/100\n",
      "10/18 [===============>..............] - ETA: 0s - loss: 183.0593"
     ]
    },
    {
     "name": "stderr",
     "output_type": "stream",
     "text": [
      "WARNING:absl:Found untraced functions such as _jit_compiled_convolution_op while saving (showing 1 of 1). These functions will not be directly callable after loading.\n"
     ]
    },
    {
     "name": "stdout",
     "output_type": "stream",
     "text": [
      "INFO:tensorflow:Assets written to: model_experiments\\model_4_Conv1D\\assets\n"
     ]
    },
    {
     "name": "stderr",
     "output_type": "stream",
     "text": [
      "INFO:tensorflow:Assets written to: model_experiments\\model_4_Conv1D\\assets\n"
     ]
    },
    {
     "name": "stdout",
     "output_type": "stream",
     "text": [
      "18/18 [==============================] - 3s 173ms/step - loss: 186.0392 - val_loss: 1042.2152\n",
      "Epoch 7/100\n",
      "10/18 [===============>..............] - ETA: 0s - loss: 201.5857"
     ]
    },
    {
     "name": "stderr",
     "output_type": "stream",
     "text": [
      "WARNING:absl:Found untraced functions such as _jit_compiled_convolution_op while saving (showing 1 of 1). These functions will not be directly callable after loading.\n"
     ]
    },
    {
     "name": "stdout",
     "output_type": "stream",
     "text": [
      "INFO:tensorflow:Assets written to: model_experiments\\model_4_Conv1D\\assets\n"
     ]
    },
    {
     "name": "stderr",
     "output_type": "stream",
     "text": [
      "INFO:tensorflow:Assets written to: model_experiments\\model_4_Conv1D\\assets\n"
     ]
    },
    {
     "name": "stdout",
     "output_type": "stream",
     "text": [
      "18/18 [==============================] - 3s 171ms/step - loss: 184.4964 - val_loss: 1017.9037\n",
      "Epoch 8/100\n",
      "18/18 [==============================] - 0s 12ms/step - loss: 179.9897 - val_loss: 1019.2964\n",
      "Epoch 9/100\n",
      "18/18 [==============================] - 0s 14ms/step - loss: 177.6170 - val_loss: 1019.9977\n",
      "Epoch 10/100\n",
      "11/18 [=================>............] - ETA: 0s - loss: 170.7297"
     ]
    },
    {
     "name": "stderr",
     "output_type": "stream",
     "text": [
      "WARNING:absl:Found untraced functions such as _jit_compiled_convolution_op while saving (showing 1 of 1). These functions will not be directly callable after loading.\n"
     ]
    },
    {
     "name": "stdout",
     "output_type": "stream",
     "text": [
      "INFO:tensorflow:Assets written to: model_experiments\\model_4_Conv1D\\assets\n"
     ]
    },
    {
     "name": "stderr",
     "output_type": "stream",
     "text": [
      "INFO:tensorflow:Assets written to: model_experiments\\model_4_Conv1D\\assets\n"
     ]
    },
    {
     "name": "stdout",
     "output_type": "stream",
     "text": [
      "18/18 [==============================] - 3s 180ms/step - loss: 175.1866 - val_loss: 983.6668\n",
      "Epoch 11/100\n",
      "10/18 [===============>..............] - ETA: 0s - loss: 172.0530"
     ]
    },
    {
     "name": "stderr",
     "output_type": "stream",
     "text": [
      "WARNING:absl:Found untraced functions such as _jit_compiled_convolution_op while saving (showing 1 of 1). These functions will not be directly callable after loading.\n"
     ]
    },
    {
     "name": "stdout",
     "output_type": "stream",
     "text": [
      "INFO:tensorflow:Assets written to: model_experiments\\model_4_Conv1D\\assets\n"
     ]
    },
    {
     "name": "stderr",
     "output_type": "stream",
     "text": [
      "INFO:tensorflow:Assets written to: model_experiments\\model_4_Conv1D\\assets\n"
     ]
    },
    {
     "name": "stdout",
     "output_type": "stream",
     "text": [
      "18/18 [==============================] - 2s 139ms/step - loss: 172.4819 - val_loss: 957.4807\n",
      "Epoch 12/100\n",
      "18/18 [==============================] - 0s 12ms/step - loss: 173.5771 - val_loss: 971.0542\n",
      "Epoch 13/100\n",
      "18/18 [==============================] - 0s 11ms/step - loss: 168.7509 - val_loss: 988.3019\n",
      "Epoch 14/100\n",
      "11/18 [=================>............] - ETA: 0s - loss: 157.8657"
     ]
    },
    {
     "name": "stderr",
     "output_type": "stream",
     "text": [
      "WARNING:absl:Found untraced functions such as _jit_compiled_convolution_op while saving (showing 1 of 1). These functions will not be directly callable after loading.\n"
     ]
    },
    {
     "name": "stdout",
     "output_type": "stream",
     "text": [
      "INFO:tensorflow:Assets written to: model_experiments\\model_4_Conv1D\\assets\n"
     ]
    },
    {
     "name": "stderr",
     "output_type": "stream",
     "text": [
      "INFO:tensorflow:Assets written to: model_experiments\\model_4_Conv1D\\assets\n"
     ]
    },
    {
     "name": "stdout",
     "output_type": "stream",
     "text": [
      "18/18 [==============================] - 2s 137ms/step - loss: 164.5859 - val_loss: 935.6375\n",
      "Epoch 15/100\n",
      "10/18 [===============>..............] - ETA: 0s - loss: 160.8758"
     ]
    },
    {
     "name": "stderr",
     "output_type": "stream",
     "text": [
      "WARNING:absl:Found untraced functions such as _jit_compiled_convolution_op while saving (showing 1 of 1). These functions will not be directly callable after loading.\n"
     ]
    },
    {
     "name": "stdout",
     "output_type": "stream",
     "text": [
      "INFO:tensorflow:Assets written to: model_experiments\\model_4_Conv1D\\assets\n"
     ]
    },
    {
     "name": "stderr",
     "output_type": "stream",
     "text": [
      "INFO:tensorflow:Assets written to: model_experiments\\model_4_Conv1D\\assets\n"
     ]
    },
    {
     "name": "stdout",
     "output_type": "stream",
     "text": [
      "18/18 [==============================] - 2s 130ms/step - loss: 162.7506 - val_loss: 930.9359\n",
      "Epoch 16/100\n",
      "11/18 [=================>............] - ETA: 0s - loss: 159.5488"
     ]
    },
    {
     "name": "stderr",
     "output_type": "stream",
     "text": [
      "WARNING:absl:Found untraced functions such as _jit_compiled_convolution_op while saving (showing 1 of 1). These functions will not be directly callable after loading.\n"
     ]
    },
    {
     "name": "stdout",
     "output_type": "stream",
     "text": [
      "INFO:tensorflow:Assets written to: model_experiments\\model_4_Conv1D\\assets\n"
     ]
    },
    {
     "name": "stderr",
     "output_type": "stream",
     "text": [
      "INFO:tensorflow:Assets written to: model_experiments\\model_4_Conv1D\\assets\n"
     ]
    },
    {
     "name": "stdout",
     "output_type": "stream",
     "text": [
      "18/18 [==============================] - 2s 128ms/step - loss: 158.0888 - val_loss: 891.0103\n",
      "Epoch 17/100\n",
      "10/18 [===============>..............] - ETA: 0s - loss: 162.5710"
     ]
    },
    {
     "name": "stderr",
     "output_type": "stream",
     "text": [
      "WARNING:absl:Found untraced functions such as _jit_compiled_convolution_op while saving (showing 1 of 1). These functions will not be directly callable after loading.\n"
     ]
    },
    {
     "name": "stdout",
     "output_type": "stream",
     "text": [
      "INFO:tensorflow:Assets written to: model_experiments\\model_4_Conv1D\\assets\n"
     ]
    },
    {
     "name": "stderr",
     "output_type": "stream",
     "text": [
      "INFO:tensorflow:Assets written to: model_experiments\\model_4_Conv1D\\assets\n"
     ]
    },
    {
     "name": "stdout",
     "output_type": "stream",
     "text": [
      "18/18 [==============================] - 2s 130ms/step - loss: 155.9351 - val_loss: 885.7017\n",
      "Epoch 18/100\n",
      "18/18 [==============================] - 0s 13ms/step - loss: 153.9314 - val_loss: 905.6485\n",
      "Epoch 19/100\n",
      "10/18 [===============>..............] - ETA: 0s - loss: 149.6201"
     ]
    },
    {
     "name": "stderr",
     "output_type": "stream",
     "text": [
      "WARNING:absl:Found untraced functions such as _jit_compiled_convolution_op while saving (showing 1 of 1). These functions will not be directly callable after loading.\n"
     ]
    },
    {
     "name": "stdout",
     "output_type": "stream",
     "text": [
      "INFO:tensorflow:Assets written to: model_experiments\\model_4_Conv1D\\assets\n"
     ]
    },
    {
     "name": "stderr",
     "output_type": "stream",
     "text": [
      "INFO:tensorflow:Assets written to: model_experiments\\model_4_Conv1D\\assets\n"
     ]
    },
    {
     "name": "stdout",
     "output_type": "stream",
     "text": [
      "18/18 [==============================] - 2s 134ms/step - loss: 150.0755 - val_loss: 862.5021\n",
      "Epoch 20/100\n",
      "10/18 [===============>..............] - ETA: 0s - loss: 155.0462"
     ]
    },
    {
     "name": "stderr",
     "output_type": "stream",
     "text": [
      "WARNING:absl:Found untraced functions such as _jit_compiled_convolution_op while saving (showing 1 of 1). These functions will not be directly callable after loading.\n"
     ]
    },
    {
     "name": "stdout",
     "output_type": "stream",
     "text": [
      "INFO:tensorflow:Assets written to: model_experiments\\model_4_Conv1D\\assets\n"
     ]
    },
    {
     "name": "stderr",
     "output_type": "stream",
     "text": [
      "INFO:tensorflow:Assets written to: model_experiments\\model_4_Conv1D\\assets\n"
     ]
    },
    {
     "name": "stdout",
     "output_type": "stream",
     "text": [
      "18/18 [==============================] - 2s 129ms/step - loss: 148.3685 - val_loss: 814.7802\n",
      "Epoch 21/100\n",
      "11/18 [=================>............] - ETA: 0s - loss: 154.4501"
     ]
    },
    {
     "name": "stderr",
     "output_type": "stream",
     "text": [
      "WARNING:absl:Found untraced functions such as _jit_compiled_convolution_op while saving (showing 1 of 1). These functions will not be directly callable after loading.\n"
     ]
    },
    {
     "name": "stdout",
     "output_type": "stream",
     "text": [
      "INFO:tensorflow:Assets written to: model_experiments\\model_4_Conv1D\\assets\n"
     ]
    },
    {
     "name": "stderr",
     "output_type": "stream",
     "text": [
      "INFO:tensorflow:Assets written to: model_experiments\\model_4_Conv1D\\assets\n"
     ]
    },
    {
     "name": "stdout",
     "output_type": "stream",
     "text": [
      "18/18 [==============================] - 2s 137ms/step - loss: 146.9930 - val_loss: 802.5214\n",
      "Epoch 22/100\n",
      "18/18 [==============================] - 0s 11ms/step - loss: 144.7319 - val_loss: 806.9144\n",
      "Epoch 23/100\n",
      "18/18 [==============================] - 0s 11ms/step - loss: 141.0359 - val_loss: 812.4698\n",
      "Epoch 24/100\n",
      "10/18 [===============>..............] - ETA: 0s - loss: 137.5090"
     ]
    },
    {
     "name": "stderr",
     "output_type": "stream",
     "text": [
      "WARNING:absl:Found untraced functions such as _jit_compiled_convolution_op while saving (showing 1 of 1). These functions will not be directly callable after loading.\n"
     ]
    },
    {
     "name": "stdout",
     "output_type": "stream",
     "text": [
      "INFO:tensorflow:Assets written to: model_experiments\\model_4_Conv1D\\assets\n"
     ]
    },
    {
     "name": "stderr",
     "output_type": "stream",
     "text": [
      "INFO:tensorflow:Assets written to: model_experiments\\model_4_Conv1D\\assets\n"
     ]
    },
    {
     "name": "stdout",
     "output_type": "stream",
     "text": [
      "18/18 [==============================] - 2s 129ms/step - loss: 139.9136 - val_loss: 782.2410\n",
      "Epoch 25/100\n",
      "10/18 [===============>..............] - ETA: 0s - loss: 146.3406"
     ]
    },
    {
     "name": "stderr",
     "output_type": "stream",
     "text": [
      "WARNING:absl:Found untraced functions such as _jit_compiled_convolution_op while saving (showing 1 of 1). These functions will not be directly callable after loading.\n"
     ]
    },
    {
     "name": "stdout",
     "output_type": "stream",
     "text": [
      "INFO:tensorflow:Assets written to: model_experiments\\model_4_Conv1D\\assets\n"
     ]
    },
    {
     "name": "stderr",
     "output_type": "stream",
     "text": [
      "INFO:tensorflow:Assets written to: model_experiments\\model_4_Conv1D\\assets\n"
     ]
    },
    {
     "name": "stdout",
     "output_type": "stream",
     "text": [
      "18/18 [==============================] - 2s 131ms/step - loss: 137.6126 - val_loss: 760.4651\n",
      "Epoch 26/100\n",
      "12/18 [===================>..........] - ETA: 0s - loss: 135.0341"
     ]
    },
    {
     "name": "stderr",
     "output_type": "stream",
     "text": [
      "WARNING:absl:Found untraced functions such as _jit_compiled_convolution_op while saving (showing 1 of 1). These functions will not be directly callable after loading.\n"
     ]
    },
    {
     "name": "stdout",
     "output_type": "stream",
     "text": [
      "INFO:tensorflow:Assets written to: model_experiments\\model_4_Conv1D\\assets\n"
     ]
    },
    {
     "name": "stderr",
     "output_type": "stream",
     "text": [
      "INFO:tensorflow:Assets written to: model_experiments\\model_4_Conv1D\\assets\n"
     ]
    },
    {
     "name": "stdout",
     "output_type": "stream",
     "text": [
      "18/18 [==============================] - 3s 155ms/step - loss: 135.2925 - val_loss: 744.9898\n",
      "Epoch 27/100\n",
      "10/18 [===============>..............] - ETA: 0s - loss: 137.6311"
     ]
    },
    {
     "name": "stderr",
     "output_type": "stream",
     "text": [
      "WARNING:absl:Found untraced functions such as _jit_compiled_convolution_op while saving (showing 1 of 1). These functions will not be directly callable after loading.\n"
     ]
    },
    {
     "name": "stdout",
     "output_type": "stream",
     "text": [
      "INFO:tensorflow:Assets written to: model_experiments\\model_4_Conv1D\\assets\n"
     ]
    },
    {
     "name": "stderr",
     "output_type": "stream",
     "text": [
      "INFO:tensorflow:Assets written to: model_experiments\\model_4_Conv1D\\assets\n"
     ]
    },
    {
     "name": "stdout",
     "output_type": "stream",
     "text": [
      "18/18 [==============================] - 3s 180ms/step - loss: 134.2283 - val_loss: 734.6909\n",
      "Epoch 28/100\n",
      "11/18 [=================>............] - ETA: 0s - loss: 134.2328"
     ]
    },
    {
     "name": "stderr",
     "output_type": "stream",
     "text": [
      "WARNING:absl:Found untraced functions such as _jit_compiled_convolution_op while saving (showing 1 of 1). These functions will not be directly callable after loading.\n"
     ]
    },
    {
     "name": "stdout",
     "output_type": "stream",
     "text": [
      "INFO:tensorflow:Assets written to: model_experiments\\model_4_Conv1D\\assets\n"
     ]
    },
    {
     "name": "stderr",
     "output_type": "stream",
     "text": [
      "INFO:tensorflow:Assets written to: model_experiments\\model_4_Conv1D\\assets\n"
     ]
    },
    {
     "name": "stdout",
     "output_type": "stream",
     "text": [
      "18/18 [==============================] - 2s 127ms/step - loss: 131.0950 - val_loss: 726.5063\n",
      "Epoch 29/100\n",
      "10/18 [===============>..............] - ETA: 0s - loss: 132.9458"
     ]
    },
    {
     "name": "stderr",
     "output_type": "stream",
     "text": [
      "WARNING:absl:Found untraced functions such as _jit_compiled_convolution_op while saving (showing 1 of 1). These functions will not be directly callable after loading.\n"
     ]
    },
    {
     "name": "stdout",
     "output_type": "stream",
     "text": [
      "INFO:tensorflow:Assets written to: model_experiments\\model_4_Conv1D\\assets\n"
     ]
    },
    {
     "name": "stderr",
     "output_type": "stream",
     "text": [
      "INFO:tensorflow:Assets written to: model_experiments\\model_4_Conv1D\\assets\n"
     ]
    },
    {
     "name": "stdout",
     "output_type": "stream",
     "text": [
      "18/18 [==============================] - 3s 157ms/step - loss: 129.4857 - val_loss: 716.2932\n",
      "Epoch 30/100\n",
      "18/18 [==============================] - 0s 13ms/step - loss: 132.0207 - val_loss: 783.7232\n",
      "Epoch 31/100\n",
      "18/18 [==============================] - 0s 12ms/step - loss: 136.9952 - val_loss: 837.7471\n",
      "Epoch 32/100\n",
      "10/18 [===============>..............] - ETA: 0s - loss: 136.7599"
     ]
    },
    {
     "name": "stderr",
     "output_type": "stream",
     "text": [
      "WARNING:absl:Found untraced functions such as _jit_compiled_convolution_op while saving (showing 1 of 1). These functions will not be directly callable after loading.\n"
     ]
    },
    {
     "name": "stdout",
     "output_type": "stream",
     "text": [
      "INFO:tensorflow:Assets written to: model_experiments\\model_4_Conv1D\\assets\n"
     ]
    },
    {
     "name": "stderr",
     "output_type": "stream",
     "text": [
      "INFO:tensorflow:Assets written to: model_experiments\\model_4_Conv1D\\assets\n"
     ]
    },
    {
     "name": "stdout",
     "output_type": "stream",
     "text": [
      "18/18 [==============================] - 2s 139ms/step - loss: 134.7739 - val_loss: 709.9960\n",
      "Epoch 33/100\n",
      "10/18 [===============>..............] - ETA: 0s - loss: 135.4610"
     ]
    },
    {
     "name": "stderr",
     "output_type": "stream",
     "text": [
      "WARNING:absl:Found untraced functions such as _jit_compiled_convolution_op while saving (showing 1 of 1). These functions will not be directly callable after loading.\n"
     ]
    },
    {
     "name": "stdout",
     "output_type": "stream",
     "text": [
      "INFO:tensorflow:Assets written to: model_experiments\\model_4_Conv1D\\assets\n"
     ]
    },
    {
     "name": "stderr",
     "output_type": "stream",
     "text": [
      "INFO:tensorflow:Assets written to: model_experiments\\model_4_Conv1D\\assets\n"
     ]
    },
    {
     "name": "stdout",
     "output_type": "stream",
     "text": [
      "18/18 [==============================] - 2s 133ms/step - loss: 129.7934 - val_loss: 688.4589\n",
      "Epoch 34/100\n",
      "11/18 [=================>............] - ETA: 0s - loss: 130.6494"
     ]
    },
    {
     "name": "stderr",
     "output_type": "stream",
     "text": [
      "WARNING:absl:Found untraced functions such as _jit_compiled_convolution_op while saving (showing 1 of 1). These functions will not be directly callable after loading.\n"
     ]
    },
    {
     "name": "stdout",
     "output_type": "stream",
     "text": [
      "INFO:tensorflow:Assets written to: model_experiments\\model_4_Conv1D\\assets\n"
     ]
    },
    {
     "name": "stderr",
     "output_type": "stream",
     "text": [
      "INFO:tensorflow:Assets written to: model_experiments\\model_4_Conv1D\\assets\n"
     ]
    },
    {
     "name": "stdout",
     "output_type": "stream",
     "text": [
      "18/18 [==============================] - 2s 131ms/step - loss: 124.1504 - val_loss: 681.0615\n",
      "Epoch 35/100\n",
      "11/18 [=================>............] - ETA: 0s - loss: 127.3346"
     ]
    },
    {
     "name": "stderr",
     "output_type": "stream",
     "text": [
      "WARNING:absl:Found untraced functions such as _jit_compiled_convolution_op while saving (showing 1 of 1). These functions will not be directly callable after loading.\n"
     ]
    },
    {
     "name": "stdout",
     "output_type": "stream",
     "text": [
      "INFO:tensorflow:Assets written to: model_experiments\\model_4_Conv1D\\assets\n"
     ]
    },
    {
     "name": "stderr",
     "output_type": "stream",
     "text": [
      "INFO:tensorflow:Assets written to: model_experiments\\model_4_Conv1D\\assets\n"
     ]
    },
    {
     "name": "stdout",
     "output_type": "stream",
     "text": [
      "18/18 [==============================] - 2s 142ms/step - loss: 122.7607 - val_loss: 678.5042\n",
      "Epoch 36/100\n",
      "18/18 [==============================] - 0s 10ms/step - loss: 124.6075 - val_loss: 734.5976\n",
      "Epoch 37/100\n",
      "12/18 [===================>..........] - ETA: 0s - loss: 120.9061"
     ]
    },
    {
     "name": "stderr",
     "output_type": "stream",
     "text": [
      "WARNING:absl:Found untraced functions such as _jit_compiled_convolution_op while saving (showing 1 of 1). These functions will not be directly callable after loading.\n"
     ]
    },
    {
     "name": "stdout",
     "output_type": "stream",
     "text": [
      "INFO:tensorflow:Assets written to: model_experiments\\model_4_Conv1D\\assets\n"
     ]
    },
    {
     "name": "stderr",
     "output_type": "stream",
     "text": [
      "INFO:tensorflow:Assets written to: model_experiments\\model_4_Conv1D\\assets\n"
     ]
    },
    {
     "name": "stdout",
     "output_type": "stream",
     "text": [
      "18/18 [==============================] - 2s 120ms/step - loss: 123.1404 - val_loss: 661.8198\n",
      "Epoch 38/100\n",
      " 9/18 [==============>...............] - ETA: 0s - loss: 128.9616"
     ]
    },
    {
     "name": "stderr",
     "output_type": "stream",
     "text": [
      "WARNING:absl:Found untraced functions such as _jit_compiled_convolution_op while saving (showing 1 of 1). These functions will not be directly callable after loading.\n"
     ]
    },
    {
     "name": "stdout",
     "output_type": "stream",
     "text": [
      "INFO:tensorflow:Assets written to: model_experiments\\model_4_Conv1D\\assets\n"
     ]
    },
    {
     "name": "stderr",
     "output_type": "stream",
     "text": [
      "INFO:tensorflow:Assets written to: model_experiments\\model_4_Conv1D\\assets\n"
     ]
    },
    {
     "name": "stdout",
     "output_type": "stream",
     "text": [
      "18/18 [==============================] - 2s 136ms/step - loss: 122.7638 - val_loss: 660.4111\n",
      "Epoch 39/100\n",
      "18/18 [==============================] - 0s 11ms/step - loss: 124.0213 - val_loss: 744.8420\n",
      "Epoch 40/100\n",
      "10/18 [===============>..............] - ETA: 0s - loss: 122.8829"
     ]
    },
    {
     "name": "stderr",
     "output_type": "stream",
     "text": [
      "WARNING:absl:Found untraced functions such as _jit_compiled_convolution_op while saving (showing 1 of 1). These functions will not be directly callable after loading.\n"
     ]
    },
    {
     "name": "stdout",
     "output_type": "stream",
     "text": [
      "INFO:tensorflow:Assets written to: model_experiments\\model_4_Conv1D\\assets\n"
     ]
    },
    {
     "name": "stderr",
     "output_type": "stream",
     "text": [
      "INFO:tensorflow:Assets written to: model_experiments\\model_4_Conv1D\\assets\n"
     ]
    },
    {
     "name": "stdout",
     "output_type": "stream",
     "text": [
      "18/18 [==============================] - 2s 124ms/step - loss: 121.1617 - val_loss: 646.3682\n",
      "Epoch 41/100\n",
      "11/18 [=================>............] - ETA: 0s - loss: 124.5624"
     ]
    },
    {
     "name": "stderr",
     "output_type": "stream",
     "text": [
      "WARNING:absl:Found untraced functions such as _jit_compiled_convolution_op while saving (showing 1 of 1). These functions will not be directly callable after loading.\n"
     ]
    },
    {
     "name": "stdout",
     "output_type": "stream",
     "text": [
      "INFO:tensorflow:Assets written to: model_experiments\\model_4_Conv1D\\assets\n"
     ]
    },
    {
     "name": "stderr",
     "output_type": "stream",
     "text": [
      "INFO:tensorflow:Assets written to: model_experiments\\model_4_Conv1D\\assets\n"
     ]
    },
    {
     "name": "stdout",
     "output_type": "stream",
     "text": [
      "18/18 [==============================] - 3s 160ms/step - loss: 119.2771 - val_loss: 641.9727\n",
      "Epoch 42/100\n",
      "18/18 [==============================] - 0s 12ms/step - loss: 120.4712 - val_loss: 645.4231\n",
      "Epoch 43/100\n",
      "18/18 [==============================] - 0s 12ms/step - loss: 118.4346 - val_loss: 649.9880\n",
      "Epoch 44/100\n",
      "11/18 [=================>............] - ETA: 0s - loss: 114.3921"
     ]
    },
    {
     "name": "stderr",
     "output_type": "stream",
     "text": [
      "WARNING:absl:Found untraced functions such as _jit_compiled_convolution_op while saving (showing 1 of 1). These functions will not be directly callable after loading.\n"
     ]
    },
    {
     "name": "stdout",
     "output_type": "stream",
     "text": [
      "INFO:tensorflow:Assets written to: model_experiments\\model_4_Conv1D\\assets\n"
     ]
    },
    {
     "name": "stderr",
     "output_type": "stream",
     "text": [
      "INFO:tensorflow:Assets written to: model_experiments\\model_4_Conv1D\\assets\n"
     ]
    },
    {
     "name": "stdout",
     "output_type": "stream",
     "text": [
      "18/18 [==============================] - 2s 130ms/step - loss: 119.1260 - val_loss: 634.4709\n",
      "Epoch 45/100\n",
      "18/18 [==============================] - 0s 11ms/step - loss: 117.6215 - val_loss: 637.1133\n",
      "Epoch 46/100\n",
      "13/18 [====================>.........] - ETA: 0s - loss: 120.0048"
     ]
    },
    {
     "name": "stderr",
     "output_type": "stream",
     "text": [
      "WARNING:absl:Found untraced functions such as _jit_compiled_convolution_op while saving (showing 1 of 1). These functions will not be directly callable after loading.\n"
     ]
    },
    {
     "name": "stdout",
     "output_type": "stream",
     "text": [
      "INFO:tensorflow:Assets written to: model_experiments\\model_4_Conv1D\\assets\n"
     ]
    },
    {
     "name": "stderr",
     "output_type": "stream",
     "text": [
      "INFO:tensorflow:Assets written to: model_experiments\\model_4_Conv1D\\assets\n"
     ]
    },
    {
     "name": "stdout",
     "output_type": "stream",
     "text": [
      "18/18 [==============================] - 2s 135ms/step - loss: 116.6925 - val_loss: 626.2966\n",
      "Epoch 47/100\n",
      "18/18 [==============================] - 0s 15ms/step - loss: 118.8630 - val_loss: 698.3367\n",
      "Epoch 48/100\n",
      "11/18 [=================>............] - ETA: 0s - loss: 113.2699"
     ]
    },
    {
     "name": "stderr",
     "output_type": "stream",
     "text": [
      "WARNING:absl:Found untraced functions such as _jit_compiled_convolution_op while saving (showing 1 of 1). These functions will not be directly callable after loading.\n"
     ]
    },
    {
     "name": "stdout",
     "output_type": "stream",
     "text": [
      "INFO:tensorflow:Assets written to: model_experiments\\model_4_Conv1D\\assets\n"
     ]
    },
    {
     "name": "stderr",
     "output_type": "stream",
     "text": [
      "INFO:tensorflow:Assets written to: model_experiments\\model_4_Conv1D\\assets\n"
     ]
    },
    {
     "name": "stdout",
     "output_type": "stream",
     "text": [
      "18/18 [==============================] - 2s 142ms/step - loss: 115.6263 - val_loss: 624.7383\n",
      "Epoch 49/100\n",
      "11/18 [=================>............] - ETA: 0s - loss: 121.3394"
     ]
    },
    {
     "name": "stderr",
     "output_type": "stream",
     "text": [
      "WARNING:absl:Found untraced functions such as _jit_compiled_convolution_op while saving (showing 1 of 1). These functions will not be directly callable after loading.\n"
     ]
    },
    {
     "name": "stdout",
     "output_type": "stream",
     "text": [
      "INFO:tensorflow:Assets written to: model_experiments\\model_4_Conv1D\\assets\n"
     ]
    },
    {
     "name": "stderr",
     "output_type": "stream",
     "text": [
      "INFO:tensorflow:Assets written to: model_experiments\\model_4_Conv1D\\assets\n"
     ]
    },
    {
     "name": "stdout",
     "output_type": "stream",
     "text": [
      "18/18 [==============================] - 2s 140ms/step - loss: 115.0918 - val_loss: 614.7723\n",
      "Epoch 50/100\n",
      "12/18 [===================>..........] - ETA: 0s - loss: 113.3546"
     ]
    },
    {
     "name": "stderr",
     "output_type": "stream",
     "text": [
      "WARNING:absl:Found untraced functions such as _jit_compiled_convolution_op while saving (showing 1 of 1). These functions will not be directly callable after loading.\n"
     ]
    },
    {
     "name": "stdout",
     "output_type": "stream",
     "text": [
      "INFO:tensorflow:Assets written to: model_experiments\\model_4_Conv1D\\assets\n"
     ]
    },
    {
     "name": "stderr",
     "output_type": "stream",
     "text": [
      "INFO:tensorflow:Assets written to: model_experiments\\model_4_Conv1D\\assets\n"
     ]
    },
    {
     "name": "stdout",
     "output_type": "stream",
     "text": [
      "18/18 [==============================] - 2s 128ms/step - loss: 115.1898 - val_loss: 613.3945\n",
      "Epoch 51/100\n",
      "16/18 [=========================>....] - ETA: 0s - loss: 115.9245"
     ]
    },
    {
     "name": "stderr",
     "output_type": "stream",
     "text": [
      "WARNING:absl:Found untraced functions such as _jit_compiled_convolution_op while saving (showing 1 of 1). These functions will not be directly callable after loading.\n"
     ]
    },
    {
     "name": "stdout",
     "output_type": "stream",
     "text": [
      "INFO:tensorflow:Assets written to: model_experiments\\model_4_Conv1D\\assets\n"
     ]
    },
    {
     "name": "stderr",
     "output_type": "stream",
     "text": [
      "INFO:tensorflow:Assets written to: model_experiments\\model_4_Conv1D\\assets\n"
     ]
    },
    {
     "name": "stdout",
     "output_type": "stream",
     "text": [
      "18/18 [==============================] - 2s 130ms/step - loss: 115.5194 - val_loss: 612.0534\n",
      "Epoch 52/100\n",
      "18/18 [==============================] - 0s 11ms/step - loss: 115.9012 - val_loss: 613.3531\n",
      "Epoch 53/100\n",
      "18/18 [==============================] - 0s 10ms/step - loss: 116.6332 - val_loss: 638.5961\n",
      "Epoch 54/100\n",
      "18/18 [==============================] - 0s 12ms/step - loss: 122.3024 - val_loss: 751.1862\n",
      "Epoch 55/100\n",
      "18/18 [==============================] - ETA: 0s - loss: 117.8304"
     ]
    },
    {
     "name": "stderr",
     "output_type": "stream",
     "text": [
      "WARNING:absl:Found untraced functions such as _jit_compiled_convolution_op while saving (showing 1 of 1). These functions will not be directly callable after loading.\n"
     ]
    },
    {
     "name": "stdout",
     "output_type": "stream",
     "text": [
      "INFO:tensorflow:Assets written to: model_experiments\\model_4_Conv1D\\assets\n"
     ]
    },
    {
     "name": "stderr",
     "output_type": "stream",
     "text": [
      "INFO:tensorflow:Assets written to: model_experiments\\model_4_Conv1D\\assets\n"
     ]
    },
    {
     "name": "stdout",
     "output_type": "stream",
     "text": [
      "18/18 [==============================] - 2s 122ms/step - loss: 117.8304 - val_loss: 608.0215\n",
      "Epoch 56/100\n",
      "18/18 [==============================] - 0s 11ms/step - loss: 115.5514 - val_loss: 812.2017\n",
      "Epoch 57/100\n",
      "10/18 [===============>..............] - ETA: 0s - loss: 140.1053"
     ]
    },
    {
     "name": "stderr",
     "output_type": "stream",
     "text": [
      "WARNING:absl:Found untraced functions such as _jit_compiled_convolution_op while saving (showing 1 of 1). These functions will not be directly callable after loading.\n"
     ]
    },
    {
     "name": "stdout",
     "output_type": "stream",
     "text": [
      "INFO:tensorflow:Assets written to: model_experiments\\model_4_Conv1D\\assets\n"
     ]
    },
    {
     "name": "stderr",
     "output_type": "stream",
     "text": [
      "INFO:tensorflow:Assets written to: model_experiments\\model_4_Conv1D\\assets\n"
     ]
    },
    {
     "name": "stdout",
     "output_type": "stream",
     "text": [
      "18/18 [==============================] - 2s 124ms/step - loss: 140.7977 - val_loss: 598.9823\n",
      "Epoch 58/100\n",
      "18/18 [==============================] - 0s 11ms/step - loss: 120.6743 - val_loss: 619.6700\n",
      "Epoch 59/100\n",
      "18/18 [==============================] - 0s 10ms/step - loss: 111.5787 - val_loss: 621.9963\n",
      "Epoch 60/100\n",
      "18/18 [==============================] - 0s 10ms/step - loss: 113.5630 - val_loss: 607.8707\n",
      "Epoch 61/100\n",
      "18/18 [==============================] - 0s 10ms/step - loss: 112.0140 - val_loss: 603.4675\n",
      "Epoch 62/100\n",
      "11/18 [=================>............] - ETA: 0s - loss: 105.3273"
     ]
    },
    {
     "name": "stderr",
     "output_type": "stream",
     "text": [
      "WARNING:absl:Found untraced functions such as _jit_compiled_convolution_op while saving (showing 1 of 1). These functions will not be directly callable after loading.\n"
     ]
    },
    {
     "name": "stdout",
     "output_type": "stream",
     "text": [
      "INFO:tensorflow:Assets written to: model_experiments\\model_4_Conv1D\\assets\n"
     ]
    },
    {
     "name": "stderr",
     "output_type": "stream",
     "text": [
      "INFO:tensorflow:Assets written to: model_experiments\\model_4_Conv1D\\assets\n"
     ]
    },
    {
     "name": "stdout",
     "output_type": "stream",
     "text": [
      "18/18 [==============================] - 2s 119ms/step - loss: 110.7858 - val_loss: 594.1759\n",
      "Epoch 63/100\n",
      "18/18 [==============================] - 0s 11ms/step - loss: 112.3696 - val_loss: 602.5347\n",
      "Epoch 64/100\n",
      "18/18 [==============================] - 0s 11ms/step - loss: 112.7597 - val_loss: 681.9071\n",
      "Epoch 65/100\n",
      "18/18 [==============================] - 0s 10ms/step - loss: 118.2529 - val_loss: 601.2707\n",
      "Epoch 66/100\n",
      "11/18 [=================>............] - ETA: 0s - loss: 107.8133"
     ]
    },
    {
     "name": "stderr",
     "output_type": "stream",
     "text": [
      "WARNING:absl:Found untraced functions such as _jit_compiled_convolution_op while saving (showing 1 of 1). These functions will not be directly callable after loading.\n"
     ]
    },
    {
     "name": "stdout",
     "output_type": "stream",
     "text": [
      "INFO:tensorflow:Assets written to: model_experiments\\model_4_Conv1D\\assets\n"
     ]
    },
    {
     "name": "stderr",
     "output_type": "stream",
     "text": [
      "INFO:tensorflow:Assets written to: model_experiments\\model_4_Conv1D\\assets\n"
     ]
    },
    {
     "name": "stdout",
     "output_type": "stream",
     "text": [
      "18/18 [==============================] - 2s 115ms/step - loss: 111.9537 - val_loss: 588.0956\n",
      "Epoch 67/100\n",
      "18/18 [==============================] - 0s 10ms/step - loss: 110.5645 - val_loss: 682.7881\n",
      "Epoch 68/100\n",
      "18/18 [==============================] - 0s 11ms/step - loss: 117.0207 - val_loss: 721.9029\n",
      "Epoch 69/100\n",
      "18/18 [==============================] - 0s 10ms/step - loss: 126.4995 - val_loss: 669.3276\n",
      "Epoch 70/100\n",
      "18/18 [==============================] - 0s 10ms/step - loss: 119.6697 - val_loss: 589.0697\n",
      "Epoch 71/100\n",
      "18/18 [==============================] - 0s 10ms/step - loss: 111.5042 - val_loss: 599.1649\n",
      "Epoch 72/100\n",
      "18/18 [==============================] - 0s 10ms/step - loss: 111.2223 - val_loss: 598.3698\n",
      "Epoch 73/100\n",
      "18/18 [==============================] - 0s 10ms/step - loss: 111.0892 - val_loss: 599.7407\n",
      "Epoch 74/100\n",
      "10/18 [===============>..............] - ETA: 0s - loss: 110.6735"
     ]
    },
    {
     "name": "stderr",
     "output_type": "stream",
     "text": [
      "WARNING:absl:Found untraced functions such as _jit_compiled_convolution_op while saving (showing 1 of 1). These functions will not be directly callable after loading.\n"
     ]
    },
    {
     "name": "stdout",
     "output_type": "stream",
     "text": [
      "INFO:tensorflow:Assets written to: model_experiments\\model_4_Conv1D\\assets\n"
     ]
    },
    {
     "name": "stderr",
     "output_type": "stream",
     "text": [
      "INFO:tensorflow:Assets written to: model_experiments\\model_4_Conv1D\\assets\n"
     ]
    },
    {
     "name": "stdout",
     "output_type": "stream",
     "text": [
      "18/18 [==============================] - 2s 144ms/step - loss: 111.3124 - val_loss: 582.5839\n",
      "Epoch 75/100\n",
      "18/18 [==============================] - 0s 11ms/step - loss: 109.4547 - val_loss: 603.4825\n",
      "Epoch 76/100\n",
      "13/18 [====================>.........] - ETA: 0s - loss: 110.5632"
     ]
    },
    {
     "name": "stderr",
     "output_type": "stream",
     "text": [
      "WARNING:absl:Found untraced functions such as _jit_compiled_convolution_op while saving (showing 1 of 1). These functions will not be directly callable after loading.\n"
     ]
    },
    {
     "name": "stdout",
     "output_type": "stream",
     "text": [
      "INFO:tensorflow:Assets written to: model_experiments\\model_4_Conv1D\\assets\n"
     ]
    },
    {
     "name": "stderr",
     "output_type": "stream",
     "text": [
      "INFO:tensorflow:Assets written to: model_experiments\\model_4_Conv1D\\assets\n"
     ]
    },
    {
     "name": "stdout",
     "output_type": "stream",
     "text": [
      "18/18 [==============================] - 2s 119ms/step - loss: 110.2695 - val_loss: 580.4684\n",
      "Epoch 77/100\n",
      "18/18 [==============================] - 0s 10ms/step - loss: 113.0057 - val_loss: 584.7972\n",
      "Epoch 78/100\n",
      "18/18 [==============================] - 0s 10ms/step - loss: 110.5828 - val_loss: 580.8672\n",
      "Epoch 79/100\n",
      "18/18 [==============================] - 0s 11ms/step - loss: 110.5196 - val_loss: 611.2825\n",
      "Epoch 80/100\n",
      "12/18 [===================>..........] - ETA: 0s - loss: 117.5051"
     ]
    },
    {
     "name": "stderr",
     "output_type": "stream",
     "text": [
      "WARNING:absl:Found untraced functions such as _jit_compiled_convolution_op while saving (showing 1 of 1). These functions will not be directly callable after loading.\n"
     ]
    },
    {
     "name": "stdout",
     "output_type": "stream",
     "text": [
      "INFO:tensorflow:Assets written to: model_experiments\\model_4_Conv1D\\assets\n"
     ]
    },
    {
     "name": "stderr",
     "output_type": "stream",
     "text": [
      "INFO:tensorflow:Assets written to: model_experiments\\model_4_Conv1D\\assets\n"
     ]
    },
    {
     "name": "stdout",
     "output_type": "stream",
     "text": [
      "18/18 [==============================] - 2s 115ms/step - loss: 111.3139 - val_loss: 577.8762\n",
      "Epoch 81/100\n",
      "18/18 [==============================] - 0s 11ms/step - loss: 108.2283 - val_loss: 578.8629\n",
      "Epoch 82/100\n",
      "18/18 [==============================] - 0s 12ms/step - loss: 115.6611 - val_loss: 580.7465\n",
      "Epoch 83/100\n",
      "18/18 [==============================] - 0s 10ms/step - loss: 110.6806 - val_loss: 638.7534\n",
      "Epoch 84/100\n",
      "18/18 [==============================] - 0s 10ms/step - loss: 110.8995 - val_loss: 586.8862\n",
      "Epoch 85/100\n",
      "18/18 [==============================] - 0s 11ms/step - loss: 108.7578 - val_loss: 601.0334\n",
      "Epoch 86/100\n",
      "18/18 [==============================] - 0s 10ms/step - loss: 109.7701 - val_loss: 628.7010\n",
      "Epoch 87/100\n",
      "11/18 [=================>............] - ETA: 0s - loss: 112.8955"
     ]
    },
    {
     "name": "stderr",
     "output_type": "stream",
     "text": [
      "WARNING:absl:Found untraced functions such as _jit_compiled_convolution_op while saving (showing 1 of 1). These functions will not be directly callable after loading.\n"
     ]
    },
    {
     "name": "stdout",
     "output_type": "stream",
     "text": [
      "INFO:tensorflow:Assets written to: model_experiments\\model_4_Conv1D\\assets\n"
     ]
    },
    {
     "name": "stderr",
     "output_type": "stream",
     "text": [
      "INFO:tensorflow:Assets written to: model_experiments\\model_4_Conv1D\\assets\n"
     ]
    },
    {
     "name": "stdout",
     "output_type": "stream",
     "text": [
      "18/18 [==============================] - 3s 154ms/step - loss: 109.7482 - val_loss: 574.3805\n",
      "Epoch 88/100\n",
      "18/18 [==============================] - 0s 11ms/step - loss: 109.5173 - val_loss: 604.2728\n",
      "Epoch 89/100\n",
      "18/18 [==============================] - 0s 10ms/step - loss: 112.3573 - val_loss: 575.4910\n",
      "Epoch 90/100\n",
      "18/18 [==============================] - 0s 11ms/step - loss: 108.1410 - val_loss: 649.8559\n",
      "Epoch 91/100\n",
      "18/18 [==============================] - 0s 11ms/step - loss: 113.4838 - val_loss: 599.1124\n",
      "Epoch 92/100\n",
      "18/18 [==============================] - 0s 11ms/step - loss: 109.9520 - val_loss: 577.3645\n",
      "Epoch 93/100\n",
      "18/18 [==============================] - 0s 11ms/step - loss: 112.7057 - val_loss: 614.4545\n",
      "Epoch 94/100\n",
      "18/18 [==============================] - 0s 10ms/step - loss: 109.6035 - val_loss: 575.4159\n",
      "Epoch 95/100\n",
      "10/18 [===============>..............] - ETA: 0s - loss: 104.1000"
     ]
    },
    {
     "name": "stderr",
     "output_type": "stream",
     "text": [
      "WARNING:absl:Found untraced functions such as _jit_compiled_convolution_op while saving (showing 1 of 1). These functions will not be directly callable after loading.\n"
     ]
    },
    {
     "name": "stdout",
     "output_type": "stream",
     "text": [
      "INFO:tensorflow:Assets written to: model_experiments\\model_4_Conv1D\\assets\n"
     ]
    },
    {
     "name": "stderr",
     "output_type": "stream",
     "text": [
      "INFO:tensorflow:Assets written to: model_experiments\\model_4_Conv1D\\assets\n"
     ]
    },
    {
     "name": "stdout",
     "output_type": "stream",
     "text": [
      "18/18 [==============================] - 2s 131ms/step - loss: 108.4432 - val_loss: 572.9658\n",
      "Epoch 96/100\n",
      "18/18 [==============================] - 0s 11ms/step - loss: 113.9171 - val_loss: 587.8245\n",
      "Epoch 97/100\n",
      "18/18 [==============================] - 0s 11ms/step - loss: 109.1693 - val_loss: 602.5687\n",
      "Epoch 98/100\n",
      "13/18 [====================>.........] - ETA: 0s - loss: 112.6980"
     ]
    },
    {
     "name": "stderr",
     "output_type": "stream",
     "text": [
      "WARNING:absl:Found untraced functions such as _jit_compiled_convolution_op while saving (showing 1 of 1). These functions will not be directly callable after loading.\n"
     ]
    },
    {
     "name": "stdout",
     "output_type": "stream",
     "text": [
      "INFO:tensorflow:Assets written to: model_experiments\\model_4_Conv1D\\assets\n"
     ]
    },
    {
     "name": "stderr",
     "output_type": "stream",
     "text": [
      "INFO:tensorflow:Assets written to: model_experiments\\model_4_Conv1D\\assets\n"
     ]
    },
    {
     "name": "stdout",
     "output_type": "stream",
     "text": [
      "18/18 [==============================] - 2s 128ms/step - loss: 110.3713 - val_loss: 572.7327\n",
      "Epoch 99/100\n",
      "18/18 [==============================] - 0s 12ms/step - loss: 110.4670 - val_loss: 575.2117\n",
      "Epoch 100/100\n",
      "18/18 [==============================] - 0s 11ms/step - loss: 115.2845 - val_loss: 615.1186\n"
     ]
    }
   ],
   "source": [
    "# Creating Conv1D model\n",
    "model_4 = tf.keras.Sequential([\n",
    "    layers.Lambda(lambda x: tf.expand_dims(x, axis=1)),\n",
    "    layers.Conv1D(filters=128, kernel_size=5, strides=1, padding=\"causal\", activation=\"relu\"),\n",
    "    layers.Dense(HORIZON)\n",
    "], name=\"model_4_Conv1D\")\n",
    "\n",
    "# Compiling the model\n",
    "model_4.compile(\n",
    "    loss=\"mae\",\n",
    "    optimizer=tf.keras.optimizers.Adam()\n",
    ")\n",
    "\n",
    "# Fitting the model\n",
    "history_4 = model_4.fit(\n",
    "    train_windows,\n",
    "    train_labels,\n",
    "    batch_size=128,\n",
    "    epochs=100,\n",
    "    validation_data=(test_windows, test_labels),\n",
    "    callbacks=[create_model_checkpoint(model_name=model_4.name)]\n",
    ")"
   ]
  },
  {
   "cell_type": "code",
   "execution_count": 75,
   "metadata": {},
   "outputs": [
    {
     "name": "stdout",
     "output_type": "stream",
     "text": [
      "Model: \"model_4_Conv1D\"\n",
      "_________________________________________________________________\n",
      " Layer (type)                Output Shape              Param #   \n",
      "=================================================================\n",
      " lambda_1 (Lambda)           (None, 1, 7)              0         \n",
      "                                                                 \n",
      " conv1d (Conv1D)             (None, 1, 128)            4608      \n",
      "                                                                 \n",
      " dense_6 (Dense)             (None, 1, 1)              129       \n",
      "                                                                 \n",
      "=================================================================\n",
      "Total params: 4,737\n",
      "Trainable params: 4,737\n",
      "Non-trainable params: 0\n",
      "_________________________________________________________________\n"
     ]
    }
   ],
   "source": [
    "# Checking the model structure\n",
    "model_4.summary()"
   ]
  },
  {
   "cell_type": "code",
   "execution_count": 76,
   "metadata": {},
   "outputs": [
    {
     "name": "stdout",
     "output_type": "stream",
     "text": [
      "18/18 [==============================] - 0s 4ms/step - loss: 615.1187\n"
     ]
    },
    {
     "data": {
      "text/plain": [
       "615.11865234375"
      ]
     },
     "execution_count": 76,
     "metadata": {},
     "output_type": "execute_result"
    }
   ],
   "source": [
    "# Evaluating the model\n",
    "model_4.evaluate(test_windows, test_labels)"
   ]
  },
  {
   "cell_type": "code",
   "execution_count": 77,
   "metadata": {},
   "outputs": [
    {
     "name": "stdout",
     "output_type": "stream",
     "text": [
      "18/18 [==============================] - 0s 4ms/step - loss: 572.7327\n"
     ]
    },
    {
     "data": {
      "text/plain": [
       "572.7327270507812"
      ]
     },
     "execution_count": 77,
     "metadata": {},
     "output_type": "execute_result"
    }
   ],
   "source": [
    "# Loading back the best performing model\n",
    "model_4 = tf.keras.models.load_model(\"./model_experiments/model_4_Conv1D/\")\n",
    "model_4.evaluate(test_windows, test_labels)"
   ]
  },
  {
   "cell_type": "code",
   "execution_count": 78,
   "metadata": {},
   "outputs": [
    {
     "name": "stdout",
     "output_type": "stream",
     "text": [
      "18/18 [==============================] - 0s 4ms/step\n"
     ]
    },
    {
     "data": {
      "text/plain": [
       "<tf.Tensor: shape=(10,), dtype=float32, numpy=\n",
       "array([8895.423 , 8796.867 , 9017.47  , 8789.132 , 8732.446 , 8751.425 ,\n",
       "       8685.227 , 8531.7295, 8469.914 , 8524.512 ], dtype=float32)>"
      ]
     },
     "execution_count": 78,
     "metadata": {},
     "output_type": "execute_result"
    }
   ],
   "source": [
    "# Making predictions\n",
    "model_4_preds = make_preds(model_4, test_windows)\n",
    "model_4_preds[:10]"
   ]
  },
  {
   "cell_type": "code",
   "execution_count": 79,
   "metadata": {},
   "outputs": [
    {
     "data": {
      "text/plain": [
       "{'mae': 572.73267,\n",
       " 'mse': 1188559.0,\n",
       " 'rmse': 1090.2106,\n",
       " 'mape': 2.55858,\n",
       " 'mase': 1.0061326}"
      ]
     },
     "execution_count": 79,
     "metadata": {},
     "output_type": "execute_result"
    }
   ],
   "source": [
    "# Evaluating predictions\n",
    "model_4_results = evaluate_preds(\n",
    "    y_true=tf.squeeze(test_labels),\n",
    "    y_pred=model_4_preds\n",
    ")\n",
    "model_4_results"
   ]
  },
  {
   "attachments": {},
   "cell_type": "markdown",
   "metadata": {},
   "source": [
    "### Model 5 - LSTM (RNN)"
   ]
  },
  {
   "cell_type": "code",
   "execution_count": 80,
   "metadata": {},
   "outputs": [
    {
     "name": "stdout",
     "output_type": "stream",
     "text": [
      "Epoch 1/100\n",
      "16/18 [=========================>....] - ETA: 0s - loss: 2421.9397INFO:tensorflow:Assets written to: model_experiments\\module_5_LSTM\\assets\n"
     ]
    },
    {
     "name": "stderr",
     "output_type": "stream",
     "text": [
      "INFO:tensorflow:Assets written to: model_experiments\\module_5_LSTM\\assets\n"
     ]
    },
    {
     "name": "stdout",
     "output_type": "stream",
     "text": [
      "18/18 [==============================] - 12s 455ms/step - loss: 2371.5613 - val_loss: 9216.8867\n",
      "Epoch 2/100\n",
      "15/18 [========================>.....] - ETA: 0s - loss: 835.1866INFO:tensorflow:Assets written to: model_experiments\\module_5_LSTM\\assets\n"
     ]
    },
    {
     "name": "stderr",
     "output_type": "stream",
     "text": [
      "INFO:tensorflow:Assets written to: model_experiments\\module_5_LSTM\\assets\n"
     ]
    },
    {
     "name": "stdout",
     "output_type": "stream",
     "text": [
      "18/18 [==============================] - 7s 387ms/step - loss: 746.4938 - val_loss: 1009.2003\n",
      "Epoch 3/100\n",
      "18/18 [==============================] - 0s 17ms/step - loss: 237.4997 - val_loss: 1190.8657\n",
      "Epoch 4/100\n",
      "16/18 [=========================>....] - ETA: 0s - loss: 188.1680INFO:tensorflow:Assets written to: model_experiments\\module_5_LSTM\\assets\n"
     ]
    },
    {
     "name": "stderr",
     "output_type": "stream",
     "text": [
      "INFO:tensorflow:Assets written to: model_experiments\\module_5_LSTM\\assets\n"
     ]
    },
    {
     "name": "stdout",
     "output_type": "stream",
     "text": [
      "18/18 [==============================] - 6s 348ms/step - loss: 187.9243 - val_loss: 997.5119\n",
      "Epoch 5/100\n",
      "16/18 [=========================>....] - ETA: 0s - loss: 179.8460INFO:tensorflow:Assets written to: model_experiments\\module_5_LSTM\\assets\n"
     ]
    },
    {
     "name": "stderr",
     "output_type": "stream",
     "text": [
      "INFO:tensorflow:Assets written to: model_experiments\\module_5_LSTM\\assets\n"
     ]
    },
    {
     "name": "stdout",
     "output_type": "stream",
     "text": [
      "18/18 [==============================] - 6s 355ms/step - loss: 177.0883 - val_loss: 982.0405\n",
      "Epoch 6/100\n",
      "18/18 [==============================] - 0s 17ms/step - loss: 174.4352 - val_loss: 1030.4166\n",
      "Epoch 7/100\n",
      "18/18 [==============================] - 0s 17ms/step - loss: 172.9799 - val_loss: 987.0887\n",
      "Epoch 8/100\n",
      "17/18 [===========================>..] - ETA: 0s - loss: 170.6993INFO:tensorflow:Assets written to: model_experiments\\module_5_LSTM\\assets\n"
     ]
    },
    {
     "name": "stderr",
     "output_type": "stream",
     "text": [
      "INFO:tensorflow:Assets written to: model_experiments\\module_5_LSTM\\assets\n"
     ]
    },
    {
     "name": "stdout",
     "output_type": "stream",
     "text": [
      "18/18 [==============================] - 7s 392ms/step - loss: 171.1247 - val_loss: 971.0656\n",
      "Epoch 9/100\n",
      "15/18 [========================>.....] - ETA: 0s - loss: 172.0422INFO:tensorflow:Assets written to: model_experiments\\module_5_LSTM\\assets\n"
     ]
    },
    {
     "name": "stderr",
     "output_type": "stream",
     "text": [
      "INFO:tensorflow:Assets written to: model_experiments\\module_5_LSTM\\assets\n"
     ]
    },
    {
     "name": "stdout",
     "output_type": "stream",
     "text": [
      "18/18 [==============================] - 6s 324ms/step - loss: 169.5391 - val_loss: 965.1445\n",
      "Epoch 10/100\n",
      "16/18 [=========================>....] - ETA: 0s - loss: 165.5718INFO:tensorflow:Assets written to: model_experiments\\module_5_LSTM\\assets\n"
     ]
    },
    {
     "name": "stderr",
     "output_type": "stream",
     "text": [
      "INFO:tensorflow:Assets written to: model_experiments\\module_5_LSTM\\assets\n"
     ]
    },
    {
     "name": "stdout",
     "output_type": "stream",
     "text": [
      "18/18 [==============================] - 5s 317ms/step - loss: 167.9422 - val_loss: 894.5148\n",
      "Epoch 11/100\n",
      "18/18 [==============================] - 0s 21ms/step - loss: 166.5443 - val_loss: 929.8476\n",
      "Epoch 12/100\n",
      "18/18 [==============================] - 0s 17ms/step - loss: 166.2980 - val_loss: 929.7093\n",
      "Epoch 13/100\n",
      "18/18 [==============================] - 0s 23ms/step - loss: 163.7087 - val_loss: 922.4194\n",
      "Epoch 14/100\n",
      "18/18 [==============================] - 0s 23ms/step - loss: 162.4912 - val_loss: 957.8100\n",
      "Epoch 15/100\n",
      "18/18 [==============================] - 0s 22ms/step - loss: 161.9158 - val_loss: 903.9231\n",
      "Epoch 16/100\n",
      "17/18 [===========================>..] - ETA: 0s - loss: 160.4202INFO:tensorflow:Assets written to: model_experiments\\module_5_LSTM\\assets\n"
     ]
    },
    {
     "name": "stderr",
     "output_type": "stream",
     "text": [
      "INFO:tensorflow:Assets written to: model_experiments\\module_5_LSTM\\assets\n"
     ]
    },
    {
     "name": "stdout",
     "output_type": "stream",
     "text": [
      "18/18 [==============================] - 6s 329ms/step - loss: 158.8282 - val_loss: 884.3442\n",
      "Epoch 17/100\n",
      "18/18 [==============================] - 0s 21ms/step - loss: 156.8546 - val_loss: 963.1850\n",
      "Epoch 18/100\n",
      "18/18 [==============================] - 0s 19ms/step - loss: 157.3051 - val_loss: 965.8174\n",
      "Epoch 19/100\n",
      "18/18 [==============================] - 0s 19ms/step - loss: 154.4878 - val_loss: 912.8769\n",
      "Epoch 20/100\n",
      "15/18 [========================>.....] - ETA: 0s - loss: 153.1074INFO:tensorflow:Assets written to: model_experiments\\module_5_LSTM\\assets\n"
     ]
    },
    {
     "name": "stderr",
     "output_type": "stream",
     "text": [
      "INFO:tensorflow:Assets written to: model_experiments\\module_5_LSTM\\assets\n"
     ]
    },
    {
     "name": "stdout",
     "output_type": "stream",
     "text": [
      "18/18 [==============================] - 6s 335ms/step - loss: 152.0521 - val_loss: 845.4094\n",
      "Epoch 21/100\n",
      "18/18 [==============================] - 0s 24ms/step - loss: 150.0498 - val_loss: 845.6110\n",
      "Epoch 22/100\n",
      "18/18 [==============================] - 0s 23ms/step - loss: 147.8645 - val_loss: 851.9251\n",
      "Epoch 23/100\n",
      "18/18 [==============================] - 0s 21ms/step - loss: 146.1749 - val_loss: 854.5245\n",
      "Epoch 24/100\n",
      "16/18 [=========================>....] - ETA: 0s - loss: 144.3774INFO:tensorflow:Assets written to: model_experiments\\module_5_LSTM\\assets\n"
     ]
    },
    {
     "name": "stderr",
     "output_type": "stream",
     "text": [
      "INFO:tensorflow:Assets written to: model_experiments\\module_5_LSTM\\assets\n"
     ]
    },
    {
     "name": "stdout",
     "output_type": "stream",
     "text": [
      "18/18 [==============================] - 5s 307ms/step - loss: 144.3983 - val_loss: 835.0398\n",
      "Epoch 25/100\n",
      "16/18 [=========================>....] - ETA: 0s - loss: 145.6910INFO:tensorflow:Assets written to: model_experiments\\module_5_LSTM\\assets\n"
     ]
    },
    {
     "name": "stderr",
     "output_type": "stream",
     "text": [
      "INFO:tensorflow:Assets written to: model_experiments\\module_5_LSTM\\assets\n"
     ]
    },
    {
     "name": "stdout",
     "output_type": "stream",
     "text": [
      "18/18 [==============================] - 5s 307ms/step - loss: 142.4411 - val_loss: 818.3401\n",
      "Epoch 26/100\n",
      "17/18 [===========================>..] - ETA: 0s - loss: 140.3958INFO:tensorflow:Assets written to: model_experiments\\module_5_LSTM\\assets\n"
     ]
    },
    {
     "name": "stderr",
     "output_type": "stream",
     "text": [
      "INFO:tensorflow:Assets written to: model_experiments\\module_5_LSTM\\assets\n"
     ]
    },
    {
     "name": "stdout",
     "output_type": "stream",
     "text": [
      "18/18 [==============================] - 5s 313ms/step - loss: 140.7531 - val_loss: 791.4568\n",
      "Epoch 27/100\n",
      "15/18 [========================>.....] - ETA: 0s - loss: 139.4453INFO:tensorflow:Assets written to: model_experiments\\module_5_LSTM\\assets\n"
     ]
    },
    {
     "name": "stderr",
     "output_type": "stream",
     "text": [
      "INFO:tensorflow:Assets written to: model_experiments\\module_5_LSTM\\assets\n"
     ]
    },
    {
     "name": "stdout",
     "output_type": "stream",
     "text": [
      "18/18 [==============================] - 6s 378ms/step - loss: 139.2030 - val_loss: 781.8694\n",
      "Epoch 28/100\n",
      "17/18 [===========================>..] - ETA: 0s - loss: 137.6758INFO:tensorflow:Assets written to: model_experiments\\module_5_LSTM\\assets\n"
     ]
    },
    {
     "name": "stderr",
     "output_type": "stream",
     "text": [
      "INFO:tensorflow:Assets written to: model_experiments\\module_5_LSTM\\assets\n"
     ]
    },
    {
     "name": "stdout",
     "output_type": "stream",
     "text": [
      "18/18 [==============================] - 6s 358ms/step - loss: 137.7106 - val_loss: 762.8488\n",
      "Epoch 29/100\n",
      "18/18 [==============================] - 0s 26ms/step - loss: 137.2385 - val_loss: 767.5295\n",
      "Epoch 30/100\n",
      "18/18 [==============================] - 0s 27ms/step - loss: 138.7951 - val_loss: 800.8184\n",
      "Epoch 31/100\n",
      "16/18 [=========================>....] - ETA: 0s - loss: 135.0812INFO:tensorflow:Assets written to: model_experiments\\module_5_LSTM\\assets\n"
     ]
    },
    {
     "name": "stderr",
     "output_type": "stream",
     "text": [
      "INFO:tensorflow:Assets written to: model_experiments\\module_5_LSTM\\assets\n"
     ]
    },
    {
     "name": "stdout",
     "output_type": "stream",
     "text": [
      "18/18 [==============================] - 6s 328ms/step - loss: 135.3250 - val_loss: 735.8617\n",
      "Epoch 32/100\n",
      "18/18 [==============================] - 0s 26ms/step - loss: 131.4523 - val_loss: 750.4908\n",
      "Epoch 33/100\n",
      "18/18 [==============================] - 0s 24ms/step - loss: 131.4811 - val_loss: 756.0487\n",
      "Epoch 34/100\n",
      "15/18 [========================>.....] - ETA: 0s - loss: 130.8351INFO:tensorflow:Assets written to: model_experiments\\module_5_LSTM\\assets\n"
     ]
    },
    {
     "name": "stderr",
     "output_type": "stream",
     "text": [
      "INFO:tensorflow:Assets written to: model_experiments\\module_5_LSTM\\assets\n"
     ]
    },
    {
     "name": "stdout",
     "output_type": "stream",
     "text": [
      "18/18 [==============================] - 6s 330ms/step - loss: 131.8369 - val_loss: 718.2570\n",
      "Epoch 35/100\n",
      "18/18 [==============================] - ETA: 0s - loss: 128.6525INFO:tensorflow:Assets written to: model_experiments\\module_5_LSTM\\assets\n"
     ]
    },
    {
     "name": "stderr",
     "output_type": "stream",
     "text": [
      "INFO:tensorflow:Assets written to: model_experiments\\module_5_LSTM\\assets\n"
     ]
    },
    {
     "name": "stdout",
     "output_type": "stream",
     "text": [
      "18/18 [==============================] - 6s 326ms/step - loss: 128.6525 - val_loss: 714.2510\n",
      "Epoch 36/100\n",
      "17/18 [===========================>..] - ETA: 0s - loss: 130.0329INFO:tensorflow:Assets written to: model_experiments\\module_5_LSTM\\assets\n"
     ]
    },
    {
     "name": "stderr",
     "output_type": "stream",
     "text": [
      "INFO:tensorflow:Assets written to: model_experiments\\module_5_LSTM\\assets\n"
     ]
    },
    {
     "name": "stdout",
     "output_type": "stream",
     "text": [
      "18/18 [==============================] - 7s 430ms/step - loss: 130.6542 - val_loss: 703.0602\n",
      "Epoch 37/100\n",
      "18/18 [==============================] - 0s 22ms/step - loss: 125.4134 - val_loss: 708.0537\n",
      "Epoch 38/100\n",
      "15/18 [========================>.....] - ETA: 0s - loss: 125.5434INFO:tensorflow:Assets written to: model_experiments\\module_5_LSTM\\assets\n"
     ]
    },
    {
     "name": "stderr",
     "output_type": "stream",
     "text": [
      "INFO:tensorflow:Assets written to: model_experiments\\module_5_LSTM\\assets\n"
     ]
    },
    {
     "name": "stdout",
     "output_type": "stream",
     "text": [
      "18/18 [==============================] - 6s 349ms/step - loss: 124.2733 - val_loss: 686.6796\n",
      "Epoch 39/100\n",
      "18/18 [==============================] - 0s 27ms/step - loss: 124.4825 - val_loss: 705.8343\n",
      "Epoch 40/100\n",
      "18/18 [==============================] - 0s 23ms/step - loss: 127.3972 - val_loss: 709.2642\n",
      "Epoch 41/100\n",
      "17/18 [===========================>..] - ETA: 0s - loss: 124.2163INFO:tensorflow:Assets written to: model_experiments\\module_5_LSTM\\assets\n"
     ]
    },
    {
     "name": "stderr",
     "output_type": "stream",
     "text": [
      "INFO:tensorflow:Assets written to: model_experiments\\module_5_LSTM\\assets\n"
     ]
    },
    {
     "name": "stdout",
     "output_type": "stream",
     "text": [
      "18/18 [==============================] - 6s 355ms/step - loss: 123.2764 - val_loss: 669.2697\n",
      "Epoch 42/100\n",
      "18/18 [==============================] - ETA: 0s - loss: 121.7533INFO:tensorflow:Assets written to: model_experiments\\module_5_LSTM\\assets\n"
     ]
    },
    {
     "name": "stderr",
     "output_type": "stream",
     "text": [
      "INFO:tensorflow:Assets written to: model_experiments\\module_5_LSTM\\assets\n"
     ]
    },
    {
     "name": "stdout",
     "output_type": "stream",
     "text": [
      "18/18 [==============================] - 6s 351ms/step - loss: 121.7533 - val_loss: 665.0228\n",
      "Epoch 43/100\n",
      "16/18 [=========================>....] - ETA: 0s - loss: 122.9939INFO:tensorflow:Assets written to: model_experiments\\module_5_LSTM\\assets\n"
     ]
    },
    {
     "name": "stderr",
     "output_type": "stream",
     "text": [
      "INFO:tensorflow:Assets written to: model_experiments\\module_5_LSTM\\assets\n"
     ]
    },
    {
     "name": "stdout",
     "output_type": "stream",
     "text": [
      "18/18 [==============================] - 6s 366ms/step - loss: 121.1910 - val_loss: 664.1688\n",
      "Epoch 44/100\n",
      "18/18 [==============================] - ETA: 0s - loss: 121.4160INFO:tensorflow:Assets written to: model_experiments\\module_5_LSTM\\assets\n"
     ]
    },
    {
     "name": "stderr",
     "output_type": "stream",
     "text": [
      "INFO:tensorflow:Assets written to: model_experiments\\module_5_LSTM\\assets\n"
     ]
    },
    {
     "name": "stdout",
     "output_type": "stream",
     "text": [
      "18/18 [==============================] - 6s 334ms/step - loss: 121.4160 - val_loss: 662.6330\n",
      "Epoch 45/100\n",
      "18/18 [==============================] - ETA: 0s - loss: 118.6749INFO:tensorflow:Assets written to: model_experiments\\module_5_LSTM\\assets\n"
     ]
    },
    {
     "name": "stderr",
     "output_type": "stream",
     "text": [
      "INFO:tensorflow:Assets written to: model_experiments\\module_5_LSTM\\assets\n"
     ]
    },
    {
     "name": "stdout",
     "output_type": "stream",
     "text": [
      "18/18 [==============================] - 6s 326ms/step - loss: 118.6749 - val_loss: 652.9092\n",
      "Epoch 46/100\n",
      "16/18 [=========================>....] - ETA: 0s - loss: 119.3827INFO:tensorflow:Assets written to: model_experiments\\module_5_LSTM\\assets\n"
     ]
    },
    {
     "name": "stderr",
     "output_type": "stream",
     "text": [
      "INFO:tensorflow:Assets written to: model_experiments\\module_5_LSTM\\assets\n"
     ]
    },
    {
     "name": "stdout",
     "output_type": "stream",
     "text": [
      "18/18 [==============================] - 6s 360ms/step - loss: 118.5755 - val_loss: 646.9376\n",
      "Epoch 47/100\n",
      "17/18 [===========================>..] - ETA: 0s - loss: 119.4717INFO:tensorflow:Assets written to: model_experiments\\module_5_LSTM\\assets\n"
     ]
    },
    {
     "name": "stderr",
     "output_type": "stream",
     "text": [
      "INFO:tensorflow:Assets written to: model_experiments\\module_5_LSTM\\assets\n"
     ]
    },
    {
     "name": "stdout",
     "output_type": "stream",
     "text": [
      "18/18 [==============================] - 6s 354ms/step - loss: 119.3426 - val_loss: 646.7082\n",
      "Epoch 48/100\n",
      "16/18 [=========================>....] - ETA: 0s - loss: 117.4376INFO:tensorflow:Assets written to: model_experiments\\module_5_LSTM\\assets\n"
     ]
    },
    {
     "name": "stderr",
     "output_type": "stream",
     "text": [
      "INFO:tensorflow:Assets written to: model_experiments\\module_5_LSTM\\assets\n"
     ]
    },
    {
     "name": "stdout",
     "output_type": "stream",
     "text": [
      "18/18 [==============================] - 6s 359ms/step - loss: 118.5992 - val_loss: 641.4430\n",
      "Epoch 49/100\n",
      "18/18 [==============================] - 1s 33ms/step - loss: 117.2549 - val_loss: 653.7988\n",
      "Epoch 50/100\n",
      "18/18 [==============================] - 1s 34ms/step - loss: 119.6667 - val_loss: 668.6154\n",
      "Epoch 51/100\n",
      "18/18 [==============================] - 1s 30ms/step - loss: 118.0162 - val_loss: 660.1438\n",
      "Epoch 52/100\n",
      "16/18 [=========================>....] - ETA: 0s - loss: 118.2109INFO:tensorflow:Assets written to: model_experiments\\module_5_LSTM\\assets\n"
     ]
    },
    {
     "name": "stderr",
     "output_type": "stream",
     "text": [
      "INFO:tensorflow:Assets written to: model_experiments\\module_5_LSTM\\assets\n"
     ]
    },
    {
     "name": "stdout",
     "output_type": "stream",
     "text": [
      "18/18 [==============================] - 6s 329ms/step - loss: 115.8316 - val_loss: 629.2118\n",
      "Epoch 53/100\n",
      "14/18 [======================>.......] - ETA: 0s - loss: 116.2931INFO:tensorflow:Assets written to: model_experiments\\module_5_LSTM\\assets\n"
     ]
    },
    {
     "name": "stderr",
     "output_type": "stream",
     "text": [
      "INFO:tensorflow:Assets written to: model_experiments\\module_5_LSTM\\assets\n"
     ]
    },
    {
     "name": "stdout",
     "output_type": "stream",
     "text": [
      "18/18 [==============================] - 3s 196ms/step - loss: 115.9388 - val_loss: 625.1064\n",
      "Epoch 54/100\n",
      "18/18 [==============================] - 0s 14ms/step - loss: 116.2689 - val_loss: 633.8309\n",
      "Epoch 55/100\n",
      "14/18 [======================>.......] - ETA: 0s - loss: 119.4022INFO:tensorflow:Assets written to: model_experiments\\module_5_LSTM\\assets\n"
     ]
    },
    {
     "name": "stderr",
     "output_type": "stream",
     "text": [
      "INFO:tensorflow:Assets written to: model_experiments\\module_5_LSTM\\assets\n"
     ]
    },
    {
     "name": "stdout",
     "output_type": "stream",
     "text": [
      "18/18 [==============================] - 4s 259ms/step - loss: 115.1192 - val_loss: 622.0493\n",
      "Epoch 56/100\n",
      "18/18 [==============================] - 0s 21ms/step - loss: 116.0895 - val_loss: 625.2596\n",
      "Epoch 57/100\n",
      "18/18 [==============================] - 0s 25ms/step - loss: 120.8967 - val_loss: 644.3082\n",
      "Epoch 58/100\n",
      "15/18 [========================>.....] - ETA: 0s - loss: 115.4650INFO:tensorflow:Assets written to: model_experiments\\module_5_LSTM\\assets\n"
     ]
    },
    {
     "name": "stderr",
     "output_type": "stream",
     "text": [
      "INFO:tensorflow:Assets written to: model_experiments\\module_5_LSTM\\assets\n"
     ]
    },
    {
     "name": "stdout",
     "output_type": "stream",
     "text": [
      "18/18 [==============================] - 6s 375ms/step - loss: 114.6459 - val_loss: 615.5740\n",
      "Epoch 59/100\n",
      "18/18 [==============================] - 0s 27ms/step - loss: 114.2189 - val_loss: 619.6680\n",
      "Epoch 60/100\n",
      "16/18 [=========================>....] - ETA: 0s - loss: 114.6947INFO:tensorflow:Assets written to: model_experiments\\module_5_LSTM\\assets\n"
     ]
    },
    {
     "name": "stderr",
     "output_type": "stream",
     "text": [
      "INFO:tensorflow:Assets written to: model_experiments\\module_5_LSTM\\assets\n"
     ]
    },
    {
     "name": "stdout",
     "output_type": "stream",
     "text": [
      "18/18 [==============================] - 6s 381ms/step - loss: 114.0363 - val_loss: 611.9445\n",
      "Epoch 61/100\n",
      "18/18 [==============================] - 0s 28ms/step - loss: 113.2055 - val_loss: 627.0546\n",
      "Epoch 62/100\n",
      "18/18 [==============================] - 1s 34ms/step - loss: 115.4735 - val_loss: 638.9651\n",
      "Epoch 63/100\n",
      "18/18 [==============================] - 1s 34ms/step - loss: 117.6406 - val_loss: 616.1917\n",
      "Epoch 64/100\n",
      "18/18 [==============================] - 1s 30ms/step - loss: 112.5023 - val_loss: 629.2805\n",
      "Epoch 65/100\n",
      "16/18 [=========================>....] - ETA: 0s - loss: 113.5855INFO:tensorflow:Assets written to: model_experiments\\module_5_LSTM\\assets\n"
     ]
    },
    {
     "name": "stderr",
     "output_type": "stream",
     "text": [
      "INFO:tensorflow:Assets written to: model_experiments\\module_5_LSTM\\assets\n"
     ]
    },
    {
     "name": "stdout",
     "output_type": "stream",
     "text": [
      "18/18 [==============================] - 8s 456ms/step - loss: 114.0604 - val_loss: 607.2084\n",
      "Epoch 66/100\n",
      "18/18 [==============================] - 0s 26ms/step - loss: 111.9404 - val_loss: 615.1084\n",
      "Epoch 67/100\n",
      "16/18 [=========================>....] - ETA: 0s - loss: 110.2749INFO:tensorflow:Assets written to: model_experiments\\module_5_LSTM\\assets\n"
     ]
    },
    {
     "name": "stderr",
     "output_type": "stream",
     "text": [
      "INFO:tensorflow:Assets written to: model_experiments\\module_5_LSTM\\assets\n"
     ]
    },
    {
     "name": "stdout",
     "output_type": "stream",
     "text": [
      "18/18 [==============================] - 6s 341ms/step - loss: 113.0697 - val_loss: 601.4708\n",
      "Epoch 68/100\n",
      "18/18 [==============================] - 1s 29ms/step - loss: 114.1177 - val_loss: 631.9710\n",
      "Epoch 69/100\n",
      "18/18 [==============================] - 0s 25ms/step - loss: 119.3491 - val_loss: 604.4426\n",
      "Epoch 70/100\n",
      "16/18 [=========================>....] - ETA: 0s - loss: 112.9036INFO:tensorflow:Assets written to: model_experiments\\module_5_LSTM\\assets\n"
     ]
    },
    {
     "name": "stderr",
     "output_type": "stream",
     "text": [
      "INFO:tensorflow:Assets written to: model_experiments\\module_5_LSTM\\assets\n"
     ]
    },
    {
     "name": "stdout",
     "output_type": "stream",
     "text": [
      "18/18 [==============================] - 6s 330ms/step - loss: 112.5052 - val_loss: 597.9636\n",
      "Epoch 71/100\n",
      "18/18 [==============================] - 1s 29ms/step - loss: 111.7515 - val_loss: 617.0255\n",
      "Epoch 72/100\n",
      "16/18 [=========================>....] - ETA: 0s - loss: 111.7148INFO:tensorflow:Assets written to: model_experiments\\module_5_LSTM\\assets\n"
     ]
    },
    {
     "name": "stderr",
     "output_type": "stream",
     "text": [
      "INFO:tensorflow:Assets written to: model_experiments\\module_5_LSTM\\assets\n"
     ]
    },
    {
     "name": "stdout",
     "output_type": "stream",
     "text": [
      "18/18 [==============================] - 6s 322ms/step - loss: 113.4119 - val_loss: 596.2440\n",
      "Epoch 73/100\n",
      "16/18 [=========================>....] - ETA: 0s - loss: 111.3228INFO:tensorflow:Assets written to: model_experiments\\module_5_LSTM\\assets\n"
     ]
    },
    {
     "name": "stderr",
     "output_type": "stream",
     "text": [
      "INFO:tensorflow:Assets written to: model_experiments\\module_5_LSTM\\assets\n"
     ]
    },
    {
     "name": "stdout",
     "output_type": "stream",
     "text": [
      "18/18 [==============================] - 7s 404ms/step - loss: 110.8442 - val_loss: 595.2715\n",
      "Epoch 74/100\n",
      "18/18 [==============================] - 0s 27ms/step - loss: 112.2077 - val_loss: 612.0499\n",
      "Epoch 75/100\n",
      "18/18 [==============================] - 0s 27ms/step - loss: 112.2278 - val_loss: 653.8760\n",
      "Epoch 76/100\n",
      "18/18 [==============================] - 0s 27ms/step - loss: 113.0214 - val_loss: 615.6949\n",
      "Epoch 77/100\n",
      "18/18 [==============================] - 0s 27ms/step - loss: 113.4618 - val_loss: 653.2994\n",
      "Epoch 78/100\n",
      "18/18 [==============================] - 0s 28ms/step - loss: 115.0931 - val_loss: 635.4712\n",
      "Epoch 79/100\n",
      "16/18 [=========================>....] - ETA: 0s - loss: 114.6827INFO:tensorflow:Assets written to: model_experiments\\module_5_LSTM\\assets\n"
     ]
    },
    {
     "name": "stderr",
     "output_type": "stream",
     "text": [
      "INFO:tensorflow:Assets written to: model_experiments\\module_5_LSTM\\assets\n"
     ]
    },
    {
     "name": "stdout",
     "output_type": "stream",
     "text": [
      "18/18 [==============================] - 5s 321ms/step - loss: 112.8545 - val_loss: 595.0032\n",
      "Epoch 80/100\n",
      "18/18 [==============================] - 1s 28ms/step - loss: 110.2676 - val_loss: 603.1168\n",
      "Epoch 81/100\n",
      "18/18 [==============================] - 0s 27ms/step - loss: 111.5054 - val_loss: 612.4307\n",
      "Epoch 82/100\n",
      "16/18 [=========================>....] - ETA: 0s - loss: 112.1634INFO:tensorflow:Assets written to: model_experiments\\module_5_LSTM\\assets\n"
     ]
    },
    {
     "name": "stderr",
     "output_type": "stream",
     "text": [
      "INFO:tensorflow:Assets written to: model_experiments\\module_5_LSTM\\assets\n"
     ]
    },
    {
     "name": "stdout",
     "output_type": "stream",
     "text": [
      "18/18 [==============================] - 6s 324ms/step - loss: 112.9317 - val_loss: 589.8746\n",
      "Epoch 83/100\n",
      "18/18 [==============================] - 0s 28ms/step - loss: 111.9908 - val_loss: 603.3369\n",
      "Epoch 84/100\n",
      "18/18 [==============================] - 1s 28ms/step - loss: 111.2260 - val_loss: 597.6495\n",
      "Epoch 85/100\n",
      "18/18 [==============================] - 1s 28ms/step - loss: 110.9001 - val_loss: 622.4871\n",
      "Epoch 86/100\n",
      "18/18 [==============================] - 0s 26ms/step - loss: 113.3332 - val_loss: 609.1788\n",
      "Epoch 87/100\n",
      "18/18 [==============================] - ETA: 0s - loss: 112.8216INFO:tensorflow:Assets written to: model_experiments\\module_5_LSTM\\assets\n"
     ]
    },
    {
     "name": "stderr",
     "output_type": "stream",
     "text": [
      "INFO:tensorflow:Assets written to: model_experiments\\module_5_LSTM\\assets\n"
     ]
    },
    {
     "name": "stdout",
     "output_type": "stream",
     "text": [
      "18/18 [==============================] - 5s 321ms/step - loss: 112.8216 - val_loss: 586.4045\n",
      "Epoch 88/100\n",
      "18/18 [==============================] - 1s 29ms/step - loss: 109.7044 - val_loss: 586.7393\n",
      "Epoch 89/100\n",
      "18/18 [==============================] - 1s 28ms/step - loss: 109.4648 - val_loss: 618.3392\n",
      "Epoch 90/100\n",
      "18/18 [==============================] - 0s 26ms/step - loss: 114.5082 - val_loss: 649.4104\n",
      "Epoch 91/100\n",
      "18/18 [==============================] - 0s 27ms/step - loss: 113.6378 - val_loss: 623.0095\n",
      "Epoch 92/100\n",
      "18/18 [==============================] - 0s 27ms/step - loss: 110.7752 - val_loss: 589.6387\n",
      "Epoch 93/100\n",
      "18/18 [==============================] - 1s 28ms/step - loss: 110.5001 - val_loss: 586.6736\n",
      "Epoch 94/100\n",
      "18/18 [==============================] - ETA: 0s - loss: 109.3681INFO:tensorflow:Assets written to: model_experiments\\module_5_LSTM\\assets\n"
     ]
    },
    {
     "name": "stderr",
     "output_type": "stream",
     "text": [
      "INFO:tensorflow:Assets written to: model_experiments\\module_5_LSTM\\assets\n"
     ]
    },
    {
     "name": "stdout",
     "output_type": "stream",
     "text": [
      "18/18 [==============================] - 6s 331ms/step - loss: 109.3681 - val_loss: 583.6395\n",
      "Epoch 95/100\n",
      "18/18 [==============================] - 0s 26ms/step - loss: 109.0304 - val_loss: 590.0118\n",
      "Epoch 96/100\n",
      "18/18 [==============================] - 0s 25ms/step - loss: 109.9173 - val_loss: 587.3716\n",
      "Epoch 97/100\n",
      "18/18 [==============================] - 0s 27ms/step - loss: 109.8459 - val_loss: 609.8384\n",
      "Epoch 98/100\n",
      "16/18 [=========================>....] - ETA: 0s - loss: 110.8334INFO:tensorflow:Assets written to: model_experiments\\module_5_LSTM\\assets\n"
     ]
    },
    {
     "name": "stderr",
     "output_type": "stream",
     "text": [
      "INFO:tensorflow:Assets written to: model_experiments\\module_5_LSTM\\assets\n"
     ]
    },
    {
     "name": "stdout",
     "output_type": "stream",
     "text": [
      "18/18 [==============================] - 6s 352ms/step - loss: 109.3810 - val_loss: 583.0190\n",
      "Epoch 99/100\n",
      "16/18 [=========================>....] - ETA: 0s - loss: 108.1095INFO:tensorflow:Assets written to: model_experiments\\module_5_LSTM\\assets\n"
     ]
    },
    {
     "name": "stderr",
     "output_type": "stream",
     "text": [
      "INFO:tensorflow:Assets written to: model_experiments\\module_5_LSTM\\assets\n"
     ]
    },
    {
     "name": "stdout",
     "output_type": "stream",
     "text": [
      "18/18 [==============================] - 6s 325ms/step - loss: 109.1642 - val_loss: 581.3145\n",
      "Epoch 100/100\n",
      "18/18 [==============================] - 1s 28ms/step - loss: 115.3428 - val_loss: 623.2601\n"
     ]
    }
   ],
   "source": [
    "# Building LSTM model with the Functional API\n",
    "inputs = layers.Input(shape=(WINDOW_SIZE))\n",
    "x = layers.Lambda(lambda x: tf.expand_dims(x, axis=1))(inputs)\n",
    "# x = layers.LSTM(128, return_sequences=True)(x)\n",
    "x = layers.LSTM(128, activation=\"relu\")(x)\n",
    "# x = layers.Dense(32, activation=\"relu\")(x)\n",
    "outputs = layers.Dense(HORIZON)(x)\n",
    "model_5 = tf.keras.Model(inputs=inputs, outputs=outputs, name=\"module_5_LSTM\")\n",
    "\n",
    "# Compiling the model\n",
    "model_5.compile(\n",
    "    loss=\"mae\",\n",
    "    optimizer=tf.keras.optimizers.Adam()\n",
    ")\n",
    "\n",
    "# Fitting the model\n",
    "history_5 = model_5.fit(\n",
    "    train_windows,\n",
    "    train_labels,\n",
    "    epochs=100,\n",
    "    verbose=1,\n",
    "    batch_size=128,\n",
    "    validation_data=(test_windows, test_labels),\n",
    "    callbacks=[create_model_checkpoint(model_name=model_5.name)]\n",
    ")"
   ]
  },
  {
   "cell_type": "code",
   "execution_count": 81,
   "metadata": {},
   "outputs": [
    {
     "name": "stdout",
     "output_type": "stream",
     "text": [
      "18/18 [==============================] - 1s 7ms/step - loss: 581.3145\n"
     ]
    },
    {
     "data": {
      "text/plain": [
       "581.3145141601562"
      ]
     },
     "execution_count": 81,
     "metadata": {},
     "output_type": "execute_result"
    }
   ],
   "source": [
    "# Loading the best version\n",
    "model_5 = tf.keras.models.load_model(\"model_experiments/module_5_LSTM/\")\n",
    "model_5.evaluate(test_windows, test_labels)"
   ]
  },
  {
   "cell_type": "code",
   "execution_count": 82,
   "metadata": {},
   "outputs": [
    {
     "name": "stdout",
     "output_type": "stream",
     "text": [
      "18/18 [==============================] - 1s 6ms/step\n"
     ]
    },
    {
     "data": {
      "text/plain": [
       "<tf.Tensor: shape=(556,), dtype=float32, numpy=\n",
       "array([ 8952.35  ,  8815.697 ,  8999.064 ,  8829.317 ,  8756.238 ,\n",
       "        8746.996 ,  8732.072 ,  8550.15  ,  8490.318 ,  8534.546 ,\n",
       "        8312.19  ,  8155.385 ,  8081.8535,  7756.4277,  7347.551 ,\n",
       "        7259.244 ,  7095.9844,  7144.417 ,  7124.474 ,  7444.5967,\n",
       "        7434.205 ,  7695.5317,  7619.839 ,  7501.8213,  7363.1553,\n",
       "        7352.7256,  7254.673 ,  7351.204 ,  7491.8535,  7563.213 ,\n",
       "        7574.8735,  7433.6904,  7304.5605,  7222.015 ,  7207.5312,\n",
       "        7228.234 ,  7137.7417,  7125.7295,  6957.5273,  6688.833 ,\n",
       "        7188.293 ,  7227.5923,  7204.4707,  7234.24  ,  7330.88  ,\n",
       "        7224.3877,  7230.4756,  7250.123 ,  7220.718 ,  7232.1733,\n",
       "        7315.0547,  7394.815 ,  7318.0703,  7232.6226,  7199.4253,\n",
       "        7040.05  ,  7211.5415,  7327.139 ,  7389.6943,  7632.1504,\n",
       "        8004.829 ,  8134.265 ,  7941.0415,  8074.7524,  8131.144 ,\n",
       "        8187.094 ,  8138.855 ,  8615.807 ,  8858.505 ,  8831.517 ,\n",
       "        8915.657 ,  9010.715 ,  8792.755 ,  8672.697 ,  8714.01  ,\n",
       "        8688.869 ,  8461.028 ,  8446.174 ,  8389.756 ,  8527.959 ,\n",
       "        8798.005 ,  9110.367 ,  9326.314 ,  9558.461 ,  9518.779 ,\n",
       "        9451.875 ,  9426.763 ,  9352.81  ,  9228.61  ,  9519.598 ,\n",
       "        9696.33  ,  9822.445 ,  9928.656 , 10156.707 ,  9986.383 ,\n",
       "       10188.988 , 10365.758 , 10340.87  , 10360.277 , 10097.415 ,\n",
       "        9950.395 ,  9695.4795, 10066.307 ,  9823.619 ,  9698.09  ,\n",
       "        9644.104 ,  9741.135 ,  9869.711 ,  9733.781 ,  9508.766 ,\n",
       "        8966.322 ,  8804.064 ,  8743.42  ,  8666.49  ,  8543.615 ,\n",
       "        8820.405 ,  8851.5625,  8810.397 ,  9006.604 ,  9171.364 ,\n",
       "        9036.559 ,  8402.49  ,  7984.1753,  7912.1123,  7932.9556,\n",
       "        6514.3237,  5910.6826,  5509.998 ,  5461.173 ,  5030.282 ,\n",
       "        5255.433 ,  5351.463 ,  6090.3857,  6219.253 ,  6306.8125,\n",
       "        6004.29  ,  6389.6953,  6720.9844,  6789.9404,  6751.232 ,\n",
       "        6754.291 ,  6419.011 ,  6022.8633,  6312.184 ,  6450.494 ,\n",
       "        6533.658 ,  6758.0396,  6866.4707,  6897.314 ,  6850.1367,\n",
       "        7206.7026,  7235.3184,  7378.789 ,  7361.1475,  7064.147 ,\n",
       "        6896.7056,  6998.0156,  6951.824 ,  6884.5957,  6765.89  ,\n",
       "        7077.938 ,  7102.1094,  7269.383 ,  7224.8545,  7014.796 ,\n",
       "        6913.8906,  7072.105 ,  7465.8936,  7533.95  ,  7587.3086,\n",
       "        7651.609 ,  7808.0854,  7810.1143,  8541.444 ,  8821.052 ,\n",
       "        8953.297 ,  8987.298 ,  9041.615 ,  8963.309 ,  8988.608 ,\n",
       "        9306.605 ,  9799.931 ,  9981.775 ,  9787.863 ,  9087.008 ,\n",
       "        8709.758 ,  8735.012 ,  9170.861 ,  9615.324 ,  9510.799 ,\n",
       "        9485.334 ,  9672.412 ,  9797.481 ,  9756.975 ,  9622.799 ,\n",
       "        9303.786 ,  9203.303 ,  9211.618 ,  9108.635 ,  8938.205 ,\n",
       "        8862.672 ,  9057.266 ,  9414.236 ,  9487.742 ,  9674.171 ,\n",
       "        9556.133 , 10130.579 ,  9754.927 ,  9729.074 ,  9752.181 ,\n",
       "        9794.232 ,  9682.304 ,  9734.52  ,  9826.4   ,  9819.033 ,\n",
       "        9886.565 ,  9467.741 ,  9447.047 ,  9450.66  ,  9424.352 ,\n",
       "        9404.236 ,  9514.7295,  9516.239 ,  9444.546 ,  9344.739 ,\n",
       "        9366.699 ,  9326.915 ,  9603.212 ,  9651.643 ,  9455.237 ,\n",
       "        9295.935 ,  9230.498 ,  9089.367 ,  9075.545 ,  9169.823 ,\n",
       "        9186.586 ,  9236.9375,  9168.438 ,  9140.511 ,  9138.133 ,\n",
       "        9108.959 ,  9242.477 ,  9278.848 ,  9460.021 ,  9331.848 ,\n",
       "        9303.304 ,  9255.63  ,  9316.605 ,  9271.363 ,  9283.224 ,\n",
       "        9252.997 ,  9190.732 ,  9178.18  ,  9197.481 ,  9215.55  ,\n",
       "        9203.    ,  9367.441 ,  9530.096 ,  9646.7705,  9629.763 ,\n",
       "        9730.412 ,  9927.833 , 10908.561 , 11078.78  , 11336.552 ,\n",
       "       11234.178 , 11472.328 , 11714.935 , 11390.557 , 11291.883 ,\n",
       "       11252.015 , 11614.432 , 11763.557 , 11747.031 , 11774.83  ,\n",
       "       11758.489 , 11858.624 , 11503.864 , 11540.877 , 11702.028 ,\n",
       "       11835.142 , 11890.275 , 11946.717 , 12336.704 , 12219.641 ,\n",
       "       11923.236 , 11835.639 , 11702.646 , 11675.92  , 11655.372 ,\n",
       "       11762.105 , 11501.719 , 11477.449 , 11360.191 , 11475.882 ,\n",
       "       11509.575 , 11664.611 , 11709.834 , 11948.758 , 11629.619 ,\n",
       "       10973.988 , 10602.822 , 10176.956 , 10131.394 , 10253.344 ,\n",
       "       10140.577 , 10207.309 , 10333.768 , 10436.598 , 10444.924 ,\n",
       "       10395.176 , 10633.137 , 10827.233 , 11049.013 , 11013.449 ,\n",
       "       11016.014 , 11075.484 , 10964.41  , 10656.662 , 10545.953 ,\n",
       "       10349.909 , 10575.206 , 10701.658 , 10792.486 , 10776.492 ,\n",
       "       10897.621 , 10848.116 , 10795.012 , 10690.024 , 10624.272 ,\n",
       "       10580.001 , 10656.492 , 10756.15  , 10672.156 , 10671.523 ,\n",
       "       10864.025 , 11063.255 , 11327.068 , 11399.951 , 11664.188 ,\n",
       "       11572.0625, 11500.445 , 11510.231 , 11454.723 , 11394.568 ,\n",
       "       11459.335 , 11739.602 , 11937.046 , 12851.984 , 13216.443 ,\n",
       "       13156.649 , 13131.328 , 13160.246 , 13117.483 , 13561.865 ,\n",
       "       13462.071 , 13510.096 , 13572.371 , 13916.371 , 13822.123 ,\n",
       "       13732.875 , 13832.799 , 14143.145 , 15146.698 , 15593.112 ,\n",
       "       15159.592 , 15414.857 , 15461.328 , 15489.194 , 15692.041 ,\n",
       "       16233.743 , 16423.12  , 16187.23  , 16043.426 , 16604.244 ,\n",
       "       17442.064 , 17876.15  , 18049.686 , 18598.592 , 18777.764 ,\n",
       "       18782.049 , 18604.994 , 19011.553 , 18906.621 , 17713.002 ,\n",
       "       17084.54  , 17573.938 , 18054.97  , 19025.92  , 19146.38  ,\n",
       "       19353.15  , 19499.354 , 19180.303 , 19071.166 , 19122.404 ,\n",
       "       19210.256 , 18827.496 , 18639.031 , 18450.8   , 18240.744 ,\n",
       "       18688.611 , 19040.115 , 19300.645 , 19463.451 , 20947.336 ,\n",
       "       22618.762 , 23243.77  , 23911.783 , 23922.617 , 23609.227 ,\n",
       "       23487.832 , 23405.463 , 23604.352 , 24355.963 , 26026.791 ,\n",
       "       26570.346 , 26902.47  , 27126.877 , 28582.691 , 29221.053 ,\n",
       "       29547.19  , 31586.879 , 33094.78  , 32283.975 , 33859.445 ,\n",
       "       36064.08  , 39289.516 , 40573.812 , 40973.773 , 39634.453 ,\n",
       "       36019.504 , 34383.47  , 36017.57  , 37979.78  , 37165.082 ,\n",
       "       36332.887 , 36513.914 , 36598.04  , 36558.562 , 35448.332 ,\n",
       "       31918.658 , 32567.295 , 32216.021 , 32329.246 , 32097.264 ,\n",
       "       32566.47  , 31126.848 , 32683.096 , 34485.77  , 34997.117 ,\n",
       "       33630.062 , 33756.137 , 35293.18  , 37104.105 , 37475.234 ,\n",
       "       37985.57  , 39981.44  , 39375.918 , 43380.656 , 46320.5   ,\n",
       "       46474.28  , 47221.934 , 48350.875 , 47913.336 , 48737.117 ,\n",
       "       48675.613 , 49050.21  , 51343.58  , 52247.14  , 55065.164 ,\n",
       "       55341.758 , 57270.336 , 55272.418 , 50421.336 , 48551.027 ,\n",
       "       48229.992 , 46358.14  , 45919.062 , 45335.53  , 48263.04  ,\n",
       "       48156.117 , 50457.6   , 49031.45  , 49535.066 , 49007.766 ,\n",
       "       50511.547 , 51327.805 , 53966.375 , 56579.688 , 58041.55  ,\n",
       "       57973.582 , 60379.04  , 60874.156 , 57945.977 , 56712.758 ,\n",
       "       58204.434 , 58377.65  , 58333.883 , 58657.32  , 58406.6   ,\n",
       "       55485.227 , 54774.586 , 53265.598 , 52405.008 , 53574.715 ,\n",
       "       55818.312 , 55812.516 , 57254.582 , 58793.277 , 59315.082 ,\n",
       "       59224.438 , 59249.203 , 58250.207 , 58205.934 , 58786.836 ,\n",
       "       58486.07  , 57062.414 , 57648.92  , 58248.4   , 59225.38  ,\n",
       "       59793.273 , 60211.625 , 62646.297 , 63375.062 , 63782.637 ,\n",
       "       62619.2   , 61449.14  , 58028.81  , 56435.098 , 56275.445 ,\n",
       "       54730.945 , 52377.938 , 50820.188 , 50670.97  , 48976.758 ,\n",
       "       52068.406 , 54600.152 , 55251.    , 53837.44  , 56708.367 ,\n",
       "       57991.367 , 57257.07  , 57188.797 , 55035.44  , 56619.92  ,\n",
       "       56649.06  , 57388.184 , 58282.156 , 58717.31  , 56746.72  ,\n",
       "       56504.62  , 53502.996 , 50550.758 , 49559.72  , 48367.16  ,\n",
       "       45997.81  ], dtype=float32)>"
      ]
     },
     "execution_count": 82,
     "metadata": {},
     "output_type": "execute_result"
    }
   ],
   "source": [
    "# Making predictions\n",
    "model_5_preds = make_preds(model_5, test_windows)\n",
    "model_5_preds"
   ]
  },
  {
   "cell_type": "code",
   "execution_count": 83,
   "metadata": {},
   "outputs": [
    {
     "data": {
      "text/plain": [
       "{'mae': 581.3145,\n",
       " 'mse': 1223140.4,\n",
       " 'rmse': 1105.9568,\n",
       " 'mape': 2.6296616,\n",
       " 'mase': 1.0212086}"
      ]
     },
     "execution_count": 83,
     "metadata": {},
     "output_type": "execute_result"
    }
   ],
   "source": [
    "# Evaluating predictions\n",
    "model_5_results = evaluate_preds(\n",
    "    y_true=tf.squeeze(test_labels),\n",
    "    y_pred=model_5_preds\n",
    ")\n",
    "model_5_results"
   ]
  },
  {
   "cell_type": "code",
   "execution_count": 84,
   "metadata": {},
   "outputs": [],
   "source": [
    "# Adding Blockchain halving events\n",
    "block_reward_1 = 50 # 3 January 2009\n",
    "block_reward_2 = 25 # 8 November 2012\n",
    "block_reward_3 = 12.5 # 9 July 2016\n",
    "block_reward_4 = 6.25 # 18 May 2020\n",
    "\n",
    "# Adding block reward dates\n",
    "block_reward_2_datetime = np.datetime64(\"2012-11-08\")\n",
    "block_reward_3_datetime = np.datetime64(\"2016-07-09\")\n",
    "block_reward_4_datetime = np.datetime64(\"2020-05-18\")\n"
   ]
  },
  {
   "cell_type": "code",
   "execution_count": 85,
   "metadata": {},
   "outputs": [
    {
     "data": {
      "text/plain": [
       "(1012, 2421)"
      ]
     },
     "execution_count": 85,
     "metadata": {},
     "output_type": "execute_result"
    }
   ],
   "source": [
    "# Creating date ranges\n",
    "block_reward_2_days = (block_reward_3_datetime - bitcoin_prices.index[0]).days\n",
    "block_reward_3_days = (block_reward_4_datetime - bitcoin_prices.index[0]).days\n",
    "\n",
    "block_reward_2_days, block_reward_3_days"
   ]
  },
  {
   "cell_type": "code",
   "execution_count": 86,
   "metadata": {},
   "outputs": [],
   "source": [
    "# Adding in block_reward column\n",
    "bitcoin_prices_block = bitcoin_prices.copy()\n",
    "bitcoin_prices_block[\"block_reward\"] = None\n",
    "\n",
    "# Adding in block_reward values\n",
    "bitcoin_prices_block.iloc[:block_reward_2_days, -1] = block_reward_2\n",
    "bitcoin_prices_block.iloc[block_reward_2_days:block_reward_3_days, -1] = block_reward_3\n",
    "bitcoin_prices_block.iloc[block_reward_3_days:, -1] = block_reward_4"
   ]
  },
  {
   "cell_type": "code",
   "execution_count": 87,
   "metadata": {},
   "outputs": [
    {
     "data": {
      "text/html": [
       "<div>\n",
       "<style scoped>\n",
       "    .dataframe tbody tr th:only-of-type {\n",
       "        vertical-align: middle;\n",
       "    }\n",
       "\n",
       "    .dataframe tbody tr th {\n",
       "        vertical-align: top;\n",
       "    }\n",
       "\n",
       "    .dataframe thead th {\n",
       "        text-align: right;\n",
       "    }\n",
       "</style>\n",
       "<table border=\"1\" class=\"dataframe\">\n",
       "  <thead>\n",
       "    <tr style=\"text-align: right;\">\n",
       "      <th></th>\n",
       "      <th>Price</th>\n",
       "      <th>block_reward</th>\n",
       "    </tr>\n",
       "    <tr>\n",
       "      <th>Date</th>\n",
       "      <th></th>\n",
       "      <th></th>\n",
       "    </tr>\n",
       "  </thead>\n",
       "  <tbody>\n",
       "    <tr>\n",
       "      <th>2013-10-01</th>\n",
       "      <td>123.65499</td>\n",
       "      <td>25</td>\n",
       "    </tr>\n",
       "    <tr>\n",
       "      <th>2013-10-02</th>\n",
       "      <td>125.45500</td>\n",
       "      <td>25</td>\n",
       "    </tr>\n",
       "    <tr>\n",
       "      <th>2013-10-03</th>\n",
       "      <td>108.58483</td>\n",
       "      <td>25</td>\n",
       "    </tr>\n",
       "    <tr>\n",
       "      <th>2013-10-04</th>\n",
       "      <td>118.67466</td>\n",
       "      <td>25</td>\n",
       "    </tr>\n",
       "    <tr>\n",
       "      <th>2013-10-05</th>\n",
       "      <td>121.33866</td>\n",
       "      <td>25</td>\n",
       "    </tr>\n",
       "  </tbody>\n",
       "</table>\n",
       "</div>"
      ],
      "text/plain": [
       "                Price block_reward\n",
       "Date                              \n",
       "2013-10-01  123.65499           25\n",
       "2013-10-02  125.45500           25\n",
       "2013-10-03  108.58483           25\n",
       "2013-10-04  118.67466           25\n",
       "2013-10-05  121.33866           25"
      ]
     },
     "execution_count": 87,
     "metadata": {},
     "output_type": "execute_result"
    }
   ],
   "source": [
    "# Check top 5 values\n",
    "bitcoin_prices_block.head()"
   ]
  },
  {
   "cell_type": "code",
   "execution_count": 88,
   "metadata": {},
   "outputs": [
    {
     "data": {
      "text/html": [
       "<div>\n",
       "<style scoped>\n",
       "    .dataframe tbody tr th:only-of-type {\n",
       "        vertical-align: middle;\n",
       "    }\n",
       "\n",
       "    .dataframe tbody tr th {\n",
       "        vertical-align: top;\n",
       "    }\n",
       "\n",
       "    .dataframe thead th {\n",
       "        text-align: right;\n",
       "    }\n",
       "</style>\n",
       "<table border=\"1\" class=\"dataframe\">\n",
       "  <thead>\n",
       "    <tr style=\"text-align: right;\">\n",
       "      <th></th>\n",
       "      <th>Price</th>\n",
       "      <th>block_reward</th>\n",
       "    </tr>\n",
       "    <tr>\n",
       "      <th>Date</th>\n",
       "      <th></th>\n",
       "      <th></th>\n",
       "    </tr>\n",
       "  </thead>\n",
       "  <tbody>\n",
       "    <tr>\n",
       "      <th>2017-11-09</th>\n",
       "      <td>7342.82375</td>\n",
       "      <td>12.5</td>\n",
       "    </tr>\n",
       "    <tr>\n",
       "      <th>2017-11-10</th>\n",
       "      <td>7250.77000</td>\n",
       "      <td>12.5</td>\n",
       "    </tr>\n",
       "    <tr>\n",
       "      <th>2017-11-11</th>\n",
       "      <td>6773.69500</td>\n",
       "      <td>12.5</td>\n",
       "    </tr>\n",
       "    <tr>\n",
       "      <th>2017-11-12</th>\n",
       "      <td>6075.30125</td>\n",
       "      <td>12.5</td>\n",
       "    </tr>\n",
       "    <tr>\n",
       "      <th>2017-11-13</th>\n",
       "      <td>5969.13000</td>\n",
       "      <td>12.5</td>\n",
       "    </tr>\n",
       "  </tbody>\n",
       "</table>\n",
       "</div>"
      ],
      "text/plain": [
       "                 Price block_reward\n",
       "Date                               \n",
       "2017-11-09  7342.82375         12.5\n",
       "2017-11-10  7250.77000         12.5\n",
       "2017-11-11  6773.69500         12.5\n",
       "2017-11-12  6075.30125         12.5\n",
       "2017-11-13  5969.13000         12.5"
      ]
     },
     "execution_count": 88,
     "metadata": {},
     "output_type": "execute_result"
    }
   ],
   "source": [
    "# Checking 5 mid values\n",
    "bitcoin_prices_block[1500:1505]"
   ]
  },
  {
   "cell_type": "code",
   "execution_count": 89,
   "metadata": {},
   "outputs": [
    {
     "data": {
      "text/html": [
       "<div>\n",
       "<style scoped>\n",
       "    .dataframe tbody tr th:only-of-type {\n",
       "        vertical-align: middle;\n",
       "    }\n",
       "\n",
       "    .dataframe tbody tr th {\n",
       "        vertical-align: top;\n",
       "    }\n",
       "\n",
       "    .dataframe thead th {\n",
       "        text-align: right;\n",
       "    }\n",
       "</style>\n",
       "<table border=\"1\" class=\"dataframe\">\n",
       "  <thead>\n",
       "    <tr style=\"text-align: right;\">\n",
       "      <th></th>\n",
       "      <th>Price</th>\n",
       "      <th>block_reward</th>\n",
       "    </tr>\n",
       "    <tr>\n",
       "      <th>Date</th>\n",
       "      <th></th>\n",
       "      <th></th>\n",
       "    </tr>\n",
       "  </thead>\n",
       "  <tbody>\n",
       "    <tr>\n",
       "      <th>2021-05-14</th>\n",
       "      <td>49764.132082</td>\n",
       "      <td>6.25</td>\n",
       "    </tr>\n",
       "    <tr>\n",
       "      <th>2021-05-15</th>\n",
       "      <td>50032.693137</td>\n",
       "      <td>6.25</td>\n",
       "    </tr>\n",
       "    <tr>\n",
       "      <th>2021-05-16</th>\n",
       "      <td>47885.625255</td>\n",
       "      <td>6.25</td>\n",
       "    </tr>\n",
       "    <tr>\n",
       "      <th>2021-05-17</th>\n",
       "      <td>45604.615754</td>\n",
       "      <td>6.25</td>\n",
       "    </tr>\n",
       "    <tr>\n",
       "      <th>2021-05-18</th>\n",
       "      <td>43144.471291</td>\n",
       "      <td>6.25</td>\n",
       "    </tr>\n",
       "  </tbody>\n",
       "</table>\n",
       "</div>"
      ],
      "text/plain": [
       "                   Price block_reward\n",
       "Date                                 \n",
       "2021-05-14  49764.132082         6.25\n",
       "2021-05-15  50032.693137         6.25\n",
       "2021-05-16  47885.625255         6.25\n",
       "2021-05-17  45604.615754         6.25\n",
       "2021-05-18  43144.471291         6.25"
      ]
     },
     "execution_count": 89,
     "metadata": {},
     "output_type": "execute_result"
    }
   ],
   "source": [
    "# Checking last 5 values\n",
    "bitcoin_prices_block.tail()"
   ]
  },
  {
   "cell_type": "code",
   "execution_count": 90,
   "metadata": {},
   "outputs": [
    {
     "data": {
      "text/plain": [
       "<AxesSubplot:xlabel='Date'>"
      ]
     },
     "execution_count": 90,
     "metadata": {},
     "output_type": "execute_result"
    },
    {
     "data": {
      "image/png": "[encoded data removed]",
      "text/plain": [
       "<Figure size 720x504 with 1 Axes>"
      ]
     },
     "metadata": {
      "needs_background": "light"
     },
     "output_type": "display_data"
    }
   ],
   "source": [
    "# Plotting block reward vs price over time\n",
    "from sklearn.preprocessing import minmax_scale\n",
    "\n",
    "scaled_price_block_df = pd.DataFrame(\n",
    "    minmax_scale(bitcoin_prices_block[[\"Price\", \"block_reward\"]]),\n",
    "    columns=bitcoin_prices_block.columns,\n",
    "    index=bitcoin_prices_block.index\n",
    ")\n",
    "scaled_price_block_df.plot(figsize=(10, 7))"
   ]
  },
  {
   "attachments": {},
   "cell_type": "markdown",
   "metadata": {},
   "source": [
    "### Creating windowed multi-variate dataset with pandas"
   ]
  },
  {
   "cell_type": "code",
   "execution_count": 91,
   "metadata": {},
   "outputs": [],
   "source": [
    "# Setting up hyperparameters\n",
    "HORIZON = 1\n",
    "WINDOW_SIZE = 7"
   ]
  },
  {
   "cell_type": "code",
   "execution_count": 92,
   "metadata": {},
   "outputs": [
    {
     "data": {
      "text/html": [
       "<div>\n",
       "<style scoped>\n",
       "    .dataframe tbody tr th:only-of-type {\n",
       "        vertical-align: middle;\n",
       "    }\n",
       "\n",
       "    .dataframe tbody tr th {\n",
       "        vertical-align: top;\n",
       "    }\n",
       "\n",
       "    .dataframe thead th {\n",
       "        text-align: right;\n",
       "    }\n",
       "</style>\n",
       "<table border=\"1\" class=\"dataframe\">\n",
       "  <thead>\n",
       "    <tr style=\"text-align: right;\">\n",
       "      <th></th>\n",
       "      <th>Price</th>\n",
       "      <th>block_reward</th>\n",
       "      <th>Price+1</th>\n",
       "      <th>Price+2</th>\n",
       "      <th>Price+3</th>\n",
       "      <th>Price+4</th>\n",
       "      <th>Price+5</th>\n",
       "      <th>Price+6</th>\n",
       "      <th>Price+7</th>\n",
       "    </tr>\n",
       "    <tr>\n",
       "      <th>Date</th>\n",
       "      <th></th>\n",
       "      <th></th>\n",
       "      <th></th>\n",
       "      <th></th>\n",
       "      <th></th>\n",
       "      <th></th>\n",
       "      <th></th>\n",
       "      <th></th>\n",
       "      <th></th>\n",
       "    </tr>\n",
       "  </thead>\n",
       "  <tbody>\n",
       "    <tr>\n",
       "      <th>2013-10-01</th>\n",
       "      <td>123.65499</td>\n",
       "      <td>25</td>\n",
       "      <td>NaN</td>\n",
       "      <td>NaN</td>\n",
       "      <td>NaN</td>\n",
       "      <td>NaN</td>\n",
       "      <td>NaN</td>\n",
       "      <td>NaN</td>\n",
       "      <td>NaN</td>\n",
       "    </tr>\n",
       "    <tr>\n",
       "      <th>2013-10-02</th>\n",
       "      <td>125.45500</td>\n",
       "      <td>25</td>\n",
       "      <td>123.65499</td>\n",
       "      <td>NaN</td>\n",
       "      <td>NaN</td>\n",
       "      <td>NaN</td>\n",
       "      <td>NaN</td>\n",
       "      <td>NaN</td>\n",
       "      <td>NaN</td>\n",
       "    </tr>\n",
       "    <tr>\n",
       "      <th>2013-10-03</th>\n",
       "      <td>108.58483</td>\n",
       "      <td>25</td>\n",
       "      <td>125.45500</td>\n",
       "      <td>123.65499</td>\n",
       "      <td>NaN</td>\n",
       "      <td>NaN</td>\n",
       "      <td>NaN</td>\n",
       "      <td>NaN</td>\n",
       "      <td>NaN</td>\n",
       "    </tr>\n",
       "    <tr>\n",
       "      <th>2013-10-04</th>\n",
       "      <td>118.67466</td>\n",
       "      <td>25</td>\n",
       "      <td>108.58483</td>\n",
       "      <td>125.45500</td>\n",
       "      <td>123.65499</td>\n",
       "      <td>NaN</td>\n",
       "      <td>NaN</td>\n",
       "      <td>NaN</td>\n",
       "      <td>NaN</td>\n",
       "    </tr>\n",
       "    <tr>\n",
       "      <th>2013-10-05</th>\n",
       "      <td>121.33866</td>\n",
       "      <td>25</td>\n",
       "      <td>118.67466</td>\n",
       "      <td>108.58483</td>\n",
       "      <td>125.45500</td>\n",
       "      <td>123.65499</td>\n",
       "      <td>NaN</td>\n",
       "      <td>NaN</td>\n",
       "      <td>NaN</td>\n",
       "    </tr>\n",
       "    <tr>\n",
       "      <th>2013-10-06</th>\n",
       "      <td>120.65533</td>\n",
       "      <td>25</td>\n",
       "      <td>121.33866</td>\n",
       "      <td>118.67466</td>\n",
       "      <td>108.58483</td>\n",
       "      <td>125.45500</td>\n",
       "      <td>123.65499</td>\n",
       "      <td>NaN</td>\n",
       "      <td>NaN</td>\n",
       "    </tr>\n",
       "    <tr>\n",
       "      <th>2013-10-07</th>\n",
       "      <td>121.79500</td>\n",
       "      <td>25</td>\n",
       "      <td>120.65533</td>\n",
       "      <td>121.33866</td>\n",
       "      <td>118.67466</td>\n",
       "      <td>108.58483</td>\n",
       "      <td>125.45500</td>\n",
       "      <td>123.65499</td>\n",
       "      <td>NaN</td>\n",
       "    </tr>\n",
       "    <tr>\n",
       "      <th>2013-10-08</th>\n",
       "      <td>123.03300</td>\n",
       "      <td>25</td>\n",
       "      <td>121.79500</td>\n",
       "      <td>120.65533</td>\n",
       "      <td>121.33866</td>\n",
       "      <td>118.67466</td>\n",
       "      <td>108.58483</td>\n",
       "      <td>125.45500</td>\n",
       "      <td>123.65499</td>\n",
       "    </tr>\n",
       "    <tr>\n",
       "      <th>2013-10-09</th>\n",
       "      <td>124.04900</td>\n",
       "      <td>25</td>\n",
       "      <td>123.03300</td>\n",
       "      <td>121.79500</td>\n",
       "      <td>120.65533</td>\n",
       "      <td>121.33866</td>\n",
       "      <td>118.67466</td>\n",
       "      <td>108.58483</td>\n",
       "      <td>125.45500</td>\n",
       "    </tr>\n",
       "    <tr>\n",
       "      <th>2013-10-10</th>\n",
       "      <td>125.96116</td>\n",
       "      <td>25</td>\n",
       "      <td>124.04900</td>\n",
       "      <td>123.03300</td>\n",
       "      <td>121.79500</td>\n",
       "      <td>120.65533</td>\n",
       "      <td>121.33866</td>\n",
       "      <td>118.67466</td>\n",
       "      <td>108.58483</td>\n",
       "    </tr>\n",
       "  </tbody>\n",
       "</table>\n",
       "</div>"
      ],
      "text/plain": [
       "                Price block_reward    Price+1    Price+2    Price+3  \\\n",
       "Date                                                                  \n",
       "2013-10-01  123.65499           25        NaN        NaN        NaN   \n",
       "2013-10-02  125.45500           25  123.65499        NaN        NaN   \n",
       "2013-10-03  108.58483           25  125.45500  123.65499        NaN   \n",
       "2013-10-04  118.67466           25  108.58483  125.45500  123.65499   \n",
       "2013-10-05  121.33866           25  118.67466  108.58483  125.45500   \n",
       "2013-10-06  120.65533           25  121.33866  118.67466  108.58483   \n",
       "2013-10-07  121.79500           25  120.65533  121.33866  118.67466   \n",
       "2013-10-08  123.03300           25  121.79500  120.65533  121.33866   \n",
       "2013-10-09  124.04900           25  123.03300  121.79500  120.65533   \n",
       "2013-10-10  125.96116           25  124.04900  123.03300  121.79500   \n",
       "\n",
       "              Price+4    Price+5    Price+6    Price+7  \n",
       "Date                                                    \n",
       "2013-10-01        NaN        NaN        NaN        NaN  \n",
       "2013-10-02        NaN        NaN        NaN        NaN  \n",
       "2013-10-03        NaN        NaN        NaN        NaN  \n",
       "2013-10-04        NaN        NaN        NaN        NaN  \n",
       "2013-10-05  123.65499        NaN        NaN        NaN  \n",
       "2013-10-06  125.45500  123.65499        NaN        NaN  \n",
       "2013-10-07  108.58483  125.45500  123.65499        NaN  \n",
       "2013-10-08  118.67466  108.58483  125.45500  123.65499  \n",
       "2013-10-09  121.33866  118.67466  108.58483  125.45500  \n",
       "2013-10-10  120.65533  121.33866  118.67466  108.58483  "
      ]
     },
     "execution_count": 92,
     "metadata": {},
     "output_type": "execute_result"
    }
   ],
   "source": [
    "# Making a copy of Bitcoin dataset\n",
    "bitcoin_prices_windowed = bitcoin_prices_block.copy()\n",
    "\n",
    "# Adding windowed column\n",
    "for i in range(WINDOW_SIZE):\n",
    "    bitcoin_prices_windowed[f\"Price+{i + 1}\"] = bitcoin_prices_windowed[\"Price\"].shift(periods=i+1)\n",
    "\n",
    "bitcoin_prices_windowed.head(10)"
   ]
  },
  {
   "cell_type": "code",
   "execution_count": 93,
   "metadata": {},
   "outputs": [
    {
     "data": {
      "text/plain": [
       "(            block_reward     Price+1     Price+2     Price+3     Price+4  \\\n",
       " Date                                                                       \n",
       " 2013-10-08          25.0  121.794998  120.655327  121.338661  118.674660   \n",
       " 2013-10-09          25.0  123.032997  121.794998  120.655327  121.338661   \n",
       " 2013-10-10          25.0  124.049004  123.032997  121.794998  120.655327   \n",
       " 2013-10-11          25.0  125.961159  124.049004  123.032997  121.794998   \n",
       " 2013-10-12          25.0  125.279663  125.961159  124.049004  123.032997   \n",
       " \n",
       "                Price+5     Price+6     Price+7  \n",
       " Date                                            \n",
       " 2013-10-08  108.584831  125.455002  123.654991  \n",
       " 2013-10-09  118.674660  108.584831  125.455002  \n",
       " 2013-10-10  121.338661  118.674660  108.584831  \n",
       " 2013-10-11  120.655327  121.338661  118.674660  \n",
       " 2013-10-12  121.794998  120.655327  121.338661  ,\n",
       " Date\n",
       " 2013-10-08    123.032997\n",
       " 2013-10-09    124.049004\n",
       " 2013-10-10    125.961159\n",
       " 2013-10-11    125.279663\n",
       " 2013-10-12    125.927498\n",
       " Name: Price, dtype: float32)"
      ]
     },
     "execution_count": 93,
     "metadata": {},
     "output_type": "execute_result"
    }
   ],
   "source": [
    "# Creating X (windows) and y (horizon)\n",
    "X = bitcoin_prices_windowed.dropna().drop(\"Price\", axis=1).astype(np.float32)\n",
    "y = bitcoin_prices_windowed.dropna()[\"Price\"].astype(np.float32)\n",
    "\n",
    "X.head(), y.head()"
   ]
  },
  {
   "cell_type": "code",
   "execution_count": 94,
   "metadata": {},
   "outputs": [
    {
     "data": {
      "text/plain": [
       "(2224, 2224, 556, 556)"
      ]
     },
     "execution_count": 94,
     "metadata": {},
     "output_type": "execute_result"
    }
   ],
   "source": [
    "# Making train and test sets, using indexing\n",
    "split_size = int(len(X) * 0.8)\n",
    "\n",
    "X_train, y_train = X[:split_size], y[:split_size]\n",
    "X_test, y_test = X[split_size:], y[split_size:]\n",
    "\n",
    "len(X_train), len(y_train), len(X_test), len(y_test)"
   ]
  },
  {
   "attachments": {},
   "cell_type": "markdown",
   "metadata": {},
   "source": [
    "### Model 6 - Dense (multivariate time series)"
   ]
  },
  {
   "cell_type": "code",
   "execution_count": 95,
   "metadata": {},
   "outputs": [
    {
     "name": "stdout",
     "output_type": "stream",
     "text": [
      "Epoch 1/100\n",
      "12/18 [===================>..........] - ETA: 0s - loss: 2316.3650 INFO:tensorflow:Assets written to: model_experiments\\model_6_dense_multivariate\\assets\n"
     ]
    },
    {
     "name": "stderr",
     "output_type": "stream",
     "text": [
      "INFO:tensorflow:Assets written to: model_experiments\\model_6_dense_multivariate\\assets\n"
     ]
    },
    {
     "name": "stdout",
     "output_type": "stream",
     "text": [
      "18/18 [==============================] - 4s 145ms/step - loss: 1791.8566 - val_loss: 1048.9139\n",
      "Epoch 2/100\n",
      "18/18 [==============================] - 0s 14ms/step - loss: 346.0590 - val_loss: 1761.7749\n",
      "Epoch 3/100\n",
      "18/18 [==============================] - 0s 14ms/step - loss: 216.6383 - val_loss: 1167.4252\n",
      "Epoch 4/100\n",
      "18/18 [==============================] - ETA: 0s - loss: 179.7746INFO:tensorflow:Assets written to: model_experiments\\model_6_dense_multivariate\\assets\n"
     ]
    },
    {
     "name": "stderr",
     "output_type": "stream",
     "text": [
      "INFO:tensorflow:Assets written to: model_experiments\\model_6_dense_multivariate\\assets\n"
     ]
    },
    {
     "name": "stdout",
     "output_type": "stream",
     "text": [
      "18/18 [==============================] - 2s 119ms/step - loss: 179.7746 - val_loss: 1015.9521\n",
      "Epoch 5/100\n",
      "10/18 [===============>..............] - ETA: 0s - loss: 178.3076INFO:tensorflow:Assets written to: model_experiments\\model_6_dense_multivariate\\assets\n"
     ]
    },
    {
     "name": "stderr",
     "output_type": "stream",
     "text": [
      "INFO:tensorflow:Assets written to: model_experiments\\model_6_dense_multivariate\\assets\n"
     ]
    },
    {
     "name": "stdout",
     "output_type": "stream",
     "text": [
      "18/18 [==============================] - 2s 142ms/step - loss: 171.7164 - val_loss: 938.8790\n",
      "Epoch 6/100\n",
      "10/18 [===============>..............] - ETA: 0s - loss: 170.1036INFO:tensorflow:Assets written to: model_experiments\\model_6_dense_multivariate\\assets\n"
     ]
    },
    {
     "name": "stderr",
     "output_type": "stream",
     "text": [
      "INFO:tensorflow:Assets written to: model_experiments\\model_6_dense_multivariate\\assets\n"
     ]
    },
    {
     "name": "stdout",
     "output_type": "stream",
     "text": [
      "18/18 [==============================] - 2s 91ms/step - loss: 170.4365 - val_loss: 910.0511\n",
      "Epoch 7/100\n",
      "11/18 [=================>............] - ETA: 0s - loss: 170.2366INFO:tensorflow:Assets written to: model_experiments\\model_6_dense_multivariate\\assets\n"
     ]
    },
    {
     "name": "stderr",
     "output_type": "stream",
     "text": [
      "INFO:tensorflow:Assets written to: model_experiments\\model_6_dense_multivariate\\assets\n"
     ]
    },
    {
     "name": "stdout",
     "output_type": "stream",
     "text": [
      "18/18 [==============================] - 2s 90ms/step - loss: 161.2250 - val_loss: 888.9713\n",
      "Epoch 8/100\n",
      "10/18 [===============>..............] - ETA: 0s - loss: 151.6100INFO:tensorflow:Assets written to: model_experiments\\model_6_dense_multivariate\\assets\n"
     ]
    },
    {
     "name": "stderr",
     "output_type": "stream",
     "text": [
      "INFO:tensorflow:Assets written to: model_experiments\\model_6_dense_multivariate\\assets\n"
     ]
    },
    {
     "name": "stdout",
     "output_type": "stream",
     "text": [
      "18/18 [==============================] - 2s 93ms/step - loss: 155.4960 - val_loss: 852.0372\n",
      "Epoch 9/100\n",
      "11/18 [=================>............] - ETA: 0s - loss: 153.1917INFO:tensorflow:Assets written to: model_experiments\\model_6_dense_multivariate\\assets\n"
     ]
    },
    {
     "name": "stderr",
     "output_type": "stream",
     "text": [
      "INFO:tensorflow:Assets written to: model_experiments\\model_6_dense_multivariate\\assets\n"
     ]
    },
    {
     "name": "stdout",
     "output_type": "stream",
     "text": [
      "18/18 [==============================] - 2s 95ms/step - loss: 152.4953 - val_loss: 849.7407\n",
      "Epoch 10/100\n",
      "13/18 [====================>.........] - ETA: 0s - loss: 145.2018INFO:tensorflow:Assets written to: model_experiments\\model_6_dense_multivariate\\assets\n"
     ]
    },
    {
     "name": "stderr",
     "output_type": "stream",
     "text": [
      "INFO:tensorflow:Assets written to: model_experiments\\model_6_dense_multivariate\\assets\n"
     ]
    },
    {
     "name": "stdout",
     "output_type": "stream",
     "text": [
      "18/18 [==============================] - 2s 89ms/step - loss: 149.5738 - val_loss: 811.7339\n",
      "Epoch 11/100\n",
      "11/18 [=================>............] - ETA: 0s - loss: 149.4862INFO:tensorflow:Assets written to: model_experiments\\model_6_dense_multivariate\\assets\n"
     ]
    },
    {
     "name": "stderr",
     "output_type": "stream",
     "text": [
      "INFO:tensorflow:Assets written to: model_experiments\\model_6_dense_multivariate\\assets\n"
     ]
    },
    {
     "name": "stdout",
     "output_type": "stream",
     "text": [
      "18/18 [==============================] - 2s 91ms/step - loss: 143.9770 - val_loss: 808.1142\n",
      "Epoch 12/100\n",
      "18/18 [==============================] - 0s 14ms/step - loss: 140.8136 - val_loss: 820.3424\n",
      "Epoch 13/100\n",
      "12/18 [===================>..........] - ETA: 0s - loss: 136.1751INFO:tensorflow:Assets written to: model_experiments\\model_6_dense_multivariate\\assets\n"
     ]
    },
    {
     "name": "stderr",
     "output_type": "stream",
     "text": [
      "INFO:tensorflow:Assets written to: model_experiments\\model_6_dense_multivariate\\assets\n"
     ]
    },
    {
     "name": "stdout",
     "output_type": "stream",
     "text": [
      "18/18 [==============================] - 2s 91ms/step - loss: 139.8562 - val_loss: 775.5966\n",
      "Epoch 14/100\n",
      "18/18 [==============================] - ETA: 0s - loss: 134.7869INFO:tensorflow:Assets written to: model_experiments\\model_6_dense_multivariate\\assets\n"
     ]
    },
    {
     "name": "stderr",
     "output_type": "stream",
     "text": [
      "INFO:tensorflow:Assets written to: model_experiments\\model_6_dense_multivariate\\assets\n"
     ]
    },
    {
     "name": "stdout",
     "output_type": "stream",
     "text": [
      "18/18 [==============================] - 2s 97ms/step - loss: 134.7869 - val_loss: 743.1294\n",
      "Epoch 15/100\n",
      "13/18 [====================>.........] - ETA: 0s - loss: 131.4132INFO:tensorflow:Assets written to: model_experiments\\model_6_dense_multivariate\\assets\n"
     ]
    },
    {
     "name": "stderr",
     "output_type": "stream",
     "text": [
      "INFO:tensorflow:Assets written to: model_experiments\\model_6_dense_multivariate\\assets\n"
     ]
    },
    {
     "name": "stdout",
     "output_type": "stream",
     "text": [
      "18/18 [==============================] - 2s 94ms/step - loss: 134.8621 - val_loss: 725.5301\n",
      "Epoch 16/100\n",
      "18/18 [==============================] - 0s 11ms/step - loss: 130.8563 - val_loss: 753.0891\n",
      "Epoch 17/100\n",
      "18/18 [==============================] - 0s 11ms/step - loss: 128.5947 - val_loss: 732.0537\n",
      "Epoch 18/100\n",
      "11/18 [=================>............] - ETA: 0s - loss: 132.9790INFO:tensorflow:Assets written to: model_experiments\\model_6_dense_multivariate\\assets\n"
     ]
    },
    {
     "name": "stderr",
     "output_type": "stream",
     "text": [
      "INFO:tensorflow:Assets written to: model_experiments\\model_6_dense_multivariate\\assets\n"
     ]
    },
    {
     "name": "stdout",
     "output_type": "stream",
     "text": [
      "18/18 [==============================] - 2s 103ms/step - loss: 129.8249 - val_loss: 695.1738\n",
      "Epoch 19/100\n",
      "18/18 [==============================] - 0s 11ms/step - loss: 125.6684 - val_loss: 718.4366\n",
      "Epoch 20/100\n",
      "11/18 [=================>............] - ETA: 0s - loss: 129.7978INFO:tensorflow:Assets written to: model_experiments\\model_6_dense_multivariate\\assets\n"
     ]
    },
    {
     "name": "stderr",
     "output_type": "stream",
     "text": [
      "INFO:tensorflow:Assets written to: model_experiments\\model_6_dense_multivariate\\assets\n"
     ]
    },
    {
     "name": "stdout",
     "output_type": "stream",
     "text": [
      "18/18 [==============================] - 2s 93ms/step - loss: 124.4435 - val_loss: 663.7800\n",
      "Epoch 21/100\n",
      "13/18 [====================>.........] - ETA: 0s - loss: 123.9779INFO:tensorflow:Assets written to: model_experiments\\model_6_dense_multivariate\\assets\n"
     ]
    },
    {
     "name": "stderr",
     "output_type": "stream",
     "text": [
      "INFO:tensorflow:Assets written to: model_experiments\\model_6_dense_multivariate\\assets\n"
     ]
    },
    {
     "name": "stdout",
     "output_type": "stream",
     "text": [
      "18/18 [==============================] - 2s 95ms/step - loss: 125.9188 - val_loss: 660.5808\n",
      "Epoch 22/100\n",
      "11/18 [=================>............] - ETA: 0s - loss: 137.5045INFO:tensorflow:Assets written to: model_experiments\\model_6_dense_multivariate\\assets\n"
     ]
    },
    {
     "name": "stderr",
     "output_type": "stream",
     "text": [
      "INFO:tensorflow:Assets written to: model_experiments\\model_6_dense_multivariate\\assets\n"
     ]
    },
    {
     "name": "stdout",
     "output_type": "stream",
     "text": [
      "18/18 [==============================] - 2s 94ms/step - loss: 125.0036 - val_loss: 648.2070\n",
      "Epoch 23/100\n",
      "12/18 [===================>..........] - ETA: 0s - loss: 120.6900INFO:tensorflow:Assets written to: model_experiments\\model_6_dense_multivariate\\assets\n"
     ]
    },
    {
     "name": "stderr",
     "output_type": "stream",
     "text": [
      "INFO:tensorflow:Assets written to: model_experiments\\model_6_dense_multivariate\\assets\n"
     ]
    },
    {
     "name": "stdout",
     "output_type": "stream",
     "text": [
      "18/18 [==============================] - 2s 94ms/step - loss: 123.5709 - val_loss: 645.8276\n",
      "Epoch 24/100\n",
      "14/18 [======================>.......] - ETA: 0s - loss: 123.8785INFO:tensorflow:Assets written to: model_experiments\\model_6_dense_multivariate\\assets\n"
     ]
    },
    {
     "name": "stderr",
     "output_type": "stream",
     "text": [
      "INFO:tensorflow:Assets written to: model_experiments\\model_6_dense_multivariate\\assets\n"
     ]
    },
    {
     "name": "stdout",
     "output_type": "stream",
     "text": [
      "18/18 [==============================] - 2s 97ms/step - loss: 121.5247 - val_loss: 643.7710\n",
      "Epoch 25/100\n",
      "10/18 [===============>..............] - ETA: 0s - loss: 128.3762INFO:tensorflow:Assets written to: model_experiments\\model_6_dense_multivariate\\assets\n"
     ]
    },
    {
     "name": "stderr",
     "output_type": "stream",
     "text": [
      "INFO:tensorflow:Assets written to: model_experiments\\model_6_dense_multivariate\\assets\n"
     ]
    },
    {
     "name": "stdout",
     "output_type": "stream",
     "text": [
      "18/18 [==============================] - 2s 98ms/step - loss: 121.1597 - val_loss: 635.7830\n",
      "Epoch 26/100\n",
      "11/18 [=================>............] - ETA: 0s - loss: 120.6130INFO:tensorflow:Assets written to: model_experiments\\model_6_dense_multivariate\\assets\n"
     ]
    },
    {
     "name": "stderr",
     "output_type": "stream",
     "text": [
      "INFO:tensorflow:Assets written to: model_experiments\\model_6_dense_multivariate\\assets\n"
     ]
    },
    {
     "name": "stdout",
     "output_type": "stream",
     "text": [
      "18/18 [==============================] - 2s 93ms/step - loss: 120.6007 - val_loss: 631.6506\n",
      "Epoch 27/100\n",
      "12/18 [===================>..........] - ETA: 0s - loss: 121.7939INFO:tensorflow:Assets written to: model_experiments\\model_6_dense_multivariate\\assets\n"
     ]
    },
    {
     "name": "stderr",
     "output_type": "stream",
     "text": [
      "INFO:tensorflow:Assets written to: model_experiments\\model_6_dense_multivariate\\assets\n"
     ]
    },
    {
     "name": "stdout",
     "output_type": "stream",
     "text": [
      "18/18 [==============================] - 2s 95ms/step - loss: 119.5189 - val_loss: 631.5273\n",
      "Epoch 28/100\n",
      "12/18 [===================>..........] - ETA: 0s - loss: 118.2768INFO:tensorflow:Assets written to: model_experiments\\model_6_dense_multivariate\\assets\n"
     ]
    },
    {
     "name": "stderr",
     "output_type": "stream",
     "text": [
      "INFO:tensorflow:Assets written to: model_experiments\\model_6_dense_multivariate\\assets\n"
     ]
    },
    {
     "name": "stdout",
     "output_type": "stream",
     "text": [
      "18/18 [==============================] - 2s 122ms/step - loss: 117.9683 - val_loss: 625.9868\n",
      "Epoch 29/100\n",
      "14/18 [======================>.......] - ETA: 0s - loss: 114.7272INFO:tensorflow:Assets written to: model_experiments\\model_6_dense_multivariate\\assets\n"
     ]
    },
    {
     "name": "stderr",
     "output_type": "stream",
     "text": [
      "INFO:tensorflow:Assets written to: model_experiments\\model_6_dense_multivariate\\assets\n"
     ]
    },
    {
     "name": "stdout",
     "output_type": "stream",
     "text": [
      "18/18 [==============================] - 2s 93ms/step - loss: 116.5050 - val_loss: 615.2443\n",
      "Epoch 30/100\n",
      "17/18 [===========================>..] - ETA: 0s - loss: 121.5473INFO:tensorflow:Assets written to: model_experiments\\model_6_dense_multivariate\\assets\n"
     ]
    },
    {
     "name": "stderr",
     "output_type": "stream",
     "text": [
      "INFO:tensorflow:Assets written to: model_experiments\\model_6_dense_multivariate\\assets\n"
     ]
    },
    {
     "name": "stdout",
     "output_type": "stream",
     "text": [
      "18/18 [==============================] - 2s 122ms/step - loss: 120.8344 - val_loss: 612.5011\n",
      "Epoch 31/100\n",
      "18/18 [==============================] - 0s 11ms/step - loss: 116.9874 - val_loss: 616.2288\n",
      "Epoch 32/100\n",
      "11/18 [=================>............] - ETA: 0s - loss: 116.7311INFO:tensorflow:Assets written to: model_experiments\\model_6_dense_multivariate\\assets\n"
     ]
    },
    {
     "name": "stderr",
     "output_type": "stream",
     "text": [
      "INFO:tensorflow:Assets written to: model_experiments\\model_6_dense_multivariate\\assets\n"
     ]
    },
    {
     "name": "stdout",
     "output_type": "stream",
     "text": [
      "18/18 [==============================] - 2s 88ms/step - loss: 115.2638 - val_loss: 606.0850\n",
      "Epoch 33/100\n",
      "18/18 [==============================] - 0s 15ms/step - loss: 114.6688 - val_loss: 627.5350\n",
      "Epoch 34/100\n",
      "11/18 [=================>............] - ETA: 0s - loss: 119.1766INFO:tensorflow:Assets written to: model_experiments\\model_6_dense_multivariate\\assets\n"
     ]
    },
    {
     "name": "stderr",
     "output_type": "stream",
     "text": [
      "INFO:tensorflow:Assets written to: model_experiments\\model_6_dense_multivariate\\assets\n"
     ]
    },
    {
     "name": "stdout",
     "output_type": "stream",
     "text": [
      "18/18 [==============================] - 2s 93ms/step - loss: 114.8126 - val_loss: 600.6804\n",
      "Epoch 35/100\n",
      "18/18 [==============================] - 0s 10ms/step - loss: 115.0141 - val_loss: 626.1343\n",
      "Epoch 36/100\n",
      "12/18 [===================>..........] - ETA: 0s - loss: 112.7375INFO:tensorflow:Assets written to: model_experiments\\model_6_dense_multivariate\\assets\n"
     ]
    },
    {
     "name": "stderr",
     "output_type": "stream",
     "text": [
      "INFO:tensorflow:Assets written to: model_experiments\\model_6_dense_multivariate\\assets\n"
     ]
    },
    {
     "name": "stdout",
     "output_type": "stream",
     "text": [
      "18/18 [==============================] - 2s 96ms/step - loss: 114.2453 - val_loss: 597.0616\n",
      "Epoch 37/100\n",
      "18/18 [==============================] - 0s 11ms/step - loss: 112.1301 - val_loss: 605.1031\n",
      "Epoch 38/100\n",
      "18/18 [==============================] - 0s 10ms/step - loss: 114.3677 - val_loss: 626.0515\n",
      "Epoch 39/100\n",
      "17/18 [===========================>..] - ETA: 0s - loss: 112.6216INFO:tensorflow:Assets written to: model_experiments\\model_6_dense_multivariate\\assets\n"
     ]
    },
    {
     "name": "stderr",
     "output_type": "stream",
     "text": [
      "INFO:tensorflow:Assets written to: model_experiments\\model_6_dense_multivariate\\assets\n"
     ]
    },
    {
     "name": "stdout",
     "output_type": "stream",
     "text": [
      "18/18 [==============================] - 2s 92ms/step - loss: 113.0464 - val_loss: 591.9172\n",
      "Epoch 40/100\n",
      "12/18 [===================>..........] - ETA: 0s - loss: 113.8661INFO:tensorflow:Assets written to: model_experiments\\model_6_dense_multivariate\\assets\n"
     ]
    },
    {
     "name": "stderr",
     "output_type": "stream",
     "text": [
      "INFO:tensorflow:Assets written to: model_experiments\\model_6_dense_multivariate\\assets\n"
     ]
    },
    {
     "name": "stdout",
     "output_type": "stream",
     "text": [
      "18/18 [==============================] - 2s 89ms/step - loss: 111.4775 - val_loss: 588.2557\n",
      "Epoch 41/100\n",
      "18/18 [==============================] - 0s 12ms/step - loss: 112.5417 - val_loss: 680.9985\n",
      "Epoch 42/100\n",
      "18/18 [==============================] - 0s 11ms/step - loss: 116.6831 - val_loss: 631.0387\n",
      "Epoch 43/100\n",
      "18/18 [==============================] - 0s 11ms/step - loss: 114.0080 - val_loss: 651.8754\n",
      "Epoch 44/100\n",
      "18/18 [==============================] - 0s 11ms/step - loss: 114.6869 - val_loss: 595.3257\n",
      "Epoch 45/100\n",
      "10/18 [===============>..............] - ETA: 0s - loss: 115.4760INFO:tensorflow:Assets written to: model_experiments\\model_6_dense_multivariate\\assets\n"
     ]
    },
    {
     "name": "stderr",
     "output_type": "stream",
     "text": [
      "INFO:tensorflow:Assets written to: model_experiments\\model_6_dense_multivariate\\assets\n"
     ]
    },
    {
     "name": "stdout",
     "output_type": "stream",
     "text": [
      "18/18 [==============================] - 2s 95ms/step - loss: 110.1615 - val_loss: 587.4025\n",
      "Epoch 46/100\n",
      "18/18 [==============================] - 0s 11ms/step - loss: 110.5638 - val_loss: 640.1520\n",
      "Epoch 47/100\n",
      "18/18 [==============================] - 0s 11ms/step - loss: 112.5956 - val_loss: 635.3892\n",
      "Epoch 48/100\n",
      "18/18 [==============================] - 0s 11ms/step - loss: 110.0066 - val_loss: 601.7554\n",
      "Epoch 49/100\n",
      "18/18 [==============================] - 0s 10ms/step - loss: 111.8763 - val_loss: 620.8073\n",
      "Epoch 50/100\n",
      "10/18 [===============>..............] - ETA: 0s - loss: 121.8747INFO:tensorflow:Assets written to: model_experiments\\model_6_dense_multivariate\\assets\n"
     ]
    },
    {
     "name": "stderr",
     "output_type": "stream",
     "text": [
      "INFO:tensorflow:Assets written to: model_experiments\\model_6_dense_multivariate\\assets\n"
     ]
    },
    {
     "name": "stdout",
     "output_type": "stream",
     "text": [
      "18/18 [==============================] - 2s 88ms/step - loss: 116.9197 - val_loss: 579.5234\n",
      "Epoch 51/100\n",
      "18/18 [==============================] - 0s 14ms/step - loss: 111.2757 - val_loss: 584.4677\n",
      "Epoch 52/100\n",
      "18/18 [==============================] - 0s 12ms/step - loss: 113.8388 - val_loss: 605.6965\n",
      "Epoch 53/100\n",
      "18/18 [==============================] - 0s 11ms/step - loss: 111.5466 - val_loss: 586.9963\n",
      "Epoch 54/100\n",
      "12/18 [===================>..........] - ETA: 0s - loss: 106.7086INFO:tensorflow:Assets written to: model_experiments\\model_6_dense_multivariate\\assets\n"
     ]
    },
    {
     "name": "stderr",
     "output_type": "stream",
     "text": [
      "INFO:tensorflow:Assets written to: model_experiments\\model_6_dense_multivariate\\assets\n"
     ]
    },
    {
     "name": "stdout",
     "output_type": "stream",
     "text": [
      "18/18 [==============================] - 2s 93ms/step - loss: 108.6698 - val_loss: 572.8281\n",
      "Epoch 55/100\n",
      "11/18 [=================>............] - ETA: 0s - loss: 123.0336INFO:tensorflow:Assets written to: model_experiments\\model_6_dense_multivariate\\assets\n"
     ]
    },
    {
     "name": "stderr",
     "output_type": "stream",
     "text": [
      "INFO:tensorflow:Assets written to: model_experiments\\model_6_dense_multivariate\\assets\n"
     ]
    },
    {
     "name": "stdout",
     "output_type": "stream",
     "text": [
      "18/18 [==============================] - 2s 93ms/step - loss: 115.4647 - val_loss: 572.1583\n",
      "Epoch 56/100\n",
      "18/18 [==============================] - 0s 11ms/step - loss: 113.1179 - val_loss: 876.7643\n",
      "Epoch 57/100\n",
      "18/18 [==============================] - 0s 10ms/step - loss: 140.8602 - val_loss: 786.5402\n",
      "Epoch 58/100\n",
      "18/18 [==============================] - 0s 10ms/step - loss: 128.8828 - val_loss: 689.0674\n",
      "Epoch 59/100\n",
      "18/18 [==============================] - 0s 11ms/step - loss: 108.6455 - val_loss: 584.9109\n",
      "Epoch 60/100\n",
      "18/18 [==============================] - 0s 10ms/step - loss: 109.6041 - val_loss: 590.2795\n",
      "Epoch 61/100\n",
      "18/18 [==============================] - 0s 10ms/step - loss: 107.9397 - val_loss: 575.7717\n",
      "Epoch 62/100\n",
      "18/18 [==============================] - 0s 11ms/step - loss: 108.6686 - val_loss: 584.3858\n",
      "Epoch 63/100\n",
      "18/18 [==============================] - 0s 9ms/step - loss: 108.4442 - val_loss: 588.8270\n",
      "Epoch 64/100\n",
      "18/18 [==============================] - 0s 10ms/step - loss: 108.3751 - val_loss: 592.6266\n",
      "Epoch 65/100\n",
      "18/18 [==============================] - 0s 10ms/step - loss: 109.2880 - val_loss: 600.3115\n",
      "Epoch 66/100\n",
      "18/18 [==============================] - 0s 10ms/step - loss: 109.0869 - val_loss: 592.4157\n",
      "Epoch 67/100\n",
      "18/18 [==============================] - 0s 11ms/step - loss: 107.8555 - val_loss: 625.5686\n",
      "Epoch 68/100\n",
      "18/18 [==============================] - 0s 11ms/step - loss: 118.4788 - val_loss: 760.2410\n",
      "Epoch 69/100\n",
      "18/18 [==============================] - 0s 10ms/step - loss: 130.6457 - val_loss: 670.5488\n",
      "Epoch 70/100\n",
      "13/18 [====================>.........] - ETA: 0s - loss: 125.3148INFO:tensorflow:Assets written to: model_experiments\\model_6_dense_multivariate\\assets\n"
     ]
    },
    {
     "name": "stderr",
     "output_type": "stream",
     "text": [
      "INFO:tensorflow:Assets written to: model_experiments\\model_6_dense_multivariate\\assets\n"
     ]
    },
    {
     "name": "stdout",
     "output_type": "stream",
     "text": [
      "18/18 [==============================] - 2s 96ms/step - loss: 124.9478 - val_loss: 568.3641\n",
      "Epoch 71/100\n",
      "18/18 [==============================] - 0s 10ms/step - loss: 112.9777 - val_loss: 587.6131\n",
      "Epoch 72/100\n",
      "18/18 [==============================] - 0s 11ms/step - loss: 108.2532 - val_loss: 591.9655\n",
      "Epoch 73/100\n",
      "18/18 [==============================] - 0s 11ms/step - loss: 113.0540 - val_loss: 646.0844\n",
      "Epoch 74/100\n",
      "10/18 [===============>..............] - ETA: 0s - loss: 110.2258INFO:tensorflow:Assets written to: model_experiments\\model_6_dense_multivariate\\assets\n"
     ]
    },
    {
     "name": "stderr",
     "output_type": "stream",
     "text": [
      "INFO:tensorflow:Assets written to: model_experiments\\model_6_dense_multivariate\\assets\n"
     ]
    },
    {
     "name": "stdout",
     "output_type": "stream",
     "text": [
      "18/18 [==============================] - 2s 108ms/step - loss: 107.5019 - val_loss: 566.9656\n",
      "Epoch 75/100\n",
      "18/18 [==============================] - 0s 13ms/step - loss: 108.4924 - val_loss: 568.3338\n",
      "Epoch 76/100\n",
      "17/18 [===========================>..] - ETA: 0s - loss: 110.5726INFO:tensorflow:Assets written to: model_experiments\\model_6_dense_multivariate\\assets\n"
     ]
    },
    {
     "name": "stderr",
     "output_type": "stream",
     "text": [
      "INFO:tensorflow:Assets written to: model_experiments\\model_6_dense_multivariate\\assets\n"
     ]
    },
    {
     "name": "stdout",
     "output_type": "stream",
     "text": [
      "18/18 [==============================] - 2s 102ms/step - loss: 110.6340 - val_loss: 565.0704\n",
      "Epoch 77/100\n",
      "18/18 [==============================] - 0s 10ms/step - loss: 108.1520 - val_loss: 593.7443\n",
      "Epoch 78/100\n",
      "18/18 [==============================] - 0s 10ms/step - loss: 107.6083 - val_loss: 598.5284\n",
      "Epoch 79/100\n",
      "18/18 [==============================] - 0s 11ms/step - loss: 107.6566 - val_loss: 582.3540\n",
      "Epoch 80/100\n",
      "18/18 [==============================] - 0s 13ms/step - loss: 107.8548 - val_loss: 574.0461\n",
      "Epoch 81/100\n",
      "18/18 [==============================] - 0s 10ms/step - loss: 106.9234 - val_loss: 567.0138\n",
      "Epoch 82/100\n",
      "18/18 [==============================] - 0s 11ms/step - loss: 117.2705 - val_loss: 577.3732\n",
      "Epoch 83/100\n",
      "18/18 [==============================] - 0s 10ms/step - loss: 111.7102 - val_loss: 699.0760\n",
      "Epoch 84/100\n",
      "18/18 [==============================] - 0s 10ms/step - loss: 113.0027 - val_loss: 572.1436\n",
      "Epoch 85/100\n",
      "18/18 [==============================] - 0s 11ms/step - loss: 106.4534 - val_loss: 585.3409\n",
      "Epoch 86/100\n",
      "18/18 [==============================] - 0s 10ms/step - loss: 107.8524 - val_loss: 591.9526\n",
      "Epoch 87/100\n",
      "18/18 [==============================] - 0s 10ms/step - loss: 106.1411 - val_loss: 583.1060\n",
      "Epoch 88/100\n",
      "12/18 [===================>..........] - ETA: 0s - loss: 108.8624INFO:tensorflow:Assets written to: model_experiments\\model_6_dense_multivariate\\assets\n"
     ]
    },
    {
     "name": "stderr",
     "output_type": "stream",
     "text": [
      "INFO:tensorflow:Assets written to: model_experiments\\model_6_dense_multivariate\\assets\n"
     ]
    },
    {
     "name": "stdout",
     "output_type": "stream",
     "text": [
      "18/18 [==============================] - 2s 94ms/step - loss: 108.1016 - val_loss: 564.2966\n",
      "Epoch 89/100\n",
      "18/18 [==============================] - 0s 11ms/step - loss: 107.0055 - val_loss: 569.2601\n",
      "Epoch 90/100\n",
      "18/18 [==============================] - 0s 11ms/step - loss: 105.5139 - val_loss: 606.8884\n",
      "Epoch 91/100\n",
      "18/18 [==============================] - 0s 11ms/step - loss: 111.0651 - val_loss: 663.6895\n",
      "Epoch 92/100\n",
      "18/18 [==============================] - 0s 11ms/step - loss: 108.9340 - val_loss: 589.6211\n",
      "Epoch 93/100\n",
      "18/18 [==============================] - 0s 10ms/step - loss: 115.6886 - val_loss: 595.4697\n",
      "Epoch 94/100\n",
      "18/18 [==============================] - 0s 10ms/step - loss: 110.3339 - val_loss: 573.9432\n",
      "Epoch 95/100\n",
      "18/18 [==============================] - 0s 10ms/step - loss: 105.6630 - val_loss: 564.7723\n",
      "Epoch 96/100\n",
      "18/18 [==============================] - 0s 11ms/step - loss: 108.5486 - val_loss: 638.5010\n",
      "Epoch 97/100\n",
      "18/18 [==============================] - 0s 11ms/step - loss: 109.6041 - val_loss: 586.5027\n",
      "Epoch 98/100\n",
      "18/18 [==============================] - 0s 10ms/step - loss: 108.2089 - val_loss: 592.7536\n",
      "Epoch 99/100\n",
      "18/18 [==============================] - 0s 11ms/step - loss: 106.9514 - val_loss: 571.3457\n",
      "Epoch 100/100\n",
      "18/18 [==============================] - 0s 10ms/step - loss: 112.4116 - val_loss: 653.7158\n"
     ]
    }
   ],
   "source": [
    "# Making miultivariate tiem series model\n",
    "model_6 = tf.keras.Sequential([\n",
    "    tf.keras.layers.Dense(128, activation=\"relu\"),\n",
    "    tf.keras.layers.Dense(HORIZON)\n",
    "], name=\"model_6_dense_multivariate\")\n",
    "\n",
    "# Compiling the model\n",
    "model_6.compile(\n",
    "    loss=\"mae\",\n",
    "    optimizer=tf.keras.optimizers.Adam()\n",
    ")\n",
    "\n",
    "# Fitting the model\n",
    "history_6 = model_6.fit(\n",
    "    X_train, y_train,\n",
    "    epochs=100,\n",
    "    batch_size=128,\n",
    "    verbose=1,\n",
    "    validation_data=(X_test, y_test),\n",
    "    callbacks=[create_model_checkpoint(model_name=model_6.name)]\n",
    ")"
   ]
  },
  {
   "cell_type": "code",
   "execution_count": 96,
   "metadata": {},
   "outputs": [
    {
     "name": "stdout",
     "output_type": "stream",
     "text": [
      "18/18 [==============================] - 0s 4ms/step - loss: 653.7158\n"
     ]
    },
    {
     "data": {
      "text/plain": [
       "653.7157592773438"
      ]
     },
     "execution_count": 96,
     "metadata": {},
     "output_type": "execute_result"
    }
   ],
   "source": [
    "# Ecaluating the model\n",
    "model_6.evaluate(X_test, y_test)"
   ]
  },
  {
   "cell_type": "code",
   "execution_count": 97,
   "metadata": {},
   "outputs": [
    {
     "name": "stdout",
     "output_type": "stream",
     "text": [
      "18/18 [==============================] - 0s 4ms/step - loss: 564.2966\n"
     ]
    },
    {
     "data": {
      "text/plain": [
       "564.2965698242188"
      ]
     },
     "execution_count": 97,
     "metadata": {},
     "output_type": "execute_result"
    }
   ],
   "source": [
    "# Loading the best performing model\n",
    "model_6 = tf.keras.models.load_model(\"model_experiments/model_6_dense_multivariate/\")\n",
    "model_6.evaluate(X_test, y_test)"
   ]
  },
  {
   "cell_type": "code",
   "execution_count": 98,
   "metadata": {},
   "outputs": [
    {
     "name": "stdout",
     "output_type": "stream",
     "text": [
      "18/18 [==============================] - 0s 4ms/step\n"
     ]
    },
    {
     "data": {
      "text/plain": [
       "<tf.Tensor: shape=(10,), dtype=float32, numpy=\n",
       "array([8870.326, 8790.72 , 9043.545, 8834.985, 8755.29 , 8726.21 ,\n",
       "       8702.681, 8566.185, 8452.646, 8547.546], dtype=float32)>"
      ]
     },
     "execution_count": 98,
     "metadata": {},
     "output_type": "execute_result"
    }
   ],
   "source": [
    "# Making predictions with multivariate model\n",
    "model_6_preds = tf.squeeze(model_6.predict(X_test))\n",
    "model_6_preds[:10]"
   ]
  },
  {
   "cell_type": "code",
   "execution_count": 99,
   "metadata": {},
   "outputs": [
    {
     "data": {
      "text/plain": [
       "{'mae': 564.2966,\n",
       " 'mse': 1158106.5,\n",
       " 'rmse': 1076.1536,\n",
       " 'mape': 2.5477402,\n",
       " 'mase': 0.9913128}"
      ]
     },
     "execution_count": 99,
     "metadata": {},
     "output_type": "execute_result"
    }
   ],
   "source": [
    "# Evaluate predictions\n",
    "model_6_results = evaluate_preds(\n",
    "    y_true=y_test,\n",
    "    y_pred=model_6_preds\n",
    ")\n",
    "model_6_results"
   ]
  },
  {
   "attachments": {},
   "cell_type": "markdown",
   "metadata": {},
   "source": [
    "### Model 7 - N-BEATS algorithm"
   ]
  },
  {
   "cell_type": "code",
   "execution_count": 100,
   "metadata": {},
   "outputs": [],
   "source": [
    "# Creating NBeatBlock custom layer\n",
    "class NBeatBlock(tf.keras.layers.Layer):\n",
    "    def __init__(\n",
    "        self,\n",
    "        input_size: int,\n",
    "        theta_size: int,\n",
    "        horizon: int,\n",
    "        n_neurons: int,\n",
    "        n_layers: int,\n",
    "        **kwargs # Will take care of super class arguments\n",
    "    ):\n",
    "        super().__init__(**kwargs)\n",
    "        self.input_size = input_size\n",
    "        self.theta_size = theta_size\n",
    "        self.horizon = horizon\n",
    "        self.n_neurons = n_neurons\n",
    "        self.n_layers = n_layers\n",
    "\n",
    "        # Block contains stack of 4 fully connected layers, each with RELU activation\n",
    "        self.hidden = [tf.keras.layers.Dense(n_neurons, activation=\"relu\") for _ in range(n_layers)]\n",
    "\n",
    "        # Output of block is a theta layer with linear activation\n",
    "        self.theta_layer = tf.keras.layers.Dense(theta_size, activation=\"linear\", name=\"theta_layer\")\n",
    "\n",
    "    def call(self, inputs):\n",
    "        x = inputs\n",
    "        for layer in self.hidden:\n",
    "            x = layer(x)\n",
    "        theta = self.theta_layer(x)\n",
    "        # Output the backcast and the forecast from theta\n",
    "        backcast, forecast = theta[:, :self.input_size], theta[:, -self.horizon:]\n",
    "        return backcast, forecast\n"
   ]
  },
  {
   "cell_type": "code",
   "execution_count": null,
   "metadata": {},
   "outputs": [],
   "source": []
  }
 ],
 "metadata": {
  "kernelspec": {
   "display_name": "Python 3",
   "language": "python",
   "name": "python3"
  },
  "language_info": {
   "codemirror_mode": {
    "name": "ipython",
    "version": 3
   },
   "file_extension": ".py",
   "mimetype": "text/x-python",
   "name": "python",
   "nbconvert_exporter": "python",
   "pygments_lexer": "ipython3",
   "version": "3.8.10"
  },
  "orig_nbformat": 4,
  "vscode": {
   "interpreter": {
    "hash": "8230a386d8e0083990873cddb8ebb5b6213275a10339230a8504f0ef8ce7f888"
   }
  }
 },
 "nbformat": 4,
 "nbformat_minor": 2
}
