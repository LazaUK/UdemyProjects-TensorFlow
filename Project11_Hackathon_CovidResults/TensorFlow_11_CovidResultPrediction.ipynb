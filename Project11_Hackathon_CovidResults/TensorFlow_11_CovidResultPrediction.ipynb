{
 "cells": [
  {
   "attachments": {},
   "cell_type": "markdown",
   "metadata": {},
   "source": [
    "# Cambridge Spark Hackathon - March 2023"
   ]
  },
  {
   "attachments": {},
   "cell_type": "markdown",
   "metadata": {},
   "source": [
    "Source of the original dataset: https://github.com/nshomron/covidpred"
   ]
  },
  {
   "attachments": {},
   "cell_type": "markdown",
   "metadata": {},
   "source": [
    "### Review of the raw data structure"
   ]
  },
  {
   "cell_type": "code",
   "execution_count": 1,
   "metadata": {},
   "outputs": [
    {
     "name": "stderr",
     "output_type": "stream",
     "text": [
      "C:\\Users\\lturakulov\\AppData\\Roaming\\Python\\Python38\\site-packages\\IPython\\core\\interactiveshell.py:3251: DtypeWarning: Columns (7) have mixed types.Specify dtype option on import or set low_memory=False.\n",
      "  exec(code_obj, self.user_global_ns, self.user_ns)\n"
     ]
    },
    {
     "data": {
      "text/plain": [
       "(   test_date  cough  fever  sore_throat  shortness_of_breath  head_ache  \\\n",
       " 0 2020-04-30    0.0    0.0          0.0                  0.0        0.0   \n",
       " 1 2020-04-30    1.0    0.0          0.0                  0.0        0.0   \n",
       " \n",
       "   corona_result age_60_and_above  gender test_indication  \n",
       " 0      negative              NaN  female             NaN  \n",
       " 1      negative              NaN  female             NaN  ,\n",
       "         test_date  cough  fever  sore_throat  shortness_of_breath  head_ache  \\\n",
       " 278846 2020-03-11    0.0    0.0          0.0                  0.0        0.0   \n",
       " 278847 2020-03-11    0.0    0.0          0.0                  0.0        0.0   \n",
       " \n",
       "        corona_result age_60_and_above gender test_indication  \n",
       " 278846           NaN              NaN    NaN             NaN  \n",
       " 278847      negative              NaN    NaN             NaN  )"
      ]
     },
     "execution_count": 1,
     "metadata": {},
     "output_type": "execute_result"
    }
   ],
   "source": [
    "# Importing required packages\n",
    "import pandas as pd\n",
    "import numpy as np\n",
    "\n",
    "# df = pd.read_csv(\n",
    "#     \"./data/corona_tested_individuals_ver_006.english.csv\",\n",
    "#     parse_dates=[\"test_date\"]\n",
    "#     # index_col=[\"test_date\"]\n",
    "# )\n",
    "\n",
    "# Read in zip file\n",
    "data_path = \"./data/corona_tested_individuals_ver_006.english.csv.zip\"\n",
    "raw_data_df = pd.read_csv(\n",
    "    data_path,\n",
    "    compression=\"zip\",\n",
    "    na_values=[\"None\",\"none\",\"Other\",\"other\"],\n",
    "    parse_dates=[\"test_date\"]\n",
    ")\n",
    "\n",
    "# First and last 2 rows\n",
    "raw_data_df.head(2), raw_data_df.tail(2)"
   ]
  },
  {
   "cell_type": "code",
   "execution_count": 2,
   "metadata": {},
   "outputs": [
    {
     "name": "stdout",
     "output_type": "stream",
     "text": [
      "<class 'pandas.core.frame.DataFrame'>\n",
      "RangeIndex: 278848 entries, 0 to 278847\n",
      "Data columns (total 10 columns):\n",
      " #   Column               Non-Null Count   Dtype         \n",
      "---  ------               --------------   -----         \n",
      " 0   test_date            278848 non-null  datetime64[ns]\n",
      " 1   cough                278596 non-null  float64       \n",
      " 2   fever                278596 non-null  float64       \n",
      " 3   sore_throat          278847 non-null  float64       \n",
      " 4   shortness_of_breath  278847 non-null  float64       \n",
      " 5   head_ache            278847 non-null  float64       \n",
      " 6   corona_result        274956 non-null  object        \n",
      " 7   age_60_and_above     151528 non-null  object        \n",
      " 8   gender               259285 non-null  object        \n",
      " 9   test_indication      36107 non-null   object        \n",
      "dtypes: datetime64[ns](1), float64(5), object(4)\n",
      "memory usage: 21.3+ MB\n"
     ]
    }
   ],
   "source": [
    "# Checking dataframe structure\n",
    "raw_data_df.info()"
   ]
  },
  {
   "cell_type": "code",
   "execution_count": 3,
   "metadata": {},
   "outputs": [
    {
     "data": {
      "text/html": [
       "<div>\n",
       "<style scoped>\n",
       "    .dataframe tbody tr th:only-of-type {\n",
       "        vertical-align: middle;\n",
       "    }\n",
       "\n",
       "    .dataframe tbody tr th {\n",
       "        vertical-align: top;\n",
       "    }\n",
       "\n",
       "    .dataframe thead th {\n",
       "        text-align: right;\n",
       "    }\n",
       "</style>\n",
       "<table border=\"1\" class=\"dataframe\">\n",
       "  <thead>\n",
       "    <tr style=\"text-align: right;\">\n",
       "      <th></th>\n",
       "      <th>cough</th>\n",
       "      <th>fever</th>\n",
       "      <th>sore_throat</th>\n",
       "      <th>shortness_of_breath</th>\n",
       "      <th>head_ache</th>\n",
       "    </tr>\n",
       "  </thead>\n",
       "  <tbody>\n",
       "    <tr>\n",
       "      <th>count</th>\n",
       "      <td>278596.000000</td>\n",
       "      <td>278596.000000</td>\n",
       "      <td>278847.000000</td>\n",
       "      <td>278847.000000</td>\n",
       "      <td>278847.000000</td>\n",
       "    </tr>\n",
       "    <tr>\n",
       "      <th>mean</th>\n",
       "      <td>0.151574</td>\n",
       "      <td>0.078077</td>\n",
       "      <td>0.006907</td>\n",
       "      <td>0.005655</td>\n",
       "      <td>0.008657</td>\n",
       "    </tr>\n",
       "    <tr>\n",
       "      <th>std</th>\n",
       "      <td>0.358608</td>\n",
       "      <td>0.268294</td>\n",
       "      <td>0.082821</td>\n",
       "      <td>0.074990</td>\n",
       "      <td>0.092640</td>\n",
       "    </tr>\n",
       "    <tr>\n",
       "      <th>min</th>\n",
       "      <td>0.000000</td>\n",
       "      <td>0.000000</td>\n",
       "      <td>0.000000</td>\n",
       "      <td>0.000000</td>\n",
       "      <td>0.000000</td>\n",
       "    </tr>\n",
       "    <tr>\n",
       "      <th>25%</th>\n",
       "      <td>0.000000</td>\n",
       "      <td>0.000000</td>\n",
       "      <td>0.000000</td>\n",
       "      <td>0.000000</td>\n",
       "      <td>0.000000</td>\n",
       "    </tr>\n",
       "    <tr>\n",
       "      <th>50%</th>\n",
       "      <td>0.000000</td>\n",
       "      <td>0.000000</td>\n",
       "      <td>0.000000</td>\n",
       "      <td>0.000000</td>\n",
       "      <td>0.000000</td>\n",
       "    </tr>\n",
       "    <tr>\n",
       "      <th>75%</th>\n",
       "      <td>0.000000</td>\n",
       "      <td>0.000000</td>\n",
       "      <td>0.000000</td>\n",
       "      <td>0.000000</td>\n",
       "      <td>0.000000</td>\n",
       "    </tr>\n",
       "    <tr>\n",
       "      <th>max</th>\n",
       "      <td>1.000000</td>\n",
       "      <td>1.000000</td>\n",
       "      <td>1.000000</td>\n",
       "      <td>1.000000</td>\n",
       "      <td>1.000000</td>\n",
       "    </tr>\n",
       "  </tbody>\n",
       "</table>\n",
       "</div>"
      ],
      "text/plain": [
       "               cough          fever    sore_throat  shortness_of_breath  \\\n",
       "count  278596.000000  278596.000000  278847.000000        278847.000000   \n",
       "mean        0.151574       0.078077       0.006907             0.005655   \n",
       "std         0.358608       0.268294       0.082821             0.074990   \n",
       "min         0.000000       0.000000       0.000000             0.000000   \n",
       "25%         0.000000       0.000000       0.000000             0.000000   \n",
       "50%         0.000000       0.000000       0.000000             0.000000   \n",
       "75%         0.000000       0.000000       0.000000             0.000000   \n",
       "max         1.000000       1.000000       1.000000             1.000000   \n",
       "\n",
       "           head_ache  \n",
       "count  278847.000000  \n",
       "mean        0.008657  \n",
       "std         0.092640  \n",
       "min         0.000000  \n",
       "25%         0.000000  \n",
       "50%         0.000000  \n",
       "75%         0.000000  \n",
       "max         1.000000  "
      ]
     },
     "execution_count": 3,
     "metadata": {},
     "output_type": "execute_result"
    }
   ],
   "source": [
    "# Checking dataframe numeric values\n",
    "raw_data_df.describe()"
   ]
  },
  {
   "cell_type": "code",
   "execution_count": 4,
   "metadata": {},
   "outputs": [
    {
     "data": {
      "text/plain": [
       "[0.0    236368\n",
       " 1.0     42228\n",
       " Name: cough, dtype: int64,\n",
       " 0.0    256844\n",
       " 1.0     21752\n",
       " Name: fever, dtype: int64,\n",
       " 0.0    276921\n",
       " 1.0      1926\n",
       " Name: sore_throat, dtype: int64,\n",
       " 0.0    277270\n",
       " 1.0      1577\n",
       " Name: shortness_of_breath, dtype: int64,\n",
       " 0.0    276433\n",
       " 1.0      2414\n",
       " Name: head_ache, dtype: int64,\n",
       " negative    260227\n",
       " positive     14729\n",
       " Name: corona_result, dtype: int64,\n",
       " No     125703\n",
       " Yes     25825\n",
       " Name: age_60_and_above, dtype: int64,\n",
       " female    130158\n",
       " male      129127\n",
       " Name: gender, dtype: int64,\n",
       " Abroad                    25468\n",
       " Contact with confirmed    10639\n",
       " Name: test_indication, dtype: int64]"
      ]
     },
     "execution_count": 4,
     "metadata": {},
     "output_type": "execute_result"
    }
   ],
   "source": [
    "# Unique values of columns\n",
    "unique_values = [\n",
    "    raw_data_df.cough.value_counts(),\n",
    "    raw_data_df.fever.value_counts(),\n",
    "    raw_data_df.sore_throat.value_counts(),\n",
    "    raw_data_df.shortness_of_breath.value_counts(),\n",
    "    raw_data_df.head_ache.value_counts(),\n",
    "    raw_data_df.corona_result.value_counts(),\n",
    "    raw_data_df.age_60_and_above.value_counts(),\n",
    "    raw_data_df.gender.value_counts(),\n",
    "    raw_data_df.test_indication.value_counts()\n",
    "]\n",
    "unique_values"
   ]
  },
  {
   "cell_type": "code",
   "execution_count": 5,
   "metadata": {},
   "outputs": [
    {
     "data": {
      "image/png": "[encoded data removed]",
      "text/plain": [
       "<Figure size 720x504 with 1 Axes>"
      ]
     },
     "metadata": {
      "needs_background": "light"
     },
     "output_type": "display_data"
    }
   ],
   "source": [
    "# Visualising Corona test result changes over time\n",
    "import matplotlib.pyplot as plt\n",
    "\n",
    "df_results_pos = raw_data_df[raw_data_df.corona_result == \"positive\"].groupby(by=\"test_date\").count()\n",
    "df_results_neg = raw_data_df[raw_data_df.corona_result == \"negative\"].groupby(by=\"test_date\").count()\n",
    "\n",
    "plt.figure(figsize=(10, 7))\n",
    "df_results_pos.corona_result.plot(label=\"Positive results\", c=\"r\")\n",
    "df_results_neg.corona_result.plot(label=\"Negative results\", c=\"g\")\n",
    "plt.xlabel(\"Analysis dates\")\n",
    "plt.ylabel(\"Test results\")\n",
    "plt.title(\"COVID-19 diagnostics: 11th March - 30th April, 2020\", fontsize=16)\n",
    "plt.legend(fontsize=14);"
   ]
  },
  {
   "attachments": {},
   "cell_type": "markdown",
   "metadata": {},
   "source": [
    "Dataset is skewed and there is a growth tendency in the number of \"negative\" results, which may be explained by the increase of mast testing and public access to the home testing kits.\n",
    "\n",
    "There are drops in the number of cases during the first and last weeks of Aptil. Cause needs to be correlated with external open sources, e.g. lockdown announcements, vaccination cycles, etc."
   ]
  },
  {
   "attachments": {},
   "cell_type": "markdown",
   "metadata": {},
   "source": [
    "### Data cleansing"
   ]
  },
  {
   "attachments": {},
   "cell_type": "markdown",
   "metadata": {},
   "source": [
    "Rationale for value / column drops:\n",
    "- Test dateis for 51 days, so will be difficult to identify seasonality patterns;\n",
    "- Age and gender columns have significant gaps, with ~20K records without answers;\n",
    "- Age and gender may contribute higher to the seriousness of side effects and recovery process, amd probably less to Covid tes result's positive or negative outcomes;\n",
    "- \"Other\" values in test_indication and corona_result columns are less meaningful."
   ]
  },
  {
   "cell_type": "code",
   "execution_count": 6,
   "metadata": {},
   "outputs": [],
   "source": [
    "# Turn test_indication in boolean\n",
    "raw_data_df.test_indication = raw_data_df.test_indication==\"Contact with confirmed\"\n",
    "raw_data_df.rename(columns={\"test_indication\":\"contact_with_confirmed\"},inplace=True)\n",
    "\n",
    "# Remove unwanted columns\n",
    "raw_data_df = raw_data_df.drop([\"test_date\",\"age_60_and_above\",\"gender\"],axis=1)\n",
    "\n",
    "# Remove Nan values from corona_result\n",
    "raw_data_df = raw_data_df[raw_data_df[\"corona_result\"].isin([\"positive\",\"negative\"])]\n",
    "raw_data_df.corona_result = raw_data_df.corona_result == \"positive\"\n",
    "raw_data_df.rename(columns={\"corona_result\":\"label_corona_result\"},inplace=True)\n",
    "\n",
    "# Dropping raws with NaN values\n",
    "raw_data_df = raw_data_df.dropna(axis=0)\n",
    "\n",
    "# Create target dataframe for ML training\n",
    "raw_data_df = raw_data_df[[\n",
    "    \"cough\",\n",
    "    \"fever\",\n",
    "    \"sore_throat\",\n",
    "    \"shortness_of_breath\",\n",
    "    \"head_ache\",\n",
    "    \"contact_with_confirmed\",\n",
    "    \"label_corona_result\"\n",
    "]]\n",
    "data_df = raw_data_df.copy()"
   ]
  },
  {
   "cell_type": "code",
   "execution_count": 7,
   "metadata": {},
   "outputs": [
    {
     "name": "stdout",
     "output_type": "stream",
     "text": [
      "<class 'pandas.core.frame.DataFrame'>\n",
      "Int64Index: 274702 entries, 0 to 278847\n",
      "Data columns (total 7 columns):\n",
      " #   Column                  Non-Null Count   Dtype  \n",
      "---  ------                  --------------   -----  \n",
      " 0   cough                   274702 non-null  float64\n",
      " 1   fever                   274702 non-null  float64\n",
      " 2   sore_throat             274702 non-null  float64\n",
      " 3   shortness_of_breath     274702 non-null  float64\n",
      " 4   head_ache               274702 non-null  float64\n",
      " 5   contact_with_confirmed  274702 non-null  bool   \n",
      " 6   label_corona_result     274702 non-null  bool   \n",
      "dtypes: bool(2), float64(5)\n",
      "memory usage: 13.1 MB\n"
     ]
    }
   ],
   "source": [
    "# Checking cleansed dataframe\n",
    "data_df.info()"
   ]
  },
  {
   "cell_type": "code",
   "execution_count": 8,
   "metadata": {},
   "outputs": [
    {
     "data": {
      "text/plain": [
       "[0.0    233133\n",
       " 1.0     41569\n",
       " Name: cough, dtype: int64,\n",
       " 0.0    253328\n",
       " 1.0     21374\n",
       " Name: fever, dtype: int64,\n",
       " 0.0    272814\n",
       " 1.0      1888\n",
       " Name: sore_throat, dtype: int64,\n",
       " 0.0    273156\n",
       " 1.0      1546\n",
       " Name: shortness_of_breath, dtype: int64,\n",
       " 0.0    272325\n",
       " 1.0      2377\n",
       " Name: head_ache, dtype: int64,\n",
       " False    264235\n",
       " True      10467\n",
       " Name: contact_with_confirmed, dtype: int64,\n",
       " False    260008\n",
       " True      14694\n",
       " Name: label_corona_result, dtype: int64]"
      ]
     },
     "execution_count": 8,
     "metadata": {},
     "output_type": "execute_result"
    }
   ],
   "source": [
    "# Unique values of columns\n",
    "cleansed_unique_values = [\n",
    "    data_df.cough.value_counts(),\n",
    "    data_df.fever.value_counts(),\n",
    "    data_df.sore_throat.value_counts(),\n",
    "    data_df.shortness_of_breath.value_counts(),\n",
    "    data_df.head_ache.value_counts(),\n",
    "    data_df.contact_with_confirmed.value_counts(),\n",
    "    data_df.label_corona_result.value_counts()\n",
    "]\n",
    "cleansed_unique_values"
   ]
  },
  {
   "attachments": {},
   "cell_type": "markdown",
   "metadata": {},
   "source": [
    "### Data visualisation"
   ]
  },
  {
   "cell_type": "code",
   "execution_count": 9,
   "metadata": {},
   "outputs": [
    {
     "data": {
      "text/html": [
       "<div>\n",
       "<style scoped>\n",
       "    .dataframe tbody tr th:only-of-type {\n",
       "        vertical-align: middle;\n",
       "    }\n",
       "\n",
       "    .dataframe tbody tr th {\n",
       "        vertical-align: top;\n",
       "    }\n",
       "\n",
       "    .dataframe thead th {\n",
       "        text-align: right;\n",
       "    }\n",
       "</style>\n",
       "<table border=\"1\" class=\"dataframe\">\n",
       "  <thead>\n",
       "    <tr style=\"text-align: right;\">\n",
       "      <th></th>\n",
       "      <th>cough</th>\n",
       "      <th>fever</th>\n",
       "      <th>sore_throat</th>\n",
       "      <th>shortness_of_breath</th>\n",
       "      <th>head_ache</th>\n",
       "      <th>contact_with_confirmed</th>\n",
       "      <th>label_corona_result</th>\n",
       "    </tr>\n",
       "  </thead>\n",
       "  <tbody>\n",
       "    <tr>\n",
       "      <th>0</th>\n",
       "      <td>0.0</td>\n",
       "      <td>0.0</td>\n",
       "      <td>0.0</td>\n",
       "      <td>0.0</td>\n",
       "      <td>0.0</td>\n",
       "      <td>False</td>\n",
       "      <td>False</td>\n",
       "    </tr>\n",
       "    <tr>\n",
       "      <th>1</th>\n",
       "      <td>1.0</td>\n",
       "      <td>0.0</td>\n",
       "      <td>0.0</td>\n",
       "      <td>0.0</td>\n",
       "      <td>0.0</td>\n",
       "      <td>False</td>\n",
       "      <td>False</td>\n",
       "    </tr>\n",
       "    <tr>\n",
       "      <th>2</th>\n",
       "      <td>0.0</td>\n",
       "      <td>1.0</td>\n",
       "      <td>0.0</td>\n",
       "      <td>0.0</td>\n",
       "      <td>0.0</td>\n",
       "      <td>False</td>\n",
       "      <td>False</td>\n",
       "    </tr>\n",
       "    <tr>\n",
       "      <th>3</th>\n",
       "      <td>1.0</td>\n",
       "      <td>0.0</td>\n",
       "      <td>0.0</td>\n",
       "      <td>0.0</td>\n",
       "      <td>0.0</td>\n",
       "      <td>False</td>\n",
       "      <td>False</td>\n",
       "    </tr>\n",
       "    <tr>\n",
       "      <th>4</th>\n",
       "      <td>1.0</td>\n",
       "      <td>0.0</td>\n",
       "      <td>0.0</td>\n",
       "      <td>0.0</td>\n",
       "      <td>0.0</td>\n",
       "      <td>False</td>\n",
       "      <td>False</td>\n",
       "    </tr>\n",
       "    <tr>\n",
       "      <th>...</th>\n",
       "      <td>...</td>\n",
       "      <td>...</td>\n",
       "      <td>...</td>\n",
       "      <td>...</td>\n",
       "      <td>...</td>\n",
       "      <td>...</td>\n",
       "      <td>...</td>\n",
       "    </tr>\n",
       "    <tr>\n",
       "      <th>278842</th>\n",
       "      <td>0.0</td>\n",
       "      <td>0.0</td>\n",
       "      <td>0.0</td>\n",
       "      <td>0.0</td>\n",
       "      <td>0.0</td>\n",
       "      <td>False</td>\n",
       "      <td>False</td>\n",
       "    </tr>\n",
       "    <tr>\n",
       "      <th>278843</th>\n",
       "      <td>0.0</td>\n",
       "      <td>0.0</td>\n",
       "      <td>0.0</td>\n",
       "      <td>0.0</td>\n",
       "      <td>0.0</td>\n",
       "      <td>False</td>\n",
       "      <td>False</td>\n",
       "    </tr>\n",
       "    <tr>\n",
       "      <th>278844</th>\n",
       "      <td>0.0</td>\n",
       "      <td>0.0</td>\n",
       "      <td>0.0</td>\n",
       "      <td>0.0</td>\n",
       "      <td>0.0</td>\n",
       "      <td>False</td>\n",
       "      <td>False</td>\n",
       "    </tr>\n",
       "    <tr>\n",
       "      <th>278845</th>\n",
       "      <td>0.0</td>\n",
       "      <td>0.0</td>\n",
       "      <td>0.0</td>\n",
       "      <td>0.0</td>\n",
       "      <td>0.0</td>\n",
       "      <td>True</td>\n",
       "      <td>True</td>\n",
       "    </tr>\n",
       "    <tr>\n",
       "      <th>278847</th>\n",
       "      <td>0.0</td>\n",
       "      <td>0.0</td>\n",
       "      <td>0.0</td>\n",
       "      <td>0.0</td>\n",
       "      <td>0.0</td>\n",
       "      <td>False</td>\n",
       "      <td>False</td>\n",
       "    </tr>\n",
       "  </tbody>\n",
       "</table>\n",
       "<p>274702 rows × 7 columns</p>\n",
       "</div>"
      ],
      "text/plain": [
       "        cough  fever  sore_throat  shortness_of_breath  head_ache  \\\n",
       "0         0.0    0.0          0.0                  0.0        0.0   \n",
       "1         1.0    0.0          0.0                  0.0        0.0   \n",
       "2         0.0    1.0          0.0                  0.0        0.0   \n",
       "3         1.0    0.0          0.0                  0.0        0.0   \n",
       "4         1.0    0.0          0.0                  0.0        0.0   \n",
       "...       ...    ...          ...                  ...        ...   \n",
       "278842    0.0    0.0          0.0                  0.0        0.0   \n",
       "278843    0.0    0.0          0.0                  0.0        0.0   \n",
       "278844    0.0    0.0          0.0                  0.0        0.0   \n",
       "278845    0.0    0.0          0.0                  0.0        0.0   \n",
       "278847    0.0    0.0          0.0                  0.0        0.0   \n",
       "\n",
       "        contact_with_confirmed  label_corona_result  \n",
       "0                        False                False  \n",
       "1                        False                False  \n",
       "2                        False                False  \n",
       "3                        False                False  \n",
       "4                        False                False  \n",
       "...                        ...                  ...  \n",
       "278842                   False                False  \n",
       "278843                   False                False  \n",
       "278844                   False                False  \n",
       "278845                    True                 True  \n",
       "278847                   False                False  \n",
       "\n",
       "[274702 rows x 7 columns]"
      ]
     },
     "execution_count": 9,
     "metadata": {},
     "output_type": "execute_result"
    }
   ],
   "source": [
    "data_df"
   ]
  },
  {
   "cell_type": "code",
   "execution_count": 10,
   "metadata": {},
   "outputs": [
    {
     "data": {
      "text/html": [
       "<div>\n",
       "<style scoped>\n",
       "    .dataframe tbody tr th:only-of-type {\n",
       "        vertical-align: middle;\n",
       "    }\n",
       "\n",
       "    .dataframe tbody tr th {\n",
       "        vertical-align: top;\n",
       "    }\n",
       "\n",
       "    .dataframe thead th {\n",
       "        text-align: right;\n",
       "    }\n",
       "</style>\n",
       "<table border=\"1\" class=\"dataframe\">\n",
       "  <thead>\n",
       "    <tr style=\"text-align: right;\">\n",
       "      <th></th>\n",
       "      <th>cough</th>\n",
       "      <th>fever</th>\n",
       "      <th>sore_throat</th>\n",
       "      <th>shortness_of_breath</th>\n",
       "      <th>head_ache</th>\n",
       "      <th>contact_with_confirmed</th>\n",
       "      <th>label_corona_result</th>\n",
       "    </tr>\n",
       "  </thead>\n",
       "  <tbody>\n",
       "    <tr>\n",
       "      <th>0</th>\n",
       "      <td>0</td>\n",
       "      <td>0</td>\n",
       "      <td>0</td>\n",
       "      <td>0</td>\n",
       "      <td>0</td>\n",
       "      <td>0</td>\n",
       "      <td>0</td>\n",
       "    </tr>\n",
       "    <tr>\n",
       "      <th>1</th>\n",
       "      <td>1</td>\n",
       "      <td>0</td>\n",
       "      <td>0</td>\n",
       "      <td>0</td>\n",
       "      <td>0</td>\n",
       "      <td>0</td>\n",
       "      <td>0</td>\n",
       "    </tr>\n",
       "    <tr>\n",
       "      <th>2</th>\n",
       "      <td>0</td>\n",
       "      <td>1</td>\n",
       "      <td>0</td>\n",
       "      <td>0</td>\n",
       "      <td>0</td>\n",
       "      <td>0</td>\n",
       "      <td>0</td>\n",
       "    </tr>\n",
       "    <tr>\n",
       "      <th>3</th>\n",
       "      <td>1</td>\n",
       "      <td>0</td>\n",
       "      <td>0</td>\n",
       "      <td>0</td>\n",
       "      <td>0</td>\n",
       "      <td>0</td>\n",
       "      <td>0</td>\n",
       "    </tr>\n",
       "    <tr>\n",
       "      <th>4</th>\n",
       "      <td>1</td>\n",
       "      <td>0</td>\n",
       "      <td>0</td>\n",
       "      <td>0</td>\n",
       "      <td>0</td>\n",
       "      <td>0</td>\n",
       "      <td>0</td>\n",
       "    </tr>\n",
       "    <tr>\n",
       "      <th>...</th>\n",
       "      <td>...</td>\n",
       "      <td>...</td>\n",
       "      <td>...</td>\n",
       "      <td>...</td>\n",
       "      <td>...</td>\n",
       "      <td>...</td>\n",
       "      <td>...</td>\n",
       "    </tr>\n",
       "    <tr>\n",
       "      <th>278842</th>\n",
       "      <td>0</td>\n",
       "      <td>0</td>\n",
       "      <td>0</td>\n",
       "      <td>0</td>\n",
       "      <td>0</td>\n",
       "      <td>0</td>\n",
       "      <td>0</td>\n",
       "    </tr>\n",
       "    <tr>\n",
       "      <th>278843</th>\n",
       "      <td>0</td>\n",
       "      <td>0</td>\n",
       "      <td>0</td>\n",
       "      <td>0</td>\n",
       "      <td>0</td>\n",
       "      <td>0</td>\n",
       "      <td>0</td>\n",
       "    </tr>\n",
       "    <tr>\n",
       "      <th>278844</th>\n",
       "      <td>0</td>\n",
       "      <td>0</td>\n",
       "      <td>0</td>\n",
       "      <td>0</td>\n",
       "      <td>0</td>\n",
       "      <td>0</td>\n",
       "      <td>0</td>\n",
       "    </tr>\n",
       "    <tr>\n",
       "      <th>278845</th>\n",
       "      <td>0</td>\n",
       "      <td>0</td>\n",
       "      <td>0</td>\n",
       "      <td>0</td>\n",
       "      <td>0</td>\n",
       "      <td>1</td>\n",
       "      <td>1</td>\n",
       "    </tr>\n",
       "    <tr>\n",
       "      <th>278847</th>\n",
       "      <td>0</td>\n",
       "      <td>0</td>\n",
       "      <td>0</td>\n",
       "      <td>0</td>\n",
       "      <td>0</td>\n",
       "      <td>0</td>\n",
       "      <td>0</td>\n",
       "    </tr>\n",
       "  </tbody>\n",
       "</table>\n",
       "<p>274702 rows × 7 columns</p>\n",
       "</div>"
      ],
      "text/plain": [
       "        cough  fever  sore_throat  shortness_of_breath  head_ache  \\\n",
       "0           0      0            0                    0          0   \n",
       "1           1      0            0                    0          0   \n",
       "2           0      1            0                    0          0   \n",
       "3           1      0            0                    0          0   \n",
       "4           1      0            0                    0          0   \n",
       "...       ...    ...          ...                  ...        ...   \n",
       "278842      0      0            0                    0          0   \n",
       "278843      0      0            0                    0          0   \n",
       "278844      0      0            0                    0          0   \n",
       "278845      0      0            0                    0          0   \n",
       "278847      0      0            0                    0          0   \n",
       "\n",
       "        contact_with_confirmed  label_corona_result  \n",
       "0                            0                    0  \n",
       "1                            0                    0  \n",
       "2                            0                    0  \n",
       "3                            0                    0  \n",
       "4                            0                    0  \n",
       "...                        ...                  ...  \n",
       "278842                       0                    0  \n",
       "278843                       0                    0  \n",
       "278844                       0                    0  \n",
       "278845                       1                    1  \n",
       "278847                       0                    0  \n",
       "\n",
       "[274702 rows x 7 columns]"
      ]
     },
     "execution_count": 10,
     "metadata": {},
     "output_type": "execute_result"
    }
   ],
   "source": [
    "data_df = data_df.astype(int)\n",
    "data_df"
   ]
  },
  {
   "cell_type": "code",
   "execution_count": 11,
   "metadata": {},
   "outputs": [
    {
     "data": {
      "text/html": [
       "<style type=\"text/css\">\n",
       "#T_9653f_row0_col0, #T_9653f_row1_col1, #T_9653f_row2_col2, #T_9653f_row3_col3, #T_9653f_row4_col4, #T_9653f_row5_col5, #T_9653f_row6_col6 {\n",
       "  background-color: #b40426;\n",
       "  color: #f1f1f1;\n",
       "}\n",
       "#T_9653f_row0_col1 {\n",
       "  background-color: #b9d0f9;\n",
       "  color: #000000;\n",
       "}\n",
       "#T_9653f_row0_col2, #T_9653f_row0_col3, #T_9653f_row0_col4, #T_9653f_row0_col6, #T_9653f_row2_col1, #T_9653f_row3_col0, #T_9653f_row3_col5 {\n",
       "  background-color: #3b4cc0;\n",
       "  color: #f1f1f1;\n",
       "}\n",
       "#T_9653f_row0_col5 {\n",
       "  background-color: #4f69d9;\n",
       "  color: #f1f1f1;\n",
       "}\n",
       "#T_9653f_row1_col0 {\n",
       "  background-color: #bcd2f7;\n",
       "  color: #000000;\n",
       "}\n",
       "#T_9653f_row1_col2, #T_9653f_row3_col1 {\n",
       "  background-color: #3c4ec2;\n",
       "  color: #f1f1f1;\n",
       "}\n",
       "#T_9653f_row1_col3 {\n",
       "  background-color: #4055c8;\n",
       "  color: #f1f1f1;\n",
       "}\n",
       "#T_9653f_row1_col4 {\n",
       "  background-color: #4c66d6;\n",
       "  color: #f1f1f1;\n",
       "}\n",
       "#T_9653f_row1_col5, #T_9653f_row2_col5 {\n",
       "  background-color: #4961d2;\n",
       "  color: #f1f1f1;\n",
       "}\n",
       "#T_9653f_row1_col6 {\n",
       "  background-color: #5572df;\n",
       "  color: #f1f1f1;\n",
       "}\n",
       "#T_9653f_row2_col0, #T_9653f_row4_col0 {\n",
       "  background-color: #3d50c3;\n",
       "  color: #f1f1f1;\n",
       "}\n",
       "#T_9653f_row2_col3, #T_9653f_row5_col0, #T_9653f_row6_col0 {\n",
       "  background-color: #5977e3;\n",
       "  color: #f1f1f1;\n",
       "}\n",
       "#T_9653f_row2_col4 {\n",
       "  background-color: #86a9fc;\n",
       "  color: #f1f1f1;\n",
       "}\n",
       "#T_9653f_row2_col6, #T_9653f_row4_col5 {\n",
       "  background-color: #5a78e4;\n",
       "  color: #f1f1f1;\n",
       "}\n",
       "#T_9653f_row3_col2 {\n",
       "  background-color: #5673e0;\n",
       "  color: #f1f1f1;\n",
       "}\n",
       "#T_9653f_row3_col4 {\n",
       "  background-color: #5875e1;\n",
       "  color: #f1f1f1;\n",
       "}\n",
       "#T_9653f_row3_col6 {\n",
       "  background-color: #485fd1;\n",
       "  color: #f1f1f1;\n",
       "}\n",
       "#T_9653f_row4_col1 {\n",
       "  background-color: #4a63d3;\n",
       "  color: #f1f1f1;\n",
       "}\n",
       "#T_9653f_row4_col2 {\n",
       "  background-color: #88abfd;\n",
       "  color: #000000;\n",
       "}\n",
       "#T_9653f_row4_col3 {\n",
       "  background-color: #5b7ae5;\n",
       "  color: #f1f1f1;\n",
       "}\n",
       "#T_9653f_row4_col6 {\n",
       "  background-color: #80a3fa;\n",
       "  color: #f1f1f1;\n",
       "}\n",
       "#T_9653f_row5_col1 {\n",
       "  background-color: #4e68d8;\n",
       "  color: #f1f1f1;\n",
       "}\n",
       "#T_9653f_row5_col2 {\n",
       "  background-color: #506bda;\n",
       "  color: #f1f1f1;\n",
       "}\n",
       "#T_9653f_row5_col3 {\n",
       "  background-color: #455cce;\n",
       "  color: #f1f1f1;\n",
       "}\n",
       "#T_9653f_row5_col4 {\n",
       "  background-color: #6282ea;\n",
       "  color: #f1f1f1;\n",
       "}\n",
       "#T_9653f_row5_col6 {\n",
       "  background-color: #d4dbe6;\n",
       "  color: #000000;\n",
       "}\n",
       "#T_9653f_row6_col1 {\n",
       "  background-color: #6f92f3;\n",
       "  color: #f1f1f1;\n",
       "}\n",
       "#T_9653f_row6_col2 {\n",
       "  background-color: #7699f6;\n",
       "  color: #f1f1f1;\n",
       "}\n",
       "#T_9653f_row6_col3 {\n",
       "  background-color: #6788ee;\n",
       "  color: #f1f1f1;\n",
       "}\n",
       "#T_9653f_row6_col4 {\n",
       "  background-color: #98b9ff;\n",
       "  color: #000000;\n",
       "}\n",
       "#T_9653f_row6_col5 {\n",
       "  background-color: #dddcdc;\n",
       "  color: #000000;\n",
       "}\n",
       "</style>\n",
       "<table id=\"T_9653f_\">\n",
       "  <thead>\n",
       "    <tr>\n",
       "      <th class=\"blank level0\" >&nbsp;</th>\n",
       "      <th class=\"col_heading level0 col0\" >cough</th>\n",
       "      <th class=\"col_heading level0 col1\" >fever</th>\n",
       "      <th class=\"col_heading level0 col2\" >sore_throat</th>\n",
       "      <th class=\"col_heading level0 col3\" >shortness_of_breath</th>\n",
       "      <th class=\"col_heading level0 col4\" >head_ache</th>\n",
       "      <th class=\"col_heading level0 col5\" >contact_with_confirmed</th>\n",
       "      <th class=\"col_heading level0 col6\" >label_corona_result</th>\n",
       "    </tr>\n",
       "  </thead>\n",
       "  <tbody>\n",
       "    <tr>\n",
       "      <th id=\"T_9653f_level0_row0\" class=\"row_heading level0 row0\" >cough</th>\n",
       "      <td id=\"T_9653f_row0_col0\" class=\"data row0 col0\" >1.000000</td>\n",
       "      <td id=\"T_9653f_row0_col1\" class=\"data row0 col1\" >0.453797</td>\n",
       "      <td id=\"T_9653f_row0_col2\" class=\"data row0 col2\" >0.115613</td>\n",
       "      <td id=\"T_9653f_row0_col3\" class=\"data row0 col3\" >0.106330</td>\n",
       "      <td id=\"T_9653f_row0_col4\" class=\"data row0 col4\" >0.116730</td>\n",
       "      <td id=\"T_9653f_row0_col5\" class=\"data row0 col5\" >0.196275</td>\n",
       "      <td id=\"T_9653f_row0_col6\" class=\"data row0 col6\" >0.196763</td>\n",
       "    </tr>\n",
       "    <tr>\n",
       "      <th id=\"T_9653f_level0_row1\" class=\"row_heading level0 row1\" >fever</th>\n",
       "      <td id=\"T_9653f_row1_col0\" class=\"data row1 col0\" >0.453797</td>\n",
       "      <td id=\"T_9653f_row1_col1\" class=\"data row1 col1\" >1.000000</td>\n",
       "      <td id=\"T_9653f_row1_col2\" class=\"data row1 col2\" >0.122233</td>\n",
       "      <td id=\"T_9653f_row1_col3\" class=\"data row1 col3\" >0.125840</td>\n",
       "      <td id=\"T_9653f_row1_col4\" class=\"data row1 col4\" >0.169774</td>\n",
       "      <td id=\"T_9653f_row1_col5\" class=\"data row1 col5\" >0.180061</td>\n",
       "      <td id=\"T_9653f_row1_col6\" class=\"data row1 col6\" >0.266633</td>\n",
       "    </tr>\n",
       "    <tr>\n",
       "      <th id=\"T_9653f_level0_row2\" class=\"row_heading level0 row2\" >sore_throat</th>\n",
       "      <td id=\"T_9653f_row2_col0\" class=\"data row2 col0\" >0.115613</td>\n",
       "      <td id=\"T_9653f_row2_col1\" class=\"data row2 col1\" >0.122233</td>\n",
       "      <td id=\"T_9653f_row2_col2\" class=\"data row2 col2\" >1.000000</td>\n",
       "      <td id=\"T_9653f_row2_col3\" class=\"data row2 col3\" >0.195181</td>\n",
       "      <td id=\"T_9653f_row2_col4\" class=\"data row2 col4\" >0.323343</td>\n",
       "      <td id=\"T_9653f_row2_col5\" class=\"data row2 col5\" >0.180226</td>\n",
       "      <td id=\"T_9653f_row2_col6\" class=\"data row2 col6\" >0.278462</td>\n",
       "    </tr>\n",
       "    <tr>\n",
       "      <th id=\"T_9653f_level0_row3\" class=\"row_heading level0 row3\" >shortness_of_breath</th>\n",
       "      <td id=\"T_9653f_row3_col0\" class=\"data row3 col0\" >0.106330</td>\n",
       "      <td id=\"T_9653f_row3_col1\" class=\"data row3 col1\" >0.125840</td>\n",
       "      <td id=\"T_9653f_row3_col2\" class=\"data row3 col2\" >0.195181</td>\n",
       "      <td id=\"T_9653f_row3_col3\" class=\"data row3 col3\" >1.000000</td>\n",
       "      <td id=\"T_9653f_row3_col4\" class=\"data row3 col4\" >0.202082</td>\n",
       "      <td id=\"T_9653f_row3_col5\" class=\"data row3 col5\" >0.138045</td>\n",
       "      <td id=\"T_9653f_row3_col6\" class=\"data row3 col6\" >0.233417</td>\n",
       "    </tr>\n",
       "    <tr>\n",
       "      <th id=\"T_9653f_level0_row4\" class=\"row_heading level0 row4\" >head_ache</th>\n",
       "      <td id=\"T_9653f_row4_col0\" class=\"data row4 col0\" >0.116730</td>\n",
       "      <td id=\"T_9653f_row4_col1\" class=\"data row4 col1\" >0.169774</td>\n",
       "      <td id=\"T_9653f_row4_col2\" class=\"data row4 col2\" >0.323343</td>\n",
       "      <td id=\"T_9653f_row4_col3\" class=\"data row4 col3\" >0.202082</td>\n",
       "      <td id=\"T_9653f_row4_col4\" class=\"data row4 col4\" >1.000000</td>\n",
       "      <td id=\"T_9653f_row4_col5\" class=\"data row4 col5\" >0.228591</td>\n",
       "      <td id=\"T_9653f_row4_col6\" class=\"data row4 col6\" >0.367324</td>\n",
       "    </tr>\n",
       "    <tr>\n",
       "      <th id=\"T_9653f_level0_row5\" class=\"row_heading level0 row5\" >contact_with_confirmed</th>\n",
       "      <td id=\"T_9653f_row5_col0\" class=\"data row5 col0\" >0.196275</td>\n",
       "      <td id=\"T_9653f_row5_col1\" class=\"data row5 col1\" >0.180061</td>\n",
       "      <td id=\"T_9653f_row5_col2\" class=\"data row5 col2\" >0.180226</td>\n",
       "      <td id=\"T_9653f_row5_col3\" class=\"data row5 col3\" >0.138045</td>\n",
       "      <td id=\"T_9653f_row5_col4\" class=\"data row5 col4\" >0.228591</td>\n",
       "      <td id=\"T_9653f_row5_col5\" class=\"data row5 col5\" >1.000000</td>\n",
       "      <td id=\"T_9653f_row5_col6\" class=\"data row5 col6\" >0.570262</td>\n",
       "    </tr>\n",
       "    <tr>\n",
       "      <th id=\"T_9653f_level0_row6\" class=\"row_heading level0 row6\" >label_corona_result</th>\n",
       "      <td id=\"T_9653f_row6_col0\" class=\"data row6 col0\" >0.196763</td>\n",
       "      <td id=\"T_9653f_row6_col1\" class=\"data row6 col1\" >0.266633</td>\n",
       "      <td id=\"T_9653f_row6_col2\" class=\"data row6 col2\" >0.278462</td>\n",
       "      <td id=\"T_9653f_row6_col3\" class=\"data row6 col3\" >0.233417</td>\n",
       "      <td id=\"T_9653f_row6_col4\" class=\"data row6 col4\" >0.367324</td>\n",
       "      <td id=\"T_9653f_row6_col5\" class=\"data row6 col5\" >0.570262</td>\n",
       "      <td id=\"T_9653f_row6_col6\" class=\"data row6 col6\" >1.000000</td>\n",
       "    </tr>\n",
       "  </tbody>\n",
       "</table>\n"
      ],
      "text/plain": [
       "<pandas.io.formats.style.Styler at 0x1730da5ec70>"
      ]
     },
     "execution_count": 11,
     "metadata": {},
     "output_type": "execute_result"
    }
   ],
   "source": [
    "# Correlation matrix\n",
    "corrM = data_df.corr()\n",
    "corrM.style.background_gradient(cmap='coolwarm')"
   ]
  },
  {
   "cell_type": "code",
   "execution_count": 12,
   "metadata": {},
   "outputs": [
    {
     "data": {
      "image/png": "[encoded data removed]",
      "text/plain": [
       "<Figure size 720x576 with 2 Axes>"
      ]
     },
     "metadata": {
      "needs_background": "light"
     },
     "output_type": "display_data"
    }
   ],
   "source": [
    "# Visualise with Matplotlib\n",
    "\n",
    "# Main matrix\n",
    "fig, ax = plt.subplots(figsize=(10, 8))\n",
    "ax.matshow(corrM, cmap='coolwarm')\n",
    "plt.xticks(range(len(corrM.columns)), corrM.columns)\n",
    "plt.yticks(range(len(corrM.columns)), corrM.columns)\n",
    "\n",
    "# Colour bar\n",
    "sm = plt.cm.ScalarMappable(\n",
    "    cmap='coolwarm',\n",
    "    norm=plt.Normalize(vmin=0, vmax=1)\n",
    ")\n",
    "cb = plt.colorbar(sm)\n",
    "cb.ax.tick_params(labelsize=10);"
   ]
  },
  {
   "cell_type": "code",
   "execution_count": 13,
   "metadata": {},
   "outputs": [
    {
     "data": {
      "text/plain": [
       "<AxesSubplot:>"
      ]
     },
     "execution_count": 13,
     "metadata": {},
     "output_type": "execute_result"
    },
    {
     "data": {
      "image/png": "[encoded data removed]",
      "text/plain": [
       "<Figure size 720x576 with 2 Axes>"
      ]
     },
     "metadata": {
      "needs_background": "light"
     },
     "output_type": "display_data"
    }
   ],
   "source": [
    "# Visualise with Seaborn\n",
    "import seaborn as sns\n",
    "\n",
    "f, ax = plt.subplots(figsize=(10, 8))\n",
    "sns.heatmap(corrM,\n",
    "    cmap=sns.diverging_palette(220, 10, as_cmap=True),\n",
    "    vmin=-1.0, vmax=1.0,\n",
    "    square=True, ax=ax)"
   ]
  },
  {
   "attachments": {},
   "cell_type": "markdown",
   "metadata": {},
   "source": [
    "### Similar use case from the Insurance industry"
   ]
  },
  {
   "attachments": {},
   "cell_type": "markdown",
   "metadata": {},
   "source": [
    "Found very interesting and somehow simuilar case, where imbalanced dataset is used to detect suspicious claims in the insurance industry: https://sarit-maitra.medium.com/neural-network-to-solve-skewed-binary-class-distribution-4e2c9f2b4bbf. Adapted the code for our Hackathon dataset's specifics."
   ]
  },
  {
   "attachments": {},
   "cell_type": "markdown",
   "metadata": {},
   "source": [
    "### Prepare train and test datasets"
   ]
  },
  {
   "cell_type": "code",
   "execution_count": 14,
   "metadata": {},
   "outputs": [
    {
     "name": "stdout",
     "output_type": "stream",
     "text": [
      "(219761, 6) (219761,) (54941, 6) (54941,)\n"
     ]
    }
   ],
   "source": [
    "# Splitting dataset into Train abd Test subsets\n",
    "from sklearn.model_selection import train_test_split\n",
    "\n",
    "features = data_df.columns[:-1]\n",
    "X = data_df[features]\n",
    "y = data_df[\"label_corona_result\"]\n",
    "\n",
    "X_train, X_test, y_train, y_test = train_test_split(\n",
    "    X, y,\n",
    "    test_size=0.20,\n",
    "    random_state=42\n",
    ")\n",
    "print(X_train.shape, y_train.shape, X_test.shape, y_test.shape)"
   ]
  },
  {
   "attachments": {},
   "cell_type": "markdown",
   "metadata": {},
   "source": [
    "### Defining helper functions"
   ]
  },
  {
   "cell_type": "code",
   "execution_count": 15,
   "metadata": {},
   "outputs": [],
   "source": [
    "# Evaluation metrics\n",
    "import tensorflow as tf\n",
    "\n",
    "METRICS = [\n",
    "    tf.keras.metrics.TruePositives(name='tp'),\n",
    "    tf.keras.metrics.FalsePositives(name='fp'),\n",
    "    tf.keras.metrics.TrueNegatives(name='tn'),\n",
    "    tf.keras.metrics.FalseNegatives(name='fn'),\n",
    "    tf.keras.metrics.BinaryAccuracy(name='accuracy'),\n",
    "    tf.keras.metrics.Precision(name='precision'),\n",
    "    tf.keras.metrics.Recall(name='recall'),\n",
    "    tf.keras.metrics.AUC(name='auc'),\n",
    "    tf.keras.metrics.AUC(name='prc', curve='PR')\n",
    "]"
   ]
  },
  {
   "cell_type": "code",
   "execution_count": 16,
   "metadata": {},
   "outputs": [],
   "source": [
    "# Function to create NN model with densely connected layers\n",
    "def createModel(train_data, metrics=METRICS, output_bias = None):\n",
    "    # Checking bias values\n",
    "    if output_bias is not None:\n",
    "        output_bias = tf.keras.initializers.Constant(output_bias)\n",
    "\n",
    "    # Creating simple dense model\n",
    "    model = tf.keras.Sequential([\n",
    "        tf.keras.layers.Dense(\n",
    "            units=36, \n",
    "            activation='relu',\n",
    "            input_shape=(train_data.shape[-1],)\n",
    "        ),\n",
    "        tf.keras.layers.BatchNormalization(),\n",
    "        tf.keras.layers.Dropout(0.25),\n",
    "        tf.keras.layers.Dense(units=1, activation='sigmoid', bias_initializer=output_bias),\n",
    "    ])\n",
    "\n",
    "    # Compiling the model\n",
    "    model.compile(\n",
    "        loss=tf.keras.losses.BinaryCrossentropy(),\n",
    "        optimizer=tf.keras.optimizers.Adam(learning_rate=0.001),\n",
    "        metrics=metrics,  \n",
    "    )\n",
    "\n",
    "    return model"
   ]
  },
  {
   "cell_type": "code",
   "execution_count": 17,
   "metadata": {},
   "outputs": [],
   "source": [
    "# Function for the Tensorflow callback\n",
    "early_stopping = tf.keras.callbacks.EarlyStopping(\n",
    "    monitor='val_prc', \n",
    "    verbose=1,\n",
    "    patience=10,\n",
    "    mode='max',\n",
    "    restore_best_weights=True\n",
    ")"
   ]
  },
  {
   "cell_type": "code",
   "execution_count": 18,
   "metadata": {},
   "outputs": [],
   "source": [
    "# Function to define class weights\n",
    "from sklearn.utils import class_weight\n",
    "\n",
    "def classWeights():\n",
    "    class_weights = class_weight.compute_class_weight(\n",
    "        \"balanced\",\n",
    "        classes=np.unique(y_train),\n",
    "        y=y_train\n",
    "    )\n",
    "    class_weights = dict(enumerate(class_weights))\n",
    "    # print('Class weights:', class_weights);print()\n",
    "    return class_weights"
   ]
  },
  {
   "attachments": {},
   "cell_type": "markdown",
   "metadata": {},
   "source": [
    "### Weighted Neural Network"
   ]
  },
  {
   "cell_type": "code",
   "execution_count": 19,
   "metadata": {},
   "outputs": [
    {
     "name": "stdout",
     "output_type": "stream",
     "text": [
      "Initial bias: [-2.87327315]\n",
      "\n"
     ]
    }
   ],
   "source": [
    "# Setting initial bias\n",
    "minus, plus = np.bincount(data_df[\"label_corona_result\"])\n",
    "initial_bias = np.log([ plus / minus ])\n",
    "print('Initial bias:', initial_bias); print()\n",
    "\n",
    "# Generating weighted model\n",
    "weightedModel = createModel(X_train, output_bias=initial_bias)\n",
    "BATCH_SIZE = 2048\n",
    "EPOCHS = 20\n",
    "\n",
    "# steps_per_epoch = len(X_train) // BATCH_SIZE\n",
    "# print('Steps per Epoch:', steps_per_epoch)"
   ]
  },
  {
   "cell_type": "code",
   "execution_count": 20,
   "metadata": {},
   "outputs": [
    {
     "data": {
      "text/plain": [
       "{0: 0.5284138998961259, 1: 9.298510620292799}"
      ]
     },
     "execution_count": 20,
     "metadata": {},
     "output_type": "execute_result"
    }
   ],
   "source": [
    "# Getting class weights\n",
    "class_weights = classWeights()\n",
    "class_weights"
   ]
  },
  {
   "cell_type": "code",
   "execution_count": 21,
   "metadata": {},
   "outputs": [
    {
     "name": "stdout",
     "output_type": "stream",
     "text": [
      "Epoch 1/20\n",
      "97/97 [==============================] - 5s 20ms/step - loss: 0.6556 - tp: 6006.0000 - fp: 9169.0000 - tn: 177983.0000 - fn: 4626.0000 - accuracy: 0.9303 - precision: 0.3958 - recall: 0.5649 - auc: 0.8318 - prc: 0.4563 - val_loss: 0.1860 - val_tp: 14.0000 - val_fp: 0.0000e+00 - val_tn: 20792.0000 - val_fn: 1171.0000 - val_accuracy: 0.9467 - val_precision: 1.0000 - val_recall: 0.0118 - val_auc: 0.8746 - val_prc: 0.5615\n",
      "Epoch 2/20\n",
      "97/97 [==============================] - 1s 8ms/step - loss: 0.4644 - tp: 7681.0000 - fp: 13508.0000 - tn: 173644.0000 - fn: 2951.0000 - accuracy: 0.9168 - precision: 0.3625 - recall: 0.7224 - auc: 0.8761 - prc: 0.5497 - val_loss: 0.2112 - val_tp: 290.0000 - val_fp: 61.0000 - val_tn: 20731.0000 - val_fn: 895.0000 - val_accuracy: 0.9565 - val_precision: 0.8262 - val_recall: 0.2447 - val_auc: 0.8761 - val_prc: 0.5865\n",
      "Epoch 3/20\n",
      "97/97 [==============================] - 1s 10ms/step - loss: 0.4274 - tp: 7851.0000 - fp: 15032.0000 - tn: 172120.0000 - fn: 2781.0000 - accuracy: 0.9099 - precision: 0.3431 - recall: 0.7384 - auc: 0.8742 - prc: 0.5621 - val_loss: 0.2653 - val_tp: 711.0000 - val_fp: 311.0000 - val_tn: 20481.0000 - val_fn: 474.0000 - val_accuracy: 0.9643 - val_precision: 0.6957 - val_recall: 0.6000 - val_auc: 0.8774 - val_prc: 0.6116\n",
      "Epoch 4/20\n",
      "97/97 [==============================] - 1s 10ms/step - loss: 0.4103 - tp: 7909.0000 - fp: 16153.0000 - tn: 170999.0000 - fn: 2723.0000 - accuracy: 0.9046 - precision: 0.3287 - recall: 0.7439 - auc: 0.8755 - prc: 0.5706 - val_loss: 0.3083 - val_tp: 882.0000 - val_fp: 1521.0000 - val_tn: 19271.0000 - val_fn: 303.0000 - val_accuracy: 0.9170 - val_precision: 0.3670 - val_recall: 0.7443 - val_auc: 0.8775 - val_prc: 0.6144\n",
      "Epoch 5/20\n",
      "97/97 [==============================] - 1s 10ms/step - loss: 0.4053 - tp: 7946.0000 - fp: 16121.0000 - tn: 171031.0000 - fn: 2686.0000 - accuracy: 0.9049 - precision: 0.3302 - recall: 0.7474 - auc: 0.8736 - prc: 0.5735 - val_loss: 0.3223 - val_tp: 882.0000 - val_fp: 1521.0000 - val_tn: 19271.0000 - val_fn: 303.0000 - val_accuracy: 0.9170 - val_precision: 0.3670 - val_recall: 0.7443 - val_auc: 0.8783 - val_prc: 0.6189\n",
      "Epoch 6/20\n",
      "97/97 [==============================] - 1s 10ms/step - loss: 0.3988 - tp: 8002.0000 - fp: 16038.0000 - tn: 171114.0000 - fn: 2630.0000 - accuracy: 0.9056 - precision: 0.3329 - recall: 0.7526 - auc: 0.8793 - prc: 0.5801 - val_loss: 0.3345 - val_tp: 882.0000 - val_fp: 1521.0000 - val_tn: 19271.0000 - val_fn: 303.0000 - val_accuracy: 0.9170 - val_precision: 0.3670 - val_recall: 0.7443 - val_auc: 0.8784 - val_prc: 0.6188\n",
      "Epoch 7/20\n",
      "97/97 [==============================] - 1s 8ms/step - loss: 0.3985 - tp: 8000.0000 - fp: 16602.0000 - tn: 170550.0000 - fn: 2632.0000 - accuracy: 0.9028 - precision: 0.3252 - recall: 0.7524 - auc: 0.8768 - prc: 0.5863 - val_loss: 0.3444 - val_tp: 882.0000 - val_fp: 1521.0000 - val_tn: 19271.0000 - val_fn: 303.0000 - val_accuracy: 0.9170 - val_precision: 0.3670 - val_recall: 0.7443 - val_auc: 0.8784 - val_prc: 0.6124\n",
      "Epoch 8/20\n",
      "97/97 [==============================] - 1s 10ms/step - loss: 0.3962 - tp: 7959.0000 - fp: 15301.0000 - tn: 171851.0000 - fn: 2673.0000 - accuracy: 0.9091 - precision: 0.3422 - recall: 0.7486 - auc: 0.8773 - prc: 0.5860 - val_loss: 0.3473 - val_tp: 882.0000 - val_fp: 1521.0000 - val_tn: 19271.0000 - val_fn: 303.0000 - val_accuracy: 0.9170 - val_precision: 0.3670 - val_recall: 0.7443 - val_auc: 0.8784 - val_prc: 0.6126\n",
      "Epoch 9/20\n",
      "97/97 [==============================] - 1s 7ms/step - loss: 0.3930 - tp: 7986.0000 - fp: 15394.0000 - tn: 171758.0000 - fn: 2646.0000 - accuracy: 0.9088 - precision: 0.3416 - recall: 0.7511 - auc: 0.8795 - prc: 0.5943 - val_loss: 0.3491 - val_tp: 882.0000 - val_fp: 1521.0000 - val_tn: 19271.0000 - val_fn: 303.0000 - val_accuracy: 0.9170 - val_precision: 0.3670 - val_recall: 0.7443 - val_auc: 0.8784 - val_prc: 0.6129\n",
      "Epoch 10/20\n",
      "97/97 [==============================] - 1s 9ms/step - loss: 0.3919 - tp: 8042.0000 - fp: 15186.0000 - tn: 171966.0000 - fn: 2590.0000 - accuracy: 0.9101 - precision: 0.3462 - recall: 0.7564 - auc: 0.8780 - prc: 0.5942 - val_loss: 0.3396 - val_tp: 882.0000 - val_fp: 1521.0000 - val_tn: 19271.0000 - val_fn: 303.0000 - val_accuracy: 0.9170 - val_precision: 0.3670 - val_recall: 0.7443 - val_auc: 0.8784 - val_prc: 0.6129\n",
      "Epoch 11/20\n",
      "97/97 [==============================] - 1s 7ms/step - loss: 0.3907 - tp: 8011.0000 - fp: 15224.0000 - tn: 171928.0000 - fn: 2621.0000 - accuracy: 0.9098 - precision: 0.3448 - recall: 0.7535 - auc: 0.8802 - prc: 0.5995 - val_loss: 0.3413 - val_tp: 882.0000 - val_fp: 1521.0000 - val_tn: 19271.0000 - val_fn: 303.0000 - val_accuracy: 0.9170 - val_precision: 0.3670 - val_recall: 0.7443 - val_auc: 0.8784 - val_prc: 0.6125\n",
      "Epoch 12/20\n",
      "97/97 [==============================] - 1s 9ms/step - loss: 0.3897 - tp: 8028.0000 - fp: 15766.0000 - tn: 171386.0000 - fn: 2604.0000 - accuracy: 0.9071 - precision: 0.3374 - recall: 0.7551 - auc: 0.8789 - prc: 0.6018 - val_loss: 0.3322 - val_tp: 882.0000 - val_fp: 1521.0000 - val_tn: 19271.0000 - val_fn: 303.0000 - val_accuracy: 0.9170 - val_precision: 0.3670 - val_recall: 0.7443 - val_auc: 0.8785 - val_prc: 0.6212\n",
      "Epoch 13/20\n",
      "97/97 [==============================] - 1s 7ms/step - loss: 0.3890 - tp: 8028.0000 - fp: 15020.0000 - tn: 172132.0000 - fn: 2604.0000 - accuracy: 0.9109 - precision: 0.3483 - recall: 0.7551 - auc: 0.8789 - prc: 0.6023 - val_loss: 0.3464 - val_tp: 882.0000 - val_fp: 1521.0000 - val_tn: 19271.0000 - val_fn: 303.0000 - val_accuracy: 0.9170 - val_precision: 0.3670 - val_recall: 0.7443 - val_auc: 0.8784 - val_prc: 0.6115\n",
      "Epoch 14/20\n",
      "97/97 [==============================] - 1s 7ms/step - loss: 0.3876 - tp: 8046.0000 - fp: 15451.0000 - tn: 171701.0000 - fn: 2586.0000 - accuracy: 0.9088 - precision: 0.3424 - recall: 0.7568 - auc: 0.8788 - prc: 0.6076 - val_loss: 0.3397 - val_tp: 882.0000 - val_fp: 1521.0000 - val_tn: 19271.0000 - val_fn: 303.0000 - val_accuracy: 0.9170 - val_precision: 0.3670 - val_recall: 0.7443 - val_auc: 0.8785 - val_prc: 0.6205\n",
      "Epoch 15/20\n",
      "97/97 [==============================] - 1s 7ms/step - loss: 0.3870 - tp: 8066.0000 - fp: 15344.0000 - tn: 171808.0000 - fn: 2566.0000 - accuracy: 0.9094 - precision: 0.3446 - recall: 0.7587 - auc: 0.8778 - prc: 0.6076 - val_loss: 0.3353 - val_tp: 882.0000 - val_fp: 1521.0000 - val_tn: 19271.0000 - val_fn: 303.0000 - val_accuracy: 0.9170 - val_precision: 0.3670 - val_recall: 0.7443 - val_auc: 0.8785 - val_prc: 0.6205\n",
      "Epoch 16/20\n",
      "97/97 [==============================] - 1s 8ms/step - loss: 0.3868 - tp: 8031.0000 - fp: 15122.0000 - tn: 172030.0000 - fn: 2601.0000 - accuracy: 0.9104 - precision: 0.3469 - recall: 0.7554 - auc: 0.8797 - prc: 0.6068 - val_loss: 0.3427 - val_tp: 882.0000 - val_fp: 1521.0000 - val_tn: 19271.0000 - val_fn: 303.0000 - val_accuracy: 0.9170 - val_precision: 0.3670 - val_recall: 0.7443 - val_auc: 0.8784 - val_prc: 0.6186\n",
      "Epoch 17/20\n",
      "97/97 [==============================] - 1s 8ms/step - loss: 0.3859 - tp: 8079.0000 - fp: 15725.0000 - tn: 171427.0000 - fn: 2553.0000 - accuracy: 0.9076 - precision: 0.3394 - recall: 0.7599 - auc: 0.8805 - prc: 0.6092 - val_loss: 0.3381 - val_tp: 882.0000 - val_fp: 1521.0000 - val_tn: 19271.0000 - val_fn: 303.0000 - val_accuracy: 0.9170 - val_precision: 0.3670 - val_recall: 0.7443 - val_auc: 0.8785 - val_prc: 0.6211\n",
      "Epoch 18/20\n",
      "97/97 [==============================] - 1s 8ms/step - loss: 0.3859 - tp: 8037.0000 - fp: 15322.0000 - tn: 171830.0000 - fn: 2595.0000 - accuracy: 0.9094 - precision: 0.3441 - recall: 0.7559 - auc: 0.8799 - prc: 0.6095 - val_loss: 0.3431 - val_tp: 882.0000 - val_fp: 1521.0000 - val_tn: 19271.0000 - val_fn: 303.0000 - val_accuracy: 0.9170 - val_precision: 0.3670 - val_recall: 0.7443 - val_auc: 0.8785 - val_prc: 0.6214\n",
      "Epoch 19/20\n",
      "97/97 [==============================] - 1s 10ms/step - loss: 0.3860 - tp: 8053.0000 - fp: 15576.0000 - tn: 171576.0000 - fn: 2579.0000 - accuracy: 0.9082 - precision: 0.3408 - recall: 0.7574 - auc: 0.8790 - prc: 0.6114 - val_loss: 0.3414 - val_tp: 882.0000 - val_fp: 1521.0000 - val_tn: 19271.0000 - val_fn: 303.0000 - val_accuracy: 0.9170 - val_precision: 0.3670 - val_recall: 0.7443 - val_auc: 0.8785 - val_prc: 0.6213\n",
      "Epoch 20/20\n",
      "97/97 [==============================] - 1s 7ms/step - loss: 0.3856 - tp: 8044.0000 - fp: 15287.0000 - tn: 171865.0000 - fn: 2588.0000 - accuracy: 0.9096 - precision: 0.3448 - recall: 0.7566 - auc: 0.8796 - prc: 0.6126 - val_loss: 0.3426 - val_tp: 882.0000 - val_fp: 1521.0000 - val_tn: 19271.0000 - val_fn: 303.0000 - val_accuracy: 0.9170 - val_precision: 0.3670 - val_recall: 0.7443 - val_auc: 0.8785 - val_prc: 0.6211\n"
     ]
    }
   ],
   "source": [
    "# Training model with class weights\n",
    "history = weightedModel.fit(\n",
    "    X_train,\n",
    "    y_train,\n",
    "    batch_size=BATCH_SIZE,\n",
    "    epochs=EPOCHS,\n",
    "    callbacks=[early_stopping],\n",
    "    validation_split=0.10,\n",
    "    # steps_per_epoch=steps_per_epoch,\n",
    "    shuffle=True,\n",
    "    # verbose=1,\n",
    "    class_weight=class_weights,\n",
    ")\n",
    "\n",
    "# list all data in history\n",
    "# print(history.history.keys())"
   ]
  },
  {
   "attachments": {},
   "cell_type": "markdown",
   "metadata": {},
   "source": [
    "### Model accuracy & loss"
   ]
  },
  {
   "cell_type": "code",
   "execution_count": 22,
   "metadata": {},
   "outputs": [
    {
     "data": {
      "image/png": "[encoded data removed]",
      "text/plain": [
       "<Figure size 432x288 with 1 Axes>"
      ]
     },
     "metadata": {
      "needs_background": "light"
     },
     "output_type": "display_data"
    },
    {
     "data": {
      "image/png": "[encoded data removed]",
      "text/plain": [
       "<Figure size 432x288 with 1 Axes>"
      ]
     },
     "metadata": {
      "needs_background": "light"
     },
     "output_type": "display_data"
    }
   ],
   "source": [
    "# Summarising history for accuracy\n",
    "plt.plot(history.history['accuracy'])\n",
    "plt.plot(history.history['val_accuracy'])\n",
    "plt.title('model accuracy')\n",
    "plt.ylabel('accuracy')\n",
    "plt.xlabel('epoch')\n",
    "plt.legend(['train', 'test'], loc='upper left')\n",
    "plt.grid(True); plt.show()\n",
    "\n",
    "# Summarising history for loss\n",
    "plt.plot(history.history['loss'])\n",
    "plt.plot(history.history['val_loss'])\n",
    "plt.title('model loss')\n",
    "plt.ylabel('loss')\n",
    "plt.xlabel('epoch')\n",
    "plt.legend(['train', 'test'])\n",
    "plt.grid(True); plt.show()"
   ]
  },
  {
   "cell_type": "code",
   "execution_count": 23,
   "metadata": {},
   "outputs": [
    {
     "name": "stdout",
     "output_type": "stream",
     "text": [
      "27/27 [==============================] - 0s 3ms/step\n",
      "\n",
      "Model metrics: ----------------------\n",
      "loss :  0.33745017647743225\n",
      "tp :  2179.0\n",
      "fp :  3694.0\n",
      "tn :  48370.0\n",
      "fn :  698.0\n",
      "accuracy :  0.9200596809387207\n",
      "precision :  0.3710199296474457\n",
      "recall :  0.7573861479759216\n",
      "auc :  0.8807806372642517\n",
      "prc :  0.6408989429473877\n",
      "\n",
      "Model scores: ----------------------\n",
      "f1 score: 0.49805714285714286\n",
      "Mathews Correlation Coeff: 0.49489031584601195\n",
      "Cohen Kappa: 0.4601051646005647\n"
     ]
    }
   ],
   "source": [
    "# Model scores\n",
    "from sklearn.metrics import f1_score, cohen_kappa_score, matthews_corrcoef\n",
    "\n",
    "predictions = weightedModel.predict(X_test, batch_size=BATCH_SIZE)\n",
    "predictions = np.round(predictions.flatten())\n",
    "results = weightedModel.evaluate(X_test.values, y_test.values, batch_size=BATCH_SIZE, verbose=0)\n",
    "\n",
    "print(\"\\nModel metrics: ----------------------\")\n",
    "for name, value in zip(weightedModel.metrics_names, results):\n",
    "  print(name, ': ', value)\n",
    "\n",
    "print(\"\\nModel scores: ----------------------\")\n",
    "print(f'f1 score: {f1_score(y_test, predictions)}')\n",
    "print(f'Mathews Correlation Coeff: {matthews_corrcoef(y_test.values, predictions)}')\n",
    "print(f'Cohen Kappa: {cohen_kappa_score(y_test.values, predictions)}')"
   ]
  },
  {
   "attachments": {},
   "cell_type": "markdown",
   "metadata": {},
   "source": [
    "### ROC (Receiver Operating Characteristic) and AUC (Area Under the Curve)"
   ]
  },
  {
   "cell_type": "code",
   "execution_count": 24,
   "metadata": {},
   "outputs": [],
   "source": [
    "# ROC curve\n",
    "from sklearn.metrics import roc_curve\n",
    "fpr_keras, tpr_keras, thresholds_keras = roc_curve(y_test, predictions)"
   ]
  },
  {
   "cell_type": "code",
   "execution_count": 25,
   "metadata": {},
   "outputs": [],
   "source": [
    "# AUC value\n",
    "from sklearn.metrics import auc\n",
    "auc_keras = auc(fpr_keras, tpr_keras)"
   ]
  },
  {
   "cell_type": "code",
   "execution_count": 26,
   "metadata": {},
   "outputs": [
    {
     "data": {
      "image/png": "[encoded data removed]",
      "text/plain": [
       "<Figure size 432x288 with 1 Axes>"
      ]
     },
     "metadata": {
      "needs_background": "light"
     },
     "output_type": "display_data"
    }
   ],
   "source": [
    "# Plotting the ROC\n",
    "plt.figure(1)\n",
    "plt.plot([0, 1], [0, 1], 'r--')\n",
    "plt.plot(fpr_keras, tpr_keras, label='Covid classifier (area = {:.3f})'.format(auc_keras))\n",
    "plt.xlabel('False positive rate')\n",
    "plt.ylabel('True positive rate')\n",
    "plt.title('ROC curve')\n",
    "plt.legend(loc='best')\n",
    "plt.show()"
   ]
  },
  {
   "attachments": {},
   "cell_type": "markdown",
   "metadata": {},
   "source": [
    "### Confusion Matrix"
   ]
  },
  {
   "cell_type": "code",
   "execution_count": 27,
   "metadata": {},
   "outputs": [
    {
     "name": "stdout",
     "output_type": "stream",
     "text": [
      "27/27 [==============================] - 0s 3ms/step\n",
      "# Negative Covid results identified (True Negatives):  48370\n",
      "# Negative Covid results MIS-DIAGNOSED (False Positives):  3694\n",
      "# Positive Covid results MISSED (False Negatives):  698\n",
      "# Positive Covid results identified (True Positives):  2179\n",
      "Total number of Positive Covid results:  2877\n",
      "\n"
     ]
    },
    {
     "data": {
      "image/png": "[encoded data removed]",
      "text/plain": [
       "<Figure size 432x288 with 2 Axes>"
      ]
     },
     "metadata": {
      "needs_background": "light"
     },
     "output_type": "display_data"
    }
   ],
   "source": [
    "# Function to generate confusion matrix\n",
    "from sklearn.metrics import confusion_matrix\n",
    "\n",
    "def conf_matrix(labels, predictions, p=0.5):\n",
    "    tick_labels = [\"Negative Covid results\", \"Positive Covid results\"]\n",
    "\n",
    "    linewidths = 2\n",
    "    linecolor = \"Green\"\n",
    "\n",
    "    cm = confusion_matrix(labels, predictions > p)\n",
    "    ax = sns.heatmap(\n",
    "        cm, annot=True,\n",
    "        fmt=\"d\", cmap=\"Blues\",\n",
    "        linewidths=linewidths,\n",
    "        linecolor=linecolor\n",
    "    )\n",
    "\n",
    "    plt.ylabel('Actual')\n",
    "    plt.xlabel('Predicted')\n",
    "\n",
    "    ax.set_xticklabels(tick_labels)\n",
    "    ax.set_yticklabels(tick_labels)\n",
    "    \n",
    "    print(\"# Negative Covid results identified (True Negatives): \", cm[0][0])\n",
    "    print(\"# Negative Covid results MIS-DIAGNOSED (False Positives): \", cm[0][1])\n",
    "    print(\"# Positive Covid results MISSED (False Negatives): \", cm[1][0])\n",
    "    print(\"# Positive Covid results identified (True Positives): \", cm[1][1])\n",
    "    print(\"Total number of Positive Covid results: \", np.sum(cm[1])); print()\n",
    "\n",
    "model_pred = weightedModel.predict(X_test.values, batch_size=BATCH_SIZE)\n",
    "conf_matrix(y_test, model_pred)"
   ]
  },
  {
   "cell_type": "code",
   "execution_count": null,
   "metadata": {},
   "outputs": [],
   "source": []
  }
 ],
 "metadata": {
  "kernelspec": {
   "display_name": "Python 3",
   "language": "python",
   "name": "python3"
  },
  "language_info": {
   "codemirror_mode": {
    "name": "ipython",
    "version": 3
   },
   "file_extension": ".py",
   "mimetype": "text/x-python",
   "name": "python",
   "nbconvert_exporter": "python",
   "pygments_lexer": "ipython3",
   "version": "3.8.10"
  },
  "orig_nbformat": 4
 },
 "nbformat": 4,
 "nbformat_minor": 2
}
