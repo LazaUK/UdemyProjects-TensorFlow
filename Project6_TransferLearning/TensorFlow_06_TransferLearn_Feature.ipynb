{
 "cells": [
  {
   "cell_type": "markdown",
   "metadata": {},
   "source": [
    "# Transfer Learning - Feature Extraction"
   ]
  },
  {
   "cell_type": "code",
   "execution_count": 1,
   "metadata": {},
   "outputs": [
    {
     "name": "stdout",
     "output_type": "stream",
     "text": [
      "2.10.0\n"
     ]
    }
   ],
   "source": [
    "# Importing TF and checking the version\n",
    "import tensorflow as tf\n",
    "print(tf.__version__)"
   ]
  },
  {
   "cell_type": "code",
   "execution_count": 2,
   "metadata": {},
   "outputs": [
    {
     "name": "stdout",
     "output_type": "stream",
     "text": [
      "There are 2 directories and 0 images in 10_food_classes_10_percent.\n",
      "There are 10 directories and 0 images in 10_food_classes_10_percent\\test.\n",
      "There are 0 directories and 250 images in 10_food_classes_10_percent\\test\\chicken_curry.\n",
      "There are 0 directories and 250 images in 10_food_classes_10_percent\\test\\chicken_wings.\n",
      "There are 0 directories and 250 images in 10_food_classes_10_percent\\test\\fried_rice.\n",
      "There are 0 directories and 250 images in 10_food_classes_10_percent\\test\\grilled_salmon.\n",
      "There are 0 directories and 250 images in 10_food_classes_10_percent\\test\\hamburger.\n",
      "There are 0 directories and 250 images in 10_food_classes_10_percent\\test\\ice_cream.\n",
      "There are 0 directories and 250 images in 10_food_classes_10_percent\\test\\pizza.\n",
      "There are 0 directories and 250 images in 10_food_classes_10_percent\\test\\ramen.\n",
      "There are 0 directories and 250 images in 10_food_classes_10_percent\\test\\steak.\n",
      "There are 0 directories and 250 images in 10_food_classes_10_percent\\test\\sushi.\n",
      "There are 10 directories and 0 images in 10_food_classes_10_percent\\train.\n",
      "There are 0 directories and 75 images in 10_food_classes_10_percent\\train\\chicken_curry.\n",
      "There are 0 directories and 75 images in 10_food_classes_10_percent\\train\\chicken_wings.\n",
      "There are 0 directories and 75 images in 10_food_classes_10_percent\\train\\fried_rice.\n",
      "There are 0 directories and 75 images in 10_food_classes_10_percent\\train\\grilled_salmon.\n",
      "There are 0 directories and 75 images in 10_food_classes_10_percent\\train\\hamburger.\n",
      "There are 0 directories and 75 images in 10_food_classes_10_percent\\train\\ice_cream.\n",
      "There are 0 directories and 75 images in 10_food_classes_10_percent\\train\\pizza.\n",
      "There are 0 directories and 75 images in 10_food_classes_10_percent\\train\\ramen.\n",
      "There are 0 directories and 75 images in 10_food_classes_10_percent\\train\\steak.\n",
      "There are 0 directories and 75 images in 10_food_classes_10_percent\\train\\sushi.\n"
     ]
    }
   ],
   "source": [
    "# Inspecting our dataset\n",
    "import os\n",
    "\n",
    "for dirpath, dirnames, filenames in os.walk(\"10_food_classes_10_percent\"):\n",
    "    print(f\"There are {len(dirnames)} directories and {len(filenames)} images in {dirpath}.\")"
   ]
  },
  {
   "cell_type": "code",
   "execution_count": 3,
   "metadata": {},
   "outputs": [
    {
     "name": "stdout",
     "output_type": "stream",
     "text": [
      "Training images\n",
      "Found 750 images belonging to 10 classes.\n",
      "Testing images\n",
      "Found 2500 images belonging to 10 classes.\n"
     ]
    }
   ],
   "source": [
    "# Creating data loaders\n",
    "from tensorflow.keras.preprocessing.image import ImageDataGenerator\n",
    "\n",
    "IMAGE_SHAPE = (224, 224)\n",
    "BATCH_SIZE = 32\n",
    "EPOCHS = 5\n",
    "\n",
    "train_dir = \"10_food_classes_10_percent/train/\"\n",
    "test_dir = \"10_food_classes_10_percent/test/\"\n",
    "\n",
    "train_datagen = ImageDataGenerator(rescale=1/255.)\n",
    "test_datagen = ImageDataGenerator(rescale=1/255.)\n",
    "\n",
    "print(\"Training images\")\n",
    "train_data_10_percent = train_datagen.flow_from_directory(\n",
    "    train_dir,\n",
    "    target_size=IMAGE_SHAPE,\n",
    "    batch_size=BATCH_SIZE,\n",
    "    class_mode=\"categorical\"\n",
    ")\n",
    "\n",
    "print(\"Testing images\")\n",
    "test_data_10_percent = test_datagen.flow_from_directory(\n",
    "    test_dir,\n",
    "    target_size=IMAGE_SHAPE,\n",
    "    batch_size=BATCH_SIZE,\n",
    "    class_mode=\"categorical\"\n",
    ")"
   ]
  },
  {
   "cell_type": "code",
   "execution_count": 4,
   "metadata": {},
   "outputs": [],
   "source": [
    "# Creating and using callbacks\n",
    "import datetime\n",
    "\n",
    "def create_tensorboard_callback(dir_name, experiment_name):\n",
    "    log_dir = dir_name + \"/\" + experiment_name + \"/\" + datetime.datetime.now().strftime(\"%Y%m%d-%H%M%S\")\n",
    "    tensorboard_callback = tf.keras.callbacks.TensorBoard(log_dir=log_dir)\n",
    "    print(f\"Saving TensorBoard log files to {log_dir}\")\n",
    "    return tensorboard_callback"
   ]
  },
  {
   "cell_type": "markdown",
   "metadata": {},
   "source": [
    "## Re-using trained models from TensorFlow Hub"
   ]
  },
  {
   "cell_type": "code",
   "execution_count": 26,
   "metadata": {},
   "outputs": [],
   "source": [
    "# Getting trained image classification ML models from tfhub.dev\n",
    "url_resnet = \"https://tfhub.dev/google/imagenet/resnet_v2_50/feature_vector/4\"\n",
    "url_efficientnet = \"https://tfhub.dev/google/efficientnet/b0/feature-vector/1\""
   ]
  },
  {
   "cell_type": "code",
   "execution_count": 7,
   "metadata": {},
   "outputs": [],
   "source": [
    "# Import dependencies\n",
    "import tensorflow_hub as hub\n",
    "from tensorflow.keras import layers"
   ]
  },
  {
   "cell_type": "code",
   "execution_count": 10,
   "metadata": {},
   "outputs": [],
   "source": [
    "# Function to create a model from URL\n",
    "def create_model(model_url, num_classes=10):\n",
    "    \n",
    "    # Download TFHub model and save as a Keras layer\n",
    "    feature_extraction_layer = hub.KerasLayer(\n",
    "        model_url,\n",
    "        trainable=False,\n",
    "        name=\"feature_extraction_layer\",\n",
    "        input_shape=IMAGE_SHAPE+(3,)\n",
    "    )\n",
    "\n",
    "    # Create our model\n",
    "    model = tf.keras.Sequential([\n",
    "        feature_extraction_layer,\n",
    "        layers.Dense(num_classes, activation=\"softmax\", name=\"output_layer\")\n",
    "    ])\n",
    "\n",
    "    return model"
   ]
  },
  {
   "cell_type": "code",
   "execution_count": 11,
   "metadata": {},
   "outputs": [],
   "source": [
    "# Creating Resnet model\n",
    "model_resnet = create_model(url_resnet, num_classes=train_data_10_percent.num_classes)"
   ]
  },
  {
   "cell_type": "code",
   "execution_count": 12,
   "metadata": {},
   "outputs": [
    {
     "name": "stdout",
     "output_type": "stream",
     "text": [
      "Model: \"sequential_1\"\n",
      "_________________________________________________________________\n",
      " Layer (type)                Output Shape              Param #   \n",
      "=================================================================\n",
      " feature_extraction_layer (K  (None, 2048)             23564800  \n",
      " erasLayer)                                                      \n",
      "                                                                 \n",
      " output_layer (Dense)        (None, 10)                20490     \n",
      "                                                                 \n",
      "=================================================================\n",
      "Total params: 23,585,290\n",
      "Trainable params: 20,490\n",
      "Non-trainable params: 23,564,800\n",
      "_________________________________________________________________\n"
     ]
    }
   ],
   "source": [
    "# Checking the model\n",
    "model_resnet.summary()"
   ]
  },
  {
   "cell_type": "code",
   "execution_count": 13,
   "metadata": {},
   "outputs": [],
   "source": [
    "# Compiling the model\n",
    "model_resnet.compile(\n",
    "    loss=\"categorical_crossentropy\",\n",
    "    optimizer=tf.keras.optimizers.Adam(),\n",
    "    metrics=[\"accuracy\"]\n",
    ")"
   ]
  },
  {
   "cell_type": "code",
   "execution_count": 19,
   "metadata": {},
   "outputs": [
    {
     "name": "stdout",
     "output_type": "stream",
     "text": [
      "Saving TensorBoard log files to .//resnet_1/20221204-145858\n",
      "Epoch 1/5\n",
      "24/24 [==============================] - 327s 14s/step - loss: 0.8322 - accuracy: 0.7493 - val_loss: 0.8115 - val_accuracy: 0.7320\n",
      "Epoch 2/5\n",
      "24/24 [==============================] - 331s 14s/step - loss: 0.5836 - accuracy: 0.8347 - val_loss: 0.7434 - val_accuracy: 0.7564\n",
      "Epoch 3/5\n",
      "24/24 [==============================] - 335s 14s/step - loss: 0.4538 - accuracy: 0.8867 - val_loss: 0.6984 - val_accuracy: 0.7700\n",
      "Epoch 4/5\n",
      "24/24 [==============================] - 332s 14s/step - loss: 0.3582 - accuracy: 0.9267 - val_loss: 0.6648 - val_accuracy: 0.7892\n",
      "Epoch 5/5\n",
      "24/24 [==============================] - 340s 15s/step - loss: 0.2953 - accuracy: 0.9467 - val_loss: 0.6455 - val_accuracy: 0.7892\n"
     ]
    }
   ],
   "source": [
    "# Fit the model\n",
    "history1 = model_resnet.fit(\n",
    "    train_data_10_percent,\n",
    "    epochs=5,\n",
    "    steps_per_epoch=len(train_data_10_percent),\n",
    "    validation_data=test_data_10_percent,\n",
    "    validation_steps=len(test_data_10_percent),\n",
    "    callbacks=[create_tensorboard_callback(\"./\", \"resnet_1\")]\n",
    ")"
   ]
  },
  {
   "cell_type": "code",
   "execution_count": 20,
   "metadata": {},
   "outputs": [],
   "source": [
    "# Creating a function to plot loss curves\n",
    "import matplotlib.pyplot as plt\n",
    "\n",
    "def plot_loss_curves(history):\n",
    "    # Defining params\n",
    "    loss = history.history[\"loss\"]\n",
    "    val_loss = history.history[\"val_loss\"]\n",
    "    accuracy = history.history[\"accuracy\"]\n",
    "    val_accuracy = history.history[\"val_accuracy\"]\n",
    "    epochs = range(len(history.history[\"loss\"]))\n",
    "\n",
    "    # Plotting losses\n",
    "    plt.plot(epochs, loss, label=\"Training data\")\n",
    "    plt.plot(epochs, val_loss, label=\"Validation data\")\n",
    "    plt.title(\"Loss\")\n",
    "    plt.xlabel(\"Epochs\")\n",
    "    plt.legend()\n",
    "\n",
    "    # Plotting accuracy\n",
    "    plt.figure()\n",
    "    plt.plot(epochs, accuracy, label=\"Training accuracy\")\n",
    "    plt.plot(epochs, val_accuracy, label=\"Validation accuracy\")\n",
    "    plt.title(\"Accuracy\")\n",
    "    plt.xlabel(\"Epochs\")\n",
    "    plt.legend()"
   ]
  },
  {
   "cell_type": "code",
   "execution_count": 21,
   "metadata": {},
   "outputs": [
    {
     "data": {
      "image/png": "[encoded data removed]",
      "text/plain": [
       "<Figure size 432x288 with 1 Axes>"
      ]
     },
     "metadata": {
      "needs_background": "light"
     },
     "output_type": "display_data"
    },
    {
     "data": {
      "image/png": "[encoded data removed]",
      "text/plain": [
       "<Figure size 432x288 with 1 Axes>"
      ]
     },
     "metadata": {
      "needs_background": "light"
     },
     "output_type": "display_data"
    }
   ],
   "source": [
    "# Plotting our resnet model's losses\n",
    "plot_loss_curves(history1)"
   ]
  },
  {
   "cell_type": "code",
   "execution_count": 28,
   "metadata": {},
   "outputs": [],
   "source": [
    "# Creating EfficientNet model\n",
    "model_efficientnet = create_model(url_efficientnet, num_classes=train_data_10_percent.num_classes)"
   ]
  },
  {
   "cell_type": "code",
   "execution_count": 29,
   "metadata": {},
   "outputs": [
    {
     "name": "stdout",
     "output_type": "stream",
     "text": [
      "Model: \"sequential_4\"\n",
      "_________________________________________________________________\n",
      " Layer (type)                Output Shape              Param #   \n",
      "=================================================================\n",
      " feature_extraction_layer (K  (None, 1280)             4049564   \n",
      " erasLayer)                                                      \n",
      "                                                                 \n",
      " output_layer (Dense)        (None, 10)                12810     \n",
      "                                                                 \n",
      "=================================================================\n",
      "Total params: 4,062,374\n",
      "Trainable params: 12,810\n",
      "Non-trainable params: 4,049,564\n",
      "_________________________________________________________________\n"
     ]
    }
   ],
   "source": [
    "# Checking the model\n",
    "model_efficientnet.summary()"
   ]
  },
  {
   "cell_type": "code",
   "execution_count": 30,
   "metadata": {},
   "outputs": [],
   "source": [
    "# Compiling the model\n",
    "model_efficientnet.compile(\n",
    "    loss=\"categorical_crossentropy\",\n",
    "    optimizer=tf.keras.optimizers.Adam(),\n",
    "    metrics=[\"accuracy\"]\n",
    ")"
   ]
  },
  {
   "cell_type": "code",
   "execution_count": 31,
   "metadata": {},
   "outputs": [
    {
     "name": "stdout",
     "output_type": "stream",
     "text": [
      "Saving TensorBoard log files to .//effnet_1/20221204-154320\n",
      "Epoch 1/5\n",
      "24/24 [==============================] - 248s 10s/step - loss: 1.9070 - accuracy: 0.4040 - val_loss: 1.3419 - val_accuracy: 0.7312\n",
      "Epoch 2/5\n",
      "24/24 [==============================] - 348s 15s/step - loss: 1.0906 - accuracy: 0.7893 - val_loss: 0.8829 - val_accuracy: 0.8196\n",
      "Epoch 3/5\n",
      "24/24 [==============================] - 2004s 87s/step - loss: 0.7715 - accuracy: 0.8267 - val_loss: 0.7039 - val_accuracy: 0.8436\n",
      "Epoch 4/5\n",
      "24/24 [==============================] - 98s 4s/step - loss: 0.6150 - accuracy: 0.8653 - val_loss: 0.6136 - val_accuracy: 0.8604\n",
      "Epoch 5/5\n",
      "24/24 [==============================] - 91s 4s/step - loss: 0.5204 - accuracy: 0.8893 - val_loss: 0.5595 - val_accuracy: 0.8656\n"
     ]
    }
   ],
   "source": [
    "# Fit the model\n",
    "history2 = model_efficientnet.fit(\n",
    "    train_data_10_percent,\n",
    "    epochs=5,\n",
    "    steps_per_epoch=len(train_data_10_percent),\n",
    "    validation_data=test_data_10_percent,\n",
    "    validation_steps=len(test_data_10_percent),\n",
    "    callbacks=[create_tensorboard_callback(\"./\", \"effnet_1\")]\n",
    ")"
   ]
  },
  {
   "cell_type": "code",
   "execution_count": 32,
   "metadata": {},
   "outputs": [
    {
     "data": {
      "image/png": "[encoded data removed]",
      "text/plain": [
       "<Figure size 432x288 with 1 Axes>"
      ]
     },
     "metadata": {
      "needs_background": "light"
     },
     "output_type": "display_data"
    },
    {
     "data": {
      "image/png": "[encoded data removed]",
      "text/plain": [
       "<Figure size 432x288 with 1 Axes>"
      ]
     },
     "metadata": {
      "needs_background": "light"
     },
     "output_type": "display_data"
    }
   ],
   "source": [
    "# Plotting our efficientnet model's losses\n",
    "plot_loss_curves(history2)"
   ]
  },
  {
   "cell_type": "code",
   "execution_count": null,
   "metadata": {},
   "outputs": [],
   "source": []
  }
 ],
 "metadata": {
  "kernelspec": {
   "display_name": "Python 3.8.10 64-bit",
   "language": "python",
   "name": "python3"
  },
  "language_info": {
   "codemirror_mode": {
    "name": "ipython",
    "version": 3
   },
   "file_extension": ".py",
   "mimetype": "text/x-python",
   "name": "python",
   "nbconvert_exporter": "python",
   "pygments_lexer": "ipython3",
   "version": "3.8.10"
  },
  "orig_nbformat": 4,
  "vscode": {
   "interpreter": {
    "hash": "8230a386d8e0083990873cddb8ebb5b6213275a10339230a8504f0ef8ce7f888"
   }
  }
 },
 "nbformat": 4,
 "nbformat_minor": 2
}
