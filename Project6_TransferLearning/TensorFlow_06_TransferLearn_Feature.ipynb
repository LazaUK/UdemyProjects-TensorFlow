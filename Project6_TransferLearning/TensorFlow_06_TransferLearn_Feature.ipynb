{
 "cells": [
  {
   "cell_type": "markdown",
   "metadata": {},
   "source": [
    "# Transfer Learning - Feature Extraction"
   ]
  },
  {
   "cell_type": "code",
   "execution_count": 1,
   "metadata": {},
   "outputs": [
    {
     "name": "stdout",
     "output_type": "stream",
     "text": [
      "2.10.0\n"
     ]
    }
   ],
   "source": [
    "# Importing TF and checking the version\n",
    "import tensorflow as tf\n",
    "print(tf.__version__)"
   ]
  },
  {
   "cell_type": "code",
   "execution_count": 2,
   "metadata": {},
   "outputs": [
    {
     "name": "stdout",
     "output_type": "stream",
     "text": [
      "There are 2 directories and 0 images in 10_food_classes_10_percent.\n",
      "There are 10 directories and 0 images in 10_food_classes_10_percent\\test.\n",
      "There are 0 directories and 250 images in 10_food_classes_10_percent\\test\\chicken_curry.\n",
      "There are 0 directories and 250 images in 10_food_classes_10_percent\\test\\chicken_wings.\n",
      "There are 0 directories and 250 images in 10_food_classes_10_percent\\test\\fried_rice.\n",
      "There are 0 directories and 250 images in 10_food_classes_10_percent\\test\\grilled_salmon.\n",
      "There are 0 directories and 250 images in 10_food_classes_10_percent\\test\\hamburger.\n",
      "There are 0 directories and 250 images in 10_food_classes_10_percent\\test\\ice_cream.\n",
      "There are 0 directories and 250 images in 10_food_classes_10_percent\\test\\pizza.\n",
      "There are 0 directories and 250 images in 10_food_classes_10_percent\\test\\ramen.\n",
      "There are 0 directories and 250 images in 10_food_classes_10_percent\\test\\steak.\n",
      "There are 0 directories and 250 images in 10_food_classes_10_percent\\test\\sushi.\n",
      "There are 10 directories and 0 images in 10_food_classes_10_percent\\train.\n",
      "There are 0 directories and 75 images in 10_food_classes_10_percent\\train\\chicken_curry.\n",
      "There are 0 directories and 75 images in 10_food_classes_10_percent\\train\\chicken_wings.\n",
      "There are 0 directories and 75 images in 10_food_classes_10_percent\\train\\fried_rice.\n",
      "There are 0 directories and 75 images in 10_food_classes_10_percent\\train\\grilled_salmon.\n",
      "There are 0 directories and 75 images in 10_food_classes_10_percent\\train\\hamburger.\n",
      "There are 0 directories and 75 images in 10_food_classes_10_percent\\train\\ice_cream.\n",
      "There are 0 directories and 75 images in 10_food_classes_10_percent\\train\\pizza.\n",
      "There are 0 directories and 75 images in 10_food_classes_10_percent\\train\\ramen.\n",
      "There are 0 directories and 75 images in 10_food_classes_10_percent\\train\\steak.\n",
      "There are 0 directories and 75 images in 10_food_classes_10_percent\\train\\sushi.\n"
     ]
    }
   ],
   "source": [
    "# Inspecting our dataset\n",
    "import os\n",
    "\n",
    "for dirpath, dirnames, filenames in os.walk(\"10_food_classes_10_percent\"):\n",
    "    print(f\"There are {len(dirnames)} directories and {len(filenames)} images in {dirpath}.\")"
   ]
  },
  {
   "cell_type": "code",
   "execution_count": 5,
   "metadata": {},
   "outputs": [
    {
     "name": "stdout",
     "output_type": "stream",
     "text": [
      "Training images\n",
      "Found 750 images belonging to 10 classes.\n",
      "Testing images\n",
      "Found 2500 images belonging to 10 classes.\n"
     ]
    }
   ],
   "source": [
    "# Creating data loaders\n",
    "from tensorflow.keras.preprocessing.image import ImageDataGenerator\n",
    "\n",
    "IMAGE_SHAPE = (224, 224)\n",
    "BATCH_SIZE = 32\n",
    "EPOCHS = 5\n",
    "\n",
    "train_dir = \"10_food_classes_10_percent/train/\"\n",
    "test_dir = \"10_food_classes_10_percent/test/\"\n",
    "\n",
    "train_datagen = ImageDataGenerator(rescale=1/255.)\n",
    "test_datagen = ImageDataGenerator(rescale=1/255.)\n",
    "\n",
    "print(\"Training images\")\n",
    "train_data_10_percent = train_datagen.flow_from_directory(\n",
    "    train_dir,\n",
    "    target_size=IMAGE_SHAPE,\n",
    "    batch_size=BATCH_SIZE,\n",
    "    class_mode=\"categorical\"\n",
    ")\n",
    "\n",
    "print(\"Testing images\")\n",
    "test_data_10_percent = test_datagen.flow_from_directory(\n",
    "    test_dir,\n",
    "    target_size=IMAGE_SHAPE,\n",
    "    batch_size=BATCH_SIZE,\n",
    "    class_mode=\"categorical\"\n",
    ")"
   ]
  },
  {
   "cell_type": "markdown",
   "metadata": {},
   "source": [
    "## Creating and using callbacks"
   ]
  },
  {
   "cell_type": "code",
   "execution_count": 6,
   "metadata": {},
   "outputs": [],
   "source": [
    "import datetime\n",
    "\n",
    "def create_tensorboard_callback(dir_name, experiment_name):\n",
    "    log_dir = dir_name + \"/\" + experiment_name + \"/\" + datetime.datetime.now().strftime(\"%Y%m%d-%H%M%S\")\n",
    "    tensorboard_callback = tf.keras.callbacks.TensorBoard(log_dir=log_dir)\n",
    "    print(f\"Saving TensorBoard log files to {log_dir}\")\n",
    "    return tensorboard_callback"
   ]
  },
  {
   "cell_type": "code",
   "execution_count": null,
   "metadata": {},
   "outputs": [],
   "source": []
  }
 ],
 "metadata": {
  "kernelspec": {
   "display_name": "Python 3.8.10 64-bit",
   "language": "python",
   "name": "python3"
  },
  "language_info": {
   "codemirror_mode": {
    "name": "ipython",
    "version": 3
   },
   "file_extension": ".py",
   "mimetype": "text/x-python",
   "name": "python",
   "nbconvert_exporter": "python",
   "pygments_lexer": "ipython3",
   "version": "3.8.10"
  },
  "orig_nbformat": 4,
  "vscode": {
   "interpreter": {
    "hash": "8230a386d8e0083990873cddb8ebb5b6213275a10339230a8504f0ef8ce7f888"
   }
  }
 },
 "nbformat": 4,
 "nbformat_minor": 2
}
