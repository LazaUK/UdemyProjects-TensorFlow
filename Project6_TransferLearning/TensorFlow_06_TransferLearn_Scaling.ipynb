{
 "cells": [
  {
   "attachments": {},
   "cell_type": "markdown",
   "metadata": {},
   "source": [
    "# Transfer Learning - Scaling Up"
   ]
  },
  {
   "cell_type": "code",
   "execution_count": 21,
   "metadata": {},
   "outputs": [
    {
     "name": "stdout",
     "output_type": "stream",
     "text": [
      "2.10.1\n"
     ]
    }
   ],
   "source": [
    "# Importing TF and checking the version\n",
    "import tensorflow as tf\n",
    "\n",
    "print(tf.__version__)"
   ]
  },
  {
   "cell_type": "code",
   "execution_count": 2,
   "metadata": {},
   "outputs": [],
   "source": [
    "# Importing custom helper functions\n",
    "from DanielBourke_HelperFunctions import create_tensorboard_callback, plot_loss_curves, compare_historys, walk_through_dir"
   ]
  },
  {
   "cell_type": "code",
   "execution_count": 3,
   "metadata": {},
   "outputs": [],
   "source": [
    "# Setting data directories\n",
    "train_dir = \"101_food_classes_10_percent/train/\"\n",
    "test_dir = \"101_food_classes_10_percent/test/\""
   ]
  },
  {
   "cell_type": "code",
   "execution_count": 4,
   "metadata": {},
   "outputs": [
    {
     "name": "stdout",
     "output_type": "stream",
     "text": [
      "There are 2 directories and 0 images in '101_food_classes_10_percent'.\n",
      "There are 101 directories and 0 images in '101_food_classes_10_percent\\test'.\n",
      "There are 0 directories and 250 images in '101_food_classes_10_percent\\test\\apple_pie'.\n",
      "There are 0 directories and 250 images in '101_food_classes_10_percent\\test\\baby_back_ribs'.\n",
      "There are 0 directories and 250 images in '101_food_classes_10_percent\\test\\baklava'.\n",
      "There are 0 directories and 250 images in '101_food_classes_10_percent\\test\\beef_carpaccio'.\n",
      "There are 0 directories and 250 images in '101_food_classes_10_percent\\test\\beef_tartare'.\n",
      "There are 0 directories and 250 images in '101_food_classes_10_percent\\test\\beet_salad'.\n",
      "There are 0 directories and 250 images in '101_food_classes_10_percent\\test\\beignets'.\n",
      "There are 0 directories and 250 images in '101_food_classes_10_percent\\test\\bibimbap'.\n",
      "There are 0 directories and 250 images in '101_food_classes_10_percent\\test\\bread_pudding'.\n",
      "There are 0 directories and 250 images in '101_food_classes_10_percent\\test\\breakfast_burrito'.\n",
      "There are 0 directories and 250 images in '101_food_classes_10_percent\\test\\bruschetta'.\n",
      "There are 0 directories and 250 images in '101_food_classes_10_percent\\test\\caesar_salad'.\n",
      "There are 0 directories and 250 images in '101_food_classes_10_percent\\test\\cannoli'.\n",
      "There are 0 directories and 250 images in '101_food_classes_10_percent\\test\\caprese_salad'.\n",
      "There are 0 directories and 250 images in '101_food_classes_10_percent\\test\\carrot_cake'.\n",
      "There are 0 directories and 250 images in '101_food_classes_10_percent\\test\\ceviche'.\n",
      "There are 0 directories and 250 images in '101_food_classes_10_percent\\test\\cheesecake'.\n",
      "There are 0 directories and 250 images in '101_food_classes_10_percent\\test\\cheese_plate'.\n",
      "There are 0 directories and 250 images in '101_food_classes_10_percent\\test\\chicken_curry'.\n",
      "There are 0 directories and 250 images in '101_food_classes_10_percent\\test\\chicken_quesadilla'.\n",
      "There are 0 directories and 250 images in '101_food_classes_10_percent\\test\\chicken_wings'.\n",
      "There are 0 directories and 250 images in '101_food_classes_10_percent\\test\\chocolate_cake'.\n",
      "There are 0 directories and 250 images in '101_food_classes_10_percent\\test\\chocolate_mousse'.\n",
      "There are 0 directories and 250 images in '101_food_classes_10_percent\\test\\churros'.\n",
      "There are 0 directories and 250 images in '101_food_classes_10_percent\\test\\clam_chowder'.\n",
      "There are 0 directories and 250 images in '101_food_classes_10_percent\\test\\club_sandwich'.\n",
      "There are 0 directories and 250 images in '101_food_classes_10_percent\\test\\crab_cakes'.\n",
      "There are 0 directories and 250 images in '101_food_classes_10_percent\\test\\creme_brulee'.\n",
      "There are 0 directories and 250 images in '101_food_classes_10_percent\\test\\croque_madame'.\n",
      "There are 0 directories and 250 images in '101_food_classes_10_percent\\test\\cup_cakes'.\n",
      "There are 0 directories and 250 images in '101_food_classes_10_percent\\test\\deviled_eggs'.\n",
      "There are 0 directories and 250 images in '101_food_classes_10_percent\\test\\donuts'.\n",
      "There are 0 directories and 250 images in '101_food_classes_10_percent\\test\\dumplings'.\n",
      "There are 0 directories and 250 images in '101_food_classes_10_percent\\test\\edamame'.\n",
      "There are 0 directories and 250 images in '101_food_classes_10_percent\\test\\eggs_benedict'.\n",
      "There are 0 directories and 250 images in '101_food_classes_10_percent\\test\\escargots'.\n",
      "There are 0 directories and 250 images in '101_food_classes_10_percent\\test\\falafel'.\n",
      "There are 0 directories and 250 images in '101_food_classes_10_percent\\test\\filet_mignon'.\n",
      "There are 0 directories and 250 images in '101_food_classes_10_percent\\test\\fish_and_chips'.\n",
      "There are 0 directories and 250 images in '101_food_classes_10_percent\\test\\foie_gras'.\n",
      "There are 0 directories and 250 images in '101_food_classes_10_percent\\test\\french_fries'.\n",
      "There are 0 directories and 250 images in '101_food_classes_10_percent\\test\\french_onion_soup'.\n",
      "There are 0 directories and 250 images in '101_food_classes_10_percent\\test\\french_toast'.\n",
      "There are 0 directories and 250 images in '101_food_classes_10_percent\\test\\fried_calamari'.\n",
      "There are 0 directories and 250 images in '101_food_classes_10_percent\\test\\fried_rice'.\n",
      "There are 0 directories and 250 images in '101_food_classes_10_percent\\test\\frozen_yogurt'.\n",
      "There are 0 directories and 250 images in '101_food_classes_10_percent\\test\\garlic_bread'.\n",
      "There are 0 directories and 250 images in '101_food_classes_10_percent\\test\\gnocchi'.\n",
      "There are 0 directories and 250 images in '101_food_classes_10_percent\\test\\greek_salad'.\n",
      "There are 0 directories and 250 images in '101_food_classes_10_percent\\test\\grilled_cheese_sandwich'.\n",
      "There are 0 directories and 250 images in '101_food_classes_10_percent\\test\\grilled_salmon'.\n",
      "There are 0 directories and 250 images in '101_food_classes_10_percent\\test\\guacamole'.\n",
      "There are 0 directories and 250 images in '101_food_classes_10_percent\\test\\gyoza'.\n",
      "There are 0 directories and 250 images in '101_food_classes_10_percent\\test\\hamburger'.\n",
      "There are 0 directories and 250 images in '101_food_classes_10_percent\\test\\hot_and_sour_soup'.\n",
      "There are 0 directories and 250 images in '101_food_classes_10_percent\\test\\hot_dog'.\n",
      "There are 0 directories and 250 images in '101_food_classes_10_percent\\test\\huevos_rancheros'.\n",
      "There are 0 directories and 250 images in '101_food_classes_10_percent\\test\\hummus'.\n",
      "There are 0 directories and 250 images in '101_food_classes_10_percent\\test\\ice_cream'.\n",
      "There are 0 directories and 250 images in '101_food_classes_10_percent\\test\\lasagna'.\n",
      "There are 0 directories and 250 images in '101_food_classes_10_percent\\test\\lobster_bisque'.\n",
      "There are 0 directories and 250 images in '101_food_classes_10_percent\\test\\lobster_roll_sandwich'.\n",
      "There are 0 directories and 250 images in '101_food_classes_10_percent\\test\\macaroni_and_cheese'.\n",
      "There are 0 directories and 250 images in '101_food_classes_10_percent\\test\\macarons'.\n",
      "There are 0 directories and 250 images in '101_food_classes_10_percent\\test\\miso_soup'.\n",
      "There are 0 directories and 250 images in '101_food_classes_10_percent\\test\\mussels'.\n",
      "There are 0 directories and 250 images in '101_food_classes_10_percent\\test\\nachos'.\n",
      "There are 0 directories and 250 images in '101_food_classes_10_percent\\test\\omelette'.\n",
      "There are 0 directories and 250 images in '101_food_classes_10_percent\\test\\onion_rings'.\n",
      "There are 0 directories and 250 images in '101_food_classes_10_percent\\test\\oysters'.\n",
      "There are 0 directories and 250 images in '101_food_classes_10_percent\\test\\pad_thai'.\n",
      "There are 0 directories and 250 images in '101_food_classes_10_percent\\test\\paella'.\n",
      "There are 0 directories and 250 images in '101_food_classes_10_percent\\test\\pancakes'.\n",
      "There are 0 directories and 250 images in '101_food_classes_10_percent\\test\\panna_cotta'.\n",
      "There are 0 directories and 250 images in '101_food_classes_10_percent\\test\\peking_duck'.\n",
      "There are 0 directories and 250 images in '101_food_classes_10_percent\\test\\pho'.\n",
      "There are 0 directories and 250 images in '101_food_classes_10_percent\\test\\pizza'.\n",
      "There are 0 directories and 250 images in '101_food_classes_10_percent\\test\\pork_chop'.\n",
      "There are 0 directories and 250 images in '101_food_classes_10_percent\\test\\poutine'.\n",
      "There are 0 directories and 250 images in '101_food_classes_10_percent\\test\\prime_rib'.\n",
      "There are 0 directories and 250 images in '101_food_classes_10_percent\\test\\pulled_pork_sandwich'.\n",
      "There are 0 directories and 250 images in '101_food_classes_10_percent\\test\\ramen'.\n",
      "There are 0 directories and 250 images in '101_food_classes_10_percent\\test\\ravioli'.\n",
      "There are 0 directories and 250 images in '101_food_classes_10_percent\\test\\red_velvet_cake'.\n",
      "There are 0 directories and 250 images in '101_food_classes_10_percent\\test\\risotto'.\n",
      "There are 0 directories and 250 images in '101_food_classes_10_percent\\test\\samosa'.\n",
      "There are 0 directories and 250 images in '101_food_classes_10_percent\\test\\sashimi'.\n",
      "There are 0 directories and 250 images in '101_food_classes_10_percent\\test\\scallops'.\n",
      "There are 0 directories and 250 images in '101_food_classes_10_percent\\test\\seaweed_salad'.\n",
      "There are 0 directories and 250 images in '101_food_classes_10_percent\\test\\shrimp_and_grits'.\n",
      "There are 0 directories and 250 images in '101_food_classes_10_percent\\test\\spaghetti_bolognese'.\n",
      "There are 0 directories and 250 images in '101_food_classes_10_percent\\test\\spaghetti_carbonara'.\n",
      "There are 0 directories and 250 images in '101_food_classes_10_percent\\test\\spring_rolls'.\n",
      "There are 0 directories and 250 images in '101_food_classes_10_percent\\test\\steak'.\n",
      "There are 0 directories and 250 images in '101_food_classes_10_percent\\test\\strawberry_shortcake'.\n",
      "There are 0 directories and 250 images in '101_food_classes_10_percent\\test\\sushi'.\n",
      "There are 0 directories and 250 images in '101_food_classes_10_percent\\test\\tacos'.\n",
      "There are 0 directories and 250 images in '101_food_classes_10_percent\\test\\takoyaki'.\n",
      "There are 0 directories and 250 images in '101_food_classes_10_percent\\test\\tiramisu'.\n",
      "There are 0 directories and 250 images in '101_food_classes_10_percent\\test\\tuna_tartare'.\n",
      "There are 0 directories and 250 images in '101_food_classes_10_percent\\test\\waffles'.\n",
      "There are 101 directories and 0 images in '101_food_classes_10_percent\\train'.\n",
      "There are 0 directories and 75 images in '101_food_classes_10_percent\\train\\apple_pie'.\n",
      "There are 0 directories and 75 images in '101_food_classes_10_percent\\train\\baby_back_ribs'.\n",
      "There are 0 directories and 75 images in '101_food_classes_10_percent\\train\\baklava'.\n",
      "There are 0 directories and 75 images in '101_food_classes_10_percent\\train\\beef_carpaccio'.\n",
      "There are 0 directories and 75 images in '101_food_classes_10_percent\\train\\beef_tartare'.\n",
      "There are 0 directories and 75 images in '101_food_classes_10_percent\\train\\beet_salad'.\n",
      "There are 0 directories and 75 images in '101_food_classes_10_percent\\train\\beignets'.\n",
      "There are 0 directories and 75 images in '101_food_classes_10_percent\\train\\bibimbap'.\n",
      "There are 0 directories and 75 images in '101_food_classes_10_percent\\train\\bread_pudding'.\n",
      "There are 0 directories and 75 images in '101_food_classes_10_percent\\train\\breakfast_burrito'.\n",
      "There are 0 directories and 75 images in '101_food_classes_10_percent\\train\\bruschetta'.\n",
      "There are 0 directories and 75 images in '101_food_classes_10_percent\\train\\caesar_salad'.\n",
      "There are 0 directories and 75 images in '101_food_classes_10_percent\\train\\cannoli'.\n",
      "There are 0 directories and 75 images in '101_food_classes_10_percent\\train\\caprese_salad'.\n",
      "There are 0 directories and 75 images in '101_food_classes_10_percent\\train\\carrot_cake'.\n",
      "There are 0 directories and 75 images in '101_food_classes_10_percent\\train\\ceviche'.\n",
      "There are 0 directories and 75 images in '101_food_classes_10_percent\\train\\cheesecake'.\n",
      "There are 0 directories and 75 images in '101_food_classes_10_percent\\train\\cheese_plate'.\n",
      "There are 0 directories and 75 images in '101_food_classes_10_percent\\train\\chicken_curry'.\n",
      "There are 0 directories and 75 images in '101_food_classes_10_percent\\train\\chicken_quesadilla'.\n",
      "There are 0 directories and 75 images in '101_food_classes_10_percent\\train\\chicken_wings'.\n",
      "There are 0 directories and 75 images in '101_food_classes_10_percent\\train\\chocolate_cake'.\n",
      "There are 0 directories and 75 images in '101_food_classes_10_percent\\train\\chocolate_mousse'.\n",
      "There are 0 directories and 75 images in '101_food_classes_10_percent\\train\\churros'.\n",
      "There are 0 directories and 75 images in '101_food_classes_10_percent\\train\\clam_chowder'.\n",
      "There are 0 directories and 75 images in '101_food_classes_10_percent\\train\\club_sandwich'.\n",
      "There are 0 directories and 75 images in '101_food_classes_10_percent\\train\\crab_cakes'.\n",
      "There are 0 directories and 75 images in '101_food_classes_10_percent\\train\\creme_brulee'.\n",
      "There are 0 directories and 75 images in '101_food_classes_10_percent\\train\\croque_madame'.\n",
      "There are 0 directories and 75 images in '101_food_classes_10_percent\\train\\cup_cakes'.\n",
      "There are 0 directories and 75 images in '101_food_classes_10_percent\\train\\deviled_eggs'.\n",
      "There are 0 directories and 75 images in '101_food_classes_10_percent\\train\\donuts'.\n",
      "There are 0 directories and 75 images in '101_food_classes_10_percent\\train\\dumplings'.\n",
      "There are 0 directories and 75 images in '101_food_classes_10_percent\\train\\edamame'.\n",
      "There are 0 directories and 75 images in '101_food_classes_10_percent\\train\\eggs_benedict'.\n",
      "There are 0 directories and 75 images in '101_food_classes_10_percent\\train\\escargots'.\n",
      "There are 0 directories and 75 images in '101_food_classes_10_percent\\train\\falafel'.\n",
      "There are 0 directories and 75 images in '101_food_classes_10_percent\\train\\filet_mignon'.\n",
      "There are 0 directories and 75 images in '101_food_classes_10_percent\\train\\fish_and_chips'.\n",
      "There are 0 directories and 75 images in '101_food_classes_10_percent\\train\\foie_gras'.\n",
      "There are 0 directories and 75 images in '101_food_classes_10_percent\\train\\french_fries'.\n",
      "There are 0 directories and 75 images in '101_food_classes_10_percent\\train\\french_onion_soup'.\n",
      "There are 0 directories and 75 images in '101_food_classes_10_percent\\train\\french_toast'.\n",
      "There are 0 directories and 75 images in '101_food_classes_10_percent\\train\\fried_calamari'.\n",
      "There are 0 directories and 75 images in '101_food_classes_10_percent\\train\\fried_rice'.\n",
      "There are 0 directories and 75 images in '101_food_classes_10_percent\\train\\frozen_yogurt'.\n",
      "There are 0 directories and 75 images in '101_food_classes_10_percent\\train\\garlic_bread'.\n",
      "There are 0 directories and 75 images in '101_food_classes_10_percent\\train\\gnocchi'.\n",
      "There are 0 directories and 75 images in '101_food_classes_10_percent\\train\\greek_salad'.\n",
      "There are 0 directories and 75 images in '101_food_classes_10_percent\\train\\grilled_cheese_sandwich'.\n",
      "There are 0 directories and 75 images in '101_food_classes_10_percent\\train\\grilled_salmon'.\n",
      "There are 0 directories and 75 images in '101_food_classes_10_percent\\train\\guacamole'.\n",
      "There are 0 directories and 75 images in '101_food_classes_10_percent\\train\\gyoza'.\n",
      "There are 0 directories and 75 images in '101_food_classes_10_percent\\train\\hamburger'.\n",
      "There are 0 directories and 75 images in '101_food_classes_10_percent\\train\\hot_and_sour_soup'.\n",
      "There are 0 directories and 75 images in '101_food_classes_10_percent\\train\\hot_dog'.\n",
      "There are 0 directories and 75 images in '101_food_classes_10_percent\\train\\huevos_rancheros'.\n",
      "There are 0 directories and 75 images in '101_food_classes_10_percent\\train\\hummus'.\n",
      "There are 0 directories and 75 images in '101_food_classes_10_percent\\train\\ice_cream'.\n",
      "There are 0 directories and 75 images in '101_food_classes_10_percent\\train\\lasagna'.\n",
      "There are 0 directories and 75 images in '101_food_classes_10_percent\\train\\lobster_bisque'.\n",
      "There are 0 directories and 75 images in '101_food_classes_10_percent\\train\\lobster_roll_sandwich'.\n",
      "There are 0 directories and 75 images in '101_food_classes_10_percent\\train\\macaroni_and_cheese'.\n",
      "There are 0 directories and 75 images in '101_food_classes_10_percent\\train\\macarons'.\n",
      "There are 0 directories and 75 images in '101_food_classes_10_percent\\train\\miso_soup'.\n",
      "There are 0 directories and 75 images in '101_food_classes_10_percent\\train\\mussels'.\n",
      "There are 0 directories and 75 images in '101_food_classes_10_percent\\train\\nachos'.\n",
      "There are 0 directories and 75 images in '101_food_classes_10_percent\\train\\omelette'.\n",
      "There are 0 directories and 75 images in '101_food_classes_10_percent\\train\\onion_rings'.\n",
      "There are 0 directories and 75 images in '101_food_classes_10_percent\\train\\oysters'.\n",
      "There are 0 directories and 75 images in '101_food_classes_10_percent\\train\\pad_thai'.\n",
      "There are 0 directories and 75 images in '101_food_classes_10_percent\\train\\paella'.\n",
      "There are 0 directories and 75 images in '101_food_classes_10_percent\\train\\pancakes'.\n",
      "There are 0 directories and 75 images in '101_food_classes_10_percent\\train\\panna_cotta'.\n",
      "There are 0 directories and 75 images in '101_food_classes_10_percent\\train\\peking_duck'.\n",
      "There are 0 directories and 75 images in '101_food_classes_10_percent\\train\\pho'.\n",
      "There are 0 directories and 75 images in '101_food_classes_10_percent\\train\\pizza'.\n",
      "There are 0 directories and 75 images in '101_food_classes_10_percent\\train\\pork_chop'.\n",
      "There are 0 directories and 75 images in '101_food_classes_10_percent\\train\\poutine'.\n",
      "There are 0 directories and 75 images in '101_food_classes_10_percent\\train\\prime_rib'.\n",
      "There are 0 directories and 75 images in '101_food_classes_10_percent\\train\\pulled_pork_sandwich'.\n",
      "There are 0 directories and 75 images in '101_food_classes_10_percent\\train\\ramen'.\n",
      "There are 0 directories and 75 images in '101_food_classes_10_percent\\train\\ravioli'.\n",
      "There are 0 directories and 75 images in '101_food_classes_10_percent\\train\\red_velvet_cake'.\n",
      "There are 0 directories and 75 images in '101_food_classes_10_percent\\train\\risotto'.\n",
      "There are 0 directories and 75 images in '101_food_classes_10_percent\\train\\samosa'.\n",
      "There are 0 directories and 75 images in '101_food_classes_10_percent\\train\\sashimi'.\n",
      "There are 0 directories and 75 images in '101_food_classes_10_percent\\train\\scallops'.\n",
      "There are 0 directories and 75 images in '101_food_classes_10_percent\\train\\seaweed_salad'.\n",
      "There are 0 directories and 75 images in '101_food_classes_10_percent\\train\\shrimp_and_grits'.\n",
      "There are 0 directories and 75 images in '101_food_classes_10_percent\\train\\spaghetti_bolognese'.\n",
      "There are 0 directories and 75 images in '101_food_classes_10_percent\\train\\spaghetti_carbonara'.\n",
      "There are 0 directories and 75 images in '101_food_classes_10_percent\\train\\spring_rolls'.\n",
      "There are 0 directories and 75 images in '101_food_classes_10_percent\\train\\steak'.\n",
      "There are 0 directories and 75 images in '101_food_classes_10_percent\\train\\strawberry_shortcake'.\n",
      "There are 0 directories and 75 images in '101_food_classes_10_percent\\train\\sushi'.\n",
      "There are 0 directories and 75 images in '101_food_classes_10_percent\\train\\tacos'.\n",
      "There are 0 directories and 75 images in '101_food_classes_10_percent\\train\\takoyaki'.\n",
      "There are 0 directories and 75 images in '101_food_classes_10_percent\\train\\tiramisu'.\n",
      "There are 0 directories and 75 images in '101_food_classes_10_percent\\train\\tuna_tartare'.\n",
      "There are 0 directories and 75 images in '101_food_classes_10_percent\\train\\waffles'.\n"
     ]
    }
   ],
   "source": [
    "# How many images are we dealing with\n",
    "walk_through_dir(\"101_food_classes_10_percent\")"
   ]
  },
  {
   "cell_type": "code",
   "execution_count": 5,
   "metadata": {},
   "outputs": [
    {
     "name": "stdout",
     "output_type": "stream",
     "text": [
      "Found 7575 files belonging to 101 classes.\n",
      "Found 25250 files belonging to 101 classes.\n"
     ]
    }
   ],
   "source": [
    "# Setting up data inputs\n",
    "IMG_SIZE = (224, 224)\n",
    "\n",
    "train_data_all_10_percent = tf.keras.preprocessing.image_dataset_from_directory(\n",
    "    train_dir,\n",
    "    label_mode=\"categorical\",\n",
    "    image_size=IMG_SIZE\n",
    ")\n",
    "\n",
    "test_data_all_10_percent = tf.keras.preprocessing.image_dataset_from_directory(\n",
    "    test_dir,\n",
    "    label_mode=\"categorical\",\n",
    "    image_size=IMG_SIZE,\n",
    "    shuffle=False # Don't shuffle test data\n",
    ")"
   ]
  },
  {
   "cell_type": "code",
   "execution_count": 6,
   "metadata": {},
   "outputs": [],
   "source": [
    "# Creating checkpoint callback\n",
    "checkpoint_path = \"101_food_model_checkpoint\"\n",
    "checkpoint_callback = tf.keras.callbacks.ModelCheckpoint(\n",
    "    checkpoint_path,\n",
    "    save_weights_only=True,\n",
    "    monitor=\"val_accuracy\",\n",
    "    save_best_only=True\n",
    ")"
   ]
  },
  {
   "cell_type": "code",
   "execution_count": 7,
   "metadata": {},
   "outputs": [],
   "source": [
    "# Creating data augmentation\n",
    "from tensorflow.keras import layers\n",
    "from tensorflow.keras.layers.experimental import preprocessing\n",
    "from tensorflow.keras.models import Sequential\n",
    "\n",
    "data_augmentation = Sequential([\n",
    "    preprocessing.RandomFlip(\"horizontal\"),\n",
    "    preprocessing.RandomRotation(0.2),\n",
    "    preprocessing.RandomHeight(0.2),\n",
    "    preprocessing.RandomWidth(0.2),\n",
    "    preprocessing.RandomZoom(0.2)\n",
    "    # preprocessing.Rescaling(1./255) - for models, that don't auto-rescale\n",
    "], name=\"data_augmentation\")"
   ]
  },
  {
   "cell_type": "code",
   "execution_count": 8,
   "metadata": {},
   "outputs": [],
   "source": [
    "# Setting up the base model\n",
    "base_model = tf.keras.applications.EfficientNetB0(include_top=False)\n",
    "base_model.trainable = False\n",
    "\n",
    "# Setting up layers\n",
    "inputs = layers.Input(shape=(224, 224, 3), name=\"input_layer\")\n",
    "x = data_augmentation(inputs)\n",
    "x = base_model(x, training=False)\n",
    "x = layers.GlobalAveragePooling2D(name=\"global_average_pooling_layer\")(x)\n",
    "outputs = layers.Dense(\n",
    "    len(train_data_all_10_percent.class_names),\n",
    "    activation=\"softmax\",\n",
    "    name=\"output_layer\"\n",
    ")(x)\n",
    "model = tf.keras.Model(inputs, outputs)"
   ]
  },
  {
   "cell_type": "code",
   "execution_count": 9,
   "metadata": {},
   "outputs": [
    {
     "name": "stdout",
     "output_type": "stream",
     "text": [
      "Model: \"model\"\n",
      "_________________________________________________________________\n",
      " Layer (type)                Output Shape              Param #   \n",
      "=================================================================\n",
      " input_layer (InputLayer)    [(None, 224, 224, 3)]     0         \n",
      "                                                                 \n",
      " data_augmentation (Sequenti  (None, 224, 224, 3)      0         \n",
      " al)                                                             \n",
      "                                                                 \n",
      " efficientnetb0 (Functional)  (None, None, None, 1280)  4049571  \n",
      "                                                                 \n",
      " global_average_pooling_laye  (None, 1280)             0         \n",
      " r (GlobalAveragePooling2D)                                      \n",
      "                                                                 \n",
      " output_layer (Dense)        (None, 101)               129381    \n",
      "                                                                 \n",
      "=================================================================\n",
      "Total params: 4,178,952\n",
      "Trainable params: 129,381\n",
      "Non-trainable params: 4,049,571\n",
      "_________________________________________________________________\n"
     ]
    }
   ],
   "source": [
    "# Getting the model summary\n",
    "model.summary()"
   ]
  },
  {
   "cell_type": "code",
   "execution_count": 10,
   "metadata": {},
   "outputs": [
    {
     "name": "stdout",
     "output_type": "stream",
     "text": [
      "Epoch 1/5\n",
      "WARNING:tensorflow:Using a while_loop for converting RngReadAndSkip cause there is no registered converter for this op.\n",
      "WARNING:tensorflow:Using a while_loop for converting Bitcast cause there is no registered converter for this op.\n",
      "WARNING:tensorflow:Using a while_loop for converting Bitcast cause there is no registered converter for this op.\n",
      "WARNING:tensorflow:Using a while_loop for converting StatelessRandomUniformV2 cause there is no registered converter for this op.\n",
      "WARNING:tensorflow:Using a while_loop for converting ImageProjectiveTransformV3 cause there is no registered converter for this op.\n",
      "WARNING:tensorflow:Using a while_loop for converting RngReadAndSkip cause there is no registered converter for this op.\n",
      "WARNING:tensorflow:Using a while_loop for converting Bitcast cause there is no registered converter for this op.\n",
      "WARNING:tensorflow:Using a while_loop for converting Bitcast cause there is no registered converter for this op.\n",
      "WARNING:tensorflow:Using a while_loop for converting StatelessRandomUniformV2 cause there is no registered converter for this op.\n",
      "WARNING:tensorflow:Using a while_loop for converting ImageProjectiveTransformV3 cause there is no registered converter for this op.\n",
      "WARNING:tensorflow:Using a while_loop for converting RngReadAndSkip cause there is no registered converter for this op.\n",
      "WARNING:tensorflow:Using a while_loop for converting Bitcast cause there is no registered converter for this op.\n",
      "WARNING:tensorflow:Using a while_loop for converting Bitcast cause there is no registered converter for this op.\n",
      "WARNING:tensorflow:Using a while_loop for converting StatelessRandomUniformV2 cause there is no registered converter for this op.\n",
      "WARNING:tensorflow:Using a while_loop for converting ImageProjectiveTransformV3 cause there is no registered converter for this op.\n",
      "WARNING:tensorflow:Using a while_loop for converting RngReadAndSkip cause there is no registered converter for this op.\n",
      "WARNING:tensorflow:Using a while_loop for converting Bitcast cause there is no registered converter for this op.\n",
      "WARNING:tensorflow:Using a while_loop for converting Bitcast cause there is no registered converter for this op.\n",
      "WARNING:tensorflow:Using a while_loop for converting StatelessRandomUniformV2 cause there is no registered converter for this op.\n",
      "WARNING:tensorflow:Using a while_loop for converting ImageProjectiveTransformV3 cause there is no registered converter for this op.\n",
      "237/237 [==============================] - 1225s 5s/step - loss: 3.3725 - accuracy: 0.2776 - val_loss: 2.4649 - val_accuracy: 0.4438\n",
      "Epoch 2/5\n",
      "237/237 [==============================] - 1159s 5s/step - loss: 2.1925 - accuracy: 0.5001 - val_loss: 2.0634 - val_accuracy: 0.4884\n",
      "Epoch 3/5\n",
      "237/237 [==============================] - 1141s 5s/step - loss: 1.8261 - accuracy: 0.5679 - val_loss: 1.9072 - val_accuracy: 0.5102\n",
      "Epoch 4/5\n",
      "237/237 [==============================] - 1462s 6s/step - loss: 1.5953 - accuracy: 0.6116 - val_loss: 1.8082 - val_accuracy: 0.5246\n",
      "Epoch 5/5\n",
      "237/237 [==============================] - 2234s 9s/step - loss: 1.4455 - accuracy: 0.6467 - val_loss: 1.7944 - val_accuracy: 0.5227\n"
     ]
    }
   ],
   "source": [
    "# Compiling the model\n",
    "model.compile(\n",
    "    loss=\"categorical_crossentropy\",\n",
    "    optimizer=tf.keras.optimizers.Adam(),\n",
    "    metrics=[\"accuracy\"]\n",
    ")\n",
    "\n",
    "# Fitting the model\n",
    "history = model.fit(\n",
    "    train_data_all_10_percent,\n",
    "    epochs=5,\n",
    "    steps_per_epoch=len(train_data_all_10_percent),\n",
    "    validation_data=test_data_all_10_percent,\n",
    "    validation_steps=int(0.25 * len(test_data_all_10_percent)),\n",
    "    callbacks=[checkpoint_callback]\n",
    ")"
   ]
  },
  {
   "cell_type": "code",
   "execution_count": 11,
   "metadata": {},
   "outputs": [
    {
     "name": "stdout",
     "output_type": "stream",
     "text": [
      "790/790 [==============================] - 1935s 2s/step - loss: 1.5829 - accuracy: 0.5815\n"
     ]
    },
    {
     "data": {
      "text/plain": [
       "[1.5828746557235718, 0.5814653635025024]"
      ]
     },
     "execution_count": 11,
     "metadata": {},
     "output_type": "execute_result"
    }
   ],
   "source": [
    "# Evaluating on the whole dataset\n",
    "feature_extraction_results = model.evaluate(test_data_all_10_percent)\n",
    "feature_extraction_results"
   ]
  },
  {
   "cell_type": "code",
   "execution_count": 12,
   "metadata": {},
   "outputs": [
    {
     "data": {
      "image/png": "[encoded data removed]",
      "text/plain": [
       "<Figure size 432x288 with 1 Axes>"
      ]
     },
     "metadata": {
      "needs_background": "light"
     },
     "output_type": "display_data"
    },
    {
     "data": {
      "image/png": "[encoded data removed]",
      "text/plain": [
       "<Figure size 432x288 with 1 Axes>"
      ]
     },
     "metadata": {
      "needs_background": "light"
     },
     "output_type": "display_data"
    }
   ],
   "source": [
    "# Visualising the loss curves\n",
    "plot_loss_curves(history=history)"
   ]
  },
  {
   "attachments": {},
   "cell_type": "markdown",
   "metadata": {},
   "source": [
    "### Fine-Tuning"
   ]
  },
  {
   "cell_type": "code",
   "execution_count": 13,
   "metadata": {},
   "outputs": [],
   "source": [
    "# Unfreeze all layers\n",
    "base_model.trainable = True\n",
    "\n",
    "# Refreeze all layers except for the last 5\n",
    "for layer in base_model.layers[:-5]:\n",
    "    layer.trainable = False"
   ]
  },
  {
   "cell_type": "code",
   "execution_count": 14,
   "metadata": {},
   "outputs": [],
   "source": [
    "# Recompiling the model with a lower learning rate\n",
    "model.compile(\n",
    "    loss=\"categorical_crossentropy\",\n",
    "    optimizer=tf.keras.optimizers.Adam(learning_rate=0.0001),\n",
    "    metrics=[\"accuracy\"]\n",
    ")"
   ]
  },
  {
   "cell_type": "code",
   "execution_count": 15,
   "metadata": {},
   "outputs": [
    {
     "name": "stdout",
     "output_type": "stream",
     "text": [
      "input_layer True\n",
      "data_augmentation True\n",
      "efficientnetb0 True\n",
      "global_average_pooling_layer True\n",
      "output_layer True\n"
     ]
    }
   ],
   "source": [
    "# Checking which layers are trainable\n",
    "for layer in model.layers:\n",
    "    print(layer.name, layer.trainable)"
   ]
  },
  {
   "cell_type": "code",
   "execution_count": 16,
   "metadata": {},
   "outputs": [
    {
     "name": "stdout",
     "output_type": "stream",
     "text": [
      "0 input_1 False\n",
      "1 rescaling False\n",
      "2 normalization False\n",
      "3 rescaling_1 False\n",
      "4 stem_conv_pad False\n",
      "5 stem_conv False\n",
      "6 stem_bn False\n",
      "7 stem_activation False\n",
      "8 block1a_dwconv False\n",
      "9 block1a_bn False\n",
      "10 block1a_activation False\n",
      "11 block1a_se_squeeze False\n",
      "12 block1a_se_reshape False\n",
      "13 block1a_se_reduce False\n",
      "14 block1a_se_expand False\n",
      "15 block1a_se_excite False\n",
      "16 block1a_project_conv False\n",
      "17 block1a_project_bn False\n",
      "18 block2a_expand_conv False\n",
      "19 block2a_expand_bn False\n",
      "20 block2a_expand_activation False\n",
      "21 block2a_dwconv_pad False\n",
      "22 block2a_dwconv False\n",
      "23 block2a_bn False\n",
      "24 block2a_activation False\n",
      "25 block2a_se_squeeze False\n",
      "26 block2a_se_reshape False\n",
      "27 block2a_se_reduce False\n",
      "28 block2a_se_expand False\n",
      "29 block2a_se_excite False\n",
      "30 block2a_project_conv False\n",
      "31 block2a_project_bn False\n",
      "32 block2b_expand_conv False\n",
      "33 block2b_expand_bn False\n",
      "34 block2b_expand_activation False\n",
      "35 block2b_dwconv False\n",
      "36 block2b_bn False\n",
      "37 block2b_activation False\n",
      "38 block2b_se_squeeze False\n",
      "39 block2b_se_reshape False\n",
      "40 block2b_se_reduce False\n",
      "41 block2b_se_expand False\n",
      "42 block2b_se_excite False\n",
      "43 block2b_project_conv False\n",
      "44 block2b_project_bn False\n",
      "45 block2b_drop False\n",
      "46 block2b_add False\n",
      "47 block3a_expand_conv False\n",
      "48 block3a_expand_bn False\n",
      "49 block3a_expand_activation False\n",
      "50 block3a_dwconv_pad False\n",
      "51 block3a_dwconv False\n",
      "52 block3a_bn False\n",
      "53 block3a_activation False\n",
      "54 block3a_se_squeeze False\n",
      "55 block3a_se_reshape False\n",
      "56 block3a_se_reduce False\n",
      "57 block3a_se_expand False\n",
      "58 block3a_se_excite False\n",
      "59 block3a_project_conv False\n",
      "60 block3a_project_bn False\n",
      "61 block3b_expand_conv False\n",
      "62 block3b_expand_bn False\n",
      "63 block3b_expand_activation False\n",
      "64 block3b_dwconv False\n",
      "65 block3b_bn False\n",
      "66 block3b_activation False\n",
      "67 block3b_se_squeeze False\n",
      "68 block3b_se_reshape False\n",
      "69 block3b_se_reduce False\n",
      "70 block3b_se_expand False\n",
      "71 block3b_se_excite False\n",
      "72 block3b_project_conv False\n",
      "73 block3b_project_bn False\n",
      "74 block3b_drop False\n",
      "75 block3b_add False\n",
      "76 block4a_expand_conv False\n",
      "77 block4a_expand_bn False\n",
      "78 block4a_expand_activation False\n",
      "79 block4a_dwconv_pad False\n",
      "80 block4a_dwconv False\n",
      "81 block4a_bn False\n",
      "82 block4a_activation False\n",
      "83 block4a_se_squeeze False\n",
      "84 block4a_se_reshape False\n",
      "85 block4a_se_reduce False\n",
      "86 block4a_se_expand False\n",
      "87 block4a_se_excite False\n",
      "88 block4a_project_conv False\n",
      "89 block4a_project_bn False\n",
      "90 block4b_expand_conv False\n",
      "91 block4b_expand_bn False\n",
      "92 block4b_expand_activation False\n",
      "93 block4b_dwconv False\n",
      "94 block4b_bn False\n",
      "95 block4b_activation False\n",
      "96 block4b_se_squeeze False\n",
      "97 block4b_se_reshape False\n",
      "98 block4b_se_reduce False\n",
      "99 block4b_se_expand False\n",
      "100 block4b_se_excite False\n",
      "101 block4b_project_conv False\n",
      "102 block4b_project_bn False\n",
      "103 block4b_drop False\n",
      "104 block4b_add False\n",
      "105 block4c_expand_conv False\n",
      "106 block4c_expand_bn False\n",
      "107 block4c_expand_activation False\n",
      "108 block4c_dwconv False\n",
      "109 block4c_bn False\n",
      "110 block4c_activation False\n",
      "111 block4c_se_squeeze False\n",
      "112 block4c_se_reshape False\n",
      "113 block4c_se_reduce False\n",
      "114 block4c_se_expand False\n",
      "115 block4c_se_excite False\n",
      "116 block4c_project_conv False\n",
      "117 block4c_project_bn False\n",
      "118 block4c_drop False\n",
      "119 block4c_add False\n",
      "120 block5a_expand_conv False\n",
      "121 block5a_expand_bn False\n",
      "122 block5a_expand_activation False\n",
      "123 block5a_dwconv False\n",
      "124 block5a_bn False\n",
      "125 block5a_activation False\n",
      "126 block5a_se_squeeze False\n",
      "127 block5a_se_reshape False\n",
      "128 block5a_se_reduce False\n",
      "129 block5a_se_expand False\n",
      "130 block5a_se_excite False\n",
      "131 block5a_project_conv False\n",
      "132 block5a_project_bn False\n",
      "133 block5b_expand_conv False\n",
      "134 block5b_expand_bn False\n",
      "135 block5b_expand_activation False\n",
      "136 block5b_dwconv False\n",
      "137 block5b_bn False\n",
      "138 block5b_activation False\n",
      "139 block5b_se_squeeze False\n",
      "140 block5b_se_reshape False\n",
      "141 block5b_se_reduce False\n",
      "142 block5b_se_expand False\n",
      "143 block5b_se_excite False\n",
      "144 block5b_project_conv False\n",
      "145 block5b_project_bn False\n",
      "146 block5b_drop False\n",
      "147 block5b_add False\n",
      "148 block5c_expand_conv False\n",
      "149 block5c_expand_bn False\n",
      "150 block5c_expand_activation False\n",
      "151 block5c_dwconv False\n",
      "152 block5c_bn False\n",
      "153 block5c_activation False\n",
      "154 block5c_se_squeeze False\n",
      "155 block5c_se_reshape False\n",
      "156 block5c_se_reduce False\n",
      "157 block5c_se_expand False\n",
      "158 block5c_se_excite False\n",
      "159 block5c_project_conv False\n",
      "160 block5c_project_bn False\n",
      "161 block5c_drop False\n",
      "162 block5c_add False\n",
      "163 block6a_expand_conv False\n",
      "164 block6a_expand_bn False\n",
      "165 block6a_expand_activation False\n",
      "166 block6a_dwconv_pad False\n",
      "167 block6a_dwconv False\n",
      "168 block6a_bn False\n",
      "169 block6a_activation False\n",
      "170 block6a_se_squeeze False\n",
      "171 block6a_se_reshape False\n",
      "172 block6a_se_reduce False\n",
      "173 block6a_se_expand False\n",
      "174 block6a_se_excite False\n",
      "175 block6a_project_conv False\n",
      "176 block6a_project_bn False\n",
      "177 block6b_expand_conv False\n",
      "178 block6b_expand_bn False\n",
      "179 block6b_expand_activation False\n",
      "180 block6b_dwconv False\n",
      "181 block6b_bn False\n",
      "182 block6b_activation False\n",
      "183 block6b_se_squeeze False\n",
      "184 block6b_se_reshape False\n",
      "185 block6b_se_reduce False\n",
      "186 block6b_se_expand False\n",
      "187 block6b_se_excite False\n",
      "188 block6b_project_conv False\n",
      "189 block6b_project_bn False\n",
      "190 block6b_drop False\n",
      "191 block6b_add False\n",
      "192 block6c_expand_conv False\n",
      "193 block6c_expand_bn False\n",
      "194 block6c_expand_activation False\n",
      "195 block6c_dwconv False\n",
      "196 block6c_bn False\n",
      "197 block6c_activation False\n",
      "198 block6c_se_squeeze False\n",
      "199 block6c_se_reshape False\n",
      "200 block6c_se_reduce False\n",
      "201 block6c_se_expand False\n",
      "202 block6c_se_excite False\n",
      "203 block6c_project_conv False\n",
      "204 block6c_project_bn False\n",
      "205 block6c_drop False\n",
      "206 block6c_add False\n",
      "207 block6d_expand_conv False\n",
      "208 block6d_expand_bn False\n",
      "209 block6d_expand_activation False\n",
      "210 block6d_dwconv False\n",
      "211 block6d_bn False\n",
      "212 block6d_activation False\n",
      "213 block6d_se_squeeze False\n",
      "214 block6d_se_reshape False\n",
      "215 block6d_se_reduce False\n",
      "216 block6d_se_expand False\n",
      "217 block6d_se_excite False\n",
      "218 block6d_project_conv False\n",
      "219 block6d_project_bn False\n",
      "220 block6d_drop False\n",
      "221 block6d_add False\n",
      "222 block7a_expand_conv False\n",
      "223 block7a_expand_bn False\n",
      "224 block7a_expand_activation False\n",
      "225 block7a_dwconv False\n",
      "226 block7a_bn False\n",
      "227 block7a_activation False\n",
      "228 block7a_se_squeeze False\n",
      "229 block7a_se_reshape False\n",
      "230 block7a_se_reduce False\n",
      "231 block7a_se_expand False\n",
      "232 block7a_se_excite False\n",
      "233 block7a_project_conv True\n",
      "234 block7a_project_bn True\n",
      "235 top_conv True\n",
      "236 top_bn True\n",
      "237 top_activation True\n"
     ]
    }
   ],
   "source": [
    "# Checking which layers are trainable in the base model\n",
    "for layer_number, layer in enumerate(model.layers[2].layers):\n",
    "    print(layer_number, layer.name, layer.trainable)"
   ]
  },
  {
   "cell_type": "code",
   "execution_count": 17,
   "metadata": {},
   "outputs": [
    {
     "name": "stdout",
     "output_type": "stream",
     "text": [
      "Epoch 5/10\n",
      "WARNING:tensorflow:Using a while_loop for converting RngReadAndSkip cause there is no registered converter for this op.\n",
      "WARNING:tensorflow:Using a while_loop for converting Bitcast cause there is no registered converter for this op.\n",
      "WARNING:tensorflow:Using a while_loop for converting Bitcast cause there is no registered converter for this op.\n",
      "WARNING:tensorflow:Using a while_loop for converting StatelessRandomUniformV2 cause there is no registered converter for this op.\n",
      "WARNING:tensorflow:Using a while_loop for converting ImageProjectiveTransformV3 cause there is no registered converter for this op.\n",
      "WARNING:tensorflow:Using a while_loop for converting RngReadAndSkip cause there is no registered converter for this op.\n",
      "WARNING:tensorflow:Using a while_loop for converting Bitcast cause there is no registered converter for this op.\n",
      "WARNING:tensorflow:Using a while_loop for converting Bitcast cause there is no registered converter for this op.\n",
      "WARNING:tensorflow:Using a while_loop for converting StatelessRandomUniformV2 cause there is no registered converter for this op.\n",
      "WARNING:tensorflow:Using a while_loop for converting ImageProjectiveTransformV3 cause there is no registered converter for this op.\n",
      "WARNING:tensorflow:Using a while_loop for converting RngReadAndSkip cause there is no registered converter for this op.\n",
      "WARNING:tensorflow:Using a while_loop for converting Bitcast cause there is no registered converter for this op.\n",
      "WARNING:tensorflow:Using a while_loop for converting Bitcast cause there is no registered converter for this op.\n",
      "WARNING:tensorflow:Using a while_loop for converting StatelessRandomUniformV2 cause there is no registered converter for this op.\n",
      "WARNING:tensorflow:Using a while_loop for converting ImageProjectiveTransformV3 cause there is no registered converter for this op.\n",
      "WARNING:tensorflow:Using a while_loop for converting RngReadAndSkip cause there is no registered converter for this op.\n",
      "WARNING:tensorflow:Using a while_loop for converting Bitcast cause there is no registered converter for this op.\n",
      "WARNING:tensorflow:Using a while_loop for converting Bitcast cause there is no registered converter for this op.\n",
      "WARNING:tensorflow:Using a while_loop for converting StatelessRandomUniformV2 cause there is no registered converter for this op.\n",
      "WARNING:tensorflow:Using a while_loop for converting ImageProjectiveTransformV3 cause there is no registered converter for this op.\n",
      "237/237 [==============================] - 979s 4s/step - loss: 1.2209 - accuracy: 0.6785 - val_loss: 1.6699 - val_accuracy: 0.5556\n",
      "Epoch 6/10\n",
      "237/237 [==============================] - 978s 4s/step - loss: 1.0820 - accuracy: 0.7085 - val_loss: 1.6735 - val_accuracy: 0.5561\n",
      "Epoch 7/10\n",
      "237/237 [==============================] - 1029s 4s/step - loss: 0.9993 - accuracy: 0.7304 - val_loss: 1.6773 - val_accuracy: 0.5559\n",
      "Epoch 8/10\n",
      "237/237 [==============================] - 415s 2s/step - loss: 0.9482 - accuracy: 0.7485 - val_loss: 1.6576 - val_accuracy: 0.5636\n",
      "Epoch 9/10\n",
      "237/237 [==============================] - 385s 2s/step - loss: 0.8947 - accuracy: 0.7599 - val_loss: 1.6672 - val_accuracy: 0.5609\n",
      "Epoch 10/10\n",
      "237/237 [==============================] - 381s 2s/step - loss: 0.8370 - accuracy: 0.7752 - val_loss: 1.6735 - val_accuracy: 0.5567\n"
     ]
    }
   ],
   "source": [
    "# Fine-tune for 5 more epochs\n",
    "fine_tune_epochs = 10\n",
    "\n",
    "history_finetuned = model.fit(\n",
    "    train_data_all_10_percent,\n",
    "    epochs=fine_tune_epochs,\n",
    "    steps_per_epoch=len(train_data_all_10_percent),\n",
    "    validation_data=test_data_all_10_percent,\n",
    "    validation_steps=int(0.15 * len(test_data_all_10_percent)),\n",
    "    initial_epoch=history.epoch[-1]\n",
    ")"
   ]
  },
  {
   "cell_type": "code",
   "execution_count": 18,
   "metadata": {},
   "outputs": [
    {
     "name": "stdout",
     "output_type": "stream",
     "text": [
      "790/790 [==============================] - 777s 983ms/step - loss: 1.4927 - accuracy: 0.6017\n"
     ]
    },
    {
     "data": {
      "text/plain": [
       "[1.4926910400390625, 0.6017425656318665]"
      ]
     },
     "execution_count": 18,
     "metadata": {},
     "output_type": "execute_result"
    }
   ],
   "source": [
    "# Evaluating on the whole test dataset\n",
    "fine_tuning_results = model.evaluate(test_data_all_10_percent)\n",
    "fine_tuning_results"
   ]
  },
  {
   "cell_type": "code",
   "execution_count": 19,
   "metadata": {},
   "outputs": [
    {
     "data": {
      "image/png": "[encoded data removed]",
      "text/plain": [
       "<Figure size 576x576 with 2 Axes>"
      ]
     },
     "metadata": {
      "needs_background": "light"
     },
     "output_type": "display_data"
    }
   ],
   "source": [
    "# Comparing histories\n",
    "compare_historys(\n",
    "    original_history=history,\n",
    "    new_history=history_finetuned,\n",
    "    initial_epochs=5\n",
    ")"
   ]
  },
  {
   "cell_type": "code",
   "execution_count": 24,
   "metadata": {},
   "outputs": [
    {
     "name": "stdout",
     "output_type": "stream",
     "text": [
      "WARNING:tensorflow:Using a while_loop for converting RngReadAndSkip cause there is no registered converter for this op.\n"
     ]
    },
    {
     "name": "stderr",
     "output_type": "stream",
     "text": [
      "WARNING:tensorflow:Using a while_loop for converting RngReadAndSkip cause there is no registered converter for this op.\n"
     ]
    },
    {
     "name": "stdout",
     "output_type": "stream",
     "text": [
      "WARNING:tensorflow:Using a while_loop for converting Bitcast cause there is no registered converter for this op.\n"
     ]
    },
    {
     "name": "stderr",
     "output_type": "stream",
     "text": [
      "WARNING:tensorflow:Using a while_loop for converting Bitcast cause there is no registered converter for this op.\n"
     ]
    },
    {
     "name": "stdout",
     "output_type": "stream",
     "text": [
      "WARNING:tensorflow:Using a while_loop for converting Bitcast cause there is no registered converter for this op.\n"
     ]
    },
    {
     "name": "stderr",
     "output_type": "stream",
     "text": [
      "WARNING:tensorflow:Using a while_loop for converting Bitcast cause there is no registered converter for this op.\n"
     ]
    },
    {
     "name": "stdout",
     "output_type": "stream",
     "text": [
      "WARNING:tensorflow:Using a while_loop for converting StatelessRandomUniformV2 cause there is no registered converter for this op.\n"
     ]
    },
    {
     "name": "stderr",
     "output_type": "stream",
     "text": [
      "WARNING:tensorflow:Using a while_loop for converting StatelessRandomUniformV2 cause there is no registered converter for this op.\n"
     ]
    },
    {
     "name": "stdout",
     "output_type": "stream",
     "text": [
      "WARNING:tensorflow:Using a while_loop for converting ImageProjectiveTransformV3 cause there is no registered converter for this op.\n"
     ]
    },
    {
     "name": "stderr",
     "output_type": "stream",
     "text": [
      "WARNING:tensorflow:Using a while_loop for converting ImageProjectiveTransformV3 cause there is no registered converter for this op.\n"
     ]
    },
    {
     "name": "stdout",
     "output_type": "stream",
     "text": [
      "WARNING:tensorflow:Using a while_loop for converting RngReadAndSkip cause there is no registered converter for this op.\n"
     ]
    },
    {
     "name": "stderr",
     "output_type": "stream",
     "text": [
      "WARNING:tensorflow:Using a while_loop for converting RngReadAndSkip cause there is no registered converter for this op.\n"
     ]
    },
    {
     "name": "stdout",
     "output_type": "stream",
     "text": [
      "WARNING:tensorflow:Using a while_loop for converting Bitcast cause there is no registered converter for this op.\n"
     ]
    },
    {
     "name": "stderr",
     "output_type": "stream",
     "text": [
      "WARNING:tensorflow:Using a while_loop for converting Bitcast cause there is no registered converter for this op.\n"
     ]
    },
    {
     "name": "stdout",
     "output_type": "stream",
     "text": [
      "WARNING:tensorflow:Using a while_loop for converting Bitcast cause there is no registered converter for this op.\n"
     ]
    },
    {
     "name": "stderr",
     "output_type": "stream",
     "text": [
      "WARNING:tensorflow:Using a while_loop for converting Bitcast cause there is no registered converter for this op.\n"
     ]
    },
    {
     "name": "stdout",
     "output_type": "stream",
     "text": [
      "WARNING:tensorflow:Using a while_loop for converting StatelessRandomUniformV2 cause there is no registered converter for this op.\n"
     ]
    },
    {
     "name": "stderr",
     "output_type": "stream",
     "text": [
      "WARNING:tensorflow:Using a while_loop for converting StatelessRandomUniformV2 cause there is no registered converter for this op.\n"
     ]
    },
    {
     "name": "stdout",
     "output_type": "stream",
     "text": [
      "WARNING:tensorflow:Using a while_loop for converting ImageProjectiveTransformV3 cause there is no registered converter for this op.\n"
     ]
    },
    {
     "name": "stderr",
     "output_type": "stream",
     "text": [
      "WARNING:tensorflow:Using a while_loop for converting ImageProjectiveTransformV3 cause there is no registered converter for this op.\n"
     ]
    },
    {
     "name": "stdout",
     "output_type": "stream",
     "text": [
      "WARNING:tensorflow:Using a while_loop for converting RngReadAndSkip cause there is no registered converter for this op.\n"
     ]
    },
    {
     "name": "stderr",
     "output_type": "stream",
     "text": [
      "WARNING:tensorflow:Using a while_loop for converting RngReadAndSkip cause there is no registered converter for this op.\n"
     ]
    },
    {
     "name": "stdout",
     "output_type": "stream",
     "text": [
      "WARNING:tensorflow:Using a while_loop for converting Bitcast cause there is no registered converter for this op.\n"
     ]
    },
    {
     "name": "stderr",
     "output_type": "stream",
     "text": [
      "WARNING:tensorflow:Using a while_loop for converting Bitcast cause there is no registered converter for this op.\n"
     ]
    },
    {
     "name": "stdout",
     "output_type": "stream",
     "text": [
      "WARNING:tensorflow:Using a while_loop for converting Bitcast cause there is no registered converter for this op.\n"
     ]
    },
    {
     "name": "stderr",
     "output_type": "stream",
     "text": [
      "WARNING:tensorflow:Using a while_loop for converting Bitcast cause there is no registered converter for this op.\n"
     ]
    },
    {
     "name": "stdout",
     "output_type": "stream",
     "text": [
      "WARNING:tensorflow:Using a while_loop for converting StatelessRandomUniformV2 cause there is no registered converter for this op.\n"
     ]
    },
    {
     "name": "stderr",
     "output_type": "stream",
     "text": [
      "WARNING:tensorflow:Using a while_loop for converting StatelessRandomUniformV2 cause there is no registered converter for this op.\n"
     ]
    },
    {
     "name": "stdout",
     "output_type": "stream",
     "text": [
      "WARNING:tensorflow:Using a while_loop for converting ImageProjectiveTransformV3 cause there is no registered converter for this op.\n"
     ]
    },
    {
     "name": "stderr",
     "output_type": "stream",
     "text": [
      "WARNING:tensorflow:Using a while_loop for converting ImageProjectiveTransformV3 cause there is no registered converter for this op.\n"
     ]
    },
    {
     "name": "stdout",
     "output_type": "stream",
     "text": [
      "WARNING:tensorflow:Using a while_loop for converting RngReadAndSkip cause there is no registered converter for this op.\n"
     ]
    },
    {
     "name": "stderr",
     "output_type": "stream",
     "text": [
      "WARNING:tensorflow:Using a while_loop for converting RngReadAndSkip cause there is no registered converter for this op.\n"
     ]
    },
    {
     "name": "stdout",
     "output_type": "stream",
     "text": [
      "WARNING:tensorflow:Using a while_loop for converting Bitcast cause there is no registered converter for this op.\n"
     ]
    },
    {
     "name": "stderr",
     "output_type": "stream",
     "text": [
      "WARNING:tensorflow:Using a while_loop for converting Bitcast cause there is no registered converter for this op.\n"
     ]
    },
    {
     "name": "stdout",
     "output_type": "stream",
     "text": [
      "WARNING:tensorflow:Using a while_loop for converting Bitcast cause there is no registered converter for this op.\n"
     ]
    },
    {
     "name": "stderr",
     "output_type": "stream",
     "text": [
      "WARNING:tensorflow:Using a while_loop for converting Bitcast cause there is no registered converter for this op.\n"
     ]
    },
    {
     "name": "stdout",
     "output_type": "stream",
     "text": [
      "WARNING:tensorflow:Using a while_loop for converting StatelessRandomUniformV2 cause there is no registered converter for this op.\n"
     ]
    },
    {
     "name": "stderr",
     "output_type": "stream",
     "text": [
      "WARNING:tensorflow:Using a while_loop for converting StatelessRandomUniformV2 cause there is no registered converter for this op.\n"
     ]
    },
    {
     "name": "stdout",
     "output_type": "stream",
     "text": [
      "WARNING:tensorflow:Using a while_loop for converting ImageProjectiveTransformV3 cause there is no registered converter for this op.\n"
     ]
    },
    {
     "name": "stderr",
     "output_type": "stream",
     "text": [
      "WARNING:tensorflow:Using a while_loop for converting ImageProjectiveTransformV3 cause there is no registered converter for this op.\n"
     ]
    },
    {
     "name": "stdout",
     "output_type": "stream",
     "text": [
      "WARNING:tensorflow:Using a while_loop for converting RngReadAndSkip cause there is no registered converter for this op.\n"
     ]
    },
    {
     "name": "stderr",
     "output_type": "stream",
     "text": [
      "WARNING:tensorflow:Using a while_loop for converting RngReadAndSkip cause there is no registered converter for this op.\n"
     ]
    },
    {
     "name": "stdout",
     "output_type": "stream",
     "text": [
      "WARNING:tensorflow:Using a while_loop for converting Bitcast cause there is no registered converter for this op.\n"
     ]
    },
    {
     "name": "stderr",
     "output_type": "stream",
     "text": [
      "WARNING:tensorflow:Using a while_loop for converting Bitcast cause there is no registered converter for this op.\n"
     ]
    },
    {
     "name": "stdout",
     "output_type": "stream",
     "text": [
      "WARNING:tensorflow:Using a while_loop for converting Bitcast cause there is no registered converter for this op.\n"
     ]
    },
    {
     "name": "stderr",
     "output_type": "stream",
     "text": [
      "WARNING:tensorflow:Using a while_loop for converting Bitcast cause there is no registered converter for this op.\n"
     ]
    },
    {
     "name": "stdout",
     "output_type": "stream",
     "text": [
      "WARNING:tensorflow:Using a while_loop for converting StatelessRandomUniformV2 cause there is no registered converter for this op.\n"
     ]
    },
    {
     "name": "stderr",
     "output_type": "stream",
     "text": [
      "WARNING:tensorflow:Using a while_loop for converting StatelessRandomUniformV2 cause there is no registered converter for this op.\n"
     ]
    },
    {
     "name": "stdout",
     "output_type": "stream",
     "text": [
      "WARNING:tensorflow:Using a while_loop for converting ImageProjectiveTransformV3 cause there is no registered converter for this op.\n"
     ]
    },
    {
     "name": "stderr",
     "output_type": "stream",
     "text": [
      "WARNING:tensorflow:Using a while_loop for converting ImageProjectiveTransformV3 cause there is no registered converter for this op.\n"
     ]
    },
    {
     "name": "stdout",
     "output_type": "stream",
     "text": [
      "WARNING:tensorflow:Using a while_loop for converting RngReadAndSkip cause there is no registered converter for this op.\n"
     ]
    },
    {
     "name": "stderr",
     "output_type": "stream",
     "text": [
      "WARNING:tensorflow:Using a while_loop for converting RngReadAndSkip cause there is no registered converter for this op.\n"
     ]
    },
    {
     "name": "stdout",
     "output_type": "stream",
     "text": [
      "WARNING:tensorflow:Using a while_loop for converting Bitcast cause there is no registered converter for this op.\n"
     ]
    },
    {
     "name": "stderr",
     "output_type": "stream",
     "text": [
      "WARNING:tensorflow:Using a while_loop for converting Bitcast cause there is no registered converter for this op.\n"
     ]
    },
    {
     "name": "stdout",
     "output_type": "stream",
     "text": [
      "WARNING:tensorflow:Using a while_loop for converting Bitcast cause there is no registered converter for this op.\n"
     ]
    },
    {
     "name": "stderr",
     "output_type": "stream",
     "text": [
      "WARNING:tensorflow:Using a while_loop for converting Bitcast cause there is no registered converter for this op.\n"
     ]
    },
    {
     "name": "stdout",
     "output_type": "stream",
     "text": [
      "WARNING:tensorflow:Using a while_loop for converting StatelessRandomUniformV2 cause there is no registered converter for this op.\n"
     ]
    },
    {
     "name": "stderr",
     "output_type": "stream",
     "text": [
      "WARNING:tensorflow:Using a while_loop for converting StatelessRandomUniformV2 cause there is no registered converter for this op.\n"
     ]
    },
    {
     "name": "stdout",
     "output_type": "stream",
     "text": [
      "WARNING:tensorflow:Using a while_loop for converting ImageProjectiveTransformV3 cause there is no registered converter for this op.\n"
     ]
    },
    {
     "name": "stderr",
     "output_type": "stream",
     "text": [
      "WARNING:tensorflow:Using a while_loop for converting ImageProjectiveTransformV3 cause there is no registered converter for this op.\n"
     ]
    },
    {
     "name": "stdout",
     "output_type": "stream",
     "text": [
      "WARNING:tensorflow:Using a while_loop for converting RngReadAndSkip cause there is no registered converter for this op.\n"
     ]
    },
    {
     "name": "stderr",
     "output_type": "stream",
     "text": [
      "WARNING:tensorflow:Using a while_loop for converting RngReadAndSkip cause there is no registered converter for this op.\n"
     ]
    },
    {
     "name": "stdout",
     "output_type": "stream",
     "text": [
      "WARNING:tensorflow:Using a while_loop for converting Bitcast cause there is no registered converter for this op.\n"
     ]
    },
    {
     "name": "stderr",
     "output_type": "stream",
     "text": [
      "WARNING:tensorflow:Using a while_loop for converting Bitcast cause there is no registered converter for this op.\n"
     ]
    },
    {
     "name": "stdout",
     "output_type": "stream",
     "text": [
      "WARNING:tensorflow:Using a while_loop for converting Bitcast cause there is no registered converter for this op.\n"
     ]
    },
    {
     "name": "stderr",
     "output_type": "stream",
     "text": [
      "WARNING:tensorflow:Using a while_loop for converting Bitcast cause there is no registered converter for this op.\n"
     ]
    },
    {
     "name": "stdout",
     "output_type": "stream",
     "text": [
      "WARNING:tensorflow:Using a while_loop for converting StatelessRandomUniformV2 cause there is no registered converter for this op.\n"
     ]
    },
    {
     "name": "stderr",
     "output_type": "stream",
     "text": [
      "WARNING:tensorflow:Using a while_loop for converting StatelessRandomUniformV2 cause there is no registered converter for this op.\n"
     ]
    },
    {
     "name": "stdout",
     "output_type": "stream",
     "text": [
      "WARNING:tensorflow:Using a while_loop for converting ImageProjectiveTransformV3 cause there is no registered converter for this op.\n"
     ]
    },
    {
     "name": "stderr",
     "output_type": "stream",
     "text": [
      "WARNING:tensorflow:Using a while_loop for converting ImageProjectiveTransformV3 cause there is no registered converter for this op.\n"
     ]
    },
    {
     "name": "stdout",
     "output_type": "stream",
     "text": [
      "WARNING:tensorflow:Using a while_loop for converting RngReadAndSkip cause there is no registered converter for this op.\n"
     ]
    },
    {
     "name": "stderr",
     "output_type": "stream",
     "text": [
      "WARNING:tensorflow:Using a while_loop for converting RngReadAndSkip cause there is no registered converter for this op.\n"
     ]
    },
    {
     "name": "stdout",
     "output_type": "stream",
     "text": [
      "WARNING:tensorflow:Using a while_loop for converting Bitcast cause there is no registered converter for this op.\n"
     ]
    },
    {
     "name": "stderr",
     "output_type": "stream",
     "text": [
      "WARNING:tensorflow:Using a while_loop for converting Bitcast cause there is no registered converter for this op.\n"
     ]
    },
    {
     "name": "stdout",
     "output_type": "stream",
     "text": [
      "WARNING:tensorflow:Using a while_loop for converting Bitcast cause there is no registered converter for this op.\n"
     ]
    },
    {
     "name": "stderr",
     "output_type": "stream",
     "text": [
      "WARNING:tensorflow:Using a while_loop for converting Bitcast cause there is no registered converter for this op.\n"
     ]
    },
    {
     "name": "stdout",
     "output_type": "stream",
     "text": [
      "WARNING:tensorflow:Using a while_loop for converting StatelessRandomUniformV2 cause there is no registered converter for this op.\n"
     ]
    },
    {
     "name": "stderr",
     "output_type": "stream",
     "text": [
      "WARNING:tensorflow:Using a while_loop for converting StatelessRandomUniformV2 cause there is no registered converter for this op.\n"
     ]
    },
    {
     "name": "stdout",
     "output_type": "stream",
     "text": [
      "WARNING:tensorflow:Using a while_loop for converting ImageProjectiveTransformV3 cause there is no registered converter for this op.\n"
     ]
    },
    {
     "name": "stderr",
     "output_type": "stream",
     "text": [
      "WARNING:tensorflow:Using a while_loop for converting ImageProjectiveTransformV3 cause there is no registered converter for this op.\n"
     ]
    },
    {
     "name": "stdout",
     "output_type": "stream",
     "text": [
      "WARNING:tensorflow:Using a while_loop for converting RngReadAndSkip cause there is no registered converter for this op.\n"
     ]
    },
    {
     "name": "stderr",
     "output_type": "stream",
     "text": [
      "WARNING:tensorflow:Using a while_loop for converting RngReadAndSkip cause there is no registered converter for this op.\n"
     ]
    },
    {
     "name": "stdout",
     "output_type": "stream",
     "text": [
      "WARNING:tensorflow:Using a while_loop for converting Bitcast cause there is no registered converter for this op.\n"
     ]
    },
    {
     "name": "stderr",
     "output_type": "stream",
     "text": [
      "WARNING:tensorflow:Using a while_loop for converting Bitcast cause there is no registered converter for this op.\n"
     ]
    },
    {
     "name": "stdout",
     "output_type": "stream",
     "text": [
      "WARNING:tensorflow:Using a while_loop for converting Bitcast cause there is no registered converter for this op.\n"
     ]
    },
    {
     "name": "stderr",
     "output_type": "stream",
     "text": [
      "WARNING:tensorflow:Using a while_loop for converting Bitcast cause there is no registered converter for this op.\n"
     ]
    },
    {
     "name": "stdout",
     "output_type": "stream",
     "text": [
      "WARNING:tensorflow:Using a while_loop for converting StatelessRandomUniformV2 cause there is no registered converter for this op.\n"
     ]
    },
    {
     "name": "stderr",
     "output_type": "stream",
     "text": [
      "WARNING:tensorflow:Using a while_loop for converting StatelessRandomUniformV2 cause there is no registered converter for this op.\n"
     ]
    },
    {
     "name": "stdout",
     "output_type": "stream",
     "text": [
      "WARNING:tensorflow:Using a while_loop for converting ImageProjectiveTransformV3 cause there is no registered converter for this op.\n"
     ]
    },
    {
     "name": "stderr",
     "output_type": "stream",
     "text": [
      "WARNING:tensorflow:Using a while_loop for converting ImageProjectiveTransformV3 cause there is no registered converter for this op.\n"
     ]
    },
    {
     "name": "stdout",
     "output_type": "stream",
     "text": [
      "WARNING:tensorflow:Using a while_loop for converting RngReadAndSkip cause there is no registered converter for this op.\n"
     ]
    },
    {
     "name": "stderr",
     "output_type": "stream",
     "text": [
      "WARNING:tensorflow:Using a while_loop for converting RngReadAndSkip cause there is no registered converter for this op.\n"
     ]
    },
    {
     "name": "stdout",
     "output_type": "stream",
     "text": [
      "WARNING:tensorflow:Using a while_loop for converting Bitcast cause there is no registered converter for this op.\n"
     ]
    },
    {
     "name": "stderr",
     "output_type": "stream",
     "text": [
      "WARNING:tensorflow:Using a while_loop for converting Bitcast cause there is no registered converter for this op.\n"
     ]
    },
    {
     "name": "stdout",
     "output_type": "stream",
     "text": [
      "WARNING:tensorflow:Using a while_loop for converting Bitcast cause there is no registered converter for this op.\n"
     ]
    },
    {
     "name": "stderr",
     "output_type": "stream",
     "text": [
      "WARNING:tensorflow:Using a while_loop for converting Bitcast cause there is no registered converter for this op.\n"
     ]
    },
    {
     "name": "stdout",
     "output_type": "stream",
     "text": [
      "WARNING:tensorflow:Using a while_loop for converting StatelessRandomUniformV2 cause there is no registered converter for this op.\n"
     ]
    },
    {
     "name": "stderr",
     "output_type": "stream",
     "text": [
      "WARNING:tensorflow:Using a while_loop for converting StatelessRandomUniformV2 cause there is no registered converter for this op.\n"
     ]
    },
    {
     "name": "stdout",
     "output_type": "stream",
     "text": [
      "WARNING:tensorflow:Using a while_loop for converting ImageProjectiveTransformV3 cause there is no registered converter for this op.\n"
     ]
    },
    {
     "name": "stderr",
     "output_type": "stream",
     "text": [
      "WARNING:tensorflow:Using a while_loop for converting ImageProjectiveTransformV3 cause there is no registered converter for this op.\n",
      "WARNING:absl:Found untraced functions such as _jit_compiled_convolution_op, _jit_compiled_convolution_op, _jit_compiled_convolution_op, _jit_compiled_convolution_op, _jit_compiled_convolution_op while saving (showing 5 of 81). These functions will not be directly callable after loading.\n"
     ]
    },
    {
     "name": "stdout",
     "output_type": "stream",
     "text": [
      "INFO:tensorflow:Assets written to: saved_model/finetuned_10p\\assets\n"
     ]
    },
    {
     "name": "stderr",
     "output_type": "stream",
     "text": [
      "INFO:tensorflow:Assets written to: saved_model/finetuned_10p\\assets\n"
     ]
    },
    {
     "ename": "TypeError",
     "evalue": "Unable to serialize [2.0896919 2.1128857 2.1081853] to JSON. Unrecognized type <class 'tensorflow.python.framework.ops.EagerTensor'>.",
     "output_type": "error",
     "traceback": [
      "\u001b[1;31m---------------------------------------------------------------------------\u001b[0m",
      "\u001b[1;31mTypeError\u001b[0m                                 Traceback (most recent call last)",
      "\u001b[1;32mc:\\Users\\lturakulov\\Downloads\\SelfStudy_MachineLearning\\TensorFlow_06_TransferLearn_Scaling.ipynb Cell 22\u001b[0m in \u001b[0;36m<module>\u001b[1;34m\u001b[0m\n\u001b[0;32m      <a href='vscode-notebook-cell:/c%3A/Users/lturakulov/Downloads/SelfStudy_MachineLearning/TensorFlow_06_TransferLearn_Scaling.ipynb#X30sZmlsZQ%3D%3D?line=0'>1</a>\u001b[0m \u001b[39m# Saving fine-tuned model\u001b[39;00m\n\u001b[1;32m----> <a href='vscode-notebook-cell:/c%3A/Users/lturakulov/Downloads/SelfStudy_MachineLearning/TensorFlow_06_TransferLearn_Scaling.ipynb#X30sZmlsZQ%3D%3D?line=1'>2</a>\u001b[0m tf\u001b[39m.\u001b[39;49mkeras\u001b[39m.\u001b[39;49mmodels\u001b[39m.\u001b[39;49msave_model(model\u001b[39m=\u001b[39;49mmodel, filepath\u001b[39m=\u001b[39;49m\u001b[39m\"\u001b[39;49m\u001b[39msaved_model/finetuned_10p\u001b[39;49m\u001b[39m\"\u001b[39;49m)\n",
      "File \u001b[1;32mc:\\Users\\lturakulov\\AppData\\Local\\Programs\\Python\\Python38\\lib\\site-packages\\keras\\utils\\traceback_utils.py:70\u001b[0m, in \u001b[0;36mfilter_traceback.<locals>.error_handler\u001b[1;34m(*args, **kwargs)\u001b[0m\n\u001b[0;32m     67\u001b[0m     filtered_tb \u001b[39m=\u001b[39m _process_traceback_frames(e\u001b[39m.\u001b[39m__traceback__)\n\u001b[0;32m     68\u001b[0m     \u001b[39m# To get the full stack trace, call:\u001b[39;00m\n\u001b[0;32m     69\u001b[0m     \u001b[39m# `tf.debugging.disable_traceback_filtering()`\u001b[39;00m\n\u001b[1;32m---> 70\u001b[0m     \u001b[39mraise\u001b[39;00m e\u001b[39m.\u001b[39mwith_traceback(filtered_tb) \u001b[39mfrom\u001b[39;00m \u001b[39mNone\u001b[39m\n\u001b[0;32m     71\u001b[0m \u001b[39mfinally\u001b[39;00m:\n\u001b[0;32m     72\u001b[0m     \u001b[39mdel\u001b[39;00m filtered_tb\n",
      "File \u001b[1;32mc:\\Users\\lturakulov\\AppData\\Local\\Programs\\Python\\Python38\\lib\\json\\encoder.py:199\u001b[0m, in \u001b[0;36mJSONEncoder.encode\u001b[1;34m(self, o)\u001b[0m\n\u001b[0;32m    195\u001b[0m         \u001b[39mreturn\u001b[39;00m encode_basestring(o)\n\u001b[0;32m    196\u001b[0m \u001b[39m# This doesn't pass the iterator directly to ''.join() because the\u001b[39;00m\n\u001b[0;32m    197\u001b[0m \u001b[39m# exceptions aren't as detailed.  The list call should be roughly\u001b[39;00m\n\u001b[0;32m    198\u001b[0m \u001b[39m# equivalent to the PySequence_Fast that ''.join() would do.\u001b[39;00m\n\u001b[1;32m--> 199\u001b[0m chunks \u001b[39m=\u001b[39m \u001b[39mself\u001b[39;49m\u001b[39m.\u001b[39;49miterencode(o, _one_shot\u001b[39m=\u001b[39;49m\u001b[39mTrue\u001b[39;49;00m)\n\u001b[0;32m    200\u001b[0m \u001b[39mif\u001b[39;00m \u001b[39mnot\u001b[39;00m \u001b[39misinstance\u001b[39m(chunks, (\u001b[39mlist\u001b[39m, \u001b[39mtuple\u001b[39m)):\n\u001b[0;32m    201\u001b[0m     chunks \u001b[39m=\u001b[39m \u001b[39mlist\u001b[39m(chunks)\n",
      "File \u001b[1;32mc:\\Users\\lturakulov\\AppData\\Local\\Programs\\Python\\Python38\\lib\\json\\encoder.py:257\u001b[0m, in \u001b[0;36mJSONEncoder.iterencode\u001b[1;34m(self, o, _one_shot)\u001b[0m\n\u001b[0;32m    252\u001b[0m \u001b[39melse\u001b[39;00m:\n\u001b[0;32m    253\u001b[0m     _iterencode \u001b[39m=\u001b[39m _make_iterencode(\n\u001b[0;32m    254\u001b[0m         markers, \u001b[39mself\u001b[39m\u001b[39m.\u001b[39mdefault, _encoder, \u001b[39mself\u001b[39m\u001b[39m.\u001b[39mindent, floatstr,\n\u001b[0;32m    255\u001b[0m         \u001b[39mself\u001b[39m\u001b[39m.\u001b[39mkey_separator, \u001b[39mself\u001b[39m\u001b[39m.\u001b[39mitem_separator, \u001b[39mself\u001b[39m\u001b[39m.\u001b[39msort_keys,\n\u001b[0;32m    256\u001b[0m         \u001b[39mself\u001b[39m\u001b[39m.\u001b[39mskipkeys, _one_shot)\n\u001b[1;32m--> 257\u001b[0m \u001b[39mreturn\u001b[39;00m _iterencode(o, \u001b[39m0\u001b[39;49m)\n",
      "\u001b[1;31mTypeError\u001b[0m: Unable to serialize [2.0896919 2.1128857 2.1081853] to JSON. Unrecognized type <class 'tensorflow.python.framework.ops.EagerTensor'>."
     ]
    }
   ],
   "source": [
    "# Saving fine-tuned model\n",
    "tf.keras.models.save_model(model=model, filepath=\"saved_model/finetuned_10p\")\n",
    "#model.save(\"saved_model/finetuned_10p\")"
   ]
  },
  {
   "cell_type": "code",
   "execution_count": 25,
   "metadata": {},
   "outputs": [
    {
     "name": "stdout",
     "output_type": "stream",
     "text": [
      "WARNING:tensorflow:SavedModel saved prior to TF 2.5 detected when loading Keras model. Please ensure that you are saving the model with model.save() or tf.keras.models.save_model(), *NOT* tf.saved_model.save(). To confirm, there should be a file named \"keras_metadata.pb\" in the SavedModel directory.\n"
     ]
    },
    {
     "name": "stderr",
     "output_type": "stream",
     "text": [
      "WARNING:tensorflow:SavedModel saved prior to TF 2.5 detected when loading Keras model. Please ensure that you are saving the model with model.save() or tf.keras.models.save_model(), *NOT* tf.saved_model.save(). To confirm, there should be a file named \"keras_metadata.pb\" in the SavedModel directory.\n"
     ]
    },
    {
     "ename": "ValueError",
     "evalue": "Unable to create a Keras model from SavedModel at saved_model/finetuned_10p. This SavedModel was exported with `tf.saved_model.save`, and lacks the Keras metadata file. Please save your Keras model by calling `model.save` or `tf.keras.models.save_model`. Note that you can still load this SavedModel with `tf.saved_model.load`.",
     "output_type": "error",
     "traceback": [
      "\u001b[1;31m---------------------------------------------------------------------------\u001b[0m",
      "\u001b[1;31mValueError\u001b[0m                                Traceback (most recent call last)",
      "\u001b[1;32mc:\\Users\\lturakulov\\Downloads\\SelfStudy_MachineLearning\\TensorFlow_06_TransferLearn_Scaling.ipynb Cell 23\u001b[0m in \u001b[0;36m<module>\u001b[1;34m\u001b[0m\n\u001b[0;32m      <a href='vscode-notebook-cell:/c%3A/Users/lturakulov/Downloads/SelfStudy_MachineLearning/TensorFlow_06_TransferLearn_Scaling.ipynb#X31sZmlsZQ%3D%3D?line=0'>1</a>\u001b[0m \u001b[39m# Loading saved model\u001b[39;00m\n\u001b[1;32m----> <a href='vscode-notebook-cell:/c%3A/Users/lturakulov/Downloads/SelfStudy_MachineLearning/TensorFlow_06_TransferLearn_Scaling.ipynb#X31sZmlsZQ%3D%3D?line=1'>2</a>\u001b[0m loaded_model \u001b[39m=\u001b[39m tf\u001b[39m.\u001b[39;49mkeras\u001b[39m.\u001b[39;49mmodels\u001b[39m.\u001b[39;49mload_model(\u001b[39m\"\u001b[39;49m\u001b[39msaved_model/finetuned_10p\u001b[39;49m\u001b[39m\"\u001b[39;49m)\n",
      "File \u001b[1;32mc:\\Users\\lturakulov\\AppData\\Local\\Programs\\Python\\Python38\\lib\\site-packages\\keras\\utils\\traceback_utils.py:70\u001b[0m, in \u001b[0;36mfilter_traceback.<locals>.error_handler\u001b[1;34m(*args, **kwargs)\u001b[0m\n\u001b[0;32m     67\u001b[0m     filtered_tb \u001b[39m=\u001b[39m _process_traceback_frames(e\u001b[39m.\u001b[39m__traceback__)\n\u001b[0;32m     68\u001b[0m     \u001b[39m# To get the full stack trace, call:\u001b[39;00m\n\u001b[0;32m     69\u001b[0m     \u001b[39m# `tf.debugging.disable_traceback_filtering()`\u001b[39;00m\n\u001b[1;32m---> 70\u001b[0m     \u001b[39mraise\u001b[39;00m e\u001b[39m.\u001b[39mwith_traceback(filtered_tb) \u001b[39mfrom\u001b[39;00m \u001b[39mNone\u001b[39m\n\u001b[0;32m     71\u001b[0m \u001b[39mfinally\u001b[39;00m:\n\u001b[0;32m     72\u001b[0m     \u001b[39mdel\u001b[39;00m filtered_tb\n",
      "File \u001b[1;32mc:\\Users\\lturakulov\\AppData\\Local\\Programs\\Python\\Python38\\lib\\site-packages\\keras\\saving\\saved_model\\load.py:220\u001b[0m, in \u001b[0;36m_read_legacy_metadata\u001b[1;34m(object_graph_def, metadata, path)\u001b[0m\n",
      "\u001b[1;31mValueError\u001b[0m: Unable to create a Keras model from SavedModel at saved_model/finetuned_10p. This SavedModel was exported with `tf.saved_model.save`, and lacks the Keras metadata file. Please save your Keras model by calling `model.save` or `tf.keras.models.save_model`. Note that you can still load this SavedModel with `tf.saved_model.load`."
     ]
    }
   ],
   "source": [
    "# Loading saved model\n",
    "loaded_model = tf.keras.models.load_model(\"saved_model/finetuned_10p\")"
   ]
  },
  {
   "attachments": {},
   "cell_type": "markdown",
   "metadata": {},
   "source": [
    "### Making predictions"
   ]
  },
  {
   "cell_type": "code",
   "execution_count": 27,
   "metadata": {},
   "outputs": [
    {
     "name": "stdout",
     "output_type": "stream",
     "text": [
      "790/790 [==============================] - 21890s 28s/step\n"
     ]
    }
   ],
   "source": [
    "# Checking model prediction probabilities\n",
    "preds_probs = model.predict(test_data_all_10_percent, verbose=1)"
   ]
  },
  {
   "cell_type": "code",
   "execution_count": 28,
   "metadata": {},
   "outputs": [
    {
     "data": {
      "text/plain": [
       "(25250, 101)"
      ]
     },
     "execution_count": 28,
     "metadata": {},
     "output_type": "execute_result"
    }
   ],
   "source": [
    "# Shape of predictions\n",
    "preds_probs.shape"
   ]
  },
  {
   "cell_type": "code",
   "execution_count": 29,
   "metadata": {},
   "outputs": [
    {
     "data": {
      "text/plain": [
       "array([[2.4520439e-01, 6.6030014e-04, 1.5364882e-01, ..., 1.5951309e-05,\n",
       "        9.5612854e-03, 5.2355960e-02],\n",
       "       [9.4483382e-01, 2.4581739e-08, 7.6244108e-04, ..., 7.4241916e-03,\n",
       "        4.4293387e-07, 4.8142811e-06],\n",
       "       [3.8913009e-01, 8.9338757e-03, 9.6814828e-03, ..., 2.7615897e-04,\n",
       "        2.5842132e-04, 2.5166450e-03],\n",
       "       ...,\n",
       "       [1.9061100e-01, 4.3152745e-06, 9.4549119e-04, ..., 5.0116096e-02,\n",
       "        4.1353478e-04, 6.8879846e-05],\n",
       "       [1.9513334e-01, 4.5685991e-04, 4.1934323e-01, ..., 6.3504284e-04,\n",
       "        1.8787663e-04, 1.9426418e-04],\n",
       "       [7.0803684e-01, 5.6954229e-07, 1.1571508e-03, ..., 3.8240405e-03,\n",
       "        2.9486791e-06, 7.0045923e-04]], dtype=float32)"
      ]
     },
     "execution_count": 29,
     "metadata": {},
     "output_type": "execute_result"
    }
   ],
   "source": [
    "# First 10 predictions\n",
    "preds_probs[:10]"
   ]
  },
  {
   "cell_type": "code",
   "execution_count": 30,
   "metadata": {},
   "outputs": [
    {
     "name": "stdout",
     "output_type": "stream",
     "text": [
      "Number of prediction probabiliyies: 101\n",
      "What prediction 0 looks like:\n",
      " [2.45204389e-01 6.60300138e-04 1.53648823e-01 1.51441199e-07\n",
      " 8.78110131e-06 2.66573647e-06 5.93937257e-05 1.70742214e-06\n",
      " 1.21419011e-02 2.91816512e-04 1.67580663e-06 1.79251347e-05\n",
      " 9.91179724e-04 2.41212945e-07 5.79254655e-03 3.23136989e-03\n",
      " 1.64254525e-05 1.01466558e-03 7.60043971e-03 4.42072633e-05\n",
      " 4.37082781e-04 1.27853982e-05 2.30713136e-04 4.53989924e-04\n",
      " 8.45291768e-04 1.75294583e-03 9.22289444e-04 1.27233157e-04\n",
      " 1.36961371e-01 9.60593636e-04 3.49654715e-06 5.96431375e-04\n",
      " 6.80745346e-04 1.14638112e-06 6.74583483e-03 1.77801121e-05\n",
      " 1.11922374e-04 2.46341038e-03 4.16875668e-02 1.75295820e-04\n",
      " 9.59721860e-04 4.21662349e-03 1.33111083e-03 1.40534003e-05\n",
      " 4.16725779e-05 6.21299841e-05 4.27900394e-03 8.86793423e-05\n",
      " 3.56066471e-06 4.85642478e-02 2.92460638e-04 1.27409716e-04\n",
      " 1.01904690e-01 2.92862840e-02 4.33360947e-05 2.28237268e-03\n",
      " 1.12251397e-02 1.30884896e-03 4.11906745e-03 5.78511244e-05\n",
      " 8.99919883e-07 1.78072380e-03 1.47123821e-02 9.32831899e-04\n",
      " 3.83897714e-04 2.58866930e-05 4.83273907e-05 1.34281367e-02\n",
      " 3.17820022e-03 6.87724794e-04 3.97029398e-05 5.43980332e-06\n",
      " 3.52547364e-03 3.76791431e-05 6.67667016e-04 8.48346372e-06\n",
      " 1.57504735e-04 1.10895494e-02 9.86989704e-04 8.16263608e-04\n",
      " 2.58602295e-03 1.45084530e-04 5.83382847e-04 1.69803407e-05\n",
      " 4.54664987e-04 2.96191275e-02 1.01448800e-02 9.16012330e-04\n",
      " 2.18419391e-05 1.29308421e-04 1.84550152e-06 3.81160207e-05\n",
      " 6.10061979e-04 7.45017547e-04 1.76856964e-04 1.85313309e-03\n",
      " 1.12743559e-03 2.56465195e-04 1.59513093e-05 9.56128538e-03\n",
      " 5.23559600e-02]\n",
      "What is the highest probability 0\n"
     ]
    }
   ],
   "source": [
    "# Getting predictions per class\n",
    "print(f\"Number of prediction probabiliyies: {len(preds_probs[0])}\")\n",
    "print(f\"What prediction 0 looks like:\\n {preds_probs[0]}\")\n",
    "print(f\"What is the highest probability {preds_probs[0].argmax()}\")"
   ]
  },
  {
   "cell_type": "code",
   "execution_count": 31,
   "metadata": {},
   "outputs": [
    {
     "data": {
      "text/plain": [
       "array([ 0,  0,  0,  8,  8, 78, 29, 46,  2,  0], dtype=int64)"
      ]
     },
     "execution_count": 31,
     "metadata": {},
     "output_type": "execute_result"
    }
   ],
   "source": [
    "# Getting all predicted classes\n",
    "pred_classes = preds_probs.argmax(axis=1)\n",
    "\n",
    "# Checking first 10 predictions\n",
    "pred_classes[:10]"
   ]
  },
  {
   "cell_type": "code",
   "execution_count": 33,
   "metadata": {},
   "outputs": [
    {
     "data": {
      "text/plain": [
       "25250"
      ]
     },
     "execution_count": 33,
     "metadata": {},
     "output_type": "execute_result"
    }
   ],
   "source": [
    "# How many classes we have\n",
    "len(pred_classes)"
   ]
  },
  {
   "cell_type": "code",
   "execution_count": 36,
   "metadata": {},
   "outputs": [
    {
     "data": {
      "text/plain": [
       "[0, 0, 0, 0, 0, 0, 0, 0, 0, 0]"
      ]
     },
     "execution_count": 36,
     "metadata": {},
     "output_type": "execute_result"
    }
   ],
   "source": [
    "# Extracting test labels\n",
    "y_labels = []\n",
    "\n",
    "for images, labels in test_data_all_10_percent.unbatch():\n",
    "    y_labels.append(labels.numpy().argmax())\n",
    "\n",
    "# Checking the first 10\n",
    "y_labels[:10]"
   ]
  },
  {
   "cell_type": "code",
   "execution_count": 37,
   "metadata": {},
   "outputs": [
    {
     "data": {
      "text/plain": [
       "0.6017425742574257"
      ]
     },
     "execution_count": 37,
     "metadata": {},
     "output_type": "execute_result"
    }
   ],
   "source": [
    "# Checking accuracy score\n",
    "from sklearn.metrics import accuracy_score\n",
    "\n",
    "sklearn_accuracy = accuracy_score(y_true=y_labels, y_pred=pred_classes)\n",
    "sklearn_accuracy"
   ]
  },
  {
   "cell_type": "code",
   "execution_count": null,
   "metadata": {},
   "outputs": [],
   "source": []
  }
 ],
 "metadata": {
  "kernelspec": {
   "display_name": "Python 3.8.10 64-bit",
   "language": "python",
   "name": "python3"
  },
  "language_info": {
   "codemirror_mode": {
    "name": "ipython",
    "version": 3
   },
   "file_extension": ".py",
   "mimetype": "text/x-python",
   "name": "python",
   "nbconvert_exporter": "python",
   "pygments_lexer": "ipython3",
   "version": "3.8.10"
  },
  "orig_nbformat": 4,
  "vscode": {
   "interpreter": {
    "hash": "8230a386d8e0083990873cddb8ebb5b6213275a10339230a8504f0ef8ce7f888"
   }
  }
 },
 "nbformat": 4,
 "nbformat_minor": 2
}
