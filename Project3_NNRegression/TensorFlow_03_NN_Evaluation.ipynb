{
 "cells": [
  {
   "cell_type": "markdown",
   "metadata": {},
   "source": [
    "# Tensors"
   ]
  },
  {
   "cell_type": "code",
   "execution_count": 4,
   "metadata": {},
   "outputs": [
    {
     "name": "stdout",
     "output_type": "stream",
     "text": [
      "2.10.0\n"
     ]
    }
   ],
   "source": [
    "# Importing TF and checking the version\n",
    "import tensorflow as tf\n",
    "print(tf.__version__)"
   ]
  },
  {
   "cell_type": "code",
   "execution_count": 5,
   "metadata": {},
   "outputs": [
    {
     "data": {
      "text/plain": [
       "<tf.Tensor: shape=(50,), dtype=int32, numpy=\n",
       "array([-100,  -96,  -92,  -88,  -84,  -80,  -76,  -72,  -68,  -64,  -60,\n",
       "        -56,  -52,  -48,  -44,  -40,  -36,  -32,  -28,  -24,  -20,  -16,\n",
       "        -12,   -8,   -4,    0,    4,    8,   12,   16,   20,   24,   28,\n",
       "         32,   36,   40,   44,   48,   52,   56,   60,   64,   68,   72,\n",
       "         76,   80,   84,   88,   92,   96])>"
      ]
     },
     "execution_count": 5,
     "metadata": {},
     "output_type": "execute_result"
    }
   ],
   "source": [
    "# Dataset\n",
    "X = tf.range(-100, 100, 4)\n",
    "X"
   ]
  },
  {
   "cell_type": "code",
   "execution_count": 6,
   "metadata": {},
   "outputs": [
    {
     "data": {
      "text/plain": [
       "<tf.Tensor: shape=(50,), dtype=int32, numpy=\n",
       "array([-90, -86, -82, -78, -74, -70, -66, -62, -58, -54, -50, -46, -42,\n",
       "       -38, -34, -30, -26, -22, -18, -14, -10,  -6,  -2,   2,   6,  10,\n",
       "        14,  18,  22,  26,  30,  34,  38,  42,  46,  50,  54,  58,  62,\n",
       "        66,  70,  74,  78,  82,  86,  90,  94,  98, 102, 106])>"
      ]
     },
     "execution_count": 6,
     "metadata": {},
     "output_type": "execute_result"
    }
   ],
   "source": [
    "# Labels\n",
    "y = X + 10\n",
    "y"
   ]
  },
  {
   "cell_type": "code",
   "execution_count": 7,
   "metadata": {},
   "outputs": [
    {
     "data": {
      "text/plain": [
       "[<matplotlib.lines.Line2D at 0x282474d97c0>]"
      ]
     },
     "execution_count": 7,
     "metadata": {},
     "output_type": "execute_result"
    },
    {
     "data": {
      "image/png": "[encoded data removed]",
      "text/plain": [
       "<Figure size 432x288 with 1 Axes>"
      ]
     },
     "metadata": {
      "needs_background": "light"
     },
     "output_type": "display_data"
    }
   ],
   "source": [
    "import matplotlib.pyplot as plt\n",
    "plt.plot(X, y)"
   ]
  },
  {
   "cell_type": "code",
   "execution_count": 8,
   "metadata": {},
   "outputs": [
    {
     "data": {
      "text/plain": [
       "<matplotlib.collections.PathCollection at 0x282495e7e50>"
      ]
     },
     "execution_count": 8,
     "metadata": {},
     "output_type": "execute_result"
    },
    {
     "data": {
      "image/png": "[encoded data removed]",
      "text/plain": [
       "<Figure size 432x288 with 1 Axes>"
      ]
     },
     "metadata": {
      "needs_background": "light"
     },
     "output_type": "display_data"
    }
   ],
   "source": [
    "plt.scatter(X, y)"
   ]
  },
  {
   "cell_type": "code",
   "execution_count": 9,
   "metadata": {},
   "outputs": [],
   "source": [
    "# Creating train / test datasets\n",
    "X_train = X[:40]\n",
    "y_train = y[:40]\n",
    "\n",
    "X_test = X[40:]\n",
    "y_test = y[40:]"
   ]
  },
  {
   "cell_type": "code",
   "execution_count": 10,
   "metadata": {},
   "outputs": [
    {
     "data": {
      "text/plain": [
       "(40, 10)"
      ]
     },
     "execution_count": 10,
     "metadata": {},
     "output_type": "execute_result"
    }
   ],
   "source": [
    "len(X_train), len(X_test)"
   ]
  },
  {
   "cell_type": "code",
   "execution_count": 11,
   "metadata": {},
   "outputs": [
    {
     "data": {
      "text/plain": [
       "<matplotlib.legend.Legend at 0x28249676ee0>"
      ]
     },
     "execution_count": 11,
     "metadata": {},
     "output_type": "execute_result"
    },
    {
     "data": {
      "image/png": "[encoded data removed]",
      "text/plain": [
       "<Figure size 504x360 with 1 Axes>"
      ]
     },
     "metadata": {
      "needs_background": "light"
     },
     "output_type": "display_data"
    }
   ],
   "source": [
    "from cProfile import label\n",
    "\n",
    "\n",
    "plt.figure(figsize=(7, 5))\n",
    "# Plotting training data\n",
    "plt.scatter(X_train, y_train, c=\"b\", label=\"Training set\")\n",
    "# Plotting testing data\n",
    "plt.scatter(X_test, y_test, c=\"r\", label=\"Testing set\")\n",
    "# Show a legend\n",
    "plt.legend()"
   ]
  },
  {
   "cell_type": "code",
   "execution_count": 12,
   "metadata": {},
   "outputs": [],
   "source": [
    "# Creating NN\n",
    "model = tf.keras.Sequential([\n",
    "    tf.keras.layers.Dense(1, input_shape=[1])\n",
    "])\n",
    "\n",
    "model.compile(loss=tf.keras.losses.mae,\n",
    "    optimizer=tf.keras.optimizers.SGD(),\n",
    "    metrics=[\"mae\"]\n",
    ")"
   ]
  },
  {
   "cell_type": "code",
   "execution_count": 13,
   "metadata": {},
   "outputs": [
    {
     "name": "stdout",
     "output_type": "stream",
     "text": [
      "Model: \"sequential\"\n",
      "_________________________________________________________________\n",
      " Layer (type)                Output Shape              Param #   \n",
      "=================================================================\n",
      " dense (Dense)               (None, 1)                 2         \n",
      "                                                                 \n",
      "=================================================================\n",
      "Total params: 2\n",
      "Trainable params: 2\n",
      "Non-trainable params: 0\n",
      "_________________________________________________________________\n"
     ]
    }
   ],
   "source": [
    "model.summary()"
   ]
  },
  {
   "cell_type": "code",
   "execution_count": 14,
   "metadata": {},
   "outputs": [
    {
     "name": "stdout",
     "output_type": "stream",
     "text": [
      "Epoch 1/100\n",
      "2/2 [==============================] - 1s 8ms/step - loss: 10.9255 - mae: 10.9255\n",
      "Epoch 2/100\n",
      "2/2 [==============================] - 0s 0s/step - loss: 11.1464 - mae: 11.1464\n",
      "Epoch 3/100\n",
      "2/2 [==============================] - 0s 8ms/step - loss: 9.4503 - mae: 9.4503\n",
      "Epoch 4/100\n",
      "2/2 [==============================] - 0s 8ms/step - loss: 10.1651 - mae: 10.1651\n",
      "Epoch 5/100\n",
      "2/2 [==============================] - 0s 0s/step - loss: 16.2370 - mae: 16.2370\n",
      "Epoch 6/100\n",
      "2/2 [==============================] - 0s 7ms/step - loss: 11.6513 - mae: 11.6513\n",
      "Epoch 7/100\n",
      "2/2 [==============================] - 0s 8ms/step - loss: 7.5631 - mae: 7.5631\n",
      "Epoch 8/100\n",
      "2/2 [==============================] - 0s 9ms/step - loss: 11.1918 - mae: 11.1918\n",
      "Epoch 9/100\n",
      "2/2 [==============================] - 0s 0s/step - loss: 7.9782 - mae: 7.9782\n",
      "Epoch 10/100\n",
      "2/2 [==============================] - 0s 0s/step - loss: 12.4991 - mae: 12.4991\n",
      "Epoch 11/100\n",
      "2/2 [==============================] - 0s 10ms/step - loss: 9.0587 - mae: 9.0587\n",
      "Epoch 12/100\n",
      "2/2 [==============================] - 0s 7ms/step - loss: 8.1814 - mae: 8.1814\n",
      "Epoch 13/100\n",
      "2/2 [==============================] - 0s 0s/step - loss: 10.1692 - mae: 10.1692\n",
      "Epoch 14/100\n",
      "2/2 [==============================] - 0s 7ms/step - loss: 13.9578 - mae: 13.9578\n",
      "Epoch 15/100\n",
      "2/2 [==============================] - 0s 0s/step - loss: 7.4819 - mae: 7.4819\n",
      "Epoch 16/100\n",
      "2/2 [==============================] - 0s 6ms/step - loss: 11.3612 - mae: 11.3612\n",
      "Epoch 17/100\n",
      "2/2 [==============================] - 0s 0s/step - loss: 8.0794 - mae: 8.0794\n",
      "Epoch 18/100\n",
      "2/2 [==============================] - 0s 8ms/step - loss: 10.5296 - mae: 10.5296\n",
      "Epoch 19/100\n",
      "2/2 [==============================] - 0s 6ms/step - loss: 10.8351 - mae: 10.8351\n",
      "Epoch 20/100\n",
      "2/2 [==============================] - 0s 4ms/step - loss: 8.6323 - mae: 8.6323\n",
      "Epoch 21/100\n",
      "2/2 [==============================] - 0s 0s/step - loss: 10.6408 - mae: 10.6408\n",
      "Epoch 22/100\n",
      "2/2 [==============================] - 0s 5ms/step - loss: 11.1073 - mae: 11.1073\n",
      "Epoch 23/100\n",
      "2/2 [==============================] - 0s 8ms/step - loss: 11.7357 - mae: 11.7357\n",
      "Epoch 24/100\n",
      "2/2 [==============================] - 0s 0s/step - loss: 10.9321 - mae: 10.9321\n",
      "Epoch 25/100\n",
      "2/2 [==============================] - 0s 6ms/step - loss: 7.7737 - mae: 7.7737\n",
      "Epoch 26/100\n",
      "2/2 [==============================] - 0s 7ms/step - loss: 11.6770 - mae: 11.6770\n",
      "Epoch 27/100\n",
      "2/2 [==============================] - 0s 5ms/step - loss: 12.2056 - mae: 12.2056\n",
      "Epoch 28/100\n",
      "2/2 [==============================] - 0s 4ms/step - loss: 9.3175 - mae: 9.3175\n",
      "Epoch 29/100\n",
      "2/2 [==============================] - 0s 8ms/step - loss: 8.4719 - mae: 8.4719\n",
      "Epoch 30/100\n",
      "2/2 [==============================] - 0s 0s/step - loss: 7.8580 - mae: 7.8580\n",
      "Epoch 31/100\n",
      "2/2 [==============================] - 0s 8ms/step - loss: 11.8549 - mae: 11.8549\n",
      "Epoch 32/100\n",
      "2/2 [==============================] - 0s 8ms/step - loss: 19.2345 - mae: 19.2345\n",
      "Epoch 33/100\n",
      "2/2 [==============================] - 0s 8ms/step - loss: 10.4276 - mae: 10.4276\n",
      "Epoch 34/100\n",
      "2/2 [==============================] - 0s 2ms/step - loss: 16.9952 - mae: 16.9952\n",
      "Epoch 35/100\n",
      "2/2 [==============================] - 0s 7ms/step - loss: 10.7887 - mae: 10.7887\n",
      "Epoch 36/100\n",
      "2/2 [==============================] - 0s 5ms/step - loss: 8.4811 - mae: 8.4811\n",
      "Epoch 37/100\n",
      "2/2 [==============================] - 0s 4ms/step - loss: 9.3244 - mae: 9.3244\n",
      "Epoch 38/100\n",
      "2/2 [==============================] - 0s 0s/step - loss: 15.6558 - mae: 15.6558\n",
      "Epoch 39/100\n",
      "2/2 [==============================] - 0s 3ms/step - loss: 9.8675 - mae: 9.8675\n",
      "Epoch 40/100\n",
      "2/2 [==============================] - 0s 4ms/step - loss: 10.3534 - mae: 10.3534\n",
      "Epoch 41/100\n",
      "2/2 [==============================] - 0s 4ms/step - loss: 8.0804 - mae: 8.0804\n",
      "Epoch 42/100\n",
      "2/2 [==============================] - 0s 2ms/step - loss: 7.1988 - mae: 7.1988\n",
      "Epoch 43/100\n",
      "2/2 [==============================] - 0s 0s/step - loss: 10.5070 - mae: 10.5070\n",
      "Epoch 44/100\n",
      "2/2 [==============================] - 0s 8ms/step - loss: 9.5101 - mae: 9.5101\n",
      "Epoch 45/100\n",
      "2/2 [==============================] - 0s 0s/step - loss: 9.5596 - mae: 9.5596\n",
      "Epoch 46/100\n",
      "2/2 [==============================] - 0s 0s/step - loss: 8.9610 - mae: 8.9610\n",
      "Epoch 47/100\n",
      "2/2 [==============================] - 0s 8ms/step - loss: 10.4555 - mae: 10.4555\n",
      "Epoch 48/100\n",
      "2/2 [==============================] - 0s 9ms/step - loss: 8.6688 - mae: 8.6688\n",
      "Epoch 49/100\n",
      "2/2 [==============================] - 0s 0s/step - loss: 17.6124 - mae: 17.6124\n",
      "Epoch 50/100\n",
      "2/2 [==============================] - 0s 7ms/step - loss: 8.3731 - mae: 8.3731\n",
      "Epoch 51/100\n",
      "2/2 [==============================] - 0s 9ms/step - loss: 11.1639 - mae: 11.1639\n",
      "Epoch 52/100\n",
      "2/2 [==============================] - 0s 2ms/step - loss: 14.6703 - mae: 14.6703\n",
      "Epoch 53/100\n",
      "2/2 [==============================] - 0s 7ms/step - loss: 11.8905 - mae: 11.8905\n",
      "Epoch 54/100\n",
      "2/2 [==============================] - 0s 5ms/step - loss: 12.5678 - mae: 12.5678\n",
      "Epoch 55/100\n",
      "2/2 [==============================] - 0s 5ms/step - loss: 8.3463 - mae: 8.3463\n",
      "Epoch 56/100\n",
      "2/2 [==============================] - 0s 3ms/step - loss: 11.4090 - mae: 11.4090\n",
      "Epoch 57/100\n",
      "2/2 [==============================] - 0s 0s/step - loss: 11.2350 - mae: 11.2350\n",
      "Epoch 58/100\n",
      "2/2 [==============================] - 0s 0s/step - loss: 10.3015 - mae: 10.3015\n",
      "Epoch 59/100\n",
      "2/2 [==============================] - 0s 9ms/step - loss: 8.1780 - mae: 8.1780\n",
      "Epoch 60/100\n",
      "2/2 [==============================] - 0s 1ms/step - loss: 9.4342 - mae: 9.4342\n",
      "Epoch 61/100\n",
      "2/2 [==============================] - 0s 0s/step - loss: 10.9799 - mae: 10.9799\n",
      "Epoch 62/100\n",
      "2/2 [==============================] - 0s 8ms/step - loss: 8.4235 - mae: 8.4235\n",
      "Epoch 63/100\n",
      "2/2 [==============================] - 0s 8ms/step - loss: 9.4565 - mae: 9.4565\n",
      "Epoch 64/100\n",
      "2/2 [==============================] - 0s 8ms/step - loss: 8.5907 - mae: 8.5907\n",
      "Epoch 65/100\n",
      "2/2 [==============================] - 0s 8ms/step - loss: 9.2501 - mae: 9.2501\n",
      "Epoch 66/100\n",
      "2/2 [==============================] - 0s 7ms/step - loss: 15.5284 - mae: 15.5284\n",
      "Epoch 67/100\n",
      "2/2 [==============================] - 0s 0s/step - loss: 9.1651 - mae: 9.1651\n",
      "Epoch 68/100\n",
      "2/2 [==============================] - 0s 3ms/step - loss: 12.5472 - mae: 12.5472\n",
      "Epoch 69/100\n",
      "2/2 [==============================] - 0s 7ms/step - loss: 7.0968 - mae: 7.0968\n",
      "Epoch 70/100\n",
      "2/2 [==============================] - 0s 4ms/step - loss: 7.9500 - mae: 7.9500\n",
      "Epoch 71/100\n",
      "2/2 [==============================] - 0s 8ms/step - loss: 9.1087 - mae: 9.1087\n",
      "Epoch 72/100\n",
      "2/2 [==============================] - 0s 5ms/step - loss: 11.0927 - mae: 11.0927\n",
      "Epoch 73/100\n",
      "2/2 [==============================] - 0s 9ms/step - loss: 11.6803 - mae: 11.6803\n",
      "Epoch 74/100\n",
      "2/2 [==============================] - 0s 1ms/step - loss: 7.2808 - mae: 7.2808\n",
      "Epoch 75/100\n",
      "2/2 [==============================] - 0s 0s/step - loss: 9.3854 - mae: 9.3854\n",
      "Epoch 76/100\n",
      "2/2 [==============================] - 0s 8ms/step - loss: 6.8703 - mae: 6.8703\n",
      "Epoch 77/100\n",
      "2/2 [==============================] - 0s 4ms/step - loss: 9.4612 - mae: 9.4612\n",
      "Epoch 78/100\n",
      "2/2 [==============================] - 0s 0s/step - loss: 8.0812 - mae: 8.0812\n",
      "Epoch 79/100\n",
      "2/2 [==============================] - 0s 7ms/step - loss: 9.4342 - mae: 9.4342\n",
      "Epoch 80/100\n",
      "2/2 [==============================] - 0s 0s/step - loss: 10.0451 - mae: 10.0451\n",
      "Epoch 81/100\n",
      "2/2 [==============================] - 0s 8ms/step - loss: 13.8280 - mae: 13.8280\n",
      "Epoch 82/100\n",
      "2/2 [==============================] - 0s 12ms/step - loss: 12.5409 - mae: 12.5409\n",
      "Epoch 83/100\n",
      "2/2 [==============================] - 0s 5ms/step - loss: 9.5782 - mae: 9.5782\n",
      "Epoch 84/100\n",
      "2/2 [==============================] - 0s 5ms/step - loss: 8.2079 - mae: 8.2079\n",
      "Epoch 85/100\n",
      "2/2 [==============================] - 0s 0s/step - loss: 11.6696 - mae: 11.6696\n",
      "Epoch 86/100\n",
      "2/2 [==============================] - 0s 10ms/step - loss: 9.1958 - mae: 9.1958\n",
      "Epoch 87/100\n",
      "2/2 [==============================] - 0s 5ms/step - loss: 11.5071 - mae: 11.5071\n",
      "Epoch 88/100\n",
      "2/2 [==============================] - 0s 5ms/step - loss: 9.6435 - mae: 9.6435\n",
      "Epoch 89/100\n",
      "2/2 [==============================] - 0s 0s/step - loss: 9.2035 - mae: 9.2035\n",
      "Epoch 90/100\n",
      "2/2 [==============================] - 0s 0s/step - loss: 9.4686 - mae: 9.4686\n",
      "Epoch 91/100\n",
      "2/2 [==============================] - 0s 8ms/step - loss: 9.2285 - mae: 9.2285\n",
      "Epoch 92/100\n",
      "2/2 [==============================] - 0s 8ms/step - loss: 8.6636 - mae: 8.6636\n",
      "Epoch 93/100\n",
      "2/2 [==============================] - 0s 0s/step - loss: 8.3400 - mae: 8.3400\n",
      "Epoch 94/100\n",
      "2/2 [==============================] - 0s 0s/step - loss: 10.8225 - mae: 10.8225\n",
      "Epoch 95/100\n",
      "2/2 [==============================] - 0s 8ms/step - loss: 15.4464 - mae: 15.4464\n",
      "Epoch 96/100\n",
      "2/2 [==============================] - 0s 4ms/step - loss: 11.9535 - mae: 11.9535\n",
      "Epoch 97/100\n",
      "2/2 [==============================] - 0s 0s/step - loss: 9.5152 - mae: 9.5152\n",
      "Epoch 98/100\n",
      "2/2 [==============================] - 0s 7ms/step - loss: 11.3242 - mae: 11.3242\n",
      "Epoch 99/100\n",
      "2/2 [==============================] - 0s 9ms/step - loss: 11.8980 - mae: 11.8980\n",
      "Epoch 100/100\n",
      "2/2 [==============================] - 0s 0s/step - loss: 9.8702 - mae: 9.8702\n"
     ]
    },
    {
     "data": {
      "text/plain": [
       "<keras.callbacks.History at 0x2824a7fca90>"
      ]
     },
     "execution_count": 14,
     "metadata": {},
     "output_type": "execute_result"
    }
   ],
   "source": [
    "model.fit(X_train, y_train, epochs=100)"
   ]
  },
  {
   "cell_type": "code",
   "execution_count": 15,
   "metadata": {},
   "outputs": [
    {
     "data": {
      "image/png": "[encoded data removed]",
      "text/plain": [
       "<IPython.core.display.Image object>"
      ]
     },
     "execution_count": 15,
     "metadata": {},
     "output_type": "execute_result"
    }
   ],
   "source": [
    "from tensorflow.keras.utils import plot_model\n",
    "\n",
    "plot_model(model=model)"
   ]
  },
  {
   "cell_type": "code",
   "execution_count": 16,
   "metadata": {},
   "outputs": [
    {
     "data": {
      "image/png": "[encoded data removed]",
      "text/plain": [
       "<IPython.core.display.Image object>"
      ]
     },
     "execution_count": 16,
     "metadata": {},
     "output_type": "execute_result"
    }
   ],
   "source": [
    "plot_model(model=model, show_shapes=True)"
   ]
  },
  {
   "cell_type": "code",
   "execution_count": 17,
   "metadata": {},
   "outputs": [
    {
     "name": "stdout",
     "output_type": "stream",
     "text": [
      "1/1 [==============================] - 0s 204ms/step\n"
     ]
    },
    {
     "data": {
      "text/plain": [
       "array([[54.856712],\n",
       "       [58.42212 ],\n",
       "       [61.987526],\n",
       "       [65.55293 ],\n",
       "       [69.11834 ],\n",
       "       [72.68375 ],\n",
       "       [76.249146],\n",
       "       [79.81455 ],\n",
       "       [83.37996 ],\n",
       "       [86.945366]], dtype=float32)"
      ]
     },
     "execution_count": 17,
     "metadata": {},
     "output_type": "execute_result"
    }
   ],
   "source": [
    "y_pred = model.predict(X_test)\n",
    "y_pred"
   ]
  },
  {
   "cell_type": "code",
   "execution_count": 18,
   "metadata": {},
   "outputs": [
    {
     "data": {
      "text/plain": [
       "<tf.Tensor: shape=(10,), dtype=int32, numpy=array([ 70,  74,  78,  82,  86,  90,  94,  98, 102, 106])>"
      ]
     },
     "execution_count": 18,
     "metadata": {},
     "output_type": "execute_result"
    }
   ],
   "source": [
    "y_test"
   ]
  },
  {
   "cell_type": "code",
   "execution_count": 19,
   "metadata": {},
   "outputs": [],
   "source": [
    "# Function to visualise the outcomes of ML training, testing and predictions\n",
    "def plot_predictions(train_data=X_train,\n",
    "                    train_labels=y_train,\n",
    "                    test_data=X_test,\n",
    "                    test_labels=y_test,\n",
    "                    predictions=y_pred):\n",
    "    plt.figure(figsize=(7, 5))\n",
    "    plt.scatter(train_data, train_labels, c=\"b\", label=\"Training data\")\n",
    "    plt.scatter(test_data, test_labels, c=\"g\", label=\"Testing data\")\n",
    "    plt.scatter(test_data, predictions, c=\"r\", label=\"Predictions\")\n",
    "    plt.legend()"
   ]
  },
  {
   "cell_type": "code",
   "execution_count": 20,
   "metadata": {},
   "outputs": [
    {
     "data": {
      "image/png": "[encoded data removed]",
      "text/plain": [
       "<Figure size 504x360 with 1 Axes>"
      ]
     },
     "metadata": {
      "needs_background": "light"
     },
     "output_type": "display_data"
    }
   ],
   "source": [
    "plot_predictions()"
   ]
  },
  {
   "cell_type": "markdown",
   "metadata": {},
   "source": [
    "# Model Evaluation"
   ]
  },
  {
   "cell_type": "code",
   "execution_count": 21,
   "metadata": {},
   "outputs": [
    {
     "name": "stdout",
     "output_type": "stream",
     "text": [
      "1/1 [==============================] - 0s 341ms/step - loss: 17.0990 - mae: 17.0990\n"
     ]
    },
    {
     "data": {
      "text/plain": [
       "[17.09895896911621, 17.09895896911621]"
      ]
     },
     "execution_count": 21,
     "metadata": {},
     "output_type": "execute_result"
    }
   ],
   "source": [
    "model.evaluate(X_test, y_test)"
   ]
  },
  {
   "cell_type": "code",
   "execution_count": 22,
   "metadata": {},
   "outputs": [
    {
     "data": {
      "text/plain": [
       "<tf.Tensor: shape=(10,), dtype=float32, numpy=\n",
       "array([33.143288, 29.57788 , 26.012476, 22.447067, 18.88166 , 15.853003,\n",
       "       13.450513, 11.674179, 10.524008, 10.      ], dtype=float32)>"
      ]
     },
     "execution_count": 22,
     "metadata": {},
     "output_type": "execute_result"
    }
   ],
   "source": [
    "# Calculate the mean absolute error\n",
    "mae = tf.metrics.mean_absolute_error(y_true=y_test, y_pred=y_pred)\n",
    "mae\n",
    "\n",
    "# INCORRECT VALUE IS CAUSED BY DIFFERENCES IN TENSOR SHAPES"
   ]
  },
  {
   "cell_type": "code",
   "execution_count": 23,
   "metadata": {},
   "outputs": [
    {
     "data": {
      "text/plain": [
       "<tf.Tensor: shape=(10,), dtype=float32, numpy=\n",
       "array([54.856712, 58.42212 , 61.987526, 65.55293 , 69.11834 , 72.68375 ,\n",
       "       76.249146, 79.81455 , 83.37996 , 86.945366], dtype=float32)>"
      ]
     },
     "execution_count": 23,
     "metadata": {},
     "output_type": "execute_result"
    }
   ],
   "source": [
    "tf.squeeze(y_pred)"
   ]
  },
  {
   "cell_type": "code",
   "execution_count": 24,
   "metadata": {},
   "outputs": [
    {
     "data": {
      "text/plain": [
       "<tf.Tensor: shape=(), dtype=float32, numpy=17.098959>"
      ]
     },
     "execution_count": 24,
     "metadata": {},
     "output_type": "execute_result"
    }
   ],
   "source": [
    "mae = tf.metrics.mean_absolute_error(y_true=y_test, y_pred=tf.squeeze(y_pred))\n",
    "mae"
   ]
  },
  {
   "cell_type": "code",
   "execution_count": 25,
   "metadata": {},
   "outputs": [
    {
     "data": {
      "text/plain": [
       "<tf.Tensor: shape=(), dtype=float32, numpy=293.93262>"
      ]
     },
     "execution_count": 25,
     "metadata": {},
     "output_type": "execute_result"
    }
   ],
   "source": [
    "# Calculate the mean square error\n",
    "mse = tf.metrics.mean_squared_error(y_test, tf.squeeze(y_pred))\n",
    "mse"
   ]
  },
  {
   "cell_type": "markdown",
   "metadata": {},
   "source": [
    "# Comparing 3 models with various params"
   ]
  },
  {
   "cell_type": "markdown",
   "metadata": {},
   "source": [
    "## Model 1"
   ]
  },
  {
   "cell_type": "code",
   "execution_count": 26,
   "metadata": {},
   "outputs": [],
   "source": [
    "model_1 = tf.keras.Sequential([\n",
    "    tf.keras.layers.Dense(1, input_shape=[1])\n",
    "])\n",
    "\n",
    "model_1.compile(\n",
    "    loss=tf.keras.losses.mae,\n",
    "    optimizer=tf.keras.optimizers.SGD(),\n",
    "    metrics=[\"mae\"]\n",
    ")\n"
   ]
  },
  {
   "cell_type": "code",
   "execution_count": 27,
   "metadata": {},
   "outputs": [
    {
     "name": "stdout",
     "output_type": "stream",
     "text": [
      "Model: \"sequential_1\"\n",
      "_________________________________________________________________\n",
      " Layer (type)                Output Shape              Param #   \n",
      "=================================================================\n",
      " dense_1 (Dense)             (None, 1)                 2         \n",
      "                                                                 \n",
      "=================================================================\n",
      "Total params: 2\n",
      "Trainable params: 2\n",
      "Non-trainable params: 0\n",
      "_________________________________________________________________\n"
     ]
    }
   ],
   "source": [
    "model_1.summary()"
   ]
  },
  {
   "cell_type": "code",
   "execution_count": 28,
   "metadata": {},
   "outputs": [
    {
     "name": "stdout",
     "output_type": "stream",
     "text": [
      "Epoch 1/100\n",
      "2/2 [==============================] - 0s 8ms/step - loss: 92.3871 - mae: 92.3871\n",
      "Epoch 2/100\n",
      "2/2 [==============================] - 0s 0s/step - loss: 57.0508 - mae: 57.0508\n",
      "Epoch 3/100\n",
      "2/2 [==============================] - 0s 6ms/step - loss: 23.9767 - mae: 23.9767\n",
      "Epoch 4/100\n",
      "2/2 [==============================] - 0s 0s/step - loss: 9.7350 - mae: 9.7350\n",
      "Epoch 5/100\n",
      "2/2 [==============================] - 0s 8ms/step - loss: 12.3829 - mae: 12.3829\n",
      "Epoch 6/100\n",
      "2/2 [==============================] - 0s 7ms/step - loss: 11.2991 - mae: 11.2991\n",
      "Epoch 7/100\n",
      "2/2 [==============================] - 0s 4ms/step - loss: 8.5889 - mae: 8.5889\n",
      "Epoch 8/100\n",
      "2/2 [==============================] - 0s 0s/step - loss: 12.3488 - mae: 12.3488\n",
      "Epoch 9/100\n",
      "2/2 [==============================] - 0s 8ms/step - loss: 15.1956 - mae: 15.1956\n",
      "Epoch 10/100\n",
      "2/2 [==============================] - 0s 7ms/step - loss: 13.5841 - mae: 13.5841\n",
      "Epoch 11/100\n",
      "2/2 [==============================] - 0s 0s/step - loss: 13.8005 - mae: 13.8005\n",
      "Epoch 12/100\n",
      "2/2 [==============================] - 0s 0s/step - loss: 9.8269 - mae: 9.8269\n",
      "Epoch 13/100\n",
      "2/2 [==============================] - 0s 0s/step - loss: 11.3091 - mae: 11.3091\n",
      "Epoch 14/100\n",
      "2/2 [==============================] - 0s 9ms/step - loss: 14.9790 - mae: 14.9790\n",
      "Epoch 15/100\n",
      "2/2 [==============================] - 0s 8ms/step - loss: 14.8270 - mae: 14.8270\n",
      "Epoch 16/100\n",
      "2/2 [==============================] - 0s 0s/step - loss: 9.3647 - mae: 9.3647\n",
      "Epoch 17/100\n",
      "2/2 [==============================] - 0s 0s/step - loss: 10.3758 - mae: 10.3758\n",
      "Epoch 18/100\n",
      "2/2 [==============================] - 0s 0s/step - loss: 10.1986 - mae: 10.1986\n",
      "Epoch 19/100\n",
      "2/2 [==============================] - 0s 9ms/step - loss: 11.4893 - mae: 11.4893\n",
      "Epoch 20/100\n",
      "2/2 [==============================] - 0s 8ms/step - loss: 9.3413 - mae: 9.3413\n",
      "Epoch 21/100\n",
      "2/2 [==============================] - 0s 0s/step - loss: 7.4242 - mae: 7.4242\n",
      "Epoch 22/100\n",
      "2/2 [==============================] - 0s 0s/step - loss: 9.6898 - mae: 9.6898\n",
      "Epoch 23/100\n",
      "2/2 [==============================] - 0s 6ms/step - loss: 10.2375 - mae: 10.2375\n",
      "Epoch 24/100\n",
      "2/2 [==============================] - 0s 8ms/step - loss: 13.0703 - mae: 13.0703\n",
      "Epoch 25/100\n",
      "2/2 [==============================] - 0s 0s/step - loss: 8.5595 - mae: 8.5595\n",
      "Epoch 26/100\n",
      "2/2 [==============================] - 0s 0s/step - loss: 8.3984 - mae: 8.3984\n",
      "Epoch 27/100\n",
      "2/2 [==============================] - 0s 0s/step - loss: 18.0773 - mae: 18.0773\n",
      "Epoch 28/100\n",
      "2/2 [==============================] - 0s 3ms/step - loss: 11.4499 - mae: 11.4499\n",
      "Epoch 29/100\n",
      "2/2 [==============================] - 0s 1ms/step - loss: 9.0993 - mae: 9.0993\n",
      "Epoch 30/100\n",
      "2/2 [==============================] - 0s 3ms/step - loss: 10.4598 - mae: 10.4598\n",
      "Epoch 31/100\n",
      "2/2 [==============================] - 0s 3ms/step - loss: 13.6875 - mae: 13.6875\n",
      "Epoch 32/100\n",
      "2/2 [==============================] - 0s 3ms/step - loss: 14.9830 - mae: 14.9830\n",
      "Epoch 33/100\n",
      "2/2 [==============================] - 0s 6ms/step - loss: 11.3187 - mae: 11.3187\n",
      "Epoch 34/100\n",
      "2/2 [==============================] - 0s 7ms/step - loss: 9.3672 - mae: 9.3672\n",
      "Epoch 35/100\n",
      "2/2 [==============================] - 0s 6ms/step - loss: 17.0958 - mae: 17.0958\n",
      "Epoch 36/100\n",
      "2/2 [==============================] - 0s 8ms/step - loss: 9.3844 - mae: 9.3844\n",
      "Epoch 37/100\n",
      "2/2 [==============================] - 0s 0s/step - loss: 9.0236 - mae: 9.0236\n",
      "Epoch 38/100\n",
      "2/2 [==============================] - 0s 7ms/step - loss: 9.7186 - mae: 9.7186\n",
      "Epoch 39/100\n",
      "2/2 [==============================] - 0s 5ms/step - loss: 11.6761 - mae: 11.6761\n",
      "Epoch 40/100\n",
      "2/2 [==============================] - 0s 3ms/step - loss: 15.7104 - mae: 15.7104\n",
      "Epoch 41/100\n",
      "2/2 [==============================] - 0s 0s/step - loss: 9.8542 - mae: 9.8542\n",
      "Epoch 42/100\n",
      "2/2 [==============================] - 0s 6ms/step - loss: 9.5688 - mae: 9.5688\n",
      "Epoch 43/100\n",
      "2/2 [==============================] - 0s 8ms/step - loss: 13.5081 - mae: 13.5081\n",
      "Epoch 44/100\n",
      "2/2 [==============================] - 0s 0s/step - loss: 7.3981 - mae: 7.3981\n",
      "Epoch 45/100\n",
      "2/2 [==============================] - 0s 9ms/step - loss: 14.0638 - mae: 14.0638\n",
      "Epoch 46/100\n",
      "2/2 [==============================] - 0s 3ms/step - loss: 9.4675 - mae: 9.4675\n",
      "Epoch 47/100\n",
      "2/2 [==============================] - 0s 8ms/step - loss: 7.6835 - mae: 7.6835\n",
      "Epoch 48/100\n",
      "2/2 [==============================] - 0s 0s/step - loss: 11.7136 - mae: 11.7136\n",
      "Epoch 49/100\n",
      "2/2 [==============================] - 0s 8ms/step - loss: 7.3822 - mae: 7.3822\n",
      "Epoch 50/100\n",
      "2/2 [==============================] - 0s 0s/step - loss: 7.7060 - mae: 7.7060\n",
      "Epoch 51/100\n",
      "2/2 [==============================] - 0s 8ms/step - loss: 10.9904 - mae: 10.9904\n",
      "Epoch 52/100\n",
      "2/2 [==============================] - 0s 11ms/step - loss: 17.1000 - mae: 17.1000\n",
      "Epoch 53/100\n",
      "2/2 [==============================] - 0s 3ms/step - loss: 17.7934 - mae: 17.7934\n",
      "Epoch 54/100\n",
      "2/2 [==============================] - 0s 2ms/step - loss: 9.6972 - mae: 9.6972\n",
      "Epoch 55/100\n",
      "2/2 [==============================] - 0s 4ms/step - loss: 13.3401 - mae: 13.3401\n",
      "Epoch 56/100\n",
      "2/2 [==============================] - 0s 8ms/step - loss: 7.8881 - mae: 7.8881\n",
      "Epoch 57/100\n",
      "2/2 [==============================] - 0s 8ms/step - loss: 8.6803 - mae: 8.6803\n",
      "Epoch 58/100\n",
      "2/2 [==============================] - 0s 0s/step - loss: 11.5108 - mae: 11.5108\n",
      "Epoch 59/100\n",
      "2/2 [==============================] - 0s 0s/step - loss: 17.8331 - mae: 17.8331\n",
      "Epoch 60/100\n",
      "2/2 [==============================] - 0s 6ms/step - loss: 11.5064 - mae: 11.5064\n",
      "Epoch 61/100\n",
      "2/2 [==============================] - 0s 5ms/step - loss: 8.5410 - mae: 8.5410\n",
      "Epoch 62/100\n",
      "2/2 [==============================] - 0s 11ms/step - loss: 10.6376 - mae: 10.6376\n",
      "Epoch 63/100\n",
      "2/2 [==============================] - 0s 9ms/step - loss: 10.9752 - mae: 10.9752\n",
      "Epoch 64/100\n",
      "2/2 [==============================] - 0s 6ms/step - loss: 12.6462 - mae: 12.6462\n",
      "Epoch 65/100\n",
      "2/2 [==============================] - 0s 4ms/step - loss: 11.3851 - mae: 11.3851\n",
      "Epoch 66/100\n",
      "2/2 [==============================] - 0s 3ms/step - loss: 7.5148 - mae: 7.5148\n",
      "Epoch 67/100\n",
      "2/2 [==============================] - 0s 4ms/step - loss: 11.8236 - mae: 11.8236\n",
      "Epoch 68/100\n",
      "2/2 [==============================] - 0s 6ms/step - loss: 10.4165 - mae: 10.4165\n",
      "Epoch 69/100\n",
      "2/2 [==============================] - 0s 1ms/step - loss: 10.4737 - mae: 10.4737\n",
      "Epoch 70/100\n",
      "2/2 [==============================] - 0s 7ms/step - loss: 12.8261 - mae: 12.8261\n",
      "Epoch 71/100\n",
      "2/2 [==============================] - 0s 5ms/step - loss: 17.6821 - mae: 17.6821\n",
      "Epoch 72/100\n",
      "2/2 [==============================] - 0s 1ms/step - loss: 8.1436 - mae: 8.1436\n",
      "Epoch 73/100\n",
      "2/2 [==============================] - 0s 6ms/step - loss: 11.0997 - mae: 11.0997\n",
      "Epoch 74/100\n",
      "2/2 [==============================] - 0s 3ms/step - loss: 11.6928 - mae: 11.6928\n",
      "Epoch 75/100\n",
      "2/2 [==============================] - 0s 8ms/step - loss: 14.9760 - mae: 14.9760\n",
      "Epoch 76/100\n",
      "2/2 [==============================] - 0s 5ms/step - loss: 7.5675 - mae: 7.5675\n",
      "Epoch 77/100\n",
      "2/2 [==============================] - 0s 8ms/step - loss: 9.4574 - mae: 9.4574\n",
      "Epoch 78/100\n",
      "2/2 [==============================] - 0s 6ms/step - loss: 12.1472 - mae: 12.1472\n",
      "Epoch 79/100\n",
      "2/2 [==============================] - 0s 10ms/step - loss: 10.6241 - mae: 10.6241\n",
      "Epoch 80/100\n",
      "2/2 [==============================] - 0s 5ms/step - loss: 9.6567 - mae: 9.6567\n",
      "Epoch 81/100\n",
      "2/2 [==============================] - 0s 7ms/step - loss: 18.3153 - mae: 18.3153\n",
      "Epoch 82/100\n",
      "2/2 [==============================] - 0s 974us/step - loss: 7.1022 - mae: 7.1022\n",
      "Epoch 83/100\n",
      "2/2 [==============================] - 0s 0s/step - loss: 10.5046 - mae: 10.5046\n",
      "Epoch 84/100\n",
      "2/2 [==============================] - 0s 8ms/step - loss: 7.8391 - mae: 7.8391\n",
      "Epoch 85/100\n",
      "2/2 [==============================] - 0s 0s/step - loss: 10.1877 - mae: 10.1877\n",
      "Epoch 86/100\n",
      "2/2 [==============================] - 0s 8ms/step - loss: 6.8159 - mae: 6.8159\n",
      "Epoch 87/100\n",
      "2/2 [==============================] - 0s 8ms/step - loss: 8.6212 - mae: 8.6212\n",
      "Epoch 88/100\n",
      "2/2 [==============================] - 0s 8ms/step - loss: 13.2048 - mae: 13.2048\n",
      "Epoch 89/100\n",
      "2/2 [==============================] - 0s 0s/step - loss: 10.5690 - mae: 10.5690\n",
      "Epoch 90/100\n",
      "2/2 [==============================] - 0s 0s/step - loss: 11.0307 - mae: 11.0307\n",
      "Epoch 91/100\n",
      "2/2 [==============================] - 0s 8ms/step - loss: 9.3175 - mae: 9.3175\n",
      "Epoch 92/100\n",
      "2/2 [==============================] - 0s 8ms/step - loss: 8.8435 - mae: 8.8435\n",
      "Epoch 93/100\n",
      "2/2 [==============================] - 0s 0s/step - loss: 10.8509 - mae: 10.8509\n",
      "Epoch 94/100\n",
      "2/2 [==============================] - 0s 8ms/step - loss: 10.8276 - mae: 10.8276\n",
      "Epoch 95/100\n",
      "2/2 [==============================] - 0s 12ms/step - loss: 14.4531 - mae: 14.4531\n",
      "Epoch 96/100\n",
      "2/2 [==============================] - 0s 0s/step - loss: 8.5423 - mae: 8.5423\n",
      "Epoch 97/100\n",
      "2/2 [==============================] - 0s 9ms/step - loss: 11.0179 - mae: 11.0179\n",
      "Epoch 98/100\n",
      "2/2 [==============================] - 0s 11ms/step - loss: 7.9926 - mae: 7.9926\n",
      "Epoch 99/100\n",
      "2/2 [==============================] - 0s 0s/step - loss: 10.7750 - mae: 10.7750\n",
      "Epoch 100/100\n",
      "2/2 [==============================] - 0s 4ms/step - loss: 7.7922 - mae: 7.7922\n"
     ]
    },
    {
     "data": {
      "text/plain": [
       "<keras.callbacks.History at 0x2824aadc610>"
      ]
     },
     "execution_count": 28,
     "metadata": {},
     "output_type": "execute_result"
    }
   ],
   "source": [
    "model_1.fit(X_train, y_train, epochs=100)"
   ]
  },
  {
   "cell_type": "code",
   "execution_count": 29,
   "metadata": {},
   "outputs": [
    {
     "name": "stdout",
     "output_type": "stream",
     "text": [
      "1/1 [==============================] - 0s 81ms/step\n"
     ]
    },
    {
     "data": {
      "image/png": "[encoded data removed]",
      "text/plain": [
       "<Figure size 504x360 with 1 Axes>"
      ]
     },
     "metadata": {
      "needs_background": "light"
     },
     "output_type": "display_data"
    }
   ],
   "source": [
    "y_pred_1 = model_1.predict(X_test)\n",
    "plot_predictions(predictions=y_pred_1)"
   ]
  },
  {
   "cell_type": "code",
   "execution_count": 30,
   "metadata": {},
   "outputs": [
    {
     "data": {
      "text/plain": [
       "(<tf.Tensor: shape=(), dtype=float32, numpy=10.674746>,\n",
       " <tf.Tensor: shape=(), dtype=float32, numpy=122.08562>)"
      ]
     },
     "execution_count": 30,
     "metadata": {},
     "output_type": "execute_result"
    }
   ],
   "source": [
    "mae_1 = tf.metrics.mean_absolute_error(y_test, tf.squeeze(y_pred_1))\n",
    "mse_1 = tf.metrics.mean_squared_error(y_test, tf.squeeze(y_pred_1))\n",
    "mae_1, mse_1"
   ]
  },
  {
   "cell_type": "markdown",
   "metadata": {},
   "source": [
    "## Model 2"
   ]
  },
  {
   "cell_type": "code",
   "execution_count": 31,
   "metadata": {},
   "outputs": [],
   "source": [
    "model_2 = tf.keras.Sequential([\n",
    "    tf.keras.layers.Dense(10, input_shape=[1]),\n",
    "    tf.keras.layers.Dense(1)\n",
    "])\n",
    "\n",
    "model_2.compile(\n",
    "    loss=tf.keras.losses.mae,\n",
    "    optimizer=tf.keras.optimizers.SGD(),\n",
    "    metrics=[\"mae\"]\n",
    ")"
   ]
  },
  {
   "cell_type": "code",
   "execution_count": 32,
   "metadata": {},
   "outputs": [
    {
     "name": "stdout",
     "output_type": "stream",
     "text": [
      "Epoch 1/100\n",
      "2/2 [==============================] - 1s 8ms/step - loss: 24.2296 - mae: 24.2296\n",
      "Epoch 2/100\n",
      "2/2 [==============================] - 0s 4ms/step - loss: 30.4061 - mae: 30.4061\n",
      "Epoch 3/100\n",
      "2/2 [==============================] - 0s 8ms/step - loss: 23.3057 - mae: 23.3057\n",
      "Epoch 4/100\n",
      "2/2 [==============================] - 0s 1ms/step - loss: 32.0342 - mae: 32.0342\n",
      "Epoch 5/100\n",
      "2/2 [==============================] - 0s 0s/step - loss: 17.2850 - mae: 17.2850\n",
      "Epoch 6/100\n",
      "2/2 [==============================] - 0s 8ms/step - loss: 10.3507 - mae: 10.3507\n",
      "Epoch 7/100\n",
      "2/2 [==============================] - 0s 9ms/step - loss: 17.8404 - mae: 17.8404\n",
      "Epoch 8/100\n",
      "2/2 [==============================] - 0s 8ms/step - loss: 11.8211 - mae: 11.8211\n",
      "Epoch 9/100\n",
      "2/2 [==============================] - 0s 0s/step - loss: 26.9649 - mae: 26.9649\n",
      "Epoch 10/100\n",
      "2/2 [==============================] - 0s 9ms/step - loss: 10.2425 - mae: 10.2425\n",
      "Epoch 11/100\n",
      "2/2 [==============================] - 0s 7ms/step - loss: 18.2876 - mae: 18.2876\n",
      "Epoch 12/100\n",
      "2/2 [==============================] - 0s 0s/step - loss: 10.0329 - mae: 10.0329\n",
      "Epoch 13/100\n",
      "2/2 [==============================] - 0s 0s/step - loss: 19.8792 - mae: 19.8792\n",
      "Epoch 14/100\n",
      "2/2 [==============================] - 0s 8ms/step - loss: 26.4598 - mae: 26.4598\n",
      "Epoch 15/100\n",
      "2/2 [==============================] - 0s 0s/step - loss: 14.3957 - mae: 14.3957\n",
      "Epoch 16/100\n",
      "2/2 [==============================] - 0s 0s/step - loss: 7.3717 - mae: 7.3717\n",
      "Epoch 17/100\n",
      "2/2 [==============================] - 0s 8ms/step - loss: 12.3193 - mae: 12.3193\n",
      "Epoch 18/100\n",
      "2/2 [==============================] - 0s 8ms/step - loss: 16.8016 - mae: 16.8016\n",
      "Epoch 19/100\n",
      "2/2 [==============================] - 0s 0s/step - loss: 20.8321 - mae: 20.8321\n",
      "Epoch 20/100\n",
      "2/2 [==============================] - 0s 7ms/step - loss: 22.8752 - mae: 22.8752\n",
      "Epoch 21/100\n",
      "2/2 [==============================] - 0s 10ms/step - loss: 10.6269 - mae: 10.6269\n",
      "Epoch 22/100\n",
      "2/2 [==============================] - 0s 0s/step - loss: 21.2159 - mae: 21.2159\n",
      "Epoch 23/100\n",
      "2/2 [==============================] - 0s 0s/step - loss: 23.7149 - mae: 23.7149\n",
      "Epoch 24/100\n",
      "2/2 [==============================] - 0s 0s/step - loss: 9.7044 - mae: 9.7044\n",
      "Epoch 25/100\n",
      "2/2 [==============================] - 0s 6ms/step - loss: 14.0930 - mae: 14.0930\n",
      "Epoch 26/100\n",
      "2/2 [==============================] - 0s 4ms/step - loss: 11.0782 - mae: 11.0782\n",
      "Epoch 27/100\n",
      "2/2 [==============================] - 0s 0s/step - loss: 16.4576 - mae: 16.4576\n",
      "Epoch 28/100\n",
      "2/2 [==============================] - 0s 8ms/step - loss: 10.8842 - mae: 10.8842\n",
      "Epoch 29/100\n",
      "2/2 [==============================] - 0s 9ms/step - loss: 28.8784 - mae: 28.8784\n",
      "Epoch 30/100\n",
      "2/2 [==============================] - 0s 4ms/step - loss: 9.9667 - mae: 9.9667\n",
      "Epoch 31/100\n",
      "2/2 [==============================] - 0s 0s/step - loss: 17.2221 - mae: 17.2221\n",
      "Epoch 32/100\n",
      "2/2 [==============================] - 0s 8ms/step - loss: 14.0115 - mae: 14.0115\n",
      "Epoch 33/100\n",
      "2/2 [==============================] - 0s 0s/step - loss: 17.2581 - mae: 17.2581\n",
      "Epoch 34/100\n",
      "2/2 [==============================] - 0s 3ms/step - loss: 9.1777 - mae: 9.1777\n",
      "Epoch 35/100\n",
      "2/2 [==============================] - 0s 0s/step - loss: 15.5512 - mae: 15.5512\n",
      "Epoch 36/100\n",
      "2/2 [==============================] - 0s 8ms/step - loss: 18.2101 - mae: 18.2101\n",
      "Epoch 37/100\n",
      "2/2 [==============================] - 0s 4ms/step - loss: 14.7927 - mae: 14.7927\n",
      "Epoch 38/100\n",
      "2/2 [==============================] - 0s 0s/step - loss: 12.6573 - mae: 12.6573\n",
      "Epoch 39/100\n",
      "2/2 [==============================] - 0s 4ms/step - loss: 16.2310 - mae: 16.2310\n",
      "Epoch 40/100\n",
      "2/2 [==============================] - 0s 2ms/step - loss: 13.1190 - mae: 13.1190\n",
      "Epoch 41/100\n",
      "2/2 [==============================] - 0s 6ms/step - loss: 17.6961 - mae: 17.6961\n",
      "Epoch 42/100\n",
      "2/2 [==============================] - 0s 8ms/step - loss: 12.1648 - mae: 12.1648\n",
      "Epoch 43/100\n",
      "2/2 [==============================] - 0s 2ms/step - loss: 9.0012 - mae: 9.0012\n",
      "Epoch 44/100\n",
      "2/2 [==============================] - 0s 8ms/step - loss: 16.6552 - mae: 16.6552\n",
      "Epoch 45/100\n",
      "2/2 [==============================] - 0s 0s/step - loss: 13.1575 - mae: 13.1575\n",
      "Epoch 46/100\n",
      "2/2 [==============================] - 0s 0s/step - loss: 16.1900 - mae: 16.1900\n",
      "Epoch 47/100\n",
      "2/2 [==============================] - 0s 7ms/step - loss: 28.5854 - mae: 28.5854\n",
      "Epoch 48/100\n",
      "2/2 [==============================] - 0s 0s/step - loss: 10.1788 - mae: 10.1788\n",
      "Epoch 49/100\n",
      "2/2 [==============================] - 0s 8ms/step - loss: 21.3254 - mae: 21.3254\n",
      "Epoch 50/100\n",
      "2/2 [==============================] - 0s 0s/step - loss: 20.4661 - mae: 20.4661\n",
      "Epoch 51/100\n",
      "2/2 [==============================] - 0s 8ms/step - loss: 18.9105 - mae: 18.9105\n",
      "Epoch 52/100\n",
      "2/2 [==============================] - 0s 10ms/step - loss: 14.4352 - mae: 14.4352\n",
      "Epoch 53/100\n",
      "2/2 [==============================] - 0s 0s/step - loss: 12.9550 - mae: 12.9550\n",
      "Epoch 54/100\n",
      "2/2 [==============================] - 0s 0s/step - loss: 31.1582 - mae: 31.1582\n",
      "Epoch 55/100\n",
      "2/2 [==============================] - 0s 8ms/step - loss: 13.6038 - mae: 13.6038\n",
      "Epoch 56/100\n",
      "2/2 [==============================] - 0s 0s/step - loss: 9.9401 - mae: 9.9401\n",
      "Epoch 57/100\n",
      "2/2 [==============================] - 0s 3ms/step - loss: 12.0323 - mae: 12.0323\n",
      "Epoch 58/100\n",
      "2/2 [==============================] - 0s 0s/step - loss: 25.5030 - mae: 25.5030\n",
      "Epoch 59/100\n",
      "2/2 [==============================] - 0s 6ms/step - loss: 15.4989 - mae: 15.4989\n",
      "Epoch 60/100\n",
      "2/2 [==============================] - 0s 12ms/step - loss: 9.7769 - mae: 9.7769\n",
      "Epoch 61/100\n",
      "2/2 [==============================] - 0s 3ms/step - loss: 16.9557 - mae: 16.9557\n",
      "Epoch 62/100\n",
      "2/2 [==============================] - 0s 0s/step - loss: 18.2859 - mae: 18.2859\n",
      "Epoch 63/100\n",
      "2/2 [==============================] - 0s 3ms/step - loss: 19.4974 - mae: 19.4974\n",
      "Epoch 64/100\n",
      "2/2 [==============================] - 0s 0s/step - loss: 21.1483 - mae: 21.1483\n",
      "Epoch 65/100\n",
      "2/2 [==============================] - 0s 5ms/step - loss: 9.6393 - mae: 9.6393\n",
      "Epoch 66/100\n",
      "2/2 [==============================] - 0s 8ms/step - loss: 25.7333 - mae: 25.7333\n",
      "Epoch 67/100\n",
      "2/2 [==============================] - 0s 6ms/step - loss: 13.6384 - mae: 13.6384\n",
      "Epoch 68/100\n",
      "2/2 [==============================] - 0s 8ms/step - loss: 19.0670 - mae: 19.0670\n",
      "Epoch 69/100\n",
      "2/2 [==============================] - 0s 8ms/step - loss: 12.5363 - mae: 12.5363\n",
      "Epoch 70/100\n",
      "2/2 [==============================] - 0s 4ms/step - loss: 18.6255 - mae: 18.6255\n",
      "Epoch 71/100\n",
      "2/2 [==============================] - 0s 8ms/step - loss: 20.7489 - mae: 20.7489\n",
      "Epoch 72/100\n",
      "2/2 [==============================] - 0s 8ms/step - loss: 16.0953 - mae: 16.0953\n",
      "Epoch 73/100\n",
      "2/2 [==============================] - 0s 8ms/step - loss: 9.5367 - mae: 9.5367\n",
      "Epoch 74/100\n",
      "2/2 [==============================] - 0s 0s/step - loss: 11.5686 - mae: 11.5686\n",
      "Epoch 75/100\n",
      "2/2 [==============================] - 0s 8ms/step - loss: 10.1604 - mae: 10.1604\n",
      "Epoch 76/100\n",
      "2/2 [==============================] - 0s 4ms/step - loss: 11.6442 - mae: 11.6442\n",
      "Epoch 77/100\n",
      "2/2 [==============================] - 0s 0s/step - loss: 9.3188 - mae: 9.3188\n",
      "Epoch 78/100\n",
      "2/2 [==============================] - 0s 8ms/step - loss: 9.9099 - mae: 9.9099\n",
      "Epoch 79/100\n",
      "2/2 [==============================] - 0s 8ms/step - loss: 11.3523 - mae: 11.3523\n",
      "Epoch 80/100\n",
      "2/2 [==============================] - 0s 0s/step - loss: 7.8733 - mae: 7.8733\n",
      "Epoch 81/100\n",
      "2/2 [==============================] - 0s 8ms/step - loss: 31.7418 - mae: 31.7418\n",
      "Epoch 82/100\n",
      "2/2 [==============================] - 0s 8ms/step - loss: 12.3741 - mae: 12.3741\n",
      "Epoch 83/100\n",
      "2/2 [==============================] - 0s 0s/step - loss: 18.5025 - mae: 18.5025\n",
      "Epoch 84/100\n",
      "2/2 [==============================] - 0s 8ms/step - loss: 14.7590 - mae: 14.7590\n",
      "Epoch 85/100\n",
      "2/2 [==============================] - 0s 9ms/step - loss: 10.4615 - mae: 10.4615\n",
      "Epoch 86/100\n",
      "2/2 [==============================] - 0s 0s/step - loss: 15.5229 - mae: 15.5229\n",
      "Epoch 87/100\n",
      "2/2 [==============================] - 0s 6ms/step - loss: 18.6460 - mae: 18.6460\n",
      "Epoch 88/100\n",
      "2/2 [==============================] - 0s 8ms/step - loss: 8.7004 - mae: 8.7004\n",
      "Epoch 89/100\n",
      "2/2 [==============================] - 0s 0s/step - loss: 16.7869 - mae: 16.7869\n",
      "Epoch 90/100\n",
      "2/2 [==============================] - 0s 5ms/step - loss: 10.3512 - mae: 10.3512\n",
      "Epoch 91/100\n",
      "2/2 [==============================] - 0s 0s/step - loss: 11.7082 - mae: 11.7082\n",
      "Epoch 92/100\n",
      "2/2 [==============================] - 0s 4ms/step - loss: 13.7653 - mae: 13.7653\n",
      "Epoch 93/100\n",
      "2/2 [==============================] - 0s 8ms/step - loss: 11.8031 - mae: 11.8031\n",
      "Epoch 94/100\n",
      "2/2 [==============================] - 0s 5ms/step - loss: 18.2125 - mae: 18.2125\n",
      "Epoch 95/100\n",
      "2/2 [==============================] - 0s 4ms/step - loss: 17.0566 - mae: 17.0566\n",
      "Epoch 96/100\n",
      "2/2 [==============================] - 0s 8ms/step - loss: 26.9727 - mae: 26.9727\n",
      "Epoch 97/100\n",
      "2/2 [==============================] - 0s 0s/step - loss: 11.7417 - mae: 11.7417\n",
      "Epoch 98/100\n",
      "2/2 [==============================] - 0s 5ms/step - loss: 22.1967 - mae: 22.1967\n",
      "Epoch 99/100\n",
      "2/2 [==============================] - 0s 0s/step - loss: 13.1879 - mae: 13.1879\n",
      "Epoch 100/100\n",
      "2/2 [==============================] - 0s 8ms/step - loss: 21.9011 - mae: 21.9011\n"
     ]
    },
    {
     "data": {
      "text/plain": [
       "<keras.callbacks.History at 0x2824bbcf220>"
      ]
     },
     "execution_count": 32,
     "metadata": {},
     "output_type": "execute_result"
    }
   ],
   "source": [
    "model_2.fit(X_train, y_train, epochs=100)"
   ]
  },
  {
   "cell_type": "code",
   "execution_count": 33,
   "metadata": {},
   "outputs": [
    {
     "name": "stdout",
     "output_type": "stream",
     "text": [
      "1/1 [==============================] - 0s 67ms/step\n"
     ]
    },
    {
     "data": {
      "image/png": "[encoded data removed]",
      "text/plain": [
       "<Figure size 504x360 with 1 Axes>"
      ]
     },
     "metadata": {
      "needs_background": "light"
     },
     "output_type": "display_data"
    }
   ],
   "source": [
    "y_pred_2 = model_2.predict(X_test)\n",
    "plot_predictions(predictions=y_pred_2)"
   ]
  },
  {
   "cell_type": "code",
   "execution_count": 34,
   "metadata": {},
   "outputs": [
    {
     "data": {
      "text/plain": [
       "(<tf.Tensor: shape=(), dtype=float32, numpy=17.11105>,\n",
       " <tf.Tensor: shape=(), dtype=float32, numpy=294.4297>)"
      ]
     },
     "execution_count": 34,
     "metadata": {},
     "output_type": "execute_result"
    }
   ],
   "source": [
    "mae_2 = tf.metrics.mean_absolute_error(y_test, tf.squeeze(y_pred_2))\n",
    "mse_2 = tf.metrics.mean_squared_error(y_test, tf.squeeze(y_pred_2))\n",
    "mae_2, mse_2"
   ]
  },
  {
   "cell_type": "markdown",
   "metadata": {},
   "source": [
    "## Model 3"
   ]
  },
  {
   "cell_type": "code",
   "execution_count": 35,
   "metadata": {},
   "outputs": [],
   "source": [
    "model_3 = tf.keras.Sequential([\n",
    "    tf.keras.layers.Dense(10, input_shape=[1]),\n",
    "    tf.keras.layers.Dense(1)\n",
    "])\n",
    "\n",
    "model_3.compile(\n",
    "    loss=tf.keras.losses.mae,\n",
    "    optimizer=tf.keras.optimizers.SGD(),\n",
    "    metrics=[\"mae\"]\n",
    ")"
   ]
  },
  {
   "cell_type": "code",
   "execution_count": 36,
   "metadata": {},
   "outputs": [
    {
     "name": "stdout",
     "output_type": "stream",
     "text": [
      "Epoch 1/200\n",
      "2/2 [==============================] - 1s 12ms/step - loss: 15.4628 - mae: 15.4628\n",
      "Epoch 2/200\n",
      "2/2 [==============================] - 0s 0s/step - loss: 33.3384 - mae: 33.3384\n",
      "Epoch 3/200\n",
      "2/2 [==============================] - 0s 0s/step - loss: 19.4227 - mae: 19.4227\n",
      "Epoch 4/200\n",
      "2/2 [==============================] - 0s 8ms/step - loss: 29.8643 - mae: 29.8643\n",
      "Epoch 5/200\n",
      "2/2 [==============================] - 0s 0s/step - loss: 10.7738 - mae: 10.7738\n",
      "Epoch 6/200\n",
      "2/2 [==============================] - 0s 0s/step - loss: 16.2606 - mae: 16.2606\n",
      "Epoch 7/200\n",
      "2/2 [==============================] - 0s 8ms/step - loss: 12.7705 - mae: 12.7705\n",
      "Epoch 8/200\n",
      "2/2 [==============================] - 0s 5ms/step - loss: 17.7416 - mae: 17.7416\n",
      "Epoch 9/200\n",
      "2/2 [==============================] - 0s 11ms/step - loss: 11.4622 - mae: 11.4622\n",
      "Epoch 10/200\n",
      "2/2 [==============================] - 0s 5ms/step - loss: 11.4289 - mae: 11.4289\n",
      "Epoch 11/200\n",
      "2/2 [==============================] - 0s 7ms/step - loss: 34.7443 - mae: 34.7443\n",
      "Epoch 12/200\n",
      "2/2 [==============================] - 0s 0s/step - loss: 8.6213 - mae: 8.6213\n",
      "Epoch 13/200\n",
      "2/2 [==============================] - 0s 0s/step - loss: 15.1450 - mae: 15.1450\n",
      "Epoch 14/200\n",
      "2/2 [==============================] - 0s 8ms/step - loss: 16.9680 - mae: 16.9680\n",
      "Epoch 15/200\n",
      "2/2 [==============================] - 0s 9ms/step - loss: 19.6483 - mae: 19.6483\n",
      "Epoch 16/200\n",
      "2/2 [==============================] - 0s 0s/step - loss: 11.6703 - mae: 11.6703\n",
      "Epoch 17/200\n",
      "2/2 [==============================] - 0s 5ms/step - loss: 28.3444 - mae: 28.3444\n",
      "Epoch 18/200\n",
      "2/2 [==============================] - 0s 8ms/step - loss: 16.8484 - mae: 16.8484\n",
      "Epoch 19/200\n",
      "2/2 [==============================] - 0s 0s/step - loss: 10.5979 - mae: 10.5979\n",
      "Epoch 20/200\n",
      "2/2 [==============================] - 0s 0s/step - loss: 9.2511 - mae: 9.2511\n",
      "Epoch 21/200\n",
      "2/2 [==============================] - 0s 8ms/step - loss: 15.5740 - mae: 15.5740\n",
      "Epoch 22/200\n",
      "2/2 [==============================] - 0s 9ms/step - loss: 20.0395 - mae: 20.0395\n",
      "Epoch 23/200\n",
      "2/2 [==============================] - 0s 0s/step - loss: 26.4158 - mae: 26.4158\n",
      "Epoch 24/200\n",
      "2/2 [==============================] - 0s 0s/step - loss: 13.2087 - mae: 13.2087\n",
      "Epoch 25/200\n",
      "2/2 [==============================] - 0s 4ms/step - loss: 25.1428 - mae: 25.1428\n",
      "Epoch 26/200\n",
      "2/2 [==============================] - 0s 9ms/step - loss: 13.2330 - mae: 13.2330\n",
      "Epoch 27/200\n",
      "2/2 [==============================] - 0s 0s/step - loss: 11.4859 - mae: 11.4859\n",
      "Epoch 28/200\n",
      "2/2 [==============================] - 0s 0s/step - loss: 12.4626 - mae: 12.4626\n",
      "Epoch 29/200\n",
      "2/2 [==============================] - 0s 6ms/step - loss: 13.7443 - mae: 13.7443\n",
      "Epoch 30/200\n",
      "2/2 [==============================] - 0s 10ms/step - loss: 13.9906 - mae: 13.9906\n",
      "Epoch 31/200\n",
      "2/2 [==============================] - 0s 0s/step - loss: 15.3898 - mae: 15.3898\n",
      "Epoch 32/200\n",
      "2/2 [==============================] - 0s 6ms/step - loss: 16.1515 - mae: 16.1515\n",
      "Epoch 33/200\n",
      "2/2 [==============================] - 0s 11ms/step - loss: 9.7983 - mae: 9.7983\n",
      "Epoch 34/200\n",
      "2/2 [==============================] - 0s 0s/step - loss: 16.4176 - mae: 16.4176\n",
      "Epoch 35/200\n",
      "2/2 [==============================] - 0s 9ms/step - loss: 25.4366 - mae: 25.4366\n",
      "Epoch 36/200\n",
      "2/2 [==============================] - 0s 8ms/step - loss: 11.8777 - mae: 11.8777\n",
      "Epoch 37/200\n",
      "2/2 [==============================] - 0s 0s/step - loss: 10.4690 - mae: 10.4690\n",
      "Epoch 38/200\n",
      "2/2 [==============================] - 0s 4ms/step - loss: 11.5302 - mae: 11.5302\n",
      "Epoch 39/200\n",
      "2/2 [==============================] - 0s 0s/step - loss: 16.3762 - mae: 16.3762\n",
      "Epoch 40/200\n",
      "2/2 [==============================] - 0s 8ms/step - loss: 13.2884 - mae: 13.2884\n",
      "Epoch 41/200\n",
      "2/2 [==============================] - 0s 8ms/step - loss: 16.2863 - mae: 16.2863\n",
      "Epoch 42/200\n",
      "2/2 [==============================] - 0s 0s/step - loss: 8.7968 - mae: 8.7968\n",
      "Epoch 43/200\n",
      "2/2 [==============================] - 0s 6ms/step - loss: 9.5861 - mae: 9.5861\n",
      "Epoch 44/200\n",
      "2/2 [==============================] - 0s 9ms/step - loss: 10.3567 - mae: 10.3567\n",
      "Epoch 45/200\n",
      "2/2 [==============================] - 0s 4ms/step - loss: 19.8066 - mae: 19.8066\n",
      "Epoch 46/200\n",
      "2/2 [==============================] - 0s 0s/step - loss: 11.0154 - mae: 11.0154\n",
      "Epoch 47/200\n",
      "2/2 [==============================] - 0s 3ms/step - loss: 30.0295 - mae: 30.0295\n",
      "Epoch 48/200\n",
      "2/2 [==============================] - 0s 5ms/step - loss: 25.7526 - mae: 25.7526\n",
      "Epoch 49/200\n",
      "2/2 [==============================] - 0s 6ms/step - loss: 14.5824 - mae: 14.5824\n",
      "Epoch 50/200\n",
      "2/2 [==============================] - 0s 4ms/step - loss: 43.6160 - mae: 43.6160\n",
      "Epoch 51/200\n",
      "2/2 [==============================] - 0s 0s/step - loss: 10.0527 - mae: 10.0527\n",
      "Epoch 52/200\n",
      "2/2 [==============================] - 0s 4ms/step - loss: 10.5547 - mae: 10.5547\n",
      "Epoch 53/200\n",
      "2/2 [==============================] - 0s 1ms/step - loss: 25.5820 - mae: 25.5820\n",
      "Epoch 54/200\n",
      "2/2 [==============================] - 0s 8ms/step - loss: 6.9372 - mae: 6.9372\n",
      "Epoch 55/200\n",
      "2/2 [==============================] - 0s 3ms/step - loss: 11.3716 - mae: 11.3716\n",
      "Epoch 56/200\n",
      "2/2 [==============================] - 0s 6ms/step - loss: 17.9352 - mae: 17.9352\n",
      "Epoch 57/200\n",
      "2/2 [==============================] - 0s 10ms/step - loss: 8.4154 - mae: 8.4154\n",
      "Epoch 58/200\n",
      "2/2 [==============================] - 0s 0s/step - loss: 8.8755 - mae: 8.8755\n",
      "Epoch 59/200\n",
      "2/2 [==============================] - 0s 7ms/step - loss: 33.1913 - mae: 33.1913\n",
      "Epoch 60/200\n",
      "2/2 [==============================] - 0s 0s/step - loss: 10.4134 - mae: 10.4134\n",
      "Epoch 61/200\n",
      "2/2 [==============================] - 0s 0s/step - loss: 13.0079 - mae: 13.0079\n",
      "Epoch 62/200\n",
      "2/2 [==============================] - 0s 5ms/step - loss: 20.3764 - mae: 20.3764\n",
      "Epoch 63/200\n",
      "2/2 [==============================] - 0s 0s/step - loss: 9.0790 - mae: 9.0790\n",
      "Epoch 64/200\n",
      "2/2 [==============================] - 0s 4ms/step - loss: 9.8652 - mae: 9.8652\n",
      "Epoch 65/200\n",
      "2/2 [==============================] - 0s 7ms/step - loss: 9.1166 - mae: 9.1166\n",
      "Epoch 66/200\n",
      "2/2 [==============================] - 0s 12ms/step - loss: 19.6888 - mae: 19.6888\n",
      "Epoch 67/200\n",
      "2/2 [==============================] - 0s 8ms/step - loss: 19.8433 - mae: 19.8433\n",
      "Epoch 68/200\n",
      "2/2 [==============================] - 0s 0s/step - loss: 9.7742 - mae: 9.7742\n",
      "Epoch 69/200\n",
      "2/2 [==============================] - 0s 5ms/step - loss: 15.2087 - mae: 15.2087\n",
      "Epoch 70/200\n",
      "2/2 [==============================] - 0s 8ms/step - loss: 9.3981 - mae: 9.3981\n",
      "Epoch 71/200\n",
      "2/2 [==============================] - 0s 0s/step - loss: 18.6894 - mae: 18.6894\n",
      "Epoch 72/200\n",
      "2/2 [==============================] - 0s 5ms/step - loss: 9.8464 - mae: 9.8464\n",
      "Epoch 73/200\n",
      "2/2 [==============================] - 0s 0s/step - loss: 11.3642 - mae: 11.3642\n",
      "Epoch 74/200\n",
      "2/2 [==============================] - 0s 0s/step - loss: 11.0963 - mae: 11.0963\n",
      "Epoch 75/200\n",
      "2/2 [==============================] - 0s 5ms/step - loss: 10.3048 - mae: 10.3048\n",
      "Epoch 76/200\n",
      "2/2 [==============================] - 0s 0s/step - loss: 11.0226 - mae: 11.0226\n",
      "Epoch 77/200\n",
      "2/2 [==============================] - 0s 8ms/step - loss: 19.7255 - mae: 19.7255\n",
      "Epoch 78/200\n",
      "2/2 [==============================] - 0s 0s/step - loss: 10.9818 - mae: 10.9818\n",
      "Epoch 79/200\n",
      "2/2 [==============================] - 0s 0s/step - loss: 12.8145 - mae: 12.8145\n",
      "Epoch 80/200\n",
      "2/2 [==============================] - 0s 8ms/step - loss: 15.4519 - mae: 15.4519\n",
      "Epoch 81/200\n",
      "2/2 [==============================] - 0s 8ms/step - loss: 11.9259 - mae: 11.9259\n",
      "Epoch 82/200\n",
      "2/2 [==============================] - 0s 6ms/step - loss: 22.6267 - mae: 22.6267\n",
      "Epoch 83/200\n",
      "2/2 [==============================] - 0s 0s/step - loss: 10.1950 - mae: 10.1950\n",
      "Epoch 84/200\n",
      "2/2 [==============================] - 0s 8ms/step - loss: 14.2520 - mae: 14.2520\n",
      "Epoch 85/200\n",
      "2/2 [==============================] - 0s 0s/step - loss: 17.7194 - mae: 17.7194\n",
      "Epoch 86/200\n",
      "2/2 [==============================] - 0s 9ms/step - loss: 15.3246 - mae: 15.3246\n",
      "Epoch 87/200\n",
      "2/2 [==============================] - 0s 7ms/step - loss: 12.5683 - mae: 12.5683\n",
      "Epoch 88/200\n",
      "2/2 [==============================] - 0s 8ms/step - loss: 21.4637 - mae: 21.4637\n",
      "Epoch 89/200\n",
      "2/2 [==============================] - 0s 0s/step - loss: 10.6271 - mae: 10.6271\n",
      "Epoch 90/200\n",
      "2/2 [==============================] - 0s 8ms/step - loss: 28.3597 - mae: 28.3597\n",
      "Epoch 91/200\n",
      "2/2 [==============================] - 0s 8ms/step - loss: 9.9092 - mae: 9.9092\n",
      "Epoch 92/200\n",
      "2/2 [==============================] - 0s 0s/step - loss: 9.8485 - mae: 9.8485\n",
      "Epoch 93/200\n",
      "2/2 [==============================] - 0s 6ms/step - loss: 17.4958 - mae: 17.4958\n",
      "Epoch 94/200\n",
      "2/2 [==============================] - 0s 3ms/step - loss: 13.4512 - mae: 13.4512\n",
      "Epoch 95/200\n",
      "2/2 [==============================] - 0s 8ms/step - loss: 10.3885 - mae: 10.3885\n",
      "Epoch 96/200\n",
      "2/2 [==============================] - 0s 0s/step - loss: 21.1717 - mae: 21.1717\n",
      "Epoch 97/200\n",
      "2/2 [==============================] - 0s 8ms/step - loss: 12.0027 - mae: 12.0027\n",
      "Epoch 98/200\n",
      "2/2 [==============================] - 0s 0s/step - loss: 29.2173 - mae: 29.2173\n",
      "Epoch 99/200\n",
      "2/2 [==============================] - 0s 2ms/step - loss: 9.2744 - mae: 9.2744\n",
      "Epoch 100/200\n",
      "2/2 [==============================] - 0s 4ms/step - loss: 28.2720 - mae: 28.2720\n",
      "Epoch 101/200\n",
      "2/2 [==============================] - 0s 9ms/step - loss: 6.3447 - mae: 6.3447\n",
      "Epoch 102/200\n",
      "2/2 [==============================] - 0s 7ms/step - loss: 8.7829 - mae: 8.7829\n",
      "Epoch 103/200\n",
      "2/2 [==============================] - 0s 0s/step - loss: 15.6177 - mae: 15.6177\n",
      "Epoch 104/200\n",
      "2/2 [==============================] - 0s 6ms/step - loss: 20.1768 - mae: 20.1768\n",
      "Epoch 105/200\n",
      "2/2 [==============================] - 0s 8ms/step - loss: 12.4329 - mae: 12.4329\n",
      "Epoch 106/200\n",
      "2/2 [==============================] - 0s 0s/step - loss: 22.6431 - mae: 22.6431\n",
      "Epoch 107/200\n",
      "2/2 [==============================] - 0s 0s/step - loss: 9.3132 - mae: 9.3132\n",
      "Epoch 108/200\n",
      "2/2 [==============================] - 0s 9ms/step - loss: 17.2382 - mae: 17.2382\n",
      "Epoch 109/200\n",
      "2/2 [==============================] - 0s 8ms/step - loss: 9.8796 - mae: 9.8796\n",
      "Epoch 110/200\n",
      "2/2 [==============================] - 0s 0s/step - loss: 18.0098 - mae: 18.0098\n",
      "Epoch 111/200\n",
      "2/2 [==============================] - 0s 8ms/step - loss: 17.5332 - mae: 17.5332\n",
      "Epoch 112/200\n",
      "2/2 [==============================] - 0s 4ms/step - loss: 8.6095 - mae: 8.6095\n",
      "Epoch 113/200\n",
      "2/2 [==============================] - 0s 8ms/step - loss: 13.4370 - mae: 13.4370\n",
      "Epoch 114/200\n",
      "2/2 [==============================] - 0s 8ms/step - loss: 15.3790 - mae: 15.3790\n",
      "Epoch 115/200\n",
      "2/2 [==============================] - 0s 4ms/step - loss: 16.9768 - mae: 16.9768\n",
      "Epoch 116/200\n",
      "2/2 [==============================] - 0s 0s/step - loss: 11.8691 - mae: 11.8691\n",
      "Epoch 117/200\n",
      "2/2 [==============================] - 0s 0s/step - loss: 25.6629 - mae: 25.6629\n",
      "Epoch 118/200\n",
      "2/2 [==============================] - 0s 7ms/step - loss: 11.5926 - mae: 11.5926\n",
      "Epoch 119/200\n",
      "2/2 [==============================] - 0s 9ms/step - loss: 10.0060 - mae: 10.0060\n",
      "Epoch 120/200\n",
      "2/2 [==============================] - 0s 0s/step - loss: 19.4307 - mae: 19.4307\n",
      "Epoch 121/200\n",
      "2/2 [==============================] - 0s 5ms/step - loss: 10.1715 - mae: 10.1715\n",
      "Epoch 122/200\n",
      "2/2 [==============================] - 0s 8ms/step - loss: 21.3788 - mae: 21.3788\n",
      "Epoch 123/200\n",
      "2/2 [==============================] - 0s 4ms/step - loss: 10.1826 - mae: 10.1826\n",
      "Epoch 124/200\n",
      "2/2 [==============================] - 0s 9ms/step - loss: 16.8229 - mae: 16.8229\n",
      "Epoch 125/200\n",
      "2/2 [==============================] - 0s 0s/step - loss: 9.7881 - mae: 9.7881\n",
      "Epoch 126/200\n",
      "2/2 [==============================] - 0s 8ms/step - loss: 15.9278 - mae: 15.9278\n",
      "Epoch 127/200\n",
      "2/2 [==============================] - 0s 8ms/step - loss: 6.5835 - mae: 6.5835\n",
      "Epoch 128/200\n",
      "2/2 [==============================] - 0s 0s/step - loss: 14.7754 - mae: 14.7754\n",
      "Epoch 129/200\n",
      "2/2 [==============================] - 0s 0s/step - loss: 23.0101 - mae: 23.0101\n",
      "Epoch 130/200\n",
      "2/2 [==============================] - 0s 8ms/step - loss: 18.0232 - mae: 18.0232\n",
      "Epoch 131/200\n",
      "2/2 [==============================] - 0s 0s/step - loss: 7.1750 - mae: 7.1750\n",
      "Epoch 132/200\n",
      "2/2 [==============================] - 0s 0s/step - loss: 27.2137 - mae: 27.2137\n",
      "Epoch 133/200\n",
      "2/2 [==============================] - 0s 8ms/step - loss: 9.8823 - mae: 9.8823\n",
      "Epoch 134/200\n",
      "2/2 [==============================] - 0s 0s/step - loss: 14.6637 - mae: 14.6637\n",
      "Epoch 135/200\n",
      "2/2 [==============================] - 0s 0s/step - loss: 8.6616 - mae: 8.6616\n",
      "Epoch 136/200\n",
      "2/2 [==============================] - 0s 7ms/step - loss: 11.0454 - mae: 11.0454\n",
      "Epoch 137/200\n",
      "2/2 [==============================] - 0s 6ms/step - loss: 23.8529 - mae: 23.8529\n",
      "Epoch 138/200\n",
      "2/2 [==============================] - 0s 7ms/step - loss: 12.5040 - mae: 12.5040\n",
      "Epoch 139/200\n",
      "2/2 [==============================] - 0s 4ms/step - loss: 9.2203 - mae: 9.2203\n",
      "Epoch 140/200\n",
      "2/2 [==============================] - 0s 5ms/step - loss: 24.1261 - mae: 24.1261\n",
      "Epoch 141/200\n",
      "2/2 [==============================] - 0s 6ms/step - loss: 9.1421 - mae: 9.1421\n",
      "Epoch 142/200\n",
      "2/2 [==============================] - 0s 4ms/step - loss: 22.2247 - mae: 22.2247\n",
      "Epoch 143/200\n",
      "2/2 [==============================] - 0s 6ms/step - loss: 14.8415 - mae: 14.8415\n",
      "Epoch 144/200\n",
      "2/2 [==============================] - 0s 6ms/step - loss: 7.2973 - mae: 7.2973\n",
      "Epoch 145/200\n",
      "2/2 [==============================] - 0s 0s/step - loss: 12.0933 - mae: 12.0933\n",
      "Epoch 146/200\n",
      "2/2 [==============================] - 0s 0s/step - loss: 20.6517 - mae: 20.6517\n",
      "Epoch 147/200\n",
      "2/2 [==============================] - 0s 8ms/step - loss: 26.2515 - mae: 26.2515\n",
      "Epoch 148/200\n",
      "2/2 [==============================] - 0s 8ms/step - loss: 7.7150 - mae: 7.7150\n",
      "Epoch 149/200\n",
      "2/2 [==============================] - 0s 1ms/step - loss: 9.0064 - mae: 9.0064\n",
      "Epoch 150/200\n",
      "2/2 [==============================] - 0s 6ms/step - loss: 26.5535 - mae: 26.5535\n",
      "Epoch 151/200\n",
      "2/2 [==============================] - 0s 8ms/step - loss: 9.2712 - mae: 9.2712\n",
      "Epoch 152/200\n",
      "2/2 [==============================] - 0s 12ms/step - loss: 10.0349 - mae: 10.0349\n",
      "Epoch 153/200\n",
      "2/2 [==============================] - 0s 0s/step - loss: 16.5311 - mae: 16.5311\n",
      "Epoch 154/200\n",
      "2/2 [==============================] - 0s 0s/step - loss: 13.9157 - mae: 13.9157\n",
      "Epoch 155/200\n",
      "2/2 [==============================] - 0s 8ms/step - loss: 15.8373 - mae: 15.8373\n",
      "Epoch 156/200\n",
      "2/2 [==============================] - 0s 5ms/step - loss: 20.4057 - mae: 20.4057\n",
      "Epoch 157/200\n",
      "2/2 [==============================] - 0s 8ms/step - loss: 10.5863 - mae: 10.5863\n",
      "Epoch 158/200\n",
      "2/2 [==============================] - 0s 0s/step - loss: 12.4192 - mae: 12.4192\n",
      "Epoch 159/200\n",
      "2/2 [==============================] - 0s 8ms/step - loss: 7.7489 - mae: 7.7489\n",
      "Epoch 160/200\n",
      "2/2 [==============================] - 0s 9ms/step - loss: 12.7065 - mae: 12.7065\n",
      "Epoch 161/200\n",
      "2/2 [==============================] - 0s 0s/step - loss: 14.1775 - mae: 14.1775\n",
      "Epoch 162/200\n",
      "2/2 [==============================] - 0s 0s/step - loss: 14.2313 - mae: 14.2313\n",
      "Epoch 163/200\n",
      "2/2 [==============================] - 0s 8ms/step - loss: 18.9119 - mae: 18.9119\n",
      "Epoch 164/200\n",
      "2/2 [==============================] - 0s 4ms/step - loss: 10.2130 - mae: 10.2130\n",
      "Epoch 165/200\n",
      "2/2 [==============================] - 0s 0s/step - loss: 19.4877 - mae: 19.4877\n",
      "Epoch 166/200\n",
      "2/2 [==============================] - 0s 4ms/step - loss: 10.1005 - mae: 10.1005\n",
      "Epoch 167/200\n",
      "2/2 [==============================] - 0s 0s/step - loss: 13.0137 - mae: 13.0137\n",
      "Epoch 168/200\n",
      "2/2 [==============================] - 0s 8ms/step - loss: 19.2269 - mae: 19.2269\n",
      "Epoch 169/200\n",
      "2/2 [==============================] - 0s 0s/step - loss: 11.8064 - mae: 11.8064\n",
      "Epoch 170/200\n",
      "2/2 [==============================] - 0s 8ms/step - loss: 20.6230 - mae: 20.6230\n",
      "Epoch 171/200\n",
      "2/2 [==============================] - 0s 8ms/step - loss: 9.8029 - mae: 9.8029\n",
      "Epoch 172/200\n",
      "2/2 [==============================] - 0s 0s/step - loss: 27.8686 - mae: 27.8686\n",
      "Epoch 173/200\n",
      "2/2 [==============================] - 0s 0s/step - loss: 7.6651 - mae: 7.6651\n",
      "Epoch 174/200\n",
      "2/2 [==============================] - 0s 0s/step - loss: 15.6901 - mae: 15.6901\n",
      "Epoch 175/200\n",
      "2/2 [==============================] - 0s 0s/step - loss: 12.1407 - mae: 12.1407\n",
      "Epoch 176/200\n",
      "2/2 [==============================] - 0s 8ms/step - loss: 16.0562 - mae: 16.0562\n",
      "Epoch 177/200\n",
      "2/2 [==============================] - 0s 6ms/step - loss: 13.5175 - mae: 13.5175\n",
      "Epoch 178/200\n",
      "2/2 [==============================] - 0s 4ms/step - loss: 26.3651 - mae: 26.3651\n",
      "Epoch 179/200\n",
      "2/2 [==============================] - 0s 5ms/step - loss: 7.5243 - mae: 7.5243\n",
      "Epoch 180/200\n",
      "2/2 [==============================] - 0s 2ms/step - loss: 28.6059 - mae: 28.6059\n",
      "Epoch 181/200\n",
      "2/2 [==============================] - 0s 6ms/step - loss: 8.2251 - mae: 8.2251\n",
      "Epoch 182/200\n",
      "2/2 [==============================] - 0s 755us/step - loss: 8.0315 - mae: 8.0315\n",
      "Epoch 183/200\n",
      "2/2 [==============================] - 0s 5ms/step - loss: 11.6668 - mae: 11.6668\n",
      "Epoch 184/200\n",
      "2/2 [==============================] - 0s 8ms/step - loss: 16.8463 - mae: 16.8463\n",
      "Epoch 185/200\n",
      "2/2 [==============================] - 0s 0s/step - loss: 11.7754 - mae: 11.7754\n",
      "Epoch 186/200\n",
      "2/2 [==============================] - 0s 0s/step - loss: 9.1785 - mae: 9.1785\n",
      "Epoch 187/200\n",
      "2/2 [==============================] - 0s 7ms/step - loss: 12.6508 - mae: 12.6508\n",
      "Epoch 188/200\n",
      "2/2 [==============================] - 0s 4ms/step - loss: 20.7656 - mae: 20.7656\n",
      "Epoch 189/200\n",
      "2/2 [==============================] - 0s 4ms/step - loss: 5.9338 - mae: 5.9338\n",
      "Epoch 190/200\n",
      "2/2 [==============================] - 0s 9ms/step - loss: 12.4603 - mae: 12.4603\n",
      "Epoch 191/200\n",
      "2/2 [==============================] - 0s 1ms/step - loss: 25.0943 - mae: 25.0943\n",
      "Epoch 192/200\n",
      "2/2 [==============================] - 0s 6ms/step - loss: 11.1405 - mae: 11.1405\n",
      "Epoch 193/200\n",
      "2/2 [==============================] - 0s 5ms/step - loss: 8.8262 - mae: 8.8262\n",
      "Epoch 194/200\n",
      "2/2 [==============================] - 0s 0s/step - loss: 13.0136 - mae: 13.0136\n",
      "Epoch 195/200\n",
      "2/2 [==============================] - 0s 8ms/step - loss: 12.2522 - mae: 12.2522\n",
      "Epoch 196/200\n",
      "2/2 [==============================] - 0s 9ms/step - loss: 17.2432 - mae: 17.2432\n",
      "Epoch 197/200\n",
      "2/2 [==============================] - 0s 0s/step - loss: 11.2219 - mae: 11.2219\n",
      "Epoch 198/200\n",
      "2/2 [==============================] - 0s 8ms/step - loss: 20.0510 - mae: 20.0510\n",
      "Epoch 199/200\n",
      "2/2 [==============================] - 0s 7ms/step - loss: 9.2731 - mae: 9.2731\n",
      "Epoch 200/200\n",
      "2/2 [==============================] - 0s 12ms/step - loss: 16.3792 - mae: 16.3792\n"
     ]
    },
    {
     "data": {
      "text/plain": [
       "<keras.callbacks.History at 0x2824ccd8250>"
      ]
     },
     "execution_count": 36,
     "metadata": {},
     "output_type": "execute_result"
    }
   ],
   "source": [
    "model_3.fit(X_train, y_train, epochs=200)"
   ]
  },
  {
   "cell_type": "code",
   "execution_count": 37,
   "metadata": {},
   "outputs": [
    {
     "name": "stdout",
     "output_type": "stream",
     "text": [
      "1/1 [==============================] - 0s 81ms/step\n"
     ]
    },
    {
     "data": {
      "image/png": "[encoded data removed]",
      "text/plain": [
       "<Figure size 504x360 with 1 Axes>"
      ]
     },
     "metadata": {
      "needs_background": "light"
     },
     "output_type": "display_data"
    }
   ],
   "source": [
    "y_pred_3 = model_3.predict(X_test)\n",
    "plot_predictions(predictions=y_pred_3)"
   ]
  },
  {
   "cell_type": "code",
   "execution_count": 38,
   "metadata": {},
   "outputs": [
    {
     "data": {
      "text/plain": [
       "(<tf.Tensor: shape=(), dtype=float32, numpy=22.138378>,\n",
       " <tf.Tensor: shape=(), dtype=float32, numpy=495.10507>)"
      ]
     },
     "execution_count": 38,
     "metadata": {},
     "output_type": "execute_result"
    }
   ],
   "source": [
    "mae_3 = tf.metrics.mean_absolute_error(y_test, tf.squeeze(y_pred_3))\n",
    "mse_3 = tf.metrics.mean_squared_error(y_test, tf.squeeze(y_pred_3))\n",
    "mae_3, mse_3"
   ]
  },
  {
   "cell_type": "markdown",
   "metadata": {},
   "source": [
    "## Comparing results of 3 experiments"
   ]
  },
  {
   "cell_type": "code",
   "execution_count": 40,
   "metadata": {},
   "outputs": [
    {
     "data": {
      "text/html": [
       "<div>\n",
       "<style scoped>\n",
       "    .dataframe tbody tr th:only-of-type {\n",
       "        vertical-align: middle;\n",
       "    }\n",
       "\n",
       "    .dataframe tbody tr th {\n",
       "        vertical-align: top;\n",
       "    }\n",
       "\n",
       "    .dataframe thead th {\n",
       "        text-align: right;\n",
       "    }\n",
       "</style>\n",
       "<table border=\"1\" class=\"dataframe\">\n",
       "  <thead>\n",
       "    <tr style=\"text-align: right;\">\n",
       "      <th></th>\n",
       "      <th>model</th>\n",
       "      <th>mae</th>\n",
       "      <th>mse</th>\n",
       "    </tr>\n",
       "  </thead>\n",
       "  <tbody>\n",
       "    <tr>\n",
       "      <th>0</th>\n",
       "      <td>model_1</td>\n",
       "      <td>10.674746</td>\n",
       "      <td>122.085617</td>\n",
       "    </tr>\n",
       "    <tr>\n",
       "      <th>1</th>\n",
       "      <td>model_2</td>\n",
       "      <td>17.111050</td>\n",
       "      <td>294.429688</td>\n",
       "    </tr>\n",
       "    <tr>\n",
       "      <th>2</th>\n",
       "      <td>model_3</td>\n",
       "      <td>22.138378</td>\n",
       "      <td>495.105072</td>\n",
       "    </tr>\n",
       "  </tbody>\n",
       "</table>\n",
       "</div>"
      ],
      "text/plain": [
       "     model        mae         mse\n",
       "0  model_1  10.674746  122.085617\n",
       "1  model_2  17.111050  294.429688\n",
       "2  model_3  22.138378  495.105072"
      ]
     },
     "execution_count": 40,
     "metadata": {},
     "output_type": "execute_result"
    }
   ],
   "source": [
    "import pandas as pd\n",
    "\n",
    "model_results = [[\"model_1\", mae_1.numpy(), mse_1.numpy()],\n",
    "                [\"model_2\", mae_2.numpy(), mse_2.numpy()],\n",
    "                [\"model_3\", mae_3.numpy(), mse_3.numpy()]]\n",
    "\n",
    "all_results = pd.DataFrame(model_results, columns=[\"model\", \"mae\", \"mse\"])\n",
    "all_results"
   ]
  },
  {
   "cell_type": "code",
   "execution_count": null,
   "metadata": {},
   "outputs": [],
   "source": []
  }
 ],
 "metadata": {
  "kernelspec": {
   "display_name": "Python 3.8.10 64-bit",
   "language": "python",
   "name": "python3"
  },
  "language_info": {
   "codemirror_mode": {
    "name": "ipython",
    "version": 3
   },
   "file_extension": ".py",
   "mimetype": "text/x-python",
   "name": "python",
   "nbconvert_exporter": "python",
   "pygments_lexer": "ipython3",
   "version": "3.8.10"
  },
  "orig_nbformat": 4,
  "vscode": {
   "interpreter": {
    "hash": "8230a386d8e0083990873cddb8ebb5b6213275a10339230a8504f0ef8ce7f888"
   }
  }
 },
 "nbformat": 4,
 "nbformat_minor": 2
}
