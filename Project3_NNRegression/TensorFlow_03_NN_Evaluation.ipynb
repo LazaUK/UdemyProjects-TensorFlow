{
 "cells": [
  {
   "cell_type": "markdown",
   "metadata": {},
   "source": [
    "# Tensors"
   ]
  },
  {
   "cell_type": "code",
   "execution_count": 1,
   "metadata": {},
   "outputs": [
    {
     "name": "stdout",
     "output_type": "stream",
     "text": [
      "2.10.0\n"
     ]
    }
   ],
   "source": [
    "# Importing TF and checking the version\n",
    "import tensorflow as tf\n",
    "print(tf.__version__)"
   ]
  },
  {
   "cell_type": "code",
   "execution_count": 2,
   "metadata": {},
   "outputs": [
    {
     "data": {
      "text/plain": [
       "<tf.Tensor: shape=(50,), dtype=int32, numpy=\n",
       "array([-100,  -96,  -92,  -88,  -84,  -80,  -76,  -72,  -68,  -64,  -60,\n",
       "        -56,  -52,  -48,  -44,  -40,  -36,  -32,  -28,  -24,  -20,  -16,\n",
       "        -12,   -8,   -4,    0,    4,    8,   12,   16,   20,   24,   28,\n",
       "         32,   36,   40,   44,   48,   52,   56,   60,   64,   68,   72,\n",
       "         76,   80,   84,   88,   92,   96])>"
      ]
     },
     "execution_count": 2,
     "metadata": {},
     "output_type": "execute_result"
    }
   ],
   "source": [
    "# Dataset\n",
    "X = tf.range(-100, 100, 4)\n",
    "X"
   ]
  },
  {
   "cell_type": "code",
   "execution_count": 3,
   "metadata": {},
   "outputs": [
    {
     "data": {
      "text/plain": [
       "<tf.Tensor: shape=(50,), dtype=int32, numpy=\n",
       "array([-90, -86, -82, -78, -74, -70, -66, -62, -58, -54, -50, -46, -42,\n",
       "       -38, -34, -30, -26, -22, -18, -14, -10,  -6,  -2,   2,   6,  10,\n",
       "        14,  18,  22,  26,  30,  34,  38,  42,  46,  50,  54,  58,  62,\n",
       "        66,  70,  74,  78,  82,  86,  90,  94,  98, 102, 106])>"
      ]
     },
     "execution_count": 3,
     "metadata": {},
     "output_type": "execute_result"
    }
   ],
   "source": [
    "# Labels\n",
    "y = X + 10\n",
    "y"
   ]
  },
  {
   "cell_type": "code",
   "execution_count": 4,
   "metadata": {},
   "outputs": [
    {
     "data": {
      "text/plain": [
       "[<matplotlib.lines.Line2D at 0x280f7d39790>]"
      ]
     },
     "execution_count": 4,
     "metadata": {},
     "output_type": "execute_result"
    },
    {
     "data": {
      "image/png": "[encoded data removed]",
      "text/plain": [
       "<Figure size 432x288 with 1 Axes>"
      ]
     },
     "metadata": {
      "needs_background": "light"
     },
     "output_type": "display_data"
    }
   ],
   "source": [
    "import matplotlib.pyplot as plt\n",
    "plt.plot(X, y)"
   ]
  },
  {
   "cell_type": "code",
   "execution_count": 5,
   "metadata": {},
   "outputs": [
    {
     "data": {
      "text/plain": [
       "<matplotlib.collections.PathCollection at 0x280f9e45fd0>"
      ]
     },
     "execution_count": 5,
     "metadata": {},
     "output_type": "execute_result"
    },
    {
     "data": {
      "image/png": "[encoded data removed]",
      "text/plain": [
       "<Figure size 432x288 with 1 Axes>"
      ]
     },
     "metadata": {
      "needs_background": "light"
     },
     "output_type": "display_data"
    }
   ],
   "source": [
    "plt.scatter(X, y)"
   ]
  },
  {
   "cell_type": "code",
   "execution_count": 6,
   "metadata": {},
   "outputs": [],
   "source": [
    "# Creating train / test datasets\n",
    "X_train = X[:40]\n",
    "y_train = y[:40]\n",
    "\n",
    "X_test = X[40:]\n",
    "y_test = y[40:]"
   ]
  },
  {
   "cell_type": "code",
   "execution_count": 7,
   "metadata": {},
   "outputs": [
    {
     "data": {
      "text/plain": [
       "(40, 10)"
      ]
     },
     "execution_count": 7,
     "metadata": {},
     "output_type": "execute_result"
    }
   ],
   "source": [
    "len(X_train), len(X_test)"
   ]
  },
  {
   "cell_type": "code",
   "execution_count": 8,
   "metadata": {},
   "outputs": [
    {
     "data": {
      "text/plain": [
       "<matplotlib.legend.Legend at 0x280f9edb9a0>"
      ]
     },
     "execution_count": 8,
     "metadata": {},
     "output_type": "execute_result"
    },
    {
     "data": {
      "image/png": "[encoded data removed]",
      "text/plain": [
       "<Figure size 504x360 with 1 Axes>"
      ]
     },
     "metadata": {
      "needs_background": "light"
     },
     "output_type": "display_data"
    }
   ],
   "source": [
    "from cProfile import label\n",
    "\n",
    "\n",
    "plt.figure(figsize=(7, 5))\n",
    "# Plotting training data\n",
    "plt.scatter(X_train, y_train, c=\"b\", label=\"Training set\")\n",
    "# Plotting testing data\n",
    "plt.scatter(X_test, y_test, c=\"r\", label=\"Testing set\")\n",
    "# Show a legend\n",
    "plt.legend()"
   ]
  },
  {
   "cell_type": "code",
   "execution_count": 9,
   "metadata": {},
   "outputs": [],
   "source": [
    "# Creating NN\n",
    "model = tf.keras.Sequential([\n",
    "    tf.keras.layers.Dense(1, input_shape=[1])\n",
    "])\n",
    "\n",
    "model.compile(loss=tf.keras.losses.mae,\n",
    "    optimizer=tf.keras.optimizers.SGD(),\n",
    "    metrics=[\"mae\"]\n",
    ")"
   ]
  },
  {
   "cell_type": "code",
   "execution_count": 10,
   "metadata": {},
   "outputs": [
    {
     "name": "stdout",
     "output_type": "stream",
     "text": [
      "Model: \"sequential\"\n",
      "_________________________________________________________________\n",
      " Layer (type)                Output Shape              Param #   \n",
      "=================================================================\n",
      " dense (Dense)               (None, 1)                 2         \n",
      "                                                                 \n",
      "=================================================================\n",
      "Total params: 2\n",
      "Trainable params: 2\n",
      "Non-trainable params: 0\n",
      "_________________________________________________________________\n"
     ]
    }
   ],
   "source": [
    "model.summary()"
   ]
  },
  {
   "cell_type": "code",
   "execution_count": 11,
   "metadata": {},
   "outputs": [
    {
     "name": "stdout",
     "output_type": "stream",
     "text": [
      "Epoch 1/100\n",
      "2/2 [==============================] - 1s 6ms/step - loss: 20.9291 - mae: 20.9291\n",
      "Epoch 2/100\n",
      "2/2 [==============================] - 0s 5ms/step - loss: 12.6091 - mae: 12.6091\n",
      "Epoch 3/100\n",
      "2/2 [==============================] - 0s 10ms/step - loss: 11.8106 - mae: 11.8106\n",
      "Epoch 4/100\n",
      "2/2 [==============================] - 0s 8ms/step - loss: 14.1933 - mae: 14.1933\n",
      "Epoch 5/100\n",
      "2/2 [==============================] - 0s 0s/step - loss: 10.2084 - mae: 10.2084\n",
      "Epoch 6/100\n",
      "2/2 [==============================] - 0s 811us/step - loss: 15.0613 - mae: 15.0613\n",
      "Epoch 7/100\n",
      "2/2 [==============================] - 0s 9ms/step - loss: 7.9939 - mae: 7.9939\n",
      "Epoch 8/100\n",
      "2/2 [==============================] - 0s 5ms/step - loss: 9.3880 - mae: 9.3880\n",
      "Epoch 9/100\n",
      "2/2 [==============================] - 0s 8ms/step - loss: 10.7521 - mae: 10.7521\n",
      "Epoch 10/100\n",
      "2/2 [==============================] - 0s 12ms/step - loss: 10.5998 - mae: 10.5998\n",
      "Epoch 11/100\n",
      "2/2 [==============================] - 0s 8ms/step - loss: 10.8803 - mae: 10.8803\n",
      "Epoch 12/100\n",
      "2/2 [==============================] - 0s 8ms/step - loss: 11.3360 - mae: 11.3360\n",
      "Epoch 13/100\n",
      "2/2 [==============================] - 0s 0s/step - loss: 13.8151 - mae: 13.8151\n",
      "Epoch 14/100\n",
      "2/2 [==============================] - 0s 0s/step - loss: 16.1639 - mae: 16.1639\n",
      "Epoch 15/100\n",
      "2/2 [==============================] - 0s 9ms/step - loss: 9.1190 - mae: 9.1190\n",
      "Epoch 16/100\n",
      "2/2 [==============================] - 0s 7ms/step - loss: 12.2265 - mae: 12.2265\n",
      "Epoch 17/100\n",
      "2/2 [==============================] - 0s 8ms/step - loss: 14.0672 - mae: 14.0672\n",
      "Epoch 18/100\n",
      "2/2 [==============================] - 0s 0s/step - loss: 8.4824 - mae: 8.4824\n",
      "Epoch 19/100\n",
      "2/2 [==============================] - 0s 8ms/step - loss: 12.0440 - mae: 12.0440\n",
      "Epoch 20/100\n",
      "2/2 [==============================] - 0s 0s/step - loss: 10.7370 - mae: 10.7370\n",
      "Epoch 21/100\n",
      "2/2 [==============================] - 0s 12ms/step - loss: 10.3816 - mae: 10.3816\n",
      "Epoch 22/100\n",
      "2/2 [==============================] - 0s 3ms/step - loss: 9.3656 - mae: 9.3656\n",
      "Epoch 23/100\n",
      "2/2 [==============================] - 0s 8ms/step - loss: 10.9680 - mae: 10.9680\n",
      "Epoch 24/100\n",
      "2/2 [==============================] - 0s 7ms/step - loss: 10.6517 - mae: 10.6517\n",
      "Epoch 25/100\n",
      "2/2 [==============================] - 0s 10ms/step - loss: 15.9707 - mae: 15.9707\n",
      "Epoch 26/100\n",
      "2/2 [==============================] - 0s 8ms/step - loss: 7.5179 - mae: 7.5179\n",
      "Epoch 27/100\n",
      "2/2 [==============================] - 0s 0s/step - loss: 9.2664 - mae: 9.2664\n",
      "Epoch 28/100\n",
      "2/2 [==============================] - 0s 5ms/step - loss: 10.4616 - mae: 10.4616\n",
      "Epoch 29/100\n",
      "2/2 [==============================] - 0s 4ms/step - loss: 17.7415 - mae: 17.7415\n",
      "Epoch 30/100\n",
      "2/2 [==============================] - 0s 4ms/step - loss: 11.8754 - mae: 11.8754\n",
      "Epoch 31/100\n",
      "2/2 [==============================] - 0s 0s/step - loss: 9.7944 - mae: 9.7944\n",
      "Epoch 32/100\n",
      "2/2 [==============================] - 0s 0s/step - loss: 9.2209 - mae: 9.2209\n",
      "Epoch 33/100\n",
      "2/2 [==============================] - 0s 0s/step - loss: 15.2760 - mae: 15.2760\n",
      "Epoch 34/100\n",
      "2/2 [==============================] - 0s 2ms/step - loss: 11.9180 - mae: 11.9180\n",
      "Epoch 35/100\n",
      "2/2 [==============================] - 0s 2ms/step - loss: 8.1063 - mae: 8.1063\n",
      "Epoch 36/100\n",
      "2/2 [==============================] - 0s 8ms/step - loss: 10.7809 - mae: 10.7809\n",
      "Epoch 37/100\n",
      "2/2 [==============================] - 0s 0s/step - loss: 9.0583 - mae: 9.0583\n",
      "Epoch 38/100\n",
      "2/2 [==============================] - 0s 5ms/step - loss: 10.8786 - mae: 10.8786\n",
      "Epoch 39/100\n",
      "2/2 [==============================] - 0s 8ms/step - loss: 14.5297 - mae: 14.5297\n",
      "Epoch 40/100\n",
      "2/2 [==============================] - 0s 0s/step - loss: 13.1487 - mae: 13.1487\n",
      "Epoch 41/100\n",
      "2/2 [==============================] - 0s 0s/step - loss: 8.6439 - mae: 8.6439\n",
      "Epoch 42/100\n",
      "2/2 [==============================] - 0s 4ms/step - loss: 9.8337 - mae: 9.8337\n",
      "Epoch 43/100\n",
      "2/2 [==============================] - 0s 5ms/step - loss: 16.5520 - mae: 16.5520\n",
      "Epoch 44/100\n",
      "2/2 [==============================] - 0s 0s/step - loss: 11.3691 - mae: 11.3691\n",
      "Epoch 45/100\n",
      "2/2 [==============================] - 0s 0s/step - loss: 8.9867 - mae: 8.9867\n",
      "Epoch 46/100\n",
      "2/2 [==============================] - 0s 8ms/step - loss: 14.8440 - mae: 14.8440\n",
      "Epoch 47/100\n",
      "2/2 [==============================] - 0s 0s/step - loss: 9.7299 - mae: 9.7299\n",
      "Epoch 48/100\n",
      "2/2 [==============================] - 0s 8ms/step - loss: 9.3679 - mae: 9.3679\n",
      "Epoch 49/100\n",
      "2/2 [==============================] - 0s 575us/step - loss: 10.8279 - mae: 10.8279\n",
      "Epoch 50/100\n",
      "2/2 [==============================] - 0s 8ms/step - loss: 9.0115 - mae: 9.0115\n",
      "Epoch 51/100\n",
      "2/2 [==============================] - 0s 8ms/step - loss: 13.0338 - mae: 13.0338\n",
      "Epoch 52/100\n",
      "2/2 [==============================] - 0s 8ms/step - loss: 9.4140 - mae: 9.4140\n",
      "Epoch 53/100\n",
      "2/2 [==============================] - 0s 0s/step - loss: 11.4400 - mae: 11.4400\n",
      "Epoch 54/100\n",
      "2/2 [==============================] - 0s 8ms/step - loss: 12.9463 - mae: 12.9463\n",
      "Epoch 55/100\n",
      "2/2 [==============================] - 0s 8ms/step - loss: 8.3746 - mae: 8.3746\n",
      "Epoch 56/100\n",
      "2/2 [==============================] - 0s 11ms/step - loss: 16.1629 - mae: 16.1629\n",
      "Epoch 57/100\n",
      "2/2 [==============================] - 0s 0s/step - loss: 11.8415 - mae: 11.8415\n",
      "Epoch 58/100\n",
      "2/2 [==============================] - 0s 0s/step - loss: 13.3771 - mae: 13.3771\n",
      "Epoch 59/100\n",
      "2/2 [==============================] - 0s 0s/step - loss: 12.3893 - mae: 12.3893\n",
      "Epoch 60/100\n",
      "2/2 [==============================] - 0s 8ms/step - loss: 8.6922 - mae: 8.6922\n",
      "Epoch 61/100\n",
      "2/2 [==============================] - 0s 0s/step - loss: 8.6272 - mae: 8.6272\n",
      "Epoch 62/100\n",
      "2/2 [==============================] - 0s 3ms/step - loss: 8.5960 - mae: 8.5960\n",
      "Epoch 63/100\n",
      "2/2 [==============================] - 0s 6ms/step - loss: 9.7987 - mae: 9.7987\n",
      "Epoch 64/100\n",
      "2/2 [==============================] - 0s 2ms/step - loss: 8.8918 - mae: 8.8918\n",
      "Epoch 65/100\n",
      "2/2 [==============================] - 0s 4ms/step - loss: 12.1266 - mae: 12.1266\n",
      "Epoch 66/100\n",
      "2/2 [==============================] - 0s 12ms/step - loss: 14.3325 - mae: 14.3325\n",
      "Epoch 67/100\n",
      "2/2 [==============================] - 0s 10ms/step - loss: 9.1250 - mae: 9.1250\n",
      "Epoch 68/100\n",
      "2/2 [==============================] - 0s 8ms/step - loss: 7.8293 - mae: 7.8293\n",
      "Epoch 69/100\n",
      "2/2 [==============================] - 0s 0s/step - loss: 8.6986 - mae: 8.6986\n",
      "Epoch 70/100\n",
      "2/2 [==============================] - 0s 8ms/step - loss: 9.1788 - mae: 9.1788\n",
      "Epoch 71/100\n",
      "2/2 [==============================] - 0s 8ms/step - loss: 15.3080 - mae: 15.3080\n",
      "Epoch 72/100\n",
      "2/2 [==============================] - 0s 3ms/step - loss: 10.9003 - mae: 10.9003\n",
      "Epoch 73/100\n",
      "2/2 [==============================] - 0s 8ms/step - loss: 8.1529 - mae: 8.1529\n",
      "Epoch 74/100\n",
      "2/2 [==============================] - 0s 4ms/step - loss: 6.8816 - mae: 6.8816\n",
      "Epoch 75/100\n",
      "2/2 [==============================] - 0s 8ms/step - loss: 8.7223 - mae: 8.7223\n",
      "Epoch 76/100\n",
      "2/2 [==============================] - 0s 8ms/step - loss: 7.7102 - mae: 7.7102\n",
      "Epoch 77/100\n",
      "2/2 [==============================] - 0s 6ms/step - loss: 9.8994 - mae: 9.8994\n",
      "Epoch 78/100\n",
      "2/2 [==============================] - 0s 0s/step - loss: 9.3719 - mae: 9.3719\n",
      "Epoch 79/100\n",
      "2/2 [==============================] - 0s 6ms/step - loss: 9.9123 - mae: 9.9123\n",
      "Epoch 80/100\n",
      "2/2 [==============================] - 0s 8ms/step - loss: 10.7493 - mae: 10.7493\n",
      "Epoch 81/100\n",
      "2/2 [==============================] - 0s 9ms/step - loss: 9.5331 - mae: 9.5331\n",
      "Epoch 82/100\n",
      "2/2 [==============================] - 0s 0s/step - loss: 8.2134 - mae: 8.2134\n",
      "Epoch 83/100\n",
      "2/2 [==============================] - 0s 0s/step - loss: 8.8946 - mae: 8.8946\n",
      "Epoch 84/100\n",
      "2/2 [==============================] - 0s 7ms/step - loss: 16.0796 - mae: 16.0796\n",
      "Epoch 85/100\n",
      "2/2 [==============================] - 0s 8ms/step - loss: 9.1631 - mae: 9.1631\n",
      "Epoch 86/100\n",
      "2/2 [==============================] - 0s 0s/step - loss: 13.2368 - mae: 13.2368\n",
      "Epoch 87/100\n",
      "2/2 [==============================] - 0s 679us/step - loss: 9.9908 - mae: 9.9908\n",
      "Epoch 88/100\n",
      "2/2 [==============================] - 0s 5ms/step - loss: 14.7054 - mae: 14.7054\n",
      "Epoch 89/100\n",
      "2/2 [==============================] - 0s 8ms/step - loss: 7.2596 - mae: 7.2596\n",
      "Epoch 90/100\n",
      "2/2 [==============================] - 0s 0s/step - loss: 9.1864 - mae: 9.1864\n",
      "Epoch 91/100\n",
      "2/2 [==============================] - 0s 4ms/step - loss: 8.8820 - mae: 8.8820\n",
      "Epoch 92/100\n",
      "2/2 [==============================] - 0s 3ms/step - loss: 10.8176 - mae: 10.8176\n",
      "Epoch 93/100\n",
      "2/2 [==============================] - 0s 8ms/step - loss: 9.7057 - mae: 9.7057\n",
      "Epoch 94/100\n",
      "2/2 [==============================] - 0s 5ms/step - loss: 8.9627 - mae: 8.9627\n",
      "Epoch 95/100\n",
      "2/2 [==============================] - 0s 8ms/step - loss: 10.8956 - mae: 10.8956\n",
      "Epoch 96/100\n",
      "2/2 [==============================] - 0s 8ms/step - loss: 12.4138 - mae: 12.4138\n",
      "Epoch 97/100\n",
      "2/2 [==============================] - 0s 0s/step - loss: 11.3450 - mae: 11.3450\n",
      "Epoch 98/100\n",
      "2/2 [==============================] - 0s 4ms/step - loss: 6.6572 - mae: 6.6572\n",
      "Epoch 99/100\n",
      "2/2 [==============================] - 0s 2ms/step - loss: 9.9138 - mae: 9.9138\n",
      "Epoch 100/100\n",
      "2/2 [==============================] - 0s 0s/step - loss: 10.5793 - mae: 10.5793\n"
     ]
    },
    {
     "data": {
      "text/plain": [
       "<keras.callbacks.History at 0x280fb0549a0>"
      ]
     },
     "execution_count": 11,
     "metadata": {},
     "output_type": "execute_result"
    }
   ],
   "source": [
    "model.fit(X_train, y_train, epochs=100)"
   ]
  },
  {
   "cell_type": "code",
   "execution_count": 12,
   "metadata": {},
   "outputs": [
    {
     "data": {
      "image/png": "[encoded data removed]",
      "text/plain": [
       "<IPython.core.display.Image object>"
      ]
     },
     "execution_count": 12,
     "metadata": {},
     "output_type": "execute_result"
    }
   ],
   "source": [
    "from tensorflow.keras.utils import plot_model\n",
    "\n",
    "plot_model(model=model)"
   ]
  },
  {
   "cell_type": "code",
   "execution_count": null,
   "metadata": {},
   "outputs": [],
   "source": []
  }
 ],
 "metadata": {
  "kernelspec": {
   "display_name": "Python 3.8.10 64-bit",
   "language": "python",
   "name": "python3"
  },
  "language_info": {
   "codemirror_mode": {
    "name": "ipython",
    "version": 3
   },
   "file_extension": ".py",
   "mimetype": "text/x-python",
   "name": "python",
   "nbconvert_exporter": "python",
   "pygments_lexer": "ipython3",
   "version": "3.8.10"
  },
  "orig_nbformat": 4,
  "vscode": {
   "interpreter": {
    "hash": "8230a386d8e0083990873cddb8ebb5b6213275a10339230a8504f0ef8ce7f888"
   }
  }
 },
 "nbformat": 4,
 "nbformat_minor": 2
}
