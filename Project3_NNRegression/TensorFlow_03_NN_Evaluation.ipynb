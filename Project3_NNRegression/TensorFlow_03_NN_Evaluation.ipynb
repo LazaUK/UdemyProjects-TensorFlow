{
 "cells": [
  {
   "cell_type": "markdown",
   "metadata": {},
   "source": [
    "# Tensors"
   ]
  },
  {
   "cell_type": "code",
   "execution_count": 1,
   "metadata": {},
   "outputs": [
    {
     "name": "stdout",
     "output_type": "stream",
     "text": [
      "2.10.0\n"
     ]
    }
   ],
   "source": [
    "# Importing TF and checking the version\n",
    "import tensorflow as tf\n",
    "print(tf.__version__)"
   ]
  },
  {
   "cell_type": "code",
   "execution_count": 2,
   "metadata": {},
   "outputs": [
    {
     "data": {
      "text/plain": [
       "<tf.Tensor: shape=(50,), dtype=int32, numpy=\n",
       "array([-100,  -96,  -92,  -88,  -84,  -80,  -76,  -72,  -68,  -64,  -60,\n",
       "        -56,  -52,  -48,  -44,  -40,  -36,  -32,  -28,  -24,  -20,  -16,\n",
       "        -12,   -8,   -4,    0,    4,    8,   12,   16,   20,   24,   28,\n",
       "         32,   36,   40,   44,   48,   52,   56,   60,   64,   68,   72,\n",
       "         76,   80,   84,   88,   92,   96])>"
      ]
     },
     "execution_count": 2,
     "metadata": {},
     "output_type": "execute_result"
    }
   ],
   "source": [
    "# Dataset\n",
    "X = tf.range(-100, 100, 4)\n",
    "X"
   ]
  },
  {
   "cell_type": "code",
   "execution_count": 3,
   "metadata": {},
   "outputs": [
    {
     "data": {
      "text/plain": [
       "<tf.Tensor: shape=(50,), dtype=int32, numpy=\n",
       "array([-90, -86, -82, -78, -74, -70, -66, -62, -58, -54, -50, -46, -42,\n",
       "       -38, -34, -30, -26, -22, -18, -14, -10,  -6,  -2,   2,   6,  10,\n",
       "        14,  18,  22,  26,  30,  34,  38,  42,  46,  50,  54,  58,  62,\n",
       "        66,  70,  74,  78,  82,  86,  90,  94,  98, 102, 106])>"
      ]
     },
     "execution_count": 3,
     "metadata": {},
     "output_type": "execute_result"
    }
   ],
   "source": [
    "# Labels\n",
    "y = X + 10\n",
    "y"
   ]
  },
  {
   "cell_type": "code",
   "execution_count": 4,
   "metadata": {},
   "outputs": [
    {
     "data": {
      "text/plain": [
       "[<matplotlib.lines.Line2D at 0x11b96f09790>]"
      ]
     },
     "execution_count": 4,
     "metadata": {},
     "output_type": "execute_result"
    },
    {
     "data": {
      "image/png": "[encoded data removed]",
      "text/plain": [
       "<Figure size 432x288 with 1 Axes>"
      ]
     },
     "metadata": {
      "needs_background": "light"
     },
     "output_type": "display_data"
    }
   ],
   "source": [
    "import matplotlib.pyplot as plt\n",
    "plt.plot(X, y)"
   ]
  },
  {
   "cell_type": "code",
   "execution_count": 5,
   "metadata": {},
   "outputs": [
    {
     "data": {
      "text/plain": [
       "<matplotlib.collections.PathCollection at 0x11b99016fa0>"
      ]
     },
     "execution_count": 5,
     "metadata": {},
     "output_type": "execute_result"
    },
    {
     "data": {
      "image/png": "[encoded data removed]",
      "text/plain": [
       "<Figure size 432x288 with 1 Axes>"
      ]
     },
     "metadata": {
      "needs_background": "light"
     },
     "output_type": "display_data"
    }
   ],
   "source": [
    "plt.scatter(X, y)"
   ]
  },
  {
   "cell_type": "code",
   "execution_count": 6,
   "metadata": {},
   "outputs": [],
   "source": [
    "# Creating train / test datasets\n",
    "X_train = X[:40]\n",
    "y_train = y[:40]\n",
    "\n",
    "X_test = X[40:]\n",
    "y_test = y[40:]"
   ]
  },
  {
   "cell_type": "code",
   "execution_count": 7,
   "metadata": {},
   "outputs": [
    {
     "data": {
      "text/plain": [
       "(40, 10)"
      ]
     },
     "execution_count": 7,
     "metadata": {},
     "output_type": "execute_result"
    }
   ],
   "source": [
    "len(X_train), len(X_test)"
   ]
  },
  {
   "cell_type": "code",
   "execution_count": 8,
   "metadata": {},
   "outputs": [
    {
     "data": {
      "text/plain": [
       "<matplotlib.legend.Legend at 0x11b990ac880>"
      ]
     },
     "execution_count": 8,
     "metadata": {},
     "output_type": "execute_result"
    },
    {
     "data": {
      "image/png": "[encoded data removed]",
      "text/plain": [
       "<Figure size 504x360 with 1 Axes>"
      ]
     },
     "metadata": {
      "needs_background": "light"
     },
     "output_type": "display_data"
    }
   ],
   "source": [
    "from cProfile import label\n",
    "\n",
    "\n",
    "plt.figure(figsize=(7, 5))\n",
    "# Plotting training data\n",
    "plt.scatter(X_train, y_train, c=\"b\", label=\"Training set\")\n",
    "# Plotting testing data\n",
    "plt.scatter(X_test, y_test, c=\"r\", label=\"Testing set\")\n",
    "# Show a legend\n",
    "plt.legend()"
   ]
  },
  {
   "cell_type": "code",
   "execution_count": 9,
   "metadata": {},
   "outputs": [],
   "source": [
    "# Creating NN\n",
    "model = tf.keras.Sequential([\n",
    "    tf.keras.layers.Dense(1, input_shape=[1])\n",
    "])\n",
    "\n",
    "model.compile(loss=tf.keras.losses.mae,\n",
    "    optimizer=tf.keras.optimizers.SGD(),\n",
    "    metrics=[\"mae\"]\n",
    ")"
   ]
  },
  {
   "cell_type": "code",
   "execution_count": 10,
   "metadata": {},
   "outputs": [
    {
     "name": "stdout",
     "output_type": "stream",
     "text": [
      "Model: \"sequential\"\n",
      "_________________________________________________________________\n",
      " Layer (type)                Output Shape              Param #   \n",
      "=================================================================\n",
      " dense (Dense)               (None, 1)                 2         \n",
      "                                                                 \n",
      "=================================================================\n",
      "Total params: 2\n",
      "Trainable params: 2\n",
      "Non-trainable params: 0\n",
      "_________________________________________________________________\n"
     ]
    }
   ],
   "source": [
    "model.summary()"
   ]
  },
  {
   "cell_type": "code",
   "execution_count": 11,
   "metadata": {},
   "outputs": [
    {
     "name": "stdout",
     "output_type": "stream",
     "text": [
      "Epoch 1/100\n",
      "2/2 [==============================] - 1s 9ms/step - loss: 21.0082 - mae: 21.0082\n",
      "Epoch 2/100\n",
      "2/2 [==============================] - 0s 7ms/step - loss: 10.0811 - mae: 10.0811\n",
      "Epoch 3/100\n",
      "2/2 [==============================] - 0s 9ms/step - loss: 13.3171 - mae: 13.3171\n",
      "Epoch 4/100\n",
      "2/2 [==============================] - 0s 9ms/step - loss: 11.1010 - mae: 11.1010\n",
      "Epoch 5/100\n",
      "2/2 [==============================] - 0s 9ms/step - loss: 13.5903 - mae: 13.5903\n",
      "Epoch 6/100\n",
      "2/2 [==============================] - 0s 8ms/step - loss: 8.4945 - mae: 8.4945\n",
      "Epoch 7/100\n",
      "2/2 [==============================] - 0s 10ms/step - loss: 14.8908 - mae: 14.8908\n",
      "Epoch 8/100\n",
      "2/2 [==============================] - 0s 10ms/step - loss: 10.7022 - mae: 10.7022\n",
      "Epoch 9/100\n",
      "2/2 [==============================] - 0s 10ms/step - loss: 10.2593 - mae: 10.2593\n",
      "Epoch 10/100\n",
      "2/2 [==============================] - 0s 10ms/step - loss: 8.8657 - mae: 8.8657\n",
      "Epoch 11/100\n",
      "2/2 [==============================] - 0s 8ms/step - loss: 9.8567 - mae: 9.8567\n",
      "Epoch 12/100\n",
      "2/2 [==============================] - 0s 10ms/step - loss: 14.7291 - mae: 14.7291\n",
      "Epoch 13/100\n",
      "2/2 [==============================] - 0s 9ms/step - loss: 13.2935 - mae: 13.2935\n",
      "Epoch 14/100\n",
      "2/2 [==============================] - 0s 11ms/step - loss: 11.6499 - mae: 11.6499\n",
      "Epoch 15/100\n",
      "2/2 [==============================] - 0s 11ms/step - loss: 12.8277 - mae: 12.8277\n",
      "Epoch 16/100\n",
      "2/2 [==============================] - 0s 8ms/step - loss: 19.8856 - mae: 19.8856\n",
      "Epoch 17/100\n",
      "2/2 [==============================] - 0s 8ms/step - loss: 12.4268 - mae: 12.4268\n",
      "Epoch 18/100\n",
      "2/2 [==============================] - 0s 11ms/step - loss: 13.0745 - mae: 13.0745\n",
      "Epoch 19/100\n",
      "2/2 [==============================] - 0s 9ms/step - loss: 14.1384 - mae: 14.1384\n",
      "Epoch 20/100\n",
      "2/2 [==============================] - 0s 10ms/step - loss: 10.5585 - mae: 10.5585\n",
      "Epoch 21/100\n",
      "2/2 [==============================] - 0s 8ms/step - loss: 8.6484 - mae: 8.6484\n",
      "Epoch 22/100\n",
      "2/2 [==============================] - 0s 8ms/step - loss: 9.6580 - mae: 9.6580\n",
      "Epoch 23/100\n",
      "2/2 [==============================] - 0s 10ms/step - loss: 10.9238 - mae: 10.9238\n",
      "Epoch 24/100\n",
      "2/2 [==============================] - 0s 10ms/step - loss: 7.3613 - mae: 7.3613\n",
      "Epoch 25/100\n",
      "2/2 [==============================] - 0s 9ms/step - loss: 7.8908 - mae: 7.8908\n",
      "Epoch 26/100\n",
      "2/2 [==============================] - 0s 7ms/step - loss: 24.6109 - mae: 24.6109\n",
      "Epoch 27/100\n",
      "2/2 [==============================] - 0s 9ms/step - loss: 16.8992 - mae: 16.8992\n",
      "Epoch 28/100\n",
      "2/2 [==============================] - 0s 8ms/step - loss: 12.7297 - mae: 12.7297\n",
      "Epoch 29/100\n",
      "2/2 [==============================] - 0s 6ms/step - loss: 9.8892 - mae: 9.8892\n",
      "Epoch 30/100\n",
      "2/2 [==============================] - 0s 11ms/step - loss: 9.3569 - mae: 9.3569\n",
      "Epoch 31/100\n",
      "2/2 [==============================] - 0s 8ms/step - loss: 15.7599 - mae: 15.7599\n",
      "Epoch 32/100\n",
      "2/2 [==============================] - 0s 9ms/step - loss: 16.2265 - mae: 16.2265\n",
      "Epoch 33/100\n",
      "2/2 [==============================] - 0s 8ms/step - loss: 9.5606 - mae: 9.5606\n",
      "Epoch 34/100\n",
      "2/2 [==============================] - 0s 8ms/step - loss: 8.5395 - mae: 8.5395\n",
      "Epoch 35/100\n",
      "2/2 [==============================] - 0s 9ms/step - loss: 8.2929 - mae: 8.2929\n",
      "Epoch 36/100\n",
      "2/2 [==============================] - 0s 11ms/step - loss: 9.4632 - mae: 9.4632\n",
      "Epoch 37/100\n",
      "2/2 [==============================] - 0s 8ms/step - loss: 11.8529 - mae: 11.8529\n",
      "Epoch 38/100\n",
      "2/2 [==============================] - 0s 10ms/step - loss: 10.2449 - mae: 10.2449\n",
      "Epoch 39/100\n",
      "2/2 [==============================] - 0s 12ms/step - loss: 9.9946 - mae: 9.9946\n",
      "Epoch 40/100\n",
      "2/2 [==============================] - 0s 10ms/step - loss: 9.1475 - mae: 9.1475\n",
      "Epoch 41/100\n",
      "2/2 [==============================] - 0s 9ms/step - loss: 10.1974 - mae: 10.1974\n",
      "Epoch 42/100\n",
      "2/2 [==============================] - 0s 8ms/step - loss: 8.9631 - mae: 8.9631\n",
      "Epoch 43/100\n",
      "2/2 [==============================] - 0s 11ms/step - loss: 9.4738 - mae: 9.4738\n",
      "Epoch 44/100\n",
      "2/2 [==============================] - 0s 10ms/step - loss: 10.4788 - mae: 10.4788\n",
      "Epoch 45/100\n",
      "2/2 [==============================] - 0s 11ms/step - loss: 12.6561 - mae: 12.6561\n",
      "Epoch 46/100\n",
      "2/2 [==============================] - 0s 8ms/step - loss: 7.9014 - mae: 7.9014\n",
      "Epoch 47/100\n",
      "2/2 [==============================] - 0s 10ms/step - loss: 13.6503 - mae: 13.6503\n",
      "Epoch 48/100\n",
      "2/2 [==============================] - 0s 7ms/step - loss: 13.5602 - mae: 13.5602\n",
      "Epoch 49/100\n",
      "2/2 [==============================] - 0s 11ms/step - loss: 12.9492 - mae: 12.9492\n",
      "Epoch 50/100\n",
      "2/2 [==============================] - 0s 8ms/step - loss: 8.2245 - mae: 8.2245\n",
      "Epoch 51/100\n",
      "2/2 [==============================] - 0s 10ms/step - loss: 8.7830 - mae: 8.7830\n",
      "Epoch 52/100\n",
      "2/2 [==============================] - 0s 9ms/step - loss: 9.1691 - mae: 9.1691\n",
      "Epoch 53/100\n",
      "2/2 [==============================] - 0s 10ms/step - loss: 10.9685 - mae: 10.9685\n",
      "Epoch 54/100\n",
      "2/2 [==============================] - 0s 5ms/step - loss: 14.8104 - mae: 14.8104\n",
      "Epoch 55/100\n",
      "2/2 [==============================] - 0s 10ms/step - loss: 8.8714 - mae: 8.8714\n",
      "Epoch 56/100\n",
      "2/2 [==============================] - 0s 9ms/step - loss: 10.9761 - mae: 10.9761\n",
      "Epoch 57/100\n",
      "2/2 [==============================] - 0s 10ms/step - loss: 15.7953 - mae: 15.7953\n",
      "Epoch 58/100\n",
      "2/2 [==============================] - 0s 8ms/step - loss: 17.7186 - mae: 17.7186\n",
      "Epoch 59/100\n",
      "2/2 [==============================] - 0s 10ms/step - loss: 9.3907 - mae: 9.3907\n",
      "Epoch 60/100\n",
      "2/2 [==============================] - 0s 7ms/step - loss: 8.8440 - mae: 8.8440\n",
      "Epoch 61/100\n",
      "2/2 [==============================] - 0s 10ms/step - loss: 8.9847 - mae: 8.9847\n",
      "Epoch 62/100\n",
      "2/2 [==============================] - 0s 10ms/step - loss: 14.0330 - mae: 14.0330\n",
      "Epoch 63/100\n",
      "2/2 [==============================] - 0s 11ms/step - loss: 9.0967 - mae: 9.0967\n",
      "Epoch 64/100\n",
      "2/2 [==============================] - 0s 8ms/step - loss: 9.2783 - mae: 9.2783\n",
      "Epoch 65/100\n",
      "2/2 [==============================] - 0s 10ms/step - loss: 9.1671 - mae: 9.1671\n",
      "Epoch 66/100\n",
      "2/2 [==============================] - 0s 7ms/step - loss: 11.6204 - mae: 11.6204\n",
      "Epoch 67/100\n",
      "2/2 [==============================] - 0s 10ms/step - loss: 10.6215 - mae: 10.6215\n",
      "Epoch 68/100\n",
      "2/2 [==============================] - 0s 10ms/step - loss: 9.5261 - mae: 9.5261\n",
      "Epoch 69/100\n",
      "2/2 [==============================] - 0s 8ms/step - loss: 9.8338 - mae: 9.8338\n",
      "Epoch 70/100\n",
      "2/2 [==============================] - 0s 8ms/step - loss: 8.0749 - mae: 8.0749\n",
      "Epoch 71/100\n",
      "2/2 [==============================] - 0s 8ms/step - loss: 6.8406 - mae: 6.8406\n",
      "Epoch 72/100\n",
      "2/2 [==============================] - 0s 10ms/step - loss: 7.6295 - mae: 7.6295\n",
      "Epoch 73/100\n",
      "2/2 [==============================] - 0s 8ms/step - loss: 19.7990 - mae: 19.7990\n",
      "Epoch 74/100\n",
      "2/2 [==============================] - 0s 8ms/step - loss: 11.0262 - mae: 11.0262\n",
      "Epoch 75/100\n",
      "2/2 [==============================] - 0s 8ms/step - loss: 9.9264 - mae: 9.9264\n",
      "Epoch 76/100\n",
      "2/2 [==============================] - 0s 10ms/step - loss: 12.6086 - mae: 12.6086\n",
      "Epoch 77/100\n",
      "2/2 [==============================] - 0s 9ms/step - loss: 13.7860 - mae: 13.7860\n",
      "Epoch 78/100\n",
      "2/2 [==============================] - 0s 9ms/step - loss: 7.5869 - mae: 7.5869\n",
      "Epoch 79/100\n",
      "2/2 [==============================] - 0s 9ms/step - loss: 10.4018 - mae: 10.4018\n",
      "Epoch 80/100\n",
      "2/2 [==============================] - 0s 11ms/step - loss: 17.8063 - mae: 17.8063\n",
      "Epoch 81/100\n",
      "2/2 [==============================] - 0s 8ms/step - loss: 9.2564 - mae: 9.2564\n",
      "Epoch 82/100\n",
      "2/2 [==============================] - 0s 10ms/step - loss: 11.2267 - mae: 11.2267\n",
      "Epoch 83/100\n",
      "2/2 [==============================] - 0s 9ms/step - loss: 9.9984 - mae: 9.9984\n",
      "Epoch 84/100\n",
      "2/2 [==============================] - 0s 11ms/step - loss: 8.3100 - mae: 8.3100\n",
      "Epoch 85/100\n",
      "2/2 [==============================] - 0s 7ms/step - loss: 7.9674 - mae: 7.9674\n",
      "Epoch 86/100\n",
      "2/2 [==============================] - 0s 10ms/step - loss: 11.4939 - mae: 11.4939\n",
      "Epoch 87/100\n",
      "2/2 [==============================] - 0s 8ms/step - loss: 16.2523 - mae: 16.2523\n",
      "Epoch 88/100\n",
      "2/2 [==============================] - 0s 11ms/step - loss: 7.2297 - mae: 7.2297\n",
      "Epoch 89/100\n",
      "2/2 [==============================] - 0s 8ms/step - loss: 9.1866 - mae: 9.1866\n",
      "Epoch 90/100\n",
      "2/2 [==============================] - 0s 10ms/step - loss: 8.9864 - mae: 8.9864\n",
      "Epoch 91/100\n",
      "2/2 [==============================] - 0s 8ms/step - loss: 7.2239 - mae: 7.2239\n",
      "Epoch 92/100\n",
      "2/2 [==============================] - 0s 7ms/step - loss: 11.5073 - mae: 11.5073\n",
      "Epoch 93/100\n",
      "2/2 [==============================] - 0s 9ms/step - loss: 8.8237 - mae: 8.8237\n",
      "Epoch 94/100\n",
      "2/2 [==============================] - 0s 11ms/step - loss: 13.7218 - mae: 13.7218\n",
      "Epoch 95/100\n",
      "2/2 [==============================] - 0s 7ms/step - loss: 15.4701 - mae: 15.4701\n",
      "Epoch 96/100\n",
      "2/2 [==============================] - 0s 11ms/step - loss: 7.9347 - mae: 7.9347\n",
      "Epoch 97/100\n",
      "2/2 [==============================] - 0s 9ms/step - loss: 10.6507 - mae: 10.6507\n",
      "Epoch 98/100\n",
      "2/2 [==============================] - 0s 11ms/step - loss: 8.8036 - mae: 8.8036\n",
      "Epoch 99/100\n",
      "2/2 [==============================] - 0s 10ms/step - loss: 8.5131 - mae: 8.5131\n",
      "Epoch 100/100\n",
      "2/2 [==============================] - 0s 10ms/step - loss: 9.8950 - mae: 9.8950\n"
     ]
    },
    {
     "data": {
      "text/plain": [
       "<keras.callbacks.History at 0x11b9a223d00>"
      ]
     },
     "execution_count": 11,
     "metadata": {},
     "output_type": "execute_result"
    }
   ],
   "source": [
    "model.fit(X_train, y_train, epochs=100)"
   ]
  },
  {
   "cell_type": "code",
   "execution_count": 12,
   "metadata": {},
   "outputs": [
    {
     "data": {
      "image/png": "[encoded data removed]",
      "text/plain": [
       "<IPython.core.display.Image object>"
      ]
     },
     "execution_count": 12,
     "metadata": {},
     "output_type": "execute_result"
    }
   ],
   "source": [
    "from tensorflow.keras.utils import plot_model\n",
    "\n",
    "plot_model(model=model)"
   ]
  },
  {
   "cell_type": "code",
   "execution_count": 13,
   "metadata": {},
   "outputs": [
    {
     "data": {
      "image/png": "[encoded data removed]",
      "text/plain": [
       "<IPython.core.display.Image object>"
      ]
     },
     "execution_count": 13,
     "metadata": {},
     "output_type": "execute_result"
    }
   ],
   "source": [
    "plot_model(model=model, show_shapes=True)"
   ]
  },
  {
   "cell_type": "code",
   "execution_count": 14,
   "metadata": {},
   "outputs": [
    {
     "name": "stdout",
     "output_type": "stream",
     "text": [
      "1/1 [==============================] - 0s 352ms/step\n"
     ]
    },
    {
     "data": {
      "text/plain": [
       "array([[ 67.48137 ],\n",
       "       [ 71.88942 ],\n",
       "       [ 76.29747 ],\n",
       "       [ 80.70552 ],\n",
       "       [ 85.11357 ],\n",
       "       [ 89.52162 ],\n",
       "       [ 93.929665],\n",
       "       [ 98.337715],\n",
       "       [102.745766],\n",
       "       [107.15382 ]], dtype=float32)"
      ]
     },
     "execution_count": 14,
     "metadata": {},
     "output_type": "execute_result"
    }
   ],
   "source": [
    "y_pred = model.predict(X_test)\n",
    "y_pred"
   ]
  },
  {
   "cell_type": "code",
   "execution_count": 15,
   "metadata": {},
   "outputs": [
    {
     "data": {
      "text/plain": [
       "<tf.Tensor: shape=(10,), dtype=int32, numpy=array([ 70,  74,  78,  82,  86,  90,  94,  98, 102, 106])>"
      ]
     },
     "execution_count": 15,
     "metadata": {},
     "output_type": "execute_result"
    }
   ],
   "source": [
    "y_test"
   ]
  },
  {
   "cell_type": "code",
   "execution_count": 16,
   "metadata": {},
   "outputs": [],
   "source": [
    "# Function to visualise the outcomes of ML training, testing and predictions\n",
    "def plot_predictions(train_data=X_train,\n",
    "                    train_labels=y_train,\n",
    "                    test_data=X_test,\n",
    "                    test_labels=y_test,\n",
    "                    predictions=y_pred):\n",
    "    plt.figure(figsize=(7, 5))\n",
    "    plt.scatter(train_data, train_labels, c=\"b\", label=\"Training data\")\n",
    "    plt.scatter(test_data, test_labels, c=\"g\", label=\"Testing data\")\n",
    "    plt.scatter(test_data, predictions, c=\"r\", label=\"Predictions\")\n",
    "    plt.legend()"
   ]
  },
  {
   "cell_type": "code",
   "execution_count": 17,
   "metadata": {},
   "outputs": [
    {
     "data": {
      "image/png": "[encoded data removed]",
      "text/plain": [
       "<Figure size 504x360 with 1 Axes>"
      ]
     },
     "metadata": {
      "needs_background": "light"
     },
     "output_type": "display_data"
    }
   ],
   "source": [
    "plot_predictions()"
   ]
  },
  {
   "cell_type": "markdown",
   "metadata": {},
   "source": [
    "# Model Evaluation"
   ]
  },
  {
   "cell_type": "code",
   "execution_count": 18,
   "metadata": {},
   "outputs": [
    {
     "name": "stdout",
     "output_type": "stream",
     "text": [
      "1/1 [==============================] - 1s 516ms/step - loss: 1.1299 - mae: 1.1299\n"
     ]
    },
    {
     "data": {
      "text/plain": [
       "[1.1298660039901733, 1.1298660039901733]"
      ]
     },
     "execution_count": 18,
     "metadata": {},
     "output_type": "execute_result"
    }
   ],
   "source": [
    "model.evaluate(X_test, y_test)"
   ]
  },
  {
   "cell_type": "code",
   "execution_count": 19,
   "metadata": {},
   "outputs": [
    {
     "data": {
      "text/plain": [
       "<tf.Tensor: shape=(10,), dtype=float32, numpy=\n",
       "array([20.518631, 16.488464, 13.421518, 11.317792, 10.177286, 10.      ,\n",
       "       10.785933, 12.602629, 15.396612, 19.153816], dtype=float32)>"
      ]
     },
     "execution_count": 19,
     "metadata": {},
     "output_type": "execute_result"
    }
   ],
   "source": [
    "# Calculate the mean absolute error\n",
    "mae = tf.metrics.mean_absolute_error(y_true=y_test, y_pred=y_pred)\n",
    "mae\n",
    "\n",
    "# INCORRECT VALUE IS CAUSED BY DIFFERENCES IN TENSOR SHAPES"
   ]
  },
  {
   "cell_type": "code",
   "execution_count": 20,
   "metadata": {},
   "outputs": [
    {
     "data": {
      "text/plain": [
       "<tf.Tensor: shape=(10,), dtype=float32, numpy=\n",
       "array([ 67.48137 ,  71.88942 ,  76.29747 ,  80.70552 ,  85.11357 ,\n",
       "        89.52162 ,  93.929665,  98.337715, 102.745766, 107.15382 ],\n",
       "      dtype=float32)>"
      ]
     },
     "execution_count": 20,
     "metadata": {},
     "output_type": "execute_result"
    }
   ],
   "source": [
    "tf.squeeze(y_pred)"
   ]
  },
  {
   "cell_type": "code",
   "execution_count": 21,
   "metadata": {},
   "outputs": [
    {
     "data": {
      "text/plain": [
       "<tf.Tensor: shape=(), dtype=float32, numpy=1.129866>"
      ]
     },
     "execution_count": 21,
     "metadata": {},
     "output_type": "execute_result"
    }
   ],
   "source": [
    "mae = tf.metrics.mean_absolute_error(y_true=y_test, y_pred=tf.squeeze(y_pred))\n",
    "mae"
   ]
  },
  {
   "cell_type": "code",
   "execution_count": 22,
   "metadata": {},
   "outputs": [
    {
     "data": {
      "text/plain": [
       "<tf.Tensor: shape=(), dtype=float32, numpy=1.8393395>"
      ]
     },
     "execution_count": 22,
     "metadata": {},
     "output_type": "execute_result"
    }
   ],
   "source": [
    "# Calculate the mean square error\n",
    "mse = tf.metrics.mean_squared_error(y_test, tf.squeeze(y_pred))\n",
    "mse"
   ]
  },
  {
   "cell_type": "markdown",
   "metadata": {},
   "source": [
    "# Comparing 3 models with various params"
   ]
  },
  {
   "cell_type": "markdown",
   "metadata": {},
   "source": [
    "## Model 1"
   ]
  },
  {
   "cell_type": "code",
   "execution_count": 30,
   "metadata": {},
   "outputs": [],
   "source": [
    "model_1 = tf.keras.Sequential([\n",
    "    tf.keras.layers.Dense(1, input_shape=[1])\n",
    "])\n",
    "\n",
    "model_1.compile(\n",
    "    loss=tf.keras.losses.mae,\n",
    "    optimizer=tf.keras.optimizers.SGD(),\n",
    "    metrics=[\"mae\"]\n",
    ")\n"
   ]
  },
  {
   "cell_type": "code",
   "execution_count": 31,
   "metadata": {},
   "outputs": [
    {
     "name": "stdout",
     "output_type": "stream",
     "text": [
      "Model: \"sequential_5\"\n",
      "_________________________________________________________________\n",
      " Layer (type)                Output Shape              Param #   \n",
      "=================================================================\n",
      " dense_5 (Dense)             (None, 1)                 2         \n",
      "                                                                 \n",
      "=================================================================\n",
      "Total params: 2\n",
      "Trainable params: 2\n",
      "Non-trainable params: 0\n",
      "_________________________________________________________________\n"
     ]
    }
   ],
   "source": [
    "model_1.summary()"
   ]
  },
  {
   "cell_type": "code",
   "execution_count": 32,
   "metadata": {},
   "outputs": [
    {
     "name": "stdout",
     "output_type": "stream",
     "text": [
      "Epoch 1/100\n",
      "2/2 [==============================] - 1s 6ms/step - loss: 67.7145 - mae: 67.7145\n",
      "Epoch 2/100\n",
      "2/2 [==============================] - 0s 9ms/step - loss: 31.8938 - mae: 31.8938\n",
      "Epoch 3/100\n",
      "2/2 [==============================] - 0s 9ms/step - loss: 9.7667 - mae: 9.7667\n",
      "Epoch 4/100\n",
      "2/2 [==============================] - 0s 8ms/step - loss: 9.5249 - mae: 9.5249\n",
      "Epoch 5/100\n",
      "2/2 [==============================] - 0s 7ms/step - loss: 14.5077 - mae: 14.5077\n",
      "Epoch 6/100\n",
      "2/2 [==============================] - 0s 7ms/step - loss: 10.3065 - mae: 10.3065\n",
      "Epoch 7/100\n",
      "2/2 [==============================] - 0s 7ms/step - loss: 11.2920 - mae: 11.2920\n",
      "Epoch 8/100\n",
      "2/2 [==============================] - 0s 8ms/step - loss: 11.4286 - mae: 11.4286\n",
      "Epoch 9/100\n",
      "2/2 [==============================] - 0s 5ms/step - loss: 8.6276 - mae: 8.6276\n",
      "Epoch 10/100\n",
      "2/2 [==============================] - 0s 4ms/step - loss: 8.8039 - mae: 8.8039\n",
      "Epoch 11/100\n",
      "2/2 [==============================] - 0s 6ms/step - loss: 9.2904 - mae: 9.2904\n",
      "Epoch 12/100\n",
      "2/2 [==============================] - 0s 4ms/step - loss: 12.5726 - mae: 12.5726\n",
      "Epoch 13/100\n",
      "2/2 [==============================] - 0s 7ms/step - loss: 10.1055 - mae: 10.1055\n",
      "Epoch 14/100\n",
      "2/2 [==============================] - 0s 5ms/step - loss: 7.5983 - mae: 7.5983\n",
      "Epoch 15/100\n",
      "2/2 [==============================] - 0s 9ms/step - loss: 9.2787 - mae: 9.2787\n",
      "Epoch 16/100\n",
      "2/2 [==============================] - 0s 6ms/step - loss: 7.9550 - mae: 7.9550\n",
      "Epoch 17/100\n",
      "2/2 [==============================] - 0s 9ms/step - loss: 13.5022 - mae: 13.5022\n",
      "Epoch 18/100\n",
      "2/2 [==============================] - 0s 6ms/step - loss: 17.9004 - mae: 17.9004\n",
      "Epoch 19/100\n",
      "2/2 [==============================] - 0s 5ms/step - loss: 8.8122 - mae: 8.8122\n",
      "Epoch 20/100\n",
      "2/2 [==============================] - 0s 13ms/step - loss: 12.9419 - mae: 12.9419\n",
      "Epoch 21/100\n",
      "2/2 [==============================] - 0s 5ms/step - loss: 14.1626 - mae: 14.1626\n",
      "Epoch 22/100\n",
      "2/2 [==============================] - 0s 3ms/step - loss: 11.8677 - mae: 11.8677\n",
      "Epoch 23/100\n",
      "2/2 [==============================] - 0s 5ms/step - loss: 9.3646 - mae: 9.3646\n",
      "Epoch 24/100\n",
      "2/2 [==============================] - 0s 8ms/step - loss: 10.0293 - mae: 10.0293\n",
      "Epoch 25/100\n",
      "2/2 [==============================] - 0s 6ms/step - loss: 10.4588 - mae: 10.4588\n",
      "Epoch 26/100\n",
      "2/2 [==============================] - 0s 5ms/step - loss: 8.0829 - mae: 8.0829\n",
      "Epoch 27/100\n",
      "2/2 [==============================] - 0s 4ms/step - loss: 8.8749 - mae: 8.8749\n",
      "Epoch 28/100\n",
      "2/2 [==============================] - 0s 4ms/step - loss: 8.7989 - mae: 8.7989\n",
      "Epoch 29/100\n",
      "2/2 [==============================] - 0s 4ms/step - loss: 9.9965 - mae: 9.9965\n",
      "Epoch 30/100\n",
      "2/2 [==============================] - 0s 4ms/step - loss: 11.5421 - mae: 11.5421\n",
      "Epoch 31/100\n",
      "2/2 [==============================] - 0s 5ms/step - loss: 10.5702 - mae: 10.5702\n",
      "Epoch 32/100\n",
      "2/2 [==============================] - 0s 5ms/step - loss: 10.7016 - mae: 10.7016\n",
      "Epoch 33/100\n",
      "2/2 [==============================] - 0s 4ms/step - loss: 12.1103 - mae: 12.1103\n",
      "Epoch 34/100\n",
      "2/2 [==============================] - 0s 5ms/step - loss: 11.6484 - mae: 11.6484\n",
      "Epoch 35/100\n",
      "2/2 [==============================] - 0s 4ms/step - loss: 16.0716 - mae: 16.0716\n",
      "Epoch 36/100\n",
      "2/2 [==============================] - 0s 5ms/step - loss: 18.7062 - mae: 18.7062\n",
      "Epoch 37/100\n",
      "2/2 [==============================] - 0s 6ms/step - loss: 10.6539 - mae: 10.6539\n",
      "Epoch 38/100\n",
      "2/2 [==============================] - 0s 5ms/step - loss: 14.6144 - mae: 14.6144\n",
      "Epoch 39/100\n",
      "2/2 [==============================] - 0s 5ms/step - loss: 7.8942 - mae: 7.8942\n",
      "Epoch 40/100\n",
      "2/2 [==============================] - 0s 4ms/step - loss: 16.5804 - mae: 16.5804\n",
      "Epoch 41/100\n",
      "2/2 [==============================] - 0s 4ms/step - loss: 10.9003 - mae: 10.9003\n",
      "Epoch 42/100\n",
      "2/2 [==============================] - 0s 3ms/step - loss: 11.5017 - mae: 11.5017\n",
      "Epoch 43/100\n",
      "2/2 [==============================] - 0s 3ms/step - loss: 8.3233 - mae: 8.3233\n",
      "Epoch 44/100\n",
      "2/2 [==============================] - 0s 7ms/step - loss: 11.1041 - mae: 11.1041\n",
      "Epoch 45/100\n",
      "2/2 [==============================] - 0s 5ms/step - loss: 11.3778 - mae: 11.3778\n",
      "Epoch 46/100\n",
      "2/2 [==============================] - 0s 5ms/step - loss: 12.4734 - mae: 12.4734\n",
      "Epoch 47/100\n",
      "2/2 [==============================] - 0s 3ms/step - loss: 10.5072 - mae: 10.5072\n",
      "Epoch 48/100\n",
      "2/2 [==============================] - 0s 5ms/step - loss: 16.2115 - mae: 16.2115\n",
      "Epoch 49/100\n",
      "2/2 [==============================] - 0s 3ms/step - loss: 8.1542 - mae: 8.1542\n",
      "Epoch 50/100\n",
      "2/2 [==============================] - 0s 6ms/step - loss: 11.7282 - mae: 11.7282\n",
      "Epoch 51/100\n",
      "2/2 [==============================] - 0s 4ms/step - loss: 7.6634 - mae: 7.6634\n",
      "Epoch 52/100\n",
      "2/2 [==============================] - 0s 4ms/step - loss: 7.5771 - mae: 7.5771\n",
      "Epoch 53/100\n",
      "2/2 [==============================] - 0s 4ms/step - loss: 9.1196 - mae: 9.1196\n",
      "Epoch 54/100\n",
      "2/2 [==============================] - 0s 4ms/step - loss: 10.7926 - mae: 10.7926\n",
      "Epoch 55/100\n",
      "2/2 [==============================] - 0s 6ms/step - loss: 8.4699 - mae: 8.4699\n",
      "Epoch 56/100\n",
      "2/2 [==============================] - 0s 27ms/step - loss: 9.4808 - mae: 9.4808\n",
      "Epoch 57/100\n",
      "2/2 [==============================] - 0s 5ms/step - loss: 12.2392 - mae: 12.2392\n",
      "Epoch 58/100\n",
      "2/2 [==============================] - 0s 7ms/step - loss: 10.4358 - mae: 10.4358\n",
      "Epoch 59/100\n",
      "2/2 [==============================] - 0s 5ms/step - loss: 7.6502 - mae: 7.6502\n",
      "Epoch 60/100\n",
      "2/2 [==============================] - 0s 5ms/step - loss: 8.8393 - mae: 8.8393\n",
      "Epoch 61/100\n",
      "2/2 [==============================] - 0s 5ms/step - loss: 7.3328 - mae: 7.3328\n",
      "Epoch 62/100\n",
      "2/2 [==============================] - 0s 4ms/step - loss: 10.3991 - mae: 10.3991\n",
      "Epoch 63/100\n",
      "2/2 [==============================] - 0s 6ms/step - loss: 15.9426 - mae: 15.9426\n",
      "Epoch 64/100\n",
      "2/2 [==============================] - 0s 5ms/step - loss: 9.9419 - mae: 9.9419\n",
      "Epoch 65/100\n",
      "2/2 [==============================] - 0s 3ms/step - loss: 16.8251 - mae: 16.8251\n",
      "Epoch 66/100\n",
      "2/2 [==============================] - 0s 4ms/step - loss: 7.2611 - mae: 7.2611\n",
      "Epoch 67/100\n",
      "2/2 [==============================] - 0s 7ms/step - loss: 10.9373 - mae: 10.9373\n",
      "Epoch 68/100\n",
      "2/2 [==============================] - 0s 4ms/step - loss: 9.5113 - mae: 9.5113\n",
      "Epoch 69/100\n",
      "2/2 [==============================] - 0s 4ms/step - loss: 8.8433 - mae: 8.8433\n",
      "Epoch 70/100\n",
      "2/2 [==============================] - 0s 5ms/step - loss: 11.8221 - mae: 11.8221\n",
      "Epoch 71/100\n",
      "2/2 [==============================] - 0s 5ms/step - loss: 8.8751 - mae: 8.8751\n",
      "Epoch 72/100\n",
      "2/2 [==============================] - 0s 3ms/step - loss: 13.1543 - mae: 13.1543\n",
      "Epoch 73/100\n",
      "2/2 [==============================] - 0s 4ms/step - loss: 14.1134 - mae: 14.1134\n",
      "Epoch 74/100\n",
      "2/2 [==============================] - 0s 4ms/step - loss: 8.6612 - mae: 8.6612\n",
      "Epoch 75/100\n",
      "2/2 [==============================] - 0s 6ms/step - loss: 9.8891 - mae: 9.8891\n",
      "Epoch 76/100\n",
      "2/2 [==============================] - 0s 10ms/step - loss: 10.9041 - mae: 10.9041\n",
      "Epoch 77/100\n",
      "2/2 [==============================] - 0s 3ms/step - loss: 12.9278 - mae: 12.9278\n",
      "Epoch 78/100\n",
      "2/2 [==============================] - 0s 4ms/step - loss: 12.3559 - mae: 12.3559\n",
      "Epoch 79/100\n",
      "2/2 [==============================] - 0s 5ms/step - loss: 13.9976 - mae: 13.9976\n",
      "Epoch 80/100\n",
      "2/2 [==============================] - 0s 5ms/step - loss: 17.5005 - mae: 17.5005\n",
      "Epoch 81/100\n",
      "2/2 [==============================] - 0s 4ms/step - loss: 7.9419 - mae: 7.9419\n",
      "Epoch 82/100\n",
      "2/2 [==============================] - 0s 4ms/step - loss: 9.7601 - mae: 9.7601\n",
      "Epoch 83/100\n",
      "2/2 [==============================] - 0s 4ms/step - loss: 9.8715 - mae: 9.8715\n",
      "Epoch 84/100\n",
      "2/2 [==============================] - 0s 4ms/step - loss: 10.1040 - mae: 10.1040\n",
      "Epoch 85/100\n",
      "2/2 [==============================] - 0s 4ms/step - loss: 10.2122 - mae: 10.2122\n",
      "Epoch 86/100\n",
      "2/2 [==============================] - 0s 6ms/step - loss: 7.8063 - mae: 7.8063\n",
      "Epoch 87/100\n",
      "2/2 [==============================] - 0s 4ms/step - loss: 10.6374 - mae: 10.6374\n",
      "Epoch 88/100\n",
      "2/2 [==============================] - 0s 5ms/step - loss: 11.7629 - mae: 11.7629\n",
      "Epoch 89/100\n",
      "2/2 [==============================] - 0s 4ms/step - loss: 14.2663 - mae: 14.2663\n",
      "Epoch 90/100\n",
      "2/2 [==============================] - 0s 4ms/step - loss: 10.0970 - mae: 10.0970\n",
      "Epoch 91/100\n",
      "2/2 [==============================] - 0s 4ms/step - loss: 11.5366 - mae: 11.5366\n",
      "Epoch 92/100\n",
      "2/2 [==============================] - 0s 3ms/step - loss: 10.5811 - mae: 10.5811\n",
      "Epoch 93/100\n",
      "2/2 [==============================] - 0s 3ms/step - loss: 6.8412 - mae: 6.8412\n",
      "Epoch 94/100\n",
      "2/2 [==============================] - 0s 4ms/step - loss: 7.8498 - mae: 7.8498\n",
      "Epoch 95/100\n",
      "2/2 [==============================] - 0s 4ms/step - loss: 9.4666 - mae: 9.4666\n",
      "Epoch 96/100\n",
      "2/2 [==============================] - 0s 4ms/step - loss: 9.3002 - mae: 9.3002\n",
      "Epoch 97/100\n",
      "2/2 [==============================] - 0s 4ms/step - loss: 14.2214 - mae: 14.2214\n",
      "Epoch 98/100\n",
      "2/2 [==============================] - 0s 4ms/step - loss: 11.1102 - mae: 11.1102\n",
      "Epoch 99/100\n",
      "2/2 [==============================] - 0s 5ms/step - loss: 8.7278 - mae: 8.7278\n",
      "Epoch 100/100\n",
      "2/2 [==============================] - 0s 5ms/step - loss: 12.3917 - mae: 12.3917\n"
     ]
    },
    {
     "data": {
      "text/plain": [
       "<keras.callbacks.History at 0x11b9cb3d520>"
      ]
     },
     "execution_count": 32,
     "metadata": {},
     "output_type": "execute_result"
    }
   ],
   "source": [
    "model_1.fit(X_train, y_train, epochs=100)"
   ]
  },
  {
   "cell_type": "code",
   "execution_count": 53,
   "metadata": {},
   "outputs": [
    {
     "name": "stdout",
     "output_type": "stream",
     "text": [
      "1/1 [==============================] - 0s 40ms/step\n"
     ]
    },
    {
     "data": {
      "image/png": "[encoded data removed]",
      "text/plain": [
       "<Figure size 504x360 with 1 Axes>"
      ]
     },
     "metadata": {
      "needs_background": "light"
     },
     "output_type": "display_data"
    }
   ],
   "source": [
    "y_pred_1 = model_1.predict(X_test)\n",
    "plot_predictions(predictions=y_pred_1)"
   ]
  },
  {
   "cell_type": "code",
   "execution_count": 37,
   "metadata": {},
   "outputs": [
    {
     "data": {
      "text/plain": [
       "(<tf.Tensor: shape=(), dtype=float32, numpy=20.525019>,\n",
       " <tf.Tensor: shape=(), dtype=float32, numpy=429.40958>)"
      ]
     },
     "execution_count": 37,
     "metadata": {},
     "output_type": "execute_result"
    }
   ],
   "source": [
    "mae_1 = tf.metrics.mean_absolute_error(y_test, tf.squeeze(y_pred_1))\n",
    "mse_1 = tf.metrics.mean_squared_error(y_test, tf.squeeze(y_pred_1))\n",
    "mae_1, mse_1"
   ]
  },
  {
   "cell_type": "markdown",
   "metadata": {},
   "source": [
    "## Model 2"
   ]
  },
  {
   "cell_type": "code",
   "execution_count": 41,
   "metadata": {},
   "outputs": [],
   "source": [
    "model_2 = tf.keras.Sequential([\n",
    "    tf.keras.layers.Dense(10, input_shape=[1]),\n",
    "    tf.keras.layers.Dense(1)\n",
    "])\n",
    "\n",
    "model_2.compile(\n",
    "    loss=tf.keras.losses.mae,\n",
    "    optimizer=tf.keras.optimizers.SGD(),\n",
    "    metrics=[\"mae\"]\n",
    ")"
   ]
  },
  {
   "cell_type": "code",
   "execution_count": 42,
   "metadata": {},
   "outputs": [
    {
     "name": "stdout",
     "output_type": "stream",
     "text": [
      "Epoch 1/100\n",
      "2/2 [==============================] - 1s 6ms/step - loss: 31.4242 - mae: 31.4242\n",
      "Epoch 2/100\n",
      "2/2 [==============================] - 0s 9ms/step - loss: 39.6938 - mae: 39.6938\n",
      "Epoch 3/100\n",
      "2/2 [==============================] - 0s 11ms/step - loss: 37.6811 - mae: 37.6811\n",
      "Epoch 4/100\n",
      "2/2 [==============================] - 0s 10ms/step - loss: 7.5147 - mae: 7.5147\n",
      "Epoch 5/100\n",
      "2/2 [==============================] - 0s 9ms/step - loss: 25.5464 - mae: 25.5464\n",
      "Epoch 6/100\n",
      "2/2 [==============================] - 0s 5ms/step - loss: 7.7878 - mae: 7.7878\n",
      "Epoch 7/100\n",
      "2/2 [==============================] - 0s 4ms/step - loss: 17.1944 - mae: 17.1944\n",
      "Epoch 8/100\n",
      "2/2 [==============================] - 0s 6ms/step - loss: 21.0044 - mae: 21.0044\n",
      "Epoch 9/100\n",
      "2/2 [==============================] - 0s 6ms/step - loss: 13.2194 - mae: 13.2194\n",
      "Epoch 10/100\n",
      "2/2 [==============================] - 0s 7ms/step - loss: 18.3835 - mae: 18.3835\n",
      "Epoch 11/100\n",
      "2/2 [==============================] - 0s 3ms/step - loss: 12.6187 - mae: 12.6187\n",
      "Epoch 12/100\n",
      "2/2 [==============================] - 0s 5ms/step - loss: 27.1841 - mae: 27.1841\n",
      "Epoch 13/100\n",
      "2/2 [==============================] - 0s 4ms/step - loss: 12.8586 - mae: 12.8586\n",
      "Epoch 14/100\n",
      "2/2 [==============================] - 0s 6ms/step - loss: 16.7673 - mae: 16.7673\n",
      "Epoch 15/100\n",
      "2/2 [==============================] - 0s 11ms/step - loss: 9.1052 - mae: 9.1052\n",
      "Epoch 16/100\n",
      "2/2 [==============================] - 0s 7ms/step - loss: 10.2244 - mae: 10.2244\n",
      "Epoch 17/100\n",
      "2/2 [==============================] - 0s 6ms/step - loss: 17.6968 - mae: 17.6968\n",
      "Epoch 18/100\n",
      "2/2 [==============================] - 0s 4ms/step - loss: 15.8582 - mae: 15.8582\n",
      "Epoch 19/100\n",
      "2/2 [==============================] - 0s 4ms/step - loss: 15.4553 - mae: 15.4553\n",
      "Epoch 20/100\n",
      "2/2 [==============================] - 0s 7ms/step - loss: 11.1439 - mae: 11.1439\n",
      "Epoch 21/100\n",
      "2/2 [==============================] - 0s 5ms/step - loss: 23.9177 - mae: 23.9177\n",
      "Epoch 22/100\n",
      "2/2 [==============================] - 0s 5ms/step - loss: 24.4507 - mae: 24.4507\n",
      "Epoch 23/100\n",
      "2/2 [==============================] - 0s 7ms/step - loss: 9.1859 - mae: 9.1859\n",
      "Epoch 24/100\n",
      "2/2 [==============================] - 0s 6ms/step - loss: 12.2044 - mae: 12.2044\n",
      "Epoch 25/100\n",
      "2/2 [==============================] - 0s 6ms/step - loss: 14.2433 - mae: 14.2433\n",
      "Epoch 26/100\n",
      "2/2 [==============================] - 0s 8ms/step - loss: 21.6349 - mae: 21.6349\n",
      "Epoch 27/100\n",
      "2/2 [==============================] - 0s 4ms/step - loss: 15.4203 - mae: 15.4203\n",
      "Epoch 28/100\n",
      "2/2 [==============================] - 0s 3ms/step - loss: 8.6135 - mae: 8.6135\n",
      "Epoch 29/100\n",
      "2/2 [==============================] - 0s 4ms/step - loss: 21.0942 - mae: 21.0942\n",
      "Epoch 30/100\n",
      "2/2 [==============================] - 0s 9ms/step - loss: 12.7876 - mae: 12.7876\n",
      "Epoch 31/100\n",
      "2/2 [==============================] - 0s 7ms/step - loss: 33.8089 - mae: 33.8089\n",
      "Epoch 32/100\n",
      "2/2 [==============================] - 0s 5ms/step - loss: 9.0363 - mae: 9.0363\n",
      "Epoch 33/100\n",
      "2/2 [==============================] - 0s 6ms/step - loss: 13.2710 - mae: 13.2710\n",
      "Epoch 34/100\n",
      "2/2 [==============================] - 0s 5ms/step - loss: 11.4167 - mae: 11.4167\n",
      "Epoch 35/100\n",
      "2/2 [==============================] - 0s 4ms/step - loss: 13.6202 - mae: 13.6202\n",
      "Epoch 36/100\n",
      "2/2 [==============================] - 0s 4ms/step - loss: 10.7653 - mae: 10.7653\n",
      "Epoch 37/100\n",
      "2/2 [==============================] - 0s 6ms/step - loss: 12.5583 - mae: 12.5583\n",
      "Epoch 38/100\n",
      "2/2 [==============================] - 0s 6ms/step - loss: 22.1644 - mae: 22.1644\n",
      "Epoch 39/100\n",
      "2/2 [==============================] - 0s 4ms/step - loss: 21.2940 - mae: 21.2940\n",
      "Epoch 40/100\n",
      "2/2 [==============================] - 0s 5ms/step - loss: 7.1522 - mae: 7.1522\n",
      "Epoch 41/100\n",
      "2/2 [==============================] - 0s 5ms/step - loss: 14.3883 - mae: 14.3883\n",
      "Epoch 42/100\n",
      "2/2 [==============================] - 0s 5ms/step - loss: 20.1261 - mae: 20.1261\n",
      "Epoch 43/100\n",
      "2/2 [==============================] - 0s 8ms/step - loss: 9.4797 - mae: 9.4797\n",
      "Epoch 44/100\n",
      "2/2 [==============================] - 0s 7ms/step - loss: 11.5568 - mae: 11.5568\n",
      "Epoch 45/100\n",
      "2/2 [==============================] - 0s 8ms/step - loss: 15.1842 - mae: 15.1842\n",
      "Epoch 46/100\n",
      "2/2 [==============================] - 0s 7ms/step - loss: 15.0407 - mae: 15.0407\n",
      "Epoch 47/100\n",
      "2/2 [==============================] - 0s 10ms/step - loss: 15.9275 - mae: 15.9275\n",
      "Epoch 48/100\n",
      "2/2 [==============================] - 0s 7ms/step - loss: 9.4671 - mae: 9.4671\n",
      "Epoch 49/100\n",
      "2/2 [==============================] - 0s 7ms/step - loss: 28.8643 - mae: 28.8643\n",
      "Epoch 50/100\n",
      "2/2 [==============================] - 0s 5ms/step - loss: 21.0005 - mae: 21.0005\n",
      "Epoch 51/100\n",
      "2/2 [==============================] - 0s 4ms/step - loss: 13.8395 - mae: 13.8395\n",
      "Epoch 52/100\n",
      "2/2 [==============================] - 0s 5ms/step - loss: 16.2553 - mae: 16.2553\n",
      "Epoch 53/100\n",
      "2/2 [==============================] - 0s 4ms/step - loss: 17.5250 - mae: 17.5250\n",
      "Epoch 54/100\n",
      "2/2 [==============================] - 0s 6ms/step - loss: 11.7121 - mae: 11.7121\n",
      "Epoch 55/100\n",
      "2/2 [==============================] - 0s 5ms/step - loss: 12.0014 - mae: 12.0014\n",
      "Epoch 56/100\n",
      "2/2 [==============================] - 0s 5ms/step - loss: 11.8164 - mae: 11.8164\n",
      "Epoch 57/100\n",
      "2/2 [==============================] - 0s 5ms/step - loss: 32.6238 - mae: 32.6238\n",
      "Epoch 58/100\n",
      "2/2 [==============================] - 0s 5ms/step - loss: 10.1439 - mae: 10.1439\n",
      "Epoch 59/100\n",
      "2/2 [==============================] - 0s 5ms/step - loss: 30.2033 - mae: 30.2033\n",
      "Epoch 60/100\n",
      "2/2 [==============================] - 0s 4ms/step - loss: 8.7528 - mae: 8.7528\n",
      "Epoch 61/100\n",
      "2/2 [==============================] - 0s 4ms/step - loss: 24.9163 - mae: 24.9163\n",
      "Epoch 62/100\n",
      "2/2 [==============================] - 0s 5ms/step - loss: 10.2394 - mae: 10.2394\n",
      "Epoch 63/100\n",
      "2/2 [==============================] - 0s 5ms/step - loss: 25.4751 - mae: 25.4751\n",
      "Epoch 64/100\n",
      "2/2 [==============================] - 0s 6ms/step - loss: 9.7128 - mae: 9.7128\n",
      "Epoch 65/100\n",
      "2/2 [==============================] - 0s 6ms/step - loss: 19.1845 - mae: 19.1845\n",
      "Epoch 66/100\n",
      "2/2 [==============================] - 0s 8ms/step - loss: 10.4866 - mae: 10.4866\n",
      "Epoch 67/100\n",
      "2/2 [==============================] - 0s 7ms/step - loss: 20.3832 - mae: 20.3832\n",
      "Epoch 68/100\n",
      "2/2 [==============================] - 0s 5ms/step - loss: 11.7011 - mae: 11.7011\n",
      "Epoch 69/100\n",
      "2/2 [==============================] - 0s 5ms/step - loss: 16.9231 - mae: 16.9231\n",
      "Epoch 70/100\n",
      "2/2 [==============================] - 0s 4ms/step - loss: 10.8526 - mae: 10.8526\n",
      "Epoch 71/100\n",
      "2/2 [==============================] - 0s 4ms/step - loss: 19.2397 - mae: 19.2397\n",
      "Epoch 72/100\n",
      "2/2 [==============================] - 0s 5ms/step - loss: 18.7083 - mae: 18.7083\n",
      "Epoch 73/100\n",
      "2/2 [==============================] - 0s 4ms/step - loss: 10.8672 - mae: 10.8672\n",
      "Epoch 74/100\n",
      "2/2 [==============================] - 0s 5ms/step - loss: 15.2882 - mae: 15.2882\n",
      "Epoch 75/100\n",
      "2/2 [==============================] - 0s 4ms/step - loss: 9.5901 - mae: 9.5901\n",
      "Epoch 76/100\n",
      "2/2 [==============================] - 0s 5ms/step - loss: 31.6284 - mae: 31.6284\n",
      "Epoch 77/100\n",
      "2/2 [==============================] - 0s 6ms/step - loss: 9.7801 - mae: 9.7801\n",
      "Epoch 78/100\n",
      "2/2 [==============================] - 0s 5ms/step - loss: 10.4525 - mae: 10.4525\n",
      "Epoch 79/100\n",
      "2/2 [==============================] - 0s 6ms/step - loss: 13.4965 - mae: 13.4965\n",
      "Epoch 80/100\n",
      "2/2 [==============================] - 0s 5ms/step - loss: 31.6343 - mae: 31.6343\n",
      "Epoch 81/100\n",
      "2/2 [==============================] - 0s 5ms/step - loss: 9.0528 - mae: 9.0528\n",
      "Epoch 82/100\n",
      "2/2 [==============================] - 0s 6ms/step - loss: 15.5895 - mae: 15.5895\n",
      "Epoch 83/100\n",
      "2/2 [==============================] - 0s 8ms/step - loss: 15.3933 - mae: 15.3933\n",
      "Epoch 84/100\n",
      "2/2 [==============================] - 0s 4ms/step - loss: 16.2599 - mae: 16.2599\n",
      "Epoch 85/100\n",
      "2/2 [==============================] - 0s 6ms/step - loss: 11.5192 - mae: 11.5192\n",
      "Epoch 86/100\n",
      "2/2 [==============================] - 0s 7ms/step - loss: 12.2542 - mae: 12.2542\n",
      "Epoch 87/100\n",
      "2/2 [==============================] - 0s 9ms/step - loss: 23.4967 - mae: 23.4967\n",
      "Epoch 88/100\n",
      "2/2 [==============================] - 0s 8ms/step - loss: 19.8060 - mae: 19.8060\n",
      "Epoch 89/100\n",
      "2/2 [==============================] - 0s 5ms/step - loss: 9.6989 - mae: 9.6989\n",
      "Epoch 90/100\n",
      "2/2 [==============================] - 0s 6ms/step - loss: 16.4027 - mae: 16.4027\n",
      "Epoch 91/100\n",
      "2/2 [==============================] - 0s 8ms/step - loss: 26.2715 - mae: 26.2715\n",
      "Epoch 92/100\n",
      "2/2 [==============================] - 0s 10ms/step - loss: 12.2227 - mae: 12.2227\n",
      "Epoch 93/100\n",
      "2/2 [==============================] - 0s 8ms/step - loss: 10.0948 - mae: 10.0948\n",
      "Epoch 94/100\n",
      "2/2 [==============================] - 0s 7ms/step - loss: 12.6127 - mae: 12.6127\n",
      "Epoch 95/100\n",
      "2/2 [==============================] - 0s 8ms/step - loss: 19.9083 - mae: 19.9083\n",
      "Epoch 96/100\n",
      "2/2 [==============================] - 0s 8ms/step - loss: 8.8507 - mae: 8.8507\n",
      "Epoch 97/100\n",
      "2/2 [==============================] - 0s 5ms/step - loss: 11.6395 - mae: 11.6395\n",
      "Epoch 98/100\n",
      "2/2 [==============================] - 0s 7ms/step - loss: 21.5666 - mae: 21.5666\n",
      "Epoch 99/100\n",
      "2/2 [==============================] - 0s 4ms/step - loss: 8.6994 - mae: 8.6994\n",
      "Epoch 100/100\n",
      "2/2 [==============================] - 0s 5ms/step - loss: 23.0246 - mae: 23.0246\n"
     ]
    },
    {
     "data": {
      "text/plain": [
       "<keras.callbacks.History at 0x11b9dcb26a0>"
      ]
     },
     "execution_count": 42,
     "metadata": {},
     "output_type": "execute_result"
    }
   ],
   "source": [
    "model_2.fit(X_train, y_train, epochs=100)"
   ]
  },
  {
   "cell_type": "code",
   "execution_count": 52,
   "metadata": {},
   "outputs": [
    {
     "name": "stdout",
     "output_type": "stream",
     "text": [
      "1/1 [==============================] - 0s 44ms/step\n"
     ]
    },
    {
     "data": {
      "image/png": "[encoded data removed]",
      "text/plain": [
       "<Figure size 504x360 with 1 Axes>"
      ]
     },
     "metadata": {
      "needs_background": "light"
     },
     "output_type": "display_data"
    }
   ],
   "source": [
    "y_pred_2 = model_2.predict(X_test)\n",
    "plot_predictions(predictions=y_pred_2)"
   ]
  },
  {
   "cell_type": "code",
   "execution_count": 45,
   "metadata": {},
   "outputs": [
    {
     "data": {
      "text/plain": [
       "(<tf.Tensor: shape=(), dtype=float32, numpy=49.060436>,\n",
       " <tf.Tensor: shape=(), dtype=float32, numpy=2444.9783>)"
      ]
     },
     "execution_count": 45,
     "metadata": {},
     "output_type": "execute_result"
    }
   ],
   "source": [
    "mae_2 = tf.metrics.mean_absolute_error(y_test, tf.squeeze(y_pred_2))\n",
    "mse_2 = tf.metrics.mean_squared_error(y_test, tf.squeeze(y_pred_2))\n",
    "mae_2, mse_2"
   ]
  },
  {
   "cell_type": "markdown",
   "metadata": {},
   "source": [
    "## Model 3"
   ]
  },
  {
   "cell_type": "code",
   "execution_count": 47,
   "metadata": {},
   "outputs": [],
   "source": [
    "model_3 = tf.keras.Sequential([\n",
    "    tf.keras.layers.Dense(10, input_shape=[1]),\n",
    "    tf.keras.layers.Dense(1)\n",
    "])\n",
    "\n",
    "model_3.compile(\n",
    "    loss=tf.keras.losses.mae,\n",
    "    optimizer=tf.keras.optimizers.SGD(),\n",
    "    metrics=[\"mae\"]\n",
    ")"
   ]
  },
  {
   "cell_type": "code",
   "execution_count": 48,
   "metadata": {},
   "outputs": [
    {
     "name": "stdout",
     "output_type": "stream",
     "text": [
      "Epoch 1/200\n",
      "2/2 [==============================] - 1s 8ms/step - loss: 44.4494 - mae: 44.4494\n",
      "Epoch 2/200\n",
      "2/2 [==============================] - 0s 3ms/step - loss: 28.8691 - mae: 28.8691\n",
      "Epoch 3/200\n",
      "2/2 [==============================] - 0s 11ms/step - loss: 27.0987 - mae: 27.0987\n",
      "Epoch 4/200\n",
      "2/2 [==============================] - 0s 5ms/step - loss: 32.7561 - mae: 32.7561\n",
      "Epoch 5/200\n",
      "2/2 [==============================] - 0s 4ms/step - loss: 19.4432 - mae: 19.4432\n",
      "Epoch 6/200\n",
      "2/2 [==============================] - 0s 9ms/step - loss: 20.1013 - mae: 20.1013\n",
      "Epoch 7/200\n",
      "2/2 [==============================] - 0s 6ms/step - loss: 11.9933 - mae: 11.9933\n",
      "Epoch 8/200\n",
      "2/2 [==============================] - 0s 5ms/step - loss: 14.7675 - mae: 14.7675\n",
      "Epoch 9/200\n",
      "2/2 [==============================] - 0s 5ms/step - loss: 7.6429 - mae: 7.6429\n",
      "Epoch 10/200\n",
      "2/2 [==============================] - 0s 8ms/step - loss: 17.3615 - mae: 17.3615\n",
      "Epoch 11/200\n",
      "2/2 [==============================] - 0s 8ms/step - loss: 9.2107 - mae: 9.2107\n",
      "Epoch 12/200\n",
      "2/2 [==============================] - 0s 8ms/step - loss: 21.2899 - mae: 21.2899\n",
      "Epoch 13/200\n",
      "2/2 [==============================] - 0s 8ms/step - loss: 19.1974 - mae: 19.1974\n",
      "Epoch 14/200\n",
      "2/2 [==============================] - 0s 8ms/step - loss: 8.5612 - mae: 8.5612\n",
      "Epoch 15/200\n",
      "2/2 [==============================] - 0s 8ms/step - loss: 15.7645 - mae: 15.7645\n",
      "Epoch 16/200\n",
      "2/2 [==============================] - 0s 10ms/step - loss: 12.7973 - mae: 12.7973\n",
      "Epoch 17/200\n",
      "2/2 [==============================] - 0s 9ms/step - loss: 14.4450 - mae: 14.4450\n",
      "Epoch 18/200\n",
      "2/2 [==============================] - 0s 7ms/step - loss: 13.3692 - mae: 13.3692\n",
      "Epoch 19/200\n",
      "2/2 [==============================] - 0s 6ms/step - loss: 17.9191 - mae: 17.9191\n",
      "Epoch 20/200\n",
      "2/2 [==============================] - 0s 6ms/step - loss: 7.7488 - mae: 7.7488\n",
      "Epoch 21/200\n",
      "2/2 [==============================] - 0s 7ms/step - loss: 11.8256 - mae: 11.8256\n",
      "Epoch 22/200\n",
      "2/2 [==============================] - 0s 9ms/step - loss: 17.7796 - mae: 17.7796\n",
      "Epoch 23/200\n",
      "2/2 [==============================] - 0s 8ms/step - loss: 12.5129 - mae: 12.5129\n",
      "Epoch 24/200\n",
      "2/2 [==============================] - 0s 7ms/step - loss: 18.3343 - mae: 18.3343\n",
      "Epoch 25/200\n",
      "2/2 [==============================] - 0s 7ms/step - loss: 25.2087 - mae: 25.2087\n",
      "Epoch 26/200\n",
      "2/2 [==============================] - 0s 5ms/step - loss: 10.5139 - mae: 10.5139\n",
      "Epoch 27/200\n",
      "2/2 [==============================] - 0s 8ms/step - loss: 10.1741 - mae: 10.1741\n",
      "Epoch 28/200\n",
      "2/2 [==============================] - 0s 7ms/step - loss: 21.6493 - mae: 21.6493\n",
      "Epoch 29/200\n",
      "2/2 [==============================] - 0s 4ms/step - loss: 7.8553 - mae: 7.8553\n",
      "Epoch 30/200\n",
      "2/2 [==============================] - 0s 2ms/step - loss: 10.8476 - mae: 10.8476\n",
      "Epoch 31/200\n",
      "2/2 [==============================] - 0s 4ms/step - loss: 13.0116 - mae: 13.0116\n",
      "Epoch 32/200\n",
      "2/2 [==============================] - 0s 5ms/step - loss: 13.7565 - mae: 13.7565\n",
      "Epoch 33/200\n",
      "2/2 [==============================] - 0s 8ms/step - loss: 13.3780 - mae: 13.3780\n",
      "Epoch 34/200\n",
      "2/2 [==============================] - 0s 7ms/step - loss: 16.2048 - mae: 16.2048\n",
      "Epoch 35/200\n",
      "2/2 [==============================] - 0s 3ms/step - loss: 18.8996 - mae: 18.8996\n",
      "Epoch 36/200\n",
      "2/2 [==============================] - 0s 8ms/step - loss: 9.0549 - mae: 9.0549\n",
      "Epoch 37/200\n",
      "2/2 [==============================] - 0s 2ms/step - loss: 15.8783 - mae: 15.8783\n",
      "Epoch 38/200\n",
      "2/2 [==============================] - 0s 8ms/step - loss: 23.4484 - mae: 23.4484\n",
      "Epoch 39/200\n",
      "2/2 [==============================] - 0s 6ms/step - loss: 15.5531 - mae: 15.5531\n",
      "Epoch 40/200\n",
      "2/2 [==============================] - 0s 11ms/step - loss: 11.6677 - mae: 11.6677\n",
      "Epoch 41/200\n",
      "2/2 [==============================] - 0s 0s/step - loss: 9.1704 - mae: 9.1704\n",
      "Epoch 42/200\n",
      "2/2 [==============================] - 0s 7ms/step - loss: 22.6987 - mae: 22.6987\n",
      "Epoch 43/200\n",
      "2/2 [==============================] - 0s 5ms/step - loss: 20.2889 - mae: 20.2889\n",
      "Epoch 44/200\n",
      "2/2 [==============================] - 0s 4ms/step - loss: 17.1157 - mae: 17.1157\n",
      "Epoch 45/200\n",
      "2/2 [==============================] - 0s 4ms/step - loss: 9.2519 - mae: 9.2519\n",
      "Epoch 46/200\n",
      "2/2 [==============================] - 0s 2ms/step - loss: 16.8184 - mae: 16.8184\n",
      "Epoch 47/200\n",
      "2/2 [==============================] - 0s 7ms/step - loss: 9.9078 - mae: 9.9078\n",
      "Epoch 48/200\n",
      "2/2 [==============================] - 0s 7ms/step - loss: 9.3852 - mae: 9.3852\n",
      "Epoch 49/200\n",
      "2/2 [==============================] - 0s 7ms/step - loss: 14.8678 - mae: 14.8678\n",
      "Epoch 50/200\n",
      "2/2 [==============================] - 0s 3ms/step - loss: 11.0146 - mae: 11.0146\n",
      "Epoch 51/200\n",
      "2/2 [==============================] - 0s 6ms/step - loss: 18.3928 - mae: 18.3928\n",
      "Epoch 52/200\n",
      "2/2 [==============================] - 0s 5ms/step - loss: 12.2875 - mae: 12.2875\n",
      "Epoch 53/200\n",
      "2/2 [==============================] - 0s 8ms/step - loss: 23.3946 - mae: 23.3946\n",
      "Epoch 54/200\n",
      "2/2 [==============================] - 0s 0s/step - loss: 9.9514 - mae: 9.9514\n",
      "Epoch 55/200\n",
      "2/2 [==============================] - 0s 4ms/step - loss: 16.7335 - mae: 16.7335\n",
      "Epoch 56/200\n",
      "2/2 [==============================] - 0s 6ms/step - loss: 7.7315 - mae: 7.7315\n",
      "Epoch 57/200\n",
      "2/2 [==============================] - 0s 0s/step - loss: 19.5429 - mae: 19.5429\n",
      "Epoch 58/200\n",
      "2/2 [==============================] - 0s 8ms/step - loss: 10.1655 - mae: 10.1655\n",
      "Epoch 59/200\n",
      "2/2 [==============================] - 0s 4ms/step - loss: 18.8073 - mae: 18.8073\n",
      "Epoch 60/200\n",
      "2/2 [==============================] - 0s 5ms/step - loss: 8.7022 - mae: 8.7022\n",
      "Epoch 61/200\n",
      "2/2 [==============================] - 0s 4ms/step - loss: 19.0145 - mae: 19.0145\n",
      "Epoch 62/200\n",
      "2/2 [==============================] - 0s 0s/step - loss: 17.8560 - mae: 17.8560\n",
      "Epoch 63/200\n",
      "2/2 [==============================] - 0s 4ms/step - loss: 13.5005 - mae: 13.5005\n",
      "Epoch 64/200\n",
      "2/2 [==============================] - 0s 0s/step - loss: 17.9757 - mae: 17.9757\n",
      "Epoch 65/200\n",
      "2/2 [==============================] - 0s 5ms/step - loss: 11.1756 - mae: 11.1756\n",
      "Epoch 66/200\n",
      "2/2 [==============================] - 0s 5ms/step - loss: 17.1762 - mae: 17.1762\n",
      "Epoch 67/200\n",
      "2/2 [==============================] - 0s 4ms/step - loss: 15.0534 - mae: 15.0534\n",
      "Epoch 68/200\n",
      "2/2 [==============================] - 0s 7ms/step - loss: 21.0662 - mae: 21.0662\n",
      "Epoch 69/200\n",
      "2/2 [==============================] - 0s 0s/step - loss: 24.9258 - mae: 24.9258\n",
      "Epoch 70/200\n",
      "2/2 [==============================] - 0s 2ms/step - loss: 20.8083 - mae: 20.8083\n",
      "Epoch 71/200\n",
      "2/2 [==============================] - 0s 0s/step - loss: 9.4454 - mae: 9.4454\n",
      "Epoch 72/200\n",
      "2/2 [==============================] - 0s 5ms/step - loss: 22.8636 - mae: 22.8636\n",
      "Epoch 73/200\n",
      "2/2 [==============================] - 0s 8ms/step - loss: 11.1406 - mae: 11.1406\n",
      "Epoch 74/200\n",
      "2/2 [==============================] - 0s 2ms/step - loss: 23.2987 - mae: 23.2987\n",
      "Epoch 75/200\n",
      "2/2 [==============================] - 0s 5ms/step - loss: 7.9886 - mae: 7.9886\n",
      "Epoch 76/200\n",
      "2/2 [==============================] - 0s 4ms/step - loss: 15.9166 - mae: 15.9166\n",
      "Epoch 77/200\n",
      "2/2 [==============================] - 0s 5ms/step - loss: 9.0814 - mae: 9.0814\n",
      "Epoch 78/200\n",
      "2/2 [==============================] - 0s 7ms/step - loss: 18.4077 - mae: 18.4077\n",
      "Epoch 79/200\n",
      "2/2 [==============================] - 0s 6ms/step - loss: 13.4190 - mae: 13.4190\n",
      "Epoch 80/200\n",
      "2/2 [==============================] - 0s 6ms/step - loss: 32.4468 - mae: 32.4468\n",
      "Epoch 81/200\n",
      "2/2 [==============================] - 0s 5ms/step - loss: 14.4539 - mae: 14.4539\n",
      "Epoch 82/200\n",
      "2/2 [==============================] - 0s 0s/step - loss: 21.8380 - mae: 21.8380\n",
      "Epoch 83/200\n",
      "2/2 [==============================] - 0s 0s/step - loss: 21.5709 - mae: 21.5709\n",
      "Epoch 84/200\n",
      "2/2 [==============================] - 0s 4ms/step - loss: 25.9832 - mae: 25.9832\n",
      "Epoch 85/200\n",
      "2/2 [==============================] - 0s 7ms/step - loss: 11.4446 - mae: 11.4446\n",
      "Epoch 86/200\n",
      "2/2 [==============================] - 0s 10ms/step - loss: 25.6239 - mae: 25.6239\n",
      "Epoch 87/200\n",
      "2/2 [==============================] - 0s 5ms/step - loss: 10.7256 - mae: 10.7256\n",
      "Epoch 88/200\n",
      "2/2 [==============================] - 0s 0s/step - loss: 12.2332 - mae: 12.2332\n",
      "Epoch 89/200\n",
      "2/2 [==============================] - 0s 0s/step - loss: 10.8141 - mae: 10.8141\n",
      "Epoch 90/200\n",
      "2/2 [==============================] - 0s 0s/step - loss: 9.3313 - mae: 9.3313\n",
      "Epoch 91/200\n",
      "2/2 [==============================] - 0s 6ms/step - loss: 9.3321 - mae: 9.3321\n",
      "Epoch 92/200\n",
      "2/2 [==============================] - 0s 7ms/step - loss: 12.4447 - mae: 12.4447\n",
      "Epoch 93/200\n",
      "2/2 [==============================] - 0s 2ms/step - loss: 6.2584 - mae: 6.2584\n",
      "Epoch 94/200\n",
      "2/2 [==============================] - 0s 5ms/step - loss: 12.2508 - mae: 12.2508\n",
      "Epoch 95/200\n",
      "2/2 [==============================] - 0s 0s/step - loss: 9.9370 - mae: 9.9370\n",
      "Epoch 96/200\n",
      "2/2 [==============================] - 0s 8ms/step - loss: 11.1040 - mae: 11.1040\n",
      "Epoch 97/200\n",
      "2/2 [==============================] - 0s 0s/step - loss: 9.9353 - mae: 9.9353\n",
      "Epoch 98/200\n",
      "2/2 [==============================] - 0s 7ms/step - loss: 11.5185 - mae: 11.5185\n",
      "Epoch 99/200\n",
      "2/2 [==============================] - 0s 6ms/step - loss: 22.2004 - mae: 22.2004\n",
      "Epoch 100/200\n",
      "2/2 [==============================] - 0s 10ms/step - loss: 10.9546 - mae: 10.9546\n",
      "Epoch 101/200\n",
      "2/2 [==============================] - 0s 0s/step - loss: 12.2890 - mae: 12.2890\n",
      "Epoch 102/200\n",
      "2/2 [==============================] - 0s 5ms/step - loss: 12.0226 - mae: 12.0226\n",
      "Epoch 103/200\n",
      "2/2 [==============================] - 0s 2ms/step - loss: 10.2652 - mae: 10.2652\n",
      "Epoch 104/200\n",
      "2/2 [==============================] - 0s 0s/step - loss: 22.9411 - mae: 22.9411\n",
      "Epoch 105/200\n",
      "2/2 [==============================] - 0s 5ms/step - loss: 20.7373 - mae: 20.7373\n",
      "Epoch 106/200\n",
      "2/2 [==============================] - 0s 0s/step - loss: 9.4181 - mae: 9.4181\n",
      "Epoch 107/200\n",
      "2/2 [==============================] - 0s 9ms/step - loss: 19.8131 - mae: 19.8131\n",
      "Epoch 108/200\n",
      "2/2 [==============================] - 0s 4ms/step - loss: 19.4564 - mae: 19.4564\n",
      "Epoch 109/200\n",
      "2/2 [==============================] - 0s 9ms/step - loss: 10.1130 - mae: 10.1130\n",
      "Epoch 110/200\n",
      "2/2 [==============================] - 0s 2ms/step - loss: 25.0596 - mae: 25.0596\n",
      "Epoch 111/200\n",
      "2/2 [==============================] - 0s 4ms/step - loss: 24.5977 - mae: 24.5977\n",
      "Epoch 112/200\n",
      "2/2 [==============================] - 0s 0s/step - loss: 9.7870 - mae: 9.7870\n",
      "Epoch 113/200\n",
      "2/2 [==============================] - 0s 0s/step - loss: 12.5278 - mae: 12.5278\n",
      "Epoch 114/200\n",
      "2/2 [==============================] - 0s 9ms/step - loss: 15.8425 - mae: 15.8425\n",
      "Epoch 115/200\n",
      "2/2 [==============================] - 0s 5ms/step - loss: 13.4118 - mae: 13.4118\n",
      "Epoch 116/200\n",
      "2/2 [==============================] - 0s 6ms/step - loss: 12.2761 - mae: 12.2761\n",
      "Epoch 117/200\n",
      "2/2 [==============================] - 0s 11ms/step - loss: 8.3588 - mae: 8.3588\n",
      "Epoch 118/200\n",
      "2/2 [==============================] - 0s 16ms/step - loss: 14.4685 - mae: 14.4685\n",
      "Epoch 119/200\n",
      "2/2 [==============================] - 0s 7ms/step - loss: 9.0360 - mae: 9.0360\n",
      "Epoch 120/200\n",
      "2/2 [==============================] - 0s 7ms/step - loss: 7.7421 - mae: 7.7421\n",
      "Epoch 121/200\n",
      "2/2 [==============================] - 0s 0s/step - loss: 17.9561 - mae: 17.9561\n",
      "Epoch 122/200\n",
      "2/2 [==============================] - 0s 8ms/step - loss: 24.2450 - mae: 24.2450\n",
      "Epoch 123/200\n",
      "2/2 [==============================] - 0s 4ms/step - loss: 11.3587 - mae: 11.3587\n",
      "Epoch 124/200\n",
      "2/2 [==============================] - 0s 6ms/step - loss: 13.3045 - mae: 13.3045\n",
      "Epoch 125/200\n",
      "2/2 [==============================] - 0s 8ms/step - loss: 9.0426 - mae: 9.0426\n",
      "Epoch 126/200\n",
      "2/2 [==============================] - 0s 16ms/step - loss: 8.1170 - mae: 8.1170\n",
      "Epoch 127/200\n",
      "2/2 [==============================] - 0s 7ms/step - loss: 22.4630 - mae: 22.4630\n",
      "Epoch 128/200\n",
      "2/2 [==============================] - 0s 2ms/step - loss: 25.0901 - mae: 25.0901\n",
      "Epoch 129/200\n",
      "2/2 [==============================] - 0s 9ms/step - loss: 8.7155 - mae: 8.7155\n",
      "Epoch 130/200\n",
      "2/2 [==============================] - 0s 13ms/step - loss: 23.2095 - mae: 23.2095\n",
      "Epoch 131/200\n",
      "2/2 [==============================] - 0s 8ms/step - loss: 20.1598 - mae: 20.1598\n",
      "Epoch 132/200\n",
      "2/2 [==============================] - 0s 4ms/step - loss: 11.2449 - mae: 11.2449\n",
      "Epoch 133/200\n",
      "2/2 [==============================] - 0s 9ms/step - loss: 9.5228 - mae: 9.5228\n",
      "Epoch 134/200\n",
      "2/2 [==============================] - 0s 8ms/step - loss: 13.0032 - mae: 13.0032\n",
      "Epoch 135/200\n",
      "2/2 [==============================] - 0s 8ms/step - loss: 6.5244 - mae: 6.5244\n",
      "Epoch 136/200\n",
      "2/2 [==============================] - 0s 7ms/step - loss: 15.2606 - mae: 15.2606\n",
      "Epoch 137/200\n",
      "2/2 [==============================] - 0s 4ms/step - loss: 7.3609 - mae: 7.3609\n",
      "Epoch 138/200\n",
      "2/2 [==============================] - 0s 8ms/step - loss: 17.7568 - mae: 17.7568\n",
      "Epoch 139/200\n",
      "2/2 [==============================] - 0s 7ms/step - loss: 20.0062 - mae: 20.0062\n",
      "Epoch 140/200\n",
      "2/2 [==============================] - 0s 13ms/step - loss: 26.8271 - mae: 26.8271\n",
      "Epoch 141/200\n",
      "2/2 [==============================] - 0s 8ms/step - loss: 14.2983 - mae: 14.2983\n",
      "Epoch 142/200\n",
      "2/2 [==============================] - 0s 5ms/step - loss: 26.5129 - mae: 26.5129\n",
      "Epoch 143/200\n",
      "2/2 [==============================] - 0s 4ms/step - loss: 10.1306 - mae: 10.1306\n",
      "Epoch 144/200\n",
      "2/2 [==============================] - 0s 7ms/step - loss: 18.1487 - mae: 18.1487\n",
      "Epoch 145/200\n",
      "2/2 [==============================] - 0s 25ms/step - loss: 7.9382 - mae: 7.9382\n",
      "Epoch 146/200\n",
      "2/2 [==============================] - 0s 8ms/step - loss: 16.9768 - mae: 16.9768\n",
      "Epoch 147/200\n",
      "2/2 [==============================] - 0s 5ms/step - loss: 11.2341 - mae: 11.2341\n",
      "Epoch 148/200\n",
      "2/2 [==============================] - 0s 0s/step - loss: 14.2273 - mae: 14.2273\n",
      "Epoch 149/200\n",
      "2/2 [==============================] - 0s 3ms/step - loss: 8.3644 - mae: 8.3644\n",
      "Epoch 150/200\n",
      "2/2 [==============================] - 0s 5ms/step - loss: 10.6817 - mae: 10.6817\n",
      "Epoch 151/200\n",
      "2/2 [==============================] - 0s 7ms/step - loss: 25.7656 - mae: 25.7656\n",
      "Epoch 152/200\n",
      "2/2 [==============================] - 0s 4ms/step - loss: 9.2401 - mae: 9.2401\n",
      "Epoch 153/200\n",
      "2/2 [==============================] - 0s 7ms/step - loss: 28.3712 - mae: 28.3712\n",
      "Epoch 154/200\n",
      "2/2 [==============================] - 0s 8ms/step - loss: 10.9813 - mae: 10.9813\n",
      "Epoch 155/200\n",
      "2/2 [==============================] - 0s 0s/step - loss: 9.7188 - mae: 9.7188\n",
      "Epoch 156/200\n",
      "2/2 [==============================] - 0s 2ms/step - loss: 15.7851 - mae: 15.7851\n",
      "Epoch 157/200\n",
      "2/2 [==============================] - 0s 0s/step - loss: 9.6573 - mae: 9.6573\n",
      "Epoch 158/200\n",
      "2/2 [==============================] - 0s 6ms/step - loss: 14.0628 - mae: 14.0628\n",
      "Epoch 159/200\n",
      "2/2 [==============================] - 0s 8ms/step - loss: 16.1724 - mae: 16.1724\n",
      "Epoch 160/200\n",
      "2/2 [==============================] - 0s 6ms/step - loss: 19.3894 - mae: 19.3894\n",
      "Epoch 161/200\n",
      "2/2 [==============================] - 0s 8ms/step - loss: 16.9275 - mae: 16.9275\n",
      "Epoch 162/200\n",
      "2/2 [==============================] - 0s 4ms/step - loss: 13.5351 - mae: 13.5351\n",
      "Epoch 163/200\n",
      "2/2 [==============================] - 0s 6ms/step - loss: 23.5953 - mae: 23.5953\n",
      "Epoch 164/200\n",
      "2/2 [==============================] - 0s 7ms/step - loss: 24.1114 - mae: 24.1114\n",
      "Epoch 165/200\n",
      "2/2 [==============================] - 0s 11ms/step - loss: 13.3612 - mae: 13.3612\n",
      "Epoch 166/200\n",
      "2/2 [==============================] - 0s 2ms/step - loss: 25.9040 - mae: 25.9040\n",
      "Epoch 167/200\n",
      "2/2 [==============================] - 0s 2ms/step - loss: 8.3641 - mae: 8.3641\n",
      "Epoch 168/200\n",
      "2/2 [==============================] - 0s 10ms/step - loss: 15.8525 - mae: 15.8525\n",
      "Epoch 169/200\n",
      "2/2 [==============================] - 0s 6ms/step - loss: 7.4879 - mae: 7.4879\n",
      "Epoch 170/200\n",
      "2/2 [==============================] - 0s 9ms/step - loss: 19.0344 - mae: 19.0344\n",
      "Epoch 171/200\n",
      "2/2 [==============================] - 0s 8ms/step - loss: 8.2923 - mae: 8.2923\n",
      "Epoch 172/200\n",
      "2/2 [==============================] - 0s 0s/step - loss: 22.0762 - mae: 22.0762\n",
      "Epoch 173/200\n",
      "2/2 [==============================] - 0s 3ms/step - loss: 11.7520 - mae: 11.7520\n",
      "Epoch 174/200\n",
      "2/2 [==============================] - 0s 4ms/step - loss: 8.7480 - mae: 8.7480\n",
      "Epoch 175/200\n",
      "2/2 [==============================] - 0s 9ms/step - loss: 13.8334 - mae: 13.8334\n",
      "Epoch 176/200\n",
      "2/2 [==============================] - 0s 7ms/step - loss: 22.6928 - mae: 22.6928\n",
      "Epoch 177/200\n",
      "2/2 [==============================] - 0s 7ms/step - loss: 12.6681 - mae: 12.6681\n",
      "Epoch 178/200\n",
      "2/2 [==============================] - 0s 9ms/step - loss: 11.9588 - mae: 11.9588\n",
      "Epoch 179/200\n",
      "2/2 [==============================] - 0s 9ms/step - loss: 8.7446 - mae: 8.7446\n",
      "Epoch 180/200\n",
      "2/2 [==============================] - 0s 0s/step - loss: 19.4727 - mae: 19.4727\n",
      "Epoch 181/200\n",
      "2/2 [==============================] - 0s 0s/step - loss: 8.1546 - mae: 8.1546\n",
      "Epoch 182/200\n",
      "2/2 [==============================] - 0s 5ms/step - loss: 17.2261 - mae: 17.2261\n",
      "Epoch 183/200\n",
      "2/2 [==============================] - 0s 5ms/step - loss: 9.2237 - mae: 9.2237\n",
      "Epoch 184/200\n",
      "2/2 [==============================] - 0s 6ms/step - loss: 24.6786 - mae: 24.6786\n",
      "Epoch 185/200\n",
      "2/2 [==============================] - 0s 8ms/step - loss: 9.8863 - mae: 9.8863\n",
      "Epoch 186/200\n",
      "2/2 [==============================] - 0s 3ms/step - loss: 18.8941 - mae: 18.8941\n",
      "Epoch 187/200\n",
      "2/2 [==============================] - 0s 6ms/step - loss: 6.8842 - mae: 6.8842\n",
      "Epoch 188/200\n",
      "2/2 [==============================] - 0s 11ms/step - loss: 18.6387 - mae: 18.6387\n",
      "Epoch 189/200\n",
      "2/2 [==============================] - 0s 0s/step - loss: 7.8582 - mae: 7.8582\n",
      "Epoch 190/200\n",
      "2/2 [==============================] - 0s 0s/step - loss: 17.4864 - mae: 17.4864\n",
      "Epoch 191/200\n",
      "2/2 [==============================] - 0s 0s/step - loss: 13.7821 - mae: 13.7821\n",
      "Epoch 192/200\n",
      "2/2 [==============================] - 0s 7ms/step - loss: 11.8638 - mae: 11.8638\n",
      "Epoch 193/200\n",
      "2/2 [==============================] - 0s 3ms/step - loss: 24.3981 - mae: 24.3981\n",
      "Epoch 194/200\n",
      "2/2 [==============================] - 0s 6ms/step - loss: 8.7302 - mae: 8.7302\n",
      "Epoch 195/200\n",
      "2/2 [==============================] - 0s 10ms/step - loss: 7.0412 - mae: 7.0412\n",
      "Epoch 196/200\n",
      "2/2 [==============================] - 0s 7ms/step - loss: 7.1635 - mae: 7.1635\n",
      "Epoch 197/200\n",
      "2/2 [==============================] - 0s 3ms/step - loss: 18.1336 - mae: 18.1336\n",
      "Epoch 198/200\n",
      "2/2 [==============================] - 0s 5ms/step - loss: 9.1946 - mae: 9.1946\n",
      "Epoch 199/200\n",
      "2/2 [==============================] - 0s 8ms/step - loss: 19.6515 - mae: 19.6515\n",
      "Epoch 200/200\n",
      "2/2 [==============================] - 0s 7ms/step - loss: 6.5602 - mae: 6.5602\n"
     ]
    },
    {
     "data": {
      "text/plain": [
       "<keras.callbacks.History at 0x11b9ed7b4c0>"
      ]
     },
     "execution_count": 48,
     "metadata": {},
     "output_type": "execute_result"
    }
   ],
   "source": [
    "model_3.fit(X_train, y_train, epochs=200)"
   ]
  },
  {
   "cell_type": "code",
   "execution_count": 51,
   "metadata": {},
   "outputs": [
    {
     "name": "stdout",
     "output_type": "stream",
     "text": [
      "1/1 [==============================] - 0s 43ms/step\n"
     ]
    },
    {
     "data": {
      "image/png": "[encoded data removed]",
      "text/plain": [
       "<Figure size 504x360 with 1 Axes>"
      ]
     },
     "metadata": {
      "needs_background": "light"
     },
     "output_type": "display_data"
    }
   ],
   "source": [
    "y_pred_3 = model_3.predict(X_test)\n",
    "plot_predictions(predictions=y_pred_3)"
   ]
  },
  {
   "cell_type": "code",
   "execution_count": 54,
   "metadata": {},
   "outputs": [
    {
     "data": {
      "text/plain": [
       "(<tf.Tensor: shape=(), dtype=float32, numpy=15.2021055>,\n",
       " <tf.Tensor: shape=(), dtype=float32, numpy=241.20206>)"
      ]
     },
     "execution_count": 54,
     "metadata": {},
     "output_type": "execute_result"
    }
   ],
   "source": [
    "mae_3 = tf.metrics.mean_absolute_error(y_test, tf.squeeze(y_pred_3))\n",
    "mse_3 = tf.metrics.mean_squared_error(y_test, tf.squeeze(y_pred_3))\n",
    "mae_3, mse_3"
   ]
  },
  {
   "cell_type": "code",
   "execution_count": null,
   "metadata": {},
   "outputs": [],
   "source": []
  }
 ],
 "metadata": {
  "kernelspec": {
   "display_name": "Python 3.8.10 64-bit",
   "language": "python",
   "name": "python3"
  },
  "language_info": {
   "codemirror_mode": {
    "name": "ipython",
    "version": 3
   },
   "file_extension": ".py",
   "mimetype": "text/x-python",
   "name": "python",
   "nbconvert_exporter": "python",
   "pygments_lexer": "ipython3",
   "version": "3.8.10"
  },
  "orig_nbformat": 4,
  "vscode": {
   "interpreter": {
    "hash": "8230a386d8e0083990873cddb8ebb5b6213275a10339230a8504f0ef8ce7f888"
   }
  }
 },
 "nbformat": 4,
 "nbformat_minor": 2
}
