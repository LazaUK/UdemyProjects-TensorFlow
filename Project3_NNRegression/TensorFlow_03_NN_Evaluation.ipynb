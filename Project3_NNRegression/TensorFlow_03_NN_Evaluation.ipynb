{
 "cells": [
  {
   "cell_type": "markdown",
   "metadata": {},
   "source": [
    "# Tensors"
   ]
  },
  {
   "cell_type": "code",
   "execution_count": 1,
   "metadata": {},
   "outputs": [
    {
     "name": "stdout",
     "output_type": "stream",
     "text": [
      "2.10.0\n"
     ]
    }
   ],
   "source": [
    "# Importing TF and checking the version\n",
    "import tensorflow as tf\n",
    "print(tf.__version__)"
   ]
  },
  {
   "cell_type": "code",
   "execution_count": 2,
   "metadata": {},
   "outputs": [
    {
     "data": {
      "text/plain": [
       "<tf.Tensor: shape=(50,), dtype=int32, numpy=\n",
       "array([-100,  -96,  -92,  -88,  -84,  -80,  -76,  -72,  -68,  -64,  -60,\n",
       "        -56,  -52,  -48,  -44,  -40,  -36,  -32,  -28,  -24,  -20,  -16,\n",
       "        -12,   -8,   -4,    0,    4,    8,   12,   16,   20,   24,   28,\n",
       "         32,   36,   40,   44,   48,   52,   56,   60,   64,   68,   72,\n",
       "         76,   80,   84,   88,   92,   96])>"
      ]
     },
     "execution_count": 2,
     "metadata": {},
     "output_type": "execute_result"
    }
   ],
   "source": [
    "# Dataset\n",
    "X = tf.range(-100, 100, 4)\n",
    "X"
   ]
  },
  {
   "cell_type": "code",
   "execution_count": 3,
   "metadata": {},
   "outputs": [
    {
     "data": {
      "text/plain": [
       "<tf.Tensor: shape=(50,), dtype=int32, numpy=\n",
       "array([-90, -86, -82, -78, -74, -70, -66, -62, -58, -54, -50, -46, -42,\n",
       "       -38, -34, -30, -26, -22, -18, -14, -10,  -6,  -2,   2,   6,  10,\n",
       "        14,  18,  22,  26,  30,  34,  38,  42,  46,  50,  54,  58,  62,\n",
       "        66,  70,  74,  78,  82,  86,  90,  94,  98, 102, 106])>"
      ]
     },
     "execution_count": 3,
     "metadata": {},
     "output_type": "execute_result"
    }
   ],
   "source": [
    "# Labels\n",
    "y = X + 10\n",
    "y"
   ]
  },
  {
   "cell_type": "code",
   "execution_count": 4,
   "metadata": {},
   "outputs": [
    {
     "data": {
      "text/plain": [
       "[<matplotlib.lines.Line2D at 0x11b96f09790>]"
      ]
     },
     "execution_count": 4,
     "metadata": {},
     "output_type": "execute_result"
    },
    {
     "data": {
      "image/png": "[encoded data removed]",
      "text/plain": [
       "<Figure size 432x288 with 1 Axes>"
      ]
     },
     "metadata": {
      "needs_background": "light"
     },
     "output_type": "display_data"
    }
   ],
   "source": [
    "import matplotlib.pyplot as plt\n",
    "plt.plot(X, y)"
   ]
  },
  {
   "cell_type": "code",
   "execution_count": 5,
   "metadata": {},
   "outputs": [
    {
     "data": {
      "text/plain": [
       "<matplotlib.collections.PathCollection at 0x11b99016fa0>"
      ]
     },
     "execution_count": 5,
     "metadata": {},
     "output_type": "execute_result"
    },
    {
     "data": {
      "image/png": "[encoded data removed]",
      "text/plain": [
       "<Figure size 432x288 with 1 Axes>"
      ]
     },
     "metadata": {
      "needs_background": "light"
     },
     "output_type": "display_data"
    }
   ],
   "source": [
    "plt.scatter(X, y)"
   ]
  },
  {
   "cell_type": "code",
   "execution_count": 6,
   "metadata": {},
   "outputs": [],
   "source": [
    "# Creating train / test datasets\n",
    "X_train = X[:40]\n",
    "y_train = y[:40]\n",
    "\n",
    "X_test = X[40:]\n",
    "y_test = y[40:]"
   ]
  },
  {
   "cell_type": "code",
   "execution_count": 7,
   "metadata": {},
   "outputs": [
    {
     "data": {
      "text/plain": [
       "(40, 10)"
      ]
     },
     "execution_count": 7,
     "metadata": {},
     "output_type": "execute_result"
    }
   ],
   "source": [
    "len(X_train), len(X_test)"
   ]
  },
  {
   "cell_type": "code",
   "execution_count": 8,
   "metadata": {},
   "outputs": [
    {
     "data": {
      "text/plain": [
       "<matplotlib.legend.Legend at 0x11b990ac880>"
      ]
     },
     "execution_count": 8,
     "metadata": {},
     "output_type": "execute_result"
    },
    {
     "data": {
      "image/png": "[encoded data removed]",
      "text/plain": [
       "<Figure size 504x360 with 1 Axes>"
      ]
     },
     "metadata": {
      "needs_background": "light"
     },
     "output_type": "display_data"
    }
   ],
   "source": [
    "from cProfile import label\n",
    "\n",
    "\n",
    "plt.figure(figsize=(7, 5))\n",
    "# Plotting training data\n",
    "plt.scatter(X_train, y_train, c=\"b\", label=\"Training set\")\n",
    "# Plotting testing data\n",
    "plt.scatter(X_test, y_test, c=\"r\", label=\"Testing set\")\n",
    "# Show a legend\n",
    "plt.legend()"
   ]
  },
  {
   "cell_type": "code",
   "execution_count": 9,
   "metadata": {},
   "outputs": [],
   "source": [
    "# Creating NN\n",
    "model = tf.keras.Sequential([\n",
    "    tf.keras.layers.Dense(1, input_shape=[1])\n",
    "])\n",
    "\n",
    "model.compile(loss=tf.keras.losses.mae,\n",
    "    optimizer=tf.keras.optimizers.SGD(),\n",
    "    metrics=[\"mae\"]\n",
    ")"
   ]
  },
  {
   "cell_type": "code",
   "execution_count": 10,
   "metadata": {},
   "outputs": [
    {
     "name": "stdout",
     "output_type": "stream",
     "text": [
      "Model: \"sequential\"\n",
      "_________________________________________________________________\n",
      " Layer (type)                Output Shape              Param #   \n",
      "=================================================================\n",
      " dense (Dense)               (None, 1)                 2         \n",
      "                                                                 \n",
      "=================================================================\n",
      "Total params: 2\n",
      "Trainable params: 2\n",
      "Non-trainable params: 0\n",
      "_________________________________________________________________\n"
     ]
    }
   ],
   "source": [
    "model.summary()"
   ]
  },
  {
   "cell_type": "code",
   "execution_count": 11,
   "metadata": {},
   "outputs": [
    {
     "name": "stdout",
     "output_type": "stream",
     "text": [
      "Epoch 1/100\n",
      "2/2 [==============================] - 1s 9ms/step - loss: 21.0082 - mae: 21.0082\n",
      "Epoch 2/100\n",
      "2/2 [==============================] - 0s 7ms/step - loss: 10.0811 - mae: 10.0811\n",
      "Epoch 3/100\n",
      "2/2 [==============================] - 0s 9ms/step - loss: 13.3171 - mae: 13.3171\n",
      "Epoch 4/100\n",
      "2/2 [==============================] - 0s 9ms/step - loss: 11.1010 - mae: 11.1010\n",
      "Epoch 5/100\n",
      "2/2 [==============================] - 0s 9ms/step - loss: 13.5903 - mae: 13.5903\n",
      "Epoch 6/100\n",
      "2/2 [==============================] - 0s 8ms/step - loss: 8.4945 - mae: 8.4945\n",
      "Epoch 7/100\n",
      "2/2 [==============================] - 0s 10ms/step - loss: 14.8908 - mae: 14.8908\n",
      "Epoch 8/100\n",
      "2/2 [==============================] - 0s 10ms/step - loss: 10.7022 - mae: 10.7022\n",
      "Epoch 9/100\n",
      "2/2 [==============================] - 0s 10ms/step - loss: 10.2593 - mae: 10.2593\n",
      "Epoch 10/100\n",
      "2/2 [==============================] - 0s 10ms/step - loss: 8.8657 - mae: 8.8657\n",
      "Epoch 11/100\n",
      "2/2 [==============================] - 0s 8ms/step - loss: 9.8567 - mae: 9.8567\n",
      "Epoch 12/100\n",
      "2/2 [==============================] - 0s 10ms/step - loss: 14.7291 - mae: 14.7291\n",
      "Epoch 13/100\n",
      "2/2 [==============================] - 0s 9ms/step - loss: 13.2935 - mae: 13.2935\n",
      "Epoch 14/100\n",
      "2/2 [==============================] - 0s 11ms/step - loss: 11.6499 - mae: 11.6499\n",
      "Epoch 15/100\n",
      "2/2 [==============================] - 0s 11ms/step - loss: 12.8277 - mae: 12.8277\n",
      "Epoch 16/100\n",
      "2/2 [==============================] - 0s 8ms/step - loss: 19.8856 - mae: 19.8856\n",
      "Epoch 17/100\n",
      "2/2 [==============================] - 0s 8ms/step - loss: 12.4268 - mae: 12.4268\n",
      "Epoch 18/100\n",
      "2/2 [==============================] - 0s 11ms/step - loss: 13.0745 - mae: 13.0745\n",
      "Epoch 19/100\n",
      "2/2 [==============================] - 0s 9ms/step - loss: 14.1384 - mae: 14.1384\n",
      "Epoch 20/100\n",
      "2/2 [==============================] - 0s 10ms/step - loss: 10.5585 - mae: 10.5585\n",
      "Epoch 21/100\n",
      "2/2 [==============================] - 0s 8ms/step - loss: 8.6484 - mae: 8.6484\n",
      "Epoch 22/100\n",
      "2/2 [==============================] - 0s 8ms/step - loss: 9.6580 - mae: 9.6580\n",
      "Epoch 23/100\n",
      "2/2 [==============================] - 0s 10ms/step - loss: 10.9238 - mae: 10.9238\n",
      "Epoch 24/100\n",
      "2/2 [==============================] - 0s 10ms/step - loss: 7.3613 - mae: 7.3613\n",
      "Epoch 25/100\n",
      "2/2 [==============================] - 0s 9ms/step - loss: 7.8908 - mae: 7.8908\n",
      "Epoch 26/100\n",
      "2/2 [==============================] - 0s 7ms/step - loss: 24.6109 - mae: 24.6109\n",
      "Epoch 27/100\n",
      "2/2 [==============================] - 0s 9ms/step - loss: 16.8992 - mae: 16.8992\n",
      "Epoch 28/100\n",
      "2/2 [==============================] - 0s 8ms/step - loss: 12.7297 - mae: 12.7297\n",
      "Epoch 29/100\n",
      "2/2 [==============================] - 0s 6ms/step - loss: 9.8892 - mae: 9.8892\n",
      "Epoch 30/100\n",
      "2/2 [==============================] - 0s 11ms/step - loss: 9.3569 - mae: 9.3569\n",
      "Epoch 31/100\n",
      "2/2 [==============================] - 0s 8ms/step - loss: 15.7599 - mae: 15.7599\n",
      "Epoch 32/100\n",
      "2/2 [==============================] - 0s 9ms/step - loss: 16.2265 - mae: 16.2265\n",
      "Epoch 33/100\n",
      "2/2 [==============================] - 0s 8ms/step - loss: 9.5606 - mae: 9.5606\n",
      "Epoch 34/100\n",
      "2/2 [==============================] - 0s 8ms/step - loss: 8.5395 - mae: 8.5395\n",
      "Epoch 35/100\n",
      "2/2 [==============================] - 0s 9ms/step - loss: 8.2929 - mae: 8.2929\n",
      "Epoch 36/100\n",
      "2/2 [==============================] - 0s 11ms/step - loss: 9.4632 - mae: 9.4632\n",
      "Epoch 37/100\n",
      "2/2 [==============================] - 0s 8ms/step - loss: 11.8529 - mae: 11.8529\n",
      "Epoch 38/100\n",
      "2/2 [==============================] - 0s 10ms/step - loss: 10.2449 - mae: 10.2449\n",
      "Epoch 39/100\n",
      "2/2 [==============================] - 0s 12ms/step - loss: 9.9946 - mae: 9.9946\n",
      "Epoch 40/100\n",
      "2/2 [==============================] - 0s 10ms/step - loss: 9.1475 - mae: 9.1475\n",
      "Epoch 41/100\n",
      "2/2 [==============================] - 0s 9ms/step - loss: 10.1974 - mae: 10.1974\n",
      "Epoch 42/100\n",
      "2/2 [==============================] - 0s 8ms/step - loss: 8.9631 - mae: 8.9631\n",
      "Epoch 43/100\n",
      "2/2 [==============================] - 0s 11ms/step - loss: 9.4738 - mae: 9.4738\n",
      "Epoch 44/100\n",
      "2/2 [==============================] - 0s 10ms/step - loss: 10.4788 - mae: 10.4788\n",
      "Epoch 45/100\n",
      "2/2 [==============================] - 0s 11ms/step - loss: 12.6561 - mae: 12.6561\n",
      "Epoch 46/100\n",
      "2/2 [==============================] - 0s 8ms/step - loss: 7.9014 - mae: 7.9014\n",
      "Epoch 47/100\n",
      "2/2 [==============================] - 0s 10ms/step - loss: 13.6503 - mae: 13.6503\n",
      "Epoch 48/100\n",
      "2/2 [==============================] - 0s 7ms/step - loss: 13.5602 - mae: 13.5602\n",
      "Epoch 49/100\n",
      "2/2 [==============================] - 0s 11ms/step - loss: 12.9492 - mae: 12.9492\n",
      "Epoch 50/100\n",
      "2/2 [==============================] - 0s 8ms/step - loss: 8.2245 - mae: 8.2245\n",
      "Epoch 51/100\n",
      "2/2 [==============================] - 0s 10ms/step - loss: 8.7830 - mae: 8.7830\n",
      "Epoch 52/100\n",
      "2/2 [==============================] - 0s 9ms/step - loss: 9.1691 - mae: 9.1691\n",
      "Epoch 53/100\n",
      "2/2 [==============================] - 0s 10ms/step - loss: 10.9685 - mae: 10.9685\n",
      "Epoch 54/100\n",
      "2/2 [==============================] - 0s 5ms/step - loss: 14.8104 - mae: 14.8104\n",
      "Epoch 55/100\n",
      "2/2 [==============================] - 0s 10ms/step - loss: 8.8714 - mae: 8.8714\n",
      "Epoch 56/100\n",
      "2/2 [==============================] - 0s 9ms/step - loss: 10.9761 - mae: 10.9761\n",
      "Epoch 57/100\n",
      "2/2 [==============================] - 0s 10ms/step - loss: 15.7953 - mae: 15.7953\n",
      "Epoch 58/100\n",
      "2/2 [==============================] - 0s 8ms/step - loss: 17.7186 - mae: 17.7186\n",
      "Epoch 59/100\n",
      "2/2 [==============================] - 0s 10ms/step - loss: 9.3907 - mae: 9.3907\n",
      "Epoch 60/100\n",
      "2/2 [==============================] - 0s 7ms/step - loss: 8.8440 - mae: 8.8440\n",
      "Epoch 61/100\n",
      "2/2 [==============================] - 0s 10ms/step - loss: 8.9847 - mae: 8.9847\n",
      "Epoch 62/100\n",
      "2/2 [==============================] - 0s 10ms/step - loss: 14.0330 - mae: 14.0330\n",
      "Epoch 63/100\n",
      "2/2 [==============================] - 0s 11ms/step - loss: 9.0967 - mae: 9.0967\n",
      "Epoch 64/100\n",
      "2/2 [==============================] - 0s 8ms/step - loss: 9.2783 - mae: 9.2783\n",
      "Epoch 65/100\n",
      "2/2 [==============================] - 0s 10ms/step - loss: 9.1671 - mae: 9.1671\n",
      "Epoch 66/100\n",
      "2/2 [==============================] - 0s 7ms/step - loss: 11.6204 - mae: 11.6204\n",
      "Epoch 67/100\n",
      "2/2 [==============================] - 0s 10ms/step - loss: 10.6215 - mae: 10.6215\n",
      "Epoch 68/100\n",
      "2/2 [==============================] - 0s 10ms/step - loss: 9.5261 - mae: 9.5261\n",
      "Epoch 69/100\n",
      "2/2 [==============================] - 0s 8ms/step - loss: 9.8338 - mae: 9.8338\n",
      "Epoch 70/100\n",
      "2/2 [==============================] - 0s 8ms/step - loss: 8.0749 - mae: 8.0749\n",
      "Epoch 71/100\n",
      "2/2 [==============================] - 0s 8ms/step - loss: 6.8406 - mae: 6.8406\n",
      "Epoch 72/100\n",
      "2/2 [==============================] - 0s 10ms/step - loss: 7.6295 - mae: 7.6295\n",
      "Epoch 73/100\n",
      "2/2 [==============================] - 0s 8ms/step - loss: 19.7990 - mae: 19.7990\n",
      "Epoch 74/100\n",
      "2/2 [==============================] - 0s 8ms/step - loss: 11.0262 - mae: 11.0262\n",
      "Epoch 75/100\n",
      "2/2 [==============================] - 0s 8ms/step - loss: 9.9264 - mae: 9.9264\n",
      "Epoch 76/100\n",
      "2/2 [==============================] - 0s 10ms/step - loss: 12.6086 - mae: 12.6086\n",
      "Epoch 77/100\n",
      "2/2 [==============================] - 0s 9ms/step - loss: 13.7860 - mae: 13.7860\n",
      "Epoch 78/100\n",
      "2/2 [==============================] - 0s 9ms/step - loss: 7.5869 - mae: 7.5869\n",
      "Epoch 79/100\n",
      "2/2 [==============================] - 0s 9ms/step - loss: 10.4018 - mae: 10.4018\n",
      "Epoch 80/100\n",
      "2/2 [==============================] - 0s 11ms/step - loss: 17.8063 - mae: 17.8063\n",
      "Epoch 81/100\n",
      "2/2 [==============================] - 0s 8ms/step - loss: 9.2564 - mae: 9.2564\n",
      "Epoch 82/100\n",
      "2/2 [==============================] - 0s 10ms/step - loss: 11.2267 - mae: 11.2267\n",
      "Epoch 83/100\n",
      "2/2 [==============================] - 0s 9ms/step - loss: 9.9984 - mae: 9.9984\n",
      "Epoch 84/100\n",
      "2/2 [==============================] - 0s 11ms/step - loss: 8.3100 - mae: 8.3100\n",
      "Epoch 85/100\n",
      "2/2 [==============================] - 0s 7ms/step - loss: 7.9674 - mae: 7.9674\n",
      "Epoch 86/100\n",
      "2/2 [==============================] - 0s 10ms/step - loss: 11.4939 - mae: 11.4939\n",
      "Epoch 87/100\n",
      "2/2 [==============================] - 0s 8ms/step - loss: 16.2523 - mae: 16.2523\n",
      "Epoch 88/100\n",
      "2/2 [==============================] - 0s 11ms/step - loss: 7.2297 - mae: 7.2297\n",
      "Epoch 89/100\n",
      "2/2 [==============================] - 0s 8ms/step - loss: 9.1866 - mae: 9.1866\n",
      "Epoch 90/100\n",
      "2/2 [==============================] - 0s 10ms/step - loss: 8.9864 - mae: 8.9864\n",
      "Epoch 91/100\n",
      "2/2 [==============================] - 0s 8ms/step - loss: 7.2239 - mae: 7.2239\n",
      "Epoch 92/100\n",
      "2/2 [==============================] - 0s 7ms/step - loss: 11.5073 - mae: 11.5073\n",
      "Epoch 93/100\n",
      "2/2 [==============================] - 0s 9ms/step - loss: 8.8237 - mae: 8.8237\n",
      "Epoch 94/100\n",
      "2/2 [==============================] - 0s 11ms/step - loss: 13.7218 - mae: 13.7218\n",
      "Epoch 95/100\n",
      "2/2 [==============================] - 0s 7ms/step - loss: 15.4701 - mae: 15.4701\n",
      "Epoch 96/100\n",
      "2/2 [==============================] - 0s 11ms/step - loss: 7.9347 - mae: 7.9347\n",
      "Epoch 97/100\n",
      "2/2 [==============================] - 0s 9ms/step - loss: 10.6507 - mae: 10.6507\n",
      "Epoch 98/100\n",
      "2/2 [==============================] - 0s 11ms/step - loss: 8.8036 - mae: 8.8036\n",
      "Epoch 99/100\n",
      "2/2 [==============================] - 0s 10ms/step - loss: 8.5131 - mae: 8.5131\n",
      "Epoch 100/100\n",
      "2/2 [==============================] - 0s 10ms/step - loss: 9.8950 - mae: 9.8950\n"
     ]
    },
    {
     "data": {
      "text/plain": [
       "<keras.callbacks.History at 0x11b9a223d00>"
      ]
     },
     "execution_count": 11,
     "metadata": {},
     "output_type": "execute_result"
    }
   ],
   "source": [
    "model.fit(X_train, y_train, epochs=100)"
   ]
  },
  {
   "cell_type": "code",
   "execution_count": 12,
   "metadata": {},
   "outputs": [
    {
     "data": {
      "image/png": "[encoded data removed]",
      "text/plain": [
       "<IPython.core.display.Image object>"
      ]
     },
     "execution_count": 12,
     "metadata": {},
     "output_type": "execute_result"
    }
   ],
   "source": [
    "from tensorflow.keras.utils import plot_model\n",
    "\n",
    "plot_model(model=model)"
   ]
  },
  {
   "cell_type": "code",
   "execution_count": 13,
   "metadata": {},
   "outputs": [
    {
     "data": {
      "image/png": "[encoded data removed]",
      "text/plain": [
       "<IPython.core.display.Image object>"
      ]
     },
     "execution_count": 13,
     "metadata": {},
     "output_type": "execute_result"
    }
   ],
   "source": [
    "plot_model(model=model, show_shapes=True)"
   ]
  },
  {
   "cell_type": "code",
   "execution_count": 14,
   "metadata": {},
   "outputs": [
    {
     "name": "stdout",
     "output_type": "stream",
     "text": [
      "1/1 [==============================] - 0s 352ms/step\n"
     ]
    },
    {
     "data": {
      "text/plain": [
       "array([[ 67.48137 ],\n",
       "       [ 71.88942 ],\n",
       "       [ 76.29747 ],\n",
       "       [ 80.70552 ],\n",
       "       [ 85.11357 ],\n",
       "       [ 89.52162 ],\n",
       "       [ 93.929665],\n",
       "       [ 98.337715],\n",
       "       [102.745766],\n",
       "       [107.15382 ]], dtype=float32)"
      ]
     },
     "execution_count": 14,
     "metadata": {},
     "output_type": "execute_result"
    }
   ],
   "source": [
    "y_pred = model.predict(X_test)\n",
    "y_pred"
   ]
  },
  {
   "cell_type": "code",
   "execution_count": 15,
   "metadata": {},
   "outputs": [
    {
     "data": {
      "text/plain": [
       "<tf.Tensor: shape=(10,), dtype=int32, numpy=array([ 70,  74,  78,  82,  86,  90,  94,  98, 102, 106])>"
      ]
     },
     "execution_count": 15,
     "metadata": {},
     "output_type": "execute_result"
    }
   ],
   "source": [
    "y_test"
   ]
  },
  {
   "cell_type": "code",
   "execution_count": 16,
   "metadata": {},
   "outputs": [],
   "source": [
    "# Function to visualise the outcomes of ML training, testing and predictions\n",
    "def plot_predictions(train_data=X_train,\n",
    "                    train_labels=y_train,\n",
    "                    test_data=X_test,\n",
    "                    test_labels=y_test,\n",
    "                    predictions=y_pred):\n",
    "    plt.figure(figsize=(7, 5))\n",
    "    plt.scatter(train_data, train_labels, c=\"b\", label=\"Training data\")\n",
    "    plt.scatter(test_data, test_labels, c=\"g\", label=\"Testing data\")\n",
    "    plt.scatter(test_data, predictions, c=\"r\", label=\"Predictions\")\n",
    "    plt.legend()"
   ]
  },
  {
   "cell_type": "code",
   "execution_count": 17,
   "metadata": {},
   "outputs": [
    {
     "data": {
      "image/png": "[encoded data removed]",
      "text/plain": [
       "<Figure size 504x360 with 1 Axes>"
      ]
     },
     "metadata": {
      "needs_background": "light"
     },
     "output_type": "display_data"
    }
   ],
   "source": [
    "plot_predictions()"
   ]
  },
  {
   "cell_type": "markdown",
   "metadata": {},
   "source": [
    "# Model Evaluation"
   ]
  },
  {
   "cell_type": "code",
   "execution_count": 18,
   "metadata": {},
   "outputs": [
    {
     "name": "stdout",
     "output_type": "stream",
     "text": [
      "1/1 [==============================] - 1s 516ms/step - loss: 1.1299 - mae: 1.1299\n"
     ]
    },
    {
     "data": {
      "text/plain": [
       "[1.1298660039901733, 1.1298660039901733]"
      ]
     },
     "execution_count": 18,
     "metadata": {},
     "output_type": "execute_result"
    }
   ],
   "source": [
    "model.evaluate(X_test, y_test)"
   ]
  },
  {
   "cell_type": "code",
   "execution_count": 19,
   "metadata": {},
   "outputs": [
    {
     "data": {
      "text/plain": [
       "<tf.Tensor: shape=(10,), dtype=float32, numpy=\n",
       "array([20.518631, 16.488464, 13.421518, 11.317792, 10.177286, 10.      ,\n",
       "       10.785933, 12.602629, 15.396612, 19.153816], dtype=float32)>"
      ]
     },
     "execution_count": 19,
     "metadata": {},
     "output_type": "execute_result"
    }
   ],
   "source": [
    "# Calculate the mean absolute error\n",
    "mae = tf.metrics.mean_absolute_error(y_true=y_test, y_pred=y_pred)\n",
    "mae\n",
    "\n",
    "# INCORRECT VALUE IS CAUSED BY DIFFERENCES IN TENSOR SHAPES"
   ]
  },
  {
   "cell_type": "code",
   "execution_count": 20,
   "metadata": {},
   "outputs": [
    {
     "data": {
      "text/plain": [
       "<tf.Tensor: shape=(10,), dtype=float32, numpy=\n",
       "array([ 67.48137 ,  71.88942 ,  76.29747 ,  80.70552 ,  85.11357 ,\n",
       "        89.52162 ,  93.929665,  98.337715, 102.745766, 107.15382 ],\n",
       "      dtype=float32)>"
      ]
     },
     "execution_count": 20,
     "metadata": {},
     "output_type": "execute_result"
    }
   ],
   "source": [
    "tf.squeeze(y_pred)"
   ]
  },
  {
   "cell_type": "code",
   "execution_count": 21,
   "metadata": {},
   "outputs": [
    {
     "data": {
      "text/plain": [
       "<tf.Tensor: shape=(), dtype=float32, numpy=1.129866>"
      ]
     },
     "execution_count": 21,
     "metadata": {},
     "output_type": "execute_result"
    }
   ],
   "source": [
    "mae = tf.metrics.mean_absolute_error(y_true=y_test, y_pred=tf.squeeze(y_pred))\n",
    "mae"
   ]
  },
  {
   "cell_type": "code",
   "execution_count": 22,
   "metadata": {},
   "outputs": [
    {
     "data": {
      "text/plain": [
       "<tf.Tensor: shape=(), dtype=float32, numpy=1.8393395>"
      ]
     },
     "execution_count": 22,
     "metadata": {},
     "output_type": "execute_result"
    }
   ],
   "source": [
    "# Calculate the mean square error\n",
    "mse = tf.metrics.mean_squared_error(y_test, tf.squeeze(y_pred))\n",
    "mse"
   ]
  },
  {
   "cell_type": "markdown",
   "metadata": {},
   "source": [
    "# Comparing 3 models with various params"
   ]
  },
  {
   "cell_type": "markdown",
   "metadata": {},
   "source": [
    "## Model 1"
   ]
  },
  {
   "cell_type": "code",
   "execution_count": 30,
   "metadata": {},
   "outputs": [],
   "source": [
    "model_1 = tf.keras.Sequential([\n",
    "    tf.keras.layers.Dense(1, input_shape=[1])\n",
    "])\n",
    "\n",
    "model_1.compile(\n",
    "    loss=tf.keras.losses.mae,\n",
    "    optimizer=tf.keras.optimizers.SGD(),\n",
    "    metrics=[\"mae\"]\n",
    ")\n"
   ]
  },
  {
   "cell_type": "code",
   "execution_count": 31,
   "metadata": {},
   "outputs": [
    {
     "name": "stdout",
     "output_type": "stream",
     "text": [
      "Model: \"sequential_5\"\n",
      "_________________________________________________________________\n",
      " Layer (type)                Output Shape              Param #   \n",
      "=================================================================\n",
      " dense_5 (Dense)             (None, 1)                 2         \n",
      "                                                                 \n",
      "=================================================================\n",
      "Total params: 2\n",
      "Trainable params: 2\n",
      "Non-trainable params: 0\n",
      "_________________________________________________________________\n"
     ]
    }
   ],
   "source": [
    "model_1.summary()"
   ]
  },
  {
   "cell_type": "code",
   "execution_count": 32,
   "metadata": {},
   "outputs": [
    {
     "name": "stdout",
     "output_type": "stream",
     "text": [
      "Epoch 1/100\n",
      "2/2 [==============================] - 1s 6ms/step - loss: 67.7145 - mae: 67.7145\n",
      "Epoch 2/100\n",
      "2/2 [==============================] - 0s 9ms/step - loss: 31.8938 - mae: 31.8938\n",
      "Epoch 3/100\n",
      "2/2 [==============================] - 0s 9ms/step - loss: 9.7667 - mae: 9.7667\n",
      "Epoch 4/100\n",
      "2/2 [==============================] - 0s 8ms/step - loss: 9.5249 - mae: 9.5249\n",
      "Epoch 5/100\n",
      "2/2 [==============================] - 0s 7ms/step - loss: 14.5077 - mae: 14.5077\n",
      "Epoch 6/100\n",
      "2/2 [==============================] - 0s 7ms/step - loss: 10.3065 - mae: 10.3065\n",
      "Epoch 7/100\n",
      "2/2 [==============================] - 0s 7ms/step - loss: 11.2920 - mae: 11.2920\n",
      "Epoch 8/100\n",
      "2/2 [==============================] - 0s 8ms/step - loss: 11.4286 - mae: 11.4286\n",
      "Epoch 9/100\n",
      "2/2 [==============================] - 0s 5ms/step - loss: 8.6276 - mae: 8.6276\n",
      "Epoch 10/100\n",
      "2/2 [==============================] - 0s 4ms/step - loss: 8.8039 - mae: 8.8039\n",
      "Epoch 11/100\n",
      "2/2 [==============================] - 0s 6ms/step - loss: 9.2904 - mae: 9.2904\n",
      "Epoch 12/100\n",
      "2/2 [==============================] - 0s 4ms/step - loss: 12.5726 - mae: 12.5726\n",
      "Epoch 13/100\n",
      "2/2 [==============================] - 0s 7ms/step - loss: 10.1055 - mae: 10.1055\n",
      "Epoch 14/100\n",
      "2/2 [==============================] - 0s 5ms/step - loss: 7.5983 - mae: 7.5983\n",
      "Epoch 15/100\n",
      "2/2 [==============================] - 0s 9ms/step - loss: 9.2787 - mae: 9.2787\n",
      "Epoch 16/100\n",
      "2/2 [==============================] - 0s 6ms/step - loss: 7.9550 - mae: 7.9550\n",
      "Epoch 17/100\n",
      "2/2 [==============================] - 0s 9ms/step - loss: 13.5022 - mae: 13.5022\n",
      "Epoch 18/100\n",
      "2/2 [==============================] - 0s 6ms/step - loss: 17.9004 - mae: 17.9004\n",
      "Epoch 19/100\n",
      "2/2 [==============================] - 0s 5ms/step - loss: 8.8122 - mae: 8.8122\n",
      "Epoch 20/100\n",
      "2/2 [==============================] - 0s 13ms/step - loss: 12.9419 - mae: 12.9419\n",
      "Epoch 21/100\n",
      "2/2 [==============================] - 0s 5ms/step - loss: 14.1626 - mae: 14.1626\n",
      "Epoch 22/100\n",
      "2/2 [==============================] - 0s 3ms/step - loss: 11.8677 - mae: 11.8677\n",
      "Epoch 23/100\n",
      "2/2 [==============================] - 0s 5ms/step - loss: 9.3646 - mae: 9.3646\n",
      "Epoch 24/100\n",
      "2/2 [==============================] - 0s 8ms/step - loss: 10.0293 - mae: 10.0293\n",
      "Epoch 25/100\n",
      "2/2 [==============================] - 0s 6ms/step - loss: 10.4588 - mae: 10.4588\n",
      "Epoch 26/100\n",
      "2/2 [==============================] - 0s 5ms/step - loss: 8.0829 - mae: 8.0829\n",
      "Epoch 27/100\n",
      "2/2 [==============================] - 0s 4ms/step - loss: 8.8749 - mae: 8.8749\n",
      "Epoch 28/100\n",
      "2/2 [==============================] - 0s 4ms/step - loss: 8.7989 - mae: 8.7989\n",
      "Epoch 29/100\n",
      "2/2 [==============================] - 0s 4ms/step - loss: 9.9965 - mae: 9.9965\n",
      "Epoch 30/100\n",
      "2/2 [==============================] - 0s 4ms/step - loss: 11.5421 - mae: 11.5421\n",
      "Epoch 31/100\n",
      "2/2 [==============================] - 0s 5ms/step - loss: 10.5702 - mae: 10.5702\n",
      "Epoch 32/100\n",
      "2/2 [==============================] - 0s 5ms/step - loss: 10.7016 - mae: 10.7016\n",
      "Epoch 33/100\n",
      "2/2 [==============================] - 0s 4ms/step - loss: 12.1103 - mae: 12.1103\n",
      "Epoch 34/100\n",
      "2/2 [==============================] - 0s 5ms/step - loss: 11.6484 - mae: 11.6484\n",
      "Epoch 35/100\n",
      "2/2 [==============================] - 0s 4ms/step - loss: 16.0716 - mae: 16.0716\n",
      "Epoch 36/100\n",
      "2/2 [==============================] - 0s 5ms/step - loss: 18.7062 - mae: 18.7062\n",
      "Epoch 37/100\n",
      "2/2 [==============================] - 0s 6ms/step - loss: 10.6539 - mae: 10.6539\n",
      "Epoch 38/100\n",
      "2/2 [==============================] - 0s 5ms/step - loss: 14.6144 - mae: 14.6144\n",
      "Epoch 39/100\n",
      "2/2 [==============================] - 0s 5ms/step - loss: 7.8942 - mae: 7.8942\n",
      "Epoch 40/100\n",
      "2/2 [==============================] - 0s 4ms/step - loss: 16.5804 - mae: 16.5804\n",
      "Epoch 41/100\n",
      "2/2 [==============================] - 0s 4ms/step - loss: 10.9003 - mae: 10.9003\n",
      "Epoch 42/100\n",
      "2/2 [==============================] - 0s 3ms/step - loss: 11.5017 - mae: 11.5017\n",
      "Epoch 43/100\n",
      "2/2 [==============================] - 0s 3ms/step - loss: 8.3233 - mae: 8.3233\n",
      "Epoch 44/100\n",
      "2/2 [==============================] - 0s 7ms/step - loss: 11.1041 - mae: 11.1041\n",
      "Epoch 45/100\n",
      "2/2 [==============================] - 0s 5ms/step - loss: 11.3778 - mae: 11.3778\n",
      "Epoch 46/100\n",
      "2/2 [==============================] - 0s 5ms/step - loss: 12.4734 - mae: 12.4734\n",
      "Epoch 47/100\n",
      "2/2 [==============================] - 0s 3ms/step - loss: 10.5072 - mae: 10.5072\n",
      "Epoch 48/100\n",
      "2/2 [==============================] - 0s 5ms/step - loss: 16.2115 - mae: 16.2115\n",
      "Epoch 49/100\n",
      "2/2 [==============================] - 0s 3ms/step - loss: 8.1542 - mae: 8.1542\n",
      "Epoch 50/100\n",
      "2/2 [==============================] - 0s 6ms/step - loss: 11.7282 - mae: 11.7282\n",
      "Epoch 51/100\n",
      "2/2 [==============================] - 0s 4ms/step - loss: 7.6634 - mae: 7.6634\n",
      "Epoch 52/100\n",
      "2/2 [==============================] - 0s 4ms/step - loss: 7.5771 - mae: 7.5771\n",
      "Epoch 53/100\n",
      "2/2 [==============================] - 0s 4ms/step - loss: 9.1196 - mae: 9.1196\n",
      "Epoch 54/100\n",
      "2/2 [==============================] - 0s 4ms/step - loss: 10.7926 - mae: 10.7926\n",
      "Epoch 55/100\n",
      "2/2 [==============================] - 0s 6ms/step - loss: 8.4699 - mae: 8.4699\n",
      "Epoch 56/100\n",
      "2/2 [==============================] - 0s 27ms/step - loss: 9.4808 - mae: 9.4808\n",
      "Epoch 57/100\n",
      "2/2 [==============================] - 0s 5ms/step - loss: 12.2392 - mae: 12.2392\n",
      "Epoch 58/100\n",
      "2/2 [==============================] - 0s 7ms/step - loss: 10.4358 - mae: 10.4358\n",
      "Epoch 59/100\n",
      "2/2 [==============================] - 0s 5ms/step - loss: 7.6502 - mae: 7.6502\n",
      "Epoch 60/100\n",
      "2/2 [==============================] - 0s 5ms/step - loss: 8.8393 - mae: 8.8393\n",
      "Epoch 61/100\n",
      "2/2 [==============================] - 0s 5ms/step - loss: 7.3328 - mae: 7.3328\n",
      "Epoch 62/100\n",
      "2/2 [==============================] - 0s 4ms/step - loss: 10.3991 - mae: 10.3991\n",
      "Epoch 63/100\n",
      "2/2 [==============================] - 0s 6ms/step - loss: 15.9426 - mae: 15.9426\n",
      "Epoch 64/100\n",
      "2/2 [==============================] - 0s 5ms/step - loss: 9.9419 - mae: 9.9419\n",
      "Epoch 65/100\n",
      "2/2 [==============================] - 0s 3ms/step - loss: 16.8251 - mae: 16.8251\n",
      "Epoch 66/100\n",
      "2/2 [==============================] - 0s 4ms/step - loss: 7.2611 - mae: 7.2611\n",
      "Epoch 67/100\n",
      "2/2 [==============================] - 0s 7ms/step - loss: 10.9373 - mae: 10.9373\n",
      "Epoch 68/100\n",
      "2/2 [==============================] - 0s 4ms/step - loss: 9.5113 - mae: 9.5113\n",
      "Epoch 69/100\n",
      "2/2 [==============================] - 0s 4ms/step - loss: 8.8433 - mae: 8.8433\n",
      "Epoch 70/100\n",
      "2/2 [==============================] - 0s 5ms/step - loss: 11.8221 - mae: 11.8221\n",
      "Epoch 71/100\n",
      "2/2 [==============================] - 0s 5ms/step - loss: 8.8751 - mae: 8.8751\n",
      "Epoch 72/100\n",
      "2/2 [==============================] - 0s 3ms/step - loss: 13.1543 - mae: 13.1543\n",
      "Epoch 73/100\n",
      "2/2 [==============================] - 0s 4ms/step - loss: 14.1134 - mae: 14.1134\n",
      "Epoch 74/100\n",
      "2/2 [==============================] - 0s 4ms/step - loss: 8.6612 - mae: 8.6612\n",
      "Epoch 75/100\n",
      "2/2 [==============================] - 0s 6ms/step - loss: 9.8891 - mae: 9.8891\n",
      "Epoch 76/100\n",
      "2/2 [==============================] - 0s 10ms/step - loss: 10.9041 - mae: 10.9041\n",
      "Epoch 77/100\n",
      "2/2 [==============================] - 0s 3ms/step - loss: 12.9278 - mae: 12.9278\n",
      "Epoch 78/100\n",
      "2/2 [==============================] - 0s 4ms/step - loss: 12.3559 - mae: 12.3559\n",
      "Epoch 79/100\n",
      "2/2 [==============================] - 0s 5ms/step - loss: 13.9976 - mae: 13.9976\n",
      "Epoch 80/100\n",
      "2/2 [==============================] - 0s 5ms/step - loss: 17.5005 - mae: 17.5005\n",
      "Epoch 81/100\n",
      "2/2 [==============================] - 0s 4ms/step - loss: 7.9419 - mae: 7.9419\n",
      "Epoch 82/100\n",
      "2/2 [==============================] - 0s 4ms/step - loss: 9.7601 - mae: 9.7601\n",
      "Epoch 83/100\n",
      "2/2 [==============================] - 0s 4ms/step - loss: 9.8715 - mae: 9.8715\n",
      "Epoch 84/100\n",
      "2/2 [==============================] - 0s 4ms/step - loss: 10.1040 - mae: 10.1040\n",
      "Epoch 85/100\n",
      "2/2 [==============================] - 0s 4ms/step - loss: 10.2122 - mae: 10.2122\n",
      "Epoch 86/100\n",
      "2/2 [==============================] - 0s 6ms/step - loss: 7.8063 - mae: 7.8063\n",
      "Epoch 87/100\n",
      "2/2 [==============================] - 0s 4ms/step - loss: 10.6374 - mae: 10.6374\n",
      "Epoch 88/100\n",
      "2/2 [==============================] - 0s 5ms/step - loss: 11.7629 - mae: 11.7629\n",
      "Epoch 89/100\n",
      "2/2 [==============================] - 0s 4ms/step - loss: 14.2663 - mae: 14.2663\n",
      "Epoch 90/100\n",
      "2/2 [==============================] - 0s 4ms/step - loss: 10.0970 - mae: 10.0970\n",
      "Epoch 91/100\n",
      "2/2 [==============================] - 0s 4ms/step - loss: 11.5366 - mae: 11.5366\n",
      "Epoch 92/100\n",
      "2/2 [==============================] - 0s 3ms/step - loss: 10.5811 - mae: 10.5811\n",
      "Epoch 93/100\n",
      "2/2 [==============================] - 0s 3ms/step - loss: 6.8412 - mae: 6.8412\n",
      "Epoch 94/100\n",
      "2/2 [==============================] - 0s 4ms/step - loss: 7.8498 - mae: 7.8498\n",
      "Epoch 95/100\n",
      "2/2 [==============================] - 0s 4ms/step - loss: 9.4666 - mae: 9.4666\n",
      "Epoch 96/100\n",
      "2/2 [==============================] - 0s 4ms/step - loss: 9.3002 - mae: 9.3002\n",
      "Epoch 97/100\n",
      "2/2 [==============================] - 0s 4ms/step - loss: 14.2214 - mae: 14.2214\n",
      "Epoch 98/100\n",
      "2/2 [==============================] - 0s 4ms/step - loss: 11.1102 - mae: 11.1102\n",
      "Epoch 99/100\n",
      "2/2 [==============================] - 0s 5ms/step - loss: 8.7278 - mae: 8.7278\n",
      "Epoch 100/100\n",
      "2/2 [==============================] - 0s 5ms/step - loss: 12.3917 - mae: 12.3917\n"
     ]
    },
    {
     "data": {
      "text/plain": [
       "<keras.callbacks.History at 0x11b9cb3d520>"
      ]
     },
     "execution_count": 32,
     "metadata": {},
     "output_type": "execute_result"
    }
   ],
   "source": [
    "model_1.fit(X_train, y_train, epochs=100)"
   ]
  },
  {
   "cell_type": "code",
   "execution_count": 33,
   "metadata": {},
   "outputs": [
    {
     "name": "stdout",
     "output_type": "stream",
     "text": [
      "1/1 [==============================] - 0s 73ms/step\n"
     ]
    },
    {
     "data": {
      "image/png": "[encoded data removed]",
      "text/plain": [
       "<Figure size 504x360 with 1 Axes>"
      ]
     },
     "metadata": {
      "needs_background": "light"
     },
     "output_type": "display_data"
    }
   ],
   "source": [
    "y_pred_1 = model_1.predict(y_test)\n",
    "plot_predictions(predictions=y_pred_1)"
   ]
  },
  {
   "cell_type": "code",
   "execution_count": 37,
   "metadata": {},
   "outputs": [
    {
     "data": {
      "text/plain": [
       "(<tf.Tensor: shape=(), dtype=float32, numpy=20.525019>,\n",
       " <tf.Tensor: shape=(), dtype=float32, numpy=429.40958>)"
      ]
     },
     "execution_count": 37,
     "metadata": {},
     "output_type": "execute_result"
    }
   ],
   "source": [
    "mae_1 = tf.metrics.mean_absolute_error(y_test, tf.squeeze(y_pred_1))\n",
    "mse_1 = tf.metrics.mean_squared_error(y_test, tf.squeeze(y_pred_1))\n",
    "mae_1, mse_1"
   ]
  },
  {
   "cell_type": "markdown",
   "metadata": {},
   "source": [
    "## Model 2"
   ]
  },
  {
   "cell_type": "code",
   "execution_count": 41,
   "metadata": {},
   "outputs": [],
   "source": [
    "model_2 = tf.keras.Sequential([\n",
    "    tf.keras.layers.Dense(10, input_shape=[1]),\n",
    "    tf.keras.layers.Dense(1)\n",
    "])\n",
    "\n",
    "model_2.compile(\n",
    "    loss=tf.keras.losses.mae,\n",
    "    optimizer=tf.keras.optimizers.SGD(),\n",
    "    metrics=[\"mae\"]\n",
    ")"
   ]
  },
  {
   "cell_type": "code",
   "execution_count": 42,
   "metadata": {},
   "outputs": [
    {
     "name": "stdout",
     "output_type": "stream",
     "text": [
      "Epoch 1/100\n",
      "2/2 [==============================] - 1s 6ms/step - loss: 31.4242 - mae: 31.4242\n",
      "Epoch 2/100\n",
      "2/2 [==============================] - 0s 9ms/step - loss: 39.6938 - mae: 39.6938\n",
      "Epoch 3/100\n",
      "2/2 [==============================] - 0s 11ms/step - loss: 37.6811 - mae: 37.6811\n",
      "Epoch 4/100\n",
      "2/2 [==============================] - 0s 10ms/step - loss: 7.5147 - mae: 7.5147\n",
      "Epoch 5/100\n",
      "2/2 [==============================] - 0s 9ms/step - loss: 25.5464 - mae: 25.5464\n",
      "Epoch 6/100\n",
      "2/2 [==============================] - 0s 5ms/step - loss: 7.7878 - mae: 7.7878\n",
      "Epoch 7/100\n",
      "2/2 [==============================] - 0s 4ms/step - loss: 17.1944 - mae: 17.1944\n",
      "Epoch 8/100\n",
      "2/2 [==============================] - 0s 6ms/step - loss: 21.0044 - mae: 21.0044\n",
      "Epoch 9/100\n",
      "2/2 [==============================] - 0s 6ms/step - loss: 13.2194 - mae: 13.2194\n",
      "Epoch 10/100\n",
      "2/2 [==============================] - 0s 7ms/step - loss: 18.3835 - mae: 18.3835\n",
      "Epoch 11/100\n",
      "2/2 [==============================] - 0s 3ms/step - loss: 12.6187 - mae: 12.6187\n",
      "Epoch 12/100\n",
      "2/2 [==============================] - 0s 5ms/step - loss: 27.1841 - mae: 27.1841\n",
      "Epoch 13/100\n",
      "2/2 [==============================] - 0s 4ms/step - loss: 12.8586 - mae: 12.8586\n",
      "Epoch 14/100\n",
      "2/2 [==============================] - 0s 6ms/step - loss: 16.7673 - mae: 16.7673\n",
      "Epoch 15/100\n",
      "2/2 [==============================] - 0s 11ms/step - loss: 9.1052 - mae: 9.1052\n",
      "Epoch 16/100\n",
      "2/2 [==============================] - 0s 7ms/step - loss: 10.2244 - mae: 10.2244\n",
      "Epoch 17/100\n",
      "2/2 [==============================] - 0s 6ms/step - loss: 17.6968 - mae: 17.6968\n",
      "Epoch 18/100\n",
      "2/2 [==============================] - 0s 4ms/step - loss: 15.8582 - mae: 15.8582\n",
      "Epoch 19/100\n",
      "2/2 [==============================] - 0s 4ms/step - loss: 15.4553 - mae: 15.4553\n",
      "Epoch 20/100\n",
      "2/2 [==============================] - 0s 7ms/step - loss: 11.1439 - mae: 11.1439\n",
      "Epoch 21/100\n",
      "2/2 [==============================] - 0s 5ms/step - loss: 23.9177 - mae: 23.9177\n",
      "Epoch 22/100\n",
      "2/2 [==============================] - 0s 5ms/step - loss: 24.4507 - mae: 24.4507\n",
      "Epoch 23/100\n",
      "2/2 [==============================] - 0s 7ms/step - loss: 9.1859 - mae: 9.1859\n",
      "Epoch 24/100\n",
      "2/2 [==============================] - 0s 6ms/step - loss: 12.2044 - mae: 12.2044\n",
      "Epoch 25/100\n",
      "2/2 [==============================] - 0s 6ms/step - loss: 14.2433 - mae: 14.2433\n",
      "Epoch 26/100\n",
      "2/2 [==============================] - 0s 8ms/step - loss: 21.6349 - mae: 21.6349\n",
      "Epoch 27/100\n",
      "2/2 [==============================] - 0s 4ms/step - loss: 15.4203 - mae: 15.4203\n",
      "Epoch 28/100\n",
      "2/2 [==============================] - 0s 3ms/step - loss: 8.6135 - mae: 8.6135\n",
      "Epoch 29/100\n",
      "2/2 [==============================] - 0s 4ms/step - loss: 21.0942 - mae: 21.0942\n",
      "Epoch 30/100\n",
      "2/2 [==============================] - 0s 9ms/step - loss: 12.7876 - mae: 12.7876\n",
      "Epoch 31/100\n",
      "2/2 [==============================] - 0s 7ms/step - loss: 33.8089 - mae: 33.8089\n",
      "Epoch 32/100\n",
      "2/2 [==============================] - 0s 5ms/step - loss: 9.0363 - mae: 9.0363\n",
      "Epoch 33/100\n",
      "2/2 [==============================] - 0s 6ms/step - loss: 13.2710 - mae: 13.2710\n",
      "Epoch 34/100\n",
      "2/2 [==============================] - 0s 5ms/step - loss: 11.4167 - mae: 11.4167\n",
      "Epoch 35/100\n",
      "2/2 [==============================] - 0s 4ms/step - loss: 13.6202 - mae: 13.6202\n",
      "Epoch 36/100\n",
      "2/2 [==============================] - 0s 4ms/step - loss: 10.7653 - mae: 10.7653\n",
      "Epoch 37/100\n",
      "2/2 [==============================] - 0s 6ms/step - loss: 12.5583 - mae: 12.5583\n",
      "Epoch 38/100\n",
      "2/2 [==============================] - 0s 6ms/step - loss: 22.1644 - mae: 22.1644\n",
      "Epoch 39/100\n",
      "2/2 [==============================] - 0s 4ms/step - loss: 21.2940 - mae: 21.2940\n",
      "Epoch 40/100\n",
      "2/2 [==============================] - 0s 5ms/step - loss: 7.1522 - mae: 7.1522\n",
      "Epoch 41/100\n",
      "2/2 [==============================] - 0s 5ms/step - loss: 14.3883 - mae: 14.3883\n",
      "Epoch 42/100\n",
      "2/2 [==============================] - 0s 5ms/step - loss: 20.1261 - mae: 20.1261\n",
      "Epoch 43/100\n",
      "2/2 [==============================] - 0s 8ms/step - loss: 9.4797 - mae: 9.4797\n",
      "Epoch 44/100\n",
      "2/2 [==============================] - 0s 7ms/step - loss: 11.5568 - mae: 11.5568\n",
      "Epoch 45/100\n",
      "2/2 [==============================] - 0s 8ms/step - loss: 15.1842 - mae: 15.1842\n",
      "Epoch 46/100\n",
      "2/2 [==============================] - 0s 7ms/step - loss: 15.0407 - mae: 15.0407\n",
      "Epoch 47/100\n",
      "2/2 [==============================] - 0s 10ms/step - loss: 15.9275 - mae: 15.9275\n",
      "Epoch 48/100\n",
      "2/2 [==============================] - 0s 7ms/step - loss: 9.4671 - mae: 9.4671\n",
      "Epoch 49/100\n",
      "2/2 [==============================] - 0s 7ms/step - loss: 28.8643 - mae: 28.8643\n",
      "Epoch 50/100\n",
      "2/2 [==============================] - 0s 5ms/step - loss: 21.0005 - mae: 21.0005\n",
      "Epoch 51/100\n",
      "2/2 [==============================] - 0s 4ms/step - loss: 13.8395 - mae: 13.8395\n",
      "Epoch 52/100\n",
      "2/2 [==============================] - 0s 5ms/step - loss: 16.2553 - mae: 16.2553\n",
      "Epoch 53/100\n",
      "2/2 [==============================] - 0s 4ms/step - loss: 17.5250 - mae: 17.5250\n",
      "Epoch 54/100\n",
      "2/2 [==============================] - 0s 6ms/step - loss: 11.7121 - mae: 11.7121\n",
      "Epoch 55/100\n",
      "2/2 [==============================] - 0s 5ms/step - loss: 12.0014 - mae: 12.0014\n",
      "Epoch 56/100\n",
      "2/2 [==============================] - 0s 5ms/step - loss: 11.8164 - mae: 11.8164\n",
      "Epoch 57/100\n",
      "2/2 [==============================] - 0s 5ms/step - loss: 32.6238 - mae: 32.6238\n",
      "Epoch 58/100\n",
      "2/2 [==============================] - 0s 5ms/step - loss: 10.1439 - mae: 10.1439\n",
      "Epoch 59/100\n",
      "2/2 [==============================] - 0s 5ms/step - loss: 30.2033 - mae: 30.2033\n",
      "Epoch 60/100\n",
      "2/2 [==============================] - 0s 4ms/step - loss: 8.7528 - mae: 8.7528\n",
      "Epoch 61/100\n",
      "2/2 [==============================] - 0s 4ms/step - loss: 24.9163 - mae: 24.9163\n",
      "Epoch 62/100\n",
      "2/2 [==============================] - 0s 5ms/step - loss: 10.2394 - mae: 10.2394\n",
      "Epoch 63/100\n",
      "2/2 [==============================] - 0s 5ms/step - loss: 25.4751 - mae: 25.4751\n",
      "Epoch 64/100\n",
      "2/2 [==============================] - 0s 6ms/step - loss: 9.7128 - mae: 9.7128\n",
      "Epoch 65/100\n",
      "2/2 [==============================] - 0s 6ms/step - loss: 19.1845 - mae: 19.1845\n",
      "Epoch 66/100\n",
      "2/2 [==============================] - 0s 8ms/step - loss: 10.4866 - mae: 10.4866\n",
      "Epoch 67/100\n",
      "2/2 [==============================] - 0s 7ms/step - loss: 20.3832 - mae: 20.3832\n",
      "Epoch 68/100\n",
      "2/2 [==============================] - 0s 5ms/step - loss: 11.7011 - mae: 11.7011\n",
      "Epoch 69/100\n",
      "2/2 [==============================] - 0s 5ms/step - loss: 16.9231 - mae: 16.9231\n",
      "Epoch 70/100\n",
      "2/2 [==============================] - 0s 4ms/step - loss: 10.8526 - mae: 10.8526\n",
      "Epoch 71/100\n",
      "2/2 [==============================] - 0s 4ms/step - loss: 19.2397 - mae: 19.2397\n",
      "Epoch 72/100\n",
      "2/2 [==============================] - 0s 5ms/step - loss: 18.7083 - mae: 18.7083\n",
      "Epoch 73/100\n",
      "2/2 [==============================] - 0s 4ms/step - loss: 10.8672 - mae: 10.8672\n",
      "Epoch 74/100\n",
      "2/2 [==============================] - 0s 5ms/step - loss: 15.2882 - mae: 15.2882\n",
      "Epoch 75/100\n",
      "2/2 [==============================] - 0s 4ms/step - loss: 9.5901 - mae: 9.5901\n",
      "Epoch 76/100\n",
      "2/2 [==============================] - 0s 5ms/step - loss: 31.6284 - mae: 31.6284\n",
      "Epoch 77/100\n",
      "2/2 [==============================] - 0s 6ms/step - loss: 9.7801 - mae: 9.7801\n",
      "Epoch 78/100\n",
      "2/2 [==============================] - 0s 5ms/step - loss: 10.4525 - mae: 10.4525\n",
      "Epoch 79/100\n",
      "2/2 [==============================] - 0s 6ms/step - loss: 13.4965 - mae: 13.4965\n",
      "Epoch 80/100\n",
      "2/2 [==============================] - 0s 5ms/step - loss: 31.6343 - mae: 31.6343\n",
      "Epoch 81/100\n",
      "2/2 [==============================] - 0s 5ms/step - loss: 9.0528 - mae: 9.0528\n",
      "Epoch 82/100\n",
      "2/2 [==============================] - 0s 6ms/step - loss: 15.5895 - mae: 15.5895\n",
      "Epoch 83/100\n",
      "2/2 [==============================] - 0s 8ms/step - loss: 15.3933 - mae: 15.3933\n",
      "Epoch 84/100\n",
      "2/2 [==============================] - 0s 4ms/step - loss: 16.2599 - mae: 16.2599\n",
      "Epoch 85/100\n",
      "2/2 [==============================] - 0s 6ms/step - loss: 11.5192 - mae: 11.5192\n",
      "Epoch 86/100\n",
      "2/2 [==============================] - 0s 7ms/step - loss: 12.2542 - mae: 12.2542\n",
      "Epoch 87/100\n",
      "2/2 [==============================] - 0s 9ms/step - loss: 23.4967 - mae: 23.4967\n",
      "Epoch 88/100\n",
      "2/2 [==============================] - 0s 8ms/step - loss: 19.8060 - mae: 19.8060\n",
      "Epoch 89/100\n",
      "2/2 [==============================] - 0s 5ms/step - loss: 9.6989 - mae: 9.6989\n",
      "Epoch 90/100\n",
      "2/2 [==============================] - 0s 6ms/step - loss: 16.4027 - mae: 16.4027\n",
      "Epoch 91/100\n",
      "2/2 [==============================] - 0s 8ms/step - loss: 26.2715 - mae: 26.2715\n",
      "Epoch 92/100\n",
      "2/2 [==============================] - 0s 10ms/step - loss: 12.2227 - mae: 12.2227\n",
      "Epoch 93/100\n",
      "2/2 [==============================] - 0s 8ms/step - loss: 10.0948 - mae: 10.0948\n",
      "Epoch 94/100\n",
      "2/2 [==============================] - 0s 7ms/step - loss: 12.6127 - mae: 12.6127\n",
      "Epoch 95/100\n",
      "2/2 [==============================] - 0s 8ms/step - loss: 19.9083 - mae: 19.9083\n",
      "Epoch 96/100\n",
      "2/2 [==============================] - 0s 8ms/step - loss: 8.8507 - mae: 8.8507\n",
      "Epoch 97/100\n",
      "2/2 [==============================] - 0s 5ms/step - loss: 11.6395 - mae: 11.6395\n",
      "Epoch 98/100\n",
      "2/2 [==============================] - 0s 7ms/step - loss: 21.5666 - mae: 21.5666\n",
      "Epoch 99/100\n",
      "2/2 [==============================] - 0s 4ms/step - loss: 8.6994 - mae: 8.6994\n",
      "Epoch 100/100\n",
      "2/2 [==============================] - 0s 5ms/step - loss: 23.0246 - mae: 23.0246\n"
     ]
    },
    {
     "data": {
      "text/plain": [
       "<keras.callbacks.History at 0x11b9dcb26a0>"
      ]
     },
     "execution_count": 42,
     "metadata": {},
     "output_type": "execute_result"
    }
   ],
   "source": [
    "model_2.fit(X_train, y_train, epochs=100)"
   ]
  },
  {
   "cell_type": "code",
   "execution_count": 43,
   "metadata": {},
   "outputs": [
    {
     "name": "stdout",
     "output_type": "stream",
     "text": [
      "1/1 [==============================] - 0s 113ms/step\n"
     ]
    },
    {
     "data": {
      "image/png": "[encoded data removed]",
      "text/plain": [
       "<Figure size 504x360 with 1 Axes>"
      ]
     },
     "metadata": {
      "needs_background": "light"
     },
     "output_type": "display_data"
    }
   ],
   "source": [
    "y_pred_2 = model_2.predict(y_test)\n",
    "plot_predictions(predictions=y_pred_2)"
   ]
  },
  {
   "cell_type": "code",
   "execution_count": null,
   "metadata": {},
   "outputs": [],
   "source": []
  }
 ],
 "metadata": {
  "kernelspec": {
   "display_name": "Python 3.8.10 64-bit",
   "language": "python",
   "name": "python3"
  },
  "language_info": {
   "codemirror_mode": {
    "name": "ipython",
    "version": 3
   },
   "file_extension": ".py",
   "mimetype": "text/x-python",
   "name": "python",
   "nbconvert_exporter": "python",
   "pygments_lexer": "ipython3",
   "version": "3.8.10"
  },
  "orig_nbformat": 4,
  "vscode": {
   "interpreter": {
    "hash": "8230a386d8e0083990873cddb8ebb5b6213275a10339230a8504f0ef8ce7f888"
   }
  }
 },
 "nbformat": 4,
 "nbformat_minor": 2
}
