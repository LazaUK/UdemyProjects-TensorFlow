{
 "cells": [
  {
   "cell_type": "markdown",
   "metadata": {},
   "source": [
    "# Tensors"
   ]
  },
  {
   "cell_type": "code",
   "execution_count": 1,
   "metadata": {},
   "outputs": [
    {
     "name": "stdout",
     "output_type": "stream",
     "text": [
      "2.10.0\n"
     ]
    }
   ],
   "source": [
    "# Importing TF and checking the version\n",
    "import tensorflow as tf\n",
    "print(tf.__version__)"
   ]
  },
  {
   "cell_type": "code",
   "execution_count": 2,
   "metadata": {},
   "outputs": [
    {
     "data": {
      "text/plain": [
       "<tf.Tensor: shape=(50,), dtype=int32, numpy=\n",
       "array([-100,  -96,  -92,  -88,  -84,  -80,  -76,  -72,  -68,  -64,  -60,\n",
       "        -56,  -52,  -48,  -44,  -40,  -36,  -32,  -28,  -24,  -20,  -16,\n",
       "        -12,   -8,   -4,    0,    4,    8,   12,   16,   20,   24,   28,\n",
       "         32,   36,   40,   44,   48,   52,   56,   60,   64,   68,   72,\n",
       "         76,   80,   84,   88,   92,   96])>"
      ]
     },
     "execution_count": 2,
     "metadata": {},
     "output_type": "execute_result"
    }
   ],
   "source": [
    "# Dataset\n",
    "X = tf.range(-100, 100, 4)\n",
    "X"
   ]
  },
  {
   "cell_type": "code",
   "execution_count": 3,
   "metadata": {},
   "outputs": [
    {
     "data": {
      "text/plain": [
       "<tf.Tensor: shape=(50,), dtype=int32, numpy=\n",
       "array([-90, -86, -82, -78, -74, -70, -66, -62, -58, -54, -50, -46, -42,\n",
       "       -38, -34, -30, -26, -22, -18, -14, -10,  -6,  -2,   2,   6,  10,\n",
       "        14,  18,  22,  26,  30,  34,  38,  42,  46,  50,  54,  58,  62,\n",
       "        66,  70,  74,  78,  82,  86,  90,  94,  98, 102, 106])>"
      ]
     },
     "execution_count": 3,
     "metadata": {},
     "output_type": "execute_result"
    }
   ],
   "source": [
    "# Labels\n",
    "y = X + 10\n",
    "y"
   ]
  },
  {
   "cell_type": "code",
   "execution_count": 4,
   "metadata": {},
   "outputs": [
    {
     "data": {
      "text/plain": [
       "[<matplotlib.lines.Line2D at 0x17ec3b79790>]"
      ]
     },
     "execution_count": 4,
     "metadata": {},
     "output_type": "execute_result"
    },
    {
     "data": {
      "image/png": "[encoded data removed]",
      "text/plain": [
       "<Figure size 432x288 with 1 Axes>"
      ]
     },
     "metadata": {
      "needs_background": "light"
     },
     "output_type": "display_data"
    }
   ],
   "source": [
    "import matplotlib.pyplot as plt\n",
    "plt.plot(X, y)"
   ]
  },
  {
   "cell_type": "code",
   "execution_count": 5,
   "metadata": {},
   "outputs": [
    {
     "data": {
      "text/plain": [
       "<matplotlib.collections.PathCollection at 0x17ec5c8f460>"
      ]
     },
     "execution_count": 5,
     "metadata": {},
     "output_type": "execute_result"
    },
    {
     "data": {
      "image/png": "[encoded data removed]",
      "text/plain": [
       "<Figure size 432x288 with 1 Axes>"
      ]
     },
     "metadata": {
      "needs_background": "light"
     },
     "output_type": "display_data"
    }
   ],
   "source": [
    "plt.scatter(X, y)"
   ]
  },
  {
   "cell_type": "code",
   "execution_count": 6,
   "metadata": {},
   "outputs": [],
   "source": [
    "# Creating train / test datasets\n",
    "X_train = X[:40]\n",
    "y_train = y[:40]\n",
    "\n",
    "X_test = X[40:]\n",
    "y_test = y[40:]"
   ]
  },
  {
   "cell_type": "code",
   "execution_count": 7,
   "metadata": {},
   "outputs": [
    {
     "data": {
      "text/plain": [
       "(40, 10)"
      ]
     },
     "execution_count": 7,
     "metadata": {},
     "output_type": "execute_result"
    }
   ],
   "source": [
    "len(X_train), len(X_test)"
   ]
  },
  {
   "cell_type": "code",
   "execution_count": 8,
   "metadata": {},
   "outputs": [
    {
     "data": {
      "text/plain": [
       "<matplotlib.legend.Legend at 0x17ec5d1a880>"
      ]
     },
     "execution_count": 8,
     "metadata": {},
     "output_type": "execute_result"
    },
    {
     "data": {
      "image/png": "[encoded data removed]",
      "text/plain": [
       "<Figure size 504x360 with 1 Axes>"
      ]
     },
     "metadata": {
      "needs_background": "light"
     },
     "output_type": "display_data"
    }
   ],
   "source": [
    "from cProfile import label\n",
    "\n",
    "\n",
    "plt.figure(figsize=(7, 5))\n",
    "# Plotting training data\n",
    "plt.scatter(X_train, y_train, c=\"b\", label=\"Training set\")\n",
    "# Plotting testing data\n",
    "plt.scatter(X_test, y_test, c=\"r\", label=\"Testing set\")\n",
    "# Show a legend\n",
    "plt.legend()"
   ]
  },
  {
   "cell_type": "code",
   "execution_count": 9,
   "metadata": {},
   "outputs": [],
   "source": [
    "# Creating NN\n",
    "model = tf.keras.Sequential([\n",
    "    tf.keras.layers.Dense(1, input_shape=[1])\n",
    "])\n",
    "\n",
    "model.compile(loss=tf.keras.losses.mae,\n",
    "    optimizer=tf.keras.optimizers.SGD(),\n",
    "    metrics=[\"mae\"]\n",
    ")"
   ]
  },
  {
   "cell_type": "code",
   "execution_count": 10,
   "metadata": {},
   "outputs": [
    {
     "name": "stdout",
     "output_type": "stream",
     "text": [
      "Model: \"sequential\"\n",
      "_________________________________________________________________\n",
      " Layer (type)                Output Shape              Param #   \n",
      "=================================================================\n",
      " dense (Dense)               (None, 1)                 2         \n",
      "                                                                 \n",
      "=================================================================\n",
      "Total params: 2\n",
      "Trainable params: 2\n",
      "Non-trainable params: 0\n",
      "_________________________________________________________________\n"
     ]
    }
   ],
   "source": [
    "model.summary()"
   ]
  },
  {
   "cell_type": "code",
   "execution_count": 11,
   "metadata": {},
   "outputs": [
    {
     "name": "stdout",
     "output_type": "stream",
     "text": [
      "Epoch 1/100\n",
      "2/2 [==============================] - 1s 4ms/step - loss: 12.5824 - mae: 12.5824\n",
      "Epoch 2/100\n",
      "2/2 [==============================] - 0s 7ms/step - loss: 14.0200 - mae: 14.0200\n",
      "Epoch 3/100\n",
      "2/2 [==============================] - 0s 6ms/step - loss: 14.5808 - mae: 14.5808\n",
      "Epoch 4/100\n",
      "2/2 [==============================] - 0s 6ms/step - loss: 9.8605 - mae: 9.8605\n",
      "Epoch 5/100\n",
      "2/2 [==============================] - 0s 0s/step - loss: 15.3543 - mae: 15.3543\n",
      "Epoch 6/100\n",
      "2/2 [==============================] - 0s 4ms/step - loss: 13.5686 - mae: 13.5686\n",
      "Epoch 7/100\n",
      "2/2 [==============================] - 0s 8ms/step - loss: 7.5688 - mae: 7.5688\n",
      "Epoch 8/100\n",
      "2/2 [==============================] - 0s 9ms/step - loss: 8.8794 - mae: 8.8794\n",
      "Epoch 9/100\n",
      "2/2 [==============================] - 0s 0s/step - loss: 9.6588 - mae: 9.6588\n",
      "Epoch 10/100\n",
      "2/2 [==============================] - 0s 4ms/step - loss: 11.3574 - mae: 11.3574\n",
      "Epoch 11/100\n",
      "2/2 [==============================] - 0s 0s/step - loss: 14.2288 - mae: 14.2288\n",
      "Epoch 12/100\n",
      "2/2 [==============================] - 0s 6ms/step - loss: 19.4984 - mae: 19.4984\n",
      "Epoch 13/100\n",
      "2/2 [==============================] - 0s 4ms/step - loss: 9.7630 - mae: 9.7630\n",
      "Epoch 14/100\n",
      "2/2 [==============================] - 0s 0s/step - loss: 8.3153 - mae: 8.3153\n",
      "Epoch 15/100\n",
      "2/2 [==============================] - 0s 7ms/step - loss: 7.7209 - mae: 7.7209\n",
      "Epoch 16/100\n",
      "2/2 [==============================] - 0s 6ms/step - loss: 10.2703 - mae: 10.2703\n",
      "Epoch 17/100\n",
      "2/2 [==============================] - 0s 5ms/step - loss: 14.6411 - mae: 14.6411\n",
      "Epoch 18/100\n",
      "2/2 [==============================] - 0s 7ms/step - loss: 7.9853 - mae: 7.9853\n",
      "Epoch 19/100\n",
      "2/2 [==============================] - 0s 7ms/step - loss: 12.2848 - mae: 12.2848\n",
      "Epoch 20/100\n",
      "2/2 [==============================] - 0s 5ms/step - loss: 13.5697 - mae: 13.5697\n",
      "Epoch 21/100\n",
      "2/2 [==============================] - 0s 0s/step - loss: 8.8656 - mae: 8.8656\n",
      "Epoch 22/100\n",
      "2/2 [==============================] - 0s 10ms/step - loss: 10.0589 - mae: 10.0589\n",
      "Epoch 23/100\n",
      "2/2 [==============================] - 0s 6ms/step - loss: 9.6388 - mae: 9.6388\n",
      "Epoch 24/100\n",
      "2/2 [==============================] - 0s 7ms/step - loss: 9.2306 - mae: 9.2306\n",
      "Epoch 25/100\n",
      "2/2 [==============================] - 0s 5ms/step - loss: 7.7080 - mae: 7.7080\n",
      "Epoch 26/100\n",
      "2/2 [==============================] - 0s 2ms/step - loss: 8.7170 - mae: 8.7170\n",
      "Epoch 27/100\n",
      "2/2 [==============================] - 0s 4ms/step - loss: 8.5401 - mae: 8.5401\n",
      "Epoch 28/100\n",
      "2/2 [==============================] - 0s 6ms/step - loss: 8.0737 - mae: 8.0737\n",
      "Epoch 29/100\n",
      "2/2 [==============================] - 0s 4ms/step - loss: 9.0328 - mae: 9.0328\n",
      "Epoch 30/100\n",
      "2/2 [==============================] - 0s 5ms/step - loss: 10.4334 - mae: 10.4334\n",
      "Epoch 31/100\n",
      "2/2 [==============================] - 0s 4ms/step - loss: 12.4930 - mae: 12.4930\n",
      "Epoch 32/100\n",
      "2/2 [==============================] - 0s 0s/step - loss: 12.8142 - mae: 12.8142\n",
      "Epoch 33/100\n",
      "2/2 [==============================] - 0s 8ms/step - loss: 10.8280 - mae: 10.8280\n",
      "Epoch 34/100\n",
      "2/2 [==============================] - 0s 2ms/step - loss: 16.9690 - mae: 16.9690\n",
      "Epoch 35/100\n",
      "2/2 [==============================] - 0s 6ms/step - loss: 13.6202 - mae: 13.6202\n",
      "Epoch 36/100\n",
      "2/2 [==============================] - 0s 5ms/step - loss: 17.3941 - mae: 17.3941\n",
      "Epoch 37/100\n",
      "2/2 [==============================] - 0s 7ms/step - loss: 9.2766 - mae: 9.2766\n",
      "Epoch 38/100\n",
      "2/2 [==============================] - 0s 5ms/step - loss: 8.4418 - mae: 8.4418\n",
      "Epoch 39/100\n",
      "2/2 [==============================] - 0s 4ms/step - loss: 7.9752 - mae: 7.9752\n",
      "Epoch 40/100\n",
      "2/2 [==============================] - 0s 6ms/step - loss: 8.0469 - mae: 8.0469\n",
      "Epoch 41/100\n",
      "2/2 [==============================] - 0s 0s/step - loss: 8.6868 - mae: 8.6868\n",
      "Epoch 42/100\n",
      "2/2 [==============================] - 0s 0s/step - loss: 14.5413 - mae: 14.5413\n",
      "Epoch 43/100\n",
      "2/2 [==============================] - 0s 6ms/step - loss: 8.5729 - mae: 8.5729\n",
      "Epoch 44/100\n",
      "2/2 [==============================] - 0s 3ms/step - loss: 12.5075 - mae: 12.5075\n",
      "Epoch 45/100\n",
      "2/2 [==============================] - 0s 7ms/step - loss: 10.1378 - mae: 10.1378\n",
      "Epoch 46/100\n",
      "2/2 [==============================] - 0s 8ms/step - loss: 12.7658 - mae: 12.7658\n",
      "Epoch 47/100\n",
      "2/2 [==============================] - 0s 9ms/step - loss: 8.0304 - mae: 8.0304\n",
      "Epoch 48/100\n",
      "2/2 [==============================] - 0s 4ms/step - loss: 22.1492 - mae: 22.1492\n",
      "Epoch 49/100\n",
      "2/2 [==============================] - 0s 8ms/step - loss: 11.2244 - mae: 11.2244\n",
      "Epoch 50/100\n",
      "2/2 [==============================] - 0s 1ms/step - loss: 11.5748 - mae: 11.5748\n",
      "Epoch 51/100\n",
      "2/2 [==============================] - 0s 5ms/step - loss: 7.4043 - mae: 7.4043\n",
      "Epoch 52/100\n",
      "2/2 [==============================] - 0s 2ms/step - loss: 7.4689 - mae: 7.4689\n",
      "Epoch 53/100\n",
      "2/2 [==============================] - 0s 7ms/step - loss: 15.6516 - mae: 15.6516\n",
      "Epoch 54/100\n",
      "2/2 [==============================] - 0s 9ms/step - loss: 8.6833 - mae: 8.6833\n",
      "Epoch 55/100\n",
      "2/2 [==============================] - 0s 0s/step - loss: 8.2227 - mae: 8.2227\n",
      "Epoch 56/100\n",
      "2/2 [==============================] - 0s 6ms/step - loss: 8.9561 - mae: 8.9561\n",
      "Epoch 57/100\n",
      "2/2 [==============================] - 0s 5ms/step - loss: 12.3401 - mae: 12.3401\n",
      "Epoch 58/100\n",
      "2/2 [==============================] - 0s 7ms/step - loss: 13.6277 - mae: 13.6277\n",
      "Epoch 59/100\n",
      "2/2 [==============================] - 0s 2ms/step - loss: 11.2960 - mae: 11.2960\n",
      "Epoch 60/100\n",
      "2/2 [==============================] - 0s 3ms/step - loss: 12.8544 - mae: 12.8544\n",
      "Epoch 61/100\n",
      "2/2 [==============================] - 0s 5ms/step - loss: 8.3641 - mae: 8.3641\n",
      "Epoch 62/100\n",
      "2/2 [==============================] - 0s 5ms/step - loss: 10.5969 - mae: 10.5969\n",
      "Epoch 63/100\n",
      "2/2 [==============================] - 0s 3ms/step - loss: 9.7068 - mae: 9.7068\n",
      "Epoch 64/100\n",
      "2/2 [==============================] - 0s 6ms/step - loss: 7.0099 - mae: 7.0099\n",
      "Epoch 65/100\n",
      "2/2 [==============================] - 0s 4ms/step - loss: 12.5204 - mae: 12.5204\n",
      "Epoch 66/100\n",
      "2/2 [==============================] - 0s 0s/step - loss: 8.4210 - mae: 8.4210\n",
      "Epoch 67/100\n",
      "2/2 [==============================] - 0s 4ms/step - loss: 10.2980 - mae: 10.2980\n",
      "Epoch 68/100\n",
      "2/2 [==============================] - 0s 3ms/step - loss: 9.4817 - mae: 9.4817\n",
      "Epoch 69/100\n",
      "2/2 [==============================] - 0s 3ms/step - loss: 11.4227 - mae: 11.4227\n",
      "Epoch 70/100\n",
      "2/2 [==============================] - 0s 8ms/step - loss: 19.3634 - mae: 19.3634\n",
      "Epoch 71/100\n",
      "2/2 [==============================] - 0s 0s/step - loss: 12.3926 - mae: 12.3926\n",
      "Epoch 72/100\n",
      "2/2 [==============================] - 0s 8ms/step - loss: 13.5266 - mae: 13.5266\n",
      "Epoch 73/100\n",
      "2/2 [==============================] - 0s 7ms/step - loss: 9.6092 - mae: 9.6092\n",
      "Epoch 74/100\n",
      "2/2 [==============================] - 0s 0s/step - loss: 12.5987 - mae: 12.5987\n",
      "Epoch 75/100\n",
      "2/2 [==============================] - 0s 8ms/step - loss: 8.3709 - mae: 8.3709\n",
      "Epoch 76/100\n",
      "2/2 [==============================] - 0s 1ms/step - loss: 14.2762 - mae: 14.2762\n",
      "Epoch 77/100\n",
      "2/2 [==============================] - 0s 5ms/step - loss: 15.3805 - mae: 15.3805\n",
      "Epoch 78/100\n",
      "2/2 [==============================] - 0s 6ms/step - loss: 9.0545 - mae: 9.0545\n",
      "Epoch 79/100\n",
      "2/2 [==============================] - 0s 0s/step - loss: 10.8146 - mae: 10.8146\n",
      "Epoch 80/100\n",
      "2/2 [==============================] - 0s 3ms/step - loss: 15.8684 - mae: 15.8684\n",
      "Epoch 81/100\n",
      "2/2 [==============================] - 0s 6ms/step - loss: 9.1485 - mae: 9.1485\n",
      "Epoch 82/100\n",
      "2/2 [==============================] - 0s 1ms/step - loss: 12.4480 - mae: 12.4480\n",
      "Epoch 83/100\n",
      "2/2 [==============================] - 0s 0s/step - loss: 8.4739 - mae: 8.4739\n",
      "Epoch 84/100\n",
      "2/2 [==============================] - 0s 6ms/step - loss: 11.6112 - mae: 11.6112\n",
      "Epoch 85/100\n",
      "2/2 [==============================] - 0s 4ms/step - loss: 12.7323 - mae: 12.7323\n",
      "Epoch 86/100\n",
      "2/2 [==============================] - 0s 7ms/step - loss: 10.9049 - mae: 10.9049\n",
      "Epoch 87/100\n",
      "2/2 [==============================] - 0s 7ms/step - loss: 12.2323 - mae: 12.2323\n",
      "Epoch 88/100\n",
      "2/2 [==============================] - 0s 5ms/step - loss: 7.6634 - mae: 7.6634\n",
      "Epoch 89/100\n",
      "2/2 [==============================] - 0s 2ms/step - loss: 11.5856 - mae: 11.5856\n",
      "Epoch 90/100\n",
      "2/2 [==============================] - 0s 6ms/step - loss: 10.4356 - mae: 10.4356\n",
      "Epoch 91/100\n",
      "2/2 [==============================] - 0s 6ms/step - loss: 8.7971 - mae: 8.7971\n",
      "Epoch 92/100\n",
      "2/2 [==============================] - 0s 7ms/step - loss: 11.5385 - mae: 11.5385\n",
      "Epoch 93/100\n",
      "2/2 [==============================] - 0s 2ms/step - loss: 8.7297 - mae: 8.7297\n",
      "Epoch 94/100\n",
      "2/2 [==============================] - 0s 0s/step - loss: 9.1144 - mae: 9.1144\n",
      "Epoch 95/100\n",
      "2/2 [==============================] - 0s 8ms/step - loss: 8.2958 - mae: 8.2958\n",
      "Epoch 96/100\n",
      "2/2 [==============================] - 0s 0s/step - loss: 8.3899 - mae: 8.3899\n",
      "Epoch 97/100\n",
      "2/2 [==============================] - 0s 8ms/step - loss: 10.3860 - mae: 10.3860\n",
      "Epoch 98/100\n",
      "2/2 [==============================] - 0s 9ms/step - loss: 10.7679 - mae: 10.7679\n",
      "Epoch 99/100\n",
      "2/2 [==============================] - 0s 0s/step - loss: 9.0263 - mae: 9.0263\n",
      "Epoch 100/100\n",
      "2/2 [==============================] - 0s 4ms/step - loss: 9.1121 - mae: 9.1121\n"
     ]
    },
    {
     "data": {
      "text/plain": [
       "<keras.callbacks.History at 0x17ec6e943a0>"
      ]
     },
     "execution_count": 11,
     "metadata": {},
     "output_type": "execute_result"
    }
   ],
   "source": [
    "model.fit(X_train, y_train, epochs=100)"
   ]
  },
  {
   "cell_type": "code",
   "execution_count": 12,
   "metadata": {},
   "outputs": [
    {
     "data": {
      "image/png": "[encoded data removed]",
      "text/plain": [
       "<IPython.core.display.Image object>"
      ]
     },
     "execution_count": 12,
     "metadata": {},
     "output_type": "execute_result"
    }
   ],
   "source": [
    "from tensorflow.keras.utils import plot_model\n",
    "\n",
    "plot_model(model=model)"
   ]
  },
  {
   "cell_type": "code",
   "execution_count": 13,
   "metadata": {},
   "outputs": [
    {
     "data": {
      "image/png": "[encoded data removed]",
      "text/plain": [
       "<IPython.core.display.Image object>"
      ]
     },
     "execution_count": 13,
     "metadata": {},
     "output_type": "execute_result"
    }
   ],
   "source": [
    "plot_model(model=model, show_shapes=True)"
   ]
  },
  {
   "cell_type": "code",
   "execution_count": 14,
   "metadata": {},
   "outputs": [
    {
     "name": "stdout",
     "output_type": "stream",
     "text": [
      "1/1 [==============================] - 0s 213ms/step\n"
     ]
    },
    {
     "data": {
      "text/plain": [
       "array([[51.983364],\n",
       "       [55.359837],\n",
       "       [58.73631 ],\n",
       "       [62.112785],\n",
       "       [65.48926 ],\n",
       "       [68.86573 ],\n",
       "       [72.24221 ],\n",
       "       [75.61868 ],\n",
       "       [78.995155],\n",
       "       [82.37163 ]], dtype=float32)"
      ]
     },
     "execution_count": 14,
     "metadata": {},
     "output_type": "execute_result"
    }
   ],
   "source": [
    "y_pred = model.predict(X_test)\n",
    "y_pred"
   ]
  },
  {
   "cell_type": "code",
   "execution_count": 15,
   "metadata": {},
   "outputs": [
    {
     "data": {
      "text/plain": [
       "<tf.Tensor: shape=(10,), dtype=int32, numpy=array([ 70,  74,  78,  82,  86,  90,  94,  98, 102, 106])>"
      ]
     },
     "execution_count": 15,
     "metadata": {},
     "output_type": "execute_result"
    }
   ],
   "source": [
    "y_test"
   ]
  },
  {
   "cell_type": "code",
   "execution_count": 17,
   "metadata": {},
   "outputs": [],
   "source": [
    "# Function to visualise the outcomes of ML training, testing and predictions\n",
    "def plot_predictions(train_data=X_train,\n",
    "                    train_labels=y_train,\n",
    "                    test_data=X_test,\n",
    "                    test_labels=y_test,\n",
    "                    predictions=y_pred):\n",
    "    plt.figure(figsize=(7, 5))\n",
    "    plt.scatter(train_data, train_labels, c=\"b\", label=\"Training data\")\n",
    "    plt.scatter(test_data, test_labels, c=\"g\", label=\"Testing data\")\n",
    "    plt.scatter(test_data, predictions, c=\"r\", label=\"Predictions\")\n",
    "    plt.legend()"
   ]
  },
  {
   "cell_type": "code",
   "execution_count": 18,
   "metadata": {},
   "outputs": [
    {
     "data": {
      "image/png": "[encoded data removed]",
      "text/plain": [
       "<Figure size 504x360 with 1 Axes>"
      ]
     },
     "metadata": {
      "needs_background": "light"
     },
     "output_type": "display_data"
    }
   ],
   "source": [
    "plot_predictions()"
   ]
  },
  {
   "cell_type": "code",
   "execution_count": null,
   "metadata": {},
   "outputs": [],
   "source": []
  }
 ],
 "metadata": {
  "kernelspec": {
   "display_name": "Python 3.8.10 64-bit",
   "language": "python",
   "name": "python3"
  },
  "language_info": {
   "codemirror_mode": {
    "name": "ipython",
    "version": 3
   },
   "file_extension": ".py",
   "mimetype": "text/x-python",
   "name": "python",
   "nbconvert_exporter": "python",
   "pygments_lexer": "ipython3",
   "version": "3.8.10"
  },
  "orig_nbformat": 4,
  "vscode": {
   "interpreter": {
    "hash": "8230a386d8e0083990873cddb8ebb5b6213275a10339230a8504f0ef8ce7f888"
   }
  }
 },
 "nbformat": 4,
 "nbformat_minor": 2
}
