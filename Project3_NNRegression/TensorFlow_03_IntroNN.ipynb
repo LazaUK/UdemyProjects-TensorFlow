{
 "cells": [
  {
   "cell_type": "markdown",
   "metadata": {},
   "source": [
    "# Tensors"
   ]
  },
  {
   "cell_type": "code",
   "execution_count": 1,
   "metadata": {},
   "outputs": [
    {
     "name": "stdout",
     "output_type": "stream",
     "text": [
      "2.10.0\n"
     ]
    }
   ],
   "source": [
    "# Importing TF and checking the version\n",
    "import tensorflow as tf\n",
    "print(tf.__version__)"
   ]
  },
  {
   "cell_type": "code",
   "execution_count": 2,
   "metadata": {},
   "outputs": [
    {
     "data": {
      "text/plain": [
       "<matplotlib.collections.PathCollection at 0x132119a35b0>"
      ]
     },
     "execution_count": 2,
     "metadata": {},
     "output_type": "execute_result"
    },
    {
     "data": {
      "image/png": "[encoded data removed]",
      "text/plain": [
       "<Figure size 432x288 with 1 Axes>"
      ]
     },
     "metadata": {
      "needs_background": "light"
     },
     "output_type": "display_data"
    }
   ],
   "source": [
    "# Creating our dataset\n",
    "import numpy as np\n",
    "import matplotlib.pyplot as plt\n",
    "\n",
    "# Features\n",
    "X = np.array([-7.0, -4.0, -1.0, 2.0, 5.0, 8.0, 11.0, 14.0])\n",
    "\n",
    "# Labels\n",
    "y = np.array([3.0, 6.0, 9.0, 12.0, 15.0, 18.0, 21.0, 24.0])\n",
    "\n",
    "# Visualise it\n",
    "plt.scatter(X, y)"
   ]
  },
  {
   "cell_type": "code",
   "execution_count": 3,
   "metadata": {},
   "outputs": [
    {
     "data": {
      "text/plain": [
       "array([ True,  True,  True,  True,  True,  True,  True,  True])"
      ]
     },
     "execution_count": 3,
     "metadata": {},
     "output_type": "execute_result"
    }
   ],
   "source": [
    "# Checking relationship\n",
    "y == X + 10"
   ]
  },
  {
   "cell_type": "code",
   "execution_count": 4,
   "metadata": {},
   "outputs": [],
   "source": [
    "# Set a random seed\n",
    "tf.random.set_seed(42)"
   ]
  },
  {
   "cell_type": "code",
   "execution_count": 5,
   "metadata": {},
   "outputs": [
    {
     "data": {
      "text/plain": [
       "(<tf.Tensor: shape=(8,), dtype=float32, numpy=array([-7., -4., -1.,  2.,  5.,  8., 11., 14.], dtype=float32)>,\n",
       " <tf.Tensor: shape=(8,), dtype=float32, numpy=array([ 3.,  6.,  9., 12., 15., 18., 21., 24.], dtype=float32)>)"
      ]
     },
     "execution_count": 5,
     "metadata": {},
     "output_type": "execute_result"
    }
   ],
   "source": [
    "# Preparing tensors\n",
    "X = tf.cast(tf.constant(X), dtype=tf.float32)\n",
    "y = tf.cast(tf.constant(y), dtype=tf.float32)\n",
    "X, y"
   ]
  },
  {
   "cell_type": "markdown",
   "metadata": {},
   "source": [
    "## First Neural Network"
   ]
  },
  {
   "cell_type": "code",
   "execution_count": 6,
   "metadata": {},
   "outputs": [],
   "source": [
    "# Step 1: Create TF model using Sequential API\n",
    "model = tf.keras.Sequential([\n",
    "    tf.keras.layers.Dense(1)\n",
    "])"
   ]
  },
  {
   "cell_type": "code",
   "execution_count": 7,
   "metadata": {},
   "outputs": [],
   "source": [
    "# Step 2: Compile the model\n",
    "model.compile(loss=tf.keras.losses.mae,\n",
    " optimizer=tf.keras.optimizers.SGD(),\n",
    " metrics=\"mae\")"
   ]
  },
  {
   "cell_type": "code",
   "execution_count": 8,
   "metadata": {},
   "outputs": [
    {
     "name": "stdout",
     "output_type": "stream",
     "text": [
      "Epoch 1/5\n",
      "1/1 [==============================] - 2s 2s/step - loss: 11.6543 - mae: 11.6543\n",
      "Epoch 2/5\n",
      "1/1 [==============================] - 0s 14ms/step - loss: 11.5218 - mae: 11.5218\n",
      "Epoch 3/5\n",
      "1/1 [==============================] - 0s 10ms/step - loss: 11.3893 - mae: 11.3893\n",
      "Epoch 4/5\n",
      "1/1 [==============================] - 0s 18ms/step - loss: 11.2568 - mae: 11.2568\n",
      "Epoch 5/5\n",
      "1/1 [==============================] - 0s 15ms/step - loss: 11.1243 - mae: 11.1243\n"
     ]
    },
    {
     "data": {
      "text/plain": [
       "<keras.callbacks.History at 0x13213c2da30>"
      ]
     },
     "execution_count": 8,
     "metadata": {},
     "output_type": "execute_result"
    }
   ],
   "source": [
    "# Step 3: Fit the model\n",
    "model.fit(tf.expand_dims(X, axis=1), y, epochs=5)"
   ]
  },
  {
   "cell_type": "code",
   "execution_count": 9,
   "metadata": {},
   "outputs": [
    {
     "name": "stdout",
     "output_type": "stream",
     "text": [
      "1/1 [==============================] - 0s 398ms/step\n"
     ]
    },
    {
     "data": {
      "text/plain": [
       "array([[11.989796]], dtype=float32)"
      ]
     },
     "execution_count": 9,
     "metadata": {},
     "output_type": "execute_result"
    }
   ],
   "source": [
    "# Making prediction with the model\n",
    "model.predict([17.0])"
   ]
  },
  {
   "cell_type": "markdown",
   "metadata": {},
   "source": [
    "## Model optimisation"
   ]
  },
  {
   "cell_type": "code",
   "execution_count": 10,
   "metadata": {},
   "outputs": [
    {
     "name": "stdout",
     "output_type": "stream",
     "text": [
      "Epoch 1/100\n",
      "1/1 [==============================] - 1s 586ms/step - loss: 18.0224 - mae: 18.0224\n",
      "Epoch 2/100\n",
      "1/1 [==============================] - 0s 7ms/step - loss: 17.7411 - mae: 17.7411\n",
      "Epoch 3/100\n",
      "1/1 [==============================] - 0s 6ms/step - loss: 17.4599 - mae: 17.4599\n",
      "Epoch 4/100\n",
      "1/1 [==============================] - 0s 7ms/step - loss: 17.1786 - mae: 17.1786\n",
      "Epoch 5/100\n",
      "1/1 [==============================] - 0s 9ms/step - loss: 16.8974 - mae: 16.8974\n",
      "Epoch 6/100\n",
      "1/1 [==============================] - 0s 6ms/step - loss: 16.6161 - mae: 16.6161\n",
      "Epoch 7/100\n",
      "1/1 [==============================] - 0s 7ms/step - loss: 16.3349 - mae: 16.3349\n",
      "Epoch 8/100\n",
      "1/1 [==============================] - 0s 6ms/step - loss: 16.0536 - mae: 16.0536\n",
      "Epoch 9/100\n",
      "1/1 [==============================] - 0s 6ms/step - loss: 15.7724 - mae: 15.7724\n",
      "Epoch 10/100\n",
      "1/1 [==============================] - 0s 7ms/step - loss: 15.4911 - mae: 15.4911\n",
      "Epoch 11/100\n",
      "1/1 [==============================] - 0s 6ms/step - loss: 15.2099 - mae: 15.2099\n",
      "Epoch 12/100\n",
      "1/1 [==============================] - 0s 8ms/step - loss: 14.9286 - mae: 14.9286\n",
      "Epoch 13/100\n",
      "1/1 [==============================] - 0s 6ms/step - loss: 14.7199 - mae: 14.7199\n",
      "Epoch 14/100\n",
      "1/1 [==============================] - 0s 6ms/step - loss: 14.5874 - mae: 14.5874\n",
      "Epoch 15/100\n",
      "1/1 [==============================] - 0s 9ms/step - loss: 14.4549 - mae: 14.4549\n",
      "Epoch 16/100\n",
      "1/1 [==============================] - 0s 7ms/step - loss: 14.3224 - mae: 14.3224\n",
      "Epoch 17/100\n",
      "1/1 [==============================] - 0s 6ms/step - loss: 14.1899 - mae: 14.1899\n",
      "Epoch 18/100\n",
      "1/1 [==============================] - 0s 7ms/step - loss: 14.0574 - mae: 14.0574\n",
      "Epoch 19/100\n",
      "1/1 [==============================] - 0s 7ms/step - loss: 13.9249 - mae: 13.9249\n",
      "Epoch 20/100\n",
      "1/1 [==============================] - 0s 5ms/step - loss: 13.7924 - mae: 13.7924\n",
      "Epoch 21/100\n",
      "1/1 [==============================] - 0s 7ms/step - loss: 13.6599 - mae: 13.6599\n",
      "Epoch 22/100\n",
      "1/1 [==============================] - 0s 4ms/step - loss: 13.5274 - mae: 13.5274\n",
      "Epoch 23/100\n",
      "1/1 [==============================] - 0s 6ms/step - loss: 13.3949 - mae: 13.3949\n",
      "Epoch 24/100\n",
      "1/1 [==============================] - 0s 5ms/step - loss: 13.2624 - mae: 13.2624\n",
      "Epoch 25/100\n",
      "1/1 [==============================] - 0s 5ms/step - loss: 13.1299 - mae: 13.1299\n",
      "Epoch 26/100\n",
      "1/1 [==============================] - 0s 4ms/step - loss: 12.9974 - mae: 12.9974\n",
      "Epoch 27/100\n",
      "1/1 [==============================] - 0s 9ms/step - loss: 12.8649 - mae: 12.8649\n",
      "Epoch 28/100\n",
      "1/1 [==============================] - 0s 5ms/step - loss: 12.7324 - mae: 12.7324\n",
      "Epoch 29/100\n",
      "1/1 [==============================] - 0s 6ms/step - loss: 12.5999 - mae: 12.5999\n",
      "Epoch 30/100\n",
      "1/1 [==============================] - 0s 4ms/step - loss: 12.4674 - mae: 12.4674\n",
      "Epoch 31/100\n",
      "1/1 [==============================] - 0s 6ms/step - loss: 12.3349 - mae: 12.3349\n",
      "Epoch 32/100\n",
      "1/1 [==============================] - 0s 4ms/step - loss: 12.2024 - mae: 12.2024\n",
      "Epoch 33/100\n",
      "1/1 [==============================] - 0s 5ms/step - loss: 12.0699 - mae: 12.0699\n",
      "Epoch 34/100\n",
      "1/1 [==============================] - 0s 6ms/step - loss: 11.9374 - mae: 11.9374\n",
      "Epoch 35/100\n",
      "1/1 [==============================] - 0s 5ms/step - loss: 11.8049 - mae: 11.8049\n",
      "Epoch 36/100\n",
      "1/1 [==============================] - 0s 8ms/step - loss: 11.6724 - mae: 11.6724\n",
      "Epoch 37/100\n",
      "1/1 [==============================] - 0s 6ms/step - loss: 11.5399 - mae: 11.5399\n",
      "Epoch 38/100\n",
      "1/1 [==============================] - 0s 8ms/step - loss: 11.4074 - mae: 11.4074\n",
      "Epoch 39/100\n",
      "1/1 [==============================] - 0s 9ms/step - loss: 11.2749 - mae: 11.2749\n",
      "Epoch 40/100\n",
      "1/1 [==============================] - 0s 5ms/step - loss: 11.1424 - mae: 11.1424\n",
      "Epoch 41/100\n",
      "1/1 [==============================] - 0s 8ms/step - loss: 11.0099 - mae: 11.0099\n",
      "Epoch 42/100\n",
      "1/1 [==============================] - 0s 9ms/step - loss: 10.8774 - mae: 10.8774\n",
      "Epoch 43/100\n",
      "1/1 [==============================] - 0s 5ms/step - loss: 10.7449 - mae: 10.7449\n",
      "Epoch 44/100\n",
      "1/1 [==============================] - 0s 5ms/step - loss: 10.6124 - mae: 10.6124\n",
      "Epoch 45/100\n",
      "1/1 [==============================] - 0s 8ms/step - loss: 10.4799 - mae: 10.4799\n",
      "Epoch 46/100\n",
      "1/1 [==============================] - 0s 6ms/step - loss: 10.3474 - mae: 10.3474\n",
      "Epoch 47/100\n",
      "1/1 [==============================] - 0s 6ms/step - loss: 10.2149 - mae: 10.2149\n",
      "Epoch 48/100\n",
      "1/1 [==============================] - 0s 7ms/step - loss: 10.0824 - mae: 10.0824\n",
      "Epoch 49/100\n",
      "1/1 [==============================] - 0s 8ms/step - loss: 9.9499 - mae: 9.9499\n",
      "Epoch 50/100\n",
      "1/1 [==============================] - 0s 14ms/step - loss: 9.8174 - mae: 9.8174\n",
      "Epoch 51/100\n",
      "1/1 [==============================] - 0s 8ms/step - loss: 9.6849 - mae: 9.6849\n",
      "Epoch 52/100\n",
      "1/1 [==============================] - 0s 6ms/step - loss: 9.5524 - mae: 9.5524\n",
      "Epoch 53/100\n",
      "1/1 [==============================] - 0s 5ms/step - loss: 9.4199 - mae: 9.4199\n",
      "Epoch 54/100\n",
      "1/1 [==============================] - 0s 8ms/step - loss: 9.2874 - mae: 9.2874\n",
      "Epoch 55/100\n",
      "1/1 [==============================] - 0s 6ms/step - loss: 9.1549 - mae: 9.1549\n",
      "Epoch 56/100\n",
      "1/1 [==============================] - 0s 7ms/step - loss: 9.0224 - mae: 9.0224\n",
      "Epoch 57/100\n",
      "1/1 [==============================] - 0s 8ms/step - loss: 8.8899 - mae: 8.8899\n",
      "Epoch 58/100\n",
      "1/1 [==============================] - 0s 5ms/step - loss: 8.7574 - mae: 8.7574\n",
      "Epoch 59/100\n",
      "1/1 [==============================] - 0s 6ms/step - loss: 8.6249 - mae: 8.6249\n",
      "Epoch 60/100\n",
      "1/1 [==============================] - 0s 7ms/step - loss: 8.4924 - mae: 8.4924\n",
      "Epoch 61/100\n",
      "1/1 [==============================] - 0s 5ms/step - loss: 8.3599 - mae: 8.3599\n",
      "Epoch 62/100\n",
      "1/1 [==============================] - 0s 6ms/step - loss: 8.2274 - mae: 8.2274\n",
      "Epoch 63/100\n",
      "1/1 [==============================] - 0s 4ms/step - loss: 8.0949 - mae: 8.0949\n",
      "Epoch 64/100\n",
      "1/1 [==============================] - 0s 7ms/step - loss: 7.9624 - mae: 7.9624\n",
      "Epoch 65/100\n",
      "1/1 [==============================] - 0s 7ms/step - loss: 7.8299 - mae: 7.8299\n",
      "Epoch 66/100\n",
      "1/1 [==============================] - 0s 5ms/step - loss: 7.6974 - mae: 7.6974\n",
      "Epoch 67/100\n",
      "1/1 [==============================] - 0s 7ms/step - loss: 7.5649 - mae: 7.5649\n",
      "Epoch 68/100\n",
      "1/1 [==============================] - 0s 7ms/step - loss: 7.4324 - mae: 7.4324\n",
      "Epoch 69/100\n",
      "1/1 [==============================] - 0s 6ms/step - loss: 7.2999 - mae: 7.2999\n",
      "Epoch 70/100\n",
      "1/1 [==============================] - 0s 7ms/step - loss: 7.1674 - mae: 7.1674\n",
      "Epoch 71/100\n",
      "1/1 [==============================] - 0s 7ms/step - loss: 7.0349 - mae: 7.0349\n",
      "Epoch 72/100\n",
      "1/1 [==============================] - 0s 5ms/step - loss: 6.9900 - mae: 6.9900\n",
      "Epoch 73/100\n",
      "1/1 [==============================] - 0s 5ms/step - loss: 6.9844 - mae: 6.9844\n",
      "Epoch 74/100\n",
      "1/1 [==============================] - 0s 7ms/step - loss: 6.9788 - mae: 6.9788\n",
      "Epoch 75/100\n",
      "1/1 [==============================] - 0s 5ms/step - loss: 6.9731 - mae: 6.9731\n",
      "Epoch 76/100\n",
      "1/1 [==============================] - 0s 6ms/step - loss: 6.9675 - mae: 6.9675\n",
      "Epoch 77/100\n",
      "1/1 [==============================] - 0s 6ms/step - loss: 6.9619 - mae: 6.9619\n",
      "Epoch 78/100\n",
      "1/1 [==============================] - 0s 5ms/step - loss: 6.9563 - mae: 6.9563\n",
      "Epoch 79/100\n",
      "1/1 [==============================] - 0s 7ms/step - loss: 6.9506 - mae: 6.9506\n",
      "Epoch 80/100\n",
      "1/1 [==============================] - 0s 6ms/step - loss: 6.9450 - mae: 6.9450\n",
      "Epoch 81/100\n",
      "1/1 [==============================] - 0s 4ms/step - loss: 6.9394 - mae: 6.9394\n",
      "Epoch 82/100\n",
      "1/1 [==============================] - 0s 5ms/step - loss: 6.9338 - mae: 6.9338\n",
      "Epoch 83/100\n",
      "1/1 [==============================] - 0s 6ms/step - loss: 6.9281 - mae: 6.9281\n",
      "Epoch 84/100\n",
      "1/1 [==============================] - 0s 7ms/step - loss: 6.9225 - mae: 6.9225\n",
      "Epoch 85/100\n",
      "1/1 [==============================] - 0s 4ms/step - loss: 6.9169 - mae: 6.9169\n",
      "Epoch 86/100\n",
      "1/1 [==============================] - 0s 6ms/step - loss: 6.9113 - mae: 6.9113\n",
      "Epoch 87/100\n",
      "1/1 [==============================] - 0s 6ms/step - loss: 6.9056 - mae: 6.9056\n",
      "Epoch 88/100\n",
      "1/1 [==============================] - 0s 4ms/step - loss: 6.9000 - mae: 6.9000\n",
      "Epoch 89/100\n",
      "1/1 [==============================] - 0s 4ms/step - loss: 6.8944 - mae: 6.8944\n",
      "Epoch 90/100\n",
      "1/1 [==============================] - 0s 4ms/step - loss: 6.8888 - mae: 6.8888\n",
      "Epoch 91/100\n",
      "1/1 [==============================] - 0s 35ms/step - loss: 6.8831 - mae: 6.8831\n",
      "Epoch 92/100\n",
      "1/1 [==============================] - 0s 4ms/step - loss: 6.8775 - mae: 6.8775\n",
      "Epoch 93/100\n",
      "1/1 [==============================] - 0s 5ms/step - loss: 6.8719 - mae: 6.8719\n",
      "Epoch 94/100\n",
      "1/1 [==============================] - 0s 9ms/step - loss: 6.8663 - mae: 6.8663\n",
      "Epoch 95/100\n",
      "1/1 [==============================] - 0s 5ms/step - loss: 6.8606 - mae: 6.8606\n",
      "Epoch 96/100\n",
      "1/1 [==============================] - 0s 4ms/step - loss: 6.8550 - mae: 6.8550\n",
      "Epoch 97/100\n",
      "1/1 [==============================] - 0s 6ms/step - loss: 6.8494 - mae: 6.8494\n",
      "Epoch 98/100\n",
      "1/1 [==============================] - 0s 5ms/step - loss: 6.8438 - mae: 6.8438\n",
      "Epoch 99/100\n",
      "1/1 [==============================] - 0s 5ms/step - loss: 6.8381 - mae: 6.8381\n",
      "Epoch 100/100\n",
      "1/1 [==============================] - 0s 8ms/step - loss: 6.8325 - mae: 6.8325\n"
     ]
    },
    {
     "data": {
      "text/plain": [
       "<keras.callbacks.History at 0x13214cd3940>"
      ]
     },
     "execution_count": 10,
     "metadata": {},
     "output_type": "execute_result"
    }
   ],
   "source": [
    "# OPTION 1: Increase epochs\n",
    "\n",
    "model = tf.keras.Sequential([\n",
    "    tf.keras.layers.Dense(1)\n",
    "])\n",
    "\n",
    "model.compile(loss=tf.keras.losses.mae,\n",
    " optimizer=tf.keras.optimizers.SGD(),\n",
    " metrics=\"mae\")\n",
    "\n",
    "model.fit(tf.expand_dims(X, axis=1), y, epochs=100)"
   ]
  },
  {
   "cell_type": "code",
   "execution_count": null,
   "metadata": {},
   "outputs": [],
   "source": []
  }
 ],
 "metadata": {
  "kernelspec": {
   "display_name": "Python 3.8.10 64-bit",
   "language": "python",
   "name": "python3"
  },
  "language_info": {
   "codemirror_mode": {
    "name": "ipython",
    "version": 3
   },
   "file_extension": ".py",
   "mimetype": "text/x-python",
   "name": "python",
   "nbconvert_exporter": "python",
   "pygments_lexer": "ipython3",
   "version": "3.8.10"
  },
  "orig_nbformat": 4,
  "vscode": {
   "interpreter": {
    "hash": "8230a386d8e0083990873cddb8ebb5b6213275a10339230a8504f0ef8ce7f888"
   }
  }
 },
 "nbformat": 4,
 "nbformat_minor": 2
}
