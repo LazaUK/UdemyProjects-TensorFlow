{
 "cells": [
  {
   "attachments": {},
   "cell_type": "markdown",
   "metadata": {},
   "source": [
    "# Time Series: Forecasting Bitcoin price"
   ]
  },
  {
   "cell_type": "code",
   "execution_count": 1,
   "metadata": {},
   "outputs": [
    {
     "name": "stdout",
     "output_type": "stream",
     "text": [
      "2.10.1\n"
     ]
    }
   ],
   "source": [
    "# Importing TF and checking the version\n",
    "import tensorflow as tf\n",
    "\n",
    "print(tf.__version__)"
   ]
  },
  {
   "attachments": {},
   "cell_type": "markdown",
   "metadata": {},
   "source": [
    "### Importing time series with Pandas"
   ]
  },
  {
   "cell_type": "code",
   "execution_count": 2,
   "metadata": {},
   "outputs": [
    {
     "data": {
      "text/html": [
       "<div>\n",
       "<style scoped>\n",
       "    .dataframe tbody tr th:only-of-type {\n",
       "        vertical-align: middle;\n",
       "    }\n",
       "\n",
       "    .dataframe tbody tr th {\n",
       "        vertical-align: top;\n",
       "    }\n",
       "\n",
       "    .dataframe thead th {\n",
       "        text-align: right;\n",
       "    }\n",
       "</style>\n",
       "<table border=\"1\" class=\"dataframe\">\n",
       "  <thead>\n",
       "    <tr style=\"text-align: right;\">\n",
       "      <th></th>\n",
       "      <th>Currency</th>\n",
       "      <th>Closing Price (USD)</th>\n",
       "      <th>24h Open (USD)</th>\n",
       "      <th>24h High (USD)</th>\n",
       "      <th>24h Low (USD)</th>\n",
       "    </tr>\n",
       "    <tr>\n",
       "      <th>Date</th>\n",
       "      <th></th>\n",
       "      <th></th>\n",
       "      <th></th>\n",
       "      <th></th>\n",
       "      <th></th>\n",
       "    </tr>\n",
       "  </thead>\n",
       "  <tbody>\n",
       "    <tr>\n",
       "      <th>2013-10-01</th>\n",
       "      <td>BTC</td>\n",
       "      <td>123.65499</td>\n",
       "      <td>124.30466</td>\n",
       "      <td>124.75166</td>\n",
       "      <td>122.56349</td>\n",
       "    </tr>\n",
       "    <tr>\n",
       "      <th>2013-10-02</th>\n",
       "      <td>BTC</td>\n",
       "      <td>125.45500</td>\n",
       "      <td>123.65499</td>\n",
       "      <td>125.75850</td>\n",
       "      <td>123.63383</td>\n",
       "    </tr>\n",
       "    <tr>\n",
       "      <th>2013-10-03</th>\n",
       "      <td>BTC</td>\n",
       "      <td>108.58483</td>\n",
       "      <td>125.45500</td>\n",
       "      <td>125.66566</td>\n",
       "      <td>83.32833</td>\n",
       "    </tr>\n",
       "    <tr>\n",
       "      <th>2013-10-04</th>\n",
       "      <td>BTC</td>\n",
       "      <td>118.67466</td>\n",
       "      <td>108.58483</td>\n",
       "      <td>118.67500</td>\n",
       "      <td>107.05816</td>\n",
       "    </tr>\n",
       "    <tr>\n",
       "      <th>2013-10-05</th>\n",
       "      <td>BTC</td>\n",
       "      <td>121.33866</td>\n",
       "      <td>118.67466</td>\n",
       "      <td>121.93633</td>\n",
       "      <td>118.00566</td>\n",
       "    </tr>\n",
       "  </tbody>\n",
       "</table>\n",
       "</div>"
      ],
      "text/plain": [
       "           Currency  Closing Price (USD)  24h Open (USD)  24h High (USD)  \\\n",
       "Date                                                                       \n",
       "2013-10-01      BTC            123.65499       124.30466       124.75166   \n",
       "2013-10-02      BTC            125.45500       123.65499       125.75850   \n",
       "2013-10-03      BTC            108.58483       125.45500       125.66566   \n",
       "2013-10-04      BTC            118.67466       108.58483       118.67500   \n",
       "2013-10-05      BTC            121.33866       118.67466       121.93633   \n",
       "\n",
       "            24h Low (USD)  \n",
       "Date                       \n",
       "2013-10-01      122.56349  \n",
       "2013-10-02      123.63383  \n",
       "2013-10-03       83.32833  \n",
       "2013-10-04      107.05816  \n",
       "2013-10-05      118.00566  "
      ]
     },
     "execution_count": 2,
     "metadata": {},
     "output_type": "execute_result"
    }
   ],
   "source": [
    "# Reading Bitcoin data and parsing dates\n",
    "import pandas as pd\n",
    "\n",
    "df = pd.read_csv(\n",
    "    \"BTC_USD_2013-10-01_2021-05-18-CoinDesk.csv\",\n",
    "    parse_dates=[\"Date\"],\n",
    "    index_col=[\"Date\"]   \n",
    ")\n",
    "df.head()"
   ]
  },
  {
   "cell_type": "code",
   "execution_count": 3,
   "metadata": {},
   "outputs": [
    {
     "data": {
      "text/html": [
       "<div>\n",
       "<style scoped>\n",
       "    .dataframe tbody tr th:only-of-type {\n",
       "        vertical-align: middle;\n",
       "    }\n",
       "\n",
       "    .dataframe tbody tr th {\n",
       "        vertical-align: top;\n",
       "    }\n",
       "\n",
       "    .dataframe thead th {\n",
       "        text-align: right;\n",
       "    }\n",
       "</style>\n",
       "<table border=\"1\" class=\"dataframe\">\n",
       "  <thead>\n",
       "    <tr style=\"text-align: right;\">\n",
       "      <th></th>\n",
       "      <th>Currency</th>\n",
       "      <th>Closing Price (USD)</th>\n",
       "      <th>24h Open (USD)</th>\n",
       "      <th>24h High (USD)</th>\n",
       "      <th>24h Low (USD)</th>\n",
       "    </tr>\n",
       "    <tr>\n",
       "      <th>Date</th>\n",
       "      <th></th>\n",
       "      <th></th>\n",
       "      <th></th>\n",
       "      <th></th>\n",
       "      <th></th>\n",
       "    </tr>\n",
       "  </thead>\n",
       "  <tbody>\n",
       "    <tr>\n",
       "      <th>2021-05-14</th>\n",
       "      <td>BTC</td>\n",
       "      <td>49764.132082</td>\n",
       "      <td>49596.778891</td>\n",
       "      <td>51448.798576</td>\n",
       "      <td>46294.720180</td>\n",
       "    </tr>\n",
       "    <tr>\n",
       "      <th>2021-05-15</th>\n",
       "      <td>BTC</td>\n",
       "      <td>50032.693137</td>\n",
       "      <td>49717.354353</td>\n",
       "      <td>51578.312545</td>\n",
       "      <td>48944.346536</td>\n",
       "    </tr>\n",
       "    <tr>\n",
       "      <th>2021-05-16</th>\n",
       "      <td>BTC</td>\n",
       "      <td>47885.625255</td>\n",
       "      <td>49926.035067</td>\n",
       "      <td>50690.802950</td>\n",
       "      <td>47005.102292</td>\n",
       "    </tr>\n",
       "    <tr>\n",
       "      <th>2021-05-17</th>\n",
       "      <td>BTC</td>\n",
       "      <td>45604.615754</td>\n",
       "      <td>46805.537852</td>\n",
       "      <td>49670.414174</td>\n",
       "      <td>43868.638969</td>\n",
       "    </tr>\n",
       "    <tr>\n",
       "      <th>2021-05-18</th>\n",
       "      <td>BTC</td>\n",
       "      <td>43144.471291</td>\n",
       "      <td>46439.336570</td>\n",
       "      <td>46622.853437</td>\n",
       "      <td>42102.346430</td>\n",
       "    </tr>\n",
       "  </tbody>\n",
       "</table>\n",
       "</div>"
      ],
      "text/plain": [
       "           Currency  Closing Price (USD)  24h Open (USD)  24h High (USD)  \\\n",
       "Date                                                                       \n",
       "2021-05-14      BTC         49764.132082    49596.778891    51448.798576   \n",
       "2021-05-15      BTC         50032.693137    49717.354353    51578.312545   \n",
       "2021-05-16      BTC         47885.625255    49926.035067    50690.802950   \n",
       "2021-05-17      BTC         45604.615754    46805.537852    49670.414174   \n",
       "2021-05-18      BTC         43144.471291    46439.336570    46622.853437   \n",
       "\n",
       "            24h Low (USD)  \n",
       "Date                       \n",
       "2021-05-14   46294.720180  \n",
       "2021-05-15   48944.346536  \n",
       "2021-05-16   47005.102292  \n",
       "2021-05-17   43868.638969  \n",
       "2021-05-18   42102.346430  "
      ]
     },
     "execution_count": 3,
     "metadata": {},
     "output_type": "execute_result"
    }
   ],
   "source": [
    "df.tail()"
   ]
  },
  {
   "cell_type": "code",
   "execution_count": 4,
   "metadata": {},
   "outputs": [
    {
     "name": "stdout",
     "output_type": "stream",
     "text": [
      "<class 'pandas.core.frame.DataFrame'>\n",
      "DatetimeIndex: 2787 entries, 2013-10-01 to 2021-05-18\n",
      "Data columns (total 5 columns):\n",
      " #   Column               Non-Null Count  Dtype  \n",
      "---  ------               --------------  -----  \n",
      " 0   Currency             2787 non-null   object \n",
      " 1   Closing Price (USD)  2787 non-null   float64\n",
      " 2   24h Open (USD)       2787 non-null   float64\n",
      " 3   24h High (USD)       2787 non-null   float64\n",
      " 4   24h Low (USD)        2787 non-null   float64\n",
      "dtypes: float64(4), object(1)\n",
      "memory usage: 130.6+ KB\n"
     ]
    }
   ],
   "source": [
    "df.info()"
   ]
  },
  {
   "cell_type": "code",
   "execution_count": 5,
   "metadata": {},
   "outputs": [
    {
     "data": {
      "text/plain": [
       "2787"
      ]
     },
     "execution_count": 5,
     "metadata": {},
     "output_type": "execute_result"
    }
   ],
   "source": [
    "len(df)"
   ]
  },
  {
   "cell_type": "code",
   "execution_count": 6,
   "metadata": {},
   "outputs": [
    {
     "data": {
      "text/html": [
       "<div>\n",
       "<style scoped>\n",
       "    .dataframe tbody tr th:only-of-type {\n",
       "        vertical-align: middle;\n",
       "    }\n",
       "\n",
       "    .dataframe tbody tr th {\n",
       "        vertical-align: top;\n",
       "    }\n",
       "\n",
       "    .dataframe thead th {\n",
       "        text-align: right;\n",
       "    }\n",
       "</style>\n",
       "<table border=\"1\" class=\"dataframe\">\n",
       "  <thead>\n",
       "    <tr style=\"text-align: right;\">\n",
       "      <th></th>\n",
       "      <th>Price</th>\n",
       "    </tr>\n",
       "    <tr>\n",
       "      <th>Date</th>\n",
       "      <th></th>\n",
       "    </tr>\n",
       "  </thead>\n",
       "  <tbody>\n",
       "    <tr>\n",
       "      <th>2013-10-01</th>\n",
       "      <td>123.65499</td>\n",
       "    </tr>\n",
       "    <tr>\n",
       "      <th>2013-10-02</th>\n",
       "      <td>125.45500</td>\n",
       "    </tr>\n",
       "    <tr>\n",
       "      <th>2013-10-03</th>\n",
       "      <td>108.58483</td>\n",
       "    </tr>\n",
       "    <tr>\n",
       "      <th>2013-10-04</th>\n",
       "      <td>118.67466</td>\n",
       "    </tr>\n",
       "    <tr>\n",
       "      <th>2013-10-05</th>\n",
       "      <td>121.33866</td>\n",
       "    </tr>\n",
       "  </tbody>\n",
       "</table>\n",
       "</div>"
      ],
      "text/plain": [
       "                Price\n",
       "Date                 \n",
       "2013-10-01  123.65499\n",
       "2013-10-02  125.45500\n",
       "2013-10-03  108.58483\n",
       "2013-10-04  118.67466\n",
       "2013-10-05  121.33866"
      ]
     },
     "execution_count": 6,
     "metadata": {},
     "output_type": "execute_result"
    }
   ],
   "source": [
    "# Separating closing prices for each day\n",
    "bitcoin_prices = pd.DataFrame(df[\"Closing Price (USD)\"]).rename(columns={\"Closing Price (USD)\":\"Price\"})\n",
    "bitcoin_prices.head()"
   ]
  },
  {
   "cell_type": "code",
   "execution_count": 7,
   "metadata": {},
   "outputs": [
    {
     "data": {
      "image/png": "[encoded data removed]",
      "text/plain": [
       "<Figure size 720x504 with 1 Axes>"
      ]
     },
     "metadata": {
      "needs_background": "light"
     },
     "output_type": "display_data"
    }
   ],
   "source": [
    "# Visualising Bitcoin prices\n",
    "import matplotlib.pyplot as plt\n",
    "bitcoin_prices.plot(figsize=(10, 7))\n",
    "plt.ylabel(\"BTC Price\")\n",
    "plt.title(\"Price of Bitcoin: Oct 2013 - May 2021\", fontsize=16)\n",
    "plt.legend(fontsize=14);"
   ]
  },
  {
   "attachments": {},
   "cell_type": "markdown",
   "metadata": {},
   "source": [
    "### Importing time series with Python"
   ]
  },
  {
   "cell_type": "code",
   "execution_count": 8,
   "metadata": {},
   "outputs": [
    {
     "data": {
      "text/plain": [
       "([datetime.datetime(2013, 10, 1, 0, 0),\n",
       "  datetime.datetime(2013, 10, 2, 0, 0),\n",
       "  datetime.datetime(2013, 10, 3, 0, 0),\n",
       "  datetime.datetime(2013, 10, 4, 0, 0),\n",
       "  datetime.datetime(2013, 10, 5, 0, 0),\n",
       "  datetime.datetime(2013, 10, 6, 0, 0),\n",
       "  datetime.datetime(2013, 10, 7, 0, 0),\n",
       "  datetime.datetime(2013, 10, 8, 0, 0),\n",
       "  datetime.datetime(2013, 10, 9, 0, 0),\n",
       "  datetime.datetime(2013, 10, 10, 0, 0)],\n",
       " [123.65499,\n",
       "  125.455,\n",
       "  108.58483,\n",
       "  118.67466,\n",
       "  121.33866,\n",
       "  120.65533,\n",
       "  121.795,\n",
       "  123.033,\n",
       "  124.049,\n",
       "  125.96116])"
      ]
     },
     "execution_count": 8,
     "metadata": {},
     "output_type": "execute_result"
    }
   ],
   "source": [
    "# Importing Bitcoin data with Python\n",
    "import csv\n",
    "from datetime import datetime\n",
    "\n",
    "timestamps = []\n",
    "btc_price = []\n",
    "with open(\"BTC_USD_2013-10-01_2021-05-18-CoinDesk.csv\", \"r\") as f:\n",
    "    csv_reader = csv.reader(f, delimiter=\",\")\n",
    "    next(csv_reader) # Skips first line to remove column names\n",
    "    for line in csv_reader:\n",
    "        timestamps.append(datetime.strptime(line[1], \"%Y-%m-%d\"))\n",
    "        btc_price.append(float(line[2]))\n",
    "\n",
    "# Viewing first 10 records\n",
    "timestamps[:10], btc_price[:10]"
   ]
  },
  {
   "cell_type": "code",
   "execution_count": 9,
   "metadata": {},
   "outputs": [
    {
     "data": {
      "text/plain": [
       "Text(0.5, 1.0, 'Price of Bitcoin: Oct 2013 - May 2021')"
      ]
     },
     "execution_count": 9,
     "metadata": {},
     "output_type": "execute_result"
    },
    {
     "data": {
      "image/png": "[encoded data removed]",
      "text/plain": [
       "<Figure size 720x504 with 1 Axes>"
      ]
     },
     "metadata": {
      "needs_background": "light"
     },
     "output_type": "display_data"
    }
   ],
   "source": [
    "# Plotting from CSV\n",
    "import matplotlib.pyplot as plt\n",
    "import numpy as np\n",
    "\n",
    "plt.figure(figsize=(10, 7))\n",
    "plt.plot(timestamps, btc_price)\n",
    "plt.xlabel(\"Date\")\n",
    "plt.ylabel(\"BTC Price\")\n",
    "plt.title(\"Price of Bitcoin: Oct 2013 - May 2021\", fontsize=16)\n",
    "#plt.legend();"
   ]
  },
  {
   "attachments": {},
   "cell_type": "markdown",
   "metadata": {},
   "source": [
    "### Creating train and test data"
   ]
  },
  {
   "cell_type": "code",
   "execution_count": 10,
   "metadata": {},
   "outputs": [
    {
     "data": {
      "text/plain": [
       "(array(['2013-10-01T00:00:00.000000000', '2013-10-02T00:00:00.000000000',\n",
       "        '2013-10-03T00:00:00.000000000', '2013-10-04T00:00:00.000000000',\n",
       "        '2013-10-05T00:00:00.000000000', '2013-10-06T00:00:00.000000000',\n",
       "        '2013-10-07T00:00:00.000000000', '2013-10-08T00:00:00.000000000',\n",
       "        '2013-10-09T00:00:00.000000000', '2013-10-10T00:00:00.000000000'],\n",
       "       dtype='datetime64[ns]'),\n",
       " array([123.65499, 125.455  , 108.58483, 118.67466, 121.33866, 120.65533,\n",
       "        121.795  , 123.033  , 124.049  , 125.96116]))"
      ]
     },
     "execution_count": 10,
     "metadata": {},
     "output_type": "execute_result"
    }
   ],
   "source": [
    "# Get Bitcoin date array\n",
    "timestamps = bitcoin_prices.index.to_numpy()\n",
    "prices = bitcoin_prices[\"Price\"].to_numpy()\n",
    "\n",
    "timestamps[:10], prices[:10]"
   ]
  },
  {
   "cell_type": "code",
   "execution_count": 11,
   "metadata": {},
   "outputs": [
    {
     "data": {
      "text/plain": [
       "((2229,), (558,), (2229,), (558,))"
      ]
     },
     "execution_count": 11,
     "metadata": {},
     "output_type": "execute_result"
    }
   ],
   "source": [
    "# Wrong way to create train / test split for time series data\n",
    "from sklearn.model_selection import train_test_split\n",
    "\n",
    "X_train, X_test, y_train, y_test = train_test_split(\n",
    "    timestamps, # dates\n",
    "    prices, # BTC prices\n",
    "    test_size=0.2,\n",
    "    random_state=42\n",
    ")\n",
    "X_train.shape, X_test.shape, y_train.shape, y_test.shape"
   ]
  },
  {
   "cell_type": "code",
   "execution_count": 12,
   "metadata": {},
   "outputs": [
    {
     "data": {
      "image/png": "[encoded data removed]",
      "text/plain": [
       "<Figure size 720x504 with 1 Axes>"
      ]
     },
     "metadata": {
      "needs_background": "light"
     },
     "output_type": "display_data"
    }
   ],
   "source": [
    "# Plotting the wrong data split results\n",
    "plt.figure(figsize=(10, 7))\n",
    "plt.scatter(X_train, y_train, s=5, label=\"Train data\")\n",
    "plt.scatter(X_test, y_test, s=5, label=\"Test data\")\n",
    "plt.xlabel(\"Date\")\n",
    "plt.ylabel(\"BTC Price\")\n",
    "plt.legend(fontsize=14)\n",
    "plt.show();"
   ]
  },
  {
   "cell_type": "code",
   "execution_count": 13,
   "metadata": {},
   "outputs": [
    {
     "data": {
      "text/plain": [
       "(2229, 558, 2229, 558)"
      ]
     },
     "execution_count": 13,
     "metadata": {},
     "output_type": "execute_result"
    }
   ],
   "source": [
    "# Right way to create train / test split for time series data\n",
    "split_size = int(0.8 * len(prices)) # 80% - train, 20% - test\n",
    "\n",
    "X_train, y_train = timestamps[:split_size], prices[:split_size]\n",
    "X_test, y_test = timestamps[split_size:], prices[split_size:]\n",
    "\n",
    "len(X_train), len(X_test), len(y_train), len(y_test)"
   ]
  },
  {
   "cell_type": "code",
   "execution_count": 14,
   "metadata": {},
   "outputs": [
    {
     "data": {
      "image/png": "[encoded data removed]",
      "text/plain": [
       "<Figure size 720x504 with 1 Axes>"
      ]
     },
     "metadata": {
      "needs_background": "light"
     },
     "output_type": "display_data"
    }
   ],
   "source": [
    "# Plotting the right data split results\n",
    "plt.figure(figsize=(10, 7))\n",
    "plt.scatter(X_train, y_train, s=5, label=\"Train data\")\n",
    "plt.scatter(X_test, y_test, s=5, label=\"Test data\")\n",
    "plt.xlabel(\"Date\")\n",
    "plt.ylabel(\"BTC Price\")\n",
    "plt.legend(fontsize=14)\n",
    "plt.show();"
   ]
  },
  {
   "cell_type": "code",
   "execution_count": 15,
   "metadata": {},
   "outputs": [],
   "source": [
    "# Creating plotting function\n",
    "def plot_time_series(timestamps, values, marker=\",\", start=0, end=None, label=None):\n",
    "    plt.plot(timestamps[start:end], values[start:end], marker=marker, label=label)\n",
    "    plt.xlabel(\"Time\")\n",
    "    plt.ylabel(\"BTC Price\")\n",
    "    if label:\n",
    "        plt.legend(fontsize=14)\n",
    "    plt.grid(True)"
   ]
  },
  {
   "cell_type": "code",
   "execution_count": 16,
   "metadata": {},
   "outputs": [
    {
     "data": {
      "image/png": "[encoded data removed]",
      "text/plain": [
       "<Figure size 720x504 with 1 Axes>"
      ]
     },
     "metadata": {
      "needs_background": "light"
     },
     "output_type": "display_data"
    }
   ],
   "source": [
    "# Testing plot function\n",
    "plt.figure(figsize=(10, 7))\n",
    "plot_time_series(timestamps=X_train, values=y_train, label=\"Train data\")\n",
    "plot_time_series(timestamps=X_test, values=y_test, label=\"Test data\")"
   ]
  },
  {
   "attachments": {},
   "cell_type": "markdown",
   "metadata": {},
   "source": [
    "### Model 0 - Naive forecast (baseline)"
   ]
  },
  {
   "attachments": {},
   "cell_type": "markdown",
   "metadata": {},
   "source": [
    "The prediction at timestamp t(y-hat) is equal to the value at timestamp t-1 (previous timestamp), i.e horizon of 1.\n",
    "$$\\hat{y}_{t} = y_{t-1}$$"
   ]
  },
  {
   "cell_type": "code",
   "execution_count": 17,
   "metadata": {},
   "outputs": [
    {
     "name": "stdout",
     "output_type": "stream",
     "text": [
      "First 10 values: [9226.48582088 8794.35864452 8798.04205463 9081.18687849 8711.53433917\n",
      " 8760.89271814 8749.52059102 8656.97092235 8500.64355816 8469.2608989 ]\n",
      "\n",
      "Last 10 values: [57107.12067189 58788.20967893 58102.19142623 55715.54665129\n",
      " 56573.5554719  52147.82118698 49764.1320816  50032.69313676\n",
      " 47885.62525472 45604.61575361]\n"
     ]
    }
   ],
   "source": [
    "# Creating naive forecast\n",
    "naive_forecast = y_test[:-1]\n",
    "\n",
    "print(f\"First 10 values: {naive_forecast[:10]}\\n\")\n",
    "print(f\"Last 10 values: {naive_forecast[-10:]}\")"
   ]
  },
  {
   "cell_type": "code",
   "execution_count": 18,
   "metadata": {},
   "outputs": [
    {
     "data": {
      "image/png": "[encoded data removed]",
      "text/plain": [
       "<Figure size 720x504 with 1 Axes>"
      ]
     },
     "metadata": {
      "needs_background": "light"
     },
     "output_type": "display_data"
    }
   ],
   "source": [
    "# Plotting naive forecast\n",
    "plt.figure(figsize=(10, 7))\n",
    "# plot_time_series(timestamps=X_train, values=y_train, label=\"Train data\")\n",
    "plot_time_series(timestamps=X_test, values=y_test, start=500, label=\"Test data\")\n",
    "plot_time_series(timestamps=X_test[1:], values=naive_forecast, start=500, marker=\"o\", label=\"Naive forecast\")"
   ]
  },
  {
   "cell_type": "code",
   "execution_count": 19,
   "metadata": {},
   "outputs": [],
   "source": [
    "# MASE implementation\n",
    "def mean_absolute_scaled_error(y_true, y_pred):\n",
    "    mae = tf.reduce_mean(tf.abs(y_true - y_pred))\n",
    "\n",
    "    # Find MAE of Naive Forecast (no seasonality)\n",
    "    mae_naive_no_season = tf.reduce_mean(tf.abs(y_true[1:] - y_true[:-1])) # Seasonality of 1 day\n",
    "\n",
    "    return mae / mae_naive_no_season"
   ]
  },
  {
   "cell_type": "code",
   "execution_count": 20,
   "metadata": {},
   "outputs": [
    {
     "data": {
      "text/plain": [
       "<tf.Tensor: shape=(), dtype=float64, numpy=0.9995699939182626>"
      ]
     },
     "execution_count": 20,
     "metadata": {},
     "output_type": "execute_result"
    }
   ],
   "source": [
    "# Verify if MASE of Naive Forecast is 1\n",
    "mean_absolute_scaled_error(\n",
    "    y_true=y_test[1:],\n",
    "    y_pred=naive_forecast\n",
    ")"
   ]
  },
  {
   "cell_type": "code",
   "execution_count": 21,
   "metadata": {},
   "outputs": [],
   "source": [
    "# Function for evaluation matrix\n",
    "def evaluate_preds(y_true, y_pred):\n",
    "\n",
    "    # Ensuring that we use float32 dtype (for metric calculations)\n",
    "    y_true = tf.cast(y_true, dtype=tf.float32)\n",
    "    y_pred = tf.cast(y_pred, dtype=tf.float32)\n",
    "\n",
    "    # Calculating various evaluation metrics\n",
    "    mae = tf.keras.metrics.mean_absolute_error(y_true, y_pred)\n",
    "    mse = tf.keras.metrics.mean_squared_error(y_true, y_pred)\n",
    "    rmse = tf.sqrt(mse)\n",
    "    mape = tf.keras.metrics.mean_absolute_percentage_error(y_true, y_pred)\n",
    "    mase = mean_absolute_scaled_error(y_true, y_pred)\n",
    "\n",
    "    return {\n",
    "        \"mae\": mae.numpy(),\n",
    "        \"mse\": mse.numpy(),\n",
    "        \"rmse\": rmse.numpy(),\n",
    "        \"mape\": mape.numpy(),\n",
    "        \"mase\": mase.numpy()\n",
    "    }"
   ]
  },
  {
   "cell_type": "code",
   "execution_count": 22,
   "metadata": {},
   "outputs": [
    {
     "data": {
      "text/plain": [
       "{'mae': 567.9802,\n",
       " 'mse': 1147547.0,\n",
       " 'rmse': 1071.2362,\n",
       " 'mape': 2.5165248,\n",
       " 'mase': 0.99957}"
      ]
     },
     "execution_count": 22,
     "metadata": {},
     "output_type": "execute_result"
    }
   ],
   "source": [
    "# Evaluating naive forecast results\n",
    "naive_results = evaluate_preds(y_true=y_test[1:], y_pred=naive_forecast)\n",
    "naive_results"
   ]
  },
  {
   "attachments": {},
   "cell_type": "markdown",
   "metadata": {},
   "source": [
    "### Windowing data"
   ]
  },
  {
   "cell_type": "code",
   "execution_count": 23,
   "metadata": {},
   "outputs": [
    {
     "name": "stdout",
     "output_type": "stream",
     "text": [
      "Intention is to use [123.65499, 125.455, 108.58483, 118.67466, 121.33866, 120.65533, 121.795] to predict 123.033\n"
     ]
    }
   ],
   "source": [
    "# We want to use Bitcoin prices of the week to predict next day price\n",
    "print(f\"Intention is to use {btc_price[:7]} to predict {btc_price[7]}\")"
   ]
  },
  {
   "cell_type": "code",
   "execution_count": 24,
   "metadata": {},
   "outputs": [],
   "source": [
    "# Setting up global variables for window size and horizon\n",
    "HORIZON = 1 # predict next 1 day\n",
    "WINDOW_SIZE = 7 # use the past week of Bitcoin data"
   ]
  },
  {
   "cell_type": "code",
   "execution_count": 25,
   "metadata": {},
   "outputs": [],
   "source": [
    "# Creating function to label windowed data\n",
    "def get_labelled_window(x, horizon=HORIZON):\n",
    "    return x[:, :-horizon], x[:, -horizon:]"
   ]
  },
  {
   "cell_type": "code",
   "execution_count": 26,
   "metadata": {},
   "outputs": [
    {
     "data": {
      "text/plain": [
       "(<tf.Tensor: shape=(1, 7), dtype=int32, numpy=array([[1, 2, 3, 4, 5, 6, 7]])>,\n",
       " <tf.Tensor: shape=(1, 1), dtype=int32, numpy=array([[8]])>)"
      ]
     },
     "execution_count": 26,
     "metadata": {},
     "output_type": "execute_result"
    }
   ],
   "source": [
    "# Testing window labelling function\n",
    "test_window, test_label = get_labelled_window(tf.expand_dims(tf.range(8) + 1, axis=0))\n",
    "test_window, test_label"
   ]
  },
  {
   "cell_type": "code",
   "execution_count": 27,
   "metadata": {},
   "outputs": [],
   "source": [
    "# Creating function to view NumPy arrays as windows\n",
    "def make_windows(x, window_size=WINDOW_SIZE, horizon=HORIZON):\n",
    "\n",
    "    # 1. Creating window of specific window size\n",
    "    window_step = np.expand_dims(np.arange(window_size + horizon), axis=0)\n",
    "\n",
    "    # 2. Creating 2D array of multiple windows\n",
    "    window_indexes = window_step + np.expand_dims(np.arange(len(x) - (window_size + horizon - 1)), axis=0).T\n",
    "    # print(f\"Windows indexes: {window_indexes} with shape of {window_indexes.shape}\")\n",
    "\n",
    "    # 3. Index on the target array (time series) with 2D of multiple window steps\n",
    "    windowed_array = x[window_indexes]\n",
    "\n",
    "    # 4. Get the labelled windows\n",
    "    windows, labels = get_labelled_window(windowed_array, horizon=horizon)\n",
    "    return windows, labels"
   ]
  },
  {
   "cell_type": "code",
   "execution_count": 28,
   "metadata": {},
   "outputs": [
    {
     "data": {
      "text/plain": [
       "(2780, 2780)"
      ]
     },
     "execution_count": 28,
     "metadata": {},
     "output_type": "execute_result"
    }
   ],
   "source": [
    "# Testing the function\n",
    "full_windows, full_labels = make_windows(prices)\n",
    "len(full_windows), len(full_labels)"
   ]
  },
  {
   "cell_type": "code",
   "execution_count": 29,
   "metadata": {},
   "outputs": [
    {
     "name": "stdout",
     "output_type": "stream",
     "text": [
      "Window: [123.65499 125.455   108.58483 118.67466 121.33866 120.65533 121.795  ] -> Label: [123.033]\n",
      "Window: [125.455   108.58483 118.67466 121.33866 120.65533 121.795   123.033  ] -> Label: [124.049]\n",
      "Window: [108.58483 118.67466 121.33866 120.65533 121.795   123.033   124.049  ] -> Label: [125.96116]\n"
     ]
    }
   ],
   "source": [
    "# Viewing the first 3 windows / labels\n",
    "for i in range(3):\n",
    "    print(f\"Window: {full_windows[i]} -> Label: {full_labels[i]}\")"
   ]
  },
  {
   "cell_type": "code",
   "execution_count": 30,
   "metadata": {},
   "outputs": [
    {
     "name": "stdout",
     "output_type": "stream",
     "text": [
      "Window: [58788.20967893 58102.19142623 55715.54665129 56573.5554719\n",
      " 52147.82118698 49764.1320816  50032.69313676] -> Label: [47885.62525472]\n",
      "Window: [58102.19142623 55715.54665129 56573.5554719  52147.82118698\n",
      " 49764.1320816  50032.69313676 47885.62525472] -> Label: [45604.61575361]\n",
      "Window: [55715.54665129 56573.5554719  52147.82118698 49764.1320816\n",
      " 50032.69313676 47885.62525472 45604.61575361] -> Label: [43144.47129086]\n"
     ]
    }
   ],
   "source": [
    "# Viewing the last 3 windows / labels\n",
    "for i in range(3):\n",
    "    print(f\"Window: {full_windows[i-3]} -> Label: {full_labels[i-3]}\")"
   ]
  },
  {
   "attachments": {},
   "cell_type": "markdown",
   "metadata": {},
   "source": [
    "### Splitting windows into training and testing sets"
   ]
  },
  {
   "cell_type": "code",
   "execution_count": 31,
   "metadata": {},
   "outputs": [],
   "source": [
    "# Creating function to make train / test splits\n",
    "def make_train_test_splits(windows, labels, test_split=0.2):\n",
    "    split_size = int(len(windows) * (1 - test_split)) # Default 80% train / 20% test\n",
    "    train_windows = windows[:split_size]\n",
    "    train_labels = labels[:split_size]\n",
    "    test_windows = windows[split_size:]\n",
    "    test_labels = labels[split_size:]\n",
    "    return train_windows, test_windows, train_labels, test_labels"
   ]
  },
  {
   "cell_type": "code",
   "execution_count": 32,
   "metadata": {},
   "outputs": [
    {
     "data": {
      "text/plain": [
       "(2224, 556, 2224, 556)"
      ]
     },
     "execution_count": 32,
     "metadata": {},
     "output_type": "execute_result"
    }
   ],
   "source": [
    "# Creating training and testing windows\n",
    "train_windows, test_windows, train_labels, test_labels = make_train_test_splits(\n",
    "    full_windows, full_labels\n",
    ")\n",
    "len(train_windows), len(test_windows), len(train_labels), len(test_labels)"
   ]
  },
  {
   "cell_type": "code",
   "execution_count": 33,
   "metadata": {},
   "outputs": [
    {
     "data": {
      "text/plain": [
       "(array([[123.65499, 125.455  , 108.58483, 118.67466, 121.33866, 120.65533,\n",
       "         121.795  ],\n",
       "        [125.455  , 108.58483, 118.67466, 121.33866, 120.65533, 121.795  ,\n",
       "         123.033  ],\n",
       "        [108.58483, 118.67466, 121.33866, 120.65533, 121.795  , 123.033  ,\n",
       "         124.049  ],\n",
       "        [118.67466, 121.33866, 120.65533, 121.795  , 123.033  , 124.049  ,\n",
       "         125.96116],\n",
       "        [121.33866, 120.65533, 121.795  , 123.033  , 124.049  , 125.96116,\n",
       "         125.27966]]),\n",
       " array([[123.033  ],\n",
       "        [124.049  ],\n",
       "        [125.96116],\n",
       "        [125.27966],\n",
       "        [125.9275 ]]))"
      ]
     },
     "execution_count": 33,
     "metadata": {},
     "output_type": "execute_result"
    }
   ],
   "source": [
    "# Checking the first 5 train window values\n",
    "train_windows[:5], train_labels[:5]"
   ]
  },
  {
   "cell_type": "code",
   "execution_count": 34,
   "metadata": {},
   "outputs": [
    {
     "data": {
      "text/plain": [
       "(array([[9290.89660239, 9202.41545055, 9369.62808116, 9326.59962378,\n",
       "         9335.75240233, 9226.48582088, 8794.35864452],\n",
       "        [9202.41545055, 9369.62808116, 9326.59962378, 9335.75240233,\n",
       "         9226.48582088, 8794.35864452, 8798.04205463],\n",
       "        [9369.62808116, 9326.59962378, 9335.75240233, 9226.48582088,\n",
       "         8794.35864452, 8798.04205463, 9081.18687849],\n",
       "        [9326.59962378, 9335.75240233, 9226.48582088, 8794.35864452,\n",
       "         8798.04205463, 9081.18687849, 8711.53433917],\n",
       "        [9335.75240233, 9226.48582088, 8794.35864452, 8798.04205463,\n",
       "         9081.18687849, 8711.53433917, 8760.89271814]]),\n",
       " array([[8798.04205463],\n",
       "        [9081.18687849],\n",
       "        [8711.53433917],\n",
       "        [8760.89271814],\n",
       "        [8749.52059102]]))"
      ]
     },
     "execution_count": 34,
     "metadata": {},
     "output_type": "execute_result"
    }
   ],
   "source": [
    "# Checking the first test values\n",
    "test_windows[:5], test_labels[:5]"
   ]
  },
  {
   "attachments": {},
   "cell_type": "markdown",
   "metadata": {},
   "source": [
    "### Modelling checkpoint callback"
   ]
  },
  {
   "cell_type": "code",
   "execution_count": 35,
   "metadata": {},
   "outputs": [],
   "source": [
    "# Function to implement ModelCheckpoint callback\n",
    "import os\n",
    "\n",
    "def create_model_checkpoint(model_name, save_path=\"model_experiments\"):\n",
    "    return tf.keras.callbacks.ModelCheckpoint(\n",
    "        filepath=os.path.join(save_path, model_name),\n",
    "        verbose=0,\n",
    "        save_best_only=True\n",
    "    )"
   ]
  },
  {
   "attachments": {},
   "cell_type": "markdown",
   "metadata": {},
   "source": [
    "### Model 1 - Dense model (window = 7, horizon = 1)"
   ]
  },
  {
   "cell_type": "code",
   "execution_count": 36,
   "metadata": {},
   "outputs": [
    {
     "name": "stdout",
     "output_type": "stream",
     "text": [
      "Epoch 1/100\n",
      "12/18 [===================>..........] - ETA: 0s - loss: 888.8682 - mae: 888.8682 - mse: 2954377.0000   INFO:tensorflow:Assets written to: model_experiments\\model_1_dense\\assets\n",
      "18/18 [==============================] - 5s 166ms/step - loss: 767.5490 - mae: 767.5490 - mse: 2282622.2500 - val_loss: 1619.1656 - val_mae: 1619.1656 - val_mse: 7740089.0000\n",
      "Epoch 2/100\n",
      "12/18 [===================>..........] - ETA: 0s - loss: 272.0878 - mae: 272.0878 - mse: 334223.9688INFO:tensorflow:Assets written to: model_experiments\\model_1_dense\\assets\n",
      "18/18 [==============================] - 2s 92ms/step - loss: 259.7924 - mae: 259.7924 - mse: 298587.8125 - val_loss: 1345.1830 - val_mae: 1345.1830 - val_mse: 5694588.0000\n",
      "Epoch 3/100\n",
      "13/18 [====================>.........] - ETA: 0s - loss: 216.7210 - mae: 216.7210 - mse: 227767.6094INFO:tensorflow:Assets written to: model_experiments\\model_1_dense\\assets\n",
      "18/18 [==============================] - 2s 88ms/step - loss: 211.2335 - mae: 211.2335 - mse: 219222.8125 - val_loss: 1087.2550 - val_mae: 1087.2550 - val_mse: 3813378.7500\n",
      "Epoch 4/100\n",
      "18/18 [==============================] - 0s 10ms/step - loss: 188.6993 - mae: 188.6993 - mse: 188228.3906 - val_loss: 1147.1947 - val_mae: 1147.1947 - val_mse: 3861260.0000\n",
      "Epoch 5/100\n",
      "11/18 [=================>............] - ETA: 0s - loss: 193.8427 - mae: 193.8427 - mse: 202012.8125INFO:tensorflow:Assets written to: model_experiments\\model_1_dense\\assets\n",
      "18/18 [==============================] - 2s 95ms/step - loss: 185.9763 - mae: 185.9763 - mse: 180402.9688 - val_loss: 1008.6976 - val_mae: 1008.6976 - val_mse: 3432733.5000\n",
      "Epoch 6/100\n",
      "11/18 [=================>............] - ETA: 0s - loss: 183.2359 - mae: 183.2359 - mse: 160529.1875INFO:tensorflow:Assets written to: model_experiments\\model_1_dense\\assets\n",
      "18/18 [==============================] - 2s 98ms/step - loss: 184.6779 - mae: 184.6779 - mse: 171941.2031 - val_loss: 1001.5615 - val_mae: 1001.5615 - val_mse: 3141650.5000\n",
      "Epoch 7/100\n",
      "12/18 [===================>..........] - ETA: 0s - loss: 178.2456 - mae: 178.2456 - mse: 173756.5469INFO:tensorflow:Assets written to: model_experiments\\model_1_dense\\assets\n",
      "18/18 [==============================] - 2s 98ms/step - loss: 173.1088 - mae: 173.1088 - mse: 157113.3125 - val_loss: 923.4609 - val_mae: 923.4609 - val_mse: 2874481.2500\n",
      "Epoch 8/100\n",
      "10/18 [===============>..............] - ETA: 0s - loss: 160.8277 - mae: 160.8277 - mse: 137013.0938INFO:tensorflow:Assets written to: model_experiments\\model_1_dense\\assets\n",
      "18/18 [==============================] - 2s 93ms/step - loss: 164.6668 - mae: 164.6668 - mse: 144489.8125 - val_loss: 895.2982 - val_mae: 895.2982 - val_mse: 2714625.7500\n",
      "Epoch 9/100\n",
      "12/18 [===================>..........] - ETA: 0s - loss: 164.7968 - mae: 164.7968 - mse: 141719.6250INFO:tensorflow:Assets written to: model_experiments\\model_1_dense\\assets\n",
      "18/18 [==============================] - 2s 92ms/step - loss: 162.2666 - mae: 162.2666 - mse: 139644.7188 - val_loss: 853.1571 - val_mae: 853.1571 - val_mse: 2466523.7500\n",
      "Epoch 10/100\n",
      "14/18 [======================>.......] - ETA: 0s - loss: 151.8645 - mae: 151.8645 - mse: 121323.2656INFO:tensorflow:Assets written to: model_experiments\\model_1_dense\\assets\n",
      "18/18 [==============================] - 2s 100ms/step - loss: 157.3125 - mae: 157.3125 - mse: 132491.7500 - val_loss: 825.7852 - val_mae: 825.7851 - val_mse: 2272239.2500\n",
      "Epoch 11/100\n",
      "18/18 [==============================] - 0s 11ms/step - loss: 147.2072 - mae: 147.2072 - mse: 118476.1172 - val_loss: 830.9346 - val_mae: 830.9346 - val_mse: 2178681.5000\n",
      "Epoch 12/100\n",
      "18/18 [==============================] - 0s 12ms/step - loss: 141.7053 - mae: 141.7053 - mse: 111608.2500 - val_loss: 914.6783 - val_mae: 914.6783 - val_mse: 2361060.0000\n",
      "Epoch 13/100\n",
      "12/18 [===================>..........] - ETA: 0s - loss: 138.4705 - mae: 138.4705 - mse: 104508.8750INFO:tensorflow:Assets written to: model_experiments\\model_1_dense\\assets\n",
      "18/18 [==============================] - 2s 105ms/step - loss: 144.8439 - mae: 144.8439 - mse: 111223.3203 - val_loss: 805.0413 - val_mae: 805.0413 - val_mse: 1992148.7500\n",
      "Epoch 14/100\n",
      "13/18 [====================>.........] - ETA: 0s - loss: 134.1013 - mae: 134.1013 - mse: 96770.1953INFO:tensorflow:Assets written to: model_experiments\\model_1_dense\\assets\n",
      "18/18 [==============================] - 2s 98ms/step - loss: 135.8322 - mae: 135.8322 - mse: 102461.6562 - val_loss: 737.7158 - val_mae: 737.7158 - val_mse: 1788805.3750\n",
      "Epoch 15/100\n",
      "10/18 [===============>..............] - ETA: 0s - loss: 139.3103 - mae: 139.3103 - mse: 101672.2109INFO:tensorflow:Assets written to: model_experiments\\model_1_dense\\assets\n",
      "18/18 [==============================] - 2s 92ms/step - loss: 138.9402 - mae: 138.9402 - mse: 101260.1328 - val_loss: 706.4975 - val_mae: 706.4975 - val_mse: 1695331.6250\n",
      "Epoch 16/100\n",
      "14/18 [======================>.......] - ETA: 0s - loss: 128.8652 - mae: 128.8652 - mse: 90808.8125INFO:tensorflow:Assets written to: model_experiments\\model_1_dense\\assets\n",
      "18/18 [==============================] - 2s 88ms/step - loss: 128.3885 - mae: 128.3885 - mse: 90646.1641 - val_loss: 690.4280 - val_mae: 690.4280 - val_mse: 1628191.7500\n",
      "Epoch 17/100\n",
      "18/18 [==============================] - 0s 11ms/step - loss: 126.7018 - mae: 126.7018 - mse: 92254.6094 - val_loss: 717.5892 - val_mae: 717.5892 - val_mse: 1638513.7500\n",
      "Epoch 18/100\n",
      "11/18 [=================>............] - ETA: 0s - loss: 128.0207 - mae: 128.0207 - mse: 95765.7734INFO:tensorflow:Assets written to: model_experiments\\model_1_dense\\assets\n",
      "18/18 [==============================] - 2s 116ms/step - loss: 122.7040 - mae: 122.7040 - mse: 87389.2812 - val_loss: 662.3015 - val_mae: 662.3015 - val_mse: 1516867.5000\n",
      "Epoch 19/100\n",
      "18/18 [==============================] - 0s 11ms/step - loss: 123.8062 - mae: 123.8062 - mse: 86555.5625 - val_loss: 751.7668 - val_mae: 751.7668 - val_mse: 1698925.8750\n",
      "Epoch 20/100\n",
      "18/18 [==============================] - 0s 15ms/step - loss: 122.1586 - mae: 122.1586 - mse: 82257.3984 - val_loss: 694.3574 - val_mae: 694.3574 - val_mse: 1614345.8750\n",
      "Epoch 21/100\n",
      "14/18 [======================>.......] - ETA: 0s - loss: 123.7074 - mae: 123.7074 - mse: 85849.0234 INFO:tensorflow:Assets written to: model_experiments\\model_1_dense\\assets\n",
      "18/18 [==============================] - 2s 124ms/step - loss: 123.1792 - mae: 123.1792 - mse: 88029.5391 - val_loss: 632.4587 - val_mae: 632.4587 - val_mse: 1385277.8750\n",
      "Epoch 22/100\n",
      "18/18 [==============================] - 0s 14ms/step - loss: 117.0718 - mae: 117.0718 - mse: 80794.5078 - val_loss: 684.8691 - val_mae: 684.8691 - val_mse: 1489025.0000\n",
      "Epoch 23/100\n",
      "18/18 [==============================] - 0s 11ms/step - loss: 118.8556 - mae: 118.8556 - mse: 79016.4922 - val_loss: 633.6739 - val_mae: 633.6739 - val_mse: 1399791.8750\n",
      "Epoch 24/100\n",
      " 9/18 [==============>...............] - ETA: 0s - loss: 112.4251 - mae: 112.4251 - mse: 87629.6094INFO:tensorflow:Assets written to: model_experiments\\model_1_dense\\assets\n",
      "18/18 [==============================] - 2s 90ms/step - loss: 115.8726 - mae: 115.8726 - mse: 79771.5938 - val_loss: 620.5630 - val_mae: 620.5630 - val_mse: 1331516.5000\n",
      "Epoch 25/100\n",
      "13/18 [====================>.........] - ETA: 0s - loss: 116.6369 - mae: 116.6369 - mse: 77586.7969INFO:tensorflow:Assets written to: model_experiments\\model_1_dense\\assets\n",
      "18/18 [==============================] - 2s 90ms/step - loss: 113.8246 - mae: 113.8246 - mse: 77114.5156 - val_loss: 613.7762 - val_mae: 613.7762 - val_mse: 1311011.2500\n",
      "Epoch 26/100\n",
      "18/18 [==============================] - 0s 14ms/step - loss: 115.4975 - mae: 115.4975 - mse: 77089.1953 - val_loss: 618.6864 - val_mae: 618.6864 - val_mse: 1313684.5000\n",
      "Epoch 27/100\n",
      "18/18 [==============================] - 0s 11ms/step - loss: 119.3300 - mae: 119.3300 - mse: 77701.4062 - val_loss: 621.1135 - val_mae: 621.1135 - val_mse: 1342470.8750\n",
      "Epoch 28/100\n",
      "12/18 [===================>..........] - ETA: 0s - loss: 113.2971 - mae: 113.2971 - mse: 74348.3047INFO:tensorflow:Assets written to: model_experiments\\model_1_dense\\assets\n",
      "18/18 [==============================] - 2s 94ms/step - loss: 112.3496 - mae: 112.3496 - mse: 75790.5547 - val_loss: 594.7510 - val_mae: 594.7510 - val_mse: 1268416.2500\n",
      "Epoch 29/100\n",
      "14/18 [======================>.......] - ETA: 0s - loss: 109.5117 - mae: 109.5117 - mse: 73861.2031INFO:tensorflow:Assets written to: model_experiments\\model_1_dense\\assets\n",
      "18/18 [==============================] - 2s 90ms/step - loss: 110.8165 - mae: 110.8165 - mse: 74151.7266 - val_loss: 590.3794 - val_mae: 590.3794 - val_mse: 1253452.8750\n",
      "Epoch 30/100\n",
      "14/18 [======================>.......] - ETA: 0s - loss: 117.4677 - mae: 117.4677 - mse: 76717.8359INFO:tensorflow:Assets written to: model_experiments\\model_1_dense\\assets\n",
      "18/18 [==============================] - 2s 95ms/step - loss: 118.3389 - mae: 118.3389 - mse: 78700.7734 - val_loss: 588.3918 - val_mae: 588.3918 - val_mse: 1245571.8750\n",
      "Epoch 31/100\n",
      "18/18 [==============================] - 0s 11ms/step - loss: 122.6668 - mae: 122.6668 - mse: 78565.2812 - val_loss: 632.2068 - val_mae: 632.2068 - val_mse: 1327397.7500\n",
      "Epoch 32/100\n",
      "18/18 [==============================] - 0s 9ms/step - loss: 114.8627 - mae: 114.8627 - mse: 77145.2812 - val_loss: 592.0840 - val_mae: 592.0840 - val_mse: 1242702.5000\n",
      "Epoch 33/100\n",
      "18/18 [==============================] - 0s 10ms/step - loss: 111.0437 - mae: 111.0437 - mse: 73492.7266 - val_loss: 631.4914 - val_mae: 631.4914 - val_mse: 1322106.0000\n",
      "Epoch 34/100\n",
      "11/18 [=================>............] - ETA: 0s - loss: 114.2314 - mae: 114.2314 - mse: 81657.6875 INFO:tensorflow:Assets written to: model_experiments\\model_1_dense\\assets\n",
      "18/18 [==============================] - 1s 87ms/step - loss: 112.2073 - mae: 112.2073 - mse: 74975.5469 - val_loss: 579.8787 - val_mae: 579.8787 - val_mse: 1219811.5000\n",
      "Epoch 35/100\n",
      "18/18 [==============================] - 0s 15ms/step - loss: 108.5810 - mae: 108.5810 - mse: 71815.5625 - val_loss: 592.9201 - val_mae: 592.9201 - val_mse: 1246841.1250\n",
      "Epoch 36/100\n",
      "18/18 [==============================] - 0s 11ms/step - loss: 113.4073 - mae: 113.4073 - mse: 75042.0469 - val_loss: 586.0740 - val_mae: 586.0740 - val_mse: 1230184.8750\n",
      "Epoch 37/100\n",
      "18/18 [==============================] - 0s 11ms/step - loss: 109.3927 - mae: 109.3927 - mse: 73015.3828 - val_loss: 582.7004 - val_mae: 582.7004 - val_mse: 1214380.6250\n",
      "Epoch 38/100\n",
      "18/18 [==============================] - 0s 10ms/step - loss: 111.2419 - mae: 111.2419 - mse: 73874.8516 - val_loss: 591.4137 - val_mae: 591.4137 - val_mse: 1228106.5000\n",
      "Epoch 39/100\n",
      "18/18 [==============================] - 0s 10ms/step - loss: 111.9001 - mae: 111.9001 - mse: 74539.6875 - val_loss: 594.8432 - val_mae: 594.8432 - val_mse: 1233565.7500\n",
      "Epoch 40/100\n",
      "18/18 [==============================] - 0s 10ms/step - loss: 110.8862 - mae: 110.8862 - mse: 70513.2812 - val_loss: 693.7610 - val_mae: 693.7610 - val_mse: 1497530.8750\n",
      "Epoch 41/100\n",
      "13/18 [====================>.........] - ETA: 0s - loss: 114.2280 - mae: 114.2280 - mse: 78749.0938INFO:tensorflow:Assets written to: model_experiments\\model_1_dense\\assets\n",
      "18/18 [==============================] - 2s 96ms/step - loss: 111.0630 - mae: 111.0630 - mse: 72520.9062 - val_loss: 575.8726 - val_mae: 575.8726 - val_mse: 1196517.1250\n",
      "Epoch 42/100\n",
      "18/18 [==============================] - 0s 11ms/step - loss: 117.0713 - mae: 117.0713 - mse: 78044.6172 - val_loss: 627.9151 - val_mae: 627.9151 - val_mse: 1301568.0000\n",
      "Epoch 43/100\n",
      "18/18 [==============================] - 0s 11ms/step - loss: 115.0907 - mae: 115.0907 - mse: 71596.6797 - val_loss: 666.7017 - val_mae: 666.7017 - val_mse: 1415184.7500\n",
      "Epoch 44/100\n",
      "18/18 [==============================] - 0s 11ms/step - loss: 112.9078 - mae: 112.9078 - mse: 71954.5469 - val_loss: 614.6349 - val_mae: 614.6349 - val_mse: 1270084.3750\n",
      "Epoch 45/100\n",
      "18/18 [==============================] - 0s 9ms/step - loss: 110.2112 - mae: 110.2112 - mse: 71999.8828 - val_loss: 603.6259 - val_mae: 603.6259 - val_mse: 1255172.0000\n",
      "Epoch 46/100\n",
      "18/18 [==============================] - 0s 9ms/step - loss: 109.1447 - mae: 109.1447 - mse: 69439.3359 - val_loss: 618.9794 - val_mae: 618.9794 - val_mse: 1277744.6250\n",
      "Epoch 47/100\n",
      "18/18 [==============================] - 0s 11ms/step - loss: 110.4418 - mae: 110.4418 - mse: 72397.8750 - val_loss: 577.8849 - val_mae: 577.8849 - val_mse: 1192854.8750\n",
      "Epoch 48/100\n",
      "18/18 [==============================] - 0s 10ms/step - loss: 107.8769 - mae: 107.8769 - mse: 70277.3438 - val_loss: 606.8992 - val_mae: 606.8992 - val_mse: 1249804.8750\n",
      "Epoch 49/100\n",
      "18/18 [==============================] - 0s 9ms/step - loss: 113.7511 - mae: 113.7511 - mse: 73321.2266 - val_loss: 600.8040 - val_mae: 600.8040 - val_mse: 1237040.7500\n",
      "Epoch 50/100\n",
      "18/18 [==============================] - 0s 10ms/step - loss: 114.2627 - mae: 114.2627 - mse: 73033.4062 - val_loss: 660.4639 - val_mae: 660.4639 - val_mse: 1390445.8750\n",
      "Epoch 51/100\n",
      "18/18 [==============================] - 0s 12ms/step - loss: 114.5348 - mae: 114.5348 - mse: 73698.5078 - val_loss: 607.4016 - val_mae: 607.4016 - val_mse: 1248840.5000\n",
      "Epoch 52/100\n",
      "18/18 [==============================] - 0s 10ms/step - loss: 114.2902 - mae: 114.2902 - mse: 74605.9297 - val_loss: 603.1886 - val_mae: 603.1886 - val_mse: 1248815.2500\n",
      "Epoch 53/100\n",
      "18/18 [==============================] - 0s 9ms/step - loss: 108.9725 - mae: 108.9725 - mse: 70880.0703 - val_loss: 580.0816 - val_mae: 580.0816 - val_mse: 1191949.8750\n",
      "Epoch 54/100\n",
      "18/18 [==============================] - 0s 10ms/step - loss: 106.1659 - mae: 106.1659 - mse: 68973.8281 - val_loss: 587.1732 - val_mae: 587.1732 - val_mse: 1212017.5000\n",
      "Epoch 55/100\n",
      "18/18 [==============================] - 0s 8ms/step - loss: 115.9838 - mae: 115.9838 - mse: 75977.1250 - val_loss: 583.3342 - val_mae: 583.3342 - val_mse: 1197238.5000\n",
      "Epoch 56/100\n",
      "18/18 [==============================] - 0s 9ms/step - loss: 113.7393 - mae: 113.7393 - mse: 72902.4062 - val_loss: 858.4033 - val_mae: 858.4033 - val_mse: 2037242.0000\n",
      "Epoch 57/100\n",
      "18/18 [==============================] - 0s 9ms/step - loss: 131.9568 - mae: 131.9568 - mse: 86808.5859 - val_loss: 668.6313 - val_mae: 668.6313 - val_mse: 1411502.0000\n",
      "Epoch 58/100\n",
      "18/18 [==============================] - 0s 9ms/step - loss: 118.2455 - mae: 118.2455 - mse: 73861.6328 - val_loss: 662.1290 - val_mae: 662.1290 - val_mse: 1367659.2500\n",
      "Epoch 59/100\n",
      "18/18 [==============================] - 0s 11ms/step - loss: 112.7924 - mae: 112.7924 - mse: 72051.3594 - val_loss: 625.8359 - val_mae: 625.8359 - val_mse: 1300088.3750\n",
      "Epoch 60/100\n",
      "18/18 [==============================] - 0s 11ms/step - loss: 113.5291 - mae: 113.5291 - mse: 75352.3828 - val_loss: 693.6801 - val_mae: 693.6801 - val_mse: 1452764.2500\n",
      "Epoch 61/100\n",
      "12/18 [===================>..........] - ETA: 0s - loss: 109.5229 - mae: 109.5229 - mse: 68753.6484 INFO:tensorflow:Assets written to: model_experiments\\model_1_dense\\assets\n",
      "18/18 [==============================] - 2s 99ms/step - loss: 112.2611 - mae: 112.2611 - mse: 74045.1406 - val_loss: 566.8810 - val_mae: 566.8810 - val_mse: 1164975.3750\n",
      "Epoch 62/100\n",
      "18/18 [==============================] - 0s 10ms/step - loss: 106.2739 - mae: 106.2739 - mse: 68836.7891 - val_loss: 569.8522 - val_mae: 569.8522 - val_mse: 1168074.6250\n",
      "Epoch 63/100\n",
      "18/18 [==============================] - 0s 10ms/step - loss: 106.1858 - mae: 106.1858 - mse: 68289.1875 - val_loss: 568.3196 - val_mae: 568.3196 - val_mse: 1164799.3750\n",
      "Epoch 64/100\n",
      "18/18 [==============================] - 0s 9ms/step - loss: 105.8034 - mae: 105.8034 - mse: 68211.2734 - val_loss: 605.0137 - val_mae: 605.0137 - val_mse: 1239252.7500\n",
      "Epoch 65/100\n",
      "18/18 [==============================] - 0s 10ms/step - loss: 109.5532 - mae: 109.5532 - mse: 71266.3594 - val_loss: 570.3782 - val_mae: 570.3782 - val_mse: 1170706.0000\n",
      "Epoch 66/100\n",
      "14/18 [======================>.......] - ETA: 0s - loss: 105.2286 - mae: 105.2286 - mse: 64518.9297INFO:tensorflow:Assets written to: model_experiments\\model_1_dense\\assets\n",
      "18/18 [==============================] - 2s 88ms/step - loss: 106.5524 - mae: 106.5524 - mse: 69160.7344 - val_loss: 565.4960 - val_mae: 565.4960 - val_mse: 1157843.3750\n",
      "Epoch 67/100\n",
      "18/18 [==============================] - 0s 11ms/step - loss: 106.5479 - mae: 106.5479 - mse: 68509.9766 - val_loss: 653.4165 - val_mae: 653.4165 - val_mse: 1360346.1250\n",
      "Epoch 68/100\n",
      "18/18 [==============================] - 0s 12ms/step - loss: 111.3018 - mae: 111.3018 - mse: 67970.9922 - val_loss: 669.1204 - val_mae: 669.1204 - val_mse: 1400228.7500\n",
      "Epoch 69/100\n",
      "18/18 [==============================] - 0s 10ms/step - loss: 116.5369 - mae: 116.5369 - mse: 73664.3906 - val_loss: 758.5494 - val_mae: 758.5494 - val_mse: 1640405.6250\n",
      "Epoch 70/100\n",
      "18/18 [==============================] - 0s 11ms/step - loss: 125.5426 - mae: 125.5426 - mse: 79486.2031 - val_loss: 576.8216 - val_mae: 576.8216 - val_mse: 1179513.5000\n",
      "Epoch 71/100\n",
      "18/18 [==============================] - 0s 10ms/step - loss: 109.5466 - mae: 109.5466 - mse: 68871.0078 - val_loss: 568.4506 - val_mae: 568.4506 - val_mse: 1166372.5000\n",
      "Epoch 72/100\n",
      "18/18 [==============================] - 0s 9ms/step - loss: 109.9486 - mae: 109.9486 - mse: 70244.7656 - val_loss: 566.3043 - val_mae: 566.3043 - val_mse: 1160180.5000\n",
      "Epoch 73/100\n",
      "18/18 [==============================] - 0s 8ms/step - loss: 111.0971 - mae: 111.0971 - mse: 70658.2344 - val_loss: 566.3870 - val_mae: 566.3870 - val_mse: 1159869.8750\n",
      "Epoch 74/100\n",
      "18/18 [==============================] - 0s 9ms/step - loss: 109.3096 - mae: 109.3096 - mse: 70476.3516 - val_loss: 589.3246 - val_mae: 589.3246 - val_mse: 1211456.8750\n",
      "Epoch 75/100\n",
      "18/18 [==============================] - 0s 9ms/step - loss: 111.8138 - mae: 111.8138 - mse: 71571.6250 - val_loss: 603.8164 - val_mae: 603.8164 - val_mse: 1231658.5000\n",
      "Epoch 76/100\n",
      "12/18 [===================>..........] - ETA: 0s - loss: 111.8937 - mae: 111.8937 - mse: 72347.9219INFO:tensorflow:Assets written to: model_experiments\\model_1_dense\\assets\n",
      "18/18 [==============================] - 2s 93ms/step - loss: 109.9986 - mae: 109.9986 - mse: 70816.5703 - val_loss: 565.1462 - val_mae: 565.1462 - val_mse: 1150979.6250\n",
      "Epoch 77/100\n",
      "12/18 [===================>..........] - ETA: 0s - loss: 108.8596 - mae: 108.8596 - mse: 69613.1328INFO:tensorflow:Assets written to: model_experiments\\model_1_dense\\assets\n",
      "18/18 [==============================] - 1s 85ms/step - loss: 105.4718 - mae: 105.4718 - mse: 67260.2734 - val_loss: 564.7938 - val_mae: 564.7938 - val_mse: 1151549.0000\n",
      "Epoch 78/100\n",
      "18/18 [==============================] - 0s 11ms/step - loss: 107.4422 - mae: 107.4422 - mse: 67532.8125 - val_loss: 568.5753 - val_mae: 568.5753 - val_mse: 1162267.1250\n",
      "Epoch 79/100\n",
      "18/18 [==============================] - 0s 11ms/step - loss: 107.3286 - mae: 107.3286 - mse: 69275.9766 - val_loss: 578.2535 - val_mae: 578.2535 - val_mse: 1184860.7500\n",
      "Epoch 80/100\n",
      "18/18 [==============================] - 0s 11ms/step - loss: 109.9061 - mae: 109.9061 - mse: 71607.5312 - val_loss: 614.3881 - val_mae: 614.3881 - val_mse: 1253618.7500\n",
      "Epoch 81/100\n",
      "18/18 [==============================] - 0s 10ms/step - loss: 108.1557 - mae: 108.1557 - mse: 70341.9688 - val_loss: 570.6725 - val_mae: 570.6725 - val_mse: 1167166.3750\n",
      "Epoch 82/100\n",
      "18/18 [==============================] - 0s 11ms/step - loss: 114.6706 - mae: 114.6706 - mse: 73869.9766 - val_loss: 708.8443 - val_mae: 708.8443 - val_mse: 1491643.8750\n",
      "Epoch 83/100\n",
      "18/18 [==============================] - 0s 10ms/step - loss: 124.4395 - mae: 124.4395 - mse: 79336.5625 - val_loss: 643.8528 - val_mae: 643.8528 - val_mse: 1333746.1250\n",
      "Epoch 84/100\n",
      "18/18 [==============================] - 0s 11ms/step - loss: 115.1316 - mae: 115.1316 - mse: 72462.7578 - val_loss: 592.9634 - val_mae: 592.9634 - val_mse: 1220245.3750\n",
      "Epoch 85/100\n",
      "18/18 [==============================] - 0s 12ms/step - loss: 108.1217 - mae: 108.1217 - mse: 69456.4609 - val_loss: 577.4142 - val_mae: 577.4142 - val_mse: 1172947.7500\n",
      "Epoch 86/100\n",
      "18/18 [==============================] - 0s 12ms/step - loss: 105.7614 - mae: 105.7614 - mse: 67368.2812 - val_loss: 573.5380 - val_mae: 573.5380 - val_mse: 1164563.3750\n",
      "Epoch 87/100\n",
      "18/18 [==============================] - 0s 10ms/step - loss: 105.1977 - mae: 105.1977 - mse: 66475.4688 - val_loss: 617.2776 - val_mae: 617.2776 - val_mse: 1269127.2500\n",
      "Epoch 88/100\n",
      "18/18 [==============================] - 0s 14ms/step - loss: 110.4123 - mae: 110.4123 - mse: 70159.5469 - val_loss: 568.2076 - val_mae: 568.2076 - val_mse: 1152723.7500\n",
      "Epoch 89/100\n",
      "18/18 [==============================] - 0s 10ms/step - loss: 110.2768 - mae: 110.2768 - mse: 68274.0703 - val_loss: 588.1567 - val_mae: 588.1567 - val_mse: 1206460.3750\n",
      "Epoch 90/100\n",
      "18/18 [==============================] - 0s 9ms/step - loss: 104.8998 - mae: 104.8998 - mse: 65784.0312 - val_loss: 572.9383 - val_mae: 572.9383 - val_mse: 1161039.2500\n",
      "Epoch 91/100\n",
      "13/18 [====================>.........] - ETA: 0s - loss: 107.8853 - mae: 107.8853 - mse: 68698.4531INFO:tensorflow:Assets written to: model_experiments\\model_1_dense\\assets\n",
      "18/18 [==============================] - 2s 96ms/step - loss: 110.6023 - mae: 110.6023 - mse: 70191.7734 - val_loss: 564.5679 - val_mae: 564.5679 - val_mse: 1144876.8750\n",
      "Epoch 92/100\n",
      "18/18 [==============================] - 0s 11ms/step - loss: 111.0258 - mae: 111.0258 - mse: 71453.6797 - val_loss: 652.1515 - val_mae: 652.1515 - val_mse: 1347788.8750\n",
      "Epoch 93/100\n",
      "18/18 [==============================] - 0s 11ms/step - loss: 123.5467 - mae: 123.5467 - mse: 77850.0781 - val_loss: 620.9104 - val_mae: 620.9104 - val_mse: 1276038.8750\n",
      "Epoch 94/100\n",
      "18/18 [==============================] - 0s 9ms/step - loss: 114.5649 - mae: 114.5649 - mse: 73686.5000 - val_loss: 603.5664 - val_mae: 603.5664 - val_mse: 1225359.0000\n",
      "Epoch 95/100\n",
      "18/18 [==============================] - 0s 11ms/step - loss: 106.0072 - mae: 106.0072 - mse: 67139.1562 - val_loss: 564.6976 - val_mae: 564.6976 - val_mse: 1146240.1250\n",
      "Epoch 96/100\n",
      "18/18 [==============================] - 0s 9ms/step - loss: 107.4073 - mae: 107.4073 - mse: 67686.7734 - val_loss: 603.2250 - val_mae: 603.2250 - val_mse: 1238068.7500\n",
      "Epoch 97/100\n",
      "14/18 [======================>.......] - ETA: 0s - loss: 110.0346 - mae: 110.0346 - mse: 70673.9453INFO:tensorflow:Assets written to: model_experiments\\model_1_dense\\assets\n",
      "18/18 [==============================] - 2s 121ms/step - loss: 108.2432 - mae: 108.2432 - mse: 69801.2578 - val_loss: 564.1600 - val_mae: 564.1600 - val_mse: 1144404.0000\n",
      "Epoch 98/100\n",
      "18/18 [==============================] - 0s 11ms/step - loss: 105.5204 - mae: 105.5204 - mse: 68425.5938 - val_loss: 568.9606 - val_mae: 568.9606 - val_mse: 1157729.6250\n",
      "Epoch 99/100\n",
      "18/18 [==============================] - 0s 10ms/step - loss: 106.2793 - mae: 106.2793 - mse: 68305.3984 - val_loss: 578.9993 - val_mae: 578.9993 - val_mse: 1169559.5000\n",
      "Epoch 100/100\n",
      "18/18 [==============================] - 0s 9ms/step - loss: 109.2641 - mae: 109.2641 - mse: 68507.9062 - val_loss: 565.7303 - val_mae: 565.7303 - val_mse: 1146877.2500\n"
     ]
    }
   ],
   "source": [
    "# Loading libraries\n",
    "import tensorflow as tf\n",
    "from tensorflow.keras import layers\n",
    "\n",
    "# Setting random seed\n",
    "tf.random.set_seed(42)\n",
    "\n",
    "# Constructing a model\n",
    "model_1 = tf.keras.Sequential([\n",
    "    layers.Dense(128, activation=\"relu\"),\n",
    "    layers.Dense(HORIZON, activation=\"linear\")\n",
    "], name=\"model_1_dense\")\n",
    "\n",
    "# Compiling the model\n",
    "model_1.compile(\n",
    "    loss=\"mae\",\n",
    "    optimizer=tf.keras.optimizers.Adam(),\n",
    "    metrics=[\"mae\", \"mse\"]\n",
    ")\n",
    "\n",
    "# Fitting the model\n",
    "history_1 = model_1.fit(\n",
    "    x=train_windows,\n",
    "    y=train_labels,\n",
    "    epochs=100,\n",
    "    verbose=1,\n",
    "    batch_size=128,\n",
    "    validation_data=(test_windows, test_labels),\n",
    "    callbacks=[create_model_checkpoint(model_name=model_1.name)]\n",
    ")"
   ]
  },
  {
   "cell_type": "code",
   "execution_count": 37,
   "metadata": {},
   "outputs": [
    {
     "name": "stdout",
     "output_type": "stream",
     "text": [
      "18/18 [==============================] - 0s 4ms/step - loss: 565.7303 - mae: 565.7303 - mse: 1146877.2500\n"
     ]
    },
    {
     "data": {
      "text/plain": [
       "[565.7302856445312, 565.7302856445312, 1146877.25]"
      ]
     },
     "execution_count": 37,
     "metadata": {},
     "output_type": "execute_result"
    }
   ],
   "source": [
    "# Evaluating the model on test data\n",
    "model_1.evaluate(test_windows, test_labels)"
   ]
  },
  {
   "cell_type": "code",
   "execution_count": 38,
   "metadata": {},
   "outputs": [
    {
     "name": "stdout",
     "output_type": "stream",
     "text": [
      "18/18 [==============================] - 1s 4ms/step - loss: 564.1600 - mae: 564.1600 - mse: 1144404.0000\n"
     ]
    },
    {
     "data": {
      "text/plain": [
       "[564.1599731445312, 564.1599731445312, 1144404.0]"
      ]
     },
     "execution_count": 38,
     "metadata": {},
     "output_type": "execute_result"
    }
   ],
   "source": [
    "# Loading the best performing model_1 run and evaluating on test data\n",
    "model_1_best = tf.keras.models.load_model(\"model_experiments/model_1_dense/\")\n",
    "model_1_best.evaluate(test_windows, test_labels)"
   ]
  },
  {
   "cell_type": "code",
   "execution_count": 39,
   "metadata": {},
   "outputs": [],
   "source": [
    "# Creating function to make predictions\n",
    "def make_preds(model, input_data):\n",
    "    forecast = model.predict(input_data)\n",
    "    return tf.squeeze(forecast) # 1D array of predictions"
   ]
  },
  {
   "cell_type": "code",
   "execution_count": 40,
   "metadata": {},
   "outputs": [
    {
     "name": "stdout",
     "output_type": "stream",
     "text": [
      "18/18 [==============================] - 0s 4ms/step\n"
     ]
    },
    {
     "data": {
      "text/plain": [
       "(556,\n",
       " <tf.Tensor: shape=(10,), dtype=float32, numpy=\n",
       " array([8815.79 , 8764.615, 9052.841, 8761.732, 8714.016, 8743.237,\n",
       "        8650.741, 8509.642, 8443.472, 8523.386], dtype=float32)>)"
      ]
     },
     "execution_count": 40,
     "metadata": {},
     "output_type": "execute_result"
    }
   ],
   "source": [
    "# Making predictions with the model 1\n",
    "model_1_preds = make_preds(model_1, test_windows)\n",
    "len(model_1_preds), model_1_preds[:10]"
   ]
  },
  {
   "cell_type": "code",
   "execution_count": 41,
   "metadata": {},
   "outputs": [
    {
     "data": {
      "text/plain": [
       "{'mae': 565.73035,\n",
       " 'mse': 1146877.6,\n",
       " 'rmse': 1070.9237,\n",
       " 'mape': 2.5144274,\n",
       " 'mase': 0.9938315}"
      ]
     },
     "execution_count": 41,
     "metadata": {},
     "output_type": "execute_result"
    }
   ],
   "source": [
    "# Evaluting model 1 predictions\n",
    "model_1_results = evaluate_preds(\n",
    "    y_true=tf.squeeze(test_labels),\n",
    "    y_pred=model_1_preds\n",
    ")\n",
    "model_1_results"
   ]
  },
  {
   "cell_type": "code",
   "execution_count": 42,
   "metadata": {},
   "outputs": [
    {
     "data": {
      "image/png": "[encoded data removed]",
      "text/plain": [
       "<Figure size 720x504 with 1 Axes>"
      ]
     },
     "metadata": {
      "needs_background": "light"
     },
     "output_type": "display_data"
    }
   ],
   "source": [
    "# Plotting model results\n",
    "offset = 300\n",
    "plt.figure(figsize=(10, 7))\n",
    "\n",
    "plot_time_series(\n",
    "    timestamps=X_test[-len(test_windows):],\n",
    "    values=test_labels[:, ],\n",
    "    start=offset,\n",
    "    label=\"Test Data\"\n",
    ")\n",
    "\n",
    "plot_time_series(\n",
    "    timestamps=X_test[-len(test_windows):],\n",
    "    values=model_1_preds,\n",
    "    start=offset,\n",
    "    label=\"Model 1 Preds\"\n",
    ")"
   ]
  },
  {
   "attachments": {},
   "cell_type": "markdown",
   "metadata": {},
   "source": [
    "### Model 2 - Dense model (window = 30, horizon = 1)"
   ]
  },
  {
   "cell_type": "code",
   "execution_count": 43,
   "metadata": {},
   "outputs": [],
   "source": [
    "# Hyperparameters\n",
    "HORIZON = 1\n",
    "WINDOW_SIZE = 30"
   ]
  },
  {
   "cell_type": "code",
   "execution_count": 44,
   "metadata": {},
   "outputs": [
    {
     "data": {
      "text/plain": [
       "(2757, 2757)"
      ]
     },
     "execution_count": 44,
     "metadata": {},
     "output_type": "execute_result"
    }
   ],
   "source": [
    "# Making windows data\n",
    "full_windows, full_labels = make_windows(\n",
    "    prices,\n",
    "    window_size=WINDOW_SIZE,\n",
    "    horizon=HORIZON\n",
    ")\n",
    "len(full_windows), len(full_labels)"
   ]
  },
  {
   "cell_type": "code",
   "execution_count": 45,
   "metadata": {},
   "outputs": [
    {
     "data": {
      "text/plain": [
       "(2205, 552, 2205, 552)"
      ]
     },
     "execution_count": 45,
     "metadata": {},
     "output_type": "execute_result"
    }
   ],
   "source": [
    "# Making train and test windows\n",
    "train_windows, test_windows, train_labels, test_labels = make_train_test_splits(\n",
    "    windows=full_windows,\n",
    "    labels=full_labels,\n",
    "    test_split=0.2\n",
    ")\n",
    "len(train_windows), len(test_windows), len(train_labels), len(test_labels)"
   ]
  },
  {
   "cell_type": "code",
   "execution_count": 46,
   "metadata": {},
   "outputs": [
    {
     "data": {
      "text/plain": [
       "array([[123.65499, 125.455  , 108.58483, 118.67466, 121.33866, 120.65533,\n",
       "        121.795  , 123.033  , 124.049  , 125.96116, 125.27966, 125.9275 ,\n",
       "        126.38333, 135.24199, 133.20333, 142.76333, 137.92333, 142.95166,\n",
       "        152.55183, 160.33883, 164.31499, 177.63333, 188.29716, 200.70166,\n",
       "        180.355  , 175.03166, 177.6965 , 187.15983, 192.75666, 197.4    ],\n",
       "       [125.455  , 108.58483, 118.67466, 121.33866, 120.65533, 121.795  ,\n",
       "        123.033  , 124.049  , 125.96116, 125.27966, 125.9275 , 126.38333,\n",
       "        135.24199, 133.20333, 142.76333, 137.92333, 142.95166, 152.55183,\n",
       "        160.33883, 164.31499, 177.63333, 188.29716, 200.70166, 180.355  ,\n",
       "        175.03166, 177.6965 , 187.15983, 192.75666, 197.4    , 196.02499],\n",
       "       [108.58483, 118.67466, 121.33866, 120.65533, 121.795  , 123.033  ,\n",
       "        124.049  , 125.96116, 125.27966, 125.9275 , 126.38333, 135.24199,\n",
       "        133.20333, 142.76333, 137.92333, 142.95166, 152.55183, 160.33883,\n",
       "        164.31499, 177.63333, 188.29716, 200.70166, 180.355  , 175.03166,\n",
       "        177.6965 , 187.15983, 192.75666, 197.4    , 196.02499, 198.04883]])"
      ]
     },
     "execution_count": 46,
     "metadata": {},
     "output_type": "execute_result"
    }
   ],
   "source": [
    "# Checking first 3 train windows\n",
    "train_windows[:3]"
   ]
  },
  {
   "cell_type": "code",
   "execution_count": 47,
   "metadata": {},
   "outputs": [
    {
     "name": "stdout",
     "output_type": "stream",
     "text": [
      "INFO:tensorflow:Assets written to: model_experiments\\model_2_dense\\assets\n",
      "INFO:tensorflow:Assets written to: model_experiments\\model_2_dense\\assets\n",
      "INFO:tensorflow:Assets written to: model_experiments\\model_2_dense\\assets\n",
      "INFO:tensorflow:Assets written to: model_experiments\\model_2_dense\\assets\n",
      "INFO:tensorflow:Assets written to: model_experiments\\model_2_dense\\assets\n",
      "INFO:tensorflow:Assets written to: model_experiments\\model_2_dense\\assets\n",
      "INFO:tensorflow:Assets written to: model_experiments\\model_2_dense\\assets\n",
      "INFO:tensorflow:Assets written to: model_experiments\\model_2_dense\\assets\n",
      "INFO:tensorflow:Assets written to: model_experiments\\model_2_dense\\assets\n",
      "INFO:tensorflow:Assets written to: model_experiments\\model_2_dense\\assets\n",
      "INFO:tensorflow:Assets written to: model_experiments\\model_2_dense\\assets\n",
      "INFO:tensorflow:Assets written to: model_experiments\\model_2_dense\\assets\n",
      "INFO:tensorflow:Assets written to: model_experiments\\model_2_dense\\assets\n",
      "INFO:tensorflow:Assets written to: model_experiments\\model_2_dense\\assets\n",
      "INFO:tensorflow:Assets written to: model_experiments\\model_2_dense\\assets\n",
      "INFO:tensorflow:Assets written to: model_experiments\\model_2_dense\\assets\n",
      "INFO:tensorflow:Assets written to: model_experiments\\model_2_dense\\assets\n",
      "INFO:tensorflow:Assets written to: model_experiments\\model_2_dense\\assets\n",
      "INFO:tensorflow:Assets written to: model_experiments\\model_2_dense\\assets\n",
      "INFO:tensorflow:Assets written to: model_experiments\\model_2_dense\\assets\n",
      "INFO:tensorflow:Assets written to: model_experiments\\model_2_dense\\assets\n",
      "INFO:tensorflow:Assets written to: model_experiments\\model_2_dense\\assets\n",
      "INFO:tensorflow:Assets written to: model_experiments\\model_2_dense\\assets\n",
      "INFO:tensorflow:Assets written to: model_experiments\\model_2_dense\\assets\n",
      "INFO:tensorflow:Assets written to: model_experiments\\model_2_dense\\assets\n",
      "INFO:tensorflow:Assets written to: model_experiments\\model_2_dense\\assets\n",
      "INFO:tensorflow:Assets written to: model_experiments\\model_2_dense\\assets\n",
      "INFO:tensorflow:Assets written to: model_experiments\\model_2_dense\\assets\n",
      "INFO:tensorflow:Assets written to: model_experiments\\model_2_dense\\assets\n"
     ]
    }
   ],
   "source": [
    "# Creating a model\n",
    "model_2 = tf.keras.Sequential([\n",
    "    layers.Dense(128, activation=\"relu\"),\n",
    "    layers.Dense(HORIZON)\n",
    "], name=\"model_2_dense\")\n",
    "\n",
    "# Compiling the model\n",
    "model_2.compile(\n",
    "    loss=\"mae\",\n",
    "    optimizer=tf.keras.optimizers.Adam(),\n",
    "    metrics=[\"mae\"]\n",
    ")\n",
    "\n",
    "# Fitting the model\n",
    "history_2 = model_2.fit(\n",
    "    train_windows,\n",
    "    train_labels,\n",
    "    epochs=100,\n",
    "    batch_size=128,\n",
    "    verbose=0,\n",
    "    validation_data=(test_windows, test_labels),\n",
    "    callbacks=[create_model_checkpoint(model_name=model_2.name)]\n",
    ")"
   ]
  },
  {
   "cell_type": "code",
   "execution_count": 48,
   "metadata": {},
   "outputs": [
    {
     "name": "stdout",
     "output_type": "stream",
     "text": [
      "18/18 [==============================] - 0s 4ms/step - loss: 610.4095 - mae: 610.4095\n"
     ]
    },
    {
     "data": {
      "text/plain": [
       "[610.4094848632812, 610.4094848632812]"
      ]
     },
     "execution_count": 48,
     "metadata": {},
     "output_type": "execute_result"
    }
   ],
   "source": [
    "# Evaluating model 2\n",
    "model_2.evaluate(test_windows, test_labels)"
   ]
  },
  {
   "cell_type": "code",
   "execution_count": 49,
   "metadata": {},
   "outputs": [
    {
     "name": "stdout",
     "output_type": "stream",
     "text": [
      "18/18 [==============================] - 0s 5ms/step - loss: 597.3901 - mae: 597.3901\n"
     ]
    },
    {
     "data": {
      "text/plain": [
       "[597.39013671875, 597.39013671875]"
      ]
     },
     "execution_count": 49,
     "metadata": {},
     "output_type": "execute_result"
    }
   ],
   "source": [
    "# Loading the best model 2\n",
    "model_2_best = tf.keras.models.load_model(\"model_experiments/model_2_dense/\")\n",
    "model_2_best.evaluate(test_windows, test_labels)"
   ]
  },
  {
   "cell_type": "code",
   "execution_count": 50,
   "metadata": {},
   "outputs": [
    {
     "name": "stdout",
     "output_type": "stream",
     "text": [
      "18/18 [==============================] - 0s 4ms/step\n"
     ]
    }
   ],
   "source": [
    "# getting model 2 predictions\n",
    "model_2_preds = make_preds(\n",
    "    model_2,\n",
    "    input_data=test_windows\n",
    ")"
   ]
  },
  {
   "cell_type": "code",
   "execution_count": 51,
   "metadata": {},
   "outputs": [
    {
     "data": {
      "text/plain": [
       "{'mae': 610.40967,\n",
       " 'mse': 1302889.4,\n",
       " 'rmse': 1141.4418,\n",
       " 'mape': 2.7248054,\n",
       " 'mase': 1.067002}"
      ]
     },
     "execution_count": 51,
     "metadata": {},
     "output_type": "execute_result"
    }
   ],
   "source": [
    "# Evaluating results\n",
    "model_2_results = evaluate_preds(\n",
    "    y_true=tf.squeeze(test_labels),\n",
    "    y_pred=model_2_preds\n",
    ")\n",
    "model_2_results"
   ]
  },
  {
   "cell_type": "code",
   "execution_count": 52,
   "metadata": {},
   "outputs": [
    {
     "data": {
      "image/png": "[encoded data removed]",
      "text/plain": [
       "<Figure size 720x504 with 1 Axes>"
      ]
     },
     "metadata": {
      "needs_background": "light"
     },
     "output_type": "display_data"
    }
   ],
   "source": [
    "# Visualising model 2 results\n",
    "offset = 300\n",
    "plt.figure(figsize=(10, 7))\n",
    "\n",
    "plot_time_series(\n",
    "    timestamps=X_test[-len(test_windows):],\n",
    "    values=test_labels[:, 0],\n",
    "    start=offset,\n",
    "    label=\"Test Data\"\n",
    ")\n",
    "\n",
    "plot_time_series(\n",
    "    timestamps=X_test[-len(test_windows):],\n",
    "    values=model_2_preds,\n",
    "    start=offset,\n",
    "    label=\"Model 2 Preds\"\n",
    ")"
   ]
  },
  {
   "attachments": {},
   "cell_type": "markdown",
   "metadata": {},
   "source": [
    "### Model 3 - Dense model (window = 30, horizon = 7)"
   ]
  },
  {
   "cell_type": "code",
   "execution_count": 53,
   "metadata": {},
   "outputs": [],
   "source": [
    "# Hyperparameters\n",
    "HORIZON = 7\n",
    "WINDOW_SIZE = 30"
   ]
  },
  {
   "cell_type": "code",
   "execution_count": 54,
   "metadata": {},
   "outputs": [
    {
     "data": {
      "text/plain": [
       "(2751, 2751)"
      ]
     },
     "execution_count": 54,
     "metadata": {},
     "output_type": "execute_result"
    }
   ],
   "source": [
    "# Making windows data\n",
    "full_windows, full_labels = make_windows(\n",
    "    prices,\n",
    "    window_size=WINDOW_SIZE,\n",
    "    horizon=HORIZON\n",
    ")\n",
    "len(full_windows), len(full_labels)"
   ]
  },
  {
   "cell_type": "code",
   "execution_count": 55,
   "metadata": {},
   "outputs": [
    {
     "data": {
      "text/plain": [
       "(2200, 551, 2200, 551)"
      ]
     },
     "execution_count": 55,
     "metadata": {},
     "output_type": "execute_result"
    }
   ],
   "source": [
    "# Making train and test windows\n",
    "train_windows, test_windows, train_labels, test_labels = make_train_test_splits(\n",
    "    windows=full_windows,\n",
    "    labels=full_labels,\n",
    "    test_split=0.2\n",
    ")\n",
    "len(train_windows), len(test_windows), len(train_labels), len(test_labels)"
   ]
  },
  {
   "cell_type": "code",
   "execution_count": 56,
   "metadata": {},
   "outputs": [
    {
     "name": "stdout",
     "output_type": "stream",
     "text": [
      "INFO:tensorflow:Assets written to: model_experiments\\model_3_dense\\assets\n",
      "INFO:tensorflow:Assets written to: model_experiments\\model_3_dense\\assets\n",
      "INFO:tensorflow:Assets written to: model_experiments\\model_3_dense\\assets\n",
      "INFO:tensorflow:Assets written to: model_experiments\\model_3_dense\\assets\n",
      "INFO:tensorflow:Assets written to: model_experiments\\model_3_dense\\assets\n",
      "INFO:tensorflow:Assets written to: model_experiments\\model_3_dense\\assets\n",
      "INFO:tensorflow:Assets written to: model_experiments\\model_3_dense\\assets\n",
      "INFO:tensorflow:Assets written to: model_experiments\\model_3_dense\\assets\n",
      "INFO:tensorflow:Assets written to: model_experiments\\model_3_dense\\assets\n",
      "INFO:tensorflow:Assets written to: model_experiments\\model_3_dense\\assets\n",
      "INFO:tensorflow:Assets written to: model_experiments\\model_3_dense\\assets\n",
      "INFO:tensorflow:Assets written to: model_experiments\\model_3_dense\\assets\n",
      "INFO:tensorflow:Assets written to: model_experiments\\model_3_dense\\assets\n",
      "INFO:tensorflow:Assets written to: model_experiments\\model_3_dense\\assets\n",
      "INFO:tensorflow:Assets written to: model_experiments\\model_3_dense\\assets\n",
      "INFO:tensorflow:Assets written to: model_experiments\\model_3_dense\\assets\n",
      "INFO:tensorflow:Assets written to: model_experiments\\model_3_dense\\assets\n",
      "INFO:tensorflow:Assets written to: model_experiments\\model_3_dense\\assets\n",
      "INFO:tensorflow:Assets written to: model_experiments\\model_3_dense\\assets\n",
      "INFO:tensorflow:Assets written to: model_experiments\\model_3_dense\\assets\n",
      "INFO:tensorflow:Assets written to: model_experiments\\model_3_dense\\assets\n",
      "INFO:tensorflow:Assets written to: model_experiments\\model_3_dense\\assets\n",
      "INFO:tensorflow:Assets written to: model_experiments\\model_3_dense\\assets\n",
      "INFO:tensorflow:Assets written to: model_experiments\\model_3_dense\\assets\n",
      "INFO:tensorflow:Assets written to: model_experiments\\model_3_dense\\assets\n"
     ]
    }
   ],
   "source": [
    "# Creating a model\n",
    "model_3 = tf.keras.Sequential([\n",
    "    layers.Dense(128, activation=\"relu\"),\n",
    "    layers.Dense(HORIZON)\n",
    "], name=\"model_3_dense\")\n",
    "\n",
    "# Compiling the model\n",
    "model_3.compile(\n",
    "    loss=\"mae\",\n",
    "    optimizer=tf.keras.optimizers.Adam(),\n",
    "    metrics=[\"mae\"]\n",
    ")\n",
    "\n",
    "# Fitting the model\n",
    "history_3 = model_3.fit(\n",
    "    train_windows,\n",
    "    train_labels,\n",
    "    epochs=100,\n",
    "    batch_size=128,\n",
    "    verbose=0,\n",
    "    validation_data=(test_windows, test_labels),\n",
    "    callbacks=[create_model_checkpoint(model_name=model_3.name)]\n",
    ")"
   ]
  },
  {
   "cell_type": "code",
   "execution_count": 57,
   "metadata": {},
   "outputs": [
    {
     "name": "stdout",
     "output_type": "stream",
     "text": [
      "18/18 [==============================] - 0s 2ms/step - loss: 1338.1931 - mae: 1338.1931\n"
     ]
    },
    {
     "data": {
      "text/plain": [
       "[1338.193115234375, 1338.193115234375]"
      ]
     },
     "execution_count": 57,
     "metadata": {},
     "output_type": "execute_result"
    }
   ],
   "source": [
    "# Evaluating model 3\n",
    "model_3.evaluate(test_windows, test_labels)"
   ]
  },
  {
   "cell_type": "code",
   "execution_count": 58,
   "metadata": {},
   "outputs": [
    {
     "name": "stdout",
     "output_type": "stream",
     "text": [
      "18/18 [==============================] - 0s 1ms/step\n"
     ]
    },
    {
     "data": {
      "text/plain": [
       "<tf.Tensor: shape=(3, 7), dtype=float32, numpy=\n",
       "array([[8983.97 , 9119.223, 9264.036, 9245.741, 9094.924, 9217.397,\n",
       "        9278.464],\n",
       "       [8655.019, 8858.94 , 8989.122, 9011.275, 8770.795, 8770.505,\n",
       "        9107.236],\n",
       "       [8527.288, 8766.857, 8710.32 , 8700.974, 8796.712, 8655.544,\n",
       "        8854.917]], dtype=float32)>"
      ]
     },
     "execution_count": 58,
     "metadata": {},
     "output_type": "execute_result"
    }
   ],
   "source": [
    "# Making predictions with model 3\n",
    "model_3_preds = make_preds(\n",
    "    model_3,\n",
    "    input_data=test_windows\n",
    ")\n",
    "model_3_preds[:3]"
   ]
  },
  {
   "cell_type": "code",
   "execution_count": 59,
   "metadata": {},
   "outputs": [
    {
     "data": {
      "text/plain": [
       "{'mae': array([ 378.75    ,  233.52023 ,  198.37695 ,  194.42313 ,  193.33914 ,\n",
       "         254.07722 ,  249.65318 ,  333.95346 ,  418.2087  ,  512.3198  ,\n",
       "         568.09717 ,  516.27185 ,  602.6803  ,  568.47217 ,  387.55002 ,\n",
       "         213.65324 ,  252.98438 ,  443.5083  ,  464.58203 ,  518.3111  ,\n",
       "         203.16385 ,  164.39746 ,  184.18596 ,  160.      ,  137.84877 ,\n",
       "         190.11272 ,  229.12807 ,  278.83334 ,  208.86447 ,  155.85588 ,\n",
       "         176.81291 ,  177.19113 ,  151.77058 ,  196.92766 ,  188.77748 ,\n",
       "         215.4894  ,  226.2057  ,  257.59598 ,  224.58572 ,  353.68478 ,\n",
       "         662.2264  ,  235.11418 ,  224.49574 ,  169.18324 ,  183.47572 ,\n",
       "         120.794785,  141.66295 ,  122.459335,  110.67592 ,  238.37305 ,\n",
       "         187.37193 ,  143.27428 ,  176.39641 ,  229.84578 ,  379.86508 ,\n",
       "         482.5645  ,  716.56976 ,  739.6711  ,  721.809   ,  752.84094 ,\n",
       "         611.71893 ,  409.43375 ,  347.56418 ,  592.1285  ,  628.2501  ,\n",
       "         746.40295 ,  672.4586  ,  771.0414  ,  444.83957 ,   77.563896,\n",
       "         193.23885 ,  272.60965 ,  315.7691  ,  211.52205 ,  201.97726 ,\n",
       "         306.92047 ,  327.9555  ,  538.66003 ,  686.3188  ,  959.7122  ,\n",
       "         948.09796 ,  813.2292  ,  520.32    ,  281.3884  ,  161.48381 ,\n",
       "         248.24107 ,  329.67773 ,  447.3902  ,  586.2564  ,  848.5053  ,\n",
       "         775.0431  ,  701.5936  ,  591.7578  ,  429.7327  ,  204.76367 ,\n",
       "         345.92075 ,  243.07018 ,  303.83774 ,  379.08707 ,  447.57883 ,\n",
       "         240.01912 ,  147.70871 ,  271.14996 ,  177.77162 ,  198.92801 ,\n",
       "         362.4859  ,  376.03586 ,  510.50922 ,  768.13434 ,  741.5978  ,\n",
       "         594.4642  ,  218.50363 ,  232.7786  ,  322.49234 ,  436.74527 ,\n",
       "         498.38358 ,  431.93576 ,  432.85526 ,  539.6889  ,  972.23645 ,\n",
       "        1509.1237  , 1953.9252  , 1815.8309  , 1847.5634  , 2109.8477  ,\n",
       "        2349.3804  ,  920.40186 ,  421.44727 ,  553.0435  ,  525.2716  ,\n",
       "         861.2843  ,  793.627   ,  798.0884  ,  264.6612  ,  244.62793 ,\n",
       "         249.78236 ,  422.48898 ,  218.82687 ,  310.80728 ,  313.31528 ,\n",
       "         308.74414 ,  316.74338 ,  436.39648 ,  838.23944 ,  769.1659  ,\n",
       "         629.48035 ,  576.0108  ,  500.15814 ,  359.39816 ,  293.33502 ,\n",
       "         256.71436 ,  255.84326 ,  242.01633 ,  288.31802 ,  246.83203 ,\n",
       "         167.17209 ,  275.8628  ,  312.17105 ,  330.37842 ,  257.94824 ,\n",
       "         528.3941  ,  276.158   ,  318.6096  ,  288.38358 ,  302.0803  ,\n",
       "         466.53873 ,  679.8547  ,  924.8301  ,  727.30725 ,  800.36176 ,\n",
       "        1007.7943  , 1114.4686  , 1131.4279  , 1240.6133  ,  720.9056  ,\n",
       "         488.15445 ,  442.607   ,  480.76535 ,  468.91183 ,  496.9336  ,\n",
       "         505.6448  ,  425.75098 ,  504.80246 ,  749.2143  ,  722.06976 ,\n",
       "         303.2775  ,  684.0972  ,  931.50824 ,  598.487   ,  183.06125 ,\n",
       "         205.55762 ,  170.35115 ,  234.21164 ,  372.6021  ,  477.42523 ,\n",
       "         373.9435  ,  179.09445 ,  298.76285 ,  409.09848 ,  423.6773  ,\n",
       "         727.0816  ,  904.50543 ,  861.369   ,  606.7001  ,  503.6815  ,\n",
       "         312.29742 ,  360.91644 ,  260.96957 ,   75.12626 ,  175.47307 ,\n",
       "         221.20312 ,  214.6748  ,  203.33621 ,  271.97992 ,  209.70467 ,\n",
       "         210.24344 ,  222.25711 ,  103.952286,  208.2465  ,  107.16713 ,\n",
       "         133.89076 ,  208.4407  ,  191.81836 ,  173.82687 ,  192.97865 ,\n",
       "         251.18834 ,  284.11578 ,  217.83943 ,  233.0261  ,  216.16043 ,\n",
       "         144.96443 ,   97.39467 ,  147.82352 ,  222.65959 ,  254.60672 ,\n",
       "         192.5166  ,  229.87025 ,  187.54158 ,  262.36008 ,  289.0064  ,\n",
       "         256.26535 ,  317.0516  ,  261.71246 ,  206.76883 ,   69.88448 ,\n",
       "         119.13756 ,  111.956474,  149.57603 ,  120.15778 ,  107.719864,\n",
       "         168.14021 ,  234.24791 ,  349.4746  ,  382.46735 ,  421.74777 ,\n",
       "         548.2666  ,  816.504   ,  948.95184 , 1048.2578  , 1121.3461  ,\n",
       "        1363.1943  , 1577.4968  , 1558.9594  ,  731.6671  ,  515.12823 ,\n",
       "         230.33678 ,  445.68527 ,  347.2507  ,  245.99373 ,  305.3828  ,\n",
       "         413.4834  ,  594.0455  ,  228.82185 ,   97.43248 ,  178.87361 ,\n",
       "         183.94475 ,  207.06264 ,  260.59668 ,  493.58105 ,  567.75616 ,\n",
       "         438.21344 ,  377.20383 ,  209.88644 ,  284.7645  ,  263.90598 ,\n",
       "         236.29381 ,  146.46889 ,  120.73033 ,  202.1384  ,  150.22615 ,\n",
       "         232.42899 ,  176.3199  ,  331.62192 ,  345.24652 ,  511.74692 ,\n",
       "         481.94125 ,  555.4224  ,  690.70886 ,  904.5685  , 1201.8105  ,\n",
       "        1116.9281  ,  602.7015  ,  239.10213 ,  333.84793 ,  416.53613 ,\n",
       "         355.80453 ,  622.8379  ,  621.00696 ,  599.773   ,  481.2143  ,\n",
       "         536.4538  ,  646.61847 ,  446.18304 ,  275.35965 ,  155.74582 ,\n",
       "         224.56291 ,  252.80344 ,  283.29672 ,  196.34961 ,  331.93777 ,\n",
       "         443.58328 ,  675.1465  ,  420.00726 ,  255.18582 ,  149.8591  ,\n",
       "         130.01088 ,  130.47112 ,  179.75182 ,  101.38448 ,  203.84724 ,\n",
       "         305.13004 ,  511.62933 ,  528.62195 ,  619.59625 ,  788.7754  ,\n",
       "         904.98175 ,  869.69403 ,  679.0177  ,  392.2666  ,  301.74567 ,\n",
       "         129.48033 ,  221.56375 ,  509.5858  ,  753.8712  , 1066.4043  ,\n",
       "        1351.0508  , 1612.0934  , 1506.2236  , 1508.9503  ,  687.1094  ,\n",
       "         250.89787 ,  311.4153  ,  433.94754 ,  598.5586  ,  633.02704 ,\n",
       "         302.5233  ,  462.39008 ,  697.52875 ,  950.04016 ,  780.73914 ,\n",
       "        1059.4948  , 1319.2611  , 1522.6252  , 1493.7008  ,  657.46387 ,\n",
       "         437.57687 ,  653.20325 ,  601.9526  ,  833.37445 , 1064.5564  ,\n",
       "        1236.9845  , 1097.9281  , 1198.674   , 1628.0065  , 2044.0214  ,\n",
       "        1920.4987  , 1251.6884  ,  774.2182  ,  740.93445 ,  594.3544  ,\n",
       "         675.6878  ,  818.93195 ,  846.25836 ,  909.22656 ,  929.2031  ,\n",
       "         997.952   , 1883.7717  , 1904.3479  , 1531.6658  ,  463.04437 ,\n",
       "         317.66043 ,  367.27734 ,  355.3655  ,  359.76675 ,  308.08984 ,\n",
       "         377.43695 ,  424.44113 ,  566.726   , 1197.4523  , 2012.7034  ,\n",
       "        2895.1362  , 3046.9546  , 3459.964   , 3685.4106  , 3936.8054  ,\n",
       "        2952.6816  , 1330.4297  ,  758.6724  ,  746.2296  , 1153.8959  ,\n",
       "        1659.8309  , 2282.0442  , 3243.161   , 3747.5212  , 3630.6309  ,\n",
       "        2671.201   , 2935.0046  , 2950.5098  , 3865.8684  , 3784.3752  ,\n",
       "        4321.836   , 5584.673   , 5082.4976  , 4740.81    , 5047.8447  ,\n",
       "        3765.8372  , 2750.8035  , 2129.766   , 3553.9387  , 4760.3335  ,\n",
       "        4002.7605  ,  899.37726 , 1631.0424  , 1099.8047  , 2414.7825  ,\n",
       "        2458.6987  , 2166.8594  , 2618.9648  , 2846.0767  , 3358.0696  ,\n",
       "        2632.685   , 1005.5477  ,  996.0192  , 2225.3757  , 2015.8014  ,\n",
       "        2316.8708  , 2614.135   , 4482.559   , 3917.926   , 2847.305   ,\n",
       "        2857.2957  , 3950.2812  , 5482.02    , 5844.7617  , 4850.7427  ,\n",
       "        6132.9106  , 7712.0127  , 7113.3115  , 8793.82    , 5427.68    ,\n",
       "        2254.2512  , 2235.226   , 2120.269   , 2438.4878  , 3129.6523  ,\n",
       "        3590.7734  , 4520.215   , 4625.388   , 3111.0574  , 3458.4531  ,\n",
       "        4874.019   , 6688.0796  , 9075.562   , 8157.797   , 3777.9675  ,\n",
       "        2223.303   , 2044.4303  , 2924.74    , 3622.0044  , 5743.5083  ,\n",
       "        3664.0994  , 4697.2163  , 3019.016   , 5585.676   , 5459.816   ,\n",
       "        7184.477   , 7851.6836  , 6823.574   , 5576.831   , 3590.4878  ,\n",
       "        2150.3806  , 2543.9536  , 1279.3689  , 1322.7578  , 1060.3923  ,\n",
       "        2024.6183  , 2063.0535  , 2951.274   , 4286.7744  , 3773.2104  ,\n",
       "        3306.3442  , 1688.0898  , 2311.6067  , 3756.4744  , 5779.2085  ,\n",
       "        5324.2095  , 3995.385   , 3760.4146  , 3014.3503  , 1588.1083  ,\n",
       "        1034.913   ,  617.3024  ,  741.7031  , 1252.3672  , 1622.6356  ,\n",
       "        1831.1964  , 2243.4705  , 4028.9553  , 4847.1177  , 5263.1313  ,\n",
       "        4065.0251  , 3301.7612  , 3254.8103  , 2860.5842  , 4297.8696  ,\n",
       "        5936.6206  , 6337.5947  , 6438.693   , 4303.2954  , 3202.4058  ,\n",
       "        2781.4778  , 2283.3455  , 2503.51    , 4157.3193  , 5108.6255  ,\n",
       "        7164.8384  , 5085.7104  , 2464.9275  , 2233.8425  , 3323.7896  ,\n",
       "        1852.115   , 1213.5865  , 1377.9827  , 1275.5045  , 3631.7712  ,\n",
       "        2703.7722  , 2644.6523  , 3025.106   , 4513.083   , 5830.1636  ,\n",
       "        7391.728   ], dtype=float32),\n",
       " 'mse': array([1.67808594e+05, 8.44132891e+04, 7.24330000e+04, 5.96055078e+04,\n",
       "        4.49552500e+04, 8.84435781e+04, 7.99018906e+04, 2.19979141e+05,\n",
       "        3.68015688e+05, 3.55197500e+05, 4.71081719e+05, 3.71561812e+05,\n",
       "        4.21849219e+05, 3.79773031e+05, 1.79931250e+05, 5.31093672e+04,\n",
       "        1.04422336e+05, 2.62132906e+05, 2.49268609e+05, 2.81330938e+05,\n",
       "        5.48407578e+04, 6.55685391e+04, 4.35005859e+04, 3.97849648e+04,\n",
       "        2.42707227e+04, 4.84757578e+04, 6.51337578e+04, 9.08267891e+04,\n",
       "        5.66632852e+04, 4.68116172e+04, 5.16174102e+04, 4.57021250e+04,\n",
       "        4.25748516e+04, 8.62090234e+04, 5.40709648e+04, 6.49867812e+04,\n",
       "        8.86228672e+04, 9.13989844e+04, 7.50343828e+04, 1.64286031e+05,\n",
       "        4.64884781e+05, 6.68802422e+04, 5.71005859e+04, 3.30773047e+04,\n",
       "        4.40566172e+04, 2.39866465e+04, 2.54565527e+04, 2.70630059e+04,\n",
       "        1.94051094e+04, 5.80752930e+04, 4.51880859e+04, 3.59964219e+04,\n",
       "        3.81870547e+04, 7.70859844e+04, 2.10047406e+05, 3.70385594e+05,\n",
       "        6.23364375e+05, 6.27060562e+05, 5.81618562e+05, 5.92593438e+05,\n",
       "        4.00071438e+05, 2.43335797e+05, 1.93723719e+05, 4.72211781e+05,\n",
       "        5.52000688e+05, 6.67708312e+05, 5.57744312e+05, 6.05023125e+05,\n",
       "        2.18872078e+05, 8.01218994e+03, 4.38665273e+04, 8.16803906e+04,\n",
       "        1.19391000e+05, 6.55041680e+04, 5.06290000e+04, 1.21088336e+05,\n",
       "        1.47462578e+05, 4.69332156e+05, 6.55999500e+05, 1.04070444e+06,\n",
       "        9.46999125e+05, 6.72836125e+05, 2.77444438e+05, 1.02055195e+05,\n",
       "        5.43514336e+04, 8.89795234e+04, 1.41434469e+05, 2.67904812e+05,\n",
       "        4.30147281e+05, 7.89788000e+05, 6.77230562e+05, 5.55090688e+05,\n",
       "        4.05602562e+05, 2.28144922e+05, 6.11599414e+04, 1.66844781e+05,\n",
       "        7.96134844e+04, 1.34252344e+05, 1.76577578e+05, 2.48777922e+05,\n",
       "        7.69398828e+04, 3.06851250e+04, 1.27210227e+05, 4.98999453e+04,\n",
       "        1.00180148e+05, 1.76197375e+05, 1.83802250e+05, 3.29746688e+05,\n",
       "        7.41787438e+05, 6.24784500e+05, 3.77134344e+05, 6.15006172e+04,\n",
       "        6.68602031e+04, 1.42952766e+05, 2.43006016e+05, 3.00110688e+05,\n",
       "        2.16155469e+05, 2.21119672e+05, 3.14950062e+05, 1.66041725e+06,\n",
       "        3.61375450e+06, 5.26047950e+06, 4.81680500e+06, 4.51082250e+06,\n",
       "        5.05090800e+06, 5.61603100e+06, 1.06701662e+06, 2.31465984e+05,\n",
       "        4.57493281e+05, 3.72950281e+05, 9.39551188e+05, 8.53751000e+05,\n",
       "        6.82782938e+05, 9.40390547e+04, 8.99834844e+04, 9.15926797e+04,\n",
       "        2.04431078e+05, 9.46951953e+04, 1.20395570e+05, 2.18015031e+05,\n",
       "        1.45616672e+05, 1.43723219e+05, 3.04989938e+05, 7.54005125e+05,\n",
       "        6.21790875e+05, 4.19669062e+05, 3.76975906e+05, 3.10819812e+05,\n",
       "        1.81431141e+05, 1.14264078e+05, 9.15366953e+04, 8.80398203e+04,\n",
       "        8.15051641e+04, 9.89812500e+04, 8.78701797e+04, 4.40334961e+04,\n",
       "        1.20406883e+05, 1.29750891e+05, 1.50530141e+05, 1.05980195e+05,\n",
       "        3.09296781e+05, 1.31874531e+05, 1.42449781e+05, 9.69725234e+04,\n",
       "        1.22167914e+05, 2.69918531e+05, 4.97895938e+05, 1.05476975e+06,\n",
       "        8.88842500e+05, 1.05237838e+06, 1.37808825e+06, 1.51461775e+06,\n",
       "        1.46655775e+06, 1.54802662e+06, 5.57105938e+05, 3.87465750e+05,\n",
       "        3.65806812e+05, 3.67667000e+05, 3.70676906e+05, 3.16666656e+05,\n",
       "        3.43507250e+05, 2.38212922e+05, 4.10455312e+05, 7.62002438e+05,\n",
       "        6.63105312e+05, 1.19964320e+05, 5.30834500e+05, 9.03429125e+05,\n",
       "        4.18663219e+05, 3.85878125e+04, 4.89379414e+04, 5.43566211e+04,\n",
       "        7.82995781e+04, 2.01265609e+05, 2.62787969e+05, 1.59281141e+05,\n",
       "        4.28548320e+04, 1.30605742e+05, 2.78778156e+05, 2.73921562e+05,\n",
       "        6.89791125e+05, 9.61486875e+05, 8.42053875e+05, 4.48421562e+05,\n",
       "        3.24061531e+05, 1.49943234e+05, 2.17058031e+05, 7.61835625e+04,\n",
       "        8.68417871e+03, 4.40996680e+04, 7.00240625e+04, 9.77707891e+04,\n",
       "        5.28015703e+04, 1.01754852e+05, 6.13200547e+04, 5.56998555e+04,\n",
       "        5.70499062e+04, 1.91675000e+04, 6.09970039e+04, 1.37241875e+04,\n",
       "        2.61716445e+04, 6.67521484e+04, 5.21794883e+04, 5.92648320e+04,\n",
       "        8.24946406e+04, 8.24865000e+04, 9.87054531e+04, 9.44869297e+04,\n",
       "        5.74026328e+04, 6.08896875e+04, 3.39544336e+04, 1.23924658e+04,\n",
       "        3.63297852e+04, 5.75632227e+04, 8.15281953e+04, 4.60313086e+04,\n",
       "        7.15405859e+04, 6.21660664e+04, 9.54179609e+04, 1.07969750e+05,\n",
       "        7.71425859e+04, 1.11400609e+05, 7.97686641e+04, 6.07584648e+04,\n",
       "        5.97938232e+03, 2.46333848e+04, 1.83774648e+04, 2.99254863e+04,\n",
       "        2.25354863e+04, 1.99761562e+04, 3.90730078e+04, 8.61000000e+04,\n",
       "        1.58871094e+05, 1.91953781e+05, 2.20846375e+05, 3.34703000e+05,\n",
       "        9.66379312e+05, 1.33915262e+06, 1.67699138e+06, 1.80420088e+06,\n",
       "        2.25160775e+06, 2.73326475e+06, 2.52092875e+06, 6.23584438e+05,\n",
       "        3.01635000e+05, 9.91656953e+04, 2.70352906e+05, 1.78925391e+05,\n",
       "        7.76410000e+04, 1.09047320e+05, 1.82946391e+05, 3.98863750e+05,\n",
       "        8.48302031e+04, 2.27950781e+04, 5.12945234e+04, 7.35089922e+04,\n",
       "        5.36329102e+04, 9.03010078e+04, 3.04993688e+05, 3.75492656e+05,\n",
       "        2.71698562e+05, 1.63189375e+05, 7.94917969e+04, 1.38826531e+05,\n",
       "        8.61620391e+04, 8.83860391e+04, 2.68235215e+04, 2.63966250e+04,\n",
       "        5.79942539e+04, 3.99834688e+04, 6.99885859e+04, 4.42408125e+04,\n",
       "        1.47820500e+05, 1.67381719e+05, 3.05595000e+05, 2.61878609e+05,\n",
       "        4.05349719e+05, 6.65431312e+05, 9.72188438e+05, 1.65670400e+06,\n",
       "        1.32563975e+06, 4.10189281e+05, 8.79478516e+04, 1.42346047e+05,\n",
       "        2.27907750e+05, 1.67438734e+05, 4.35575281e+05, 4.69023906e+05,\n",
       "        4.46954031e+05, 2.98455281e+05, 3.11499281e+05, 4.32741938e+05,\n",
       "        2.28978641e+05, 1.11809359e+05, 5.39266680e+04, 7.17905703e+04,\n",
       "        9.96570156e+04, 1.17253609e+05, 5.71835273e+04, 1.23919367e+05,\n",
       "        2.19240297e+05, 4.78036281e+05, 2.01592359e+05, 8.00040469e+04,\n",
       "        2.92185645e+04, 4.52054922e+04, 2.62004414e+04, 3.44615977e+04,\n",
       "        2.01847539e+04, 5.08135352e+04, 1.26314617e+05, 3.58648281e+05,\n",
       "        4.23587531e+05, 5.56946000e+05, 7.47455625e+05, 8.92009000e+05,\n",
       "        7.84524500e+05, 4.79217656e+05, 1.62227156e+05, 1.16467820e+05,\n",
       "        3.03926875e+04, 7.41728359e+04, 5.83700125e+05, 1.07257375e+06,\n",
       "        1.73616588e+06, 2.37598975e+06, 2.91292800e+06, 2.42814275e+06,\n",
       "        2.34222175e+06, 5.39689500e+05, 1.31150562e+05, 1.43838016e+05,\n",
       "        2.51339516e+05, 4.17988312e+05, 4.70462281e+05, 1.32730203e+05,\n",
       "        2.80476812e+05, 8.20466688e+05, 1.56621312e+06, 1.15167125e+06,\n",
       "        1.68831738e+06, 2.09848925e+06, 2.44254525e+06, 2.32778800e+06,\n",
       "        5.83377062e+05, 2.91834719e+05, 6.12455625e+05, 4.96210094e+05,\n",
       "        8.19913312e+05, 1.45586412e+06, 2.09095138e+06, 1.82814375e+06,\n",
       "        2.20262375e+06, 3.44729400e+06, 4.60100050e+06, 3.81269675e+06,\n",
       "        1.68101900e+06, 6.92067438e+05, 6.05204000e+05, 5.65739625e+05,\n",
       "        8.59683812e+05, 1.14442300e+06, 1.07211162e+06, 1.30819188e+06,\n",
       "        1.16641612e+06, 1.43337688e+06, 3.86159775e+06, 3.79765925e+06,\n",
       "        2.39206600e+06, 2.51618172e+05, 1.65353156e+05, 1.94870078e+05,\n",
       "        2.04439406e+05, 1.77889531e+05, 1.25404617e+05, 1.55148594e+05,\n",
       "        2.38666906e+05, 4.48951219e+05, 2.61337975e+06, 6.78820450e+06,\n",
       "        1.13869990e+07, 1.32605310e+07, 1.50467910e+07, 1.55479050e+07,\n",
       "        1.60942290e+07, 8.75267900e+06, 1.86689888e+06, 8.17832438e+05,\n",
       "        1.17712700e+06, 2.57309200e+06, 4.86590250e+06, 7.70436900e+06,\n",
       "        1.33044240e+07, 1.60104000e+07, 1.48841760e+07, 1.07689270e+07,\n",
       "        1.31498150e+07, 1.19816300e+07, 1.85026100e+07, 1.93298700e+07,\n",
       "        2.82382980e+07, 4.22512080e+07, 3.69337920e+07, 2.97155580e+07,\n",
       "        3.07654580e+07, 1.91275420e+07, 9.81115700e+06, 7.02239350e+06,\n",
       "        1.77177000e+07, 2.61387560e+07, 1.73394520e+07, 1.09824938e+06,\n",
       "        3.80740775e+06, 2.11127025e+06, 9.79060300e+06, 9.69324500e+06,\n",
       "        7.30478500e+06, 9.94378700e+06, 1.07054770e+07, 1.38769580e+07,\n",
       "        8.04448900e+06, 1.64742088e+06, 1.84668238e+06, 7.07123550e+06,\n",
       "        6.22482950e+06, 6.59173150e+06, 7.84150400e+06, 2.12625780e+07,\n",
       "        1.73332320e+07, 1.15894290e+07, 1.18786960e+07, 1.92084320e+07,\n",
       "        3.62542640e+07, 4.45663280e+07, 3.66530040e+07, 5.18693040e+07,\n",
       "        7.13240400e+07, 6.13352240e+07, 7.97429200e+07, 3.07338140e+07,\n",
       "        6.09897950e+06, 6.93280100e+06, 7.65046150e+06, 1.31883370e+07,\n",
       "        1.58466140e+07, 2.01721780e+07, 2.65498540e+07, 2.57681800e+07,\n",
       "        1.10152410e+07, 1.35278690e+07, 3.45600440e+07, 5.30422920e+07,\n",
       "        9.23686560e+07, 6.96274400e+07, 1.71286420e+07, 6.77870650e+06,\n",
       "        5.75699200e+06, 1.25093070e+07, 1.52394320e+07, 3.51743000e+07,\n",
       "        1.49954070e+07, 2.57295900e+07, 1.95145920e+07, 4.04197960e+07,\n",
       "        4.06603120e+07, 6.34238720e+07, 6.88515680e+07, 5.33434280e+07,\n",
       "        3.35891440e+07, 1.39591970e+07, 6.36693150e+06, 9.05806600e+06,\n",
       "        2.63502000e+06, 2.43483200e+06, 2.66739725e+06, 4.97334000e+06,\n",
       "        6.57531150e+06, 1.40964350e+07, 2.21927000e+07, 1.69144180e+07,\n",
       "        1.40468870e+07, 3.85171325e+06, 8.53365600e+06, 1.96124980e+07,\n",
       "        3.69244360e+07, 3.16358400e+07, 1.73901580e+07, 1.48346330e+07,\n",
       "        9.36091500e+06, 3.15486850e+06, 1.37769638e+06, 4.49303219e+05,\n",
       "        6.04301875e+05, 2.00615712e+06, 3.26679825e+06, 4.19389425e+06,\n",
       "        9.03311300e+06, 1.99583680e+07, 2.76967220e+07, 3.10277960e+07,\n",
       "        1.90582140e+07, 1.26809310e+07, 1.21716250e+07, 1.21052250e+07,\n",
       "        2.58346260e+07, 4.64339840e+07, 5.04985040e+07, 4.72959240e+07,\n",
       "        2.56486760e+07, 1.23470580e+07, 1.21370380e+07, 6.76919450e+06,\n",
       "        8.21496900e+06, 2.08747880e+07, 3.18952040e+07, 5.38525520e+07,\n",
       "        2.85878900e+07, 8.64937800e+06, 6.33669050e+06, 1.24495990e+07,\n",
       "        4.25604500e+06, 3.42573550e+06, 3.04991650e+06, 3.39933275e+06,\n",
       "        1.48275570e+07, 7.55945900e+06, 8.71415100e+06, 1.19355850e+07,\n",
       "        2.93895680e+07, 5.08098480e+07, 6.86711840e+07], dtype=float32),\n",
       " 'rmse': array([ 409.64447 ,  290.53964 ,  269.1338  ,  244.1424  ,  212.02654 ,\n",
       "         297.39465 ,  282.66922 ,  469.01935 ,  606.64294 ,  595.9845  ,\n",
       "         686.35394 ,  609.5587  ,  649.4992  ,  616.25726 ,  424.18304 ,\n",
       "         230.4547  ,  323.14444 ,  511.98917 ,  499.26807 ,  530.4064  ,\n",
       "         234.18103 ,  256.06354 ,  208.56795 ,  199.46169 ,  155.79063 ,\n",
       "         220.1721  ,  255.21317 ,  301.37482 ,  238.04051 ,  216.35992 ,\n",
       "         227.19466 ,  213.78055 ,  206.33675 ,  293.61374 ,  232.53165 ,\n",
       "         254.92505 ,  297.69592 ,  302.32266 ,  273.92404 ,  405.32214 ,\n",
       "         681.8246  ,  258.61215 ,  238.95729 ,  181.87167 ,  209.89668 ,\n",
       "         154.87624 ,  159.5511  ,  164.50838 ,  139.30222 ,  240.98816 ,\n",
       "         212.57489 ,  189.72723 ,  195.41508 ,  277.64362 ,  458.3093  ,\n",
       "         608.59314 ,  789.5343  ,  791.8716  ,  762.6392  ,  769.8009  ,\n",
       "         632.512   ,  493.29077 ,  440.14056 ,  687.1767  ,  742.96747 ,\n",
       "         817.1342  ,  746.8228  ,  777.83234 ,  467.83768 ,   89.51083 ,\n",
       "         209.44337 ,  285.79782 ,  345.53003 ,  255.93782 ,  225.0089  ,\n",
       "         347.9775  ,  384.00858 ,  685.0782  ,  809.938   , 1020.14923 ,\n",
       "         973.1388  ,  820.26587 ,  526.7299  ,  319.4608  ,  233.13394 ,\n",
       "         298.29434 ,  376.07773 ,  517.5952  ,  655.85614 ,  888.7002  ,\n",
       "         822.9402  ,  745.04407 ,  636.8693  ,  477.64517 ,  247.30536 ,\n",
       "         408.46637 ,  282.15863 ,  366.40463 ,  420.21133 ,  498.77643 ,\n",
       "         277.3804  ,  175.1717  ,  356.66544 ,  223.38295 ,  316.51248 ,\n",
       "         419.7587  ,  428.72165 ,  574.2357  ,  861.2708  ,  790.4331  ,\n",
       "         614.1127  ,  247.99318 ,  258.5734  ,  378.09094 ,  492.9564  ,\n",
       "         547.8236  ,  464.92523 ,  470.23364 ,  561.2041  , 1288.5718  ,\n",
       "        1900.9878  , 2293.5735  , 2194.7222  , 2123.8696  , 2247.4226  ,\n",
       "        2369.8167  , 1032.965   ,  481.10913 ,  676.3825  ,  610.69653 ,\n",
       "         969.3045  ,  923.98645 ,  826.3068  ,  306.65787 ,  299.97247 ,\n",
       "         302.64282 ,  452.14056 ,  307.72583 ,  346.98065 ,  466.9208  ,\n",
       "         381.59753 ,  379.10846 ,  552.2589  ,  868.33466 ,  788.5372  ,\n",
       "         647.8187  ,  613.98364 ,  557.51215 ,  425.94736 ,  338.0297  ,\n",
       "         302.55032 ,  296.71506 ,  285.4911  ,  314.61285 ,  296.42905 ,\n",
       "         209.8416  ,  346.99695 ,  360.2095  ,  387.98215 ,  325.546   ,\n",
       "         556.1446  ,  363.14532 ,  377.4252  ,  311.4041  ,  349.52527 ,\n",
       "         519.53687 ,  705.61743 , 1027.0199  ,  942.7844  , 1025.855   ,\n",
       "        1173.92    , 1230.6981  , 1211.0151  , 1244.1971  ,  746.3953  ,\n",
       "         622.46747 ,  604.81964 ,  606.3555  ,  608.8324  ,  562.73145 ,\n",
       "         586.0949  ,  488.07062 ,  640.66785 ,  872.9275  ,  814.3128  ,\n",
       "         346.35867 ,  728.5839  ,  950.4889  ,  647.0419  ,  196.4378  ,\n",
       "         221.21922 ,  233.14507 ,  279.82062 ,  448.62637 ,  512.6285  ,\n",
       "         399.1004  ,  207.01408 ,  361.39417 ,  527.99445 ,  523.3752  ,\n",
       "         830.5366  ,  980.5544  ,  917.63495 ,  669.6429  ,  569.26404 ,\n",
       "         387.22504 ,  465.89487 ,  276.0137  ,   93.18894 ,  209.9992  ,\n",
       "         264.6206  ,  312.6832  ,  229.78592 ,  318.99036 ,  247.62886 ,\n",
       "         236.00816 ,  238.85123 ,  138.44675 ,  246.97571 ,  117.150276,\n",
       "         161.77652 ,  258.36438 ,  228.4283  ,  243.4437  ,  287.2188  ,\n",
       "         287.20462 ,  314.17422 ,  307.38727 ,  239.58847 ,  246.75836 ,\n",
       "         184.26729 ,  111.32145 ,  190.60374 ,  239.92337 ,  285.53143 ,\n",
       "         214.54909 ,  267.47073 ,  249.33124 ,  308.89798 ,  328.5875  ,\n",
       "         277.74554 ,  333.7673  ,  282.43347 ,  246.49232 ,   77.32647 ,\n",
       "         156.95026 ,  135.5635  ,  172.98984 ,  150.11824 ,  141.33704 ,\n",
       "         197.66893 ,  293.428   ,  398.58636 ,  438.1253  ,  469.94296 ,\n",
       "         578.5352  ,  983.04596 , 1157.2177  , 1294.987   , 1343.2054  ,\n",
       "        1500.5358  , 1653.2588  , 1587.7433  ,  789.67365 ,  549.2131  ,\n",
       "         314.90585 ,  519.9547  ,  422.99573 ,  278.64136 ,  330.22314 ,\n",
       "         427.72232 ,  631.5566  ,  291.25626 ,  150.9804  ,  226.48294 ,\n",
       "         271.12543 ,  231.5878  ,  300.50125 ,  552.2623  ,  612.77454 ,\n",
       "         521.24713 ,  403.96704 ,  281.9429  ,  372.59433 ,  293.53372 ,\n",
       "         297.29788 ,  163.77888 ,  162.47038 ,  240.81996 ,  199.95866 ,\n",
       "         264.55356 ,  210.335   ,  384.4743  ,  409.1231  ,  552.80646 ,\n",
       "         511.74075 ,  636.67084 ,  815.73975 ,  985.99615 , 1287.1301  ,\n",
       "        1151.3643  ,  640.4602  ,  296.56003 ,  377.28775 ,  477.39685 ,\n",
       "         409.19278 ,  659.98126 ,  684.8532  ,  668.5462  ,  546.3106  ,\n",
       "         558.1212  ,  657.83124 ,  478.51712 ,  334.37906 ,  232.22116 ,\n",
       "         267.93762 ,  315.685   ,  342.42316 ,  239.13077 ,  352.02182 ,\n",
       "         468.23102 ,  691.4017  ,  448.9904  ,  282.84985 ,  170.93439 ,\n",
       "         212.61583 ,  161.86551 ,  185.63835 ,  142.07306 ,  225.41858 ,\n",
       "         355.40768 ,  598.8725  ,  650.836   ,  746.28815 ,  864.5552  ,\n",
       "         944.4623  ,  885.7339  ,  692.2555  ,  402.77432 ,  341.27383 ,\n",
       "         174.33499 ,  272.3469  ,  764.0027  , 1035.6514  , 1317.6365  ,\n",
       "        1541.4246  , 1706.7302  , 1558.2499  , 1530.4319  ,  734.6356  ,\n",
       "         362.14716 ,  379.25983 ,  501.33774 ,  646.52014 ,  685.9025  ,\n",
       "         364.32156 ,  529.6006  ,  905.79614 , 1251.4844  , 1073.1594  ,\n",
       "        1299.3527  , 1448.6163  , 1562.8644  , 1525.709   ,  763.79126 ,\n",
       "         540.2173  ,  782.59546 ,  704.4218  ,  905.49066 , 1206.5919  ,\n",
       "        1446.0122  , 1352.0886  , 1484.1239  , 1856.689   , 2144.9944  ,\n",
       "        1952.6128  , 1296.5411  ,  831.9059  ,  777.9486  ,  752.1567  ,\n",
       "         927.19135 , 1069.7771  , 1035.4282  , 1143.7622  , 1080.0074  ,\n",
       "        1197.2372  , 1965.0948  , 1948.7584  , 1546.6305  ,  501.61557 ,\n",
       "         406.63638 ,  441.44092 ,  452.14975 ,  421.76953 ,  354.12515 ,\n",
       "         393.88907 ,  488.53546 ,  670.0382  , 1616.5951  , 2605.4182  ,\n",
       "        3374.463   , 3641.5012  , 3879.0193  , 3943.0833  , 4011.7612  ,\n",
       "        2958.4927  , 1366.3451  ,  904.3409  , 1084.9548  , 1604.086   ,\n",
       "        2205.8792  , 2775.6746  , 3647.523   , 4001.2998  , 3858.0015  ,\n",
       "        3281.6042  , 3626.2673  , 3461.4492  , 4301.466   , 4396.5747  ,\n",
       "        5313.972   , 6500.093   , 6077.318   , 5451.1978  , 5546.662   ,\n",
       "        4373.5044  , 3132.2766  , 2649.98    , 4209.2397  , 5112.6074  ,\n",
       "        4164.067   , 1047.974   , 1951.2579  , 1453.0211  , 3128.994   ,\n",
       "        3113.3977  , 2702.7366  , 3153.3772  , 3271.9226  , 3725.179   ,\n",
       "        2836.2808  , 1283.5189  , 1358.9269  , 2659.1794  , 2494.961   ,\n",
       "        2567.4368  , 2800.2686  , 4611.136   , 4163.32    , 3404.325   ,\n",
       "        3446.5483  , 4382.7427  , 6021.1514  , 6675.802   , 6054.1724  ,\n",
       "        7202.0347  , 8445.356   , 7831.6807  , 8929.889   , 5543.8086  ,\n",
       "        2469.611   , 2633.0212  , 2765.9468  , 3631.575   , 3980.7805  ,\n",
       "        4491.3447  , 5152.6553  , 5076.237   , 3318.9216  , 3678.0251  ,\n",
       "        5878.7793  , 7283.014   , 9610.861   , 8344.306   , 4138.6763  ,\n",
       "        2603.595   , 2399.3733  , 3536.8499  , 3903.7715  , 5930.7925  ,\n",
       "        3872.3904  , 5072.4346  , 4417.532   , 6357.6562  , 6376.544   ,\n",
       "        7963.9106  , 8297.685   , 7303.6587  , 5795.6143  , 3736.201   ,\n",
       "        2523.2778  , 3009.662   , 1623.2744  , 1560.3948  , 1633.2168  ,\n",
       "        2230.0986  , 2564.237   , 3754.522   , 4710.913   , 4112.7144  ,\n",
       "        3747.9177  , 1962.5782  , 2921.2422  , 4428.6     , 6076.548   ,\n",
       "        5624.5747  , 4170.151   , 3851.5754  , 3059.5613  , 1776.195   ,\n",
       "        1173.7532  ,  670.30084 ,  777.3685  , 1416.3888  , 1807.4286  ,\n",
       "        2047.8999  , 3005.5137  , 4467.479   , 5262.7676  , 5570.26    ,\n",
       "        4365.5713  , 3561.0295  , 3488.7856  , 3479.2563  , 5082.7773  ,\n",
       "        6814.2485  , 7106.23    , 6877.203   , 5064.452   , 3513.8381  ,\n",
       "        3483.8252  , 2601.7676  , 2866.1768  , 4568.8936  , 5647.584   ,\n",
       "        7338.4297  , 5346.7646  , 2940.9824  , 2517.2783  , 3528.399   ,\n",
       "        2063.0183  , 1850.8743  , 1746.401   , 1843.7279  , 3850.6567  ,\n",
       "        2749.447   , 2951.974   , 3454.7915  , 5421.215   , 7128.1025  ,\n",
       "        8286.808   ], dtype=float32),\n",
       " 'mape': array([ 4.3273783 ,  2.6868322 ,  2.2652268 ,  2.2748406 ,  2.2804298 ,\n",
       "         3.0304356 ,  3.0030606 ,  4.20877   ,  5.499757  ,  6.731934  ,\n",
       "         7.72719   ,  7.1057687 ,  8.315366  ,  7.8708477 ,  5.3691244 ,\n",
       "         2.917728  ,  3.3631167 ,  5.910852  ,  6.2009406 ,  6.927966  ,\n",
       "         2.715811  ,  2.1653082 ,  2.5066423 ,  2.187971  ,  1.8640393 ,\n",
       "         2.5535645 ,  3.0824194 ,  3.7602973 ,  2.8180122 ,  2.0906737 ,\n",
       "         2.436328  ,  2.4755926 ,  2.1527114 ,  2.889179  ,  2.7191212 ,\n",
       "         3.0712361 ,  3.2735605 ,  3.6900911 ,  3.1930723 ,  4.888984  ,\n",
       "         9.131869  ,  3.260951  ,  3.1102624 ,  2.3394618 ,  2.5322502 ,\n",
       "         1.6603774 ,  1.9444625 ,  1.6786082 ,  1.5251331 ,  3.3061192 ,\n",
       "         2.5837255 ,  1.9607706 ,  2.4426486 ,  3.1294398 ,  4.9908648 ,\n",
       "         6.1801615 ,  9.2008915 ,  9.390948  ,  9.074043  ,  9.387796  ,\n",
       "         7.576108  ,  4.927974  ,  4.085646  ,  6.9105616 ,  7.209289  ,\n",
       "         8.512012  ,  7.623691  ,  8.773414  ,  5.0525723 ,  0.886097  ,\n",
       "         2.2243114 ,  3.1681936 ,  3.7196047 ,  2.5040414 ,  2.3626437 ,\n",
       "         3.5227404 ,  3.6869977 ,  5.850635  ,  7.407737  , 10.347957  ,\n",
       "        10.163533  ,  8.692493  ,  5.5569835 ,  2.9746602 ,  1.689496  ,\n",
       "         2.5931408 ,  3.4099362 ,  4.553927  ,  5.9410954 ,  8.5291815 ,\n",
       "         7.6964245 ,  6.9197273 ,  5.7860622 ,  4.19608   ,  1.9976964 ,\n",
       "         3.3893309 ,  2.4156315 ,  3.0941916 ,  3.8667831 ,  4.6057754 ,\n",
       "         2.4722424 ,  1.498733  ,  2.7315195 ,  1.8441707 ,  2.1631851 ,\n",
       "         3.934276  ,  4.128607  ,  5.6989183 ,  8.784263  ,  8.481695  ,\n",
       "         6.80895   ,  2.5071294 ,  2.6318612 ,  3.609424  ,  4.8703713 ,\n",
       "         5.5949426 ,  5.0080137 ,  5.1610928 ,  6.5025625 , 14.025111  ,\n",
       "        23.468351  , 32.21333   , 31.982275  , 34.02957   , 38.91919   ,\n",
       "        43.717     , 17.411287  ,  7.599865  ,  9.401274  ,  8.908798  ,\n",
       "        14.006337  , 12.428604  , 12.454314  ,  4.1048546 ,  3.7669568 ,\n",
       "         3.8339458 ,  6.4502425 ,  3.2814357 ,  4.89003   ,  5.0928116 ,\n",
       "         4.878366  ,  4.9344835 ,  6.5081143 , 12.520448  , 11.257683  ,\n",
       "         9.078495  ,  8.158174  ,  6.989769  ,  4.9761457 ,  4.0719304 ,\n",
       "         3.571015  ,  3.6226523 ,  3.470308  ,  4.187316  ,  3.5997622 ,\n",
       "         2.382196  ,  3.8785498 ,  4.381683  ,  4.6401143 ,  3.5999894 ,\n",
       "         7.4187407 ,  3.7812943 ,  4.335275  ,  3.9725904 ,  4.0535636 ,\n",
       "         6.1716785 ,  8.942647  , 11.625234  ,  8.704839  ,  9.323348  ,\n",
       "        11.624258  , 12.723263  , 12.791923  , 13.970327  ,  8.009122  ,\n",
       "         5.203346  ,  4.5825205 ,  4.9714947 ,  4.842957  ,  5.2200136 ,\n",
       "         5.2941713 ,  4.554709  ,  5.6765456 ,  8.393064  ,  8.067333  ,\n",
       "         3.2458782 ,  7.178133  ,  9.705845  ,  6.1968284 ,  1.9296551 ,\n",
       "         2.163051  ,  1.781498  ,  2.5028512 ,  4.091748  ,  5.278089  ,\n",
       "         4.142423  ,  1.9601597 ,  3.2175093 ,  4.334895  ,  4.477992  ,\n",
       "         7.522428  ,  9.350298  ,  8.852936  ,  6.190562  ,  5.1213374 ,\n",
       "         3.1579442 ,  3.6382556 ,  2.6946244 ,  0.7727738 ,  1.7921103 ,\n",
       "         2.277333  ,  2.1920648 ,  2.0932202 ,  2.8127768 ,  2.2062566 ,\n",
       "         2.207231  ,  2.3622754 ,  1.0979972 ,  2.2036648 ,  1.1412308 ,\n",
       "         1.4200715 ,  2.1951554 ,  2.016204  ,  1.8204134 ,  2.020531  ,\n",
       "         2.6567643 ,  3.0174108 ,  2.2891033 ,  2.5249484 ,  2.3676515 ,\n",
       "         1.590806  ,  1.0662746 ,  1.61416   ,  2.4352403 ,  2.7808552 ,\n",
       "         2.1002908 ,  2.498783  ,  2.0167084 ,  2.8250763 ,  3.1103263 ,\n",
       "         2.7620494 ,  3.41156   ,  2.814714  ,  2.218398  ,  0.7564029 ,\n",
       "         1.2889735 ,  1.2142022 ,  1.6230313 ,  1.3052032 ,  1.1698788 ,\n",
       "         1.8185126 ,  2.5085437 ,  3.714278  ,  4.038982  ,  4.4215517 ,\n",
       "         5.6944857 ,  8.024983  ,  9.062159  ,  9.699334  , 10.213392  ,\n",
       "        12.320871  , 14.040415  , 13.798133  ,  6.441711  ,  4.527777  ,\n",
       "         1.990922  ,  3.842465  ,  2.9790785 ,  2.1568913 ,  2.6230373 ,\n",
       "         3.5401583 ,  5.0714493 ,  1.9518213 ,  0.8479704 ,  1.5430776 ,\n",
       "         1.59877   ,  1.7643617 ,  2.1884134 ,  4.105546  ,  4.7296286 ,\n",
       "         3.6381874 ,  3.145032  ,  1.7386477 ,  2.3623815 ,  2.2507277 ,\n",
       "         2.0402422 ,  1.2575442 ,  1.0450649 ,  1.7465299 ,  1.2971745 ,\n",
       "         2.0094378 ,  1.5339807 ,  2.8393195 ,  2.957732  ,  4.427214  ,\n",
       "         4.246161  ,  5.1289654 ,  6.55221   ,  8.616791  , 11.66176   ,\n",
       "        10.891039  ,  5.902583  ,  2.347134  ,  3.2304366 ,  4.0159793 ,\n",
       "         3.4096057 ,  5.9197254 ,  5.816144  ,  5.565607  ,  4.4317474 ,\n",
       "         4.927219  ,  5.9278507 ,  4.082481  ,  2.5163841 ,  1.4875672 ,\n",
       "         2.1161633 ,  2.3753586 ,  2.6957934 ,  1.8600028 ,  3.1067512 ,\n",
       "         4.132684  ,  6.275422  ,  3.903624  ,  2.3724284 ,  1.4005758 ,\n",
       "         1.2078462 ,  1.222804  ,  1.68869   ,  0.94964224,  1.9042429 ,\n",
       "         2.8212445 ,  4.6550155 ,  4.741674  ,  5.475723  ,  6.9594727 ,\n",
       "         7.959445  ,  7.6147637 ,  5.9285336 ,  3.4232204 ,  2.623116  ,\n",
       "         1.1183193 ,  1.8975556 ,  4.1156363 ,  5.953286  ,  8.368421  ,\n",
       "        10.523187  , 12.511314  , 11.598747  , 11.44814   ,  5.1846123 ,\n",
       "         1.8604826 ,  2.3098073 ,  3.1938446 ,  4.391785  ,  4.625312  ,\n",
       "         2.2003605 ,  3.3367434 ,  4.81816   ,  6.3685827 ,  5.1642976 ,\n",
       "         6.961086  ,  8.67559   ,  9.984718  ,  9.672338  ,  4.1802483 ,\n",
       "         2.7655487 ,  4.0758767 ,  3.7511516 ,  5.1393204 ,  6.3909016 ,\n",
       "         7.2490587 ,  6.284666  ,  6.7024307 ,  9.003921  , 11.245834  ,\n",
       "        10.493185  ,  6.7521715 ,  4.1438537 ,  3.9972723 ,  3.3488848 ,\n",
       "         3.8695931 ,  4.683701  ,  4.7612514 ,  5.1691694 ,  5.2261157 ,\n",
       "         5.2365627 ,  9.929756  ,  9.988042  ,  7.9947667 ,  2.4170706 ,\n",
       "         1.6554846 ,  1.9337224 ,  1.907296  ,  1.9375088 ,  1.6525415 ,\n",
       "         2.0242507 ,  2.2839618 ,  2.9783714 ,  5.9873147 ,  9.592189  ,\n",
       "        13.509459  , 13.609966  , 15.221083  , 16.042917  , 16.99535   ,\n",
       "        12.660517  ,  5.6734543 ,  3.1722584 ,  2.992137  ,  4.5063386 ,\n",
       "         6.3548403 ,  8.647941  , 12.043093  , 13.652357  , 12.9416065 ,\n",
       "         8.994215  ,  9.496021  ,  9.447057  , 12.071035  , 11.290396  ,\n",
       "        12.083988  , 15.070589  , 13.17499   , 12.193602  , 13.021114  ,\n",
       "         9.623638  ,  7.0485353 ,  5.925375  ,  9.944438  , 13.289221  ,\n",
       "        11.199625  ,  2.4866598 ,  4.3929467 ,  2.978609  ,  7.1916046 ,\n",
       "         7.414235  ,  6.6370673 ,  8.102082  ,  8.850817  , 10.495166  ,\n",
       "         8.318723  ,  3.0705354 ,  2.9679234 ,  6.620749  ,  5.990464  ,\n",
       "         6.897011  ,  7.652081  , 12.838628  , 10.981984  ,  7.7535815 ,\n",
       "         7.544557  , 10.382553  , 13.782181  , 13.922039  , 11.020032  ,\n",
       "        13.608524  , 16.872326  , 15.244222  , 18.683992  , 11.409448  ,\n",
       "         4.682792  ,  4.5119276 ,  4.194536  ,  4.5764813 ,  5.845114  ,\n",
       "         6.541342  ,  8.257755  ,  8.506686  ,  5.816784  ,  6.672067  ,\n",
       "        10.085068  , 13.901483  , 19.264135  , 17.32684   ,  8.079445  ,\n",
       "         4.7523293 ,  4.2875257 ,  5.971407  ,  7.384928  , 11.621107  ,\n",
       "         7.335945  ,  9.177888  ,  5.5490828 , 10.277541  ,  9.797164  ,\n",
       "        12.600229  , 13.573173  , 11.702284  ,  9.557838  ,  6.1358957 ,\n",
       "         3.6425526 ,  4.2889323 ,  2.2120507 ,  2.3109457 ,  1.8860674 ,\n",
       "         3.5194404 ,  3.7588756 ,  5.496975  ,  7.9405293 ,  7.0018992 ,\n",
       "         6.166977  ,  3.1018393 ,  4.0887823 ,  6.532854  , 10.023886  ,\n",
       "         9.151151  ,  6.8587074 ,  6.4350634 ,  5.145476  ,  2.713047  ,\n",
       "         1.783305  ,  1.0628415 ,  1.2808108 ,  2.142598  ,  2.766144  ,\n",
       "         3.1080613 ,  3.6839314 ,  6.6064467 ,  7.857312  ,  8.489676  ,\n",
       "         6.5346875 ,  5.325608  ,  5.308303  ,  4.936735  ,  7.607133  ,\n",
       "        10.790461  , 11.816436  , 12.18051   ,  8.450406  ,  6.249001  ,\n",
       "         5.503859  ,  4.470628  ,  4.7464375 ,  7.6488843 ,  9.19594   ,\n",
       "        12.859785  ,  9.018306  ,  4.34305   ,  3.9222639 ,  5.832075  ,\n",
       "         3.2700858 ,  2.1828072 ,  2.4229262 ,  2.2199388 ,  6.3295035 ,\n",
       "         4.7969375 ,  4.832158  ,  5.6918983 ,  8.945755  , 12.041427  ,\n",
       "        15.7081175 ], dtype=float32),\n",
       " 'mase': 2.3812397}"
      ]
     },
     "execution_count": 59,
     "metadata": {},
     "output_type": "execute_result"
    }
   ],
   "source": [
    "# Evaluating model 3 preds\n",
    "model_3_results = evaluate_preds(\n",
    "    y_true=tf.squeeze(test_labels),\n",
    "    y_pred=model_3_preds\n",
    ")\n",
    "model_3_results"
   ]
  },
  {
   "cell_type": "code",
   "execution_count": 60,
   "metadata": {},
   "outputs": [],
   "source": [
    "# Function for evaluation matrix\n",
    "# MAKING IT WORK FOR HIGHER HORIZON\n",
    "def evaluate_preds(y_true, y_pred):\n",
    "\n",
    "    # Ensuring that we use float32 dtype (for metric calculations)\n",
    "    y_true = tf.cast(y_true, dtype=tf.float32)\n",
    "    y_pred = tf.cast(y_pred, dtype=tf.float32)\n",
    "\n",
    "    # Calculating various evaluation metrics\n",
    "    mae = tf.keras.metrics.mean_absolute_error(y_true, y_pred)\n",
    "    mse = tf.keras.metrics.mean_squared_error(y_true, y_pred)\n",
    "    rmse = tf.sqrt(mse)\n",
    "    mape = tf.keras.metrics.mean_absolute_percentage_error(y_true, y_pred)\n",
    "    mase = mean_absolute_scaled_error(y_true, y_pred)\n",
    "\n",
    "    # Account for different size metrics\n",
    "    if mae.ndim > 0:\n",
    "        mae = tf.reduce_mean(mae)\n",
    "        mse = tf.reduce_mean(mse)\n",
    "        rmse = tf.reduce_mean(rmse)\n",
    "        mape = tf.reduce_mean(mape)\n",
    "        mase = tf.reduce_mean(mase)\n",
    "\n",
    "    return {\n",
    "        \"mae\": mae.numpy(),\n",
    "        \"mse\": mse.numpy(),\n",
    "        \"rmse\": rmse.numpy(),\n",
    "        \"mape\": mape.numpy(),\n",
    "        \"mase\": mase.numpy()\n",
    "    }"
   ]
  },
  {
   "cell_type": "code",
   "execution_count": 61,
   "metadata": {},
   "outputs": [
    {
     "data": {
      "text/plain": [
       "{'mae': 1338.1931,\n",
       " 'mse': 5740692.0,\n",
       " 'rmse': 1514.7822,\n",
       " 'mape': 5.9508533,\n",
       " 'mase': 2.3812397}"
      ]
     },
     "execution_count": 61,
     "metadata": {},
     "output_type": "execute_result"
    }
   ],
   "source": [
    "# Re-evaluating model 3 preds\n",
    "model_3_results = evaluate_preds(\n",
    "    y_true=tf.squeeze(test_labels),\n",
    "    y_pred=model_3_preds\n",
    ")\n",
    "model_3_results"
   ]
  },
  {
   "cell_type": "code",
   "execution_count": 62,
   "metadata": {},
   "outputs": [
    {
     "data": {
      "image/png": "[encoded data removed]",
      "text/plain": [
       "<Figure size 720x504 with 1 Axes>"
      ]
     },
     "metadata": {
      "needs_background": "light"
     },
     "output_type": "display_data"
    }
   ],
   "source": [
    "# Visualising the data\n",
    "offset = 300\n",
    "plt.figure(figsize=(10, 7))\n",
    "plot_time_series(\n",
    "    timestamps=X_test[-len(test_windows):],\n",
    "    values=test_labels[:, 0],\n",
    "    start=offset,\n",
    "    label=\"Test data\"\n",
    ")\n",
    "plot_time_series(\n",
    "    timestamps=X_test[-len(test_windows):],\n",
    "    values=model_3_preds,\n",
    "    start=offset,\n",
    "    label=\"Model 3 preds\"\n",
    ")"
   ]
  },
  {
   "cell_type": "code",
   "execution_count": 63,
   "metadata": {},
   "outputs": [
    {
     "data": {
      "image/png": "[encoded data removed]",
      "text/plain": [
       "<Figure size 720x504 with 1 Axes>"
      ]
     },
     "metadata": {
      "needs_background": "light"
     },
     "output_type": "display_data"
    }
   ],
   "source": [
    "# Visualising the data\n",
    "offset = 300\n",
    "plt.figure(figsize=(10, 7))\n",
    "plot_time_series(\n",
    "    timestamps=X_test[-len(test_windows):],\n",
    "    values=test_labels[:, 0],\n",
    "    start=offset,\n",
    "    label=\"Test data\"\n",
    ")\n",
    "plot_time_series(\n",
    "    timestamps=X_test[-len(test_windows):],\n",
    "    values=tf.reduce_mean(model_3_preds, axis=1),\n",
    "    start=offset,\n",
    "    label=\"Model 3 preds\"\n",
    ")"
   ]
  },
  {
   "cell_type": "code",
   "execution_count": 64,
   "metadata": {},
   "outputs": [
    {
     "data": {
      "image/png": "[encoded data removed]",
      "text/plain": [
       "<Figure size 720x504 with 1 Axes>"
      ]
     },
     "metadata": {
      "needs_background": "light"
     },
     "output_type": "display_data"
    }
   ],
   "source": [
    "# Comparing models performance\n",
    "pd.DataFrame({\n",
    "    \"naive\": naive_results[\"mae\"],\n",
    "    \"horizon_1_window_7\": model_1_results[\"mae\"],\n",
    "    \"horizon_1_window_30\": model_2_results[\"mae\"],\n",
    "    \"horizon_7_window_30\": model_3_results[\"mae\"]\n",
    "}, index=[\"mae\"]).plot(figsize=(10, 7), kind=\"bar\");"
   ]
  },
  {
   "attachments": {},
   "cell_type": "markdown",
   "metadata": {},
   "source": [
    "### Model 4 - Using Conv1D"
   ]
  },
  {
   "cell_type": "code",
   "execution_count": 65,
   "metadata": {},
   "outputs": [],
   "source": [
    "# Defining horizon and window\n",
    "HORIZON = 1\n",
    "WINDOW_SIZE = 7"
   ]
  },
  {
   "cell_type": "code",
   "execution_count": 66,
   "metadata": {},
   "outputs": [
    {
     "data": {
      "text/plain": [
       "(2780, 2780)"
      ]
     },
     "execution_count": 66,
     "metadata": {},
     "output_type": "execute_result"
    }
   ],
   "source": [
    "# Creating windowed data\n",
    "full_windows,full_labels = make_windows(prices, window_size=WINDOW_SIZE, horizon=HORIZON)\n",
    "len(full_windows), len(full_labels)"
   ]
  },
  {
   "cell_type": "code",
   "execution_count": 67,
   "metadata": {},
   "outputs": [
    {
     "data": {
      "text/plain": [
       "(2224, 2224, 556, 556)"
      ]
     },
     "execution_count": 67,
     "metadata": {},
     "output_type": "execute_result"
    }
   ],
   "source": [
    "# Creating train / test datasets\n",
    "train_windows, test_windows, train_labels, test_labels = make_train_test_splits(full_windows, full_labels)\n",
    "len(train_windows), len(train_labels), len(test_windows), len(test_labels)"
   ]
  },
  {
   "cell_type": "code",
   "execution_count": 68,
   "metadata": {},
   "outputs": [
    {
     "data": {
      "text/plain": [
       "(7,)"
      ]
     },
     "execution_count": 68,
     "metadata": {},
     "output_type": "execute_result"
    }
   ],
   "source": [
    "# Checking data input shape\n",
    "train_windows[0].shape # returns WINDOW_SIZE"
   ]
  },
  {
   "cell_type": "code",
   "execution_count": 69,
   "metadata": {},
   "outputs": [],
   "source": [
    "# Conv1D expects input of (batch_size, timestamps, input_dim)"
   ]
  },
  {
   "cell_type": "code",
   "execution_count": 70,
   "metadata": {},
   "outputs": [
    {
     "data": {
      "text/plain": [
       "<tf.Tensor: shape=(7,), dtype=float64, numpy=\n",
       "array([123.65499, 125.455  , 108.58483, 118.67466, 121.33866, 120.65533,\n",
       "       121.795  ])>"
      ]
     },
     "execution_count": 70,
     "metadata": {},
     "output_type": "execute_result"
    }
   ],
   "source": [
    "# Reshaping the tensor\n",
    "x = tf.constant(train_windows[0])\n",
    "x"
   ]
  },
  {
   "cell_type": "code",
   "execution_count": 71,
   "metadata": {},
   "outputs": [],
   "source": [
    "# Creating Lambda layer\n",
    "expand_dim_layer = layers.Lambda(lambda x: tf.expand_dims(x, axis=1))"
   ]
  },
  {
   "cell_type": "code",
   "execution_count": 72,
   "metadata": {},
   "outputs": [
    {
     "name": "stdout",
     "output_type": "stream",
     "text": [
      "Original shape: (7,)\n",
      "Expanded shape: (7, 1)\n",
      "Original values with expanded shape:\n",
      " [[123.65499]\n",
      " [125.455  ]\n",
      " [108.58483]\n",
      " [118.67466]\n",
      " [121.33866]\n",
      " [120.65533]\n",
      " [121.795  ]]\n"
     ]
    }
   ],
   "source": [
    "# Testing Lambda layer\n",
    "print(f\"Original shape: {x.shape}\") # Output WINDOW_SIZE\n",
    "print(f\"Expanded shape: {expand_dim_layer(x).shape}\")\n",
    "print(f\"Original values with expanded shape:\\n {expand_dim_layer(x)}\")"
   ]
  },
  {
   "cell_type": "code",
   "execution_count": 73,
   "metadata": {},
   "outputs": [
    {
     "name": "stdout",
     "output_type": "stream",
     "text": [
      "Epoch 1/100\n",
      "17/18 [===========================>..] - ETA: 0s - loss: 977.9324  "
     ]
    },
    {
     "name": "stderr",
     "output_type": "stream",
     "text": [
      "WARNING:absl:Found untraced functions such as _jit_compiled_convolution_op while saving (showing 1 of 1). These functions will not be directly callable after loading.\n"
     ]
    },
    {
     "name": "stdout",
     "output_type": "stream",
     "text": [
      "INFO:tensorflow:Assets written to: model_experiments\\model_4_Conv1D\\assets\n"
     ]
    },
    {
     "name": "stderr",
     "output_type": "stream",
     "text": [
      "INFO:tensorflow:Assets written to: model_experiments\\model_4_Conv1D\\assets\n"
     ]
    },
    {
     "name": "stdout",
     "output_type": "stream",
     "text": [
      "18/18 [==============================] - 2s 95ms/step - loss: 964.8254 - val_loss: 2419.5188\n",
      "Epoch 2/100\n",
      "17/18 [===========================>..] - ETA: 0s - loss: 276.8939"
     ]
    },
    {
     "name": "stderr",
     "output_type": "stream",
     "text": [
      "WARNING:absl:Found untraced functions such as _jit_compiled_convolution_op while saving (showing 1 of 1). These functions will not be directly callable after loading.\n"
     ]
    },
    {
     "name": "stdout",
     "output_type": "stream",
     "text": [
      "INFO:tensorflow:Assets written to: model_experiments\\model_4_Conv1D\\assets\n"
     ]
    },
    {
     "name": "stderr",
     "output_type": "stream",
     "text": [
      "INFO:tensorflow:Assets written to: model_experiments\\model_4_Conv1D\\assets\n"
     ]
    },
    {
     "name": "stdout",
     "output_type": "stream",
     "text": [
      "18/18 [==============================] - 1s 87ms/step - loss: 273.5331 - val_loss: 1039.9487\n",
      "Epoch 3/100\n",
      "18/18 [==============================] - 0s 6ms/step - loss: 188.4723 - val_loss: 1040.5262\n",
      "Epoch 4/100\n",
      "16/18 [=========================>....] - ETA: 0s - loss: 179.3205"
     ]
    },
    {
     "name": "stderr",
     "output_type": "stream",
     "text": [
      "WARNING:absl:Found untraced functions such as _jit_compiled_convolution_op while saving (showing 1 of 1). These functions will not be directly callable after loading.\n"
     ]
    },
    {
     "name": "stdout",
     "output_type": "stream",
     "text": [
      "INFO:tensorflow:Assets written to: model_experiments\\model_4_Conv1D\\assets\n"
     ]
    },
    {
     "name": "stderr",
     "output_type": "stream",
     "text": [
      "INFO:tensorflow:Assets written to: model_experiments\\model_4_Conv1D\\assets\n"
     ]
    },
    {
     "name": "stdout",
     "output_type": "stream",
     "text": [
      "18/18 [==============================] - 2s 96ms/step - loss: 179.1982 - val_loss: 970.7422\n",
      "Epoch 5/100\n",
      "18/18 [==============================] - 0s 7ms/step - loss: 173.5273 - val_loss: 971.5415\n",
      "Epoch 6/100\n",
      " 1/18 [>.............................] - ETA: 0s - loss: 131.4518"
     ]
    },
    {
     "name": "stderr",
     "output_type": "stream",
     "text": [
      "WARNING:absl:Found untraced functions such as _jit_compiled_convolution_op while saving (showing 1 of 1). These functions will not be directly callable after loading.\n"
     ]
    },
    {
     "name": "stdout",
     "output_type": "stream",
     "text": [
      "INFO:tensorflow:Assets written to: model_experiments\\model_4_Conv1D\\assets\n"
     ]
    },
    {
     "name": "stderr",
     "output_type": "stream",
     "text": [
      "INFO:tensorflow:Assets written to: model_experiments\\model_4_Conv1D\\assets\n"
     ]
    },
    {
     "name": "stdout",
     "output_type": "stream",
     "text": [
      "18/18 [==============================] - 2s 88ms/step - loss: 172.1825 - val_loss: 948.1760\n",
      "Epoch 7/100\n",
      " 1/18 [>.............................] - ETA: 0s - loss: 213.1156"
     ]
    },
    {
     "name": "stderr",
     "output_type": "stream",
     "text": [
      "WARNING:absl:Found untraced functions such as _jit_compiled_convolution_op while saving (showing 1 of 1). These functions will not be directly callable after loading.\n"
     ]
    },
    {
     "name": "stdout",
     "output_type": "stream",
     "text": [
      "INFO:tensorflow:Assets written to: model_experiments\\model_4_Conv1D\\assets\n"
     ]
    },
    {
     "name": "stderr",
     "output_type": "stream",
     "text": [
      "INFO:tensorflow:Assets written to: model_experiments\\model_4_Conv1D\\assets\n"
     ]
    },
    {
     "name": "stdout",
     "output_type": "stream",
     "text": [
      "18/18 [==============================] - 2s 117ms/step - loss: 168.3035 - val_loss: 943.0971\n",
      "Epoch 8/100\n",
      "13/18 [====================>.........] - ETA: 0s - loss: 165.6748"
     ]
    },
    {
     "name": "stderr",
     "output_type": "stream",
     "text": [
      "WARNING:absl:Found untraced functions such as _jit_compiled_convolution_op while saving (showing 1 of 1). These functions will not be directly callable after loading.\n"
     ]
    },
    {
     "name": "stdout",
     "output_type": "stream",
     "text": [
      "INFO:tensorflow:Assets written to: model_experiments\\model_4_Conv1D\\assets\n"
     ]
    },
    {
     "name": "stderr",
     "output_type": "stream",
     "text": [
      "INFO:tensorflow:Assets written to: model_experiments\\model_4_Conv1D\\assets\n"
     ]
    },
    {
     "name": "stdout",
     "output_type": "stream",
     "text": [
      "18/18 [==============================] - 2s 95ms/step - loss: 164.7992 - val_loss: 910.4819\n",
      "Epoch 9/100\n",
      "18/18 [==============================] - 0s 6ms/step - loss: 164.5318 - val_loss: 934.4742\n",
      "Epoch 10/100\n",
      "16/18 [=========================>....] - ETA: 0s - loss: 157.9760"
     ]
    },
    {
     "name": "stderr",
     "output_type": "stream",
     "text": [
      "WARNING:absl:Found untraced functions such as _jit_compiled_convolution_op while saving (showing 1 of 1). These functions will not be directly callable after loading.\n"
     ]
    },
    {
     "name": "stdout",
     "output_type": "stream",
     "text": [
      "INFO:tensorflow:Assets written to: model_experiments\\model_4_Conv1D\\assets\n"
     ]
    },
    {
     "name": "stderr",
     "output_type": "stream",
     "text": [
      "INFO:tensorflow:Assets written to: model_experiments\\model_4_Conv1D\\assets\n"
     ]
    },
    {
     "name": "stdout",
     "output_type": "stream",
     "text": [
      "18/18 [==============================] - 2s 92ms/step - loss: 160.0402 - val_loss: 879.1314\n",
      "Epoch 11/100\n",
      " 1/18 [>.............................] - ETA: 0s - loss: 173.6471"
     ]
    },
    {
     "name": "stderr",
     "output_type": "stream",
     "text": [
      "WARNING:absl:Found untraced functions such as _jit_compiled_convolution_op while saving (showing 1 of 1). These functions will not be directly callable after loading.\n"
     ]
    },
    {
     "name": "stdout",
     "output_type": "stream",
     "text": [
      "INFO:tensorflow:Assets written to: model_experiments\\model_4_Conv1D\\assets\n"
     ]
    },
    {
     "name": "stderr",
     "output_type": "stream",
     "text": [
      "INFO:tensorflow:Assets written to: model_experiments\\model_4_Conv1D\\assets\n"
     ]
    },
    {
     "name": "stdout",
     "output_type": "stream",
     "text": [
      "18/18 [==============================] - 1s 72ms/step - loss: 156.7031 - val_loss: 862.2402\n",
      "Epoch 12/100\n",
      "18/18 [==============================] - 0s 7ms/step - loss: 153.7284 - val_loss: 940.0017\n",
      "Epoch 13/100\n",
      "18/18 [==============================] - 0s 6ms/step - loss: 152.8095 - val_loss: 872.8124\n",
      "Epoch 14/100\n",
      "18/18 [==============================] - ETA: 0s - loss: 147.7067"
     ]
    },
    {
     "name": "stderr",
     "output_type": "stream",
     "text": [
      "WARNING:absl:Found untraced functions such as _jit_compiled_convolution_op while saving (showing 1 of 1). These functions will not be directly callable after loading.\n"
     ]
    },
    {
     "name": "stdout",
     "output_type": "stream",
     "text": [
      "INFO:tensorflow:Assets written to: model_experiments\\model_4_Conv1D\\assets\n"
     ]
    },
    {
     "name": "stderr",
     "output_type": "stream",
     "text": [
      "INFO:tensorflow:Assets written to: model_experiments\\model_4_Conv1D\\assets\n"
     ]
    },
    {
     "name": "stdout",
     "output_type": "stream",
     "text": [
      "18/18 [==============================] - 2s 89ms/step - loss: 147.7067 - val_loss: 855.6138\n",
      "Epoch 15/100\n",
      "11/18 [=================>............] - ETA: 0s - loss: 142.6138"
     ]
    },
    {
     "name": "stderr",
     "output_type": "stream",
     "text": [
      "WARNING:absl:Found untraced functions such as _jit_compiled_convolution_op while saving (showing 1 of 1). These functions will not be directly callable after loading.\n"
     ]
    },
    {
     "name": "stdout",
     "output_type": "stream",
     "text": [
      "INFO:tensorflow:Assets written to: model_experiments\\model_4_Conv1D\\assets\n"
     ]
    },
    {
     "name": "stderr",
     "output_type": "stream",
     "text": [
      "INFO:tensorflow:Assets written to: model_experiments\\model_4_Conv1D\\assets\n"
     ]
    },
    {
     "name": "stdout",
     "output_type": "stream",
     "text": [
      "18/18 [==============================] - 2s 127ms/step - loss: 145.8070 - val_loss: 823.7041\n",
      "Epoch 16/100\n",
      "12/18 [===================>..........] - ETA: 0s - loss: 139.4053"
     ]
    },
    {
     "name": "stderr",
     "output_type": "stream",
     "text": [
      "WARNING:absl:Found untraced functions such as _jit_compiled_convolution_op while saving (showing 1 of 1). These functions will not be directly callable after loading.\n"
     ]
    },
    {
     "name": "stdout",
     "output_type": "stream",
     "text": [
      "INFO:tensorflow:Assets written to: model_experiments\\model_4_Conv1D\\assets\n"
     ]
    },
    {
     "name": "stderr",
     "output_type": "stream",
     "text": [
      "INFO:tensorflow:Assets written to: model_experiments\\model_4_Conv1D\\assets\n"
     ]
    },
    {
     "name": "stdout",
     "output_type": "stream",
     "text": [
      "18/18 [==============================] - 2s 127ms/step - loss: 141.7263 - val_loss: 807.6389\n",
      "Epoch 17/100\n",
      "18/18 [==============================] - 0s 21ms/step - loss: 139.3194 - val_loss: 820.5472\n",
      "Epoch 18/100\n",
      "11/18 [=================>............] - ETA: 0s - loss: 146.8414"
     ]
    },
    {
     "name": "stderr",
     "output_type": "stream",
     "text": [
      "WARNING:absl:Found untraced functions such as _jit_compiled_convolution_op while saving (showing 1 of 1). These functions will not be directly callable after loading.\n"
     ]
    },
    {
     "name": "stdout",
     "output_type": "stream",
     "text": [
      "INFO:tensorflow:Assets written to: model_experiments\\model_4_Conv1D\\assets\n"
     ]
    },
    {
     "name": "stderr",
     "output_type": "stream",
     "text": [
      "INFO:tensorflow:Assets written to: model_experiments\\model_4_Conv1D\\assets\n"
     ]
    },
    {
     "name": "stdout",
     "output_type": "stream",
     "text": [
      "18/18 [==============================] - 1s 75ms/step - loss: 138.8502 - val_loss: 779.5781\n",
      "Epoch 19/100\n",
      "10/18 [===============>..............] - ETA: 0s - loss: 130.3924"
     ]
    },
    {
     "name": "stderr",
     "output_type": "stream",
     "text": [
      "WARNING:absl:Found untraced functions such as _jit_compiled_convolution_op while saving (showing 1 of 1). These functions will not be directly callable after loading.\n"
     ]
    },
    {
     "name": "stdout",
     "output_type": "stream",
     "text": [
      "INFO:tensorflow:Assets written to: model_experiments\\model_4_Conv1D\\assets\n"
     ]
    },
    {
     "name": "stderr",
     "output_type": "stream",
     "text": [
      "INFO:tensorflow:Assets written to: model_experiments\\model_4_Conv1D\\assets\n"
     ]
    },
    {
     "name": "stdout",
     "output_type": "stream",
     "text": [
      "18/18 [==============================] - 2s 129ms/step - loss: 133.8554 - val_loss: 755.4291\n",
      "Epoch 20/100\n",
      "15/18 [========================>.....] - ETA: 0s - loss: 136.4421"
     ]
    },
    {
     "name": "stderr",
     "output_type": "stream",
     "text": [
      "WARNING:absl:Found untraced functions such as _jit_compiled_convolution_op while saving (showing 1 of 1). These functions will not be directly callable after loading.\n"
     ]
    },
    {
     "name": "stdout",
     "output_type": "stream",
     "text": [
      "INFO:tensorflow:Assets written to: model_experiments\\model_4_Conv1D\\assets\n"
     ]
    },
    {
     "name": "stderr",
     "output_type": "stream",
     "text": [
      "INFO:tensorflow:Assets written to: model_experiments\\model_4_Conv1D\\assets\n"
     ]
    },
    {
     "name": "stdout",
     "output_type": "stream",
     "text": [
      "18/18 [==============================] - 2s 127ms/step - loss: 136.7386 - val_loss: 727.7441\n",
      "Epoch 21/100\n",
      "10/18 [===============>..............] - ETA: 0s - loss: 142.6160"
     ]
    },
    {
     "name": "stderr",
     "output_type": "stream",
     "text": [
      "WARNING:absl:Found untraced functions such as _jit_compiled_convolution_op while saving (showing 1 of 1). These functions will not be directly callable after loading.\n"
     ]
    },
    {
     "name": "stdout",
     "output_type": "stream",
     "text": [
      "INFO:tensorflow:Assets written to: model_experiments\\model_4_Conv1D\\assets\n"
     ]
    },
    {
     "name": "stderr",
     "output_type": "stream",
     "text": [
      "INFO:tensorflow:Assets written to: model_experiments\\model_4_Conv1D\\assets\n"
     ]
    },
    {
     "name": "stdout",
     "output_type": "stream",
     "text": [
      "18/18 [==============================] - 2s 146ms/step - loss: 135.8143 - val_loss: 713.7392\n",
      "Epoch 22/100\n",
      "11/18 [=================>............] - ETA: 0s - loss: 143.5296"
     ]
    },
    {
     "name": "stderr",
     "output_type": "stream",
     "text": [
      "WARNING:absl:Found untraced functions such as _jit_compiled_convolution_op while saving (showing 1 of 1). These functions will not be directly callable after loading.\n"
     ]
    },
    {
     "name": "stdout",
     "output_type": "stream",
     "text": [
      "INFO:tensorflow:Assets written to: model_experiments\\model_4_Conv1D\\assets\n"
     ]
    },
    {
     "name": "stderr",
     "output_type": "stream",
     "text": [
      "INFO:tensorflow:Assets written to: model_experiments\\model_4_Conv1D\\assets\n"
     ]
    },
    {
     "name": "stdout",
     "output_type": "stream",
     "text": [
      "18/18 [==============================] - 2s 120ms/step - loss: 131.3452 - val_loss: 703.3268\n",
      "Epoch 23/100\n",
      "11/18 [=================>............] - ETA: 0s - loss: 123.7559"
     ]
    },
    {
     "name": "stderr",
     "output_type": "stream",
     "text": [
      "WARNING:absl:Found untraced functions such as _jit_compiled_convolution_op while saving (showing 1 of 1). These functions will not be directly callable after loading.\n"
     ]
    },
    {
     "name": "stdout",
     "output_type": "stream",
     "text": [
      "INFO:tensorflow:Assets written to: model_experiments\\model_4_Conv1D\\assets\n"
     ]
    },
    {
     "name": "stderr",
     "output_type": "stream",
     "text": [
      "INFO:tensorflow:Assets written to: model_experiments\\model_4_Conv1D\\assets\n"
     ]
    },
    {
     "name": "stdout",
     "output_type": "stream",
     "text": [
      "18/18 [==============================] - 2s 121ms/step - loss: 127.0284 - val_loss: 693.8290\n",
      "Epoch 24/100\n",
      "13/18 [====================>.........] - ETA: 0s - loss: 126.2349"
     ]
    },
    {
     "name": "stderr",
     "output_type": "stream",
     "text": [
      "WARNING:absl:Found untraced functions such as _jit_compiled_convolution_op while saving (showing 1 of 1). These functions will not be directly callable after loading.\n"
     ]
    },
    {
     "name": "stdout",
     "output_type": "stream",
     "text": [
      "INFO:tensorflow:Assets written to: model_experiments\\model_4_Conv1D\\assets\n"
     ]
    },
    {
     "name": "stderr",
     "output_type": "stream",
     "text": [
      "INFO:tensorflow:Assets written to: model_experiments\\model_4_Conv1D\\assets\n"
     ]
    },
    {
     "name": "stdout",
     "output_type": "stream",
     "text": [
      "18/18 [==============================] - 2s 126ms/step - loss: 126.1279 - val_loss: 681.8528\n",
      "Epoch 25/100\n",
      " 9/18 [==============>...............] - ETA: 0s - loss: 130.7602"
     ]
    },
    {
     "name": "stderr",
     "output_type": "stream",
     "text": [
      "WARNING:absl:Found untraced functions such as _jit_compiled_convolution_op while saving (showing 1 of 1). These functions will not be directly callable after loading.\n"
     ]
    },
    {
     "name": "stdout",
     "output_type": "stream",
     "text": [
      "INFO:tensorflow:Assets written to: model_experiments\\model_4_Conv1D\\assets\n"
     ]
    },
    {
     "name": "stderr",
     "output_type": "stream",
     "text": [
      "INFO:tensorflow:Assets written to: model_experiments\\model_4_Conv1D\\assets\n"
     ]
    },
    {
     "name": "stdout",
     "output_type": "stream",
     "text": [
      "18/18 [==============================] - 2s 121ms/step - loss: 124.4712 - val_loss: 675.8945\n",
      "Epoch 26/100\n",
      "11/18 [=================>............] - ETA: 0s - loss: 125.0436"
     ]
    },
    {
     "name": "stderr",
     "output_type": "stream",
     "text": [
      "WARNING:absl:Found untraced functions such as _jit_compiled_convolution_op while saving (showing 1 of 1). These functions will not be directly callable after loading.\n"
     ]
    },
    {
     "name": "stdout",
     "output_type": "stream",
     "text": [
      "INFO:tensorflow:Assets written to: model_experiments\\model_4_Conv1D\\assets\n"
     ]
    },
    {
     "name": "stderr",
     "output_type": "stream",
     "text": [
      "INFO:tensorflow:Assets written to: model_experiments\\model_4_Conv1D\\assets\n"
     ]
    },
    {
     "name": "stdout",
     "output_type": "stream",
     "text": [
      "18/18 [==============================] - 2s 122ms/step - loss: 125.6733 - val_loss: 675.0190\n",
      "Epoch 27/100\n",
      "13/18 [====================>.........] - ETA: 0s - loss: 128.2973"
     ]
    },
    {
     "name": "stderr",
     "output_type": "stream",
     "text": [
      "WARNING:absl:Found untraced functions such as _jit_compiled_convolution_op while saving (showing 1 of 1). These functions will not be directly callable after loading.\n"
     ]
    },
    {
     "name": "stdout",
     "output_type": "stream",
     "text": [
      "INFO:tensorflow:Assets written to: model_experiments\\model_4_Conv1D\\assets\n"
     ]
    },
    {
     "name": "stderr",
     "output_type": "stream",
     "text": [
      "INFO:tensorflow:Assets written to: model_experiments\\model_4_Conv1D\\assets\n"
     ]
    },
    {
     "name": "stdout",
     "output_type": "stream",
     "text": [
      "18/18 [==============================] - 2s 140ms/step - loss: 124.9943 - val_loss: 656.8731\n",
      "Epoch 28/100\n",
      "17/18 [===========================>..] - ETA: 0s - loss: 120.2951"
     ]
    },
    {
     "name": "stderr",
     "output_type": "stream",
     "text": [
      "WARNING:absl:Found untraced functions such as _jit_compiled_convolution_op while saving (showing 1 of 1). These functions will not be directly callable after loading.\n"
     ]
    },
    {
     "name": "stdout",
     "output_type": "stream",
     "text": [
      "INFO:tensorflow:Assets written to: model_experiments\\model_4_Conv1D\\assets\n"
     ]
    },
    {
     "name": "stderr",
     "output_type": "stream",
     "text": [
      "INFO:tensorflow:Assets written to: model_experiments\\model_4_Conv1D\\assets\n"
     ]
    },
    {
     "name": "stdout",
     "output_type": "stream",
     "text": [
      "18/18 [==============================] - 2s 135ms/step - loss: 120.2301 - val_loss: 652.6721\n",
      "Epoch 29/100\n",
      "18/18 [==============================] - 0s 14ms/step - loss: 119.0266 - val_loss: 657.8768\n",
      "Epoch 30/100\n",
      "18/18 [==============================] - 0s 11ms/step - loss: 123.4027 - val_loss: 686.5465\n",
      "Epoch 31/100\n",
      "18/18 [==============================] - 0s 11ms/step - loss: 130.7429 - val_loss: 855.7511\n",
      "Epoch 32/100\n",
      "18/18 [==============================] - 0s 10ms/step - loss: 127.6791 - val_loss: 689.3550\n",
      "Epoch 33/100\n",
      "18/18 [==============================] - 0s 11ms/step - loss: 118.3989 - val_loss: 706.6353\n",
      "Epoch 34/100\n",
      "11/18 [=================>............] - ETA: 0s - loss: 127.5833"
     ]
    },
    {
     "name": "stderr",
     "output_type": "stream",
     "text": [
      "WARNING:absl:Found untraced functions such as _jit_compiled_convolution_op while saving (showing 1 of 1). These functions will not be directly callable after loading.\n"
     ]
    },
    {
     "name": "stdout",
     "output_type": "stream",
     "text": [
      "INFO:tensorflow:Assets written to: model_experiments\\model_4_Conv1D\\assets\n"
     ]
    },
    {
     "name": "stderr",
     "output_type": "stream",
     "text": [
      "INFO:tensorflow:Assets written to: model_experiments\\model_4_Conv1D\\assets\n"
     ]
    },
    {
     "name": "stdout",
     "output_type": "stream",
     "text": [
      "18/18 [==============================] - 2s 130ms/step - loss: 121.6444 - val_loss: 628.4113\n",
      "Epoch 35/100\n",
      "10/18 [===============>..............] - ETA: 0s - loss: 114.8087"
     ]
    },
    {
     "name": "stderr",
     "output_type": "stream",
     "text": [
      "WARNING:absl:Found untraced functions such as _jit_compiled_convolution_op while saving (showing 1 of 1). These functions will not be directly callable after loading.\n"
     ]
    },
    {
     "name": "stdout",
     "output_type": "stream",
     "text": [
      "INFO:tensorflow:Assets written to: model_experiments\\model_4_Conv1D\\assets\n"
     ]
    },
    {
     "name": "stderr",
     "output_type": "stream",
     "text": [
      "INFO:tensorflow:Assets written to: model_experiments\\model_4_Conv1D\\assets\n"
     ]
    },
    {
     "name": "stdout",
     "output_type": "stream",
     "text": [
      "18/18 [==============================] - 2s 124ms/step - loss: 116.3792 - val_loss: 621.4807\n",
      "Epoch 36/100\n",
      "18/18 [==============================] - 0s 10ms/step - loss: 121.2191 - val_loss: 662.7157\n",
      "Epoch 37/100\n",
      "18/18 [==============================] - 0s 10ms/step - loss: 118.6329 - val_loss: 647.2598\n",
      "Epoch 38/100\n",
      "18/18 [==============================] - 0s 11ms/step - loss: 117.7202 - val_loss: 627.5215\n",
      "Epoch 39/100\n",
      "11/18 [=================>............] - ETA: 0s - loss: 116.8688"
     ]
    },
    {
     "name": "stderr",
     "output_type": "stream",
     "text": [
      "WARNING:absl:Found untraced functions such as _jit_compiled_convolution_op while saving (showing 1 of 1). These functions will not be directly callable after loading.\n"
     ]
    },
    {
     "name": "stdout",
     "output_type": "stream",
     "text": [
      "INFO:tensorflow:Assets written to: model_experiments\\model_4_Conv1D\\assets\n"
     ]
    },
    {
     "name": "stderr",
     "output_type": "stream",
     "text": [
      "INFO:tensorflow:Assets written to: model_experiments\\model_4_Conv1D\\assets\n"
     ]
    },
    {
     "name": "stdout",
     "output_type": "stream",
     "text": [
      "18/18 [==============================] - 3s 151ms/step - loss: 115.3490 - val_loss: 613.9731\n",
      "Epoch 40/100\n",
      "11/18 [=================>............] - ETA: 0s - loss: 112.3706"
     ]
    },
    {
     "name": "stderr",
     "output_type": "stream",
     "text": [
      "WARNING:absl:Found untraced functions such as _jit_compiled_convolution_op while saving (showing 1 of 1). These functions will not be directly callable after loading.\n"
     ]
    },
    {
     "name": "stdout",
     "output_type": "stream",
     "text": [
      "INFO:tensorflow:Assets written to: model_experiments\\model_4_Conv1D\\assets\n"
     ]
    },
    {
     "name": "stderr",
     "output_type": "stream",
     "text": [
      "INFO:tensorflow:Assets written to: model_experiments\\model_4_Conv1D\\assets\n"
     ]
    },
    {
     "name": "stdout",
     "output_type": "stream",
     "text": [
      "18/18 [==============================] - 2s 117ms/step - loss: 114.1169 - val_loss: 607.6404\n",
      "Epoch 41/100\n",
      "18/18 [==============================] - 0s 10ms/step - loss: 115.7049 - val_loss: 673.1657\n",
      "Epoch 42/100\n",
      "10/18 [===============>..............] - ETA: 0s - loss: 116.7651"
     ]
    },
    {
     "name": "stderr",
     "output_type": "stream",
     "text": [
      "WARNING:absl:Found untraced functions such as _jit_compiled_convolution_op while saving (showing 1 of 1). These functions will not be directly callable after loading.\n"
     ]
    },
    {
     "name": "stdout",
     "output_type": "stream",
     "text": [
      "INFO:tensorflow:Assets written to: model_experiments\\model_4_Conv1D\\assets\n"
     ]
    },
    {
     "name": "stderr",
     "output_type": "stream",
     "text": [
      "INFO:tensorflow:Assets written to: model_experiments\\model_4_Conv1D\\assets\n"
     ]
    },
    {
     "name": "stdout",
     "output_type": "stream",
     "text": [
      "18/18 [==============================] - 2s 128ms/step - loss: 122.1636 - val_loss: 607.1966\n",
      "Epoch 43/100\n",
      "18/18 [==============================] - 0s 11ms/step - loss: 112.9443 - val_loss: 611.7059\n",
      "Epoch 44/100\n",
      "11/18 [=================>............] - ETA: 0s - loss: 111.1122"
     ]
    },
    {
     "name": "stderr",
     "output_type": "stream",
     "text": [
      "WARNING:absl:Found untraced functions such as _jit_compiled_convolution_op while saving (showing 1 of 1). These functions will not be directly callable after loading.\n"
     ]
    },
    {
     "name": "stdout",
     "output_type": "stream",
     "text": [
      "INFO:tensorflow:Assets written to: model_experiments\\model_4_Conv1D\\assets\n"
     ]
    },
    {
     "name": "stderr",
     "output_type": "stream",
     "text": [
      "INFO:tensorflow:Assets written to: model_experiments\\model_4_Conv1D\\assets\n"
     ]
    },
    {
     "name": "stdout",
     "output_type": "stream",
     "text": [
      "18/18 [==============================] - 2s 118ms/step - loss: 114.4444 - val_loss: 605.1266\n",
      "Epoch 45/100\n",
      "18/18 [==============================] - 0s 10ms/step - loss: 114.8877 - val_loss: 618.5167\n",
      "Epoch 46/100\n",
      "12/18 [===================>..........] - ETA: 0s - loss: 119.8315"
     ]
    },
    {
     "name": "stderr",
     "output_type": "stream",
     "text": [
      "WARNING:absl:Found untraced functions such as _jit_compiled_convolution_op while saving (showing 1 of 1). These functions will not be directly callable after loading.\n"
     ]
    },
    {
     "name": "stdout",
     "output_type": "stream",
     "text": [
      "INFO:tensorflow:Assets written to: model_experiments\\model_4_Conv1D\\assets\n"
     ]
    },
    {
     "name": "stderr",
     "output_type": "stream",
     "text": [
      "INFO:tensorflow:Assets written to: model_experiments\\model_4_Conv1D\\assets\n"
     ]
    },
    {
     "name": "stdout",
     "output_type": "stream",
     "text": [
      "18/18 [==============================] - 2s 119ms/step - loss: 114.4522 - val_loss: 604.1393\n",
      "Epoch 47/100\n",
      "18/18 [==============================] - 0s 11ms/step - loss: 114.0306 - val_loss: 658.1265\n",
      "Epoch 48/100\n",
      "18/18 [==============================] - 0s 11ms/step - loss: 112.5201 - val_loss: 620.6863\n",
      "Epoch 49/100\n",
      "12/18 [===================>..........] - ETA: 0s - loss: 120.5641"
     ]
    },
    {
     "name": "stderr",
     "output_type": "stream",
     "text": [
      "WARNING:absl:Found untraced functions such as _jit_compiled_convolution_op while saving (showing 1 of 1). These functions will not be directly callable after loading.\n"
     ]
    },
    {
     "name": "stdout",
     "output_type": "stream",
     "text": [
      "INFO:tensorflow:Assets written to: model_experiments\\model_4_Conv1D\\assets\n"
     ]
    },
    {
     "name": "stderr",
     "output_type": "stream",
     "text": [
      "INFO:tensorflow:Assets written to: model_experiments\\model_4_Conv1D\\assets\n"
     ]
    },
    {
     "name": "stdout",
     "output_type": "stream",
     "text": [
      "18/18 [==============================] - 2s 122ms/step - loss: 114.6949 - val_loss: 601.0838\n",
      "Epoch 50/100\n",
      "12/18 [===================>..........] - ETA: 0s - loss: 111.3760"
     ]
    },
    {
     "name": "stderr",
     "output_type": "stream",
     "text": [
      "WARNING:absl:Found untraced functions such as _jit_compiled_convolution_op while saving (showing 1 of 1). These functions will not be directly callable after loading.\n"
     ]
    },
    {
     "name": "stdout",
     "output_type": "stream",
     "text": [
      "INFO:tensorflow:Assets written to: model_experiments\\model_4_Conv1D\\assets\n"
     ]
    },
    {
     "name": "stderr",
     "output_type": "stream",
     "text": [
      "INFO:tensorflow:Assets written to: model_experiments\\model_4_Conv1D\\assets\n"
     ]
    },
    {
     "name": "stdout",
     "output_type": "stream",
     "text": [
      "18/18 [==============================] - 2s 130ms/step - loss: 112.9969 - val_loss: 591.4034\n",
      "Epoch 51/100\n",
      "18/18 [==============================] - 0s 11ms/step - loss: 112.6855 - val_loss: 608.6467\n",
      "Epoch 52/100\n",
      "18/18 [==============================] - 0s 11ms/step - loss: 113.9727 - val_loss: 596.6535\n",
      "Epoch 53/100\n",
      "18/18 [==============================] - 0s 11ms/step - loss: 114.7788 - val_loss: 616.1753\n",
      "Epoch 54/100\n",
      "18/18 [==============================] - 0s 11ms/step - loss: 117.3173 - val_loss: 686.9655\n",
      "Epoch 55/100\n",
      "18/18 [==============================] - 0s 10ms/step - loss: 114.5297 - val_loss: 597.3580\n",
      "Epoch 56/100\n",
      "18/18 [==============================] - 0s 10ms/step - loss: 109.8201 - val_loss: 741.7047\n",
      "Epoch 57/100\n",
      "18/18 [==============================] - 0s 10ms/step - loss: 126.7923 - val_loss: 775.5529\n",
      "Epoch 58/100\n",
      "18/18 [==============================] - 0s 10ms/step - loss: 127.9126 - val_loss: 668.0289\n",
      "Epoch 59/100\n",
      "18/18 [==============================] - 0s 10ms/step - loss: 110.5595 - val_loss: 619.0181\n",
      "Epoch 60/100\n",
      "18/18 [==============================] - 0s 11ms/step - loss: 113.8049 - val_loss: 615.7996\n",
      "Epoch 61/100\n",
      "18/18 [==============================] - 0s 11ms/step - loss: 111.2253 - val_loss: 598.7781\n",
      "Epoch 62/100\n",
      "12/18 [===================>..........] - ETA: 0s - loss: 108.0196"
     ]
    },
    {
     "name": "stderr",
     "output_type": "stream",
     "text": [
      "WARNING:absl:Found untraced functions such as _jit_compiled_convolution_op while saving (showing 1 of 1). These functions will not be directly callable after loading.\n"
     ]
    },
    {
     "name": "stdout",
     "output_type": "stream",
     "text": [
      "INFO:tensorflow:Assets written to: model_experiments\\model_4_Conv1D\\assets\n"
     ]
    },
    {
     "name": "stderr",
     "output_type": "stream",
     "text": [
      "INFO:tensorflow:Assets written to: model_experiments\\model_4_Conv1D\\assets\n"
     ]
    },
    {
     "name": "stdout",
     "output_type": "stream",
     "text": [
      "18/18 [==============================] - 2s 122ms/step - loss: 108.7989 - val_loss: 584.1927\n",
      "Epoch 63/100\n",
      "18/18 [==============================] - 0s 10ms/step - loss: 109.1615 - val_loss: 628.7491\n",
      "Epoch 64/100\n",
      "18/18 [==============================] - 0s 10ms/step - loss: 111.9379 - val_loss: 636.6334\n",
      "Epoch 65/100\n",
      "18/18 [==============================] - 0s 11ms/step - loss: 110.5050 - val_loss: 586.0554\n",
      "Epoch 66/100\n",
      "11/18 [=================>............] - ETA: 0s - loss: 105.1733"
     ]
    },
    {
     "name": "stderr",
     "output_type": "stream",
     "text": [
      "WARNING:absl:Found untraced functions such as _jit_compiled_convolution_op while saving (showing 1 of 1). These functions will not be directly callable after loading.\n"
     ]
    },
    {
     "name": "stdout",
     "output_type": "stream",
     "text": [
      "INFO:tensorflow:Assets written to: model_experiments\\model_4_Conv1D\\assets\n"
     ]
    },
    {
     "name": "stderr",
     "output_type": "stream",
     "text": [
      "INFO:tensorflow:Assets written to: model_experiments\\model_4_Conv1D\\assets\n"
     ]
    },
    {
     "name": "stdout",
     "output_type": "stream",
     "text": [
      "18/18 [==============================] - 2s 119ms/step - loss: 109.6889 - val_loss: 581.1140\n",
      "Epoch 67/100\n",
      "18/18 [==============================] - 0s 10ms/step - loss: 109.6108 - val_loss: 692.7643\n",
      "Epoch 68/100\n",
      "18/18 [==============================] - 0s 12ms/step - loss: 114.3420 - val_loss: 647.7108\n",
      "Epoch 69/100\n",
      "18/18 [==============================] - 0s 10ms/step - loss: 123.8664 - val_loss: 662.3011\n",
      "Epoch 70/100\n",
      "18/18 [==============================] - 0s 9ms/step - loss: 124.6973 - val_loss: 586.1936\n",
      "Epoch 71/100\n",
      "18/18 [==============================] - 0s 10ms/step - loss: 110.2882 - val_loss: 589.3723\n",
      "Epoch 72/100\n",
      "12/18 [===================>..........] - ETA: 0s - loss: 108.8423"
     ]
    },
    {
     "name": "stderr",
     "output_type": "stream",
     "text": [
      "WARNING:absl:Found untraced functions such as _jit_compiled_convolution_op while saving (showing 1 of 1). These functions will not be directly callable after loading.\n"
     ]
    },
    {
     "name": "stdout",
     "output_type": "stream",
     "text": [
      "INFO:tensorflow:Assets written to: model_experiments\\model_4_Conv1D\\assets\n"
     ]
    },
    {
     "name": "stderr",
     "output_type": "stream",
     "text": [
      "INFO:tensorflow:Assets written to: model_experiments\\model_4_Conv1D\\assets\n"
     ]
    },
    {
     "name": "stdout",
     "output_type": "stream",
     "text": [
      "18/18 [==============================] - 2s 122ms/step - loss: 109.6936 - val_loss: 579.2764\n",
      "Epoch 73/100\n",
      "18/18 [==============================] - 0s 11ms/step - loss: 112.9830 - val_loss: 668.5189\n",
      "Epoch 74/100\n",
      "10/18 [===============>..............] - ETA: 0s - loss: 111.2566"
     ]
    },
    {
     "name": "stderr",
     "output_type": "stream",
     "text": [
      "WARNING:absl:Found untraced functions such as _jit_compiled_convolution_op while saving (showing 1 of 1). These functions will not be directly callable after loading.\n"
     ]
    },
    {
     "name": "stdout",
     "output_type": "stream",
     "text": [
      "INFO:tensorflow:Assets written to: model_experiments\\model_4_Conv1D\\assets\n"
     ]
    },
    {
     "name": "stderr",
     "output_type": "stream",
     "text": [
      "INFO:tensorflow:Assets written to: model_experiments\\model_4_Conv1D\\assets\n"
     ]
    },
    {
     "name": "stdout",
     "output_type": "stream",
     "text": [
      "18/18 [==============================] - 2s 143ms/step - loss: 108.8607 - val_loss: 577.3904\n",
      "Epoch 75/100\n",
      "18/18 [==============================] - 0s 11ms/step - loss: 109.4370 - val_loss: 583.8497\n",
      "Epoch 76/100\n",
      "18/18 [==============================] - 0s 10ms/step - loss: 111.2327 - val_loss: 599.0616\n",
      "Epoch 77/100\n",
      "18/18 [==============================] - 0s 10ms/step - loss: 108.9587 - val_loss: 584.9030\n",
      "Epoch 78/100\n",
      "13/18 [====================>.........] - ETA: 0s - loss: 107.1653"
     ]
    },
    {
     "name": "stderr",
     "output_type": "stream",
     "text": [
      "WARNING:absl:Found untraced functions such as _jit_compiled_convolution_op while saving (showing 1 of 1). These functions will not be directly callable after loading.\n"
     ]
    },
    {
     "name": "stdout",
     "output_type": "stream",
     "text": [
      "INFO:tensorflow:Assets written to: model_experiments\\model_4_Conv1D\\assets\n"
     ]
    },
    {
     "name": "stderr",
     "output_type": "stream",
     "text": [
      "INFO:tensorflow:Assets written to: model_experiments\\model_4_Conv1D\\assets\n"
     ]
    },
    {
     "name": "stdout",
     "output_type": "stream",
     "text": [
      "18/18 [==============================] - 2s 120ms/step - loss: 110.0269 - val_loss: 575.5435\n",
      "Epoch 79/100\n",
      "18/18 [==============================] - 0s 16ms/step - loss: 108.1788 - val_loss: 624.3777\n",
      "Epoch 80/100\n",
      "12/18 [===================>..........] - ETA: 0s - loss: 116.8899"
     ]
    },
    {
     "name": "stderr",
     "output_type": "stream",
     "text": [
      "WARNING:absl:Found untraced functions such as _jit_compiled_convolution_op while saving (showing 1 of 1). These functions will not be directly callable after loading.\n"
     ]
    },
    {
     "name": "stdout",
     "output_type": "stream",
     "text": [
      "INFO:tensorflow:Assets written to: model_experiments\\model_4_Conv1D\\assets\n"
     ]
    },
    {
     "name": "stderr",
     "output_type": "stream",
     "text": [
      "INFO:tensorflow:Assets written to: model_experiments\\model_4_Conv1D\\assets\n"
     ]
    },
    {
     "name": "stdout",
     "output_type": "stream",
     "text": [
      "18/18 [==============================] - 2s 116ms/step - loss: 110.6621 - val_loss: 575.2554\n",
      "Epoch 81/100\n",
      "11/18 [=================>............] - ETA: 0s - loss: 107.7397"
     ]
    },
    {
     "name": "stderr",
     "output_type": "stream",
     "text": [
      "WARNING:absl:Found untraced functions such as _jit_compiled_convolution_op while saving (showing 1 of 1). These functions will not be directly callable after loading.\n"
     ]
    },
    {
     "name": "stdout",
     "output_type": "stream",
     "text": [
      "INFO:tensorflow:Assets written to: model_experiments\\model_4_Conv1D\\assets\n"
     ]
    },
    {
     "name": "stderr",
     "output_type": "stream",
     "text": [
      "INFO:tensorflow:Assets written to: model_experiments\\model_4_Conv1D\\assets\n"
     ]
    },
    {
     "name": "stdout",
     "output_type": "stream",
     "text": [
      "18/18 [==============================] - 2s 128ms/step - loss: 108.7010 - val_loss: 574.4750\n",
      "Epoch 82/100\n",
      "18/18 [==============================] - 0s 11ms/step - loss: 114.9635 - val_loss: 574.9812\n",
      "Epoch 83/100\n",
      "18/18 [==============================] - 0s 11ms/step - loss: 112.6635 - val_loss: 627.2038\n",
      "Epoch 84/100\n",
      "18/18 [==============================] - 0s 12ms/step - loss: 111.8025 - val_loss: 599.8929\n",
      "Epoch 85/100\n",
      "18/18 [==============================] - 0s 10ms/step - loss: 108.3437 - val_loss: 583.6088\n",
      "Epoch 86/100\n",
      "18/18 [==============================] - 0s 12ms/step - loss: 108.7045 - val_loss: 597.4382\n",
      "Epoch 87/100\n",
      "18/18 [==============================] - 0s 12ms/step - loss: 107.8895 - val_loss: 581.1790\n",
      "Epoch 88/100\n",
      "18/18 [==============================] - 0s 11ms/step - loss: 108.6569 - val_loss: 618.4725\n",
      "Epoch 89/100\n",
      "18/18 [==============================] - 0s 13ms/step - loss: 110.1401 - val_loss: 576.2980\n",
      "Epoch 90/100\n",
      "18/18 [==============================] - 0s 12ms/step - loss: 106.0932 - val_loss: 607.4540\n",
      "Epoch 91/100\n",
      "18/18 [==============================] - 0s 10ms/step - loss: 109.7082 - val_loss: 625.8785\n",
      "Epoch 92/100\n",
      "18/18 [==============================] - 0s 11ms/step - loss: 109.8495 - val_loss: 586.9511\n",
      "Epoch 93/100\n",
      "18/18 [==============================] - 0s 11ms/step - loss: 114.9204 - val_loss: 604.8406\n",
      "Epoch 94/100\n",
      "10/18 [===============>..............] - ETA: 0s - loss: 107.9454"
     ]
    },
    {
     "name": "stderr",
     "output_type": "stream",
     "text": [
      "WARNING:absl:Found untraced functions such as _jit_compiled_convolution_op while saving (showing 1 of 1). These functions will not be directly callable after loading.\n"
     ]
    },
    {
     "name": "stdout",
     "output_type": "stream",
     "text": [
      "INFO:tensorflow:Assets written to: model_experiments\\model_4_Conv1D\\assets\n"
     ]
    },
    {
     "name": "stderr",
     "output_type": "stream",
     "text": [
      "INFO:tensorflow:Assets written to: model_experiments\\model_4_Conv1D\\assets\n"
     ]
    },
    {
     "name": "stdout",
     "output_type": "stream",
     "text": [
      "18/18 [==============================] - 2s 141ms/step - loss: 107.9114 - val_loss: 572.0212\n",
      "Epoch 95/100\n",
      "12/18 [===================>..........] - ETA: 0s - loss: 102.8077"
     ]
    },
    {
     "name": "stderr",
     "output_type": "stream",
     "text": [
      "WARNING:absl:Found untraced functions such as _jit_compiled_convolution_op while saving (showing 1 of 1). These functions will not be directly callable after loading.\n"
     ]
    },
    {
     "name": "stdout",
     "output_type": "stream",
     "text": [
      "INFO:tensorflow:Assets written to: model_experiments\\model_4_Conv1D\\assets\n"
     ]
    },
    {
     "name": "stderr",
     "output_type": "stream",
     "text": [
      "INFO:tensorflow:Assets written to: model_experiments\\model_4_Conv1D\\assets\n"
     ]
    },
    {
     "name": "stdout",
     "output_type": "stream",
     "text": [
      "18/18 [==============================] - 2s 128ms/step - loss: 106.3141 - val_loss: 570.7646\n",
      "Epoch 96/100\n",
      "18/18 [==============================] - 0s 11ms/step - loss: 113.6999 - val_loss: 654.2077\n",
      "Epoch 97/100\n",
      "18/18 [==============================] - 0s 11ms/step - loss: 110.4047 - val_loss: 576.3051\n",
      "Epoch 98/100\n",
      "18/18 [==============================] - 0s 11ms/step - loss: 107.1466 - val_loss: 572.0507\n",
      "Epoch 99/100\n",
      "12/18 [===================>..........] - ETA: 0s - loss: 104.9646"
     ]
    },
    {
     "name": "stderr",
     "output_type": "stream",
     "text": [
      "WARNING:absl:Found untraced functions such as _jit_compiled_convolution_op while saving (showing 1 of 1). These functions will not be directly callable after loading.\n"
     ]
    },
    {
     "name": "stdout",
     "output_type": "stream",
     "text": [
      "INFO:tensorflow:Assets written to: model_experiments\\model_4_Conv1D\\assets\n"
     ]
    },
    {
     "name": "stderr",
     "output_type": "stream",
     "text": [
      "INFO:tensorflow:Assets written to: model_experiments\\model_4_Conv1D\\assets\n"
     ]
    },
    {
     "name": "stdout",
     "output_type": "stream",
     "text": [
      "18/18 [==============================] - 2s 127ms/step - loss: 107.7386 - val_loss: 569.6651\n",
      "Epoch 100/100\n",
      "18/18 [==============================] - 0s 16ms/step - loss: 110.9886 - val_loss: 619.8215\n"
     ]
    }
   ],
   "source": [
    "# Creating Conv1D model\n",
    "model_4 = tf.keras.Sequential([\n",
    "    layers.Lambda(lambda x: tf.expand_dims(x, axis=1)),\n",
    "    layers.Conv1D(filters=128, kernel_size=5, strides=1, padding=\"causal\", activation=\"relu\"),\n",
    "    layers.Dense(HORIZON)\n",
    "], name=\"model_4_Conv1D\")\n",
    "\n",
    "# Compiling the model\n",
    "model_4.compile(\n",
    "    loss=\"mae\",\n",
    "    optimizer=tf.keras.optimizers.Adam()\n",
    ")\n",
    "\n",
    "# Fitting the model\n",
    "history_4 = model_4.fit(\n",
    "    train_windows,\n",
    "    train_labels,\n",
    "    batch_size=128,\n",
    "    epochs=100,\n",
    "    validation_data=(test_windows, test_labels),\n",
    "    callbacks=[create_model_checkpoint(model_name=model_4.name)]\n",
    ")"
   ]
  },
  {
   "cell_type": "code",
   "execution_count": 74,
   "metadata": {},
   "outputs": [
    {
     "name": "stdout",
     "output_type": "stream",
     "text": [
      "Model: \"model_4_Conv1D\"\n",
      "_________________________________________________________________\n",
      " Layer (type)                Output Shape              Param #   \n",
      "=================================================================\n",
      " lambda_1 (Lambda)           (None, 1, 7)              0         \n",
      "                                                                 \n",
      " conv1d (Conv1D)             (None, 1, 128)            4608      \n",
      "                                                                 \n",
      " dense_6 (Dense)             (None, 1, 1)              129       \n",
      "                                                                 \n",
      "=================================================================\n",
      "Total params: 4,737\n",
      "Trainable params: 4,737\n",
      "Non-trainable params: 0\n",
      "_________________________________________________________________\n"
     ]
    }
   ],
   "source": [
    "# Checking the model structure\n",
    "model_4.summary()"
   ]
  },
  {
   "cell_type": "code",
   "execution_count": 75,
   "metadata": {},
   "outputs": [
    {
     "name": "stdout",
     "output_type": "stream",
     "text": [
      "18/18 [==============================] - 0s 4ms/step - loss: 619.8215\n"
     ]
    },
    {
     "data": {
      "text/plain": [
       "619.821533203125"
      ]
     },
     "execution_count": 75,
     "metadata": {},
     "output_type": "execute_result"
    }
   ],
   "source": [
    "# Evaluating the model\n",
    "model_4.evaluate(test_windows, test_labels)"
   ]
  },
  {
   "cell_type": "code",
   "execution_count": 76,
   "metadata": {},
   "outputs": [
    {
     "name": "stdout",
     "output_type": "stream",
     "text": [
      "18/18 [==============================] - 0s 4ms/step - loss: 569.6651\n"
     ]
    },
    {
     "data": {
      "text/plain": [
       "569.6651000976562"
      ]
     },
     "execution_count": 76,
     "metadata": {},
     "output_type": "execute_result"
    }
   ],
   "source": [
    "# Loading back the best performing model\n",
    "model_4 = tf.keras.models.load_model(\"./model_experiments/model_4_Conv1D/\")\n",
    "model_4.evaluate(test_windows, test_labels)"
   ]
  },
  {
   "cell_type": "code",
   "execution_count": 77,
   "metadata": {},
   "outputs": [
    {
     "name": "stdout",
     "output_type": "stream",
     "text": [
      "18/18 [==============================] - 0s 4ms/step\n"
     ]
    },
    {
     "data": {
      "text/plain": [
       "<tf.Tensor: shape=(10,), dtype=float32, numpy=\n",
       "array([8875.075, 8778.536, 9019.219, 8810.52 , 8731.713, 8735.985,\n",
       "       8676.349, 8538.683, 8455.476, 8522.073], dtype=float32)>"
      ]
     },
     "execution_count": 77,
     "metadata": {},
     "output_type": "execute_result"
    }
   ],
   "source": [
    "# Making predictions\n",
    "model_4_preds = make_preds(model_4, test_windows)\n",
    "model_4_preds[:10]"
   ]
  },
  {
   "cell_type": "code",
   "execution_count": 78,
   "metadata": {},
   "outputs": [
    {
     "data": {
      "text/plain": [
       "{'mae': 569.6651,\n",
       " 'mse': 1179926.0,\n",
       " 'rmse': 1086.244,\n",
       " 'mape': 2.5614254,\n",
       " 'mase': 1.0007437}"
      ]
     },
     "execution_count": 78,
     "metadata": {},
     "output_type": "execute_result"
    }
   ],
   "source": [
    "# Evaluating predictions\n",
    "model_4_results = evaluate_preds(\n",
    "    y_true=tf.squeeze(test_labels),\n",
    "    y_pred=model_4_preds\n",
    ")\n",
    "model_4_results"
   ]
  },
  {
   "attachments": {},
   "cell_type": "markdown",
   "metadata": {},
   "source": [
    "### Model 5 - LSTM (RNN)"
   ]
  },
  {
   "cell_type": "code",
   "execution_count": 79,
   "metadata": {},
   "outputs": [
    {
     "name": "stdout",
     "output_type": "stream",
     "text": [
      "Epoch 1/100\n",
      "18/18 [==============================] - ETA: 0s - loss: 1524.3169INFO:tensorflow:Assets written to: model_experiments\\module_5_LSTM\\assets\n"
     ]
    },
    {
     "name": "stderr",
     "output_type": "stream",
     "text": [
      "INFO:tensorflow:Assets written to: model_experiments\\module_5_LSTM\\assets\n"
     ]
    },
    {
     "name": "stdout",
     "output_type": "stream",
     "text": [
      "18/18 [==============================] - 10s 424ms/step - loss: 1524.3169 - val_loss: 1410.4467\n",
      "Epoch 2/100\n",
      "12/18 [===================>..........] - ETA: 0s - loss: 287.6055INFO:tensorflow:Assets written to: model_experiments\\module_5_LSTM\\assets\n"
     ]
    },
    {
     "name": "stderr",
     "output_type": "stream",
     "text": [
      "INFO:tensorflow:Assets written to: model_experiments\\module_5_LSTM\\assets\n"
     ]
    },
    {
     "name": "stdout",
     "output_type": "stream",
     "text": [
      "18/18 [==============================] - 6s 348ms/step - loss: 258.5160 - val_loss: 1272.3702\n",
      "Epoch 3/100\n",
      "14/18 [======================>.......] - ETA: 0s - loss: 200.9432INFO:tensorflow:Assets written to: model_experiments\\module_5_LSTM\\assets\n"
     ]
    },
    {
     "name": "stderr",
     "output_type": "stream",
     "text": [
      "INFO:tensorflow:Assets written to: model_experiments\\module_5_LSTM\\assets\n"
     ]
    },
    {
     "name": "stdout",
     "output_type": "stream",
     "text": [
      "18/18 [==============================] - 5s 320ms/step - loss: 199.7400 - val_loss: 1074.7344\n",
      "Epoch 4/100\n",
      "16/18 [=========================>....] - ETA: 0s - loss: 186.5224INFO:tensorflow:Assets written to: model_experiments\\module_5_LSTM\\assets\n"
     ]
    },
    {
     "name": "stderr",
     "output_type": "stream",
     "text": [
      "INFO:tensorflow:Assets written to: model_experiments\\module_5_LSTM\\assets\n"
     ]
    },
    {
     "name": "stdout",
     "output_type": "stream",
     "text": [
      "18/18 [==============================] - 6s 342ms/step - loss: 186.8812 - val_loss: 1018.3593\n",
      "Epoch 5/100\n",
      "17/18 [===========================>..] - ETA: 0s - loss: 183.8798INFO:tensorflow:Assets written to: model_experiments\\module_5_LSTM\\assets\n"
     ]
    },
    {
     "name": "stderr",
     "output_type": "stream",
     "text": [
      "INFO:tensorflow:Assets written to: model_experiments\\module_5_LSTM\\assets\n"
     ]
    },
    {
     "name": "stdout",
     "output_type": "stream",
     "text": [
      "18/18 [==============================] - 6s 327ms/step - loss: 181.9303 - val_loss: 1015.5869\n",
      "Epoch 6/100\n",
      "13/18 [====================>.........] - ETA: 0s - loss: 177.0086INFO:tensorflow:Assets written to: model_experiments\\module_5_LSTM\\assets\n"
     ]
    },
    {
     "name": "stderr",
     "output_type": "stream",
     "text": [
      "INFO:tensorflow:Assets written to: model_experiments\\module_5_LSTM\\assets\n"
     ]
    },
    {
     "name": "stdout",
     "output_type": "stream",
     "text": [
      "18/18 [==============================] - 5s 321ms/step - loss: 180.5011 - val_loss: 1007.2278\n",
      "Epoch 7/100\n",
      "18/18 [==============================] - ETA: 0s - loss: 179.0470INFO:tensorflow:Assets written to: model_experiments\\module_5_LSTM\\assets\n"
     ]
    },
    {
     "name": "stderr",
     "output_type": "stream",
     "text": [
      "INFO:tensorflow:Assets written to: model_experiments\\module_5_LSTM\\assets\n"
     ]
    },
    {
     "name": "stdout",
     "output_type": "stream",
     "text": [
      "18/18 [==============================] - 6s 344ms/step - loss: 179.0470 - val_loss: 981.4775\n",
      "Epoch 8/100\n",
      "18/18 [==============================] - ETA: 0s - loss: 173.8713INFO:tensorflow:Assets written to: model_experiments\\module_5_LSTM\\assets\n"
     ]
    },
    {
     "name": "stderr",
     "output_type": "stream",
     "text": [
      "INFO:tensorflow:Assets written to: model_experiments\\module_5_LSTM\\assets\n"
     ]
    },
    {
     "name": "stdout",
     "output_type": "stream",
     "text": [
      "18/18 [==============================] - 6s 341ms/step - loss: 173.8713 - val_loss: 978.6337\n",
      "Epoch 9/100\n",
      "18/18 [==============================] - 0s 19ms/step - loss: 172.1382 - val_loss: 999.5390\n",
      "Epoch 10/100\n",
      "14/18 [======================>.......] - ETA: 0s - loss: 166.0243INFO:tensorflow:Assets written to: model_experiments\\module_5_LSTM\\assets\n"
     ]
    },
    {
     "name": "stderr",
     "output_type": "stream",
     "text": [
      "INFO:tensorflow:Assets written to: model_experiments\\module_5_LSTM\\assets\n"
     ]
    },
    {
     "name": "stdout",
     "output_type": "stream",
     "text": [
      "18/18 [==============================] - 5s 320ms/step - loss: 169.6792 - val_loss: 949.8276\n",
      "Epoch 11/100\n",
      "17/18 [===========================>..] - ETA: 0s - loss: 167.4306INFO:tensorflow:Assets written to: model_experiments\\module_5_LSTM\\assets\n"
     ]
    },
    {
     "name": "stderr",
     "output_type": "stream",
     "text": [
      "INFO:tensorflow:Assets written to: model_experiments\\module_5_LSTM\\assets\n"
     ]
    },
    {
     "name": "stdout",
     "output_type": "stream",
     "text": [
      "18/18 [==============================] - 5s 321ms/step - loss: 167.2247 - val_loss: 928.4257\n",
      "Epoch 12/100\n",
      "18/18 [==============================] - 0s 17ms/step - loss: 168.1247 - val_loss: 952.5093\n",
      "Epoch 13/100\n",
      "18/18 [==============================] - 0s 17ms/step - loss: 163.6917 - val_loss: 950.4883\n",
      "Epoch 14/100\n",
      "17/18 [===========================>..] - ETA: 0s - loss: 157.4832INFO:tensorflow:Assets written to: model_experiments\\module_5_LSTM\\assets\n"
     ]
    },
    {
     "name": "stderr",
     "output_type": "stream",
     "text": [
      "INFO:tensorflow:Assets written to: model_experiments\\module_5_LSTM\\assets\n"
     ]
    },
    {
     "name": "stdout",
     "output_type": "stream",
     "text": [
      "18/18 [==============================] - 6s 366ms/step - loss: 160.1601 - val_loss: 897.3137\n",
      "Epoch 15/100\n",
      "18/18 [==============================] - 0s 19ms/step - loss: 158.6505 - val_loss: 902.0989\n",
      "Epoch 16/100\n",
      "14/18 [======================>.......] - ETA: 0s - loss: 154.9145INFO:tensorflow:Assets written to: model_experiments\\module_5_LSTM\\assets\n"
     ]
    },
    {
     "name": "stderr",
     "output_type": "stream",
     "text": [
      "INFO:tensorflow:Assets written to: model_experiments\\module_5_LSTM\\assets\n"
     ]
    },
    {
     "name": "stdout",
     "output_type": "stream",
     "text": [
      "18/18 [==============================] - 6s 369ms/step - loss: 154.3533 - val_loss: 864.5607\n",
      "Epoch 17/100\n",
      "18/18 [==============================] - 0s 16ms/step - loss: 152.6766 - val_loss: 883.7915\n",
      "Epoch 18/100\n",
      "16/18 [=========================>....] - ETA: 0s - loss: 155.5894INFO:tensorflow:Assets written to: model_experiments\\module_5_LSTM\\assets\n"
     ]
    },
    {
     "name": "stderr",
     "output_type": "stream",
     "text": [
      "INFO:tensorflow:Assets written to: model_experiments\\module_5_LSTM\\assets\n"
     ]
    },
    {
     "name": "stdout",
     "output_type": "stream",
     "text": [
      "18/18 [==============================] - 5s 321ms/step - loss: 150.7431 - val_loss: 840.2540\n",
      "Epoch 19/100\n",
      "18/18 [==============================] - 0s 21ms/step - loss: 147.6534 - val_loss: 846.1715\n",
      "Epoch 20/100\n",
      "17/18 [===========================>..] - ETA: 0s - loss: 145.8673INFO:tensorflow:Assets written to: model_experiments\\module_5_LSTM\\assets\n"
     ]
    },
    {
     "name": "stderr",
     "output_type": "stream",
     "text": [
      "INFO:tensorflow:Assets written to: model_experiments\\module_5_LSTM\\assets\n"
     ]
    },
    {
     "name": "stdout",
     "output_type": "stream",
     "text": [
      "18/18 [==============================] - 6s 347ms/step - loss: 146.1945 - val_loss: 816.1729\n",
      "Epoch 21/100\n",
      "17/18 [===========================>..] - ETA: 0s - loss: 144.8090INFO:tensorflow:Assets written to: model_experiments\\module_5_LSTM\\assets\n"
     ]
    },
    {
     "name": "stderr",
     "output_type": "stream",
     "text": [
      "INFO:tensorflow:Assets written to: model_experiments\\module_5_LSTM\\assets\n"
     ]
    },
    {
     "name": "stdout",
     "output_type": "stream",
     "text": [
      "18/18 [==============================] - 6s 343ms/step - loss: 145.8682 - val_loss: 794.7579\n",
      "Epoch 22/100\n",
      "18/18 [==============================] - 0s 19ms/step - loss: 142.5537 - val_loss: 798.9655\n",
      "Epoch 23/100\n",
      "18/18 [==============================] - 0s 19ms/step - loss: 139.6989 - val_loss: 803.9159\n",
      "Epoch 24/100\n",
      "16/18 [=========================>....] - ETA: 0s - loss: 140.0337INFO:tensorflow:Assets written to: model_experiments\\module_5_LSTM\\assets\n"
     ]
    },
    {
     "name": "stderr",
     "output_type": "stream",
     "text": [
      "INFO:tensorflow:Assets written to: model_experiments\\module_5_LSTM\\assets\n"
     ]
    },
    {
     "name": "stdout",
     "output_type": "stream",
     "text": [
      "18/18 [==============================] - 6s 360ms/step - loss: 139.4325 - val_loss: 781.4321\n",
      "Epoch 25/100\n",
      "14/18 [======================>.......] - ETA: 0s - loss: 140.5059INFO:tensorflow:Assets written to: model_experiments\\module_5_LSTM\\assets\n"
     ]
    },
    {
     "name": "stderr",
     "output_type": "stream",
     "text": [
      "INFO:tensorflow:Assets written to: model_experiments\\module_5_LSTM\\assets\n"
     ]
    },
    {
     "name": "stdout",
     "output_type": "stream",
     "text": [
      "18/18 [==============================] - 6s 331ms/step - loss: 136.3723 - val_loss: 754.5594\n",
      "Epoch 26/100\n",
      "16/18 [=========================>....] - ETA: 0s - loss: 135.9188INFO:tensorflow:Assets written to: model_experiments\\module_5_LSTM\\assets\n"
     ]
    },
    {
     "name": "stderr",
     "output_type": "stream",
     "text": [
      "INFO:tensorflow:Assets written to: model_experiments\\module_5_LSTM\\assets\n"
     ]
    },
    {
     "name": "stdout",
     "output_type": "stream",
     "text": [
      "18/18 [==============================] - 6s 360ms/step - loss: 134.3905 - val_loss: 740.6630\n",
      "Epoch 27/100\n",
      "15/18 [========================>.....] - ETA: 0s - loss: 132.8947INFO:tensorflow:Assets written to: model_experiments\\module_5_LSTM\\assets\n"
     ]
    },
    {
     "name": "stderr",
     "output_type": "stream",
     "text": [
      "INFO:tensorflow:Assets written to: model_experiments\\module_5_LSTM\\assets\n"
     ]
    },
    {
     "name": "stdout",
     "output_type": "stream",
     "text": [
      "18/18 [==============================] - 6s 363ms/step - loss: 133.2876 - val_loss: 731.2790\n",
      "Epoch 28/100\n",
      "15/18 [========================>.....] - ETA: 0s - loss: 129.1308INFO:tensorflow:Assets written to: model_experiments\\module_5_LSTM\\assets\n"
     ]
    },
    {
     "name": "stderr",
     "output_type": "stream",
     "text": [
      "INFO:tensorflow:Assets written to: model_experiments\\module_5_LSTM\\assets\n"
     ]
    },
    {
     "name": "stdout",
     "output_type": "stream",
     "text": [
      "18/18 [==============================] - 6s 336ms/step - loss: 131.1430 - val_loss: 725.9080\n",
      "Epoch 29/100\n",
      "15/18 [========================>.....] - ETA: 0s - loss: 131.0062INFO:tensorflow:Assets written to: model_experiments\\module_5_LSTM\\assets\n"
     ]
    },
    {
     "name": "stderr",
     "output_type": "stream",
     "text": [
      "INFO:tensorflow:Assets written to: model_experiments\\module_5_LSTM\\assets\n"
     ]
    },
    {
     "name": "stdout",
     "output_type": "stream",
     "text": [
      "18/18 [==============================] - 6s 365ms/step - loss: 129.9608 - val_loss: 717.6042\n",
      "Epoch 30/100\n",
      "18/18 [==============================] - 0s 20ms/step - loss: 132.3834 - val_loss: 864.5939\n",
      "Epoch 31/100\n",
      "18/18 [==============================] - 0s 18ms/step - loss: 137.0415 - val_loss: 734.0872\n",
      "Epoch 32/100\n",
      "17/18 [===========================>..] - ETA: 0s - loss: 131.2819INFO:tensorflow:Assets written to: model_experiments\\module_5_LSTM\\assets\n"
     ]
    },
    {
     "name": "stderr",
     "output_type": "stream",
     "text": [
      "INFO:tensorflow:Assets written to: model_experiments\\module_5_LSTM\\assets\n"
     ]
    },
    {
     "name": "stdout",
     "output_type": "stream",
     "text": [
      "18/18 [==============================] - 6s 330ms/step - loss: 130.7233 - val_loss: 702.5235\n",
      "Epoch 33/100\n",
      "16/18 [=========================>....] - ETA: 0s - loss: 130.6172INFO:tensorflow:Assets written to: model_experiments\\module_5_LSTM\\assets\n"
     ]
    },
    {
     "name": "stderr",
     "output_type": "stream",
     "text": [
      "INFO:tensorflow:Assets written to: model_experiments\\module_5_LSTM\\assets\n"
     ]
    },
    {
     "name": "stdout",
     "output_type": "stream",
     "text": [
      "18/18 [==============================] - 6s 360ms/step - loss: 129.5377 - val_loss: 691.8468\n",
      "Epoch 34/100\n",
      "18/18 [==============================] - ETA: 0s - loss: 125.9354INFO:tensorflow:Assets written to: model_experiments\\module_5_LSTM\\assets\n"
     ]
    },
    {
     "name": "stderr",
     "output_type": "stream",
     "text": [
      "INFO:tensorflow:Assets written to: model_experiments\\module_5_LSTM\\assets\n"
     ]
    },
    {
     "name": "stdout",
     "output_type": "stream",
     "text": [
      "18/18 [==============================] - 5s 320ms/step - loss: 125.9354 - val_loss: 683.1760\n",
      "Epoch 35/100\n",
      "14/18 [======================>.......] - ETA: 0s - loss: 127.8583INFO:tensorflow:Assets written to: model_experiments\\module_5_LSTM\\assets\n"
     ]
    },
    {
     "name": "stderr",
     "output_type": "stream",
     "text": [
      "INFO:tensorflow:Assets written to: model_experiments\\module_5_LSTM\\assets\n"
     ]
    },
    {
     "name": "stdout",
     "output_type": "stream",
     "text": [
      "18/18 [==============================] - 6s 324ms/step - loss: 124.0791 - val_loss: 679.6026\n",
      "Epoch 36/100\n",
      "18/18 [==============================] - 0s 20ms/step - loss: 126.9194 - val_loss: 705.4003\n",
      "Epoch 37/100\n",
      "18/18 [==============================] - ETA: 0s - loss: 123.7243INFO:tensorflow:Assets written to: model_experiments\\module_5_LSTM\\assets\n"
     ]
    },
    {
     "name": "stderr",
     "output_type": "stream",
     "text": [
      "INFO:tensorflow:Assets written to: model_experiments\\module_5_LSTM\\assets\n"
     ]
    },
    {
     "name": "stdout",
     "output_type": "stream",
     "text": [
      "18/18 [==============================] - 6s 342ms/step - loss: 123.7243 - val_loss: 669.6057\n",
      "Epoch 38/100\n",
      "15/18 [========================>.....] - ETA: 0s - loss: 123.8257INFO:tensorflow:Assets written to: model_experiments\\module_5_LSTM\\assets\n"
     ]
    },
    {
     "name": "stderr",
     "output_type": "stream",
     "text": [
      "INFO:tensorflow:Assets written to: model_experiments\\module_5_LSTM\\assets\n"
     ]
    },
    {
     "name": "stdout",
     "output_type": "stream",
     "text": [
      "18/18 [==============================] - 6s 354ms/step - loss: 122.9317 - val_loss: 669.3943\n",
      "Epoch 39/100\n",
      "18/18 [==============================] - 0s 20ms/step - loss: 125.8643 - val_loss: 718.8682\n",
      "Epoch 40/100\n",
      "16/18 [=========================>....] - ETA: 0s - loss: 124.1093INFO:tensorflow:Assets written to: model_experiments\\module_5_LSTM\\assets\n"
     ]
    },
    {
     "name": "stderr",
     "output_type": "stream",
     "text": [
      "INFO:tensorflow:Assets written to: model_experiments\\module_5_LSTM\\assets\n"
     ]
    },
    {
     "name": "stdout",
     "output_type": "stream",
     "text": [
      "18/18 [==============================] - 6s 344ms/step - loss: 123.8996 - val_loss: 653.0302\n",
      "Epoch 41/100\n",
      "18/18 [==============================] - 0s 20ms/step - loss: 125.0049 - val_loss: 679.9727\n",
      "Epoch 42/100\n",
      "18/18 [==============================] - 0s 18ms/step - loss: 123.1858 - val_loss: 662.6149\n",
      "Epoch 43/100\n",
      "15/18 [========================>.....] - ETA: 0s - loss: 120.1112INFO:tensorflow:Assets written to: model_experiments\\module_5_LSTM\\assets\n"
     ]
    },
    {
     "name": "stderr",
     "output_type": "stream",
     "text": [
      "INFO:tensorflow:Assets written to: model_experiments\\module_5_LSTM\\assets\n"
     ]
    },
    {
     "name": "stdout",
     "output_type": "stream",
     "text": [
      "18/18 [==============================] - 6s 374ms/step - loss: 120.0603 - val_loss: 643.4054\n",
      "Epoch 44/100\n",
      "18/18 [==============================] - 0s 22ms/step - loss: 119.1030 - val_loss: 652.1306\n",
      "Epoch 45/100\n",
      "15/18 [========================>.....] - ETA: 0s - loss: 117.7113INFO:tensorflow:Assets written to: model_experiments\\module_5_LSTM\\assets\n"
     ]
    },
    {
     "name": "stderr",
     "output_type": "stream",
     "text": [
      "INFO:tensorflow:Assets written to: model_experiments\\module_5_LSTM\\assets\n"
     ]
    },
    {
     "name": "stdout",
     "output_type": "stream",
     "text": [
      "18/18 [==============================] - 7s 383ms/step - loss: 119.5093 - val_loss: 638.2994\n",
      "Epoch 46/100\n",
      "18/18 [==============================] - ETA: 0s - loss: 119.8128INFO:tensorflow:Assets written to: model_experiments\\module_5_LSTM\\assets\n"
     ]
    },
    {
     "name": "stderr",
     "output_type": "stream",
     "text": [
      "INFO:tensorflow:Assets written to: model_experiments\\module_5_LSTM\\assets\n"
     ]
    },
    {
     "name": "stdout",
     "output_type": "stream",
     "text": [
      "18/18 [==============================] - 7s 384ms/step - loss: 119.8128 - val_loss: 637.8923\n",
      "Epoch 47/100\n",
      "14/18 [======================>.......] - ETA: 0s - loss: 115.2812INFO:tensorflow:Assets written to: model_experiments\\module_5_LSTM\\assets\n"
     ]
    },
    {
     "name": "stderr",
     "output_type": "stream",
     "text": [
      "INFO:tensorflow:Assets written to: model_experiments\\module_5_LSTM\\assets\n"
     ]
    },
    {
     "name": "stdout",
     "output_type": "stream",
     "text": [
      "18/18 [==============================] - 6s 366ms/step - loss: 122.3168 - val_loss: 634.1835\n",
      "Epoch 48/100\n",
      "18/18 [==============================] - 0s 22ms/step - loss: 119.4828 - val_loss: 646.3377\n",
      "Epoch 49/100\n",
      "18/18 [==============================] - 0s 21ms/step - loss: 117.7125 - val_loss: 640.8061\n",
      "Epoch 50/100\n",
      "17/18 [===========================>..] - ETA: 0s - loss: 120.3799INFO:tensorflow:Assets written to: model_experiments\\module_5_LSTM\\assets\n"
     ]
    },
    {
     "name": "stderr",
     "output_type": "stream",
     "text": [
      "INFO:tensorflow:Assets written to: model_experiments\\module_5_LSTM\\assets\n"
     ]
    },
    {
     "name": "stdout",
     "output_type": "stream",
     "text": [
      "18/18 [==============================] - 6s 361ms/step - loss: 120.2065 - val_loss: 625.5739\n",
      "Epoch 51/100\n",
      "18/18 [==============================] - 0s 21ms/step - loss: 115.8050 - val_loss: 662.2036\n",
      "Epoch 52/100\n",
      "18/18 [==============================] - 0s 21ms/step - loss: 119.3730 - val_loss: 653.2134\n",
      "Epoch 53/100\n",
      "18/18 [==============================] - 0s 22ms/step - loss: 117.4459 - val_loss: 629.3126\n",
      "Epoch 54/100\n",
      "18/18 [==============================] - 0s 21ms/step - loss: 120.6990 - val_loss: 642.9205\n",
      "Epoch 55/100\n",
      "17/18 [===========================>..] - ETA: 0s - loss: 117.8096INFO:tensorflow:Assets written to: model_experiments\\module_5_LSTM\\assets\n"
     ]
    },
    {
     "name": "stderr",
     "output_type": "stream",
     "text": [
      "INFO:tensorflow:Assets written to: model_experiments\\module_5_LSTM\\assets\n"
     ]
    },
    {
     "name": "stdout",
     "output_type": "stream",
     "text": [
      "18/18 [==============================] - 7s 398ms/step - loss: 116.2846 - val_loss: 617.9428\n",
      "Epoch 56/100\n",
      "18/18 [==============================] - 0s 22ms/step - loss: 116.9577 - val_loss: 674.4831\n",
      "Epoch 57/100\n",
      "17/18 [===========================>..] - ETA: 0s - loss: 128.2956INFO:tensorflow:Assets written to: model_experiments\\module_5_LSTM\\assets\n"
     ]
    },
    {
     "name": "stderr",
     "output_type": "stream",
     "text": [
      "INFO:tensorflow:Assets written to: model_experiments\\module_5_LSTM\\assets\n"
     ]
    },
    {
     "name": "stdout",
     "output_type": "stream",
     "text": [
      "18/18 [==============================] - 7s 437ms/step - loss: 127.5700 - val_loss: 610.7903\n",
      "Epoch 58/100\n",
      "18/18 [==============================] - 0s 26ms/step - loss: 117.3276 - val_loss: 631.3044\n",
      "Epoch 59/100\n",
      "18/18 [==============================] - 0s 23ms/step - loss: 113.3717 - val_loss: 615.8781\n",
      "Epoch 60/100\n",
      "18/18 [==============================] - 0s 23ms/step - loss: 114.4321 - val_loss: 614.5768\n",
      "Epoch 61/100\n",
      "18/18 [==============================] - 0s 25ms/step - loss: 113.8014 - val_loss: 624.7119\n",
      "Epoch 62/100\n",
      "16/18 [=========================>....] - ETA: 0s - loss: 115.8090INFO:tensorflow:Assets written to: model_experiments\\module_5_LSTM\\assets\n"
     ]
    },
    {
     "name": "stderr",
     "output_type": "stream",
     "text": [
      "INFO:tensorflow:Assets written to: model_experiments\\module_5_LSTM\\assets\n"
     ]
    },
    {
     "name": "stdout",
     "output_type": "stream",
     "text": [
      "18/18 [==============================] - 8s 461ms/step - loss: 113.9799 - val_loss: 603.3621\n",
      "Epoch 63/100\n",
      "18/18 [==============================] - 1s 28ms/step - loss: 114.7354 - val_loss: 604.1949\n",
      "Epoch 64/100\n",
      "18/18 [==============================] - 0s 21ms/step - loss: 112.3755 - val_loss: 664.3925\n",
      "Epoch 65/100\n",
      "18/18 [==============================] - 0s 19ms/step - loss: 119.7900 - val_loss: 734.5807\n",
      "Epoch 66/100\n",
      "18/18 [==============================] - 0s 23ms/step - loss: 118.1218 - val_loss: 638.4435\n",
      "Epoch 67/100\n",
      "17/18 [===========================>..] - ETA: 0s - loss: 112.2840INFO:tensorflow:Assets written to: model_experiments\\module_5_LSTM\\assets\n"
     ]
    },
    {
     "name": "stderr",
     "output_type": "stream",
     "text": [
      "INFO:tensorflow:Assets written to: model_experiments\\module_5_LSTM\\assets\n"
     ]
    },
    {
     "name": "stdout",
     "output_type": "stream",
     "text": [
      "18/18 [==============================] - 7s 422ms/step - loss: 113.4655 - val_loss: 598.0204\n",
      "Epoch 68/100\n",
      "18/18 [==============================] - 0s 20ms/step - loss: 114.0563 - val_loss: 644.2791\n",
      "Epoch 69/100\n",
      "18/18 [==============================] - 0s 24ms/step - loss: 122.2373 - val_loss: 664.8711\n",
      "Epoch 70/100\n",
      "18/18 [==============================] - 0s 25ms/step - loss: 119.1473 - val_loss: 628.9117\n",
      "Epoch 71/100\n",
      "14/18 [======================>.......] - ETA: 0s - loss: 110.2675INFO:tensorflow:Assets written to: model_experiments\\module_5_LSTM\\assets\n"
     ]
    },
    {
     "name": "stderr",
     "output_type": "stream",
     "text": [
      "INFO:tensorflow:Assets written to: model_experiments\\module_5_LSTM\\assets\n"
     ]
    },
    {
     "name": "stdout",
     "output_type": "stream",
     "text": [
      "18/18 [==============================] - 8s 470ms/step - loss: 112.3224 - val_loss: 594.8903\n",
      "Epoch 72/100\n",
      "18/18 [==============================] - 0s 24ms/step - loss: 111.8696 - val_loss: 595.4414\n",
      "Epoch 73/100\n",
      "18/18 [==============================] - 1s 30ms/step - loss: 111.7658 - val_loss: 604.2354\n",
      "Epoch 74/100\n",
      "17/18 [===========================>..] - ETA: 0s - loss: 111.5981INFO:tensorflow:Assets written to: model_experiments\\module_5_LSTM\\assets\n"
     ]
    },
    {
     "name": "stderr",
     "output_type": "stream",
     "text": [
      "INFO:tensorflow:Assets written to: model_experiments\\module_5_LSTM\\assets\n"
     ]
    },
    {
     "name": "stdout",
     "output_type": "stream",
     "text": [
      "18/18 [==============================] - 9s 500ms/step - loss: 111.7241 - val_loss: 593.7955\n",
      "Epoch 75/100\n",
      "18/18 [==============================] - 0s 27ms/step - loss: 111.4484 - val_loss: 611.8640\n",
      "Epoch 76/100\n",
      "18/18 [==============================] - ETA: 0s - loss: 112.4275INFO:tensorflow:Assets written to: model_experiments\\module_5_LSTM\\assets\n"
     ]
    },
    {
     "name": "stderr",
     "output_type": "stream",
     "text": [
      "INFO:tensorflow:Assets written to: model_experiments\\module_5_LSTM\\assets\n"
     ]
    },
    {
     "name": "stdout",
     "output_type": "stream",
     "text": [
      "18/18 [==============================] - 7s 398ms/step - loss: 112.4275 - val_loss: 587.7030\n",
      "Epoch 77/100\n",
      "18/18 [==============================] - 0s 21ms/step - loss: 113.9197 - val_loss: 630.4920\n",
      "Epoch 78/100\n",
      "18/18 [==============================] - 0s 24ms/step - loss: 112.8078 - val_loss: 606.1176\n",
      "Epoch 79/100\n",
      "18/18 [==============================] - 0s 23ms/step - loss: 110.9940 - val_loss: 595.4330\n",
      "Epoch 80/100\n",
      "18/18 [==============================] - 0s 19ms/step - loss: 114.2323 - val_loss: 622.5402\n",
      "Epoch 81/100\n",
      "18/18 [==============================] - 0s 22ms/step - loss: 113.9044 - val_loss: 619.8963\n",
      "Epoch 82/100\n",
      "18/18 [==============================] - 0s 23ms/step - loss: 113.7877 - val_loss: 599.2928\n",
      "Epoch 83/100\n",
      "18/18 [==============================] - 0s 23ms/step - loss: 111.8754 - val_loss: 637.6453\n",
      "Epoch 84/100\n",
      "18/18 [==============================] - 0s 22ms/step - loss: 114.4036 - val_loss: 604.0600\n",
      "Epoch 85/100\n",
      "18/18 [==============================] - 0s 21ms/step - loss: 111.5117 - val_loss: 629.2269\n",
      "Epoch 86/100\n",
      "18/18 [==============================] - 0s 21ms/step - loss: 111.4575 - val_loss: 651.7473\n",
      "Epoch 87/100\n",
      "18/18 [==============================] - 0s 22ms/step - loss: 115.7798 - val_loss: 592.2646\n",
      "Epoch 88/100\n",
      "15/18 [========================>.....] - ETA: 0s - loss: 113.9383INFO:tensorflow:Assets written to: model_experiments\\module_5_LSTM\\assets\n"
     ]
    },
    {
     "name": "stderr",
     "output_type": "stream",
     "text": [
      "INFO:tensorflow:Assets written to: model_experiments\\module_5_LSTM\\assets\n"
     ]
    },
    {
     "name": "stdout",
     "output_type": "stream",
     "text": [
      "18/18 [==============================] - 6s 334ms/step - loss: 110.1579 - val_loss: 585.1801\n",
      "Epoch 89/100\n",
      "18/18 [==============================] - 0s 19ms/step - loss: 108.9873 - val_loss: 622.7331\n",
      "Epoch 90/100\n",
      "18/18 [==============================] - 0s 22ms/step - loss: 113.9912 - val_loss: 725.1927\n",
      "Epoch 91/100\n",
      "15/18 [========================>.....] - ETA: 0s - loss: 116.9424INFO:tensorflow:Assets written to: model_experiments\\module_5_LSTM\\assets\n"
     ]
    },
    {
     "name": "stderr",
     "output_type": "stream",
     "text": [
      "INFO:tensorflow:Assets written to: model_experiments\\module_5_LSTM\\assets\n"
     ]
    },
    {
     "name": "stdout",
     "output_type": "stream",
     "text": [
      "18/18 [==============================] - 7s 436ms/step - loss: 115.6127 - val_loss: 584.3708\n",
      "Epoch 92/100\n",
      "18/18 [==============================] - 0s 27ms/step - loss: 112.4967 - val_loss: 589.1361\n",
      "Epoch 93/100\n",
      "18/18 [==============================] - 0s 23ms/step - loss: 110.1866 - val_loss: 636.6210\n",
      "Epoch 94/100\n",
      "18/18 [==============================] - 0s 24ms/step - loss: 111.1433 - val_loss: 611.9326\n",
      "Epoch 95/100\n",
      "16/18 [=========================>....] - ETA: 0s - loss: 107.0266INFO:tensorflow:Assets written to: model_experiments\\module_5_LSTM\\assets\n"
     ]
    },
    {
     "name": "stderr",
     "output_type": "stream",
     "text": [
      "INFO:tensorflow:Assets written to: model_experiments\\module_5_LSTM\\assets\n"
     ]
    },
    {
     "name": "stdout",
     "output_type": "stream",
     "text": [
      "18/18 [==============================] - 8s 446ms/step - loss: 108.8718 - val_loss: 584.0329\n",
      "Epoch 96/100\n",
      "17/18 [===========================>..] - ETA: 0s - loss: 108.6634INFO:tensorflow:Assets written to: model_experiments\\module_5_LSTM\\assets\n"
     ]
    },
    {
     "name": "stderr",
     "output_type": "stream",
     "text": [
      "INFO:tensorflow:Assets written to: model_experiments\\module_5_LSTM\\assets\n"
     ]
    },
    {
     "name": "stdout",
     "output_type": "stream",
     "text": [
      "18/18 [==============================] - 6s 368ms/step - loss: 109.5075 - val_loss: 577.0341\n",
      "Epoch 97/100\n",
      "18/18 [==============================] - 0s 19ms/step - loss: 108.6477 - val_loss: 638.0824\n",
      "Epoch 98/100\n",
      "18/18 [==============================] - 0s 20ms/step - loss: 110.2908 - val_loss: 588.1118\n",
      "Epoch 99/100\n",
      "17/18 [===========================>..] - ETA: 0s - loss: 109.0537INFO:tensorflow:Assets written to: model_experiments\\module_5_LSTM\\assets\n"
     ]
    },
    {
     "name": "stderr",
     "output_type": "stream",
     "text": [
      "INFO:tensorflow:Assets written to: model_experiments\\module_5_LSTM\\assets\n"
     ]
    },
    {
     "name": "stdout",
     "output_type": "stream",
     "text": [
      "18/18 [==============================] - 7s 432ms/step - loss: 108.6506 - val_loss: 574.5836\n",
      "Epoch 100/100\n",
      "16/18 [=========================>....] - ETA: 0s - loss: 116.9437INFO:tensorflow:Assets written to: model_experiments\\module_5_LSTM\\assets\n"
     ]
    },
    {
     "name": "stderr",
     "output_type": "stream",
     "text": [
      "INFO:tensorflow:Assets written to: model_experiments\\module_5_LSTM\\assets\n"
     ]
    },
    {
     "name": "stdout",
     "output_type": "stream",
     "text": [
      "18/18 [==============================] - 8s 469ms/step - loss: 114.0628 - val_loss: 574.2615\n"
     ]
    }
   ],
   "source": [
    "# Building LSTM model with the Functional API\n",
    "inputs = layers.Input(shape=(WINDOW_SIZE))\n",
    "x = layers.Lambda(lambda x: tf.expand_dims(x, axis=1))(inputs)\n",
    "# x = layers.LSTM(128, return_sequences=True)(x)\n",
    "x = layers.LSTM(128, activation=\"relu\")(x)\n",
    "# x = layers.Dense(32, activation=\"relu\")(x)\n",
    "outputs = layers.Dense(HORIZON)(x)\n",
    "model_5 = tf.keras.Model(inputs=inputs, outputs=outputs, name=\"module_5_LSTM\")\n",
    "\n",
    "# Compiling the model\n",
    "model_5.compile(\n",
    "    loss=\"mae\",\n",
    "    optimizer=tf.keras.optimizers.Adam()\n",
    ")\n",
    "\n",
    "# Fitting the model\n",
    "history_5 = model_5.fit(\n",
    "    train_windows,\n",
    "    train_labels,\n",
    "    epochs=100,\n",
    "    verbose=1,\n",
    "    batch_size=128,\n",
    "    validation_data=(test_windows, test_labels),\n",
    "    callbacks=[create_model_checkpoint(model_name=model_5.name)]\n",
    ")"
   ]
  },
  {
   "cell_type": "code",
   "execution_count": 80,
   "metadata": {},
   "outputs": [
    {
     "name": "stdout",
     "output_type": "stream",
     "text": [
      "18/18 [==============================] - 1s 10ms/step - loss: 574.2616\n"
     ]
    },
    {
     "data": {
      "text/plain": [
       "574.2615966796875"
      ]
     },
     "execution_count": 80,
     "metadata": {},
     "output_type": "execute_result"
    }
   ],
   "source": [
    "# Loading the best version\n",
    "model_5 = tf.keras.models.load_model(\"model_experiments/module_5_LSTM/\")\n",
    "model_5.evaluate(test_windows, test_labels)"
   ]
  },
  {
   "cell_type": "code",
   "execution_count": 81,
   "metadata": {},
   "outputs": [
    {
     "name": "stdout",
     "output_type": "stream",
     "text": [
      "18/18 [==============================] - 1s 6ms/step\n"
     ]
    },
    {
     "data": {
      "text/plain": [
       "<tf.Tensor: shape=(556,), dtype=float32, numpy=\n",
       "array([ 8918.88  ,  8805.825 ,  9005.464 ,  8796.79  ,  8752.187 ,\n",
       "        8758.647 ,  8693.282 ,  8548.196 ,  8479.45  ,  8527.409 ,\n",
       "        8290.301 ,  8142.709 ,  8083.3896,  7719.447 ,  7332.858 ,\n",
       "        7264.556 ,  7073.9175,  7141.8364,  7138.05  ,  7433.006 ,\n",
       "        7441.491 ,  7677.7915,  7627.0024,  7458.0713,  7372.346 ,\n",
       "        7328.8228,  7243.34  ,  7352.683 ,  7492.5835,  7547.588 ,\n",
       "        7573.788 ,  7415.0356,  7286.3315,  7216.738 ,  7192.1387,\n",
       "        7226.472 ,  7127.3438,  7116.855 ,  6948.2617,  6660.957 ,\n",
       "        7217.3276,  7216.485 ,  7166.7285,  7280.341 ,  7282.748 ,\n",
       "        7215.339 ,  7231.448 ,  7236.1567,  7207.519 ,  7230.513 ,\n",
       "        7307.099 ,  7387.2847,  7305.785 ,  7219.9556,  7193.2427,\n",
       "        7018.407 ,  7214.071 ,  7331.64  ,  7364.4575,  7653.921 ,\n",
       "        7999.17  ,  8115.286 ,  7926.9253,  8069.975 ,  8118.6807,\n",
       "        8159.9233,  8148.151 ,  8614.128 ,  8859.347 ,  8796.384 ,\n",
       "        8931.295 ,  8987.778 ,  8755.337 ,  8671.879 ,  8707.267 ,\n",
       "        8663.633 ,  8451.6045,  8440.745 ,  8379.038 ,  8515.171 ,\n",
       "        8814.302 ,  9098.922 ,  9325.741 ,  9553.287 ,  9495.598 ,\n",
       "        9428.86  ,  9420.754 ,  9324.156 ,  9216.648 ,  9527.557 ,\n",
       "        9687.853 ,  9802.902 ,  9940.497 , 10135.444 ,  9963.186 ,\n",
       "       10182.073 , 10371.386 , 10294.8545, 10372.148 , 10067.603 ,\n",
       "        9917.352 ,  9698.075 , 10050.716 ,  9820.437 ,  9659.017 ,\n",
       "        9675.894 ,  9695.376 ,  9877.313 ,  9719.966 ,  9479.796 ,\n",
       "        8948.96  ,  8776.602 ,  8749.633 ,  8639.159 ,  8551.735 ,\n",
       "        8827.239 ,  8837.364 ,  8788.666 ,  9027.156 ,  9147.628 ,\n",
       "        9012.478 ,  8377.8   ,  7954.5747,  7913.8433,  7911.292 ,\n",
       "        6463.404 ,  5884.29  ,  5525.843 ,  5364.725 ,  5130.8384,\n",
       "        5271.082 ,  5373.0894,  6082.8496,  6252.295 ,  6251.1035,\n",
       "        6026.439 ,  6360.747 ,  6737.7817,  6755.2   ,  6765.4243,\n",
       "        6739.8726,  6378.921 ,  6004.839 ,  6331.483 ,  6439.5366,\n",
       "        6517.7876,  6795.198 ,  6835.495 ,  6884.794 ,  6851.308 ,\n",
       "        7196.624 ,  7233.0337,  7357.602 ,  7374.0986,  7014.3667,\n",
       "        6895.0063,  6999.8228,  6923.8184,  6886.8687,  6764.0576,\n",
       "        7071.021 ,  7103.489 ,  7248.5996,  7240.214 ,  6969.6187,\n",
       "        6916.6646,  7069.6846,  7462.3086,  7534.3696,  7573.9165,\n",
       "        7655.678 ,  7784.0723,  7801.45  ,  8561.665 ,  8821.599 ,\n",
       "        8910.602 ,  9017.944 ,  8990.933 ,  8947.993 ,  8983.15  ,\n",
       "        9303.165 ,  9807.299 ,  9967.821 ,  9762.687 ,  9050.666 ,\n",
       "        8674.9795,  8739.543 ,  9163.685 ,  9640.522 ,  9492.441 ,\n",
       "        9472.554 ,  9677.415 ,  9755.964 ,  9752.52  ,  9613.312 ,\n",
       "        9269.696 ,  9192.976 ,  9206.475 ,  9082.499 ,  8937.315 ,\n",
       "        8853.847 ,  9051.394 ,  9420.914 ,  9472.272 ,  9672.537 ,\n",
       "        9545.32  , 10118.249 ,  9743.927 ,  9673.641 ,  9806.699 ,\n",
       "        9717.649 ,  9695.203 ,  9731.76  ,  9805.04  ,  9811.257 ,\n",
       "        9878.083 ,  9436.76  ,  9432.236 ,  9461.249 ,  9378.005 ,\n",
       "        9424.162 ,  9503.987 ,  9496.579 ,  9435.918 ,  9330.206 ,\n",
       "        9353.683 ,  9316.956 ,  9599.82  ,  9649.872 ,  9417.837 ,\n",
       "        9298.618 ,  9208.147 ,  9064.575 ,  9076.9795,  9166.644 ,\n",
       "        9170.275 ,  9234.458 ,  9155.491 ,  9120.867 ,  9136.247 ,\n",
       "        9087.931 ,  9241.704 ,  9272.052 ,  9445.88  ,  9326.237 ,\n",
       "        9274.903 ,  9259.406 ,  9290.24  ,  9267.278 ,  9270.811 ,\n",
       "        9244.224 ,  9172.308 ,  9170.967 ,  9186.866 ,  9203.088 ,\n",
       "        9194.8545,  9362.813 ,  9525.216 ,  9631.648 ,  9622.173 ,\n",
       "        9717.478 ,  9923.424 , 10929.075 , 11067.844 , 11300.626 ,\n",
       "       11262.044 , 11401.115 , 11737.437 , 11334.798 , 11279.888 ,\n",
       "       11261.847 , 11572.612 , 11784.081 , 11713.577 , 11775.022 ,\n",
       "       11737.333 , 11833.503 , 11486.051 , 11519.335 , 11718.095 ,\n",
       "       11794.22  , 11898.81  , 11934.108 , 12328.263 , 12200.538 ,\n",
       "       11877.261 , 11848.481 , 11659.99  , 11658.383 , 11664.583 ,\n",
       "       11736.743 , 11488.671 , 11458.255 , 11355.005 , 11448.192 ,\n",
       "       11518.351 , 11643.096 , 11708.545 , 11935.212 , 11603.069 ,\n",
       "       10920.212 , 10603.288 , 10136.3125, 10116.267 , 10284.73  ,\n",
       "       10102.843 , 10219.831 , 10337.434 , 10400.306 , 10452.144 ,\n",
       "       10373.7295, 10627.761 , 10825.956 , 11026.63  , 11012.147 ,\n",
       "       10988.813 , 11069.32  , 10934.374 , 10630.709 , 10540.759 ,\n",
       "       10326.378 , 10568.162 , 10714.222 , 10759.784 , 10787.146 ,\n",
       "       10876.081 , 10829.298 , 10776.998 , 10679.498 , 10601.497 ,\n",
       "       10571.804 , 10645.575 , 10749.532 , 10653.68  , 10660.873 ,\n",
       "       10864.084 , 11045.571 , 11325.409 , 11391.3545, 11648.563 ,\n",
       "       11559.136 , 11461.145 , 11517.721 , 11418.262 , 11381.541 ,\n",
       "       11459.899 , 11727.079 , 11932.347 , 12872.094 , 13214.216 ,\n",
       "       13096.003 , 13153.409 , 13108.008 , 13084.454 , 13583.    ,\n",
       "       13429.202 , 13479.814 , 13597.878 , 13864.849 , 13819.779 ,\n",
       "       13701.638 , 13833.464 , 14123.636 , 15168.073 , 15590.733 ,\n",
       "       15087.299 , 15443.7295, 15420.697 , 15414.967 , 15747.448 ,\n",
       "       16198.732 , 16405.861 , 16158.497 , 16015.485 , 16607.209 ,\n",
       "       17439.754 , 17855.777 , 18044.688 , 18593.219 , 18732.18  ,\n",
       "       18734.596 , 18597.    , 18980.281 , 18882.996 , 17614.336 ,\n",
       "       17080.4   , 17590.025 , 18005.611 , 19075.785 , 19152.793 ,\n",
       "       19280.71  , 19530.77  , 19071.086 , 19059.525 , 19126.139 ,\n",
       "       19146.195 , 18819.475 , 18605.031 , 18429.594 , 18198.066 ,\n",
       "       18703.842 , 19035.219 , 19263.05  , 19478.719 , 20960.305 ,\n",
       "       22651.77  , 23179.855 , 23929.145 , 23876.883 , 23481.617 ,\n",
       "       23497.174 , 23337.525 , 23576.11  , 24390.736 , 26035.766 ,\n",
       "       26547.932 , 26851.764 , 27135.297 , 28532.344 , 29209.984 ,\n",
       "       29468.887 , 31688.914 , 33047.605 , 32110.492 , 33974.242 ,\n",
       "       36079.742 , 39188.01  , 40691.594 , 40791.703 , 39559.754 ,\n",
       "       35728.4   , 34291.53  , 36134.63  , 37908.227 , 37150.258 ,\n",
       "       36335.98  , 36474.93  , 36453.58  , 36539.6   , 35401.93  ,\n",
       "       31704.23  , 32633.805 , 32215.14  , 32102.812 , 32367.967 ,\n",
       "       32386.574 , 31066.975 , 32732.645 , 34550.684 , 34818.797 ,\n",
       "       33666.65  , 33682.008 , 35294.426 , 37065.793 , 37458.348 ,\n",
       "       37969.17  , 40013.062 , 39195.9   , 43469.867 , 46502.28  ,\n",
       "       46054.266 , 47458.215 , 48218.98  , 47620.42  , 48857.62  ,\n",
       "       48563.92  , 48891.094 , 51534.14  , 52066.25  , 55087.65  ,\n",
       "       55390.44  , 57020.07  , 55303.582 , 49897.465 , 48646.4   ,\n",
       "       48142.016 , 46075.06  , 46130.6   , 45293.082 , 48224.145 ,\n",
       "       48257.05  , 50284.7   , 49154.945 , 49208.523 , 49158.293 ,\n",
       "       50286.598 , 51430.79  , 53925.15  , 56660.625 , 57905.605 ,\n",
       "       57899.047 , 60376.816 , 60748.406 , 57599.48  , 56772.63  ,\n",
       "       58167.668 , 58158.39  , 58373.33  , 58683.863 , 58205.906 ,\n",
       "       55324.14  , 54707.016 , 53200.12  , 52192.08  , 53780.73  ,\n",
       "       55767.35  , 55713.05  , 57317.477 , 58786.42  , 59084.3   ,\n",
       "       59239.14  , 59136.508 , 58079.645 , 58156.367 , 58764.297 ,\n",
       "       58332.844 , 56988.71  , 57639.25  , 58186.12  , 59124.582 ,\n",
       "       59847.36  , 60079.61  , 62692.383 , 63294.016 , 63600.094 ,\n",
       "       62630.2   , 61173.715 , 57876.6   , 56288.96  , 56315.82  ,\n",
       "       54522.562 , 52326.35  , 50816.695 , 50559.957 , 48889.    ,\n",
       "       52189.312 , 54745.883 , 54961.008 , 53941.906 , 56662.13  ,\n",
       "       57911.004 , 57000.688 , 57323.277 , 54766.42  , 56541.734 ,\n",
       "       56763.305 , 57072.32  , 58547.28  , 58483.008 , 56576.348 ,\n",
       "       56508.676 , 53279.47  , 50280.414 , 49731.766 , 48122.727 ,\n",
       "       45909.062 ], dtype=float32)>"
      ]
     },
     "execution_count": 81,
     "metadata": {},
     "output_type": "execute_result"
    }
   ],
   "source": [
    "# Making predictions\n",
    "model_5_preds = make_preds(model_5, test_windows)\n",
    "model_5_preds"
   ]
  },
  {
   "cell_type": "code",
   "execution_count": 82,
   "metadata": {},
   "outputs": [
    {
     "data": {
      "text/plain": [
       "{'mae': 574.2616,\n",
       " 'mse': 1197381.1,\n",
       " 'rmse': 1094.2491,\n",
       " 'mape': 2.5854678,\n",
       " 'mase': 1.0088186}"
      ]
     },
     "execution_count": 82,
     "metadata": {},
     "output_type": "execute_result"
    }
   ],
   "source": [
    "# Evaluating predictions\n",
    "model_5_results = evaluate_preds(\n",
    "    y_true=tf.squeeze(test_labels),\n",
    "    y_pred=model_5_preds\n",
    ")\n",
    "model_5_results"
   ]
  },
  {
   "cell_type": "code",
   "execution_count": 83,
   "metadata": {},
   "outputs": [],
   "source": [
    "# Adding Blockchain halving events\n",
    "block_reward_1 = 50 # 3 January 2009\n",
    "block_reward_2 = 25 # 8 November 2012\n",
    "block_reward_3 = 12.5 # 9 July 2016\n",
    "block_reward_4 = 6.25 # 18 May 2020\n",
    "\n",
    "# Adding block reward dates\n",
    "block_reward_2_datetime = np.datetime64(\"2012-11-08\")\n",
    "block_reward_3_datetime = np.datetime64(\"2016-07-09\")\n",
    "block_reward_4_datetime = np.datetime64(\"2020-05-18\")\n"
   ]
  },
  {
   "cell_type": "code",
   "execution_count": 84,
   "metadata": {},
   "outputs": [
    {
     "data": {
      "text/plain": [
       "(1012, 2421)"
      ]
     },
     "execution_count": 84,
     "metadata": {},
     "output_type": "execute_result"
    }
   ],
   "source": [
    "# Creating date ranges\n",
    "block_reward_2_days = (block_reward_3_datetime - bitcoin_prices.index[0]).days\n",
    "block_reward_3_days = (block_reward_4_datetime - bitcoin_prices.index[0]).days\n",
    "\n",
    "block_reward_2_days, block_reward_3_days"
   ]
  },
  {
   "cell_type": "code",
   "execution_count": 85,
   "metadata": {},
   "outputs": [],
   "source": [
    "# Adding in block_reward column\n",
    "bitcoin_prices_block = bitcoin_prices.copy()\n",
    "bitcoin_prices_block[\"block_reward\"] = None\n",
    "\n",
    "# Adding in block_reward values\n",
    "bitcoin_prices_block.iloc[:block_reward_2_days, -1] = block_reward_2\n",
    "bitcoin_prices_block.iloc[block_reward_2_days:block_reward_3_days, -1] = block_reward_3\n",
    "bitcoin_prices_block.iloc[block_reward_3_days:, -1] = block_reward_4"
   ]
  },
  {
   "cell_type": "code",
   "execution_count": 86,
   "metadata": {},
   "outputs": [
    {
     "data": {
      "text/html": [
       "<div>\n",
       "<style scoped>\n",
       "    .dataframe tbody tr th:only-of-type {\n",
       "        vertical-align: middle;\n",
       "    }\n",
       "\n",
       "    .dataframe tbody tr th {\n",
       "        vertical-align: top;\n",
       "    }\n",
       "\n",
       "    .dataframe thead th {\n",
       "        text-align: right;\n",
       "    }\n",
       "</style>\n",
       "<table border=\"1\" class=\"dataframe\">\n",
       "  <thead>\n",
       "    <tr style=\"text-align: right;\">\n",
       "      <th></th>\n",
       "      <th>Price</th>\n",
       "      <th>block_reward</th>\n",
       "    </tr>\n",
       "    <tr>\n",
       "      <th>Date</th>\n",
       "      <th></th>\n",
       "      <th></th>\n",
       "    </tr>\n",
       "  </thead>\n",
       "  <tbody>\n",
       "    <tr>\n",
       "      <th>2013-10-01</th>\n",
       "      <td>123.65499</td>\n",
       "      <td>25</td>\n",
       "    </tr>\n",
       "    <tr>\n",
       "      <th>2013-10-02</th>\n",
       "      <td>125.45500</td>\n",
       "      <td>25</td>\n",
       "    </tr>\n",
       "    <tr>\n",
       "      <th>2013-10-03</th>\n",
       "      <td>108.58483</td>\n",
       "      <td>25</td>\n",
       "    </tr>\n",
       "    <tr>\n",
       "      <th>2013-10-04</th>\n",
       "      <td>118.67466</td>\n",
       "      <td>25</td>\n",
       "    </tr>\n",
       "    <tr>\n",
       "      <th>2013-10-05</th>\n",
       "      <td>121.33866</td>\n",
       "      <td>25</td>\n",
       "    </tr>\n",
       "  </tbody>\n",
       "</table>\n",
       "</div>"
      ],
      "text/plain": [
       "                Price block_reward\n",
       "Date                              \n",
       "2013-10-01  123.65499           25\n",
       "2013-10-02  125.45500           25\n",
       "2013-10-03  108.58483           25\n",
       "2013-10-04  118.67466           25\n",
       "2013-10-05  121.33866           25"
      ]
     },
     "execution_count": 86,
     "metadata": {},
     "output_type": "execute_result"
    }
   ],
   "source": [
    "# Check top 5 values\n",
    "bitcoin_prices_block.head()"
   ]
  },
  {
   "cell_type": "code",
   "execution_count": 87,
   "metadata": {},
   "outputs": [
    {
     "data": {
      "text/html": [
       "<div>\n",
       "<style scoped>\n",
       "    .dataframe tbody tr th:only-of-type {\n",
       "        vertical-align: middle;\n",
       "    }\n",
       "\n",
       "    .dataframe tbody tr th {\n",
       "        vertical-align: top;\n",
       "    }\n",
       "\n",
       "    .dataframe thead th {\n",
       "        text-align: right;\n",
       "    }\n",
       "</style>\n",
       "<table border=\"1\" class=\"dataframe\">\n",
       "  <thead>\n",
       "    <tr style=\"text-align: right;\">\n",
       "      <th></th>\n",
       "      <th>Price</th>\n",
       "      <th>block_reward</th>\n",
       "    </tr>\n",
       "    <tr>\n",
       "      <th>Date</th>\n",
       "      <th></th>\n",
       "      <th></th>\n",
       "    </tr>\n",
       "  </thead>\n",
       "  <tbody>\n",
       "    <tr>\n",
       "      <th>2017-11-09</th>\n",
       "      <td>7342.82375</td>\n",
       "      <td>12.5</td>\n",
       "    </tr>\n",
       "    <tr>\n",
       "      <th>2017-11-10</th>\n",
       "      <td>7250.77000</td>\n",
       "      <td>12.5</td>\n",
       "    </tr>\n",
       "    <tr>\n",
       "      <th>2017-11-11</th>\n",
       "      <td>6773.69500</td>\n",
       "      <td>12.5</td>\n",
       "    </tr>\n",
       "    <tr>\n",
       "      <th>2017-11-12</th>\n",
       "      <td>6075.30125</td>\n",
       "      <td>12.5</td>\n",
       "    </tr>\n",
       "    <tr>\n",
       "      <th>2017-11-13</th>\n",
       "      <td>5969.13000</td>\n",
       "      <td>12.5</td>\n",
       "    </tr>\n",
       "  </tbody>\n",
       "</table>\n",
       "</div>"
      ],
      "text/plain": [
       "                 Price block_reward\n",
       "Date                               \n",
       "2017-11-09  7342.82375         12.5\n",
       "2017-11-10  7250.77000         12.5\n",
       "2017-11-11  6773.69500         12.5\n",
       "2017-11-12  6075.30125         12.5\n",
       "2017-11-13  5969.13000         12.5"
      ]
     },
     "execution_count": 87,
     "metadata": {},
     "output_type": "execute_result"
    }
   ],
   "source": [
    "# Checking 5 mid values\n",
    "bitcoin_prices_block[1500:1505]"
   ]
  },
  {
   "cell_type": "code",
   "execution_count": 88,
   "metadata": {},
   "outputs": [
    {
     "data": {
      "text/html": [
       "<div>\n",
       "<style scoped>\n",
       "    .dataframe tbody tr th:only-of-type {\n",
       "        vertical-align: middle;\n",
       "    }\n",
       "\n",
       "    .dataframe tbody tr th {\n",
       "        vertical-align: top;\n",
       "    }\n",
       "\n",
       "    .dataframe thead th {\n",
       "        text-align: right;\n",
       "    }\n",
       "</style>\n",
       "<table border=\"1\" class=\"dataframe\">\n",
       "  <thead>\n",
       "    <tr style=\"text-align: right;\">\n",
       "      <th></th>\n",
       "      <th>Price</th>\n",
       "      <th>block_reward</th>\n",
       "    </tr>\n",
       "    <tr>\n",
       "      <th>Date</th>\n",
       "      <th></th>\n",
       "      <th></th>\n",
       "    </tr>\n",
       "  </thead>\n",
       "  <tbody>\n",
       "    <tr>\n",
       "      <th>2021-05-14</th>\n",
       "      <td>49764.132082</td>\n",
       "      <td>6.25</td>\n",
       "    </tr>\n",
       "    <tr>\n",
       "      <th>2021-05-15</th>\n",
       "      <td>50032.693137</td>\n",
       "      <td>6.25</td>\n",
       "    </tr>\n",
       "    <tr>\n",
       "      <th>2021-05-16</th>\n",
       "      <td>47885.625255</td>\n",
       "      <td>6.25</td>\n",
       "    </tr>\n",
       "    <tr>\n",
       "      <th>2021-05-17</th>\n",
       "      <td>45604.615754</td>\n",
       "      <td>6.25</td>\n",
       "    </tr>\n",
       "    <tr>\n",
       "      <th>2021-05-18</th>\n",
       "      <td>43144.471291</td>\n",
       "      <td>6.25</td>\n",
       "    </tr>\n",
       "  </tbody>\n",
       "</table>\n",
       "</div>"
      ],
      "text/plain": [
       "                   Price block_reward\n",
       "Date                                 \n",
       "2021-05-14  49764.132082         6.25\n",
       "2021-05-15  50032.693137         6.25\n",
       "2021-05-16  47885.625255         6.25\n",
       "2021-05-17  45604.615754         6.25\n",
       "2021-05-18  43144.471291         6.25"
      ]
     },
     "execution_count": 88,
     "metadata": {},
     "output_type": "execute_result"
    }
   ],
   "source": [
    "# Checking last 5 values\n",
    "bitcoin_prices_block.tail()"
   ]
  },
  {
   "cell_type": "code",
   "execution_count": 89,
   "metadata": {},
   "outputs": [
    {
     "data": {
      "text/plain": [
       "<AxesSubplot:xlabel='Date'>"
      ]
     },
     "execution_count": 89,
     "metadata": {},
     "output_type": "execute_result"
    },
    {
     "data": {
      "image/png": "[encoded data removed]",
      "text/plain": [
       "<Figure size 720x504 with 1 Axes>"
      ]
     },
     "metadata": {
      "needs_background": "light"
     },
     "output_type": "display_data"
    }
   ],
   "source": [
    "# Plotting block reward vs price over time\n",
    "from sklearn.preprocessing import minmax_scale\n",
    "\n",
    "scaled_price_block_df = pd.DataFrame(\n",
    "    minmax_scale(bitcoin_prices_block[[\"Price\", \"block_reward\"]]),\n",
    "    columns=bitcoin_prices_block.columns,\n",
    "    index=bitcoin_prices_block.index\n",
    ")\n",
    "scaled_price_block_df.plot(figsize=(10, 7))"
   ]
  },
  {
   "attachments": {},
   "cell_type": "markdown",
   "metadata": {},
   "source": [
    "### Creating windowed multi-variate dataset with pandas"
   ]
  },
  {
   "cell_type": "code",
   "execution_count": 90,
   "metadata": {},
   "outputs": [],
   "source": [
    "# Setting up hyperparameters\n",
    "HORIZON = 1\n",
    "WINDOW_SIZE = 7"
   ]
  },
  {
   "cell_type": "code",
   "execution_count": 91,
   "metadata": {},
   "outputs": [
    {
     "data": {
      "text/html": [
       "<div>\n",
       "<style scoped>\n",
       "    .dataframe tbody tr th:only-of-type {\n",
       "        vertical-align: middle;\n",
       "    }\n",
       "\n",
       "    .dataframe tbody tr th {\n",
       "        vertical-align: top;\n",
       "    }\n",
       "\n",
       "    .dataframe thead th {\n",
       "        text-align: right;\n",
       "    }\n",
       "</style>\n",
       "<table border=\"1\" class=\"dataframe\">\n",
       "  <thead>\n",
       "    <tr style=\"text-align: right;\">\n",
       "      <th></th>\n",
       "      <th>Price</th>\n",
       "      <th>block_reward</th>\n",
       "      <th>Price+1</th>\n",
       "      <th>Price+2</th>\n",
       "      <th>Price+3</th>\n",
       "      <th>Price+4</th>\n",
       "      <th>Price+5</th>\n",
       "      <th>Price+6</th>\n",
       "      <th>Price+7</th>\n",
       "    </tr>\n",
       "    <tr>\n",
       "      <th>Date</th>\n",
       "      <th></th>\n",
       "      <th></th>\n",
       "      <th></th>\n",
       "      <th></th>\n",
       "      <th></th>\n",
       "      <th></th>\n",
       "      <th></th>\n",
       "      <th></th>\n",
       "      <th></th>\n",
       "    </tr>\n",
       "  </thead>\n",
       "  <tbody>\n",
       "    <tr>\n",
       "      <th>2013-10-01</th>\n",
       "      <td>123.65499</td>\n",
       "      <td>25</td>\n",
       "      <td>NaN</td>\n",
       "      <td>NaN</td>\n",
       "      <td>NaN</td>\n",
       "      <td>NaN</td>\n",
       "      <td>NaN</td>\n",
       "      <td>NaN</td>\n",
       "      <td>NaN</td>\n",
       "    </tr>\n",
       "    <tr>\n",
       "      <th>2013-10-02</th>\n",
       "      <td>125.45500</td>\n",
       "      <td>25</td>\n",
       "      <td>123.65499</td>\n",
       "      <td>NaN</td>\n",
       "      <td>NaN</td>\n",
       "      <td>NaN</td>\n",
       "      <td>NaN</td>\n",
       "      <td>NaN</td>\n",
       "      <td>NaN</td>\n",
       "    </tr>\n",
       "    <tr>\n",
       "      <th>2013-10-03</th>\n",
       "      <td>108.58483</td>\n",
       "      <td>25</td>\n",
       "      <td>125.45500</td>\n",
       "      <td>123.65499</td>\n",
       "      <td>NaN</td>\n",
       "      <td>NaN</td>\n",
       "      <td>NaN</td>\n",
       "      <td>NaN</td>\n",
       "      <td>NaN</td>\n",
       "    </tr>\n",
       "    <tr>\n",
       "      <th>2013-10-04</th>\n",
       "      <td>118.67466</td>\n",
       "      <td>25</td>\n",
       "      <td>108.58483</td>\n",
       "      <td>125.45500</td>\n",
       "      <td>123.65499</td>\n",
       "      <td>NaN</td>\n",
       "      <td>NaN</td>\n",
       "      <td>NaN</td>\n",
       "      <td>NaN</td>\n",
       "    </tr>\n",
       "    <tr>\n",
       "      <th>2013-10-05</th>\n",
       "      <td>121.33866</td>\n",
       "      <td>25</td>\n",
       "      <td>118.67466</td>\n",
       "      <td>108.58483</td>\n",
       "      <td>125.45500</td>\n",
       "      <td>123.65499</td>\n",
       "      <td>NaN</td>\n",
       "      <td>NaN</td>\n",
       "      <td>NaN</td>\n",
       "    </tr>\n",
       "    <tr>\n",
       "      <th>2013-10-06</th>\n",
       "      <td>120.65533</td>\n",
       "      <td>25</td>\n",
       "      <td>121.33866</td>\n",
       "      <td>118.67466</td>\n",
       "      <td>108.58483</td>\n",
       "      <td>125.45500</td>\n",
       "      <td>123.65499</td>\n",
       "      <td>NaN</td>\n",
       "      <td>NaN</td>\n",
       "    </tr>\n",
       "    <tr>\n",
       "      <th>2013-10-07</th>\n",
       "      <td>121.79500</td>\n",
       "      <td>25</td>\n",
       "      <td>120.65533</td>\n",
       "      <td>121.33866</td>\n",
       "      <td>118.67466</td>\n",
       "      <td>108.58483</td>\n",
       "      <td>125.45500</td>\n",
       "      <td>123.65499</td>\n",
       "      <td>NaN</td>\n",
       "    </tr>\n",
       "    <tr>\n",
       "      <th>2013-10-08</th>\n",
       "      <td>123.03300</td>\n",
       "      <td>25</td>\n",
       "      <td>121.79500</td>\n",
       "      <td>120.65533</td>\n",
       "      <td>121.33866</td>\n",
       "      <td>118.67466</td>\n",
       "      <td>108.58483</td>\n",
       "      <td>125.45500</td>\n",
       "      <td>123.65499</td>\n",
       "    </tr>\n",
       "    <tr>\n",
       "      <th>2013-10-09</th>\n",
       "      <td>124.04900</td>\n",
       "      <td>25</td>\n",
       "      <td>123.03300</td>\n",
       "      <td>121.79500</td>\n",
       "      <td>120.65533</td>\n",
       "      <td>121.33866</td>\n",
       "      <td>118.67466</td>\n",
       "      <td>108.58483</td>\n",
       "      <td>125.45500</td>\n",
       "    </tr>\n",
       "    <tr>\n",
       "      <th>2013-10-10</th>\n",
       "      <td>125.96116</td>\n",
       "      <td>25</td>\n",
       "      <td>124.04900</td>\n",
       "      <td>123.03300</td>\n",
       "      <td>121.79500</td>\n",
       "      <td>120.65533</td>\n",
       "      <td>121.33866</td>\n",
       "      <td>118.67466</td>\n",
       "      <td>108.58483</td>\n",
       "    </tr>\n",
       "  </tbody>\n",
       "</table>\n",
       "</div>"
      ],
      "text/plain": [
       "                Price block_reward    Price+1    Price+2    Price+3  \\\n",
       "Date                                                                  \n",
       "2013-10-01  123.65499           25        NaN        NaN        NaN   \n",
       "2013-10-02  125.45500           25  123.65499        NaN        NaN   \n",
       "2013-10-03  108.58483           25  125.45500  123.65499        NaN   \n",
       "2013-10-04  118.67466           25  108.58483  125.45500  123.65499   \n",
       "2013-10-05  121.33866           25  118.67466  108.58483  125.45500   \n",
       "2013-10-06  120.65533           25  121.33866  118.67466  108.58483   \n",
       "2013-10-07  121.79500           25  120.65533  121.33866  118.67466   \n",
       "2013-10-08  123.03300           25  121.79500  120.65533  121.33866   \n",
       "2013-10-09  124.04900           25  123.03300  121.79500  120.65533   \n",
       "2013-10-10  125.96116           25  124.04900  123.03300  121.79500   \n",
       "\n",
       "              Price+4    Price+5    Price+6    Price+7  \n",
       "Date                                                    \n",
       "2013-10-01        NaN        NaN        NaN        NaN  \n",
       "2013-10-02        NaN        NaN        NaN        NaN  \n",
       "2013-10-03        NaN        NaN        NaN        NaN  \n",
       "2013-10-04        NaN        NaN        NaN        NaN  \n",
       "2013-10-05  123.65499        NaN        NaN        NaN  \n",
       "2013-10-06  125.45500  123.65499        NaN        NaN  \n",
       "2013-10-07  108.58483  125.45500  123.65499        NaN  \n",
       "2013-10-08  118.67466  108.58483  125.45500  123.65499  \n",
       "2013-10-09  121.33866  118.67466  108.58483  125.45500  \n",
       "2013-10-10  120.65533  121.33866  118.67466  108.58483  "
      ]
     },
     "execution_count": 91,
     "metadata": {},
     "output_type": "execute_result"
    }
   ],
   "source": [
    "# Making a copy of Bitcoin dataset\n",
    "bitcoin_prices_windowed = bitcoin_prices_block.copy()\n",
    "\n",
    "# Adding windowed column\n",
    "for i in range(WINDOW_SIZE):\n",
    "    bitcoin_prices_windowed[f\"Price+{i + 1}\"] = bitcoin_prices_windowed[\"Price\"].shift(periods=i+1)\n",
    "\n",
    "bitcoin_prices_windowed.head(10)"
   ]
  },
  {
   "cell_type": "code",
   "execution_count": 92,
   "metadata": {},
   "outputs": [
    {
     "data": {
      "text/plain": [
       "(            block_reward     Price+1     Price+2     Price+3     Price+4  \\\n",
       " Date                                                                       \n",
       " 2013-10-08          25.0  121.794998  120.655327  121.338661  118.674660   \n",
       " 2013-10-09          25.0  123.032997  121.794998  120.655327  121.338661   \n",
       " 2013-10-10          25.0  124.049004  123.032997  121.794998  120.655327   \n",
       " 2013-10-11          25.0  125.961159  124.049004  123.032997  121.794998   \n",
       " 2013-10-12          25.0  125.279663  125.961159  124.049004  123.032997   \n",
       " \n",
       "                Price+5     Price+6     Price+7  \n",
       " Date                                            \n",
       " 2013-10-08  108.584831  125.455002  123.654991  \n",
       " 2013-10-09  118.674660  108.584831  125.455002  \n",
       " 2013-10-10  121.338661  118.674660  108.584831  \n",
       " 2013-10-11  120.655327  121.338661  118.674660  \n",
       " 2013-10-12  121.794998  120.655327  121.338661  ,\n",
       " Date\n",
       " 2013-10-08    123.032997\n",
       " 2013-10-09    124.049004\n",
       " 2013-10-10    125.961159\n",
       " 2013-10-11    125.279663\n",
       " 2013-10-12    125.927498\n",
       " Name: Price, dtype: float32)"
      ]
     },
     "execution_count": 92,
     "metadata": {},
     "output_type": "execute_result"
    }
   ],
   "source": [
    "# Creating X (windows) and y (horizon)\n",
    "X = bitcoin_prices_windowed.dropna().drop(\"Price\", axis=1).astype(np.float32)\n",
    "y = bitcoin_prices_windowed.dropna()[\"Price\"].astype(np.float32)\n",
    "\n",
    "X.head(), y.head()"
   ]
  },
  {
   "cell_type": "code",
   "execution_count": 93,
   "metadata": {},
   "outputs": [
    {
     "data": {
      "text/plain": [
       "(2224, 2224, 556, 556)"
      ]
     },
     "execution_count": 93,
     "metadata": {},
     "output_type": "execute_result"
    }
   ],
   "source": [
    "# Making train and test sets, using indexing\n",
    "split_size = int(len(X) * 0.8)\n",
    "\n",
    "X_train, y_train = X[:split_size], y[:split_size]\n",
    "X_test, y_test = X[split_size:], y[split_size:]\n",
    "\n",
    "len(X_train), len(y_train), len(X_test), len(y_test)"
   ]
  },
  {
   "attachments": {},
   "cell_type": "markdown",
   "metadata": {},
   "source": [
    "### Model 6 - Dense (multivariate time series)"
   ]
  },
  {
   "cell_type": "code",
   "execution_count": 94,
   "metadata": {},
   "outputs": [
    {
     "name": "stdout",
     "output_type": "stream",
     "text": [
      "Epoch 1/100\n",
      " 9/18 [==============>...............] - ETA: 0s - loss: 2848.0286 INFO:tensorflow:Assets written to: model_experiments\\model_6_dense_multivariate\\assets\n"
     ]
    },
    {
     "name": "stderr",
     "output_type": "stream",
     "text": [
      "INFO:tensorflow:Assets written to: model_experiments\\model_6_dense_multivariate\\assets\n"
     ]
    },
    {
     "name": "stdout",
     "output_type": "stream",
     "text": [
      "18/18 [==============================] - 3s 105ms/step - loss: 2099.7927 - val_loss: 2236.8638\n",
      "Epoch 2/100\n",
      "12/18 [===================>..........] - ETA: 0s - loss: 425.8603INFO:tensorflow:Assets written to: model_experiments\\model_6_dense_multivariate\\assets\n"
     ]
    },
    {
     "name": "stderr",
     "output_type": "stream",
     "text": [
      "INFO:tensorflow:Assets written to: model_experiments\\model_6_dense_multivariate\\assets\n"
     ]
    },
    {
     "name": "stdout",
     "output_type": "stream",
     "text": [
      "18/18 [==============================] - 1s 85ms/step - loss: 386.1429 - val_loss: 1605.7323\n",
      "Epoch 3/100\n",
      "11/18 [=================>............] - ETA: 0s - loss: 279.2342INFO:tensorflow:Assets written to: model_experiments\\model_6_dense_multivariate\\assets\n"
     ]
    },
    {
     "name": "stderr",
     "output_type": "stream",
     "text": [
      "INFO:tensorflow:Assets written to: model_experiments\\model_6_dense_multivariate\\assets\n"
     ]
    },
    {
     "name": "stdout",
     "output_type": "stream",
     "text": [
      "18/18 [==============================] - 2s 91ms/step - loss: 264.7799 - val_loss: 1269.3788\n",
      "Epoch 4/100\n",
      "10/18 [===============>..............] - ETA: 0s - loss: 247.4397INFO:tensorflow:Assets written to: model_experiments\\model_6_dense_multivariate\\assets\n"
     ]
    },
    {
     "name": "stderr",
     "output_type": "stream",
     "text": [
      "INFO:tensorflow:Assets written to: model_experiments\\model_6_dense_multivariate\\assets\n"
     ]
    },
    {
     "name": "stdout",
     "output_type": "stream",
     "text": [
      "18/18 [==============================] - 2s 95ms/step - loss: 228.4638 - val_loss: 1231.9993\n",
      "Epoch 5/100\n",
      "12/18 [===================>..........] - ETA: 0s - loss: 231.4154INFO:tensorflow:Assets written to: model_experiments\\model_6_dense_multivariate\\assets\n"
     ]
    },
    {
     "name": "stderr",
     "output_type": "stream",
     "text": [
      "INFO:tensorflow:Assets written to: model_experiments\\model_6_dense_multivariate\\assets\n"
     ]
    },
    {
     "name": "stdout",
     "output_type": "stream",
     "text": [
      "18/18 [==============================] - 2s 101ms/step - loss: 219.3212 - val_loss: 1199.5696\n",
      "Epoch 6/100\n",
      "18/18 [==============================] - 0s 13ms/step - loss: 217.1680 - val_loss: 1206.1488\n",
      "Epoch 7/100\n",
      "17/18 [===========================>..] - ETA: 0s - loss: 215.6859INFO:tensorflow:Assets written to: model_experiments\\model_6_dense_multivariate\\assets\n"
     ]
    },
    {
     "name": "stderr",
     "output_type": "stream",
     "text": [
      "INFO:tensorflow:Assets written to: model_experiments\\model_6_dense_multivariate\\assets\n"
     ]
    },
    {
     "name": "stdout",
     "output_type": "stream",
     "text": [
      "18/18 [==============================] - 2s 133ms/step - loss: 214.8657 - val_loss: 1146.0688\n",
      "Epoch 8/100\n",
      "18/18 [==============================] - 0s 12ms/step - loss: 203.7583 - val_loss: 1151.0063\n",
      "Epoch 9/100\n",
      "11/18 [=================>............] - ETA: 0s - loss: 195.1973INFO:tensorflow:Assets written to: model_experiments\\model_6_dense_multivariate\\assets\n"
     ]
    },
    {
     "name": "stderr",
     "output_type": "stream",
     "text": [
      "INFO:tensorflow:Assets written to: model_experiments\\model_6_dense_multivariate\\assets\n"
     ]
    },
    {
     "name": "stdout",
     "output_type": "stream",
     "text": [
      "18/18 [==============================] - 2s 102ms/step - loss: 198.3214 - val_loss: 1140.5519\n",
      "Epoch 10/100\n",
      "12/18 [===================>..........] - ETA: 0s - loss: 188.0862INFO:tensorflow:Assets written to: model_experiments\\model_6_dense_multivariate\\assets\n"
     ]
    },
    {
     "name": "stderr",
     "output_type": "stream",
     "text": [
      "INFO:tensorflow:Assets written to: model_experiments\\model_6_dense_multivariate\\assets\n"
     ]
    },
    {
     "name": "stdout",
     "output_type": "stream",
     "text": [
      "18/18 [==============================] - 2s 101ms/step - loss: 194.3088 - val_loss: 1086.1311\n",
      "Epoch 11/100\n",
      "10/18 [===============>..............] - ETA: 0s - loss: 191.1190INFO:tensorflow:Assets written to: model_experiments\\model_6_dense_multivariate\\assets\n"
     ]
    },
    {
     "name": "stderr",
     "output_type": "stream",
     "text": [
      "INFO:tensorflow:Assets written to: model_experiments\\model_6_dense_multivariate\\assets\n"
     ]
    },
    {
     "name": "stdout",
     "output_type": "stream",
     "text": [
      "18/18 [==============================] - 2s 90ms/step - loss: 189.4281 - val_loss: 1038.9829\n",
      "Epoch 12/100\n",
      "18/18 [==============================] - 0s 18ms/step - loss: 185.2902 - val_loss: 1086.5350\n",
      "Epoch 13/100\n",
      " 9/18 [==============>...............] - ETA: 0s - loss: 178.9647INFO:tensorflow:Assets written to: model_experiments\\model_6_dense_multivariate\\assets\n"
     ]
    },
    {
     "name": "stderr",
     "output_type": "stream",
     "text": [
      "INFO:tensorflow:Assets written to: model_experiments\\model_6_dense_multivariate\\assets\n"
     ]
    },
    {
     "name": "stdout",
     "output_type": "stream",
     "text": [
      "18/18 [==============================] - 2s 96ms/step - loss: 179.4962 - val_loss: 1020.5618\n",
      "Epoch 14/100\n",
      "13/18 [====================>.........] - ETA: 0s - loss: 172.2669INFO:tensorflow:Assets written to: model_experiments\\model_6_dense_multivariate\\assets\n"
     ]
    },
    {
     "name": "stderr",
     "output_type": "stream",
     "text": [
      "INFO:tensorflow:Assets written to: model_experiments\\model_6_dense_multivariate\\assets\n"
     ]
    },
    {
     "name": "stdout",
     "output_type": "stream",
     "text": [
      "18/18 [==============================] - 2s 91ms/step - loss: 173.6480 - val_loss: 970.8685\n",
      "Epoch 15/100\n",
      "18/18 [==============================] - 0s 12ms/step - loss: 172.3188 - val_loss: 1010.1102\n",
      "Epoch 16/100\n",
      "11/18 [=================>............] - ETA: 0s - loss: 168.3329INFO:tensorflow:Assets written to: model_experiments\\model_6_dense_multivariate\\assets\n"
     ]
    },
    {
     "name": "stderr",
     "output_type": "stream",
     "text": [
      "INFO:tensorflow:Assets written to: model_experiments\\model_6_dense_multivariate\\assets\n"
     ]
    },
    {
     "name": "stdout",
     "output_type": "stream",
     "text": [
      "18/18 [==============================] - 2s 98ms/step - loss: 166.2156 - val_loss: 911.6099\n",
      "Epoch 17/100\n",
      "18/18 [==============================] - 0s 9ms/step - loss: 160.2011 - val_loss: 919.9204\n",
      "Epoch 18/100\n",
      "18/18 [==============================] - 0s 12ms/step - loss: 155.9961 - val_loss: 932.9349\n",
      "Epoch 19/100\n",
      "13/18 [====================>.........] - ETA: 0s - loss: 156.9882INFO:tensorflow:Assets written to: model_experiments\\model_6_dense_multivariate\\assets\n"
     ]
    },
    {
     "name": "stderr",
     "output_type": "stream",
     "text": [
      "INFO:tensorflow:Assets written to: model_experiments\\model_6_dense_multivariate\\assets\n"
     ]
    },
    {
     "name": "stdout",
     "output_type": "stream",
     "text": [
      "18/18 [==============================] - 2s 92ms/step - loss: 151.9832 - val_loss: 832.7474\n",
      "Epoch 20/100\n",
      "14/18 [======================>.......] - ETA: 0s - loss: 151.2543INFO:tensorflow:Assets written to: model_experiments\\model_6_dense_multivariate\\assets\n"
     ]
    },
    {
     "name": "stderr",
     "output_type": "stream",
     "text": [
      "INFO:tensorflow:Assets written to: model_experiments\\model_6_dense_multivariate\\assets\n"
     ]
    },
    {
     "name": "stdout",
     "output_type": "stream",
     "text": [
      "18/18 [==============================] - 2s 128ms/step - loss: 148.8065 - val_loss: 809.5186\n",
      "Epoch 21/100\n",
      "10/18 [===============>..............] - ETA: 0s - loss: 154.6238INFO:tensorflow:Assets written to: model_experiments\\model_6_dense_multivariate\\assets\n"
     ]
    },
    {
     "name": "stderr",
     "output_type": "stream",
     "text": [
      "INFO:tensorflow:Assets written to: model_experiments\\model_6_dense_multivariate\\assets\n"
     ]
    },
    {
     "name": "stdout",
     "output_type": "stream",
     "text": [
      "18/18 [==============================] - 2s 108ms/step - loss: 145.7016 - val_loss: 779.7197\n",
      "Epoch 22/100\n",
      "11/18 [=================>............] - ETA: 0s - loss: 152.4071INFO:tensorflow:Assets written to: model_experiments\\model_6_dense_multivariate\\assets\n"
     ]
    },
    {
     "name": "stderr",
     "output_type": "stream",
     "text": [
      "INFO:tensorflow:Assets written to: model_experiments\\model_6_dense_multivariate\\assets\n"
     ]
    },
    {
     "name": "stdout",
     "output_type": "stream",
     "text": [
      "18/18 [==============================] - 2s 90ms/step - loss: 141.4644 - val_loss: 760.1921\n",
      "Epoch 23/100\n",
      " 9/18 [==============>...............] - ETA: 0s - loss: 138.5073INFO:tensorflow:Assets written to: model_experiments\\model_6_dense_multivariate\\assets\n"
     ]
    },
    {
     "name": "stderr",
     "output_type": "stream",
     "text": [
      "INFO:tensorflow:Assets written to: model_experiments\\model_6_dense_multivariate\\assets\n"
     ]
    },
    {
     "name": "stdout",
     "output_type": "stream",
     "text": [
      "18/18 [==============================] - 2s 93ms/step - loss: 136.1311 - val_loss: 745.1630\n",
      "Epoch 24/100\n",
      "14/18 [======================>.......] - ETA: 0s - loss: 134.4038INFO:tensorflow:Assets written to: model_experiments\\model_6_dense_multivariate\\assets\n"
     ]
    },
    {
     "name": "stderr",
     "output_type": "stream",
     "text": [
      "INFO:tensorflow:Assets written to: model_experiments\\model_6_dense_multivariate\\assets\n"
     ]
    },
    {
     "name": "stdout",
     "output_type": "stream",
     "text": [
      "18/18 [==============================] - 1s 84ms/step - loss: 133.6126 - val_loss: 725.7317\n",
      "Epoch 25/100\n",
      "10/18 [===============>..............] - ETA: 0s - loss: 138.0040INFO:tensorflow:Assets written to: model_experiments\\model_6_dense_multivariate\\assets\n"
     ]
    },
    {
     "name": "stderr",
     "output_type": "stream",
     "text": [
      "INFO:tensorflow:Assets written to: model_experiments\\model_6_dense_multivariate\\assets\n"
     ]
    },
    {
     "name": "stdout",
     "output_type": "stream",
     "text": [
      "18/18 [==============================] - 2s 92ms/step - loss: 130.0451 - val_loss: 712.0466\n",
      "Epoch 26/100\n",
      "12/18 [===================>..........] - ETA: 0s - loss: 130.7391INFO:tensorflow:Assets written to: model_experiments\\model_6_dense_multivariate\\assets\n"
     ]
    },
    {
     "name": "stderr",
     "output_type": "stream",
     "text": [
      "INFO:tensorflow:Assets written to: model_experiments\\model_6_dense_multivariate\\assets\n"
     ]
    },
    {
     "name": "stdout",
     "output_type": "stream",
     "text": [
      "18/18 [==============================] - 2s 88ms/step - loss: 130.4211 - val_loss: 701.5621\n",
      "Epoch 27/100\n",
      " 9/18 [==============>...............] - ETA: 0s - loss: 131.5886INFO:tensorflow:Assets written to: model_experiments\\model_6_dense_multivariate\\assets\n"
     ]
    },
    {
     "name": "stderr",
     "output_type": "stream",
     "text": [
      "INFO:tensorflow:Assets written to: model_experiments\\model_6_dense_multivariate\\assets\n"
     ]
    },
    {
     "name": "stdout",
     "output_type": "stream",
     "text": [
      "18/18 [==============================] - 2s 95ms/step - loss: 127.3518 - val_loss: 684.8080\n",
      "Epoch 28/100\n",
      "13/18 [====================>.........] - ETA: 0s - loss: 123.7045INFO:tensorflow:Assets written to: model_experiments\\model_6_dense_multivariate\\assets\n"
     ]
    },
    {
     "name": "stderr",
     "output_type": "stream",
     "text": [
      "INFO:tensorflow:Assets written to: model_experiments\\model_6_dense_multivariate\\assets\n"
     ]
    },
    {
     "name": "stdout",
     "output_type": "stream",
     "text": [
      "18/18 [==============================] - 2s 100ms/step - loss: 123.9828 - val_loss: 673.3837\n",
      "Epoch 29/100\n",
      "18/18 [==============================] - 0s 11ms/step - loss: 122.5345 - val_loss: 679.8759\n",
      "Epoch 30/100\n",
      "18/18 [==============================] - 0s 10ms/step - loss: 127.9026 - val_loss: 819.9410\n",
      "Epoch 31/100\n",
      "18/18 [==============================] - 0s 12ms/step - loss: 138.1854 - val_loss: 870.8356\n",
      "Epoch 32/100\n",
      "10/18 [===============>..............] - ETA: 0s - loss: 137.0468INFO:tensorflow:Assets written to: model_experiments\\model_6_dense_multivariate\\assets\n"
     ]
    },
    {
     "name": "stderr",
     "output_type": "stream",
     "text": [
      "INFO:tensorflow:Assets written to: model_experiments\\model_6_dense_multivariate\\assets\n"
     ]
    },
    {
     "name": "stdout",
     "output_type": "stream",
     "text": [
      "18/18 [==============================] - 2s 93ms/step - loss: 133.9998 - val_loss: 671.9219\n",
      "Epoch 33/100\n",
      "12/18 [===================>..........] - ETA: 0s - loss: 123.8080INFO:tensorflow:Assets written to: model_experiments\\model_6_dense_multivariate\\assets\n"
     ]
    },
    {
     "name": "stderr",
     "output_type": "stream",
     "text": [
      "INFO:tensorflow:Assets written to: model_experiments\\model_6_dense_multivariate\\assets\n"
     ]
    },
    {
     "name": "stdout",
     "output_type": "stream",
     "text": [
      "18/18 [==============================] - 2s 128ms/step - loss: 122.6393 - val_loss: 659.1076\n",
      "Epoch 34/100\n",
      "12/18 [===================>..........] - ETA: 0s - loss: 123.0439INFO:tensorflow:Assets written to: model_experiments\\model_6_dense_multivariate\\assets\n"
     ]
    },
    {
     "name": "stderr",
     "output_type": "stream",
     "text": [
      "INFO:tensorflow:Assets written to: model_experiments\\model_6_dense_multivariate\\assets\n"
     ]
    },
    {
     "name": "stdout",
     "output_type": "stream",
     "text": [
      "18/18 [==============================] - 2s 101ms/step - loss: 119.1719 - val_loss: 629.9169\n",
      "Epoch 35/100\n",
      "12/18 [===================>..........] - ETA: 0s - loss: 119.3018INFO:tensorflow:Assets written to: model_experiments\\model_6_dense_multivariate\\assets\n"
     ]
    },
    {
     "name": "stderr",
     "output_type": "stream",
     "text": [
      "INFO:tensorflow:Assets written to: model_experiments\\model_6_dense_multivariate\\assets\n"
     ]
    },
    {
     "name": "stdout",
     "output_type": "stream",
     "text": [
      "18/18 [==============================] - 1s 86ms/step - loss: 116.3230 - val_loss: 626.0923\n",
      "Epoch 36/100\n",
      "18/18 [==============================] - 0s 10ms/step - loss: 123.2964 - val_loss: 689.8666\n",
      "Epoch 37/100\n",
      "11/18 [=================>............] - ETA: 0s - loss: 117.3633INFO:tensorflow:Assets written to: model_experiments\\model_6_dense_multivariate\\assets\n"
     ]
    },
    {
     "name": "stderr",
     "output_type": "stream",
     "text": [
      "INFO:tensorflow:Assets written to: model_experiments\\model_6_dense_multivariate\\assets\n"
     ]
    },
    {
     "name": "stdout",
     "output_type": "stream",
     "text": [
      "18/18 [==============================] - 1s 86ms/step - loss: 119.6888 - val_loss: 621.3253\n",
      "Epoch 38/100\n",
      " 8/18 [============>.................] - ETA: 0s - loss: 123.4006INFO:tensorflow:Assets written to: model_experiments\\model_6_dense_multivariate\\assets\n"
     ]
    },
    {
     "name": "stderr",
     "output_type": "stream",
     "text": [
      "INFO:tensorflow:Assets written to: model_experiments\\model_6_dense_multivariate\\assets\n"
     ]
    },
    {
     "name": "stdout",
     "output_type": "stream",
     "text": [
      "18/18 [==============================] - 2s 91ms/step - loss: 116.7362 - val_loss: 614.2278\n",
      "Epoch 39/100\n",
      "10/18 [===============>..............] - ETA: 0s - loss: 119.2162INFO:tensorflow:Assets written to: model_experiments\\model_6_dense_multivariate\\assets\n"
     ]
    },
    {
     "name": "stderr",
     "output_type": "stream",
     "text": [
      "INFO:tensorflow:Assets written to: model_experiments\\model_6_dense_multivariate\\assets\n"
     ]
    },
    {
     "name": "stdout",
     "output_type": "stream",
     "text": [
      "18/18 [==============================] - 2s 119ms/step - loss: 115.5390 - val_loss: 608.8814\n",
      "Epoch 40/100\n",
      "12/18 [===================>..........] - ETA: 0s - loss: 116.1286INFO:tensorflow:Assets written to: model_experiments\\model_6_dense_multivariate\\assets\n"
     ]
    },
    {
     "name": "stderr",
     "output_type": "stream",
     "text": [
      "INFO:tensorflow:Assets written to: model_experiments\\model_6_dense_multivariate\\assets\n"
     ]
    },
    {
     "name": "stdout",
     "output_type": "stream",
     "text": [
      "18/18 [==============================] - 2s 108ms/step - loss: 114.6789 - val_loss: 605.9465\n",
      "Epoch 41/100\n",
      "18/18 [==============================] - 0s 10ms/step - loss: 117.1034 - val_loss: 661.0579\n",
      "Epoch 42/100\n",
      "18/18 [==============================] - 0s 12ms/step - loss: 121.9747 - val_loss: 623.9106\n",
      "Epoch 43/100\n",
      "10/18 [===============>..............] - ETA: 0s - loss: 105.3915INFO:tensorflow:Assets written to: model_experiments\\model_6_dense_multivariate\\assets\n"
     ]
    },
    {
     "name": "stderr",
     "output_type": "stream",
     "text": [
      "INFO:tensorflow:Assets written to: model_experiments\\model_6_dense_multivariate\\assets\n"
     ]
    },
    {
     "name": "stdout",
     "output_type": "stream",
     "text": [
      "18/18 [==============================] - 2s 104ms/step - loss: 113.3082 - val_loss: 602.4951\n",
      "Epoch 44/100\n",
      " 9/18 [==============>...............] - ETA: 0s - loss: 112.0835INFO:tensorflow:Assets written to: model_experiments\\model_6_dense_multivariate\\assets\n"
     ]
    },
    {
     "name": "stderr",
     "output_type": "stream",
     "text": [
      "INFO:tensorflow:Assets written to: model_experiments\\model_6_dense_multivariate\\assets\n"
     ]
    },
    {
     "name": "stdout",
     "output_type": "stream",
     "text": [
      "18/18 [==============================] - 2s 98ms/step - loss: 112.6655 - val_loss: 598.5344\n",
      "Epoch 45/100\n",
      "18/18 [==============================] - 0s 11ms/step - loss: 113.1379 - val_loss: 603.0631\n",
      "Epoch 46/100\n",
      " 7/18 [==========>...................] - ETA: 0s - loss: 106.9144INFO:tensorflow:Assets written to: model_experiments\\model_6_dense_multivariate\\assets\n"
     ]
    },
    {
     "name": "stderr",
     "output_type": "stream",
     "text": [
      "INFO:tensorflow:Assets written to: model_experiments\\model_6_dense_multivariate\\assets\n"
     ]
    },
    {
     "name": "stdout",
     "output_type": "stream",
     "text": [
      "18/18 [==============================] - 2s 96ms/step - loss: 113.0096 - val_loss: 597.3164\n",
      "Epoch 47/100\n",
      "18/18 [==============================] - 0s 11ms/step - loss: 113.1863 - val_loss: 649.8302\n",
      "Epoch 48/100\n",
      "18/18 [==============================] - 0s 11ms/step - loss: 111.9756 - val_loss: 614.2849\n",
      "Epoch 49/100\n",
      "12/18 [===================>..........] - ETA: 0s - loss: 120.8530INFO:tensorflow:Assets written to: model_experiments\\model_6_dense_multivariate\\assets\n"
     ]
    },
    {
     "name": "stderr",
     "output_type": "stream",
     "text": [
      "INFO:tensorflow:Assets written to: model_experiments\\model_6_dense_multivariate\\assets\n"
     ]
    },
    {
     "name": "stdout",
     "output_type": "stream",
     "text": [
      "18/18 [==============================] - 1s 83ms/step - loss: 114.6557 - val_loss: 596.1214\n",
      "Epoch 50/100\n",
      "13/18 [====================>.........] - ETA: 0s - loss: 112.3264INFO:tensorflow:Assets written to: model_experiments\\model_6_dense_multivariate\\assets\n"
     ]
    },
    {
     "name": "stderr",
     "output_type": "stream",
     "text": [
      "INFO:tensorflow:Assets written to: model_experiments\\model_6_dense_multivariate\\assets\n"
     ]
    },
    {
     "name": "stdout",
     "output_type": "stream",
     "text": [
      "18/18 [==============================] - 2s 97ms/step - loss: 115.8007 - val_loss: 591.4818\n",
      "Epoch 51/100\n",
      "18/18 [==============================] - 0s 14ms/step - loss: 111.6293 - val_loss: 600.2963\n",
      "Epoch 52/100\n",
      "18/18 [==============================] - 0s 12ms/step - loss: 113.9542 - val_loss: 638.8628\n",
      "Epoch 53/100\n",
      "11/18 [=================>............] - ETA: 0s - loss: 118.6721INFO:tensorflow:Assets written to: model_experiments\\model_6_dense_multivariate\\assets\n"
     ]
    },
    {
     "name": "stderr",
     "output_type": "stream",
     "text": [
      "INFO:tensorflow:Assets written to: model_experiments\\model_6_dense_multivariate\\assets\n"
     ]
    },
    {
     "name": "stdout",
     "output_type": "stream",
     "text": [
      "18/18 [==============================] - 2s 89ms/step - loss: 120.1904 - val_loss: 583.8796\n",
      "Epoch 54/100\n",
      "18/18 [==============================] - 0s 12ms/step - loss: 118.4105 - val_loss: 644.7717\n",
      "Epoch 55/100\n",
      "18/18 [==============================] - 0s 12ms/step - loss: 112.8257 - val_loss: 586.2400\n",
      "Epoch 56/100\n",
      "18/18 [==============================] - 0s 12ms/step - loss: 112.1405 - val_loss: 827.2466\n",
      "Epoch 57/100\n",
      "18/18 [==============================] - 0s 12ms/step - loss: 133.1378 - val_loss: 710.5167\n",
      "Epoch 58/100\n",
      "18/18 [==============================] - 0s 12ms/step - loss: 123.5774 - val_loss: 646.1204\n",
      "Epoch 59/100\n",
      "18/18 [==============================] - 0s 12ms/step - loss: 111.3012 - val_loss: 597.3014\n",
      "Epoch 60/100\n",
      "18/18 [==============================] - 0s 12ms/step - loss: 112.3702 - val_loss: 600.0342\n",
      "Epoch 61/100\n",
      "18/18 [==============================] - 0s 11ms/step - loss: 110.9559 - val_loss: 600.0157\n",
      "Epoch 62/100\n",
      "18/18 [==============================] - 0s 13ms/step - loss: 110.6545 - val_loss: 585.6160\n",
      "Epoch 63/100\n",
      "10/18 [===============>..............] - ETA: 0s - loss: 118.5209INFO:tensorflow:Assets written to: model_experiments\\model_6_dense_multivariate\\assets\n"
     ]
    },
    {
     "name": "stderr",
     "output_type": "stream",
     "text": [
      "INFO:tensorflow:Assets written to: model_experiments\\model_6_dense_multivariate\\assets\n"
     ]
    },
    {
     "name": "stdout",
     "output_type": "stream",
     "text": [
      "18/18 [==============================] - 2s 107ms/step - loss: 110.7516 - val_loss: 583.7899\n",
      "Epoch 64/100\n",
      "18/18 [==============================] - 0s 11ms/step - loss: 111.2622 - val_loss: 632.7646\n",
      "Epoch 65/100\n",
      "10/18 [===============>..............] - ETA: 0s - loss: 117.7698INFO:tensorflow:Assets written to: model_experiments\\model_6_dense_multivariate\\assets\n"
     ]
    },
    {
     "name": "stderr",
     "output_type": "stream",
     "text": [
      "INFO:tensorflow:Assets written to: model_experiments\\model_6_dense_multivariate\\assets\n"
     ]
    },
    {
     "name": "stdout",
     "output_type": "stream",
     "text": [
      "18/18 [==============================] - 2s 110ms/step - loss: 116.5761 - val_loss: 580.7790\n",
      "Epoch 66/100\n",
      "18/18 [==============================] - 0s 16ms/step - loss: 114.7756 - val_loss: 596.5105\n",
      "Epoch 67/100\n",
      "18/18 [==============================] - 0s 12ms/step - loss: 108.9275 - val_loss: 600.9901\n",
      "Epoch 68/100\n",
      "18/18 [==============================] - 0s 12ms/step - loss: 113.0140 - val_loss: 697.8278\n",
      "Epoch 69/100\n",
      "18/18 [==============================] - 0s 11ms/step - loss: 126.7888 - val_loss: 738.3174\n",
      "Epoch 70/100\n",
      "18/18 [==============================] - 0s 12ms/step - loss: 120.9691 - val_loss: 601.3335\n",
      "Epoch 71/100\n",
      "16/18 [=========================>....] - ETA: 0s - loss: 108.9332INFO:tensorflow:Assets written to: model_experiments\\model_6_dense_multivariate\\assets\n"
     ]
    },
    {
     "name": "stderr",
     "output_type": "stream",
     "text": [
      "INFO:tensorflow:Assets written to: model_experiments\\model_6_dense_multivariate\\assets\n"
     ]
    },
    {
     "name": "stdout",
     "output_type": "stream",
     "text": [
      "18/18 [==============================] - 2s 128ms/step - loss: 111.4380 - val_loss: 580.2859\n",
      "Epoch 72/100\n",
      "12/18 [===================>..........] - ETA: 0s - loss: 107.6733INFO:tensorflow:Assets written to: model_experiments\\model_6_dense_multivariate\\assets\n"
     ]
    },
    {
     "name": "stderr",
     "output_type": "stream",
     "text": [
      "INFO:tensorflow:Assets written to: model_experiments\\model_6_dense_multivariate\\assets\n"
     ]
    },
    {
     "name": "stdout",
     "output_type": "stream",
     "text": [
      "18/18 [==============================] - 2s 108ms/step - loss: 110.0079 - val_loss: 572.4193\n",
      "Epoch 73/100\n",
      "18/18 [==============================] - 0s 11ms/step - loss: 109.8998 - val_loss: 594.1599\n",
      "Epoch 74/100\n",
      "18/18 [==============================] - 0s 12ms/step - loss: 110.1355 - val_loss: 573.4238\n",
      "Epoch 75/100\n",
      "18/18 [==============================] - 0s 12ms/step - loss: 108.5004 - val_loss: 598.9961\n",
      "Epoch 76/100\n",
      " 9/18 [==============>...............] - ETA: 0s - loss: 112.6787INFO:tensorflow:Assets written to: model_experiments\\model_6_dense_multivariate\\assets\n"
     ]
    },
    {
     "name": "stderr",
     "output_type": "stream",
     "text": [
      "INFO:tensorflow:Assets written to: model_experiments\\model_6_dense_multivariate\\assets\n"
     ]
    },
    {
     "name": "stdout",
     "output_type": "stream",
     "text": [
      "18/18 [==============================] - 3s 150ms/step - loss: 109.9594 - val_loss: 571.3864\n",
      "Epoch 77/100\n",
      "18/18 [==============================] - ETA: 0s - loss: 108.5914INFO:tensorflow:Assets written to: model_experiments\\model_6_dense_multivariate\\assets\n"
     ]
    },
    {
     "name": "stderr",
     "output_type": "stream",
     "text": [
      "INFO:tensorflow:Assets written to: model_experiments\\model_6_dense_multivariate\\assets\n"
     ]
    },
    {
     "name": "stdout",
     "output_type": "stream",
     "text": [
      "18/18 [==============================] - 2s 128ms/step - loss: 108.5914 - val_loss: 569.9584\n",
      "Epoch 78/100\n",
      "18/18 [==============================] - 0s 15ms/step - loss: 110.9714 - val_loss: 574.4366\n",
      "Epoch 79/100\n",
      "18/18 [==============================] - 0s 12ms/step - loss: 109.0065 - val_loss: 607.7411\n",
      "Epoch 80/100\n",
      "18/18 [==============================] - 0s 11ms/step - loss: 109.1255 - val_loss: 579.1640\n",
      "Epoch 81/100\n",
      "18/18 [==============================] - 0s 11ms/step - loss: 107.7085 - val_loss: 577.7421\n",
      "Epoch 82/100\n",
      "18/18 [==============================] - 0s 10ms/step - loss: 113.8236 - val_loss: 575.0449\n",
      "Epoch 83/100\n",
      "18/18 [==============================] - 0s 10ms/step - loss: 114.7613 - val_loss: 614.4243\n",
      "Epoch 84/100\n",
      "18/18 [==============================] - 0s 10ms/step - loss: 112.8737 - val_loss: 597.8017\n",
      "Epoch 85/100\n",
      "12/18 [===================>..........] - ETA: 0s - loss: 105.2570INFO:tensorflow:Assets written to: model_experiments\\model_6_dense_multivariate\\assets\n"
     ]
    },
    {
     "name": "stderr",
     "output_type": "stream",
     "text": [
      "INFO:tensorflow:Assets written to: model_experiments\\model_6_dense_multivariate\\assets\n"
     ]
    },
    {
     "name": "stdout",
     "output_type": "stream",
     "text": [
      "18/18 [==============================] - 2s 118ms/step - loss: 108.9402 - val_loss: 569.1376\n",
      "Epoch 86/100\n",
      "18/18 [==============================] - 0s 11ms/step - loss: 108.0436 - val_loss: 583.7851\n",
      "Epoch 87/100\n",
      "12/18 [===================>..........] - ETA: 0s - loss: 109.4527INFO:tensorflow:Assets written to: model_experiments\\model_6_dense_multivariate\\assets\n"
     ]
    },
    {
     "name": "stderr",
     "output_type": "stream",
     "text": [
      "INFO:tensorflow:Assets written to: model_experiments\\model_6_dense_multivariate\\assets\n"
     ]
    },
    {
     "name": "stdout",
     "output_type": "stream",
     "text": [
      "18/18 [==============================] - 1s 87ms/step - loss: 108.3174 - val_loss: 569.0511\n",
      "Epoch 88/100\n",
      "18/18 [==============================] - 0s 14ms/step - loss: 108.5212 - val_loss: 583.7620\n",
      "Epoch 89/100\n",
      "18/18 [==============================] - 0s 12ms/step - loss: 108.7705 - val_loss: 576.5714\n",
      "Epoch 90/100\n",
      "18/18 [==============================] - 0s 10ms/step - loss: 107.2212 - val_loss: 641.6903\n",
      "Epoch 91/100\n",
      "18/18 [==============================] - 0s 12ms/step - loss: 112.7525 - val_loss: 669.7443\n",
      "Epoch 92/100\n",
      "18/18 [==============================] - 0s 12ms/step - loss: 110.3406 - val_loss: 605.5231\n",
      "Epoch 93/100\n",
      "18/18 [==============================] - 0s 10ms/step - loss: 115.2363 - val_loss: 603.0984\n",
      "Epoch 94/100\n",
      "18/18 [==============================] - 0s 11ms/step - loss: 110.6776 - val_loss: 585.3369\n",
      "Epoch 95/100\n",
      "18/18 [==============================] - 0s 10ms/step - loss: 107.1137 - val_loss: 569.5852\n",
      "Epoch 96/100\n",
      "18/18 [==============================] - 0s 10ms/step - loss: 110.1282 - val_loss: 629.1989\n",
      "Epoch 97/100\n",
      "18/18 [==============================] - 0s 15ms/step - loss: 110.3984 - val_loss: 580.2747\n",
      "Epoch 98/100\n",
      "13/18 [====================>.........] - ETA: 0s - loss: 110.1004INFO:tensorflow:Assets written to: model_experiments\\model_6_dense_multivariate\\assets\n"
     ]
    },
    {
     "name": "stderr",
     "output_type": "stream",
     "text": [
      "INFO:tensorflow:Assets written to: model_experiments\\model_6_dense_multivariate\\assets\n"
     ]
    },
    {
     "name": "stdout",
     "output_type": "stream",
     "text": [
      "18/18 [==============================] - 2s 90ms/step - loss: 108.6357 - val_loss: 565.0036\n",
      "Epoch 99/100\n",
      "10/18 [===============>..............] - ETA: 0s - loss: 105.0793INFO:tensorflow:Assets written to: model_experiments\\model_6_dense_multivariate\\assets\n"
     ]
    },
    {
     "name": "stderr",
     "output_type": "stream",
     "text": [
      "INFO:tensorflow:Assets written to: model_experiments\\model_6_dense_multivariate\\assets\n"
     ]
    },
    {
     "name": "stdout",
     "output_type": "stream",
     "text": [
      "18/18 [==============================] - 2s 89ms/step - loss: 108.4296 - val_loss: 564.8008\n",
      "Epoch 100/100\n",
      "18/18 [==============================] - 0s 17ms/step - loss: 117.7840 - val_loss: 684.2319\n"
     ]
    }
   ],
   "source": [
    "# Making miultivariate tiem series model\n",
    "model_6 = tf.keras.Sequential([\n",
    "    tf.keras.layers.Dense(128, activation=\"relu\"),\n",
    "    tf.keras.layers.Dense(HORIZON)\n",
    "], name=\"model_6_dense_multivariate\")\n",
    "\n",
    "# Compiling the model\n",
    "model_6.compile(\n",
    "    loss=\"mae\",\n",
    "    optimizer=tf.keras.optimizers.Adam()\n",
    ")\n",
    "\n",
    "# Fitting the model\n",
    "history_6 = model_6.fit(\n",
    "    X_train, y_train,\n",
    "    epochs=100,\n",
    "    batch_size=128,\n",
    "    verbose=1,\n",
    "    validation_data=(X_test, y_test),\n",
    "    callbacks=[create_model_checkpoint(model_name=model_6.name)]\n",
    ")"
   ]
  },
  {
   "cell_type": "code",
   "execution_count": 95,
   "metadata": {},
   "outputs": [
    {
     "name": "stdout",
     "output_type": "stream",
     "text": [
      "18/18 [==============================] - 0s 6ms/step - loss: 684.2319\n"
     ]
    },
    {
     "data": {
      "text/plain": [
       "684.23193359375"
      ]
     },
     "execution_count": 95,
     "metadata": {},
     "output_type": "execute_result"
    }
   ],
   "source": [
    "# Ecaluating the model\n",
    "model_6.evaluate(X_test, y_test)"
   ]
  },
  {
   "cell_type": "code",
   "execution_count": 96,
   "metadata": {},
   "outputs": [
    {
     "name": "stdout",
     "output_type": "stream",
     "text": [
      "18/18 [==============================] - 1s 6ms/step - loss: 564.8008\n"
     ]
    },
    {
     "data": {
      "text/plain": [
       "564.8008422851562"
      ]
     },
     "execution_count": 96,
     "metadata": {},
     "output_type": "execute_result"
    }
   ],
   "source": [
    "# Loading the best performing model\n",
    "model_6 = tf.keras.models.load_model(\"model_experiments/model_6_dense_multivariate/\")\n",
    "model_6.evaluate(X_test, y_test)"
   ]
  },
  {
   "cell_type": "code",
   "execution_count": 97,
   "metadata": {},
   "outputs": [
    {
     "name": "stdout",
     "output_type": "stream",
     "text": [
      "18/18 [==============================] - 0s 4ms/step\n"
     ]
    },
    {
     "data": {
      "text/plain": [
       "<tf.Tensor: shape=(10,), dtype=float32, numpy=\n",
       "array([8860.395, 8799.91 , 9012.965, 8774.273, 8785.463, 8741.508,\n",
       "       8649.233, 8569.615, 8455.605, 8524.736], dtype=float32)>"
      ]
     },
     "execution_count": 97,
     "metadata": {},
     "output_type": "execute_result"
    }
   ],
   "source": [
    "# Making predictions with multivariate model\n",
    "model_6_preds = tf.squeeze(model_6.predict(X_test))\n",
    "model_6_preds[:10]"
   ]
  },
  {
   "cell_type": "code",
   "execution_count": 98,
   "metadata": {},
   "outputs": [
    {
     "data": {
      "text/plain": [
       "{'mae': 564.80084,\n",
       " 'mse': 1158373.5,\n",
       " 'rmse': 1076.2776,\n",
       " 'mape': 2.5276074,\n",
       " 'mase': 0.99219865}"
      ]
     },
     "execution_count": 98,
     "metadata": {},
     "output_type": "execute_result"
    }
   ],
   "source": [
    "# Evaluate predictions\n",
    "model_6_results = evaluate_preds(\n",
    "    y_true=y_test,\n",
    "    y_pred=model_6_preds\n",
    ")\n",
    "model_6_results"
   ]
  },
  {
   "attachments": {},
   "cell_type": "markdown",
   "metadata": {},
   "source": [
    "### Model 7 - N-BEATS algorithm"
   ]
  },
  {
   "cell_type": "code",
   "execution_count": 99,
   "metadata": {},
   "outputs": [],
   "source": [
    "# Creating NBeatBlock custom layer\n",
    "class NBeatBlock(tf.keras.layers.Layer):\n",
    "    def __init__(\n",
    "        self,\n",
    "        input_size: int,\n",
    "        theta_size: int,\n",
    "        horizon: int,\n",
    "        n_neurons: int,\n",
    "        n_layers: int,\n",
    "        **kwargs # Will take care of super class arguments\n",
    "    ):\n",
    "        super().__init__(**kwargs)\n",
    "        self.input_size = input_size\n",
    "        self.theta_size = theta_size\n",
    "        self.horizon = horizon\n",
    "        self.n_neurons = n_neurons\n",
    "        self.n_layers = n_layers\n",
    "\n",
    "        # Block contains stack of 4 fully connected layers, each with RELU activation\n",
    "        self.hidden = [tf.keras.layers.Dense(n_neurons, activation=\"relu\") for _ in range(n_layers)]\n",
    "\n",
    "        # Output of block is a theta layer with linear activation\n",
    "        self.theta_layer = tf.keras.layers.Dense(theta_size, activation=\"linear\", name=\"theta_layer\")\n",
    "\n",
    "    def call(self, inputs):\n",
    "        x = inputs\n",
    "        for layer in self.hidden:\n",
    "            x = layer(x)\n",
    "        theta = self.theta_layer(x)\n",
    "        # Output the backcast and the forecast from theta\n",
    "        backcast, forecast = theta[:, :self.input_size], theta[:, -self.horizon:]\n",
    "        return backcast, forecast\n"
   ]
  },
  {
   "cell_type": "code",
   "execution_count": 100,
   "metadata": {},
   "outputs": [],
   "source": [
    "# Setting up dummy NBeatsBlock layer to represent inputs and outputs\n",
    "dummy_nbeats_block_layer = NBeatBlock(\n",
    "    input_size=WINDOW_SIZE,\n",
    "    theta_size=WINDOW_SIZE+HORIZON,\n",
    "    horizon=HORIZON,\n",
    "    n_neurons=128,\n",
    "    n_layers=4\n",
    ")"
   ]
  },
  {
   "cell_type": "code",
   "execution_count": 101,
   "metadata": {},
   "outputs": [
    {
     "data": {
      "text/plain": [
       "<tf.Tensor: shape=(1, 7), dtype=int32, numpy=array([[1, 2, 3, 4, 5, 6, 7]])>"
      ]
     },
     "execution_count": 101,
     "metadata": {},
     "output_type": "execute_result"
    }
   ],
   "source": [
    "# Create dummy inputs (have to be the same size as input_size)\n",
    "dummy_inputs = tf.expand_dims(tf.range(WINDOW_SIZE) + 1, axis=0)\n",
    "dummy_inputs"
   ]
  },
  {
   "cell_type": "code",
   "execution_count": 102,
   "metadata": {},
   "outputs": [
    {
     "name": "stdout",
     "output_type": "stream",
     "text": [
      "Backcast: [-0.07150853 -0.2654615  -0.03238538 -0.5762915   0.7957612  -0.52186495\n",
      "  0.29127413]\n",
      "Forecast: 0.1551043689250946\n"
     ]
    }
   ],
   "source": [
    "# Pass dummy inputs to dummy NBeatsBlock layer\n",
    "backcast, forecast = dummy_nbeats_block_layer(dummy_inputs)\n",
    "print(f\"Backcast: {tf.squeeze(backcast.numpy())}\")\n",
    "print(f\"Forecast: {tf.squeeze(forecast.numpy())}\")"
   ]
  },
  {
   "attachments": {},
   "cell_type": "markdown",
   "metadata": {},
   "source": [
    "### Preparing data for N-BEATS algorithm with tf.data\n"
   ]
  },
  {
   "cell_type": "code",
   "execution_count": 103,
   "metadata": {},
   "outputs": [],
   "source": [
    "# Re-instating our constants\n",
    "HORIZON = 1\n",
    "WINDOW_SIZE = 7"
   ]
  },
  {
   "cell_type": "code",
   "execution_count": 104,
   "metadata": {},
   "outputs": [
    {
     "data": {
      "text/html": [
       "<div>\n",
       "<style scoped>\n",
       "    .dataframe tbody tr th:only-of-type {\n",
       "        vertical-align: middle;\n",
       "    }\n",
       "\n",
       "    .dataframe tbody tr th {\n",
       "        vertical-align: top;\n",
       "    }\n",
       "\n",
       "    .dataframe thead th {\n",
       "        text-align: right;\n",
       "    }\n",
       "</style>\n",
       "<table border=\"1\" class=\"dataframe\">\n",
       "  <thead>\n",
       "    <tr style=\"text-align: right;\">\n",
       "      <th></th>\n",
       "      <th>Price</th>\n",
       "    </tr>\n",
       "    <tr>\n",
       "      <th>Date</th>\n",
       "      <th></th>\n",
       "    </tr>\n",
       "  </thead>\n",
       "  <tbody>\n",
       "    <tr>\n",
       "      <th>2013-10-01</th>\n",
       "      <td>123.65499</td>\n",
       "    </tr>\n",
       "    <tr>\n",
       "      <th>2013-10-02</th>\n",
       "      <td>125.45500</td>\n",
       "    </tr>\n",
       "    <tr>\n",
       "      <th>2013-10-03</th>\n",
       "      <td>108.58483</td>\n",
       "    </tr>\n",
       "    <tr>\n",
       "      <th>2013-10-04</th>\n",
       "      <td>118.67466</td>\n",
       "    </tr>\n",
       "    <tr>\n",
       "      <th>2013-10-05</th>\n",
       "      <td>121.33866</td>\n",
       "    </tr>\n",
       "  </tbody>\n",
       "</table>\n",
       "</div>"
      ],
      "text/plain": [
       "                Price\n",
       "Date                 \n",
       "2013-10-01  123.65499\n",
       "2013-10-02  125.45500\n",
       "2013-10-03  108.58483\n",
       "2013-10-04  118.67466\n",
       "2013-10-05  121.33866"
      ]
     },
     "execution_count": 104,
     "metadata": {},
     "output_type": "execute_result"
    }
   ],
   "source": [
    "# Creating N_BEATS data inputs (univariate time series)\n",
    "bitcoin_prices.head()"
   ]
  },
  {
   "cell_type": "code",
   "execution_count": 105,
   "metadata": {},
   "outputs": [
    {
     "data": {
      "text/html": [
       "<div>\n",
       "<style scoped>\n",
       "    .dataframe tbody tr th:only-of-type {\n",
       "        vertical-align: middle;\n",
       "    }\n",
       "\n",
       "    .dataframe tbody tr th {\n",
       "        vertical-align: top;\n",
       "    }\n",
       "\n",
       "    .dataframe thead th {\n",
       "        text-align: right;\n",
       "    }\n",
       "</style>\n",
       "<table border=\"1\" class=\"dataframe\">\n",
       "  <thead>\n",
       "    <tr style=\"text-align: right;\">\n",
       "      <th></th>\n",
       "      <th>Price</th>\n",
       "      <th>Price+1</th>\n",
       "      <th>Price+2</th>\n",
       "      <th>Price+3</th>\n",
       "      <th>Price+4</th>\n",
       "      <th>Price+5</th>\n",
       "      <th>Price+6</th>\n",
       "      <th>Price+7</th>\n",
       "    </tr>\n",
       "    <tr>\n",
       "      <th>Date</th>\n",
       "      <th></th>\n",
       "      <th></th>\n",
       "      <th></th>\n",
       "      <th></th>\n",
       "      <th></th>\n",
       "      <th></th>\n",
       "      <th></th>\n",
       "      <th></th>\n",
       "    </tr>\n",
       "  </thead>\n",
       "  <tbody>\n",
       "    <tr>\n",
       "      <th>2013-10-01</th>\n",
       "      <td>123.65499</td>\n",
       "      <td>NaN</td>\n",
       "      <td>NaN</td>\n",
       "      <td>NaN</td>\n",
       "      <td>NaN</td>\n",
       "      <td>NaN</td>\n",
       "      <td>NaN</td>\n",
       "      <td>NaN</td>\n",
       "    </tr>\n",
       "    <tr>\n",
       "      <th>2013-10-02</th>\n",
       "      <td>125.45500</td>\n",
       "      <td>123.65499</td>\n",
       "      <td>NaN</td>\n",
       "      <td>NaN</td>\n",
       "      <td>NaN</td>\n",
       "      <td>NaN</td>\n",
       "      <td>NaN</td>\n",
       "      <td>NaN</td>\n",
       "    </tr>\n",
       "    <tr>\n",
       "      <th>2013-10-03</th>\n",
       "      <td>108.58483</td>\n",
       "      <td>125.45500</td>\n",
       "      <td>123.65499</td>\n",
       "      <td>NaN</td>\n",
       "      <td>NaN</td>\n",
       "      <td>NaN</td>\n",
       "      <td>NaN</td>\n",
       "      <td>NaN</td>\n",
       "    </tr>\n",
       "    <tr>\n",
       "      <th>2013-10-04</th>\n",
       "      <td>118.67466</td>\n",
       "      <td>108.58483</td>\n",
       "      <td>125.45500</td>\n",
       "      <td>123.65499</td>\n",
       "      <td>NaN</td>\n",
       "      <td>NaN</td>\n",
       "      <td>NaN</td>\n",
       "      <td>NaN</td>\n",
       "    </tr>\n",
       "    <tr>\n",
       "      <th>2013-10-05</th>\n",
       "      <td>121.33866</td>\n",
       "      <td>118.67466</td>\n",
       "      <td>108.58483</td>\n",
       "      <td>125.45500</td>\n",
       "      <td>123.65499</td>\n",
       "      <td>NaN</td>\n",
       "      <td>NaN</td>\n",
       "      <td>NaN</td>\n",
       "    </tr>\n",
       "  </tbody>\n",
       "</table>\n",
       "</div>"
      ],
      "text/plain": [
       "                Price    Price+1    Price+2    Price+3    Price+4  Price+5  \\\n",
       "Date                                                                         \n",
       "2013-10-01  123.65499        NaN        NaN        NaN        NaN      NaN   \n",
       "2013-10-02  125.45500  123.65499        NaN        NaN        NaN      NaN   \n",
       "2013-10-03  108.58483  125.45500  123.65499        NaN        NaN      NaN   \n",
       "2013-10-04  118.67466  108.58483  125.45500  123.65499        NaN      NaN   \n",
       "2013-10-05  121.33866  118.67466  108.58483  125.45500  123.65499      NaN   \n",
       "\n",
       "            Price+6  Price+7  \n",
       "Date                          \n",
       "2013-10-01      NaN      NaN  \n",
       "2013-10-02      NaN      NaN  \n",
       "2013-10-03      NaN      NaN  \n",
       "2013-10-04      NaN      NaN  \n",
       "2013-10-05      NaN      NaN  "
      ]
     },
     "execution_count": 105,
     "metadata": {},
     "output_type": "execute_result"
    }
   ],
   "source": [
    "# Adding windowed columns with pandas\n",
    "bitcoin_prices_nbeats = bitcoin_prices.copy()\n",
    "\n",
    "for i in range(WINDOW_SIZE):\n",
    "    bitcoin_prices_nbeats[f\"Price+{i+1}\"] = bitcoin_prices_nbeats[\"Price\"].shift(periods=i+1)\n",
    "\n",
    "bitcoin_prices_nbeats.head()"
   ]
  },
  {
   "cell_type": "code",
   "execution_count": 106,
   "metadata": {},
   "outputs": [
    {
     "data": {
      "text/plain": [
       "(2224, 2224, 556, 556)"
      ]
     },
     "execution_count": 106,
     "metadata": {},
     "output_type": "execute_result"
    }
   ],
   "source": [
    "# Make features and labels\n",
    "X = bitcoin_prices_nbeats.dropna().drop(\"Price\", axis=1)\n",
    "y = bitcoin_prices_nbeats.dropna()[\"Price\"]\n",
    "\n",
    "# Make train and test sets\n",
    "split_size = int(len(X) * 0.8)\n",
    "X_train, y_train = X[:split_size], y[:split_size]\n",
    "X_test, y_test = X[split_size:], y[split_size:]\n",
    "\n",
    "len(X_train), len(y_train), len(X_test), len(y_test)"
   ]
  },
  {
   "cell_type": "code",
   "execution_count": 107,
   "metadata": {},
   "outputs": [
    {
     "data": {
      "text/plain": [
       "(<PrefetchDataset element_spec=(TensorSpec(shape=(None, 7), dtype=tf.float64, name=None), TensorSpec(shape=(None,), dtype=tf.float64, name=None))>,\n",
       " <PrefetchDataset element_spec=(TensorSpec(shape=(None, 7), dtype=tf.float64, name=None), TensorSpec(shape=(None,), dtype=tf.float64, name=None))>)"
      ]
     },
     "execution_count": 107,
     "metadata": {},
     "output_type": "execute_result"
    }
   ],
   "source": [
    "# Making our dataset poerformant using tf.data API\n",
    "train_features_dataset = tf.data.Dataset.from_tensor_slices(X_train)\n",
    "train_labels_dataset = tf.data.Dataset.from_tensor_slices(y_train)\n",
    "\n",
    "test_features_dataset = tf.data.Dataset.from_tensor_slices(X_test)\n",
    "test_labels_dataset = tf.data.Dataset.from_tensor_slices(y_test)\n",
    "\n",
    "# Combine labels and features by zipping together -> (features, labels)\n",
    "train_dataset = tf.data.Dataset.zip((train_features_dataset, train_labels_dataset))\n",
    "test_dataset = tf.data.Dataset.zip((test_features_dataset, test_labels_dataset))\n",
    "\n",
    "# Batch and prefetch\n",
    "BATCH_SIZE = 1024\n",
    "train_dataset = train_dataset.batch(BATCH_SIZE).prefetch(tf.data.AUTOTUNE)\n",
    "test_dataset = test_dataset.batch(BATCH_SIZE).prefetch(tf.data.AUTOTUNE)\n",
    "\n",
    "train_dataset, test_dataset"
   ]
  },
  {
   "cell_type": "code",
   "execution_count": null,
   "metadata": {},
   "outputs": [],
   "source": []
  }
 ],
 "metadata": {
  "kernelspec": {
   "display_name": "Python 3",
   "language": "python",
   "name": "python3"
  },
  "language_info": {
   "codemirror_mode": {
    "name": "ipython",
    "version": 3
   },
   "file_extension": ".py",
   "mimetype": "text/x-python",
   "name": "python",
   "nbconvert_exporter": "python",
   "pygments_lexer": "ipython3",
   "version": "3.8.10"
  },
  "orig_nbformat": 4,
  "vscode": {
   "interpreter": {
    "hash": "8230a386d8e0083990873cddb8ebb5b6213275a10339230a8504f0ef8ce7f888"
   }
  }
 },
 "nbformat": 4,
 "nbformat_minor": 2
}
