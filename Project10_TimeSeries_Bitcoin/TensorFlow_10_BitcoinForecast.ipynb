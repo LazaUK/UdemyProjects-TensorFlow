{
 "cells": [
  {
   "attachments": {},
   "cell_type": "markdown",
   "metadata": {},
   "source": [
    "# Time Series: Forecasting Bitcoin price"
   ]
  },
  {
   "cell_type": "code",
   "execution_count": 1,
   "metadata": {},
   "outputs": [
    {
     "name": "stdout",
     "output_type": "stream",
     "text": [
      "2.10.1\n"
     ]
    }
   ],
   "source": [
    "# Importing TF and checking the version\n",
    "import tensorflow as tf\n",
    "\n",
    "print(tf.__version__)"
   ]
  },
  {
   "attachments": {},
   "cell_type": "markdown",
   "metadata": {},
   "source": [
    "### Importing time series with Pandas"
   ]
  },
  {
   "cell_type": "code",
   "execution_count": 2,
   "metadata": {},
   "outputs": [
    {
     "data": {
      "text/html": [
       "<div>\n",
       "<style scoped>\n",
       "    .dataframe tbody tr th:only-of-type {\n",
       "        vertical-align: middle;\n",
       "    }\n",
       "\n",
       "    .dataframe tbody tr th {\n",
       "        vertical-align: top;\n",
       "    }\n",
       "\n",
       "    .dataframe thead th {\n",
       "        text-align: right;\n",
       "    }\n",
       "</style>\n",
       "<table border=\"1\" class=\"dataframe\">\n",
       "  <thead>\n",
       "    <tr style=\"text-align: right;\">\n",
       "      <th></th>\n",
       "      <th>Currency</th>\n",
       "      <th>Closing Price (USD)</th>\n",
       "      <th>24h Open (USD)</th>\n",
       "      <th>24h High (USD)</th>\n",
       "      <th>24h Low (USD)</th>\n",
       "    </tr>\n",
       "    <tr>\n",
       "      <th>Date</th>\n",
       "      <th></th>\n",
       "      <th></th>\n",
       "      <th></th>\n",
       "      <th></th>\n",
       "      <th></th>\n",
       "    </tr>\n",
       "  </thead>\n",
       "  <tbody>\n",
       "    <tr>\n",
       "      <th>2013-10-01</th>\n",
       "      <td>BTC</td>\n",
       "      <td>123.65499</td>\n",
       "      <td>124.30466</td>\n",
       "      <td>124.75166</td>\n",
       "      <td>122.56349</td>\n",
       "    </tr>\n",
       "    <tr>\n",
       "      <th>2013-10-02</th>\n",
       "      <td>BTC</td>\n",
       "      <td>125.45500</td>\n",
       "      <td>123.65499</td>\n",
       "      <td>125.75850</td>\n",
       "      <td>123.63383</td>\n",
       "    </tr>\n",
       "    <tr>\n",
       "      <th>2013-10-03</th>\n",
       "      <td>BTC</td>\n",
       "      <td>108.58483</td>\n",
       "      <td>125.45500</td>\n",
       "      <td>125.66566</td>\n",
       "      <td>83.32833</td>\n",
       "    </tr>\n",
       "    <tr>\n",
       "      <th>2013-10-04</th>\n",
       "      <td>BTC</td>\n",
       "      <td>118.67466</td>\n",
       "      <td>108.58483</td>\n",
       "      <td>118.67500</td>\n",
       "      <td>107.05816</td>\n",
       "    </tr>\n",
       "    <tr>\n",
       "      <th>2013-10-05</th>\n",
       "      <td>BTC</td>\n",
       "      <td>121.33866</td>\n",
       "      <td>118.67466</td>\n",
       "      <td>121.93633</td>\n",
       "      <td>118.00566</td>\n",
       "    </tr>\n",
       "  </tbody>\n",
       "</table>\n",
       "</div>"
      ],
      "text/plain": [
       "           Currency  Closing Price (USD)  24h Open (USD)  24h High (USD)  \\\n",
       "Date                                                                       \n",
       "2013-10-01      BTC            123.65499       124.30466       124.75166   \n",
       "2013-10-02      BTC            125.45500       123.65499       125.75850   \n",
       "2013-10-03      BTC            108.58483       125.45500       125.66566   \n",
       "2013-10-04      BTC            118.67466       108.58483       118.67500   \n",
       "2013-10-05      BTC            121.33866       118.67466       121.93633   \n",
       "\n",
       "            24h Low (USD)  \n",
       "Date                       \n",
       "2013-10-01      122.56349  \n",
       "2013-10-02      123.63383  \n",
       "2013-10-03       83.32833  \n",
       "2013-10-04      107.05816  \n",
       "2013-10-05      118.00566  "
      ]
     },
     "execution_count": 2,
     "metadata": {},
     "output_type": "execute_result"
    }
   ],
   "source": [
    "# Reading Bitcoin data and parsing dates\n",
    "import pandas as pd\n",
    "\n",
    "df = pd.read_csv(\n",
    "    \"BTC_USD_2013-10-01_2021-05-18-CoinDesk.csv\",\n",
    "    parse_dates=[\"Date\"],\n",
    "    index_col=[\"Date\"]   \n",
    ")\n",
    "df.head()"
   ]
  },
  {
   "cell_type": "code",
   "execution_count": 3,
   "metadata": {},
   "outputs": [
    {
     "data": {
      "text/html": [
       "<div>\n",
       "<style scoped>\n",
       "    .dataframe tbody tr th:only-of-type {\n",
       "        vertical-align: middle;\n",
       "    }\n",
       "\n",
       "    .dataframe tbody tr th {\n",
       "        vertical-align: top;\n",
       "    }\n",
       "\n",
       "    .dataframe thead th {\n",
       "        text-align: right;\n",
       "    }\n",
       "</style>\n",
       "<table border=\"1\" class=\"dataframe\">\n",
       "  <thead>\n",
       "    <tr style=\"text-align: right;\">\n",
       "      <th></th>\n",
       "      <th>Currency</th>\n",
       "      <th>Closing Price (USD)</th>\n",
       "      <th>24h Open (USD)</th>\n",
       "      <th>24h High (USD)</th>\n",
       "      <th>24h Low (USD)</th>\n",
       "    </tr>\n",
       "    <tr>\n",
       "      <th>Date</th>\n",
       "      <th></th>\n",
       "      <th></th>\n",
       "      <th></th>\n",
       "      <th></th>\n",
       "      <th></th>\n",
       "    </tr>\n",
       "  </thead>\n",
       "  <tbody>\n",
       "    <tr>\n",
       "      <th>2021-05-14</th>\n",
       "      <td>BTC</td>\n",
       "      <td>49764.132082</td>\n",
       "      <td>49596.778891</td>\n",
       "      <td>51448.798576</td>\n",
       "      <td>46294.720180</td>\n",
       "    </tr>\n",
       "    <tr>\n",
       "      <th>2021-05-15</th>\n",
       "      <td>BTC</td>\n",
       "      <td>50032.693137</td>\n",
       "      <td>49717.354353</td>\n",
       "      <td>51578.312545</td>\n",
       "      <td>48944.346536</td>\n",
       "    </tr>\n",
       "    <tr>\n",
       "      <th>2021-05-16</th>\n",
       "      <td>BTC</td>\n",
       "      <td>47885.625255</td>\n",
       "      <td>49926.035067</td>\n",
       "      <td>50690.802950</td>\n",
       "      <td>47005.102292</td>\n",
       "    </tr>\n",
       "    <tr>\n",
       "      <th>2021-05-17</th>\n",
       "      <td>BTC</td>\n",
       "      <td>45604.615754</td>\n",
       "      <td>46805.537852</td>\n",
       "      <td>49670.414174</td>\n",
       "      <td>43868.638969</td>\n",
       "    </tr>\n",
       "    <tr>\n",
       "      <th>2021-05-18</th>\n",
       "      <td>BTC</td>\n",
       "      <td>43144.471291</td>\n",
       "      <td>46439.336570</td>\n",
       "      <td>46622.853437</td>\n",
       "      <td>42102.346430</td>\n",
       "    </tr>\n",
       "  </tbody>\n",
       "</table>\n",
       "</div>"
      ],
      "text/plain": [
       "           Currency  Closing Price (USD)  24h Open (USD)  24h High (USD)  \\\n",
       "Date                                                                       \n",
       "2021-05-14      BTC         49764.132082    49596.778891    51448.798576   \n",
       "2021-05-15      BTC         50032.693137    49717.354353    51578.312545   \n",
       "2021-05-16      BTC         47885.625255    49926.035067    50690.802950   \n",
       "2021-05-17      BTC         45604.615754    46805.537852    49670.414174   \n",
       "2021-05-18      BTC         43144.471291    46439.336570    46622.853437   \n",
       "\n",
       "            24h Low (USD)  \n",
       "Date                       \n",
       "2021-05-14   46294.720180  \n",
       "2021-05-15   48944.346536  \n",
       "2021-05-16   47005.102292  \n",
       "2021-05-17   43868.638969  \n",
       "2021-05-18   42102.346430  "
      ]
     },
     "execution_count": 3,
     "metadata": {},
     "output_type": "execute_result"
    }
   ],
   "source": [
    "df.tail()"
   ]
  },
  {
   "cell_type": "code",
   "execution_count": 4,
   "metadata": {},
   "outputs": [
    {
     "name": "stdout",
     "output_type": "stream",
     "text": [
      "<class 'pandas.core.frame.DataFrame'>\n",
      "DatetimeIndex: 2787 entries, 2013-10-01 to 2021-05-18\n",
      "Data columns (total 5 columns):\n",
      " #   Column               Non-Null Count  Dtype  \n",
      "---  ------               --------------  -----  \n",
      " 0   Currency             2787 non-null   object \n",
      " 1   Closing Price (USD)  2787 non-null   float64\n",
      " 2   24h Open (USD)       2787 non-null   float64\n",
      " 3   24h High (USD)       2787 non-null   float64\n",
      " 4   24h Low (USD)        2787 non-null   float64\n",
      "dtypes: float64(4), object(1)\n",
      "memory usage: 130.6+ KB\n"
     ]
    }
   ],
   "source": [
    "df.info()"
   ]
  },
  {
   "cell_type": "code",
   "execution_count": 5,
   "metadata": {},
   "outputs": [
    {
     "data": {
      "text/plain": [
       "2787"
      ]
     },
     "execution_count": 5,
     "metadata": {},
     "output_type": "execute_result"
    }
   ],
   "source": [
    "len(df)"
   ]
  },
  {
   "cell_type": "code",
   "execution_count": 6,
   "metadata": {},
   "outputs": [
    {
     "data": {
      "text/html": [
       "<div>\n",
       "<style scoped>\n",
       "    .dataframe tbody tr th:only-of-type {\n",
       "        vertical-align: middle;\n",
       "    }\n",
       "\n",
       "    .dataframe tbody tr th {\n",
       "        vertical-align: top;\n",
       "    }\n",
       "\n",
       "    .dataframe thead th {\n",
       "        text-align: right;\n",
       "    }\n",
       "</style>\n",
       "<table border=\"1\" class=\"dataframe\">\n",
       "  <thead>\n",
       "    <tr style=\"text-align: right;\">\n",
       "      <th></th>\n",
       "      <th>Price</th>\n",
       "    </tr>\n",
       "    <tr>\n",
       "      <th>Date</th>\n",
       "      <th></th>\n",
       "    </tr>\n",
       "  </thead>\n",
       "  <tbody>\n",
       "    <tr>\n",
       "      <th>2013-10-01</th>\n",
       "      <td>123.65499</td>\n",
       "    </tr>\n",
       "    <tr>\n",
       "      <th>2013-10-02</th>\n",
       "      <td>125.45500</td>\n",
       "    </tr>\n",
       "    <tr>\n",
       "      <th>2013-10-03</th>\n",
       "      <td>108.58483</td>\n",
       "    </tr>\n",
       "    <tr>\n",
       "      <th>2013-10-04</th>\n",
       "      <td>118.67466</td>\n",
       "    </tr>\n",
       "    <tr>\n",
       "      <th>2013-10-05</th>\n",
       "      <td>121.33866</td>\n",
       "    </tr>\n",
       "  </tbody>\n",
       "</table>\n",
       "</div>"
      ],
      "text/plain": [
       "                Price\n",
       "Date                 \n",
       "2013-10-01  123.65499\n",
       "2013-10-02  125.45500\n",
       "2013-10-03  108.58483\n",
       "2013-10-04  118.67466\n",
       "2013-10-05  121.33866"
      ]
     },
     "execution_count": 6,
     "metadata": {},
     "output_type": "execute_result"
    }
   ],
   "source": [
    "# Separating closing prices for each day\n",
    "bitcoin_prices = pd.DataFrame(df[\"Closing Price (USD)\"]).rename(columns={\"Closing Price (USD)\":\"Price\"})\n",
    "bitcoin_prices.head()"
   ]
  },
  {
   "cell_type": "code",
   "execution_count": 7,
   "metadata": {},
   "outputs": [
    {
     "data": {
      "image/png": "[encoded data removed]",
      "text/plain": [
       "<Figure size 720x504 with 1 Axes>"
      ]
     },
     "metadata": {
      "needs_background": "light"
     },
     "output_type": "display_data"
    }
   ],
   "source": [
    "# Visualising Bitcoin prices\n",
    "import matplotlib.pyplot as plt\n",
    "bitcoin_prices.plot(figsize=(10, 7))\n",
    "plt.ylabel(\"BTC Price\")\n",
    "plt.title(\"Price of Bitcoin: Oct 2013 - May 2021\", fontsize=16)\n",
    "plt.legend(fontsize=14);"
   ]
  },
  {
   "attachments": {},
   "cell_type": "markdown",
   "metadata": {},
   "source": [
    "### Importing time series with Python"
   ]
  },
  {
   "cell_type": "code",
   "execution_count": 8,
   "metadata": {},
   "outputs": [
    {
     "data": {
      "text/plain": [
       "([datetime.datetime(2013, 10, 1, 0, 0),\n",
       "  datetime.datetime(2013, 10, 2, 0, 0),\n",
       "  datetime.datetime(2013, 10, 3, 0, 0),\n",
       "  datetime.datetime(2013, 10, 4, 0, 0),\n",
       "  datetime.datetime(2013, 10, 5, 0, 0),\n",
       "  datetime.datetime(2013, 10, 6, 0, 0),\n",
       "  datetime.datetime(2013, 10, 7, 0, 0),\n",
       "  datetime.datetime(2013, 10, 8, 0, 0),\n",
       "  datetime.datetime(2013, 10, 9, 0, 0),\n",
       "  datetime.datetime(2013, 10, 10, 0, 0)],\n",
       " [123.65499,\n",
       "  125.455,\n",
       "  108.58483,\n",
       "  118.67466,\n",
       "  121.33866,\n",
       "  120.65533,\n",
       "  121.795,\n",
       "  123.033,\n",
       "  124.049,\n",
       "  125.96116])"
      ]
     },
     "execution_count": 8,
     "metadata": {},
     "output_type": "execute_result"
    }
   ],
   "source": [
    "# Importing Bitcoin data with Python\n",
    "import csv\n",
    "from datetime import datetime\n",
    "\n",
    "timestamps = []\n",
    "btc_price = []\n",
    "with open(\"BTC_USD_2013-10-01_2021-05-18-CoinDesk.csv\", \"r\") as f:\n",
    "    csv_reader = csv.reader(f, delimiter=\",\")\n",
    "    next(csv_reader) # Skips first line to remove column names\n",
    "    for line in csv_reader:\n",
    "        timestamps.append(datetime.strptime(line[1], \"%Y-%m-%d\"))\n",
    "        btc_price.append(float(line[2]))\n",
    "\n",
    "# Viewing first 10 records\n",
    "timestamps[:10], btc_price[:10]"
   ]
  },
  {
   "cell_type": "code",
   "execution_count": 9,
   "metadata": {},
   "outputs": [
    {
     "data": {
      "text/plain": [
       "Text(0.5, 1.0, 'Price of Bitcoin: Oct 2013 - May 2021')"
      ]
     },
     "execution_count": 9,
     "metadata": {},
     "output_type": "execute_result"
    },
    {
     "data": {
      "image/png": "[encoded data removed]",
      "text/plain": [
       "<Figure size 720x504 with 1 Axes>"
      ]
     },
     "metadata": {
      "needs_background": "light"
     },
     "output_type": "display_data"
    }
   ],
   "source": [
    "# Plotting from CSV\n",
    "import matplotlib.pyplot as plt\n",
    "import numpy as np\n",
    "\n",
    "plt.figure(figsize=(10, 7))\n",
    "plt.plot(timestamps, btc_price)\n",
    "plt.xlabel(\"Date\")\n",
    "plt.ylabel(\"BTC Price\")\n",
    "plt.title(\"Price of Bitcoin: Oct 2013 - May 2021\", fontsize=16)\n",
    "#plt.legend();"
   ]
  },
  {
   "attachments": {},
   "cell_type": "markdown",
   "metadata": {},
   "source": [
    "### Creating train and test data"
   ]
  },
  {
   "cell_type": "code",
   "execution_count": 10,
   "metadata": {},
   "outputs": [
    {
     "data": {
      "text/plain": [
       "(array(['2013-10-01T00:00:00.000000000', '2013-10-02T00:00:00.000000000',\n",
       "        '2013-10-03T00:00:00.000000000', '2013-10-04T00:00:00.000000000',\n",
       "        '2013-10-05T00:00:00.000000000', '2013-10-06T00:00:00.000000000',\n",
       "        '2013-10-07T00:00:00.000000000', '2013-10-08T00:00:00.000000000',\n",
       "        '2013-10-09T00:00:00.000000000', '2013-10-10T00:00:00.000000000'],\n",
       "       dtype='datetime64[ns]'),\n",
       " array([123.65499, 125.455  , 108.58483, 118.67466, 121.33866, 120.65533,\n",
       "        121.795  , 123.033  , 124.049  , 125.96116]))"
      ]
     },
     "execution_count": 10,
     "metadata": {},
     "output_type": "execute_result"
    }
   ],
   "source": [
    "# Get Bitcoin date array\n",
    "timestamps = bitcoin_prices.index.to_numpy()\n",
    "prices = bitcoin_prices[\"Price\"].to_numpy()\n",
    "\n",
    "timestamps[:10], prices[:10]"
   ]
  },
  {
   "cell_type": "code",
   "execution_count": 11,
   "metadata": {},
   "outputs": [
    {
     "data": {
      "text/plain": [
       "((2229,), (558,), (2229,), (558,))"
      ]
     },
     "execution_count": 11,
     "metadata": {},
     "output_type": "execute_result"
    }
   ],
   "source": [
    "# Wrong way to create train / test split for time series data\n",
    "from sklearn.model_selection import train_test_split\n",
    "\n",
    "X_train, X_test, y_train, y_test = train_test_split(\n",
    "    timestamps, # dates\n",
    "    prices, # BTC prices\n",
    "    test_size=0.2,\n",
    "    random_state=42\n",
    ")\n",
    "X_train.shape, X_test.shape, y_train.shape, y_test.shape"
   ]
  },
  {
   "cell_type": "code",
   "execution_count": 12,
   "metadata": {},
   "outputs": [
    {
     "data": {
      "image/png": "[encoded data removed]",
      "text/plain": [
       "<Figure size 720x504 with 1 Axes>"
      ]
     },
     "metadata": {
      "needs_background": "light"
     },
     "output_type": "display_data"
    }
   ],
   "source": [
    "# Plotting the wrong data split results\n",
    "plt.figure(figsize=(10, 7))\n",
    "plt.scatter(X_train, y_train, s=5, label=\"Train data\")\n",
    "plt.scatter(X_test, y_test, s=5, label=\"Test data\")\n",
    "plt.xlabel(\"Date\")\n",
    "plt.ylabel(\"BTC Price\")\n",
    "plt.legend(fontsize=14)\n",
    "plt.show();"
   ]
  },
  {
   "cell_type": "code",
   "execution_count": 13,
   "metadata": {},
   "outputs": [
    {
     "data": {
      "text/plain": [
       "(2229, 558, 2229, 558)"
      ]
     },
     "execution_count": 13,
     "metadata": {},
     "output_type": "execute_result"
    }
   ],
   "source": [
    "# Right way to create train / test split for time series data\n",
    "split_size = int(0.8 * len(prices)) # 80% - train, 20% - test\n",
    "\n",
    "X_train, y_train = timestamps[:split_size], prices[:split_size]\n",
    "X_test, y_test = timestamps[split_size:], prices[split_size:]\n",
    "\n",
    "len(X_train), len(X_test), len(y_train), len(y_test)"
   ]
  },
  {
   "cell_type": "code",
   "execution_count": 14,
   "metadata": {},
   "outputs": [
    {
     "data": {
      "image/png": "[encoded data removed]",
      "text/plain": [
       "<Figure size 720x504 with 1 Axes>"
      ]
     },
     "metadata": {
      "needs_background": "light"
     },
     "output_type": "display_data"
    }
   ],
   "source": [
    "# Plotting the right data split results\n",
    "plt.figure(figsize=(10, 7))\n",
    "plt.scatter(X_train, y_train, s=5, label=\"Train data\")\n",
    "plt.scatter(X_test, y_test, s=5, label=\"Test data\")\n",
    "plt.xlabel(\"Date\")\n",
    "plt.ylabel(\"BTC Price\")\n",
    "plt.legend(fontsize=14)\n",
    "plt.show();"
   ]
  },
  {
   "cell_type": "code",
   "execution_count": 15,
   "metadata": {},
   "outputs": [],
   "source": [
    "# Creating plotting function\n",
    "def plot_time_series(timestamps, values, marker=\",\", start=0, end=None, label=None):\n",
    "    plt.plot(timestamps[start:end], values[start:end], marker=marker, label=label)\n",
    "    plt.xlabel(\"Time\")\n",
    "    plt.ylabel(\"BTC Price\")\n",
    "    if label:\n",
    "        plt.legend(fontsize=14)\n",
    "    plt.grid(True)"
   ]
  },
  {
   "cell_type": "code",
   "execution_count": 16,
   "metadata": {},
   "outputs": [
    {
     "data": {
      "image/png": "[encoded data removed]",
      "text/plain": [
       "<Figure size 720x504 with 1 Axes>"
      ]
     },
     "metadata": {
      "needs_background": "light"
     },
     "output_type": "display_data"
    }
   ],
   "source": [
    "# Testing plot function\n",
    "plt.figure(figsize=(10, 7))\n",
    "plot_time_series(timestamps=X_train, values=y_train, label=\"Train data\")\n",
    "plot_time_series(timestamps=X_test, values=y_test, label=\"Test data\")"
   ]
  },
  {
   "attachments": {},
   "cell_type": "markdown",
   "metadata": {},
   "source": [
    "### Model 0 - Naive forecast (baseline)"
   ]
  },
  {
   "attachments": {},
   "cell_type": "markdown",
   "metadata": {},
   "source": [
    "The prediction at timestamp t(y-hat) is equal to the value at timestamp t-1 (previous timestamp), i.e horizon of 1.\n",
    "$$\\hat{y}_{t} = y_{t-1}$$"
   ]
  },
  {
   "cell_type": "code",
   "execution_count": 17,
   "metadata": {},
   "outputs": [
    {
     "name": "stdout",
     "output_type": "stream",
     "text": [
      "First 10 values: [9226.48582088 8794.35864452 8798.04205463 9081.18687849 8711.53433917\n",
      " 8760.89271814 8749.52059102 8656.97092235 8500.64355816 8469.2608989 ]\n",
      "\n",
      "Last 10 values: [57107.12067189 58788.20967893 58102.19142623 55715.54665129\n",
      " 56573.5554719  52147.82118698 49764.1320816  50032.69313676\n",
      " 47885.62525472 45604.61575361]\n"
     ]
    }
   ],
   "source": [
    "# Creating naive forecast\n",
    "naive_forecast = y_test[:-1]\n",
    "\n",
    "print(f\"First 10 values: {naive_forecast[:10]}\\n\")\n",
    "print(f\"Last 10 values: {naive_forecast[-10:]}\")"
   ]
  },
  {
   "cell_type": "code",
   "execution_count": 18,
   "metadata": {},
   "outputs": [
    {
     "data": {
      "image/png": "[encoded data removed]",
      "text/plain": [
       "<Figure size 720x504 with 1 Axes>"
      ]
     },
     "metadata": {
      "needs_background": "light"
     },
     "output_type": "display_data"
    }
   ],
   "source": [
    "# Plotting naive forecast\n",
    "plt.figure(figsize=(10, 7))\n",
    "# plot_time_series(timestamps=X_train, values=y_train, label=\"Train data\")\n",
    "plot_time_series(timestamps=X_test, values=y_test, start=500, label=\"Test data\")\n",
    "plot_time_series(timestamps=X_test[1:], values=naive_forecast, start=500, marker=\"o\", label=\"Naive forecast\")"
   ]
  },
  {
   "cell_type": "code",
   "execution_count": 19,
   "metadata": {},
   "outputs": [],
   "source": [
    "# MASE implementation\n",
    "def mean_absolute_scaled_error(y_true, y_pred):\n",
    "    mae = tf.reduce_mean(tf.abs(y_true - y_pred))\n",
    "\n",
    "    # Find MAE of Naive Forecast (no seasonality)\n",
    "    mae_naive_no_season = tf.reduce_mean(tf.abs(y_true[1:] - y_true[:-1])) # Seasonality of 1 day\n",
    "\n",
    "    return mae / mae_naive_no_season"
   ]
  },
  {
   "cell_type": "code",
   "execution_count": 20,
   "metadata": {},
   "outputs": [
    {
     "data": {
      "text/plain": [
       "<tf.Tensor: shape=(), dtype=float64, numpy=0.9995699939182626>"
      ]
     },
     "execution_count": 20,
     "metadata": {},
     "output_type": "execute_result"
    }
   ],
   "source": [
    "# Verify if MASE of Naive Forecast is 1\n",
    "mean_absolute_scaled_error(\n",
    "    y_true=y_test[1:],\n",
    "    y_pred=naive_forecast\n",
    ")"
   ]
  },
  {
   "cell_type": "code",
   "execution_count": 21,
   "metadata": {},
   "outputs": [],
   "source": [
    "# Function for evaluation matrix\n",
    "def evaluate_preds(y_true, y_pred):\n",
    "\n",
    "    # Ensuring that we use float32 dtype (for metric calculations)\n",
    "    y_true = tf.cast(y_true, dtype=tf.float32)\n",
    "    y_pred = tf.cast(y_pred, dtype=tf.float32)\n",
    "\n",
    "    # Calculating various evaluation metrics\n",
    "    mae = tf.keras.metrics.mean_absolute_error(y_true, y_pred)\n",
    "    mse = tf.keras.metrics.mean_squared_error(y_true, y_pred)\n",
    "    rmse = tf.sqrt(mse)\n",
    "    mape = tf.keras.metrics.mean_absolute_percentage_error(y_true, y_pred)\n",
    "    mase = mean_absolute_scaled_error(y_true, y_pred)\n",
    "\n",
    "    return {\n",
    "        \"mae\": mae.numpy(),\n",
    "        \"mse\": mse.numpy(),\n",
    "        \"rmse\": rmse.numpy(),\n",
    "        \"mape\": mape.numpy(),\n",
    "        \"mase\": mase.numpy()\n",
    "    }"
   ]
  },
  {
   "cell_type": "code",
   "execution_count": 22,
   "metadata": {},
   "outputs": [
    {
     "data": {
      "text/plain": [
       "{'mae': 567.9802,\n",
       " 'mse': 1147547.0,\n",
       " 'rmse': 1071.2362,\n",
       " 'mape': 2.5165248,\n",
       " 'mase': 0.99957}"
      ]
     },
     "execution_count": 22,
     "metadata": {},
     "output_type": "execute_result"
    }
   ],
   "source": [
    "# Evaluating naive forecast results\n",
    "naive_results = evaluate_preds(y_true=y_test[1:], y_pred=naive_forecast)\n",
    "naive_results"
   ]
  },
  {
   "attachments": {},
   "cell_type": "markdown",
   "metadata": {},
   "source": [
    "### Windowing data"
   ]
  },
  {
   "cell_type": "code",
   "execution_count": 23,
   "metadata": {},
   "outputs": [
    {
     "name": "stdout",
     "output_type": "stream",
     "text": [
      "Intention is to use [123.65499, 125.455, 108.58483, 118.67466, 121.33866, 120.65533, 121.795] to predict 123.033\n"
     ]
    }
   ],
   "source": [
    "# We want to use Bitcoin prices of the week to predict next day price\n",
    "print(f\"Intention is to use {btc_price[:7]} to predict {btc_price[7]}\")"
   ]
  },
  {
   "cell_type": "code",
   "execution_count": 24,
   "metadata": {},
   "outputs": [],
   "source": [
    "# Setting up global variables for window size and horizon\n",
    "HORIZON = 1 # predict next 1 day\n",
    "WINDOW_SIZE = 7 # use the past week of Bitcoin data"
   ]
  },
  {
   "cell_type": "code",
   "execution_count": 25,
   "metadata": {},
   "outputs": [],
   "source": [
    "# Creating function to label windowed data\n",
    "def get_labelled_window(x, horizon=HORIZON):\n",
    "    return x[:, :-horizon], x[:, -horizon:]"
   ]
  },
  {
   "cell_type": "code",
   "execution_count": 26,
   "metadata": {},
   "outputs": [
    {
     "data": {
      "text/plain": [
       "(<tf.Tensor: shape=(1, 7), dtype=int32, numpy=array([[1, 2, 3, 4, 5, 6, 7]])>,\n",
       " <tf.Tensor: shape=(1, 1), dtype=int32, numpy=array([[8]])>)"
      ]
     },
     "execution_count": 26,
     "metadata": {},
     "output_type": "execute_result"
    }
   ],
   "source": [
    "# Testing window labelling function\n",
    "test_window, test_label = get_labelled_window(tf.expand_dims(tf.range(8) + 1, axis=0))\n",
    "test_window, test_label"
   ]
  },
  {
   "cell_type": "code",
   "execution_count": 27,
   "metadata": {},
   "outputs": [],
   "source": [
    "# Creating function to view NumPy arrays as windows\n",
    "def make_windows(x, window_size=WINDOW_SIZE, horizon=HORIZON):\n",
    "\n",
    "    # 1. Creating window of specific window size\n",
    "    window_step = np.expand_dims(np.arange(window_size + horizon), axis=0)\n",
    "\n",
    "    # 2. Creating 2D array of multiple windows\n",
    "    window_indexes = window_step + np.expand_dims(np.arange(len(x) - (window_size + horizon - 1)), axis=0).T\n",
    "    # print(f\"Windows indexes: {window_indexes} with shape of {window_indexes.shape}\")\n",
    "\n",
    "    # 3. Index on the target array (time series) with 2D of multiple window steps\n",
    "    windowed_array = x[window_indexes]\n",
    "\n",
    "    # 4. Get the labelled windows\n",
    "    windows, labels = get_labelled_window(windowed_array, horizon=horizon)\n",
    "    return windows, labels"
   ]
  },
  {
   "cell_type": "code",
   "execution_count": 28,
   "metadata": {},
   "outputs": [
    {
     "data": {
      "text/plain": [
       "(2780, 2780)"
      ]
     },
     "execution_count": 28,
     "metadata": {},
     "output_type": "execute_result"
    }
   ],
   "source": [
    "# Testing the function\n",
    "full_windows, full_labels = make_windows(prices)\n",
    "len(full_windows), len(full_labels)"
   ]
  },
  {
   "cell_type": "code",
   "execution_count": 29,
   "metadata": {},
   "outputs": [
    {
     "name": "stdout",
     "output_type": "stream",
     "text": [
      "Window: [123.65499 125.455   108.58483 118.67466 121.33866 120.65533 121.795  ] -> Label: [123.033]\n",
      "Window: [125.455   108.58483 118.67466 121.33866 120.65533 121.795   123.033  ] -> Label: [124.049]\n",
      "Window: [108.58483 118.67466 121.33866 120.65533 121.795   123.033   124.049  ] -> Label: [125.96116]\n"
     ]
    }
   ],
   "source": [
    "# Viewing the first 3 windows / labels\n",
    "for i in range(3):\n",
    "    print(f\"Window: {full_windows[i]} -> Label: {full_labels[i]}\")"
   ]
  },
  {
   "cell_type": "code",
   "execution_count": 30,
   "metadata": {},
   "outputs": [
    {
     "name": "stdout",
     "output_type": "stream",
     "text": [
      "Window: [58788.20967893 58102.19142623 55715.54665129 56573.5554719\n",
      " 52147.82118698 49764.1320816  50032.69313676] -> Label: [47885.62525472]\n",
      "Window: [58102.19142623 55715.54665129 56573.5554719  52147.82118698\n",
      " 49764.1320816  50032.69313676 47885.62525472] -> Label: [45604.61575361]\n",
      "Window: [55715.54665129 56573.5554719  52147.82118698 49764.1320816\n",
      " 50032.69313676 47885.62525472 45604.61575361] -> Label: [43144.47129086]\n"
     ]
    }
   ],
   "source": [
    "# Viewing the last 3 windows / labels\n",
    "for i in range(3):\n",
    "    print(f\"Window: {full_windows[i-3]} -> Label: {full_labels[i-3]}\")"
   ]
  },
  {
   "attachments": {},
   "cell_type": "markdown",
   "metadata": {},
   "source": [
    "### Splitting windows into training and testing sets"
   ]
  },
  {
   "cell_type": "code",
   "execution_count": 31,
   "metadata": {},
   "outputs": [],
   "source": [
    "# Creating function to make train / test splits\n",
    "def make_train_test_splits(windows, labels, test_split=0.2):\n",
    "    split_size = int(len(windows) * (1 - test_split)) # Default 80% train / 20% test\n",
    "    train_windows = windows[:split_size]\n",
    "    train_labels = labels[:split_size]\n",
    "    test_windows = windows[split_size:]\n",
    "    test_labels = labels[split_size:]\n",
    "    return train_windows, test_windows, train_labels, test_labels"
   ]
  },
  {
   "cell_type": "code",
   "execution_count": 32,
   "metadata": {},
   "outputs": [
    {
     "data": {
      "text/plain": [
       "(2224, 556, 2224, 556)"
      ]
     },
     "execution_count": 32,
     "metadata": {},
     "output_type": "execute_result"
    }
   ],
   "source": [
    "# Creating training and testing windows\n",
    "train_windows, test_windows, train_labels, test_labels = make_train_test_splits(\n",
    "    full_windows, full_labels\n",
    ")\n",
    "len(train_windows), len(test_windows), len(train_labels), len(test_labels)"
   ]
  },
  {
   "cell_type": "code",
   "execution_count": 33,
   "metadata": {},
   "outputs": [
    {
     "data": {
      "text/plain": [
       "(array([[123.65499, 125.455  , 108.58483, 118.67466, 121.33866, 120.65533,\n",
       "         121.795  ],\n",
       "        [125.455  , 108.58483, 118.67466, 121.33866, 120.65533, 121.795  ,\n",
       "         123.033  ],\n",
       "        [108.58483, 118.67466, 121.33866, 120.65533, 121.795  , 123.033  ,\n",
       "         124.049  ],\n",
       "        [118.67466, 121.33866, 120.65533, 121.795  , 123.033  , 124.049  ,\n",
       "         125.96116],\n",
       "        [121.33866, 120.65533, 121.795  , 123.033  , 124.049  , 125.96116,\n",
       "         125.27966]]),\n",
       " array([[123.033  ],\n",
       "        [124.049  ],\n",
       "        [125.96116],\n",
       "        [125.27966],\n",
       "        [125.9275 ]]))"
      ]
     },
     "execution_count": 33,
     "metadata": {},
     "output_type": "execute_result"
    }
   ],
   "source": [
    "# Checking the first 5 train window values\n",
    "train_windows[:5], train_labels[:5]"
   ]
  },
  {
   "cell_type": "code",
   "execution_count": 34,
   "metadata": {},
   "outputs": [
    {
     "data": {
      "text/plain": [
       "(array([[9290.89660239, 9202.41545055, 9369.62808116, 9326.59962378,\n",
       "         9335.75240233, 9226.48582088, 8794.35864452],\n",
       "        [9202.41545055, 9369.62808116, 9326.59962378, 9335.75240233,\n",
       "         9226.48582088, 8794.35864452, 8798.04205463],\n",
       "        [9369.62808116, 9326.59962378, 9335.75240233, 9226.48582088,\n",
       "         8794.35864452, 8798.04205463, 9081.18687849],\n",
       "        [9326.59962378, 9335.75240233, 9226.48582088, 8794.35864452,\n",
       "         8798.04205463, 9081.18687849, 8711.53433917],\n",
       "        [9335.75240233, 9226.48582088, 8794.35864452, 8798.04205463,\n",
       "         9081.18687849, 8711.53433917, 8760.89271814]]),\n",
       " array([[8798.04205463],\n",
       "        [9081.18687849],\n",
       "        [8711.53433917],\n",
       "        [8760.89271814],\n",
       "        [8749.52059102]]))"
      ]
     },
     "execution_count": 34,
     "metadata": {},
     "output_type": "execute_result"
    }
   ],
   "source": [
    "# Checking the first test values\n",
    "test_windows[:5], test_labels[:5]"
   ]
  },
  {
   "attachments": {},
   "cell_type": "markdown",
   "metadata": {},
   "source": [
    "### Modelling checkpoint callback"
   ]
  },
  {
   "cell_type": "code",
   "execution_count": 35,
   "metadata": {},
   "outputs": [],
   "source": [
    "# Function to implement ModelCheckpoint callback\n",
    "import os\n",
    "\n",
    "def create_model_checkpoint(model_name, save_path=\"model_experiments\"):\n",
    "    return tf.keras.callbacks.ModelCheckpoint(\n",
    "        filepath=os.path.join(save_path, model_name),\n",
    "        verbose=0,\n",
    "        save_best_only=True\n",
    "    )"
   ]
  },
  {
   "attachments": {},
   "cell_type": "markdown",
   "metadata": {},
   "source": [
    "### Model 1 - Dense model (window = 7, horizon = 1)"
   ]
  },
  {
   "cell_type": "code",
   "execution_count": 36,
   "metadata": {},
   "outputs": [
    {
     "name": "stdout",
     "output_type": "stream",
     "text": [
      "Epoch 1/100\n",
      "17/18 [===========================>..] - ETA: 0s - loss: 1573.6587 - mae: 1573.6587 - mse: 8073265.0000  INFO:tensorflow:Assets written to: model_experiments\\model_1_dense\\assets\n",
      "18/18 [==============================] - 3s 108ms/step - loss: 1543.6925 - mae: 1543.6925 - mse: 7901906.0000 - val_loss: 1668.6884 - val_mae: 1668.6884 - val_mse: 7701670.5000\n",
      "Epoch 2/100\n",
      "18/18 [==============================] - 0s 7ms/step - loss: 364.4254 - mae: 364.4254 - mse: 508979.9062 - val_loss: 1882.7103 - val_mae: 1882.7103 - val_mse: 8306344.5000\n",
      "Epoch 3/100\n",
      "18/18 [==============================] - ETA: 0s - loss: 222.0416 - mae: 222.0416 - mse: 239176.1562INFO:tensorflow:Assets written to: model_experiments\\model_1_dense\\assets\n",
      "18/18 [==============================] - 1s 55ms/step - loss: 222.0416 - mae: 222.0416 - mse: 239176.1562 - val_loss: 1141.0499 - val_mae: 1141.0499 - val_mse: 3814509.5000\n",
      "Epoch 4/100\n",
      "13/18 [====================>.........] - ETA: 0s - loss: 193.9648 - mae: 193.9648 - mse: 192213.5625INFO:tensorflow:Assets written to: model_experiments\\model_1_dense\\assets\n",
      "18/18 [==============================] - 1s 74ms/step - loss: 186.2869 - mae: 186.2869 - mse: 176115.7656 - val_loss: 1003.3169 - val_mae: 1003.3169 - val_mse: 3275740.7500\n",
      "Epoch 5/100\n",
      "14/18 [======================>.......] - ETA: 0s - loss: 184.2839 - mae: 184.2839 - mse: 183192.6250INFO:tensorflow:Assets written to: model_experiments\\model_1_dense\\assets\n",
      "18/18 [==============================] - 1s 66ms/step - loss: 177.4913 - mae: 177.4913 - mse: 167362.9219 - val_loss: 937.1996 - val_mae: 937.1996 - val_mse: 2858952.5000\n",
      "Epoch 6/100\n",
      "15/18 [========================>.....] - ETA: 0s - loss: 167.3349 - mae: 167.3349 - mse: 141192.5938INFO:tensorflow:Assets written to: model_experiments\\model_1_dense\\assets\n",
      "18/18 [==============================] - 1s 59ms/step - loss: 167.2592 - mae: 167.2592 - mse: 146847.9219 - val_loss: 907.1406 - val_mae: 907.1405 - val_mse: 2749971.2500\n",
      "Epoch 7/100\n",
      " 1/18 [>.............................] - ETA: 0s - loss: 198.0368 - mae: 198.0368 - mse: 276165.5625INFO:tensorflow:Assets written to: model_experiments\\model_1_dense\\assets\n",
      "18/18 [==============================] - 1s 60ms/step - loss: 158.6949 - mae: 158.6949 - mse: 134227.4688 - val_loss: 893.9066 - val_mae: 893.9066 - val_mse: 2495337.7500\n",
      "Epoch 8/100\n",
      " 1/18 [>.............................] - ETA: 0s - loss: 138.5538 - mae: 138.5538 - mse: 76722.8672INFO:tensorflow:Assets written to: model_experiments\\model_1_dense\\assets\n",
      "18/18 [==============================] - 1s 56ms/step - loss: 152.1634 - mae: 152.1634 - mse: 124312.4141 - val_loss: 826.2318 - val_mae: 826.2318 - val_mse: 2276156.7500\n",
      "Epoch 9/100\n",
      "18/18 [==============================] - 0s 7ms/step - loss: 151.9676 - mae: 151.9676 - mse: 122056.0859 - val_loss: 831.1885 - val_mae: 831.1885 - val_mse: 2163678.5000\n",
      "Epoch 10/100\n",
      "17/18 [===========================>..] - ETA: 0s - loss: 145.2729 - mae: 145.2729 - mse: 116056.0859INFO:tensorflow:Assets written to: model_experiments\\model_1_dense\\assets\n",
      "18/18 [==============================] - 1s 62ms/step - loss: 146.5349 - mae: 146.5349 - mse: 117081.2578 - val_loss: 805.4191 - val_mae: 805.4191 - val_mse: 2033148.3750\n",
      "Epoch 11/100\n",
      "15/18 [========================>.....] - ETA: 0s - loss: 139.7885 - mae: 139.7885 - mse: 106913.7109INFO:tensorflow:Assets written to: model_experiments\\model_1_dense\\assets\n",
      "18/18 [==============================] - 1s 62ms/step - loss: 139.3932 - mae: 139.3932 - mse: 105504.9453 - val_loss: 754.1882 - val_mae: 754.1882 - val_mse: 1866446.2500\n",
      "Epoch 12/100\n",
      "18/18 [==============================] - 0s 8ms/step - loss: 135.0136 - mae: 135.0136 - mse: 101128.0156 - val_loss: 811.5034 - val_mae: 811.5034 - val_mse: 1957523.7500\n",
      "Epoch 13/100\n",
      "15/18 [========================>.....] - ETA: 0s - loss: 133.5210 - mae: 133.5210 - mse: 102125.2891INFO:tensorflow:Assets written to: model_experiments\\model_1_dense\\assets\n",
      "18/18 [==============================] - 1s 51ms/step - loss: 133.1728 - mae: 133.1728 - mse: 99373.3047 - val_loss: 727.9187 - val_mae: 727.9187 - val_mse: 1706851.6250\n",
      "Epoch 14/100\n",
      " 1/18 [>.............................] - ETA: 0s - loss: 138.4216 - mae: 138.4216 - mse: 89945.5156INFO:tensorflow:Assets written to: model_experiments\\model_1_dense\\assets\n",
      "18/18 [==============================] - 1s 57ms/step - loss: 127.8158 - mae: 127.8158 - mse: 92538.5156 - val_loss: 712.8647 - val_mae: 712.8647 - val_mse: 1637573.8750\n",
      "Epoch 15/100\n",
      "18/18 [==============================] - 0s 7ms/step - loss: 128.3419 - mae: 128.3419 - mse: 90292.6406 - val_loss: 723.4563 - val_mae: 723.4563 - val_mse: 1633963.0000\n",
      "Epoch 16/100\n",
      "18/18 [==============================] - 0s 7ms/step - loss: 128.1595 - mae: 128.1595 - mse: 89616.5000 - val_loss: 757.2227 - val_mae: 757.2227 - val_mse: 1710648.3750\n",
      "Epoch 17/100\n",
      "18/18 [==============================] - 0s 6ms/step - loss: 123.8270 - mae: 123.8270 - mse: 84500.1094 - val_loss: 716.5787 - val_mae: 716.5787 - val_mse: 1584378.5000\n",
      "Epoch 18/100\n",
      "15/18 [========================>.....] - ETA: 0s - loss: 125.4059 - mae: 125.4059 - mse: 89564.6719INFO:tensorflow:Assets written to: model_experiments\\model_1_dense\\assets\n",
      "18/18 [==============================] - 1s 58ms/step - loss: 120.6291 - mae: 120.6291 - mse: 84010.8984 - val_loss: 652.0677 - val_mae: 652.0677 - val_mse: 1424552.1250\n",
      "Epoch 19/100\n",
      "18/18 [==============================] - 0s 5ms/step - loss: 118.7824 - mae: 118.7824 - mse: 82036.5391 - val_loss: 717.8349 - val_mae: 717.8349 - val_mse: 1571096.5000\n",
      "Epoch 20/100\n",
      "18/18 [==============================] - 0s 7ms/step - loss: 120.7669 - mae: 120.7669 - mse: 83103.5859 - val_loss: 667.1837 - val_mae: 667.1837 - val_mse: 1438943.1250\n",
      "Epoch 21/100\n",
      "16/18 [=========================>....] - ETA: 0s - loss: 118.6955 - mae: 118.6955 - mse: 78754.6328INFO:tensorflow:Assets written to: model_experiments\\model_1_dense\\assets\n",
      "18/18 [==============================] - 1s 55ms/step - loss: 119.1794 - mae: 119.1794 - mse: 81325.5469 - val_loss: 623.8411 - val_mae: 623.8411 - val_mse: 1342715.1250\n",
      "Epoch 22/100\n",
      " 1/18 [>.............................] - ETA: 0s - loss: 166.5432 - mae: 166.5432 - mse: 158270.0312INFO:tensorflow:Assets written to: model_experiments\\model_1_dense\\assets\n",
      "18/18 [==============================] - 1s 68ms/step - loss: 116.8677 - mae: 116.8677 - mse: 80491.0078 - val_loss: 620.2322 - val_mae: 620.2322 - val_mse: 1329042.3750\n",
      "Epoch 23/100\n",
      " 1/18 [>.............................] - ETA: 0s - loss: 130.6356 - mae: 130.6356 - mse: 73647.1719INFO:tensorflow:Assets written to: model_experiments\\model_1_dense\\assets\n",
      "18/18 [==============================] - 1s 60ms/step - loss: 117.3567 - mae: 117.3567 - mse: 80103.4062 - val_loss: 616.9512 - val_mae: 616.9512 - val_mse: 1313336.6250\n",
      "Epoch 24/100\n",
      " 1/18 [>.............................] - ETA: 0s - loss: 122.6910 - mae: 122.6910 - mse: 84463.2969INFO:tensorflow:Assets written to: model_experiments\\model_1_dense\\assets\n",
      "18/18 [==============================] - 1s 62ms/step - loss: 115.5206 - mae: 115.5206 - mse: 78794.3359 - val_loss: 613.2425 - val_mae: 613.2425 - val_mse: 1302980.3750\n",
      "Epoch 25/100\n",
      "16/18 [=========================>....] - ETA: 0s - loss: 118.4477 - mae: 118.4477 - mse: 80736.1953INFO:tensorflow:Assets written to: model_experiments\\model_1_dense\\assets\n",
      "18/18 [==============================] - 1s 62ms/step - loss: 115.8990 - mae: 115.8990 - mse: 77226.4531 - val_loss: 608.5591 - val_mae: 608.5591 - val_mse: 1287087.2500\n",
      "Epoch 26/100\n",
      " 7/18 [==========>...................] - ETA: 0s - loss: 111.8796 - mae: 111.8796 - mse: 60879.3750INFO:tensorflow:Assets written to: model_experiments\\model_1_dense\\assets\n",
      "18/18 [==============================] - 1s 65ms/step - loss: 114.9193 - mae: 114.9193 - mse: 76693.2266 - val_loss: 604.9559 - val_mae: 604.9559 - val_mse: 1274139.1250\n",
      "Epoch 27/100\n",
      "18/18 [==============================] - 0s 6ms/step - loss: 117.9821 - mae: 117.9821 - mse: 77958.4766 - val_loss: 606.3036 - val_mae: 606.3036 - val_mse: 1274230.5000\n",
      "Epoch 28/100\n",
      "17/18 [===========================>..] - ETA: 0s - loss: 114.5819 - mae: 114.5819 - mse: 76158.0859INFO:tensorflow:Assets written to: model_experiments\\model_1_dense\\assets\n",
      "18/18 [==============================] - 1s 56ms/step - loss: 114.3318 - mae: 114.3318 - mse: 75227.1875 - val_loss: 600.7181 - val_mae: 600.7181 - val_mse: 1258284.1250\n",
      "Epoch 29/100\n",
      "18/18 [==============================] - 0s 5ms/step - loss: 112.3722 - mae: 112.3722 - mse: 75125.1328 - val_loss: 639.5038 - val_mae: 639.5038 - val_mse: 1342115.0000\n",
      "Epoch 30/100\n",
      "18/18 [==============================] - ETA: 0s - loss: 116.1947 - mae: 116.1947 - mse: 77421.7891INFO:tensorflow:Assets written to: model_experiments\\model_1_dense\\assets\n",
      "18/18 [==============================] - 1s 59ms/step - loss: 116.1947 - mae: 116.1947 - mse: 77421.7891 - val_loss: 596.5031 - val_mae: 596.5031 - val_mse: 1245304.0000\n",
      "Epoch 31/100\n",
      "18/18 [==============================] - 0s 6ms/step - loss: 113.2155 - mae: 113.2155 - mse: 73974.7812 - val_loss: 621.1652 - val_mae: 621.1652 - val_mse: 1297815.6250\n",
      "Epoch 32/100\n",
      "18/18 [==============================] - 0s 5ms/step - loss: 112.3464 - mae: 112.3464 - mse: 75400.5781 - val_loss: 600.0995 - val_mae: 600.0995 - val_mse: 1250447.2500\n",
      "Epoch 33/100\n",
      "18/18 [==============================] - 0s 6ms/step - loss: 113.1544 - mae: 113.1544 - mse: 74038.8125 - val_loss: 601.6064 - val_mae: 601.6064 - val_mse: 1253064.3750\n",
      "Epoch 34/100\n",
      "17/18 [===========================>..] - ETA: 0s - loss: 111.9861 - mae: 111.9861 - mse: 75310.9375 INFO:tensorflow:Assets written to: model_experiments\\model_1_dense\\assets\n",
      "18/18 [==============================] - 1s 51ms/step - loss: 112.7910 - mae: 112.7910 - mse: 75512.7266 - val_loss: 590.7608 - val_mae: 590.7608 - val_mse: 1226175.3750\n",
      "Epoch 35/100\n",
      "18/18 [==============================] - 0s 5ms/step - loss: 111.1155 - mae: 111.1155 - mse: 73683.1953 - val_loss: 591.9869 - val_mae: 591.9869 - val_mse: 1229972.6250\n",
      "Epoch 36/100\n",
      "18/18 [==============================] - 0s 6ms/step - loss: 116.7073 - mae: 116.7073 - mse: 75442.0469 - val_loss: 595.3701 - val_mae: 595.3701 - val_mse: 1234188.3750\n",
      "Epoch 37/100\n",
      " 1/18 [>.............................] - ETA: 0s - loss: 136.2797 - mae: 136.2797 - mse: 113654.3750INFO:tensorflow:Assets written to: model_experiments\\model_1_dense\\assets\n",
      "18/18 [==============================] - 1s 55ms/step - loss: 112.4897 - mae: 112.4897 - mse: 75126.4688 - val_loss: 588.6849 - val_mae: 588.6849 - val_mse: 1220408.0000\n",
      "Epoch 38/100\n",
      "18/18 [==============================] - 0s 7ms/step - loss: 114.0566 - mae: 114.0566 - mse: 73896.4219 - val_loss: 619.1671 - val_mae: 619.1671 - val_mse: 1292759.8750\n",
      "Epoch 39/100\n",
      "18/18 [==============================] - 0s 7ms/step - loss: 113.0576 - mae: 113.0576 - mse: 73726.2188 - val_loss: 616.0465 - val_mae: 616.0465 - val_mse: 1283168.0000\n",
      "Epoch 40/100\n",
      " 1/18 [>.............................] - ETA: 0s - loss: 101.4308 - mae: 101.4308 - mse: 98063.0312INFO:tensorflow:Assets written to: model_experiments\\model_1_dense\\assets\n",
      "18/18 [==============================] - 1s 57ms/step - loss: 110.8119 - mae: 110.8119 - mse: 72996.1875 - val_loss: 587.9949 - val_mae: 587.9949 - val_mse: 1217448.5000\n",
      "Epoch 41/100\n",
      "18/18 [==============================] - 0s 8ms/step - loss: 112.3073 - mae: 112.3073 - mse: 72579.9609 - val_loss: 615.9940 - val_mae: 615.9940 - val_mse: 1281927.3750\n",
      "Epoch 42/100\n",
      "18/18 [==============================] - 0s 9ms/step - loss: 113.6995 - mae: 113.6995 - mse: 75374.9922 - val_loss: 599.2172 - val_mae: 599.2172 - val_mse: 1237053.1250\n",
      "Epoch 43/100\n",
      "18/18 [==============================] - 0s 9ms/step - loss: 116.0662 - mae: 116.0662 - mse: 74182.7266 - val_loss: 635.6076 - val_mae: 635.6076 - val_mse: 1326820.3750\n",
      "Epoch 44/100\n",
      "18/18 [==============================] - 0s 7ms/step - loss: 118.9568 - mae: 118.9568 - mse: 77351.9062 - val_loss: 616.0486 - val_mae: 616.0486 - val_mse: 1277983.2500\n",
      "Epoch 45/100\n",
      "18/18 [==============================] - 0s 5ms/step - loss: 114.1671 - mae: 114.1671 - mse: 76208.4531 - val_loss: 605.8287 - val_mae: 605.8287 - val_mse: 1248804.1250\n",
      "Epoch 46/100\n",
      " 1/18 [>.............................] - ETA: 0s - loss: 81.8033 - mae: 81.8033 - mse: 46163.2070INFO:tensorflow:Assets written to: model_experiments\\model_1_dense\\assets\n",
      "18/18 [==============================] - 1s 60ms/step - loss: 112.4388 - mae: 112.4388 - mse: 73786.1719 - val_loss: 580.3606 - val_mae: 580.3606 - val_mse: 1193216.8750\n",
      "Epoch 47/100\n",
      "18/18 [==============================] - 0s 5ms/step - loss: 109.3212 - mae: 109.3212 - mse: 72552.3906 - val_loss: 598.8027 - val_mae: 598.8027 - val_mse: 1232387.5000\n",
      "Epoch 48/100\n",
      "18/18 [==============================] - 0s 6ms/step - loss: 109.1553 - mae: 109.1553 - mse: 71363.6875 - val_loss: 632.5482 - val_mae: 632.5482 - val_mse: 1301929.2500\n",
      "Epoch 49/100\n",
      "18/18 [==============================] - 0s 5ms/step - loss: 120.6084 - mae: 120.6084 - mse: 76502.9375 - val_loss: 583.4538 - val_mae: 583.4538 - val_mse: 1203423.7500\n",
      "Epoch 50/100\n",
      "18/18 [==============================] - 0s 6ms/step - loss: 110.1697 - mae: 110.1697 - mse: 72618.7500 - val_loss: 619.5305 - val_mae: 619.5305 - val_mse: 1284902.8750\n",
      "Epoch 51/100\n",
      "18/18 [==============================] - 0s 7ms/step - loss: 110.5440 - mae: 110.5440 - mse: 71646.3516 - val_loss: 616.7517 - val_mae: 616.7517 - val_mse: 1266221.1250\n",
      "Epoch 52/100\n",
      "18/18 [==============================] - 0s 5ms/step - loss: 112.2915 - mae: 112.2915 - mse: 74532.5781 - val_loss: 610.1122 - val_mae: 610.1122 - val_mse: 1259839.8750\n",
      "Epoch 53/100\n",
      "18/18 [==============================] - ETA: 0s - loss: 114.0698 - mae: 114.0698 - mse: 74481.1328INFO:tensorflow:Assets written to: model_experiments\\model_1_dense\\assets\n",
      "18/18 [==============================] - 1s 56ms/step - loss: 114.0698 - mae: 114.0698 - mse: 74481.1328 - val_loss: 576.9630 - val_mae: 576.9630 - val_mse: 1182411.0000\n",
      "Epoch 54/100\n",
      "18/18 [==============================] - 0s 6ms/step - loss: 109.0351 - mae: 109.0351 - mse: 70981.6875 - val_loss: 586.0322 - val_mae: 586.0322 - val_mse: 1199723.8750\n",
      "Epoch 55/100\n",
      "18/18 [==============================] - 0s 5ms/step - loss: 109.9873 - mae: 109.9873 - mse: 72567.3750 - val_loss: 578.2529 - val_mae: 578.2529 - val_mse: 1183964.1250\n",
      "Epoch 56/100\n",
      "18/18 [==============================] - 0s 7ms/step - loss: 109.3880 - mae: 109.3880 - mse: 70858.9453 - val_loss: 783.2790 - val_mae: 783.2790 - val_mse: 1764990.0000\n",
      "Epoch 57/100\n",
      "18/18 [==============================] - 0s 6ms/step - loss: 127.3474 - mae: 127.3474 - mse: 85026.4688 - val_loss: 650.6242 - val_mae: 650.6242 - val_mse: 1356884.2500\n",
      "Epoch 58/100\n",
      "18/18 [==============================] - 0s 5ms/step - loss: 112.2601 - mae: 112.2601 - mse: 71580.8984 - val_loss: 583.5626 - val_mae: 583.5626 - val_mse: 1193515.0000\n",
      "Epoch 59/100\n",
      "18/18 [==============================] - 0s 7ms/step - loss: 110.1028 - mae: 110.1028 - mse: 71649.0156 - val_loss: 591.9764 - val_mae: 591.9764 - val_mse: 1219443.1250\n",
      "Epoch 60/100\n",
      "18/18 [==============================] - 0s 5ms/step - loss: 110.0361 - mae: 110.0361 - mse: 72158.4375 - val_loss: 598.2544 - val_mae: 598.2544 - val_mse: 1222451.3750\n",
      "Epoch 61/100\n",
      "13/18 [====================>.........] - ETA: 0s - loss: 106.7491 - mae: 106.7491 - mse: 67808.4141 INFO:tensorflow:Assets written to: model_experiments\\model_1_dense\\assets\n",
      "18/18 [==============================] - 1s 58ms/step - loss: 107.8758 - mae: 107.8758 - mse: 70117.0078 - val_loss: 570.5861 - val_mae: 570.5861 - val_mse: 1169224.0000\n",
      "Epoch 62/100\n",
      "18/18 [==============================] - 0s 6ms/step - loss: 108.1153 - mae: 108.1153 - mse: 69495.6172 - val_loss: 571.9303 - val_mae: 571.9303 - val_mse: 1175124.2500\n",
      "Epoch 63/100\n",
      "18/18 [==============================] - 0s 8ms/step - loss: 108.6970 - mae: 108.6970 - mse: 70642.6562 - val_loss: 606.1838 - val_mae: 606.1838 - val_mse: 1238150.2500\n",
      "Epoch 64/100\n",
      "18/18 [==============================] - 0s 5ms/step - loss: 109.8059 - mae: 109.8059 - mse: 71231.7422 - val_loss: 591.0577 - val_mae: 591.0577 - val_mse: 1205409.3750\n",
      "Epoch 65/100\n",
      "18/18 [==============================] - 0s 6ms/step - loss: 112.5054 - mae: 112.5054 - mse: 73079.3203 - val_loss: 574.4854 - val_mae: 574.4854 - val_mse: 1180053.5000\n",
      "Epoch 66/100\n",
      "18/18 [==============================] - 0s 9ms/step - loss: 111.5761 - mae: 111.5761 - mse: 70815.7969 - val_loss: 588.4276 - val_mae: 588.4276 - val_mse: 1208748.0000\n",
      "Epoch 67/100\n",
      "18/18 [==============================] - 0s 6ms/step - loss: 108.4317 - mae: 108.4317 - mse: 69208.4766 - val_loss: 608.0080 - val_mae: 608.0080 - val_mse: 1251435.0000\n",
      "Epoch 68/100\n",
      "18/18 [==============================] - 0s 6ms/step - loss: 114.6547 - mae: 114.6547 - mse: 70445.0312 - val_loss: 692.9335 - val_mae: 692.9335 - val_mse: 1468052.5000\n",
      "Epoch 69/100\n",
      "18/18 [==============================] - 0s 8ms/step - loss: 122.5950 - mae: 122.5950 - mse: 78720.5625 - val_loss: 602.1034 - val_mae: 602.1034 - val_mse: 1236024.1250\n",
      "Epoch 70/100\n",
      "18/18 [==============================] - 0s 6ms/step - loss: 128.5327 - mae: 128.5327 - mse: 84258.4453 - val_loss: 582.7579 - val_mae: 582.7579 - val_mse: 1198547.6250\n",
      "Epoch 71/100\n",
      "18/18 [==============================] - 0s 6ms/step - loss: 111.2297 - mae: 111.2297 - mse: 70231.9766 - val_loss: 590.3304 - val_mae: 590.3304 - val_mse: 1201963.2500\n",
      "Epoch 72/100\n",
      "18/18 [==============================] - 0s 6ms/step - loss: 107.6160 - mae: 107.6160 - mse: 70613.2109 - val_loss: 578.0253 - val_mae: 578.0253 - val_mse: 1187856.1250\n",
      "Epoch 73/100\n",
      " 1/18 [>.............................] - ETA: 0s - loss: 127.7860 - mae: 127.7860 - mse: 133921.9688INFO:tensorflow:Assets written to: model_experiments\\model_1_dense\\assets\n",
      "18/18 [==============================] - 1s 70ms/step - loss: 107.5220 - mae: 107.5220 - mse: 69636.4141 - val_loss: 565.7101 - val_mae: 565.7101 - val_mse: 1159013.1250\n",
      "Epoch 74/100\n",
      " 6/18 [=========>....................] - ETA: 0s - loss: 117.6041 - mae: 117.6041 - mse: 88421.5859 INFO:tensorflow:Assets written to: model_experiments\\model_1_dense\\assets\n",
      "18/18 [==============================] - 1s 62ms/step - loss: 107.3011 - mae: 107.3011 - mse: 69824.0312 - val_loss: 564.2377 - val_mae: 564.2377 - val_mse: 1154271.7500\n",
      "Epoch 75/100\n",
      "18/18 [==============================] - 0s 8ms/step - loss: 107.1980 - mae: 107.1980 - mse: 69034.9609 - val_loss: 571.9153 - val_mae: 571.9153 - val_mse: 1165107.6250\n",
      "Epoch 76/100\n",
      "18/18 [==============================] - 0s 6ms/step - loss: 109.5487 - mae: 109.5487 - mse: 71317.7266 - val_loss: 566.0721 - val_mae: 566.0721 - val_mse: 1160270.7500\n",
      "Epoch 77/100\n",
      "18/18 [==============================] - 0s 5ms/step - loss: 106.5393 - mae: 106.5393 - mse: 68847.0547 - val_loss: 565.5777 - val_mae: 565.5777 - val_mse: 1159869.8750\n",
      "Epoch 78/100\n",
      "18/18 [==============================] - 0s 5ms/step - loss: 109.9624 - mae: 109.9624 - mse: 70134.6094 - val_loss: 568.4961 - val_mae: 568.4961 - val_mse: 1165677.6250\n",
      "Epoch 79/100\n",
      "18/18 [==============================] - 0s 6ms/step - loss: 108.4197 - mae: 108.4197 - mse: 71978.6562 - val_loss: 583.0579 - val_mae: 583.0579 - val_mse: 1194063.2500\n",
      "Epoch 80/100\n",
      "18/18 [==============================] - 0s 6ms/step - loss: 107.6993 - mae: 107.6993 - mse: 70183.2656 - val_loss: 613.6418 - val_mae: 613.6418 - val_mse: 1245812.2500\n",
      "Epoch 81/100\n",
      "18/18 [==============================] - 0s 6ms/step - loss: 107.8559 - mae: 107.8559 - mse: 69812.5547 - val_loss: 577.7537 - val_mae: 577.7537 - val_mse: 1184234.6250\n",
      "Epoch 82/100\n",
      "18/18 [==============================] - 0s 6ms/step - loss: 114.4867 - mae: 114.4867 - mse: 74793.5938 - val_loss: 565.8906 - val_mae: 565.8906 - val_mse: 1158650.0000\n",
      "Epoch 83/100\n",
      "18/18 [==============================] - 0s 5ms/step - loss: 111.6081 - mae: 111.6081 - mse: 71983.1328 - val_loss: 696.8113 - val_mae: 696.8113 - val_mse: 1475957.1250\n",
      "Epoch 84/100\n",
      "18/18 [==============================] - 0s 5ms/step - loss: 113.1647 - mae: 113.1647 - mse: 72610.6094 - val_loss: 565.1299 - val_mae: 565.1299 - val_mse: 1158244.0000\n",
      "Epoch 85/100\n",
      "14/18 [======================>.......] - ETA: 0s - loss: 103.8903 - mae: 103.8903 - mse: 64285.7266INFO:tensorflow:Assets written to: model_experiments\\model_1_dense\\assets\n",
      "18/18 [==============================] - 1s 52ms/step - loss: 107.3559 - mae: 107.3559 - mse: 69906.7422 - val_loss: 563.7312 - val_mae: 563.7312 - val_mse: 1153270.7500\n",
      "Epoch 86/100\n",
      "18/18 [==============================] - 0s 6ms/step - loss: 107.0930 - mae: 107.0930 - mse: 68180.7734 - val_loss: 574.8328 - val_mae: 574.8328 - val_mse: 1168396.5000\n",
      "Epoch 87/100\n",
      "18/18 [==============================] - 0s 5ms/step - loss: 105.8449 - mae: 105.8449 - mse: 67893.9531 - val_loss: 579.6866 - val_mae: 579.6866 - val_mse: 1186326.5000\n",
      "Epoch 88/100\n",
      "18/18 [==============================] - 0s 7ms/step - loss: 108.3483 - mae: 108.3483 - mse: 69446.9922 - val_loss: 563.9916 - val_mae: 563.9916 - val_mse: 1154803.7500\n",
      "Epoch 89/100\n",
      "18/18 [==============================] - 0s 7ms/step - loss: 107.6297 - mae: 107.6297 - mse: 67883.8516 - val_loss: 586.3266 - val_mae: 586.3266 - val_mse: 1199869.0000\n",
      "Epoch 90/100\n",
      "18/18 [==============================] - 0s 5ms/step - loss: 105.6641 - mae: 105.6641 - mse: 67175.5000 - val_loss: 601.7227 - val_mae: 601.7227 - val_mse: 1218452.2500\n",
      "Epoch 91/100\n",
      "18/18 [==============================] - 0s 5ms/step - loss: 110.5244 - mae: 110.5244 - mse: 71098.1250 - val_loss: 612.8620 - val_mae: 612.8620 - val_mse: 1255083.2500\n",
      "Epoch 92/100\n",
      "18/18 [==============================] - 0s 6ms/step - loss: 108.8323 - mae: 108.8323 - mse: 70179.9531 - val_loss: 579.6693 - val_mae: 579.6693 - val_mse: 1186343.3750\n",
      "Epoch 93/100\n",
      "18/18 [==============================] - 0s 10ms/step - loss: 114.8600 - mae: 114.8600 - mse: 72465.3984 - val_loss: 636.5441 - val_mae: 636.5441 - val_mse: 1308482.1250\n",
      "Epoch 94/100\n",
      "18/18 [==============================] - 0s 6ms/step - loss: 111.4340 - mae: 111.4340 - mse: 71689.2812 - val_loss: 609.4009 - val_mae: 609.4009 - val_mse: 1234882.1250\n",
      "Epoch 95/100\n",
      " 1/18 [>.............................] - ETA: 0s - loss: 143.2780 - mae: 143.2780 - mse: 114231.0938INFO:tensorflow:Assets written to: model_experiments\\model_1_dense\\assets\n",
      "18/18 [==============================] - 1s 55ms/step - loss: 106.5660 - mae: 106.5660 - mse: 66805.4844 - val_loss: 562.0013 - val_mae: 562.0013 - val_mse: 1148520.7500\n",
      "Epoch 96/100\n",
      "18/18 [==============================] - 0s 5ms/step - loss: 106.9830 - mae: 106.9830 - mse: 67991.8750 - val_loss: 582.5366 - val_mae: 582.5366 - val_mse: 1191965.8750\n",
      "Epoch 97/100\n",
      "18/18 [==============================] - 0s 6ms/step - loss: 105.9815 - mae: 105.9815 - mse: 68830.1094 - val_loss: 593.1877 - val_mae: 593.1877 - val_mse: 1199968.6250\n",
      "Epoch 98/100\n",
      "18/18 [==============================] - 0s 6ms/step - loss: 106.6904 - mae: 106.6904 - mse: 69304.4297 - val_loss: 578.4574 - val_mae: 578.4574 - val_mse: 1184339.6250\n",
      "Epoch 99/100\n",
      " 1/18 [>.............................] - ETA: 0s - loss: 152.5651 - mae: 152.5651 - mse: 126638.2188INFO:tensorflow:Assets written to: model_experiments\\model_1_dense\\assets\n",
      "18/18 [==============================] - 1s 43ms/step - loss: 106.6610 - mae: 106.6610 - mse: 68943.7500 - val_loss: 561.0565 - val_mae: 561.0565 - val_mse: 1143680.0000\n",
      "Epoch 100/100\n",
      "18/18 [==============================] - 0s 5ms/step - loss: 112.4594 - mae: 112.4594 - mse: 69937.5859 - val_loss: 615.6467 - val_mae: 615.6467 - val_mse: 1247313.2500\n"
     ]
    }
   ],
   "source": [
    "# Loading libraries\n",
    "import tensorflow as tf\n",
    "from tensorflow.keras import layers\n",
    "\n",
    "# Setting random seed\n",
    "tf.random.set_seed(42)\n",
    "\n",
    "# Constructing a model\n",
    "model_1 = tf.keras.Sequential([\n",
    "    layers.Dense(128, activation=\"relu\"),\n",
    "    layers.Dense(HORIZON, activation=\"linear\")\n",
    "], name=\"model_1_dense\")\n",
    "\n",
    "# Compiling the model\n",
    "model_1.compile(\n",
    "    loss=\"mae\",\n",
    "    optimizer=tf.keras.optimizers.Adam(),\n",
    "    metrics=[\"mae\", \"mse\"]\n",
    ")\n",
    "\n",
    "# Fitting the model\n",
    "history_1 = model_1.fit(\n",
    "    x=train_windows,\n",
    "    y=train_labels,\n",
    "    epochs=100,\n",
    "    verbose=1,\n",
    "    batch_size=128,\n",
    "    validation_data=(test_windows, test_labels),\n",
    "    callbacks=[create_model_checkpoint(model_name=model_1.name)]\n",
    ")"
   ]
  },
  {
   "cell_type": "code",
   "execution_count": 37,
   "metadata": {},
   "outputs": [
    {
     "name": "stdout",
     "output_type": "stream",
     "text": [
      "18/18 [==============================] - 0s 2ms/step - loss: 615.6467 - mae: 615.6467 - mse: 1247313.1250\n"
     ]
    },
    {
     "data": {
      "text/plain": [
       "[615.6466674804688, 615.6466674804688, 1247313.125]"
      ]
     },
     "execution_count": 37,
     "metadata": {},
     "output_type": "execute_result"
    }
   ],
   "source": [
    "# Evaluating the model on test data\n",
    "model_1.evaluate(test_windows, test_labels)"
   ]
  },
  {
   "cell_type": "code",
   "execution_count": 38,
   "metadata": {},
   "outputs": [
    {
     "name": "stdout",
     "output_type": "stream",
     "text": [
      "18/18 [==============================] - 0s 2ms/step - loss: 561.0565 - mae: 561.0565 - mse: 1143680.0000\n"
     ]
    },
    {
     "data": {
      "text/plain": [
       "[561.0565185546875, 561.0565185546875, 1143680.0]"
      ]
     },
     "execution_count": 38,
     "metadata": {},
     "output_type": "execute_result"
    }
   ],
   "source": [
    "# Loading the best performing model_1 run and evaluating on test data\n",
    "model_1_best = tf.keras.models.load_model(\"model_experiments/model_1_dense/\")\n",
    "model_1_best.evaluate(test_windows, test_labels)"
   ]
  },
  {
   "cell_type": "code",
   "execution_count": 39,
   "metadata": {},
   "outputs": [],
   "source": [
    "# Creating function to make predictions\n",
    "def make_preds(model, input_data):\n",
    "    forecast = model.predict(input_data)\n",
    "    return tf.squeeze(forecast) # 1D array of predictions"
   ]
  },
  {
   "cell_type": "code",
   "execution_count": 40,
   "metadata": {},
   "outputs": [
    {
     "name": "stdout",
     "output_type": "stream",
     "text": [
      "18/18 [==============================] - 0s 2ms/step\n"
     ]
    },
    {
     "data": {
      "text/plain": [
       "(556,\n",
       " <tf.Tensor: shape=(10,), dtype=float32, numpy=\n",
       " array([8725.503, 8663.989, 8906.555, 8673.503, 8653.85 , 8606.402,\n",
       "        8565.505, 8421.213, 8343.846, 8415.38 ], dtype=float32)>)"
      ]
     },
     "execution_count": 40,
     "metadata": {},
     "output_type": "execute_result"
    }
   ],
   "source": [
    "# Making predictions with the model 1\n",
    "model_1_preds = make_preds(model_1, test_windows)\n",
    "len(model_1_preds), model_1_preds[:10]"
   ]
  },
  {
   "cell_type": "code",
   "execution_count": 41,
   "metadata": {},
   "outputs": [
    {
     "data": {
      "text/plain": [
       "{'mae': 615.6467,\n",
       " 'mse': 1247313.1,\n",
       " 'rmse': 1116.8318,\n",
       " 'mape': 2.7973807,\n",
       " 'mase': 1.0815208}"
      ]
     },
     "execution_count": 41,
     "metadata": {},
     "output_type": "execute_result"
    }
   ],
   "source": [
    "# Evaluting model 1 predictions\n",
    "model_1_results = evaluate_preds(\n",
    "    y_true=tf.squeeze(test_labels),\n",
    "    y_pred=model_1_preds\n",
    ")\n",
    "model_1_results"
   ]
  },
  {
   "cell_type": "code",
   "execution_count": 42,
   "metadata": {},
   "outputs": [
    {
     "data": {
      "image/png": "[encoded data removed]",
      "text/plain": [
       "<Figure size 720x504 with 1 Axes>"
      ]
     },
     "metadata": {
      "needs_background": "light"
     },
     "output_type": "display_data"
    }
   ],
   "source": [
    "# Plotting model results\n",
    "offset = 300\n",
    "plt.figure(figsize=(10, 7))\n",
    "\n",
    "plot_time_series(\n",
    "    timestamps=X_test[-len(test_windows):],\n",
    "    values=test_labels[:, ],\n",
    "    start=offset,\n",
    "    label=\"Test Data\"\n",
    ")\n",
    "\n",
    "plot_time_series(\n",
    "    timestamps=X_test[-len(test_windows):],\n",
    "    values=model_1_preds,\n",
    "    start=offset,\n",
    "    label=\"Model 1 Preds\"\n",
    ")"
   ]
  },
  {
   "attachments": {},
   "cell_type": "markdown",
   "metadata": {},
   "source": [
    "### Model 2 - Dense model (window = 30, horizon = 1)"
   ]
  },
  {
   "cell_type": "code",
   "execution_count": 43,
   "metadata": {},
   "outputs": [],
   "source": [
    "# Hyperparameters\n",
    "HORIZON = 1\n",
    "WINDOW_SIZE = 30"
   ]
  },
  {
   "cell_type": "code",
   "execution_count": 44,
   "metadata": {},
   "outputs": [
    {
     "data": {
      "text/plain": [
       "(2757, 2757)"
      ]
     },
     "execution_count": 44,
     "metadata": {},
     "output_type": "execute_result"
    }
   ],
   "source": [
    "# Making windows data\n",
    "full_windows, full_labels = make_windows(\n",
    "    prices,\n",
    "    window_size=WINDOW_SIZE,\n",
    "    horizon=HORIZON\n",
    ")\n",
    "len(full_windows), len(full_labels)"
   ]
  },
  {
   "cell_type": "code",
   "execution_count": 45,
   "metadata": {},
   "outputs": [
    {
     "data": {
      "text/plain": [
       "(2205, 552, 2205, 552)"
      ]
     },
     "execution_count": 45,
     "metadata": {},
     "output_type": "execute_result"
    }
   ],
   "source": [
    "# Making train and test windows\n",
    "train_windows, test_windows, train_labels, test_labels = make_train_test_splits(\n",
    "    windows=full_windows,\n",
    "    labels=full_labels,\n",
    "    test_split=0.2\n",
    ")\n",
    "len(train_windows), len(test_windows), len(train_labels), len(test_labels)"
   ]
  },
  {
   "cell_type": "code",
   "execution_count": 46,
   "metadata": {},
   "outputs": [
    {
     "data": {
      "text/plain": [
       "array([[123.65499, 125.455  , 108.58483, 118.67466, 121.33866, 120.65533,\n",
       "        121.795  , 123.033  , 124.049  , 125.96116, 125.27966, 125.9275 ,\n",
       "        126.38333, 135.24199, 133.20333, 142.76333, 137.92333, 142.95166,\n",
       "        152.55183, 160.33883, 164.31499, 177.63333, 188.29716, 200.70166,\n",
       "        180.355  , 175.03166, 177.6965 , 187.15983, 192.75666, 197.4    ],\n",
       "       [125.455  , 108.58483, 118.67466, 121.33866, 120.65533, 121.795  ,\n",
       "        123.033  , 124.049  , 125.96116, 125.27966, 125.9275 , 126.38333,\n",
       "        135.24199, 133.20333, 142.76333, 137.92333, 142.95166, 152.55183,\n",
       "        160.33883, 164.31499, 177.63333, 188.29716, 200.70166, 180.355  ,\n",
       "        175.03166, 177.6965 , 187.15983, 192.75666, 197.4    , 196.02499],\n",
       "       [108.58483, 118.67466, 121.33866, 120.65533, 121.795  , 123.033  ,\n",
       "        124.049  , 125.96116, 125.27966, 125.9275 , 126.38333, 135.24199,\n",
       "        133.20333, 142.76333, 137.92333, 142.95166, 152.55183, 160.33883,\n",
       "        164.31499, 177.63333, 188.29716, 200.70166, 180.355  , 175.03166,\n",
       "        177.6965 , 187.15983, 192.75666, 197.4    , 196.02499, 198.04883]])"
      ]
     },
     "execution_count": 46,
     "metadata": {},
     "output_type": "execute_result"
    }
   ],
   "source": [
    "# Checking first 3 train windows\n",
    "train_windows[:3]"
   ]
  },
  {
   "cell_type": "code",
   "execution_count": 47,
   "metadata": {},
   "outputs": [
    {
     "name": "stdout",
     "output_type": "stream",
     "text": [
      "INFO:tensorflow:Assets written to: model_experiments\\model_2_dense\\assets\n",
      "INFO:tensorflow:Assets written to: model_experiments\\model_2_dense\\assets\n",
      "INFO:tensorflow:Assets written to: model_experiments\\model_2_dense\\assets\n",
      "INFO:tensorflow:Assets written to: model_experiments\\model_2_dense\\assets\n",
      "INFO:tensorflow:Assets written to: model_experiments\\model_2_dense\\assets\n",
      "INFO:tensorflow:Assets written to: model_experiments\\model_2_dense\\assets\n",
      "INFO:tensorflow:Assets written to: model_experiments\\model_2_dense\\assets\n",
      "INFO:tensorflow:Assets written to: model_experiments\\model_2_dense\\assets\n",
      "INFO:tensorflow:Assets written to: model_experiments\\model_2_dense\\assets\n",
      "INFO:tensorflow:Assets written to: model_experiments\\model_2_dense\\assets\n",
      "INFO:tensorflow:Assets written to: model_experiments\\model_2_dense\\assets\n",
      "INFO:tensorflow:Assets written to: model_experiments\\model_2_dense\\assets\n",
      "INFO:tensorflow:Assets written to: model_experiments\\model_2_dense\\assets\n",
      "INFO:tensorflow:Assets written to: model_experiments\\model_2_dense\\assets\n",
      "INFO:tensorflow:Assets written to: model_experiments\\model_2_dense\\assets\n",
      "INFO:tensorflow:Assets written to: model_experiments\\model_2_dense\\assets\n",
      "INFO:tensorflow:Assets written to: model_experiments\\model_2_dense\\assets\n",
      "INFO:tensorflow:Assets written to: model_experiments\\model_2_dense\\assets\n",
      "INFO:tensorflow:Assets written to: model_experiments\\model_2_dense\\assets\n",
      "INFO:tensorflow:Assets written to: model_experiments\\model_2_dense\\assets\n",
      "INFO:tensorflow:Assets written to: model_experiments\\model_2_dense\\assets\n",
      "INFO:tensorflow:Assets written to: model_experiments\\model_2_dense\\assets\n",
      "INFO:tensorflow:Assets written to: model_experiments\\model_2_dense\\assets\n",
      "INFO:tensorflow:Assets written to: model_experiments\\model_2_dense\\assets\n",
      "INFO:tensorflow:Assets written to: model_experiments\\model_2_dense\\assets\n",
      "INFO:tensorflow:Assets written to: model_experiments\\model_2_dense\\assets\n",
      "INFO:tensorflow:Assets written to: model_experiments\\model_2_dense\\assets\n",
      "INFO:tensorflow:Assets written to: model_experiments\\model_2_dense\\assets\n",
      "INFO:tensorflow:Assets written to: model_experiments\\model_2_dense\\assets\n",
      "INFO:tensorflow:Assets written to: model_experiments\\model_2_dense\\assets\n",
      "INFO:tensorflow:Assets written to: model_experiments\\model_2_dense\\assets\n",
      "INFO:tensorflow:Assets written to: model_experiments\\model_2_dense\\assets\n",
      "INFO:tensorflow:Assets written to: model_experiments\\model_2_dense\\assets\n",
      "INFO:tensorflow:Assets written to: model_experiments\\model_2_dense\\assets\n",
      "INFO:tensorflow:Assets written to: model_experiments\\model_2_dense\\assets\n"
     ]
    }
   ],
   "source": [
    "# Creating a model\n",
    "model_2 = tf.keras.Sequential([\n",
    "    layers.Dense(128, activation=\"relu\"),\n",
    "    layers.Dense(HORIZON)\n",
    "], name=\"model_2_dense\")\n",
    "\n",
    "# Compiling the model\n",
    "model_2.compile(\n",
    "    loss=\"mae\",\n",
    "    optimizer=tf.keras.optimizers.Adam(),\n",
    "    metrics=[\"mae\"]\n",
    ")\n",
    "\n",
    "# Fitting the model\n",
    "history_2 = model_2.fit(\n",
    "    train_windows,\n",
    "    train_labels,\n",
    "    epochs=100,\n",
    "    batch_size=128,\n",
    "    verbose=0,\n",
    "    validation_data=(test_windows, test_labels),\n",
    "    callbacks=[create_model_checkpoint(model_name=model_2.name)]\n",
    ")"
   ]
  },
  {
   "cell_type": "code",
   "execution_count": 48,
   "metadata": {},
   "outputs": [
    {
     "name": "stdout",
     "output_type": "stream",
     "text": [
      "18/18 [==============================] - 0s 2ms/step - loss: 649.1481 - mae: 649.1481\n"
     ]
    },
    {
     "data": {
      "text/plain": [
       "[649.1480712890625, 649.1480712890625]"
      ]
     },
     "execution_count": 48,
     "metadata": {},
     "output_type": "execute_result"
    }
   ],
   "source": [
    "# Evaluating model 2\n",
    "model_2.evaluate(test_windows, test_labels)"
   ]
  },
  {
   "cell_type": "code",
   "execution_count": 49,
   "metadata": {},
   "outputs": [
    {
     "name": "stdout",
     "output_type": "stream",
     "text": [
      "18/18 [==============================] - 0s 2ms/step - loss: 624.1382 - mae: 624.1382\n"
     ]
    },
    {
     "data": {
      "text/plain": [
       "[624.1382446289062, 624.1382446289062]"
      ]
     },
     "execution_count": 49,
     "metadata": {},
     "output_type": "execute_result"
    }
   ],
   "source": [
    "# Loading the best model 2\n",
    "model_2_best = tf.keras.models.load_model(\"model_experiments/model_2_dense/\")\n",
    "model_2_best.evaluate(test_windows, test_labels)"
   ]
  },
  {
   "cell_type": "code",
   "execution_count": 50,
   "metadata": {},
   "outputs": [
    {
     "name": "stdout",
     "output_type": "stream",
     "text": [
      "18/18 [==============================] - 0s 1ms/step\n"
     ]
    }
   ],
   "source": [
    "# getting model 2 predictions\n",
    "model_2_preds = make_preds(\n",
    "    model_2,\n",
    "    input_data=test_windows\n",
    ")"
   ]
  },
  {
   "cell_type": "code",
   "execution_count": 51,
   "metadata": {},
   "outputs": [
    {
     "data": {
      "text/plain": [
       "{'mae': 649.148,\n",
       " 'mse': 1377770.8,\n",
       " 'rmse': 1173.7848,\n",
       " 'mape': 2.9522805,\n",
       " 'mase': 1.1347171}"
      ]
     },
     "execution_count": 51,
     "metadata": {},
     "output_type": "execute_result"
    }
   ],
   "source": [
    "# Evaluating results\n",
    "model_2_results = evaluate_preds(\n",
    "    y_true=tf.squeeze(test_labels),\n",
    "    y_pred=model_2_preds\n",
    ")\n",
    "model_2_results"
   ]
  },
  {
   "cell_type": "code",
   "execution_count": 52,
   "metadata": {},
   "outputs": [
    {
     "data": {
      "image/png": "[encoded data removed]",
      "text/plain": [
       "<Figure size 720x504 with 1 Axes>"
      ]
     },
     "metadata": {
      "needs_background": "light"
     },
     "output_type": "display_data"
    }
   ],
   "source": [
    "# Visualising model 2 results\n",
    "offset = 300\n",
    "plt.figure(figsize=(10, 7))\n",
    "\n",
    "plot_time_series(\n",
    "    timestamps=X_test[-len(test_windows):],\n",
    "    values=test_labels[:, 0],\n",
    "    start=offset,\n",
    "    label=\"Test Data\"\n",
    ")\n",
    "\n",
    "plot_time_series(\n",
    "    timestamps=X_test[-len(test_windows):],\n",
    "    values=model_2_preds,\n",
    "    start=offset,\n",
    "    label=\"Model 2 Preds\"\n",
    ")"
   ]
  },
  {
   "attachments": {},
   "cell_type": "markdown",
   "metadata": {},
   "source": [
    "### Model 3 - Dense model (window = 30, horizon = 7)"
   ]
  },
  {
   "cell_type": "code",
   "execution_count": 53,
   "metadata": {},
   "outputs": [],
   "source": [
    "# Hyperparameters\n",
    "HORIZON = 7\n",
    "WINDOW_SIZE = 30"
   ]
  },
  {
   "cell_type": "code",
   "execution_count": 54,
   "metadata": {},
   "outputs": [
    {
     "data": {
      "text/plain": [
       "(2751, 2751)"
      ]
     },
     "execution_count": 54,
     "metadata": {},
     "output_type": "execute_result"
    }
   ],
   "source": [
    "# Making windows data\n",
    "full_windows, full_labels = make_windows(\n",
    "    prices,\n",
    "    window_size=WINDOW_SIZE,\n",
    "    horizon=HORIZON\n",
    ")\n",
    "len(full_windows), len(full_labels)"
   ]
  },
  {
   "cell_type": "code",
   "execution_count": 55,
   "metadata": {},
   "outputs": [
    {
     "data": {
      "text/plain": [
       "(2200, 551, 2200, 551)"
      ]
     },
     "execution_count": 55,
     "metadata": {},
     "output_type": "execute_result"
    }
   ],
   "source": [
    "# Making train and test windows\n",
    "train_windows, test_windows, train_labels, test_labels = make_train_test_splits(\n",
    "    windows=full_windows,\n",
    "    labels=full_labels,\n",
    "    test_split=0.2\n",
    ")\n",
    "len(train_windows), len(test_windows), len(train_labels), len(test_labels)"
   ]
  },
  {
   "cell_type": "code",
   "execution_count": 56,
   "metadata": {},
   "outputs": [
    {
     "name": "stdout",
     "output_type": "stream",
     "text": [
      "INFO:tensorflow:Assets written to: model_experiments\\model_3_dense\\assets\n",
      "INFO:tensorflow:Assets written to: model_experiments\\model_3_dense\\assets\n",
      "INFO:tensorflow:Assets written to: model_experiments\\model_3_dense\\assets\n",
      "INFO:tensorflow:Assets written to: model_experiments\\model_3_dense\\assets\n",
      "INFO:tensorflow:Assets written to: model_experiments\\model_3_dense\\assets\n",
      "INFO:tensorflow:Assets written to: model_experiments\\model_3_dense\\assets\n",
      "INFO:tensorflow:Assets written to: model_experiments\\model_3_dense\\assets\n",
      "INFO:tensorflow:Assets written to: model_experiments\\model_3_dense\\assets\n",
      "INFO:tensorflow:Assets written to: model_experiments\\model_3_dense\\assets\n",
      "INFO:tensorflow:Assets written to: model_experiments\\model_3_dense\\assets\n",
      "INFO:tensorflow:Assets written to: model_experiments\\model_3_dense\\assets\n",
      "INFO:tensorflow:Assets written to: model_experiments\\model_3_dense\\assets\n",
      "INFO:tensorflow:Assets written to: model_experiments\\model_3_dense\\assets\n",
      "INFO:tensorflow:Assets written to: model_experiments\\model_3_dense\\assets\n",
      "INFO:tensorflow:Assets written to: model_experiments\\model_3_dense\\assets\n",
      "INFO:tensorflow:Assets written to: model_experiments\\model_3_dense\\assets\n",
      "INFO:tensorflow:Assets written to: model_experiments\\model_3_dense\\assets\n",
      "INFO:tensorflow:Assets written to: model_experiments\\model_3_dense\\assets\n",
      "INFO:tensorflow:Assets written to: model_experiments\\model_3_dense\\assets\n",
      "INFO:tensorflow:Assets written to: model_experiments\\model_3_dense\\assets\n",
      "INFO:tensorflow:Assets written to: model_experiments\\model_3_dense\\assets\n",
      "INFO:tensorflow:Assets written to: model_experiments\\model_3_dense\\assets\n",
      "INFO:tensorflow:Assets written to: model_experiments\\model_3_dense\\assets\n",
      "INFO:tensorflow:Assets written to: model_experiments\\model_3_dense\\assets\n",
      "INFO:tensorflow:Assets written to: model_experiments\\model_3_dense\\assets\n"
     ]
    }
   ],
   "source": [
    "# Creating a model\n",
    "model_3 = tf.keras.Sequential([\n",
    "    layers.Dense(128, activation=\"relu\"),\n",
    "    layers.Dense(HORIZON)\n",
    "], name=\"model_3_dense\")\n",
    "\n",
    "# Compiling the model\n",
    "model_3.compile(\n",
    "    loss=\"mae\",\n",
    "    optimizer=tf.keras.optimizers.Adam(),\n",
    "    metrics=[\"mae\"]\n",
    ")\n",
    "\n",
    "# Fitting the model\n",
    "history_3 = model_3.fit(\n",
    "    train_windows,\n",
    "    train_labels,\n",
    "    epochs=100,\n",
    "    batch_size=128,\n",
    "    verbose=0,\n",
    "    validation_data=(test_windows, test_labels),\n",
    "    callbacks=[create_model_checkpoint(model_name=model_3.name)]\n",
    ")"
   ]
  },
  {
   "cell_type": "code",
   "execution_count": 57,
   "metadata": {},
   "outputs": [
    {
     "name": "stdout",
     "output_type": "stream",
     "text": [
      "18/18 [==============================] - 0s 2ms/step - loss: 1360.7954 - mae: 1360.7954\n"
     ]
    },
    {
     "data": {
      "text/plain": [
       "[1360.79541015625, 1360.79541015625]"
      ]
     },
     "execution_count": 57,
     "metadata": {},
     "output_type": "execute_result"
    }
   ],
   "source": [
    "# Evaluating model 3\n",
    "model_3.evaluate(test_windows, test_labels)"
   ]
  },
  {
   "cell_type": "code",
   "execution_count": 58,
   "metadata": {},
   "outputs": [
    {
     "name": "stdout",
     "output_type": "stream",
     "text": [
      "18/18 [==============================] - 0s 3ms/step\n"
     ]
    },
    {
     "data": {
      "text/plain": [
       "<tf.Tensor: shape=(3, 7), dtype=float32, numpy=\n",
       "array([[9231.858, 9279.451, 9467.592, 9010.591, 9093.543, 8779.799,\n",
       "        8938.377],\n",
       "       [8860.687, 8950.581, 9251.076, 8894.009, 8849.229, 8696.604,\n",
       "        8779.649],\n",
       "       [8573.125, 8869.231, 8995.994, 8781.648, 8749.147, 8604.346,\n",
       "        8836.576]], dtype=float32)>"
      ]
     },
     "execution_count": 58,
     "metadata": {},
     "output_type": "execute_result"
    }
   ],
   "source": [
    "# Making predictions with model 3\n",
    "model_3_preds = make_preds(\n",
    "    model_3,\n",
    "    input_data=test_windows\n",
    ")\n",
    "model_3_preds[:3]"
   ]
  },
  {
   "cell_type": "code",
   "execution_count": 59,
   "metadata": {},
   "outputs": [
    {
     "data": {
      "text/plain": [
       "{'mae': array([ 321.2437  ,  183.46498 ,  213.74037 ,  249.00139 ,  185.02707 ,\n",
       "         260.31216 ,  281.72293 ,  247.35178 ,  249.91483 ,  371.6861  ,\n",
       "         550.36487 ,  548.51337 ,  600.30225 ,  604.3625  ,  343.9924  ,\n",
       "         252.00928 ,  353.8228  ,  509.72293 ,  493.58344 ,  573.4366  ,\n",
       "         184.72803 ,  254.27455 ,  185.36063 ,  243.67961 ,  207.87584 ,\n",
       "         261.1263  ,  229.60275 ,  331.1852  ,  234.51326 ,  199.39168 ,\n",
       "         170.24086 ,  157.6716  ,  163.43039 ,  177.79213 ,  197.72453 ,\n",
       "         277.81284 ,  272.66595 ,  267.74603 ,  293.66895 ,  369.77512 ,\n",
       "         673.65497 ,  203.51863 ,  316.2256  ,  209.14795 ,  154.90639 ,\n",
       "         161.23723 ,  209.61922 ,  144.94035 ,  132.6298  ,  114.924385,\n",
       "         227.95201 ,  188.44922 ,  215.13902 ,  267.98373 ,  384.81696 ,\n",
       "         448.19733 ,  680.1561  ,  738.22375 ,  633.421   ,  741.4393  ,\n",
       "         573.7372  ,  398.535   ,  376.68442 ,  589.73944 ,  575.98004 ,\n",
       "         635.0739  ,  674.39984 ,  745.7807  ,  232.70299 ,  110.70341 ,\n",
       "         178.05273 ,  250.77567 ,  385.22867 ,  100.56403 ,  225.2168  ,\n",
       "         303.01144 ,  378.04688 ,  634.4371  ,  684.2518  ,  947.48517 ,\n",
       "        1047.6038  ,  800.5706  ,  517.9587  ,  343.08844 ,  241.8884  ,\n",
       "         273.3436  ,  360.5887  ,  465.64188 ,  549.1376  ,  796.98047 ,\n",
       "         739.9962  ,  673.579   ,  585.685   ,  397.9478  ,  209.6077  ,\n",
       "         301.91406 ,  167.52107 ,  350.10965 ,  426.0459  ,  483.44754 ,\n",
       "         182.655   ,  172.3849  ,  338.4961  ,  196.4615  ,  247.0512  ,\n",
       "         276.77203 ,  342.5777  ,  510.00668 ,  706.0612  ,  737.3665  ,\n",
       "         567.5329  ,  241.81361 ,  345.9113  ,  365.5385  ,  413.50864 ,\n",
       "         550.4043  ,  293.8828  ,  310.48404 ,  404.91428 ,  917.64844 ,\n",
       "        1503.1161  , 1882.001   , 1781.3063  , 1830.3502  , 2022.3282  ,\n",
       "        2257.2908  ,  966.5928  ,  644.9208  ,  586.2067  ,  593.3072  ,\n",
       "         733.8802  ,  544.4048  ,  862.2025  ,  491.05463 ,  467.36252 ,\n",
       "         272.28125 ,  339.44998 ,  198.66316 ,  281.59967 ,  324.9804  ,\n",
       "         408.50327 ,  552.46124 ,  620.3387  ,  999.8587  ,  673.80725 ,\n",
       "         751.09045 ,  668.76984 ,  499.4917  ,  264.09857 ,  233.78027 ,\n",
       "         296.458   ,  174.00537 ,  237.23953 ,  278.22607 ,  340.08176 ,\n",
       "         169.17795 ,  273.20297 ,  390.9509  ,  311.29437 ,  308.3828  ,\n",
       "         505.02985 ,  240.13309 ,  368.02426 ,  339.98242 ,  385.27115 ,\n",
       "         526.8179  ,  787.4927  ,  883.50507 ,  687.7812  ,  835.6109  ,\n",
       "        1009.40314 ,  978.71674 , 1094.3439  , 1301.9574  ,  507.7253  ,\n",
       "         499.27023 ,  495.90903 ,  531.91516 ,  450.85547 ,  468.76675 ,\n",
       "         496.4368  ,  408.0314  ,  565.47253 ,  652.35297 ,  560.0159  ,\n",
       "         446.82297 ,  733.86914 ,  920.02374 ,  581.73676 ,  214.1741  ,\n",
       "         287.2892  ,  168.12611 ,  150.16476 ,  242.04256 ,  433.18918 ,\n",
       "         395.05414 ,  265.62402 ,  342.84402 ,  451.5996  ,  501.1815  ,\n",
       "         775.90765 ,  919.9117  ,  912.77386 ,  607.6874  ,  528.88074 ,\n",
       "         281.37906 ,  361.86734 ,  326.06    ,  192.45158 ,  143.34305 ,\n",
       "         206.8026  ,  245.56445 ,  205.40067 ,  146.51004 ,  201.8411  ,\n",
       "         288.9064  ,  287.92047 ,  133.81766 ,  152.14592 ,  158.46135 ,\n",
       "         134.95801 ,  209.869   ,  258.7415  ,  362.86285 ,  252.92062 ,\n",
       "         310.1346  ,  212.62361 ,  293.06793 ,  189.09416 ,  274.69125 ,\n",
       "         163.01869 ,  193.89049 ,  163.88533 ,  237.95047 ,  201.36998 ,\n",
       "         242.39104 ,  258.05453 ,  221.29897 ,  320.0441  ,  264.37933 ,\n",
       "         299.29172 ,  367.35797 ,  249.31291 ,  229.72726 ,  152.69559 ,\n",
       "         156.905   ,  109.9375  ,  166.5964  ,  168.3344  ,  161.53893 ,\n",
       "         165.54436 ,  242.5053  ,  324.00504 ,  398.79422 ,  399.11203 ,\n",
       "         508.63168 ,  831.9205  ,  896.8903  , 1018.94336 , 1077.0638  ,\n",
       "        1352.8654  , 1494.0614  , 1518.8025  ,  591.75574 ,  468.11398 ,\n",
       "         184.31516 ,  449.1225  ,  374.71722 ,  346.0551  ,  298.64285 ,\n",
       "         428.22488 ,  479.7327  ,  338.63297 ,  224.10324 ,  199.12918 ,\n",
       "         271.86832 ,  420.59152 ,  373.02094 ,  466.80148 ,  613.4926  ,\n",
       "         460.31656 ,  460.13644 ,  240.01758 ,  281.83203 ,  149.1342  ,\n",
       "         276.55887 ,  187.67746 ,  207.77637 ,  136.6511  ,  239.5452  ,\n",
       "         244.67676 ,  245.11649 ,  433.5544  ,  431.98535 ,  480.11566 ,\n",
       "         397.7525  ,  461.71652 ,  702.9642  ,  881.4378  , 1263.6793  ,\n",
       "        1066.5822  ,  577.85126 ,  308.31082 ,  455.09848 ,  444.27664 ,\n",
       "         361.55804 ,  641.26886 ,  622.31024 ,  659.2115  ,  628.0078  ,\n",
       "         557.13074 ,  716.4388  ,  462.8527  ,  309.36313 ,  191.89592 ,\n",
       "         179.33022 ,  287.61258 ,  331.90836 ,  353.17203 ,  360.86215 ,\n",
       "         324.83832 ,  605.9297  ,  303.71582 ,  151.53822 ,  133.15318 ,\n",
       "         142.65248 ,  162.6282  ,  192.09975 ,  237.18164 ,  245.76424 ,\n",
       "         343.63394 ,  539.80457 ,  573.8344  ,  650.8295  ,  820.8856  ,\n",
       "         916.02106 ,  830.2977  ,  624.21063 ,  382.1649  ,  268.44754 ,\n",
       "         202.14035 ,  262.43527 ,  561.3251  ,  749.5226  , 1006.1413  ,\n",
       "        1322.16    , 1440.0326  , 1409.5946  , 1486.557   ,  595.56586 ,\n",
       "         349.75406 ,  412.78082 ,  380.90094 ,  507.45215 ,  687.226   ,\n",
       "         287.5102  ,  545.40344 ,  710.2679  , 1090.6692  ,  953.53973 ,\n",
       "        1128.6163  , 1411.926   , 1572.7566  , 1505.3837  ,  707.0731  ,\n",
       "         543.0833  ,  782.8372  ,  574.3789  ,  977.9245  , 1256.9879  ,\n",
       "        1153.0146  , 1251.4727  , 1275.6532  , 1708.1403  , 2146.7632  ,\n",
       "        1880.6946  , 1436.4241  , 1047.1959  ,  788.78937 ,  665.2355  ,\n",
       "         476.76562 ,  605.3887  ,  890.9096  , 1013.74023 , 1140.8279  ,\n",
       "        1234.0106  , 1846.117   , 1790.433   , 1700.2444  ,  525.34656 ,\n",
       "         466.71735 ,  387.5784  ,  310.94336 ,  193.11217 ,  434.33035 ,\n",
       "         570.6247  ,  579.4425  ,  767.4481  , 1077.3167  , 1993.5477  ,\n",
       "        2877.6118  , 3076.786   , 3392.7727  , 3652.6453  , 3850.4634  ,\n",
       "        2887.3726  , 1070.5477  ,  786.673   , 1006.10046 , 1420.3092  ,\n",
       "        1785.2126  , 2159.5562  , 3093.3267  , 3703.1125  , 3695.5232  ,\n",
       "        2966.8914  , 3056.8777  , 3521.5085  , 4193.2524  , 3859.463   ,\n",
       "        4777.3765  , 5910.453   , 5182.145   , 4863.807   , 5955.712   ,\n",
       "        3800.5083  , 2491.8928  , 1983.1345  , 3305.7031  , 4453.157   ,\n",
       "        3653.323   ,  985.61163 , 1661.8928  ,  851.68805 , 1785.7338  ,\n",
       "        1708.1311  , 1834.3744  , 2039.5167  , 2242.7039  , 3381.9438  ,\n",
       "        3488.2007  , 1172.5273  , 1258.1185  , 2190.6765  , 2194.82    ,\n",
       "        2685.5117  , 3179.0073  , 5003.685   , 3847.2175  , 3041.48    ,\n",
       "        2723.1428  , 4073.678   , 5159.273   , 5289.9844  , 5058.019   ,\n",
       "        6712.198   , 7537.204   , 6453.443   , 9122.162   , 4786.4507  ,\n",
       "        2055.6003  , 3131.2925  , 2169.2708  , 2664.4983  , 4137.6157  ,\n",
       "        3688.0513  , 4908.6514  , 4335.285   , 2741.5195  , 2821.7087  ,\n",
       "        4138.36    , 5738.8394  , 8290.41    , 7685.37    , 3468.688   ,\n",
       "        1787.173   , 2418.842   , 3439.191   , 3387.7466  , 5440.958   ,\n",
       "        3656.3308  , 5137.606   , 3242.6245  , 5070.484   , 6069.0415  ,\n",
       "        7752.824   , 7276.0366  , 7078.082   , 5259.293   , 3507.0425  ,\n",
       "        1820.1608  , 2834.4927  , 1484.5178  , 1758.822   , 1295.0067  ,\n",
       "        1836.1361  , 2085.399   , 2902.9783  , 3397.5535  , 4146.0205  ,\n",
       "        3276.317   , 2579.4185  , 2635.5     , 3320.9995  , 5964.843   ,\n",
       "        5254.535   , 3864.6814  , 4051.131   , 3414.3528  , 1815.89    ,\n",
       "        1152.3275  , 1106.7634  ,  832.2249  , 1256.2645  , 1870.9006  ,\n",
       "        1769.5681  , 2559.4348  , 3747.6194  , 4993.1104  , 4448.23    ,\n",
       "        3556.7449  , 3124.7227  , 2620.3042  , 3111.3293  , 4234.2217  ,\n",
       "        6257.735   , 7133.2993  , 6229.5757  , 4093.8464  , 3951.5012  ,\n",
       "        3324.7908  , 2881.327   , 2919.6936  , 3767.319   , 5410.5854  ,\n",
       "        7584.5093  , 5163.6396  , 3040.234   , 2599.6301  , 3958.6746  ,\n",
       "        1629.9799  , 2003.0948  , 2318.0894  , 2115.7449  , 3502.891   ,\n",
       "        2767.0112  , 2046.847   , 2920.9614  , 4670.643   , 5936.8057  ,\n",
       "        6933.7236  ], dtype=float32),\n",
       " 'mse': array([1.21809641e+05, 5.98806211e+04, 7.04958828e+04, 7.33325703e+04,\n",
       "        4.72668555e+04, 7.51088047e+04, 1.15285125e+05, 8.56666094e+04,\n",
       "        1.22935922e+05, 2.03021172e+05, 4.32085688e+05, 3.88744062e+05,\n",
       "        4.40248844e+05, 4.37092156e+05, 1.60278531e+05, 8.88315781e+04,\n",
       "        1.91287844e+05, 3.53363344e+05, 3.08267062e+05, 3.48042438e+05,\n",
       "        5.42883359e+04, 8.78041328e+04, 6.07886602e+04, 7.77803359e+04,\n",
       "        5.50971953e+04, 1.19612539e+05, 8.33313047e+04, 1.20165602e+05,\n",
       "        6.75237891e+04, 5.14861328e+04, 4.78039180e+04, 3.97194375e+04,\n",
       "        3.56320664e+04, 7.54397891e+04, 5.18807539e+04, 1.19845172e+05,\n",
       "        1.19887016e+05, 1.31553891e+05, 1.20464430e+05, 1.66583109e+05,\n",
       "        4.97168031e+05, 7.42518672e+04, 1.24926398e+05, 4.94236445e+04,\n",
       "        4.02169805e+04, 3.39292305e+04, 6.21826680e+04, 2.75841113e+04,\n",
       "        2.84970137e+04, 1.85258105e+04, 5.61798945e+04, 5.06374375e+04,\n",
       "        5.12365703e+04, 1.21141492e+05, 2.72117062e+05, 3.70485344e+05,\n",
       "        6.10416500e+05, 6.46398438e+05, 4.65299344e+05, 5.83182375e+05,\n",
       "        3.98816844e+05, 2.32916219e+05, 2.62182844e+05, 5.21279344e+05,\n",
       "        4.71556031e+05, 5.50877688e+05, 5.30513625e+05, 5.76128875e+05,\n",
       "        6.82430859e+04, 2.27578262e+04, 4.55111250e+04, 7.50705859e+04,\n",
       "        1.63800141e+05, 1.24397744e+04, 8.53406016e+04, 1.10215859e+05,\n",
       "        2.33150766e+05, 6.46271438e+05, 7.39681875e+05, 1.07698462e+06,\n",
       "        1.20235088e+06, 6.78738125e+05, 2.82636719e+05, 1.53572328e+05,\n",
       "        9.06262578e+04, 1.03020211e+05, 1.75619250e+05, 3.27118688e+05,\n",
       "        4.39697844e+05, 7.35776625e+05, 6.70701312e+05, 5.39608500e+05,\n",
       "        4.19028781e+05, 2.38636406e+05, 6.18333047e+04, 1.23578266e+05,\n",
       "        4.17301055e+04, 1.64167625e+05, 2.15318781e+05, 3.00555906e+05,\n",
       "        6.13709297e+04, 4.52370430e+04, 1.67839281e+05, 5.19871445e+04,\n",
       "        8.51262734e+04, 1.26357414e+05, 1.67124297e+05, 3.12904406e+05,\n",
       "        6.09010812e+05, 6.35341438e+05, 3.58344438e+05, 7.71789141e+04,\n",
       "        1.56741719e+05, 2.18766531e+05, 2.62890031e+05, 4.24024531e+05,\n",
       "        1.35832516e+05, 1.14369953e+05, 2.04277828e+05, 1.55982238e+06,\n",
       "        3.49940000e+06, 4.76304950e+06, 4.36226850e+06, 4.58797700e+06,\n",
       "        4.70023750e+06, 5.23132000e+06, 1.04409888e+06, 4.71436719e+05,\n",
       "        5.12520750e+05, 5.42714375e+05, 6.96598438e+05, 4.29705844e+05,\n",
       "        9.20687062e+05, 3.24652562e+05, 2.78666062e+05, 1.01647602e+05,\n",
       "        1.55003500e+05, 6.28045078e+04, 1.03296109e+05, 1.50775172e+05,\n",
       "        2.26328719e+05, 4.05085938e+05, 5.60331188e+05, 1.18370688e+06,\n",
       "        5.45584688e+05, 6.44973688e+05, 4.64244281e+05, 3.06391969e+05,\n",
       "        1.00829453e+05, 8.62599297e+04, 1.03392391e+05, 5.17655430e+04,\n",
       "        1.03793250e+05, 1.18156320e+05, 1.33006344e+05, 4.66699336e+04,\n",
       "        1.17800508e+05, 2.09777266e+05, 1.37980641e+05, 1.22876211e+05,\n",
       "        2.92191906e+05, 8.04949297e+04, 1.87132922e+05, 1.41724672e+05,\n",
       "        1.55661406e+05, 3.70954656e+05, 7.08573938e+05, 1.03176269e+06,\n",
       "        8.31701812e+05, 1.19236838e+06, 1.48496412e+06, 1.27555462e+06,\n",
       "        1.40474475e+06, 1.72470262e+06, 2.84533094e+05, 4.24499656e+05,\n",
       "        4.21825062e+05, 4.24125156e+05, 3.18248594e+05, 3.56152562e+05,\n",
       "        3.35471000e+05, 2.14936203e+05, 5.05214156e+05, 6.60200500e+05,\n",
       "        5.17965062e+05, 2.44404922e+05, 6.87681000e+05, 9.50971500e+05,\n",
       "        4.45585000e+05, 5.50954180e+04, 1.02440875e+05, 5.00978047e+04,\n",
       "        3.50087539e+04, 8.28444141e+04, 2.39977172e+05, 1.68419781e+05,\n",
       "        8.09860859e+04, 1.54144000e+05, 2.58668922e+05, 3.50305000e+05,\n",
       "        9.35151125e+05, 1.12481488e+06, 9.80794875e+05, 4.61782219e+05,\n",
       "        3.36471969e+05, 1.24660875e+05, 1.89007031e+05, 1.45252750e+05,\n",
       "        5.77767695e+04, 2.65902051e+04, 8.98973672e+04, 7.48805781e+04,\n",
       "        5.81414922e+04, 3.09361699e+04, 5.89954023e+04, 1.07643391e+05,\n",
       "        1.07753602e+05, 3.03955488e+04, 2.58807324e+04, 3.26011387e+04,\n",
       "        2.66005977e+04, 8.69019531e+04, 1.17785961e+05, 1.99811547e+05,\n",
       "        9.88714141e+04, 1.31077438e+05, 6.05591914e+04, 1.14587758e+05,\n",
       "        4.72857148e+04, 1.05487289e+05, 5.88569492e+04, 5.67230977e+04,\n",
       "        3.66044453e+04, 7.45694297e+04, 5.58972500e+04, 7.20888594e+04,\n",
       "        1.01061805e+05, 7.32618516e+04, 1.50675578e+05, 9.84848359e+04,\n",
       "        1.27990820e+05, 1.49365734e+05, 7.01591797e+04, 6.87191406e+04,\n",
       "        3.64124922e+04, 3.14749082e+04, 1.75109395e+04, 4.40482227e+04,\n",
       "        3.87130195e+04, 3.67448633e+04, 4.19993477e+04, 9.26362266e+04,\n",
       "        1.64239000e+05, 2.32086219e+05, 2.46674703e+05, 3.44053656e+05,\n",
       "        1.08871188e+06, 1.39794175e+06, 1.73480288e+06, 1.81814612e+06,\n",
       "        2.28207600e+06, 2.56277325e+06, 2.44499550e+06, 4.46455406e+05,\n",
       "        2.91401219e+05, 6.34607695e+04, 2.77799406e+05, 1.69245672e+05,\n",
       "        1.62993625e+05, 1.37214781e+05, 2.03587656e+05, 3.07385656e+05,\n",
       "        1.53135906e+05, 6.02621602e+04, 4.58198203e+04, 1.32055328e+05,\n",
       "        1.98221578e+05, 1.95061328e+05, 3.39257156e+05, 4.31447719e+05,\n",
       "        2.87245188e+05, 2.45224844e+05, 7.36934297e+04, 1.17716820e+05,\n",
       "        3.20358379e+04, 1.27138336e+05, 4.48025586e+04, 5.74197422e+04,\n",
       "        2.77239941e+04, 6.62207031e+04, 7.10697578e+04, 8.16781328e+04,\n",
       "        2.74941812e+05, 3.19936406e+05, 2.81567094e+05, 2.10179219e+05,\n",
       "        2.94036281e+05, 5.81196000e+05, 8.91214625e+05, 1.85214375e+06,\n",
       "        1.20739912e+06, 4.08118906e+05, 1.16541461e+05, 2.56498859e+05,\n",
       "        2.49093750e+05, 2.13529719e+05, 5.31509875e+05, 5.63774875e+05,\n",
       "        6.10945125e+05, 5.59304375e+05, 4.07770500e+05, 5.57046250e+05,\n",
       "        2.63260562e+05, 1.28585383e+05, 5.32132852e+04, 3.79356055e+04,\n",
       "        1.10930820e+05, 1.62966344e+05, 1.68938422e+05, 1.59121328e+05,\n",
       "        1.59259484e+05, 3.99887656e+05, 1.08627367e+05, 3.26211914e+04,\n",
       "        2.29326777e+04, 2.95969785e+04, 4.83658477e+04, 6.81109453e+04,\n",
       "        7.45040469e+04, 8.48035859e+04, 2.15119109e+05, 4.16041156e+05,\n",
       "        4.99558594e+05, 6.82881812e+05, 9.20378625e+05, 9.51714562e+05,\n",
       "        7.70848875e+05, 4.21726438e+05, 1.68228078e+05, 9.88546797e+04,\n",
       "        4.73292930e+04, 1.26248016e+05, 6.58543625e+05, 1.11163050e+06,\n",
       "        1.73555088e+06, 2.37210375e+06, 2.42451075e+06, 2.13923675e+06,\n",
       "        2.34137075e+06, 5.14592156e+05, 2.09615922e+05, 2.30404875e+05,\n",
       "        2.38392203e+05, 3.64567219e+05, 5.67486625e+05, 1.21048375e+05,\n",
       "        4.19800219e+05, 1.01640650e+06, 2.00865375e+06, 1.65185412e+06,\n",
       "        2.05336238e+06, 2.48351475e+06, 2.66965875e+06, 2.50144175e+06,\n",
       "        6.88719125e+05, 5.14582281e+05, 9.17279688e+05, 5.32425812e+05,\n",
       "        1.29005688e+06, 2.09027038e+06, 2.00483138e+06, 2.34579850e+06,\n",
       "        2.63308875e+06, 4.00969375e+06, 5.24380150e+06, 3.85219200e+06,\n",
       "        2.26187875e+06, 1.33861462e+06, 7.25222938e+05, 5.79462688e+05,\n",
       "        3.48278969e+05, 6.97796500e+05, 1.10029775e+06, 1.46472688e+06,\n",
       "        1.45875338e+06, 2.29455625e+06, 3.77760575e+06, 3.44025875e+06,\n",
       "        3.14048600e+06, 3.76805844e+05, 2.84932969e+05, 1.90162500e+05,\n",
       "        1.65640609e+05, 4.90383398e+04, 2.40611578e+05, 3.82811562e+05,\n",
       "        4.41760000e+05, 7.69523875e+05, 2.20478275e+06, 7.20976700e+06,\n",
       "        1.25845420e+07, 1.42148060e+07, 1.51971430e+07, 1.52569820e+07,\n",
       "        1.54380940e+07, 8.40335000e+06, 1.32384962e+06, 9.49838312e+05,\n",
       "        1.76409538e+06, 3.32735375e+06, 5.52352500e+06, 7.45248050e+06,\n",
       "        1.24443050e+07, 1.61223930e+07, 1.59410610e+07, 1.31006110e+07,\n",
       "        1.51345680e+07, 1.70914700e+07, 2.24220580e+07, 2.11999200e+07,\n",
       "        3.37428360e+07, 4.77450520e+07, 3.90679240e+07, 3.29594060e+07,\n",
       "        4.12922680e+07, 1.85686340e+07, 8.58377700e+06, 5.85251200e+06,\n",
       "        1.67035730e+07, 2.40946860e+07, 1.50128590e+07, 1.27528400e+06,\n",
       "        3.16224675e+06, 1.44521712e+06, 5.95627750e+06, 4.42783800e+06,\n",
       "        5.86318400e+06, 6.87723300e+06, 8.15482500e+06, 1.39769490e+07,\n",
       "        1.27474060e+07, 2.48241475e+06, 2.62979450e+06, 8.43698300e+06,\n",
       "        6.63028450e+06, 9.27470300e+06, 1.33239380e+07, 3.09247960e+07,\n",
       "        1.97287780e+07, 1.31881370e+07, 1.16891220e+07, 2.08840800e+07,\n",
       "        3.49259600e+07, 4.37673040e+07, 4.41928320e+07, 6.19487120e+07,\n",
       "        7.10980000e+07, 5.08989360e+07, 8.88525920e+07, 2.48262560e+07,\n",
       "        5.44564150e+06, 1.27036260e+07, 9.71385300e+06, 1.25073130e+07,\n",
       "        2.65761420e+07, 2.26129420e+07, 3.31758860e+07, 2.55432140e+07,\n",
       "        1.16137070e+07, 8.89837300e+06, 2.46072320e+07, 3.98504840e+07,\n",
       "        7.63737440e+07, 6.18799240e+07, 1.53355810e+07, 5.11177250e+06,\n",
       "        7.91679650e+06, 1.47915200e+07, 1.68038360e+07, 3.33069280e+07,\n",
       "        1.74159820e+07, 3.47596200e+07, 1.95129920e+07, 3.87693000e+07,\n",
       "        5.09943880e+07, 7.47827280e+07, 6.18921160e+07, 5.55870640e+07,\n",
       "        3.15195160e+07, 1.43187590e+07, 5.40267750e+06, 9.37126900e+06,\n",
       "        4.42967450e+06, 4.50099950e+06, 2.22047475e+06, 4.73373050e+06,\n",
       "        7.13552050e+06, 1.22705510e+07, 1.59875540e+07, 2.15679260e+07,\n",
       "        1.55317930e+07, 9.46914500e+06, 9.77746400e+06, 1.65311820e+07,\n",
       "        4.16119600e+07, 3.29488460e+07, 1.79624260e+07, 1.73614000e+07,\n",
       "        1.39095310e+07, 4.46375150e+06, 2.32809025e+06, 1.68939812e+06,\n",
       "        1.05736788e+06, 1.93448475e+06, 4.69390900e+06, 4.02323025e+06,\n",
       "        9.04138700e+06, 2.25483060e+07, 3.19398840e+07, 2.53165480e+07,\n",
       "        1.52881700e+07, 1.10460060e+07, 8.64072500e+06, 1.33210260e+07,\n",
       "        2.28439640e+07, 4.81189680e+07, 5.80851600e+07, 4.21186480e+07,\n",
       "        2.11351540e+07, 2.01701280e+07, 1.59915260e+07, 1.08440970e+07,\n",
       "        1.08754270e+07, 1.96050360e+07, 3.87985160e+07, 6.33678320e+07,\n",
       "        3.14152800e+07, 1.28002170e+07, 8.31013950e+06, 1.89025920e+07,\n",
       "        3.55052575e+06, 6.53112450e+06, 7.72124250e+06, 6.10829850e+06,\n",
       "        1.45358750e+07, 8.34832100e+06, 5.87454100e+06, 1.18351130e+07,\n",
       "        2.97830900e+07, 4.76324600e+07, 6.06694160e+07], dtype=float32),\n",
       " 'rmse': array([ 349.0124 ,  244.70517,  265.51062,  270.79987,  217.40942,\n",
       "         274.05984,  339.53662,  292.6886 ,  350.6222 ,  450.5787 ,\n",
       "         657.3323 ,  623.4934 ,  663.5125 ,  661.12946,  400.34802,\n",
       "         298.04626,  437.36465,  594.4437 ,  555.218  ,  589.95123,\n",
       "         232.99858,  296.31763,  246.55356,  278.89127,  234.72792,\n",
       "         345.85046,  288.67163,  346.6491 ,  259.8534 ,  226.90556,\n",
       "         218.64107,  199.29736,  188.76457,  274.66306,  227.77347,\n",
       "         346.1866 ,  346.24704,  362.70358,  347.07986,  408.14594,\n",
       "         705.10144,  272.49194,  353.44928,  222.31429,  200.54172,\n",
       "         184.19888,  249.36453,  166.08466,  168.8106 ,  136.10956,\n",
       "         237.02298,  225.02763,  226.35497,  348.05386,  521.64844,\n",
       "         608.67505,  781.29156,  803.9891 ,  682.12854,  763.66376,\n",
       "         631.5195 ,  482.61395,  512.0379 ,  721.99677,  686.6994 ,\n",
       "         742.21136,  728.36365,  759.03156,  261.23376,  150.85698,\n",
       "         213.33336,  273.9901 ,  404.7223 ,  111.53374,  292.13113,\n",
       "         331.98773,  482.85687,  803.9101 ,  860.0476 , 1037.7787 ,\n",
       "        1096.5176 ,  823.85565,  531.63586,  391.88306,  301.04196,\n",
       "         320.96762,  419.06952,  571.94293,  663.09717,  857.77423,\n",
       "         818.96356,  734.5805 ,  647.32434,  488.50424,  248.66304,\n",
       "         351.53702,  204.27948,  405.17606,  464.02454,  548.2298 ,\n",
       "         247.73157,  212.69002,  409.68192,  228.0069 ,  291.76407,\n",
       "         355.4679 ,  408.80838,  559.3786 ,  780.3914 ,  797.08307,\n",
       "         598.6188 ,  277.81094,  395.9062 ,  467.72485,  512.728  ,\n",
       "         651.17163,  368.55463,  338.18628,  451.97104, 1248.9285 ,\n",
       "        1870.6683 , 2182.4412 , 2088.6045 , 2141.9563 , 2168.0032 ,\n",
       "        2287.208  , 1021.8116 ,  686.6125 ,  715.9055 ,  736.6915 ,\n",
       "         834.62476,  655.51953,  959.5244 ,  569.7829 ,  527.8883 ,\n",
       "         318.8222 ,  393.70483,  250.60828,  321.39713,  388.2978 ,\n",
       "         475.74017,  636.4636 ,  748.55273, 1087.9829 ,  738.637  ,\n",
       "         803.10254,  681.35474,  553.52686,  317.53653,  293.7004 ,\n",
       "         321.54688,  227.52042,  322.1696 ,  343.73874,  364.70035,\n",
       "         216.03226,  343.2208 ,  458.0145 ,  371.45746,  350.53702,\n",
       "         540.5478 ,  283.71628,  432.58862,  376.46338,  394.5395 ,\n",
       "         609.0605 ,  841.7683 , 1015.7572 ,  911.97687, 1091.9562 ,\n",
       "        1218.5911 , 1129.4045 , 1185.2192 , 1313.2793 ,  533.41644,\n",
       "         651.5364 ,  649.4806 ,  651.2489 ,  564.13525,  596.7852 ,\n",
       "         579.1986 ,  463.61212,  710.7842 ,  812.5272 ,  719.6979 ,\n",
       "         494.37326,  829.2653 ,  975.1777 ,  667.52155,  234.72414,\n",
       "         320.06387,  223.8254 ,  187.10626,  287.82706,  489.87466,\n",
       "         410.3898 ,  284.58054,  392.61176,  508.59506,  591.8657 ,\n",
       "         967.0321 , 1060.5729 ,  990.3509 ,  679.5456 ,  580.062  ,\n",
       "         353.07346,  434.7494 ,  381.1204 ,  240.36798,  163.06503,\n",
       "         299.8289 ,  273.64316,  241.12547,  175.88681,  242.8897 ,\n",
       "         328.0905 ,  328.25842,  174.34319,  160.8749 ,  180.55786,\n",
       "         163.0969 ,  294.79138,  343.1996 ,  447.00284,  314.43826,\n",
       "         362.04617,  246.08777,  338.50815,  217.45279,  324.78806,\n",
       "         242.6045 ,  238.1661 ,  191.32288,  273.07404,  236.426  ,\n",
       "         268.49368,  317.9022 ,  270.66928,  388.16953,  313.82294,\n",
       "         357.75806,  386.47864,  264.8758 ,  262.14337,  190.82057,\n",
       "         177.4117 ,  132.3289 ,  209.87668,  196.75624,  191.6895 ,\n",
       "         204.93742,  304.362  ,  405.2641 ,  481.75327,  496.66357,\n",
       "         586.56085, 1043.4136 , 1182.3458 , 1317.1191 , 1348.3865 ,\n",
       "        1510.6542 , 1600.8665 , 1563.6482 ,  668.17316,  539.8159 ,\n",
       "         251.91422,  527.0668 ,  411.39478,  403.7247 ,  370.42514,\n",
       "         451.20688,  554.4237 ,  391.32584,  245.48352,  214.05565,\n",
       "         363.39417,  445.22083,  441.65747,  582.4579 ,  656.8468 ,\n",
       "         535.9526 ,  495.2018 ,  271.46533,  343.09885,  178.98558,\n",
       "         356.56464,  211.66615,  239.62418,  166.50523,  257.33383,\n",
       "         266.5891 ,  285.79385,  524.34894,  565.6292 ,  530.62897,\n",
       "         458.45306,  542.2511 ,  762.3621 ,  944.0416 , 1360.9349 ,\n",
       "        1098.8171 ,  638.84186,  341.38168,  506.45715,  499.09293,\n",
       "         462.09277,  729.04724,  750.8494 ,  781.62976,  747.8666 ,\n",
       "         638.5691 ,  746.3553 ,  513.08923,  358.58804,  230.68005,\n",
       "         194.77065,  333.06277,  403.6909 ,  411.02118,  398.90015,\n",
       "         399.07327,  632.3667 ,  329.58667,  180.61337,  151.4354 ,\n",
       "         172.03772,  219.92236,  260.98074,  272.95428,  291.21054,\n",
       "         463.80936,  645.0125 ,  706.7946 ,  826.36664,  959.36365,\n",
       "         975.5586 ,  877.98   ,  649.40466,  410.15616,  314.41165,\n",
       "         217.55296,  355.31396,  811.507  , 1054.3389 , 1317.4031 ,\n",
       "        1540.1636 , 1557.0841 , 1462.613  , 1530.1538 ,  717.35077,\n",
       "         457.83832,  480.00507,  488.25424,  603.794  ,  753.3171 ,\n",
       "         347.92007,  647.9199 , 1008.16986, 1417.2698 , 1285.2448 ,\n",
       "        1432.9558 , 1575.9171 , 1633.909  , 1581.5947 ,  829.89105,\n",
       "         717.34393,  957.7472 ,  729.6752 , 1135.8068 , 1445.7767 ,\n",
       "        1415.9207 , 1531.6    , 1622.6794 , 2002.422  , 2289.9348 ,\n",
       "        1962.7002 , 1503.9543 , 1156.9851 ,  851.6002 ,  761.2245 ,\n",
       "         590.1517 ,  835.34216, 1048.9508 , 1210.259  , 1207.7886 ,\n",
       "        1514.7793 , 1943.6063 , 1854.7935 , 1772.1416 ,  613.84515,\n",
       "         533.79114,  436.07626,  406.9897 ,  221.44601,  490.52173,\n",
       "         618.71765,  664.65027,  877.2251 , 1484.8511 , 2685.1008 ,\n",
       "        3547.4697 , 3770.2527 , 3898.3513 , 3906.0188 , 3929.134  ,\n",
       "        2898.8533 , 1150.5867 ,  974.5965 , 1328.1925 , 1824.1035 ,\n",
       "        2350.218  , 2729.923  , 3527.6487 , 4015.27   , 3992.6257 ,\n",
       "        3619.4766 , 3890.3171 , 4134.183  , 4735.1934 , 4604.337  ,\n",
       "        5808.8584 , 6909.7793 , 6250.434  , 5741.0283 , 6425.9062 ,\n",
       "        4309.134  , 2929.8083 , 2419.1965 , 4087.0005 , 4908.634  ,\n",
       "        3874.643  , 1129.2848 , 1778.2708 , 1202.1719 , 2440.5486 ,\n",
       "        2104.243  , 2421.4014 , 2622.448  , 2855.6655 , 3738.5757 ,\n",
       "        3570.351  , 1575.5681 , 1621.6641 , 2904.6484 , 2574.9338 ,\n",
       "        3045.4397 , 3650.197  , 5561.007  , 4441.709  , 3631.5474 ,\n",
       "        3418.9358 , 4569.91   , 5909.819  , 6615.686  , 6647.769  ,\n",
       "        7870.7505 , 8431.963  , 7134.349  , 9426.165  , 4982.595  ,\n",
       "        2333.5898 , 3564.2146 , 3116.7056 , 3536.5679 , 5155.2056 ,\n",
       "        4755.3066 , 5759.851  , 5054.0293 , 3407.889  , 2983.0142 ,\n",
       "        4960.568  , 6312.724  , 8739.207  , 7866.3794 , 3916.0671 ,\n",
       "        2260.9229 , 2813.6802 , 3845.9746 , 4099.248  , 5771.2153 ,\n",
       "        4173.246  , 5895.729  , 4417.351  , 6226.5    , 7141.0356 ,\n",
       "        8647.701  , 7867.1543 , 7455.6733 , 5614.2246 , 3784.0137 ,\n",
       "        2324.366  , 3061.253  , 2104.6792 , 2121.556  , 1490.1257 ,\n",
       "        2175.7139 , 2671.2395 , 3502.9346 , 3998.4438 , 4644.128  ,\n",
       "        3941.0396 , 3077.1975 , 3126.8936 , 4065.8557 , 6450.7334 ,\n",
       "        5740.1084 , 4238.2104 , 4166.701  , 3729.5483 , 2112.7593 ,\n",
       "        1525.8081 , 1299.7684 , 1028.2839 , 1390.8575 , 2166.5432 ,\n",
       "        2005.7992 , 3006.89   , 4748.506  , 5651.538  , 5031.555  ,\n",
       "        3910.009  , 3323.5532 , 2939.511  , 3649.798  , 4779.536  ,\n",
       "        6936.7837 , 7621.3623 , 6489.888  , 4597.2983 , 4491.1167 ,\n",
       "        3998.9407 , 3293.0376 , 3297.7913 , 4427.7573 , 6228.8457 ,\n",
       "        7960.3916 , 5604.9336 , 3577.739  , 2882.7312 , 4347.711  ,\n",
       "        1884.2839 , 2555.6064 , 2778.7124 , 2471.4973 , 3812.5942 ,\n",
       "        2889.3462 , 2423.7454 , 3440.22   , 5457.3887 , 6901.6274 ,\n",
       "        7789.0576 ], dtype=float32),\n",
       " 'mape': array([ 3.6468751,  2.1060934,  2.439621 ,  2.891044 ,  2.1783993,\n",
       "         3.0893607,  3.3852599,  3.0268798,  3.2543905,  4.888941 ,\n",
       "         7.4668183,  7.4771986,  8.282602 ,  8.359194 ,  4.7863436,\n",
       "         3.4058661,  4.711265 ,  6.791447 ,  6.591086 ,  7.698989 ,\n",
       "         2.4770603,  3.402706 ,  2.5274563,  3.3086438,  2.8038476,\n",
       "         3.4901135,  3.0897226,  4.4840508,  3.1921782,  2.7142382,\n",
       "         2.3428183,  2.1893415,  2.3020196,  2.6102674,  2.822632 ,\n",
       "         3.9851818,  3.9525297,  3.8795552,  4.162528 ,  5.153212 ,\n",
       "         9.2941675,  2.820534 ,  4.3880534,  2.892753 ,  2.1393814,\n",
       "         2.2169137,  2.8727179,  1.9957466,  1.8253124,  1.6010311,\n",
       "         3.149424 ,  2.6004512,  2.9945748,  3.6576204,  5.026266 ,\n",
       "         5.7000775,  8.700057 ,  9.362679 ,  7.960298 ,  9.246198 ,\n",
       "         7.0876727,  4.7997656,  4.408494 ,  6.859024 ,  6.605367 ,\n",
       "         7.2107196,  7.6690397,  8.490344 ,  2.6421347,  1.2639574,\n",
       "         2.042784 ,  2.9207902,  4.521328 ,  1.178897 ,  2.6478267,\n",
       "         3.508566 ,  4.2238617,  6.8928614,  7.336169 , 10.188096 ,\n",
       "        11.223396 ,  8.563482 ,  5.5374603,  3.634185 ,  2.543309 ,\n",
       "         2.856195 ,  3.7376184,  4.730585 ,  5.541672 ,  7.9984546,\n",
       "         7.333839 ,  6.644357 ,  5.721065 ,  3.8765233,  2.0523105,\n",
       "         2.9704592,  1.6723597,  3.5572934,  4.3337884,  4.9738226,\n",
       "         1.8820236,  1.7566195,  3.4298248,  2.039525 ,  2.6356018,\n",
       "         3.0454783,  3.7546225,  5.6843305,  8.052702 ,  8.423638 ,\n",
       "         6.5052443,  2.775649 ,  3.9074898,  4.0839305,  4.6040735,\n",
       "         6.138513 ,  3.4059298,  3.6509194,  4.8641205, 13.319159 ,\n",
       "        23.2601   , 30.876425 , 31.034592 , 33.901222 , 37.37896  ,\n",
       "        42.037277 , 18.04217  , 11.904808 ,  9.989866 ,  9.774346 ,\n",
       "        11.926984 ,  8.518963 , 13.304318 ,  7.575398 ,  7.175071 ,\n",
       "         4.2408996,  5.11603  ,  3.0401134,  4.423871 ,  5.104101 ,\n",
       "         6.3843107,  8.476405 ,  9.284794 , 14.821076 ,  9.804182 ,\n",
       "        10.790612 ,  9.499764 ,  6.976892 ,  3.7209835,  3.2533786,\n",
       "         4.1179376,  2.5006127,  3.4282002,  4.013425 ,  4.9202185,\n",
       "         2.4082835,  3.8436391,  5.5089927,  4.3877416,  4.3430033,\n",
       "         7.0966697,  3.315886 ,  5.0299973,  4.6661935,  5.2695537,\n",
       "         6.9455423, 10.331859 , 11.066752 ,  8.212702 ,  9.718158 ,\n",
       "        11.5805235, 11.116065 , 12.357613 , 14.660104 ,  5.639293 ,\n",
       "         5.3196964,  5.1599   ,  5.513486 ,  4.684105 ,  4.847964 ,\n",
       "         5.2054725,  4.386447 ,  6.3236237,  7.3429236,  6.331668 ,\n",
       "         4.810662 ,  7.6592393,  9.570267 ,  6.0129046,  2.2515786,\n",
       "         3.0107732,  1.7548035,  1.6106616,  2.6366105,  4.7872553,\n",
       "         4.3693805,  2.898491 ,  3.7115898,  4.8419576,  5.317635 ,\n",
       "         7.963252 ,  9.454194 ,  9.382122 ,  6.208352 ,  5.3943014,\n",
       "         2.8464289,  3.6558993,  3.3698385,  1.97358  ,  1.4638734,\n",
       "         2.1301327,  2.524708 ,  2.1237383,  1.5400176,  2.1155906,\n",
       "         3.048994 ,  3.0603783,  1.419101 ,  1.6152358,  1.6884843,\n",
       "         1.4376557,  2.201206 ,  2.7253242,  3.8163955,  2.6726172,\n",
       "         3.286546 ,  2.2625937,  3.1160107,  2.0413315,  3.0063207,\n",
       "         1.7911408,  2.1199248,  1.7931374,  2.6045573,  2.2068088,\n",
       "         2.6501951,  2.8038082,  2.3875961,  3.4454472,  2.8472807,\n",
       "         3.2207448,  3.9608371,  2.6860075,  2.4686682,  1.6512973,\n",
       "         1.6986994,  1.1942514,  1.8112491,  1.8303971,  1.7582294,\n",
       "         1.7928878,  2.5963697,  3.4309773,  4.19864  ,  4.167328 ,\n",
       "         5.2602806,  8.145736 ,  8.48274  ,  9.37106  ,  9.752723 ,\n",
       "        12.207766 , 13.257475 , 13.432614 ,  5.2092857,  4.1158514,\n",
       "         1.5954934,  3.8778324,  3.2332826,  3.038887 ,  2.5596764,\n",
       "         3.659406 ,  4.0914936,  2.8974879,  1.9270692,  1.7039237,\n",
       "         2.333075 ,  3.5843394,  3.1164656,  3.8664494,  5.11559  ,\n",
       "         3.8278573,  3.855359 ,  2.0122552,  2.3570504,  1.2677599,\n",
       "         2.3823223,  1.6121751,  1.8056949,  1.1854472,  2.0767298,\n",
       "         2.1220531,  2.132457 ,  3.708311 ,  3.684691 ,  4.157744 ,\n",
       "         3.5039728,  4.2656193,  6.613867 ,  8.365858 , 12.252342 ,\n",
       "        10.380179 ,  5.6630874,  3.024149 ,  4.4072466,  4.2884293,\n",
       "         3.4611557,  6.079077 ,  5.8061037,  6.0957017,  5.768465 ,\n",
       "         5.0969806,  6.561943 ,  4.2351775,  2.8393087,  1.8072764,\n",
       "         1.6842647,  2.7145188,  3.1473718,  3.3521879,  3.3761072,\n",
       "         3.0135849,  5.6349406,  2.8235464,  1.4129739,  1.2427202,\n",
       "         1.3312722,  1.5284606,  1.8026272,  2.2358496,  2.2914486,\n",
       "         3.1643548,  4.905614 ,  5.1472826,  5.735425 ,  7.2144947,\n",
       "         8.052242 ,  7.2638025,  5.457094 ,  3.3398762,  2.3335903,\n",
       "         1.7585787,  2.249334 ,  4.5530224,  5.9036784,  7.8411765,\n",
       "        10.274942 , 11.159024 , 10.858824 , 11.271667 ,  4.474307 ,\n",
       "         2.611074 ,  3.067848 ,  2.7961297,  3.706377 ,  5.0199857,\n",
       "         2.0940948,  3.934722 ,  4.87271  ,  7.320236 ,  6.3179545,\n",
       "         7.392086 ,  9.274931 , 10.305489 ,  9.729113 ,  4.4984393,\n",
       "         3.4054189,  4.8756905,  3.5681686,  6.014329 ,  7.545445 ,\n",
       "         6.73045  ,  7.1712337,  7.115113 ,  9.425209 , 11.788511 ,\n",
       "        10.252237 ,  7.747697 ,  5.6026034,  4.2511897,  3.7190962,\n",
       "         2.7039225,  3.466553 ,  5.008464 ,  5.695119 ,  6.320768 ,\n",
       "         6.458313 ,  9.719639 ,  9.390153 ,  8.874341 ,  2.75311  ,\n",
       "         2.4415126,  2.0373664,  1.6584089,  1.035719 ,  2.3410437,\n",
       "         3.0616364,  3.08715  ,  4.0502687,  5.3827147,  9.448038 ,\n",
       "        13.293676 , 13.677661 , 14.860603 , 15.91505  , 16.625443 ,\n",
       "        12.380038 ,  4.569023 ,  3.2900672,  4.061414 ,  5.607738 ,\n",
       "         6.84093  ,  8.152069 , 11.467224 , 13.462889 , 13.151881 ,\n",
       "        10.005738 ,  9.853277 , 11.279074 , 13.063042 , 11.46839  ,\n",
       "        13.397315 , 15.93419  , 13.407925 , 12.443604 , 15.432723 ,\n",
       "         9.757525 ,  6.3464007,  5.409726 ,  9.277021 , 12.4727745,\n",
       "        10.235346 ,  2.743833 ,  4.4996457,  2.287947 ,  5.3278317,\n",
       "         5.1054163,  5.6518216,  6.325375 ,  6.997662 , 10.528217 ,\n",
       "        10.978879 ,  3.552466 ,  3.787772 ,  6.4457273,  6.5212646,\n",
       "         8.03514  ,  9.312236 , 14.23382  , 10.678981 ,  8.294084 ,\n",
       "         7.1432853, 10.688855 , 12.880571 , 12.3992405, 11.385816 ,\n",
       "        14.912372 , 16.408897 , 13.8556795, 19.334293 , 10.047429 ,\n",
       "         4.265687 ,  6.3377404,  4.259563 ,  5.078464 ,  7.745058 ,\n",
       "         6.7019024,  8.927901 ,  7.891654 ,  5.006525 ,  5.3301363,\n",
       "         8.5518   , 11.899864 , 17.562052 , 16.285723 ,  7.432317 ,\n",
       "         3.7984107,  5.088882 ,  7.0687785,  6.876715 , 11.012682 ,\n",
       "         7.2989173,  9.987269 ,  6.0127554,  9.229233 , 10.872739 ,\n",
       "        13.587091 , 12.543604 , 12.158847 ,  9.018944 ,  5.995581 ,\n",
       "         3.100341 ,  4.814117 ,  2.5835872,  3.0715368,  2.271841 ,\n",
       "         3.2557976,  3.8168497,  5.3890967,  6.3059406,  7.7023706,\n",
       "         6.1220484,  4.714977 ,  4.673237 ,  5.758581 , 10.328065 ,\n",
       "         9.016425 ,  6.6336594,  6.9392257,  5.830044 ,  3.1079593,\n",
       "         1.9765487,  1.9015775,  1.4415647,  2.1607072,  3.1870623,\n",
       "         3.0158892,  4.2438607,  6.0836086,  8.073692 ,  7.1467767,\n",
       "         5.7207737,  5.065711 ,  4.289726 ,  5.3680634,  7.443227 ,\n",
       "        11.309715 , 13.194921 , 11.74048  ,  7.974559 ,  7.73219  ,\n",
       "         6.555573 ,  5.593071 ,  5.570508 ,  6.9121056,  9.71211  ,\n",
       "        13.582908 ,  9.132443 ,  5.374581 ,  4.5851564,  6.9439545,\n",
       "         2.8926415,  3.5552137,  4.068889 ,  3.7230444,  6.1089416,\n",
       "         4.890586 ,  3.7378192,  5.561815 ,  9.228725 , 12.138049 ,\n",
       "        14.736256 ], dtype=float32),\n",
       " 'mase': 2.421459}"
      ]
     },
     "execution_count": 59,
     "metadata": {},
     "output_type": "execute_result"
    }
   ],
   "source": [
    "# Evaluating model 3 preds\n",
    "model_3_results = evaluate_preds(\n",
    "    y_true=tf.squeeze(test_labels),\n",
    "    y_pred=model_3_preds\n",
    ")\n",
    "model_3_results"
   ]
  },
  {
   "cell_type": "code",
   "execution_count": 60,
   "metadata": {},
   "outputs": [],
   "source": [
    "# Function for evaluation matrix\n",
    "# MAKING IT WORK FOR HIGHER HORIZON\n",
    "def evaluate_preds(y_true, y_pred):\n",
    "\n",
    "    # Ensuring that we use float32 dtype (for metric calculations)\n",
    "    y_true = tf.cast(y_true, dtype=tf.float32)\n",
    "    y_pred = tf.cast(y_pred, dtype=tf.float32)\n",
    "\n",
    "    # Calculating various evaluation metrics\n",
    "    mae = tf.keras.metrics.mean_absolute_error(y_true, y_pred)\n",
    "    mse = tf.keras.metrics.mean_squared_error(y_true, y_pred)\n",
    "    rmse = tf.sqrt(mse)\n",
    "    mape = tf.keras.metrics.mean_absolute_percentage_error(y_true, y_pred)\n",
    "    mase = mean_absolute_scaled_error(y_true, y_pred)\n",
    "\n",
    "    # Account for different size metrics\n",
    "    if mae.ndim > 0:\n",
    "        mae = tf.reduce_mean(mae)\n",
    "        mse = tf.reduce_mean(mse)\n",
    "        rmse = tf.reduce_mean(rmse)\n",
    "        mape = tf.reduce_mean(mape)\n",
    "        mase = tf.reduce_mean(mase)\n",
    "\n",
    "    return {\n",
    "        \"mae\": mae.numpy(),\n",
    "        \"mse\": mse.numpy(),\n",
    "        \"rmse\": rmse.numpy(),\n",
    "        \"mape\": mape.numpy(),\n",
    "        \"mase\": mase.numpy()\n",
    "    }"
   ]
  },
  {
   "cell_type": "code",
   "execution_count": 61,
   "metadata": {},
   "outputs": [
    {
     "data": {
      "text/plain": [
       "{'mae': 1360.7955,\n",
       " 'mse': 5980540.0,\n",
       " 'rmse': 1564.8152,\n",
       " 'mape': 6.064479,\n",
       " 'mase': 2.421459}"
      ]
     },
     "execution_count": 61,
     "metadata": {},
     "output_type": "execute_result"
    }
   ],
   "source": [
    "# Re-evaluating model 3 preds\n",
    "model_3_results = evaluate_preds(\n",
    "    y_true=tf.squeeze(test_labels),\n",
    "    y_pred=model_3_preds\n",
    ")\n",
    "model_3_results"
   ]
  },
  {
   "cell_type": "code",
   "execution_count": 62,
   "metadata": {},
   "outputs": [
    {
     "data": {
      "image/png": "[encoded data removed]",
      "text/plain": [
       "<Figure size 720x504 with 1 Axes>"
      ]
     },
     "metadata": {
      "needs_background": "light"
     },
     "output_type": "display_data"
    }
   ],
   "source": [
    "# Visualising the data\n",
    "offset = 300\n",
    "plt.figure(figsize=(10, 7))\n",
    "plot_time_series(\n",
    "    timestamps=X_test[-len(test_windows):],\n",
    "    values=test_labels[:, 0],\n",
    "    start=offset,\n",
    "    label=\"Test data\"\n",
    ")\n",
    "plot_time_series(\n",
    "    timestamps=X_test[-len(test_windows):],\n",
    "    values=model_3_preds,\n",
    "    start=offset,\n",
    "    label=\"Model 3 preds\"\n",
    ")"
   ]
  },
  {
   "cell_type": "code",
   "execution_count": 63,
   "metadata": {},
   "outputs": [
    {
     "data": {
      "image/png": "[encoded data removed]",
      "text/plain": [
       "<Figure size 720x504 with 1 Axes>"
      ]
     },
     "metadata": {
      "needs_background": "light"
     },
     "output_type": "display_data"
    }
   ],
   "source": [
    "# Visualising the data\n",
    "offset = 300\n",
    "plt.figure(figsize=(10, 7))\n",
    "plot_time_series(\n",
    "    timestamps=X_test[-len(test_windows):],\n",
    "    values=test_labels[:, 0],\n",
    "    start=offset,\n",
    "    label=\"Test data\"\n",
    ")\n",
    "plot_time_series(\n",
    "    timestamps=X_test[-len(test_windows):],\n",
    "    values=tf.reduce_mean(model_3_preds, axis=1),\n",
    "    start=offset,\n",
    "    label=\"Model 3 preds\"\n",
    ")"
   ]
  },
  {
   "cell_type": "code",
   "execution_count": 64,
   "metadata": {},
   "outputs": [
    {
     "data": {
      "image/png": "[encoded data removed]",
      "text/plain": [
       "<Figure size 720x504 with 1 Axes>"
      ]
     },
     "metadata": {
      "needs_background": "light"
     },
     "output_type": "display_data"
    }
   ],
   "source": [
    "# Comparing models performance\n",
    "pd.DataFrame({\n",
    "    \"naive\": naive_results[\"mae\"],\n",
    "    \"horizon_1_window_7\": model_1_results[\"mae\"],\n",
    "    \"horizon_1_window_30\": model_2_results[\"mae\"],\n",
    "    \"horizon_7_window_30\": model_3_results[\"mae\"]\n",
    "}, index=[\"mae\"]).plot(figsize=(10, 7), kind=\"bar\");"
   ]
  },
  {
   "attachments": {},
   "cell_type": "markdown",
   "metadata": {},
   "source": [
    "### Model 4 - Using Conv1D"
   ]
  },
  {
   "cell_type": "code",
   "execution_count": 65,
   "metadata": {},
   "outputs": [],
   "source": [
    "# Defining horizon and window\n",
    "HORIZON = 1\n",
    "WINDOW_SIZE = 7"
   ]
  },
  {
   "cell_type": "code",
   "execution_count": 66,
   "metadata": {},
   "outputs": [
    {
     "data": {
      "text/plain": [
       "(2780, 2780)"
      ]
     },
     "execution_count": 66,
     "metadata": {},
     "output_type": "execute_result"
    }
   ],
   "source": [
    "# Creating windowed data\n",
    "full_windows,full_labels = make_windows(prices, window_size=WINDOW_SIZE, horizon=HORIZON)\n",
    "len(full_windows), len(full_labels)"
   ]
  },
  {
   "cell_type": "code",
   "execution_count": 67,
   "metadata": {},
   "outputs": [
    {
     "data": {
      "text/plain": [
       "(2224, 2224, 556, 556)"
      ]
     },
     "execution_count": 67,
     "metadata": {},
     "output_type": "execute_result"
    }
   ],
   "source": [
    "# Creating train / test datasets\n",
    "train_windows, test_windows, train_labels, test_labels = make_train_test_splits(full_windows, full_labels)\n",
    "len(train_windows), len(train_labels), len(test_windows), len(test_labels)"
   ]
  },
  {
   "cell_type": "code",
   "execution_count": 68,
   "metadata": {},
   "outputs": [
    {
     "data": {
      "text/plain": [
       "(7,)"
      ]
     },
     "execution_count": 68,
     "metadata": {},
     "output_type": "execute_result"
    }
   ],
   "source": [
    "# Checking data input shape\n",
    "train_windows[0].shape # returns WINDOW_SIZE"
   ]
  },
  {
   "cell_type": "code",
   "execution_count": 69,
   "metadata": {},
   "outputs": [],
   "source": [
    "# Conv1D expects input of (batch_size, timestamps, input_dim)"
   ]
  },
  {
   "cell_type": "code",
   "execution_count": 70,
   "metadata": {},
   "outputs": [
    {
     "data": {
      "text/plain": [
       "<tf.Tensor: shape=(7,), dtype=float64, numpy=\n",
       "array([123.65499, 125.455  , 108.58483, 118.67466, 121.33866, 120.65533,\n",
       "       121.795  ])>"
      ]
     },
     "execution_count": 70,
     "metadata": {},
     "output_type": "execute_result"
    }
   ],
   "source": [
    "# Reshaping the tensor\n",
    "x = tf.constant(train_windows[0])\n",
    "x"
   ]
  },
  {
   "cell_type": "code",
   "execution_count": 71,
   "metadata": {},
   "outputs": [],
   "source": [
    "# Creating Lambda layer\n",
    "expand_dim_layer = layers.Lambda(lambda x: tf.expand_dims(x, axis=1))"
   ]
  },
  {
   "cell_type": "code",
   "execution_count": 72,
   "metadata": {},
   "outputs": [
    {
     "name": "stdout",
     "output_type": "stream",
     "text": [
      "Original shape: (7,)\n",
      "Expanded shape: (7, 1)\n",
      "Original values with expanded shape:\n",
      " [[123.65499]\n",
      " [125.455  ]\n",
      " [108.58483]\n",
      " [118.67466]\n",
      " [121.33866]\n",
      " [120.65533]\n",
      " [121.795  ]]\n"
     ]
    }
   ],
   "source": [
    "# Testing Lambda layer\n",
    "print(f\"Original shape: {x.shape}\") # Output WINDOW_SIZE\n",
    "print(f\"Expanded shape: {expand_dim_layer(x).shape}\")\n",
    "print(f\"Original values with expanded shape:\\n {expand_dim_layer(x)}\")"
   ]
  },
  {
   "cell_type": "code",
   "execution_count": 73,
   "metadata": {},
   "outputs": [
    {
     "name": "stdout",
     "output_type": "stream",
     "text": [
      "Epoch 1/100\n",
      " 1/18 [>.............................] - ETA: 12s - loss: 2771.6445"
     ]
    },
    {
     "name": "stderr",
     "output_type": "stream",
     "text": [
      "WARNING:absl:Found untraced functions such as _jit_compiled_convolution_op while saving (showing 1 of 1). These functions will not be directly callable after loading.\n"
     ]
    },
    {
     "name": "stdout",
     "output_type": "stream",
     "text": [
      "INFO:tensorflow:Assets written to: model_experiments\\model_4_Conv1D\\assets\n"
     ]
    },
    {
     "name": "stderr",
     "output_type": "stream",
     "text": [
      "INFO:tensorflow:Assets written to: model_experiments\\model_4_Conv1D\\assets\n"
     ]
    },
    {
     "name": "stdout",
     "output_type": "stream",
     "text": [
      "18/18 [==============================] - 2s 89ms/step - loss: 1178.2152 - val_loss: 1991.5481\n",
      "Epoch 2/100\n",
      "12/18 [===================>..........] - ETA: 0s - loss: 354.9310"
     ]
    },
    {
     "name": "stderr",
     "output_type": "stream",
     "text": [
      "WARNING:absl:Found untraced functions such as _jit_compiled_convolution_op while saving (showing 1 of 1). These functions will not be directly callable after loading.\n"
     ]
    },
    {
     "name": "stdout",
     "output_type": "stream",
     "text": [
      "INFO:tensorflow:Assets written to: model_experiments\\model_4_Conv1D\\assets\n"
     ]
    },
    {
     "name": "stderr",
     "output_type": "stream",
     "text": [
      "INFO:tensorflow:Assets written to: model_experiments\\model_4_Conv1D\\assets\n"
     ]
    },
    {
     "name": "stdout",
     "output_type": "stream",
     "text": [
      "18/18 [==============================] - 1s 74ms/step - loss: 313.6219 - val_loss: 1692.5896\n",
      "Epoch 3/100\n",
      " 1/18 [>.............................] - ETA: 0s - loss: 227.9884"
     ]
    },
    {
     "name": "stderr",
     "output_type": "stream",
     "text": [
      "WARNING:absl:Found untraced functions such as _jit_compiled_convolution_op while saving (showing 1 of 1). These functions will not be directly callable after loading.\n"
     ]
    },
    {
     "name": "stdout",
     "output_type": "stream",
     "text": [
      "INFO:tensorflow:Assets written to: model_experiments\\model_4_Conv1D\\assets\n"
     ]
    },
    {
     "name": "stderr",
     "output_type": "stream",
     "text": [
      "INFO:tensorflow:Assets written to: model_experiments\\model_4_Conv1D\\assets\n"
     ]
    },
    {
     "name": "stdout",
     "output_type": "stream",
     "text": [
      "18/18 [==============================] - 1s 75ms/step - loss: 205.0596 - val_loss: 1193.5153\n",
      "Epoch 4/100\n",
      "18/18 [==============================] - ETA: 0s - loss: 183.4073"
     ]
    },
    {
     "name": "stderr",
     "output_type": "stream",
     "text": [
      "WARNING:absl:Found untraced functions such as _jit_compiled_convolution_op while saving (showing 1 of 1). These functions will not be directly callable after loading.\n"
     ]
    },
    {
     "name": "stdout",
     "output_type": "stream",
     "text": [
      "INFO:tensorflow:Assets written to: model_experiments\\model_4_Conv1D\\assets\n"
     ]
    },
    {
     "name": "stderr",
     "output_type": "stream",
     "text": [
      "INFO:tensorflow:Assets written to: model_experiments\\model_4_Conv1D\\assets\n"
     ]
    },
    {
     "name": "stdout",
     "output_type": "stream",
     "text": [
      "18/18 [==============================] - 1s 85ms/step - loss: 183.4073 - val_loss: 1007.0234\n",
      "Epoch 5/100\n",
      "13/18 [====================>.........] - ETA: 0s - loss: 184.0907"
     ]
    },
    {
     "name": "stderr",
     "output_type": "stream",
     "text": [
      "WARNING:absl:Found untraced functions such as _jit_compiled_convolution_op while saving (showing 1 of 1). These functions will not be directly callable after loading.\n"
     ]
    },
    {
     "name": "stdout",
     "output_type": "stream",
     "text": [
      "INFO:tensorflow:Assets written to: model_experiments\\model_4_Conv1D\\assets\n"
     ]
    },
    {
     "name": "stderr",
     "output_type": "stream",
     "text": [
      "INFO:tensorflow:Assets written to: model_experiments\\model_4_Conv1D\\assets\n"
     ]
    },
    {
     "name": "stdout",
     "output_type": "stream",
     "text": [
      "18/18 [==============================] - 2s 97ms/step - loss: 177.1845 - val_loss: 1004.0944\n",
      "Epoch 6/100\n",
      "13/18 [====================>.........] - ETA: 0s - loss: 167.9476"
     ]
    },
    {
     "name": "stderr",
     "output_type": "stream",
     "text": [
      "WARNING:absl:Found untraced functions such as _jit_compiled_convolution_op while saving (showing 1 of 1). These functions will not be directly callable after loading.\n"
     ]
    },
    {
     "name": "stdout",
     "output_type": "stream",
     "text": [
      "INFO:tensorflow:Assets written to: model_experiments\\model_4_Conv1D\\assets\n"
     ]
    },
    {
     "name": "stderr",
     "output_type": "stream",
     "text": [
      "INFO:tensorflow:Assets written to: model_experiments\\model_4_Conv1D\\assets\n"
     ]
    },
    {
     "name": "stdout",
     "output_type": "stream",
     "text": [
      "18/18 [==============================] - 2s 88ms/step - loss: 172.3621 - val_loss: 968.7689\n",
      "Epoch 7/100\n",
      " 1/18 [>.............................] - ETA: 0s - loss: 208.9193"
     ]
    },
    {
     "name": "stderr",
     "output_type": "stream",
     "text": [
      "WARNING:absl:Found untraced functions such as _jit_compiled_convolution_op while saving (showing 1 of 1). These functions will not be directly callable after loading.\n"
     ]
    },
    {
     "name": "stdout",
     "output_type": "stream",
     "text": [
      "INFO:tensorflow:Assets written to: model_experiments\\model_4_Conv1D\\assets\n"
     ]
    },
    {
     "name": "stderr",
     "output_type": "stream",
     "text": [
      "INFO:tensorflow:Assets written to: model_experiments\\model_4_Conv1D\\assets\n"
     ]
    },
    {
     "name": "stdout",
     "output_type": "stream",
     "text": [
      "18/18 [==============================] - 1s 78ms/step - loss: 170.0049 - val_loss: 937.9866\n",
      "Epoch 8/100\n",
      " 1/18 [>.............................] - ETA: 0s - loss: 142.0135"
     ]
    },
    {
     "name": "stderr",
     "output_type": "stream",
     "text": [
      "WARNING:absl:Found untraced functions such as _jit_compiled_convolution_op while saving (showing 1 of 1). These functions will not be directly callable after loading.\n"
     ]
    },
    {
     "name": "stdout",
     "output_type": "stream",
     "text": [
      "INFO:tensorflow:Assets written to: model_experiments\\model_4_Conv1D\\assets\n"
     ]
    },
    {
     "name": "stderr",
     "output_type": "stream",
     "text": [
      "INFO:tensorflow:Assets written to: model_experiments\\model_4_Conv1D\\assets\n"
     ]
    },
    {
     "name": "stdout",
     "output_type": "stream",
     "text": [
      "18/18 [==============================] - 1s 70ms/step - loss: 165.5789 - val_loss: 934.9073\n",
      "Epoch 9/100\n",
      "18/18 [==============================] - 0s 6ms/step - loss: 163.7861 - val_loss: 936.4553\n",
      "Epoch 10/100\n",
      "18/18 [==============================] - ETA: 0s - loss: 160.7096"
     ]
    },
    {
     "name": "stderr",
     "output_type": "stream",
     "text": [
      "WARNING:absl:Found untraced functions such as _jit_compiled_convolution_op while saving (showing 1 of 1). These functions will not be directly callable after loading.\n"
     ]
    },
    {
     "name": "stdout",
     "output_type": "stream",
     "text": [
      "INFO:tensorflow:Assets written to: model_experiments\\model_4_Conv1D\\assets\n"
     ]
    },
    {
     "name": "stderr",
     "output_type": "stream",
     "text": [
      "INFO:tensorflow:Assets written to: model_experiments\\model_4_Conv1D\\assets\n"
     ]
    },
    {
     "name": "stdout",
     "output_type": "stream",
     "text": [
      "18/18 [==============================] - 2s 95ms/step - loss: 160.7096 - val_loss: 895.5486\n",
      "Epoch 11/100\n",
      " 1/18 [>.............................] - ETA: 0s - loss: 177.0414"
     ]
    },
    {
     "name": "stderr",
     "output_type": "stream",
     "text": [
      "WARNING:absl:Found untraced functions such as _jit_compiled_convolution_op while saving (showing 1 of 1). These functions will not be directly callable after loading.\n"
     ]
    },
    {
     "name": "stdout",
     "output_type": "stream",
     "text": [
      "INFO:tensorflow:Assets written to: model_experiments\\model_4_Conv1D\\assets\n"
     ]
    },
    {
     "name": "stderr",
     "output_type": "stream",
     "text": [
      "INFO:tensorflow:Assets written to: model_experiments\\model_4_Conv1D\\assets\n"
     ]
    },
    {
     "name": "stdout",
     "output_type": "stream",
     "text": [
      "18/18 [==============================] - 1s 73ms/step - loss: 157.5915 - val_loss: 874.7244\n",
      "Epoch 12/100\n",
      "18/18 [==============================] - 0s 6ms/step - loss: 154.7145 - val_loss: 945.1862\n",
      "Epoch 13/100\n",
      " 1/18 [>.............................] - ETA: 0s - loss: 124.0570"
     ]
    },
    {
     "name": "stderr",
     "output_type": "stream",
     "text": [
      "WARNING:absl:Found untraced functions such as _jit_compiled_convolution_op while saving (showing 1 of 1). These functions will not be directly callable after loading.\n"
     ]
    },
    {
     "name": "stdout",
     "output_type": "stream",
     "text": [
      "INFO:tensorflow:Assets written to: model_experiments\\model_4_Conv1D\\assets\n"
     ]
    },
    {
     "name": "stderr",
     "output_type": "stream",
     "text": [
      "INFO:tensorflow:Assets written to: model_experiments\\model_4_Conv1D\\assets\n"
     ]
    },
    {
     "name": "stdout",
     "output_type": "stream",
     "text": [
      "18/18 [==============================] - 1s 76ms/step - loss: 153.5089 - val_loss: 861.7025\n",
      "Epoch 14/100\n",
      "18/18 [==============================] - 0s 8ms/step - loss: 148.7548 - val_loss: 862.9082\n",
      "Epoch 15/100\n",
      "18/18 [==============================] - 0s 6ms/step - loss: 148.5480 - val_loss: 874.9801\n",
      "Epoch 16/100\n",
      " 1/18 [>.............................] - ETA: 0s - loss: 137.9207"
     ]
    },
    {
     "name": "stderr",
     "output_type": "stream",
     "text": [
      "WARNING:absl:Found untraced functions such as _jit_compiled_convolution_op while saving (showing 1 of 1). These functions will not be directly callable after loading.\n"
     ]
    },
    {
     "name": "stdout",
     "output_type": "stream",
     "text": [
      "INFO:tensorflow:Assets written to: model_experiments\\model_4_Conv1D\\assets\n"
     ]
    },
    {
     "name": "stderr",
     "output_type": "stream",
     "text": [
      "INFO:tensorflow:Assets written to: model_experiments\\model_4_Conv1D\\assets\n"
     ]
    },
    {
     "name": "stdout",
     "output_type": "stream",
     "text": [
      "18/18 [==============================] - 1s 78ms/step - loss: 145.2280 - val_loss: 814.6552\n",
      "Epoch 17/100\n",
      " 1/18 [>.............................] - ETA: 0s - loss: 137.0730"
     ]
    },
    {
     "name": "stderr",
     "output_type": "stream",
     "text": [
      "WARNING:absl:Found untraced functions such as _jit_compiled_convolution_op while saving (showing 1 of 1). These functions will not be directly callable after loading.\n"
     ]
    },
    {
     "name": "stdout",
     "output_type": "stream",
     "text": [
      "INFO:tensorflow:Assets written to: model_experiments\\model_4_Conv1D\\assets\n"
     ]
    },
    {
     "name": "stderr",
     "output_type": "stream",
     "text": [
      "INFO:tensorflow:Assets written to: model_experiments\\model_4_Conv1D\\assets\n"
     ]
    },
    {
     "name": "stdout",
     "output_type": "stream",
     "text": [
      "18/18 [==============================] - 1s 82ms/step - loss: 143.9527 - val_loss: 788.2871\n",
      "Epoch 18/100\n",
      "18/18 [==============================] - 0s 7ms/step - loss: 139.1852 - val_loss: 798.4861\n",
      "Epoch 19/100\n",
      "18/18 [==============================] - 0s 7ms/step - loss: 136.4507 - val_loss: 797.5266\n",
      "Epoch 20/100\n",
      "12/18 [===================>..........] - ETA: 0s - loss: 138.9435"
     ]
    },
    {
     "name": "stderr",
     "output_type": "stream",
     "text": [
      "WARNING:absl:Found untraced functions such as _jit_compiled_convolution_op while saving (showing 1 of 1). These functions will not be directly callable after loading.\n"
     ]
    },
    {
     "name": "stdout",
     "output_type": "stream",
     "text": [
      "INFO:tensorflow:Assets written to: model_experiments\\model_4_Conv1D\\assets\n"
     ]
    },
    {
     "name": "stderr",
     "output_type": "stream",
     "text": [
      "INFO:tensorflow:Assets written to: model_experiments\\model_4_Conv1D\\assets\n"
     ]
    },
    {
     "name": "stdout",
     "output_type": "stream",
     "text": [
      "18/18 [==============================] - 1s 76ms/step - loss: 136.8467 - val_loss: 760.1083\n",
      "Epoch 21/100\n",
      " 1/18 [>.............................] - ETA: 0s - loss: 180.1373"
     ]
    },
    {
     "name": "stderr",
     "output_type": "stream",
     "text": [
      "WARNING:absl:Found untraced functions such as _jit_compiled_convolution_op while saving (showing 1 of 1). These functions will not be directly callable after loading.\n"
     ]
    },
    {
     "name": "stdout",
     "output_type": "stream",
     "text": [
      "INFO:tensorflow:Assets written to: model_experiments\\model_4_Conv1D\\assets\n"
     ]
    },
    {
     "name": "stderr",
     "output_type": "stream",
     "text": [
      "INFO:tensorflow:Assets written to: model_experiments\\model_4_Conv1D\\assets\n"
     ]
    },
    {
     "name": "stdout",
     "output_type": "stream",
     "text": [
      "18/18 [==============================] - 1s 72ms/step - loss: 136.2941 - val_loss: 737.3062\n",
      "Epoch 22/100\n",
      "15/18 [========================>.....] - ETA: 0s - loss: 138.4815"
     ]
    },
    {
     "name": "stderr",
     "output_type": "stream",
     "text": [
      "WARNING:absl:Found untraced functions such as _jit_compiled_convolution_op while saving (showing 1 of 1). These functions will not be directly callable after loading.\n"
     ]
    },
    {
     "name": "stdout",
     "output_type": "stream",
     "text": [
      "INFO:tensorflow:Assets written to: model_experiments\\model_4_Conv1D\\assets\n"
     ]
    },
    {
     "name": "stderr",
     "output_type": "stream",
     "text": [
      "INFO:tensorflow:Assets written to: model_experiments\\model_4_Conv1D\\assets\n"
     ]
    },
    {
     "name": "stdout",
     "output_type": "stream",
     "text": [
      "18/18 [==============================] - 1s 78ms/step - loss: 133.6974 - val_loss: 723.0918\n",
      "Epoch 23/100\n",
      "18/18 [==============================] - ETA: 0s - loss: 129.6165"
     ]
    },
    {
     "name": "stderr",
     "output_type": "stream",
     "text": [
      "WARNING:absl:Found untraced functions such as _jit_compiled_convolution_op while saving (showing 1 of 1). These functions will not be directly callable after loading.\n"
     ]
    },
    {
     "name": "stdout",
     "output_type": "stream",
     "text": [
      "INFO:tensorflow:Assets written to: model_experiments\\model_4_Conv1D\\assets\n"
     ]
    },
    {
     "name": "stderr",
     "output_type": "stream",
     "text": [
      "INFO:tensorflow:Assets written to: model_experiments\\model_4_Conv1D\\assets\n"
     ]
    },
    {
     "name": "stdout",
     "output_type": "stream",
     "text": [
      "18/18 [==============================] - 1s 74ms/step - loss: 129.6165 - val_loss: 714.1617\n",
      "Epoch 24/100\n",
      "18/18 [==============================] - ETA: 0s - loss: 128.9430"
     ]
    },
    {
     "name": "stderr",
     "output_type": "stream",
     "text": [
      "WARNING:absl:Found untraced functions such as _jit_compiled_convolution_op while saving (showing 1 of 1). These functions will not be directly callable after loading.\n"
     ]
    },
    {
     "name": "stdout",
     "output_type": "stream",
     "text": [
      "INFO:tensorflow:Assets written to: model_experiments\\model_4_Conv1D\\assets\n"
     ]
    },
    {
     "name": "stderr",
     "output_type": "stream",
     "text": [
      "INFO:tensorflow:Assets written to: model_experiments\\model_4_Conv1D\\assets\n"
     ]
    },
    {
     "name": "stdout",
     "output_type": "stream",
     "text": [
      "18/18 [==============================] - 1s 66ms/step - loss: 128.9430 - val_loss: 704.9727\n",
      "Epoch 25/100\n",
      " 8/18 [============>.................] - ETA: 0s - loss: 132.5195"
     ]
    },
    {
     "name": "stderr",
     "output_type": "stream",
     "text": [
      "WARNING:absl:Found untraced functions such as _jit_compiled_convolution_op while saving (showing 1 of 1). These functions will not be directly callable after loading.\n"
     ]
    },
    {
     "name": "stdout",
     "output_type": "stream",
     "text": [
      "INFO:tensorflow:Assets written to: model_experiments\\model_4_Conv1D\\assets\n"
     ]
    },
    {
     "name": "stderr",
     "output_type": "stream",
     "text": [
      "INFO:tensorflow:Assets written to: model_experiments\\model_4_Conv1D\\assets\n"
     ]
    },
    {
     "name": "stdout",
     "output_type": "stream",
     "text": [
      "18/18 [==============================] - 2s 94ms/step - loss: 126.5776 - val_loss: 700.1186\n",
      "Epoch 26/100\n",
      "18/18 [==============================] - 0s 5ms/step - loss: 129.7195 - val_loss: 718.0587\n",
      "Epoch 27/100\n",
      "17/18 [===========================>..] - ETA: 0s - loss: 126.9676"
     ]
    },
    {
     "name": "stderr",
     "output_type": "stream",
     "text": [
      "WARNING:absl:Found untraced functions such as _jit_compiled_convolution_op while saving (showing 1 of 1). These functions will not be directly callable after loading.\n"
     ]
    },
    {
     "name": "stdout",
     "output_type": "stream",
     "text": [
      "INFO:tensorflow:Assets written to: model_experiments\\model_4_Conv1D\\assets\n"
     ]
    },
    {
     "name": "stderr",
     "output_type": "stream",
     "text": [
      "INFO:tensorflow:Assets written to: model_experiments\\model_4_Conv1D\\assets\n"
     ]
    },
    {
     "name": "stdout",
     "output_type": "stream",
     "text": [
      "18/18 [==============================] - 1s 64ms/step - loss: 127.4281 - val_loss: 681.0319\n",
      "Epoch 28/100\n",
      "18/18 [==============================] - 0s 6ms/step - loss: 122.4323 - val_loss: 681.2309\n",
      "Epoch 29/100\n",
      "16/18 [=========================>....] - ETA: 0s - loss: 120.6669"
     ]
    },
    {
     "name": "stderr",
     "output_type": "stream",
     "text": [
      "WARNING:absl:Found untraced functions such as _jit_compiled_convolution_op while saving (showing 1 of 1). These functions will not be directly callable after loading.\n"
     ]
    },
    {
     "name": "stdout",
     "output_type": "stream",
     "text": [
      "INFO:tensorflow:Assets written to: model_experiments\\model_4_Conv1D\\assets\n"
     ]
    },
    {
     "name": "stderr",
     "output_type": "stream",
     "text": [
      "INFO:tensorflow:Assets written to: model_experiments\\model_4_Conv1D\\assets\n"
     ]
    },
    {
     "name": "stdout",
     "output_type": "stream",
     "text": [
      "18/18 [==============================] - 1s 75ms/step - loss: 121.4970 - val_loss: 673.5140\n",
      "Epoch 30/100\n",
      "18/18 [==============================] - 0s 5ms/step - loss: 125.1623 - val_loss: 675.2536\n",
      "Epoch 31/100\n",
      "18/18 [==============================] - 0s 5ms/step - loss: 123.0276 - val_loss: 729.2153\n",
      "Epoch 32/100\n",
      "18/18 [==============================] - 0s 5ms/step - loss: 124.1330 - val_loss: 689.5863\n",
      "Epoch 33/100\n",
      "17/18 [===========================>..] - ETA: 0s - loss: 120.1199"
     ]
    },
    {
     "name": "stderr",
     "output_type": "stream",
     "text": [
      "WARNING:absl:Found untraced functions such as _jit_compiled_convolution_op while saving (showing 1 of 1). These functions will not be directly callable after loading.\n"
     ]
    },
    {
     "name": "stdout",
     "output_type": "stream",
     "text": [
      "INFO:tensorflow:Assets written to: model_experiments\\model_4_Conv1D\\assets\n"
     ]
    },
    {
     "name": "stderr",
     "output_type": "stream",
     "text": [
      "INFO:tensorflow:Assets written to: model_experiments\\model_4_Conv1D\\assets\n"
     ]
    },
    {
     "name": "stdout",
     "output_type": "stream",
     "text": [
      "18/18 [==============================] - 1s 66ms/step - loss: 119.2504 - val_loss: 665.5843\n",
      "Epoch 34/100\n",
      "18/18 [==============================] - ETA: 0s - loss: 118.8929"
     ]
    },
    {
     "name": "stderr",
     "output_type": "stream",
     "text": [
      "WARNING:absl:Found untraced functions such as _jit_compiled_convolution_op while saving (showing 1 of 1). These functions will not be directly callable after loading.\n"
     ]
    },
    {
     "name": "stdout",
     "output_type": "stream",
     "text": [
      "INFO:tensorflow:Assets written to: model_experiments\\model_4_Conv1D\\assets\n"
     ]
    },
    {
     "name": "stderr",
     "output_type": "stream",
     "text": [
      "INFO:tensorflow:Assets written to: model_experiments\\model_4_Conv1D\\assets\n"
     ]
    },
    {
     "name": "stdout",
     "output_type": "stream",
     "text": [
      "18/18 [==============================] - 1s 68ms/step - loss: 118.8929 - val_loss: 651.5877\n",
      "Epoch 35/100\n",
      " 1/18 [>.............................] - ETA: 0s - loss: 104.2958"
     ]
    },
    {
     "name": "stderr",
     "output_type": "stream",
     "text": [
      "WARNING:absl:Found untraced functions such as _jit_compiled_convolution_op while saving (showing 1 of 1). These functions will not be directly callable after loading.\n"
     ]
    },
    {
     "name": "stdout",
     "output_type": "stream",
     "text": [
      "INFO:tensorflow:Assets written to: model_experiments\\model_4_Conv1D\\assets\n"
     ]
    },
    {
     "name": "stderr",
     "output_type": "stream",
     "text": [
      "INFO:tensorflow:Assets written to: model_experiments\\model_4_Conv1D\\assets\n"
     ]
    },
    {
     "name": "stdout",
     "output_type": "stream",
     "text": [
      "18/18 [==============================] - 1s 75ms/step - loss: 118.1698 - val_loss: 634.9402\n",
      "Epoch 36/100\n",
      "18/18 [==============================] - 0s 9ms/step - loss: 122.6085 - val_loss: 714.5899\n",
      "Epoch 37/100\n",
      " 1/18 [>.............................] - ETA: 0s - loss: 157.6840"
     ]
    },
    {
     "name": "stderr",
     "output_type": "stream",
     "text": [
      "WARNING:absl:Found untraced functions such as _jit_compiled_convolution_op while saving (showing 1 of 1). These functions will not be directly callable after loading.\n"
     ]
    },
    {
     "name": "stdout",
     "output_type": "stream",
     "text": [
      "INFO:tensorflow:Assets written to: model_experiments\\model_4_Conv1D\\assets\n"
     ]
    },
    {
     "name": "stderr",
     "output_type": "stream",
     "text": [
      "INFO:tensorflow:Assets written to: model_experiments\\model_4_Conv1D\\assets\n"
     ]
    },
    {
     "name": "stdout",
     "output_type": "stream",
     "text": [
      "18/18 [==============================] - 1s 78ms/step - loss: 120.2142 - val_loss: 625.0025\n",
      "Epoch 38/100\n",
      " 1/18 [>.............................] - ETA: 0s - loss: 108.4536"
     ]
    },
    {
     "name": "stderr",
     "output_type": "stream",
     "text": [
      "WARNING:absl:Found untraced functions such as _jit_compiled_convolution_op while saving (showing 1 of 1). These functions will not be directly callable after loading.\n"
     ]
    },
    {
     "name": "stdout",
     "output_type": "stream",
     "text": [
      "INFO:tensorflow:Assets written to: model_experiments\\model_4_Conv1D\\assets\n"
     ]
    },
    {
     "name": "stderr",
     "output_type": "stream",
     "text": [
      "INFO:tensorflow:Assets written to: model_experiments\\model_4_Conv1D\\assets\n"
     ]
    },
    {
     "name": "stdout",
     "output_type": "stream",
     "text": [
      "18/18 [==============================] - 1s 74ms/step - loss: 117.3621 - val_loss: 623.7975\n",
      "Epoch 39/100\n",
      "15/18 [========================>.....] - ETA: 0s - loss: 120.2443"
     ]
    },
    {
     "name": "stderr",
     "output_type": "stream",
     "text": [
      "WARNING:absl:Found untraced functions such as _jit_compiled_convolution_op while saving (showing 1 of 1). These functions will not be directly callable after loading.\n"
     ]
    },
    {
     "name": "stdout",
     "output_type": "stream",
     "text": [
      "INFO:tensorflow:Assets written to: model_experiments\\model_4_Conv1D\\assets\n"
     ]
    },
    {
     "name": "stderr",
     "output_type": "stream",
     "text": [
      "INFO:tensorflow:Assets written to: model_experiments\\model_4_Conv1D\\assets\n"
     ]
    },
    {
     "name": "stdout",
     "output_type": "stream",
     "text": [
      "18/18 [==============================] - 1s 73ms/step - loss: 116.3104 - val_loss: 618.7695\n",
      "Epoch 40/100\n",
      " 1/18 [>.............................] - ETA: 0s - loss: 107.8471"
     ]
    },
    {
     "name": "stderr",
     "output_type": "stream",
     "text": [
      "WARNING:absl:Found untraced functions such as _jit_compiled_convolution_op while saving (showing 1 of 1). These functions will not be directly callable after loading.\n"
     ]
    },
    {
     "name": "stdout",
     "output_type": "stream",
     "text": [
      "INFO:tensorflow:Assets written to: model_experiments\\model_4_Conv1D\\assets\n"
     ]
    },
    {
     "name": "stderr",
     "output_type": "stream",
     "text": [
      "INFO:tensorflow:Assets written to: model_experiments\\model_4_Conv1D\\assets\n"
     ]
    },
    {
     "name": "stdout",
     "output_type": "stream",
     "text": [
      "18/18 [==============================] - 1s 70ms/step - loss: 114.7070 - val_loss: 615.0454\n",
      "Epoch 41/100\n",
      " 1/18 [>.............................] - ETA: 0s - loss: 108.5547"
     ]
    },
    {
     "name": "stderr",
     "output_type": "stream",
     "text": [
      "WARNING:absl:Found untraced functions such as _jit_compiled_convolution_op while saving (showing 1 of 1). These functions will not be directly callable after loading.\n"
     ]
    },
    {
     "name": "stdout",
     "output_type": "stream",
     "text": [
      "INFO:tensorflow:Assets written to: model_experiments\\model_4_Conv1D\\assets\n"
     ]
    },
    {
     "name": "stderr",
     "output_type": "stream",
     "text": [
      "INFO:tensorflow:Assets written to: model_experiments\\model_4_Conv1D\\assets\n"
     ]
    },
    {
     "name": "stdout",
     "output_type": "stream",
     "text": [
      "18/18 [==============================] - 1s 73ms/step - loss: 114.3892 - val_loss: 612.2292\n",
      "Epoch 42/100\n",
      "18/18 [==============================] - 0s 6ms/step - loss: 118.9642 - val_loss: 622.2933\n",
      "Epoch 43/100\n",
      "18/18 [==============================] - 0s 4ms/step - loss: 114.7144 - val_loss: 642.7216\n",
      "Epoch 44/100\n",
      "18/18 [==============================] - 0s 5ms/step - loss: 115.5077 - val_loss: 627.2785\n",
      "Epoch 45/100\n",
      "18/18 [==============================] - 0s 5ms/step - loss: 117.3296 - val_loss: 632.8093\n",
      "Epoch 46/100\n",
      "18/18 [==============================] - 0s 5ms/step - loss: 115.1973 - val_loss: 615.0797\n",
      "Epoch 47/100\n",
      "18/18 [==============================] - 0s 6ms/step - loss: 113.0239 - val_loss: 667.3893\n",
      "Epoch 48/100\n",
      "18/18 [==============================] - 0s 6ms/step - loss: 112.6385 - val_loss: 622.2720\n",
      "Epoch 49/100\n",
      " 1/18 [>.............................] - ETA: 0s - loss: 159.5352"
     ]
    },
    {
     "name": "stderr",
     "output_type": "stream",
     "text": [
      "WARNING:absl:Found untraced functions such as _jit_compiled_convolution_op while saving (showing 1 of 1). These functions will not be directly callable after loading.\n"
     ]
    },
    {
     "name": "stdout",
     "output_type": "stream",
     "text": [
      "INFO:tensorflow:Assets written to: model_experiments\\model_4_Conv1D\\assets\n"
     ]
    },
    {
     "name": "stderr",
     "output_type": "stream",
     "text": [
      "INFO:tensorflow:Assets written to: model_experiments\\model_4_Conv1D\\assets\n"
     ]
    },
    {
     "name": "stdout",
     "output_type": "stream",
     "text": [
      "18/18 [==============================] - 2s 96ms/step - loss: 114.8335 - val_loss: 596.7827\n",
      "Epoch 50/100\n",
      "18/18 [==============================] - 0s 5ms/step - loss: 113.0428 - val_loss: 599.7328\n",
      "Epoch 51/100\n",
      "18/18 [==============================] - 0s 4ms/step - loss: 112.6380 - val_loss: 626.0257\n",
      "Epoch 52/100\n",
      " 1/18 [>.............................] - ETA: 0s - loss: 124.8318"
     ]
    },
    {
     "name": "stderr",
     "output_type": "stream",
     "text": [
      "WARNING:absl:Found untraced functions such as _jit_compiled_convolution_op while saving (showing 1 of 1). These functions will not be directly callable after loading.\n"
     ]
    },
    {
     "name": "stdout",
     "output_type": "stream",
     "text": [
      "INFO:tensorflow:Assets written to: model_experiments\\model_4_Conv1D\\assets\n"
     ]
    },
    {
     "name": "stderr",
     "output_type": "stream",
     "text": [
      "INFO:tensorflow:Assets written to: model_experiments\\model_4_Conv1D\\assets\n"
     ]
    },
    {
     "name": "stdout",
     "output_type": "stream",
     "text": [
      "18/18 [==============================] - 1s 71ms/step - loss: 118.3171 - val_loss: 592.6545\n",
      "Epoch 53/100\n",
      "18/18 [==============================] - 0s 6ms/step - loss: 115.7682 - val_loss: 606.8443\n",
      "Epoch 54/100\n",
      "18/18 [==============================] - 0s 6ms/step - loss: 114.8964 - val_loss: 641.2996\n",
      "Epoch 55/100\n",
      " 1/18 [>.............................] - ETA: 0s - loss: 138.0588"
     ]
    },
    {
     "name": "stderr",
     "output_type": "stream",
     "text": [
      "WARNING:absl:Found untraced functions such as _jit_compiled_convolution_op while saving (showing 1 of 1). These functions will not be directly callable after loading.\n"
     ]
    },
    {
     "name": "stdout",
     "output_type": "stream",
     "text": [
      "INFO:tensorflow:Assets written to: model_experiments\\model_4_Conv1D\\assets\n"
     ]
    },
    {
     "name": "stderr",
     "output_type": "stream",
     "text": [
      "INFO:tensorflow:Assets written to: model_experiments\\model_4_Conv1D\\assets\n"
     ]
    },
    {
     "name": "stdout",
     "output_type": "stream",
     "text": [
      "18/18 [==============================] - 1s 62ms/step - loss: 112.2598 - val_loss: 591.0049\n",
      "Epoch 56/100\n",
      "18/18 [==============================] - 0s 6ms/step - loss: 110.1845 - val_loss: 718.3746\n",
      "Epoch 57/100\n",
      "18/18 [==============================] - 0s 5ms/step - loss: 120.8524 - val_loss: 678.0277\n",
      "Epoch 58/100\n",
      " 1/18 [>.............................] - ETA: 0s - loss: 98.0254"
     ]
    },
    {
     "name": "stderr",
     "output_type": "stream",
     "text": [
      "WARNING:absl:Found untraced functions such as _jit_compiled_convolution_op while saving (showing 1 of 1). These functions will not be directly callable after loading.\n"
     ]
    },
    {
     "name": "stdout",
     "output_type": "stream",
     "text": [
      "INFO:tensorflow:Assets written to: model_experiments\\model_4_Conv1D\\assets\n"
     ]
    },
    {
     "name": "stderr",
     "output_type": "stream",
     "text": [
      "INFO:tensorflow:Assets written to: model_experiments\\model_4_Conv1D\\assets\n"
     ]
    },
    {
     "name": "stdout",
     "output_type": "stream",
     "text": [
      "18/18 [==============================] - 1s 63ms/step - loss: 117.5692 - val_loss: 587.4301\n",
      "Epoch 59/100\n",
      " 1/18 [>.............................] - ETA: 0s - loss: 85.0826"
     ]
    },
    {
     "name": "stderr",
     "output_type": "stream",
     "text": [
      "WARNING:absl:Found untraced functions such as _jit_compiled_convolution_op while saving (showing 1 of 1). These functions will not be directly callable after loading.\n"
     ]
    },
    {
     "name": "stdout",
     "output_type": "stream",
     "text": [
      "INFO:tensorflow:Assets written to: model_experiments\\model_4_Conv1D\\assets\n"
     ]
    },
    {
     "name": "stderr",
     "output_type": "stream",
     "text": [
      "INFO:tensorflow:Assets written to: model_experiments\\model_4_Conv1D\\assets\n"
     ]
    },
    {
     "name": "stdout",
     "output_type": "stream",
     "text": [
      "18/18 [==============================] - 1s 76ms/step - loss: 112.3823 - val_loss: 586.5067\n",
      "Epoch 60/100\n",
      "18/18 [==============================] - 0s 6ms/step - loss: 109.5803 - val_loss: 610.3244\n",
      "Epoch 61/100\n",
      "18/18 [==============================] - 0s 6ms/step - loss: 110.8585 - val_loss: 590.1013\n",
      "Epoch 62/100\n",
      "18/18 [==============================] - 0s 7ms/step - loss: 109.6899 - val_loss: 596.0419\n",
      "Epoch 63/100\n",
      "18/18 [==============================] - 0s 7ms/step - loss: 113.4481 - val_loss: 592.6564\n",
      "Epoch 64/100\n",
      "18/18 [==============================] - 0s 6ms/step - loss: 111.3467 - val_loss: 648.8536\n",
      "Epoch 65/100\n",
      "18/18 [==============================] - 0s 6ms/step - loss: 113.2099 - val_loss: 591.4364\n",
      "Epoch 66/100\n",
      " 1/18 [>.............................] - ETA: 0s - loss: 116.2395"
     ]
    },
    {
     "name": "stderr",
     "output_type": "stream",
     "text": [
      "WARNING:absl:Found untraced functions such as _jit_compiled_convolution_op while saving (showing 1 of 1). These functions will not be directly callable after loading.\n"
     ]
    },
    {
     "name": "stdout",
     "output_type": "stream",
     "text": [
      "INFO:tensorflow:Assets written to: model_experiments\\model_4_Conv1D\\assets\n"
     ]
    },
    {
     "name": "stderr",
     "output_type": "stream",
     "text": [
      "INFO:tensorflow:Assets written to: model_experiments\\model_4_Conv1D\\assets\n"
     ]
    },
    {
     "name": "stdout",
     "output_type": "stream",
     "text": [
      "18/18 [==============================] - 1s 69ms/step - loss: 110.2806 - val_loss: 580.5883\n",
      "Epoch 67/100\n",
      "18/18 [==============================] - 0s 7ms/step - loss: 108.4239 - val_loss: 644.8674\n",
      "Epoch 68/100\n",
      "18/18 [==============================] - 0s 8ms/step - loss: 118.7640 - val_loss: 727.3658\n",
      "Epoch 69/100\n",
      "18/18 [==============================] - 0s 6ms/step - loss: 128.2924 - val_loss: 724.4535\n",
      "Epoch 70/100\n",
      " 1/18 [>.............................] - ETA: 0s - loss: 139.9466"
     ]
    },
    {
     "name": "stderr",
     "output_type": "stream",
     "text": [
      "WARNING:absl:Found untraced functions such as _jit_compiled_convolution_op while saving (showing 1 of 1). These functions will not be directly callable after loading.\n"
     ]
    },
    {
     "name": "stdout",
     "output_type": "stream",
     "text": [
      "INFO:tensorflow:Assets written to: model_experiments\\model_4_Conv1D\\assets\n"
     ]
    },
    {
     "name": "stderr",
     "output_type": "stream",
     "text": [
      "INFO:tensorflow:Assets written to: model_experiments\\model_4_Conv1D\\assets\n"
     ]
    },
    {
     "name": "stdout",
     "output_type": "stream",
     "text": [
      "18/18 [==============================] - 1s 79ms/step - loss: 120.3659 - val_loss: 579.3591\n",
      "Epoch 71/100\n",
      "18/18 [==============================] - 0s 5ms/step - loss: 111.9538 - val_loss: 606.8204\n",
      "Epoch 72/100\n",
      "18/18 [==============================] - 0s 6ms/step - loss: 109.5861 - val_loss: 581.4498\n",
      "Epoch 73/100\n",
      "18/18 [==============================] - 0s 6ms/step - loss: 111.5653 - val_loss: 604.1492\n",
      "Epoch 74/100\n",
      " 1/18 [>.............................] - ETA: 0s - loss: 165.3531"
     ]
    },
    {
     "name": "stderr",
     "output_type": "stream",
     "text": [
      "WARNING:absl:Found untraced functions such as _jit_compiled_convolution_op while saving (showing 1 of 1). These functions will not be directly callable after loading.\n"
     ]
    },
    {
     "name": "stdout",
     "output_type": "stream",
     "text": [
      "INFO:tensorflow:Assets written to: model_experiments\\model_4_Conv1D\\assets\n"
     ]
    },
    {
     "name": "stderr",
     "output_type": "stream",
     "text": [
      "INFO:tensorflow:Assets written to: model_experiments\\model_4_Conv1D\\assets\n"
     ]
    },
    {
     "name": "stdout",
     "output_type": "stream",
     "text": [
      "18/18 [==============================] - 1s 63ms/step - loss: 108.6028 - val_loss: 578.9691\n",
      "Epoch 75/100\n",
      "18/18 [==============================] - 0s 6ms/step - loss: 110.7208 - val_loss: 617.8850\n",
      "Epoch 76/100\n",
      "18/18 [==============================] - 0s 6ms/step - loss: 112.8243 - val_loss: 580.4754\n",
      "Epoch 77/100\n",
      "17/18 [===========================>..] - ETA: 0s - loss: 111.1907"
     ]
    },
    {
     "name": "stderr",
     "output_type": "stream",
     "text": [
      "WARNING:absl:Found untraced functions such as _jit_compiled_convolution_op while saving (showing 1 of 1). These functions will not be directly callable after loading.\n"
     ]
    },
    {
     "name": "stdout",
     "output_type": "stream",
     "text": [
      "INFO:tensorflow:Assets written to: model_experiments\\model_4_Conv1D\\assets\n"
     ]
    },
    {
     "name": "stderr",
     "output_type": "stream",
     "text": [
      "INFO:tensorflow:Assets written to: model_experiments\\model_4_Conv1D\\assets\n"
     ]
    },
    {
     "name": "stdout",
     "output_type": "stream",
     "text": [
      "18/18 [==============================] - 1s 79ms/step - loss: 110.3784 - val_loss: 576.7784\n",
      "Epoch 78/100\n",
      " 1/18 [>.............................] - ETA: 0s - loss: 111.3251"
     ]
    },
    {
     "name": "stderr",
     "output_type": "stream",
     "text": [
      "WARNING:absl:Found untraced functions such as _jit_compiled_convolution_op while saving (showing 1 of 1). These functions will not be directly callable after loading.\n"
     ]
    },
    {
     "name": "stdout",
     "output_type": "stream",
     "text": [
      "INFO:tensorflow:Assets written to: model_experiments\\model_4_Conv1D\\assets\n"
     ]
    },
    {
     "name": "stderr",
     "output_type": "stream",
     "text": [
      "INFO:tensorflow:Assets written to: model_experiments\\model_4_Conv1D\\assets\n"
     ]
    },
    {
     "name": "stdout",
     "output_type": "stream",
     "text": [
      "18/18 [==============================] - 2s 95ms/step - loss: 109.3156 - val_loss: 575.7208\n",
      "Epoch 79/100\n",
      "18/18 [==============================] - 0s 5ms/step - loss: 108.4955 - val_loss: 609.1289\n",
      "Epoch 80/100\n",
      "18/18 [==============================] - 0s 5ms/step - loss: 109.3981 - val_loss: 590.7675\n",
      "Epoch 81/100\n",
      "18/18 [==============================] - 0s 6ms/step - loss: 108.3527 - val_loss: 578.0142\n",
      "Epoch 82/100\n",
      "18/18 [==============================] - 0s 5ms/step - loss: 118.0228 - val_loss: 614.9916\n",
      "Epoch 83/100\n",
      "18/18 [==============================] - 0s 6ms/step - loss: 111.7754 - val_loss: 585.4472\n",
      "Epoch 84/100\n",
      " 1/18 [>.............................] - ETA: 0s - loss: 110.8355"
     ]
    },
    {
     "name": "stderr",
     "output_type": "stream",
     "text": [
      "WARNING:absl:Found untraced functions such as _jit_compiled_convolution_op while saving (showing 1 of 1). These functions will not be directly callable after loading.\n"
     ]
    },
    {
     "name": "stdout",
     "output_type": "stream",
     "text": [
      "INFO:tensorflow:Assets written to: model_experiments\\model_4_Conv1D\\assets\n"
     ]
    },
    {
     "name": "stderr",
     "output_type": "stream",
     "text": [
      "INFO:tensorflow:Assets written to: model_experiments\\model_4_Conv1D\\assets\n"
     ]
    },
    {
     "name": "stdout",
     "output_type": "stream",
     "text": [
      "18/18 [==============================] - 1s 74ms/step - loss: 109.5556 - val_loss: 573.9724\n",
      "Epoch 85/100\n",
      "18/18 [==============================] - 0s 5ms/step - loss: 107.2307 - val_loss: 596.3902\n",
      "Epoch 86/100\n",
      "18/18 [==============================] - 0s 5ms/step - loss: 111.9538 - val_loss: 657.6013\n",
      "Epoch 87/100\n",
      "18/18 [==============================] - 0s 5ms/step - loss: 108.9247 - val_loss: 582.8103\n",
      "Epoch 88/100\n",
      "18/18 [==============================] - 0s 6ms/step - loss: 107.9960 - val_loss: 576.9178\n",
      "Epoch 89/100\n",
      "18/18 [==============================] - 0s 7ms/step - loss: 110.8077 - val_loss: 583.3591\n",
      "Epoch 90/100\n",
      "18/18 [==============================] - 0s 6ms/step - loss: 107.5166 - val_loss: 649.7975\n",
      "Epoch 91/100\n",
      "18/18 [==============================] - 0s 6ms/step - loss: 113.8105 - val_loss: 614.8296\n",
      "Epoch 92/100\n",
      " 1/18 [>.............................] - ETA: 0s - loss: 94.9001"
     ]
    },
    {
     "name": "stderr",
     "output_type": "stream",
     "text": [
      "WARNING:absl:Found untraced functions such as _jit_compiled_convolution_op while saving (showing 1 of 1). These functions will not be directly callable after loading.\n"
     ]
    },
    {
     "name": "stdout",
     "output_type": "stream",
     "text": [
      "INFO:tensorflow:Assets written to: model_experiments\\model_4_Conv1D\\assets\n"
     ]
    },
    {
     "name": "stderr",
     "output_type": "stream",
     "text": [
      "INFO:tensorflow:Assets written to: model_experiments\\model_4_Conv1D\\assets\n"
     ]
    },
    {
     "name": "stdout",
     "output_type": "stream",
     "text": [
      "18/18 [==============================] - 1s 76ms/step - loss: 109.4453 - val_loss: 572.2163\n",
      "Epoch 93/100\n",
      "18/18 [==============================] - 0s 5ms/step - loss: 114.4949 - val_loss: 616.5641\n",
      "Epoch 94/100\n",
      "18/18 [==============================] - 0s 7ms/step - loss: 111.0832 - val_loss: 584.4518\n",
      "Epoch 95/100\n",
      "18/18 [==============================] - 0s 5ms/step - loss: 107.0493 - val_loss: 572.7836\n",
      "Epoch 96/100\n",
      "18/18 [==============================] - 0s 6ms/step - loss: 111.9340 - val_loss: 625.1423\n",
      "Epoch 97/100\n",
      "18/18 [==============================] - 0s 5ms/step - loss: 111.4333 - val_loss: 591.8528\n",
      "Epoch 98/100\n",
      "18/18 [==============================] - 0s 5ms/step - loss: 109.5547 - val_loss: 573.8270\n",
      "Epoch 99/100\n",
      " 1/18 [>.............................] - ETA: 0s - loss: 150.8336"
     ]
    },
    {
     "name": "stderr",
     "output_type": "stream",
     "text": [
      "WARNING:absl:Found untraced functions such as _jit_compiled_convolution_op while saving (showing 1 of 1). These functions will not be directly callable after loading.\n"
     ]
    },
    {
     "name": "stdout",
     "output_type": "stream",
     "text": [
      "INFO:tensorflow:Assets written to: model_experiments\\model_4_Conv1D\\assets\n"
     ]
    },
    {
     "name": "stderr",
     "output_type": "stream",
     "text": [
      "INFO:tensorflow:Assets written to: model_experiments\\model_4_Conv1D\\assets\n"
     ]
    },
    {
     "name": "stdout",
     "output_type": "stream",
     "text": [
      "18/18 [==============================] - 1s 70ms/step - loss: 108.2890 - val_loss: 571.2165\n",
      "Epoch 100/100\n",
      "18/18 [==============================] - 0s 4ms/step - loss: 112.1624 - val_loss: 629.5804\n"
     ]
    }
   ],
   "source": [
    "# Creating Conv1D model\n",
    "model_4 = tf.keras.Sequential([\n",
    "    layers.Lambda(lambda x: tf.expand_dims(x, axis=1)),\n",
    "    layers.Conv1D(filters=128, kernel_size=5, strides=1, padding=\"causal\", activation=\"relu\"),\n",
    "    layers.Dense(HORIZON)\n",
    "], name=\"model_4_Conv1D\")\n",
    "\n",
    "# Compiling the model\n",
    "model_4.compile(\n",
    "    loss=\"mae\",\n",
    "    optimizer=tf.keras.optimizers.Adam()\n",
    ")\n",
    "\n",
    "# Fitting the model\n",
    "history_4 = model_4.fit(\n",
    "    train_windows,\n",
    "    train_labels,\n",
    "    batch_size=128,\n",
    "    epochs=100,\n",
    "    validation_data=(test_windows, test_labels),\n",
    "    callbacks=[create_model_checkpoint(model_name=model_4.name)]\n",
    ")"
   ]
  },
  {
   "cell_type": "code",
   "execution_count": 74,
   "metadata": {},
   "outputs": [
    {
     "name": "stdout",
     "output_type": "stream",
     "text": [
      "Model: \"model_4_Conv1D\"\n",
      "_________________________________________________________________\n",
      " Layer (type)                Output Shape              Param #   \n",
      "=================================================================\n",
      " lambda_1 (Lambda)           (None, 1, 7)              0         \n",
      "                                                                 \n",
      " conv1d (Conv1D)             (None, 1, 128)            4608      \n",
      "                                                                 \n",
      " dense_6 (Dense)             (None, 1, 1)              129       \n",
      "                                                                 \n",
      "=================================================================\n",
      "Total params: 4,737\n",
      "Trainable params: 4,737\n",
      "Non-trainable params: 0\n",
      "_________________________________________________________________\n"
     ]
    }
   ],
   "source": [
    "# Checking the model structure\n",
    "model_4.summary()"
   ]
  },
  {
   "cell_type": "code",
   "execution_count": 75,
   "metadata": {},
   "outputs": [
    {
     "name": "stdout",
     "output_type": "stream",
     "text": [
      "18/18 [==============================] - 0s 3ms/step - loss: 629.5804\n"
     ]
    },
    {
     "data": {
      "text/plain": [
       "629.5803833007812"
      ]
     },
     "execution_count": 75,
     "metadata": {},
     "output_type": "execute_result"
    }
   ],
   "source": [
    "# Evaluating the model\n",
    "model_4.evaluate(test_windows, test_labels)"
   ]
  },
  {
   "cell_type": "code",
   "execution_count": 76,
   "metadata": {},
   "outputs": [
    {
     "name": "stdout",
     "output_type": "stream",
     "text": [
      "18/18 [==============================] - 0s 2ms/step - loss: 571.2165\n"
     ]
    },
    {
     "data": {
      "text/plain": [
       "571.2164916992188"
      ]
     },
     "execution_count": 76,
     "metadata": {},
     "output_type": "execute_result"
    }
   ],
   "source": [
    "# Loading back the best performing model\n",
    "model_4 = tf.keras.models.load_model(\"./model_experiments/model_4_Conv1D/\")\n",
    "model_4.evaluate(test_windows, test_labels)"
   ]
  },
  {
   "cell_type": "code",
   "execution_count": 77,
   "metadata": {},
   "outputs": [
    {
     "name": "stdout",
     "output_type": "stream",
     "text": [
      "18/18 [==============================] - 0s 2ms/step\n"
     ]
    },
    {
     "data": {
      "text/plain": [
       "<tf.Tensor: shape=(10,), dtype=float32, numpy=\n",
       "array([8879.158, 8789.521, 9011.699, 8765.579, 8753.904, 8748.215,\n",
       "       8681.657, 8510.795, 8480.422, 8516.737], dtype=float32)>"
      ]
     },
     "execution_count": 77,
     "metadata": {},
     "output_type": "execute_result"
    }
   ],
   "source": [
    "# Making predictions\n",
    "model_4_preds = make_preds(model_4, test_windows)\n",
    "model_4_preds[:10]"
   ]
  },
  {
   "cell_type": "code",
   "execution_count": 78,
   "metadata": {},
   "outputs": [
    {
     "data": {
      "text/plain": [
       "{'mae': 571.2165,\n",
       " 'mse': 1174370.1,\n",
       " 'rmse': 1083.6836,\n",
       " 'mape': 2.5455275,\n",
       " 'mase': 1.0034691}"
      ]
     },
     "execution_count": 78,
     "metadata": {},
     "output_type": "execute_result"
    }
   ],
   "source": [
    "# Evaluating predictions\n",
    "model_4_results = evaluate_preds(\n",
    "    y_true=tf.squeeze(test_labels),\n",
    "    y_pred=model_4_preds\n",
    ")\n",
    "model_4_results"
   ]
  },
  {
   "attachments": {},
   "cell_type": "markdown",
   "metadata": {},
   "source": [
    "### Model 5 - LSTM (RNN)"
   ]
  },
  {
   "cell_type": "code",
   "execution_count": 79,
   "metadata": {},
   "outputs": [
    {
     "name": "stdout",
     "output_type": "stream",
     "text": [
      "Epoch 1/100\n",
      "18/18 [==============================] - ETA: 0s - loss: 2695.8389INFO:tensorflow:Assets written to: model_experiments\\module_5_LSTM\\assets\n"
     ]
    },
    {
     "name": "stderr",
     "output_type": "stream",
     "text": [
      "INFO:tensorflow:Assets written to: model_experiments\\module_5_LSTM\\assets\n"
     ]
    },
    {
     "name": "stdout",
     "output_type": "stream",
     "text": [
      "18/18 [==============================] - 7s 262ms/step - loss: 2695.8389 - val_loss: 13191.1396\n",
      "Epoch 2/100\n",
      "18/18 [==============================] - ETA: 0s - loss: 1657.1515INFO:tensorflow:Assets written to: model_experiments\\module_5_LSTM\\assets\n"
     ]
    },
    {
     "name": "stderr",
     "output_type": "stream",
     "text": [
      "INFO:tensorflow:Assets written to: model_experiments\\module_5_LSTM\\assets\n"
     ]
    },
    {
     "name": "stdout",
     "output_type": "stream",
     "text": [
      "18/18 [==============================] - 4s 226ms/step - loss: 1657.1515 - val_loss: 7230.3740\n",
      "Epoch 3/100\n",
      "18/18 [==============================] - ETA: 0s - loss: 621.4913INFO:tensorflow:Assets written to: model_experiments\\module_5_LSTM\\assets\n"
     ]
    },
    {
     "name": "stderr",
     "output_type": "stream",
     "text": [
      "INFO:tensorflow:Assets written to: model_experiments\\module_5_LSTM\\assets\n"
     ]
    },
    {
     "name": "stdout",
     "output_type": "stream",
     "text": [
      "18/18 [==============================] - 4s 221ms/step - loss: 621.4913 - val_loss: 998.3973\n",
      "Epoch 4/100\n",
      "18/18 [==============================] - 0s 10ms/step - loss: 228.5957 - val_loss: 1031.3191\n",
      "Epoch 5/100\n",
      "10/18 [===============>..............] - ETA: 0s - loss: 198.0730INFO:tensorflow:Assets written to: model_experiments\\module_5_LSTM\\assets\n"
     ]
    },
    {
     "name": "stderr",
     "output_type": "stream",
     "text": [
      "INFO:tensorflow:Assets written to: model_experiments\\module_5_LSTM\\assets\n"
     ]
    },
    {
     "name": "stdout",
     "output_type": "stream",
     "text": [
      "18/18 [==============================] - 4s 222ms/step - loss: 185.3689 - val_loss: 991.2673\n",
      "Epoch 6/100\n",
      "18/18 [==============================] - 0s 10ms/step - loss: 181.4990 - val_loss: 1023.1882\n",
      "Epoch 7/100\n",
      "18/18 [==============================] - 0s 9ms/step - loss: 176.6915 - val_loss: 1010.7974\n",
      "Epoch 8/100\n",
      "18/18 [==============================] - 0s 12ms/step - loss: 175.2614 - val_loss: 1005.1655\n",
      "Epoch 9/100\n",
      "18/18 [==============================] - 0s 14ms/step - loss: 174.4778 - val_loss: 1001.2744\n",
      "Epoch 10/100\n",
      "15/18 [========================>.....] - ETA: 0s - loss: 169.3679INFO:tensorflow:Assets written to: model_experiments\\module_5_LSTM\\assets\n"
     ]
    },
    {
     "name": "stderr",
     "output_type": "stream",
     "text": [
      "INFO:tensorflow:Assets written to: model_experiments\\module_5_LSTM\\assets\n"
     ]
    },
    {
     "name": "stdout",
     "output_type": "stream",
     "text": [
      "18/18 [==============================] - 4s 254ms/step - loss: 173.7469 - val_loss: 986.3934\n",
      "Epoch 11/100\n",
      "18/18 [==============================] - 0s 11ms/step - loss: 173.6238 - val_loss: 999.6142\n",
      "Epoch 12/100\n",
      "18/18 [==============================] - 0s 10ms/step - loss: 172.1560 - val_loss: 999.6659\n",
      "Epoch 13/100\n",
      "10/18 [===============>..............] - ETA: 0s - loss: 165.4810INFO:tensorflow:Assets written to: model_experiments\\module_5_LSTM\\assets\n"
     ]
    },
    {
     "name": "stderr",
     "output_type": "stream",
     "text": [
      "INFO:tensorflow:Assets written to: model_experiments\\module_5_LSTM\\assets\n"
     ]
    },
    {
     "name": "stdout",
     "output_type": "stream",
     "text": [
      "18/18 [==============================] - 3s 193ms/step - loss: 171.0054 - val_loss: 981.1697\n",
      "Epoch 14/100\n",
      "18/18 [==============================] - 0s 14ms/step - loss: 170.2370 - val_loss: 998.2208\n",
      "Epoch 15/100\n",
      "16/18 [=========================>....] - ETA: 0s - loss: 172.0771INFO:tensorflow:Assets written to: model_experiments\\module_5_LSTM\\assets\n"
     ]
    },
    {
     "name": "stderr",
     "output_type": "stream",
     "text": [
      "INFO:tensorflow:Assets written to: model_experiments\\module_5_LSTM\\assets\n"
     ]
    },
    {
     "name": "stdout",
     "output_type": "stream",
     "text": [
      "18/18 [==============================] - 4s 210ms/step - loss: 169.3222 - val_loss: 980.5079\n",
      "Epoch 16/100\n",
      "16/18 [=========================>....] - ETA: 0s - loss: 165.6397INFO:tensorflow:Assets written to: model_experiments\\module_5_LSTM\\assets\n"
     ]
    },
    {
     "name": "stderr",
     "output_type": "stream",
     "text": [
      "INFO:tensorflow:Assets written to: model_experiments\\module_5_LSTM\\assets\n"
     ]
    },
    {
     "name": "stdout",
     "output_type": "stream",
     "text": [
      "18/18 [==============================] - 4s 220ms/step - loss: 167.8426 - val_loss: 939.6386\n",
      "Epoch 17/100\n",
      "18/18 [==============================] - 0s 10ms/step - loss: 167.0619 - val_loss: 1019.1985\n",
      "Epoch 18/100\n",
      "18/18 [==============================] - 0s 16ms/step - loss: 167.3851 - val_loss: 960.7158\n",
      "Epoch 19/100\n",
      "18/18 [==============================] - 0s 10ms/step - loss: 165.1859 - val_loss: 947.6339\n",
      "Epoch 20/100\n",
      "18/18 [==============================] - ETA: 0s - loss: 164.1524INFO:tensorflow:Assets written to: model_experiments\\module_5_LSTM\\assets\n"
     ]
    },
    {
     "name": "stderr",
     "output_type": "stream",
     "text": [
      "INFO:tensorflow:Assets written to: model_experiments\\module_5_LSTM\\assets\n"
     ]
    },
    {
     "name": "stdout",
     "output_type": "stream",
     "text": [
      "18/18 [==============================] - 4s 243ms/step - loss: 164.1524 - val_loss: 917.2620\n",
      "Epoch 21/100\n",
      "18/18 [==============================] - 0s 13ms/step - loss: 162.5660 - val_loss: 928.8912\n",
      "Epoch 22/100\n",
      "17/18 [===========================>..] - ETA: 0s - loss: 162.3818INFO:tensorflow:Assets written to: model_experiments\\module_5_LSTM\\assets\n"
     ]
    },
    {
     "name": "stderr",
     "output_type": "stream",
     "text": [
      "INFO:tensorflow:Assets written to: model_experiments\\module_5_LSTM\\assets\n"
     ]
    },
    {
     "name": "stdout",
     "output_type": "stream",
     "text": [
      "18/18 [==============================] - 4s 211ms/step - loss: 161.5192 - val_loss: 917.1273\n",
      "Epoch 23/100\n",
      "17/18 [===========================>..] - ETA: 0s - loss: 160.4920INFO:tensorflow:Assets written to: model_experiments\\module_5_LSTM\\assets\n"
     ]
    },
    {
     "name": "stderr",
     "output_type": "stream",
     "text": [
      "INFO:tensorflow:Assets written to: model_experiments\\module_5_LSTM\\assets\n"
     ]
    },
    {
     "name": "stdout",
     "output_type": "stream",
     "text": [
      "18/18 [==============================] - 3s 194ms/step - loss: 161.6827 - val_loss: 906.2166\n",
      "Epoch 24/100\n",
      "18/18 [==============================] - 0s 9ms/step - loss: 159.6539 - val_loss: 915.2310\n",
      "Epoch 25/100\n",
      "18/18 [==============================] - ETA: 0s - loss: 158.1588INFO:tensorflow:Assets written to: model_experiments\\module_5_LSTM\\assets\n"
     ]
    },
    {
     "name": "stderr",
     "output_type": "stream",
     "text": [
      "INFO:tensorflow:Assets written to: model_experiments\\module_5_LSTM\\assets\n"
     ]
    },
    {
     "name": "stdout",
     "output_type": "stream",
     "text": [
      "18/18 [==============================] - 4s 219ms/step - loss: 158.1588 - val_loss: 900.1793\n",
      "Epoch 26/100\n",
      "18/18 [==============================] - 0s 10ms/step - loss: 157.0737 - val_loss: 900.8646\n",
      "Epoch 27/100\n",
      "10/18 [===============>..............] - ETA: 0s - loss: 161.9889INFO:tensorflow:Assets written to: model_experiments\\module_5_LSTM\\assets\n"
     ]
    },
    {
     "name": "stderr",
     "output_type": "stream",
     "text": [
      "INFO:tensorflow:Assets written to: model_experiments\\module_5_LSTM\\assets\n"
     ]
    },
    {
     "name": "stdout",
     "output_type": "stream",
     "text": [
      "18/18 [==============================] - 4s 248ms/step - loss: 156.3738 - val_loss: 898.8474\n",
      "Epoch 28/100\n",
      "18/18 [==============================] - 0s 10ms/step - loss: 156.1517 - val_loss: 903.6223\n",
      "Epoch 29/100\n",
      "18/18 [==============================] - ETA: 0s - loss: 153.7217INFO:tensorflow:Assets written to: model_experiments\\module_5_LSTM\\assets\n"
     ]
    },
    {
     "name": "stderr",
     "output_type": "stream",
     "text": [
      "INFO:tensorflow:Assets written to: model_experiments\\module_5_LSTM\\assets\n"
     ]
    },
    {
     "name": "stdout",
     "output_type": "stream",
     "text": [
      "18/18 [==============================] - 4s 216ms/step - loss: 153.7217 - val_loss: 882.9180\n",
      "Epoch 30/100\n",
      "13/18 [====================>.........] - ETA: 0s - loss: 149.7395INFO:tensorflow:Assets written to: model_experiments\\module_5_LSTM\\assets\n"
     ]
    },
    {
     "name": "stderr",
     "output_type": "stream",
     "text": [
      "INFO:tensorflow:Assets written to: model_experiments\\module_5_LSTM\\assets\n"
     ]
    },
    {
     "name": "stdout",
     "output_type": "stream",
     "text": [
      "18/18 [==============================] - 4s 218ms/step - loss: 153.1956 - val_loss: 872.4301\n",
      "Epoch 31/100\n",
      "18/18 [==============================] - ETA: 0s - loss: 151.6664INFO:tensorflow:Assets written to: model_experiments\\module_5_LSTM\\assets\n"
     ]
    },
    {
     "name": "stderr",
     "output_type": "stream",
     "text": [
      "INFO:tensorflow:Assets written to: model_experiments\\module_5_LSTM\\assets\n"
     ]
    },
    {
     "name": "stdout",
     "output_type": "stream",
     "text": [
      "18/18 [==============================] - 3s 204ms/step - loss: 151.6664 - val_loss: 849.7158\n",
      "Epoch 32/100\n",
      "15/18 [========================>.....] - ETA: 0s - loss: 152.4411INFO:tensorflow:Assets written to: model_experiments\\module_5_LSTM\\assets\n"
     ]
    },
    {
     "name": "stderr",
     "output_type": "stream",
     "text": [
      "INFO:tensorflow:Assets written to: model_experiments\\module_5_LSTM\\assets\n"
     ]
    },
    {
     "name": "stdout",
     "output_type": "stream",
     "text": [
      "18/18 [==============================] - 4s 255ms/step - loss: 152.7964 - val_loss: 844.1932\n",
      "Epoch 33/100\n",
      "18/18 [==============================] - 0s 11ms/step - loss: 153.1064 - val_loss: 881.3074\n",
      "Epoch 34/100\n",
      "18/18 [==============================] - 0s 13ms/step - loss: 149.0034 - val_loss: 846.1453\n",
      "Epoch 35/100\n",
      "14/18 [======================>.......] - ETA: 0s - loss: 149.2953INFO:tensorflow:Assets written to: model_experiments\\module_5_LSTM\\assets\n"
     ]
    },
    {
     "name": "stderr",
     "output_type": "stream",
     "text": [
      "INFO:tensorflow:Assets written to: model_experiments\\module_5_LSTM\\assets\n"
     ]
    },
    {
     "name": "stdout",
     "output_type": "stream",
     "text": [
      "18/18 [==============================] - 3s 193ms/step - loss: 147.0903 - val_loss: 836.4964\n",
      "Epoch 36/100\n",
      "18/18 [==============================] - ETA: 0s - loss: 147.7150INFO:tensorflow:Assets written to: model_experiments\\module_5_LSTM\\assets\n"
     ]
    },
    {
     "name": "stderr",
     "output_type": "stream",
     "text": [
      "INFO:tensorflow:Assets written to: model_experiments\\module_5_LSTM\\assets\n"
     ]
    },
    {
     "name": "stdout",
     "output_type": "stream",
     "text": [
      "18/18 [==============================] - 3s 174ms/step - loss: 147.7150 - val_loss: 827.3631\n",
      "Epoch 37/100\n",
      "18/18 [==============================] - ETA: 0s - loss: 146.6877INFO:tensorflow:Assets written to: model_experiments\\module_5_LSTM\\assets\n"
     ]
    },
    {
     "name": "stderr",
     "output_type": "stream",
     "text": [
      "INFO:tensorflow:Assets written to: model_experiments\\module_5_LSTM\\assets\n"
     ]
    },
    {
     "name": "stdout",
     "output_type": "stream",
     "text": [
      "18/18 [==============================] - 4s 241ms/step - loss: 146.6877 - val_loss: 813.2939\n",
      "Epoch 38/100\n",
      "18/18 [==============================] - ETA: 0s - loss: 143.8351INFO:tensorflow:Assets written to: model_experiments\\module_5_LSTM\\assets\n"
     ]
    },
    {
     "name": "stderr",
     "output_type": "stream",
     "text": [
      "INFO:tensorflow:Assets written to: model_experiments\\module_5_LSTM\\assets\n"
     ]
    },
    {
     "name": "stdout",
     "output_type": "stream",
     "text": [
      "18/18 [==============================] - 4s 230ms/step - loss: 143.8351 - val_loss: 812.3832\n",
      "Epoch 39/100\n",
      "15/18 [========================>.....] - ETA: 0s - loss: 147.4588INFO:tensorflow:Assets written to: model_experiments\\module_5_LSTM\\assets\n"
     ]
    },
    {
     "name": "stderr",
     "output_type": "stream",
     "text": [
      "INFO:tensorflow:Assets written to: model_experiments\\module_5_LSTM\\assets\n"
     ]
    },
    {
     "name": "stdout",
     "output_type": "stream",
     "text": [
      "18/18 [==============================] - 3s 187ms/step - loss: 143.7569 - val_loss: 801.4655\n",
      "Epoch 40/100\n",
      "12/18 [===================>..........] - ETA: 0s - loss: 147.0955INFO:tensorflow:Assets written to: model_experiments\\module_5_LSTM\\assets\n"
     ]
    },
    {
     "name": "stderr",
     "output_type": "stream",
     "text": [
      "INFO:tensorflow:Assets written to: model_experiments\\module_5_LSTM\\assets\n"
     ]
    },
    {
     "name": "stdout",
     "output_type": "stream",
     "text": [
      "18/18 [==============================] - 3s 187ms/step - loss: 143.4538 - val_loss: 794.1718\n",
      "Epoch 41/100\n",
      "14/18 [======================>.......] - ETA: 0s - loss: 145.6936INFO:tensorflow:Assets written to: model_experiments\\module_5_LSTM\\assets\n"
     ]
    },
    {
     "name": "stderr",
     "output_type": "stream",
     "text": [
      "INFO:tensorflow:Assets written to: model_experiments\\module_5_LSTM\\assets\n"
     ]
    },
    {
     "name": "stdout",
     "output_type": "stream",
     "text": [
      "18/18 [==============================] - 79s 5s/step - loss: 141.2867 - val_loss: 790.4148\n",
      "Epoch 42/100\n",
      "18/18 [==============================] - 0s 22ms/step - loss: 140.4203 - val_loss: 790.5926\n",
      "Epoch 43/100\n",
      "18/18 [==============================] - 0s 16ms/step - loss: 139.3365 - val_loss: 804.7236\n",
      "Epoch 44/100\n",
      "15/18 [========================>.....] - ETA: 0s - loss: 138.5149INFO:tensorflow:Assets written to: model_experiments\\module_5_LSTM\\assets\n"
     ]
    },
    {
     "name": "stderr",
     "output_type": "stream",
     "text": [
      "INFO:tensorflow:Assets written to: model_experiments\\module_5_LSTM\\assets\n"
     ]
    },
    {
     "name": "stdout",
     "output_type": "stream",
     "text": [
      "18/18 [==============================] - 5s 299ms/step - loss: 137.3780 - val_loss: 771.0991\n",
      "Epoch 45/100\n",
      "18/18 [==============================] - 0s 16ms/step - loss: 173.2163 - val_loss: 938.5745\n",
      "Epoch 46/100\n",
      "18/18 [==============================] - 0s 24ms/step - loss: 145.0332 - val_loss: 782.6076\n",
      "Epoch 47/100\n",
      "18/18 [==============================] - 0s 19ms/step - loss: 137.0181 - val_loss: 786.8928\n",
      "Epoch 48/100\n",
      "15/18 [========================>.....] - ETA: 0s - loss: 136.6861INFO:tensorflow:Assets written to: model_experiments\\module_5_LSTM\\assets\n"
     ]
    },
    {
     "name": "stderr",
     "output_type": "stream",
     "text": [
      "INFO:tensorflow:Assets written to: model_experiments\\module_5_LSTM\\assets\n"
     ]
    },
    {
     "name": "stdout",
     "output_type": "stream",
     "text": [
      "18/18 [==============================] - 5s 269ms/step - loss: 135.2427 - val_loss: 770.1682\n",
      "Epoch 49/100\n",
      "14/18 [======================>.......] - ETA: 0s - loss: 133.8834INFO:tensorflow:Assets written to: model_experiments\\module_5_LSTM\\assets\n"
     ]
    },
    {
     "name": "stderr",
     "output_type": "stream",
     "text": [
      "INFO:tensorflow:Assets written to: model_experiments\\module_5_LSTM\\assets\n"
     ]
    },
    {
     "name": "stdout",
     "output_type": "stream",
     "text": [
      "18/18 [==============================] - 4s 219ms/step - loss: 134.5158 - val_loss: 739.0397\n",
      "Epoch 50/100\n",
      "14/18 [======================>.......] - ETA: 0s - loss: 130.4150INFO:tensorflow:Assets written to: model_experiments\\module_5_LSTM\\assets\n"
     ]
    },
    {
     "name": "stderr",
     "output_type": "stream",
     "text": [
      "INFO:tensorflow:Assets written to: model_experiments\\module_5_LSTM\\assets\n"
     ]
    },
    {
     "name": "stdout",
     "output_type": "stream",
     "text": [
      "18/18 [==============================] - 4s 264ms/step - loss: 133.9077 - val_loss: 734.3740\n",
      "Epoch 51/100\n",
      "18/18 [==============================] - 0s 16ms/step - loss: 134.5718 - val_loss: 742.6904\n",
      "Epoch 52/100\n",
      "18/18 [==============================] - 0s 15ms/step - loss: 134.4668 - val_loss: 770.0124\n",
      "Epoch 53/100\n",
      "18/18 [==============================] - 0s 17ms/step - loss: 133.2713 - val_loss: 744.1346\n",
      "Epoch 54/100\n",
      "18/18 [==============================] - 0s 18ms/step - loss: 131.9671 - val_loss: 740.9667\n",
      "Epoch 55/100\n",
      "18/18 [==============================] - ETA: 0s - loss: 130.4506INFO:tensorflow:Assets written to: model_experiments\\module_5_LSTM\\assets\n"
     ]
    },
    {
     "name": "stderr",
     "output_type": "stream",
     "text": [
      "INFO:tensorflow:Assets written to: model_experiments\\module_5_LSTM\\assets\n"
     ]
    },
    {
     "name": "stdout",
     "output_type": "stream",
     "text": [
      "18/18 [==============================] - 4s 247ms/step - loss: 130.4506 - val_loss: 717.3589\n",
      "Epoch 56/100\n",
      "18/18 [==============================] - 0s 17ms/step - loss: 129.9026 - val_loss: 719.0805\n",
      "Epoch 57/100\n",
      "16/18 [=========================>....] - ETA: 0s - loss: 130.8607INFO:tensorflow:Assets written to: model_experiments\\module_5_LSTM\\assets\n"
     ]
    },
    {
     "name": "stderr",
     "output_type": "stream",
     "text": [
      "INFO:tensorflow:Assets written to: model_experiments\\module_5_LSTM\\assets\n"
     ]
    },
    {
     "name": "stdout",
     "output_type": "stream",
     "text": [
      "18/18 [==============================] - 4s 227ms/step - loss: 128.9745 - val_loss: 706.0331\n",
      "Epoch 58/100\n",
      "15/18 [========================>.....] - ETA: 0s - loss: 127.7964INFO:tensorflow:Assets written to: model_experiments\\module_5_LSTM\\assets\n"
     ]
    },
    {
     "name": "stderr",
     "output_type": "stream",
     "text": [
      "INFO:tensorflow:Assets written to: model_experiments\\module_5_LSTM\\assets\n"
     ]
    },
    {
     "name": "stdout",
     "output_type": "stream",
     "text": [
      "18/18 [==============================] - 4s 250ms/step - loss: 127.0406 - val_loss: 700.8787\n",
      "Epoch 59/100\n",
      "18/18 [==============================] - 0s 20ms/step - loss: 125.8142 - val_loss: 703.4088\n",
      "Epoch 60/100\n",
      "18/18 [==============================] - 0s 18ms/step - loss: 125.6318 - val_loss: 726.5894\n",
      "Epoch 61/100\n",
      "18/18 [==============================] - 0s 17ms/step - loss: 125.4730 - val_loss: 703.5187\n",
      "Epoch 62/100\n",
      "14/18 [======================>.......] - ETA: 0s - loss: 125.9643INFO:tensorflow:Assets written to: model_experiments\\module_5_LSTM\\assets\n"
     ]
    },
    {
     "name": "stderr",
     "output_type": "stream",
     "text": [
      "INFO:tensorflow:Assets written to: model_experiments\\module_5_LSTM\\assets\n"
     ]
    },
    {
     "name": "stdout",
     "output_type": "stream",
     "text": [
      "18/18 [==============================] - 4s 260ms/step - loss: 126.5367 - val_loss: 690.6154\n",
      "Epoch 63/100\n",
      "18/18 [==============================] - ETA: 0s - loss: 124.5050INFO:tensorflow:Assets written to: model_experiments\\module_5_LSTM\\assets\n"
     ]
    },
    {
     "name": "stderr",
     "output_type": "stream",
     "text": [
      "INFO:tensorflow:Assets written to: model_experiments\\module_5_LSTM\\assets\n"
     ]
    },
    {
     "name": "stdout",
     "output_type": "stream",
     "text": [
      "18/18 [==============================] - 5s 313ms/step - loss: 124.5050 - val_loss: 682.0407\n",
      "Epoch 64/100\n",
      "18/18 [==============================] - 0s 27ms/step - loss: 124.1647 - val_loss: 688.6260\n",
      "Epoch 65/100\n",
      "17/18 [===========================>..] - ETA: 0s - loss: 124.2509INFO:tensorflow:Assets written to: model_experiments\\module_5_LSTM\\assets\n"
     ]
    },
    {
     "name": "stderr",
     "output_type": "stream",
     "text": [
      "INFO:tensorflow:Assets written to: model_experiments\\module_5_LSTM\\assets\n"
     ]
    },
    {
     "name": "stdout",
     "output_type": "stream",
     "text": [
      "18/18 [==============================] - 8s 495ms/step - loss: 122.9665 - val_loss: 679.3591\n",
      "Epoch 66/100\n",
      "18/18 [==============================] - 1s 34ms/step - loss: 122.0117 - val_loss: 689.5703\n",
      "Epoch 67/100\n",
      "16/18 [=========================>....] - ETA: 0s - loss: 118.9014INFO:tensorflow:Assets written to: model_experiments\\module_5_LSTM\\assets\n"
     ]
    },
    {
     "name": "stderr",
     "output_type": "stream",
     "text": [
      "INFO:tensorflow:Assets written to: model_experiments\\module_5_LSTM\\assets\n"
     ]
    },
    {
     "name": "stdout",
     "output_type": "stream",
     "text": [
      "18/18 [==============================] - 8s 488ms/step - loss: 121.9572 - val_loss: 666.1028\n",
      "Epoch 68/100\n",
      "15/18 [========================>.....] - ETA: 0s - loss: 124.1786INFO:tensorflow:Assets written to: model_experiments\\module_5_LSTM\\assets\n"
     ]
    },
    {
     "name": "stderr",
     "output_type": "stream",
     "text": [
      "INFO:tensorflow:Assets written to: model_experiments\\module_5_LSTM\\assets\n"
     ]
    },
    {
     "name": "stdout",
     "output_type": "stream",
     "text": [
      "18/18 [==============================] - 7s 422ms/step - loss: 122.3810 - val_loss: 662.4642\n",
      "Epoch 69/100\n",
      "15/18 [========================>.....] - ETA: 0s - loss: 124.5816INFO:tensorflow:Assets written to: model_experiments\\module_5_LSTM\\assets\n"
     ]
    },
    {
     "name": "stderr",
     "output_type": "stream",
     "text": [
      "INFO:tensorflow:Assets written to: model_experiments\\module_5_LSTM\\assets\n"
     ]
    },
    {
     "name": "stdout",
     "output_type": "stream",
     "text": [
      "18/18 [==============================] - 8s 445ms/step - loss: 124.0838 - val_loss: 659.2880\n",
      "Epoch 70/100\n",
      "16/18 [=========================>....] - ETA: 0s - loss: 120.6966INFO:tensorflow:Assets written to: model_experiments\\module_5_LSTM\\assets\n"
     ]
    },
    {
     "name": "stderr",
     "output_type": "stream",
     "text": [
      "INFO:tensorflow:Assets written to: model_experiments\\module_5_LSTM\\assets\n"
     ]
    },
    {
     "name": "stdout",
     "output_type": "stream",
     "text": [
      "18/18 [==============================] - 6s 370ms/step - loss: 120.6182 - val_loss: 657.5880\n",
      "Epoch 71/100\n",
      "18/18 [==============================] - 0s 19ms/step - loss: 121.6735 - val_loss: 680.9778\n",
      "Epoch 72/100\n",
      "15/18 [========================>.....] - ETA: 0s - loss: 123.5407INFO:tensorflow:Assets written to: model_experiments\\module_5_LSTM\\assets\n"
     ]
    },
    {
     "name": "stderr",
     "output_type": "stream",
     "text": [
      "INFO:tensorflow:Assets written to: model_experiments\\module_5_LSTM\\assets\n"
     ]
    },
    {
     "name": "stdout",
     "output_type": "stream",
     "text": [
      "18/18 [==============================] - 6s 343ms/step - loss: 124.0803 - val_loss: 651.1550\n",
      "Epoch 73/100\n",
      "18/18 [==============================] - 0s 15ms/step - loss: 119.4963 - val_loss: 652.6022\n",
      "Epoch 74/100\n",
      "18/18 [==============================] - 0s 15ms/step - loss: 119.3782 - val_loss: 682.6057\n",
      "Epoch 75/100\n",
      "18/18 [==============================] - 0s 13ms/step - loss: 120.2693 - val_loss: 655.6744\n",
      "Epoch 76/100\n",
      "18/18 [==============================] - 0s 14ms/step - loss: 118.2772 - val_loss: 653.3406\n",
      "Epoch 77/100\n",
      "18/18 [==============================] - 0s 15ms/step - loss: 120.2144 - val_loss: 668.4306\n",
      "Epoch 78/100\n",
      "17/18 [===========================>..] - ETA: 0s - loss: 122.4704INFO:tensorflow:Assets written to: model_experiments\\module_5_LSTM\\assets\n"
     ]
    },
    {
     "name": "stderr",
     "output_type": "stream",
     "text": [
      "INFO:tensorflow:Assets written to: model_experiments\\module_5_LSTM\\assets\n"
     ]
    },
    {
     "name": "stdout",
     "output_type": "stream",
     "text": [
      "18/18 [==============================] - 5s 300ms/step - loss: 121.4405 - val_loss: 642.1260\n",
      "Epoch 79/100\n",
      "15/18 [========================>.....] - ETA: 0s - loss: 118.2214INFO:tensorflow:Assets written to: model_experiments\\module_5_LSTM\\assets\n"
     ]
    },
    {
     "name": "stderr",
     "output_type": "stream",
     "text": [
      "INFO:tensorflow:Assets written to: model_experiments\\module_5_LSTM\\assets\n"
     ]
    },
    {
     "name": "stdout",
     "output_type": "stream",
     "text": [
      "18/18 [==============================] - 5s 290ms/step - loss: 118.7598 - val_loss: 634.5912\n",
      "Epoch 80/100\n",
      "18/18 [==============================] - 0s 17ms/step - loss: 116.4631 - val_loss: 643.0541\n",
      "Epoch 81/100\n",
      "18/18 [==============================] - 0s 19ms/step - loss: 116.5643 - val_loss: 656.5369\n",
      "Epoch 82/100\n",
      "18/18 [==============================] - 0s 26ms/step - loss: 119.9044 - val_loss: 637.5863\n",
      "Epoch 83/100\n",
      "18/18 [==============================] - 0s 16ms/step - loss: 116.5398 - val_loss: 644.3373\n",
      "Epoch 84/100\n",
      "18/18 [==============================] - 0s 13ms/step - loss: 120.9094 - val_loss: 644.7018\n",
      "Epoch 85/100\n",
      "13/18 [====================>.........] - ETA: 0s - loss: 114.4599INFO:tensorflow:Assets written to: model_experiments\\module_5_LSTM\\assets\n"
     ]
    },
    {
     "name": "stderr",
     "output_type": "stream",
     "text": [
      "INFO:tensorflow:Assets written to: model_experiments\\module_5_LSTM\\assets\n"
     ]
    },
    {
     "name": "stdout",
     "output_type": "stream",
     "text": [
      "18/18 [==============================] - 5s 290ms/step - loss: 116.7946 - val_loss: 625.7485\n",
      "Epoch 86/100\n",
      "18/18 [==============================] - 0s 18ms/step - loss: 115.7968 - val_loss: 635.3566\n",
      "Epoch 87/100\n",
      "15/18 [========================>.....] - ETA: 0s - loss: 115.6873INFO:tensorflow:Assets written to: model_experiments\\module_5_LSTM\\assets\n"
     ]
    },
    {
     "name": "stderr",
     "output_type": "stream",
     "text": [
      "INFO:tensorflow:Assets written to: model_experiments\\module_5_LSTM\\assets\n"
     ]
    },
    {
     "name": "stdout",
     "output_type": "stream",
     "text": [
      "18/18 [==============================] - 6s 359ms/step - loss: 115.6365 - val_loss: 620.0374\n",
      "Epoch 88/100\n",
      "18/18 [==============================] - 0s 17ms/step - loss: 115.1057 - val_loss: 625.0317\n",
      "Epoch 89/100\n",
      "18/18 [==============================] - 0s 15ms/step - loss: 114.4215 - val_loss: 637.8069\n",
      "Epoch 90/100\n",
      "18/18 [==============================] - 0s 14ms/step - loss: 118.7241 - val_loss: 624.7940\n",
      "Epoch 91/100\n",
      "18/18 [==============================] - 0s 17ms/step - loss: 116.0369 - val_loss: 653.0338\n",
      "Epoch 92/100\n",
      "18/18 [==============================] - 0s 17ms/step - loss: 116.7348 - val_loss: 647.3423\n",
      "Epoch 93/100\n",
      "15/18 [========================>.....] - ETA: 0s - loss: 117.9126INFO:tensorflow:Assets written to: model_experiments\\module_5_LSTM\\assets\n"
     ]
    },
    {
     "name": "stderr",
     "output_type": "stream",
     "text": [
      "INFO:tensorflow:Assets written to: model_experiments\\module_5_LSTM\\assets\n"
     ]
    },
    {
     "name": "stdout",
     "output_type": "stream",
     "text": [
      "18/18 [==============================] - 4s 252ms/step - loss: 115.0787 - val_loss: 615.7193\n",
      "Epoch 94/100\n",
      "18/18 [==============================] - ETA: 0s - loss: 114.1252INFO:tensorflow:Assets written to: model_experiments\\module_5_LSTM\\assets\n"
     ]
    },
    {
     "name": "stderr",
     "output_type": "stream",
     "text": [
      "INFO:tensorflow:Assets written to: model_experiments\\module_5_LSTM\\assets\n"
     ]
    },
    {
     "name": "stdout",
     "output_type": "stream",
     "text": [
      "18/18 [==============================] - 4s 254ms/step - loss: 114.1252 - val_loss: 613.7517\n",
      "Epoch 95/100\n",
      "18/18 [==============================] - 0s 20ms/step - loss: 113.8707 - val_loss: 619.1240\n",
      "Epoch 96/100\n",
      "18/18 [==============================] - 0s 16ms/step - loss: 115.4062 - val_loss: 614.3328\n",
      "Epoch 97/100\n",
      "15/18 [========================>.....] - ETA: 0s - loss: 117.0016INFO:tensorflow:Assets written to: model_experiments\\module_5_LSTM\\assets\n"
     ]
    },
    {
     "name": "stderr",
     "output_type": "stream",
     "text": [
      "INFO:tensorflow:Assets written to: model_experiments\\module_5_LSTM\\assets\n"
     ]
    },
    {
     "name": "stdout",
     "output_type": "stream",
     "text": [
      "18/18 [==============================] - 6s 366ms/step - loss: 119.2650 - val_loss: 607.9714\n",
      "Epoch 98/100\n",
      "18/18 [==============================] - 0s 18ms/step - loss: 115.6163 - val_loss: 608.1965\n",
      "Epoch 99/100\n",
      "17/18 [===========================>..] - ETA: 0s - loss: 114.7768INFO:tensorflow:Assets written to: model_experiments\\module_5_LSTM\\assets\n"
     ]
    },
    {
     "name": "stderr",
     "output_type": "stream",
     "text": [
      "INFO:tensorflow:Assets written to: model_experiments\\module_5_LSTM\\assets\n"
     ]
    },
    {
     "name": "stdout",
     "output_type": "stream",
     "text": [
      "18/18 [==============================] - 6s 366ms/step - loss: 114.1798 - val_loss: 606.1953\n",
      "Epoch 100/100\n",
      "15/18 [========================>.....] - ETA: 0s - loss: 120.3076INFO:tensorflow:Assets written to: model_experiments\\module_5_LSTM\\assets\n"
     ]
    },
    {
     "name": "stderr",
     "output_type": "stream",
     "text": [
      "INFO:tensorflow:Assets written to: model_experiments\\module_5_LSTM\\assets\n"
     ]
    },
    {
     "name": "stdout",
     "output_type": "stream",
     "text": [
      "18/18 [==============================] - 5s 310ms/step - loss: 116.0916 - val_loss: 605.8861\n"
     ]
    }
   ],
   "source": [
    "# Building LSTM model with the Functional API\n",
    "inputs = layers.Input(shape=(WINDOW_SIZE))\n",
    "x = layers.Lambda(lambda x: tf.expand_dims(x, axis=1))(inputs)\n",
    "# x = layers.LSTM(128, return_sequences=True)(x)\n",
    "x = layers.LSTM(128, activation=\"relu\")(x)\n",
    "# x = layers.Dense(32, activation=\"relu\")(x)\n",
    "outputs = layers.Dense(HORIZON)(x)\n",
    "model_5 = tf.keras.Model(inputs=inputs, outputs=outputs, name=\"module_5_LSTM\")\n",
    "\n",
    "# Compiling the model\n",
    "model_5.compile(\n",
    "    loss=\"mae\",\n",
    "    optimizer=tf.keras.optimizers.Adam()\n",
    ")\n",
    "\n",
    "# Fitting the model\n",
    "history_5 = model_5.fit(\n",
    "    train_windows,\n",
    "    train_labels,\n",
    "    epochs=100,\n",
    "    verbose=1,\n",
    "    batch_size=128,\n",
    "    validation_data=(test_windows, test_labels),\n",
    "    callbacks=[create_model_checkpoint(model_name=model_5.name)]\n",
    ")"
   ]
  },
  {
   "cell_type": "code",
   "execution_count": 80,
   "metadata": {},
   "outputs": [
    {
     "name": "stdout",
     "output_type": "stream",
     "text": [
      "18/18 [==============================] - 1s 7ms/step - loss: 605.8861\n"
     ]
    },
    {
     "data": {
      "text/plain": [
       "605.8861083984375"
      ]
     },
     "execution_count": 80,
     "metadata": {},
     "output_type": "execute_result"
    }
   ],
   "source": [
    "# Loading the best version\n",
    "model_5 = tf.keras.models.load_model(\"model_experiments/module_5_LSTM/\")\n",
    "model_5.evaluate(test_windows, test_labels)"
   ]
  },
  {
   "cell_type": "code",
   "execution_count": 81,
   "metadata": {},
   "outputs": [
    {
     "name": "stdout",
     "output_type": "stream",
     "text": [
      "18/18 [==============================] - 1s 6ms/step\n"
     ]
    },
    {
     "data": {
      "text/plain": [
       "<tf.Tensor: shape=(556,), dtype=float32, numpy=\n",
       "array([ 9012.958 ,  8868.976 ,  8980.127 ,  8836.373 ,  8807.662 ,\n",
       "        8773.552 ,  8729.52  ,  8600.773 ,  8518.325 ,  8540.4   ,\n",
       "        8347.392 ,  8207.807 ,  8111.963 ,  7799.711 ,  7438.116 ,\n",
       "        7297.047 ,  7107.1084,  7154.154 ,  7139.6553,  7408.3604,\n",
       "        7443.708 ,  7676.1934,  7645.806 ,  7528.415 ,  7417.0967,\n",
       "        7352.188 ,  7275.5537,  7354.677 ,  7477.476 ,  7558.704 ,\n",
       "        7596.391 ,  7467.4517,  7343.202 ,  7247.423 ,  7211.9385,\n",
       "        7236.764 ,  7160.37  ,  7148.3027,  6992.997 ,  6739.9062,\n",
       "        7147.6387,  7183.247 ,  7228.661 ,  7285.617 ,  7298.533 ,\n",
       "        7256.1895,  7249.2227,  7252.39  ,  7235.3076,  7247.9155,\n",
       "        7312.073 ,  7391.758 ,  7340.3623,  7266.503 ,  7220.3267,\n",
       "        7065.422 ,  7208.416 ,  7307.964 ,  7384.516 ,  7631.17  ,\n",
       "        7947.9644,  8116.857 ,  7996.918 ,  8090.665 ,  8116.622 ,\n",
       "        8179.945 ,  8171.5674,  8562.791 ,  8814.811 ,  8845.406 ,\n",
       "        8954.721 ,  8996.519 ,  8827.544 ,  8726.552 ,  8717.395 ,\n",
       "        8689.771 ,  8514.936 ,  8476.967 ,  8403.6   ,  8517.808 ,\n",
       "        8772.616 ,  9065.148 ,  9315.567 ,  9547.    ,  9536.791 ,\n",
       "        9487.762 ,  9450.756 ,  9364.456 ,  9266.119 ,  9500.247 ,\n",
       "        9662.258 ,  9819.786 ,  9948.548 , 10133.088 , 10020.643 ,\n",
       "       10195.143 , 10345.131 , 10340.247 , 10404.4   , 10142.105 ,\n",
       "        9998.886 ,  9752.989 , 10020.098 ,  9851.375 ,  9748.738 ,\n",
       "        9699.225 ,  9711.1455,  9871.592 ,  9761.049 ,  9572.416 ,\n",
       "        9075.533 ,  8849.951 ,  8754.479 ,  8668.228 ,  8593.419 ,\n",
       "        8803.951 ,  8840.631 ,  8837.558 ,  9014.945 ,  9137.748 ,\n",
       "        9069.493 ,  8527.419 ,  8085.7344,  7931.913 ,  7904.2363,\n",
       "        6571.3525,  5870.923 ,  5311.476 ,  5225.8237,  4960.744 ,\n",
       "        5225.834 ,  5339.1875,  5989.956 ,  6200.847 ,  6305.258 ,\n",
       "        6099.5103,  6338.5693,  6656.95  ,  6763.2065,  6805.703 ,\n",
       "        6770.965 ,  6467.2153,  6105.8135,  6291.0146,  6394.518 ,\n",
       "        6532.332 ,  6767.593 ,  6841.547 ,  6913.8516,  6874.685 ,\n",
       "        7163.842 ,  7224.6846,  7374.748 ,  7389.1465,  7107.24  ,\n",
       "        6960.4644,  6985.5195,  6941.365 ,  6920.962 ,  6802.5244,\n",
       "        7046.721 ,  7090.7515,  7258.557 ,  7256.92  ,  7049.4854,\n",
       "        6964.041 ,  7048.5625,  7400.759 ,  7525.708 ,  7609.6455,\n",
       "        7671.282 ,  7784.639 ,  7816.784 ,  8458.727 ,  8756.808 ,\n",
       "        8953.524 ,  9039.74  ,  9026.988 ,  8992.0625,  8999.864 ,\n",
       "        9269.417 ,  9730.66  ,  9956.296 ,  9850.65  ,  9229.573 ,\n",
       "        8801.689 ,  8730.439 ,  9080.021 ,  9555.318 ,  9542.62  ,\n",
       "        9550.402 ,  9668.547 ,  9756.271 ,  9784.004 ,  9669.012 ,\n",
       "        9369.943 ,  9247.247 ,  9211.262 ,  9121.427 ,  8994.479 ,\n",
       "        8896.15  ,  9041.063 ,  9363.822 ,  9477.176 ,  9686.652 ,\n",
       "        9590.184 , 10071.133 ,  9793.015 ,  9771.243 ,  9795.757 ,\n",
       "        9750.27  ,  9738.776 ,  9745.694 ,  9820.666 ,  9836.434 ,\n",
       "        9897.026 ,  9538.902 ,  9492.859 ,  9456.149 ,  9415.205 ,\n",
       "        9446.957 ,  9509.326 ,  9526.264 ,  9478.16  ,  9378.541 ,\n",
       "        9380.818 ,  9341.251 ,  9580.268 ,  9648.645 ,  9500.471 ,\n",
       "        9365.879 ,  9245.59  ,  9113.098 ,  9099.871 ,  9166.443 ,\n",
       "        9192.22  ,  9254.707 ,  9192.517 ,  9163.555 ,  9156.955 ,\n",
       "        9118.682 ,  9244.959 ,  9280.381 ,  9451.006 ,  9365.746 ,\n",
       "        9329.926 ,  9286.101 ,  9308.933 ,  9293.791 ,  9299.033 ,\n",
       "        9275.128 ,  9213.894 ,  9200.041 ,  9205.78  ,  9225.279 ,\n",
       "        9222.256 ,  9362.333 ,  9513.997 ,  9640.977 ,  9655.614 ,\n",
       "        9738.241 ,  9911.43  , 10777.578 , 11024.672 , 11348.1875,\n",
       "       11302.988 , 11434.595 , 11702.032 , 11419.998 , 11369.749 ,\n",
       "       11279.52  , 11550.403 , 11756.449 , 11762.71  , 11821.219 ,\n",
       "       11773.541 , 11857.236 , 11568.91  , 11573.637 , 11695.307 ,\n",
       "       11803.208 , 11920.066 , 11961.342 , 12303.736 , 12235.935 ,\n",
       "       11999.297 , 11902.459 , 11710.203 , 11699.462 , 11680.348 ,\n",
       "       11757.901 , 11562.422 , 11516.    , 11393.426 , 11468.309 ,\n",
       "       11524.388 , 11655.242 , 11729.072 , 11934.775 , 11685.67  ,\n",
       "       11106.303 , 10712.512 , 10223.844 , 10151.959 , 10248.972 ,\n",
       "       10149.982 , 10252.041 , 10329.316 , 10421.026 , 10474.56  ,\n",
       "       10417.385 , 10625.357 , 10801.682 , 11025.604 , 11047.045 ,\n",
       "       11040.868 , 11091.107 , 10982.495 , 10726.285 , 10597.267 ,\n",
       "       10380.988 , 10562.11  , 10687.555 , 10787.967 , 10821.549 ,\n",
       "       10895.621 , 10866.943 , 10823.853 , 10727.254 , 10649.572 ,\n",
       "       10605.719 , 10658.979 , 10755.244 , 10698.848 , 10703.561 ,\n",
       "       10855.031 , 11033.512 , 11308.984 , 11406.965 , 11654.159 ,\n",
       "       11598.891 , 11533.675 , 11542.559 , 11459.    , 11429.543 ,\n",
       "       11473.816 , 11708.071 , 11919.074 , 12748.172 , 13149.092 ,\n",
       "       13194.734 , 13215.872 , 13150.065 , 13133.433 , 13527.089 ,\n",
       "       13461.717 , 13553.434 , 13606.059 , 13857.098 , 13857.039 ,\n",
       "       13778.302 , 13859.414 , 14100.305 , 15016.997 , 15512.657 ,\n",
       "       15260.597 , 15493.271 , 15424.484 , 15481.903 , 15724.748 ,\n",
       "       16147.477 , 16415.582 , 16262.178 , 16119.738 , 16550.62  ,\n",
       "       17295.713 , 17813.867 , 18091.664 , 18577.19  , 18748.664 ,\n",
       "       18812.287 , 18682.023 , 18981.41  , 18923.559 , 17912.752 ,\n",
       "       17297.7   , 17509.895 , 17912.668 , 18933.797 , 19153.303 ,\n",
       "       19391.959 , 19550.445 , 19199.754 , 19158.78  , 19137.941 ,\n",
       "       19194.475 , 18931.555 , 18716.217 , 18510.998 , 18286.38  ,\n",
       "       18667.65  , 18983.732 , 19289.201 , 19505.602 , 20768.791 ,\n",
       "       22346.613 , 23138.605 , 23947.229 , 23961.45  , 23682.852 ,\n",
       "       23581.348 , 23402.814 , 23612.46  , 24289.432 , 25789.06  ,\n",
       "       26486.484 , 26950.945 , 27192.441 , 28385.102 , 29104.637 ,\n",
       "       29546.703 , 31429.154 , 32798.49  , 32424.371 , 33895.09  ,\n",
       "       35662.855 , 38748.297 , 40469.9   , 41011.504 , 40022.402 ,\n",
       "       36601.742 , 34801.867 , 35747.176 , 37468.918 , 37363.95  ,\n",
       "       36752.773 , 36609.395 , 36512.016 , 36604.32  , 35678.81  ,\n",
       "       32531.723 , 32735.691 , 32082.785 , 32267.555 , 32371.574 ,\n",
       "       32467.48  , 31423.484 , 32605.043 , 34144.973 , 34857.223 ,\n",
       "       34056.023 , 33890.254 , 35066.9   , 36742.51  , 37464.56  ,\n",
       "       38089.535 , 39797.855 , 39368.324 , 43018.324 , 45791.996 ,\n",
       "       46354.617 , 47584.05  , 48145.684 , 47930.81  , 48841.285 ,\n",
       "       48637.918 , 49090.516 , 51177.406 , 51981.074 , 54857.484 ,\n",
       "       55347.02  , 57095.066 , 55698.94  , 51198.04  , 49249.734 ,\n",
       "       48097.72  , 46480.895 , 46299.38  , 45441.113 , 47932.105 ,\n",
       "       48133.176 , 50242.46  , 49390.902 , 49555.387 , 49248.434 ,\n",
       "       50228.516 , 51297.51  , 53635.723 , 56277.156 , 57855.547 ,\n",
       "       58177.535 , 60221.98  , 60722.254 , 58440.285 , 57301.164 ,\n",
       "       57969.293 , 58179.27  , 58545.44  , 58787.84  , 58489.836 ,\n",
       "       56036.113 , 55108.81  , 53476.473 , 52554.85  , 53600.402 ,\n",
       "       55411.5   , 55859.402 , 57328.73  , 58622.55  , 59228.176 ,\n",
       "       59445.863 , 59341.035 , 58467.098 , 58364.297 , 58748.71  ,\n",
       "       58539.24  , 57445.28  , 57754.754 , 58143.49  , 59122.37  ,\n",
       "       59854.965 , 60238.06  , 62466.137 , 63224.17  , 63855.176 ,\n",
       "       63009.24  , 61704.113 , 58656.816 , 56823.54  , 56351.816 ,\n",
       "       54866.523 , 52948.246 , 51251.52  , 50717.754 , 49219.62  ,\n",
       "       51817.85  , 54144.137 , 55128.47  , 54429.684 , 56463.58  ,\n",
       "       57653.23  , 57381.684 , 57557.883 , 55332.395 , 56590.176 ,\n",
       "       56590.06  , 57260.51  , 58456.254 , 58602.355 , 57188.246 ,\n",
       "       56792.418 , 53887.445 , 51138.56  , 49932.133 , 48376.1   ,\n",
       "       46469.23  ], dtype=float32)>"
      ]
     },
     "execution_count": 81,
     "metadata": {},
     "output_type": "execute_result"
    }
   ],
   "source": [
    "# Making predictions\n",
    "model_5_preds = make_preds(model_5, test_windows)\n",
    "model_5_preds"
   ]
  },
  {
   "cell_type": "code",
   "execution_count": 82,
   "metadata": {},
   "outputs": [
    {
     "data": {
      "text/plain": [
       "{'mae': 605.886,\n",
       " 'mse': 1304356.6,\n",
       " 'rmse': 1142.0844,\n",
       " 'mape': 2.7342267,\n",
       " 'mase': 1.0643739}"
      ]
     },
     "execution_count": 82,
     "metadata": {},
     "output_type": "execute_result"
    }
   ],
   "source": [
    "# Evaluating predictions\n",
    "model_5_results = evaluate_preds(\n",
    "    y_true=tf.squeeze(test_labels),\n",
    "    y_pred=model_5_preds\n",
    ")\n",
    "model_5_results"
   ]
  },
  {
   "cell_type": "code",
   "execution_count": 83,
   "metadata": {},
   "outputs": [],
   "source": [
    "# Adding Blockchain halving events\n",
    "block_reward_1 = 50 # 3 January 2009\n",
    "block_reward_2 = 25 # 8 November 2012\n",
    "block_reward_3 = 12.5 # 9 July 2016\n",
    "block_reward_4 = 6.25 # 18 May 2020\n",
    "\n",
    "# Adding block reward dates\n",
    "block_reward_2_datetime = np.datetime64(\"2012-11-08\")\n",
    "block_reward_3_datetime = np.datetime64(\"2016-07-09\")\n",
    "block_reward_4_datetime = np.datetime64(\"2020-05-18\")\n"
   ]
  },
  {
   "cell_type": "code",
   "execution_count": 86,
   "metadata": {},
   "outputs": [
    {
     "data": {
      "text/plain": [
       "(1012, 2421)"
      ]
     },
     "execution_count": 86,
     "metadata": {},
     "output_type": "execute_result"
    }
   ],
   "source": [
    "# Creating date ranges\n",
    "block_reward_2_days = (block_reward_3_datetime - bitcoin_prices.index[0]).days\n",
    "block_reward_3_days = (block_reward_4_datetime - bitcoin_prices.index[0]).days\n",
    "\n",
    "block_reward_2_days, block_reward_3_days"
   ]
  },
  {
   "cell_type": "code",
   "execution_count": 95,
   "metadata": {},
   "outputs": [],
   "source": [
    "# Adding in block_reward column\n",
    "bitcoin_prices_block = bitcoin_prices.copy()\n",
    "bitcoin_prices_block[\"block_reward\"] = None\n",
    "\n",
    "# Adding in block_reward values\n",
    "bitcoin_prices_block.iloc[:block_reward_2_days, -1] = block_reward_2\n",
    "bitcoin_prices_block.iloc[block_reward_2_days:block_reward_3_days, -1] = block_reward_3\n",
    "bitcoin_prices_block.iloc[block_reward_3_days:, -1] = block_reward_4"
   ]
  },
  {
   "cell_type": "code",
   "execution_count": 96,
   "metadata": {},
   "outputs": [
    {
     "data": {
      "text/html": [
       "<div>\n",
       "<style scoped>\n",
       "    .dataframe tbody tr th:only-of-type {\n",
       "        vertical-align: middle;\n",
       "    }\n",
       "\n",
       "    .dataframe tbody tr th {\n",
       "        vertical-align: top;\n",
       "    }\n",
       "\n",
       "    .dataframe thead th {\n",
       "        text-align: right;\n",
       "    }\n",
       "</style>\n",
       "<table border=\"1\" class=\"dataframe\">\n",
       "  <thead>\n",
       "    <tr style=\"text-align: right;\">\n",
       "      <th></th>\n",
       "      <th>Price</th>\n",
       "      <th>block_reward</th>\n",
       "    </tr>\n",
       "    <tr>\n",
       "      <th>Date</th>\n",
       "      <th></th>\n",
       "      <th></th>\n",
       "    </tr>\n",
       "  </thead>\n",
       "  <tbody>\n",
       "    <tr>\n",
       "      <th>2013-10-01</th>\n",
       "      <td>123.65499</td>\n",
       "      <td>25</td>\n",
       "    </tr>\n",
       "    <tr>\n",
       "      <th>2013-10-02</th>\n",
       "      <td>125.45500</td>\n",
       "      <td>25</td>\n",
       "    </tr>\n",
       "    <tr>\n",
       "      <th>2013-10-03</th>\n",
       "      <td>108.58483</td>\n",
       "      <td>25</td>\n",
       "    </tr>\n",
       "    <tr>\n",
       "      <th>2013-10-04</th>\n",
       "      <td>118.67466</td>\n",
       "      <td>25</td>\n",
       "    </tr>\n",
       "    <tr>\n",
       "      <th>2013-10-05</th>\n",
       "      <td>121.33866</td>\n",
       "      <td>25</td>\n",
       "    </tr>\n",
       "  </tbody>\n",
       "</table>\n",
       "</div>"
      ],
      "text/plain": [
       "                Price block_reward\n",
       "Date                              \n",
       "2013-10-01  123.65499           25\n",
       "2013-10-02  125.45500           25\n",
       "2013-10-03  108.58483           25\n",
       "2013-10-04  118.67466           25\n",
       "2013-10-05  121.33866           25"
      ]
     },
     "execution_count": 96,
     "metadata": {},
     "output_type": "execute_result"
    }
   ],
   "source": [
    "# Check top 5 values\n",
    "bitcoin_prices_block.head()"
   ]
  },
  {
   "cell_type": "code",
   "execution_count": 98,
   "metadata": {},
   "outputs": [
    {
     "data": {
      "text/html": [
       "<div>\n",
       "<style scoped>\n",
       "    .dataframe tbody tr th:only-of-type {\n",
       "        vertical-align: middle;\n",
       "    }\n",
       "\n",
       "    .dataframe tbody tr th {\n",
       "        vertical-align: top;\n",
       "    }\n",
       "\n",
       "    .dataframe thead th {\n",
       "        text-align: right;\n",
       "    }\n",
       "</style>\n",
       "<table border=\"1\" class=\"dataframe\">\n",
       "  <thead>\n",
       "    <tr style=\"text-align: right;\">\n",
       "      <th></th>\n",
       "      <th>Price</th>\n",
       "      <th>block_reward</th>\n",
       "    </tr>\n",
       "    <tr>\n",
       "      <th>Date</th>\n",
       "      <th></th>\n",
       "      <th></th>\n",
       "    </tr>\n",
       "  </thead>\n",
       "  <tbody>\n",
       "    <tr>\n",
       "      <th>2017-11-09</th>\n",
       "      <td>7342.82375</td>\n",
       "      <td>12.5</td>\n",
       "    </tr>\n",
       "    <tr>\n",
       "      <th>2017-11-10</th>\n",
       "      <td>7250.77000</td>\n",
       "      <td>12.5</td>\n",
       "    </tr>\n",
       "    <tr>\n",
       "      <th>2017-11-11</th>\n",
       "      <td>6773.69500</td>\n",
       "      <td>12.5</td>\n",
       "    </tr>\n",
       "    <tr>\n",
       "      <th>2017-11-12</th>\n",
       "      <td>6075.30125</td>\n",
       "      <td>12.5</td>\n",
       "    </tr>\n",
       "    <tr>\n",
       "      <th>2017-11-13</th>\n",
       "      <td>5969.13000</td>\n",
       "      <td>12.5</td>\n",
       "    </tr>\n",
       "  </tbody>\n",
       "</table>\n",
       "</div>"
      ],
      "text/plain": [
       "                 Price block_reward\n",
       "Date                               \n",
       "2017-11-09  7342.82375         12.5\n",
       "2017-11-10  7250.77000         12.5\n",
       "2017-11-11  6773.69500         12.5\n",
       "2017-11-12  6075.30125         12.5\n",
       "2017-11-13  5969.13000         12.5"
      ]
     },
     "execution_count": 98,
     "metadata": {},
     "output_type": "execute_result"
    }
   ],
   "source": [
    "# Checking 5 mid values\n",
    "bitcoin_prices_block[1500:1505]"
   ]
  },
  {
   "cell_type": "code",
   "execution_count": 97,
   "metadata": {},
   "outputs": [
    {
     "data": {
      "text/html": [
       "<div>\n",
       "<style scoped>\n",
       "    .dataframe tbody tr th:only-of-type {\n",
       "        vertical-align: middle;\n",
       "    }\n",
       "\n",
       "    .dataframe tbody tr th {\n",
       "        vertical-align: top;\n",
       "    }\n",
       "\n",
       "    .dataframe thead th {\n",
       "        text-align: right;\n",
       "    }\n",
       "</style>\n",
       "<table border=\"1\" class=\"dataframe\">\n",
       "  <thead>\n",
       "    <tr style=\"text-align: right;\">\n",
       "      <th></th>\n",
       "      <th>Price</th>\n",
       "      <th>block_reward</th>\n",
       "    </tr>\n",
       "    <tr>\n",
       "      <th>Date</th>\n",
       "      <th></th>\n",
       "      <th></th>\n",
       "    </tr>\n",
       "  </thead>\n",
       "  <tbody>\n",
       "    <tr>\n",
       "      <th>2021-05-14</th>\n",
       "      <td>49764.132082</td>\n",
       "      <td>6.25</td>\n",
       "    </tr>\n",
       "    <tr>\n",
       "      <th>2021-05-15</th>\n",
       "      <td>50032.693137</td>\n",
       "      <td>6.25</td>\n",
       "    </tr>\n",
       "    <tr>\n",
       "      <th>2021-05-16</th>\n",
       "      <td>47885.625255</td>\n",
       "      <td>6.25</td>\n",
       "    </tr>\n",
       "    <tr>\n",
       "      <th>2021-05-17</th>\n",
       "      <td>45604.615754</td>\n",
       "      <td>6.25</td>\n",
       "    </tr>\n",
       "    <tr>\n",
       "      <th>2021-05-18</th>\n",
       "      <td>43144.471291</td>\n",
       "      <td>6.25</td>\n",
       "    </tr>\n",
       "  </tbody>\n",
       "</table>\n",
       "</div>"
      ],
      "text/plain": [
       "                   Price block_reward\n",
       "Date                                 \n",
       "2021-05-14  49764.132082         6.25\n",
       "2021-05-15  50032.693137         6.25\n",
       "2021-05-16  47885.625255         6.25\n",
       "2021-05-17  45604.615754         6.25\n",
       "2021-05-18  43144.471291         6.25"
      ]
     },
     "execution_count": 97,
     "metadata": {},
     "output_type": "execute_result"
    }
   ],
   "source": [
    "# Checking last 5 values\n",
    "bitcoin_prices_block.tail()"
   ]
  },
  {
   "cell_type": "code",
   "execution_count": 100,
   "metadata": {},
   "outputs": [
    {
     "data": {
      "text/plain": [
       "<AxesSubplot:xlabel='Date'>"
      ]
     },
     "execution_count": 100,
     "metadata": {},
     "output_type": "execute_result"
    },
    {
     "data": {
      "image/png": "[encoded data removed]",
      "text/plain": [
       "<Figure size 720x504 with 1 Axes>"
      ]
     },
     "metadata": {
      "needs_background": "light"
     },
     "output_type": "display_data"
    }
   ],
   "source": [
    "# Plotting block reward vs price over time\n",
    "from sklearn.preprocessing import minmax_scale\n",
    "\n",
    "scaled_price_block_df = pd.DataFrame(\n",
    "    minmax_scale(bitcoin_prices_block[[\"Price\", \"block_reward\"]]),\n",
    "    columns=bitcoin_prices_block.columns,\n",
    "    index=bitcoin_prices_block.index\n",
    ")\n",
    "scaled_price_block_df.plot(figsize=(10, 7))"
   ]
  },
  {
   "cell_type": "code",
   "execution_count": null,
   "metadata": {},
   "outputs": [],
   "source": []
  }
 ],
 "metadata": {
  "kernelspec": {
   "display_name": "Python 3",
   "language": "python",
   "name": "python3"
  },
  "language_info": {
   "codemirror_mode": {
    "name": "ipython",
    "version": 3
   },
   "file_extension": ".py",
   "mimetype": "text/x-python",
   "name": "python",
   "nbconvert_exporter": "python",
   "pygments_lexer": "ipython3",
   "version": "3.8.10"
  },
  "orig_nbformat": 4,
  "vscode": {
   "interpreter": {
    "hash": "8230a386d8e0083990873cddb8ebb5b6213275a10339230a8504f0ef8ce7f888"
   }
  }
 },
 "nbformat": 4,
 "nbformat_minor": 2
}
