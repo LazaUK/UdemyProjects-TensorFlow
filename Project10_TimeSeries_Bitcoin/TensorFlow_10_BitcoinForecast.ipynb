{
 "cells": [
  {
   "attachments": {},
   "cell_type": "markdown",
   "metadata": {},
   "source": [
    "# Time Series: Forecasting Bitcoin price"
   ]
  },
  {
   "cell_type": "code",
   "execution_count": 1,
   "metadata": {},
   "outputs": [
    {
     "name": "stdout",
     "output_type": "stream",
     "text": [
      "2.10.1\n"
     ]
    }
   ],
   "source": [
    "# Importing TF and checking the version\n",
    "import tensorflow as tf\n",
    "\n",
    "print(tf.__version__)"
   ]
  },
  {
   "attachments": {},
   "cell_type": "markdown",
   "metadata": {},
   "source": [
    "### Importing time series with Pandas"
   ]
  },
  {
   "cell_type": "code",
   "execution_count": 2,
   "metadata": {},
   "outputs": [
    {
     "data": {
      "text/html": [
       "<div>\n",
       "<style scoped>\n",
       "    .dataframe tbody tr th:only-of-type {\n",
       "        vertical-align: middle;\n",
       "    }\n",
       "\n",
       "    .dataframe tbody tr th {\n",
       "        vertical-align: top;\n",
       "    }\n",
       "\n",
       "    .dataframe thead th {\n",
       "        text-align: right;\n",
       "    }\n",
       "</style>\n",
       "<table border=\"1\" class=\"dataframe\">\n",
       "  <thead>\n",
       "    <tr style=\"text-align: right;\">\n",
       "      <th></th>\n",
       "      <th>Currency</th>\n",
       "      <th>Closing Price (USD)</th>\n",
       "      <th>24h Open (USD)</th>\n",
       "      <th>24h High (USD)</th>\n",
       "      <th>24h Low (USD)</th>\n",
       "    </tr>\n",
       "    <tr>\n",
       "      <th>Date</th>\n",
       "      <th></th>\n",
       "      <th></th>\n",
       "      <th></th>\n",
       "      <th></th>\n",
       "      <th></th>\n",
       "    </tr>\n",
       "  </thead>\n",
       "  <tbody>\n",
       "    <tr>\n",
       "      <th>2013-10-01</th>\n",
       "      <td>BTC</td>\n",
       "      <td>123.65499</td>\n",
       "      <td>124.30466</td>\n",
       "      <td>124.75166</td>\n",
       "      <td>122.56349</td>\n",
       "    </tr>\n",
       "    <tr>\n",
       "      <th>2013-10-02</th>\n",
       "      <td>BTC</td>\n",
       "      <td>125.45500</td>\n",
       "      <td>123.65499</td>\n",
       "      <td>125.75850</td>\n",
       "      <td>123.63383</td>\n",
       "    </tr>\n",
       "    <tr>\n",
       "      <th>2013-10-03</th>\n",
       "      <td>BTC</td>\n",
       "      <td>108.58483</td>\n",
       "      <td>125.45500</td>\n",
       "      <td>125.66566</td>\n",
       "      <td>83.32833</td>\n",
       "    </tr>\n",
       "    <tr>\n",
       "      <th>2013-10-04</th>\n",
       "      <td>BTC</td>\n",
       "      <td>118.67466</td>\n",
       "      <td>108.58483</td>\n",
       "      <td>118.67500</td>\n",
       "      <td>107.05816</td>\n",
       "    </tr>\n",
       "    <tr>\n",
       "      <th>2013-10-05</th>\n",
       "      <td>BTC</td>\n",
       "      <td>121.33866</td>\n",
       "      <td>118.67466</td>\n",
       "      <td>121.93633</td>\n",
       "      <td>118.00566</td>\n",
       "    </tr>\n",
       "  </tbody>\n",
       "</table>\n",
       "</div>"
      ],
      "text/plain": [
       "           Currency  Closing Price (USD)  24h Open (USD)  24h High (USD)  \\\n",
       "Date                                                                       \n",
       "2013-10-01      BTC            123.65499       124.30466       124.75166   \n",
       "2013-10-02      BTC            125.45500       123.65499       125.75850   \n",
       "2013-10-03      BTC            108.58483       125.45500       125.66566   \n",
       "2013-10-04      BTC            118.67466       108.58483       118.67500   \n",
       "2013-10-05      BTC            121.33866       118.67466       121.93633   \n",
       "\n",
       "            24h Low (USD)  \n",
       "Date                       \n",
       "2013-10-01      122.56349  \n",
       "2013-10-02      123.63383  \n",
       "2013-10-03       83.32833  \n",
       "2013-10-04      107.05816  \n",
       "2013-10-05      118.00566  "
      ]
     },
     "execution_count": 2,
     "metadata": {},
     "output_type": "execute_result"
    }
   ],
   "source": [
    "# Reading Bitcoin data and parsing dates\n",
    "import pandas as pd\n",
    "\n",
    "df = pd.read_csv(\n",
    "    \"BTC_USD_2013-10-01_2021-05-18-CoinDesk.csv\",\n",
    "    parse_dates=[\"Date\"],\n",
    "    index_col=[\"Date\"]   \n",
    ")\n",
    "df.head()"
   ]
  },
  {
   "cell_type": "code",
   "execution_count": 3,
   "metadata": {},
   "outputs": [
    {
     "data": {
      "text/html": [
       "<div>\n",
       "<style scoped>\n",
       "    .dataframe tbody tr th:only-of-type {\n",
       "        vertical-align: middle;\n",
       "    }\n",
       "\n",
       "    .dataframe tbody tr th {\n",
       "        vertical-align: top;\n",
       "    }\n",
       "\n",
       "    .dataframe thead th {\n",
       "        text-align: right;\n",
       "    }\n",
       "</style>\n",
       "<table border=\"1\" class=\"dataframe\">\n",
       "  <thead>\n",
       "    <tr style=\"text-align: right;\">\n",
       "      <th></th>\n",
       "      <th>Currency</th>\n",
       "      <th>Closing Price (USD)</th>\n",
       "      <th>24h Open (USD)</th>\n",
       "      <th>24h High (USD)</th>\n",
       "      <th>24h Low (USD)</th>\n",
       "    </tr>\n",
       "    <tr>\n",
       "      <th>Date</th>\n",
       "      <th></th>\n",
       "      <th></th>\n",
       "      <th></th>\n",
       "      <th></th>\n",
       "      <th></th>\n",
       "    </tr>\n",
       "  </thead>\n",
       "  <tbody>\n",
       "    <tr>\n",
       "      <th>2021-05-14</th>\n",
       "      <td>BTC</td>\n",
       "      <td>49764.132082</td>\n",
       "      <td>49596.778891</td>\n",
       "      <td>51448.798576</td>\n",
       "      <td>46294.720180</td>\n",
       "    </tr>\n",
       "    <tr>\n",
       "      <th>2021-05-15</th>\n",
       "      <td>BTC</td>\n",
       "      <td>50032.693137</td>\n",
       "      <td>49717.354353</td>\n",
       "      <td>51578.312545</td>\n",
       "      <td>48944.346536</td>\n",
       "    </tr>\n",
       "    <tr>\n",
       "      <th>2021-05-16</th>\n",
       "      <td>BTC</td>\n",
       "      <td>47885.625255</td>\n",
       "      <td>49926.035067</td>\n",
       "      <td>50690.802950</td>\n",
       "      <td>47005.102292</td>\n",
       "    </tr>\n",
       "    <tr>\n",
       "      <th>2021-05-17</th>\n",
       "      <td>BTC</td>\n",
       "      <td>45604.615754</td>\n",
       "      <td>46805.537852</td>\n",
       "      <td>49670.414174</td>\n",
       "      <td>43868.638969</td>\n",
       "    </tr>\n",
       "    <tr>\n",
       "      <th>2021-05-18</th>\n",
       "      <td>BTC</td>\n",
       "      <td>43144.471291</td>\n",
       "      <td>46439.336570</td>\n",
       "      <td>46622.853437</td>\n",
       "      <td>42102.346430</td>\n",
       "    </tr>\n",
       "  </tbody>\n",
       "</table>\n",
       "</div>"
      ],
      "text/plain": [
       "           Currency  Closing Price (USD)  24h Open (USD)  24h High (USD)  \\\n",
       "Date                                                                       \n",
       "2021-05-14      BTC         49764.132082    49596.778891    51448.798576   \n",
       "2021-05-15      BTC         50032.693137    49717.354353    51578.312545   \n",
       "2021-05-16      BTC         47885.625255    49926.035067    50690.802950   \n",
       "2021-05-17      BTC         45604.615754    46805.537852    49670.414174   \n",
       "2021-05-18      BTC         43144.471291    46439.336570    46622.853437   \n",
       "\n",
       "            24h Low (USD)  \n",
       "Date                       \n",
       "2021-05-14   46294.720180  \n",
       "2021-05-15   48944.346536  \n",
       "2021-05-16   47005.102292  \n",
       "2021-05-17   43868.638969  \n",
       "2021-05-18   42102.346430  "
      ]
     },
     "execution_count": 3,
     "metadata": {},
     "output_type": "execute_result"
    }
   ],
   "source": [
    "df.tail()"
   ]
  },
  {
   "cell_type": "code",
   "execution_count": 4,
   "metadata": {},
   "outputs": [
    {
     "name": "stdout",
     "output_type": "stream",
     "text": [
      "<class 'pandas.core.frame.DataFrame'>\n",
      "DatetimeIndex: 2787 entries, 2013-10-01 to 2021-05-18\n",
      "Data columns (total 5 columns):\n",
      " #   Column               Non-Null Count  Dtype  \n",
      "---  ------               --------------  -----  \n",
      " 0   Currency             2787 non-null   object \n",
      " 1   Closing Price (USD)  2787 non-null   float64\n",
      " 2   24h Open (USD)       2787 non-null   float64\n",
      " 3   24h High (USD)       2787 non-null   float64\n",
      " 4   24h Low (USD)        2787 non-null   float64\n",
      "dtypes: float64(4), object(1)\n",
      "memory usage: 130.6+ KB\n"
     ]
    }
   ],
   "source": [
    "df.info()"
   ]
  },
  {
   "cell_type": "code",
   "execution_count": 5,
   "metadata": {},
   "outputs": [
    {
     "data": {
      "text/plain": [
       "2787"
      ]
     },
     "execution_count": 5,
     "metadata": {},
     "output_type": "execute_result"
    }
   ],
   "source": [
    "len(df)"
   ]
  },
  {
   "cell_type": "code",
   "execution_count": 6,
   "metadata": {},
   "outputs": [
    {
     "data": {
      "text/html": [
       "<div>\n",
       "<style scoped>\n",
       "    .dataframe tbody tr th:only-of-type {\n",
       "        vertical-align: middle;\n",
       "    }\n",
       "\n",
       "    .dataframe tbody tr th {\n",
       "        vertical-align: top;\n",
       "    }\n",
       "\n",
       "    .dataframe thead th {\n",
       "        text-align: right;\n",
       "    }\n",
       "</style>\n",
       "<table border=\"1\" class=\"dataframe\">\n",
       "  <thead>\n",
       "    <tr style=\"text-align: right;\">\n",
       "      <th></th>\n",
       "      <th>Price</th>\n",
       "    </tr>\n",
       "    <tr>\n",
       "      <th>Date</th>\n",
       "      <th></th>\n",
       "    </tr>\n",
       "  </thead>\n",
       "  <tbody>\n",
       "    <tr>\n",
       "      <th>2013-10-01</th>\n",
       "      <td>123.65499</td>\n",
       "    </tr>\n",
       "    <tr>\n",
       "      <th>2013-10-02</th>\n",
       "      <td>125.45500</td>\n",
       "    </tr>\n",
       "    <tr>\n",
       "      <th>2013-10-03</th>\n",
       "      <td>108.58483</td>\n",
       "    </tr>\n",
       "    <tr>\n",
       "      <th>2013-10-04</th>\n",
       "      <td>118.67466</td>\n",
       "    </tr>\n",
       "    <tr>\n",
       "      <th>2013-10-05</th>\n",
       "      <td>121.33866</td>\n",
       "    </tr>\n",
       "  </tbody>\n",
       "</table>\n",
       "</div>"
      ],
      "text/plain": [
       "                Price\n",
       "Date                 \n",
       "2013-10-01  123.65499\n",
       "2013-10-02  125.45500\n",
       "2013-10-03  108.58483\n",
       "2013-10-04  118.67466\n",
       "2013-10-05  121.33866"
      ]
     },
     "execution_count": 6,
     "metadata": {},
     "output_type": "execute_result"
    }
   ],
   "source": [
    "# Separating closing prices for each day\n",
    "bitcoin_prices = pd.DataFrame(df[\"Closing Price (USD)\"]).rename(columns={\"Closing Price (USD)\":\"Price\"})\n",
    "bitcoin_prices.head()"
   ]
  },
  {
   "cell_type": "code",
   "execution_count": 7,
   "metadata": {},
   "outputs": [
    {
     "data": {
      "image/png": "[encoded data removed]",
      "text/plain": [
       "<Figure size 720x504 with 1 Axes>"
      ]
     },
     "metadata": {
      "needs_background": "light"
     },
     "output_type": "display_data"
    }
   ],
   "source": [
    "# Visualising Bitcoin prices\n",
    "import matplotlib.pyplot as plt\n",
    "bitcoin_prices.plot(figsize=(10, 7))\n",
    "plt.ylabel(\"BTC Price\")\n",
    "plt.title(\"Price of Bitcoin: Oct 2013 - May 2021\", fontsize=16)\n",
    "plt.legend(fontsize=14);"
   ]
  },
  {
   "attachments": {},
   "cell_type": "markdown",
   "metadata": {},
   "source": [
    "### Importing time series with Python"
   ]
  },
  {
   "cell_type": "code",
   "execution_count": 8,
   "metadata": {},
   "outputs": [
    {
     "data": {
      "text/plain": [
       "([datetime.datetime(2013, 10, 1, 0, 0),\n",
       "  datetime.datetime(2013, 10, 2, 0, 0),\n",
       "  datetime.datetime(2013, 10, 3, 0, 0),\n",
       "  datetime.datetime(2013, 10, 4, 0, 0),\n",
       "  datetime.datetime(2013, 10, 5, 0, 0),\n",
       "  datetime.datetime(2013, 10, 6, 0, 0),\n",
       "  datetime.datetime(2013, 10, 7, 0, 0),\n",
       "  datetime.datetime(2013, 10, 8, 0, 0),\n",
       "  datetime.datetime(2013, 10, 9, 0, 0),\n",
       "  datetime.datetime(2013, 10, 10, 0, 0)],\n",
       " [123.65499,\n",
       "  125.455,\n",
       "  108.58483,\n",
       "  118.67466,\n",
       "  121.33866,\n",
       "  120.65533,\n",
       "  121.795,\n",
       "  123.033,\n",
       "  124.049,\n",
       "  125.96116])"
      ]
     },
     "execution_count": 8,
     "metadata": {},
     "output_type": "execute_result"
    }
   ],
   "source": [
    "# Importing Bitcoin data with Python\n",
    "import csv\n",
    "from datetime import datetime\n",
    "\n",
    "timestamps = []\n",
    "btc_price = []\n",
    "with open(\"BTC_USD_2013-10-01_2021-05-18-CoinDesk.csv\", \"r\") as f:\n",
    "    csv_reader = csv.reader(f, delimiter=\",\")\n",
    "    next(csv_reader) # Skips first line to remove column names\n",
    "    for line in csv_reader:\n",
    "        timestamps.append(datetime.strptime(line[1], \"%Y-%m-%d\"))\n",
    "        btc_price.append(float(line[2]))\n",
    "\n",
    "# Viewing first 10 records\n",
    "timestamps[:10], btc_price[:10]"
   ]
  },
  {
   "cell_type": "code",
   "execution_count": 9,
   "metadata": {},
   "outputs": [
    {
     "data": {
      "text/plain": [
       "Text(0.5, 1.0, 'Price of Bitcoin: Oct 2013 - May 2021')"
      ]
     },
     "execution_count": 9,
     "metadata": {},
     "output_type": "execute_result"
    },
    {
     "data": {
      "image/png": "[encoded data removed]",
      "text/plain": [
       "<Figure size 720x504 with 1 Axes>"
      ]
     },
     "metadata": {
      "needs_background": "light"
     },
     "output_type": "display_data"
    }
   ],
   "source": [
    "# Plotting from CSV\n",
    "import matplotlib.pyplot as plt\n",
    "import numpy as np\n",
    "\n",
    "plt.figure(figsize=(10, 7))\n",
    "plt.plot(timestamps, btc_price)\n",
    "plt.xlabel(\"Date\")\n",
    "plt.ylabel(\"BTC Price\")\n",
    "plt.title(\"Price of Bitcoin: Oct 2013 - May 2021\", fontsize=16)\n",
    "#plt.legend();"
   ]
  },
  {
   "attachments": {},
   "cell_type": "markdown",
   "metadata": {},
   "source": [
    "### Creating train and test data"
   ]
  },
  {
   "cell_type": "code",
   "execution_count": 10,
   "metadata": {},
   "outputs": [
    {
     "data": {
      "text/plain": [
       "(array(['2013-10-01T00:00:00.000000000', '2013-10-02T00:00:00.000000000',\n",
       "        '2013-10-03T00:00:00.000000000', '2013-10-04T00:00:00.000000000',\n",
       "        '2013-10-05T00:00:00.000000000', '2013-10-06T00:00:00.000000000',\n",
       "        '2013-10-07T00:00:00.000000000', '2013-10-08T00:00:00.000000000',\n",
       "        '2013-10-09T00:00:00.000000000', '2013-10-10T00:00:00.000000000'],\n",
       "       dtype='datetime64[ns]'),\n",
       " array([123.65499, 125.455  , 108.58483, 118.67466, 121.33866, 120.65533,\n",
       "        121.795  , 123.033  , 124.049  , 125.96116]))"
      ]
     },
     "execution_count": 10,
     "metadata": {},
     "output_type": "execute_result"
    }
   ],
   "source": [
    "# Get Bitcoin date array\n",
    "timestamps = bitcoin_prices.index.to_numpy()\n",
    "prices = bitcoin_prices[\"Price\"].to_numpy()\n",
    "\n",
    "timestamps[:10], prices[:10]"
   ]
  },
  {
   "cell_type": "code",
   "execution_count": 11,
   "metadata": {},
   "outputs": [
    {
     "data": {
      "text/plain": [
       "((2229,), (558,), (2229,), (558,))"
      ]
     },
     "execution_count": 11,
     "metadata": {},
     "output_type": "execute_result"
    }
   ],
   "source": [
    "# Wrong way to create train / test split for time series data\n",
    "from sklearn.model_selection import train_test_split\n",
    "\n",
    "X_train, X_test, y_train, y_test = train_test_split(\n",
    "    timestamps, # dates\n",
    "    prices, # BTC prices\n",
    "    test_size=0.2,\n",
    "    random_state=42\n",
    ")\n",
    "X_train.shape, X_test.shape, y_train.shape, y_test.shape"
   ]
  },
  {
   "cell_type": "code",
   "execution_count": 12,
   "metadata": {},
   "outputs": [
    {
     "data": {
      "image/png": "[encoded data removed]",
      "text/plain": [
       "<Figure size 720x504 with 1 Axes>"
      ]
     },
     "metadata": {
      "needs_background": "light"
     },
     "output_type": "display_data"
    }
   ],
   "source": [
    "# Plotting the wrong data split results\n",
    "plt.figure(figsize=(10, 7))\n",
    "plt.scatter(X_train, y_train, s=5, label=\"Train data\")\n",
    "plt.scatter(X_test, y_test, s=5, label=\"Test data\")\n",
    "plt.xlabel(\"Date\")\n",
    "plt.ylabel(\"BTC Price\")\n",
    "plt.legend(fontsize=14)\n",
    "plt.show();"
   ]
  },
  {
   "cell_type": "code",
   "execution_count": 13,
   "metadata": {},
   "outputs": [
    {
     "data": {
      "text/plain": [
       "(2229, 558, 2229, 558)"
      ]
     },
     "execution_count": 13,
     "metadata": {},
     "output_type": "execute_result"
    }
   ],
   "source": [
    "# Right way to create train / test split for time series data\n",
    "split_size = int(0.8 * len(prices)) # 80% - train, 20% - test\n",
    "\n",
    "X_train, y_train = timestamps[:split_size], prices[:split_size]\n",
    "X_test, y_test = timestamps[split_size:], prices[split_size:]\n",
    "\n",
    "len(X_train), len(X_test), len(y_train), len(y_test)"
   ]
  },
  {
   "cell_type": "code",
   "execution_count": 14,
   "metadata": {},
   "outputs": [
    {
     "data": {
      "image/png": "[encoded data removed]",
      "text/plain": [
       "<Figure size 720x504 with 1 Axes>"
      ]
     },
     "metadata": {
      "needs_background": "light"
     },
     "output_type": "display_data"
    }
   ],
   "source": [
    "# Plotting the right data split results\n",
    "plt.figure(figsize=(10, 7))\n",
    "plt.scatter(X_train, y_train, s=5, label=\"Train data\")\n",
    "plt.scatter(X_test, y_test, s=5, label=\"Test data\")\n",
    "plt.xlabel(\"Date\")\n",
    "plt.ylabel(\"BTC Price\")\n",
    "plt.legend(fontsize=14)\n",
    "plt.show();"
   ]
  },
  {
   "cell_type": "code",
   "execution_count": 15,
   "metadata": {},
   "outputs": [],
   "source": [
    "# Creating plotting function\n",
    "def plot_time_series(timestamps, values, marker=\",\", start=0, end=None, label=None):\n",
    "    plt.plot(timestamps[start:end], values[start:end], marker=marker, label=label)\n",
    "    plt.xlabel(\"Time\")\n",
    "    plt.ylabel(\"BTC Price\")\n",
    "    if label:\n",
    "        plt.legend(fontsize=14)\n",
    "    plt.grid(True)"
   ]
  },
  {
   "cell_type": "code",
   "execution_count": 16,
   "metadata": {},
   "outputs": [
    {
     "data": {
      "image/png": "[encoded data removed]",
      "text/plain": [
       "<Figure size 720x504 with 1 Axes>"
      ]
     },
     "metadata": {
      "needs_background": "light"
     },
     "output_type": "display_data"
    }
   ],
   "source": [
    "# Testing plot function\n",
    "plt.figure(figsize=(10, 7))\n",
    "plot_time_series(timestamps=X_train, values=y_train, label=\"Train data\")\n",
    "plot_time_series(timestamps=X_test, values=y_test, label=\"Test data\")"
   ]
  },
  {
   "attachments": {},
   "cell_type": "markdown",
   "metadata": {},
   "source": [
    "### Model 0 - Naive forecast (baseline)"
   ]
  },
  {
   "attachments": {},
   "cell_type": "markdown",
   "metadata": {},
   "source": [
    "The prediction at timestamp t(y-hat) is equal to the value at timestamp t-1 (previous timestamp), i.e horizon of 1.\n",
    "$$\\hat{y}_{t} = y_{t-1}$$"
   ]
  },
  {
   "cell_type": "code",
   "execution_count": 17,
   "metadata": {},
   "outputs": [
    {
     "name": "stdout",
     "output_type": "stream",
     "text": [
      "First 10 values: [9226.48582088 8794.35864452 8798.04205463 9081.18687849 8711.53433917\n",
      " 8760.89271814 8749.52059102 8656.97092235 8500.64355816 8469.2608989 ]\n",
      "\n",
      "Last 10 values: [57107.12067189 58788.20967893 58102.19142623 55715.54665129\n",
      " 56573.5554719  52147.82118698 49764.1320816  50032.69313676\n",
      " 47885.62525472 45604.61575361]\n"
     ]
    }
   ],
   "source": [
    "# Creating naive forecast\n",
    "naive_forecast = y_test[:-1]\n",
    "\n",
    "print(f\"First 10 values: {naive_forecast[:10]}\\n\")\n",
    "print(f\"Last 10 values: {naive_forecast[-10:]}\")"
   ]
  },
  {
   "cell_type": "code",
   "execution_count": 18,
   "metadata": {},
   "outputs": [
    {
     "data": {
      "image/png": "[encoded data removed]",
      "text/plain": [
       "<Figure size 720x504 with 1 Axes>"
      ]
     },
     "metadata": {
      "needs_background": "light"
     },
     "output_type": "display_data"
    }
   ],
   "source": [
    "# Plotting naive forecast\n",
    "plt.figure(figsize=(10, 7))\n",
    "# plot_time_series(timestamps=X_train, values=y_train, label=\"Train data\")\n",
    "plot_time_series(timestamps=X_test, values=y_test, start=500, label=\"Test data\")\n",
    "plot_time_series(timestamps=X_test[1:], values=naive_forecast, start=500, marker=\"o\", label=\"Naive forecast\")"
   ]
  },
  {
   "cell_type": "code",
   "execution_count": 19,
   "metadata": {},
   "outputs": [],
   "source": [
    "# MASE implementation\n",
    "def mean_absolute_scaled_error(y_true, y_pred):\n",
    "    mae = tf.reduce_mean(tf.abs(y_true - y_pred))\n",
    "\n",
    "    # Find MAE of Naive Forecast (no seasonality)\n",
    "    mae_naive_no_season = tf.reduce_mean(tf.abs(y_true[1:] - y_true[:-1])) # Seasonality of 1 day\n",
    "\n",
    "    return mae / mae_naive_no_season"
   ]
  },
  {
   "cell_type": "code",
   "execution_count": 20,
   "metadata": {},
   "outputs": [
    {
     "data": {
      "text/plain": [
       "<tf.Tensor: shape=(), dtype=float64, numpy=0.9995699939182626>"
      ]
     },
     "execution_count": 20,
     "metadata": {},
     "output_type": "execute_result"
    }
   ],
   "source": [
    "# Verify if MASE of Naive Forecast is 1\n",
    "mean_absolute_scaled_error(\n",
    "    y_true=y_test[1:],\n",
    "    y_pred=naive_forecast\n",
    ")"
   ]
  },
  {
   "cell_type": "code",
   "execution_count": 21,
   "metadata": {},
   "outputs": [],
   "source": [
    "# Function for evaluation matrix\n",
    "def evaluate_preds(y_true, y_pred):\n",
    "\n",
    "    # Ensuring that we use float32 dtype (for metric calculations)\n",
    "    y_true = tf.cast(y_true, dtype=tf.float32)\n",
    "    y_pred = tf.cast(y_pred, dtype=tf.float32)\n",
    "\n",
    "    # Calculating various evaluation metrics\n",
    "    mae = tf.keras.metrics.mean_absolute_error(y_true, y_pred)\n",
    "    mse = tf.keras.metrics.mean_squared_error(y_true, y_pred)\n",
    "    rmse = tf.sqrt(mse)\n",
    "    mape = tf.keras.metrics.mean_absolute_percentage_error(y_true, y_pred)\n",
    "    mase = mean_absolute_scaled_error(y_true, y_pred)\n",
    "\n",
    "    return {\n",
    "        \"mae\": mae.numpy(),\n",
    "        \"mse\": mse.numpy(),\n",
    "        \"rmse\": rmse.numpy(),\n",
    "        \"mape\": mape.numpy(),\n",
    "        \"mase\": mase.numpy()\n",
    "    }"
   ]
  },
  {
   "cell_type": "code",
   "execution_count": 22,
   "metadata": {},
   "outputs": [
    {
     "data": {
      "text/plain": [
       "{'mae': 567.9802,\n",
       " 'mse': 1147547.0,\n",
       " 'rmse': 1071.2362,\n",
       " 'mape': 2.5165248,\n",
       " 'mase': 0.99957}"
      ]
     },
     "execution_count": 22,
     "metadata": {},
     "output_type": "execute_result"
    }
   ],
   "source": [
    "# Evaluating naive forecast results\n",
    "naive_results = evaluate_preds(y_true=y_test[1:], y_pred=naive_forecast)\n",
    "naive_results"
   ]
  },
  {
   "attachments": {},
   "cell_type": "markdown",
   "metadata": {},
   "source": [
    "### Windowing data"
   ]
  },
  {
   "cell_type": "code",
   "execution_count": 23,
   "metadata": {},
   "outputs": [
    {
     "name": "stdout",
     "output_type": "stream",
     "text": [
      "Intention is to use [123.65499, 125.455, 108.58483, 118.67466, 121.33866, 120.65533, 121.795] to predict 123.033\n"
     ]
    }
   ],
   "source": [
    "# We want to use Bitcoin prices of the week to predict next day price\n",
    "print(f\"Intention is to use {btc_price[:7]} to predict {btc_price[7]}\")"
   ]
  },
  {
   "cell_type": "code",
   "execution_count": 24,
   "metadata": {},
   "outputs": [],
   "source": [
    "# Setting up global variables for window size and horizon\n",
    "HORIZON = 1 # predict next 1 day\n",
    "WINDOW_SIZE = 7 # use the past week of Bitcoin data"
   ]
  },
  {
   "cell_type": "code",
   "execution_count": 25,
   "metadata": {},
   "outputs": [],
   "source": [
    "# Creating function to label windowed data\n",
    "def get_labelled_window(x, horizon=HORIZON):\n",
    "    return x[:, :-horizon], x[:, -horizon:]"
   ]
  },
  {
   "cell_type": "code",
   "execution_count": 26,
   "metadata": {},
   "outputs": [
    {
     "data": {
      "text/plain": [
       "(<tf.Tensor: shape=(1, 7), dtype=int32, numpy=array([[1, 2, 3, 4, 5, 6, 7]])>,\n",
       " <tf.Tensor: shape=(1, 1), dtype=int32, numpy=array([[8]])>)"
      ]
     },
     "execution_count": 26,
     "metadata": {},
     "output_type": "execute_result"
    }
   ],
   "source": [
    "# Testing window labelling function\n",
    "test_window, test_label = get_labelled_window(tf.expand_dims(tf.range(8) + 1, axis=0))\n",
    "test_window, test_label"
   ]
  },
  {
   "cell_type": "code",
   "execution_count": 27,
   "metadata": {},
   "outputs": [],
   "source": [
    "# Creating function to view NumPy arrays as windows\n",
    "def make_windows(x, window_size=WINDOW_SIZE, horizon=HORIZON):\n",
    "\n",
    "    # 1. Creating window of specific window size\n",
    "    window_step = np.expand_dims(np.arange(window_size + horizon), axis=0)\n",
    "\n",
    "    # 2. Creating 2D array of multiple windows\n",
    "    window_indexes = window_step + np.expand_dims(np.arange(len(x) - (window_size + horizon - 1)), axis=0).T\n",
    "    # print(f\"Windows indexes: {window_indexes} with shape of {window_indexes.shape}\")\n",
    "\n",
    "    # 3. Index on the target array (time series) with 2D of multiple window steps\n",
    "    windowed_array = x[window_indexes]\n",
    "\n",
    "    # 4. Get the labelled windows\n",
    "    windows, labels = get_labelled_window(windowed_array, horizon=horizon)\n",
    "    return windows, labels"
   ]
  },
  {
   "cell_type": "code",
   "execution_count": 28,
   "metadata": {},
   "outputs": [
    {
     "data": {
      "text/plain": [
       "(2780, 2780)"
      ]
     },
     "execution_count": 28,
     "metadata": {},
     "output_type": "execute_result"
    }
   ],
   "source": [
    "# Testing the function\n",
    "full_windows, full_labels = make_windows(prices)\n",
    "len(full_windows), len(full_labels)"
   ]
  },
  {
   "cell_type": "code",
   "execution_count": 29,
   "metadata": {},
   "outputs": [
    {
     "name": "stdout",
     "output_type": "stream",
     "text": [
      "Window: [123.65499 125.455   108.58483 118.67466 121.33866 120.65533 121.795  ] -> Label: [123.033]\n",
      "Window: [125.455   108.58483 118.67466 121.33866 120.65533 121.795   123.033  ] -> Label: [124.049]\n",
      "Window: [108.58483 118.67466 121.33866 120.65533 121.795   123.033   124.049  ] -> Label: [125.96116]\n"
     ]
    }
   ],
   "source": [
    "# Viewing the first 3 windows / labels\n",
    "for i in range(3):\n",
    "    print(f\"Window: {full_windows[i]} -> Label: {full_labels[i]}\")"
   ]
  },
  {
   "cell_type": "code",
   "execution_count": 30,
   "metadata": {},
   "outputs": [
    {
     "name": "stdout",
     "output_type": "stream",
     "text": [
      "Window: [58788.20967893 58102.19142623 55715.54665129 56573.5554719\n",
      " 52147.82118698 49764.1320816  50032.69313676] -> Label: [47885.62525472]\n",
      "Window: [58102.19142623 55715.54665129 56573.5554719  52147.82118698\n",
      " 49764.1320816  50032.69313676 47885.62525472] -> Label: [45604.61575361]\n",
      "Window: [55715.54665129 56573.5554719  52147.82118698 49764.1320816\n",
      " 50032.69313676 47885.62525472 45604.61575361] -> Label: [43144.47129086]\n"
     ]
    }
   ],
   "source": [
    "# Viewing the last 3 windows / labels\n",
    "for i in range(3):\n",
    "    print(f\"Window: {full_windows[i-3]} -> Label: {full_labels[i-3]}\")"
   ]
  },
  {
   "attachments": {},
   "cell_type": "markdown",
   "metadata": {},
   "source": [
    "### Splitting windows into training and testing sets"
   ]
  },
  {
   "cell_type": "code",
   "execution_count": 31,
   "metadata": {},
   "outputs": [],
   "source": [
    "# Creating function to make train / test splits\n",
    "def make_train_test_splits(windows, labels, test_split=0.2):\n",
    "    split_size = int(len(windows) * (1 - test_split)) # Default 80% train / 20% test\n",
    "    train_windows = windows[:split_size]\n",
    "    train_labels = labels[:split_size]\n",
    "    test_windows = windows[split_size:]\n",
    "    test_labels = labels[split_size:]\n",
    "    return train_windows, test_windows, train_labels, test_labels"
   ]
  },
  {
   "cell_type": "code",
   "execution_count": 32,
   "metadata": {},
   "outputs": [
    {
     "data": {
      "text/plain": [
       "(2224, 556, 2224, 556)"
      ]
     },
     "execution_count": 32,
     "metadata": {},
     "output_type": "execute_result"
    }
   ],
   "source": [
    "# Creating training and testing windows\n",
    "train_windows, test_windows, train_labels, test_labels = make_train_test_splits(\n",
    "    full_windows, full_labels\n",
    ")\n",
    "len(train_windows), len(test_windows), len(train_labels), len(test_labels)"
   ]
  },
  {
   "cell_type": "code",
   "execution_count": 33,
   "metadata": {},
   "outputs": [
    {
     "data": {
      "text/plain": [
       "(array([[123.65499, 125.455  , 108.58483, 118.67466, 121.33866, 120.65533,\n",
       "         121.795  ],\n",
       "        [125.455  , 108.58483, 118.67466, 121.33866, 120.65533, 121.795  ,\n",
       "         123.033  ],\n",
       "        [108.58483, 118.67466, 121.33866, 120.65533, 121.795  , 123.033  ,\n",
       "         124.049  ],\n",
       "        [118.67466, 121.33866, 120.65533, 121.795  , 123.033  , 124.049  ,\n",
       "         125.96116],\n",
       "        [121.33866, 120.65533, 121.795  , 123.033  , 124.049  , 125.96116,\n",
       "         125.27966]]),\n",
       " array([[123.033  ],\n",
       "        [124.049  ],\n",
       "        [125.96116],\n",
       "        [125.27966],\n",
       "        [125.9275 ]]))"
      ]
     },
     "execution_count": 33,
     "metadata": {},
     "output_type": "execute_result"
    }
   ],
   "source": [
    "# Checking the first 5 train window values\n",
    "train_windows[:5], train_labels[:5]"
   ]
  },
  {
   "cell_type": "code",
   "execution_count": 34,
   "metadata": {},
   "outputs": [
    {
     "data": {
      "text/plain": [
       "(array([[9290.89660239, 9202.41545055, 9369.62808116, 9326.59962378,\n",
       "         9335.75240233, 9226.48582088, 8794.35864452],\n",
       "        [9202.41545055, 9369.62808116, 9326.59962378, 9335.75240233,\n",
       "         9226.48582088, 8794.35864452, 8798.04205463],\n",
       "        [9369.62808116, 9326.59962378, 9335.75240233, 9226.48582088,\n",
       "         8794.35864452, 8798.04205463, 9081.18687849],\n",
       "        [9326.59962378, 9335.75240233, 9226.48582088, 8794.35864452,\n",
       "         8798.04205463, 9081.18687849, 8711.53433917],\n",
       "        [9335.75240233, 9226.48582088, 8794.35864452, 8798.04205463,\n",
       "         9081.18687849, 8711.53433917, 8760.89271814]]),\n",
       " array([[8798.04205463],\n",
       "        [9081.18687849],\n",
       "        [8711.53433917],\n",
       "        [8760.89271814],\n",
       "        [8749.52059102]]))"
      ]
     },
     "execution_count": 34,
     "metadata": {},
     "output_type": "execute_result"
    }
   ],
   "source": [
    "# Checking the first test values\n",
    "test_windows[:5], test_labels[:5]"
   ]
  },
  {
   "attachments": {},
   "cell_type": "markdown",
   "metadata": {},
   "source": [
    "### Modelling checkpoint callback"
   ]
  },
  {
   "cell_type": "code",
   "execution_count": 35,
   "metadata": {},
   "outputs": [],
   "source": [
    "# Function to implement ModelCheckpoint callback\n",
    "import os\n",
    "\n",
    "def create_model_checkpoint(model_name, save_path=\"model_experiments\"):\n",
    "    return tf.keras.callbacks.ModelCheckpoint(\n",
    "        filepath=os.path.join(save_path, model_name),\n",
    "        verbose=0,\n",
    "        save_best_only=True\n",
    "    )"
   ]
  },
  {
   "attachments": {},
   "cell_type": "markdown",
   "metadata": {},
   "source": [
    "### Model 1 - Dense model (window = 7, horizon = 1)"
   ]
  },
  {
   "cell_type": "code",
   "execution_count": 36,
   "metadata": {},
   "outputs": [
    {
     "name": "stdout",
     "output_type": "stream",
     "text": [
      "Epoch 1/100\n",
      " 1/18 [>.............................] - ETA: 14s - loss: 2017.4258 - mae: 2017.4258 - mse: 8464814.0000INFO:tensorflow:Assets written to: model_experiments\\model_1_dense\\assets\n",
      "18/18 [==============================] - 2s 68ms/step - loss: 683.8516 - mae: 683.8516 - mse: 1879421.5000 - val_loss: 1203.4182 - val_mae: 1203.4182 - val_mse: 4791804.5000\n",
      "Epoch 2/100\n",
      "18/18 [==============================] - 0s 6ms/step - loss: 250.8355 - mae: 250.8355 - mse: 274625.8125 - val_loss: 1238.7478 - val_mae: 1238.7478 - val_mse: 4985742.0000\n",
      "Epoch 3/100\n",
      " 1/18 [>.............................] - ETA: 0s - loss: 157.9282 - mae: 157.9282 - mse: 93595.7891INFO:tensorflow:Assets written to: model_experiments\\model_1_dense\\assets\n",
      "18/18 [==============================] - 1s 49ms/step - loss: 207.6935 - mae: 207.6935 - mse: 219156.7656 - val_loss: 1162.4052 - val_mae: 1162.4052 - val_mse: 4203302.0000\n",
      "Epoch 4/100\n",
      " 1/18 [>.............................] - ETA: 0s - loss: 255.4717 - mae: 255.4717 - mse: 307055.8125INFO:tensorflow:Assets written to: model_experiments\\model_1_dense\\assets\n",
      "18/18 [==============================] - 1s 36ms/step - loss: 197.7098 - mae: 197.7098 - mse: 204795.5000 - val_loss: 1132.8894 - val_mae: 1132.8894 - val_mse: 3987440.7500\n",
      "Epoch 5/100\n",
      " 1/18 [>.............................] - ETA: 0s - loss: 189.6698 - mae: 189.6698 - mse: 139274.7031INFO:tensorflow:Assets written to: model_experiments\\model_1_dense\\assets\n",
      "18/18 [==============================] - 1s 33ms/step - loss: 194.5558 - mae: 194.5558 - mse: 199934.6719 - val_loss: 1031.7549 - val_mae: 1031.7549 - val_mse: 3431326.5000\n",
      "Epoch 6/100\n",
      " 1/18 [>.............................] - ETA: 0s - loss: 136.0248 - mae: 136.0248 - mse: 66086.9219INFO:tensorflow:Assets written to: model_experiments\\model_1_dense\\assets\n",
      "18/18 [==============================] - 1s 34ms/step - loss: 182.6681 - mae: 182.6681 - mse: 174361.2031 - val_loss: 972.5147 - val_mae: 972.5147 - val_mse: 3128749.0000\n",
      "Epoch 7/100\n",
      " 1/18 [>.............................] - ETA: 0s - loss: 208.6821 - mae: 208.6821 - mse: 323421.1562INFO:tensorflow:Assets written to: model_experiments\\model_1_dense\\assets\n",
      "18/18 [==============================] - 1s 36ms/step - loss: 171.1727 - mae: 171.1727 - mse: 158413.3281 - val_loss: 953.5298 - val_mae: 953.5298 - val_mse: 2933035.2500\n",
      "Epoch 8/100\n",
      " 1/18 [>.............................] - ETA: 0s - loss: 138.5334 - mae: 138.5334 - mse: 76605.0547INFO:tensorflow:Assets written to: model_experiments\\model_1_dense\\assets\n",
      "18/18 [==============================] - 1s 35ms/step - loss: 165.7248 - mae: 165.7248 - mse: 149459.7500 - val_loss: 910.9343 - val_mae: 910.9343 - val_mse: 2781711.7500\n",
      "Epoch 9/100\n",
      " 1/18 [>.............................] - ETA: 0s - loss: 137.0767 - mae: 137.0767 - mse: 87253.5000INFO:tensorflow:Assets written to: model_experiments\\model_1_dense\\assets\n",
      "18/18 [==============================] - 1s 39ms/step - loss: 164.5865 - mae: 164.5865 - mse: 144212.8125 - val_loss: 871.5012 - val_mae: 871.5012 - val_mse: 2504774.5000\n",
      "Epoch 10/100\n",
      " 1/18 [>.............................] - ETA: 0s - loss: 164.2712 - mae: 164.2712 - mse: 199239.1875INFO:tensorflow:Assets written to: model_experiments\\model_1_dense\\assets\n",
      "18/18 [==============================] - 1s 51ms/step - loss: 159.2474 - mae: 159.2474 - mse: 139069.7031 - val_loss: 848.7260 - val_mae: 848.7260 - val_mse: 2355975.2500\n",
      "Epoch 11/100\n",
      " 1/18 [>.............................] - ETA: 0s - loss: 157.8198 - mae: 157.8198 - mse: 112788.5234INFO:tensorflow:Assets written to: model_experiments\\model_1_dense\\assets\n",
      "18/18 [==============================] - 1s 36ms/step - loss: 149.5503 - mae: 149.5503 - mse: 124969.2266 - val_loss: 847.3783 - val_mae: 847.3783 - val_mse: 2261020.0000\n",
      "Epoch 12/100\n",
      "18/18 [==============================] - 0s 5ms/step - loss: 144.8514 - mae: 144.8514 - mse: 118002.7734 - val_loss: 877.2043 - val_mae: 877.2043 - val_mse: 2284991.0000\n",
      "Epoch 13/100\n",
      " 1/18 [>.............................] - ETA: 0s - loss: 120.5732 - mae: 120.5732 - mse: 87788.3516INFO:tensorflow:Assets written to: model_experiments\\model_1_dense\\assets\n",
      "18/18 [==============================] - 1s 37ms/step - loss: 146.1296 - mae: 146.1296 - mse: 116373.1484 - val_loss: 810.6762 - val_mae: 810.6762 - val_mse: 2050730.1250\n",
      "Epoch 14/100\n",
      " 1/18 [>.............................] - ETA: 0s - loss: 141.6587 - mae: 141.6587 - mse: 87370.6953INFO:tensorflow:Assets written to: model_experiments\\model_1_dense\\assets\n",
      "18/18 [==============================] - 1s 37ms/step - loss: 138.6173 - mae: 138.6173 - mse: 109451.1094 - val_loss: 781.7042 - val_mae: 781.7042 - val_mse: 1937033.8750\n",
      "Epoch 15/100\n",
      " 1/18 [>.............................] - ETA: 0s - loss: 140.3187 - mae: 140.3187 - mse: 75447.7031INFO:tensorflow:Assets written to: model_experiments\\model_1_dense\\assets\n",
      "18/18 [==============================] - 1s 39ms/step - loss: 140.2453 - mae: 140.2453 - mse: 106959.6328 - val_loss: 744.9972 - val_mae: 744.9972 - val_mse: 1835244.8750\n",
      "Epoch 16/100\n",
      " 1/18 [>.............................] - ETA: 0s - loss: 121.0589 - mae: 121.0589 - mse: 60741.2500INFO:tensorflow:Assets written to: model_experiments\\model_1_dense\\assets\n",
      "18/18 [==============================] - 1s 48ms/step - loss: 132.0350 - mae: 132.0350 - mse: 99754.2266 - val_loss: 741.0379 - val_mae: 741.0379 - val_mse: 1772997.5000\n",
      "Epoch 17/100\n",
      "18/18 [==============================] - 0s 4ms/step - loss: 131.1933 - mae: 131.1933 - mse: 100717.0625 - val_loss: 759.5641 - val_mae: 759.5641 - val_mse: 1793507.2500\n",
      "Epoch 18/100\n",
      "18/18 [==============================] - ETA: 0s - loss: 130.4632 - mae: 130.4632 - mse: 98385.9766 INFO:tensorflow:Assets written to: model_experiments\\model_1_dense\\assets\n",
      "18/18 [==============================] - 1s 37ms/step - loss: 130.4632 - mae: 130.4632 - mse: 98385.9766 - val_loss: 718.4883 - val_mae: 718.4883 - val_mse: 1667859.0000\n",
      "Epoch 19/100\n",
      " 1/18 [>.............................] - ETA: 0s - loss: 77.4854 - mae: 77.4854 - mse: 33596.6719INFO:tensorflow:Assets written to: model_experiments\\model_1_dense\\assets\n",
      "18/18 [==============================] - 1s 36ms/step - loss: 126.4283 - mae: 126.4283 - mse: 93892.7656 - val_loss: 711.7276 - val_mae: 711.7276 - val_mse: 1633720.8750\n",
      "Epoch 20/100\n",
      " 1/18 [>.............................] - ETA: 0s - loss: 135.6302 - mae: 135.6302 - mse: 114401.8984INFO:tensorflow:Assets written to: model_experiments\\model_1_dense\\assets\n",
      "18/18 [==============================] - 1s 37ms/step - loss: 124.6597 - mae: 124.6597 - mse: 91815.2422 - val_loss: 693.2395 - val_mae: 693.2395 - val_mse: 1577111.5000\n",
      "Epoch 21/100\n",
      " 1/18 [>.............................] - ETA: 0s - loss: 133.8395 - mae: 133.8395 - mse: 87683.7344INFO:tensorflow:Assets written to: model_experiments\\model_1_dense\\assets\n",
      "18/18 [==============================] - 1s 36ms/step - loss: 129.3497 - mae: 129.3497 - mse: 92750.7500 - val_loss: 678.7889 - val_mae: 678.7889 - val_mse: 1579049.3750\n",
      "Epoch 22/100\n",
      "18/18 [==============================] - 0s 5ms/step - loss: 126.0010 - mae: 126.0010 - mse: 91911.1797 - val_loss: 690.0074 - val_mae: 690.0074 - val_mse: 1542338.1250\n",
      "Epoch 23/100\n",
      " 1/18 [>.............................] - ETA: 0s - loss: 119.2611 - mae: 119.2611 - mse: 64615.7070INFO:tensorflow:Assets written to: model_experiments\\model_1_dense\\assets\n",
      "18/18 [==============================] - 1s 33ms/step - loss: 126.4492 - mae: 126.4492 - mse: 89361.4062 - val_loss: 658.2186 - val_mae: 658.2186 - val_mse: 1478776.0000\n",
      "Epoch 24/100\n",
      " 1/18 [>.............................] - ETA: 0s - loss: 130.8048 - mae: 130.8048 - mse: 89612.1016INFO:tensorflow:Assets written to: model_experiments\\model_1_dense\\assets\n",
      "18/18 [==============================] - 1s 37ms/step - loss: 122.0938 - mae: 122.0938 - mse: 88970.6250 - val_loss: 651.3613 - val_mae: 651.3613 - val_mse: 1453474.7500\n",
      "Epoch 25/100\n",
      "15/18 [========================>.....] - ETA: 0s - loss: 124.5900 - mae: 124.5900 - mse: 91571.1641INFO:tensorflow:Assets written to: model_experiments\\model_1_dense\\assets\n",
      "18/18 [==============================] - 1s 47ms/step - loss: 119.6406 - mae: 119.6406 - mse: 84700.0391 - val_loss: 648.1543 - val_mae: 648.1543 - val_mse: 1454360.5000\n",
      "Epoch 26/100\n",
      "18/18 [==============================] - 0s 7ms/step - loss: 121.5219 - mae: 121.5219 - mse: 86116.2109 - val_loss: 656.6889 - val_mae: 656.6889 - val_mse: 1437405.7500\n",
      "Epoch 27/100\n",
      "16/18 [=========================>....] - ETA: 0s - loss: 124.3675 - mae: 124.3675 - mse: 84643.8125 INFO:tensorflow:Assets written to: model_experiments\\model_1_dense\\assets\n",
      "18/18 [==============================] - 1s 38ms/step - loss: 123.3542 - mae: 123.3542 - mse: 84206.6562 - val_loss: 642.8066 - val_mae: 642.8066 - val_mse: 1403453.8750\n",
      "Epoch 28/100\n",
      " 1/18 [>.............................] - ETA: 0s - loss: 108.2974 - mae: 108.2974 - mse: 70806.8906INFO:tensorflow:Assets written to: model_experiments\\model_1_dense\\assets\n",
      "18/18 [==============================] - 1s 35ms/step - loss: 117.0179 - mae: 117.0179 - mse: 82247.8672 - val_loss: 631.3107 - val_mae: 631.3107 - val_mse: 1377259.5000\n",
      "Epoch 29/100\n",
      "18/18 [==============================] - 0s 7ms/step - loss: 117.2406 - mae: 117.2406 - mse: 81797.0859 - val_loss: 631.3403 - val_mae: 631.3403 - val_mse: 1367780.6250\n",
      "Epoch 30/100\n",
      " 1/18 [>.............................] - ETA: 0s - loss: 132.9581 - mae: 132.9581 - mse: 102849.8047INFO:tensorflow:Assets written to: model_experiments\\model_1_dense\\assets\n",
      "18/18 [==============================] - 1s 45ms/step - loss: 123.4438 - mae: 123.4438 - mse: 85734.9688 - val_loss: 622.9890 - val_mae: 622.9890 - val_mse: 1348855.0000\n",
      "Epoch 31/100\n",
      "17/18 [===========================>..] - ETA: 0s - loss: 113.7856 - mae: 113.7856 - mse: 77934.0781INFO:tensorflow:Assets written to: model_experiments\\model_1_dense\\assets\n",
      "18/18 [==============================] - 1s 43ms/step - loss: 114.4257 - mae: 114.4257 - mse: 78522.2422 - val_loss: 621.7416 - val_mae: 621.7416 - val_mse: 1339511.0000\n",
      "Epoch 32/100\n",
      "18/18 [==============================] - 0s 4ms/step - loss: 114.2897 - mae: 114.2897 - mse: 80095.6406 - val_loss: 643.3512 - val_mae: 643.3512 - val_mse: 1374639.8750\n",
      "Epoch 33/100\n",
      "18/18 [==============================] - 0s 6ms/step - loss: 116.1830 - mae: 116.1830 - mse: 79073.4375 - val_loss: 683.1938 - val_mae: 683.1938 - val_mse: 1460066.6250\n",
      "Epoch 34/100\n",
      " 1/18 [>.............................] - ETA: 0s - loss: 149.9541 - mae: 149.9541 - mse: 142576.1875INFO:tensorflow:Assets written to: model_experiments\\model_1_dense\\assets\n",
      "18/18 [==============================] - 1s 44ms/step - loss: 115.1347 - mae: 115.1347 - mse: 80384.1094 - val_loss: 610.8054 - val_mae: 610.8054 - val_mse: 1320340.5000\n",
      "Epoch 35/100\n",
      "18/18 [==============================] - 0s 5ms/step - loss: 113.0802 - mae: 113.0802 - mse: 78554.2578 - val_loss: 618.9402 - val_mae: 618.9402 - val_mse: 1344088.0000\n",
      "Epoch 36/100\n",
      " 1/18 [>.............................] - ETA: 0s - loss: 156.0693 - mae: 156.0693 - mse: 154520.2031INFO:tensorflow:Assets written to: model_experiments\\model_1_dense\\assets\n",
      "18/18 [==============================] - 1s 47ms/step - loss: 116.4632 - mae: 116.4632 - mse: 79699.7500 - val_loss: 605.1021 - val_mae: 605.1021 - val_mse: 1301733.1250\n",
      "Epoch 37/100\n",
      "18/18 [==============================] - 0s 7ms/step - loss: 112.8720 - mae: 112.8720 - mse: 78010.3672 - val_loss: 608.8141 - val_mae: 608.8141 - val_mse: 1289508.6250\n",
      "Epoch 38/100\n",
      " 1/18 [>.............................] - ETA: 0s - loss: 101.2473 - mae: 101.2473 - mse: 66917.4062INFO:tensorflow:Assets written to: model_experiments\\model_1_dense\\assets\n",
      "18/18 [==============================] - 1s 30ms/step - loss: 113.0432 - mae: 113.0432 - mse: 77591.1875 - val_loss: 599.7616 - val_mae: 599.7616 - val_mse: 1275049.0000\n",
      "Epoch 39/100\n",
      "18/18 [==============================] - 0s 5ms/step - loss: 115.1890 - mae: 115.1890 - mse: 79693.7422 - val_loss: 618.6951 - val_mae: 618.6951 - val_mse: 1333205.3750\n",
      "Epoch 40/100\n",
      "18/18 [==============================] - 0s 8ms/step - loss: 112.2758 - mae: 112.2758 - mse: 76292.5859 - val_loss: 611.3698 - val_mae: 611.3698 - val_mse: 1311728.7500\n",
      "Epoch 41/100\n",
      "13/18 [====================>.........] - ETA: 0s - loss: 114.8281 - mae: 114.8281 - mse: 81533.8672INFO:tensorflow:Assets written to: model_experiments\\model_1_dense\\assets\n",
      "18/18 [==============================] - 1s 36ms/step - loss: 112.0990 - mae: 112.0990 - mse: 75627.3594 - val_loss: 592.9958 - val_mae: 592.9958 - val_mse: 1263627.8750\n",
      "Epoch 42/100\n",
      "18/18 [==============================] - 0s 5ms/step - loss: 115.4340 - mae: 115.4340 - mse: 79531.4219 - val_loss: 724.9528 - val_mae: 724.9528 - val_mse: 1545654.7500\n",
      "Epoch 43/100\n",
      "18/18 [==============================] - 0s 4ms/step - loss: 126.0006 - mae: 126.0006 - mse: 80698.3438 - val_loss: 758.7384 - val_mae: 758.7384 - val_mse: 1727117.2500\n",
      "Epoch 44/100\n",
      "18/18 [==============================] - 0s 5ms/step - loss: 134.5460 - mae: 134.5460 - mse: 91691.9609 - val_loss: 682.4459 - val_mae: 682.4459 - val_mse: 1488778.6250\n",
      "Epoch 45/100\n",
      "18/18 [==============================] - 0s 6ms/step - loss: 118.9023 - mae: 118.9023 - mse: 81815.2422 - val_loss: 647.0280 - val_mae: 647.0280 - val_mse: 1346223.2500\n",
      "Epoch 46/100\n",
      "18/18 [==============================] - 0s 7ms/step - loss: 115.5524 - mae: 115.5524 - mse: 77474.3906 - val_loss: 594.4019 - val_mae: 594.4019 - val_mse: 1261405.5000\n",
      "Epoch 47/100\n",
      "18/18 [==============================] - 0s 5ms/step - loss: 110.0609 - mae: 110.0609 - mse: 75086.2188 - val_loss: 635.4775 - val_mae: 635.4775 - val_mse: 1316922.7500\n",
      "Epoch 48/100\n",
      "18/18 [==============================] - 0s 6ms/step - loss: 110.2481 - mae: 110.2481 - mse: 74606.5781 - val_loss: 593.3153 - val_mae: 593.3153 - val_mse: 1237074.6250\n",
      "Epoch 49/100\n",
      "18/18 [==============================] - 0s 7ms/step - loss: 111.9684 - mae: 111.9684 - mse: 75820.5234 - val_loss: 681.6638 - val_mae: 681.6638 - val_mse: 1424959.2500\n",
      "Epoch 50/100\n",
      "18/18 [==============================] - 0s 5ms/step - loss: 119.4682 - mae: 119.4682 - mse: 79143.4844 - val_loss: 619.6105 - val_mae: 619.6105 - val_mse: 1311820.8750\n",
      "Epoch 51/100\n",
      "17/18 [===========================>..] - ETA: 0s - loss: 112.5156 - mae: 112.5156 - mse: 75381.7812INFO:tensorflow:Assets written to: model_experiments\\model_1_dense\\assets\n",
      "18/18 [==============================] - 1s 41ms/step - loss: 112.3533 - mae: 112.3533 - mse: 74809.1094 - val_loss: 585.3361 - val_mae: 585.3361 - val_mse: 1223170.5000\n",
      "Epoch 52/100\n",
      "18/18 [==============================] - 0s 7ms/step - loss: 114.3896 - mae: 114.3896 - mse: 76790.0547 - val_loss: 613.5736 - val_mae: 613.5736 - val_mse: 1295697.7500\n",
      "Epoch 53/100\n",
      "18/18 [==============================] - 0s 5ms/step - loss: 111.1176 - mae: 111.1176 - mse: 73797.7656 - val_loss: 602.6026 - val_mae: 602.6026 - val_mse: 1245240.0000\n",
      "Epoch 54/100\n",
      "15/18 [========================>.....] - ETA: 0s - loss: 111.9590 - mae: 111.9590 - mse: 75366.6250INFO:tensorflow:Assets written to: model_experiments\\model_1_dense\\assets\n",
      "18/18 [==============================] - 1s 41ms/step - loss: 110.0993 - mae: 110.0993 - mse: 73656.6562 - val_loss: 585.0884 - val_mae: 585.0884 - val_mse: 1218264.1250\n",
      "Epoch 55/100\n",
      "11/18 [=================>............] - ETA: 0s - loss: 117.3158 - mae: 117.3158 - mse: 85130.7891 INFO:tensorflow:Assets written to: model_experiments\\model_1_dense\\assets\n",
      "18/18 [==============================] - 1s 33ms/step - loss: 109.9439 - mae: 109.9439 - mse: 74449.0391 - val_loss: 580.2725 - val_mae: 580.2725 - val_mse: 1211967.8750\n",
      "Epoch 56/100\n",
      "18/18 [==============================] - 0s 5ms/step - loss: 108.2310 - mae: 108.2310 - mse: 72317.4531 - val_loss: 754.4946 - val_mae: 754.4946 - val_mse: 1686527.8750\n",
      "Epoch 57/100\n",
      " 1/18 [>.............................] - ETA: 0s - loss: 111.8740 - mae: 111.8740 - mse: 43839.3516INFO:tensorflow:Assets written to: model_experiments\\model_1_dense\\assets\n",
      "18/18 [==============================] - 1s 37ms/step - loss: 115.8262 - mae: 115.8262 - mse: 78072.7344 - val_loss: 578.8736 - val_mae: 578.8736 - val_mse: 1208308.0000\n",
      "Epoch 58/100\n",
      "18/18 [==============================] - 0s 5ms/step - loss: 109.2408 - mae: 109.2408 - mse: 72656.8125 - val_loss: 579.7379 - val_mae: 579.7379 - val_mse: 1215181.5000\n",
      "Epoch 59/100\n",
      "18/18 [==============================] - 0s 5ms/step - loss: 108.5728 - mae: 108.5728 - mse: 72650.8438 - val_loss: 609.3967 - val_mae: 609.3967 - val_mse: 1278008.8750\n",
      "Epoch 60/100\n",
      "18/18 [==============================] - 0s 4ms/step - loss: 110.5891 - mae: 110.5891 - mse: 74308.9297 - val_loss: 582.6183 - val_mae: 582.6183 - val_mse: 1207458.1250\n",
      "Epoch 61/100\n",
      "18/18 [==============================] - 0s 4ms/step - loss: 109.0205 - mae: 109.0205 - mse: 72407.8438 - val_loss: 588.2476 - val_mae: 588.2476 - val_mse: 1213173.8750\n",
      "Epoch 62/100\n",
      " 1/18 [>.............................] - ETA: 0s - loss: 70.6718 - mae: 70.6718 - mse: 34418.2969INFO:tensorflow:Assets written to: model_experiments\\model_1_dense\\assets\n",
      "18/18 [==============================] - 1s 35ms/step - loss: 109.1014 - mae: 109.1014 - mse: 72313.1172 - val_loss: 576.0332 - val_mae: 576.0332 - val_mse: 1199500.0000\n",
      "Epoch 63/100\n",
      "18/18 [==============================] - 0s 6ms/step - loss: 107.9281 - mae: 107.9281 - mse: 71696.1953 - val_loss: 592.8481 - val_mae: 592.8481 - val_mse: 1218689.6250\n",
      "Epoch 64/100\n",
      "18/18 [==============================] - 0s 7ms/step - loss: 108.6774 - mae: 108.6774 - mse: 72055.6797 - val_loss: 636.7291 - val_mae: 636.7291 - val_mse: 1310943.1250\n",
      "Epoch 65/100\n",
      "18/18 [==============================] - 0s 6ms/step - loss: 111.0543 - mae: 111.0543 - mse: 74363.0859 - val_loss: 584.5499 - val_mae: 584.5499 - val_mse: 1205032.3750\n",
      "Epoch 66/100\n",
      "18/18 [==============================] - 0s 7ms/step - loss: 107.2521 - mae: 107.2521 - mse: 71122.1016 - val_loss: 576.3874 - val_mae: 576.3874 - val_mse: 1192900.0000\n",
      "Epoch 67/100\n",
      "18/18 [==============================] - 0s 8ms/step - loss: 107.3948 - mae: 107.3948 - mse: 71056.6641 - val_loss: 609.9366 - val_mae: 609.9366 - val_mse: 1270733.1250\n",
      "Epoch 68/100\n",
      "14/18 [======================>.......] - ETA: 0s - loss: 109.7364 - mae: 109.7364 - mse: 66047.1641INFO:tensorflow:Assets written to: model_experiments\\model_1_dense\\assets\n",
      "18/18 [==============================] - 1s 34ms/step - loss: 110.7070 - mae: 110.7070 - mse: 71150.4609 - val_loss: 574.8881 - val_mae: 574.8881 - val_mse: 1195038.3750\n",
      "Epoch 69/100\n",
      "18/18 [==============================] - 0s 4ms/step - loss: 114.7471 - mae: 114.7471 - mse: 73116.0000 - val_loss: 722.9830 - val_mae: 722.9830 - val_mse: 1524838.6250\n",
      "Epoch 70/100\n",
      "18/18 [==============================] - 0s 4ms/step - loss: 120.4656 - mae: 120.4656 - mse: 76832.3359 - val_loss: 652.2687 - val_mae: 652.2687 - val_mse: 1369961.0000\n",
      "Epoch 71/100\n",
      " 1/18 [>.............................] - ETA: 0s - loss: 93.7860 - mae: 93.7860 - mse: 52033.0391INFO:tensorflow:Assets written to: model_experiments\\model_1_dense\\assets\n",
      "18/18 [==============================] - 1s 30ms/step - loss: 108.8916 - mae: 108.8916 - mse: 71450.8047 - val_loss: 572.4572 - val_mae: 572.4572 - val_mse: 1186164.3750\n",
      "Epoch 72/100\n",
      "18/18 [==============================] - 0s 4ms/step - loss: 111.2243 - mae: 111.2243 - mse: 73009.1953 - val_loss: 573.6010 - val_mae: 573.6010 - val_mse: 1188774.5000\n",
      "Epoch 73/100\n",
      "18/18 [==============================] - 0s 6ms/step - loss: 113.4703 - mae: 113.4703 - mse: 73600.8516 - val_loss: 572.7628 - val_mae: 572.7628 - val_mse: 1182423.2500\n",
      "Epoch 74/100\n",
      "18/18 [==============================] - 0s 7ms/step - loss: 112.2182 - mae: 112.2182 - mse: 74252.5156 - val_loss: 578.6760 - val_mae: 578.6760 - val_mse: 1199551.7500\n",
      "Epoch 75/100\n",
      "18/18 [==============================] - 0s 7ms/step - loss: 111.0523 - mae: 111.0523 - mse: 72275.5391 - val_loss: 574.8431 - val_mae: 574.8431 - val_mse: 1181551.3750\n",
      "Epoch 76/100\n",
      " 1/18 [>.............................] - ETA: 0s - loss: 73.0362 - mae: 73.0362 - mse: 21505.5977INFO:tensorflow:Assets written to: model_experiments\\model_1_dense\\assets\n",
      "18/18 [==============================] - 1s 34ms/step - loss: 110.5937 - mae: 110.5937 - mse: 73227.3125 - val_loss: 569.7131 - val_mae: 569.7131 - val_mse: 1176352.3750\n",
      "Epoch 77/100\n",
      "18/18 [==============================] - 0s 4ms/step - loss: 109.5253 - mae: 109.5253 - mse: 72089.3594 - val_loss: 570.6015 - val_mae: 570.6015 - val_mse: 1178141.1250\n",
      "Epoch 78/100\n",
      "18/18 [==============================] - 0s 5ms/step - loss: 111.5269 - mae: 111.5269 - mse: 71205.3516 - val_loss: 591.9533 - val_mae: 591.9533 - val_mse: 1225440.8750\n",
      "Epoch 79/100\n",
      " 1/18 [>.............................] - ETA: 0s - loss: 109.6545 - mae: 109.6545 - mse: 54606.9102INFO:tensorflow:Assets written to: model_experiments\\model_1_dense\\assets\n",
      "18/18 [==============================] - 1s 31ms/step - loss: 111.2928 - mae: 111.2928 - mse: 75092.0469 - val_loss: 569.2858 - val_mae: 569.2858 - val_mse: 1174863.3750\n",
      "Epoch 80/100\n",
      "18/18 [==============================] - 0s 5ms/step - loss: 107.9376 - mae: 107.9376 - mse: 71854.6250 - val_loss: 579.3526 - val_mae: 579.3526 - val_mse: 1186054.6250\n",
      "Epoch 81/100\n",
      "18/18 [==============================] - 0s 5ms/step - loss: 107.8717 - mae: 107.8717 - mse: 70991.7031 - val_loss: 622.8002 - val_mae: 622.8002 - val_mse: 1272938.8750\n",
      "Epoch 82/100\n",
      "18/18 [==============================] - 0s 7ms/step - loss: 119.2906 - mae: 119.2906 - mse: 79556.3203 - val_loss: 592.5671 - val_mae: 592.5671 - val_mse: 1208201.5000\n",
      "Epoch 83/100\n",
      "18/18 [==============================] - 0s 4ms/step - loss: 118.7353 - mae: 118.7353 - mse: 78310.3359 - val_loss: 661.3339 - val_mae: 661.3339 - val_mse: 1384006.7500\n",
      "Epoch 84/100\n",
      "18/18 [==============================] - 0s 5ms/step - loss: 114.8679 - mae: 114.8679 - mse: 74500.9375 - val_loss: 591.3980 - val_mae: 591.3980 - val_mse: 1221538.7500\n",
      "Epoch 85/100\n",
      "18/18 [==============================] - 0s 5ms/step - loss: 108.7247 - mae: 108.7247 - mse: 71712.9375 - val_loss: 569.6032 - val_mae: 569.6032 - val_mse: 1171340.6250\n",
      "Epoch 86/100\n",
      "18/18 [==============================] - 0s 5ms/step - loss: 107.0901 - mae: 107.0901 - mse: 69895.7656 - val_loss: 572.6689 - val_mae: 572.6689 - val_mse: 1173787.7500\n",
      "Epoch 87/100\n",
      "18/18 [==============================] - 0s 4ms/step - loss: 107.3421 - mae: 107.3421 - mse: 69384.2344 - val_loss: 614.4860 - val_mae: 614.4860 - val_mse: 1267374.2500\n",
      "Epoch 88/100\n",
      "18/18 [==============================] - 0s 5ms/step - loss: 109.5388 - mae: 109.5388 - mse: 72804.8984 - val_loss: 590.7610 - val_mae: 590.7610 - val_mse: 1219411.1250\n",
      "Epoch 89/100\n",
      "14/18 [======================>.......] - ETA: 0s - loss: 101.7606 - mae: 101.7606 - mse: 65057.4453INFO:tensorflow:Assets written to: model_experiments\\model_1_dense\\assets\n",
      "18/18 [==============================] - 1s 36ms/step - loss: 107.2920 - mae: 107.2920 - mse: 70224.7891 - val_loss: 568.9977 - val_mae: 568.9977 - val_mse: 1167039.1250\n",
      "Epoch 90/100\n",
      "18/18 [==============================] - 0s 5ms/step - loss: 105.7526 - mae: 105.7526 - mse: 67723.1016 - val_loss: 570.8177 - val_mae: 570.8177 - val_mse: 1169007.8750\n",
      "Epoch 91/100\n",
      "18/18 [==============================] - 0s 5ms/step - loss: 109.9875 - mae: 109.9875 - mse: 71997.2266 - val_loss: 573.8540 - val_mae: 573.8540 - val_mse: 1172257.1250\n",
      "Epoch 92/100\n",
      "18/18 [==============================] - 0s 5ms/step - loss: 113.1630 - mae: 113.1630 - mse: 74002.5156 - val_loss: 673.3807 - val_mae: 673.3807 - val_mse: 1411429.1250\n",
      "Epoch 93/100\n",
      "18/18 [==============================] - 0s 6ms/step - loss: 124.9789 - mae: 124.9789 - mse: 80348.8281 - val_loss: 654.7544 - val_mae: 654.7544 - val_mse: 1364678.7500\n",
      "Epoch 94/100\n",
      "18/18 [==============================] - 0s 5ms/step - loss: 113.8072 - mae: 113.8072 - mse: 75069.4141 - val_loss: 619.1445 - val_mae: 619.1445 - val_mse: 1261845.5000\n",
      "Epoch 95/100\n",
      "18/18 [==============================] - 0s 8ms/step - loss: 107.0723 - mae: 107.0723 - mse: 68700.6641 - val_loss: 585.1029 - val_mae: 585.1029 - val_mse: 1204928.5000\n",
      "Epoch 96/100\n",
      "18/18 [==============================] - 0s 9ms/step - loss: 106.8317 - mae: 106.8317 - mse: 69786.5156 - val_loss: 577.0475 - val_mae: 577.0475 - val_mse: 1188314.5000\n",
      "Epoch 97/100\n",
      "18/18 [==============================] - 0s 9ms/step - loss: 105.7482 - mae: 105.7482 - mse: 69881.1250 - val_loss: 585.8541 - val_mae: 585.8541 - val_mse: 1194203.3750\n",
      "Epoch 98/100\n",
      "18/18 [==============================] - 0s 7ms/step - loss: 106.8715 - mae: 106.8715 - mse: 71053.8828 - val_loss: 570.1504 - val_mae: 570.1504 - val_mse: 1169157.1250\n",
      "Epoch 99/100\n",
      "18/18 [==============================] - 0s 7ms/step - loss: 110.9110 - mae: 110.9110 - mse: 72673.4141 - val_loss: 581.3826 - val_mae: 581.3826 - val_mse: 1195519.7500\n",
      "Epoch 100/100\n",
      "18/18 [==============================] - 0s 6ms/step - loss: 118.2289 - mae: 118.2289 - mse: 73247.7109 - val_loss: 674.4604 - val_mae: 674.4604 - val_mse: 1389632.8750\n"
     ]
    }
   ],
   "source": [
    "# Loading libraries\n",
    "import tensorflow as tf\n",
    "from tensorflow.keras import layers\n",
    "\n",
    "# Setting random seed\n",
    "tf.random.set_seed(42)\n",
    "\n",
    "# Constructing a model\n",
    "model_1 = tf.keras.Sequential([\n",
    "    layers.Dense(128, activation=\"relu\"),\n",
    "    layers.Dense(HORIZON, activation=\"linear\")\n",
    "], name=\"model_1_dense\")\n",
    "\n",
    "# Compiling the model\n",
    "model_1.compile(\n",
    "    loss=\"mae\",\n",
    "    optimizer=tf.keras.optimizers.Adam(),\n",
    "    metrics=[\"mae\", \"mse\"]\n",
    ")\n",
    "\n",
    "# Fitting the model\n",
    "history_1 = model_1.fit(\n",
    "    x=train_windows,\n",
    "    y=train_labels,\n",
    "    epochs=100,\n",
    "    verbose=1,\n",
    "    batch_size=128,\n",
    "    validation_data=(test_windows, test_labels),\n",
    "    callbacks=[create_model_checkpoint(model_name=model_1.name)]\n",
    ")"
   ]
  },
  {
   "cell_type": "code",
   "execution_count": 37,
   "metadata": {},
   "outputs": [
    {
     "name": "stdout",
     "output_type": "stream",
     "text": [
      "18/18 [==============================] - 0s 2ms/step - loss: 674.4604 - mae: 674.4604 - mse: 1389632.8750\n"
     ]
    },
    {
     "data": {
      "text/plain": [
       "[674.46044921875, 674.46044921875, 1389632.875]"
      ]
     },
     "execution_count": 37,
     "metadata": {},
     "output_type": "execute_result"
    }
   ],
   "source": [
    "# Evaluating the model on test data\n",
    "model_1.evaluate(test_windows, test_labels)"
   ]
  },
  {
   "cell_type": "code",
   "execution_count": 38,
   "metadata": {},
   "outputs": [
    {
     "name": "stdout",
     "output_type": "stream",
     "text": [
      "18/18 [==============================] - 0s 2ms/step - loss: 568.9977 - mae: 568.9977 - mse: 1167039.1250\n"
     ]
    },
    {
     "data": {
      "text/plain": [
       "[568.9977416992188, 568.9977416992188, 1167039.125]"
      ]
     },
     "execution_count": 38,
     "metadata": {},
     "output_type": "execute_result"
    }
   ],
   "source": [
    "# Loading the best performing model_1 run and evaluating on test data\n",
    "model_1_best = tf.keras.models.load_model(\"model_experiments/model_1_dense/\")\n",
    "model_1_best.evaluate(test_windows, test_labels)"
   ]
  },
  {
   "cell_type": "code",
   "execution_count": 39,
   "metadata": {},
   "outputs": [],
   "source": [
    "# Creating function to make predictions\n",
    "def make_preds(model, input_data):\n",
    "    forecast = model.predict(input_data)\n",
    "    return tf.squeeze(forecast) # 1D array of predictions"
   ]
  },
  {
   "cell_type": "code",
   "execution_count": 40,
   "metadata": {},
   "outputs": [
    {
     "name": "stdout",
     "output_type": "stream",
     "text": [
      "18/18 [==============================] - 0s 1ms/step\n"
     ]
    },
    {
     "data": {
      "text/plain": [
       "(556,\n",
       " <tf.Tensor: shape=(10,), dtype=float32, numpy=\n",
       " array([8691.698, 8598.251, 8871.215, 8639.316, 8570.526, 8578.572,\n",
       "        8545.68 , 8339.336, 8312.879, 8370.383], dtype=float32)>)"
      ]
     },
     "execution_count": 40,
     "metadata": {},
     "output_type": "execute_result"
    }
   ],
   "source": [
    "# Making predictions with the model 1\n",
    "model_1_preds = make_preds(model_1, test_windows)\n",
    "len(model_1_preds), model_1_preds[:10]"
   ]
  },
  {
   "cell_type": "code",
   "execution_count": 41,
   "metadata": {},
   "outputs": [
    {
     "data": {
      "text/plain": [
       "{'mae': 674.4605,\n",
       " 'mse': 1389633.1,\n",
       " 'rmse': 1178.827,\n",
       " 'mape': 3.1026707,\n",
       " 'mase': 1.1848403}"
      ]
     },
     "execution_count": 41,
     "metadata": {},
     "output_type": "execute_result"
    }
   ],
   "source": [
    "# Evaluting model 1 predictions\n",
    "model_1_results = evaluate_preds(\n",
    "    y_true=tf.squeeze(test_labels),\n",
    "    y_pred=model_1_preds\n",
    ")\n",
    "model_1_results"
   ]
  },
  {
   "cell_type": "code",
   "execution_count": 42,
   "metadata": {},
   "outputs": [
    {
     "data": {
      "image/png": "[encoded data removed]",
      "text/plain": [
       "<Figure size 720x504 with 1 Axes>"
      ]
     },
     "metadata": {
      "needs_background": "light"
     },
     "output_type": "display_data"
    }
   ],
   "source": [
    "# Plotting model results\n",
    "offset = 300\n",
    "plt.figure(figsize=(10, 7))\n",
    "\n",
    "plot_time_series(\n",
    "    timestamps=X_test[-len(test_windows):],\n",
    "    values=test_labels[:, ],\n",
    "    start=offset,\n",
    "    label=\"Test Data\"\n",
    ")\n",
    "\n",
    "plot_time_series(\n",
    "    timestamps=X_test[-len(test_windows):],\n",
    "    values=model_1_preds,\n",
    "    start=offset,\n",
    "    label=\"Model 1 Preds\"\n",
    ")"
   ]
  },
  {
   "attachments": {},
   "cell_type": "markdown",
   "metadata": {},
   "source": [
    "### Model 2 - Dense model (window = 30, horizon = 1)"
   ]
  },
  {
   "cell_type": "code",
   "execution_count": 43,
   "metadata": {},
   "outputs": [],
   "source": [
    "# Hyperparameters\n",
    "HORIZON = 1\n",
    "WINDOW_SIZE = 30"
   ]
  },
  {
   "cell_type": "code",
   "execution_count": 44,
   "metadata": {},
   "outputs": [
    {
     "data": {
      "text/plain": [
       "(2757, 2757)"
      ]
     },
     "execution_count": 44,
     "metadata": {},
     "output_type": "execute_result"
    }
   ],
   "source": [
    "# Making windows data\n",
    "full_windows, full_labels = make_windows(\n",
    "    prices,\n",
    "    window_size=WINDOW_SIZE,\n",
    "    horizon=HORIZON\n",
    ")\n",
    "len(full_windows), len(full_labels)"
   ]
  },
  {
   "cell_type": "code",
   "execution_count": 45,
   "metadata": {},
   "outputs": [
    {
     "data": {
      "text/plain": [
       "(2205, 552, 2205, 552)"
      ]
     },
     "execution_count": 45,
     "metadata": {},
     "output_type": "execute_result"
    }
   ],
   "source": [
    "# Making train and test windows\n",
    "train_windows, test_windows, train_labels, test_labels = make_train_test_splits(\n",
    "    windows=full_windows,\n",
    "    labels=full_labels,\n",
    "    test_split=0.2\n",
    ")\n",
    "len(train_windows), len(test_windows), len(train_labels), len(test_labels)"
   ]
  },
  {
   "cell_type": "code",
   "execution_count": 46,
   "metadata": {},
   "outputs": [
    {
     "data": {
      "text/plain": [
       "array([[123.65499, 125.455  , 108.58483, 118.67466, 121.33866, 120.65533,\n",
       "        121.795  , 123.033  , 124.049  , 125.96116, 125.27966, 125.9275 ,\n",
       "        126.38333, 135.24199, 133.20333, 142.76333, 137.92333, 142.95166,\n",
       "        152.55183, 160.33883, 164.31499, 177.63333, 188.29716, 200.70166,\n",
       "        180.355  , 175.03166, 177.6965 , 187.15983, 192.75666, 197.4    ],\n",
       "       [125.455  , 108.58483, 118.67466, 121.33866, 120.65533, 121.795  ,\n",
       "        123.033  , 124.049  , 125.96116, 125.27966, 125.9275 , 126.38333,\n",
       "        135.24199, 133.20333, 142.76333, 137.92333, 142.95166, 152.55183,\n",
       "        160.33883, 164.31499, 177.63333, 188.29716, 200.70166, 180.355  ,\n",
       "        175.03166, 177.6965 , 187.15983, 192.75666, 197.4    , 196.02499],\n",
       "       [108.58483, 118.67466, 121.33866, 120.65533, 121.795  , 123.033  ,\n",
       "        124.049  , 125.96116, 125.27966, 125.9275 , 126.38333, 135.24199,\n",
       "        133.20333, 142.76333, 137.92333, 142.95166, 152.55183, 160.33883,\n",
       "        164.31499, 177.63333, 188.29716, 200.70166, 180.355  , 175.03166,\n",
       "        177.6965 , 187.15983, 192.75666, 197.4    , 196.02499, 198.04883]])"
      ]
     },
     "execution_count": 46,
     "metadata": {},
     "output_type": "execute_result"
    }
   ],
   "source": [
    "# Checking first 3 train windows\n",
    "train_windows[:3]"
   ]
  },
  {
   "cell_type": "code",
   "execution_count": 47,
   "metadata": {},
   "outputs": [
    {
     "name": "stdout",
     "output_type": "stream",
     "text": [
      "INFO:tensorflow:Assets written to: model_experiments\\model_2_dense\\assets\n",
      "INFO:tensorflow:Assets written to: model_experiments\\model_2_dense\\assets\n",
      "INFO:tensorflow:Assets written to: model_experiments\\model_2_dense\\assets\n",
      "INFO:tensorflow:Assets written to: model_experiments\\model_2_dense\\assets\n",
      "INFO:tensorflow:Assets written to: model_experiments\\model_2_dense\\assets\n",
      "INFO:tensorflow:Assets written to: model_experiments\\model_2_dense\\assets\n",
      "INFO:tensorflow:Assets written to: model_experiments\\model_2_dense\\assets\n",
      "INFO:tensorflow:Assets written to: model_experiments\\model_2_dense\\assets\n",
      "INFO:tensorflow:Assets written to: model_experiments\\model_2_dense\\assets\n",
      "INFO:tensorflow:Assets written to: model_experiments\\model_2_dense\\assets\n",
      "INFO:tensorflow:Assets written to: model_experiments\\model_2_dense\\assets\n",
      "INFO:tensorflow:Assets written to: model_experiments\\model_2_dense\\assets\n",
      "INFO:tensorflow:Assets written to: model_experiments\\model_2_dense\\assets\n",
      "INFO:tensorflow:Assets written to: model_experiments\\model_2_dense\\assets\n",
      "INFO:tensorflow:Assets written to: model_experiments\\model_2_dense\\assets\n",
      "INFO:tensorflow:Assets written to: model_experiments\\model_2_dense\\assets\n",
      "INFO:tensorflow:Assets written to: model_experiments\\model_2_dense\\assets\n",
      "INFO:tensorflow:Assets written to: model_experiments\\model_2_dense\\assets\n",
      "INFO:tensorflow:Assets written to: model_experiments\\model_2_dense\\assets\n",
      "INFO:tensorflow:Assets written to: model_experiments\\model_2_dense\\assets\n",
      "INFO:tensorflow:Assets written to: model_experiments\\model_2_dense\\assets\n",
      "INFO:tensorflow:Assets written to: model_experiments\\model_2_dense\\assets\n",
      "INFO:tensorflow:Assets written to: model_experiments\\model_2_dense\\assets\n",
      "INFO:tensorflow:Assets written to: model_experiments\\model_2_dense\\assets\n",
      "INFO:tensorflow:Assets written to: model_experiments\\model_2_dense\\assets\n",
      "INFO:tensorflow:Assets written to: model_experiments\\model_2_dense\\assets\n",
      "INFO:tensorflow:Assets written to: model_experiments\\model_2_dense\\assets\n",
      "INFO:tensorflow:Assets written to: model_experiments\\model_2_dense\\assets\n",
      "INFO:tensorflow:Assets written to: model_experiments\\model_2_dense\\assets\n",
      "INFO:tensorflow:Assets written to: model_experiments\\model_2_dense\\assets\n",
      "INFO:tensorflow:Assets written to: model_experiments\\model_2_dense\\assets\n"
     ]
    }
   ],
   "source": [
    "# Creating a model\n",
    "model_2 = tf.keras.Sequential([\n",
    "    layers.Dense(128, activation=\"relu\"),\n",
    "    layers.Dense(HORIZON)\n",
    "], name=\"model_2_dense\")\n",
    "\n",
    "# Compiling the model\n",
    "model_2.compile(\n",
    "    loss=\"mae\",\n",
    "    optimizer=tf.keras.optimizers.Adam(),\n",
    "    metrics=[\"mae\"]\n",
    ")\n",
    "\n",
    "# Fitting the model\n",
    "history_2 = model_2.fit(\n",
    "    train_windows,\n",
    "    train_labels,\n",
    "    epochs=100,\n",
    "    batch_size=128,\n",
    "    verbose=0,\n",
    "    validation_data=(test_windows, test_labels),\n",
    "    callbacks=[create_model_checkpoint(model_name=model_2.name)]\n",
    ")"
   ]
  },
  {
   "cell_type": "code",
   "execution_count": 48,
   "metadata": {},
   "outputs": [
    {
     "name": "stdout",
     "output_type": "stream",
     "text": [
      "18/18 [==============================] - 0s 2ms/step - loss: 621.9509 - mae: 621.9509\n"
     ]
    },
    {
     "data": {
      "text/plain": [
       "[621.9508666992188, 621.9508666992188]"
      ]
     },
     "execution_count": 48,
     "metadata": {},
     "output_type": "execute_result"
    }
   ],
   "source": [
    "# Evaluating model 2\n",
    "model_2.evaluate(test_windows, test_labels)"
   ]
  },
  {
   "cell_type": "code",
   "execution_count": 49,
   "metadata": {},
   "outputs": [
    {
     "name": "stdout",
     "output_type": "stream",
     "text": [
      "18/18 [==============================] - 0s 2ms/step - loss: 621.9509 - mae: 621.9509\n"
     ]
    },
    {
     "data": {
      "text/plain": [
       "[621.9508666992188, 621.9508666992188]"
      ]
     },
     "execution_count": 49,
     "metadata": {},
     "output_type": "execute_result"
    }
   ],
   "source": [
    "# Loading the best model 2\n",
    "model_2_best = tf.keras.models.load_model(\"model_experiments/model_2_dense/\")\n",
    "model_2_best.evaluate(test_windows, test_labels)"
   ]
  },
  {
   "cell_type": "code",
   "execution_count": 50,
   "metadata": {},
   "outputs": [
    {
     "name": "stdout",
     "output_type": "stream",
     "text": [
      "18/18 [==============================] - 0s 2ms/step\n"
     ]
    }
   ],
   "source": [
    "# getting model 2 predictions\n",
    "model_2_preds = make_preds(\n",
    "    model_2,\n",
    "    input_data=test_windows\n",
    ")"
   ]
  },
  {
   "cell_type": "code",
   "execution_count": 51,
   "metadata": {},
   "outputs": [
    {
     "data": {
      "text/plain": [
       "{'mae': 621.9508,\n",
       " 'mse': 1324511.8,\n",
       " 'rmse': 1150.8744,\n",
       " 'mape': 2.7758489,\n",
       " 'mase': 1.0871761}"
      ]
     },
     "execution_count": 51,
     "metadata": {},
     "output_type": "execute_result"
    }
   ],
   "source": [
    "# Evaluating results\n",
    "model_2_results = evaluate_preds(\n",
    "    y_true=tf.squeeze(test_labels),\n",
    "    y_pred=model_2_preds\n",
    ")\n",
    "model_2_results"
   ]
  },
  {
   "cell_type": "code",
   "execution_count": 52,
   "metadata": {},
   "outputs": [
    {
     "data": {
      "image/png": "[encoded data removed]",
      "text/plain": [
       "<Figure size 720x504 with 1 Axes>"
      ]
     },
     "metadata": {
      "needs_background": "light"
     },
     "output_type": "display_data"
    }
   ],
   "source": [
    "# Visualising model 2 results\n",
    "offset = 300\n",
    "plt.figure(figsize=(10, 7))\n",
    "\n",
    "plot_time_series(\n",
    "    timestamps=X_test[-len(test_windows):],\n",
    "    values=test_labels[:, 0],\n",
    "    start=offset,\n",
    "    label=\"Test Data\"\n",
    ")\n",
    "\n",
    "plot_time_series(\n",
    "    timestamps=X_test[-len(test_windows):],\n",
    "    values=model_2_preds,\n",
    "    start=offset,\n",
    "    label=\"Model 2 Preds\"\n",
    ")"
   ]
  },
  {
   "attachments": {},
   "cell_type": "markdown",
   "metadata": {},
   "source": [
    "### Model 3 - Dense model (window = 30, horizon = 7)"
   ]
  },
  {
   "cell_type": "code",
   "execution_count": 53,
   "metadata": {},
   "outputs": [],
   "source": [
    "# Hyperparameters\n",
    "HORIZON = 7\n",
    "WINDOW_SIZE = 30"
   ]
  },
  {
   "cell_type": "code",
   "execution_count": 54,
   "metadata": {},
   "outputs": [
    {
     "data": {
      "text/plain": [
       "(2751, 2751)"
      ]
     },
     "execution_count": 54,
     "metadata": {},
     "output_type": "execute_result"
    }
   ],
   "source": [
    "# Making windows data\n",
    "full_windows, full_labels = make_windows(\n",
    "    prices,\n",
    "    window_size=WINDOW_SIZE,\n",
    "    horizon=HORIZON\n",
    ")\n",
    "len(full_windows), len(full_labels)"
   ]
  },
  {
   "cell_type": "code",
   "execution_count": 55,
   "metadata": {},
   "outputs": [
    {
     "data": {
      "text/plain": [
       "(2200, 551, 2200, 551)"
      ]
     },
     "execution_count": 55,
     "metadata": {},
     "output_type": "execute_result"
    }
   ],
   "source": [
    "# Making train and test windows\n",
    "train_windows, test_windows, train_labels, test_labels = make_train_test_splits(\n",
    "    windows=full_windows,\n",
    "    labels=full_labels,\n",
    "    test_split=0.2\n",
    ")\n",
    "len(train_windows), len(test_windows), len(train_labels), len(test_labels)"
   ]
  },
  {
   "cell_type": "code",
   "execution_count": 56,
   "metadata": {},
   "outputs": [
    {
     "name": "stdout",
     "output_type": "stream",
     "text": [
      "INFO:tensorflow:Assets written to: model_experiments\\model_3_dense\\assets\n",
      "INFO:tensorflow:Assets written to: model_experiments\\model_3_dense\\assets\n",
      "INFO:tensorflow:Assets written to: model_experiments\\model_3_dense\\assets\n",
      "INFO:tensorflow:Assets written to: model_experiments\\model_3_dense\\assets\n",
      "INFO:tensorflow:Assets written to: model_experiments\\model_3_dense\\assets\n",
      "INFO:tensorflow:Assets written to: model_experiments\\model_3_dense\\assets\n",
      "INFO:tensorflow:Assets written to: model_experiments\\model_3_dense\\assets\n",
      "INFO:tensorflow:Assets written to: model_experiments\\model_3_dense\\assets\n",
      "INFO:tensorflow:Assets written to: model_experiments\\model_3_dense\\assets\n",
      "INFO:tensorflow:Assets written to: model_experiments\\model_3_dense\\assets\n",
      "INFO:tensorflow:Assets written to: model_experiments\\model_3_dense\\assets\n",
      "INFO:tensorflow:Assets written to: model_experiments\\model_3_dense\\assets\n",
      "INFO:tensorflow:Assets written to: model_experiments\\model_3_dense\\assets\n",
      "INFO:tensorflow:Assets written to: model_experiments\\model_3_dense\\assets\n",
      "INFO:tensorflow:Assets written to: model_experiments\\model_3_dense\\assets\n",
      "INFO:tensorflow:Assets written to: model_experiments\\model_3_dense\\assets\n",
      "INFO:tensorflow:Assets written to: model_experiments\\model_3_dense\\assets\n",
      "INFO:tensorflow:Assets written to: model_experiments\\model_3_dense\\assets\n",
      "INFO:tensorflow:Assets written to: model_experiments\\model_3_dense\\assets\n",
      "INFO:tensorflow:Assets written to: model_experiments\\model_3_dense\\assets\n",
      "INFO:tensorflow:Assets written to: model_experiments\\model_3_dense\\assets\n",
      "INFO:tensorflow:Assets written to: model_experiments\\model_3_dense\\assets\n"
     ]
    }
   ],
   "source": [
    "# Creating a model\n",
    "model_3 = tf.keras.Sequential([\n",
    "    layers.Dense(128, activation=\"relu\"),\n",
    "    layers.Dense(HORIZON)\n",
    "], name=\"model_3_dense\")\n",
    "\n",
    "# Compiling the model\n",
    "model_3.compile(\n",
    "    loss=\"mae\",\n",
    "    optimizer=tf.keras.optimizers.Adam(),\n",
    "    metrics=[\"mae\"]\n",
    ")\n",
    "\n",
    "# Fitting the model\n",
    "history_3 = model_3.fit(\n",
    "    train_windows,\n",
    "    train_labels,\n",
    "    epochs=100,\n",
    "    batch_size=128,\n",
    "    verbose=0,\n",
    "    validation_data=(test_windows, test_labels),\n",
    "    callbacks=[create_model_checkpoint(model_name=model_3.name)]\n",
    ")"
   ]
  },
  {
   "cell_type": "code",
   "execution_count": 57,
   "metadata": {},
   "outputs": [
    {
     "name": "stdout",
     "output_type": "stream",
     "text": [
      "18/18 [==============================] - 0s 2ms/step - loss: 1390.6113 - mae: 1390.6113\n"
     ]
    },
    {
     "data": {
      "text/plain": [
       "[1390.611328125, 1390.611328125]"
      ]
     },
     "execution_count": 57,
     "metadata": {},
     "output_type": "execute_result"
    }
   ],
   "source": [
    "# Evaluating model 3\n",
    "model_3.evaluate(test_windows, test_labels)"
   ]
  },
  {
   "cell_type": "code",
   "execution_count": 58,
   "metadata": {},
   "outputs": [
    {
     "name": "stdout",
     "output_type": "stream",
     "text": [
      "18/18 [==============================] - 0s 2ms/step\n"
     ]
    },
    {
     "data": {
      "text/plain": [
       "<tf.Tensor: shape=(3, 7), dtype=float32, numpy=\n",
       "array([[9312.537, 9268.39 , 9380.624, 8943.677, 9010.117, 9069.338,\n",
       "        9130.953],\n",
       "       [8915.75 , 8828.667, 8926.609, 8687.788, 8631.364, 8939.183,\n",
       "        8772.728],\n",
       "       [8770.15 , 8663.169, 8734.705, 8735.183, 8673.245, 8847.873,\n",
       "        8658.45 ]], dtype=float32)>"
      ]
     },
     "execution_count": 58,
     "metadata": {},
     "output_type": "execute_result"
    }
   ],
   "source": [
    "# Making predictions with model 3\n",
    "model_3_preds = make_preds(\n",
    "    model_3,\n",
    "    input_data=test_windows\n",
    ")\n",
    "model_3_preds[:3]"
   ]
  },
  {
   "cell_type": "code",
   "execution_count": 59,
   "metadata": {},
   "outputs": [
    {
     "data": {
      "text/plain": [
       "{'mae': array([ 366.16156 ,  190.12277 ,  136.0886  ,  244.51004 ,  173.63895 ,\n",
       "         190.57707 ,  310.02832 ,  295.76443 ,  297.08572 ,  316.0568  ,\n",
       "         488.76996 ,  512.53955 ,  587.0137  ,  580.49225 ,  310.6403  ,\n",
       "         226.93185 ,  358.14258 ,  458.63715 ,  422.09988 ,  529.72986 ,\n",
       "         212.05873 ,  196.73305 ,  103.261024,  145.0842  ,  215.50223 ,\n",
       "         295.78754 ,  317.5611  ,  449.3208  ,  390.99023 ,  203.82484 ,\n",
       "         159.22697 ,   68.712265,  107.29423 ,  123.150185,  216.04367 ,\n",
       "         225.0131  ,  195.5143  ,  257.23737 ,  316.59695 ,  423.35812 ,\n",
       "         729.25604 ,  257.5062  ,  212.62703 ,  286.20822 ,  170.64182 ,\n",
       "         153.9384  ,  203.08629 ,  238.72252 ,  226.5577  ,  166.22664 ,\n",
       "         201.09703 ,  183.01416 ,  146.9573  ,  279.4158  ,  399.78885 ,\n",
       "         551.1188  ,  778.49524 ,  756.578   ,  705.16254 ,  825.3128  ,\n",
       "         588.35785 ,  351.75217 ,  419.7583  ,  669.2245  ,  590.55084 ,\n",
       "         584.0121  ,  727.4819  ,  793.7648  ,  343.0565  ,  125.1974  ,\n",
       "         147.29283 ,  196.45605 ,  374.77957 ,  170.90388 ,  143.29172 ,\n",
       "         252.05957 ,  376.39328 ,  568.92145 ,  786.46014 ,  993.748   ,\n",
       "        1034.6512  ,  772.3453  ,  571.39343 ,  340.5897  ,  144.62068 ,\n",
       "         272.4202  ,  395.45132 ,  512.76465 ,  616.58466 ,  900.39777 ,\n",
       "         791.4534  ,  684.46234 ,  607.4374  ,  505.97614 ,  304.2404  ,\n",
       "         283.6963  ,  198.32018 ,  284.32562 ,  330.15347 ,  420.31473 ,\n",
       "         158.25627 ,  211.6702  ,  321.4897  ,  195.05539 ,  232.42258 ,\n",
       "         346.34473 ,  378.5229  ,  477.09528 ,  607.23285 ,  586.46204 ,\n",
       "         489.09067 ,  161.45842 ,  220.38895 ,  366.69098 ,  428.01492 ,\n",
       "         563.82794 ,  379.88834 ,  442.38998 ,  454.91684 ,  838.7627  ,\n",
       "        1450.284   , 1813.3425  , 1659.4121  , 1786.49    , 1995.2301  ,\n",
       "        2319.4534  ,  834.0175  ,  506.5053  ,  426.88162 ,  479.80566 ,\n",
       "         858.34973 ,  714.14935 ,  687.8757  ,  346.68832 ,  375.1263  ,\n",
       "         491.4677  ,  547.2261  ,  330.29053 ,  284.76926 ,  278.90143 ,\n",
       "         534.5956  ,  695.2167  ,  839.4216  , 1411.8005  , 1033.8339  ,\n",
       "         944.7999  ,  870.41266 ,  675.2445  ,  275.56186 ,  258.75266 ,\n",
       "         290.25607 ,  190.00955 ,  298.2149  ,  362.2048  ,  330.812   ,\n",
       "         159.58168 ,  328.83768 ,  273.7396  ,  336.3443  ,  454.31403 ,\n",
       "         563.7618  ,  258.56293 ,  310.21783 ,  274.12445 ,  375.6448  ,\n",
       "         568.2162  ,  811.4195  ,  903.24615 ,  701.71094 ,  916.35535 ,\n",
       "         985.9621  , 1117.4729  , 1126.2546  , 1309.953   ,  644.42316 ,\n",
       "         486.8164  ,  483.7977  ,  479.95786 ,  440.78012 ,  522.9325  ,\n",
       "         457.63058 ,  434.83734 ,  534.9414  ,  742.8457  ,  612.83594 ,\n",
       "         395.55664 ,  786.5579  ,  849.0085  ,  640.8341  ,  255.21764 ,\n",
       "         297.03336 ,  234.00809 ,  187.9322  ,  271.92703 ,  343.24246 ,\n",
       "         328.84305 ,  178.62459 ,  265.977   ,  365.88113 ,  572.1133  ,\n",
       "         926.2627  , 1043.0364  ,  952.30273 ,  632.69934 ,  606.9258  ,\n",
       "         358.47336 ,  356.45047 ,  220.7447  ,  192.43137 ,  388.40472 ,\n",
       "         251.1928  ,  220.94978 ,  184.10045 ,  132.67857 ,  179.29646 ,\n",
       "         191.47029 ,  224.19461 ,  206.20773 ,  106.115654,  176.81682 ,\n",
       "         193.06584 ,  255.31473 ,  189.57812 ,  225.04701 ,  265.66293 ,\n",
       "         415.52023 ,  251.0332  ,  252.69797 ,  118.40011 ,  152.06306 ,\n",
       "         127.425224,  149.33705 ,  262.07758 ,  263.60645 ,  368.81445 ,\n",
       "         271.6162  ,  249.94615 ,  244.51717 ,  341.40457 ,  319.0229  ,\n",
       "         370.3813  ,  461.8231  ,  260.0332  ,  265.98355 ,  115.01702 ,\n",
       "         131.71053 ,  196.54729 ,  197.92522 ,  136.9947  ,  195.43932 ,\n",
       "         191.87207 ,  248.19615 ,  328.11496 ,  451.88644 ,  519.1105  ,\n",
       "         573.5964  ,  908.1561  ,  945.59485 , 1048.8926  , 1143.5039  ,\n",
       "        1422.6903  , 1577.6326  , 1599.159   ,  647.7817  ,  526.4958  ,\n",
       "         346.8005  ,  426.11942 ,  284.02817 ,  302.11832 ,  364.52902 ,\n",
       "         544.9202  ,  433.9993  ,  206.11076 ,  182.99065 ,  117.794785,\n",
       "         272.8044  ,  247.75168 ,  248.57896 ,  559.71124 ,  634.62054 ,\n",
       "         468.69168 ,  410.25278 ,  345.74973 ,  303.83594 ,  185.8637  ,\n",
       "         171.71303 ,  163.77023 ,  143.5664  ,  178.50418 ,  225.38728 ,\n",
       "         275.47852 ,  276.44    ,  389.482   ,  516.0091  ,  505.27457 ,\n",
       "         489.52496 ,  544.0289  ,  597.1497  ,  728.5936  , 1107.67    ,\n",
       "         982.3764  ,  440.33218 ,  198.26506 ,  361.10602 ,  427.73926 ,\n",
       "         474.30914 ,  708.5049  ,  736.95325 ,  577.0374  ,  694.94977 ,\n",
       "         638.27216 ,  752.54504 ,  538.2054  ,  253.94601 ,  177.566   ,\n",
       "         143.8715  ,  230.16853 ,  220.90457 ,  321.13812 ,  426.40082 ,\n",
       "         607.7567  ,  785.73395 ,  448.935   ,  243.69768 ,  201.91434 ,\n",
       "         127.631   ,   80.385185,   93.82548 ,  103.35226 ,  208.18416 ,\n",
       "         406.76645 ,  519.7701  ,  674.5049  ,  692.7642  ,  924.3485  ,\n",
       "        1012.7525  ,  871.1286  ,  695.4274  ,  444.6805  ,  344.82562 ,\n",
       "         119.07994 ,  243.77065 ,  567.4015  ,  789.10046 , 1060.1891  ,\n",
       "        1382.7722  , 1484.3148  , 1477.9059  , 1525.3564  ,  657.403   ,\n",
       "         356.947   ,  423.1469  ,  459.857   ,  514.4284  ,  683.1826  ,\n",
       "         338.30582 ,  507.24387 ,  719.68    ,  957.0297  ,  858.72906 ,\n",
       "        1165.6207  , 1475.2529  , 1546.115   , 1483.5764  ,  654.53613 ,\n",
       "         604.5128  ,  846.6694  ,  643.3715  ,  790.10675 , 1225.9242  ,\n",
       "        1269.4103  , 1131.215   , 1274.2006  , 1670.8772  , 2319.25    ,\n",
       "        1932.1737  , 1335.6239  , 1113.6415  ,  829.0407  ,  617.03796 ,\n",
       "         614.3044  ,  674.3418  ,  771.5583  ,  913.2757  ,  937.8061  ,\n",
       "        1318.9325  , 2136.6616  , 1789.1038  , 1525.7229  ,  762.8714  ,\n",
       "         484.327   ,  286.03098 ,  346.46402 ,  331.0879  ,  280.33707 ,\n",
       "         287.54605 ,  487.89566 ,  807.5968  , 1265.9537  , 2115.0886  ,\n",
       "        2898.1504  , 3332.3608  , 3510.5913  , 3737.9207  , 4082.5159  ,\n",
       "        2958.5054  , 1340.7823  ,  828.5126  ,  880.85016 , 1229.9768  ,\n",
       "        1637.9744  , 2231.94    , 3098.6255  , 3613.717   , 3608.6543  ,\n",
       "        2736.119   , 3040.552   , 3426.673   , 3923.0745  , 3544.2153  ,\n",
       "        4462.4253  , 5819.3115  , 4830.4175  , 4645.638   , 5616.3794  ,\n",
       "        3712.5012  , 2776.8923  , 2084.5903  , 3386.9788  , 4530.428   ,\n",
       "        4010.7092  ,  864.5385  , 2069.4146  ,  777.7472  , 2362.211   ,\n",
       "        1931.3588  , 1814.0078  , 2350.1646  , 2661.1118  , 2736.1638  ,\n",
       "        2516.449   , 1270.2706  , 1032.4648  , 1587.3066  , 2422.0032  ,\n",
       "        2473.8782  , 2922.2395  , 4967.9106  , 3995.5903  , 2855.4468  ,\n",
       "        3418.7131  , 4339.106   , 6162.3506  , 5777.2886  , 5804.39    ,\n",
       "        7601.663   , 8395.196   , 6686.647   , 8978.711   , 4986.7617  ,\n",
       "        2788.4944  , 3486.6277  , 2017.5653  , 2368.3372  , 3664.6848  ,\n",
       "        3918.984   , 4070.1797  , 4280.25    , 3229.5474  , 3555.2622  ,\n",
       "        4720.859   , 5778.7446  , 9226.701   , 8373.53    , 2763.5347  ,\n",
       "        1979.5223  , 2032.1111  , 2743.3867  , 3941.49    , 5682.9727  ,\n",
       "        3714.266   , 4646.1675  , 4120.337   , 4760.9165  , 6251.594   ,\n",
       "        7858.6836  , 8192.952   , 8239.42    , 6261.8843  , 3560.451   ,\n",
       "        2915.1223  , 2754.299   , 1374.4626  , 1744.6931  , 2303.7175  ,\n",
       "        2308.5808  , 1645.7858  , 2561.184   , 2468.359   , 4131.975   ,\n",
       "        3524.058   , 1762.7891  , 2580.711   , 4090.0781  , 5713.7036  ,\n",
       "        5310.957   , 4011.5508  , 4998.609   , 3559.0508  , 1955.6931  ,\n",
       "        1306.6702  ,  861.9548  ,  630.0251  , 1522.0775  , 2213.549   ,\n",
       "        1966.4744  , 3065.0547  , 4893.1914  , 5355.853   , 4545.846   ,\n",
       "        4105.355   , 3206.4285  , 3220.2747  , 2621.5798  , 3805.6646  ,\n",
       "        5582.29    , 6471.311   , 6151.939   , 4200.013   , 3234.443   ,\n",
       "        2800.899   , 2464.798   , 3041.543   , 4439.1055  , 5714.433   ,\n",
       "        7601.3877  , 5821.7393  , 3294.391   , 2796.399   , 3958.8816  ,\n",
       "        1680.0592  , 2058.5881  , 2154.3242  , 2669.102   , 4468.91    ,\n",
       "        2687.654   , 2739.6775  , 2461.4731  , 2406.8237  , 5655.0903  ,\n",
       "        6080.725   ], dtype=float32),\n",
       " 'mse': array([1.46049219e+05, 4.24081523e+04, 3.66571250e+04, 7.43803281e+04,\n",
       "        4.39094180e+04, 6.05227773e+04, 1.21992875e+05, 1.41694719e+05,\n",
       "        1.41654906e+05, 1.54125109e+05, 3.50775344e+05, 3.75145406e+05,\n",
       "        4.16259906e+05, 3.61250281e+05, 1.46914391e+05, 9.36510234e+04,\n",
       "        1.75184406e+05, 2.49337922e+05, 2.24624031e+05, 2.94410281e+05,\n",
       "        6.67951953e+04, 5.01197461e+04, 1.93794688e+04, 2.84963008e+04,\n",
       "        5.70458984e+04, 1.13438688e+05, 1.27281570e+05, 2.12977281e+05,\n",
       "        1.57397906e+05, 4.96125625e+04, 2.69774902e+04, 7.72067090e+03,\n",
       "        1.99199629e+04, 3.57953047e+04, 7.41064375e+04, 7.49573203e+04,\n",
       "        6.55310898e+04, 9.77917969e+04, 1.10440664e+05, 1.94500250e+05,\n",
       "        5.49688000e+05, 9.18985469e+04, 5.42605273e+04, 8.90754141e+04,\n",
       "        3.78516992e+04, 3.13367754e+04, 5.72179570e+04, 7.83662656e+04,\n",
       "        6.28644922e+04, 3.64421133e+04, 5.62431680e+04, 5.13309023e+04,\n",
       "        2.79225742e+04, 1.10808961e+05, 2.72169156e+05, 4.28379406e+05,\n",
       "        7.13090562e+05, 6.98300562e+05, 5.70551688e+05, 7.15304188e+05,\n",
       "        3.76212094e+05, 1.91420266e+05, 3.16660938e+05, 5.82589562e+05,\n",
       "        5.11998219e+05, 4.69753688e+05, 6.22835438e+05, 6.56828188e+05,\n",
       "        1.35326781e+05, 2.55296133e+04, 2.49401055e+04, 6.36061797e+04,\n",
       "        1.54651328e+05, 3.52097031e+04, 3.51438242e+04, 8.21273516e+04,\n",
       "        2.07011016e+05, 5.48284438e+05, 8.90907688e+05, 1.17592725e+06,\n",
       "        1.16468375e+06, 6.17885688e+05, 3.43796719e+05, 1.35697047e+05,\n",
       "        3.65137383e+04, 1.01931922e+05, 2.34581641e+05, 3.70351594e+05,\n",
       "        4.82178281e+05, 9.27264375e+05, 7.58814875e+05, 5.48265125e+05,\n",
       "        4.71640719e+05, 3.28424656e+05, 1.27440352e+05, 1.22025992e+05,\n",
       "        5.64046328e+04, 1.12794836e+05, 1.45628125e+05, 2.27621281e+05,\n",
       "        3.16090039e+04, 6.96200000e+04, 1.32305453e+05, 4.49821875e+04,\n",
       "        1.10387195e+05, 1.54533266e+05, 1.68981453e+05, 2.84532906e+05,\n",
       "        4.80162531e+05, 3.97848969e+05, 2.60154172e+05, 4.10029688e+04,\n",
       "        8.25846094e+04, 2.11461359e+05, 2.37506891e+05, 4.27487719e+05,\n",
       "        2.00123719e+05, 2.21959453e+05, 2.32239828e+05, 1.40943900e+06,\n",
       "        3.27987200e+06, 4.68511350e+06, 4.09396050e+06, 4.39411900e+06,\n",
       "        4.65444350e+06, 5.45733050e+06, 8.68011938e+05, 3.95489938e+05,\n",
       "        2.60097250e+05, 3.27074000e+05, 9.61248125e+05, 5.75806312e+05,\n",
       "        5.49194375e+05, 1.65693422e+05, 1.88128391e+05, 3.05293719e+05,\n",
       "        3.56348031e+05, 1.55376359e+05, 1.08659422e+05, 1.02382125e+05,\n",
       "        3.94859062e+05, 7.05478062e+05, 8.53369000e+05, 2.17845875e+06,\n",
       "        1.21862412e+06, 1.03063169e+06, 8.97633000e+05, 5.19215844e+05,\n",
       "        1.33213938e+05, 1.23079570e+05, 1.19302797e+05, 5.20362070e+04,\n",
       "        1.33422531e+05, 1.66623359e+05, 1.40850172e+05, 3.23822480e+04,\n",
       "        1.56431422e+05, 9.24995781e+04, 1.71880703e+05, 2.37284625e+05,\n",
       "        3.35836281e+05, 9.80470078e+04, 1.56061234e+05, 1.09396586e+05,\n",
       "        1.64323781e+05, 4.11003781e+05, 7.31801312e+05, 1.01374106e+06,\n",
       "        8.45049812e+05, 1.25438988e+06, 1.40509625e+06, 1.55859638e+06,\n",
       "        1.47732000e+06, 1.74149612e+06, 4.75256812e+05, 3.87299438e+05,\n",
       "        4.10575406e+05, 3.99575750e+05, 3.44661844e+05, 4.52084312e+05,\n",
       "        2.99585312e+05, 2.39853328e+05, 4.92839281e+05, 6.79539375e+05,\n",
       "        5.07792688e+05, 2.02186781e+05, 7.14451875e+05, 7.62582000e+05,\n",
       "        4.43246781e+05, 8.38826172e+04, 1.39663266e+05, 7.64504531e+04,\n",
       "        4.51097227e+04, 1.01325797e+05, 1.44779578e+05, 1.13209914e+05,\n",
       "        6.14139297e+04, 1.13387234e+05, 2.19999656e+05, 5.06752750e+05,\n",
       "        1.07948638e+06, 1.25683200e+06, 9.98069188e+05, 5.12291281e+05,\n",
       "        4.28352250e+05, 1.92046125e+05, 1.76429750e+05, 6.49701875e+04,\n",
       "        6.46135352e+04, 1.82417719e+05, 1.07693984e+05, 6.36034727e+04,\n",
       "        4.80294570e+04, 2.34077305e+04, 6.25563945e+04, 5.13480078e+04,\n",
       "        6.39895195e+04, 5.75297852e+04, 1.58412344e+04, 4.18626680e+04,\n",
       "        4.03381172e+04, 8.54121719e+04, 6.12372695e+04, 9.23493125e+04,\n",
       "        1.11537555e+05, 2.07798297e+05, 9.19490078e+04, 1.10306711e+05,\n",
       "        1.72888223e+04, 3.22517246e+04, 2.81421699e+04, 2.57144395e+04,\n",
       "        8.89956406e+04, 8.71878906e+04, 1.42562391e+05, 9.29218516e+04,\n",
       "        8.22771172e+04, 1.02951539e+05, 1.41169266e+05, 1.37444938e+05,\n",
       "        1.77289375e+05, 2.21219281e+05, 8.02386094e+04, 7.94863047e+04,\n",
       "        1.90064023e+04, 2.55916387e+04, 5.10046797e+04, 4.73108320e+04,\n",
       "        2.40208125e+04, 4.74599922e+04, 5.80222422e+04, 9.02096016e+04,\n",
       "        1.63383672e+05, 2.76995938e+05, 3.46389500e+05, 4.25248531e+05,\n",
       "        1.21100662e+06, 1.38711212e+06, 1.70182975e+06, 1.89782125e+06,\n",
       "        2.49122975e+06, 2.86145175e+06, 2.63082400e+06, 4.99251344e+05,\n",
       "        3.23278906e+05, 1.37565969e+05, 2.35769891e+05, 1.07148461e+05,\n",
       "        1.25542352e+05, 1.90282469e+05, 3.37495344e+05, 2.26180891e+05,\n",
       "        4.76261445e+04, 5.30769922e+04, 1.77050469e+04, 8.65233906e+04,\n",
       "        7.68177969e+04, 1.19299352e+05, 3.97636406e+05, 5.17520844e+05,\n",
       "        2.94895844e+05, 2.22716672e+05, 1.89629109e+05, 1.25380391e+05,\n",
       "        4.29201680e+04, 3.93284375e+04, 5.26499609e+04, 2.52689121e+04,\n",
       "        4.04101992e+04, 7.52342031e+04, 1.08862211e+05, 8.55712656e+04,\n",
       "        2.57856531e+05, 3.69020656e+05, 3.44399812e+05, 3.01588656e+05,\n",
       "        3.73486656e+05, 4.93139844e+05, 6.71500188e+05, 1.36523688e+06,\n",
       "        1.03930012e+06, 2.36163891e+05, 5.87789023e+04, 1.72156422e+05,\n",
       "        2.10386422e+05, 3.03244312e+05, 5.96839188e+05, 6.46542938e+05,\n",
       "        4.48537281e+05, 5.73615812e+05, 4.85093000e+05, 5.80383125e+05,\n",
       "        3.07674594e+05, 9.66419844e+04, 3.85343320e+04, 3.93837188e+04,\n",
       "        6.10811641e+04, 6.09718359e+04, 1.17555570e+05, 2.49522266e+05,\n",
       "        4.56600344e+05, 6.42531125e+05, 2.10034000e+05, 6.17989297e+04,\n",
       "        7.34717266e+04, 1.91280957e+04, 1.48245674e+04, 1.08989541e+04,\n",
       "        1.79817676e+04, 6.76817422e+04, 2.24036719e+05, 3.84671844e+05,\n",
       "        6.00314375e+05, 7.07038875e+05, 1.08281612e+06, 1.15752912e+06,\n",
       "        8.34770438e+05, 4.96726594e+05, 2.20382891e+05, 1.28371547e+05,\n",
       "        2.79974688e+04, 1.09308289e+05, 6.78811188e+05, 1.25797025e+06,\n",
       "        1.80539775e+06, 2.53894850e+06, 2.58822750e+06, 2.41272050e+06,\n",
       "        2.42639150e+06, 5.43891500e+05, 2.02257766e+05, 2.74827469e+05,\n",
       "        2.90281062e+05, 3.58395562e+05, 5.12788219e+05, 1.68198594e+05,\n",
       "        3.19643188e+05, 9.68168188e+05, 1.61305662e+06, 1.40249300e+06,\n",
       "        2.02797712e+06, 2.67843475e+06, 2.65599550e+06, 2.31100600e+06,\n",
       "        6.30624812e+05, 5.30112625e+05, 9.97943938e+05, 6.86826125e+05,\n",
       "        8.49887125e+05, 1.91793825e+06, 2.45805800e+06, 2.13795375e+06,\n",
       "        2.31978500e+06, 3.60254125e+06, 5.96677050e+06, 4.11723200e+06,\n",
       "        2.05952400e+06, 1.36129975e+06, 7.78998000e+05, 6.53768438e+05,\n",
       "        6.76988438e+05, 6.47978688e+05, 8.59875125e+05, 1.23202238e+06,\n",
       "        1.16109125e+06, 2.47609950e+06, 5.20025350e+06, 3.48246675e+06,\n",
       "        2.40910175e+06, 6.57530875e+05, 3.63149969e+05, 9.60476250e+04,\n",
       "        1.42650906e+05, 1.43944047e+05, 9.72009844e+04, 1.08439930e+05,\n",
       "        2.92009906e+05, 9.46854312e+05, 2.72207000e+06, 7.34467750e+06,\n",
       "        1.22214510e+07, 1.55512850e+07, 1.63501390e+07, 1.62722970e+07,\n",
       "        1.73530460e+07, 8.99332800e+06, 1.92774425e+06, 9.44406812e+05,\n",
       "        1.67516625e+06, 2.69545550e+06, 4.90993500e+06, 7.60669450e+06,\n",
       "        1.22397260e+07, 1.60470110e+07, 1.49753490e+07, 1.13318900e+07,\n",
       "        1.44866510e+07, 1.56626700e+07, 1.96423160e+07, 1.80683540e+07,\n",
       "        2.99024180e+07, 4.46414120e+07, 3.54236880e+07, 2.74624220e+07,\n",
       "        3.73488520e+07, 2.01720260e+07, 8.95350600e+06, 8.20256500e+06,\n",
       "        1.62055860e+07, 2.47579320e+07, 1.77051340e+07, 1.05710525e+06,\n",
       "        5.04496250e+06, 1.04545212e+06, 9.02735600e+06, 7.37995200e+06,\n",
       "        6.00108650e+06, 7.70503900e+06, 9.92155400e+06, 8.47099000e+06,\n",
       "        7.55551600e+06, 1.87783612e+06, 2.26749275e+06, 4.25610350e+06,\n",
       "        7.70667500e+06, 8.03242300e+06, 9.71520300e+06, 2.81264360e+07,\n",
       "        1.87731500e+07, 1.15655530e+07, 1.72147380e+07, 2.37753580e+07,\n",
       "        4.67968280e+07, 4.85731200e+07, 4.99654680e+07, 7.94094560e+07,\n",
       "        8.72341200e+07, 5.28175400e+07, 8.34326480e+07, 2.71461060e+07,\n",
       "        9.36838400e+06, 1.56089550e+07, 6.28249150e+06, 1.01715010e+07,\n",
       "        2.16179880e+07, 2.28051640e+07, 2.31817340e+07, 2.31717620e+07,\n",
       "        1.31406380e+07, 1.35278810e+07, 2.96482700e+07, 4.36818440e+07,\n",
       "        9.41426800e+07, 7.29420400e+07, 1.04724500e+07, 5.50527200e+06,\n",
       "        5.71768500e+06, 1.09703750e+07, 1.98076380e+07, 3.31284980e+07,\n",
       "        1.84344040e+07, 2.77515540e+07, 2.48441300e+07, 3.63676880e+07,\n",
       "        5.02679800e+07, 7.39941920e+07, 7.81669200e+07, 7.44178080e+07,\n",
       "        4.40839240e+07, 1.53216250e+07, 1.02227760e+07, 9.31361200e+06,\n",
       "        2.16807450e+06, 4.41467750e+06, 6.52373050e+06, 6.23031200e+06,\n",
       "        5.29685450e+06, 9.02875100e+06, 8.92907900e+06, 1.96412800e+07,\n",
       "        1.46979300e+07, 4.40007500e+06, 9.12209400e+06, 2.28419160e+07,\n",
       "        3.62897360e+07, 3.19926300e+07, 1.83920020e+07, 2.66326360e+07,\n",
       "        1.35452470e+07, 4.45925300e+06, 2.24064750e+06, 1.34348488e+06,\n",
       "        4.89998562e+05, 3.50701225e+06, 7.05288800e+06, 5.63099600e+06,\n",
       "        1.38029170e+07, 3.22701100e+07, 3.57537920e+07, 2.52258280e+07,\n",
       "        1.89093100e+07, 1.29220540e+07, 1.10011840e+07, 1.03840640e+07,\n",
       "        2.14162440e+07, 4.10670600e+07, 4.95976520e+07, 4.15425360e+07,\n",
       "        2.35191260e+07, 1.38864290e+07, 1.06277620e+07, 6.66499500e+06,\n",
       "        1.20800610e+07, 2.68731160e+07, 3.79916120e+07, 6.07031960e+07,\n",
       "        3.83431440e+07, 1.50077060e+07, 1.00598130e+07, 1.71465920e+07,\n",
       "        3.20780925e+06, 5.39392900e+06, 6.02054500e+06, 1.03941280e+07,\n",
       "        2.21274660e+07, 1.06843830e+07, 8.76597300e+06, 8.36887300e+06,\n",
       "        1.17716190e+07, 4.32557720e+07, 4.88803200e+07], dtype=float32),\n",
       " 'rmse': array([ 382.16385 ,  205.9324  ,  191.46051 ,  272.72757 ,  209.54575 ,\n",
       "         246.01378 ,  349.27478 ,  376.42358 ,  376.3707  ,  392.5877  ,\n",
       "         592.2629  ,  612.49115 ,  645.18207 ,  601.041   ,  383.29413 ,\n",
       "         306.02454 ,  418.55035 ,  499.3375  ,  473.9452  ,  542.5959  ,\n",
       "         258.44766 ,  223.8744  ,  139.21016 ,  168.80847 ,  238.84283 ,\n",
       "         336.8066  ,  356.76544 ,  461.49463 ,  396.73404 ,  222.73877 ,\n",
       "         164.24826 ,   87.86735 ,  141.13809 ,  189.19647 ,  272.22498 ,\n",
       "         273.78336 ,  255.9904  ,  312.7168  ,  332.32614 ,  441.02182 ,\n",
       "         741.4095  ,  303.14774 ,  232.93889 ,  298.45505 ,  194.55513 ,\n",
       "         177.02196 ,  239.20276 ,  279.93976 ,  250.72792 ,  190.89818 ,\n",
       "         237.15642 ,  226.56325 ,  167.1005  ,  332.8798  ,  521.69836 ,\n",
       "         654.507   ,  844.4469  ,  835.6438  ,  755.3487  ,  845.7566  ,\n",
       "         613.3613  ,  437.51602 ,  562.7263  ,  763.2756  ,  715.5405  ,\n",
       "         685.3858  ,  789.1992  ,  810.4494  ,  367.8679  ,  159.77989 ,\n",
       "         157.92436 ,  252.20265 ,  393.25732 ,  187.64249 ,  187.46686 ,\n",
       "         286.5787  ,  454.98462 ,  740.46234 ,  943.8791  , 1084.4017  ,\n",
       "        1079.2052  ,  786.05707 ,  586.3418  ,  368.3708  ,  191.08568 ,\n",
       "         319.2678  ,  484.3363  ,  608.5652  ,  694.39056 ,  962.9457  ,\n",
       "         871.0998  ,  740.4493  ,  686.76105 ,  573.08344 ,  356.98788 ,\n",
       "         349.3222  ,  237.4966  ,  335.84943 ,  381.61252 ,  477.0967  ,\n",
       "         177.78922 ,  263.85602 ,  363.73816 ,  212.09004 ,  332.2457  ,\n",
       "         393.1072  ,  411.07355 ,  533.41626 ,  692.9376  ,  630.7527  ,\n",
       "         510.0531  ,  202.4919  ,  287.37537 ,  459.84927 ,  487.3468  ,\n",
       "         653.82544 ,  447.3519  ,  471.12573 ,  481.9127  , 1187.198   ,\n",
       "        1811.0417  , 2164.5122  , 2023.3538  , 2096.2153  , 2157.416   ,\n",
       "        2336.093   ,  931.6716  ,  628.8799  ,  509.9973  ,  571.9038  ,\n",
       "         980.4326  ,  758.81903 ,  741.0765  ,  407.05457 ,  433.7377  ,\n",
       "         552.53394 ,  596.9489  ,  394.17807 ,  329.63528 ,  319.97208 ,\n",
       "         628.3781  ,  839.9274  ,  923.7797  , 1475.9603  , 1103.9131  ,\n",
       "        1015.2003  ,  947.43494 ,  720.56635 ,  364.98483 ,  350.827   ,\n",
       "         345.40237 ,  228.11446 ,  365.27048 ,  408.19525 ,  375.3001  ,\n",
       "         179.95068 ,  395.51413 ,  304.13742 ,  414.585   ,  487.11868 ,\n",
       "         579.51385 ,  313.1246  ,  395.04587 ,  330.75156 ,  405.36868 ,\n",
       "         641.09576 ,  855.45386 , 1006.8471  ,  919.2659  , 1119.9955  ,\n",
       "        1185.3676  , 1248.4376  , 1215.4506  , 1319.6576  ,  689.38873 ,\n",
       "         622.33386 ,  640.7616  ,  632.12006 ,  587.0791  ,  672.37213 ,\n",
       "         547.3439  ,  489.74823 ,  702.02515 ,  824.3418  ,  712.59576 ,\n",
       "         449.65186 ,  845.25256 ,  873.2594  ,  665.7678  ,  289.62497 ,\n",
       "         373.71548 ,  276.49677 ,  212.3905  ,  318.31714 ,  380.4991  ,\n",
       "         336.4668  ,  247.81834 ,  336.73022 ,  469.0412  ,  711.86566 ,\n",
       "        1038.9833  , 1121.0852  ,  999.0341  ,  715.74524 ,  654.48627 ,\n",
       "         438.23068 ,  420.0354  ,  254.8925  ,  254.19193 ,  427.10388 ,\n",
       "         328.1676  ,  252.1973  ,  219.15623 ,  152.99585 ,  250.11276 ,\n",
       "         226.60098 ,  252.9615  ,  239.85367 ,  125.86197 ,  204.60368 ,\n",
       "         200.84352 ,  292.2536  ,  247.46165 ,  303.8903  ,  333.97238 ,\n",
       "         455.849   ,  303.23096 ,  332.12454 ,  131.48697 ,  179.58765 ,\n",
       "         167.75629 ,  160.35722 ,  298.32138 ,  295.27597 ,  377.57434 ,\n",
       "         304.83087 ,  286.83987 ,  320.86063 ,  375.72498 ,  370.73566 ,\n",
       "         421.05743 ,  470.33954 ,  283.2642  ,  281.93317 ,  137.86371 ,\n",
       "         159.97386 ,  225.84216 ,  217.51053 ,  154.9865  ,  217.85315 ,\n",
       "         240.87807 ,  300.34912 ,  404.20746 ,  526.304   ,  588.54865 ,\n",
       "         652.11084 , 1100.4575  , 1177.7572  , 1304.542   , 1377.6144  ,\n",
       "        1578.363   , 1691.5826  , 1621.9814  ,  706.5772  ,  568.57623 ,\n",
       "         370.89886 ,  485.56143 ,  327.3354  ,  354.31955 ,  436.21378 ,\n",
       "         580.9435  ,  475.58478 ,  218.23415 ,  230.38445 ,  133.06032 ,\n",
       "         294.1486  ,  277.16025 ,  345.39737 ,  630.58417 ,  719.3892  ,\n",
       "         543.04315 ,  471.92868 ,  435.46423 ,  354.09094 ,  207.17183 ,\n",
       "         198.31398 ,  229.4558  ,  158.96199 ,  201.02289 ,  274.28854 ,\n",
       "         329.94275 ,  292.52567 ,  507.79575 ,  607.4707  ,  586.8559  ,\n",
       "         549.1709  ,  611.13556 ,  702.23914 ,  819.4512  , 1168.4335  ,\n",
       "        1019.4607  ,  485.96695 ,  242.4436  ,  414.91736 ,  458.679   ,\n",
       "         550.6762  ,  772.55365 ,  804.0789  ,  669.72925 ,  757.37427 ,\n",
       "         696.4862  ,  761.8288  ,  554.6842  ,  310.87292 ,  196.30164 ,\n",
       "         198.45332 ,  247.14604 ,  246.92476 ,  342.86377 ,  499.52203 ,\n",
       "         675.7221  ,  801.5804  ,  458.29468 ,  248.5939  ,  271.05667 ,\n",
       "         138.30435 ,  121.75618 ,  104.398056,  134.09612 ,  260.15714 ,\n",
       "         473.32516 ,  620.2192  ,  774.79956 ,  840.856   , 1040.5845  ,\n",
       "        1075.8853  ,  913.6577  ,  704.7883  ,  469.44955 ,  358.28976 ,\n",
       "         167.32445 ,  330.61804 ,  823.89996 , 1121.5928  , 1343.6509  ,\n",
       "        1593.4078  , 1608.7969  , 1553.2935  , 1557.6879  ,  737.49    ,\n",
       "         449.73077 ,  524.23987 ,  538.7774  ,  598.6615  ,  716.09235 ,\n",
       "         410.1202  ,  565.36993 ,  983.9554  , 1270.0616  , 1184.2689  ,\n",
       "        1424.0707  , 1636.5924  , 1629.7225  , 1520.1993  ,  794.1189  ,\n",
       "         728.0883  ,  998.97144 ,  828.74976 ,  921.89325 , 1384.8965  ,\n",
       "        1567.8195  , 1462.1743  , 1523.084   , 1898.0361  , 2442.6973  ,\n",
       "        2029.0963  , 1435.1041  , 1166.7476  ,  882.60864 ,  808.5595  ,\n",
       "         822.7931  ,  804.97125 ,  927.2945  , 1109.9651  , 1077.5394  ,\n",
       "        1573.5626  , 2280.4065  , 1866.1368  , 1552.1282  ,  810.88275 ,\n",
       "         602.61926 ,  309.91553 ,  377.69156 ,  379.3996  ,  311.77072 ,\n",
       "         329.3022  ,  540.3794  ,  973.0644  , 1649.8698  , 2710.1064  ,\n",
       "        3495.9192  , 3943.5117  , 4043.5305  , 4033.8936  , 4165.6987  ,\n",
       "        2998.8877  , 1388.4323  ,  971.80597 , 1294.2821  , 1641.7843  ,\n",
       "        2215.8374  , 2758.0237  , 3498.532   , 4005.872   , 3869.7996  ,\n",
       "        3366.2874  , 3806.1333  , 3957.6091  , 4431.9653  , 4250.6885  ,\n",
       "        5468.3105  , 6681.423   , 5951.7803  , 5240.46    , 6111.3706  ,\n",
       "        4491.3276  , 2992.241   , 2864.012   , 4025.6162  , 4975.7344  ,\n",
       "        4207.747   , 1028.1562  , 2246.0994  , 1022.4735  , 3004.556   ,\n",
       "        2716.6067  , 2449.7114  , 2775.7952  , 3149.8499  , 2910.4966  ,\n",
       "        2748.73    , 1370.3416  , 1505.8196  , 2063.0327  , 2776.0898  ,\n",
       "        2834.153   , 3116.922   , 5303.436   , 4332.7993  , 3400.8164  ,\n",
       "        4149.065   , 4875.998   , 6840.821   , 6969.442   , 7068.6255  ,\n",
       "        8911.198   , 9339.921   , 7267.568   , 9134.147   , 5210.1924  ,\n",
       "        3060.7815  , 3950.817   , 2506.49    , 3189.279   , 4649.5146  ,\n",
       "        4775.475   , 4814.741   , 4813.7056  , 3625.0017  , 3678.0269  ,\n",
       "        5445.0225  , 6609.224   , 9702.715   , 8540.611   , 3236.1165  ,\n",
       "        2346.3315  , 2391.1682  , 3312.1558  , 4450.577   , 5755.7363  ,\n",
       "        4293.5303  , 5267.9746  , 4984.3887  , 6030.563   , 7089.9917  ,\n",
       "        8601.987   , 8841.206   , 8626.575   , 6639.5728  , 3914.2847  ,\n",
       "        3197.3076  , 3051.821   , 1472.4382  , 2101.1133  , 2554.1594  ,\n",
       "        2496.0593  , 2301.4897  , 3004.788   , 2988.1565  , 4431.848   ,\n",
       "        3833.7878  , 2097.6355  , 3020.2805  , 4779.322   , 6024.096   ,\n",
       "        5656.2026  , 4288.59    , 5160.6816  , 3680.3867  , 2111.6943  ,\n",
       "        1496.8793  , 1159.0879  ,  699.99896 , 1872.7019  , 2655.7273  ,\n",
       "        2372.972   , 3715.2278  , 5680.6787  , 5979.4473  , 5022.532   ,\n",
       "        4348.484   , 3594.7258  , 3316.8032  , 3222.4314  , 4627.7686  ,\n",
       "        6408.3584  , 7042.56    , 6445.35    , 4849.6523  , 3726.45    ,\n",
       "        3260.025   , 2581.665   , 3475.6382  , 5183.9287  , 6163.7334  ,\n",
       "        7791.2256  , 6192.184   , 3873.978   , 3171.721   , 4140.844   ,\n",
       "        1791.0358  , 2322.4834  , 2453.68    , 3223.9927  , 4703.984   ,\n",
       "        3268.6975  , 2960.7385  , 2892.9004  , 3430.9792  , 6576.912   ,\n",
       "        6991.4463  ], dtype=float32),\n",
       " 'mape': array([ 4.1679263 ,  2.1761413 ,  1.5642289 ,  2.8525057 ,  2.0494993 ,\n",
       "         2.2943747 ,  3.7552993 ,  3.7073574 ,  3.841561  ,  4.1815634 ,\n",
       "         6.647861  ,  7.0656395 ,  8.124087  ,  7.9980717 ,  4.3279624 ,\n",
       "         3.03112   ,  4.7792997 ,  6.1244326 ,  5.6183023 ,  7.077694  ,\n",
       "         2.8254693 ,  2.6298535 ,  1.4130703 ,  1.9727495 ,  2.8969693 ,\n",
       "         3.9650955 ,  4.2658663 ,  6.067299  ,  5.307459  ,  2.7771554 ,\n",
       "         2.1867347 ,  0.95028514,  1.4988325 ,  1.8092765 ,  3.053412  ,\n",
       "         3.2135956 ,  2.811752  ,  3.6729403 ,  4.435588  ,  5.9056973 ,\n",
       "        10.06514   ,  3.5650537 ,  2.944599  ,  3.9625049 ,  2.3567924 ,\n",
       "         2.114218  ,  2.7900686 ,  3.2780285 ,  3.1200767 ,  2.295457  ,\n",
       "         2.7584286 ,  2.5078943 ,  2.0299225 ,  3.7770293 ,  5.2268505 ,\n",
       "         7.1053095 , 10.013951  ,  9.571697  ,  8.848693  , 10.2894    ,\n",
       "         7.2863646 ,  4.223857  ,  4.9188457 ,  7.8272305 ,  6.760203  ,\n",
       "         6.617038  ,  8.260056  ,  9.022776  ,  3.9020426 ,  1.4201874 ,\n",
       "         1.691382  ,  2.3036203 ,  4.405362  ,  2.0142395 ,  1.6641729 ,\n",
       "         2.9043024 ,  4.222021  ,  6.1614127 ,  8.4713955 , 10.685104  ,\n",
       "        11.07349   ,  8.252673  ,  6.1033316 ,  3.611737  ,  1.519233  ,\n",
       "         2.8449395 ,  4.071351  ,  5.2057915 ,  6.2450876 ,  9.040558  ,\n",
       "         7.8383126 ,  6.743683  ,  5.9252934 ,  4.9403453 ,  2.976333  ,\n",
       "         2.7708864 ,  1.9643549 ,  2.8921003 ,  3.3820562 ,  4.325622  ,\n",
       "         1.6291695 ,  2.1452303 ,  3.2650466 ,  2.018619  ,  2.4876597 ,\n",
       "         3.7502937 ,  4.134193  ,  5.3489304 ,  6.9489727 ,  6.7061005 ,\n",
       "         5.598437  ,  1.8514636 ,  2.474445  ,  4.0829754 ,  4.771548  ,\n",
       "         6.2843056 ,  4.377979  ,  5.189384  ,  5.421064  , 12.323372  ,\n",
       "        22.497448  , 30.070204  , 29.323196  , 33.120686  , 36.978073  ,\n",
       "        43.15587   , 15.723157  ,  9.5141735 ,  7.597592  ,  8.184018  ,\n",
       "        13.889983  , 11.36079   , 10.704277  ,  5.290127  ,  5.659554  ,\n",
       "         7.481005  ,  8.327122  ,  4.987292  ,  4.4963064 ,  4.2908807 ,\n",
       "         8.242696  , 10.534048  , 12.591916  , 21.000315  , 15.064406  ,\n",
       "        13.53626   , 12.260218  ,  9.450765  ,  3.8149927 ,  3.572358  ,\n",
       "         4.0101295 ,  2.719953  ,  4.2983055 ,  5.2805076 ,  4.8083005 ,\n",
       "         2.2814674 ,  4.6349506 ,  3.8594267 ,  4.712626  ,  6.412915  ,\n",
       "         7.931565  ,  3.5573285 ,  4.206282  ,  3.7040584 ,  5.0877156 ,\n",
       "         7.510323  , 10.6525    , 11.348296  ,  8.388495  , 10.755577  ,\n",
       "        11.312881  , 12.734191  , 12.717539  , 14.746984  ,  7.149903  ,\n",
       "         5.1888685 ,  5.025198  ,  4.938186  ,  4.5405884 ,  5.407188  ,\n",
       "         4.787174  ,  4.69612   ,  6.0448914 ,  8.279465  ,  6.865768  ,\n",
       "         4.257765  ,  8.23719   ,  8.837572  ,  6.649515  ,  2.6623082 ,\n",
       "         3.0855043 ,  2.4442868 ,  2.0165515 ,  2.9818432 ,  3.796384  ,\n",
       "         3.6248856 ,  1.9287916 ,  2.8554971 ,  3.8784158 ,  6.0338073 ,\n",
       "         9.600849  , 10.785139  ,  9.803     ,  6.4458265 ,  6.1874213 ,\n",
       "         3.63306   ,  3.6047745 ,  2.2876592 ,  1.9689219 ,  3.971545  ,\n",
       "         2.5717356 ,  2.2724392 ,  1.8920496 ,  1.371876  ,  1.8657836 ,\n",
       "         2.0326095 ,  2.3880005 ,  2.1796262 ,  1.1243669 ,  1.87674   ,\n",
       "         2.0552056 ,  2.6974823 ,  1.9866621 ,  2.3641038 ,  2.7948205 ,\n",
       "         4.399108  ,  2.6572282 ,  2.66228   ,  1.2794063 ,  1.6589036 ,\n",
       "         1.3959422 ,  1.6328392 ,  2.8660698 ,  2.8787217 ,  4.041918  ,\n",
       "         2.9627242 ,  2.718338  ,  2.62933   ,  3.6841147 ,  3.432978  ,\n",
       "         3.9804895 ,  4.9702325 ,  2.7953408 ,  2.8610826 ,  1.2429103 ,\n",
       "         1.4279133 ,  2.1307154 ,  2.1517482 ,  1.4899064 ,  2.1271808 ,\n",
       "         2.0737019 ,  2.6582773 ,  3.475197  ,  4.7652526 ,  5.4345946 ,\n",
       "         5.927992  ,  8.917971  ,  9.0025835 ,  9.694549  , 10.405478  ,\n",
       "        12.841566  , 13.988047  , 14.162764  ,  5.7032027 ,  4.6257954 ,\n",
       "         3.0338254 ,  3.6792986 ,  2.4426308 ,  2.660051  ,  3.1177042 ,\n",
       "         4.658959  ,  3.7046194 ,  1.7625513 ,  1.5665908 ,  1.0132306 ,\n",
       "         2.3423958 ,  2.1285386 ,  2.078265  ,  4.654754  ,  5.272766  ,\n",
       "         3.889691  ,  3.410638  ,  2.8716416 ,  2.5341423 ,  1.5760491 ,\n",
       "         1.4783208 ,  1.4036165 ,  1.2434797 ,  1.541271  ,  1.9528459 ,\n",
       "         2.38297   ,  2.4040544 ,  3.3218286 ,  4.4153323 ,  4.330439  ,\n",
       "         4.265792  ,  4.9872704 ,  5.647556  ,  6.9759808 , 10.728904  ,\n",
       "         9.579457  ,  4.3090677 ,  1.9462019 ,  3.4859884 ,  4.1350794 ,\n",
       "         4.5416007 ,  6.7236795 ,  6.9086723 ,  5.3384476 ,  6.4164333 ,\n",
       "         5.8432345 ,  6.8931365 ,  4.933656  ,  2.3141456 ,  1.6551117 ,\n",
       "         1.3322866 ,  2.1602917 ,  2.084167  ,  3.0268471 ,  3.9718318 ,\n",
       "         5.6494246 ,  7.302583  ,  4.174579  ,  2.272301  ,  1.8775413 ,\n",
       "         1.1933156 ,  0.7529248 ,  0.8803232 ,  0.9707696 ,  1.9384282 ,\n",
       "         3.7586906 ,  4.722399  ,  6.0751057 ,  6.120933  ,  8.136853  ,\n",
       "         8.895661  ,  7.6106653 ,  6.073812  ,  3.8797927 ,  3.006489  ,\n",
       "         1.0273045 ,  2.0801983 ,  4.5966434 ,  6.2033663 ,  8.290584  ,\n",
       "        10.752158  , 11.483384  , 11.357395  , 11.568039  ,  4.9501905 ,\n",
       "         2.6609094 ,  3.1372833 ,  3.3811967 ,  3.7596126 ,  5.0010214 ,\n",
       "         2.4628134 ,  3.6656432 ,  4.9544215 ,  6.4099364 ,  5.675793  ,\n",
       "         7.6657166 ,  9.693414  , 10.106024  ,  9.602798  ,  4.146724  ,\n",
       "         3.8103316 ,  5.2895565 ,  3.9867737 ,  4.848475  ,  7.3634467 ,\n",
       "         7.4038625 ,  6.447159  ,  7.1505146 ,  9.246368  , 12.751333  ,\n",
       "        10.524182  ,  7.185475  ,  5.966339  ,  4.4838    ,  3.490577  ,\n",
       "         3.504137  ,  3.8217545 ,  4.3160644 ,  5.168251  ,  5.2814407 ,\n",
       "         6.924175  , 11.237029  ,  9.363849  ,  7.961271  ,  3.992296  ,\n",
       "         2.5242589 ,  1.5085416 ,  1.85297   ,  1.7742517 ,  1.5026703 ,\n",
       "         1.5493467 ,  2.606348  ,  4.2367854 ,  6.350615  , 10.097533  ,\n",
       "        13.442741  , 14.912489  , 15.354421  , 16.241953  , 17.618803  ,\n",
       "        12.669598  ,  5.7119975 ,  3.468842  ,  3.5145705 ,  4.8333797 ,\n",
       "         6.254858  ,  8.441254  , 11.499581  , 13.088085  , 12.8469925 ,\n",
       "         9.207886  ,  9.819163  , 10.998026  , 12.213653  , 10.513873  ,\n",
       "        12.485897  , 15.745274  , 12.433796  , 11.988815  , 14.512412  ,\n",
       "         9.428946  ,  7.2150016 ,  5.8438473 ,  9.481987  , 12.683934  ,\n",
       "        11.231482  ,  2.3840683 ,  5.589341  ,  2.1062644 ,  7.028406  ,\n",
       "         5.8929205 ,  5.6052575 ,  7.257985  ,  8.296631  ,  8.51947   ,\n",
       "         7.974811  ,  3.8967159 ,  3.120799  ,  4.7211056 ,  7.2064795 ,\n",
       "         7.3301024 ,  8.587432  , 14.158581  , 11.173959  ,  7.781643  ,\n",
       "         9.01415   , 11.371331  , 15.458171  , 13.623552  , 13.263503  ,\n",
       "        16.867908  , 18.303915  , 14.360123  , 19.062685  , 10.459358  ,\n",
       "         5.7908    ,  7.059545  ,  3.9968748 ,  4.51382   ,  6.8588877 ,\n",
       "         7.170864  ,  7.3964515 ,  7.8318944 ,  6.1116433 ,  6.845707  ,\n",
       "         9.691281  , 12.116825  , 19.568924  , 17.782116  ,  5.9347963 ,\n",
       "         4.141631  ,  4.2707286 ,  5.574004  ,  8.0274105 , 11.519052  ,\n",
       "         7.393466  ,  9.043206  ,  7.74381   ,  8.625768  , 11.259099  ,\n",
       "        13.814126  , 14.113699  , 14.164262  , 10.719842  ,  6.068524  ,\n",
       "         4.9587154 ,  4.6743493 ,  2.3805852 ,  3.0485494 ,  3.9782372 ,\n",
       "         4.0051765 ,  3.0306106 ,  4.7370977 ,  4.5998907 ,  7.643549  ,\n",
       "         6.551178  ,  3.2372105 ,  4.580786  ,  7.1227536 ,  9.910576  ,\n",
       "         9.117216  ,  6.870433  ,  8.551039  ,  6.076197  ,  3.34673   ,\n",
       "         2.2371151 ,  1.4799819 ,  1.0837268 ,  2.6015093 ,  3.7579782 ,\n",
       "         3.323717  ,  5.0713954 ,  7.9924903 ,  8.659597  ,  7.3050065 ,\n",
       "         6.6077695 ,  5.159365  ,  5.2846413 ,  4.539022  ,  6.754943  ,\n",
       "        10.14439   , 12.006281  , 11.609773  ,  8.235275  ,  6.345316  ,\n",
       "         5.505495  ,  4.738996  ,  5.727207  ,  8.1146145 , 10.335649  ,\n",
       "        13.643365  , 10.309661  ,  5.807644  ,  4.9088354 ,  6.953119  ,\n",
       "         2.9575768 ,  3.6230206 ,  3.7610657 ,  4.654193  ,  7.79616   ,\n",
       "         4.677983  ,  4.8721085 ,  4.535159  ,  4.874002  , 11.594545  ,\n",
       "        12.973873  ], dtype=float32),\n",
       " 'mase': 2.474515}"
      ]
     },
     "execution_count": 59,
     "metadata": {},
     "output_type": "execute_result"
    }
   ],
   "source": [
    "# Evaluating model 3 preds\n",
    "model_3_results = evaluate_preds(\n",
    "    y_true=tf.squeeze(test_labels),\n",
    "    y_pred=model_3_preds\n",
    ")\n",
    "model_3_results"
   ]
  },
  {
   "cell_type": "code",
   "execution_count": 60,
   "metadata": {},
   "outputs": [],
   "source": [
    "# Function for evaluation matrix\n",
    "# MAKING IT WORK FOR HIGHER HORIZON\n",
    "def evaluate_preds(y_true, y_pred):\n",
    "\n",
    "    # Ensuring that we use float32 dtype (for metric calculations)\n",
    "    y_true = tf.cast(y_true, dtype=tf.float32)\n",
    "    y_pred = tf.cast(y_pred, dtype=tf.float32)\n",
    "\n",
    "    # Calculating various evaluation metrics\n",
    "    mae = tf.keras.metrics.mean_absolute_error(y_true, y_pred)\n",
    "    mse = tf.keras.metrics.mean_squared_error(y_true, y_pred)\n",
    "    rmse = tf.sqrt(mse)\n",
    "    mape = tf.keras.metrics.mean_absolute_percentage_error(y_true, y_pred)\n",
    "    mase = mean_absolute_scaled_error(y_true, y_pred)\n",
    "\n",
    "    # Account for different size metrics\n",
    "    if mae.ndim > 0:\n",
    "        mae = tf.reduce_mean(mae)\n",
    "        mse = tf.reduce_mean(mse)\n",
    "        rmse = tf.reduce_mean(rmse)\n",
    "        mape = tf.reduce_mean(mape)\n",
    "        mase = tf.reduce_mean(mase)\n",
    "\n",
    "    return {\n",
    "        \"mae\": mae.numpy(),\n",
    "        \"mse\": mse.numpy(),\n",
    "        \"rmse\": rmse.numpy(),\n",
    "        \"mape\": mape.numpy(),\n",
    "        \"mase\": mase.numpy()\n",
    "    }"
   ]
  },
  {
   "cell_type": "code",
   "execution_count": 61,
   "metadata": {},
   "outputs": [
    {
     "data": {
      "text/plain": [
       "{'mae': 1390.6113,\n",
       " 'mse': 6133210.0,\n",
       " 'rmse': 1577.3613,\n",
       " 'mape': 6.2030177,\n",
       " 'mase': 2.474515}"
      ]
     },
     "execution_count": 61,
     "metadata": {},
     "output_type": "execute_result"
    }
   ],
   "source": [
    "# Re-evaluating model 3 preds\n",
    "model_3_results = evaluate_preds(\n",
    "    y_true=tf.squeeze(test_labels),\n",
    "    y_pred=model_3_preds\n",
    ")\n",
    "model_3_results"
   ]
  },
  {
   "cell_type": "code",
   "execution_count": 62,
   "metadata": {},
   "outputs": [
    {
     "data": {
      "image/png": "[encoded data removed]",
      "text/plain": [
       "<Figure size 720x504 with 1 Axes>"
      ]
     },
     "metadata": {
      "needs_background": "light"
     },
     "output_type": "display_data"
    }
   ],
   "source": [
    "# Visualising the data\n",
    "offset = 300\n",
    "plt.figure(figsize=(10, 7))\n",
    "plot_time_series(\n",
    "    timestamps=X_test[-len(test_windows):],\n",
    "    values=test_labels[:, 0],\n",
    "    start=offset,\n",
    "    label=\"Test data\"\n",
    ")\n",
    "plot_time_series(\n",
    "    timestamps=X_test[-len(test_windows):],\n",
    "    values=model_3_preds,\n",
    "    start=offset,\n",
    "    label=\"Model 3 preds\"\n",
    ")"
   ]
  },
  {
   "cell_type": "code",
   "execution_count": 63,
   "metadata": {},
   "outputs": [
    {
     "data": {
      "image/png": "[encoded data removed]",
      "text/plain": [
       "<Figure size 720x504 with 1 Axes>"
      ]
     },
     "metadata": {
      "needs_background": "light"
     },
     "output_type": "display_data"
    }
   ],
   "source": [
    "# Visualising the data\n",
    "offset = 300\n",
    "plt.figure(figsize=(10, 7))\n",
    "plot_time_series(\n",
    "    timestamps=X_test[-len(test_windows):],\n",
    "    values=test_labels[:, 0],\n",
    "    start=offset,\n",
    "    label=\"Test data\"\n",
    ")\n",
    "plot_time_series(\n",
    "    timestamps=X_test[-len(test_windows):],\n",
    "    values=tf.reduce_mean(model_3_preds, axis=1),\n",
    "    start=offset,\n",
    "    label=\"Model 3 preds\"\n",
    ")"
   ]
  },
  {
   "cell_type": "code",
   "execution_count": 64,
   "metadata": {},
   "outputs": [
    {
     "data": {
      "image/png": "[encoded data removed]",
      "text/plain": [
       "<Figure size 720x504 with 1 Axes>"
      ]
     },
     "metadata": {
      "needs_background": "light"
     },
     "output_type": "display_data"
    }
   ],
   "source": [
    "# Comparing models performance\n",
    "pd.DataFrame({\n",
    "    \"naive\": naive_results[\"mae\"],\n",
    "    \"horizon_1_window_7\": model_1_results[\"mae\"],\n",
    "    \"horizon_1_window_30\": model_2_results[\"mae\"],\n",
    "    \"horizon_7_window_30\": model_3_results[\"mae\"]\n",
    "}, index=[\"mae\"]).plot(figsize=(10, 7), kind=\"bar\");"
   ]
  },
  {
   "attachments": {},
   "cell_type": "markdown",
   "metadata": {},
   "source": [
    "### Model 4 - Using Conv1D"
   ]
  },
  {
   "cell_type": "code",
   "execution_count": 65,
   "metadata": {},
   "outputs": [],
   "source": [
    "# Defining horizon and window\n",
    "HORIZON = 1\n",
    "WINDOW_SIZE = 7"
   ]
  },
  {
   "cell_type": "code",
   "execution_count": 66,
   "metadata": {},
   "outputs": [
    {
     "data": {
      "text/plain": [
       "(2780, 2780)"
      ]
     },
     "execution_count": 66,
     "metadata": {},
     "output_type": "execute_result"
    }
   ],
   "source": [
    "# Creating windowed data\n",
    "full_windows,full_labels = make_windows(prices, window_size=WINDOW_SIZE, horizon=HORIZON)\n",
    "len(full_windows), len(full_labels)"
   ]
  },
  {
   "cell_type": "code",
   "execution_count": 67,
   "metadata": {},
   "outputs": [
    {
     "data": {
      "text/plain": [
       "(2224, 2224, 556, 556)"
      ]
     },
     "execution_count": 67,
     "metadata": {},
     "output_type": "execute_result"
    }
   ],
   "source": [
    "# Creating train / test datasets\n",
    "train_windows, test_windows, train_labels, test_labels = make_train_test_splits(full_windows, full_labels)\n",
    "len(train_windows), len(train_labels), len(test_windows), len(test_labels)"
   ]
  },
  {
   "cell_type": "code",
   "execution_count": 68,
   "metadata": {},
   "outputs": [
    {
     "data": {
      "text/plain": [
       "(7,)"
      ]
     },
     "execution_count": 68,
     "metadata": {},
     "output_type": "execute_result"
    }
   ],
   "source": [
    "# Checking data input shape\n",
    "train_windows[0].shape # returns WINDOW_SIZE"
   ]
  },
  {
   "cell_type": "code",
   "execution_count": 69,
   "metadata": {},
   "outputs": [],
   "source": [
    "# Conv1D expects input of (batch_size, timestamps, input_dim)"
   ]
  },
  {
   "cell_type": "code",
   "execution_count": 70,
   "metadata": {},
   "outputs": [
    {
     "data": {
      "text/plain": [
       "<tf.Tensor: shape=(7,), dtype=float64, numpy=\n",
       "array([123.65499, 125.455  , 108.58483, 118.67466, 121.33866, 120.65533,\n",
       "       121.795  ])>"
      ]
     },
     "execution_count": 70,
     "metadata": {},
     "output_type": "execute_result"
    }
   ],
   "source": [
    "# Reshaping the tensor\n",
    "x = tf.constant(train_windows[0])\n",
    "x"
   ]
  },
  {
   "cell_type": "code",
   "execution_count": 71,
   "metadata": {},
   "outputs": [],
   "source": [
    "# Creating Lambda layer\n",
    "expand_dim_layer = layers.Lambda(lambda x: tf.expand_dims(x, axis=1))"
   ]
  },
  {
   "cell_type": "code",
   "execution_count": 72,
   "metadata": {},
   "outputs": [
    {
     "name": "stdout",
     "output_type": "stream",
     "text": [
      "Original shape: (7,)\n",
      "Expanded shape: (7, 1)\n",
      "Original values with expanded shape:\n",
      " [[123.65499]\n",
      " [125.455  ]\n",
      " [108.58483]\n",
      " [118.67466]\n",
      " [121.33866]\n",
      " [120.65533]\n",
      " [121.795  ]]\n"
     ]
    }
   ],
   "source": [
    "# Testing Lambda layer\n",
    "print(f\"Original shape: {x.shape}\") # Output WINDOW_SIZE\n",
    "print(f\"Expanded shape: {expand_dim_layer(x).shape}\")\n",
    "print(f\"Original values with expanded shape:\\n {expand_dim_layer(x)}\")"
   ]
  },
  {
   "cell_type": "code",
   "execution_count": 73,
   "metadata": {},
   "outputs": [
    {
     "name": "stdout",
     "output_type": "stream",
     "text": [
      "Epoch 1/100\n",
      "17/18 [===========================>..] - ETA: 0s - loss: 1927.4446 "
     ]
    },
    {
     "name": "stderr",
     "output_type": "stream",
     "text": [
      "WARNING:absl:Found untraced functions such as _jit_compiled_convolution_op while saving (showing 1 of 1). These functions will not be directly callable after loading.\n"
     ]
    },
    {
     "name": "stdout",
     "output_type": "stream",
     "text": [
      "INFO:tensorflow:Assets written to: model_experiments\\model_4_Conv1D\\assets\n"
     ]
    },
    {
     "name": "stderr",
     "output_type": "stream",
     "text": [
      "INFO:tensorflow:Assets written to: model_experiments\\model_4_Conv1D\\assets\n"
     ]
    },
    {
     "name": "stdout",
     "output_type": "stream",
     "text": [
      "18/18 [==============================] - 2s 78ms/step - loss: 1893.3192 - val_loss: 1634.8511\n",
      "Epoch 2/100\n",
      " 1/18 [>.............................] - ETA: 0s - loss: 198.6396"
     ]
    },
    {
     "name": "stderr",
     "output_type": "stream",
     "text": [
      "WARNING:absl:Found untraced functions such as _jit_compiled_convolution_op while saving (showing 1 of 1). These functions will not be directly callable after loading.\n"
     ]
    },
    {
     "name": "stdout",
     "output_type": "stream",
     "text": [
      "INFO:tensorflow:Assets written to: model_experiments\\model_4_Conv1D\\assets\n"
     ]
    },
    {
     "name": "stderr",
     "output_type": "stream",
     "text": [
      "INFO:tensorflow:Assets written to: model_experiments\\model_4_Conv1D\\assets\n"
     ]
    },
    {
     "name": "stdout",
     "output_type": "stream",
     "text": [
      "18/18 [==============================] - 1s 58ms/step - loss: 332.7580 - val_loss: 1570.6257\n",
      "Epoch 3/100\n",
      " 1/18 [>.............................] - ETA: 0s - loss: 207.2676"
     ]
    },
    {
     "name": "stderr",
     "output_type": "stream",
     "text": [
      "WARNING:absl:Found untraced functions such as _jit_compiled_convolution_op while saving (showing 1 of 1). These functions will not be directly callable after loading.\n"
     ]
    },
    {
     "name": "stdout",
     "output_type": "stream",
     "text": [
      "INFO:tensorflow:Assets written to: model_experiments\\model_4_Conv1D\\assets\n"
     ]
    },
    {
     "name": "stderr",
     "output_type": "stream",
     "text": [
      "INFO:tensorflow:Assets written to: model_experiments\\model_4_Conv1D\\assets\n"
     ]
    },
    {
     "name": "stdout",
     "output_type": "stream",
     "text": [
      "18/18 [==============================] - 1s 61ms/step - loss: 224.7741 - val_loss: 1053.6631\n",
      "Epoch 4/100\n",
      " 1/18 [>.............................] - ETA: 0s - loss: 236.1791"
     ]
    },
    {
     "name": "stderr",
     "output_type": "stream",
     "text": [
      "WARNING:absl:Found untraced functions such as _jit_compiled_convolution_op while saving (showing 1 of 1). These functions will not be directly callable after loading.\n"
     ]
    },
    {
     "name": "stdout",
     "output_type": "stream",
     "text": [
      "INFO:tensorflow:Assets written to: model_experiments\\model_4_Conv1D\\assets\n"
     ]
    },
    {
     "name": "stderr",
     "output_type": "stream",
     "text": [
      "INFO:tensorflow:Assets written to: model_experiments\\model_4_Conv1D\\assets\n"
     ]
    },
    {
     "name": "stdout",
     "output_type": "stream",
     "text": [
      "18/18 [==============================] - 1s 73ms/step - loss: 189.1512 - val_loss: 1020.3878\n",
      "Epoch 5/100\n",
      "18/18 [==============================] - 0s 5ms/step - loss: 184.0037 - val_loss: 1026.6226\n",
      "Epoch 6/100\n",
      " 1/18 [>.............................] - ETA: 0s - loss: 140.7918"
     ]
    },
    {
     "name": "stderr",
     "output_type": "stream",
     "text": [
      "WARNING:absl:Found untraced functions such as _jit_compiled_convolution_op while saving (showing 1 of 1). These functions will not be directly callable after loading.\n"
     ]
    },
    {
     "name": "stdout",
     "output_type": "stream",
     "text": [
      "INFO:tensorflow:Assets written to: model_experiments\\model_4_Conv1D\\assets\n"
     ]
    },
    {
     "name": "stderr",
     "output_type": "stream",
     "text": [
      "INFO:tensorflow:Assets written to: model_experiments\\model_4_Conv1D\\assets\n"
     ]
    },
    {
     "name": "stdout",
     "output_type": "stream",
     "text": [
      "18/18 [==============================] - 1s 79ms/step - loss: 181.2381 - val_loss: 1005.6751\n",
      "Epoch 7/100\n",
      "18/18 [==============================] - ETA: 0s - loss: 180.7918"
     ]
    },
    {
     "name": "stderr",
     "output_type": "stream",
     "text": [
      "WARNING:absl:Found untraced functions such as _jit_compiled_convolution_op while saving (showing 1 of 1). These functions will not be directly callable after loading.\n"
     ]
    },
    {
     "name": "stdout",
     "output_type": "stream",
     "text": [
      "INFO:tensorflow:Assets written to: model_experiments\\model_4_Conv1D\\assets\n"
     ]
    },
    {
     "name": "stderr",
     "output_type": "stream",
     "text": [
      "INFO:tensorflow:Assets written to: model_experiments\\model_4_Conv1D\\assets\n"
     ]
    },
    {
     "name": "stdout",
     "output_type": "stream",
     "text": [
      "18/18 [==============================] - 1s 78ms/step - loss: 180.7918 - val_loss: 984.4146\n",
      "Epoch 8/100\n",
      "18/18 [==============================] - 0s 6ms/step - loss: 175.7115 - val_loss: 991.3198\n",
      "Epoch 9/100\n",
      "16/18 [=========================>....] - ETA: 0s - loss: 175.8259"
     ]
    },
    {
     "name": "stderr",
     "output_type": "stream",
     "text": [
      "WARNING:absl:Found untraced functions such as _jit_compiled_convolution_op while saving (showing 1 of 1). These functions will not be directly callable after loading.\n"
     ]
    },
    {
     "name": "stdout",
     "output_type": "stream",
     "text": [
      "INFO:tensorflow:Assets written to: model_experiments\\model_4_Conv1D\\assets\n"
     ]
    },
    {
     "name": "stderr",
     "output_type": "stream",
     "text": [
      "INFO:tensorflow:Assets written to: model_experiments\\model_4_Conv1D\\assets\n"
     ]
    },
    {
     "name": "stdout",
     "output_type": "stream",
     "text": [
      "18/18 [==============================] - 2s 92ms/step - loss: 172.5461 - val_loss: 980.3820\n",
      "Epoch 10/100\n",
      "16/18 [=========================>....] - ETA: 0s - loss: 167.9690"
     ]
    },
    {
     "name": "stderr",
     "output_type": "stream",
     "text": [
      "WARNING:absl:Found untraced functions such as _jit_compiled_convolution_op while saving (showing 1 of 1). These functions will not be directly callable after loading.\n"
     ]
    },
    {
     "name": "stdout",
     "output_type": "stream",
     "text": [
      "INFO:tensorflow:Assets written to: model_experiments\\model_4_Conv1D\\assets\n"
     ]
    },
    {
     "name": "stderr",
     "output_type": "stream",
     "text": [
      "INFO:tensorflow:Assets written to: model_experiments\\model_4_Conv1D\\assets\n"
     ]
    },
    {
     "name": "stdout",
     "output_type": "stream",
     "text": [
      "18/18 [==============================] - 1s 65ms/step - loss: 170.4978 - val_loss: 958.1945\n",
      "Epoch 11/100\n",
      " 1/18 [>.............................] - ETA: 0s - loss: 186.9573"
     ]
    },
    {
     "name": "stderr",
     "output_type": "stream",
     "text": [
      "WARNING:absl:Found untraced functions such as _jit_compiled_convolution_op while saving (showing 1 of 1). These functions will not be directly callable after loading.\n"
     ]
    },
    {
     "name": "stdout",
     "output_type": "stream",
     "text": [
      "INFO:tensorflow:Assets written to: model_experiments\\model_4_Conv1D\\assets\n"
     ]
    },
    {
     "name": "stderr",
     "output_type": "stream",
     "text": [
      "INFO:tensorflow:Assets written to: model_experiments\\model_4_Conv1D\\assets\n"
     ]
    },
    {
     "name": "stdout",
     "output_type": "stream",
     "text": [
      "18/18 [==============================] - 1s 63ms/step - loss: 168.0354 - val_loss: 920.3323\n",
      "Epoch 12/100\n",
      "18/18 [==============================] - 0s 5ms/step - loss: 166.9031 - val_loss: 1011.4097\n",
      "Epoch 13/100\n",
      " 1/18 [>.............................] - ETA: 0s - loss: 129.0079"
     ]
    },
    {
     "name": "stderr",
     "output_type": "stream",
     "text": [
      "WARNING:absl:Found untraced functions such as _jit_compiled_convolution_op while saving (showing 1 of 1). These functions will not be directly callable after loading.\n"
     ]
    },
    {
     "name": "stdout",
     "output_type": "stream",
     "text": [
      "INFO:tensorflow:Assets written to: model_experiments\\model_4_Conv1D\\assets\n"
     ]
    },
    {
     "name": "stderr",
     "output_type": "stream",
     "text": [
      "INFO:tensorflow:Assets written to: model_experiments\\model_4_Conv1D\\assets\n"
     ]
    },
    {
     "name": "stdout",
     "output_type": "stream",
     "text": [
      "18/18 [==============================] - 1s 66ms/step - loss: 163.0651 - val_loss: 898.3171\n",
      "Epoch 14/100\n",
      "15/18 [========================>.....] - ETA: 0s - loss: 156.2404"
     ]
    },
    {
     "name": "stderr",
     "output_type": "stream",
     "text": [
      "WARNING:absl:Found untraced functions such as _jit_compiled_convolution_op while saving (showing 1 of 1). These functions will not be directly callable after loading.\n"
     ]
    },
    {
     "name": "stdout",
     "output_type": "stream",
     "text": [
      "INFO:tensorflow:Assets written to: model_experiments\\model_4_Conv1D\\assets\n"
     ]
    },
    {
     "name": "stderr",
     "output_type": "stream",
     "text": [
      "INFO:tensorflow:Assets written to: model_experiments\\model_4_Conv1D\\assets\n"
     ]
    },
    {
     "name": "stdout",
     "output_type": "stream",
     "text": [
      "18/18 [==============================] - 1s 54ms/step - loss: 157.6646 - val_loss: 893.0358\n",
      "Epoch 15/100\n",
      "18/18 [==============================] - 0s 6ms/step - loss: 156.7437 - val_loss: 918.2340\n",
      "Epoch 16/100\n",
      "17/18 [===========================>..] - ETA: 0s - loss: 154.6000"
     ]
    },
    {
     "name": "stderr",
     "output_type": "stream",
     "text": [
      "WARNING:absl:Found untraced functions such as _jit_compiled_convolution_op while saving (showing 1 of 1). These functions will not be directly callable after loading.\n"
     ]
    },
    {
     "name": "stdout",
     "output_type": "stream",
     "text": [
      "INFO:tensorflow:Assets written to: model_experiments\\model_4_Conv1D\\assets\n"
     ]
    },
    {
     "name": "stderr",
     "output_type": "stream",
     "text": [
      "INFO:tensorflow:Assets written to: model_experiments\\model_4_Conv1D\\assets\n"
     ]
    },
    {
     "name": "stdout",
     "output_type": "stream",
     "text": [
      "18/18 [==============================] - 1s 54ms/step - loss: 152.9076 - val_loss: 844.9621\n",
      "Epoch 17/100\n",
      "18/18 [==============================] - 0s 7ms/step - loss: 149.3104 - val_loss: 873.4805\n",
      "Epoch 18/100\n",
      "17/18 [===========================>..] - ETA: 0s - loss: 148.8135"
     ]
    },
    {
     "name": "stderr",
     "output_type": "stream",
     "text": [
      "WARNING:absl:Found untraced functions such as _jit_compiled_convolution_op while saving (showing 1 of 1). These functions will not be directly callable after loading.\n"
     ]
    },
    {
     "name": "stdout",
     "output_type": "stream",
     "text": [
      "INFO:tensorflow:Assets written to: model_experiments\\model_4_Conv1D\\assets\n"
     ]
    },
    {
     "name": "stderr",
     "output_type": "stream",
     "text": [
      "INFO:tensorflow:Assets written to: model_experiments\\model_4_Conv1D\\assets\n"
     ]
    },
    {
     "name": "stdout",
     "output_type": "stream",
     "text": [
      "18/18 [==============================] - 1s 57ms/step - loss: 147.6680 - val_loss: 836.8954\n",
      "Epoch 19/100\n",
      " 1/18 [>.............................] - ETA: 0s - loss: 82.5707"
     ]
    },
    {
     "name": "stderr",
     "output_type": "stream",
     "text": [
      "WARNING:absl:Found untraced functions such as _jit_compiled_convolution_op while saving (showing 1 of 1). These functions will not be directly callable after loading.\n"
     ]
    },
    {
     "name": "stdout",
     "output_type": "stream",
     "text": [
      "INFO:tensorflow:Assets written to: model_experiments\\model_4_Conv1D\\assets\n"
     ]
    },
    {
     "name": "stderr",
     "output_type": "stream",
     "text": [
      "INFO:tensorflow:Assets written to: model_experiments\\model_4_Conv1D\\assets\n"
     ]
    },
    {
     "name": "stdout",
     "output_type": "stream",
     "text": [
      "18/18 [==============================] - 1s 62ms/step - loss: 144.3254 - val_loss: 807.6570\n",
      "Epoch 20/100\n",
      "16/18 [=========================>....] - ETA: 0s - loss: 142.2625"
     ]
    },
    {
     "name": "stderr",
     "output_type": "stream",
     "text": [
      "WARNING:absl:Found untraced functions such as _jit_compiled_convolution_op while saving (showing 1 of 1). These functions will not be directly callable after loading.\n"
     ]
    },
    {
     "name": "stdout",
     "output_type": "stream",
     "text": [
      "INFO:tensorflow:Assets written to: model_experiments\\model_4_Conv1D\\assets\n"
     ]
    },
    {
     "name": "stderr",
     "output_type": "stream",
     "text": [
      "INFO:tensorflow:Assets written to: model_experiments\\model_4_Conv1D\\assets\n"
     ]
    },
    {
     "name": "stdout",
     "output_type": "stream",
     "text": [
      "18/18 [==============================] - 1s 54ms/step - loss: 142.9945 - val_loss: 797.5064\n",
      "Epoch 21/100\n",
      " 1/18 [>.............................] - ETA: 0s - loss: 194.5770"
     ]
    },
    {
     "name": "stderr",
     "output_type": "stream",
     "text": [
      "WARNING:absl:Found untraced functions such as _jit_compiled_convolution_op while saving (showing 1 of 1). These functions will not be directly callable after loading.\n"
     ]
    },
    {
     "name": "stdout",
     "output_type": "stream",
     "text": [
      "INFO:tensorflow:Assets written to: model_experiments\\model_4_Conv1D\\assets\n"
     ]
    },
    {
     "name": "stderr",
     "output_type": "stream",
     "text": [
      "INFO:tensorflow:Assets written to: model_experiments\\model_4_Conv1D\\assets\n"
     ]
    },
    {
     "name": "stdout",
     "output_type": "stream",
     "text": [
      "18/18 [==============================] - 1s 46ms/step - loss: 141.5529 - val_loss: 764.1423\n",
      "Epoch 22/100\n",
      " 1/18 [>.............................] - ETA: 0s - loss: 188.5090"
     ]
    },
    {
     "name": "stderr",
     "output_type": "stream",
     "text": [
      "WARNING:absl:Found untraced functions such as _jit_compiled_convolution_op while saving (showing 1 of 1). These functions will not be directly callable after loading.\n"
     ]
    },
    {
     "name": "stdout",
     "output_type": "stream",
     "text": [
      "INFO:tensorflow:Assets written to: model_experiments\\model_4_Conv1D\\assets\n"
     ]
    },
    {
     "name": "stderr",
     "output_type": "stream",
     "text": [
      "INFO:tensorflow:Assets written to: model_experiments\\model_4_Conv1D\\assets\n"
     ]
    },
    {
     "name": "stdout",
     "output_type": "stream",
     "text": [
      "18/18 [==============================] - 1s 66ms/step - loss: 139.0352 - val_loss: 758.7663\n",
      "Epoch 23/100\n",
      " 1/18 [>.............................] - ETA: 0s - loss: 156.6166"
     ]
    },
    {
     "name": "stderr",
     "output_type": "stream",
     "text": [
      "WARNING:absl:Found untraced functions such as _jit_compiled_convolution_op while saving (showing 1 of 1). These functions will not be directly callable after loading.\n"
     ]
    },
    {
     "name": "stdout",
     "output_type": "stream",
     "text": [
      "INFO:tensorflow:Assets written to: model_experiments\\model_4_Conv1D\\assets\n"
     ]
    },
    {
     "name": "stderr",
     "output_type": "stream",
     "text": [
      "INFO:tensorflow:Assets written to: model_experiments\\model_4_Conv1D\\assets\n"
     ]
    },
    {
     "name": "stdout",
     "output_type": "stream",
     "text": [
      "18/18 [==============================] - 1s 41ms/step - loss: 135.0792 - val_loss: 752.7745\n",
      "Epoch 24/100\n",
      " 1/18 [>.............................] - ETA: 0s - loss: 150.3170"
     ]
    },
    {
     "name": "stderr",
     "output_type": "stream",
     "text": [
      "WARNING:absl:Found untraced functions such as _jit_compiled_convolution_op while saving (showing 1 of 1). These functions will not be directly callable after loading.\n"
     ]
    },
    {
     "name": "stdout",
     "output_type": "stream",
     "text": [
      "INFO:tensorflow:Assets written to: model_experiments\\model_4_Conv1D\\assets\n"
     ]
    },
    {
     "name": "stderr",
     "output_type": "stream",
     "text": [
      "INFO:tensorflow:Assets written to: model_experiments\\model_4_Conv1D\\assets\n"
     ]
    },
    {
     "name": "stdout",
     "output_type": "stream",
     "text": [
      "18/18 [==============================] - 1s 46ms/step - loss: 135.0432 - val_loss: 738.1557\n",
      "Epoch 25/100\n",
      " 1/18 [>.............................] - ETA: 0s - loss: 140.0062"
     ]
    },
    {
     "name": "stderr",
     "output_type": "stream",
     "text": [
      "WARNING:absl:Found untraced functions such as _jit_compiled_convolution_op while saving (showing 1 of 1). These functions will not be directly callable after loading.\n"
     ]
    },
    {
     "name": "stdout",
     "output_type": "stream",
     "text": [
      "INFO:tensorflow:Assets written to: model_experiments\\model_4_Conv1D\\assets\n"
     ]
    },
    {
     "name": "stderr",
     "output_type": "stream",
     "text": [
      "INFO:tensorflow:Assets written to: model_experiments\\model_4_Conv1D\\assets\n"
     ]
    },
    {
     "name": "stdout",
     "output_type": "stream",
     "text": [
      "18/18 [==============================] - 1s 60ms/step - loss: 135.8526 - val_loss: 721.5645\n",
      "Epoch 26/100\n",
      " 1/18 [>.............................] - ETA: 0s - loss: 133.1485"
     ]
    },
    {
     "name": "stderr",
     "output_type": "stream",
     "text": [
      "WARNING:absl:Found untraced functions such as _jit_compiled_convolution_op while saving (showing 1 of 1). These functions will not be directly callable after loading.\n"
     ]
    },
    {
     "name": "stdout",
     "output_type": "stream",
     "text": [
      "INFO:tensorflow:Assets written to: model_experiments\\model_4_Conv1D\\assets\n"
     ]
    },
    {
     "name": "stderr",
     "output_type": "stream",
     "text": [
      "INFO:tensorflow:Assets written to: model_experiments\\model_4_Conv1D\\assets\n"
     ]
    },
    {
     "name": "stdout",
     "output_type": "stream",
     "text": [
      "18/18 [==============================] - 1s 68ms/step - loss: 130.4897 - val_loss: 712.6089\n",
      "Epoch 27/100\n",
      "15/18 [========================>.....] - ETA: 0s - loss: 129.3808"
     ]
    },
    {
     "name": "stderr",
     "output_type": "stream",
     "text": [
      "WARNING:absl:Found untraced functions such as _jit_compiled_convolution_op while saving (showing 1 of 1). These functions will not be directly callable after loading.\n"
     ]
    },
    {
     "name": "stdout",
     "output_type": "stream",
     "text": [
      "INFO:tensorflow:Assets written to: model_experiments\\model_4_Conv1D\\assets\n"
     ]
    },
    {
     "name": "stderr",
     "output_type": "stream",
     "text": [
      "INFO:tensorflow:Assets written to: model_experiments\\model_4_Conv1D\\assets\n"
     ]
    },
    {
     "name": "stdout",
     "output_type": "stream",
     "text": [
      "18/18 [==============================] - 1s 47ms/step - loss: 129.7990 - val_loss: 704.0527\n",
      "Epoch 28/100\n",
      " 1/18 [>.............................] - ETA: 0s - loss: 133.2837"
     ]
    },
    {
     "name": "stderr",
     "output_type": "stream",
     "text": [
      "WARNING:absl:Found untraced functions such as _jit_compiled_convolution_op while saving (showing 1 of 1). These functions will not be directly callable after loading.\n"
     ]
    },
    {
     "name": "stdout",
     "output_type": "stream",
     "text": [
      "INFO:tensorflow:Assets written to: model_experiments\\model_4_Conv1D\\assets\n"
     ]
    },
    {
     "name": "stderr",
     "output_type": "stream",
     "text": [
      "INFO:tensorflow:Assets written to: model_experiments\\model_4_Conv1D\\assets\n"
     ]
    },
    {
     "name": "stdout",
     "output_type": "stream",
     "text": [
      "18/18 [==============================] - 1s 44ms/step - loss: 127.9258 - val_loss: 692.9260\n",
      "Epoch 29/100\n",
      "18/18 [==============================] - 0s 5ms/step - loss: 127.5961 - val_loss: 713.0555\n",
      "Epoch 30/100\n",
      "18/18 [==============================] - 0s 3ms/step - loss: 130.0466 - val_loss: 817.3825\n",
      "Epoch 31/100\n",
      "18/18 [==============================] - 0s 4ms/step - loss: 138.9933 - val_loss: 762.0102\n",
      "Epoch 32/100\n",
      " 1/18 [>.............................] - ETA: 0s - loss: 124.5423"
     ]
    },
    {
     "name": "stderr",
     "output_type": "stream",
     "text": [
      "WARNING:absl:Found untraced functions such as _jit_compiled_convolution_op while saving (showing 1 of 1). These functions will not be directly callable after loading.\n"
     ]
    },
    {
     "name": "stdout",
     "output_type": "stream",
     "text": [
      "INFO:tensorflow:Assets written to: model_experiments\\model_4_Conv1D\\assets\n"
     ]
    },
    {
     "name": "stderr",
     "output_type": "stream",
     "text": [
      "INFO:tensorflow:Assets written to: model_experiments\\model_4_Conv1D\\assets\n"
     ]
    },
    {
     "name": "stdout",
     "output_type": "stream",
     "text": [
      "18/18 [==============================] - 1s 42ms/step - loss: 130.9362 - val_loss: 666.6470\n",
      "Epoch 33/100\n",
      "18/18 [==============================] - 0s 5ms/step - loss: 128.8841 - val_loss: 682.5341\n",
      "Epoch 34/100\n",
      " 1/18 [>.............................] - ETA: 0s - loss: 128.0944"
     ]
    },
    {
     "name": "stderr",
     "output_type": "stream",
     "text": [
      "WARNING:absl:Found untraced functions such as _jit_compiled_convolution_op while saving (showing 1 of 1). These functions will not be directly callable after loading.\n"
     ]
    },
    {
     "name": "stdout",
     "output_type": "stream",
     "text": [
      "INFO:tensorflow:Assets written to: model_experiments\\model_4_Conv1D\\assets\n"
     ]
    },
    {
     "name": "stderr",
     "output_type": "stream",
     "text": [
      "INFO:tensorflow:Assets written to: model_experiments\\model_4_Conv1D\\assets\n"
     ]
    },
    {
     "name": "stdout",
     "output_type": "stream",
     "text": [
      "18/18 [==============================] - 1s 43ms/step - loss: 123.1640 - val_loss: 655.9390\n",
      "Epoch 35/100\n",
      " 1/18 [>.............................] - ETA: 0s - loss: 108.3011"
     ]
    },
    {
     "name": "stderr",
     "output_type": "stream",
     "text": [
      "WARNING:absl:Found untraced functions such as _jit_compiled_convolution_op while saving (showing 1 of 1). These functions will not be directly callable after loading.\n"
     ]
    },
    {
     "name": "stdout",
     "output_type": "stream",
     "text": [
      "INFO:tensorflow:Assets written to: model_experiments\\model_4_Conv1D\\assets\n"
     ]
    },
    {
     "name": "stderr",
     "output_type": "stream",
     "text": [
      "INFO:tensorflow:Assets written to: model_experiments\\model_4_Conv1D\\assets\n"
     ]
    },
    {
     "name": "stdout",
     "output_type": "stream",
     "text": [
      "18/18 [==============================] - 1s 55ms/step - loss: 121.1310 - val_loss: 653.2987\n",
      "Epoch 36/100\n",
      "18/18 [==============================] - 0s 4ms/step - loss: 125.6940 - val_loss: 711.1445\n",
      "Epoch 37/100\n",
      " 1/18 [>.............................] - ETA: 0s - loss: 155.3502"
     ]
    },
    {
     "name": "stderr",
     "output_type": "stream",
     "text": [
      "WARNING:absl:Found untraced functions such as _jit_compiled_convolution_op while saving (showing 1 of 1). These functions will not be directly callable after loading.\n"
     ]
    },
    {
     "name": "stdout",
     "output_type": "stream",
     "text": [
      "INFO:tensorflow:Assets written to: model_experiments\\model_4_Conv1D\\assets\n"
     ]
    },
    {
     "name": "stderr",
     "output_type": "stream",
     "text": [
      "INFO:tensorflow:Assets written to: model_experiments\\model_4_Conv1D\\assets\n"
     ]
    },
    {
     "name": "stdout",
     "output_type": "stream",
     "text": [
      "18/18 [==============================] - 1s 41ms/step - loss: 121.0665 - val_loss: 642.4099\n",
      "Epoch 38/100\n",
      " 1/18 [>.............................] - ETA: 0s - loss: 108.3998"
     ]
    },
    {
     "name": "stderr",
     "output_type": "stream",
     "text": [
      "WARNING:absl:Found untraced functions such as _jit_compiled_convolution_op while saving (showing 1 of 1). These functions will not be directly callable after loading.\n"
     ]
    },
    {
     "name": "stdout",
     "output_type": "stream",
     "text": [
      "INFO:tensorflow:Assets written to: model_experiments\\model_4_Conv1D\\assets\n"
     ]
    },
    {
     "name": "stderr",
     "output_type": "stream",
     "text": [
      "INFO:tensorflow:Assets written to: model_experiments\\model_4_Conv1D\\assets\n"
     ]
    },
    {
     "name": "stdout",
     "output_type": "stream",
     "text": [
      "18/18 [==============================] - 1s 43ms/step - loss: 119.7561 - val_loss: 637.6141\n",
      "Epoch 39/100\n",
      "18/18 [==============================] - 0s 4ms/step - loss: 118.9303 - val_loss: 655.4014\n",
      "Epoch 40/100\n",
      "18/18 [==============================] - 0s 4ms/step - loss: 118.4512 - val_loss: 640.7108\n",
      "Epoch 41/100\n",
      " 1/18 [>.............................] - ETA: 0s - loss: 105.1078"
     ]
    },
    {
     "name": "stderr",
     "output_type": "stream",
     "text": [
      "WARNING:absl:Found untraced functions such as _jit_compiled_convolution_op while saving (showing 1 of 1). These functions will not be directly callable after loading.\n"
     ]
    },
    {
     "name": "stdout",
     "output_type": "stream",
     "text": [
      "INFO:tensorflow:Assets written to: model_experiments\\model_4_Conv1D\\assets\n"
     ]
    },
    {
     "name": "stderr",
     "output_type": "stream",
     "text": [
      "INFO:tensorflow:Assets written to: model_experiments\\model_4_Conv1D\\assets\n"
     ]
    },
    {
     "name": "stdout",
     "output_type": "stream",
     "text": [
      "18/18 [==============================] - 1s 45ms/step - loss: 118.8264 - val_loss: 634.9948\n",
      "Epoch 42/100\n",
      " 1/18 [>.............................] - ETA: 0s - loss: 111.3590"
     ]
    },
    {
     "name": "stderr",
     "output_type": "stream",
     "text": [
      "WARNING:absl:Found untraced functions such as _jit_compiled_convolution_op while saving (showing 1 of 1). These functions will not be directly callable after loading.\n"
     ]
    },
    {
     "name": "stdout",
     "output_type": "stream",
     "text": [
      "INFO:tensorflow:Assets written to: model_experiments\\model_4_Conv1D\\assets\n"
     ]
    },
    {
     "name": "stderr",
     "output_type": "stream",
     "text": [
      "INFO:tensorflow:Assets written to: model_experiments\\model_4_Conv1D\\assets\n"
     ]
    },
    {
     "name": "stdout",
     "output_type": "stream",
     "text": [
      "18/18 [==============================] - 1s 44ms/step - loss: 121.4198 - val_loss: 623.0333\n",
      "Epoch 43/100\n",
      "18/18 [==============================] - 0s 6ms/step - loss: 115.7104 - val_loss: 628.3295\n",
      "Epoch 44/100\n",
      " 1/18 [>.............................] - ETA: 0s - loss: 70.5580"
     ]
    },
    {
     "name": "stderr",
     "output_type": "stream",
     "text": [
      "WARNING:absl:Found untraced functions such as _jit_compiled_convolution_op while saving (showing 1 of 1). These functions will not be directly callable after loading.\n"
     ]
    },
    {
     "name": "stdout",
     "output_type": "stream",
     "text": [
      "INFO:tensorflow:Assets written to: model_experiments\\model_4_Conv1D\\assets\n"
     ]
    },
    {
     "name": "stderr",
     "output_type": "stream",
     "text": [
      "INFO:tensorflow:Assets written to: model_experiments\\model_4_Conv1D\\assets\n"
     ]
    },
    {
     "name": "stdout",
     "output_type": "stream",
     "text": [
      "18/18 [==============================] - 1s 43ms/step - loss: 117.5235 - val_loss: 620.5363\n",
      "Epoch 45/100\n",
      "18/18 [==============================] - 0s 5ms/step - loss: 118.4525 - val_loss: 631.6389\n",
      "Epoch 46/100\n",
      " 1/18 [>.............................] - ETA: 0s - loss: 90.2682"
     ]
    },
    {
     "name": "stderr",
     "output_type": "stream",
     "text": [
      "WARNING:absl:Found untraced functions such as _jit_compiled_convolution_op while saving (showing 1 of 1). These functions will not be directly callable after loading.\n"
     ]
    },
    {
     "name": "stdout",
     "output_type": "stream",
     "text": [
      "INFO:tensorflow:Assets written to: model_experiments\\model_4_Conv1D\\assets\n"
     ]
    },
    {
     "name": "stderr",
     "output_type": "stream",
     "text": [
      "INFO:tensorflow:Assets written to: model_experiments\\model_4_Conv1D\\assets\n"
     ]
    },
    {
     "name": "stdout",
     "output_type": "stream",
     "text": [
      "18/18 [==============================] - 1s 44ms/step - loss: 117.7279 - val_loss: 614.2361\n",
      "Epoch 47/100\n",
      "18/18 [==============================] - 0s 6ms/step - loss: 119.0682 - val_loss: 659.0334\n",
      "Epoch 48/100\n",
      "18/18 [==============================] - 0s 7ms/step - loss: 116.3454 - val_loss: 649.3118\n",
      "Epoch 49/100\n",
      "18/18 [==============================] - 0s 6ms/step - loss: 116.7241 - val_loss: 617.0728\n",
      "Epoch 50/100\n",
      " 1/18 [>.............................] - ETA: 0s - loss: 136.7938"
     ]
    },
    {
     "name": "stderr",
     "output_type": "stream",
     "text": [
      "WARNING:absl:Found untraced functions such as _jit_compiled_convolution_op while saving (showing 1 of 1). These functions will not be directly callable after loading.\n"
     ]
    },
    {
     "name": "stdout",
     "output_type": "stream",
     "text": [
      "INFO:tensorflow:Assets written to: model_experiments\\model_4_Conv1D\\assets\n"
     ]
    },
    {
     "name": "stderr",
     "output_type": "stream",
     "text": [
      "INFO:tensorflow:Assets written to: model_experiments\\model_4_Conv1D\\assets\n"
     ]
    },
    {
     "name": "stdout",
     "output_type": "stream",
     "text": [
      "18/18 [==============================] - 1s 44ms/step - loss: 114.5670 - val_loss: 611.6951\n",
      "Epoch 51/100\n",
      "18/18 [==============================] - 0s 4ms/step - loss: 114.5209 - val_loss: 619.2477\n",
      "Epoch 52/100\n",
      "18/18 [==============================] - 0s 5ms/step - loss: 115.8264 - val_loss: 613.0349\n",
      "Epoch 53/100\n",
      " 1/18 [>.............................] - ETA: 0s - loss: 62.0575"
     ]
    },
    {
     "name": "stderr",
     "output_type": "stream",
     "text": [
      "WARNING:absl:Found untraced functions such as _jit_compiled_convolution_op while saving (showing 1 of 1). These functions will not be directly callable after loading.\n"
     ]
    },
    {
     "name": "stdout",
     "output_type": "stream",
     "text": [
      "INFO:tensorflow:Assets written to: model_experiments\\model_4_Conv1D\\assets\n"
     ]
    },
    {
     "name": "stderr",
     "output_type": "stream",
     "text": [
      "INFO:tensorflow:Assets written to: model_experiments\\model_4_Conv1D\\assets\n"
     ]
    },
    {
     "name": "stdout",
     "output_type": "stream",
     "text": [
      "18/18 [==============================] - 1s 41ms/step - loss: 117.0059 - val_loss: 609.7211\n",
      "Epoch 54/100\n",
      "18/18 [==============================] - 0s 4ms/step - loss: 113.9308 - val_loss: 612.8981\n",
      "Epoch 55/100\n",
      " 1/18 [>.............................] - ETA: 0s - loss: 131.6013"
     ]
    },
    {
     "name": "stderr",
     "output_type": "stream",
     "text": [
      "WARNING:absl:Found untraced functions such as _jit_compiled_convolution_op while saving (showing 1 of 1). These functions will not be directly callable after loading.\n"
     ]
    },
    {
     "name": "stdout",
     "output_type": "stream",
     "text": [
      "INFO:tensorflow:Assets written to: model_experiments\\model_4_Conv1D\\assets\n"
     ]
    },
    {
     "name": "stderr",
     "output_type": "stream",
     "text": [
      "INFO:tensorflow:Assets written to: model_experiments\\model_4_Conv1D\\assets\n"
     ]
    },
    {
     "name": "stdout",
     "output_type": "stream",
     "text": [
      "18/18 [==============================] - 1s 48ms/step - loss: 115.3056 - val_loss: 601.2684\n",
      "Epoch 56/100\n",
      "18/18 [==============================] - 0s 5ms/step - loss: 117.2629 - val_loss: 746.4962\n",
      "Epoch 57/100\n",
      "18/18 [==============================] - 0s 5ms/step - loss: 138.9679 - val_loss: 610.0576\n",
      "Epoch 58/100\n",
      "18/18 [==============================] - 0s 5ms/step - loss: 119.5932 - val_loss: 637.7065\n",
      "Epoch 59/100\n",
      " 1/18 [>.............................] - ETA: 0s - loss: 80.0859"
     ]
    },
    {
     "name": "stderr",
     "output_type": "stream",
     "text": [
      "WARNING:absl:Found untraced functions such as _jit_compiled_convolution_op while saving (showing 1 of 1). These functions will not be directly callable after loading.\n"
     ]
    },
    {
     "name": "stdout",
     "output_type": "stream",
     "text": [
      "INFO:tensorflow:Assets written to: model_experiments\\model_4_Conv1D\\assets\n"
     ]
    },
    {
     "name": "stderr",
     "output_type": "stream",
     "text": [
      "INFO:tensorflow:Assets written to: model_experiments\\model_4_Conv1D\\assets\n"
     ]
    },
    {
     "name": "stdout",
     "output_type": "stream",
     "text": [
      "18/18 [==============================] - 1s 54ms/step - loss: 112.7483 - val_loss: 595.4193\n",
      "Epoch 60/100\n",
      "18/18 [==============================] - 0s 4ms/step - loss: 112.2763 - val_loss: 604.5424\n",
      "Epoch 61/100\n",
      "18/18 [==============================] - 0s 6ms/step - loss: 112.7843 - val_loss: 601.3557\n",
      "Epoch 62/100\n",
      "16/18 [=========================>....] - ETA: 0s - loss: 113.3403"
     ]
    },
    {
     "name": "stderr",
     "output_type": "stream",
     "text": [
      "WARNING:absl:Found untraced functions such as _jit_compiled_convolution_op while saving (showing 1 of 1). These functions will not be directly callable after loading.\n"
     ]
    },
    {
     "name": "stdout",
     "output_type": "stream",
     "text": [
      "INFO:tensorflow:Assets written to: model_experiments\\model_4_Conv1D\\assets\n"
     ]
    },
    {
     "name": "stderr",
     "output_type": "stream",
     "text": [
      "INFO:tensorflow:Assets written to: model_experiments\\model_4_Conv1D\\assets\n"
     ]
    },
    {
     "name": "stdout",
     "output_type": "stream",
     "text": [
      "18/18 [==============================] - 1s 79ms/step - loss: 111.2591 - val_loss: 591.3976\n",
      "Epoch 63/100\n",
      "18/18 [==============================] - 0s 4ms/step - loss: 112.8492 - val_loss: 605.6402\n",
      "Epoch 64/100\n",
      "18/18 [==============================] - 0s 6ms/step - loss: 113.3062 - val_loss: 668.4282\n",
      "Epoch 65/100\n",
      "18/18 [==============================] - 0s 5ms/step - loss: 118.4198 - val_loss: 595.3486\n",
      "Epoch 66/100\n",
      "18/18 [==============================] - ETA: 0s - loss: 112.9234"
     ]
    },
    {
     "name": "stderr",
     "output_type": "stream",
     "text": [
      "WARNING:absl:Found untraced functions such as _jit_compiled_convolution_op while saving (showing 1 of 1). These functions will not be directly callable after loading.\n"
     ]
    },
    {
     "name": "stdout",
     "output_type": "stream",
     "text": [
      "INFO:tensorflow:Assets written to: model_experiments\\model_4_Conv1D\\assets\n"
     ]
    },
    {
     "name": "stderr",
     "output_type": "stream",
     "text": [
      "INFO:tensorflow:Assets written to: model_experiments\\model_4_Conv1D\\assets\n"
     ]
    },
    {
     "name": "stdout",
     "output_type": "stream",
     "text": [
      "18/18 [==============================] - 1s 49ms/step - loss: 112.9234 - val_loss: 586.9622\n",
      "Epoch 67/100\n",
      "18/18 [==============================] - 0s 4ms/step - loss: 110.6397 - val_loss: 645.3543\n",
      "Epoch 68/100\n",
      "18/18 [==============================] - 0s 4ms/step - loss: 120.1537 - val_loss: 711.2708\n",
      "Epoch 69/100\n",
      "18/18 [==============================] - 0s 4ms/step - loss: 125.1746 - val_loss: 651.8408\n",
      "Epoch 70/100\n",
      " 1/18 [>.............................] - ETA: 0s - loss: 125.6030"
     ]
    },
    {
     "name": "stderr",
     "output_type": "stream",
     "text": [
      "WARNING:absl:Found untraced functions such as _jit_compiled_convolution_op while saving (showing 1 of 1). These functions will not be directly callable after loading.\n"
     ]
    },
    {
     "name": "stdout",
     "output_type": "stream",
     "text": [
      "INFO:tensorflow:Assets written to: model_experiments\\model_4_Conv1D\\assets\n"
     ]
    },
    {
     "name": "stderr",
     "output_type": "stream",
     "text": [
      "INFO:tensorflow:Assets written to: model_experiments\\model_4_Conv1D\\assets\n"
     ]
    },
    {
     "name": "stdout",
     "output_type": "stream",
     "text": [
      "18/18 [==============================] - 1s 42ms/step - loss: 120.9827 - val_loss: 586.8273\n",
      "Epoch 71/100\n",
      "18/18 [==============================] - 0s 5ms/step - loss: 113.5333 - val_loss: 613.0511\n",
      "Epoch 72/100\n",
      " 1/18 [>.............................] - ETA: 0s - loss: 102.0504"
     ]
    },
    {
     "name": "stderr",
     "output_type": "stream",
     "text": [
      "WARNING:absl:Found untraced functions such as _jit_compiled_convolution_op while saving (showing 1 of 1). These functions will not be directly callable after loading.\n"
     ]
    },
    {
     "name": "stdout",
     "output_type": "stream",
     "text": [
      "INFO:tensorflow:Assets written to: model_experiments\\model_4_Conv1D\\assets\n"
     ]
    },
    {
     "name": "stderr",
     "output_type": "stream",
     "text": [
      "INFO:tensorflow:Assets written to: model_experiments\\model_4_Conv1D\\assets\n"
     ]
    },
    {
     "name": "stdout",
     "output_type": "stream",
     "text": [
      "18/18 [==============================] - 1s 38ms/step - loss: 111.2364 - val_loss: 583.0698\n",
      "Epoch 73/100\n",
      "18/18 [==============================] - 0s 5ms/step - loss: 112.2986 - val_loss: 647.8712\n",
      "Epoch 74/100\n",
      "18/18 [==============================] - 0s 5ms/step - loss: 111.0759 - val_loss: 587.0345\n",
      "Epoch 75/100\n",
      " 1/18 [>.............................] - ETA: 0s - loss: 128.6735"
     ]
    },
    {
     "name": "stderr",
     "output_type": "stream",
     "text": [
      "WARNING:absl:Found untraced functions such as _jit_compiled_convolution_op while saving (showing 1 of 1). These functions will not be directly callable after loading.\n"
     ]
    },
    {
     "name": "stdout",
     "output_type": "stream",
     "text": [
      "INFO:tensorflow:Assets written to: model_experiments\\model_4_Conv1D\\assets\n"
     ]
    },
    {
     "name": "stderr",
     "output_type": "stream",
     "text": [
      "INFO:tensorflow:Assets written to: model_experiments\\model_4_Conv1D\\assets\n"
     ]
    },
    {
     "name": "stdout",
     "output_type": "stream",
     "text": [
      "18/18 [==============================] - 1s 42ms/step - loss: 110.3555 - val_loss: 582.6287\n",
      "Epoch 76/100\n",
      " 1/18 [>.............................] - ETA: 0s - loss: 79.0229"
     ]
    },
    {
     "name": "stderr",
     "output_type": "stream",
     "text": [
      "WARNING:absl:Found untraced functions such as _jit_compiled_convolution_op while saving (showing 1 of 1). These functions will not be directly callable after loading.\n"
     ]
    },
    {
     "name": "stdout",
     "output_type": "stream",
     "text": [
      "INFO:tensorflow:Assets written to: model_experiments\\model_4_Conv1D\\assets\n"
     ]
    },
    {
     "name": "stderr",
     "output_type": "stream",
     "text": [
      "INFO:tensorflow:Assets written to: model_experiments\\model_4_Conv1D\\assets\n"
     ]
    },
    {
     "name": "stdout",
     "output_type": "stream",
     "text": [
      "18/18 [==============================] - 1s 45ms/step - loss: 110.8067 - val_loss: 580.9826\n",
      "Epoch 77/100\n",
      "18/18 [==============================] - 0s 5ms/step - loss: 110.5928 - val_loss: 583.6812\n",
      "Epoch 78/100\n",
      "18/18 [==============================] - 0s 5ms/step - loss: 111.1358 - val_loss: 587.0390\n",
      "Epoch 79/100\n",
      "18/18 [==============================] - 0s 5ms/step - loss: 112.3389 - val_loss: 618.9035\n",
      "Epoch 80/100\n",
      "18/18 [==============================] - 0s 4ms/step - loss: 110.3207 - val_loss: 581.2101\n",
      "Epoch 81/100\n",
      " 1/18 [>.............................] - ETA: 0s - loss: 94.4858"
     ]
    },
    {
     "name": "stderr",
     "output_type": "stream",
     "text": [
      "WARNING:absl:Found untraced functions such as _jit_compiled_convolution_op while saving (showing 1 of 1). These functions will not be directly callable after loading.\n"
     ]
    },
    {
     "name": "stdout",
     "output_type": "stream",
     "text": [
      "INFO:tensorflow:Assets written to: model_experiments\\model_4_Conv1D\\assets\n"
     ]
    },
    {
     "name": "stderr",
     "output_type": "stream",
     "text": [
      "INFO:tensorflow:Assets written to: model_experiments\\model_4_Conv1D\\assets\n"
     ]
    },
    {
     "name": "stdout",
     "output_type": "stream",
     "text": [
      "18/18 [==============================] - 1s 39ms/step - loss: 110.0422 - val_loss: 578.3406\n",
      "Epoch 82/100\n",
      " 1/18 [>.............................] - ETA: 0s - loss: 200.6352"
     ]
    },
    {
     "name": "stderr",
     "output_type": "stream",
     "text": [
      "WARNING:absl:Found untraced functions such as _jit_compiled_convolution_op while saving (showing 1 of 1). These functions will not be directly callable after loading.\n"
     ]
    },
    {
     "name": "stdout",
     "output_type": "stream",
     "text": [
      "INFO:tensorflow:Assets written to: model_experiments\\model_4_Conv1D\\assets\n"
     ]
    },
    {
     "name": "stderr",
     "output_type": "stream",
     "text": [
      "INFO:tensorflow:Assets written to: model_experiments\\model_4_Conv1D\\assets\n"
     ]
    },
    {
     "name": "stdout",
     "output_type": "stream",
     "text": [
      "18/18 [==============================] - 1s 41ms/step - loss: 115.9131 - val_loss: 577.0385\n",
      "Epoch 83/100\n",
      "18/18 [==============================] - 0s 5ms/step - loss: 112.4800 - val_loss: 678.7387\n",
      "Epoch 84/100\n",
      "18/18 [==============================] - 0s 4ms/step - loss: 117.4948 - val_loss: 579.9047\n",
      "Epoch 85/100\n",
      " 1/18 [>.............................] - ETA: 0s - loss: 86.0147"
     ]
    },
    {
     "name": "stderr",
     "output_type": "stream",
     "text": [
      "WARNING:absl:Found untraced functions such as _jit_compiled_convolution_op while saving (showing 1 of 1). These functions will not be directly callable after loading.\n"
     ]
    },
    {
     "name": "stdout",
     "output_type": "stream",
     "text": [
      "INFO:tensorflow:Assets written to: model_experiments\\model_4_Conv1D\\assets\n"
     ]
    },
    {
     "name": "stderr",
     "output_type": "stream",
     "text": [
      "INFO:tensorflow:Assets written to: model_experiments\\model_4_Conv1D\\assets\n"
     ]
    },
    {
     "name": "stdout",
     "output_type": "stream",
     "text": [
      "18/18 [==============================] - 1s 45ms/step - loss: 110.7816 - val_loss: 575.6135\n",
      "Epoch 86/100\n",
      "18/18 [==============================] - 0s 4ms/step - loss: 110.6788 - val_loss: 664.4830\n",
      "Epoch 87/100\n",
      "18/18 [==============================] - 0s 4ms/step - loss: 114.5958 - val_loss: 594.7615\n",
      "Epoch 88/100\n",
      "18/18 [==============================] - 0s 4ms/step - loss: 111.6068 - val_loss: 577.6628\n",
      "Epoch 89/100\n",
      "18/18 [==============================] - 0s 4ms/step - loss: 111.8486 - val_loss: 582.8433\n",
      "Epoch 90/100\n",
      "18/18 [==============================] - 0s 4ms/step - loss: 108.2831 - val_loss: 646.7047\n",
      "Epoch 91/100\n",
      "18/18 [==============================] - 0s 5ms/step - loss: 111.6812 - val_loss: 586.3099\n",
      "Epoch 92/100\n",
      "18/18 [==============================] - 0s 5ms/step - loss: 111.1607 - val_loss: 575.7801\n",
      "Epoch 93/100\n",
      "18/18 [==============================] - 0s 5ms/step - loss: 113.8008 - val_loss: 613.7475\n",
      "Epoch 94/100\n",
      " 1/18 [>.............................] - ETA: 0s - loss: 145.0583"
     ]
    },
    {
     "name": "stderr",
     "output_type": "stream",
     "text": [
      "WARNING:absl:Found untraced functions such as _jit_compiled_convolution_op while saving (showing 1 of 1). These functions will not be directly callable after loading.\n"
     ]
    },
    {
     "name": "stdout",
     "output_type": "stream",
     "text": [
      "INFO:tensorflow:Assets written to: model_experiments\\model_4_Conv1D\\assets\n"
     ]
    },
    {
     "name": "stderr",
     "output_type": "stream",
     "text": [
      "INFO:tensorflow:Assets written to: model_experiments\\model_4_Conv1D\\assets\n"
     ]
    },
    {
     "name": "stdout",
     "output_type": "stream",
     "text": [
      "18/18 [==============================] - 1s 64ms/step - loss: 110.4190 - val_loss: 571.5877\n",
      "Epoch 95/100\n",
      "18/18 [==============================] - 0s 5ms/step - loss: 110.5258 - val_loss: 572.2812\n",
      "Epoch 96/100\n",
      "18/18 [==============================] - 0s 5ms/step - loss: 117.3905 - val_loss: 583.4557\n",
      "Epoch 97/100\n",
      "18/18 [==============================] - 0s 4ms/step - loss: 110.7729 - val_loss: 613.9491\n",
      "Epoch 98/100\n",
      "18/18 [==============================] - 0s 5ms/step - loss: 110.6220 - val_loss: 576.4976\n",
      "Epoch 99/100\n",
      "18/18 [==============================] - 0s 4ms/step - loss: 110.4153 - val_loss: 578.3281\n",
      "Epoch 100/100\n",
      "18/18 [==============================] - 0s 5ms/step - loss: 111.4469 - val_loss: 656.7365\n"
     ]
    }
   ],
   "source": [
    "# Creating Conv1D model\n",
    "model_4 = tf.keras.Sequential([\n",
    "    layers.Lambda(lambda x: tf.expand_dims(x, axis=1)),\n",
    "    layers.Conv1D(filters=128, kernel_size=5, strides=1, padding=\"causal\", activation=\"relu\"),\n",
    "    layers.Dense(HORIZON)\n",
    "], name=\"model_4_Conv1D\")\n",
    "\n",
    "# Compiling the model\n",
    "model_4.compile(\n",
    "    loss=\"mae\",\n",
    "    optimizer=tf.keras.optimizers.Adam()\n",
    ")\n",
    "\n",
    "# Fitting the model\n",
    "history_4 = model_4.fit(\n",
    "    train_windows,\n",
    "    train_labels,\n",
    "    batch_size=128,\n",
    "    epochs=100,\n",
    "    validation_data=(test_windows, test_labels),\n",
    "    callbacks=[create_model_checkpoint(model_name=model_4.name)]\n",
    ")"
   ]
  },
  {
   "cell_type": "code",
   "execution_count": 74,
   "metadata": {},
   "outputs": [
    {
     "name": "stdout",
     "output_type": "stream",
     "text": [
      "Model: \"model_4_Conv1D\"\n",
      "_________________________________________________________________\n",
      " Layer (type)                Output Shape              Param #   \n",
      "=================================================================\n",
      " lambda_1 (Lambda)           (None, 1, 7)              0         \n",
      "                                                                 \n",
      " conv1d (Conv1D)             (None, 1, 128)            4608      \n",
      "                                                                 \n",
      " dense_6 (Dense)             (None, 1, 1)              129       \n",
      "                                                                 \n",
      "=================================================================\n",
      "Total params: 4,737\n",
      "Trainable params: 4,737\n",
      "Non-trainable params: 0\n",
      "_________________________________________________________________\n"
     ]
    }
   ],
   "source": [
    "# Checking the model structure\n",
    "model_4.summary()"
   ]
  },
  {
   "cell_type": "code",
   "execution_count": 75,
   "metadata": {},
   "outputs": [
    {
     "name": "stdout",
     "output_type": "stream",
     "text": [
      "18/18 [==============================] - 0s 2ms/step - loss: 656.7365\n"
     ]
    },
    {
     "data": {
      "text/plain": [
       "656.7365112304688"
      ]
     },
     "execution_count": 75,
     "metadata": {},
     "output_type": "execute_result"
    }
   ],
   "source": [
    "# Evaluating the model\n",
    "model_4.evaluate(test_windows, test_labels)"
   ]
  },
  {
   "cell_type": "code",
   "execution_count": 76,
   "metadata": {},
   "outputs": [
    {
     "name": "stdout",
     "output_type": "stream",
     "text": [
      "18/18 [==============================] - 0s 2ms/step - loss: 571.5877\n"
     ]
    },
    {
     "data": {
      "text/plain": [
       "571.5877075195312"
      ]
     },
     "execution_count": 76,
     "metadata": {},
     "output_type": "execute_result"
    }
   ],
   "source": [
    "# Loading back the best performing model\n",
    "model_4 = tf.keras.models.load_model(\"./model_experiments/model_4_Conv1D/\")\n",
    "model_4.evaluate(test_windows, test_labels)"
   ]
  },
  {
   "cell_type": "code",
   "execution_count": 77,
   "metadata": {},
   "outputs": [
    {
     "name": "stdout",
     "output_type": "stream",
     "text": [
      "18/18 [==============================] - 0s 2ms/step\n"
     ]
    },
    {
     "data": {
      "text/plain": [
       "<tf.Tensor: shape=(10,), dtype=float32, numpy=\n",
       "array([8909.03 , 8791.549, 8996.06 , 8818.626, 8759.543, 8742.305,\n",
       "       8687.628, 8559.424, 8466.753, 8523.552], dtype=float32)>"
      ]
     },
     "execution_count": 77,
     "metadata": {},
     "output_type": "execute_result"
    }
   ],
   "source": [
    "# Making predictions\n",
    "model_4_preds = make_preds(model_4, test_windows)\n",
    "model_4_preds[:10]"
   ]
  },
  {
   "cell_type": "code",
   "execution_count": 78,
   "metadata": {},
   "outputs": [
    {
     "data": {
      "text/plain": [
       "{'mae': 571.58777,\n",
       " 'mse': 1191810.0,\n",
       " 'rmse': 1091.7006,\n",
       " 'mape': 2.568006,\n",
       " 'mase': 1.0041214}"
      ]
     },
     "execution_count": 78,
     "metadata": {},
     "output_type": "execute_result"
    }
   ],
   "source": [
    "# Evaluating predictions\n",
    "model_4_results = evaluate_preds(\n",
    "    y_true=tf.squeeze(test_labels),\n",
    "    y_pred=model_4_preds\n",
    ")\n",
    "model_4_results"
   ]
  },
  {
   "attachments": {},
   "cell_type": "markdown",
   "metadata": {},
   "source": [
    "### Model 5 - LSTM (RNN)"
   ]
  },
  {
   "cell_type": "code",
   "execution_count": 79,
   "metadata": {},
   "outputs": [
    {
     "name": "stdout",
     "output_type": "stream",
     "text": [
      "Epoch 1/100\n",
      "15/18 [========================>.....] - ETA: 0s - loss: 2602.9446 INFO:tensorflow:Assets written to: model_experiments\\module_5_LSTM\\assets\n"
     ]
    },
    {
     "name": "stderr",
     "output_type": "stream",
     "text": [
      "INFO:tensorflow:Assets written to: model_experiments\\module_5_LSTM\\assets\n"
     ]
    },
    {
     "name": "stdout",
     "output_type": "stream",
     "text": [
      "18/18 [==============================] - 3s 126ms/step - loss: 2531.7576 - val_loss: 11075.9258\n",
      "Epoch 2/100\n",
      "15/18 [========================>.....] - ETA: 0s - loss: 797.5244 INFO:tensorflow:Assets written to: model_experiments\\module_5_LSTM\\assets\n"
     ]
    },
    {
     "name": "stderr",
     "output_type": "stream",
     "text": [
      "INFO:tensorflow:Assets written to: model_experiments\\module_5_LSTM\\assets\n"
     ]
    },
    {
     "name": "stdout",
     "output_type": "stream",
     "text": [
      "18/18 [==============================] - 2s 116ms/step - loss: 724.6937 - val_loss: 1810.3639\n",
      "Epoch 3/100\n",
      "14/18 [======================>.......] - ETA: 0s - loss: 255.4918INFO:tensorflow:Assets written to: model_experiments\\module_5_LSTM\\assets\n"
     ]
    },
    {
     "name": "stderr",
     "output_type": "stream",
     "text": [
      "INFO:tensorflow:Assets written to: model_experiments\\module_5_LSTM\\assets\n"
     ]
    },
    {
     "name": "stdout",
     "output_type": "stream",
     "text": [
      "18/18 [==============================] - 2s 131ms/step - loss: 246.6729 - val_loss: 1386.1169\n",
      "Epoch 4/100\n",
      "13/18 [====================>.........] - ETA: 0s - loss: 202.6057INFO:tensorflow:Assets written to: model_experiments\\module_5_LSTM\\assets\n"
     ]
    },
    {
     "name": "stderr",
     "output_type": "stream",
     "text": [
      "INFO:tensorflow:Assets written to: model_experiments\\module_5_LSTM\\assets\n"
     ]
    },
    {
     "name": "stdout",
     "output_type": "stream",
     "text": [
      "18/18 [==============================] - 2s 120ms/step - loss: 193.5238 - val_loss: 1078.4550\n",
      "Epoch 5/100\n",
      "14/18 [======================>.......] - ETA: 0s - loss: 195.3340INFO:tensorflow:Assets written to: model_experiments\\module_5_LSTM\\assets\n"
     ]
    },
    {
     "name": "stderr",
     "output_type": "stream",
     "text": [
      "INFO:tensorflow:Assets written to: model_experiments\\module_5_LSTM\\assets\n"
     ]
    },
    {
     "name": "stdout",
     "output_type": "stream",
     "text": [
      "18/18 [==============================] - 2s 114ms/step - loss: 189.0231 - val_loss: 1057.0192\n",
      "Epoch 6/100\n",
      "13/18 [====================>.........] - ETA: 0s - loss: 182.5441INFO:tensorflow:Assets written to: model_experiments\\module_5_LSTM\\assets\n"
     ]
    },
    {
     "name": "stderr",
     "output_type": "stream",
     "text": [
      "INFO:tensorflow:Assets written to: model_experiments\\module_5_LSTM\\assets\n"
     ]
    },
    {
     "name": "stdout",
     "output_type": "stream",
     "text": [
      "18/18 [==============================] - 2s 127ms/step - loss: 186.3530 - val_loss: 1041.5302\n",
      "Epoch 7/100\n",
      "13/18 [====================>.........] - ETA: 0s - loss: 195.5686INFO:tensorflow:Assets written to: model_experiments\\module_5_LSTM\\assets\n"
     ]
    },
    {
     "name": "stderr",
     "output_type": "stream",
     "text": [
      "INFO:tensorflow:Assets written to: model_experiments\\module_5_LSTM\\assets\n"
     ]
    },
    {
     "name": "stdout",
     "output_type": "stream",
     "text": [
      "18/18 [==============================] - 2s 112ms/step - loss: 186.9431 - val_loss: 1035.5787\n",
      "Epoch 8/100\n",
      "18/18 [==============================] - 0s 7ms/step - loss: 182.5478 - val_loss: 1037.7795\n",
      "Epoch 9/100\n",
      "14/18 [======================>.......] - ETA: 0s - loss: 176.9019INFO:tensorflow:Assets written to: model_experiments\\module_5_LSTM\\assets\n"
     ]
    },
    {
     "name": "stderr",
     "output_type": "stream",
     "text": [
      "INFO:tensorflow:Assets written to: model_experiments\\module_5_LSTM\\assets\n"
     ]
    },
    {
     "name": "stdout",
     "output_type": "stream",
     "text": [
      "18/18 [==============================] - 2s 117ms/step - loss: 181.2574 - val_loss: 1030.9187\n",
      "Epoch 10/100\n",
      "13/18 [====================>.........] - ETA: 0s - loss: 173.1948INFO:tensorflow:Assets written to: model_experiments\\module_5_LSTM\\assets\n"
     ]
    },
    {
     "name": "stderr",
     "output_type": "stream",
     "text": [
      "INFO:tensorflow:Assets written to: model_experiments\\module_5_LSTM\\assets\n"
     ]
    },
    {
     "name": "stdout",
     "output_type": "stream",
     "text": [
      "18/18 [==============================] - 2s 121ms/step - loss: 179.1294 - val_loss: 1007.4021\n",
      "Epoch 11/100\n",
      "17/18 [===========================>..] - ETA: 0s - loss: 174.2797INFO:tensorflow:Assets written to: model_experiments\\module_5_LSTM\\assets\n"
     ]
    },
    {
     "name": "stderr",
     "output_type": "stream",
     "text": [
      "INFO:tensorflow:Assets written to: model_experiments\\module_5_LSTM\\assets\n"
     ]
    },
    {
     "name": "stdout",
     "output_type": "stream",
     "text": [
      "18/18 [==============================] - 2s 129ms/step - loss: 173.7916 - val_loss: 901.0160\n",
      "Epoch 12/100\n",
      "18/18 [==============================] - 0s 12ms/step - loss: 170.4188 - val_loss: 1013.1167\n",
      "Epoch 13/100\n",
      "17/18 [===========================>..] - ETA: 0s - loss: 172.4391INFO:tensorflow:Assets written to: model_experiments\\module_5_LSTM\\assets\n"
     ]
    },
    {
     "name": "stderr",
     "output_type": "stream",
     "text": [
      "INFO:tensorflow:Assets written to: model_experiments\\module_5_LSTM\\assets\n"
     ]
    },
    {
     "name": "stdout",
     "output_type": "stream",
     "text": [
      "18/18 [==============================] - 2s 122ms/step - loss: 171.3450 - val_loss: 885.9061\n",
      "Epoch 14/100\n",
      "18/18 [==============================] - 0s 8ms/step - loss: 177.1355 - val_loss: 1273.8547\n",
      "Epoch 15/100\n",
      "18/18 [==============================] - 0s 13ms/step - loss: 178.0384 - val_loss: 1087.4310\n",
      "Epoch 16/100\n",
      "18/18 [==============================] - 0s 10ms/step - loss: 164.9814 - val_loss: 932.4640\n",
      "Epoch 17/100\n",
      "18/18 [==============================] - 0s 12ms/step - loss: 161.5172 - val_loss: 921.9357\n",
      "Epoch 18/100\n",
      "18/18 [==============================] - 0s 15ms/step - loss: 159.1573 - val_loss: 1031.2363\n",
      "Epoch 19/100\n",
      "18/18 [==============================] - 0s 16ms/step - loss: 165.5811 - val_loss: 973.4691\n",
      "Epoch 20/100\n",
      "18/18 [==============================] - 0s 9ms/step - loss: 164.6919 - val_loss: 916.0710\n",
      "Epoch 21/100\n",
      "18/18 [==============================] - 0s 11ms/step - loss: 162.0108 - val_loss: 920.3685\n",
      "Epoch 22/100\n",
      "18/18 [==============================] - 0s 11ms/step - loss: 160.1236 - val_loss: 938.5184\n",
      "Epoch 23/100\n",
      "18/18 [==============================] - 0s 12ms/step - loss: 158.8350 - val_loss: 941.3383\n",
      "Epoch 24/100\n",
      "16/18 [=========================>....] - ETA: 0s - loss: 156.3974INFO:tensorflow:Assets written to: model_experiments\\module_5_LSTM\\assets\n"
     ]
    },
    {
     "name": "stderr",
     "output_type": "stream",
     "text": [
      "INFO:tensorflow:Assets written to: model_experiments\\module_5_LSTM\\assets\n"
     ]
    },
    {
     "name": "stdout",
     "output_type": "stream",
     "text": [
      "18/18 [==============================] - 2s 125ms/step - loss: 156.4988 - val_loss: 884.3205\n",
      "Epoch 25/100\n",
      "18/18 [==============================] - 0s 7ms/step - loss: 154.6152 - val_loss: 886.8972\n",
      "Epoch 26/100\n",
      "13/18 [====================>.........] - ETA: 0s - loss: 150.7516INFO:tensorflow:Assets written to: model_experiments\\module_5_LSTM\\assets\n"
     ]
    },
    {
     "name": "stderr",
     "output_type": "stream",
     "text": [
      "INFO:tensorflow:Assets written to: model_experiments\\module_5_LSTM\\assets\n"
     ]
    },
    {
     "name": "stdout",
     "output_type": "stream",
     "text": [
      "18/18 [==============================] - 2s 102ms/step - loss: 152.9616 - val_loss: 859.9526\n",
      "Epoch 27/100\n",
      "12/18 [===================>..........] - ETA: 0s - loss: 157.7543INFO:tensorflow:Assets written to: model_experiments\\module_5_LSTM\\assets\n"
     ]
    },
    {
     "name": "stderr",
     "output_type": "stream",
     "text": [
      "INFO:tensorflow:Assets written to: model_experiments\\module_5_LSTM\\assets\n"
     ]
    },
    {
     "name": "stdout",
     "output_type": "stream",
     "text": [
      "18/18 [==============================] - 2s 117ms/step - loss: 150.7427 - val_loss: 842.1392\n",
      "Epoch 28/100\n",
      "11/18 [=================>............] - ETA: 0s - loss: 151.4076INFO:tensorflow:Assets written to: model_experiments\\module_5_LSTM\\assets\n"
     ]
    },
    {
     "name": "stderr",
     "output_type": "stream",
     "text": [
      "INFO:tensorflow:Assets written to: model_experiments\\module_5_LSTM\\assets\n"
     ]
    },
    {
     "name": "stdout",
     "output_type": "stream",
     "text": [
      "18/18 [==============================] - 2s 108ms/step - loss: 149.0834 - val_loss: 828.1029\n",
      "Epoch 29/100\n",
      "18/18 [==============================] - 0s 7ms/step - loss: 148.0283 - val_loss: 831.1262\n",
      "Epoch 30/100\n",
      "18/18 [==============================] - 0s 8ms/step - loss: 148.6557 - val_loss: 852.2319\n",
      "Epoch 31/100\n",
      "17/18 [===========================>..] - ETA: 0s - loss: 144.8164INFO:tensorflow:Assets written to: model_experiments\\module_5_LSTM\\assets\n"
     ]
    },
    {
     "name": "stderr",
     "output_type": "stream",
     "text": [
      "INFO:tensorflow:Assets written to: model_experiments\\module_5_LSTM\\assets\n"
     ]
    },
    {
     "name": "stdout",
     "output_type": "stream",
     "text": [
      "18/18 [==============================] - 2s 119ms/step - loss: 144.7837 - val_loss: 796.1190\n",
      "Epoch 32/100\n",
      "17/18 [===========================>..] - ETA: 0s - loss: 143.2478INFO:tensorflow:Assets written to: model_experiments\\module_5_LSTM\\assets\n"
     ]
    },
    {
     "name": "stderr",
     "output_type": "stream",
     "text": [
      "INFO:tensorflow:Assets written to: model_experiments\\module_5_LSTM\\assets\n"
     ]
    },
    {
     "name": "stdout",
     "output_type": "stream",
     "text": [
      "18/18 [==============================] - 2s 113ms/step - loss: 142.2393 - val_loss: 794.8445\n",
      "Epoch 33/100\n",
      "18/18 [==============================] - 0s 7ms/step - loss: 142.1080 - val_loss: 800.6511\n",
      "Epoch 34/100\n",
      "11/18 [=================>............] - ETA: 0s - loss: 147.2498INFO:tensorflow:Assets written to: model_experiments\\module_5_LSTM\\assets\n"
     ]
    },
    {
     "name": "stderr",
     "output_type": "stream",
     "text": [
      "INFO:tensorflow:Assets written to: model_experiments\\module_5_LSTM\\assets\n"
     ]
    },
    {
     "name": "stdout",
     "output_type": "stream",
     "text": [
      "18/18 [==============================] - 2s 128ms/step - loss: 141.9214 - val_loss: 769.8318\n",
      "Epoch 35/100\n",
      "18/18 [==============================] - 0s 9ms/step - loss: 138.5533 - val_loss: 772.8290\n",
      "Epoch 36/100\n",
      "14/18 [======================>.......] - ETA: 0s - loss: 139.0125INFO:tensorflow:Assets written to: model_experiments\\module_5_LSTM\\assets\n"
     ]
    },
    {
     "name": "stderr",
     "output_type": "stream",
     "text": [
      "INFO:tensorflow:Assets written to: model_experiments\\module_5_LSTM\\assets\n"
     ]
    },
    {
     "name": "stdout",
     "output_type": "stream",
     "text": [
      "18/18 [==============================] - 2s 105ms/step - loss: 139.2614 - val_loss: 759.1877\n",
      "Epoch 37/100\n",
      "12/18 [===================>..........] - ETA: 0s - loss: 131.8286INFO:tensorflow:Assets written to: model_experiments\\module_5_LSTM\\assets\n"
     ]
    },
    {
     "name": "stderr",
     "output_type": "stream",
     "text": [
      "INFO:tensorflow:Assets written to: model_experiments\\module_5_LSTM\\assets\n"
     ]
    },
    {
     "name": "stdout",
     "output_type": "stream",
     "text": [
      "18/18 [==============================] - 2s 114ms/step - loss: 135.2524 - val_loss: 758.0053\n",
      "Epoch 38/100\n",
      "18/18 [==============================] - ETA: 0s - loss: 133.6343INFO:tensorflow:Assets written to: model_experiments\\module_5_LSTM\\assets\n"
     ]
    },
    {
     "name": "stderr",
     "output_type": "stream",
     "text": [
      "INFO:tensorflow:Assets written to: model_experiments\\module_5_LSTM\\assets\n"
     ]
    },
    {
     "name": "stdout",
     "output_type": "stream",
     "text": [
      "18/18 [==============================] - 2s 120ms/step - loss: 133.6343 - val_loss: 738.9928\n",
      "Epoch 39/100\n",
      "18/18 [==============================] - 0s 8ms/step - loss: 132.6253 - val_loss: 743.9637\n",
      "Epoch 40/100\n",
      "18/18 [==============================] - 0s 11ms/step - loss: 133.3314 - val_loss: 757.6265\n",
      "Epoch 41/100\n",
      "16/18 [=========================>....] - ETA: 0s - loss: 133.0952INFO:tensorflow:Assets written to: model_experiments\\module_5_LSTM\\assets\n"
     ]
    },
    {
     "name": "stderr",
     "output_type": "stream",
     "text": [
      "INFO:tensorflow:Assets written to: model_experiments\\module_5_LSTM\\assets\n"
     ]
    },
    {
     "name": "stdout",
     "output_type": "stream",
     "text": [
      "18/18 [==============================] - 2s 126ms/step - loss: 131.3005 - val_loss: 717.9510\n",
      "Epoch 42/100\n",
      "17/18 [===========================>..] - ETA: 0s - loss: 130.1588INFO:tensorflow:Assets written to: model_experiments\\module_5_LSTM\\assets\n"
     ]
    },
    {
     "name": "stderr",
     "output_type": "stream",
     "text": [
      "INFO:tensorflow:Assets written to: model_experiments\\module_5_LSTM\\assets\n"
     ]
    },
    {
     "name": "stdout",
     "output_type": "stream",
     "text": [
      "18/18 [==============================] - 2s 125ms/step - loss: 129.0176 - val_loss: 714.0879\n",
      "Epoch 43/100\n",
      "11/18 [=================>............] - ETA: 0s - loss: 121.9776INFO:tensorflow:Assets written to: model_experiments\\module_5_LSTM\\assets\n"
     ]
    },
    {
     "name": "stderr",
     "output_type": "stream",
     "text": [
      "INFO:tensorflow:Assets written to: model_experiments\\module_5_LSTM\\assets\n"
     ]
    },
    {
     "name": "stdout",
     "output_type": "stream",
     "text": [
      "18/18 [==============================] - 2s 104ms/step - loss: 128.5240 - val_loss: 706.8231\n",
      "Epoch 44/100\n",
      "16/18 [=========================>....] - ETA: 0s - loss: 128.3586INFO:tensorflow:Assets written to: model_experiments\\module_5_LSTM\\assets\n"
     ]
    },
    {
     "name": "stderr",
     "output_type": "stream",
     "text": [
      "INFO:tensorflow:Assets written to: model_experiments\\module_5_LSTM\\assets\n"
     ]
    },
    {
     "name": "stdout",
     "output_type": "stream",
     "text": [
      "18/18 [==============================] - 2s 119ms/step - loss: 127.3028 - val_loss: 699.5898\n",
      "Epoch 45/100\n",
      "13/18 [====================>.........] - ETA: 0s - loss: 122.4456INFO:tensorflow:Assets written to: model_experiments\\module_5_LSTM\\assets\n"
     ]
    },
    {
     "name": "stderr",
     "output_type": "stream",
     "text": [
      "INFO:tensorflow:Assets written to: model_experiments\\module_5_LSTM\\assets\n"
     ]
    },
    {
     "name": "stdout",
     "output_type": "stream",
     "text": [
      "18/18 [==============================] - 2s 108ms/step - loss: 125.2051 - val_loss: 693.5620\n",
      "Epoch 46/100\n",
      "16/18 [=========================>....] - ETA: 0s - loss: 128.6579INFO:tensorflow:Assets written to: model_experiments\\module_5_LSTM\\assets\n"
     ]
    },
    {
     "name": "stderr",
     "output_type": "stream",
     "text": [
      "INFO:tensorflow:Assets written to: model_experiments\\module_5_LSTM\\assets\n"
     ]
    },
    {
     "name": "stdout",
     "output_type": "stream",
     "text": [
      "18/18 [==============================] - 2s 109ms/step - loss: 127.5853 - val_loss: 688.7383\n",
      "Epoch 47/100\n",
      "18/18 [==============================] - 0s 9ms/step - loss: 125.1106 - val_loss: 695.8835\n",
      "Epoch 48/100\n",
      "16/18 [=========================>....] - ETA: 0s - loss: 124.2127INFO:tensorflow:Assets written to: model_experiments\\module_5_LSTM\\assets\n"
     ]
    },
    {
     "name": "stderr",
     "output_type": "stream",
     "text": [
      "INFO:tensorflow:Assets written to: model_experiments\\module_5_LSTM\\assets\n"
     ]
    },
    {
     "name": "stdout",
     "output_type": "stream",
     "text": [
      "18/18 [==============================] - 2s 119ms/step - loss: 125.5419 - val_loss: 677.8220\n",
      "Epoch 49/100\n",
      "15/18 [========================>.....] - ETA: 0s - loss: 121.9394INFO:tensorflow:Assets written to: model_experiments\\module_5_LSTM\\assets\n"
     ]
    },
    {
     "name": "stderr",
     "output_type": "stream",
     "text": [
      "INFO:tensorflow:Assets written to: model_experiments\\module_5_LSTM\\assets\n"
     ]
    },
    {
     "name": "stdout",
     "output_type": "stream",
     "text": [
      "18/18 [==============================] - 2s 123ms/step - loss: 122.9805 - val_loss: 676.5374\n",
      "Epoch 50/100\n",
      "17/18 [===========================>..] - ETA: 0s - loss: 124.2753INFO:tensorflow:Assets written to: model_experiments\\module_5_LSTM\\assets\n"
     ]
    },
    {
     "name": "stderr",
     "output_type": "stream",
     "text": [
      "INFO:tensorflow:Assets written to: model_experiments\\module_5_LSTM\\assets\n"
     ]
    },
    {
     "name": "stdout",
     "output_type": "stream",
     "text": [
      "18/18 [==============================] - 2s 112ms/step - loss: 124.0639 - val_loss: 673.0927\n",
      "Epoch 51/100\n",
      "18/18 [==============================] - 0s 10ms/step - loss: 121.5596 - val_loss: 721.3981\n",
      "Epoch 52/100\n",
      "14/18 [======================>.......] - ETA: 0s - loss: 127.8534INFO:tensorflow:Assets written to: model_experiments\\module_5_LSTM\\assets\n"
     ]
    },
    {
     "name": "stderr",
     "output_type": "stream",
     "text": [
      "INFO:tensorflow:Assets written to: model_experiments\\module_5_LSTM\\assets\n"
     ]
    },
    {
     "name": "stdout",
     "output_type": "stream",
     "text": [
      "18/18 [==============================] - 2s 116ms/step - loss: 122.8828 - val_loss: 659.3317\n",
      "Epoch 53/100\n",
      "10/18 [===============>..............] - ETA: 0s - loss: 116.2902INFO:tensorflow:Assets written to: model_experiments\\module_5_LSTM\\assets\n"
     ]
    },
    {
     "name": "stderr",
     "output_type": "stream",
     "text": [
      "INFO:tensorflow:Assets written to: model_experiments\\module_5_LSTM\\assets\n"
     ]
    },
    {
     "name": "stdout",
     "output_type": "stream",
     "text": [
      "18/18 [==============================] - 2s 104ms/step - loss: 120.3495 - val_loss: 657.8426\n",
      "Epoch 54/100\n",
      "18/18 [==============================] - 0s 11ms/step - loss: 120.4314 - val_loss: 667.9616\n",
      "Epoch 55/100\n",
      "18/18 [==============================] - ETA: 0s - loss: 120.2031INFO:tensorflow:Assets written to: model_experiments\\module_5_LSTM\\assets\n"
     ]
    },
    {
     "name": "stderr",
     "output_type": "stream",
     "text": [
      "INFO:tensorflow:Assets written to: model_experiments\\module_5_LSTM\\assets\n"
     ]
    },
    {
     "name": "stdout",
     "output_type": "stream",
     "text": [
      "18/18 [==============================] - 2s 135ms/step - loss: 120.2031 - val_loss: 647.9774\n",
      "Epoch 56/100\n",
      "11/18 [=================>............] - ETA: 0s - loss: 123.0372INFO:tensorflow:Assets written to: model_experiments\\module_5_LSTM\\assets\n"
     ]
    },
    {
     "name": "stderr",
     "output_type": "stream",
     "text": [
      "INFO:tensorflow:Assets written to: model_experiments\\module_5_LSTM\\assets\n"
     ]
    },
    {
     "name": "stdout",
     "output_type": "stream",
     "text": [
      "18/18 [==============================] - 2s 111ms/step - loss: 122.7906 - val_loss: 643.7766\n",
      "Epoch 57/100\n",
      "18/18 [==============================] - 0s 10ms/step - loss: 124.8174 - val_loss: 661.6835\n",
      "Epoch 58/100\n",
      "14/18 [======================>.......] - ETA: 0s - loss: 118.1374INFO:tensorflow:Assets written to: model_experiments\\module_5_LSTM\\assets\n"
     ]
    },
    {
     "name": "stderr",
     "output_type": "stream",
     "text": [
      "INFO:tensorflow:Assets written to: model_experiments\\module_5_LSTM\\assets\n"
     ]
    },
    {
     "name": "stdout",
     "output_type": "stream",
     "text": [
      "18/18 [==============================] - 2s 116ms/step - loss: 118.4460 - val_loss: 639.6356\n",
      "Epoch 59/100\n",
      "18/18 [==============================] - 0s 11ms/step - loss: 118.0138 - val_loss: 651.9592\n",
      "Epoch 60/100\n",
      "17/18 [===========================>..] - ETA: 0s - loss: 119.0346INFO:tensorflow:Assets written to: model_experiments\\module_5_LSTM\\assets\n"
     ]
    },
    {
     "name": "stderr",
     "output_type": "stream",
     "text": [
      "INFO:tensorflow:Assets written to: model_experiments\\module_5_LSTM\\assets\n"
     ]
    },
    {
     "name": "stdout",
     "output_type": "stream",
     "text": [
      "18/18 [==============================] - 2s 136ms/step - loss: 120.3947 - val_loss: 636.5228\n",
      "Epoch 61/100\n",
      "18/18 [==============================] - 0s 9ms/step - loss: 119.1074 - val_loss: 681.3274\n",
      "Epoch 62/100\n",
      "18/18 [==============================] - 0s 11ms/step - loss: 118.7287 - val_loss: 656.1204\n",
      "Epoch 63/100\n",
      "18/18 [==============================] - ETA: 0s - loss: 122.7615INFO:tensorflow:Assets written to: model_experiments\\module_5_LSTM\\assets\n"
     ]
    },
    {
     "name": "stderr",
     "output_type": "stream",
     "text": [
      "INFO:tensorflow:Assets written to: model_experiments\\module_5_LSTM\\assets\n"
     ]
    },
    {
     "name": "stdout",
     "output_type": "stream",
     "text": [
      "18/18 [==============================] - 2s 105ms/step - loss: 122.7615 - val_loss: 631.7227\n",
      "Epoch 64/100\n",
      "18/18 [==============================] - 0s 8ms/step - loss: 115.7738 - val_loss: 642.0335\n",
      "Epoch 65/100\n",
      "15/18 [========================>.....] - ETA: 0s - loss: 115.1362INFO:tensorflow:Assets written to: model_experiments\\module_5_LSTM\\assets\n"
     ]
    },
    {
     "name": "stderr",
     "output_type": "stream",
     "text": [
      "INFO:tensorflow:Assets written to: model_experiments\\module_5_LSTM\\assets\n"
     ]
    },
    {
     "name": "stdout",
     "output_type": "stream",
     "text": [
      "18/18 [==============================] - 2s 122ms/step - loss: 116.6353 - val_loss: 623.5441\n",
      "Epoch 66/100\n",
      "18/18 [==============================] - 0s 9ms/step - loss: 115.3449 - val_loss: 638.9009\n",
      "Epoch 67/100\n",
      "15/18 [========================>.....] - ETA: 0s - loss: 115.6607INFO:tensorflow:Assets written to: model_experiments\\module_5_LSTM\\assets\n"
     ]
    },
    {
     "name": "stderr",
     "output_type": "stream",
     "text": [
      "INFO:tensorflow:Assets written to: model_experiments\\module_5_LSTM\\assets\n"
     ]
    },
    {
     "name": "stdout",
     "output_type": "stream",
     "text": [
      "18/18 [==============================] - 2s 118ms/step - loss: 117.2193 - val_loss: 618.8455\n",
      "Epoch 68/100\n",
      "18/18 [==============================] - 0s 11ms/step - loss: 117.6696 - val_loss: 619.3381\n",
      "Epoch 69/100\n",
      "18/18 [==============================] - 0s 14ms/step - loss: 118.8645 - val_loss: 629.8202\n",
      "Epoch 70/100\n",
      "18/18 [==============================] - 0s 15ms/step - loss: 120.5112 - val_loss: 643.7797\n",
      "Epoch 71/100\n",
      "18/18 [==============================] - 0s 17ms/step - loss: 116.3014 - val_loss: 653.5784\n",
      "Epoch 72/100\n",
      "18/18 [==============================] - 0s 16ms/step - loss: 117.9328 - val_loss: 619.3658\n",
      "Epoch 73/100\n",
      "18/18 [==============================] - 0s 17ms/step - loss: 116.4131 - val_loss: 659.0582\n",
      "Epoch 74/100\n",
      "15/18 [========================>.....] - ETA: 0s - loss: 114.7337INFO:tensorflow:Assets written to: model_experiments\\module_5_LSTM\\assets\n"
     ]
    },
    {
     "name": "stderr",
     "output_type": "stream",
     "text": [
      "INFO:tensorflow:Assets written to: model_experiments\\module_5_LSTM\\assets\n"
     ]
    },
    {
     "name": "stdout",
     "output_type": "stream",
     "text": [
      "18/18 [==============================] - 2s 134ms/step - loss: 115.3483 - val_loss: 616.6680\n",
      "Epoch 75/100\n",
      "18/18 [==============================] - 0s 10ms/step - loss: 114.3990 - val_loss: 628.9370\n",
      "Epoch 76/100\n",
      "17/18 [===========================>..] - ETA: 0s - loss: 113.3213INFO:tensorflow:Assets written to: model_experiments\\module_5_LSTM\\assets\n"
     ]
    },
    {
     "name": "stderr",
     "output_type": "stream",
     "text": [
      "INFO:tensorflow:Assets written to: model_experiments\\module_5_LSTM\\assets\n"
     ]
    },
    {
     "name": "stdout",
     "output_type": "stream",
     "text": [
      "18/18 [==============================] - 2s 115ms/step - loss: 113.7061 - val_loss: 613.4252\n",
      "Epoch 77/100\n",
      "18/18 [==============================] - 0s 9ms/step - loss: 116.8364 - val_loss: 692.4202\n",
      "Epoch 78/100\n",
      "18/18 [==============================] - 0s 11ms/step - loss: 117.2451 - val_loss: 614.5787\n",
      "Epoch 79/100\n",
      "10/18 [===============>..............] - ETA: 0s - loss: 110.7759INFO:tensorflow:Assets written to: model_experiments\\module_5_LSTM\\assets\n"
     ]
    },
    {
     "name": "stderr",
     "output_type": "stream",
     "text": [
      "INFO:tensorflow:Assets written to: model_experiments\\module_5_LSTM\\assets\n"
     ]
    },
    {
     "name": "stdout",
     "output_type": "stream",
     "text": [
      "18/18 [==============================] - 2s 111ms/step - loss: 113.4636 - val_loss: 602.2130\n",
      "Epoch 80/100\n",
      "18/18 [==============================] - 0s 8ms/step - loss: 112.6209 - val_loss: 633.2037\n",
      "Epoch 81/100\n",
      "18/18 [==============================] - 0s 10ms/step - loss: 113.0831 - val_loss: 637.8539\n",
      "Epoch 82/100\n",
      "18/18 [==============================] - 0s 17ms/step - loss: 115.6435 - val_loss: 607.3579\n",
      "Epoch 83/100\n",
      "18/18 [==============================] - 0s 16ms/step - loss: 112.2910 - val_loss: 639.9598\n",
      "Epoch 84/100\n",
      "18/18 [==============================] - 0s 18ms/step - loss: 114.5732 - val_loss: 604.0402\n",
      "Epoch 85/100\n",
      "18/18 [==============================] - 0s 17ms/step - loss: 113.4933 - val_loss: 645.1058\n",
      "Epoch 86/100\n",
      "18/18 [==============================] - 0s 16ms/step - loss: 115.0457 - val_loss: 604.0005\n",
      "Epoch 87/100\n",
      "14/18 [======================>.......] - ETA: 0s - loss: 116.7659INFO:tensorflow:Assets written to: model_experiments\\module_5_LSTM\\assets\n"
     ]
    },
    {
     "name": "stderr",
     "output_type": "stream",
     "text": [
      "INFO:tensorflow:Assets written to: model_experiments\\module_5_LSTM\\assets\n"
     ]
    },
    {
     "name": "stdout",
     "output_type": "stream",
     "text": [
      "18/18 [==============================] - 2s 115ms/step - loss: 113.2326 - val_loss: 594.0002\n",
      "Epoch 88/100\n",
      "18/18 [==============================] - 0s 9ms/step - loss: 112.3552 - val_loss: 598.6922\n",
      "Epoch 89/100\n",
      "18/18 [==============================] - 0s 9ms/step - loss: 112.6094 - val_loss: 626.1469\n",
      "Epoch 90/100\n",
      "18/18 [==============================] - 0s 15ms/step - loss: 115.5938 - val_loss: 662.7798\n",
      "Epoch 91/100\n",
      "18/18 [==============================] - 0s 15ms/step - loss: 114.5046 - val_loss: 604.8611\n",
      "Epoch 92/100\n",
      "14/18 [======================>.......] - ETA: 0s - loss: 112.7756INFO:tensorflow:Assets written to: model_experiments\\module_5_LSTM\\assets\n"
     ]
    },
    {
     "name": "stderr",
     "output_type": "stream",
     "text": [
      "INFO:tensorflow:Assets written to: model_experiments\\module_5_LSTM\\assets\n"
     ]
    },
    {
     "name": "stdout",
     "output_type": "stream",
     "text": [
      "18/18 [==============================] - 2s 135ms/step - loss: 111.8154 - val_loss: 592.6922\n",
      "Epoch 93/100\n",
      "18/18 [==============================] - 0s 10ms/step - loss: 112.1577 - val_loss: 605.1108\n",
      "Epoch 94/100\n",
      "18/18 [==============================] - 0s 17ms/step - loss: 111.2441 - val_loss: 594.5757\n",
      "Epoch 95/100\n",
      "17/18 [===========================>..] - ETA: 0s - loss: 109.9092INFO:tensorflow:Assets written to: model_experiments\\module_5_LSTM\\assets\n"
     ]
    },
    {
     "name": "stderr",
     "output_type": "stream",
     "text": [
      "INFO:tensorflow:Assets written to: model_experiments\\module_5_LSTM\\assets\n"
     ]
    },
    {
     "name": "stdout",
     "output_type": "stream",
     "text": [
      "18/18 [==============================] - 2s 128ms/step - loss: 110.5705 - val_loss: 588.2604\n",
      "Epoch 96/100\n",
      "18/18 [==============================] - 0s 11ms/step - loss: 112.3625 - val_loss: 593.3422\n",
      "Epoch 97/100\n",
      "18/18 [==============================] - 0s 15ms/step - loss: 110.9737 - val_loss: 628.7688\n",
      "Epoch 98/100\n",
      "18/18 [==============================] - 0s 19ms/step - loss: 112.1900 - val_loss: 589.9688\n",
      "Epoch 99/100\n",
      "17/18 [===========================>..] - ETA: 0s - loss: 110.5428INFO:tensorflow:Assets written to: model_experiments\\module_5_LSTM\\assets\n"
     ]
    },
    {
     "name": "stderr",
     "output_type": "stream",
     "text": [
      "INFO:tensorflow:Assets written to: model_experiments\\module_5_LSTM\\assets\n"
     ]
    },
    {
     "name": "stdout",
     "output_type": "stream",
     "text": [
      "18/18 [==============================] - 2s 117ms/step - loss: 109.9981 - val_loss: 585.7945\n",
      "Epoch 100/100\n",
      "17/18 [===========================>..] - ETA: 0s - loss: 111.9817INFO:tensorflow:Assets written to: model_experiments\\module_5_LSTM\\assets\n"
     ]
    },
    {
     "name": "stderr",
     "output_type": "stream",
     "text": [
      "INFO:tensorflow:Assets written to: model_experiments\\module_5_LSTM\\assets\n"
     ]
    },
    {
     "name": "stdout",
     "output_type": "stream",
     "text": [
      "18/18 [==============================] - 2s 106ms/step - loss: 111.7685 - val_loss: 585.4333\n"
     ]
    }
   ],
   "source": [
    "# Building LSTM model with the Functional API\n",
    "inputs = layers.Input(shape=(WINDOW_SIZE))\n",
    "x = layers.Lambda(lambda x: tf.expand_dims(x, axis=1))(inputs)\n",
    "# x = layers.LSTM(128, return_sequences=True)(x)\n",
    "x = layers.LSTM(128, activation=\"relu\")(x)\n",
    "# x = layers.Dense(32, activation=\"relu\")(x)\n",
    "outputs = layers.Dense(HORIZON)(x)\n",
    "model_5 = tf.keras.Model(inputs=inputs, outputs=outputs, name=\"module_5_LSTM\")\n",
    "\n",
    "# Compiling the model\n",
    "model_5.compile(\n",
    "    loss=\"mae\",\n",
    "    optimizer=tf.keras.optimizers.Adam()\n",
    ")\n",
    "\n",
    "# Fitting the model\n",
    "history_5 = model_5.fit(\n",
    "    train_windows,\n",
    "    train_labels,\n",
    "    epochs=100,\n",
    "    verbose=1,\n",
    "    batch_size=128,\n",
    "    validation_data=(test_windows, test_labels),\n",
    "    callbacks=[create_model_checkpoint(model_name=model_5.name)]\n",
    ")"
   ]
  },
  {
   "cell_type": "code",
   "execution_count": 80,
   "metadata": {},
   "outputs": [
    {
     "name": "stdout",
     "output_type": "stream",
     "text": [
      "18/18 [==============================] - 0s 3ms/step - loss: 585.4333\n"
     ]
    },
    {
     "data": {
      "text/plain": [
       "585.4332885742188"
      ]
     },
     "execution_count": 80,
     "metadata": {},
     "output_type": "execute_result"
    }
   ],
   "source": [
    "# Loading the best version\n",
    "model_5 = tf.keras.models.load_model(\"model_experiments/module_5_LSTM/\")\n",
    "model_5.evaluate(test_windows, test_labels)"
   ]
  },
  {
   "cell_type": "code",
   "execution_count": 81,
   "metadata": {},
   "outputs": [
    {
     "name": "stdout",
     "output_type": "stream",
     "text": [
      "18/18 [==============================] - 0s 3ms/step\n"
     ]
    },
    {
     "data": {
      "text/plain": [
       "<tf.Tensor: shape=(556,), dtype=float32, numpy=\n",
       "array([ 8953.303 ,  8829.244 ,  8997.041 ,  8823.71  ,  8745.884 ,\n",
       "        8742.208 ,  8714.908 ,  8577.426 ,  8470.33  ,  8536.333 ,\n",
       "        8315.621 ,  8150.757 ,  8085.8057,  7755.156 ,  7362.979 ,\n",
       "        7251.5347,  7090.7563,  7129.3887,  7112.292 ,  7398.3564,\n",
       "        7450.9756,  7654.6904,  7652.625 ,  7481.107 ,  7406.293 ,\n",
       "        7337.877 ,  7274.762 ,  7335.8604,  7481.666 ,  7550.122 ,\n",
       "        7577.551 ,  7433.586 ,  7316.088 ,  7235.9883,  7202.837 ,\n",
       "        7228.2256,  7128.1235,  7117.957 ,  6966.657 ,  6688.6533,\n",
       "        7179.1655,  7224.247 ,  7173.2607,  7259.5522,  7292.1406,\n",
       "        7274.395 ,  7218.782 ,  7247.8   ,  7225.5215,  7231.755 ,\n",
       "        7307.1016,  7394.257 ,  7318.9673,  7232.5566,  7207.078 ,\n",
       "        7046.15  ,  7206.296 ,  7324.308 ,  7366.67  ,  7635.8296,\n",
       "        7979.294 ,  8141.254 ,  7953.4375,  8073.8657,  8156.1274,\n",
       "        8185.676 ,  8154.628 ,  8577.78  ,  8874.428 ,  8813.145 ,\n",
       "        8933.694 ,  9006.759 ,  8823.477 ,  8687.511 ,  8710.451 ,\n",
       "        8690.783 ,  8470.661 ,  8430.189 ,  8396.336 ,  8514.925 ,\n",
       "        8793.478 ,  9077.002 ,  9324.274 ,  9547.046 ,  9533.528 ,\n",
       "        9467.646 ,  9450.291 ,  9358.002 ,  9244.014 ,  9502.746 ,\n",
       "        9690.202 ,  9804.9375,  9933.541 , 10137.527 , 10018.702 ,\n",
       "       10178.763 , 10382.219 , 10326.012 , 10382.672 , 10093.829 ,\n",
       "        9963.09  ,  9728.837 , 10025.996 ,  9854.769 ,  9649.033 ,\n",
       "        9677.398 ,  9702.01  ,  9898.582 ,  9712.824 ,  9503.746 ,\n",
       "        8999.97  ,  8798.845 ,  8768.924 ,  8634.035 ,  8539.127 ,\n",
       "        8778.353 ,  8851.232 ,  8797.8   ,  9008.326 ,  9154.626 ,\n",
       "        9054.012 ,  8424.436 ,  7992.876 ,  7942.779 ,  7918.4863,\n",
       "        6381.8926,  5623.0825,  5307.516 ,  5235.081 ,  4912.698 ,\n",
       "        5102.6733,  5364.627 ,  6013.162 ,  6251.609 ,  6243.63  ,\n",
       "        6081.5635,  6351.611 ,  6777.3   ,  6756.208 ,  6765.999 ,\n",
       "        6743.328 ,  6455.953 ,  6052.784 ,  6304.7637,  6444.071 ,\n",
       "        6506.9775,  6748.634 ,  6837.5586,  6922.519 ,  6861.0186,\n",
       "        7190.0176,  7260.7583,  7352.1074,  7387.298 ,  7056.284 ,\n",
       "        6934.0747,  6996.0947,  6949.92  ,  6883.103 ,  6753.4126,\n",
       "        7058.5684,  7120.645 ,  7235.0234,  7248.0146,  6996.587 ,\n",
       "        6950.6934,  7063.4023,  7453.906 ,  7529.1455,  7560.282 ,\n",
       "        7666.9062,  7806.2666,  7835.917 ,  8509.051 ,  8826.9   ,\n",
       "        8922.787 ,  9030.162 ,  9024.619 ,  9022.688 ,  8989.728 ,\n",
       "        9297.556 ,  9789.09  ,  9968.488 ,  9791.269 ,  9126.615 ,\n",
       "        8739.684 ,  8773.49  ,  9136.43  ,  9584.178 ,  9465.501 ,\n",
       "        9476.488 ,  9697.092 ,  9803.682 ,  9781.006 ,  9611.07  ,\n",
       "        9314.537 ,  9221.782 ,  9217.576 ,  9098.138 ,  8937.303 ,\n",
       "        8845.553 ,  9050.004 ,  9403.803 ,  9469.722 ,  9657.796 ,\n",
       "        9570.648 , 10108.58  ,  9814.184 ,  9682.266 ,  9819.667 ,\n",
       "        9737.94  ,  9742.433 ,  9695.379 ,  9824.867 ,  9827.703 ,\n",
       "        9874.834 ,  9484.844 ,  9441.588 ,  9474.37  ,  9396.0625,\n",
       "        9422.566 ,  9475.915 ,  9522.165 ,  9447.672 ,  9343.548 ,\n",
       "        9368.224 ,  9333.752 ,  9583.548 ,  9654.939 ,  9440.168 ,\n",
       "        9318.614 ,  9228.761 ,  9107.272 ,  9072.98  ,  9151.33  ,\n",
       "        9176.495 ,  9231.588 ,  9165.476 ,  9139.379 ,  9149.478 ,\n",
       "        9101.324 ,  9242.08  ,  9273.693 ,  9443.652 ,  9348.774 ,\n",
       "        9287.397 ,  9284.076 ,  9300.271 ,  9289.    ,  9265.723 ,\n",
       "        9257.498 ,  9187.961 ,  9183.006 ,  9193.545 ,  9212.675 ,\n",
       "        9201.258 ,  9356.205 ,  9527.912 ,  9637.125 ,  9635.283 ,\n",
       "        9724.337 ,  9936.777 , 10876.35  , 11087.025 , 11293.895 ,\n",
       "       11295.389 , 11441.983 , 11798.205 , 11372.166 , 11308.743 ,\n",
       "       11271.384 , 11585.377 , 11795.764 , 11697.329 , 11790.358 ,\n",
       "       11761.153 , 11867.777 , 11531.795 , 11516.928 , 11723.061 ,\n",
       "       11802.364 , 11904.176 , 11920.118 , 12330.098 , 12241.984 ,\n",
       "       11916.232 , 11867.436 , 11698.436 , 11692.561 , 11650.01  ,\n",
       "       11726.961 , 11521.932 , 11456.058 , 11382.171 , 11453.01  ,\n",
       "       11524.668 , 11626.148 , 11720.613 , 11925.627 , 11656.726 ,\n",
       "       10984.112 , 10640.74  , 10188.056 , 10129.103 , 10235.85  ,\n",
       "       10083.982 , 10200.301 , 10314.105 , 10422.779 , 10463.609 ,\n",
       "       10375.741 , 10635.002 , 10831.479 , 11028.857 , 11028.817 ,\n",
       "       11002.326 , 11101.47  , 10970.823 , 10674.074 , 10549.539 ,\n",
       "       10356.494 , 10561.266 , 10699.9375, 10749.65  , 10792.799 ,\n",
       "       10873.785 , 10873.25  , 10794.977 , 10699.562 , 10621.064 ,\n",
       "       10589.84  , 10644.823 , 10751.035 , 10665.814 , 10667.016 ,\n",
       "       10862.786 , 11055.144 , 11320.602 , 11393.383 , 11651.11  ,\n",
       "       11601.207 , 11494.943 , 11543.769 , 11444.424 , 11411.256 ,\n",
       "       11451.348 , 11720.643 , 11936.872 , 12807.117 , 13218.299 ,\n",
       "       13134.636 , 13184.189 , 13161.524 , 13172.01  , 13555.676 ,\n",
       "       13453.657 , 13494.947 , 13601.773 , 13877.207 , 13874.959 ,\n",
       "       13700.307 , 13852.404 , 14131.934 , 15124.279 , 15576.852 ,\n",
       "       15144.028 , 15446.029 , 15493.33  , 15509.453 , 15729.092 ,\n",
       "       16155.547 , 16454.164 , 16184.35  , 16056.469 , 16615.69  ,\n",
       "       17431.402 , 17850.629 , 18030.66  , 18587.908 , 18818.756 ,\n",
       "       18810.664 , 18644.682 , 18991.262 , 18957.094 , 17726.77  ,\n",
       "       17123.096 , 17569.633 , 18030.312 , 18966.031 , 19084.096 ,\n",
       "       19299.65  , 19591.133 , 19174.195 , 19143.664 , 19121.527 ,\n",
       "       19185.852 , 18868.535 , 18602.309 , 18478.842 , 18237.436 ,\n",
       "       18673.758 , 19009.613 , 19257.945 , 19470.906 , 20874.98  ,\n",
       "       22617.094 , 23197.082 , 23917.549 , 23969.057 , 23682.934 ,\n",
       "       23614.172 , 23400.322 , 23628.152 , 24328.475 , 25933.068 ,\n",
       "       26570.346 , 26855.844 , 27193.709 , 28556.062 , 29318.26  ,\n",
       "       29490.95  , 31583.293 , 33063.586 , 32346.322 , 33877.035 ,\n",
       "       36062.098 , 39204.523 , 40673.88  , 40808.16  , 39924.855 ,\n",
       "       36225.805 , 34616.91  , 36063.176 , 37790.402 , 37081.355 ,\n",
       "       36160.184 , 36553.426 , 36700.1   , 36618.38  , 35409.613 ,\n",
       "       31973.188 , 32574.217 , 32309.773 , 32113.951 , 32196.21  ,\n",
       "       32215.78  , 31352.125 , 32541.758 , 34498.8   , 34862.523 ,\n",
       "       33744.09  , 33654.934 , 35424.31  , 37069.02  , 37441.535 ,\n",
       "       37891.38  , 39986.543 , 39488.652 , 43274.277 , 46387.543 ,\n",
       "       46253.918 , 47503.574 , 48253.426 , 48153.05  , 48885.723 ,\n",
       "       48618.72  , 49060.8   , 51396.73  , 52109.527 , 55027.414 ,\n",
       "       55420.62  , 57068.848 , 55715.902 , 50389.543 , 48957.89  ,\n",
       "       48218.15  , 46358.613 , 45837.785 , 45065.27  , 48073.94  ,\n",
       "       48268.246 , 50038.14  , 49355.44  , 49225.83  , 49454.91  ,\n",
       "       50223.047 , 51545.45  , 53661.33  , 56601.035 , 57921.77  ,\n",
       "       58100.668 , 60367.58  , 61055.22  , 58061.934 , 56891.945 ,\n",
       "       58176.62  , 58441.543 , 58294.07  , 58500.88  , 58379.047 ,\n",
       "       55703.805 , 54748.355 , 53409.316 , 52295.418 , 53587.934 ,\n",
       "       55498.918 , 55792.51  , 57115.01  , 58779.426 , 59320.348 ,\n",
       "       59378.984 , 59204.13  , 58389.23  , 58264.31  , 58791.426 ,\n",
       "       58450.215 , 57109.645 , 57571.74  , 58278.91  , 59144.062 ,\n",
       "       59788.39  , 60072.652 , 62656.688 , 63393.1   , 63726.777 ,\n",
       "       62811.26  , 61411.777 , 58378.45  , 56415.82  , 56362.703 ,\n",
       "       54607.04  , 52365.684 , 50725.957 , 50596.574 , 49042.293 ,\n",
       "       51772.348 , 54505.88  , 54951.965 , 54039.266 , 56475.566 ,\n",
       "       58265.77  , 57214.645 , 57287.914 , 55037.203 , 56688.848 ,\n",
       "       56832.566 , 57046.34  , 58483.355 , 58425.465 , 56993.684 ,\n",
       "       56514.777 , 53662.367 , 50606.434 , 49704.473 , 48171.37  ,\n",
       "       46069.59  ], dtype=float32)>"
      ]
     },
     "execution_count": 81,
     "metadata": {},
     "output_type": "execute_result"
    }
   ],
   "source": [
    "# Making predictions\n",
    "model_5_preds = make_preds(model_5, test_windows)\n",
    "model_5_preds"
   ]
  },
  {
   "cell_type": "code",
   "execution_count": 82,
   "metadata": {},
   "outputs": [
    {
     "data": {
      "text/plain": [
       "{'mae': 585.4332,\n",
       " 'mse': 1240529.0,\n",
       " 'rmse': 1113.7904,\n",
       " 'mape': 2.6367705,\n",
       " 'mase': 1.028444}"
      ]
     },
     "execution_count": 82,
     "metadata": {},
     "output_type": "execute_result"
    }
   ],
   "source": [
    "# Evaluating predictions\n",
    "model_5_results = evaluate_preds(\n",
    "    y_true=tf.squeeze(test_labels),\n",
    "    y_pred=model_5_preds\n",
    ")\n",
    "model_5_results"
   ]
  },
  {
   "cell_type": "code",
   "execution_count": 83,
   "metadata": {},
   "outputs": [],
   "source": [
    "# Adding Blockchain halving events\n",
    "block_reward_1 = 50 # 3 January 2009\n",
    "block_reward_2 = 25 # 8 November 2012\n",
    "block_reward_3 = 12.5 # 9 July 2016\n",
    "block_reward_4 = 6.25 # 18 May 2020\n",
    "\n",
    "# Adding block reward dates\n",
    "block_reward_2_datetime = np.datetime64(\"2012-11-08\")\n",
    "block_reward_3_datetime = np.datetime64(\"2016-07-09\")\n",
    "block_reward_4_datetime = np.datetime64(\"2020-05-18\")\n"
   ]
  },
  {
   "cell_type": "code",
   "execution_count": 84,
   "metadata": {},
   "outputs": [
    {
     "data": {
      "text/plain": [
       "(1012, 2421)"
      ]
     },
     "execution_count": 84,
     "metadata": {},
     "output_type": "execute_result"
    }
   ],
   "source": [
    "# Creating date ranges\n",
    "block_reward_2_days = (block_reward_3_datetime - bitcoin_prices.index[0]).days\n",
    "block_reward_3_days = (block_reward_4_datetime - bitcoin_prices.index[0]).days\n",
    "\n",
    "block_reward_2_days, block_reward_3_days"
   ]
  },
  {
   "cell_type": "code",
   "execution_count": 85,
   "metadata": {},
   "outputs": [],
   "source": [
    "# Adding in block_reward column\n",
    "bitcoin_prices_block = bitcoin_prices.copy()\n",
    "bitcoin_prices_block[\"block_reward\"] = None\n",
    "\n",
    "# Adding in block_reward values\n",
    "bitcoin_prices_block.iloc[:block_reward_2_days, -1] = block_reward_2\n",
    "bitcoin_prices_block.iloc[block_reward_2_days:block_reward_3_days, -1] = block_reward_3\n",
    "bitcoin_prices_block.iloc[block_reward_3_days:, -1] = block_reward_4"
   ]
  },
  {
   "cell_type": "code",
   "execution_count": 86,
   "metadata": {},
   "outputs": [
    {
     "data": {
      "text/html": [
       "<div>\n",
       "<style scoped>\n",
       "    .dataframe tbody tr th:only-of-type {\n",
       "        vertical-align: middle;\n",
       "    }\n",
       "\n",
       "    .dataframe tbody tr th {\n",
       "        vertical-align: top;\n",
       "    }\n",
       "\n",
       "    .dataframe thead th {\n",
       "        text-align: right;\n",
       "    }\n",
       "</style>\n",
       "<table border=\"1\" class=\"dataframe\">\n",
       "  <thead>\n",
       "    <tr style=\"text-align: right;\">\n",
       "      <th></th>\n",
       "      <th>Price</th>\n",
       "      <th>block_reward</th>\n",
       "    </tr>\n",
       "    <tr>\n",
       "      <th>Date</th>\n",
       "      <th></th>\n",
       "      <th></th>\n",
       "    </tr>\n",
       "  </thead>\n",
       "  <tbody>\n",
       "    <tr>\n",
       "      <th>2013-10-01</th>\n",
       "      <td>123.65499</td>\n",
       "      <td>25</td>\n",
       "    </tr>\n",
       "    <tr>\n",
       "      <th>2013-10-02</th>\n",
       "      <td>125.45500</td>\n",
       "      <td>25</td>\n",
       "    </tr>\n",
       "    <tr>\n",
       "      <th>2013-10-03</th>\n",
       "      <td>108.58483</td>\n",
       "      <td>25</td>\n",
       "    </tr>\n",
       "    <tr>\n",
       "      <th>2013-10-04</th>\n",
       "      <td>118.67466</td>\n",
       "      <td>25</td>\n",
       "    </tr>\n",
       "    <tr>\n",
       "      <th>2013-10-05</th>\n",
       "      <td>121.33866</td>\n",
       "      <td>25</td>\n",
       "    </tr>\n",
       "  </tbody>\n",
       "</table>\n",
       "</div>"
      ],
      "text/plain": [
       "                Price block_reward\n",
       "Date                              \n",
       "2013-10-01  123.65499           25\n",
       "2013-10-02  125.45500           25\n",
       "2013-10-03  108.58483           25\n",
       "2013-10-04  118.67466           25\n",
       "2013-10-05  121.33866           25"
      ]
     },
     "execution_count": 86,
     "metadata": {},
     "output_type": "execute_result"
    }
   ],
   "source": [
    "# Check top 5 values\n",
    "bitcoin_prices_block.head()"
   ]
  },
  {
   "cell_type": "code",
   "execution_count": 87,
   "metadata": {},
   "outputs": [
    {
     "data": {
      "text/html": [
       "<div>\n",
       "<style scoped>\n",
       "    .dataframe tbody tr th:only-of-type {\n",
       "        vertical-align: middle;\n",
       "    }\n",
       "\n",
       "    .dataframe tbody tr th {\n",
       "        vertical-align: top;\n",
       "    }\n",
       "\n",
       "    .dataframe thead th {\n",
       "        text-align: right;\n",
       "    }\n",
       "</style>\n",
       "<table border=\"1\" class=\"dataframe\">\n",
       "  <thead>\n",
       "    <tr style=\"text-align: right;\">\n",
       "      <th></th>\n",
       "      <th>Price</th>\n",
       "      <th>block_reward</th>\n",
       "    </tr>\n",
       "    <tr>\n",
       "      <th>Date</th>\n",
       "      <th></th>\n",
       "      <th></th>\n",
       "    </tr>\n",
       "  </thead>\n",
       "  <tbody>\n",
       "    <tr>\n",
       "      <th>2017-11-09</th>\n",
       "      <td>7342.82375</td>\n",
       "      <td>12.5</td>\n",
       "    </tr>\n",
       "    <tr>\n",
       "      <th>2017-11-10</th>\n",
       "      <td>7250.77000</td>\n",
       "      <td>12.5</td>\n",
       "    </tr>\n",
       "    <tr>\n",
       "      <th>2017-11-11</th>\n",
       "      <td>6773.69500</td>\n",
       "      <td>12.5</td>\n",
       "    </tr>\n",
       "    <tr>\n",
       "      <th>2017-11-12</th>\n",
       "      <td>6075.30125</td>\n",
       "      <td>12.5</td>\n",
       "    </tr>\n",
       "    <tr>\n",
       "      <th>2017-11-13</th>\n",
       "      <td>5969.13000</td>\n",
       "      <td>12.5</td>\n",
       "    </tr>\n",
       "  </tbody>\n",
       "</table>\n",
       "</div>"
      ],
      "text/plain": [
       "                 Price block_reward\n",
       "Date                               \n",
       "2017-11-09  7342.82375         12.5\n",
       "2017-11-10  7250.77000         12.5\n",
       "2017-11-11  6773.69500         12.5\n",
       "2017-11-12  6075.30125         12.5\n",
       "2017-11-13  5969.13000         12.5"
      ]
     },
     "execution_count": 87,
     "metadata": {},
     "output_type": "execute_result"
    }
   ],
   "source": [
    "# Checking 5 mid values\n",
    "bitcoin_prices_block[1500:1505]"
   ]
  },
  {
   "cell_type": "code",
   "execution_count": 88,
   "metadata": {},
   "outputs": [
    {
     "data": {
      "text/html": [
       "<div>\n",
       "<style scoped>\n",
       "    .dataframe tbody tr th:only-of-type {\n",
       "        vertical-align: middle;\n",
       "    }\n",
       "\n",
       "    .dataframe tbody tr th {\n",
       "        vertical-align: top;\n",
       "    }\n",
       "\n",
       "    .dataframe thead th {\n",
       "        text-align: right;\n",
       "    }\n",
       "</style>\n",
       "<table border=\"1\" class=\"dataframe\">\n",
       "  <thead>\n",
       "    <tr style=\"text-align: right;\">\n",
       "      <th></th>\n",
       "      <th>Price</th>\n",
       "      <th>block_reward</th>\n",
       "    </tr>\n",
       "    <tr>\n",
       "      <th>Date</th>\n",
       "      <th></th>\n",
       "      <th></th>\n",
       "    </tr>\n",
       "  </thead>\n",
       "  <tbody>\n",
       "    <tr>\n",
       "      <th>2021-05-14</th>\n",
       "      <td>49764.132082</td>\n",
       "      <td>6.25</td>\n",
       "    </tr>\n",
       "    <tr>\n",
       "      <th>2021-05-15</th>\n",
       "      <td>50032.693137</td>\n",
       "      <td>6.25</td>\n",
       "    </tr>\n",
       "    <tr>\n",
       "      <th>2021-05-16</th>\n",
       "      <td>47885.625255</td>\n",
       "      <td>6.25</td>\n",
       "    </tr>\n",
       "    <tr>\n",
       "      <th>2021-05-17</th>\n",
       "      <td>45604.615754</td>\n",
       "      <td>6.25</td>\n",
       "    </tr>\n",
       "    <tr>\n",
       "      <th>2021-05-18</th>\n",
       "      <td>43144.471291</td>\n",
       "      <td>6.25</td>\n",
       "    </tr>\n",
       "  </tbody>\n",
       "</table>\n",
       "</div>"
      ],
      "text/plain": [
       "                   Price block_reward\n",
       "Date                                 \n",
       "2021-05-14  49764.132082         6.25\n",
       "2021-05-15  50032.693137         6.25\n",
       "2021-05-16  47885.625255         6.25\n",
       "2021-05-17  45604.615754         6.25\n",
       "2021-05-18  43144.471291         6.25"
      ]
     },
     "execution_count": 88,
     "metadata": {},
     "output_type": "execute_result"
    }
   ],
   "source": [
    "# Checking last 5 values\n",
    "bitcoin_prices_block.tail()"
   ]
  },
  {
   "cell_type": "code",
   "execution_count": 89,
   "metadata": {},
   "outputs": [
    {
     "data": {
      "text/plain": [
       "<AxesSubplot:xlabel='Date'>"
      ]
     },
     "execution_count": 89,
     "metadata": {},
     "output_type": "execute_result"
    },
    {
     "data": {
      "image/png": "[encoded data removed]",
      "text/plain": [
       "<Figure size 720x504 with 1 Axes>"
      ]
     },
     "metadata": {
      "needs_background": "light"
     },
     "output_type": "display_data"
    }
   ],
   "source": [
    "# Plotting block reward vs price over time\n",
    "from sklearn.preprocessing import minmax_scale\n",
    "\n",
    "scaled_price_block_df = pd.DataFrame(\n",
    "    minmax_scale(bitcoin_prices_block[[\"Price\", \"block_reward\"]]),\n",
    "    columns=bitcoin_prices_block.columns,\n",
    "    index=bitcoin_prices_block.index\n",
    ")\n",
    "scaled_price_block_df.plot(figsize=(10, 7))"
   ]
  },
  {
   "attachments": {},
   "cell_type": "markdown",
   "metadata": {},
   "source": [
    "### Creating windowed multi-variate dataset with pandas"
   ]
  },
  {
   "cell_type": "code",
   "execution_count": 90,
   "metadata": {},
   "outputs": [],
   "source": [
    "# Setting up hyperparameters\n",
    "HORIZON = 1\n",
    "WINDOW_SIZE = 7"
   ]
  },
  {
   "cell_type": "code",
   "execution_count": 91,
   "metadata": {},
   "outputs": [
    {
     "data": {
      "text/html": [
       "<div>\n",
       "<style scoped>\n",
       "    .dataframe tbody tr th:only-of-type {\n",
       "        vertical-align: middle;\n",
       "    }\n",
       "\n",
       "    .dataframe tbody tr th {\n",
       "        vertical-align: top;\n",
       "    }\n",
       "\n",
       "    .dataframe thead th {\n",
       "        text-align: right;\n",
       "    }\n",
       "</style>\n",
       "<table border=\"1\" class=\"dataframe\">\n",
       "  <thead>\n",
       "    <tr style=\"text-align: right;\">\n",
       "      <th></th>\n",
       "      <th>Price</th>\n",
       "      <th>block_reward</th>\n",
       "      <th>Price+1</th>\n",
       "      <th>Price+2</th>\n",
       "      <th>Price+3</th>\n",
       "      <th>Price+4</th>\n",
       "      <th>Price+5</th>\n",
       "      <th>Price+6</th>\n",
       "      <th>Price+7</th>\n",
       "    </tr>\n",
       "    <tr>\n",
       "      <th>Date</th>\n",
       "      <th></th>\n",
       "      <th></th>\n",
       "      <th></th>\n",
       "      <th></th>\n",
       "      <th></th>\n",
       "      <th></th>\n",
       "      <th></th>\n",
       "      <th></th>\n",
       "      <th></th>\n",
       "    </tr>\n",
       "  </thead>\n",
       "  <tbody>\n",
       "    <tr>\n",
       "      <th>2013-10-01</th>\n",
       "      <td>123.65499</td>\n",
       "      <td>25</td>\n",
       "      <td>NaN</td>\n",
       "      <td>NaN</td>\n",
       "      <td>NaN</td>\n",
       "      <td>NaN</td>\n",
       "      <td>NaN</td>\n",
       "      <td>NaN</td>\n",
       "      <td>NaN</td>\n",
       "    </tr>\n",
       "    <tr>\n",
       "      <th>2013-10-02</th>\n",
       "      <td>125.45500</td>\n",
       "      <td>25</td>\n",
       "      <td>123.65499</td>\n",
       "      <td>NaN</td>\n",
       "      <td>NaN</td>\n",
       "      <td>NaN</td>\n",
       "      <td>NaN</td>\n",
       "      <td>NaN</td>\n",
       "      <td>NaN</td>\n",
       "    </tr>\n",
       "    <tr>\n",
       "      <th>2013-10-03</th>\n",
       "      <td>108.58483</td>\n",
       "      <td>25</td>\n",
       "      <td>125.45500</td>\n",
       "      <td>123.65499</td>\n",
       "      <td>NaN</td>\n",
       "      <td>NaN</td>\n",
       "      <td>NaN</td>\n",
       "      <td>NaN</td>\n",
       "      <td>NaN</td>\n",
       "    </tr>\n",
       "    <tr>\n",
       "      <th>2013-10-04</th>\n",
       "      <td>118.67466</td>\n",
       "      <td>25</td>\n",
       "      <td>108.58483</td>\n",
       "      <td>125.45500</td>\n",
       "      <td>123.65499</td>\n",
       "      <td>NaN</td>\n",
       "      <td>NaN</td>\n",
       "      <td>NaN</td>\n",
       "      <td>NaN</td>\n",
       "    </tr>\n",
       "    <tr>\n",
       "      <th>2013-10-05</th>\n",
       "      <td>121.33866</td>\n",
       "      <td>25</td>\n",
       "      <td>118.67466</td>\n",
       "      <td>108.58483</td>\n",
       "      <td>125.45500</td>\n",
       "      <td>123.65499</td>\n",
       "      <td>NaN</td>\n",
       "      <td>NaN</td>\n",
       "      <td>NaN</td>\n",
       "    </tr>\n",
       "    <tr>\n",
       "      <th>2013-10-06</th>\n",
       "      <td>120.65533</td>\n",
       "      <td>25</td>\n",
       "      <td>121.33866</td>\n",
       "      <td>118.67466</td>\n",
       "      <td>108.58483</td>\n",
       "      <td>125.45500</td>\n",
       "      <td>123.65499</td>\n",
       "      <td>NaN</td>\n",
       "      <td>NaN</td>\n",
       "    </tr>\n",
       "    <tr>\n",
       "      <th>2013-10-07</th>\n",
       "      <td>121.79500</td>\n",
       "      <td>25</td>\n",
       "      <td>120.65533</td>\n",
       "      <td>121.33866</td>\n",
       "      <td>118.67466</td>\n",
       "      <td>108.58483</td>\n",
       "      <td>125.45500</td>\n",
       "      <td>123.65499</td>\n",
       "      <td>NaN</td>\n",
       "    </tr>\n",
       "    <tr>\n",
       "      <th>2013-10-08</th>\n",
       "      <td>123.03300</td>\n",
       "      <td>25</td>\n",
       "      <td>121.79500</td>\n",
       "      <td>120.65533</td>\n",
       "      <td>121.33866</td>\n",
       "      <td>118.67466</td>\n",
       "      <td>108.58483</td>\n",
       "      <td>125.45500</td>\n",
       "      <td>123.65499</td>\n",
       "    </tr>\n",
       "    <tr>\n",
       "      <th>2013-10-09</th>\n",
       "      <td>124.04900</td>\n",
       "      <td>25</td>\n",
       "      <td>123.03300</td>\n",
       "      <td>121.79500</td>\n",
       "      <td>120.65533</td>\n",
       "      <td>121.33866</td>\n",
       "      <td>118.67466</td>\n",
       "      <td>108.58483</td>\n",
       "      <td>125.45500</td>\n",
       "    </tr>\n",
       "    <tr>\n",
       "      <th>2013-10-10</th>\n",
       "      <td>125.96116</td>\n",
       "      <td>25</td>\n",
       "      <td>124.04900</td>\n",
       "      <td>123.03300</td>\n",
       "      <td>121.79500</td>\n",
       "      <td>120.65533</td>\n",
       "      <td>121.33866</td>\n",
       "      <td>118.67466</td>\n",
       "      <td>108.58483</td>\n",
       "    </tr>\n",
       "  </tbody>\n",
       "</table>\n",
       "</div>"
      ],
      "text/plain": [
       "                Price block_reward    Price+1    Price+2    Price+3  \\\n",
       "Date                                                                  \n",
       "2013-10-01  123.65499           25        NaN        NaN        NaN   \n",
       "2013-10-02  125.45500           25  123.65499        NaN        NaN   \n",
       "2013-10-03  108.58483           25  125.45500  123.65499        NaN   \n",
       "2013-10-04  118.67466           25  108.58483  125.45500  123.65499   \n",
       "2013-10-05  121.33866           25  118.67466  108.58483  125.45500   \n",
       "2013-10-06  120.65533           25  121.33866  118.67466  108.58483   \n",
       "2013-10-07  121.79500           25  120.65533  121.33866  118.67466   \n",
       "2013-10-08  123.03300           25  121.79500  120.65533  121.33866   \n",
       "2013-10-09  124.04900           25  123.03300  121.79500  120.65533   \n",
       "2013-10-10  125.96116           25  124.04900  123.03300  121.79500   \n",
       "\n",
       "              Price+4    Price+5    Price+6    Price+7  \n",
       "Date                                                    \n",
       "2013-10-01        NaN        NaN        NaN        NaN  \n",
       "2013-10-02        NaN        NaN        NaN        NaN  \n",
       "2013-10-03        NaN        NaN        NaN        NaN  \n",
       "2013-10-04        NaN        NaN        NaN        NaN  \n",
       "2013-10-05  123.65499        NaN        NaN        NaN  \n",
       "2013-10-06  125.45500  123.65499        NaN        NaN  \n",
       "2013-10-07  108.58483  125.45500  123.65499        NaN  \n",
       "2013-10-08  118.67466  108.58483  125.45500  123.65499  \n",
       "2013-10-09  121.33866  118.67466  108.58483  125.45500  \n",
       "2013-10-10  120.65533  121.33866  118.67466  108.58483  "
      ]
     },
     "execution_count": 91,
     "metadata": {},
     "output_type": "execute_result"
    }
   ],
   "source": [
    "# Making a copy of Bitcoin dataset\n",
    "bitcoin_prices_windowed = bitcoin_prices_block.copy()\n",
    "\n",
    "# Adding windowed column\n",
    "for i in range(WINDOW_SIZE):\n",
    "    bitcoin_prices_windowed[f\"Price+{i + 1}\"] = bitcoin_prices_windowed[\"Price\"].shift(periods=i+1)\n",
    "\n",
    "bitcoin_prices_windowed.head(10)"
   ]
  },
  {
   "cell_type": "code",
   "execution_count": 92,
   "metadata": {},
   "outputs": [
    {
     "data": {
      "text/plain": [
       "(            block_reward     Price+1     Price+2     Price+3     Price+4  \\\n",
       " Date                                                                       \n",
       " 2013-10-08          25.0  121.794998  120.655327  121.338661  118.674660   \n",
       " 2013-10-09          25.0  123.032997  121.794998  120.655327  121.338661   \n",
       " 2013-10-10          25.0  124.049004  123.032997  121.794998  120.655327   \n",
       " 2013-10-11          25.0  125.961159  124.049004  123.032997  121.794998   \n",
       " 2013-10-12          25.0  125.279663  125.961159  124.049004  123.032997   \n",
       " \n",
       "                Price+5     Price+6     Price+7  \n",
       " Date                                            \n",
       " 2013-10-08  108.584831  125.455002  123.654991  \n",
       " 2013-10-09  118.674660  108.584831  125.455002  \n",
       " 2013-10-10  121.338661  118.674660  108.584831  \n",
       " 2013-10-11  120.655327  121.338661  118.674660  \n",
       " 2013-10-12  121.794998  120.655327  121.338661  ,\n",
       " Date\n",
       " 2013-10-08    123.032997\n",
       " 2013-10-09    124.049004\n",
       " 2013-10-10    125.961159\n",
       " 2013-10-11    125.279663\n",
       " 2013-10-12    125.927498\n",
       " Name: Price, dtype: float32)"
      ]
     },
     "execution_count": 92,
     "metadata": {},
     "output_type": "execute_result"
    }
   ],
   "source": [
    "# Creating X (windows) and y (horizon)\n",
    "X = bitcoin_prices_windowed.dropna().drop(\"Price\", axis=1).astype(np.float32)\n",
    "y = bitcoin_prices_windowed.dropna()[\"Price\"].astype(np.float32)\n",
    "\n",
    "X.head(), y.head()"
   ]
  },
  {
   "cell_type": "code",
   "execution_count": 93,
   "metadata": {},
   "outputs": [
    {
     "data": {
      "text/plain": [
       "(2224, 2224, 556, 556)"
      ]
     },
     "execution_count": 93,
     "metadata": {},
     "output_type": "execute_result"
    }
   ],
   "source": [
    "# Making train and test sets, using indexing\n",
    "split_size = int(len(X) * 0.8)\n",
    "\n",
    "X_train, y_train = X[:split_size], y[:split_size]\n",
    "X_test, y_test = X[split_size:], y[split_size:]\n",
    "\n",
    "len(X_train), len(y_train), len(X_test), len(y_test)"
   ]
  },
  {
   "attachments": {},
   "cell_type": "markdown",
   "metadata": {},
   "source": [
    "### Model 6 - Dense (multivariate time series)"
   ]
  },
  {
   "cell_type": "code",
   "execution_count": 94,
   "metadata": {},
   "outputs": [
    {
     "name": "stdout",
     "output_type": "stream",
     "text": [
      "Epoch 1/100\n",
      "10/18 [===============>..............] - ETA: 0s - loss: 1877.4817 INFO:tensorflow:Assets written to: model_experiments\\model_6_dense_multivariate\\assets\n"
     ]
    },
    {
     "name": "stderr",
     "output_type": "stream",
     "text": [
      "INFO:tensorflow:Assets written to: model_experiments\\model_6_dense_multivariate\\assets\n"
     ]
    },
    {
     "name": "stdout",
     "output_type": "stream",
     "text": [
      "18/18 [==============================] - 3s 92ms/step - loss: 1271.8297 - val_loss: 2087.3906\n",
      "Epoch 2/100\n",
      "14/18 [======================>.......] - ETA: 0s - loss: 360.3777INFO:tensorflow:Assets written to: model_experiments\\model_6_dense_multivariate\\assets\n"
     ]
    },
    {
     "name": "stderr",
     "output_type": "stream",
     "text": [
      "INFO:tensorflow:Assets written to: model_experiments\\model_6_dense_multivariate\\assets\n"
     ]
    },
    {
     "name": "stdout",
     "output_type": "stream",
     "text": [
      "18/18 [==============================] - 1s 81ms/step - loss: 337.5563 - val_loss: 1783.6649\n",
      "Epoch 3/100\n",
      " 9/18 [==============>...............] - ETA: 0s - loss: 220.4687INFO:tensorflow:Assets written to: model_experiments\\model_6_dense_multivariate\\assets\n"
     ]
    },
    {
     "name": "stderr",
     "output_type": "stream",
     "text": [
      "INFO:tensorflow:Assets written to: model_experiments\\model_6_dense_multivariate\\assets\n"
     ]
    },
    {
     "name": "stdout",
     "output_type": "stream",
     "text": [
      "18/18 [==============================] - 1s 77ms/step - loss: 215.4244 - val_loss: 1266.9431\n",
      "Epoch 4/100\n",
      "15/18 [========================>.....] - ETA: 0s - loss: 191.2953INFO:tensorflow:Assets written to: model_experiments\\model_6_dense_multivariate\\assets\n"
     ]
    },
    {
     "name": "stderr",
     "output_type": "stream",
     "text": [
      "INFO:tensorflow:Assets written to: model_experiments\\model_6_dense_multivariate\\assets\n"
     ]
    },
    {
     "name": "stdout",
     "output_type": "stream",
     "text": [
      "18/18 [==============================] - 1s 76ms/step - loss: 190.3177 - val_loss: 1031.1313\n",
      "Epoch 5/100\n",
      "15/18 [========================>.....] - ETA: 0s - loss: 185.7090INFO:tensorflow:Assets written to: model_experiments\\model_6_dense_multivariate\\assets\n"
     ]
    },
    {
     "name": "stderr",
     "output_type": "stream",
     "text": [
      "INFO:tensorflow:Assets written to: model_experiments\\model_6_dense_multivariate\\assets\n"
     ]
    },
    {
     "name": "stdout",
     "output_type": "stream",
     "text": [
      "18/18 [==============================] - 1s 66ms/step - loss: 180.5268 - val_loss: 1014.7656\n",
      "Epoch 6/100\n",
      "17/18 [===========================>..] - ETA: 0s - loss: 172.7290INFO:tensorflow:Assets written to: model_experiments\\model_6_dense_multivariate\\assets\n"
     ]
    },
    {
     "name": "stderr",
     "output_type": "stream",
     "text": [
      "INFO:tensorflow:Assets written to: model_experiments\\model_6_dense_multivariate\\assets\n"
     ]
    },
    {
     "name": "stdout",
     "output_type": "stream",
     "text": [
      "18/18 [==============================] - 1s 63ms/step - loss: 174.4778 - val_loss: 962.3682\n",
      "Epoch 7/100\n",
      "17/18 [===========================>..] - ETA: 0s - loss: 167.9365INFO:tensorflow:Assets written to: model_experiments\\model_6_dense_multivariate\\assets\n"
     ]
    },
    {
     "name": "stderr",
     "output_type": "stream",
     "text": [
      "INFO:tensorflow:Assets written to: model_experiments\\model_6_dense_multivariate\\assets\n"
     ]
    },
    {
     "name": "stdout",
     "output_type": "stream",
     "text": [
      "18/18 [==============================] - 1s 60ms/step - loss: 167.1833 - val_loss: 920.5300\n",
      "Epoch 8/100\n",
      "14/18 [======================>.......] - ETA: 0s - loss: 159.3998INFO:tensorflow:Assets written to: model_experiments\\model_6_dense_multivariate\\assets\n"
     ]
    },
    {
     "name": "stderr",
     "output_type": "stream",
     "text": [
      "INFO:tensorflow:Assets written to: model_experiments\\model_6_dense_multivariate\\assets\n"
     ]
    },
    {
     "name": "stdout",
     "output_type": "stream",
     "text": [
      "18/18 [==============================] - 1s 58ms/step - loss: 161.3657 - val_loss: 883.6695\n",
      "Epoch 9/100\n",
      "18/18 [==============================] - 0s 8ms/step - loss: 157.9078 - val_loss: 887.3111\n",
      "Epoch 10/100\n",
      "16/18 [=========================>....] - ETA: 0s - loss: 151.0211INFO:tensorflow:Assets written to: model_experiments\\model_6_dense_multivariate\\assets\n"
     ]
    },
    {
     "name": "stderr",
     "output_type": "stream",
     "text": [
      "INFO:tensorflow:Assets written to: model_experiments\\model_6_dense_multivariate\\assets\n"
     ]
    },
    {
     "name": "stdout",
     "output_type": "stream",
     "text": [
      "18/18 [==============================] - 1s 52ms/step - loss: 152.8680 - val_loss: 841.4356\n",
      "Epoch 11/100\n",
      "15/18 [========================>.....] - ETA: 0s - loss: 147.6895INFO:tensorflow:Assets written to: model_experiments\\model_6_dense_multivariate\\assets\n"
     ]
    },
    {
     "name": "stderr",
     "output_type": "stream",
     "text": [
      "INFO:tensorflow:Assets written to: model_experiments\\model_6_dense_multivariate\\assets\n"
     ]
    },
    {
     "name": "stdout",
     "output_type": "stream",
     "text": [
      "18/18 [==============================] - 1s 57ms/step - loss: 146.8516 - val_loss: 809.0340\n",
      "Epoch 12/100\n",
      "13/18 [====================>.........] - ETA: 0s - loss: 142.8057INFO:tensorflow:Assets written to: model_experiments\\model_6_dense_multivariate\\assets\n"
     ]
    },
    {
     "name": "stderr",
     "output_type": "stream",
     "text": [
      "INFO:tensorflow:Assets written to: model_experiments\\model_6_dense_multivariate\\assets\n"
     ]
    },
    {
     "name": "stdout",
     "output_type": "stream",
     "text": [
      "18/18 [==============================] - 1s 62ms/step - loss: 142.9264 - val_loss: 806.0526\n",
      "Epoch 13/100\n",
      "18/18 [==============================] - 0s 9ms/step - loss: 141.1741 - val_loss: 865.6666\n",
      "Epoch 14/100\n",
      "18/18 [==============================] - 0s 12ms/step - loss: 137.7900 - val_loss: 818.3352\n",
      "Epoch 15/100\n",
      "13/18 [====================>.........] - ETA: 0s - loss: 133.3733INFO:tensorflow:Assets written to: model_experiments\\model_6_dense_multivariate\\assets\n"
     ]
    },
    {
     "name": "stderr",
     "output_type": "stream",
     "text": [
      "INFO:tensorflow:Assets written to: model_experiments\\model_6_dense_multivariate\\assets\n"
     ]
    },
    {
     "name": "stdout",
     "output_type": "stream",
     "text": [
      "18/18 [==============================] - 1s 84ms/step - loss: 135.2393 - val_loss: 750.4307\n",
      "Epoch 16/100\n",
      "18/18 [==============================] - ETA: 0s - loss: 130.4197INFO:tensorflow:Assets written to: model_experiments\\model_6_dense_multivariate\\assets\n"
     ]
    },
    {
     "name": "stderr",
     "output_type": "stream",
     "text": [
      "INFO:tensorflow:Assets written to: model_experiments\\model_6_dense_multivariate\\assets\n"
     ]
    },
    {
     "name": "stdout",
     "output_type": "stream",
     "text": [
      "18/18 [==============================] - 1s 58ms/step - loss: 130.4197 - val_loss: 746.9639\n",
      "Epoch 17/100\n",
      "13/18 [====================>.........] - ETA: 0s - loss: 129.4212INFO:tensorflow:Assets written to: model_experiments\\model_6_dense_multivariate\\assets\n"
     ]
    },
    {
     "name": "stderr",
     "output_type": "stream",
     "text": [
      "INFO:tensorflow:Assets written to: model_experiments\\model_6_dense_multivariate\\assets\n"
     ]
    },
    {
     "name": "stdout",
     "output_type": "stream",
     "text": [
      "18/18 [==============================] - 1s 65ms/step - loss: 127.9111 - val_loss: 743.5341\n",
      "Epoch 18/100\n",
      " 8/18 [============>.................] - ETA: 0s - loss: 138.4788INFO:tensorflow:Assets written to: model_experiments\\model_6_dense_multivariate\\assets\n"
     ]
    },
    {
     "name": "stderr",
     "output_type": "stream",
     "text": [
      "INFO:tensorflow:Assets written to: model_experiments\\model_6_dense_multivariate\\assets\n"
     ]
    },
    {
     "name": "stdout",
     "output_type": "stream",
     "text": [
      "18/18 [==============================] - 1s 65ms/step - loss: 126.1108 - val_loss: 698.6935\n",
      "Epoch 19/100\n",
      "18/18 [==============================] - 0s 10ms/step - loss: 123.4349 - val_loss: 723.9496\n",
      "Epoch 20/100\n",
      "12/18 [===================>..........] - ETA: 0s - loss: 124.5457INFO:tensorflow:Assets written to: model_experiments\\model_6_dense_multivariate\\assets\n"
     ]
    },
    {
     "name": "stderr",
     "output_type": "stream",
     "text": [
      "INFO:tensorflow:Assets written to: model_experiments\\model_6_dense_multivariate\\assets\n"
     ]
    },
    {
     "name": "stdout",
     "output_type": "stream",
     "text": [
      "18/18 [==============================] - 1s 54ms/step - loss: 122.2465 - val_loss: 693.1622\n",
      "Epoch 21/100\n",
      "14/18 [======================>.......] - ETA: 0s - loss: 125.3025INFO:tensorflow:Assets written to: model_experiments\\model_6_dense_multivariate\\assets\n"
     ]
    },
    {
     "name": "stderr",
     "output_type": "stream",
     "text": [
      "INFO:tensorflow:Assets written to: model_experiments\\model_6_dense_multivariate\\assets\n"
     ]
    },
    {
     "name": "stdout",
     "output_type": "stream",
     "text": [
      "18/18 [==============================] - 1s 72ms/step - loss: 124.9247 - val_loss: 665.0708\n",
      "Epoch 22/100\n",
      "15/18 [========================>.....] - ETA: 0s - loss: 123.1573INFO:tensorflow:Assets written to: model_experiments\\model_6_dense_multivariate\\assets\n"
     ]
    },
    {
     "name": "stderr",
     "output_type": "stream",
     "text": [
      "INFO:tensorflow:Assets written to: model_experiments\\model_6_dense_multivariate\\assets\n"
     ]
    },
    {
     "name": "stdout",
     "output_type": "stream",
     "text": [
      "18/18 [==============================] - 1s 63ms/step - loss: 119.3752 - val_loss: 664.4453\n",
      "Epoch 23/100\n",
      "12/18 [===================>..........] - ETA: 0s - loss: 118.2526INFO:tensorflow:Assets written to: model_experiments\\model_6_dense_multivariate\\assets\n"
     ]
    },
    {
     "name": "stderr",
     "output_type": "stream",
     "text": [
      "INFO:tensorflow:Assets written to: model_experiments\\model_6_dense_multivariate\\assets\n"
     ]
    },
    {
     "name": "stdout",
     "output_type": "stream",
     "text": [
      "18/18 [==============================] - 1s 63ms/step - loss: 122.7817 - val_loss: 664.2415\n",
      "Epoch 24/100\n",
      "18/18 [==============================] - ETA: 0s - loss: 120.7711INFO:tensorflow:Assets written to: model_experiments\\model_6_dense_multivariate\\assets\n"
     ]
    },
    {
     "name": "stderr",
     "output_type": "stream",
     "text": [
      "INFO:tensorflow:Assets written to: model_experiments\\model_6_dense_multivariate\\assets\n"
     ]
    },
    {
     "name": "stdout",
     "output_type": "stream",
     "text": [
      "18/18 [==============================] - 1s 55ms/step - loss: 120.7711 - val_loss: 633.9146\n",
      "Epoch 25/100\n",
      "13/18 [====================>.........] - ETA: 0s - loss: 119.8707INFO:tensorflow:Assets written to: model_experiments\\model_6_dense_multivariate\\assets\n"
     ]
    },
    {
     "name": "stderr",
     "output_type": "stream",
     "text": [
      "INFO:tensorflow:Assets written to: model_experiments\\model_6_dense_multivariate\\assets\n"
     ]
    },
    {
     "name": "stdout",
     "output_type": "stream",
     "text": [
      "18/18 [==============================] - 1s 61ms/step - loss: 116.4304 - val_loss: 629.0275\n",
      "Epoch 26/100\n",
      "15/18 [========================>.....] - ETA: 0s - loss: 120.3167INFO:tensorflow:Assets written to: model_experiments\\model_6_dense_multivariate\\assets\n"
     ]
    },
    {
     "name": "stderr",
     "output_type": "stream",
     "text": [
      "INFO:tensorflow:Assets written to: model_experiments\\model_6_dense_multivariate\\assets\n"
     ]
    },
    {
     "name": "stdout",
     "output_type": "stream",
     "text": [
      "18/18 [==============================] - 1s 66ms/step - loss: 117.2316 - val_loss: 622.0745\n",
      "Epoch 27/100\n",
      "17/18 [===========================>..] - ETA: 0s - loss: 117.9490INFO:tensorflow:Assets written to: model_experiments\\model_6_dense_multivariate\\assets\n"
     ]
    },
    {
     "name": "stderr",
     "output_type": "stream",
     "text": [
      "INFO:tensorflow:Assets written to: model_experiments\\model_6_dense_multivariate\\assets\n"
     ]
    },
    {
     "name": "stdout",
     "output_type": "stream",
     "text": [
      "18/18 [==============================] - 1s 46ms/step - loss: 118.2185 - val_loss: 616.7946\n",
      "Epoch 28/100\n",
      "16/18 [=========================>....] - ETA: 0s - loss: 113.4979INFO:tensorflow:Assets written to: model_experiments\\model_6_dense_multivariate\\assets\n"
     ]
    },
    {
     "name": "stderr",
     "output_type": "stream",
     "text": [
      "INFO:tensorflow:Assets written to: model_experiments\\model_6_dense_multivariate\\assets\n"
     ]
    },
    {
     "name": "stdout",
     "output_type": "stream",
     "text": [
      "18/18 [==============================] - 1s 49ms/step - loss: 114.2431 - val_loss: 611.7462\n",
      "Epoch 29/100\n",
      "16/18 [=========================>....] - ETA: 0s - loss: 113.2837INFO:tensorflow:Assets written to: model_experiments\\model_6_dense_multivariate\\assets\n"
     ]
    },
    {
     "name": "stderr",
     "output_type": "stream",
     "text": [
      "INFO:tensorflow:Assets written to: model_experiments\\model_6_dense_multivariate\\assets\n"
     ]
    },
    {
     "name": "stdout",
     "output_type": "stream",
     "text": [
      "18/18 [==============================] - 1s 62ms/step - loss: 114.0633 - val_loss: 608.8645\n",
      "Epoch 30/100\n",
      "17/18 [===========================>..] - ETA: 0s - loss: 117.3781INFO:tensorflow:Assets written to: model_experiments\\model_6_dense_multivariate\\assets\n"
     ]
    },
    {
     "name": "stderr",
     "output_type": "stream",
     "text": [
      "INFO:tensorflow:Assets written to: model_experiments\\model_6_dense_multivariate\\assets\n"
     ]
    },
    {
     "name": "stdout",
     "output_type": "stream",
     "text": [
      "18/18 [==============================] - 1s 74ms/step - loss: 116.7299 - val_loss: 604.1967\n",
      "Epoch 31/100\n",
      "18/18 [==============================] - 0s 7ms/step - loss: 113.4331 - val_loss: 608.6072\n",
      "Epoch 32/100\n",
      "18/18 [==============================] - 0s 7ms/step - loss: 111.7499 - val_loss: 607.2433\n",
      "Epoch 33/100\n",
      "18/18 [==============================] - 0s 8ms/step - loss: 113.1139 - val_loss: 640.8706\n",
      "Epoch 34/100\n",
      "15/18 [========================>.....] - ETA: 0s - loss: 112.4644INFO:tensorflow:Assets written to: model_experiments\\model_6_dense_multivariate\\assets\n"
     ]
    },
    {
     "name": "stderr",
     "output_type": "stream",
     "text": [
      "INFO:tensorflow:Assets written to: model_experiments\\model_6_dense_multivariate\\assets\n"
     ]
    },
    {
     "name": "stdout",
     "output_type": "stream",
     "text": [
      "18/18 [==============================] - 2s 103ms/step - loss: 113.1654 - val_loss: 602.0913\n",
      "Epoch 35/100\n",
      "12/18 [===================>..........] - ETA: 0s - loss: 112.7352INFO:tensorflow:Assets written to: model_experiments\\model_6_dense_multivariate\\assets\n"
     ]
    },
    {
     "name": "stderr",
     "output_type": "stream",
     "text": [
      "INFO:tensorflow:Assets written to: model_experiments\\model_6_dense_multivariate\\assets\n"
     ]
    },
    {
     "name": "stdout",
     "output_type": "stream",
     "text": [
      "18/18 [==============================] - 2s 116ms/step - loss: 111.1450 - val_loss: 595.8406\n",
      "Epoch 36/100\n",
      "18/18 [==============================] - ETA: 0s - loss: 114.4181INFO:tensorflow:Assets written to: model_experiments\\model_6_dense_multivariate\\assets\n"
     ]
    },
    {
     "name": "stderr",
     "output_type": "stream",
     "text": [
      "INFO:tensorflow:Assets written to: model_experiments\\model_6_dense_multivariate\\assets\n"
     ]
    },
    {
     "name": "stdout",
     "output_type": "stream",
     "text": [
      "18/18 [==============================] - 2s 120ms/step - loss: 114.4181 - val_loss: 590.8555\n",
      "Epoch 37/100\n",
      "17/18 [===========================>..] - ETA: 0s - loss: 111.0758INFO:tensorflow:Assets written to: model_experiments\\model_6_dense_multivariate\\assets\n"
     ]
    },
    {
     "name": "stderr",
     "output_type": "stream",
     "text": [
      "INFO:tensorflow:Assets written to: model_experiments\\model_6_dense_multivariate\\assets\n"
     ]
    },
    {
     "name": "stdout",
     "output_type": "stream",
     "text": [
      "18/18 [==============================] - 2s 121ms/step - loss: 111.8181 - val_loss: 588.6091\n",
      "Epoch 38/100\n",
      "14/18 [======================>.......] - ETA: 0s - loss: 115.3466INFO:tensorflow:Assets written to: model_experiments\\model_6_dense_multivariate\\assets\n"
     ]
    },
    {
     "name": "stderr",
     "output_type": "stream",
     "text": [
      "INFO:tensorflow:Assets written to: model_experiments\\model_6_dense_multivariate\\assets\n"
     ]
    },
    {
     "name": "stdout",
     "output_type": "stream",
     "text": [
      "18/18 [==============================] - 2s 100ms/step - loss: 112.1112 - val_loss: 586.9124\n",
      "Epoch 39/100\n",
      "18/18 [==============================] - 0s 10ms/step - loss: 112.5515 - val_loss: 603.3849\n",
      "Epoch 40/100\n",
      " 1/18 [>.............................] - ETA: 0s - loss: 103.9430INFO:tensorflow:Assets written to: model_experiments\\model_6_dense_multivariate\\assets\n"
     ]
    },
    {
     "name": "stderr",
     "output_type": "stream",
     "text": [
      "INFO:tensorflow:Assets written to: model_experiments\\model_6_dense_multivariate\\assets\n"
     ]
    },
    {
     "name": "stdout",
     "output_type": "stream",
     "text": [
      "18/18 [==============================] - 1s 67ms/step - loss: 110.7114 - val_loss: 583.8201\n",
      "Epoch 41/100\n",
      "18/18 [==============================] - 0s 8ms/step - loss: 112.0576 - val_loss: 652.3966\n",
      "Epoch 42/100\n",
      "18/18 [==============================] - 0s 6ms/step - loss: 116.7515 - val_loss: 585.8173\n",
      "Epoch 43/100\n",
      "18/18 [==============================] - 0s 6ms/step - loss: 112.5799 - val_loss: 621.1279\n",
      "Epoch 44/100\n",
      "18/18 [==============================] - 0s 8ms/step - loss: 114.5006 - val_loss: 613.3313\n",
      "Epoch 45/100\n",
      "18/18 [==============================] - 0s 7ms/step - loss: 111.0219 - val_loss: 602.0560\n",
      "Epoch 46/100\n",
      "12/18 [===================>..........] - ETA: 0s - loss: 114.8265INFO:tensorflow:Assets written to: model_experiments\\model_6_dense_multivariate\\assets\n"
     ]
    },
    {
     "name": "stderr",
     "output_type": "stream",
     "text": [
      "INFO:tensorflow:Assets written to: model_experiments\\model_6_dense_multivariate\\assets\n"
     ]
    },
    {
     "name": "stdout",
     "output_type": "stream",
     "text": [
      "18/18 [==============================] - 2s 89ms/step - loss: 110.7977 - val_loss: 583.4967\n",
      "Epoch 47/100\n",
      "18/18 [==============================] - 0s 7ms/step - loss: 110.7211 - val_loss: 664.1302\n",
      "Epoch 48/100\n",
      "18/18 [==============================] - 0s 10ms/step - loss: 108.8282 - val_loss: 608.0532\n",
      "Epoch 49/100\n",
      " 9/18 [==============>...............] - ETA: 0s - loss: 120.4419INFO:tensorflow:Assets written to: model_experiments\\model_6_dense_multivariate\\assets\n"
     ]
    },
    {
     "name": "stderr",
     "output_type": "stream",
     "text": [
      "INFO:tensorflow:Assets written to: model_experiments\\model_6_dense_multivariate\\assets\n"
     ]
    },
    {
     "name": "stdout",
     "output_type": "stream",
     "text": [
      "18/18 [==============================] - 1s 70ms/step - loss: 112.1275 - val_loss: 582.6066\n",
      "Epoch 50/100\n",
      "18/18 [==============================] - 0s 7ms/step - loss: 108.3285 - val_loss: 615.4805\n",
      "Epoch 51/100\n",
      "15/18 [========================>.....] - ETA: 0s - loss: 108.1901INFO:tensorflow:Assets written to: model_experiments\\model_6_dense_multivariate\\assets\n"
     ]
    },
    {
     "name": "stderr",
     "output_type": "stream",
     "text": [
      "INFO:tensorflow:Assets written to: model_experiments\\model_6_dense_multivariate\\assets\n"
     ]
    },
    {
     "name": "stdout",
     "output_type": "stream",
     "text": [
      "18/18 [==============================] - 1s 81ms/step - loss: 108.3824 - val_loss: 577.7164\n",
      "Epoch 52/100\n",
      "18/18 [==============================] - 0s 9ms/step - loss: 110.0310 - val_loss: 582.2988\n",
      "Epoch 53/100\n",
      "18/18 [==============================] - 0s 8ms/step - loss: 109.4493 - val_loss: 585.7081\n",
      "Epoch 54/100\n",
      "18/18 [==============================] - 0s 7ms/step - loss: 107.4977 - val_loss: 580.1633\n",
      "Epoch 55/100\n",
      "18/18 [==============================] - 0s 7ms/step - loss: 108.4192 - val_loss: 582.6334\n",
      "Epoch 56/100\n",
      "18/18 [==============================] - 0s 6ms/step - loss: 110.2744 - val_loss: 792.7254\n",
      "Epoch 57/100\n",
      "18/18 [==============================] - 0s 9ms/step - loss: 132.9475 - val_loss: 715.9135\n",
      "Epoch 58/100\n",
      "18/18 [==============================] - ETA: 0s - loss: 114.5500INFO:tensorflow:Assets written to: model_experiments\\model_6_dense_multivariate\\assets\n"
     ]
    },
    {
     "name": "stderr",
     "output_type": "stream",
     "text": [
      "INFO:tensorflow:Assets written to: model_experiments\\model_6_dense_multivariate\\assets\n"
     ]
    },
    {
     "name": "stdout",
     "output_type": "stream",
     "text": [
      "18/18 [==============================] - 1s 76ms/step - loss: 114.5500 - val_loss: 575.1212\n",
      "Epoch 59/100\n",
      "18/18 [==============================] - 0s 7ms/step - loss: 107.8620 - val_loss: 586.2362\n",
      "Epoch 60/100\n",
      "18/18 [==============================] - 0s 7ms/step - loss: 107.0365 - val_loss: 577.0679\n",
      "Epoch 61/100\n",
      "18/18 [==============================] - ETA: 0s - loss: 107.0576INFO:tensorflow:Assets written to: model_experiments\\model_6_dense_multivariate\\assets\n"
     ]
    },
    {
     "name": "stderr",
     "output_type": "stream",
     "text": [
      "INFO:tensorflow:Assets written to: model_experiments\\model_6_dense_multivariate\\assets\n"
     ]
    },
    {
     "name": "stdout",
     "output_type": "stream",
     "text": [
      "18/18 [==============================] - 1s 78ms/step - loss: 107.0576 - val_loss: 572.3975\n",
      "Epoch 62/100\n",
      "18/18 [==============================] - 0s 7ms/step - loss: 106.2982 - val_loss: 577.8615\n",
      "Epoch 63/100\n",
      "18/18 [==============================] - 0s 8ms/step - loss: 110.2116 - val_loss: 656.6059\n",
      "Epoch 64/100\n",
      "18/18 [==============================] - 0s 7ms/step - loss: 110.8885 - val_loss: 604.1472\n",
      "Epoch 65/100\n",
      "16/18 [=========================>....] - ETA: 0s - loss: 108.2306INFO:tensorflow:Assets written to: model_experiments\\model_6_dense_multivariate\\assets\n"
     ]
    },
    {
     "name": "stderr",
     "output_type": "stream",
     "text": [
      "INFO:tensorflow:Assets written to: model_experiments\\model_6_dense_multivariate\\assets\n"
     ]
    },
    {
     "name": "stdout",
     "output_type": "stream",
     "text": [
      "18/18 [==============================] - 1s 80ms/step - loss: 108.7302 - val_loss: 569.8525\n",
      "Epoch 66/100\n",
      "15/18 [========================>.....] - ETA: 0s - loss: 106.7817INFO:tensorflow:Assets written to: model_experiments\\model_6_dense_multivariate\\assets\n"
     ]
    },
    {
     "name": "stderr",
     "output_type": "stream",
     "text": [
      "INFO:tensorflow:Assets written to: model_experiments\\model_6_dense_multivariate\\assets\n"
     ]
    },
    {
     "name": "stdout",
     "output_type": "stream",
     "text": [
      "18/18 [==============================] - 1s 75ms/step - loss: 106.3709 - val_loss: 569.0615\n",
      "Epoch 67/100\n",
      "18/18 [==============================] - 0s 7ms/step - loss: 106.2986 - val_loss: 626.3527\n",
      "Epoch 68/100\n",
      "18/18 [==============================] - 0s 8ms/step - loss: 114.5972 - val_loss: 693.1104\n",
      "Epoch 69/100\n",
      "18/18 [==============================] - 0s 6ms/step - loss: 124.3247 - val_loss: 622.2064\n",
      "Epoch 70/100\n",
      "18/18 [==============================] - 0s 7ms/step - loss: 125.3168 - val_loss: 587.6537\n",
      "Epoch 71/100\n",
      "18/18 [==============================] - 0s 7ms/step - loss: 110.2790 - val_loss: 592.9962\n",
      "Epoch 72/100\n",
      "17/18 [===========================>..] - ETA: 0s - loss: 105.3111INFO:tensorflow:Assets written to: model_experiments\\model_6_dense_multivariate\\assets\n"
     ]
    },
    {
     "name": "stderr",
     "output_type": "stream",
     "text": [
      "INFO:tensorflow:Assets written to: model_experiments\\model_6_dense_multivariate\\assets\n"
     ]
    },
    {
     "name": "stdout",
     "output_type": "stream",
     "text": [
      "18/18 [==============================] - 1s 83ms/step - loss: 107.1508 - val_loss: 568.7042\n",
      "Epoch 73/100\n",
      "18/18 [==============================] - 0s 10ms/step - loss: 109.3503 - val_loss: 576.8884\n",
      "Epoch 74/100\n",
      "18/18 [==============================] - 0s 7ms/step - loss: 108.5523 - val_loss: 568.7136\n",
      "Epoch 75/100\n",
      "18/18 [==============================] - 0s 7ms/step - loss: 106.4679 - val_loss: 579.0500\n",
      "Epoch 76/100\n",
      "18/18 [==============================] - 0s 8ms/step - loss: 107.9788 - val_loss: 571.3451\n",
      "Epoch 77/100\n",
      "18/18 [==============================] - 0s 7ms/step - loss: 106.9047 - val_loss: 571.2097\n",
      "Epoch 78/100\n",
      "17/18 [===========================>..] - ETA: 0s - loss: 107.9041INFO:tensorflow:Assets written to: model_experiments\\model_6_dense_multivariate\\assets\n"
     ]
    },
    {
     "name": "stderr",
     "output_type": "stream",
     "text": [
      "INFO:tensorflow:Assets written to: model_experiments\\model_6_dense_multivariate\\assets\n"
     ]
    },
    {
     "name": "stdout",
     "output_type": "stream",
     "text": [
      "18/18 [==============================] - 1s 74ms/step - loss: 106.8595 - val_loss: 568.3872\n",
      "Epoch 79/100\n",
      "18/18 [==============================] - 0s 12ms/step - loss: 105.8198 - val_loss: 608.8751\n",
      "Epoch 80/100\n",
      "18/18 [==============================] - 0s 7ms/step - loss: 108.0809 - val_loss: 578.4296\n",
      "Epoch 81/100\n",
      "16/18 [=========================>....] - ETA: 0s - loss: 105.7820INFO:tensorflow:Assets written to: model_experiments\\model_6_dense_multivariate\\assets\n"
     ]
    },
    {
     "name": "stderr",
     "output_type": "stream",
     "text": [
      "INFO:tensorflow:Assets written to: model_experiments\\model_6_dense_multivariate\\assets\n"
     ]
    },
    {
     "name": "stdout",
     "output_type": "stream",
     "text": [
      "18/18 [==============================] - 1s 65ms/step - loss: 105.8616 - val_loss: 567.1210\n",
      "Epoch 82/100\n",
      "18/18 [==============================] - 0s 7ms/step - loss: 117.0810 - val_loss: 612.5519\n",
      "Epoch 83/100\n",
      "18/18 [==============================] - 0s 7ms/step - loss: 108.7093 - val_loss: 647.8658\n",
      "Epoch 84/100\n",
      "18/18 [==============================] - 0s 8ms/step - loss: 110.7098 - val_loss: 574.1594\n",
      "Epoch 85/100\n",
      "16/18 [=========================>....] - ETA: 0s - loss: 106.5116INFO:tensorflow:Assets written to: model_experiments\\model_6_dense_multivariate\\assets\n"
     ]
    },
    {
     "name": "stderr",
     "output_type": "stream",
     "text": [
      "INFO:tensorflow:Assets written to: model_experiments\\model_6_dense_multivariate\\assets\n"
     ]
    },
    {
     "name": "stdout",
     "output_type": "stream",
     "text": [
      "18/18 [==============================] - 1s 73ms/step - loss: 107.3531 - val_loss: 566.5840\n",
      "Epoch 86/100\n",
      "18/18 [==============================] - 0s 7ms/step - loss: 105.7355 - val_loss: 571.2017\n",
      "Epoch 87/100\n",
      "18/18 [==============================] - 0s 6ms/step - loss: 105.7578 - val_loss: 602.1671\n",
      "Epoch 88/100\n",
      "18/18 [==============================] - 0s 6ms/step - loss: 106.9564 - val_loss: 570.2495\n",
      "Epoch 89/100\n",
      "18/18 [==============================] - ETA: 0s - loss: 105.5294INFO:tensorflow:Assets written to: model_experiments\\model_6_dense_multivariate\\assets\n"
     ]
    },
    {
     "name": "stderr",
     "output_type": "stream",
     "text": [
      "INFO:tensorflow:Assets written to: model_experiments\\model_6_dense_multivariate\\assets\n"
     ]
    },
    {
     "name": "stdout",
     "output_type": "stream",
     "text": [
      "18/18 [==============================] - 1s 64ms/step - loss: 105.5294 - val_loss: 565.6367\n",
      "Epoch 90/100\n",
      "18/18 [==============================] - 0s 8ms/step - loss: 104.9901 - val_loss: 573.1746\n",
      "Epoch 91/100\n",
      "16/18 [=========================>....] - ETA: 0s - loss: 106.3012INFO:tensorflow:Assets written to: model_experiments\\model_6_dense_multivariate\\assets\n"
     ]
    },
    {
     "name": "stderr",
     "output_type": "stream",
     "text": [
      "INFO:tensorflow:Assets written to: model_experiments\\model_6_dense_multivariate\\assets\n"
     ]
    },
    {
     "name": "stdout",
     "output_type": "stream",
     "text": [
      "18/18 [==============================] - 1s 76ms/step - loss: 107.9334 - val_loss: 565.4147\n",
      "Epoch 92/100\n",
      "18/18 [==============================] - 0s 7ms/step - loss: 112.4461 - val_loss: 597.5071\n",
      "Epoch 93/100\n",
      "18/18 [==============================] - 0s 10ms/step - loss: 113.9389 - val_loss: 600.5096\n",
      "Epoch 94/100\n",
      "18/18 [==============================] - 0s 6ms/step - loss: 108.7475 - val_loss: 580.8244\n",
      "Epoch 95/100\n",
      "18/18 [==============================] - 0s 7ms/step - loss: 106.1216 - val_loss: 569.8229\n",
      "Epoch 96/100\n",
      "18/18 [==============================] - 0s 8ms/step - loss: 106.4391 - val_loss: 595.9916\n",
      "Epoch 97/100\n",
      "18/18 [==============================] - 0s 11ms/step - loss: 107.0565 - val_loss: 575.5760\n",
      "Epoch 98/100\n",
      "18/18 [==============================] - 0s 9ms/step - loss: 106.4157 - val_loss: 565.5933\n",
      "Epoch 99/100\n",
      "18/18 [==============================] - 0s 10ms/step - loss: 107.0036 - val_loss: 565.4160\n",
      "Epoch 100/100\n",
      "18/18 [==============================] - 0s 8ms/step - loss: 111.9168 - val_loss: 637.7572\n"
     ]
    }
   ],
   "source": [
    "# Making miultivariate tiem series model\n",
    "model_6 = tf.keras.Sequential([\n",
    "    tf.keras.layers.Dense(128, activation=\"relu\"),\n",
    "    tf.keras.layers.Dense(HORIZON)\n",
    "], name=\"model_6_dense_multivariate\")\n",
    "\n",
    "# Compiling the model\n",
    "model_6.compile(\n",
    "    loss=\"mae\",\n",
    "    optimizer=tf.keras.optimizers.Adam()\n",
    ")\n",
    "\n",
    "# Fitting the model\n",
    "history_6 = model_6.fit(\n",
    "    X_train, y_train,\n",
    "    epochs=100,\n",
    "    batch_size=128,\n",
    "    verbose=1,\n",
    "    validation_data=(X_test, y_test),\n",
    "    callbacks=[create_model_checkpoint(model_name=model_6.name)]\n",
    ")"
   ]
  },
  {
   "cell_type": "code",
   "execution_count": 95,
   "metadata": {},
   "outputs": [
    {
     "name": "stdout",
     "output_type": "stream",
     "text": [
      "18/18 [==============================] - 0s 4ms/step - loss: 637.7571\n"
     ]
    },
    {
     "data": {
      "text/plain": [
       "637.757080078125"
      ]
     },
     "execution_count": 95,
     "metadata": {},
     "output_type": "execute_result"
    }
   ],
   "source": [
    "# Ecaluating the model\n",
    "model_6.evaluate(X_test, y_test)"
   ]
  },
  {
   "cell_type": "code",
   "execution_count": 96,
   "metadata": {},
   "outputs": [
    {
     "name": "stdout",
     "output_type": "stream",
     "text": [
      "18/18 [==============================] - 0s 3ms/step - loss: 565.4147\n"
     ]
    },
    {
     "data": {
      "text/plain": [
       "565.4146728515625"
      ]
     },
     "execution_count": 96,
     "metadata": {},
     "output_type": "execute_result"
    }
   ],
   "source": [
    "# Loading the best performing model\n",
    "model_6 = tf.keras.models.load_model(\"model_experiments/model_6_dense_multivariate/\")\n",
    "model_6.evaluate(X_test, y_test)"
   ]
  },
  {
   "cell_type": "code",
   "execution_count": 97,
   "metadata": {},
   "outputs": [
    {
     "name": "stdout",
     "output_type": "stream",
     "text": [
      "18/18 [==============================] - 0s 2ms/step\n"
     ]
    },
    {
     "data": {
      "text/plain": [
       "<tf.Tensor: shape=(10,), dtype=float32, numpy=\n",
       "array([8859.649 , 8773.65  , 9013.483 , 8778.196 , 8731.942 , 8723.261 ,\n",
       "       8686.7295, 8513.542 , 8452.51  , 8519.831 ], dtype=float32)>"
      ]
     },
     "execution_count": 97,
     "metadata": {},
     "output_type": "execute_result"
    }
   ],
   "source": [
    "# Making predictions with multivariate model\n",
    "model_6_preds = tf.squeeze(model_6.predict(X_test))\n",
    "model_6_preds[:10]"
   ]
  },
  {
   "cell_type": "code",
   "execution_count": 98,
   "metadata": {},
   "outputs": [
    {
     "data": {
      "text/plain": [
       "{'mae': 565.41455,\n",
       " 'mse': 1164746.5,\n",
       " 'rmse': 1079.2343,\n",
       " 'mape': 2.5356278,\n",
       " 'mase': 0.9932768}"
      ]
     },
     "execution_count": 98,
     "metadata": {},
     "output_type": "execute_result"
    }
   ],
   "source": [
    "# Evaluate predictions\n",
    "model_6_results = evaluate_preds(\n",
    "    y_true=y_test,\n",
    "    y_pred=model_6_preds\n",
    ")\n",
    "model_6_results"
   ]
  },
  {
   "cell_type": "code",
   "execution_count": null,
   "metadata": {},
   "outputs": [],
   "source": []
  }
 ],
 "metadata": {
  "kernelspec": {
   "display_name": "Python 3",
   "language": "python",
   "name": "python3"
  },
  "language_info": {
   "codemirror_mode": {
    "name": "ipython",
    "version": 3
   },
   "file_extension": ".py",
   "mimetype": "text/x-python",
   "name": "python",
   "nbconvert_exporter": "python",
   "pygments_lexer": "ipython3",
   "version": "3.8.10"
  },
  "orig_nbformat": 4,
  "vscode": {
   "interpreter": {
    "hash": "8230a386d8e0083990873cddb8ebb5b6213275a10339230a8504f0ef8ce7f888"
   }
  }
 },
 "nbformat": 4,
 "nbformat_minor": 2
}
