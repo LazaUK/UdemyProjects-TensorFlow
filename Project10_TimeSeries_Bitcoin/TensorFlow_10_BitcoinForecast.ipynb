{
 "cells": [
  {
   "attachments": {},
   "cell_type": "markdown",
   "metadata": {},
   "source": [
    "# Time Series: Forecasting Bitcoin price"
   ]
  },
  {
   "cell_type": "code",
   "execution_count": 1,
   "metadata": {},
   "outputs": [
    {
     "name": "stdout",
     "output_type": "stream",
     "text": [
      "2.10.1\n"
     ]
    }
   ],
   "source": [
    "# Importing TF and checking the version\n",
    "import tensorflow as tf\n",
    "\n",
    "print(tf.__version__)"
   ]
  },
  {
   "attachments": {},
   "cell_type": "markdown",
   "metadata": {},
   "source": [
    "### Importing time series with Pandas"
   ]
  },
  {
   "cell_type": "code",
   "execution_count": 2,
   "metadata": {},
   "outputs": [
    {
     "data": {
      "text/html": [
       "<div>\n",
       "<style scoped>\n",
       "    .dataframe tbody tr th:only-of-type {\n",
       "        vertical-align: middle;\n",
       "    }\n",
       "\n",
       "    .dataframe tbody tr th {\n",
       "        vertical-align: top;\n",
       "    }\n",
       "\n",
       "    .dataframe thead th {\n",
       "        text-align: right;\n",
       "    }\n",
       "</style>\n",
       "<table border=\"1\" class=\"dataframe\">\n",
       "  <thead>\n",
       "    <tr style=\"text-align: right;\">\n",
       "      <th></th>\n",
       "      <th>Currency</th>\n",
       "      <th>Closing Price (USD)</th>\n",
       "      <th>24h Open (USD)</th>\n",
       "      <th>24h High (USD)</th>\n",
       "      <th>24h Low (USD)</th>\n",
       "    </tr>\n",
       "    <tr>\n",
       "      <th>Date</th>\n",
       "      <th></th>\n",
       "      <th></th>\n",
       "      <th></th>\n",
       "      <th></th>\n",
       "      <th></th>\n",
       "    </tr>\n",
       "  </thead>\n",
       "  <tbody>\n",
       "    <tr>\n",
       "      <th>2013-10-01</th>\n",
       "      <td>BTC</td>\n",
       "      <td>123.65499</td>\n",
       "      <td>124.30466</td>\n",
       "      <td>124.75166</td>\n",
       "      <td>122.56349</td>\n",
       "    </tr>\n",
       "    <tr>\n",
       "      <th>2013-10-02</th>\n",
       "      <td>BTC</td>\n",
       "      <td>125.45500</td>\n",
       "      <td>123.65499</td>\n",
       "      <td>125.75850</td>\n",
       "      <td>123.63383</td>\n",
       "    </tr>\n",
       "    <tr>\n",
       "      <th>2013-10-03</th>\n",
       "      <td>BTC</td>\n",
       "      <td>108.58483</td>\n",
       "      <td>125.45500</td>\n",
       "      <td>125.66566</td>\n",
       "      <td>83.32833</td>\n",
       "    </tr>\n",
       "    <tr>\n",
       "      <th>2013-10-04</th>\n",
       "      <td>BTC</td>\n",
       "      <td>118.67466</td>\n",
       "      <td>108.58483</td>\n",
       "      <td>118.67500</td>\n",
       "      <td>107.05816</td>\n",
       "    </tr>\n",
       "    <tr>\n",
       "      <th>2013-10-05</th>\n",
       "      <td>BTC</td>\n",
       "      <td>121.33866</td>\n",
       "      <td>118.67466</td>\n",
       "      <td>121.93633</td>\n",
       "      <td>118.00566</td>\n",
       "    </tr>\n",
       "  </tbody>\n",
       "</table>\n",
       "</div>"
      ],
      "text/plain": [
       "           Currency  Closing Price (USD)  24h Open (USD)  24h High (USD)  \\\n",
       "Date                                                                       \n",
       "2013-10-01      BTC            123.65499       124.30466       124.75166   \n",
       "2013-10-02      BTC            125.45500       123.65499       125.75850   \n",
       "2013-10-03      BTC            108.58483       125.45500       125.66566   \n",
       "2013-10-04      BTC            118.67466       108.58483       118.67500   \n",
       "2013-10-05      BTC            121.33866       118.67466       121.93633   \n",
       "\n",
       "            24h Low (USD)  \n",
       "Date                       \n",
       "2013-10-01      122.56349  \n",
       "2013-10-02      123.63383  \n",
       "2013-10-03       83.32833  \n",
       "2013-10-04      107.05816  \n",
       "2013-10-05      118.00566  "
      ]
     },
     "execution_count": 2,
     "metadata": {},
     "output_type": "execute_result"
    }
   ],
   "source": [
    "# Reading Bitcoin data and parsing dates\n",
    "import pandas as pd\n",
    "\n",
    "df = pd.read_csv(\n",
    "    \"BTC_USD_2013-10-01_2021-05-18-CoinDesk.csv\",\n",
    "    parse_dates=[\"Date\"],\n",
    "    index_col=[\"Date\"]   \n",
    ")\n",
    "df.head()"
   ]
  },
  {
   "cell_type": "code",
   "execution_count": 3,
   "metadata": {},
   "outputs": [
    {
     "data": {
      "text/html": [
       "<div>\n",
       "<style scoped>\n",
       "    .dataframe tbody tr th:only-of-type {\n",
       "        vertical-align: middle;\n",
       "    }\n",
       "\n",
       "    .dataframe tbody tr th {\n",
       "        vertical-align: top;\n",
       "    }\n",
       "\n",
       "    .dataframe thead th {\n",
       "        text-align: right;\n",
       "    }\n",
       "</style>\n",
       "<table border=\"1\" class=\"dataframe\">\n",
       "  <thead>\n",
       "    <tr style=\"text-align: right;\">\n",
       "      <th></th>\n",
       "      <th>Currency</th>\n",
       "      <th>Closing Price (USD)</th>\n",
       "      <th>24h Open (USD)</th>\n",
       "      <th>24h High (USD)</th>\n",
       "      <th>24h Low (USD)</th>\n",
       "    </tr>\n",
       "    <tr>\n",
       "      <th>Date</th>\n",
       "      <th></th>\n",
       "      <th></th>\n",
       "      <th></th>\n",
       "      <th></th>\n",
       "      <th></th>\n",
       "    </tr>\n",
       "  </thead>\n",
       "  <tbody>\n",
       "    <tr>\n",
       "      <th>2021-05-14</th>\n",
       "      <td>BTC</td>\n",
       "      <td>49764.132082</td>\n",
       "      <td>49596.778891</td>\n",
       "      <td>51448.798576</td>\n",
       "      <td>46294.720180</td>\n",
       "    </tr>\n",
       "    <tr>\n",
       "      <th>2021-05-15</th>\n",
       "      <td>BTC</td>\n",
       "      <td>50032.693137</td>\n",
       "      <td>49717.354353</td>\n",
       "      <td>51578.312545</td>\n",
       "      <td>48944.346536</td>\n",
       "    </tr>\n",
       "    <tr>\n",
       "      <th>2021-05-16</th>\n",
       "      <td>BTC</td>\n",
       "      <td>47885.625255</td>\n",
       "      <td>49926.035067</td>\n",
       "      <td>50690.802950</td>\n",
       "      <td>47005.102292</td>\n",
       "    </tr>\n",
       "    <tr>\n",
       "      <th>2021-05-17</th>\n",
       "      <td>BTC</td>\n",
       "      <td>45604.615754</td>\n",
       "      <td>46805.537852</td>\n",
       "      <td>49670.414174</td>\n",
       "      <td>43868.638969</td>\n",
       "    </tr>\n",
       "    <tr>\n",
       "      <th>2021-05-18</th>\n",
       "      <td>BTC</td>\n",
       "      <td>43144.471291</td>\n",
       "      <td>46439.336570</td>\n",
       "      <td>46622.853437</td>\n",
       "      <td>42102.346430</td>\n",
       "    </tr>\n",
       "  </tbody>\n",
       "</table>\n",
       "</div>"
      ],
      "text/plain": [
       "           Currency  Closing Price (USD)  24h Open (USD)  24h High (USD)  \\\n",
       "Date                                                                       \n",
       "2021-05-14      BTC         49764.132082    49596.778891    51448.798576   \n",
       "2021-05-15      BTC         50032.693137    49717.354353    51578.312545   \n",
       "2021-05-16      BTC         47885.625255    49926.035067    50690.802950   \n",
       "2021-05-17      BTC         45604.615754    46805.537852    49670.414174   \n",
       "2021-05-18      BTC         43144.471291    46439.336570    46622.853437   \n",
       "\n",
       "            24h Low (USD)  \n",
       "Date                       \n",
       "2021-05-14   46294.720180  \n",
       "2021-05-15   48944.346536  \n",
       "2021-05-16   47005.102292  \n",
       "2021-05-17   43868.638969  \n",
       "2021-05-18   42102.346430  "
      ]
     },
     "execution_count": 3,
     "metadata": {},
     "output_type": "execute_result"
    }
   ],
   "source": [
    "df.tail()"
   ]
  },
  {
   "cell_type": "code",
   "execution_count": 4,
   "metadata": {},
   "outputs": [
    {
     "name": "stdout",
     "output_type": "stream",
     "text": [
      "<class 'pandas.core.frame.DataFrame'>\n",
      "DatetimeIndex: 2787 entries, 2013-10-01 to 2021-05-18\n",
      "Data columns (total 5 columns):\n",
      " #   Column               Non-Null Count  Dtype  \n",
      "---  ------               --------------  -----  \n",
      " 0   Currency             2787 non-null   object \n",
      " 1   Closing Price (USD)  2787 non-null   float64\n",
      " 2   24h Open (USD)       2787 non-null   float64\n",
      " 3   24h High (USD)       2787 non-null   float64\n",
      " 4   24h Low (USD)        2787 non-null   float64\n",
      "dtypes: float64(4), object(1)\n",
      "memory usage: 130.6+ KB\n"
     ]
    }
   ],
   "source": [
    "df.info()"
   ]
  },
  {
   "cell_type": "code",
   "execution_count": 5,
   "metadata": {},
   "outputs": [
    {
     "data": {
      "text/plain": [
       "2787"
      ]
     },
     "execution_count": 5,
     "metadata": {},
     "output_type": "execute_result"
    }
   ],
   "source": [
    "len(df)"
   ]
  },
  {
   "cell_type": "code",
   "execution_count": 6,
   "metadata": {},
   "outputs": [
    {
     "data": {
      "text/html": [
       "<div>\n",
       "<style scoped>\n",
       "    .dataframe tbody tr th:only-of-type {\n",
       "        vertical-align: middle;\n",
       "    }\n",
       "\n",
       "    .dataframe tbody tr th {\n",
       "        vertical-align: top;\n",
       "    }\n",
       "\n",
       "    .dataframe thead th {\n",
       "        text-align: right;\n",
       "    }\n",
       "</style>\n",
       "<table border=\"1\" class=\"dataframe\">\n",
       "  <thead>\n",
       "    <tr style=\"text-align: right;\">\n",
       "      <th></th>\n",
       "      <th>Price</th>\n",
       "    </tr>\n",
       "    <tr>\n",
       "      <th>Date</th>\n",
       "      <th></th>\n",
       "    </tr>\n",
       "  </thead>\n",
       "  <tbody>\n",
       "    <tr>\n",
       "      <th>2013-10-01</th>\n",
       "      <td>123.65499</td>\n",
       "    </tr>\n",
       "    <tr>\n",
       "      <th>2013-10-02</th>\n",
       "      <td>125.45500</td>\n",
       "    </tr>\n",
       "    <tr>\n",
       "      <th>2013-10-03</th>\n",
       "      <td>108.58483</td>\n",
       "    </tr>\n",
       "    <tr>\n",
       "      <th>2013-10-04</th>\n",
       "      <td>118.67466</td>\n",
       "    </tr>\n",
       "    <tr>\n",
       "      <th>2013-10-05</th>\n",
       "      <td>121.33866</td>\n",
       "    </tr>\n",
       "  </tbody>\n",
       "</table>\n",
       "</div>"
      ],
      "text/plain": [
       "                Price\n",
       "Date                 \n",
       "2013-10-01  123.65499\n",
       "2013-10-02  125.45500\n",
       "2013-10-03  108.58483\n",
       "2013-10-04  118.67466\n",
       "2013-10-05  121.33866"
      ]
     },
     "execution_count": 6,
     "metadata": {},
     "output_type": "execute_result"
    }
   ],
   "source": [
    "# Separating closing prices for each day\n",
    "bitcoin_prices = pd.DataFrame(df[\"Closing Price (USD)\"]).rename(columns={\"Closing Price (USD)\":\"Price\"})\n",
    "bitcoin_prices.head()"
   ]
  },
  {
   "cell_type": "code",
   "execution_count": 7,
   "metadata": {},
   "outputs": [
    {
     "data": {
      "image/png": "[encoded data removed]",
      "text/plain": [
       "<Figure size 720x504 with 1 Axes>"
      ]
     },
     "metadata": {
      "needs_background": "light"
     },
     "output_type": "display_data"
    }
   ],
   "source": [
    "# Visualising Bitcoin prices\n",
    "import matplotlib.pyplot as plt\n",
    "bitcoin_prices.plot(figsize=(10, 7))\n",
    "plt.ylabel(\"BTC Price\")\n",
    "plt.title(\"Price of Bitcoin: Oct 2013 - May 2021\", fontsize=16)\n",
    "plt.legend(fontsize=14);"
   ]
  },
  {
   "attachments": {},
   "cell_type": "markdown",
   "metadata": {},
   "source": [
    "### Importing time series with Python"
   ]
  },
  {
   "cell_type": "code",
   "execution_count": 8,
   "metadata": {},
   "outputs": [
    {
     "data": {
      "text/plain": [
       "([datetime.datetime(2013, 10, 1, 0, 0),\n",
       "  datetime.datetime(2013, 10, 2, 0, 0),\n",
       "  datetime.datetime(2013, 10, 3, 0, 0),\n",
       "  datetime.datetime(2013, 10, 4, 0, 0),\n",
       "  datetime.datetime(2013, 10, 5, 0, 0),\n",
       "  datetime.datetime(2013, 10, 6, 0, 0),\n",
       "  datetime.datetime(2013, 10, 7, 0, 0),\n",
       "  datetime.datetime(2013, 10, 8, 0, 0),\n",
       "  datetime.datetime(2013, 10, 9, 0, 0),\n",
       "  datetime.datetime(2013, 10, 10, 0, 0)],\n",
       " [123.65499,\n",
       "  125.455,\n",
       "  108.58483,\n",
       "  118.67466,\n",
       "  121.33866,\n",
       "  120.65533,\n",
       "  121.795,\n",
       "  123.033,\n",
       "  124.049,\n",
       "  125.96116])"
      ]
     },
     "execution_count": 8,
     "metadata": {},
     "output_type": "execute_result"
    }
   ],
   "source": [
    "# Importing Bitcoin data with Python\n",
    "import csv\n",
    "from datetime import datetime\n",
    "\n",
    "timestamps = []\n",
    "btc_price = []\n",
    "with open(\"BTC_USD_2013-10-01_2021-05-18-CoinDesk.csv\", \"r\") as f:\n",
    "    csv_reader = csv.reader(f, delimiter=\",\")\n",
    "    next(csv_reader) # Skips first line to remove column names\n",
    "    for line in csv_reader:\n",
    "        timestamps.append(datetime.strptime(line[1], \"%Y-%m-%d\"))\n",
    "        btc_price.append(float(line[2]))\n",
    "\n",
    "# Viewing first 10 records\n",
    "timestamps[:10], btc_price[:10]"
   ]
  },
  {
   "cell_type": "code",
   "execution_count": 9,
   "metadata": {},
   "outputs": [
    {
     "data": {
      "text/plain": [
       "Text(0.5, 1.0, 'Price of Bitcoin: Oct 2013 - May 2021')"
      ]
     },
     "execution_count": 9,
     "metadata": {},
     "output_type": "execute_result"
    },
    {
     "data": {
      "image/png": "[encoded data removed]",
      "text/plain": [
       "<Figure size 720x504 with 1 Axes>"
      ]
     },
     "metadata": {
      "needs_background": "light"
     },
     "output_type": "display_data"
    }
   ],
   "source": [
    "# Plotting from CSV\n",
    "import matplotlib.pyplot as plt\n",
    "import numpy as np\n",
    "\n",
    "plt.figure(figsize=(10, 7))\n",
    "plt.plot(timestamps, btc_price)\n",
    "plt.xlabel(\"Date\")\n",
    "plt.ylabel(\"BTC Price\")\n",
    "plt.title(\"Price of Bitcoin: Oct 2013 - May 2021\", fontsize=16)\n",
    "#plt.legend();"
   ]
  },
  {
   "attachments": {},
   "cell_type": "markdown",
   "metadata": {},
   "source": [
    "### Creating train and test data"
   ]
  },
  {
   "cell_type": "code",
   "execution_count": 10,
   "metadata": {},
   "outputs": [
    {
     "data": {
      "text/plain": [
       "(array(['2013-10-01T00:00:00.000000000', '2013-10-02T00:00:00.000000000',\n",
       "        '2013-10-03T00:00:00.000000000', '2013-10-04T00:00:00.000000000',\n",
       "        '2013-10-05T00:00:00.000000000', '2013-10-06T00:00:00.000000000',\n",
       "        '2013-10-07T00:00:00.000000000', '2013-10-08T00:00:00.000000000',\n",
       "        '2013-10-09T00:00:00.000000000', '2013-10-10T00:00:00.000000000'],\n",
       "       dtype='datetime64[ns]'),\n",
       " array([123.65499, 125.455  , 108.58483, 118.67466, 121.33866, 120.65533,\n",
       "        121.795  , 123.033  , 124.049  , 125.96116]))"
      ]
     },
     "execution_count": 10,
     "metadata": {},
     "output_type": "execute_result"
    }
   ],
   "source": [
    "# Get Bitcoin date array\n",
    "timestamps = bitcoin_prices.index.to_numpy()\n",
    "prices = bitcoin_prices[\"Price\"].to_numpy()\n",
    "\n",
    "timestamps[:10], prices[:10]"
   ]
  },
  {
   "cell_type": "code",
   "execution_count": 11,
   "metadata": {},
   "outputs": [
    {
     "data": {
      "text/plain": [
       "((2229,), (558,), (2229,), (558,))"
      ]
     },
     "execution_count": 11,
     "metadata": {},
     "output_type": "execute_result"
    }
   ],
   "source": [
    "# Wrong way to create train / test split for time series data\n",
    "from sklearn.model_selection import train_test_split\n",
    "\n",
    "X_train, X_test, y_train, y_test = train_test_split(\n",
    "    timestamps, # dates\n",
    "    prices, # BTC prices\n",
    "    test_size=0.2,\n",
    "    random_state=42\n",
    ")\n",
    "X_train.shape, X_test.shape, y_train.shape, y_test.shape"
   ]
  },
  {
   "cell_type": "code",
   "execution_count": 12,
   "metadata": {},
   "outputs": [
    {
     "data": {
      "image/png": "[encoded data removed]",
      "text/plain": [
       "<Figure size 720x504 with 1 Axes>"
      ]
     },
     "metadata": {
      "needs_background": "light"
     },
     "output_type": "display_data"
    }
   ],
   "source": [
    "# Plotting the wrong data split results\n",
    "plt.figure(figsize=(10, 7))\n",
    "plt.scatter(X_train, y_train, s=5, label=\"Train data\")\n",
    "plt.scatter(X_test, y_test, s=5, label=\"Test data\")\n",
    "plt.xlabel(\"Date\")\n",
    "plt.ylabel(\"BTC Price\")\n",
    "plt.legend(fontsize=14)\n",
    "plt.show();"
   ]
  },
  {
   "cell_type": "code",
   "execution_count": 13,
   "metadata": {},
   "outputs": [
    {
     "data": {
      "text/plain": [
       "(2229, 558, 2229, 558)"
      ]
     },
     "execution_count": 13,
     "metadata": {},
     "output_type": "execute_result"
    }
   ],
   "source": [
    "# Right way to create train / test split for time series data\n",
    "split_size = int(0.8 * len(prices)) # 80% - train, 20% - test\n",
    "\n",
    "X_train, y_train = timestamps[:split_size], prices[:split_size]\n",
    "X_test, y_test = timestamps[split_size:], prices[split_size:]\n",
    "\n",
    "len(X_train), len(X_test), len(y_train), len(y_test)"
   ]
  },
  {
   "cell_type": "code",
   "execution_count": 14,
   "metadata": {},
   "outputs": [
    {
     "data": {
      "image/png": "[encoded data removed]",
      "text/plain": [
       "<Figure size 720x504 with 1 Axes>"
      ]
     },
     "metadata": {
      "needs_background": "light"
     },
     "output_type": "display_data"
    }
   ],
   "source": [
    "# Plotting the right data split results\n",
    "plt.figure(figsize=(10, 7))\n",
    "plt.scatter(X_train, y_train, s=5, label=\"Train data\")\n",
    "plt.scatter(X_test, y_test, s=5, label=\"Test data\")\n",
    "plt.xlabel(\"Date\")\n",
    "plt.ylabel(\"BTC Price\")\n",
    "plt.legend(fontsize=14)\n",
    "plt.show();"
   ]
  },
  {
   "cell_type": "code",
   "execution_count": 15,
   "metadata": {},
   "outputs": [],
   "source": [
    "# Creating plotting function\n",
    "def plot_time_series(timestamps, values, marker=\",\", start=0, end=None, label=None):\n",
    "    plt.plot(timestamps[start:end], values[start:end], marker=marker, label=label)\n",
    "    plt.xlabel(\"Time\")\n",
    "    plt.ylabel(\"BTC Price\")\n",
    "    if label:\n",
    "        plt.legend(fontsize=14)\n",
    "    plt.grid(True)"
   ]
  },
  {
   "cell_type": "code",
   "execution_count": 16,
   "metadata": {},
   "outputs": [
    {
     "data": {
      "image/png": "[encoded data removed]",
      "text/plain": [
       "<Figure size 720x504 with 1 Axes>"
      ]
     },
     "metadata": {
      "needs_background": "light"
     },
     "output_type": "display_data"
    }
   ],
   "source": [
    "# Testing plot function\n",
    "plt.figure(figsize=(10, 7))\n",
    "plot_time_series(timestamps=X_train, values=y_train, label=\"Train data\")\n",
    "plot_time_series(timestamps=X_test, values=y_test, label=\"Test data\")"
   ]
  },
  {
   "attachments": {},
   "cell_type": "markdown",
   "metadata": {},
   "source": [
    "### Model 0 - Naive forecast (baseline)"
   ]
  },
  {
   "attachments": {},
   "cell_type": "markdown",
   "metadata": {},
   "source": [
    "The prediction at timestamp t(y-hat) is equal to the value at timestamp t-1 (previous timestamp), i.e horizon of 1.\n",
    "$$\\hat{y}_{t} = y_{t-1}$$"
   ]
  },
  {
   "cell_type": "code",
   "execution_count": 17,
   "metadata": {},
   "outputs": [
    {
     "name": "stdout",
     "output_type": "stream",
     "text": [
      "First 10 values: [9226.48582088 8794.35864452 8798.04205463 9081.18687849 8711.53433917\n",
      " 8760.89271814 8749.52059102 8656.97092235 8500.64355816 8469.2608989 ]\n",
      "\n",
      "Last 10 values: [57107.12067189 58788.20967893 58102.19142623 55715.54665129\n",
      " 56573.5554719  52147.82118698 49764.1320816  50032.69313676\n",
      " 47885.62525472 45604.61575361]\n"
     ]
    }
   ],
   "source": [
    "# Creating naive forecast\n",
    "naive_forecast = y_test[:-1]\n",
    "\n",
    "print(f\"First 10 values: {naive_forecast[:10]}\\n\")\n",
    "print(f\"Last 10 values: {naive_forecast[-10:]}\")"
   ]
  },
  {
   "cell_type": "code",
   "execution_count": 18,
   "metadata": {},
   "outputs": [
    {
     "data": {
      "image/png": "[encoded data removed]",
      "text/plain": [
       "<Figure size 720x504 with 1 Axes>"
      ]
     },
     "metadata": {
      "needs_background": "light"
     },
     "output_type": "display_data"
    }
   ],
   "source": [
    "# Plotting naive forecast\n",
    "plt.figure(figsize=(10, 7))\n",
    "# plot_time_series(timestamps=X_train, values=y_train, label=\"Train data\")\n",
    "plot_time_series(timestamps=X_test, values=y_test, start=500, label=\"Test data\")\n",
    "plot_time_series(timestamps=X_test[1:], values=naive_forecast, start=500, marker=\"o\", label=\"Naive forecast\")"
   ]
  },
  {
   "cell_type": "code",
   "execution_count": 19,
   "metadata": {},
   "outputs": [],
   "source": [
    "# MASE implementation\n",
    "def mean_absolute_scaled_error(y_true, y_pred):\n",
    "    mae = tf.reduce_mean(tf.abs(y_true - y_pred))\n",
    "\n",
    "    # Find MAE of Naive Forecast (no seasonality)\n",
    "    mae_naive_no_season = tf.reduce_mean(tf.abs(y_true[1:] - y_true[:-1])) # Seasonality of 1 day\n",
    "\n",
    "    return mae / mae_naive_no_season"
   ]
  },
  {
   "cell_type": "code",
   "execution_count": 20,
   "metadata": {},
   "outputs": [
    {
     "data": {
      "text/plain": [
       "<tf.Tensor: shape=(), dtype=float64, numpy=0.9995699939182626>"
      ]
     },
     "execution_count": 20,
     "metadata": {},
     "output_type": "execute_result"
    }
   ],
   "source": [
    "# Verify if MASE of Naive Forecast is 1\n",
    "mean_absolute_scaled_error(\n",
    "    y_true=y_test[1:],\n",
    "    y_pred=naive_forecast\n",
    ")"
   ]
  },
  {
   "cell_type": "code",
   "execution_count": 21,
   "metadata": {},
   "outputs": [],
   "source": [
    "# Function for evaluation matrix\n",
    "def evaluate_preds(y_true, y_pred):\n",
    "\n",
    "    # Ensuring that we use float32 dtype (for metric calculations)\n",
    "    y_true = tf.cast(y_true, dtype=tf.float32)\n",
    "    y_pred = tf.cast(y_pred, dtype=tf.float32)\n",
    "\n",
    "    # Calculating various evaluation metrics\n",
    "    mae = tf.keras.metrics.mean_absolute_error(y_true, y_pred)\n",
    "    mse = tf.keras.metrics.mean_squared_error(y_true, y_pred)\n",
    "    rmse = tf.sqrt(mse)\n",
    "    mape = tf.keras.metrics.mean_absolute_percentage_error(y_true, y_pred)\n",
    "    mase = mean_absolute_scaled_error(y_true, y_pred)\n",
    "\n",
    "    return {\n",
    "        \"mae\": mae.numpy(),\n",
    "        \"mse\": mse.numpy(),\n",
    "        \"rmse\": rmse.numpy(),\n",
    "        \"mape\": mape.numpy(),\n",
    "        \"mase\": mase.numpy()\n",
    "    }"
   ]
  },
  {
   "cell_type": "code",
   "execution_count": 22,
   "metadata": {},
   "outputs": [
    {
     "data": {
      "text/plain": [
       "{'mae': 567.9802,\n",
       " 'mse': 1147547.0,\n",
       " 'rmse': 1071.2362,\n",
       " 'mape': 2.5165248,\n",
       " 'mase': 0.99957}"
      ]
     },
     "execution_count": 22,
     "metadata": {},
     "output_type": "execute_result"
    }
   ],
   "source": [
    "# Evaluating naive forecast results\n",
    "naive_results = evaluate_preds(y_true=y_test[1:], y_pred=naive_forecast)\n",
    "naive_results"
   ]
  },
  {
   "attachments": {},
   "cell_type": "markdown",
   "metadata": {},
   "source": [
    "### Windowing data"
   ]
  },
  {
   "cell_type": "code",
   "execution_count": 23,
   "metadata": {},
   "outputs": [
    {
     "name": "stdout",
     "output_type": "stream",
     "text": [
      "Intention is to use [123.65499, 125.455, 108.58483, 118.67466, 121.33866, 120.65533, 121.795] to predict 123.033\n"
     ]
    }
   ],
   "source": [
    "# We want to use Bitcoin prices of the week to predict next day price\n",
    "print(f\"Intention is to use {btc_price[:7]} to predict {btc_price[7]}\")"
   ]
  },
  {
   "cell_type": "code",
   "execution_count": 24,
   "metadata": {},
   "outputs": [],
   "source": [
    "# Setting up global variables for window size and horizon\n",
    "HORIZON = 1 # predict next 1 day\n",
    "WINDOW_SIZE = 7 # use the past week of Bitcoin data"
   ]
  },
  {
   "cell_type": "code",
   "execution_count": 25,
   "metadata": {},
   "outputs": [],
   "source": [
    "# Creating function to label windowed data\n",
    "def get_labelled_window(x, horizon=HORIZON):\n",
    "    return x[:, :-horizon], x[:, -horizon:]"
   ]
  },
  {
   "cell_type": "code",
   "execution_count": 26,
   "metadata": {},
   "outputs": [
    {
     "data": {
      "text/plain": [
       "(<tf.Tensor: shape=(1, 7), dtype=int32, numpy=array([[1, 2, 3, 4, 5, 6, 7]])>,\n",
       " <tf.Tensor: shape=(1, 1), dtype=int32, numpy=array([[8]])>)"
      ]
     },
     "execution_count": 26,
     "metadata": {},
     "output_type": "execute_result"
    }
   ],
   "source": [
    "# Testing window labelling function\n",
    "test_window, test_label = get_labelled_window(tf.expand_dims(tf.range(8) + 1, axis=0))\n",
    "test_window, test_label"
   ]
  },
  {
   "cell_type": "code",
   "execution_count": 27,
   "metadata": {},
   "outputs": [],
   "source": [
    "# Creating function to view NumPy arrays as windows\n",
    "def make_windows(x, window_size=WINDOW_SIZE, horizon=HORIZON):\n",
    "\n",
    "    # 1. Creating window of specific window size\n",
    "    window_step = np.expand_dims(np.arange(window_size + horizon), axis=0)\n",
    "\n",
    "    # 2. Creating 2D array of multiple windows\n",
    "    window_indexes = window_step + np.expand_dims(np.arange(len(x) - (window_size + horizon - 1)), axis=0).T\n",
    "    # print(f\"Windows indexes: {window_indexes} with shape of {window_indexes.shape}\")\n",
    "\n",
    "    # 3. Index on the target array (time series) with 2D of multiple window steps\n",
    "    windowed_array = x[window_indexes]\n",
    "\n",
    "    # 4. Get the labelled windows\n",
    "    windows, labels = get_labelled_window(windowed_array, horizon=horizon)\n",
    "    return windows, labels"
   ]
  },
  {
   "cell_type": "code",
   "execution_count": 28,
   "metadata": {},
   "outputs": [
    {
     "data": {
      "text/plain": [
       "(2780, 2780)"
      ]
     },
     "execution_count": 28,
     "metadata": {},
     "output_type": "execute_result"
    }
   ],
   "source": [
    "# Testing the function\n",
    "full_windows, full_labels = make_windows(prices)\n",
    "len(full_windows), len(full_labels)"
   ]
  },
  {
   "cell_type": "code",
   "execution_count": 29,
   "metadata": {},
   "outputs": [
    {
     "name": "stdout",
     "output_type": "stream",
     "text": [
      "Window: [123.65499 125.455   108.58483 118.67466 121.33866 120.65533 121.795  ] -> Label: [123.033]\n",
      "Window: [125.455   108.58483 118.67466 121.33866 120.65533 121.795   123.033  ] -> Label: [124.049]\n",
      "Window: [108.58483 118.67466 121.33866 120.65533 121.795   123.033   124.049  ] -> Label: [125.96116]\n"
     ]
    }
   ],
   "source": [
    "# Viewing the first 3 windows / labels\n",
    "for i in range(3):\n",
    "    print(f\"Window: {full_windows[i]} -> Label: {full_labels[i]}\")"
   ]
  },
  {
   "cell_type": "code",
   "execution_count": 30,
   "metadata": {},
   "outputs": [
    {
     "name": "stdout",
     "output_type": "stream",
     "text": [
      "Window: [58788.20967893 58102.19142623 55715.54665129 56573.5554719\n",
      " 52147.82118698 49764.1320816  50032.69313676] -> Label: [47885.62525472]\n",
      "Window: [58102.19142623 55715.54665129 56573.5554719  52147.82118698\n",
      " 49764.1320816  50032.69313676 47885.62525472] -> Label: [45604.61575361]\n",
      "Window: [55715.54665129 56573.5554719  52147.82118698 49764.1320816\n",
      " 50032.69313676 47885.62525472 45604.61575361] -> Label: [43144.47129086]\n"
     ]
    }
   ],
   "source": [
    "# Viewing the last 3 windows / labels\n",
    "for i in range(3):\n",
    "    print(f\"Window: {full_windows[i-3]} -> Label: {full_labels[i-3]}\")"
   ]
  },
  {
   "attachments": {},
   "cell_type": "markdown",
   "metadata": {},
   "source": [
    "### Splitting windows into training and testing sets"
   ]
  },
  {
   "cell_type": "code",
   "execution_count": 31,
   "metadata": {},
   "outputs": [],
   "source": [
    "# Creating function to make train / test splits\n",
    "def make_train_test_splits(windows, labels, test_split=0.2):\n",
    "    split_size = int(len(windows) * (1 - test_split)) # Default 80% train / 20% test\n",
    "    train_windows = windows[:split_size]\n",
    "    train_labels = labels[:split_size]\n",
    "    test_windows = windows[split_size:]\n",
    "    test_labels = labels[split_size:]\n",
    "    return train_windows, test_windows, train_labels, test_labels"
   ]
  },
  {
   "cell_type": "code",
   "execution_count": 32,
   "metadata": {},
   "outputs": [
    {
     "data": {
      "text/plain": [
       "(2224, 556, 2224, 556)"
      ]
     },
     "execution_count": 32,
     "metadata": {},
     "output_type": "execute_result"
    }
   ],
   "source": [
    "# Creating training and testing windows\n",
    "train_windows, test_windows, train_labels, test_labels = make_train_test_splits(\n",
    "    full_windows, full_labels\n",
    ")\n",
    "len(train_windows), len(test_windows), len(train_labels), len(test_labels)"
   ]
  },
  {
   "cell_type": "code",
   "execution_count": 33,
   "metadata": {},
   "outputs": [
    {
     "data": {
      "text/plain": [
       "(array([[123.65499, 125.455  , 108.58483, 118.67466, 121.33866, 120.65533,\n",
       "         121.795  ],\n",
       "        [125.455  , 108.58483, 118.67466, 121.33866, 120.65533, 121.795  ,\n",
       "         123.033  ],\n",
       "        [108.58483, 118.67466, 121.33866, 120.65533, 121.795  , 123.033  ,\n",
       "         124.049  ],\n",
       "        [118.67466, 121.33866, 120.65533, 121.795  , 123.033  , 124.049  ,\n",
       "         125.96116],\n",
       "        [121.33866, 120.65533, 121.795  , 123.033  , 124.049  , 125.96116,\n",
       "         125.27966]]),\n",
       " array([[123.033  ],\n",
       "        [124.049  ],\n",
       "        [125.96116],\n",
       "        [125.27966],\n",
       "        [125.9275 ]]))"
      ]
     },
     "execution_count": 33,
     "metadata": {},
     "output_type": "execute_result"
    }
   ],
   "source": [
    "# Checking the first 5 train window values\n",
    "train_windows[:5], train_labels[:5]"
   ]
  },
  {
   "cell_type": "code",
   "execution_count": 34,
   "metadata": {},
   "outputs": [
    {
     "data": {
      "text/plain": [
       "(array([[9290.89660239, 9202.41545055, 9369.62808116, 9326.59962378,\n",
       "         9335.75240233, 9226.48582088, 8794.35864452],\n",
       "        [9202.41545055, 9369.62808116, 9326.59962378, 9335.75240233,\n",
       "         9226.48582088, 8794.35864452, 8798.04205463],\n",
       "        [9369.62808116, 9326.59962378, 9335.75240233, 9226.48582088,\n",
       "         8794.35864452, 8798.04205463, 9081.18687849],\n",
       "        [9326.59962378, 9335.75240233, 9226.48582088, 8794.35864452,\n",
       "         8798.04205463, 9081.18687849, 8711.53433917],\n",
       "        [9335.75240233, 9226.48582088, 8794.35864452, 8798.04205463,\n",
       "         9081.18687849, 8711.53433917, 8760.89271814]]),\n",
       " array([[8798.04205463],\n",
       "        [9081.18687849],\n",
       "        [8711.53433917],\n",
       "        [8760.89271814],\n",
       "        [8749.52059102]]))"
      ]
     },
     "execution_count": 34,
     "metadata": {},
     "output_type": "execute_result"
    }
   ],
   "source": [
    "# Checking the first test values\n",
    "test_windows[:5], test_labels[:5]"
   ]
  },
  {
   "attachments": {},
   "cell_type": "markdown",
   "metadata": {},
   "source": [
    "### Modelling checkpoint callback"
   ]
  },
  {
   "cell_type": "code",
   "execution_count": 35,
   "metadata": {},
   "outputs": [],
   "source": [
    "# Function to implement ModelCheckpoint callback\n",
    "import os\n",
    "\n",
    "def create_model_checkpoint(model_name, save_path=\"model_experiments\"):\n",
    "    return tf.keras.callbacks.ModelCheckpoint(\n",
    "        filepath=os.path.join(save_path, model_name),\n",
    "        verbose=0,\n",
    "        save_best_only=True\n",
    "    )"
   ]
  },
  {
   "attachments": {},
   "cell_type": "markdown",
   "metadata": {},
   "source": [
    "### Model 1 - Dense model (window = 7, horizon = 1)"
   ]
  },
  {
   "cell_type": "code",
   "execution_count": 36,
   "metadata": {},
   "outputs": [
    {
     "name": "stdout",
     "output_type": "stream",
     "text": [
      "Epoch 1/100\n",
      "14/18 [======================>.......] - ETA: 0s - loss: 986.0133 - mae: 986.0133 - mse: 3604024.7500    INFO:tensorflow:Assets written to: model_experiments\\model_1_dense\\assets\n",
      "18/18 [==============================] - 3s 104ms/step - loss: 898.4213 - mae: 898.4213 - mse: 3063846.0000 - val_loss: 2441.0918 - val_mae: 2441.0918 - val_mse: 14320154.0000\n",
      "Epoch 2/100\n",
      "18/18 [==============================] - ETA: 0s - loss: 257.7967 - mae: 257.7967 - mse: 303145.4688INFO:tensorflow:Assets written to: model_experiments\\model_1_dense\\assets\n",
      "18/18 [==============================] - 1s 82ms/step - loss: 257.7967 - mae: 257.7967 - mse: 303145.4688 - val_loss: 1188.8167 - val_mae: 1188.8167 - val_mse: 4629580.5000\n",
      "Epoch 3/100\n",
      "16/18 [=========================>....] - ETA: 0s - loss: 197.4293 - mae: 197.4293 - mse: 188117.1250INFO:tensorflow:Assets written to: model_experiments\\model_1_dense\\assets\n",
      "18/18 [==============================] - 1s 67ms/step - loss: 195.1429 - mae: 195.1429 - mse: 189380.9531 - val_loss: 1002.5053 - val_mae: 1002.5053 - val_mse: 3364935.7500\n",
      "Epoch 4/100\n",
      "18/18 [==============================] - 0s 8ms/step - loss: 179.2578 - mae: 179.2578 - mse: 170182.2812 - val_loss: 1012.5974 - val_mae: 1012.5974 - val_mse: 3211953.2500\n",
      "Epoch 5/100\n",
      " 1/18 [>.............................] - ETA: 0s - loss: 170.3134 - mae: 170.3134 - mse: 109018.8906INFO:tensorflow:Assets written to: model_experiments\\model_1_dense\\assets\n",
      "18/18 [==============================] - 1s 55ms/step - loss: 175.4444 - mae: 175.4444 - mse: 163824.0938 - val_loss: 939.3910 - val_mae: 939.3910 - val_mse: 2951404.2500\n",
      "Epoch 6/100\n",
      "17/18 [===========================>..] - ETA: 0s - loss: 169.1958 - mae: 169.1958 - mse: 142562.5000INFO:tensorflow:Assets written to: model_experiments\\model_1_dense\\assets\n",
      "18/18 [==============================] - 1s 64ms/step - loss: 170.8149 - mae: 170.8149 - mse: 152443.7188 - val_loss: 921.2056 - val_mae: 921.2056 - val_mse: 2787703.2500\n",
      "Epoch 7/100\n",
      "15/18 [========================>.....] - ETA: 0s - loss: 167.0769 - mae: 167.0769 - mse: 149675.2344INFO:tensorflow:Assets written to: model_experiments\\model_1_dense\\assets\n",
      "18/18 [==============================] - 1s 61ms/step - loss: 162.3235 - mae: 162.3235 - mse: 140963.7188 - val_loss: 882.9020 - val_mae: 882.9020 - val_mse: 2609003.2500\n",
      "Epoch 8/100\n",
      "18/18 [==============================] - ETA: 0s - loss: 156.1160 - mae: 156.1160 - mse: 131781.5469INFO:tensorflow:Assets written to: model_experiments\\model_1_dense\\assets\n",
      "18/18 [==============================] - 1s 55ms/step - loss: 156.1160 - mae: 156.1160 - mse: 131781.5469 - val_loss: 870.4008 - val_mae: 870.4008 - val_mse: 2548271.0000\n",
      "Epoch 9/100\n",
      " 1/18 [>.............................] - ETA: 0s - loss: 135.3896 - mae: 135.3896 - mse: 82682.6406INFO:tensorflow:Assets written to: model_experiments\\model_1_dense\\assets\n",
      "18/18 [==============================] - 1s 43ms/step - loss: 154.9153 - mae: 154.9153 - mse: 128261.7422 - val_loss: 816.8129 - val_mae: 816.8129 - val_mse: 2253382.0000\n",
      "Epoch 10/100\n",
      "17/18 [===========================>..] - ETA: 0s - loss: 147.8216 - mae: 147.8216 - mse: 120952.0469INFO:tensorflow:Assets written to: model_experiments\\model_1_dense\\assets\n",
      "18/18 [==============================] - 1s 43ms/step - loss: 148.4011 - mae: 148.4011 - mse: 120971.6094 - val_loss: 781.9542 - val_mae: 781.9542 - val_mse: 2039976.0000\n",
      "Epoch 11/100\n",
      "18/18 [==============================] - 0s 7ms/step - loss: 138.8362 - mae: 138.8362 - mse: 107720.6172 - val_loss: 809.2468 - val_mae: 809.2468 - val_mse: 2025702.6250\n",
      "Epoch 12/100\n",
      "18/18 [==============================] - 0s 6ms/step - loss: 136.7489 - mae: 136.7489 - mse: 104216.1953 - val_loss: 863.4175 - val_mae: 863.4175 - val_mse: 2152125.7500\n",
      "Epoch 13/100\n",
      "15/18 [========================>.....] - ETA: 0s - loss: 139.6209 - mae: 139.6209 - mse: 107147.9844INFO:tensorflow:Assets written to: model_experiments\\model_1_dense\\assets\n",
      "18/18 [==============================] - 1s 60ms/step - loss: 139.9963 - mae: 139.9963 - mse: 104886.4062 - val_loss: 765.2701 - val_mae: 765.2701 - val_mse: 1848298.8750\n",
      "Epoch 14/100\n",
      "13/18 [====================>.........] - ETA: 0s - loss: 129.2634 - mae: 129.2634 - mse: 92056.1562INFO:tensorflow:Assets written to: model_experiments\\model_1_dense\\assets\n",
      "18/18 [==============================] - 1s 49ms/step - loss: 131.2614 - mae: 131.2614 - mse: 97432.8672 - val_loss: 726.3768 - val_mae: 726.3768 - val_mse: 1719230.8750\n",
      "Epoch 15/100\n",
      " 1/18 [>.............................] - ETA: 0s - loss: 128.5292 - mae: 128.5292 - mse: 62985.2969INFO:tensorflow:Assets written to: model_experiments\\model_1_dense\\assets\n",
      "18/18 [==============================] - 1s 57ms/step - loss: 134.2658 - mae: 134.2658 - mse: 96359.3516 - val_loss: 702.5739 - val_mae: 702.5739 - val_mse: 1658166.7500\n",
      "Epoch 16/100\n",
      "17/18 [===========================>..] - ETA: 0s - loss: 127.3092 - mae: 127.3092 - mse: 91187.0781INFO:tensorflow:Assets written to: model_experiments\\model_1_dense\\assets\n",
      "18/18 [==============================] - 1s 40ms/step - loss: 126.0300 - mae: 126.0300 - mse: 89732.6797 - val_loss: 696.2570 - val_mae: 696.2570 - val_mse: 1607234.1250\n",
      "Epoch 17/100\n",
      "18/18 [==============================] - 0s 5ms/step - loss: 125.4628 - mae: 125.4628 - mse: 91457.0781 - val_loss: 712.4915 - val_mae: 712.4915 - val_mse: 1630404.8750\n",
      "Epoch 18/100\n",
      " 1/18 [>.............................] - ETA: 0s - loss: 138.8643 - mae: 138.8643 - mse: 104838.5156INFO:tensorflow:Assets written to: model_experiments\\model_1_dense\\assets\n",
      "18/18 [==============================] - 1s 74ms/step - loss: 123.0069 - mae: 123.0069 - mse: 87783.6328 - val_loss: 674.2157 - val_mae: 674.2157 - val_mse: 1554564.7500\n",
      "Epoch 19/100\n",
      "18/18 [==============================] - 0s 9ms/step - loss: 123.2984 - mae: 123.2984 - mse: 87262.6250 - val_loss: 705.3349 - val_mae: 705.3349 - val_mse: 1586221.6250\n",
      "Epoch 20/100\n",
      " 9/18 [==============>...............] - ETA: 0s - loss: 126.1674 - mae: 126.1674 - mse: 85967.7109 INFO:tensorflow:Assets written to: model_experiments\\model_1_dense\\assets\n",
      "18/18 [==============================] - 1s 72ms/step - loss: 122.3275 - mae: 122.3275 - mse: 83888.9688 - val_loss: 665.2525 - val_mae: 665.2525 - val_mse: 1529345.3750\n",
      "Epoch 21/100\n",
      " 1/18 [>.............................] - ETA: 0s - loss: 144.6144 - mae: 144.6144 - mse: 96943.2500INFO:tensorflow:Assets written to: model_experiments\\model_1_dense\\assets\n",
      "18/18 [==============================] - 1s 56ms/step - loss: 122.9325 - mae: 122.9325 - mse: 86537.9922 - val_loss: 655.2427 - val_mae: 655.2427 - val_mse: 1487278.0000\n",
      "Epoch 22/100\n",
      "18/18 [==============================] - 0s 4ms/step - loss: 121.1150 - mae: 121.1150 - mse: 85038.4922 - val_loss: 674.3922 - val_mae: 674.3922 - val_mse: 1483025.7500\n",
      "Epoch 23/100\n",
      " 1/18 [>.............................] - ETA: 0s - loss: 118.9785 - mae: 118.9785 - mse: 63336.1055INFO:tensorflow:Assets written to: model_experiments\\model_1_dense\\assets\n",
      "18/18 [==============================] - 1s 49ms/step - loss: 123.5464 - mae: 123.5464 - mse: 84512.6875 - val_loss: 642.1331 - val_mae: 642.1331 - val_mse: 1405452.7500\n",
      "Epoch 24/100\n",
      " 1/18 [>.............................] - ETA: 0s - loss: 124.5198 - mae: 124.5198 - mse: 77984.3125INFO:tensorflow:Assets written to: model_experiments\\model_1_dense\\assets\n",
      "18/18 [==============================] - 1s 53ms/step - loss: 119.8487 - mae: 119.8487 - mse: 83941.5156 - val_loss: 634.7601 - val_mae: 634.7601 - val_mse: 1384022.1250\n",
      "Epoch 25/100\n",
      "18/18 [==============================] - 0s 5ms/step - loss: 116.4410 - mae: 116.4410 - mse: 80128.2500 - val_loss: 679.4854 - val_mae: 679.4854 - val_mse: 1553373.5000\n",
      "Epoch 26/100\n",
      "18/18 [==============================] - ETA: 0s - loss: 121.5326 - mae: 121.5326 - mse: 83040.1328INFO:tensorflow:Assets written to: model_experiments\\model_1_dense\\assets\n",
      "18/18 [==============================] - 1s 72ms/step - loss: 121.5326 - mae: 121.5326 - mse: 83040.1328 - val_loss: 623.1417 - val_mae: 623.1417 - val_mse: 1360437.6250\n",
      "Epoch 27/100\n",
      "18/18 [==============================] - 0s 4ms/step - loss: 121.5141 - mae: 121.5141 - mse: 81004.8047 - val_loss: 631.2966 - val_mae: 631.2966 - val_mse: 1357282.7500\n",
      "Epoch 28/100\n",
      "14/18 [======================>.......] - ETA: 0s - loss: 112.5720 - mae: 112.5720 - mse: 72407.4062INFO:tensorflow:Assets written to: model_experiments\\model_1_dense\\assets\n",
      "18/18 [==============================] - 1s 61ms/step - loss: 114.3850 - mae: 114.3850 - mse: 77407.5000 - val_loss: 616.1832 - val_mae: 616.1832 - val_mse: 1326756.5000\n",
      "Epoch 29/100\n",
      " 1/18 [>.............................] - ETA: 0s - loss: 108.9419 - mae: 108.9419 - mse: 96305.2188INFO:tensorflow:Assets written to: model_experiments\\model_1_dense\\assets\n",
      "18/18 [==============================] - 1s 57ms/step - loss: 113.8383 - mae: 113.8383 - mse: 76886.6406 - val_loss: 612.0028 - val_mae: 612.0028 - val_mse: 1320139.8750\n",
      "Epoch 30/100\n",
      "18/18 [==============================] - 0s 6ms/step - loss: 119.1747 - mae: 119.1747 - mse: 80084.3281 - val_loss: 613.2781 - val_mae: 613.2781 - val_mse: 1323331.2500\n",
      "Epoch 31/100\n",
      "18/18 [==============================] - 0s 5ms/step - loss: 111.8648 - mae: 111.8648 - mse: 74262.9844 - val_loss: 632.3519 - val_mae: 632.3519 - val_mse: 1340444.2500\n",
      "Epoch 32/100\n",
      "17/18 [===========================>..] - ETA: 0s - loss: 113.2946 - mae: 113.2946 - mse: 77920.0312INFO:tensorflow:Assets written to: model_experiments\\model_1_dense\\assets\n",
      "18/18 [==============================] - 1s 58ms/step - loss: 112.6565 - mae: 112.6565 - mse: 76892.6094 - val_loss: 604.8541 - val_mae: 604.8541 - val_mse: 1286146.7500\n",
      "Epoch 33/100\n",
      "18/18 [==============================] - 0s 7ms/step - loss: 114.2065 - mae: 114.2065 - mse: 77188.0703 - val_loss: 692.7386 - val_mae: 692.7386 - val_mse: 1475746.5000\n",
      "Epoch 34/100\n",
      "18/18 [==============================] - ETA: 0s - loss: 113.2633 - mae: 113.2633 - mse: 76522.2031 INFO:tensorflow:Assets written to: model_experiments\\model_1_dense\\assets\n",
      "18/18 [==============================] - 1s 57ms/step - loss: 113.2633 - mae: 113.2633 - mse: 76522.2031 - val_loss: 600.8502 - val_mae: 600.8502 - val_mse: 1281390.3750\n",
      "Epoch 35/100\n",
      " 1/18 [>.............................] - ETA: 0s - loss: 101.2149 - mae: 101.2149 - mse: 57793.7266INFO:tensorflow:Assets written to: model_experiments\\model_1_dense\\assets\n",
      "18/18 [==============================] - 1s 54ms/step - loss: 111.5226 - mae: 111.5226 - mse: 74662.2344 - val_loss: 599.4486 - val_mae: 599.4486 - val_mse: 1276175.0000\n",
      "Epoch 36/100\n",
      " 1/18 [>.............................] - ETA: 0s - loss: 157.5815 - mae: 157.5815 - mse: 147674.5938INFO:tensorflow:Assets written to: model_experiments\\model_1_dense\\assets\n",
      "18/18 [==============================] - 1s 45ms/step - loss: 113.7365 - mae: 113.7365 - mse: 75729.0469 - val_loss: 592.2056 - val_mae: 592.2056 - val_mse: 1254999.2500\n",
      "Epoch 37/100\n",
      " 1/18 [>.............................] - ETA: 0s - loss: 128.3786 - mae: 128.3786 - mse: 106963.9375INFO:tensorflow:Assets written to: model_experiments\\model_1_dense\\assets\n",
      "18/18 [==============================] - 1s 54ms/step - loss: 109.7574 - mae: 109.7574 - mse: 73912.5547 - val_loss: 590.7747 - val_mae: 590.7747 - val_mse: 1248972.6250\n",
      "Epoch 38/100\n",
      "18/18 [==============================] - 0s 6ms/step - loss: 112.2708 - mae: 112.2708 - mse: 74769.3750 - val_loss: 593.1656 - val_mae: 593.1656 - val_mse: 1256174.2500\n",
      "Epoch 39/100\n",
      " 1/18 [>.............................] - ETA: 0s - loss: 128.9163 - mae: 128.9163 - mse: 117602.5156INFO:tensorflow:Assets written to: model_experiments\\model_1_dense\\assets\n",
      "18/18 [==============================] - 1s 46ms/step - loss: 109.8510 - mae: 109.8510 - mse: 73353.5391 - val_loss: 587.6549 - val_mae: 587.6549 - val_mse: 1237133.6250\n",
      "Epoch 40/100\n",
      "18/18 [==============================] - 0s 6ms/step - loss: 108.9007 - mae: 108.9007 - mse: 72636.4297 - val_loss: 595.5750 - val_mae: 595.5750 - val_mse: 1259035.8750\n",
      "Epoch 41/100\n",
      "18/18 [==============================] - 0s 7ms/step - loss: 109.7702 - mae: 109.7702 - mse: 72455.2188 - val_loss: 608.5345 - val_mae: 608.5345 - val_mse: 1285325.6250\n",
      "Epoch 42/100\n",
      "18/18 [==============================] - 0s 7ms/step - loss: 114.8235 - mae: 114.8235 - mse: 76939.9688 - val_loss: 688.0620 - val_mae: 688.0620 - val_mse: 1444172.2500\n",
      "Epoch 43/100\n",
      "18/18 [==============================] - 0s 9ms/step - loss: 115.3355 - mae: 115.3355 - mse: 73254.8750 - val_loss: 679.7023 - val_mae: 679.7023 - val_mse: 1473353.8750\n",
      "Epoch 44/100\n",
      "18/18 [==============================] - 0s 8ms/step - loss: 115.0622 - mae: 115.0622 - mse: 73973.1953 - val_loss: 599.2930 - val_mae: 599.2930 - val_mse: 1245061.1250\n",
      "Epoch 45/100\n",
      "18/18 [==============================] - 0s 6ms/step - loss: 109.7203 - mae: 109.7203 - mse: 72152.6719 - val_loss: 615.7040 - val_mae: 615.7040 - val_mse: 1294927.0000\n",
      "Epoch 46/100\n",
      "18/18 [==============================] - 0s 6ms/step - loss: 110.2212 - mae: 110.2212 - mse: 71368.4453 - val_loss: 608.3335 - val_mae: 608.3335 - val_mse: 1259436.6250\n",
      "Epoch 47/100\n",
      "18/18 [==============================] - 0s 6ms/step - loss: 112.1743 - mae: 112.1743 - mse: 74229.6719 - val_loss: 610.8051 - val_mae: 610.8051 - val_mse: 1263732.7500\n",
      "Epoch 48/100\n",
      "18/18 [==============================] - 0s 9ms/step - loss: 108.7049 - mae: 108.7049 - mse: 71769.2578 - val_loss: 611.4703 - val_mae: 611.4703 - val_mse: 1263199.3750\n",
      "Epoch 49/100\n",
      "18/18 [==============================] - 0s 7ms/step - loss: 112.2245 - mae: 112.2245 - mse: 73873.4375 - val_loss: 624.3678 - val_mae: 624.3678 - val_mse: 1289211.1250\n",
      "Epoch 50/100\n",
      "18/18 [==============================] - 0s 6ms/step - loss: 116.1434 - mae: 116.1434 - mse: 75605.1328 - val_loss: 653.1278 - val_mae: 653.1278 - val_mse: 1383804.3750\n",
      "Epoch 51/100\n",
      " 1/18 [>.............................] - ETA: 0s - loss: 97.9152 - mae: 97.9152 - mse: 55665.7266INFO:tensorflow:Assets written to: model_experiments\\model_1_dense\\assets\n",
      "18/18 [==============================] - 1s 58ms/step - loss: 112.3876 - mae: 112.3876 - mse: 73035.3984 - val_loss: 580.6994 - val_mae: 580.6994 - val_mse: 1204365.5000\n",
      "Epoch 52/100\n",
      "18/18 [==============================] - 0s 6ms/step - loss: 112.2462 - mae: 112.2462 - mse: 74265.5938 - val_loss: 581.6218 - val_mae: 581.6218 - val_mse: 1211647.7500\n",
      "Epoch 53/100\n",
      "18/18 [==============================] - 0s 7ms/step - loss: 110.3280 - mae: 110.3280 - mse: 72739.2188 - val_loss: 657.0439 - val_mae: 657.0439 - val_mse: 1359794.3750\n",
      "Epoch 54/100\n",
      "16/18 [=========================>....] - ETA: 0s - loss: 111.3596 - mae: 111.3596 - mse: 74300.0234INFO:tensorflow:Assets written to: model_experiments\\model_1_dense\\assets\n",
      "18/18 [==============================] - 1s 48ms/step - loss: 110.0662 - mae: 110.0662 - mse: 71324.9141 - val_loss: 576.8371 - val_mae: 576.8371 - val_mse: 1201676.5000\n",
      "Epoch 55/100\n",
      "18/18 [==============================] - 0s 6ms/step - loss: 113.0599 - mae: 113.0599 - mse: 74933.3750 - val_loss: 630.7636 - val_mae: 630.7636 - val_mse: 1298386.8750\n",
      "Epoch 56/100\n",
      "18/18 [==============================] - 0s 6ms/step - loss: 113.1989 - mae: 113.1989 - mse: 72705.5078 - val_loss: 782.7737 - val_mae: 782.7737 - val_mse: 1779757.6250\n",
      "Epoch 57/100\n",
      "18/18 [==============================] - 0s 6ms/step - loss: 128.1103 - mae: 128.1103 - mse: 85239.3750 - val_loss: 738.1292 - val_mae: 738.1292 - val_mse: 1630307.6250\n",
      "Epoch 58/100\n",
      "18/18 [==============================] - 0s 6ms/step - loss: 121.9138 - mae: 121.9138 - mse: 76377.6641 - val_loss: 592.5834 - val_mae: 592.5834 - val_mse: 1220874.8750\n",
      "Epoch 59/100\n",
      "18/18 [==============================] - 0s 5ms/step - loss: 110.2524 - mae: 110.2524 - mse: 72072.9766 - val_loss: 610.4786 - val_mae: 610.4786 - val_mse: 1269425.7500\n",
      "Epoch 60/100\n",
      "18/18 [==============================] - 0s 5ms/step - loss: 111.7488 - mae: 111.7488 - mse: 74548.3906 - val_loss: 621.8243 - val_mae: 621.8243 - val_mse: 1276128.3750\n",
      "Epoch 61/100\n",
      " 1/18 [>.............................] - ETA: 0s - loss: 137.1730 - mae: 137.1730 - mse: 96763.8281INFO:tensorflow:Assets written to: model_experiments\\model_1_dense\\assets\n",
      "18/18 [==============================] - 1s 52ms/step - loss: 109.9577 - mae: 109.9577 - mse: 73321.7734 - val_loss: 572.7188 - val_mae: 572.7188 - val_mse: 1188139.3750\n",
      "Epoch 62/100\n",
      "18/18 [==============================] - 0s 6ms/step - loss: 106.3548 - mae: 106.3548 - mse: 69277.3516 - val_loss: 575.0233 - val_mae: 575.0233 - val_mse: 1192760.7500\n",
      "Epoch 63/100\n",
      "18/18 [==============================] - 0s 10ms/step - loss: 108.0074 - mae: 108.0074 - mse: 70527.1172 - val_loss: 597.5345 - val_mae: 597.5345 - val_mse: 1225348.1250\n",
      "Epoch 64/100\n",
      "18/18 [==============================] - 0s 7ms/step - loss: 107.9338 - mae: 107.9338 - mse: 70512.2891 - val_loss: 587.9291 - val_mae: 587.9291 - val_mse: 1208518.5000\n",
      "Epoch 65/100\n",
      "18/18 [==============================] - 0s 8ms/step - loss: 108.3784 - mae: 108.3784 - mse: 71443.7422 - val_loss: 573.7851 - val_mae: 573.7851 - val_mse: 1188485.2500\n",
      "Epoch 66/100\n",
      "18/18 [==============================] - 0s 7ms/step - loss: 107.1814 - mae: 107.1814 - mse: 70431.6406 - val_loss: 585.9658 - val_mae: 585.9658 - val_mse: 1202352.7500\n",
      "Epoch 67/100\n",
      "18/18 [==============================] - 0s 7ms/step - loss: 107.2427 - mae: 107.2427 - mse: 69760.3906 - val_loss: 687.1529 - val_mae: 687.1529 - val_mse: 1464330.1250\n",
      "Epoch 68/100\n",
      "18/18 [==============================] - 0s 6ms/step - loss: 109.3608 - mae: 109.3608 - mse: 69336.0625 - val_loss: 574.9579 - val_mae: 574.9579 - val_mse: 1188794.2500\n",
      "Epoch 69/100\n",
      "18/18 [==============================] - 0s 8ms/step - loss: 116.9693 - mae: 116.9693 - mse: 73376.8125 - val_loss: 755.0884 - val_mae: 755.0884 - val_mse: 1617679.6250\n",
      "Epoch 70/100\n",
      "18/18 [==============================] - 0s 8ms/step - loss: 126.4319 - mae: 126.4319 - mse: 80821.0234 - val_loss: 698.5565 - val_mae: 698.5565 - val_mse: 1451038.6250\n",
      "Epoch 71/100\n",
      "18/18 [==============================] - 0s 6ms/step - loss: 118.4873 - mae: 118.4873 - mse: 74425.3047 - val_loss: 578.6034 - val_mae: 578.6034 - val_mse: 1190482.8750\n",
      "Epoch 72/100\n",
      "18/18 [==============================] - ETA: 0s - loss: 110.8251 - mae: 110.8251 - mse: 73653.4297INFO:tensorflow:Assets written to: model_experiments\\model_1_dense\\assets\n",
      "18/18 [==============================] - 1s 41ms/step - loss: 110.8251 - mae: 110.8251 - mse: 73653.4297 - val_loss: 570.4084 - val_mae: 570.4084 - val_mse: 1177201.7500\n",
      "Epoch 73/100\n",
      "18/18 [==============================] - 0s 6ms/step - loss: 107.2910 - mae: 107.2910 - mse: 69438.1719 - val_loss: 574.0008 - val_mae: 574.0008 - val_mse: 1181414.7500\n",
      "Epoch 74/100\n",
      "18/18 [==============================] - 0s 6ms/step - loss: 109.4517 - mae: 109.4517 - mse: 71739.2188 - val_loss: 576.0807 - val_mae: 576.0807 - val_mse: 1187146.1250\n",
      "Epoch 75/100\n",
      "18/18 [==============================] - 0s 6ms/step - loss: 107.5861 - mae: 107.5861 - mse: 69802.5234 - val_loss: 571.9223 - val_mae: 571.9223 - val_mse: 1175992.1250\n",
      "Epoch 76/100\n",
      "18/18 [==============================] - 0s 9ms/step - loss: 109.3792 - mae: 109.3792 - mse: 71115.2266 - val_loss: 574.3790 - val_mae: 574.3790 - val_mse: 1179311.2500\n",
      "Epoch 77/100\n",
      "18/18 [==============================] - 0s 9ms/step - loss: 107.8313 - mae: 107.8313 - mse: 70071.5469 - val_loss: 578.1592 - val_mae: 578.1592 - val_mse: 1190513.3750\n",
      "Epoch 78/100\n",
      "14/18 [======================>.......] - ETA: 0s - loss: 108.0546 - mae: 108.0546 - mse: 69816.2344INFO:tensorflow:Assets written to: model_experiments\\model_1_dense\\assets\n",
      "18/18 [==============================] - 1s 59ms/step - loss: 107.6142 - mae: 107.6142 - mse: 69448.7656 - val_loss: 568.5903 - val_mae: 568.5903 - val_mse: 1171154.6250\n",
      "Epoch 79/100\n",
      "18/18 [==============================] - 0s 5ms/step - loss: 106.4532 - mae: 106.4532 - mse: 70242.5156 - val_loss: 612.4407 - val_mae: 612.4407 - val_mse: 1263085.3750\n",
      "Epoch 80/100\n",
      "18/18 [==============================] - 0s 5ms/step - loss: 108.9937 - mae: 108.9937 - mse: 71851.9141 - val_loss: 582.4710 - val_mae: 582.4710 - val_mse: 1190730.8750\n",
      "Epoch 81/100\n",
      " 1/18 [>.............................] - ETA: 0s - loss: 96.4732 - mae: 96.4732 - mse: 43871.3359INFO:tensorflow:Assets written to: model_experiments\\model_1_dense\\assets\n",
      "18/18 [==============================] - 1s 45ms/step - loss: 106.1161 - mae: 106.1161 - mse: 69796.3203 - val_loss: 567.7435 - val_mae: 567.7435 - val_mse: 1166970.2500\n",
      "Epoch 82/100\n",
      "18/18 [==============================] - 0s 8ms/step - loss: 116.4140 - mae: 116.4140 - mse: 76663.1953 - val_loss: 580.6105 - val_mae: 580.6105 - val_mse: 1184971.7500\n",
      "Epoch 83/100\n",
      "18/18 [==============================] - 0s 6ms/step - loss: 115.3704 - mae: 115.3704 - mse: 74857.6484 - val_loss: 702.2815 - val_mae: 702.2815 - val_mse: 1497023.7500\n",
      "Epoch 84/100\n",
      "18/18 [==============================] - 0s 8ms/step - loss: 115.1339 - mae: 115.1339 - mse: 74601.2500 - val_loss: 569.6343 - val_mae: 569.6343 - val_mse: 1170503.1250\n",
      "Epoch 85/100\n",
      "18/18 [==============================] - 0s 7ms/step - loss: 107.7363 - mae: 107.7363 - mse: 70216.1328 - val_loss: 570.1495 - val_mae: 570.1495 - val_mse: 1167203.6250\n",
      "Epoch 86/100\n",
      "18/18 [==============================] - 0s 7ms/step - loss: 107.0407 - mae: 107.0407 - mse: 68800.4062 - val_loss: 575.0720 - val_mae: 575.0720 - val_mse: 1174615.7500\n",
      "Epoch 87/100\n",
      "18/18 [==============================] - 0s 7ms/step - loss: 105.4294 - mae: 105.4294 - mse: 67915.0625 - val_loss: 608.5342 - val_mae: 608.5342 - val_mse: 1252347.6250\n",
      "Epoch 88/100\n",
      "18/18 [==============================] - 0s 6ms/step - loss: 108.8125 - mae: 108.8125 - mse: 70901.4375 - val_loss: 574.4962 - val_mae: 574.4962 - val_mse: 1179884.2500\n",
      "Epoch 89/100\n",
      "18/18 [==============================] - 0s 5ms/step - loss: 106.1898 - mae: 106.1898 - mse: 68816.2969 - val_loss: 573.4290 - val_mae: 573.4290 - val_mse: 1172334.1250\n",
      "Epoch 90/100\n",
      "18/18 [==============================] - 0s 7ms/step - loss: 106.6796 - mae: 106.6796 - mse: 66989.4922 - val_loss: 570.9199 - val_mae: 570.9199 - val_mse: 1171976.5000\n",
      "Epoch 91/100\n",
      "18/18 [==============================] - 0s 8ms/step - loss: 110.0915 - mae: 110.0915 - mse: 71135.7812 - val_loss: 569.9783 - val_mae: 569.9783 - val_mse: 1169011.6250\n",
      "Epoch 92/100\n",
      "13/18 [====================>.........] - ETA: 0s - loss: 112.5554 - mae: 112.5554 - mse: 76808.0703INFO:tensorflow:Assets written to: model_experiments\\model_1_dense\\assets\n",
      "18/18 [==============================] - 1s 53ms/step - loss: 114.0921 - mae: 114.0921 - mse: 74651.3984 - val_loss: 566.3576 - val_mae: 566.3576 - val_mse: 1161144.1250\n",
      "Epoch 93/100\n",
      "18/18 [==============================] - 0s 6ms/step - loss: 115.0779 - mae: 115.0779 - mse: 73645.4062 - val_loss: 577.0552 - val_mae: 577.0552 - val_mse: 1183516.5000\n",
      "Epoch 94/100\n",
      "18/18 [==============================] - 0s 9ms/step - loss: 113.6040 - mae: 113.6040 - mse: 74248.6328 - val_loss: 584.4583 - val_mae: 584.4583 - val_mse: 1189606.3750\n",
      "Epoch 95/100\n",
      "18/18 [==============================] - 0s 7ms/step - loss: 106.7175 - mae: 106.7175 - mse: 67609.1797 - val_loss: 583.7180 - val_mae: 583.7180 - val_mse: 1196196.0000\n",
      "Epoch 96/100\n",
      "18/18 [==============================] - 0s 7ms/step - loss: 106.4965 - mae: 106.4965 - mse: 68894.8828 - val_loss: 571.2286 - val_mae: 571.2286 - val_mse: 1170128.0000\n",
      "Epoch 97/100\n",
      "18/18 [==============================] - 0s 7ms/step - loss: 105.1883 - mae: 105.1883 - mse: 68635.4766 - val_loss: 580.8953 - val_mae: 580.8953 - val_mse: 1182078.2500\n",
      "Epoch 98/100\n",
      "18/18 [==============================] - 0s 6ms/step - loss: 106.3959 - mae: 106.3959 - mse: 69863.8906 - val_loss: 575.4633 - val_mae: 575.4633 - val_mse: 1178773.0000\n",
      "Epoch 99/100\n",
      "18/18 [==============================] - 0s 6ms/step - loss: 107.0890 - mae: 107.0890 - mse: 69990.3750 - val_loss: 575.1805 - val_mae: 575.1805 - val_mse: 1170927.0000\n",
      "Epoch 100/100\n",
      "18/18 [==============================] - 0s 6ms/step - loss: 110.5546 - mae: 110.5546 - mse: 69852.5156 - val_loss: 587.2048 - val_mae: 587.2048 - val_mse: 1193632.7500\n"
     ]
    }
   ],
   "source": [
    "# Loading libraries\n",
    "import tensorflow as tf\n",
    "from tensorflow.keras import layers\n",
    "\n",
    "# Setting random seed\n",
    "tf.random.set_seed(42)\n",
    "\n",
    "# Constructing a model\n",
    "model_1 = tf.keras.Sequential([\n",
    "    layers.Dense(128, activation=\"relu\"),\n",
    "    layers.Dense(HORIZON, activation=\"linear\")\n",
    "], name=\"model_1_dense\")\n",
    "\n",
    "# Compiling the model\n",
    "model_1.compile(\n",
    "    loss=\"mae\",\n",
    "    optimizer=tf.keras.optimizers.Adam(),\n",
    "    metrics=[\"mae\", \"mse\"]\n",
    ")\n",
    "\n",
    "# Fitting the model\n",
    "history_1 = model_1.fit(\n",
    "    x=train_windows,\n",
    "    y=train_labels,\n",
    "    epochs=100,\n",
    "    verbose=1,\n",
    "    batch_size=128,\n",
    "    validation_data=(test_windows, test_labels),\n",
    "    callbacks=[create_model_checkpoint(model_name=model_1.name)]\n",
    ")"
   ]
  },
  {
   "cell_type": "code",
   "execution_count": 37,
   "metadata": {},
   "outputs": [
    {
     "name": "stdout",
     "output_type": "stream",
     "text": [
      "18/18 [==============================] - 0s 3ms/step - loss: 587.2048 - mae: 587.2048 - mse: 1193632.7500\n"
     ]
    },
    {
     "data": {
      "text/plain": [
       "[587.204833984375, 587.204833984375, 1193632.75]"
      ]
     },
     "execution_count": 37,
     "metadata": {},
     "output_type": "execute_result"
    }
   ],
   "source": [
    "# Evaluating the model on test data\n",
    "model_1.evaluate(test_windows, test_labels)"
   ]
  },
  {
   "cell_type": "code",
   "execution_count": 38,
   "metadata": {},
   "outputs": [
    {
     "name": "stdout",
     "output_type": "stream",
     "text": [
      "18/18 [==============================] - 0s 3ms/step - loss: 566.3576 - mae: 566.3576 - mse: 1161144.1250\n"
     ]
    },
    {
     "data": {
      "text/plain": [
       "[566.3576049804688, 566.3576049804688, 1161144.125]"
      ]
     },
     "execution_count": 38,
     "metadata": {},
     "output_type": "execute_result"
    }
   ],
   "source": [
    "# Loading the best performing model_1 run and evaluating on test data\n",
    "model_1_best = tf.keras.models.load_model(\"model_experiments/model_1_dense/\")\n",
    "model_1_best.evaluate(test_windows, test_labels)"
   ]
  },
  {
   "cell_type": "code",
   "execution_count": 39,
   "metadata": {},
   "outputs": [],
   "source": [
    "# Creating function to make predictions\n",
    "def make_preds(model, input_data):\n",
    "    forecast = model.predict(input_data)\n",
    "    return tf.squeeze(forecast) # 1D array of predictions"
   ]
  },
  {
   "cell_type": "code",
   "execution_count": 40,
   "metadata": {},
   "outputs": [
    {
     "name": "stdout",
     "output_type": "stream",
     "text": [
      "18/18 [==============================] - 0s 2ms/step\n"
     ]
    },
    {
     "data": {
      "text/plain": [
       "(556,\n",
       " <tf.Tensor: shape=(10,), dtype=float32, numpy=\n",
       " array([8771.762, 8700.73 , 8961.738, 8724.883, 8682.556, 8645.385,\n",
       "        8620.284, 8460.356, 8371.479, 8461.839], dtype=float32)>)"
      ]
     },
     "execution_count": 40,
     "metadata": {},
     "output_type": "execute_result"
    }
   ],
   "source": [
    "# Making predictions with the model 1\n",
    "model_1_preds = make_preds(model_1, test_windows)\n",
    "len(model_1_preds), model_1_preds[:10]"
   ]
  },
  {
   "cell_type": "code",
   "execution_count": 41,
   "metadata": {},
   "outputs": [
    {
     "data": {
      "text/plain": [
       "{'mae': 587.2049,\n",
       " 'mse': 1193632.9,\n",
       " 'rmse': 1092.535,\n",
       " 'mape': 2.6576076,\n",
       " 'mase': 1.0315564}"
      ]
     },
     "execution_count": 41,
     "metadata": {},
     "output_type": "execute_result"
    }
   ],
   "source": [
    "# Evaluting model 1 predictions\n",
    "model_1_results = evaluate_preds(\n",
    "    y_true=tf.squeeze(test_labels),\n",
    "    y_pred=model_1_preds\n",
    ")\n",
    "model_1_results"
   ]
  },
  {
   "cell_type": "code",
   "execution_count": 42,
   "metadata": {},
   "outputs": [
    {
     "data": {
      "image/png": "[encoded data removed]",
      "text/plain": [
       "<Figure size 720x504 with 1 Axes>"
      ]
     },
     "metadata": {
      "needs_background": "light"
     },
     "output_type": "display_data"
    }
   ],
   "source": [
    "# Plotting model results\n",
    "offset = 300\n",
    "plt.figure(figsize=(10, 7))\n",
    "\n",
    "plot_time_series(\n",
    "    timestamps=X_test[-len(test_windows):],\n",
    "    values=test_labels[:, ],\n",
    "    start=offset,\n",
    "    label=\"Test Data\"\n",
    ")\n",
    "\n",
    "plot_time_series(\n",
    "    timestamps=X_test[-len(test_windows):],\n",
    "    values=model_1_preds,\n",
    "    start=offset,\n",
    "    label=\"Model 1 Preds\"\n",
    ")"
   ]
  },
  {
   "attachments": {},
   "cell_type": "markdown",
   "metadata": {},
   "source": [
    "### Model 2 - Dense model (window = 30, horizon = 1)"
   ]
  },
  {
   "cell_type": "code",
   "execution_count": 43,
   "metadata": {},
   "outputs": [],
   "source": [
    "# Hyperparameters\n",
    "HORIZON = 1\n",
    "WINDOW_SIZE = 30"
   ]
  },
  {
   "cell_type": "code",
   "execution_count": 44,
   "metadata": {},
   "outputs": [
    {
     "data": {
      "text/plain": [
       "(2757, 2757)"
      ]
     },
     "execution_count": 44,
     "metadata": {},
     "output_type": "execute_result"
    }
   ],
   "source": [
    "# Making windows data\n",
    "full_windows, full_labels = make_windows(\n",
    "    prices,\n",
    "    window_size=WINDOW_SIZE,\n",
    "    horizon=HORIZON\n",
    ")\n",
    "len(full_windows), len(full_labels)"
   ]
  },
  {
   "cell_type": "code",
   "execution_count": 45,
   "metadata": {},
   "outputs": [
    {
     "data": {
      "text/plain": [
       "(2205, 552, 2205, 552)"
      ]
     },
     "execution_count": 45,
     "metadata": {},
     "output_type": "execute_result"
    }
   ],
   "source": [
    "# Making train and test windows\n",
    "train_windows, test_windows, train_labels, test_labels = make_train_test_splits(\n",
    "    windows=full_windows,\n",
    "    labels=full_labels,\n",
    "    test_split=0.2\n",
    ")\n",
    "len(train_windows), len(test_windows), len(train_labels), len(test_labels)"
   ]
  },
  {
   "cell_type": "code",
   "execution_count": 46,
   "metadata": {},
   "outputs": [
    {
     "data": {
      "text/plain": [
       "array([[123.65499, 125.455  , 108.58483, 118.67466, 121.33866, 120.65533,\n",
       "        121.795  , 123.033  , 124.049  , 125.96116, 125.27966, 125.9275 ,\n",
       "        126.38333, 135.24199, 133.20333, 142.76333, 137.92333, 142.95166,\n",
       "        152.55183, 160.33883, 164.31499, 177.63333, 188.29716, 200.70166,\n",
       "        180.355  , 175.03166, 177.6965 , 187.15983, 192.75666, 197.4    ],\n",
       "       [125.455  , 108.58483, 118.67466, 121.33866, 120.65533, 121.795  ,\n",
       "        123.033  , 124.049  , 125.96116, 125.27966, 125.9275 , 126.38333,\n",
       "        135.24199, 133.20333, 142.76333, 137.92333, 142.95166, 152.55183,\n",
       "        160.33883, 164.31499, 177.63333, 188.29716, 200.70166, 180.355  ,\n",
       "        175.03166, 177.6965 , 187.15983, 192.75666, 197.4    , 196.02499],\n",
       "       [108.58483, 118.67466, 121.33866, 120.65533, 121.795  , 123.033  ,\n",
       "        124.049  , 125.96116, 125.27966, 125.9275 , 126.38333, 135.24199,\n",
       "        133.20333, 142.76333, 137.92333, 142.95166, 152.55183, 160.33883,\n",
       "        164.31499, 177.63333, 188.29716, 200.70166, 180.355  , 175.03166,\n",
       "        177.6965 , 187.15983, 192.75666, 197.4    , 196.02499, 198.04883]])"
      ]
     },
     "execution_count": 46,
     "metadata": {},
     "output_type": "execute_result"
    }
   ],
   "source": [
    "# Checking first 3 train windows\n",
    "train_windows[:3]"
   ]
  },
  {
   "cell_type": "code",
   "execution_count": 47,
   "metadata": {},
   "outputs": [
    {
     "name": "stdout",
     "output_type": "stream",
     "text": [
      "INFO:tensorflow:Assets written to: model_experiments\\model_2_dense\\assets\n",
      "INFO:tensorflow:Assets written to: model_experiments\\model_2_dense\\assets\n",
      "INFO:tensorflow:Assets written to: model_experiments\\model_2_dense\\assets\n",
      "INFO:tensorflow:Assets written to: model_experiments\\model_2_dense\\assets\n",
      "INFO:tensorflow:Assets written to: model_experiments\\model_2_dense\\assets\n",
      "INFO:tensorflow:Assets written to: model_experiments\\model_2_dense\\assets\n",
      "INFO:tensorflow:Assets written to: model_experiments\\model_2_dense\\assets\n",
      "INFO:tensorflow:Assets written to: model_experiments\\model_2_dense\\assets\n",
      "INFO:tensorflow:Assets written to: model_experiments\\model_2_dense\\assets\n",
      "INFO:tensorflow:Assets written to: model_experiments\\model_2_dense\\assets\n",
      "INFO:tensorflow:Assets written to: model_experiments\\model_2_dense\\assets\n",
      "INFO:tensorflow:Assets written to: model_experiments\\model_2_dense\\assets\n",
      "INFO:tensorflow:Assets written to: model_experiments\\model_2_dense\\assets\n",
      "INFO:tensorflow:Assets written to: model_experiments\\model_2_dense\\assets\n",
      "INFO:tensorflow:Assets written to: model_experiments\\model_2_dense\\assets\n",
      "INFO:tensorflow:Assets written to: model_experiments\\model_2_dense\\assets\n",
      "INFO:tensorflow:Assets written to: model_experiments\\model_2_dense\\assets\n",
      "INFO:tensorflow:Assets written to: model_experiments\\model_2_dense\\assets\n",
      "INFO:tensorflow:Assets written to: model_experiments\\model_2_dense\\assets\n",
      "INFO:tensorflow:Assets written to: model_experiments\\model_2_dense\\assets\n",
      "INFO:tensorflow:Assets written to: model_experiments\\model_2_dense\\assets\n",
      "INFO:tensorflow:Assets written to: model_experiments\\model_2_dense\\assets\n",
      "INFO:tensorflow:Assets written to: model_experiments\\model_2_dense\\assets\n",
      "INFO:tensorflow:Assets written to: model_experiments\\model_2_dense\\assets\n",
      "INFO:tensorflow:Assets written to: model_experiments\\model_2_dense\\assets\n",
      "INFO:tensorflow:Assets written to: model_experiments\\model_2_dense\\assets\n",
      "INFO:tensorflow:Assets written to: model_experiments\\model_2_dense\\assets\n",
      "INFO:tensorflow:Assets written to: model_experiments\\model_2_dense\\assets\n",
      "INFO:tensorflow:Assets written to: model_experiments\\model_2_dense\\assets\n",
      "INFO:tensorflow:Assets written to: model_experiments\\model_2_dense\\assets\n",
      "INFO:tensorflow:Assets written to: model_experiments\\model_2_dense\\assets\n",
      "INFO:tensorflow:Assets written to: model_experiments\\model_2_dense\\assets\n",
      "INFO:tensorflow:Assets written to: model_experiments\\model_2_dense\\assets\n",
      "INFO:tensorflow:Assets written to: model_experiments\\model_2_dense\\assets\n",
      "INFO:tensorflow:Assets written to: model_experiments\\model_2_dense\\assets\n"
     ]
    }
   ],
   "source": [
    "# Creating a model\n",
    "model_2 = tf.keras.Sequential([\n",
    "    layers.Dense(128, activation=\"relu\"),\n",
    "    layers.Dense(HORIZON)\n",
    "], name=\"model_2_dense\")\n",
    "\n",
    "# Compiling the model\n",
    "model_2.compile(\n",
    "    loss=\"mae\",\n",
    "    optimizer=tf.keras.optimizers.Adam(),\n",
    "    metrics=[\"mae\"]\n",
    ")\n",
    "\n",
    "# Fitting the model\n",
    "history_2 = model_2.fit(\n",
    "    train_windows,\n",
    "    train_labels,\n",
    "    epochs=100,\n",
    "    batch_size=128,\n",
    "    verbose=0,\n",
    "    validation_data=(test_windows, test_labels),\n",
    "    callbacks=[create_model_checkpoint(model_name=model_2.name)]\n",
    ")"
   ]
  },
  {
   "cell_type": "code",
   "execution_count": 48,
   "metadata": {},
   "outputs": [
    {
     "name": "stdout",
     "output_type": "stream",
     "text": [
      "18/18 [==============================] - 0s 2ms/step - loss: 636.1233 - mae: 636.1233\n"
     ]
    },
    {
     "data": {
      "text/plain": [
       "[636.123291015625, 636.123291015625]"
      ]
     },
     "execution_count": 48,
     "metadata": {},
     "output_type": "execute_result"
    }
   ],
   "source": [
    "# Evaluating model 2\n",
    "model_2.evaluate(test_windows, test_labels)"
   ]
  },
  {
   "cell_type": "code",
   "execution_count": 49,
   "metadata": {},
   "outputs": [
    {
     "name": "stdout",
     "output_type": "stream",
     "text": [
      "18/18 [==============================] - 0s 3ms/step - loss: 636.1233 - mae: 636.1233\n"
     ]
    },
    {
     "data": {
      "text/plain": [
       "[636.123291015625, 636.123291015625]"
      ]
     },
     "execution_count": 49,
     "metadata": {},
     "output_type": "execute_result"
    }
   ],
   "source": [
    "# Loading the best model 2\n",
    "model_2_best = tf.keras.models.load_model(\"model_experiments/model_2_dense/\")\n",
    "model_2_best.evaluate(test_windows, test_labels)"
   ]
  },
  {
   "cell_type": "code",
   "execution_count": 50,
   "metadata": {},
   "outputs": [
    {
     "name": "stdout",
     "output_type": "stream",
     "text": [
      "18/18 [==============================] - 0s 3ms/step\n"
     ]
    }
   ],
   "source": [
    "# getting model 2 predictions\n",
    "model_2_preds = make_preds(\n",
    "    model_2,\n",
    "    input_data=test_windows\n",
    ")"
   ]
  },
  {
   "cell_type": "code",
   "execution_count": 51,
   "metadata": {},
   "outputs": [
    {
     "data": {
      "text/plain": [
       "{'mae': 636.12335,\n",
       " 'mse': 1371397.6,\n",
       " 'rmse': 1171.0669,\n",
       " 'mape': 2.9118483,\n",
       " 'mase': 1.1119499}"
      ]
     },
     "execution_count": 51,
     "metadata": {},
     "output_type": "execute_result"
    }
   ],
   "source": [
    "# Evaluating results\n",
    "model_2_results = evaluate_preds(\n",
    "    y_true=tf.squeeze(test_labels),\n",
    "    y_pred=model_2_preds\n",
    ")\n",
    "model_2_results"
   ]
  },
  {
   "cell_type": "code",
   "execution_count": 52,
   "metadata": {},
   "outputs": [
    {
     "data": {
      "image/png": "[encoded data removed]",
      "text/plain": [
       "<Figure size 720x504 with 1 Axes>"
      ]
     },
     "metadata": {
      "needs_background": "light"
     },
     "output_type": "display_data"
    }
   ],
   "source": [
    "# Visualising model 2 results\n",
    "offset = 300\n",
    "plt.figure(figsize=(10, 7))\n",
    "\n",
    "plot_time_series(\n",
    "    timestamps=X_test[-len(test_windows):],\n",
    "    values=test_labels[:, 0],\n",
    "    start=offset,\n",
    "    label=\"Test Data\"\n",
    ")\n",
    "\n",
    "plot_time_series(\n",
    "    timestamps=X_test[-len(test_windows):],\n",
    "    values=model_2_preds,\n",
    "    start=offset,\n",
    "    label=\"Model 2 Preds\"\n",
    ")"
   ]
  },
  {
   "attachments": {},
   "cell_type": "markdown",
   "metadata": {},
   "source": [
    "### Model 3 - Dense model (window = 30, horizon = 7)"
   ]
  },
  {
   "cell_type": "code",
   "execution_count": 53,
   "metadata": {},
   "outputs": [],
   "source": [
    "# Hyperparameters\n",
    "HORIZON = 7\n",
    "WINDOW_SIZE = 30"
   ]
  },
  {
   "cell_type": "code",
   "execution_count": 54,
   "metadata": {},
   "outputs": [
    {
     "data": {
      "text/plain": [
       "(2751, 2751)"
      ]
     },
     "execution_count": 54,
     "metadata": {},
     "output_type": "execute_result"
    }
   ],
   "source": [
    "# Making windows data\n",
    "full_windows, full_labels = make_windows(\n",
    "    prices,\n",
    "    window_size=WINDOW_SIZE,\n",
    "    horizon=HORIZON\n",
    ")\n",
    "len(full_windows), len(full_labels)"
   ]
  },
  {
   "cell_type": "code",
   "execution_count": 55,
   "metadata": {},
   "outputs": [
    {
     "data": {
      "text/plain": [
       "(2200, 551, 2200, 551)"
      ]
     },
     "execution_count": 55,
     "metadata": {},
     "output_type": "execute_result"
    }
   ],
   "source": [
    "# Making train and test windows\n",
    "train_windows, test_windows, train_labels, test_labels = make_train_test_splits(\n",
    "    windows=full_windows,\n",
    "    labels=full_labels,\n",
    "    test_split=0.2\n",
    ")\n",
    "len(train_windows), len(test_windows), len(train_labels), len(test_labels)"
   ]
  },
  {
   "cell_type": "code",
   "execution_count": 56,
   "metadata": {},
   "outputs": [
    {
     "name": "stdout",
     "output_type": "stream",
     "text": [
      "INFO:tensorflow:Assets written to: model_experiments\\model_3_dense\\assets\n",
      "INFO:tensorflow:Assets written to: model_experiments\\model_3_dense\\assets\n",
      "INFO:tensorflow:Assets written to: model_experiments\\model_3_dense\\assets\n",
      "INFO:tensorflow:Assets written to: model_experiments\\model_3_dense\\assets\n",
      "INFO:tensorflow:Assets written to: model_experiments\\model_3_dense\\assets\n",
      "INFO:tensorflow:Assets written to: model_experiments\\model_3_dense\\assets\n",
      "INFO:tensorflow:Assets written to: model_experiments\\model_3_dense\\assets\n",
      "INFO:tensorflow:Assets written to: model_experiments\\model_3_dense\\assets\n",
      "INFO:tensorflow:Assets written to: model_experiments\\model_3_dense\\assets\n",
      "INFO:tensorflow:Assets written to: model_experiments\\model_3_dense\\assets\n",
      "INFO:tensorflow:Assets written to: model_experiments\\model_3_dense\\assets\n",
      "INFO:tensorflow:Assets written to: model_experiments\\model_3_dense\\assets\n",
      "INFO:tensorflow:Assets written to: model_experiments\\model_3_dense\\assets\n",
      "INFO:tensorflow:Assets written to: model_experiments\\model_3_dense\\assets\n",
      "INFO:tensorflow:Assets written to: model_experiments\\model_3_dense\\assets\n",
      "INFO:tensorflow:Assets written to: model_experiments\\model_3_dense\\assets\n",
      "INFO:tensorflow:Assets written to: model_experiments\\model_3_dense\\assets\n",
      "INFO:tensorflow:Assets written to: model_experiments\\model_3_dense\\assets\n",
      "INFO:tensorflow:Assets written to: model_experiments\\model_3_dense\\assets\n",
      "INFO:tensorflow:Assets written to: model_experiments\\model_3_dense\\assets\n",
      "INFO:tensorflow:Assets written to: model_experiments\\model_3_dense\\assets\n",
      "INFO:tensorflow:Assets written to: model_experiments\\model_3_dense\\assets\n",
      "INFO:tensorflow:Assets written to: model_experiments\\model_3_dense\\assets\n"
     ]
    }
   ],
   "source": [
    "# Creating a model\n",
    "model_3 = tf.keras.Sequential([\n",
    "    layers.Dense(128, activation=\"relu\"),\n",
    "    layers.Dense(HORIZON)\n",
    "], name=\"model_3_dense\")\n",
    "\n",
    "# Compiling the model\n",
    "model_3.compile(\n",
    "    loss=\"mae\",\n",
    "    optimizer=tf.keras.optimizers.Adam(),\n",
    "    metrics=[\"mae\"]\n",
    ")\n",
    "\n",
    "# Fitting the model\n",
    "history_3 = model_3.fit(\n",
    "    train_windows,\n",
    "    train_labels,\n",
    "    epochs=100,\n",
    "    batch_size=128,\n",
    "    verbose=0,\n",
    "    validation_data=(test_windows, test_labels),\n",
    "    callbacks=[create_model_checkpoint(model_name=model_3.name)]\n",
    ")"
   ]
  },
  {
   "cell_type": "code",
   "execution_count": 57,
   "metadata": {},
   "outputs": [
    {
     "name": "stdout",
     "output_type": "stream",
     "text": [
      "18/18 [==============================] - 0s 3ms/step - loss: 1401.2290 - mae: 1401.2290\n"
     ]
    },
    {
     "data": {
      "text/plain": [
       "[1401.22900390625, 1401.22900390625]"
      ]
     },
     "execution_count": 57,
     "metadata": {},
     "output_type": "execute_result"
    }
   ],
   "source": [
    "# Evaluating model 3\n",
    "model_3.evaluate(test_windows, test_labels)"
   ]
  },
  {
   "cell_type": "code",
   "execution_count": 58,
   "metadata": {},
   "outputs": [
    {
     "name": "stdout",
     "output_type": "stream",
     "text": [
      "18/18 [==============================] - 0s 3ms/step\n"
     ]
    },
    {
     "data": {
      "text/plain": [
       "<tf.Tensor: shape=(3, 7), dtype=float32, numpy=\n",
       "array([[9104.573 , 9157.285 , 9427.672 , 9276.531 , 9049.106 , 9072.315 ,\n",
       "        9117.181 ],\n",
       "       [8829.246 , 8926.14  , 8974.482 , 9024.026 , 8673.097 , 8661.292 ,\n",
       "        8936.278 ],\n",
       "       [8673.128 , 8865.803 , 8855.45  , 8842.857 , 8626.528 , 8688.38  ,\n",
       "        8784.1455]], dtype=float32)>"
      ]
     },
     "execution_count": 58,
     "metadata": {},
     "output_type": "execute_result"
    }
   ],
   "source": [
    "# Making predictions with model 3\n",
    "model_3_preds = make_preds(\n",
    "    model_3,\n",
    "    input_data=test_windows\n",
    ")\n",
    "model_3_preds[:3]"
   ]
  },
  {
   "cell_type": "code",
   "execution_count": 59,
   "metadata": {},
   "outputs": [
    {
     "data": {
      "text/plain": [
       "{'mae': array([ 378.87988,  175.53041,  183.32645,  223.48006,  299.15598,\n",
       "         339.93295,  332.41293,  288.27448,  317.43436,  372.7295 ,\n",
       "         487.40582,  508.51904,  682.8633 ,  650.84515,  423.5286 ,\n",
       "         330.87946,  311.88037,  486.1697 ,  469.77924,  528.8547 ,\n",
       "         235.83705,  196.69832,  209.3757 ,  205.02908,  216.7576 ,\n",
       "         211.26576,  264.11963,  315.40436,  270.00006,  189.72678,\n",
       "         178.35582,  170.96408,  104.41804,  156.6499 ,  235.44203,\n",
       "         291.93918,  278.07053,  308.03857,  247.46492,  401.16608,\n",
       "         722.8034 ,  309.90555,  331.91617,  221.00893,  142.21352,\n",
       "         267.49625,  246.61726,  209.94922,  192.27531,  236.17537,\n",
       "         232.6033 ,  224.82771,  175.56166,  317.164  ,  319.46332,\n",
       "         535.0646 ,  755.7353 ,  741.66077,  785.4215 ,  734.77844,\n",
       "         568.3678 ,  408.93903,  382.82242,  602.98535,  611.58386,\n",
       "         747.5147 ,  672.5023 ,  751.39215,  294.20856,  169.62318,\n",
       "         221.44656,  251.28752,  278.4898 ,  186.27274,  213.14453,\n",
       "         335.9145 ,  420.92633,  569.45844,  676.27795,  913.54443,\n",
       "        1009.89795,  828.4894 ,  517.34265,  291.82645,  225.15695,\n",
       "         347.9781 ,  412.69266,  446.8457 ,  664.49445,  874.7998 ,\n",
       "         735.3446 ,  606.7055 ,  602.7292 ,  355.39117,  171.01408,\n",
       "         294.946  ,  223.23549,  362.57895,  451.43832,  472.05273,\n",
       "         200.1031 ,  224.04953,  376.14703,  255.07227,  240.6617 ,\n",
       "         283.06403,  406.47293,  590.8931 ,  751.7821 ,  704.89716,\n",
       "         602.81976,  263.36957,  294.17926,  374.8803 ,  436.61523,\n",
       "         520.6623 ,  367.19803,  345.8138 ,  423.79172,  944.5971 ,\n",
       "        1376.7941 , 1886.8387 , 1770.5441 , 1871.7137 , 2047.2369 ,\n",
       "        2280.2334 , 1058.1946 ,  588.6117 ,  572.50726,  575.5215 ,\n",
       "         864.394  ,  741.33417,  812.158  ,  499.82065,  362.07883,\n",
       "         267.6363 ,  359.64584,  338.14996,  189.25105,  375.59457,\n",
       "         527.28253,  490.18423,  616.5076 ,  998.9725 ,  868.99316,\n",
       "         957.3623 ,  655.18494,  383.04193,  240.46101,  335.0722 ,\n",
       "         299.28592,  161.51619,  262.4738 ,  280.21637,  386.6462 ,\n",
       "         166.54109,  349.2896 ,  364.899  ,  299.82797,  354.38998,\n",
       "         394.744  ,  353.73697,  348.6843 ,  354.10562,  363.42313,\n",
       "         592.9828 ,  780.0103 ,  965.2961 ,  793.12976,  833.4164 ,\n",
       "         909.58295, 1062.7339 , 1140.2997 , 1313.5743 ,  641.04736,\n",
       "         540.37054,  500.14078,  461.0671 ,  426.41098,  471.31418,\n",
       "         462.17578,  423.69476,  526.03503,  731.72626,  721.72363,\n",
       "         396.137  ,  691.3669 ,  970.85645,  688.47394,  213.6709 ,\n",
       "         197.33342,  185.69016,  262.08496,  369.56363,  348.78027,\n",
       "         296.13797,  258.3188 ,  385.52148,  499.7902 ,  486.1988 ,\n",
       "         752.5319 ,  927.7924 ,  943.39484,  698.9339 ,  496.9114 ,\n",
       "         297.4873 ,  332.38043,  253.23926,  288.8538 ,  349.04312,\n",
       "         239.17467,  276.82114,  151.13477,  238.75125,  253.02428,\n",
       "         204.4244 ,  346.60757,  212.47238,  105.72084,  262.34375,\n",
       "         201.7239 ,  215.7041 ,  376.78558,  310.7814 ,  337.36133,\n",
       "         235.4735 ,  308.5498 ,  294.929  ,  225.6868 ,  240.45451,\n",
       "         222.18918,  220.33678,  225.05705,  347.0657 ,  264.8055 ,\n",
       "         324.60953,  306.69   ,  256.81613,  329.42535,  306.32227,\n",
       "         394.0671 ,  418.55832,  339.96664,  320.46234,  194.05762,\n",
       "         209.21164,  181.81892,  201.93582,  249.09068,  223.77832,\n",
       "         220.57004,  264.15582,  397.273  ,  389.7098 ,  499.84207,\n",
       "         555.6784 ,  932.24384,  946.50085, 1067.8873 , 1132.5228 ,\n",
       "        1369.504  , 1587.9991 , 1595.14   ,  773.4925 ,  566.30707,\n",
       "         272.26715,  428.07114,  488.56363,  313.09528,  326.7645 ,\n",
       "         333.99442,  562.0265 ,  228.69084,  112.80538,  193.40373,\n",
       "         320.8934 ,  277.73828,  310.3602 ,  474.58804,  563.7104 ,\n",
       "         540.6007 ,  320.68344,  300.4089 ,  340.57407,  256.1494 ,\n",
       "         229.63533,  193.30412,   97.44462,  289.73453,  296.33902,\n",
       "         300.08453,  268.84723,  430.7698 ,  412.9891 ,  507.98355,\n",
       "         432.19363,  486.9453 ,  782.2653 ,  864.2222 , 1141.9408 ,\n",
       "        1041.0791 ,  434.8757 ,  322.5088 ,  477.45688,  448.6568 ,\n",
       "         453.9297 ,  537.4671 ,  630.79266,  644.1042 ,  615.23926,\n",
       "         661.981  ,  753.4923 ,  565.8912 ,  349.80734,  177.2761 ,\n",
       "         280.8143 ,  350.7101 ,  341.12793,  254.86746,  400.13812,\n",
       "         371.6653 ,  655.13153,  344.78207,  192.72168,  236.34682,\n",
       "         200.42773,  244.98996,  217.60449,  231.78   ,  301.88785,\n",
       "         419.45493,  541.6631 ,  628.4581 ,  651.3535 ,  867.88965,\n",
       "         899.8083 ,  881.1074 ,  706.31305,  407.84164,  308.1956 ,\n",
       "         206.93791,  362.46527,  629.4808 ,  799.9092 , 1103.715  ,\n",
       "        1338.8617 , 1522.4156 , 1389.4785 , 1498.9935 ,  602.5618 ,\n",
       "         401.75766,  381.35184,  443.20132,  625.4626 ,  721.8085 ,\n",
       "         369.06012,  444.33023,  724.3062 ,  977.7126 ,  928.9788 ,\n",
       "        1090.9147 , 1392.0779 , 1416.5608 , 1534.776  ,  688.28625,\n",
       "         624.0265 ,  745.3835 ,  611.97723,  963.0908 , 1306.0803 ,\n",
       "        1229.196  , 1182.2662 , 1160.6964 , 1632.8263 , 1982.9198 ,\n",
       "        1964.2402 , 1451.9584 ,  977.69086,  751.4556 ,  670.11383,\n",
       "         576.5413 ,  660.61633,  921.1423 ,  933.986  , 1099.0638 ,\n",
       "        1127.7921 , 1784.7455 , 1928.2494 , 1738.9353 ,  519.8544 ,\n",
       "         351.86383,  382.55582,  279.41797,  286.97852,  444.64957,\n",
       "         524.06445,  812.87164,  702.1172 , 1185.1241 , 1936.444  ,\n",
       "        2998.6035 , 3106.7915 , 3272.4285 , 3754.8674 , 3985.6719 ,\n",
       "        2819.6091 , 1442.2737 ,  924.99664, 1048.76   , 1435.4205 ,\n",
       "        1941.1549 , 2392.2583 , 3066.7488 , 3564.672  , 3468.8667 ,\n",
       "        2778.941  , 2973.58   , 3196.7708 , 4013.3828 , 3843.7622 ,\n",
       "        4690.426  , 5606.743  , 4973.704  , 4763.646  , 5392.082  ,\n",
       "        3989.2786 , 2783.381  , 2317.9348 , 3377.1294 , 4892.4634 ,\n",
       "        4016.8472 ,  749.7868 , 1937.1635 , 1205.7411 , 1893.0837 ,\n",
       "        1984.7216 , 2087.1646 , 2499.0117 , 2734.9377 , 2688.498  ,\n",
       "        3096.6804 , 1032.0505 , 1462.5759 , 2763.013  , 2747.1277 ,\n",
       "        2394.843  , 3116.073  , 4947.859  , 4321.911  , 3174.7644 ,\n",
       "        3258.5454 , 3977.8381 , 5277.722  , 5896.2993 , 6444.6626 ,\n",
       "        6568.8833 , 7737.393  , 6596.6343 , 8730.907  , 4856.84   ,\n",
       "        2262.8923 , 2675.4983 , 2072.7913 , 2880.616  , 3589.1667 ,\n",
       "        4085.9514 , 4707.357  , 4520.7847 , 3552.6506 , 2932.0764 ,\n",
       "        4930.899  , 6215.3203 , 9350.689  , 7530.3086 , 3058.97   ,\n",
       "        2897.802  , 2561.202  , 3650.5325 , 3503.3833 , 5683.8296 ,\n",
       "        4032.9949 , 4909.603  , 3282.812  , 5097.2104 , 6419.82   ,\n",
       "        7274.4365 , 7741.2876 , 7701.358  , 6259.966  , 3790.0066 ,\n",
       "        2659.8706 , 2086.51   , 1732.6061 , 1945.6652 , 1386.0848 ,\n",
       "        1370.2081 , 1893.572  , 3176.1506 , 3377.717  , 3777.7969 ,\n",
       "        3010.346  , 2296.1697 , 2434.4028 , 3722.592  , 6299.7866 ,\n",
       "        4961.9116 , 4178.1304 , 3647.78   , 3369.9224 , 2075.7383 ,\n",
       "        1594.74   , 1145.0022 , 1040.0295 , 2063.3293 , 2247.8254 ,\n",
       "        2114.327  , 2477.009  , 4214.4155 , 4665.3    , 5054.8735 ,\n",
       "        4170.8555 , 2829.5425 , 2757.756  , 3111.298  , 4130.163  ,\n",
       "        5811.7607 , 5940.7827 , 6248.9077 , 4052.1177 , 3682.5808 ,\n",
       "        3157.7583 , 2890.7378 , 2707.888  , 3818.1887 , 5056.169  ,\n",
       "        7709.3726 , 5266.3423 , 3214.683  , 2551.5425 , 3616.1401 ,\n",
       "        2591.5864 , 2119.274  , 2509.7886 , 1917.2634 , 4258.553  ,\n",
       "        2187.7617 , 2559.914  , 2852.414  , 4750.137  , 6311.0117 ,\n",
       "        6917.495  ], dtype=float32),\n",
       " 'mse': array([1.51945672e+05, 5.12901914e+04, 4.90410859e+04, 6.07505977e+04,\n",
       "        1.24185891e+05, 1.66238656e+05, 1.38218922e+05, 1.39130141e+05,\n",
       "        1.60802641e+05, 1.73957469e+05, 3.42255188e+05, 3.02534781e+05,\n",
       "        5.25034812e+05, 5.22528188e+05, 2.53830672e+05, 1.39036156e+05,\n",
       "        1.40216328e+05, 3.11387969e+05, 2.57972000e+05, 2.89523281e+05,\n",
       "        8.15287891e+04, 7.01686797e+04, 6.50822539e+04, 6.31441328e+04,\n",
       "        6.60917656e+04, 5.99810000e+04, 8.80369297e+04, 1.03235758e+05,\n",
       "        1.04013836e+05, 4.47996602e+04, 4.10160000e+04, 3.78056133e+04,\n",
       "        1.86930605e+04, 4.58176133e+04, 7.33059609e+04, 1.13458664e+05,\n",
       "        1.32133609e+05, 1.30670289e+05, 8.37759844e+04, 2.15786500e+05,\n",
       "        5.65051312e+05, 1.08067898e+05, 1.35436141e+05, 6.17219258e+04,\n",
       "        3.05477676e+04, 7.55229219e+04, 8.23093047e+04, 6.04310664e+04,\n",
       "        5.10730703e+04, 7.25578516e+04, 7.69567031e+04, 6.63978672e+04,\n",
       "        3.59497617e+04, 1.67287359e+05, 2.16919094e+05, 4.66448562e+05,\n",
       "        7.42805938e+05, 6.43014688e+05, 6.75439688e+05, 5.83927750e+05,\n",
       "        3.74644344e+05, 2.93850969e+05, 3.22452781e+05, 5.54516188e+05,\n",
       "        5.35866250e+05, 6.85392875e+05, 5.14671188e+05, 5.89341125e+05,\n",
       "        9.86822500e+04, 3.56625664e+04, 6.18672852e+04, 7.91642344e+04,\n",
       "        8.74898359e+04, 5.44785273e+04, 6.66259453e+04, 1.42594859e+05,\n",
       "        2.41504281e+05, 5.21682812e+05, 7.20031875e+05, 1.00450644e+06,\n",
       "        1.08367962e+06, 7.02374875e+05, 2.90932062e+05, 1.28940414e+05,\n",
       "        7.14437500e+04, 1.61872781e+05, 2.34186719e+05, 3.40910000e+05,\n",
       "        6.25408375e+05, 8.78374125e+05, 6.29478062e+05, 4.72263312e+05,\n",
       "        4.51160438e+05, 1.62783719e+05, 5.88546562e+04, 1.01318062e+05,\n",
       "        7.14263906e+04, 1.63079984e+05, 2.41347406e+05, 2.83245312e+05,\n",
       "        8.19827422e+04, 7.52080156e+04, 2.12817703e+05, 8.92336094e+04,\n",
       "        1.09032188e+05, 1.38621984e+05, 1.91956859e+05, 3.99549062e+05,\n",
       "        6.99060688e+05, 5.98015688e+05, 4.11109750e+05, 1.04619695e+05,\n",
       "        1.15674711e+05, 2.33747594e+05, 2.91572594e+05, 4.02609281e+05,\n",
       "        1.63095859e+05, 1.37877969e+05, 2.03965297e+05, 1.47632312e+06,\n",
       "        2.96582575e+06, 4.75616350e+06, 4.44554400e+06, 4.76385350e+06,\n",
       "        4.71038700e+06, 5.32910000e+06, 1.41310175e+06, 4.23184781e+05,\n",
       "        4.47232219e+05, 4.92666812e+05, 8.91252812e+05, 6.72189625e+05,\n",
       "        7.89114625e+05, 2.71206844e+05, 1.77401547e+05, 8.41815703e+04,\n",
       "        1.56080234e+05, 1.86131922e+05, 6.94879922e+04, 1.71171828e+05,\n",
       "        4.24476531e+05, 4.36875406e+05, 5.75137688e+05, 1.16526625e+06,\n",
       "        8.64493312e+05, 1.04931662e+06, 4.92221281e+05, 2.00563859e+05,\n",
       "        7.63124297e+04, 1.59510766e+05, 1.44824547e+05, 3.16810293e+04,\n",
       "        8.03093750e+04, 9.56581016e+04, 2.13315969e+05, 4.72254375e+04,\n",
       "        1.67890094e+05, 1.71315359e+05, 1.50320984e+05, 1.59886844e+05,\n",
       "        1.59586922e+05, 1.70806250e+05, 1.40223109e+05, 1.43756875e+05,\n",
       "        1.52466500e+05, 4.72791969e+05, 6.92142688e+05, 1.14472438e+06,\n",
       "        9.85933500e+05, 1.15899275e+06, 1.19737212e+06, 1.47174775e+06,\n",
       "        1.45379238e+06, 1.75693662e+06, 4.47061344e+05, 4.18521344e+05,\n",
       "        3.96605250e+05, 3.89384594e+05, 3.63539406e+05, 3.57515344e+05,\n",
       "        3.40737250e+05, 2.28123500e+05, 4.37129094e+05, 8.19816500e+05,\n",
       "        6.88786000e+05, 1.98793172e+05, 5.81343938e+05, 1.01491200e+06,\n",
       "        5.47129188e+05, 6.65143281e+04, 5.76999648e+04, 6.52635078e+04,\n",
       "        8.59108594e+04, 1.81798281e+05, 1.50125109e+05, 1.02419164e+05,\n",
       "        8.72777500e+04, 1.81002703e+05, 3.55681438e+05, 3.39319406e+05,\n",
       "        8.12009438e+05, 1.08684275e+06, 1.00867212e+06, 5.57262375e+05,\n",
       "        2.95247719e+05, 1.74837984e+05, 1.92006781e+05, 9.81824531e+04,\n",
       "        1.20602375e+05, 1.82687406e+05, 1.09187359e+05, 1.23880539e+05,\n",
       "        3.96736055e+04, 1.05891008e+05, 1.12309852e+05, 6.34489180e+04,\n",
       "        1.35443078e+05, 5.69666953e+04, 2.02644316e+04, 8.32684375e+04,\n",
       "        5.59195430e+04, 7.73548516e+04, 1.70480391e+05, 1.28774234e+05,\n",
       "        1.42118594e+05, 6.41727500e+04, 1.30682766e+05, 1.45093797e+05,\n",
       "        8.55766641e+04, 9.01654844e+04, 7.60382031e+04, 5.43668203e+04,\n",
       "        6.31109961e+04, 1.39284984e+05, 9.63901875e+04, 1.39578719e+05,\n",
       "        1.14105242e+05, 8.84872734e+04, 1.44310656e+05, 1.42248953e+05,\n",
       "        1.82160750e+05, 1.99204328e+05, 1.37339359e+05, 1.40065781e+05,\n",
       "        4.08553242e+04, 4.88254648e+04, 4.14727461e+04, 5.75375273e+04,\n",
       "        7.28490703e+04, 6.50306172e+04, 6.20535078e+04, 9.78113516e+04,\n",
       "        2.27873750e+05, 2.19670125e+05, 3.37746438e+05, 4.01607250e+05,\n",
       "        1.28694238e+06, 1.44247738e+06, 1.81919825e+06, 1.85538900e+06,\n",
       "        2.29568900e+06, 2.84022875e+06, 2.65989775e+06, 6.97405125e+05,\n",
       "        3.40505438e+05, 1.05746727e+05, 2.60356516e+05, 2.89390406e+05,\n",
       "        1.20959680e+05, 1.59638844e+05, 1.64907609e+05, 4.00702344e+05,\n",
       "        1.22271930e+05, 1.94064395e+04, 6.29590859e+04, 1.62180594e+05,\n",
       "        9.51695469e+04, 1.42868641e+05, 3.52995781e+05, 4.35956969e+05,\n",
       "        3.52619281e+05, 1.25105711e+05, 1.33167406e+05, 1.56507344e+05,\n",
       "        8.85137969e+04, 8.10568750e+04, 4.16320195e+04, 1.49484463e+04,\n",
       "        1.04359484e+05, 1.06130648e+05, 9.91943203e+04, 9.29930781e+04,\n",
       "        3.11532812e+05, 2.60177484e+05, 3.47593000e+05, 2.11134141e+05,\n",
       "        3.17154031e+05, 7.14696875e+05, 8.96535688e+05, 1.57966488e+06,\n",
       "        1.21686900e+06, 2.83831938e+05, 1.47330375e+05, 2.72336531e+05,\n",
       "        2.94219719e+05, 2.68310531e+05, 4.00981000e+05, 5.51137500e+05,\n",
       "        5.70003125e+05, 5.16731156e+05, 5.09716719e+05, 6.16282562e+05,\n",
       "        3.78853969e+05, 1.60444875e+05, 4.77765234e+04, 9.53641250e+04,\n",
       "        1.42430594e+05, 1.41828828e+05, 9.28584766e+04, 2.08374953e+05,\n",
       "        2.01413016e+05, 4.74952844e+05, 1.52175125e+05, 5.06628828e+04,\n",
       "        6.40255586e+04, 4.52643086e+04, 6.39947148e+04, 5.47938867e+04,\n",
       "        6.58849453e+04, 1.31425375e+05, 2.53003469e+05, 4.38370219e+05,\n",
       "        6.05064500e+05, 6.77136500e+05, 9.78481125e+05, 9.26183125e+05,\n",
       "        8.22947875e+05, 5.20147531e+05, 2.07109859e+05, 1.29771211e+05,\n",
       "        5.97831250e+04, 1.77988766e+05, 8.36930875e+05, 1.36443075e+06,\n",
       "        2.02884988e+06, 2.39433300e+06, 2.59750850e+06, 2.06594312e+06,\n",
       "        2.37285950e+06, 4.72310156e+05, 2.75313812e+05, 1.92226219e+05,\n",
       "        3.54042562e+05, 5.62678938e+05, 6.61025500e+05, 1.81169672e+05,\n",
       "        3.10239250e+05, 9.91840875e+05, 1.72471225e+06, 1.52132725e+06,\n",
       "        1.93451138e+06, 2.26278650e+06, 2.24795075e+06, 2.50335775e+06,\n",
       "        6.85101062e+05, 4.70253281e+05, 8.68165875e+05, 6.44033625e+05,\n",
       "        1.12409175e+06, 2.16924175e+06, 2.29042475e+06, 2.11080050e+06,\n",
       "        2.22733350e+06, 3.52870825e+06, 4.61083700e+06, 4.10627475e+06,\n",
       "        2.27455575e+06, 1.09980575e+06, 6.47205562e+05, 6.01303000e+05,\n",
       "        5.61562625e+05, 6.96539062e+05, 1.28000400e+06, 1.41318638e+06,\n",
       "        1.27024838e+06, 1.94676512e+06, 3.60757475e+06, 3.97078450e+06,\n",
       "        3.15221725e+06, 3.02050000e+05, 1.30758141e+05, 2.05595500e+05,\n",
       "        1.17673016e+05, 1.30775148e+05, 2.77666406e+05, 3.60863938e+05,\n",
       "        8.12768875e+05, 7.38932812e+05, 2.64535875e+06, 7.23687700e+06,\n",
       "        1.26479510e+07, 1.39956100e+07, 1.41445760e+07, 1.62673420e+07,\n",
       "        1.64041650e+07, 7.95636700e+06, 2.26928250e+06, 1.33129938e+06,\n",
       "        2.28249650e+06, 4.10765550e+06, 6.41196250e+06, 8.62386600e+06,\n",
       "        1.18906670e+07, 1.47761330e+07, 1.39647500e+07, 1.09544220e+07,\n",
       "        1.36211300e+07, 1.40805670e+07, 2.06624740e+07, 1.94194300e+07,\n",
       "        3.16242020e+07, 4.34022080e+07, 3.68757040e+07, 3.12264600e+07,\n",
       "        3.42751560e+07, 2.11360980e+07, 1.06508250e+07, 7.53399050e+06,\n",
       "        1.73019720e+07, 2.77473740e+07, 1.75245660e+07, 7.15447875e+05,\n",
       "        4.77882950e+06, 2.73140250e+06, 7.77984150e+06, 7.36343550e+06,\n",
       "        7.79290000e+06, 9.54544500e+06, 1.08787040e+07, 9.26174100e+06,\n",
       "        1.08981890e+07, 1.74207462e+06, 3.80534250e+06, 1.02303060e+07,\n",
       "        9.48441100e+06, 7.85036250e+06, 1.17381260e+07, 2.76267800e+07,\n",
       "        2.16720460e+07, 1.51170080e+07, 1.56945070e+07, 2.00821080e+07,\n",
       "        3.96421480e+07, 4.84172720e+07, 6.09411520e+07, 6.11725000e+07,\n",
       "        7.29312720e+07, 5.19765480e+07, 7.93189280e+07, 2.45964520e+07,\n",
       "        6.96901500e+06, 9.00006200e+06, 7.87436350e+06, 1.50461460e+07,\n",
       "        2.14742940e+07, 2.60007480e+07, 3.04099180e+07, 2.59512420e+07,\n",
       "        1.41956030e+07, 9.86438600e+06, 3.36177880e+07, 4.81089960e+07,\n",
       "        9.71014480e+07, 6.03815160e+07, 1.48444090e+07, 1.13218400e+07,\n",
       "        9.80338600e+06, 1.72024580e+07, 1.43271730e+07, 3.56497480e+07,\n",
       "        2.06494120e+07, 2.90129980e+07, 2.12271300e+07, 4.03493080e+07,\n",
       "        5.50710400e+07, 6.54923840e+07, 6.99070240e+07, 6.70435640e+07,\n",
       "        4.32867400e+07, 1.55006140e+07, 9.00949400e+06, 5.91173500e+06,\n",
       "        3.98549750e+06, 4.51768350e+06, 3.56930525e+06, 2.83887725e+06,\n",
       "        5.42785200e+06, 1.34290150e+07, 1.45224020e+07, 1.88725400e+07,\n",
       "        1.40570010e+07, 6.77997150e+06, 8.35837050e+06, 2.00697420e+07,\n",
       "        4.48586960e+07, 2.79163580e+07, 1.97773480e+07, 1.51214470e+07,\n",
       "        1.27296290e+07, 5.61059550e+06, 3.63759250e+06, 1.36912688e+06,\n",
       "        1.49526175e+06, 5.08431200e+06, 6.50253550e+06, 5.20806750e+06,\n",
       "        1.25834860e+07, 2.60610060e+07, 2.91098920e+07, 3.02186760e+07,\n",
       "        1.94271680e+07, 9.22917700e+06, 9.70287100e+06, 1.13320510e+07,\n",
       "        2.23314340e+07, 4.40064840e+07, 4.12974120e+07, 4.28167280e+07,\n",
       "        2.19435240e+07, 1.68494720e+07, 1.48555940e+07, 1.23165350e+07,\n",
       "        1.03974860e+07, 1.99135800e+07, 3.25079680e+07, 6.56511920e+07,\n",
       "        3.18509080e+07, 1.29819350e+07, 9.50261000e+06, 1.49374220e+07,\n",
       "        8.39110700e+06, 6.75625600e+06, 8.78168200e+06, 5.98169200e+06,\n",
       "        1.96159960e+07, 5.14157500e+06, 9.11684700e+06, 1.13985450e+07,\n",
       "        3.03061280e+07, 5.60172720e+07, 6.20368360e+07], dtype=float32),\n",
       " 'rmse': array([ 389.8021 ,  226.47337,  221.45222,  246.47636,  352.40018,\n",
       "         407.72375,  371.77805,  373.00153,  401.00204,  417.0821 ,\n",
       "         585.0258 ,  550.0316 ,  724.59283,  722.8611 ,  503.8161 ,\n",
       "         372.87552,  374.4547 ,  558.0215 ,  507.90945,  538.07367,\n",
       "         285.53247,  264.8937 ,  255.11224,  251.28496,  257.0832 ,\n",
       "         244.91019,  296.71017,  321.30322,  322.51175,  211.6593 ,\n",
       "         202.52408,  194.43666,  136.72256,  214.05049,  270.75073,\n",
       "         336.83624,  363.50186,  361.48346,  289.44083,  464.52826,\n",
       "         751.699  ,  328.73682,  368.0165 ,  248.43898,  174.77919,\n",
       "         274.81433,  286.896  ,  245.82732,  225.99352,  269.36566,\n",
       "         277.4107 ,  257.67783,  189.60422,  409.00778,  465.74573,\n",
       "         682.9704 ,  861.8619 ,  801.88196,  821.8514 ,  764.1517 ,\n",
       "         612.082  ,  542.0802 ,  567.84924,  744.65845,  732.0289 ,\n",
       "         827.8846 ,  717.4059 ,  767.68555,  314.1373 ,  188.84535,\n",
       "         248.73135,  281.3614 ,  295.7868 ,  233.40636,  258.12003,\n",
       "         377.61734,  491.43085,  722.2761 ,  848.54694, 1002.2507 ,\n",
       "        1040.9994 ,  838.07806,  539.38116,  359.08273,  267.28964,\n",
       "         402.33417,  483.92844,  583.875  ,  790.82764,  937.2162 ,\n",
       "         793.39655,  687.2142 ,  671.68475,  403.46463,  242.5998 ,\n",
       "         318.305  ,  267.25717,  403.83163,  491.2712 ,  532.20795,\n",
       "         286.3263 ,  274.24078,  461.3217 ,  298.71994,  330.20023,\n",
       "         372.31973,  438.1288 ,  632.09894,  836.0985 ,  773.31476,\n",
       "         641.1784 ,  323.44968,  340.10986,  483.4745 ,  539.9746 ,\n",
       "         634.515  ,  403.8513 ,  371.3192 ,  451.62518, 1215.0404 ,\n",
       "        1722.1573 , 2180.863  , 2108.4458 , 2182.6255 , 2170.3425 ,\n",
       "        2308.4844 , 1188.7396 ,  650.52655,  668.7542 ,  701.9023 ,\n",
       "         944.0619 ,  819.8717 ,  888.3212 ,  520.7752 ,  421.19064,\n",
       "         290.1406 ,  395.06992,  431.43008,  263.60574,  413.7292 ,\n",
       "         651.5186 ,  660.9655 ,  758.37836, 1079.475  ,  929.7813 ,\n",
       "        1024.3616 ,  701.58484,  447.84357,  276.24704,  399.388  ,\n",
       "         380.5582 ,  177.99165,  283.3891 ,  309.28644,  461.86142,\n",
       "         217.31415,  409.74393,  413.9026 ,  387.7125 ,  399.85852,\n",
       "         399.4833 ,  413.28714,  374.46378,  379.15283,  390.46957,\n",
       "         687.5987 ,  831.9511 , 1069.918  ,  992.94183, 1076.5653 ,\n",
       "        1094.245  , 1213.1561 , 1205.7332 , 1325.4949 ,  668.62646,\n",
       "         646.93225,  629.76605,  624.0069 ,  602.94226,  597.92584,\n",
       "         583.72705,  477.62277,  661.1574 ,  905.4372 ,  829.93134,\n",
       "         445.86227,  762.45917, 1007.4284 ,  739.6818 ,  257.90372,\n",
       "         240.20818,  255.46724,  293.10553,  426.37808,  387.4598 ,\n",
       "         320.02994,  295.42807,  425.44412,  596.3903 ,  582.5113 ,\n",
       "         901.11566, 1042.5175 , 1004.3267 ,  746.50006,  543.367  ,\n",
       "         418.13632,  438.1858 ,  313.3408 ,  347.27853,  427.41946,\n",
       "         330.43512,  351.96667,  199.18234,  325.409  ,  335.12662,\n",
       "         251.89069,  368.0259 ,  238.67697,  142.3532 ,  288.5627 ,\n",
       "         236.47313,  278.1274 ,  412.8927 ,  358.85126,  376.9862 ,\n",
       "         253.32341,  361.5007 ,  380.9118 ,  292.53488,  300.2757 ,\n",
       "         275.75024,  233.16693,  251.21902,  373.20905,  310.46768,\n",
       "         373.60236,  337.79468,  297.4681 ,  379.88242,  377.15906,\n",
       "         426.80295,  446.32312,  370.59326,  374.25363,  202.127  ,\n",
       "         220.96484,  203.64859,  239.86981,  269.90567,  255.01102,\n",
       "         249.10541,  312.74808,  477.36124,  468.6898 ,  581.15955,\n",
       "         633.7249 , 1134.4348 , 1201.0317 , 1348.7766 , 1362.1266 ,\n",
       "        1515.1531 , 1685.2979 , 1630.9193 ,  835.10785,  583.52844,\n",
       "         325.18723,  510.25143,  537.9502 ,  347.79257,  399.5483 ,\n",
       "         406.08817,  633.01056,  349.67404,  139.30699,  250.91649,\n",
       "         402.71652,  308.4956 ,  377.97968,  594.13446,  660.2704 ,\n",
       "         593.81757,  353.70285,  364.92108,  395.61008,  297.5127 ,\n",
       "         284.7049 ,  204.03926,  122.26384,  323.04718,  325.77698,\n",
       "         314.9513 ,  304.94766,  558.15125,  510.07596,  589.5702 ,\n",
       "         459.49335,  563.1643 ,  845.39746,  946.8557 , 1256.8472 ,\n",
       "        1103.1178 ,  532.7588 ,  383.8364 ,  521.8587 ,  542.4202 ,\n",
       "         517.987  ,  633.2306 ,  742.38635,  754.98553,  718.84015,\n",
       "         713.94446,  785.0367 ,  615.51117,  400.5557 ,  218.57841,\n",
       "         308.81082,  377.39978,  376.60168,  304.7269 ,  456.48105,\n",
       "         448.79062,  689.1682 ,  390.0963 ,  225.08417,  253.03271,\n",
       "         212.7541 ,  252.97177,  234.08095,  256.68063,  362.52637,\n",
       "         502.9945 ,  662.09534,  777.85895,  822.88306,  989.18207,\n",
       "         962.3841 ,  907.16473,  721.2125 ,  455.09323,  360.2377 ,\n",
       "         244.50587,  421.88715,  914.83923, 1168.0885 , 1424.377  ,\n",
       "        1547.3633 , 1611.6788 , 1437.3389 , 1540.4088 ,  687.2482 ,\n",
       "         524.70355,  438.4361 ,  595.0148 ,  750.11926,  813.0347 ,\n",
       "         425.64032,  556.9913 ,  995.9121 , 1313.283  , 1233.4209 ,\n",
       "        1390.8672 , 1504.2561 , 1499.3168 , 1582.2003 ,  827.7083 ,\n",
       "         685.7502 ,  931.7542 ,  802.517  , 1060.2319 , 1472.8346 ,\n",
       "        1513.4149 , 1452.8594 , 1492.4254 , 1878.4856 , 2147.286  ,\n",
       "        2026.3945 , 1508.1631 , 1048.7162 ,  804.49084,  775.4373 ,\n",
       "         749.3748 ,  834.5892 , 1131.3726 , 1188.7751 , 1127.053  ,\n",
       "        1395.2653 , 1899.3617 , 1992.6827 , 1775.4485 ,  549.59076,\n",
       "         361.60495,  453.4264 ,  343.035  ,  361.62848,  526.9406 ,\n",
       "         600.71954,  901.5369 ,  859.612  , 1626.4559 , 2690.1445 ,\n",
       "        3556.3958 , 3741.0708 , 3760.9275 , 4033.2793 , 4050.2056 ,\n",
       "        2820.7034 , 1506.4138 , 1153.8195 , 1510.7933 , 2026.7352 ,\n",
       "        2532.1853 , 2936.6418 , 3448.2847 , 3843.9736 , 3736.9438 ,\n",
       "        3309.7466 , 3690.6814 , 3752.4082 , 4545.5996 , 4406.748  ,\n",
       "        5623.54   , 6588.035  , 6072.537  , 5588.064  , 5854.499  ,\n",
       "        4597.4014 , 3263.56   , 2744.8115 , 4159.564  , 5267.5776 ,\n",
       "        4186.2354 ,  845.8415 , 2186.0535 , 1652.6956 , 2789.2368 ,\n",
       "        2713.5652 , 2791.5767 , 3089.5703 , 3298.288  , 3043.3108 ,\n",
       "        3301.2405 , 1319.8767 , 1950.7288 , 3198.4849 , 3079.677  ,\n",
       "        2801.8499 , 3426.095  , 5256.118  , 4655.3247 , 3888.0596 ,\n",
       "        3961.6294 , 4481.3066 , 6296.201  , 6958.252  , 7806.4814 ,\n",
       "        7821.285  , 8539.98   , 7209.476  , 8906.117  , 4959.481  ,\n",
       "        2639.8892 , 3000.0103 , 2806.1296 , 3878.9363 , 4634.0366 ,\n",
       "        5099.093  , 5514.519  , 5094.2363 , 3767.7053 , 3140.762  ,\n",
       "        5798.085  , 6936.065  , 9854.007  , 7770.554  , 3852.8442 ,\n",
       "        3364.7942 , 3131.036  , 4147.5845 , 3785.1252 , 5970.741  ,\n",
       "        4544.1626 , 5386.3716 , 4607.291  , 6352.1104 , 7420.9863 ,\n",
       "        8092.7363 , 8361.042  , 8188.0137 , 6579.266  , 3937.082  ,\n",
       "        3001.582  , 2431.406  , 1996.3711 , 2125.4844 , 1889.2605 ,\n",
       "        1684.8969 , 2329.7751 , 3664.562  , 3810.827  , 4344.254  ,\n",
       "        3749.2668 , 2603.838  , 2891.0847 , 4479.927  , 6697.6636 ,\n",
       "        5283.5933 , 4447.173  , 3888.6304 , 3567.8606 , 2368.6697 ,\n",
       "        1907.2473 , 1170.0969 , 1222.809  , 2254.8418 , 2550.007  ,\n",
       "        2282.1191 , 3547.321  , 5104.998  , 5395.3584 , 5497.152  ,\n",
       "        4407.626  , 3037.956  , 3114.943  , 3366.3113 , 4725.6147 ,\n",
       "        6633.7383 , 6426.306  , 6543.449  , 4684.3916 , 4104.811  ,\n",
       "        3854.2954 , 3509.4922 , 3224.5132 , 4462.4634 , 5701.5757 ,\n",
       "        8102.5425 , 5643.6606 , 3603.0452 , 3082.6304 , 3864.896  ,\n",
       "        2896.7407 , 2599.2798 , 2963.3904 , 2445.7498 , 4428.995  ,\n",
       "        2267.5042 , 3019.4116 , 3376.173  , 5505.1    , 7484.4688 ,\n",
       "        7876.3467 ], dtype=float32),\n",
       " 'mape': array([ 4.3152595,  2.0188594,  2.098358 ,  2.590334 ,  3.507864 ,\n",
       "         4.05983  ,  3.987654 ,  3.5732248,  4.1115623,  4.86812  ,\n",
       "         6.620638 ,  6.9073834,  9.370441 ,  9.016836 ,  5.891953 ,\n",
       "         4.4815707,  4.1644034,  6.4756446,  6.28234  ,  7.085137 ,\n",
       "         3.1543899,  2.610322 ,  2.8360324,  2.7919178,  2.9130232,\n",
       "         2.836574 ,  3.5639439,  4.269089 ,  3.6541014,  2.5686696,\n",
       "         2.4443283,  2.3817568,  1.4646443,  2.2855425,  3.3225582,\n",
       "         4.163845 ,  4.0210605,  4.4198503,  3.4893148,  5.547222 ,\n",
       "         9.973388 ,  4.3081794,  4.5985026,  3.0575132,  1.963828 ,\n",
       "         3.6842566,  3.3830192,  2.8898122,  2.6606317,  3.2634742,\n",
       "         3.2011058,  3.0826483,  2.4422793,  4.3137064,  4.1429954,\n",
       "         6.8414426,  9.675219 ,  9.417341 ,  9.900169 ,  9.15856  ,\n",
       "         7.0305853,  4.9042454,  4.4424148,  7.0014315,  7.010411 ,\n",
       "         8.526818 ,  7.665904 ,  8.55264  ,  3.3572302,  1.937806 ,\n",
       "         2.5425506,  2.9299607,  3.264106 ,  2.19821  ,  2.494772 ,\n",
       "         3.8990822,  4.74329  ,  6.193485 ,  7.2635846,  9.826999 ,\n",
       "        10.835568 ,  8.865673 ,  5.523027 ,  3.0807583,  2.375832 ,\n",
       "         3.647685 ,  4.2733755,  4.527519 ,  6.7168975,  8.788131 ,\n",
       "         7.306335 ,  5.972577 ,  5.8877845,  3.4779673,  1.6656121,\n",
       "         2.9019308,  2.2131622,  3.6698945,  4.5882726,  4.844103 ,\n",
       "         2.0570254,  2.2913   ,  3.8073816,  2.6370554,  2.5981784,\n",
       "         3.11641  ,  4.4503274,  6.5475626,  8.578818 ,  8.056827 ,\n",
       "         6.908299 ,  3.0211835,  3.3370523,  4.1872582,  4.860008 ,\n",
       "         5.7971835,  4.273553 ,  4.0586157,  5.0150523, 13.535023 ,\n",
       "        21.347277 , 30.929739 , 31.000822 , 34.54145  , 37.67466  ,\n",
       "        42.453693 , 19.99558  , 10.928389 ,  9.736382 ,  9.527346 ,\n",
       "        14.100549 , 11.741003 , 12.556936 ,  7.7476673,  5.629272 ,\n",
       "         4.152989 ,  5.435055 ,  5.147794 ,  3.037996 ,  5.908021 ,\n",
       "         8.209217 ,  7.3447304,  9.173806 , 14.822391 , 12.6473   ,\n",
       "        13.748254 ,  9.261947 ,  5.310182 ,  3.3539283,  4.688532 ,\n",
       "         4.175697 ,  2.2755866,  3.7112913,  4.009101 ,  5.610077 ,\n",
       "         2.368723 ,  4.9334254,  5.1396184,  4.2028885,  4.98517  ,\n",
       "         5.56411  ,  4.880343 ,  4.801962 ,  4.888532 ,  4.959389 ,\n",
       "         7.8208528, 10.239443 , 12.144122 ,  9.551369 ,  9.714385 ,\n",
       "        10.446447 , 12.083071 , 12.921117 , 14.789496 ,  7.1240745,\n",
       "         5.7940254,  5.2227488,  4.736485 ,  4.3862066,  4.8792133,\n",
       "         4.7888484,  4.5480933,  5.8845067,  8.243259 ,  8.076181 ,\n",
       "         4.2763004,  7.2517567, 10.104879 ,  7.136824 ,  2.254013 ,\n",
       "         2.079215 ,  1.946034 ,  2.7960348,  4.0244007,  3.8484101,\n",
       "         3.266818 ,  2.8155756,  4.1818585,  5.329763 ,  5.1629176,\n",
       "         7.750936 ,  9.563998 ,  9.69779  ,  7.152261 ,  5.072725 ,\n",
       "         2.99705  ,  3.3537886,  2.6136966,  2.9589245,  3.5603774,\n",
       "         2.4397361,  2.841344 ,  1.5559542,  2.5033414,  2.677382 ,\n",
       "         2.1421475,  3.6850374,  2.247497 ,  1.11874  ,  2.7965295,\n",
       "         2.143899 ,  2.2697914,  3.978818 ,  3.2732432,  3.5718937,\n",
       "         2.505866 ,  3.280831 ,  3.1263704,  2.422523 ,  2.6336784,\n",
       "         2.4385805,  2.4119666,  2.4600718,  3.7999268,  2.903748 ,\n",
       "         3.5412903,  3.3373675,  2.770236 ,  3.555929 ,  3.298045 ,\n",
       "         4.2551875,  4.512766 ,  3.6566277,  3.440851 ,  2.1000414,\n",
       "         2.2666082,  1.9759628,  2.1957045,  2.7082465,  2.4337068,\n",
       "         2.3884149,  2.8311725,  4.2143235,  4.1098914,  5.2370114,\n",
       "         5.750479 ,  9.157612 ,  8.996905 ,  9.855409 , 10.324193 ,\n",
       "        12.380466 , 14.117254 , 14.118316 ,  6.817848 ,  4.997325 ,\n",
       "         2.3750467,  3.6901455,  4.209385 ,  2.7285907,  2.806505 ,\n",
       "         2.8462772,  4.7960715,  1.9419285,  0.9688967,  1.6702725,\n",
       "         2.7679515,  2.3682947,  2.5953944,  3.9374006,  4.685832 ,\n",
       "         4.5172997,  2.6783683,  2.5105379,  2.8476276,  2.177966 ,\n",
       "         1.9789795,  1.6635759,  0.8473946,  2.5154407,  2.5685894,\n",
       "         2.6154976,  2.3368795,  3.6745615,  3.5336175,  4.3706965,\n",
       "         3.804295 ,  4.428876 ,  7.3077955,  8.225056 , 11.089655 ,\n",
       "        10.155097 ,  4.2625027,  3.165134 ,  4.623598 ,  4.3255167,\n",
       "         4.3642335,  5.0993724,  5.889106 ,  5.962143 ,  5.663668 ,\n",
       "         6.066987 ,  6.9041147,  5.182222 ,  3.207857 ,  1.6358999,\n",
       "         2.6290715,  3.286637 ,  3.236454 ,  2.4139538,  3.7391357,\n",
       "         3.4562397,  6.0896897,  3.20879  ,  1.7958833,  2.2032678,\n",
       "         1.871669 ,  2.295122 ,  2.0442848,  2.1772895,  2.8172565,\n",
       "         3.8810837,  4.9185824,  5.640701 ,  5.7457485,  7.647024 ,\n",
       "         7.9076447,  7.713081 ,  6.1762495,  3.5574265,  2.684777 ,\n",
       "         1.7942789,  3.1119976,  5.0996323,  6.2726555,  8.619883 ,\n",
       "        10.419209 , 11.825746 , 10.713963 , 11.366323 ,  4.539885 ,\n",
       "         2.9910424,  2.839024 ,  3.244329 ,  4.57491  ,  5.267542 ,\n",
       "         2.696285 ,  3.2098536,  4.989476 ,  6.54089  ,  6.1688743,\n",
       "         7.1392407,  9.180902 ,  9.264922 ,  9.935611 ,  4.3767595,\n",
       "         3.946852 ,  4.6381392,  3.799547 ,  5.943372 ,  7.854136 ,\n",
       "         7.170122 ,  6.778362 ,  6.463541 ,  9.026744 , 10.884066 ,\n",
       "        10.718766 ,  7.8377805,  5.2383823,  4.0710635,  3.7501547,\n",
       "         3.2842357,  3.7626412,  5.1741233,  5.298338 ,  6.075199 ,\n",
       "         5.9104314,  9.397105 , 10.1177845,  9.082428 ,  2.7186198,\n",
       "         1.8441519,  2.0062706,  1.4881964,  1.5309298,  2.3911166,\n",
       "         2.7928817,  4.361503 ,  3.6932468,  5.933311 ,  9.149266 ,\n",
       "        13.952342 , 13.859662 , 14.326737 , 16.337446 , 17.226538 ,\n",
       "        12.100137 ,  6.1482315,  3.865534 ,  4.2058134,  5.5960026,\n",
       "         7.448178 ,  9.065665 , 11.402529 , 12.979581 , 12.350215 ,\n",
       "         9.401727 ,  9.6167755, 10.238152 , 12.496725 , 11.495961 ,\n",
       "        13.183477 , 15.101533 , 12.841598 , 12.18902  , 13.947015 ,\n",
       "        10.216304 ,  7.1066976,  6.3185415,  9.496322 , 13.648195 ,\n",
       "        11.219168 ,  2.0674078,  5.2437687,  3.2387142,  5.728019 ,\n",
       "         6.024177 ,  6.456063 ,  7.713053 ,  8.488358 ,  8.412025 ,\n",
       "         9.78506  ,  3.1433306,  4.3645   ,  8.239999 ,  8.207529 ,\n",
       "         7.103888 ,  9.123241 , 14.110398 , 12.087507 ,  8.616866 ,\n",
       "         8.602228 , 10.429267 , 13.1045265, 13.957135 , 14.740857 ,\n",
       "        14.537697 , 16.882238 , 14.1583185, 18.541431 , 10.219625 ,\n",
       "         4.6830792,  5.4225388,  4.0787244,  5.461137 ,  6.6991644,\n",
       "         7.4528656,  8.571207 ,  8.285781 ,  6.6473355,  5.6073837,\n",
       "        10.148333 , 12.955162 , 19.807861 , 16.01667  ,  6.591481 ,\n",
       "         6.1541057,  5.2899237,  7.487754 ,  7.1502924, 11.486539 ,\n",
       "         8.044464 ,  9.571398 ,  6.062755 ,  9.256699 , 11.556786 ,\n",
       "        12.75896  , 13.345798 , 13.230697 , 10.74809  ,  6.479351 ,\n",
       "         4.526756 ,  3.5281222,  2.9921918,  3.3854935,  2.4347675,\n",
       "         2.4378924,  3.4344547,  5.840372 ,  6.2626824,  7.0259557,\n",
       "         5.6363626,  4.2003536,  4.3380737,  6.4684877, 10.929537 ,\n",
       "         8.552723 ,  7.1737037,  6.248121 ,  5.75971  ,  3.5508842,\n",
       "         2.7269883,  1.9777563,  1.7985841,  3.5475764,  3.83707  ,\n",
       "         3.5977812,  4.0599136,  6.8690724,  7.5257764,  8.136578 ,\n",
       "         6.7191415,  4.582309 ,  4.522652 ,  5.3133984,  7.2642155,\n",
       "        10.5321665, 11.001716 , 11.7587   ,  7.924121 ,  7.171098 ,\n",
       "         6.211894 ,  5.6394978,  5.1455116,  7.008482 ,  9.089237 ,\n",
       "        13.798647 ,  9.324684 ,  5.693454 ,  4.4716487,  6.3626027,\n",
       "         4.591087 ,  3.7464354,  4.372873 ,  3.3655417,  7.4446373,\n",
       "         3.858126 ,  4.5886564,  5.420087 ,  9.378455 , 12.952023 ,\n",
       "        14.734602 ], dtype=float32),\n",
       " 'mase': 2.4934082}"
      ]
     },
     "execution_count": 59,
     "metadata": {},
     "output_type": "execute_result"
    }
   ],
   "source": [
    "# Evaluating model 3 preds\n",
    "model_3_results = evaluate_preds(\n",
    "    y_true=tf.squeeze(test_labels),\n",
    "    y_pred=model_3_preds\n",
    ")\n",
    "model_3_results"
   ]
  },
  {
   "cell_type": "code",
   "execution_count": 60,
   "metadata": {},
   "outputs": [],
   "source": [
    "# Function for evaluation matrix\n",
    "# MAKING IT WORK FOR HIGHER HORIZON\n",
    "def evaluate_preds(y_true, y_pred):\n",
    "\n",
    "    # Ensuring that we use float32 dtype (for metric calculations)\n",
    "    y_true = tf.cast(y_true, dtype=tf.float32)\n",
    "    y_pred = tf.cast(y_pred, dtype=tf.float32)\n",
    "\n",
    "    # Calculating various evaluation metrics\n",
    "    mae = tf.keras.metrics.mean_absolute_error(y_true, y_pred)\n",
    "    mse = tf.keras.metrics.mean_squared_error(y_true, y_pred)\n",
    "    rmse = tf.sqrt(mse)\n",
    "    mape = tf.keras.metrics.mean_absolute_percentage_error(y_true, y_pred)\n",
    "    mase = mean_absolute_scaled_error(y_true, y_pred)\n",
    "\n",
    "    # Account for different size metrics\n",
    "    if mae.ndim > 0:\n",
    "        mae = tf.reduce_mean(mae)\n",
    "        mse = tf.reduce_mean(mse)\n",
    "        rmse = tf.reduce_mean(rmse)\n",
    "        mape = tf.reduce_mean(mape)\n",
    "        mase = tf.reduce_mean(mase)\n",
    "\n",
    "    return {\n",
    "        \"mae\": mae.numpy(),\n",
    "        \"mse\": mse.numpy(),\n",
    "        \"rmse\": rmse.numpy(),\n",
    "        \"mape\": mape.numpy(),\n",
    "        \"mase\": mase.numpy()\n",
    "    }"
   ]
  },
  {
   "cell_type": "code",
   "execution_count": 61,
   "metadata": {},
   "outputs": [
    {
     "data": {
      "text/plain": [
       "{'mae': 1401.2289,\n",
       " 'mse': 6157680.0,\n",
       " 'rmse': 1600.738,\n",
       " 'mape': 6.287882,\n",
       " 'mase': 2.4934082}"
      ]
     },
     "execution_count": 61,
     "metadata": {},
     "output_type": "execute_result"
    }
   ],
   "source": [
    "# Re-evaluating model 3 preds\n",
    "model_3_results = evaluate_preds(\n",
    "    y_true=tf.squeeze(test_labels),\n",
    "    y_pred=model_3_preds\n",
    ")\n",
    "model_3_results"
   ]
  },
  {
   "cell_type": "code",
   "execution_count": 62,
   "metadata": {},
   "outputs": [
    {
     "data": {
      "image/png": "[encoded data removed]",
      "text/plain": [
       "<Figure size 720x504 with 1 Axes>"
      ]
     },
     "metadata": {
      "needs_background": "light"
     },
     "output_type": "display_data"
    }
   ],
   "source": [
    "# Visualising the data\n",
    "offset = 300\n",
    "plt.figure(figsize=(10, 7))\n",
    "plot_time_series(\n",
    "    timestamps=X_test[-len(test_windows):],\n",
    "    values=test_labels[:, 0],\n",
    "    start=offset,\n",
    "    label=\"Test data\"\n",
    ")\n",
    "plot_time_series(\n",
    "    timestamps=X_test[-len(test_windows):],\n",
    "    values=model_3_preds,\n",
    "    start=offset,\n",
    "    label=\"Model 3 preds\"\n",
    ")"
   ]
  },
  {
   "cell_type": "code",
   "execution_count": 63,
   "metadata": {},
   "outputs": [
    {
     "data": {
      "image/png": "[encoded data removed]",
      "text/plain": [
       "<Figure size 720x504 with 1 Axes>"
      ]
     },
     "metadata": {
      "needs_background": "light"
     },
     "output_type": "display_data"
    }
   ],
   "source": [
    "# Visualising the data\n",
    "offset = 300\n",
    "plt.figure(figsize=(10, 7))\n",
    "plot_time_series(\n",
    "    timestamps=X_test[-len(test_windows):],\n",
    "    values=test_labels[:, 0],\n",
    "    start=offset,\n",
    "    label=\"Test data\"\n",
    ")\n",
    "plot_time_series(\n",
    "    timestamps=X_test[-len(test_windows):],\n",
    "    values=tf.reduce_mean(model_3_preds, axis=1),\n",
    "    start=offset,\n",
    "    label=\"Model 3 preds\"\n",
    ")"
   ]
  },
  {
   "cell_type": "code",
   "execution_count": 64,
   "metadata": {},
   "outputs": [
    {
     "data": {
      "image/png": "[encoded data removed]",
      "text/plain": [
       "<Figure size 720x504 with 1 Axes>"
      ]
     },
     "metadata": {
      "needs_background": "light"
     },
     "output_type": "display_data"
    }
   ],
   "source": [
    "# Comparing models performance\n",
    "pd.DataFrame({\n",
    "    \"naive\": naive_results[\"mae\"],\n",
    "    \"horizon_1_window_7\": model_1_results[\"mae\"],\n",
    "    \"horizon_1_window_30\": model_2_results[\"mae\"],\n",
    "    \"horizon_7_window_30\": model_3_results[\"mae\"]\n",
    "}, index=[\"mae\"]).plot(figsize=(10, 7), kind=\"bar\");"
   ]
  },
  {
   "attachments": {},
   "cell_type": "markdown",
   "metadata": {},
   "source": [
    "### Model 4 - Using Conv1D"
   ]
  },
  {
   "cell_type": "code",
   "execution_count": 65,
   "metadata": {},
   "outputs": [],
   "source": [
    "# Defining horizon and window\n",
    "HORIZON = 1\n",
    "WINDOW_SIZE = 7"
   ]
  },
  {
   "cell_type": "code",
   "execution_count": 66,
   "metadata": {},
   "outputs": [
    {
     "data": {
      "text/plain": [
       "(2780, 2780)"
      ]
     },
     "execution_count": 66,
     "metadata": {},
     "output_type": "execute_result"
    }
   ],
   "source": [
    "# Creating windowed data\n",
    "full_windows,full_labels = make_windows(prices, window_size=WINDOW_SIZE, horizon=HORIZON)\n",
    "len(full_windows), len(full_labels)"
   ]
  },
  {
   "cell_type": "code",
   "execution_count": 67,
   "metadata": {},
   "outputs": [
    {
     "data": {
      "text/plain": [
       "(2224, 2224, 556, 556)"
      ]
     },
     "execution_count": 67,
     "metadata": {},
     "output_type": "execute_result"
    }
   ],
   "source": [
    "# Creating train / test datasets\n",
    "train_windows, test_windows, train_labels, test_labels = make_train_test_splits(full_windows, full_labels)\n",
    "len(train_windows), len(train_labels), len(test_windows), len(test_labels)"
   ]
  },
  {
   "cell_type": "code",
   "execution_count": 68,
   "metadata": {},
   "outputs": [
    {
     "data": {
      "text/plain": [
       "(7,)"
      ]
     },
     "execution_count": 68,
     "metadata": {},
     "output_type": "execute_result"
    }
   ],
   "source": [
    "# Checking data input shape\n",
    "train_windows[0].shape # returns WINDOW_SIZE"
   ]
  },
  {
   "cell_type": "code",
   "execution_count": 69,
   "metadata": {},
   "outputs": [],
   "source": [
    "# Conv1D expects input of (batch_size, timestamps, input_dim)"
   ]
  },
  {
   "cell_type": "code",
   "execution_count": 70,
   "metadata": {},
   "outputs": [
    {
     "data": {
      "text/plain": [
       "<tf.Tensor: shape=(7,), dtype=float64, numpy=\n",
       "array([123.65499, 125.455  , 108.58483, 118.67466, 121.33866, 120.65533,\n",
       "       121.795  ])>"
      ]
     },
     "execution_count": 70,
     "metadata": {},
     "output_type": "execute_result"
    }
   ],
   "source": [
    "# Reshaping the tensor\n",
    "x = tf.constant(train_windows[0])\n",
    "x"
   ]
  },
  {
   "cell_type": "code",
   "execution_count": 71,
   "metadata": {},
   "outputs": [],
   "source": [
    "# Creating Lambda layer\n",
    "expand_dim_layer = layers.Lambda(lambda x: tf.expand_dims(x, axis=1))"
   ]
  },
  {
   "cell_type": "code",
   "execution_count": 72,
   "metadata": {},
   "outputs": [
    {
     "name": "stdout",
     "output_type": "stream",
     "text": [
      "Original shape: (7,)\n",
      "Expanded shape: (7, 1)\n",
      "Original values with expanded shape:\n",
      " [[123.65499]\n",
      " [125.455  ]\n",
      " [108.58483]\n",
      " [118.67466]\n",
      " [121.33866]\n",
      " [120.65533]\n",
      " [121.795  ]]\n"
     ]
    }
   ],
   "source": [
    "# Testing Lambda layer\n",
    "print(f\"Original shape: {x.shape}\") # Output WINDOW_SIZE\n",
    "print(f\"Expanded shape: {expand_dim_layer(x).shape}\")\n",
    "print(f\"Original values with expanded shape:\\n {expand_dim_layer(x)}\")"
   ]
  },
  {
   "cell_type": "code",
   "execution_count": 73,
   "metadata": {},
   "outputs": [
    {
     "name": "stdout",
     "output_type": "stream",
     "text": [
      "Epoch 1/100\n",
      " 1/18 [>.............................] - ETA: 10s - loss: 3724.9697"
     ]
    },
    {
     "name": "stderr",
     "output_type": "stream",
     "text": [
      "WARNING:absl:Found untraced functions such as _jit_compiled_convolution_op while saving (showing 1 of 1). These functions will not be directly callable after loading.\n"
     ]
    },
    {
     "name": "stdout",
     "output_type": "stream",
     "text": [
      "INFO:tensorflow:Assets written to: model_experiments\\model_4_Conv1D\\assets\n"
     ]
    },
    {
     "name": "stderr",
     "output_type": "stream",
     "text": [
      "INFO:tensorflow:Assets written to: model_experiments\\model_4_Conv1D\\assets\n"
     ]
    },
    {
     "name": "stdout",
     "output_type": "stream",
     "text": [
      "18/18 [==============================] - 2s 79ms/step - loss: 1774.9058 - val_loss: 1040.3448\n",
      "Epoch 2/100\n",
      "18/18 [==============================] - 0s 6ms/step - loss: 339.5553 - val_loss: 1602.8940\n",
      "Epoch 3/100\n",
      "18/18 [==============================] - 0s 8ms/step - loss: 224.3300 - val_loss: 1046.6765\n",
      "Epoch 4/100\n",
      "16/18 [=========================>....] - ETA: 0s - loss: 190.2996"
     ]
    },
    {
     "name": "stderr",
     "output_type": "stream",
     "text": [
      "WARNING:absl:Found untraced functions such as _jit_compiled_convolution_op while saving (showing 1 of 1). These functions will not be directly callable after loading.\n"
     ]
    },
    {
     "name": "stdout",
     "output_type": "stream",
     "text": [
      "INFO:tensorflow:Assets written to: model_experiments\\model_4_Conv1D\\assets\n"
     ]
    },
    {
     "name": "stderr",
     "output_type": "stream",
     "text": [
      "INFO:tensorflow:Assets written to: model_experiments\\model_4_Conv1D\\assets\n"
     ]
    },
    {
     "name": "stdout",
     "output_type": "stream",
     "text": [
      "18/18 [==============================] - 1s 51ms/step - loss: 190.7036 - val_loss: 1030.4313\n",
      "Epoch 5/100\n",
      " 1/18 [>.............................] - ETA: 0s - loss: 198.9867"
     ]
    },
    {
     "name": "stderr",
     "output_type": "stream",
     "text": [
      "WARNING:absl:Found untraced functions such as _jit_compiled_convolution_op while saving (showing 1 of 1). These functions will not be directly callable after loading.\n"
     ]
    },
    {
     "name": "stdout",
     "output_type": "stream",
     "text": [
      "INFO:tensorflow:Assets written to: model_experiments\\model_4_Conv1D\\assets\n"
     ]
    },
    {
     "name": "stderr",
     "output_type": "stream",
     "text": [
      "INFO:tensorflow:Assets written to: model_experiments\\model_4_Conv1D\\assets\n"
     ]
    },
    {
     "name": "stdout",
     "output_type": "stream",
     "text": [
      "18/18 [==============================] - 1s 56ms/step - loss: 184.4047 - val_loss: 1023.8250\n",
      "Epoch 6/100\n",
      "18/18 [==============================] - ETA: 0s - loss: 181.5290"
     ]
    },
    {
     "name": "stderr",
     "output_type": "stream",
     "text": [
      "WARNING:absl:Found untraced functions such as _jit_compiled_convolution_op while saving (showing 1 of 1). These functions will not be directly callable after loading.\n"
     ]
    },
    {
     "name": "stdout",
     "output_type": "stream",
     "text": [
      "INFO:tensorflow:Assets written to: model_experiments\\model_4_Conv1D\\assets\n"
     ]
    },
    {
     "name": "stderr",
     "output_type": "stream",
     "text": [
      "INFO:tensorflow:Assets written to: model_experiments\\model_4_Conv1D\\assets\n"
     ]
    },
    {
     "name": "stdout",
     "output_type": "stream",
     "text": [
      "18/18 [==============================] - 1s 59ms/step - loss: 181.5290 - val_loss: 1022.6371\n",
      "Epoch 7/100\n",
      " 1/18 [>.............................] - ETA: 0s - loss: 231.4041"
     ]
    },
    {
     "name": "stderr",
     "output_type": "stream",
     "text": [
      "WARNING:absl:Found untraced functions such as _jit_compiled_convolution_op while saving (showing 1 of 1). These functions will not be directly callable after loading.\n"
     ]
    },
    {
     "name": "stdout",
     "output_type": "stream",
     "text": [
      "INFO:tensorflow:Assets written to: model_experiments\\model_4_Conv1D\\assets\n"
     ]
    },
    {
     "name": "stderr",
     "output_type": "stream",
     "text": [
      "INFO:tensorflow:Assets written to: model_experiments\\model_4_Conv1D\\assets\n"
     ]
    },
    {
     "name": "stdout",
     "output_type": "stream",
     "text": [
      "18/18 [==============================] - 1s 53ms/step - loss: 180.4599 - val_loss: 990.7736\n",
      "Epoch 8/100\n",
      "18/18 [==============================] - 0s 6ms/step - loss: 175.6519 - val_loss: 995.9991\n",
      "Epoch 9/100\n",
      "18/18 [==============================] - 0s 5ms/step - loss: 173.1961 - val_loss: 1002.4204\n",
      "Epoch 10/100\n",
      "17/18 [===========================>..] - ETA: 0s - loss: 169.7079"
     ]
    },
    {
     "name": "stderr",
     "output_type": "stream",
     "text": [
      "WARNING:absl:Found untraced functions such as _jit_compiled_convolution_op while saving (showing 1 of 1). These functions will not be directly callable after loading.\n"
     ]
    },
    {
     "name": "stdout",
     "output_type": "stream",
     "text": [
      "INFO:tensorflow:Assets written to: model_experiments\\model_4_Conv1D\\assets\n"
     ]
    },
    {
     "name": "stderr",
     "output_type": "stream",
     "text": [
      "INFO:tensorflow:Assets written to: model_experiments\\model_4_Conv1D\\assets\n"
     ]
    },
    {
     "name": "stdout",
     "output_type": "stream",
     "text": [
      "18/18 [==============================] - 1s 56ms/step - loss: 170.8927 - val_loss: 952.9757\n",
      "Epoch 11/100\n",
      " 1/18 [>.............................] - ETA: 0s - loss: 189.8342"
     ]
    },
    {
     "name": "stderr",
     "output_type": "stream",
     "text": [
      "WARNING:absl:Found untraced functions such as _jit_compiled_convolution_op while saving (showing 1 of 1). These functions will not be directly callable after loading.\n"
     ]
    },
    {
     "name": "stdout",
     "output_type": "stream",
     "text": [
      "INFO:tensorflow:Assets written to: model_experiments\\model_4_Conv1D\\assets\n"
     ]
    },
    {
     "name": "stderr",
     "output_type": "stream",
     "text": [
      "INFO:tensorflow:Assets written to: model_experiments\\model_4_Conv1D\\assets\n"
     ]
    },
    {
     "name": "stdout",
     "output_type": "stream",
     "text": [
      "18/18 [==============================] - 1s 66ms/step - loss: 167.9645 - val_loss: 933.1417\n",
      "Epoch 12/100\n",
      "18/18 [==============================] - 0s 6ms/step - loss: 166.5212 - val_loss: 973.1793\n",
      "Epoch 13/100\n",
      "18/18 [==============================] - 0s 7ms/step - loss: 163.4055 - val_loss: 939.8363\n",
      "Epoch 14/100\n",
      "17/18 [===========================>..] - ETA: 0s - loss: 157.5851"
     ]
    },
    {
     "name": "stderr",
     "output_type": "stream",
     "text": [
      "WARNING:absl:Found untraced functions such as _jit_compiled_convolution_op while saving (showing 1 of 1). These functions will not be directly callable after loading.\n"
     ]
    },
    {
     "name": "stdout",
     "output_type": "stream",
     "text": [
      "INFO:tensorflow:Assets written to: model_experiments\\model_4_Conv1D\\assets\n"
     ]
    },
    {
     "name": "stderr",
     "output_type": "stream",
     "text": [
      "INFO:tensorflow:Assets written to: model_experiments\\model_4_Conv1D\\assets\n"
     ]
    },
    {
     "name": "stdout",
     "output_type": "stream",
     "text": [
      "18/18 [==============================] - 1s 60ms/step - loss: 160.4025 - val_loss: 904.1772\n",
      "Epoch 15/100\n",
      "18/18 [==============================] - 0s 5ms/step - loss: 158.7034 - val_loss: 942.5839\n",
      "Epoch 16/100\n",
      " 1/18 [>.............................] - ETA: 0s - loss: 150.2330"
     ]
    },
    {
     "name": "stderr",
     "output_type": "stream",
     "text": [
      "WARNING:absl:Found untraced functions such as _jit_compiled_convolution_op while saving (showing 1 of 1). These functions will not be directly callable after loading.\n"
     ]
    },
    {
     "name": "stdout",
     "output_type": "stream",
     "text": [
      "INFO:tensorflow:Assets written to: model_experiments\\model_4_Conv1D\\assets\n"
     ]
    },
    {
     "name": "stderr",
     "output_type": "stream",
     "text": [
      "INFO:tensorflow:Assets written to: model_experiments\\model_4_Conv1D\\assets\n"
     ]
    },
    {
     "name": "stdout",
     "output_type": "stream",
     "text": [
      "18/18 [==============================] - 1s 81ms/step - loss: 155.3770 - val_loss: 860.9961\n",
      "Epoch 17/100\n",
      "18/18 [==============================] - 0s 7ms/step - loss: 152.2796 - val_loss: 899.4520\n",
      "Epoch 18/100\n",
      "17/18 [===========================>..] - ETA: 0s - loss: 151.6743"
     ]
    },
    {
     "name": "stderr",
     "output_type": "stream",
     "text": [
      "WARNING:absl:Found untraced functions such as _jit_compiled_convolution_op while saving (showing 1 of 1). These functions will not be directly callable after loading.\n"
     ]
    },
    {
     "name": "stdout",
     "output_type": "stream",
     "text": [
      "INFO:tensorflow:Assets written to: model_experiments\\model_4_Conv1D\\assets\n"
     ]
    },
    {
     "name": "stderr",
     "output_type": "stream",
     "text": [
      "INFO:tensorflow:Assets written to: model_experiments\\model_4_Conv1D\\assets\n"
     ]
    },
    {
     "name": "stdout",
     "output_type": "stream",
     "text": [
      "18/18 [==============================] - 1s 56ms/step - loss: 150.4386 - val_loss: 851.0636\n",
      "Epoch 19/100\n",
      " 1/18 [>.............................] - ETA: 0s - loss: 83.1140"
     ]
    },
    {
     "name": "stderr",
     "output_type": "stream",
     "text": [
      "WARNING:absl:Found untraced functions such as _jit_compiled_convolution_op while saving (showing 1 of 1). These functions will not be directly callable after loading.\n"
     ]
    },
    {
     "name": "stdout",
     "output_type": "stream",
     "text": [
      "INFO:tensorflow:Assets written to: model_experiments\\model_4_Conv1D\\assets\n"
     ]
    },
    {
     "name": "stderr",
     "output_type": "stream",
     "text": [
      "INFO:tensorflow:Assets written to: model_experiments\\model_4_Conv1D\\assets\n"
     ]
    },
    {
     "name": "stdout",
     "output_type": "stream",
     "text": [
      "18/18 [==============================] - 1s 52ms/step - loss: 146.4224 - val_loss: 850.4550\n",
      "Epoch 20/100\n",
      " 1/18 [>.............................] - ETA: 0s - loss: 155.7816"
     ]
    },
    {
     "name": "stderr",
     "output_type": "stream",
     "text": [
      "WARNING:absl:Found untraced functions such as _jit_compiled_convolution_op while saving (showing 1 of 1). These functions will not be directly callable after loading.\n"
     ]
    },
    {
     "name": "stdout",
     "output_type": "stream",
     "text": [
      "INFO:tensorflow:Assets written to: model_experiments\\model_4_Conv1D\\assets\n"
     ]
    },
    {
     "name": "stderr",
     "output_type": "stream",
     "text": [
      "INFO:tensorflow:Assets written to: model_experiments\\model_4_Conv1D\\assets\n"
     ]
    },
    {
     "name": "stdout",
     "output_type": "stream",
     "text": [
      "18/18 [==============================] - 1s 63ms/step - loss: 146.1208 - val_loss: 809.6960\n",
      "Epoch 21/100\n",
      " 1/18 [>.............................] - ETA: 0s - loss: 202.1432"
     ]
    },
    {
     "name": "stderr",
     "output_type": "stream",
     "text": [
      "WARNING:absl:Found untraced functions such as _jit_compiled_convolution_op while saving (showing 1 of 1). These functions will not be directly callable after loading.\n"
     ]
    },
    {
     "name": "stdout",
     "output_type": "stream",
     "text": [
      "INFO:tensorflow:Assets written to: model_experiments\\model_4_Conv1D\\assets\n"
     ]
    },
    {
     "name": "stderr",
     "output_type": "stream",
     "text": [
      "INFO:tensorflow:Assets written to: model_experiments\\model_4_Conv1D\\assets\n"
     ]
    },
    {
     "name": "stdout",
     "output_type": "stream",
     "text": [
      "18/18 [==============================] - 1s 67ms/step - loss: 143.8963 - val_loss: 781.6119\n",
      "Epoch 22/100\n",
      "18/18 [==============================] - 0s 6ms/step - loss: 142.2482 - val_loss: 781.6178\n",
      "Epoch 23/100\n",
      "18/18 [==============================] - 0s 6ms/step - loss: 138.0482 - val_loss: 795.1863\n",
      "Epoch 24/100\n",
      " 1/18 [>.............................] - ETA: 0s - loss: 155.2147"
     ]
    },
    {
     "name": "stderr",
     "output_type": "stream",
     "text": [
      "WARNING:absl:Found untraced functions such as _jit_compiled_convolution_op while saving (showing 1 of 1). These functions will not be directly callable after loading.\n"
     ]
    },
    {
     "name": "stdout",
     "output_type": "stream",
     "text": [
      "INFO:tensorflow:Assets written to: model_experiments\\model_4_Conv1D\\assets\n"
     ]
    },
    {
     "name": "stderr",
     "output_type": "stream",
     "text": [
      "INFO:tensorflow:Assets written to: model_experiments\\model_4_Conv1D\\assets\n"
     ]
    },
    {
     "name": "stdout",
     "output_type": "stream",
     "text": [
      "18/18 [==============================] - 1s 59ms/step - loss: 138.7018 - val_loss: 770.8298\n",
      "Epoch 25/100\n",
      " 1/18 [>.............................] - ETA: 0s - loss: 145.2341"
     ]
    },
    {
     "name": "stderr",
     "output_type": "stream",
     "text": [
      "WARNING:absl:Found untraced functions such as _jit_compiled_convolution_op while saving (showing 1 of 1). These functions will not be directly callable after loading.\n"
     ]
    },
    {
     "name": "stdout",
     "output_type": "stream",
     "text": [
      "INFO:tensorflow:Assets written to: model_experiments\\model_4_Conv1D\\assets\n"
     ]
    },
    {
     "name": "stderr",
     "output_type": "stream",
     "text": [
      "INFO:tensorflow:Assets written to: model_experiments\\model_4_Conv1D\\assets\n"
     ]
    },
    {
     "name": "stdout",
     "output_type": "stream",
     "text": [
      "18/18 [==============================] - 1s 67ms/step - loss: 136.6812 - val_loss: 749.0417\n",
      "Epoch 26/100\n",
      "18/18 [==============================] - ETA: 0s - loss: 132.2738"
     ]
    },
    {
     "name": "stderr",
     "output_type": "stream",
     "text": [
      "WARNING:absl:Found untraced functions such as _jit_compiled_convolution_op while saving (showing 1 of 1). These functions will not be directly callable after loading.\n"
     ]
    },
    {
     "name": "stdout",
     "output_type": "stream",
     "text": [
      "INFO:tensorflow:Assets written to: model_experiments\\model_4_Conv1D\\assets\n"
     ]
    },
    {
     "name": "stderr",
     "output_type": "stream",
     "text": [
      "INFO:tensorflow:Assets written to: model_experiments\\model_4_Conv1D\\assets\n"
     ]
    },
    {
     "name": "stdout",
     "output_type": "stream",
     "text": [
      "18/18 [==============================] - 1s 57ms/step - loss: 132.2738 - val_loss: 729.1167\n",
      "Epoch 27/100\n",
      "18/18 [==============================] - 0s 7ms/step - loss: 132.1506 - val_loss: 741.6991\n",
      "Epoch 28/100\n",
      "13/18 [====================>.........] - ETA: 0s - loss: 130.6947"
     ]
    },
    {
     "name": "stderr",
     "output_type": "stream",
     "text": [
      "WARNING:absl:Found untraced functions such as _jit_compiled_convolution_op while saving (showing 1 of 1). These functions will not be directly callable after loading.\n"
     ]
    },
    {
     "name": "stdout",
     "output_type": "stream",
     "text": [
      "INFO:tensorflow:Assets written to: model_experiments\\model_4_Conv1D\\assets\n"
     ]
    },
    {
     "name": "stderr",
     "output_type": "stream",
     "text": [
      "INFO:tensorflow:Assets written to: model_experiments\\model_4_Conv1D\\assets\n"
     ]
    },
    {
     "name": "stdout",
     "output_type": "stream",
     "text": [
      "18/18 [==============================] - 1s 58ms/step - loss: 130.2815 - val_loss: 707.6639\n",
      "Epoch 29/100\n",
      " 1/18 [>.............................] - ETA: 0s - loss: 123.9233"
     ]
    },
    {
     "name": "stderr",
     "output_type": "stream",
     "text": [
      "WARNING:absl:Found untraced functions such as _jit_compiled_convolution_op while saving (showing 1 of 1). These functions will not be directly callable after loading.\n"
     ]
    },
    {
     "name": "stdout",
     "output_type": "stream",
     "text": [
      "INFO:tensorflow:Assets written to: model_experiments\\model_4_Conv1D\\assets\n"
     ]
    },
    {
     "name": "stderr",
     "output_type": "stream",
     "text": [
      "INFO:tensorflow:Assets written to: model_experiments\\model_4_Conv1D\\assets\n"
     ]
    },
    {
     "name": "stdout",
     "output_type": "stream",
     "text": [
      "18/18 [==============================] - 1s 72ms/step - loss: 127.9413 - val_loss: 698.2043\n",
      "Epoch 30/100\n",
      "18/18 [==============================] - 0s 7ms/step - loss: 129.8302 - val_loss: 764.0635\n",
      "Epoch 31/100\n",
      "18/18 [==============================] - 0s 7ms/step - loss: 137.0294 - val_loss: 802.3538\n",
      "Epoch 32/100\n",
      "17/18 [===========================>..] - ETA: 0s - loss: 133.3964"
     ]
    },
    {
     "name": "stderr",
     "output_type": "stream",
     "text": [
      "WARNING:absl:Found untraced functions such as _jit_compiled_convolution_op while saving (showing 1 of 1). These functions will not be directly callable after loading.\n"
     ]
    },
    {
     "name": "stdout",
     "output_type": "stream",
     "text": [
      "INFO:tensorflow:Assets written to: model_experiments\\model_4_Conv1D\\assets\n"
     ]
    },
    {
     "name": "stderr",
     "output_type": "stream",
     "text": [
      "INFO:tensorflow:Assets written to: model_experiments\\model_4_Conv1D\\assets\n"
     ]
    },
    {
     "name": "stdout",
     "output_type": "stream",
     "text": [
      "18/18 [==============================] - 1s 58ms/step - loss: 132.6473 - val_loss: 692.9296\n",
      "Epoch 33/100\n",
      " 1/18 [>.............................] - ETA: 0s - loss: 152.4009"
     ]
    },
    {
     "name": "stderr",
     "output_type": "stream",
     "text": [
      "WARNING:absl:Found untraced functions such as _jit_compiled_convolution_op while saving (showing 1 of 1). These functions will not be directly callable after loading.\n"
     ]
    },
    {
     "name": "stdout",
     "output_type": "stream",
     "text": [
      "INFO:tensorflow:Assets written to: model_experiments\\model_4_Conv1D\\assets\n"
     ]
    },
    {
     "name": "stderr",
     "output_type": "stream",
     "text": [
      "INFO:tensorflow:Assets written to: model_experiments\\model_4_Conv1D\\assets\n"
     ]
    },
    {
     "name": "stdout",
     "output_type": "stream",
     "text": [
      "18/18 [==============================] - 1s 59ms/step - loss: 126.4943 - val_loss: 680.4900\n",
      "Epoch 34/100\n",
      " 1/18 [>.............................] - ETA: 0s - loss: 133.6098"
     ]
    },
    {
     "name": "stderr",
     "output_type": "stream",
     "text": [
      "WARNING:absl:Found untraced functions such as _jit_compiled_convolution_op while saving (showing 1 of 1). These functions will not be directly callable after loading.\n"
     ]
    },
    {
     "name": "stdout",
     "output_type": "stream",
     "text": [
      "INFO:tensorflow:Assets written to: model_experiments\\model_4_Conv1D\\assets\n"
     ]
    },
    {
     "name": "stderr",
     "output_type": "stream",
     "text": [
      "INFO:tensorflow:Assets written to: model_experiments\\model_4_Conv1D\\assets\n"
     ]
    },
    {
     "name": "stdout",
     "output_type": "stream",
     "text": [
      "18/18 [==============================] - 1s 52ms/step - loss: 122.6809 - val_loss: 665.4240\n",
      "Epoch 35/100\n",
      " 1/18 [>.............................] - ETA: 0s - loss: 109.8800"
     ]
    },
    {
     "name": "stderr",
     "output_type": "stream",
     "text": [
      "WARNING:absl:Found untraced functions such as _jit_compiled_convolution_op while saving (showing 1 of 1). These functions will not be directly callable after loading.\n"
     ]
    },
    {
     "name": "stdout",
     "output_type": "stream",
     "text": [
      "INFO:tensorflow:Assets written to: model_experiments\\model_4_Conv1D\\assets\n"
     ]
    },
    {
     "name": "stderr",
     "output_type": "stream",
     "text": [
      "INFO:tensorflow:Assets written to: model_experiments\\model_4_Conv1D\\assets\n"
     ]
    },
    {
     "name": "stdout",
     "output_type": "stream",
     "text": [
      "18/18 [==============================] - 1s 61ms/step - loss: 121.8060 - val_loss: 663.1722\n",
      "Epoch 36/100\n",
      "18/18 [==============================] - 0s 6ms/step - loss: 125.3447 - val_loss: 738.6930\n",
      "Epoch 37/100\n",
      "15/18 [========================>.....] - ETA: 0s - loss: 125.0495"
     ]
    },
    {
     "name": "stderr",
     "output_type": "stream",
     "text": [
      "WARNING:absl:Found untraced functions such as _jit_compiled_convolution_op while saving (showing 1 of 1). These functions will not be directly callable after loading.\n"
     ]
    },
    {
     "name": "stdout",
     "output_type": "stream",
     "text": [
      "INFO:tensorflow:Assets written to: model_experiments\\model_4_Conv1D\\assets\n"
     ]
    },
    {
     "name": "stderr",
     "output_type": "stream",
     "text": [
      "INFO:tensorflow:Assets written to: model_experiments\\model_4_Conv1D\\assets\n"
     ]
    },
    {
     "name": "stdout",
     "output_type": "stream",
     "text": [
      "18/18 [==============================] - 1s 54ms/step - loss: 122.7556 - val_loss: 647.3666\n",
      "Epoch 38/100\n",
      "18/18 [==============================] - ETA: 0s - loss: 119.9048"
     ]
    },
    {
     "name": "stderr",
     "output_type": "stream",
     "text": [
      "WARNING:absl:Found untraced functions such as _jit_compiled_convolution_op while saving (showing 1 of 1). These functions will not be directly callable after loading.\n"
     ]
    },
    {
     "name": "stdout",
     "output_type": "stream",
     "text": [
      "INFO:tensorflow:Assets written to: model_experiments\\model_4_Conv1D\\assets\n"
     ]
    },
    {
     "name": "stderr",
     "output_type": "stream",
     "text": [
      "INFO:tensorflow:Assets written to: model_experiments\\model_4_Conv1D\\assets\n"
     ]
    },
    {
     "name": "stdout",
     "output_type": "stream",
     "text": [
      "18/18 [==============================] - 1s 69ms/step - loss: 119.9048 - val_loss: 643.6805\n",
      "Epoch 39/100\n",
      "18/18 [==============================] - ETA: 0s - loss: 119.1337"
     ]
    },
    {
     "name": "stderr",
     "output_type": "stream",
     "text": [
      "WARNING:absl:Found untraced functions such as _jit_compiled_convolution_op while saving (showing 1 of 1). These functions will not be directly callable after loading.\n"
     ]
    },
    {
     "name": "stdout",
     "output_type": "stream",
     "text": [
      "INFO:tensorflow:Assets written to: model_experiments\\model_4_Conv1D\\assets\n"
     ]
    },
    {
     "name": "stderr",
     "output_type": "stream",
     "text": [
      "INFO:tensorflow:Assets written to: model_experiments\\model_4_Conv1D\\assets\n"
     ]
    },
    {
     "name": "stdout",
     "output_type": "stream",
     "text": [
      "18/18 [==============================] - 1s 64ms/step - loss: 119.1337 - val_loss: 638.1037\n",
      "Epoch 40/100\n",
      "18/18 [==============================] - 0s 5ms/step - loss: 118.3760 - val_loss: 640.7490\n",
      "Epoch 41/100\n",
      " 1/18 [>.............................] - ETA: 0s - loss: 107.9745"
     ]
    },
    {
     "name": "stderr",
     "output_type": "stream",
     "text": [
      "WARNING:absl:Found untraced functions such as _jit_compiled_convolution_op while saving (showing 1 of 1). These functions will not be directly callable after loading.\n"
     ]
    },
    {
     "name": "stdout",
     "output_type": "stream",
     "text": [
      "INFO:tensorflow:Assets written to: model_experiments\\model_4_Conv1D\\assets\n"
     ]
    },
    {
     "name": "stderr",
     "output_type": "stream",
     "text": [
      "INFO:tensorflow:Assets written to: model_experiments\\model_4_Conv1D\\assets\n"
     ]
    },
    {
     "name": "stdout",
     "output_type": "stream",
     "text": [
      "18/18 [==============================] - 1s 60ms/step - loss: 120.2275 - val_loss: 635.2375\n",
      "Epoch 42/100\n",
      "18/18 [==============================] - ETA: 0s - loss: 121.8416"
     ]
    },
    {
     "name": "stderr",
     "output_type": "stream",
     "text": [
      "WARNING:absl:Found untraced functions such as _jit_compiled_convolution_op while saving (showing 1 of 1). These functions will not be directly callable after loading.\n"
     ]
    },
    {
     "name": "stdout",
     "output_type": "stream",
     "text": [
      "INFO:tensorflow:Assets written to: model_experiments\\model_4_Conv1D\\assets\n"
     ]
    },
    {
     "name": "stderr",
     "output_type": "stream",
     "text": [
      "INFO:tensorflow:Assets written to: model_experiments\\model_4_Conv1D\\assets\n"
     ]
    },
    {
     "name": "stdout",
     "output_type": "stream",
     "text": [
      "18/18 [==============================] - 1s 74ms/step - loss: 121.8416 - val_loss: 627.0167\n",
      "Epoch 43/100\n",
      "18/18 [==============================] - 0s 10ms/step - loss: 116.7422 - val_loss: 638.4672\n",
      "Epoch 44/100\n",
      "13/18 [====================>.........] - ETA: 0s - loss: 114.2538"
     ]
    },
    {
     "name": "stderr",
     "output_type": "stream",
     "text": [
      "WARNING:absl:Found untraced functions such as _jit_compiled_convolution_op while saving (showing 1 of 1). These functions will not be directly callable after loading.\n"
     ]
    },
    {
     "name": "stdout",
     "output_type": "stream",
     "text": [
      "INFO:tensorflow:Assets written to: model_experiments\\model_4_Conv1D\\assets\n"
     ]
    },
    {
     "name": "stderr",
     "output_type": "stream",
     "text": [
      "INFO:tensorflow:Assets written to: model_experiments\\model_4_Conv1D\\assets\n"
     ]
    },
    {
     "name": "stdout",
     "output_type": "stream",
     "text": [
      "18/18 [==============================] - 1s 73ms/step - loss: 117.4024 - val_loss: 622.3439\n",
      "Epoch 45/100\n",
      "18/18 [==============================] - 0s 5ms/step - loss: 117.0813 - val_loss: 628.2603\n",
      "Epoch 46/100\n",
      " 1/18 [>.............................] - ETA: 0s - loss: 90.5536"
     ]
    },
    {
     "name": "stderr",
     "output_type": "stream",
     "text": [
      "WARNING:absl:Found untraced functions such as _jit_compiled_convolution_op while saving (showing 1 of 1). These functions will not be directly callable after loading.\n"
     ]
    },
    {
     "name": "stdout",
     "output_type": "stream",
     "text": [
      "INFO:tensorflow:Assets written to: model_experiments\\model_4_Conv1D\\assets\n"
     ]
    },
    {
     "name": "stderr",
     "output_type": "stream",
     "text": [
      "INFO:tensorflow:Assets written to: model_experiments\\model_4_Conv1D\\assets\n"
     ]
    },
    {
     "name": "stdout",
     "output_type": "stream",
     "text": [
      "18/18 [==============================] - 1s 60ms/step - loss: 117.3354 - val_loss: 615.4778\n",
      "Epoch 47/100\n",
      "18/18 [==============================] - 0s 6ms/step - loss: 119.1471 - val_loss: 693.1344\n",
      "Epoch 48/100\n",
      "18/18 [==============================] - 0s 7ms/step - loss: 115.1240 - val_loss: 617.1550\n",
      "Epoch 49/100\n",
      "15/18 [========================>.....] - ETA: 0s - loss: 114.3598"
     ]
    },
    {
     "name": "stderr",
     "output_type": "stream",
     "text": [
      "WARNING:absl:Found untraced functions such as _jit_compiled_convolution_op while saving (showing 1 of 1). These functions will not be directly callable after loading.\n"
     ]
    },
    {
     "name": "stdout",
     "output_type": "stream",
     "text": [
      "INFO:tensorflow:Assets written to: model_experiments\\model_4_Conv1D\\assets\n"
     ]
    },
    {
     "name": "stderr",
     "output_type": "stream",
     "text": [
      "INFO:tensorflow:Assets written to: model_experiments\\model_4_Conv1D\\assets\n"
     ]
    },
    {
     "name": "stdout",
     "output_type": "stream",
     "text": [
      "18/18 [==============================] - 1s 60ms/step - loss: 114.6898 - val_loss: 613.3678\n",
      "Epoch 50/100\n",
      "12/18 [===================>..........] - ETA: 0s - loss: 113.9871"
     ]
    },
    {
     "name": "stderr",
     "output_type": "stream",
     "text": [
      "WARNING:absl:Found untraced functions such as _jit_compiled_convolution_op while saving (showing 1 of 1). These functions will not be directly callable after loading.\n"
     ]
    },
    {
     "name": "stdout",
     "output_type": "stream",
     "text": [
      "INFO:tensorflow:Assets written to: model_experiments\\model_4_Conv1D\\assets\n"
     ]
    },
    {
     "name": "stderr",
     "output_type": "stream",
     "text": [
      "INFO:tensorflow:Assets written to: model_experiments\\model_4_Conv1D\\assets\n"
     ]
    },
    {
     "name": "stdout",
     "output_type": "stream",
     "text": [
      "18/18 [==============================] - 1s 61ms/step - loss: 115.5624 - val_loss: 611.6682\n",
      "Epoch 51/100\n",
      "17/18 [===========================>..] - ETA: 0s - loss: 115.5397"
     ]
    },
    {
     "name": "stderr",
     "output_type": "stream",
     "text": [
      "WARNING:absl:Found untraced functions such as _jit_compiled_convolution_op while saving (showing 1 of 1). These functions will not be directly callable after loading.\n"
     ]
    },
    {
     "name": "stdout",
     "output_type": "stream",
     "text": [
      "INFO:tensorflow:Assets written to: model_experiments\\model_4_Conv1D\\assets\n"
     ]
    },
    {
     "name": "stderr",
     "output_type": "stream",
     "text": [
      "INFO:tensorflow:Assets written to: model_experiments\\model_4_Conv1D\\assets\n"
     ]
    },
    {
     "name": "stdout",
     "output_type": "stream",
     "text": [
      "18/18 [==============================] - 1s 56ms/step - loss: 115.0825 - val_loss: 610.2292\n",
      "Epoch 52/100\n",
      "18/18 [==============================] - 0s 6ms/step - loss: 114.7615 - val_loss: 619.6232\n",
      "Epoch 53/100\n",
      "18/18 [==============================] - 0s 6ms/step - loss: 116.8779 - val_loss: 632.6898\n",
      "Epoch 54/100\n",
      "18/18 [==============================] - 0s 5ms/step - loss: 118.3426 - val_loss: 648.9536\n",
      "Epoch 55/100\n",
      "18/18 [==============================] - 0s 8ms/step - loss: 116.2348 - val_loss: 620.3669\n",
      "Epoch 56/100\n",
      "18/18 [==============================] - 0s 6ms/step - loss: 113.8689 - val_loss: 810.0323\n",
      "Epoch 57/100\n",
      "18/18 [==============================] - 0s 6ms/step - loss: 132.2008 - val_loss: 668.3065\n",
      "Epoch 58/100\n",
      "18/18 [==============================] - 0s 7ms/step - loss: 121.0217 - val_loss: 632.8726\n",
      "Epoch 59/100\n",
      "16/18 [=========================>....] - ETA: 0s - loss: 112.7263"
     ]
    },
    {
     "name": "stderr",
     "output_type": "stream",
     "text": [
      "WARNING:absl:Found untraced functions such as _jit_compiled_convolution_op while saving (showing 1 of 1). These functions will not be directly callable after loading.\n"
     ]
    },
    {
     "name": "stdout",
     "output_type": "stream",
     "text": [
      "INFO:tensorflow:Assets written to: model_experiments\\model_4_Conv1D\\assets\n"
     ]
    },
    {
     "name": "stderr",
     "output_type": "stream",
     "text": [
      "INFO:tensorflow:Assets written to: model_experiments\\model_4_Conv1D\\assets\n"
     ]
    },
    {
     "name": "stdout",
     "output_type": "stream",
     "text": [
      "18/18 [==============================] - 1s 58ms/step - loss: 112.7230 - val_loss: 604.4555\n",
      "Epoch 60/100\n",
      "18/18 [==============================] - 0s 6ms/step - loss: 113.8313 - val_loss: 635.0690\n",
      "Epoch 61/100\n",
      " 1/18 [>.............................] - ETA: 0s - loss: 143.8126"
     ]
    },
    {
     "name": "stderr",
     "output_type": "stream",
     "text": [
      "WARNING:absl:Found untraced functions such as _jit_compiled_convolution_op while saving (showing 1 of 1). These functions will not be directly callable after loading.\n"
     ]
    },
    {
     "name": "stdout",
     "output_type": "stream",
     "text": [
      "INFO:tensorflow:Assets written to: model_experiments\\model_4_Conv1D\\assets\n"
     ]
    },
    {
     "name": "stderr",
     "output_type": "stream",
     "text": [
      "INFO:tensorflow:Assets written to: model_experiments\\model_4_Conv1D\\assets\n"
     ]
    },
    {
     "name": "stdout",
     "output_type": "stream",
     "text": [
      "18/18 [==============================] - 1s 67ms/step - loss: 113.2948 - val_loss: 599.2170\n",
      "Epoch 62/100\n",
      " 1/18 [>.............................] - ETA: 0s - loss: 79.4308"
     ]
    },
    {
     "name": "stderr",
     "output_type": "stream",
     "text": [
      "WARNING:absl:Found untraced functions such as _jit_compiled_convolution_op while saving (showing 1 of 1). These functions will not be directly callable after loading.\n"
     ]
    },
    {
     "name": "stdout",
     "output_type": "stream",
     "text": [
      "INFO:tensorflow:Assets written to: model_experiments\\model_4_Conv1D\\assets\n"
     ]
    },
    {
     "name": "stderr",
     "output_type": "stream",
     "text": [
      "INFO:tensorflow:Assets written to: model_experiments\\model_4_Conv1D\\assets\n"
     ]
    },
    {
     "name": "stdout",
     "output_type": "stream",
     "text": [
      "18/18 [==============================] - 1s 54ms/step - loss: 110.5159 - val_loss: 591.9501\n",
      "Epoch 63/100\n",
      "18/18 [==============================] - 0s 7ms/step - loss: 112.4485 - val_loss: 593.8732\n",
      "Epoch 64/100\n",
      "18/18 [==============================] - 0s 7ms/step - loss: 112.4068 - val_loss: 668.3143\n",
      "Epoch 65/100\n",
      "12/18 [===================>..........] - ETA: 0s - loss: 120.1098"
     ]
    },
    {
     "name": "stderr",
     "output_type": "stream",
     "text": [
      "WARNING:absl:Found untraced functions such as _jit_compiled_convolution_op while saving (showing 1 of 1). These functions will not be directly callable after loading.\n"
     ]
    },
    {
     "name": "stdout",
     "output_type": "stream",
     "text": [
      "INFO:tensorflow:Assets written to: model_experiments\\model_4_Conv1D\\assets\n"
     ]
    },
    {
     "name": "stderr",
     "output_type": "stream",
     "text": [
      "INFO:tensorflow:Assets written to: model_experiments\\model_4_Conv1D\\assets\n"
     ]
    },
    {
     "name": "stdout",
     "output_type": "stream",
     "text": [
      "18/18 [==============================] - 1s 54ms/step - loss: 117.7839 - val_loss: 589.7792\n",
      "Epoch 66/100\n",
      "18/18 [==============================] - 0s 6ms/step - loss: 112.7711 - val_loss: 590.2522\n",
      "Epoch 67/100\n",
      "18/18 [==============================] - 0s 6ms/step - loss: 109.4864 - val_loss: 631.6322\n",
      "Epoch 68/100\n",
      "18/18 [==============================] - 0s 7ms/step - loss: 117.0024 - val_loss: 693.7785\n",
      "Epoch 69/100\n",
      "18/18 [==============================] - 0s 7ms/step - loss: 127.2571 - val_loss: 705.4507\n",
      "Epoch 70/100\n",
      "18/18 [==============================] - 0s 7ms/step - loss: 121.1917 - val_loss: 592.5920\n",
      "Epoch 71/100\n",
      "18/18 [==============================] - 0s 7ms/step - loss: 112.2733 - val_loss: 593.2375\n",
      "Epoch 72/100\n",
      "14/18 [======================>.......] - ETA: 0s - loss: 110.4490"
     ]
    },
    {
     "name": "stderr",
     "output_type": "stream",
     "text": [
      "WARNING:absl:Found untraced functions such as _jit_compiled_convolution_op while saving (showing 1 of 1). These functions will not be directly callable after loading.\n"
     ]
    },
    {
     "name": "stdout",
     "output_type": "stream",
     "text": [
      "INFO:tensorflow:Assets written to: model_experiments\\model_4_Conv1D\\assets\n"
     ]
    },
    {
     "name": "stderr",
     "output_type": "stream",
     "text": [
      "INFO:tensorflow:Assets written to: model_experiments\\model_4_Conv1D\\assets\n"
     ]
    },
    {
     "name": "stdout",
     "output_type": "stream",
     "text": [
      "18/18 [==============================] - 1s 47ms/step - loss: 110.5690 - val_loss: 581.1668\n",
      "Epoch 73/100\n",
      "18/18 [==============================] - 0s 6ms/step - loss: 111.3654 - val_loss: 615.6133\n",
      "Epoch 74/100\n",
      "18/18 [==============================] - 0s 5ms/step - loss: 110.7391 - val_loss: 586.0356\n",
      "Epoch 75/100\n",
      "18/18 [==============================] - 0s 7ms/step - loss: 110.0097 - val_loss: 598.0346\n",
      "Epoch 76/100\n",
      "15/18 [========================>.....] - ETA: 0s - loss: 111.4030"
     ]
    },
    {
     "name": "stderr",
     "output_type": "stream",
     "text": [
      "WARNING:absl:Found untraced functions such as _jit_compiled_convolution_op while saving (showing 1 of 1). These functions will not be directly callable after loading.\n"
     ]
    },
    {
     "name": "stdout",
     "output_type": "stream",
     "text": [
      "INFO:tensorflow:Assets written to: model_experiments\\model_4_Conv1D\\assets\n"
     ]
    },
    {
     "name": "stderr",
     "output_type": "stream",
     "text": [
      "INFO:tensorflow:Assets written to: model_experiments\\model_4_Conv1D\\assets\n"
     ]
    },
    {
     "name": "stdout",
     "output_type": "stream",
     "text": [
      "18/18 [==============================] - 1s 55ms/step - loss: 111.0819 - val_loss: 579.2409\n",
      "Epoch 77/100\n",
      "18/18 [==============================] - 0s 6ms/step - loss: 112.7714 - val_loss: 592.3929\n",
      "Epoch 78/100\n",
      "18/18 [==============================] - ETA: 0s - loss: 109.2374"
     ]
    },
    {
     "name": "stderr",
     "output_type": "stream",
     "text": [
      "WARNING:absl:Found untraced functions such as _jit_compiled_convolution_op while saving (showing 1 of 1). These functions will not be directly callable after loading.\n"
     ]
    },
    {
     "name": "stdout",
     "output_type": "stream",
     "text": [
      "INFO:tensorflow:Assets written to: model_experiments\\model_4_Conv1D\\assets\n"
     ]
    },
    {
     "name": "stderr",
     "output_type": "stream",
     "text": [
      "INFO:tensorflow:Assets written to: model_experiments\\model_4_Conv1D\\assets\n"
     ]
    },
    {
     "name": "stdout",
     "output_type": "stream",
     "text": [
      "18/18 [==============================] - 1s 74ms/step - loss: 109.2374 - val_loss: 577.9925\n",
      "Epoch 79/100\n",
      "18/18 [==============================] - 0s 6ms/step - loss: 110.0629 - val_loss: 592.2463\n",
      "Epoch 80/100\n",
      "18/18 [==============================] - 0s 6ms/step - loss: 109.2859 - val_loss: 581.0316\n",
      "Epoch 81/100\n",
      " 1/18 [>.............................] - ETA: 0s - loss: 94.2874"
     ]
    },
    {
     "name": "stderr",
     "output_type": "stream",
     "text": [
      "WARNING:absl:Found untraced functions such as _jit_compiled_convolution_op while saving (showing 1 of 1). These functions will not be directly callable after loading.\n"
     ]
    },
    {
     "name": "stdout",
     "output_type": "stream",
     "text": [
      "INFO:tensorflow:Assets written to: model_experiments\\model_4_Conv1D\\assets\n"
     ]
    },
    {
     "name": "stderr",
     "output_type": "stream",
     "text": [
      "INFO:tensorflow:Assets written to: model_experiments\\model_4_Conv1D\\assets\n"
     ]
    },
    {
     "name": "stdout",
     "output_type": "stream",
     "text": [
      "18/18 [==============================] - 1s 55ms/step - loss: 109.1526 - val_loss: 574.2012\n",
      "Epoch 82/100\n",
      "18/18 [==============================] - 0s 5ms/step - loss: 115.1627 - val_loss: 574.8309\n",
      "Epoch 83/100\n",
      "18/18 [==============================] - 0s 7ms/step - loss: 113.6033 - val_loss: 669.2269\n",
      "Epoch 84/100\n",
      "18/18 [==============================] - 0s 7ms/step - loss: 116.8398 - val_loss: 575.5671\n",
      "Epoch 85/100\n",
      "18/18 [==============================] - 0s 7ms/step - loss: 110.1392 - val_loss: 574.2281\n",
      "Epoch 86/100\n",
      "18/18 [==============================] - 0s 7ms/step - loss: 109.0103 - val_loss: 631.5152\n",
      "Epoch 87/100\n",
      "18/18 [==============================] - 0s 7ms/step - loss: 113.1206 - val_loss: 576.9920\n",
      "Epoch 88/100\n",
      "18/18 [==============================] - 0s 7ms/step - loss: 109.7181 - val_loss: 593.4203\n",
      "Epoch 89/100\n",
      "18/18 [==============================] - 0s 6ms/step - loss: 110.4908 - val_loss: 577.8613\n",
      "Epoch 90/100\n",
      "18/18 [==============================] - 0s 6ms/step - loss: 107.6278 - val_loss: 652.2073\n",
      "Epoch 91/100\n",
      "18/18 [==============================] - 0s 6ms/step - loss: 113.9258 - val_loss: 636.7805\n",
      "Epoch 92/100\n",
      " 1/18 [>.............................] - ETA: 0s - loss: 102.2341"
     ]
    },
    {
     "name": "stderr",
     "output_type": "stream",
     "text": [
      "WARNING:absl:Found untraced functions such as _jit_compiled_convolution_op while saving (showing 1 of 1). These functions will not be directly callable after loading.\n"
     ]
    },
    {
     "name": "stdout",
     "output_type": "stream",
     "text": [
      "INFO:tensorflow:Assets written to: model_experiments\\model_4_Conv1D\\assets\n"
     ]
    },
    {
     "name": "stderr",
     "output_type": "stream",
     "text": [
      "INFO:tensorflow:Assets written to: model_experiments\\model_4_Conv1D\\assets\n"
     ]
    },
    {
     "name": "stdout",
     "output_type": "stream",
     "text": [
      "18/18 [==============================] - 1s 54ms/step - loss: 110.2096 - val_loss: 572.2194\n",
      "Epoch 93/100\n",
      "18/18 [==============================] - 0s 7ms/step - loss: 113.9213 - val_loss: 614.2792\n",
      "Epoch 94/100\n",
      "18/18 [==============================] - 0s 7ms/step - loss: 110.8588 - val_loss: 587.2426\n",
      "Epoch 95/100\n",
      " 1/18 [>.............................] - ETA: 0s - loss: 139.0737"
     ]
    },
    {
     "name": "stderr",
     "output_type": "stream",
     "text": [
      "WARNING:absl:Found untraced functions such as _jit_compiled_convolution_op while saving (showing 1 of 1). These functions will not be directly callable after loading.\n"
     ]
    },
    {
     "name": "stdout",
     "output_type": "stream",
     "text": [
      "INFO:tensorflow:Assets written to: model_experiments\\model_4_Conv1D\\assets\n"
     ]
    },
    {
     "name": "stderr",
     "output_type": "stream",
     "text": [
      "INFO:tensorflow:Assets written to: model_experiments\\model_4_Conv1D\\assets\n"
     ]
    },
    {
     "name": "stdout",
     "output_type": "stream",
     "text": [
      "18/18 [==============================] - 1s 53ms/step - loss: 108.1876 - val_loss: 569.6019\n",
      "Epoch 96/100\n",
      "18/18 [==============================] - 0s 7ms/step - loss: 117.5551 - val_loss: 596.2557\n",
      "Epoch 97/100\n",
      "18/18 [==============================] - 0s 7ms/step - loss: 109.6939 - val_loss: 613.4882\n",
      "Epoch 98/100\n",
      "18/18 [==============================] - 0s 6ms/step - loss: 110.9814 - val_loss: 571.9602\n",
      "Epoch 99/100\n",
      "16/18 [=========================>....] - ETA: 0s - loss: 108.6072"
     ]
    },
    {
     "name": "stderr",
     "output_type": "stream",
     "text": [
      "WARNING:absl:Found untraced functions such as _jit_compiled_convolution_op while saving (showing 1 of 1). These functions will not be directly callable after loading.\n"
     ]
    },
    {
     "name": "stdout",
     "output_type": "stream",
     "text": [
      "INFO:tensorflow:Assets written to: model_experiments\\model_4_Conv1D\\assets\n"
     ]
    },
    {
     "name": "stderr",
     "output_type": "stream",
     "text": [
      "INFO:tensorflow:Assets written to: model_experiments\\model_4_Conv1D\\assets\n"
     ]
    },
    {
     "name": "stdout",
     "output_type": "stream",
     "text": [
      "18/18 [==============================] - 1s 53ms/step - loss: 109.7809 - val_loss: 569.5251\n",
      "Epoch 100/100\n",
      "18/18 [==============================] - 0s 7ms/step - loss: 110.9762 - val_loss: 636.3765\n"
     ]
    }
   ],
   "source": [
    "# Creating Conv1D model\n",
    "model_4 = tf.keras.Sequential([\n",
    "    layers.Lambda(lambda x: tf.expand_dims(x, axis=1)),\n",
    "    layers.Conv1D(filters=128, kernel_size=5, strides=1, padding=\"causal\", activation=\"relu\"),\n",
    "    layers.Dense(HORIZON)\n",
    "], name=\"model_4_Conv1D\")\n",
    "\n",
    "# Compiling the model\n",
    "model_4.compile(\n",
    "    loss=\"mae\",\n",
    "    optimizer=tf.keras.optimizers.Adam()\n",
    ")\n",
    "\n",
    "# Fitting the model\n",
    "history_4 = model_4.fit(\n",
    "    train_windows,\n",
    "    train_labels,\n",
    "    batch_size=128,\n",
    "    epochs=100,\n",
    "    validation_data=(test_windows, test_labels),\n",
    "    callbacks=[create_model_checkpoint(model_name=model_4.name)]\n",
    ")"
   ]
  },
  {
   "cell_type": "code",
   "execution_count": 74,
   "metadata": {},
   "outputs": [
    {
     "name": "stdout",
     "output_type": "stream",
     "text": [
      "Model: \"model_4_Conv1D\"\n",
      "_________________________________________________________________\n",
      " Layer (type)                Output Shape              Param #   \n",
      "=================================================================\n",
      " lambda_1 (Lambda)           (None, 1, 7)              0         \n",
      "                                                                 \n",
      " conv1d (Conv1D)             (None, 1, 128)            4608      \n",
      "                                                                 \n",
      " dense_6 (Dense)             (None, 1, 1)              129       \n",
      "                                                                 \n",
      "=================================================================\n",
      "Total params: 4,737\n",
      "Trainable params: 4,737\n",
      "Non-trainable params: 0\n",
      "_________________________________________________________________\n"
     ]
    }
   ],
   "source": [
    "# Checking the model structure\n",
    "model_4.summary()"
   ]
  },
  {
   "cell_type": "code",
   "execution_count": 75,
   "metadata": {},
   "outputs": [
    {
     "name": "stdout",
     "output_type": "stream",
     "text": [
      "18/18 [==============================] - 0s 3ms/step - loss: 636.3765\n"
     ]
    },
    {
     "data": {
      "text/plain": [
       "636.3765258789062"
      ]
     },
     "execution_count": 75,
     "metadata": {},
     "output_type": "execute_result"
    }
   ],
   "source": [
    "# Evaluating the model\n",
    "model_4.evaluate(test_windows, test_labels)"
   ]
  },
  {
   "cell_type": "code",
   "execution_count": 76,
   "metadata": {},
   "outputs": [
    {
     "name": "stdout",
     "output_type": "stream",
     "text": [
      "18/18 [==============================] - 0s 2ms/step - loss: 569.5251\n"
     ]
    },
    {
     "data": {
      "text/plain": [
       "569.5250854492188"
      ]
     },
     "execution_count": 76,
     "metadata": {},
     "output_type": "execute_result"
    }
   ],
   "source": [
    "# Loading back the best performing model\n",
    "model_4 = tf.keras.models.load_model(\"./model_experiments/model_4_Conv1D/\")\n",
    "model_4.evaluate(test_windows, test_labels)"
   ]
  },
  {
   "cell_type": "code",
   "execution_count": 77,
   "metadata": {},
   "outputs": [
    {
     "name": "stdout",
     "output_type": "stream",
     "text": [
      "18/18 [==============================] - 0s 2ms/step\n"
     ]
    },
    {
     "data": {
      "text/plain": [
       "<tf.Tensor: shape=(10,), dtype=float32, numpy=\n",
       "array([8879.456, 8781.881, 8995.144, 8785.53 , 8738.435, 8727.722,\n",
       "       8669.763, 8538.499, 8449.73 , 8512.968], dtype=float32)>"
      ]
     },
     "execution_count": 77,
     "metadata": {},
     "output_type": "execute_result"
    }
   ],
   "source": [
    "# Making predictions\n",
    "model_4_preds = make_preds(model_4, test_windows)\n",
    "model_4_preds[:10]"
   ]
  },
  {
   "cell_type": "code",
   "execution_count": 78,
   "metadata": {},
   "outputs": [
    {
     "data": {
      "text/plain": [
       "{'mae': 569.525,\n",
       " 'mse': 1180042.0,\n",
       " 'rmse': 1086.2974,\n",
       " 'mape': 2.5471735,\n",
       " 'mase': 1.0004977}"
      ]
     },
     "execution_count": 78,
     "metadata": {},
     "output_type": "execute_result"
    }
   ],
   "source": [
    "# Evaluating predictions\n",
    "model_4_results = evaluate_preds(\n",
    "    y_true=tf.squeeze(test_labels),\n",
    "    y_pred=model_4_preds\n",
    ")\n",
    "model_4_results"
   ]
  },
  {
   "attachments": {},
   "cell_type": "markdown",
   "metadata": {},
   "source": [
    "### Model 5 - LSTM (RNN)"
   ]
  },
  {
   "cell_type": "code",
   "execution_count": 81,
   "metadata": {},
   "outputs": [
    {
     "name": "stdout",
     "output_type": "stream",
     "text": [
      "Epoch 1/100\n",
      "15/18 [========================>.....] - ETA: 0s - loss: 2441.7002INFO:tensorflow:Assets written to: model_experiments\\module_5_LSTM\\assets\n"
     ]
    },
    {
     "name": "stderr",
     "output_type": "stream",
     "text": [
      "INFO:tensorflow:Assets written to: model_experiments\\module_5_LSTM\\assets\n"
     ]
    },
    {
     "name": "stdout",
     "output_type": "stream",
     "text": [
      "18/18 [==============================] - 6s 205ms/step - loss: 2359.1499 - val_loss: 9565.0029\n",
      "Epoch 2/100\n",
      "16/18 [=========================>....] - ETA: 0s - loss: 835.6936 INFO:tensorflow:Assets written to: model_experiments\\module_5_LSTM\\assets\n"
     ]
    },
    {
     "name": "stderr",
     "output_type": "stream",
     "text": [
      "INFO:tensorflow:Assets written to: model_experiments\\module_5_LSTM\\assets\n"
     ]
    },
    {
     "name": "stdout",
     "output_type": "stream",
     "text": [
      "18/18 [==============================] - 4s 211ms/step - loss: 780.6033 - val_loss: 1227.5043\n",
      "Epoch 3/100\n",
      "18/18 [==============================] - 0s 14ms/step - loss: 262.3653 - val_loss: 1322.3689\n",
      "Epoch 4/100\n",
      "16/18 [=========================>....] - ETA: 0s - loss: 209.0562INFO:tensorflow:Assets written to: model_experiments\\module_5_LSTM\\assets\n"
     ]
    },
    {
     "name": "stderr",
     "output_type": "stream",
     "text": [
      "INFO:tensorflow:Assets written to: model_experiments\\module_5_LSTM\\assets\n"
     ]
    },
    {
     "name": "stdout",
     "output_type": "stream",
     "text": [
      "18/18 [==============================] - 4s 213ms/step - loss: 208.9345 - val_loss: 1112.3894\n",
      "Epoch 5/100\n",
      "17/18 [===========================>..] - ETA: 0s - loss: 199.7458INFO:tensorflow:Assets written to: model_experiments\\module_5_LSTM\\assets\n"
     ]
    },
    {
     "name": "stderr",
     "output_type": "stream",
     "text": [
      "INFO:tensorflow:Assets written to: model_experiments\\module_5_LSTM\\assets\n"
     ]
    },
    {
     "name": "stdout",
     "output_type": "stream",
     "text": [
      "18/18 [==============================] - 4s 221ms/step - loss: 197.7259 - val_loss: 1103.1194\n",
      "Epoch 6/100\n",
      "14/18 [======================>.......] - ETA: 0s - loss: 197.4408INFO:tensorflow:Assets written to: model_experiments\\module_5_LSTM\\assets\n"
     ]
    },
    {
     "name": "stderr",
     "output_type": "stream",
     "text": [
      "INFO:tensorflow:Assets written to: model_experiments\\module_5_LSTM\\assets\n"
     ]
    },
    {
     "name": "stdout",
     "output_type": "stream",
     "text": [
      "18/18 [==============================] - 4s 262ms/step - loss: 198.3301 - val_loss: 1095.9854\n",
      "Epoch 7/100\n",
      "18/18 [==============================] - 0s 15ms/step - loss: 193.0889 - val_loss: 1099.7380\n",
      "Epoch 8/100\n",
      "16/18 [=========================>....] - ETA: 0s - loss: 188.7744INFO:tensorflow:Assets written to: model_experiments\\module_5_LSTM\\assets\n"
     ]
    },
    {
     "name": "stderr",
     "output_type": "stream",
     "text": [
      "INFO:tensorflow:Assets written to: model_experiments\\module_5_LSTM\\assets\n"
     ]
    },
    {
     "name": "stdout",
     "output_type": "stream",
     "text": [
      "18/18 [==============================] - 4s 208ms/step - loss: 190.5316 - val_loss: 1092.8884\n",
      "Epoch 9/100\n",
      "15/18 [========================>.....] - ETA: 0s - loss: 191.6447INFO:tensorflow:Assets written to: model_experiments\\module_5_LSTM\\assets\n"
     ]
    },
    {
     "name": "stderr",
     "output_type": "stream",
     "text": [
      "INFO:tensorflow:Assets written to: model_experiments\\module_5_LSTM\\assets\n"
     ]
    },
    {
     "name": "stdout",
     "output_type": "stream",
     "text": [
      "18/18 [==============================] - 3s 175ms/step - loss: 188.7249 - val_loss: 1077.3795\n",
      "Epoch 10/100\n",
      "16/18 [=========================>....] - ETA: 0s - loss: 184.3746INFO:tensorflow:Assets written to: model_experiments\\module_5_LSTM\\assets\n"
     ]
    },
    {
     "name": "stderr",
     "output_type": "stream",
     "text": [
      "INFO:tensorflow:Assets written to: model_experiments\\module_5_LSTM\\assets\n"
     ]
    },
    {
     "name": "stdout",
     "output_type": "stream",
     "text": [
      "18/18 [==============================] - 6s 327ms/step - loss: 187.5073 - val_loss: 1061.8090\n",
      "Epoch 11/100\n",
      "18/18 [==============================] - ETA: 0s - loss: 186.8962INFO:tensorflow:Assets written to: model_experiments\\module_5_LSTM\\assets\n"
     ]
    },
    {
     "name": "stderr",
     "output_type": "stream",
     "text": [
      "INFO:tensorflow:Assets written to: model_experiments\\module_5_LSTM\\assets\n"
     ]
    },
    {
     "name": "stdout",
     "output_type": "stream",
     "text": [
      "18/18 [==============================] - 6s 364ms/step - loss: 186.8962 - val_loss: 1060.9070\n",
      "Epoch 12/100\n",
      "17/18 [===========================>..] - ETA: 0s - loss: 184.8755INFO:tensorflow:Assets written to: model_experiments\\module_5_LSTM\\assets\n"
     ]
    },
    {
     "name": "stderr",
     "output_type": "stream",
     "text": [
      "INFO:tensorflow:Assets written to: model_experiments\\module_5_LSTM\\assets\n"
     ]
    },
    {
     "name": "stdout",
     "output_type": "stream",
     "text": [
      "18/18 [==============================] - 7s 388ms/step - loss: 185.1556 - val_loss: 1054.3613\n",
      "Epoch 13/100\n",
      "16/18 [=========================>....] - ETA: 0s - loss: 181.0868INFO:tensorflow:Assets written to: model_experiments\\module_5_LSTM\\assets\n"
     ]
    },
    {
     "name": "stderr",
     "output_type": "stream",
     "text": [
      "INFO:tensorflow:Assets written to: model_experiments\\module_5_LSTM\\assets\n"
     ]
    },
    {
     "name": "stdout",
     "output_type": "stream",
     "text": [
      "18/18 [==============================] - 7s 397ms/step - loss: 183.1510 - val_loss: 1033.3516\n",
      "Epoch 14/100\n",
      "18/18 [==============================] - 1s 33ms/step - loss: 181.3413 - val_loss: 1050.4684\n",
      "Epoch 15/100\n",
      "18/18 [==============================] - 1s 33ms/step - loss: 179.8843 - val_loss: 1074.4611\n",
      "Epoch 16/100\n",
      "18/18 [==============================] - ETA: 0s - loss: 178.6633INFO:tensorflow:Assets written to: model_experiments\\module_5_LSTM\\assets\n"
     ]
    },
    {
     "name": "stderr",
     "output_type": "stream",
     "text": [
      "INFO:tensorflow:Assets written to: model_experiments\\module_5_LSTM\\assets\n"
     ]
    },
    {
     "name": "stdout",
     "output_type": "stream",
     "text": [
      "18/18 [==============================] - 7s 436ms/step - loss: 178.6633 - val_loss: 994.1672\n",
      "Epoch 17/100\n",
      "18/18 [==============================] - 1s 31ms/step - loss: 176.4267 - val_loss: 1044.8823\n",
      "Epoch 18/100\n",
      "18/18 [==============================] - 1s 32ms/step - loss: 175.3369 - val_loss: 1042.9866\n",
      "Epoch 19/100\n",
      "18/18 [==============================] - 1s 33ms/step - loss: 173.7025 - val_loss: 1019.2038\n",
      "Epoch 20/100\n",
      "17/18 [===========================>..] - ETA: 0s - loss: 171.9020INFO:tensorflow:Assets written to: model_experiments\\module_5_LSTM\\assets\n"
     ]
    },
    {
     "name": "stderr",
     "output_type": "stream",
     "text": [
      "INFO:tensorflow:Assets written to: model_experiments\\module_5_LSTM\\assets\n"
     ]
    },
    {
     "name": "stdout",
     "output_type": "stream",
     "text": [
      "18/18 [==============================] - 7s 403ms/step - loss: 172.5488 - val_loss: 964.1268\n",
      "Epoch 21/100\n",
      "18/18 [==============================] - 1s 32ms/step - loss: 169.8475 - val_loss: 968.5359\n",
      "Epoch 22/100\n",
      "18/18 [==============================] - 1s 32ms/step - loss: 168.2481 - val_loss: 967.0434\n",
      "Epoch 23/100\n",
      "18/18 [==============================] - 1s 32ms/step - loss: 167.2588 - val_loss: 971.6720\n",
      "Epoch 24/100\n",
      "16/18 [=========================>....] - ETA: 0s - loss: 164.2023INFO:tensorflow:Assets written to: model_experiments\\module_5_LSTM\\assets\n"
     ]
    },
    {
     "name": "stderr",
     "output_type": "stream",
     "text": [
      "INFO:tensorflow:Assets written to: model_experiments\\module_5_LSTM\\assets\n"
     ]
    },
    {
     "name": "stdout",
     "output_type": "stream",
     "text": [
      "18/18 [==============================] - 8s 478ms/step - loss: 164.6176 - val_loss: 953.9171\n",
      "Epoch 25/100\n",
      "17/18 [===========================>..] - ETA: 0s - loss: 163.9571INFO:tensorflow:Assets written to: model_experiments\\module_5_LSTM\\assets\n"
     ]
    },
    {
     "name": "stderr",
     "output_type": "stream",
     "text": [
      "INFO:tensorflow:Assets written to: model_experiments\\module_5_LSTM\\assets\n"
     ]
    },
    {
     "name": "stdout",
     "output_type": "stream",
     "text": [
      "18/18 [==============================] - 5s 276ms/step - loss: 163.0723 - val_loss: 917.8637\n",
      "Epoch 26/100\n",
      "17/18 [===========================>..] - ETA: 0s - loss: 160.6900INFO:tensorflow:Assets written to: model_experiments\\module_5_LSTM\\assets\n"
     ]
    },
    {
     "name": "stderr",
     "output_type": "stream",
     "text": [
      "INFO:tensorflow:Assets written to: model_experiments\\module_5_LSTM\\assets\n"
     ]
    },
    {
     "name": "stdout",
     "output_type": "stream",
     "text": [
      "18/18 [==============================] - 7s 392ms/step - loss: 161.0958 - val_loss: 913.6668\n",
      "Epoch 27/100\n",
      "17/18 [===========================>..] - ETA: 0s - loss: 158.9834INFO:tensorflow:Assets written to: model_experiments\\module_5_LSTM\\assets\n"
     ]
    },
    {
     "name": "stderr",
     "output_type": "stream",
     "text": [
      "INFO:tensorflow:Assets written to: model_experiments\\module_5_LSTM\\assets\n"
     ]
    },
    {
     "name": "stdout",
     "output_type": "stream",
     "text": [
      "18/18 [==============================] - 7s 433ms/step - loss: 159.9511 - val_loss: 913.4280\n",
      "Epoch 28/100\n",
      "18/18 [==============================] - ETA: 0s - loss: 158.2603INFO:tensorflow:Assets written to: model_experiments\\module_5_LSTM\\assets\n"
     ]
    },
    {
     "name": "stderr",
     "output_type": "stream",
     "text": [
      "INFO:tensorflow:Assets written to: model_experiments\\module_5_LSTM\\assets\n"
     ]
    },
    {
     "name": "stdout",
     "output_type": "stream",
     "text": [
      "18/18 [==============================] - 5s 272ms/step - loss: 158.2603 - val_loss: 883.7181\n",
      "Epoch 29/100\n",
      "18/18 [==============================] - 1s 30ms/step - loss: 155.9583 - val_loss: 888.0773\n",
      "Epoch 30/100\n",
      "15/18 [========================>.....] - ETA: 0s - loss: 153.6194INFO:tensorflow:Assets written to: model_experiments\\module_5_LSTM\\assets\n"
     ]
    },
    {
     "name": "stderr",
     "output_type": "stream",
     "text": [
      "INFO:tensorflow:Assets written to: model_experiments\\module_5_LSTM\\assets\n"
     ]
    },
    {
     "name": "stdout",
     "output_type": "stream",
     "text": [
      "18/18 [==============================] - 4s 245ms/step - loss: 155.8653 - val_loss: 878.7191\n",
      "Epoch 31/100\n",
      "15/18 [========================>.....] - ETA: 0s - loss: 150.7327INFO:tensorflow:Assets written to: model_experiments\\module_5_LSTM\\assets\n"
     ]
    },
    {
     "name": "stderr",
     "output_type": "stream",
     "text": [
      "INFO:tensorflow:Assets written to: model_experiments\\module_5_LSTM\\assets\n"
     ]
    },
    {
     "name": "stdout",
     "output_type": "stream",
     "text": [
      "18/18 [==============================] - 4s 236ms/step - loss: 152.6247 - val_loss: 854.4818\n",
      "Epoch 32/100\n",
      "18/18 [==============================] - 0s 18ms/step - loss: 151.0846 - val_loss: 859.3588\n",
      "Epoch 33/100\n",
      "18/18 [==============================] - 0s 19ms/step - loss: 150.0600 - val_loss: 892.7011\n",
      "Epoch 34/100\n",
      "17/18 [===========================>..] - ETA: 0s - loss: 148.5907INFO:tensorflow:Assets written to: model_experiments\\module_5_LSTM\\assets\n"
     ]
    },
    {
     "name": "stderr",
     "output_type": "stream",
     "text": [
      "INFO:tensorflow:Assets written to: model_experiments\\module_5_LSTM\\assets\n"
     ]
    },
    {
     "name": "stdout",
     "output_type": "stream",
     "text": [
      "18/18 [==============================] - 4s 226ms/step - loss: 149.5362 - val_loss: 818.8920\n",
      "Epoch 35/100\n",
      "18/18 [==============================] - 0s 22ms/step - loss: 149.4011 - val_loss: 887.4609\n",
      "Epoch 36/100\n",
      "18/18 [==============================] - ETA: 0s - loss: 148.6068INFO:tensorflow:Assets written to: model_experiments\\module_5_LSTM\\assets\n"
     ]
    },
    {
     "name": "stderr",
     "output_type": "stream",
     "text": [
      "INFO:tensorflow:Assets written to: model_experiments\\module_5_LSTM\\assets\n"
     ]
    },
    {
     "name": "stdout",
     "output_type": "stream",
     "text": [
      "18/18 [==============================] - 5s 309ms/step - loss: 148.6068 - val_loss: 808.4257\n",
      "Epoch 37/100\n",
      "18/18 [==============================] - 0s 19ms/step - loss: 145.2196 - val_loss: 834.4297\n",
      "Epoch 38/100\n",
      "16/18 [=========================>....] - ETA: 0s - loss: 144.4680INFO:tensorflow:Assets written to: model_experiments\\module_5_LSTM\\assets\n"
     ]
    },
    {
     "name": "stderr",
     "output_type": "stream",
     "text": [
      "INFO:tensorflow:Assets written to: model_experiments\\module_5_LSTM\\assets\n"
     ]
    },
    {
     "name": "stdout",
     "output_type": "stream",
     "text": [
      "18/18 [==============================] - 4s 248ms/step - loss: 143.6335 - val_loss: 784.8459\n",
      "Epoch 39/100\n",
      "14/18 [======================>.......] - ETA: 0s - loss: 143.3611INFO:tensorflow:Assets written to: model_experiments\\module_5_LSTM\\assets\n"
     ]
    },
    {
     "name": "stderr",
     "output_type": "stream",
     "text": [
      "INFO:tensorflow:Assets written to: model_experiments\\module_5_LSTM\\assets\n"
     ]
    },
    {
     "name": "stdout",
     "output_type": "stream",
     "text": [
      "18/18 [==============================] - 4s 239ms/step - loss: 141.0807 - val_loss: 783.0357\n",
      "Epoch 40/100\n",
      "18/18 [==============================] - 0s 26ms/step - loss: 139.6799 - val_loss: 787.7548\n",
      "Epoch 41/100\n",
      "18/18 [==============================] - ETA: 0s - loss: 138.0703INFO:tensorflow:Assets written to: model_experiments\\module_5_LSTM\\assets\n"
     ]
    },
    {
     "name": "stderr",
     "output_type": "stream",
     "text": [
      "INFO:tensorflow:Assets written to: model_experiments\\module_5_LSTM\\assets\n"
     ]
    },
    {
     "name": "stdout",
     "output_type": "stream",
     "text": [
      "18/18 [==============================] - 6s 330ms/step - loss: 138.0703 - val_loss: 763.3256\n",
      "Epoch 42/100\n",
      "18/18 [==============================] - 1s 40ms/step - loss: 137.7233 - val_loss: 769.6359\n",
      "Epoch 43/100\n",
      "17/18 [===========================>..] - ETA: 0s - loss: 135.5350INFO:tensorflow:Assets written to: model_experiments\\module_5_LSTM\\assets\n"
     ]
    },
    {
     "name": "stderr",
     "output_type": "stream",
     "text": [
      "INFO:tensorflow:Assets written to: model_experiments\\module_5_LSTM\\assets\n"
     ]
    },
    {
     "name": "stdout",
     "output_type": "stream",
     "text": [
      "18/18 [==============================] - 6s 324ms/step - loss: 135.6954 - val_loss: 760.4340\n",
      "Epoch 44/100\n",
      "14/18 [======================>.......] - ETA: 0s - loss: 129.6901INFO:tensorflow:Assets written to: model_experiments\\module_5_LSTM\\assets\n"
     ]
    },
    {
     "name": "stderr",
     "output_type": "stream",
     "text": [
      "INFO:tensorflow:Assets written to: model_experiments\\module_5_LSTM\\assets\n"
     ]
    },
    {
     "name": "stdout",
     "output_type": "stream",
     "text": [
      "18/18 [==============================] - 4s 229ms/step - loss: 133.4772 - val_loss: 744.7657\n",
      "Epoch 45/100\n",
      "15/18 [========================>.....] - ETA: 0s - loss: 128.5841INFO:tensorflow:Assets written to: model_experiments\\module_5_LSTM\\assets\n"
     ]
    },
    {
     "name": "stderr",
     "output_type": "stream",
     "text": [
      "INFO:tensorflow:Assets written to: model_experiments\\module_5_LSTM\\assets\n"
     ]
    },
    {
     "name": "stdout",
     "output_type": "stream",
     "text": [
      "18/18 [==============================] - 4s 215ms/step - loss: 133.0121 - val_loss: 739.4427\n",
      "Epoch 46/100\n",
      "18/18 [==============================] - 0s 15ms/step - loss: 132.4165 - val_loss: 741.2779\n",
      "Epoch 47/100\n",
      "15/18 [========================>.....] - ETA: 0s - loss: 128.0280INFO:tensorflow:Assets written to: model_experiments\\module_5_LSTM\\assets\n"
     ]
    },
    {
     "name": "stderr",
     "output_type": "stream",
     "text": [
      "INFO:tensorflow:Assets written to: model_experiments\\module_5_LSTM\\assets\n"
     ]
    },
    {
     "name": "stdout",
     "output_type": "stream",
     "text": [
      "18/18 [==============================] - 4s 254ms/step - loss: 132.5480 - val_loss: 729.9390\n",
      "Epoch 48/100\n",
      "18/18 [==============================] - 0s 18ms/step - loss: 131.1146 - val_loss: 738.9963\n",
      "Epoch 49/100\n",
      "18/18 [==============================] - 0s 17ms/step - loss: 130.8875 - val_loss: 747.9074\n",
      "Epoch 50/100\n",
      "18/18 [==============================] - 0s 18ms/step - loss: 134.6553 - val_loss: 770.7692\n",
      "Epoch 51/100\n",
      "18/18 [==============================] - 0s 17ms/step - loss: 136.1767 - val_loss: 790.6172\n",
      "Epoch 52/100\n",
      "14/18 [======================>.......] - ETA: 0s - loss: 142.5833INFO:tensorflow:Assets written to: model_experiments\\module_5_LSTM\\assets\n"
     ]
    },
    {
     "name": "stderr",
     "output_type": "stream",
     "text": [
      "INFO:tensorflow:Assets written to: model_experiments\\module_5_LSTM\\assets\n"
     ]
    },
    {
     "name": "stdout",
     "output_type": "stream",
     "text": [
      "18/18 [==============================] - 5s 287ms/step - loss: 137.8058 - val_loss: 701.4889\n",
      "Epoch 53/100\n",
      "17/18 [===========================>..] - ETA: 0s - loss: 130.0572INFO:tensorflow:Assets written to: model_experiments\\module_5_LSTM\\assets\n"
     ]
    },
    {
     "name": "stderr",
     "output_type": "stream",
     "text": [
      "INFO:tensorflow:Assets written to: model_experiments\\module_5_LSTM\\assets\n"
     ]
    },
    {
     "name": "stdout",
     "output_type": "stream",
     "text": [
      "18/18 [==============================] - 4s 256ms/step - loss: 129.8945 - val_loss: 696.9856\n",
      "Epoch 54/100\n",
      "18/18 [==============================] - 0s 18ms/step - loss: 127.1023 - val_loss: 708.6211\n",
      "Epoch 55/100\n",
      "16/18 [=========================>....] - ETA: 0s - loss: 128.4242INFO:tensorflow:Assets written to: model_experiments\\module_5_LSTM\\assets\n"
     ]
    },
    {
     "name": "stderr",
     "output_type": "stream",
     "text": [
      "INFO:tensorflow:Assets written to: model_experiments\\module_5_LSTM\\assets\n"
     ]
    },
    {
     "name": "stdout",
     "output_type": "stream",
     "text": [
      "18/18 [==============================] - 4s 237ms/step - loss: 125.6773 - val_loss: 694.5493\n",
      "Epoch 56/100\n",
      "17/18 [===========================>..] - ETA: 0s - loss: 126.4214INFO:tensorflow:Assets written to: model_experiments\\module_5_LSTM\\assets\n"
     ]
    },
    {
     "name": "stderr",
     "output_type": "stream",
     "text": [
      "INFO:tensorflow:Assets written to: model_experiments\\module_5_LSTM\\assets\n"
     ]
    },
    {
     "name": "stdout",
     "output_type": "stream",
     "text": [
      "18/18 [==============================] - 4s 255ms/step - loss: 126.2965 - val_loss: 684.1684\n",
      "Epoch 57/100\n",
      "18/18 [==============================] - 0s 19ms/step - loss: 126.5855 - val_loss: 702.1865\n",
      "Epoch 58/100\n",
      "17/18 [===========================>..] - ETA: 0s - loss: 122.7990INFO:tensorflow:Assets written to: model_experiments\\module_5_LSTM\\assets\n"
     ]
    },
    {
     "name": "stderr",
     "output_type": "stream",
     "text": [
      "INFO:tensorflow:Assets written to: model_experiments\\module_5_LSTM\\assets\n"
     ]
    },
    {
     "name": "stdout",
     "output_type": "stream",
     "text": [
      "18/18 [==============================] - 6s 329ms/step - loss: 122.9499 - val_loss: 672.9356\n",
      "Epoch 59/100\n",
      "18/18 [==============================] - ETA: 0s - loss: 121.5717INFO:tensorflow:Assets written to: model_experiments\\module_5_LSTM\\assets\n"
     ]
    },
    {
     "name": "stderr",
     "output_type": "stream",
     "text": [
      "INFO:tensorflow:Assets written to: model_experiments\\module_5_LSTM\\assets\n"
     ]
    },
    {
     "name": "stdout",
     "output_type": "stream",
     "text": [
      "18/18 [==============================] - 6s 350ms/step - loss: 121.5717 - val_loss: 669.2159\n",
      "Epoch 60/100\n",
      "18/18 [==============================] - 1s 29ms/step - loss: 122.4966 - val_loss: 679.4755\n",
      "Epoch 61/100\n",
      "18/18 [==============================] - 0s 22ms/step - loss: 123.7822 - val_loss: 720.9721\n",
      "Epoch 62/100\n",
      "18/18 [==============================] - 0s 18ms/step - loss: 129.2583 - val_loss: 726.7910\n",
      "Epoch 63/100\n",
      "14/18 [======================>.......] - ETA: 0s - loss: 127.7829INFO:tensorflow:Assets written to: model_experiments\\module_5_LSTM\\assets\n"
     ]
    },
    {
     "name": "stderr",
     "output_type": "stream",
     "text": [
      "INFO:tensorflow:Assets written to: model_experiments\\module_5_LSTM\\assets\n"
     ]
    },
    {
     "name": "stdout",
     "output_type": "stream",
     "text": [
      "18/18 [==============================] - 4s 259ms/step - loss: 124.4820 - val_loss: 667.3682\n",
      "Epoch 64/100\n",
      "16/18 [=========================>....] - ETA: 0s - loss: 121.4635INFO:tensorflow:Assets written to: model_experiments\\module_5_LSTM\\assets\n"
     ]
    },
    {
     "name": "stderr",
     "output_type": "stream",
     "text": [
      "INFO:tensorflow:Assets written to: model_experiments\\module_5_LSTM\\assets\n"
     ]
    },
    {
     "name": "stdout",
     "output_type": "stream",
     "text": [
      "18/18 [==============================] - 5s 278ms/step - loss: 119.6997 - val_loss: 657.3339\n",
      "Epoch 65/100\n",
      "15/18 [========================>.....] - ETA: 0s - loss: 117.8174INFO:tensorflow:Assets written to: model_experiments\\module_5_LSTM\\assets\n"
     ]
    },
    {
     "name": "stderr",
     "output_type": "stream",
     "text": [
      "INFO:tensorflow:Assets written to: model_experiments\\module_5_LSTM\\assets\n"
     ]
    },
    {
     "name": "stdout",
     "output_type": "stream",
     "text": [
      "18/18 [==============================] - 6s 379ms/step - loss: 119.4032 - val_loss: 649.8021\n",
      "Epoch 66/100\n",
      "18/18 [==============================] - 1s 41ms/step - loss: 119.1512 - val_loss: 655.9192\n",
      "Epoch 67/100\n",
      "17/18 [===========================>..] - ETA: 0s - loss: 119.0158INFO:tensorflow:Assets written to: model_experiments\\module_5_LSTM\\assets\n"
     ]
    },
    {
     "name": "stderr",
     "output_type": "stream",
     "text": [
      "INFO:tensorflow:Assets written to: model_experiments\\module_5_LSTM\\assets\n"
     ]
    },
    {
     "name": "stdout",
     "output_type": "stream",
     "text": [
      "18/18 [==============================] - 7s 396ms/step - loss: 120.3935 - val_loss: 644.5006\n",
      "Epoch 68/100\n",
      "17/18 [===========================>..] - ETA: 0s - loss: 120.6647INFO:tensorflow:Assets written to: model_experiments\\module_5_LSTM\\assets\n"
     ]
    },
    {
     "name": "stderr",
     "output_type": "stream",
     "text": [
      "INFO:tensorflow:Assets written to: model_experiments\\module_5_LSTM\\assets\n"
     ]
    },
    {
     "name": "stdout",
     "output_type": "stream",
     "text": [
      "18/18 [==============================] - 5s 266ms/step - loss: 119.8965 - val_loss: 641.0926\n",
      "Epoch 69/100\n",
      "18/18 [==============================] - 0s 19ms/step - loss: 121.1366 - val_loss: 644.5275\n",
      "Epoch 70/100\n",
      "16/18 [=========================>....] - ETA: 0s - loss: 118.1163INFO:tensorflow:Assets written to: model_experiments\\module_5_LSTM\\assets\n"
     ]
    },
    {
     "name": "stderr",
     "output_type": "stream",
     "text": [
      "INFO:tensorflow:Assets written to: model_experiments\\module_5_LSTM\\assets\n"
     ]
    },
    {
     "name": "stdout",
     "output_type": "stream",
     "text": [
      "18/18 [==============================] - 4s 251ms/step - loss: 117.7920 - val_loss: 636.2578\n",
      "Epoch 71/100\n",
      "18/18 [==============================] - 0s 22ms/step - loss: 117.6777 - val_loss: 661.7371\n",
      "Epoch 72/100\n",
      "18/18 [==============================] - 0s 20ms/step - loss: 122.4165 - val_loss: 662.4341\n",
      "Epoch 73/100\n",
      "16/18 [=========================>....] - ETA: 0s - loss: 119.8592INFO:tensorflow:Assets written to: model_experiments\\module_5_LSTM\\assets\n"
     ]
    },
    {
     "name": "stderr",
     "output_type": "stream",
     "text": [
      "INFO:tensorflow:Assets written to: model_experiments\\module_5_LSTM\\assets\n"
     ]
    },
    {
     "name": "stdout",
     "output_type": "stream",
     "text": [
      "18/18 [==============================] - 5s 265ms/step - loss: 119.2026 - val_loss: 629.3033\n",
      "Epoch 74/100\n",
      "18/18 [==============================] - 0s 19ms/step - loss: 117.1320 - val_loss: 646.4464\n",
      "Epoch 75/100\n",
      "18/18 [==============================] - 0s 18ms/step - loss: 117.2268 - val_loss: 634.5872\n",
      "Epoch 76/100\n",
      "17/18 [===========================>..] - ETA: 0s - loss: 115.8170INFO:tensorflow:Assets written to: model_experiments\\module_5_LSTM\\assets\n"
     ]
    },
    {
     "name": "stderr",
     "output_type": "stream",
     "text": [
      "INFO:tensorflow:Assets written to: model_experiments\\module_5_LSTM\\assets\n"
     ]
    },
    {
     "name": "stdout",
     "output_type": "stream",
     "text": [
      "18/18 [==============================] - 4s 231ms/step - loss: 116.0451 - val_loss: 623.9047\n",
      "Epoch 77/100\n",
      "18/18 [==============================] - 0s 17ms/step - loss: 118.3875 - val_loss: 685.6493\n",
      "Epoch 78/100\n",
      "18/18 [==============================] - 0s 21ms/step - loss: 119.5033 - val_loss: 626.0836\n",
      "Epoch 79/100\n",
      "15/18 [========================>.....] - ETA: 0s - loss: 114.3718INFO:tensorflow:Assets written to: model_experiments\\module_5_LSTM\\assets\n"
     ]
    },
    {
     "name": "stderr",
     "output_type": "stream",
     "text": [
      "INFO:tensorflow:Assets written to: model_experiments\\module_5_LSTM\\assets\n"
     ]
    },
    {
     "name": "stdout",
     "output_type": "stream",
     "text": [
      "18/18 [==============================] - 4s 231ms/step - loss: 115.0398 - val_loss: 617.8847\n",
      "Epoch 80/100\n",
      "18/18 [==============================] - 0s 20ms/step - loss: 115.5190 - val_loss: 641.9269\n",
      "Epoch 81/100\n",
      "18/18 [==============================] - 0s 17ms/step - loss: 115.4204 - val_loss: 638.6350\n",
      "Epoch 82/100\n",
      "18/18 [==============================] - 0s 16ms/step - loss: 117.9696 - val_loss: 624.2010\n",
      "Epoch 83/100\n",
      "18/18 [==============================] - 0s 18ms/step - loss: 114.6317 - val_loss: 669.8032\n",
      "Epoch 84/100\n",
      "18/18 [==============================] - 0s 22ms/step - loss: 117.4070 - val_loss: 630.2357\n",
      "Epoch 85/100\n",
      "18/18 [==============================] - 0s 17ms/step - loss: 115.0287 - val_loss: 647.5960\n",
      "Epoch 86/100\n",
      "14/18 [======================>.......] - ETA: 0s - loss: 111.5567INFO:tensorflow:Assets written to: model_experiments\\module_5_LSTM\\assets\n"
     ]
    },
    {
     "name": "stderr",
     "output_type": "stream",
     "text": [
      "INFO:tensorflow:Assets written to: model_experiments\\module_5_LSTM\\assets\n"
     ]
    },
    {
     "name": "stdout",
     "output_type": "stream",
     "text": [
      "18/18 [==============================] - 5s 272ms/step - loss: 117.3724 - val_loss: 615.2311\n",
      "Epoch 87/100\n",
      "15/18 [========================>.....] - ETA: 0s - loss: 114.4751INFO:tensorflow:Assets written to: model_experiments\\module_5_LSTM\\assets\n"
     ]
    },
    {
     "name": "stderr",
     "output_type": "stream",
     "text": [
      "INFO:tensorflow:Assets written to: model_experiments\\module_5_LSTM\\assets\n"
     ]
    },
    {
     "name": "stdout",
     "output_type": "stream",
     "text": [
      "18/18 [==============================] - 5s 320ms/step - loss: 114.3398 - val_loss: 611.2097\n",
      "Epoch 88/100\n",
      "18/18 [==============================] - 1s 43ms/step - loss: 114.2846 - val_loss: 613.7764\n",
      "Epoch 89/100\n",
      "18/18 [==============================] - 1s 44ms/step - loss: 113.5153 - val_loss: 645.1248\n",
      "Epoch 90/100\n",
      "18/18 [==============================] - 1s 47ms/step - loss: 118.5109 - val_loss: 641.1542\n",
      "Epoch 91/100\n",
      "18/18 [==============================] - 1s 43ms/step - loss: 114.8591 - val_loss: 619.8531\n",
      "Epoch 92/100\n",
      "17/18 [===========================>..] - ETA: 0s - loss: 113.8039INFO:tensorflow:Assets written to: model_experiments\\module_5_LSTM\\assets\n"
     ]
    },
    {
     "name": "stderr",
     "output_type": "stream",
     "text": [
      "INFO:tensorflow:Assets written to: model_experiments\\module_5_LSTM\\assets\n"
     ]
    },
    {
     "name": "stdout",
     "output_type": "stream",
     "text": [
      "18/18 [==============================] - 6s 325ms/step - loss: 113.6847 - val_loss: 610.4215\n",
      "Epoch 93/100\n",
      "17/18 [===========================>..] - ETA: 0s - loss: 113.9971INFO:tensorflow:Assets written to: model_experiments\\module_5_LSTM\\assets\n"
     ]
    },
    {
     "name": "stderr",
     "output_type": "stream",
     "text": [
      "INFO:tensorflow:Assets written to: model_experiments\\module_5_LSTM\\assets\n"
     ]
    },
    {
     "name": "stdout",
     "output_type": "stream",
     "text": [
      "18/18 [==============================] - 5s 264ms/step - loss: 113.4610 - val_loss: 602.2672\n",
      "Epoch 94/100\n",
      "17/18 [===========================>..] - ETA: 0s - loss: 112.8133INFO:tensorflow:Assets written to: model_experiments\\module_5_LSTM\\assets\n"
     ]
    },
    {
     "name": "stderr",
     "output_type": "stream",
     "text": [
      "INFO:tensorflow:Assets written to: model_experiments\\module_5_LSTM\\assets\n"
     ]
    },
    {
     "name": "stdout",
     "output_type": "stream",
     "text": [
      "18/18 [==============================] - 4s 256ms/step - loss: 112.1681 - val_loss: 599.5987\n",
      "Epoch 95/100\n",
      "18/18 [==============================] - 0s 22ms/step - loss: 112.3344 - val_loss: 602.1892\n",
      "Epoch 96/100\n",
      "18/18 [==============================] - 0s 21ms/step - loss: 114.2735 - val_loss: 612.6311\n",
      "Epoch 97/100\n",
      "18/18 [==============================] - 0s 19ms/step - loss: 111.9443 - val_loss: 608.7104\n",
      "Epoch 98/100\n",
      "16/18 [=========================>....] - ETA: 0s - loss: 113.8888INFO:tensorflow:Assets written to: model_experiments\\module_5_LSTM\\assets\n"
     ]
    },
    {
     "name": "stderr",
     "output_type": "stream",
     "text": [
      "INFO:tensorflow:Assets written to: model_experiments\\module_5_LSTM\\assets\n"
     ]
    },
    {
     "name": "stdout",
     "output_type": "stream",
     "text": [
      "18/18 [==============================] - 4s 230ms/step - loss: 112.6981 - val_loss: 597.1105\n",
      "Epoch 99/100\n",
      "18/18 [==============================] - ETA: 0s - loss: 111.3937INFO:tensorflow:Assets written to: model_experiments\\module_5_LSTM\\assets\n"
     ]
    },
    {
     "name": "stderr",
     "output_type": "stream",
     "text": [
      "INFO:tensorflow:Assets written to: model_experiments\\module_5_LSTM\\assets\n"
     ]
    },
    {
     "name": "stdout",
     "output_type": "stream",
     "text": [
      "18/18 [==============================] - 4s 251ms/step - loss: 111.3937 - val_loss: 594.9197\n",
      "Epoch 100/100\n",
      "18/18 [==============================] - ETA: 0s - loss: 112.2382INFO:tensorflow:Assets written to: model_experiments\\module_5_LSTM\\assets\n"
     ]
    },
    {
     "name": "stderr",
     "output_type": "stream",
     "text": [
      "INFO:tensorflow:Assets written to: model_experiments\\module_5_LSTM\\assets\n"
     ]
    },
    {
     "name": "stdout",
     "output_type": "stream",
     "text": [
      "18/18 [==============================] - 3s 195ms/step - loss: 112.2382 - val_loss: 594.1771\n"
     ]
    }
   ],
   "source": [
    "# Building LSTM model with the Functional API\n",
    "inputs = layers.Input(shape=(WINDOW_SIZE))\n",
    "x = layers.Lambda(lambda x: tf.expand_dims(x, axis=1))(inputs)\n",
    "# x = layers.LSTM(128, return_sequences=True)(x)\n",
    "x = layers.LSTM(128, activation=\"relu\")(x)\n",
    "# x = layers.Dense(32, activation=\"relu\")(x)\n",
    "outputs = layers.Dense(HORIZON)(x)\n",
    "model_5 = tf.keras.Model(inputs=inputs, outputs=outputs, name=\"module_5_LSTM\")\n",
    "\n",
    "# Compiling the model\n",
    "model_5.compile(\n",
    "    loss=\"mae\",\n",
    "    optimizer=tf.keras.optimizers.Adam()\n",
    ")\n",
    "\n",
    "# Fitting the model\n",
    "history_5 = model_5.fit(\n",
    "    train_windows,\n",
    "    train_labels,\n",
    "    epochs=100,\n",
    "    verbose=1,\n",
    "    batch_size=128,\n",
    "    validation_data=(test_windows, test_labels),\n",
    "    callbacks=[create_model_checkpoint(model_name=model_5.name)]\n",
    ")"
   ]
  },
  {
   "cell_type": "code",
   "execution_count": 84,
   "metadata": {},
   "outputs": [
    {
     "name": "stdout",
     "output_type": "stream",
     "text": [
      "18/18 [==============================] - 0s 3ms/step - loss: 594.1771\n"
     ]
    },
    {
     "data": {
      "text/plain": [
       "594.1770629882812"
      ]
     },
     "execution_count": 84,
     "metadata": {},
     "output_type": "execute_result"
    }
   ],
   "source": [
    "# Loading the best version\n",
    "model_5 = tf.keras.models.load_model(\"model_experiments/module_5_LSTM/\")\n",
    "model_5.evaluate(test_windows, test_labels)"
   ]
  },
  {
   "cell_type": "code",
   "execution_count": 85,
   "metadata": {},
   "outputs": [
    {
     "name": "stdout",
     "output_type": "stream",
     "text": [
      "18/18 [==============================] - 0s 3ms/step\n"
     ]
    },
    {
     "data": {
      "text/plain": [
       "<tf.Tensor: shape=(556,), dtype=float32, numpy=\n",
       "array([ 8977.399 ,  8830.874 ,  8975.347 ,  8827.755 ,  8751.552 ,\n",
       "        8742.364 ,  8723.005 ,  8570.566 ,  8481.444 ,  8527.677 ,\n",
       "        8323.756 ,  8161.5737,  8084.374 ,  7773.911 ,  7378.9595,\n",
       "        7253.8237,  7093.0337,  7120.512 ,  7108.663 ,  7394.9097,\n",
       "        7438.0728,  7659.1763,  7642.213 ,  7506.309 ,  7395.348 ,\n",
       "        7344.193 ,  7265.221 ,  7330.115 ,  7471.41  ,  7549.2446,\n",
       "        7575.4585,  7446.7505,  7321.761 ,  7231.6416,  7200.4106,\n",
       "        7219.428 ,  7134.9224,  7121.4937,  6971.77  ,  6706.9463,\n",
       "        7141.23  ,  7210.985 ,  7191.069 ,  7246.572 ,  7311.0796,\n",
       "        7254.7603,  7221.481 ,  7246.7207,  7222.6235,  7228.4204,\n",
       "        7303.136 ,  7386.125 ,  7322.774 ,  7240.2524,  7205.195 ,\n",
       "        7051.664 ,  7191.714 ,  7309.669 ,  7371.7583,  7615.6294,\n",
       "        7966.1714,  8130.294 ,  7967.5474,  8073.9316,  8139.5015,\n",
       "        8179.354 ,  8146.8384,  8563.402 ,  8844.838 ,  8827.964 ,\n",
       "        8926.109 ,  9008.083 ,  8825.202 ,  8687.811 ,  8706.621 ,\n",
       "        8685.794 ,  8476.345 ,  8437.705 ,  8392.577 ,  8505.148 ,\n",
       "        8767.737 ,  9067.989 ,  9310.973 ,  9542.237 ,  9536.866 ,\n",
       "        9471.963 ,  9442.204 ,  9359.081 ,  9240.837 ,  9485.003 ,\n",
       "        9673.472 ,  9802.921 ,  9925.181 , 10135.951 , 10016.581 ,\n",
       "       10172.06  , 10358.207 , 10335.11  , 10370.151 , 10117.533 ,\n",
       "        9969.767 ,  9723.175 , 10011.565 ,  9842.538 ,  9682.798 ,\n",
       "        9662.276 ,  9712.248 ,  9864.786 ,  9727.267 ,  9525.988 ,\n",
       "        9023.204 ,  8810.74  ,  8744.224 ,  8639.903 ,  8539.167 ,\n",
       "        8774.485 ,  8843.366 ,  8805.704 ,  8992.706 ,  9150.659 ,\n",
       "        9054.32  ,  8462.931 ,  8024.834 ,  7922.39  ,  7903.727 ,\n",
       "        6463.362 ,  5694.0083,  5289.495 ,  5235.6343,  4880.6943,\n",
       "        5140.094 ,  5342.548 ,  5995.281 ,  6220.86  ,  6283.39  ,\n",
       "        6076.416 ,  6353.345 ,  6716.925 ,  6763.9585,  6767.072 ,\n",
       "        6759.2056,  6467.0317,  6065.561 ,  6280.361 ,  6422.596 ,\n",
       "        6506.5815,  6736.313 ,  6850.6343,  6911.7476,  6860.682 ,\n",
       "        7174.944 ,  7241.647 ,  7357.7856,  7377.9077,  7088.571 ,\n",
       "        6929.5386,  6983.8335,  6945.0757,  6881.687 ,  6766.9185,\n",
       "        7045.2246,  7101.7036,  7239.701 ,  7239.877 ,  7027.556 ,\n",
       "        6940.9795,  7051.136 ,  7422.36  ,  7519.481 ,  7576.14  ,\n",
       "        7662.1274,  7799.89  ,  7820.821 ,  8470.53  ,  8799.872 ,\n",
       "        8938.625 ,  9017.632 ,  9042.774 ,  9000.745 ,  8984.808 ,\n",
       "        9276.194 ,  9752.934 ,  9961.309 ,  9814.09  ,  9172.329 ,\n",
       "        8760.13  ,  8737.886 ,  9097.728 ,  9547.3   ,  9496.3   ,\n",
       "        9498.72  ,  9678.838 ,  9789.559 ,  9765.957 ,  9627.754 ,\n",
       "        9337.024 ,  9218.218 ,  9203.78  ,  9100.278 ,  8943.054 ,\n",
       "        8857.03  ,  9034.332 ,  9372.87  ,  9468.167 ,  9656.851 ,\n",
       "        9577.913 , 10083.438 ,  9806.143 ,  9716.385 ,  9781.435 ,\n",
       "        9762.812 ,  9712.391 ,  9707.847 ,  9818.105 ,  9819.3   ,\n",
       "        9874.024 ,  9506.712 ,  9447.639 ,  9453.396 ,  9404.188 ,\n",
       "        9405.903 ,  9484.782 ,  9517.267 ,  9448.888 ,  9350.96  ,\n",
       "        9363.842 ,  9327.357 ,  9568.148 ,  9643.796 ,  9464.401 ,\n",
       "        9322.137 ,  9234.04  ,  9101.489 ,  9065.869 ,  9146.58  ,\n",
       "        9175.348 ,  9227.733 ,  9171.185 ,  9142.313 ,  9140.581 ,\n",
       "        9103.774 ,  9228.294 ,  9269.212 ,  9437.952 ,  9348.138 ,\n",
       "        9301.2   ,  9271.597 ,  9301.093 ,  9277.401 ,  9270.775 ,\n",
       "        9255.504 ,  9192.073 ,  9178.456 ,  9189.995 ,  9208.649 ,\n",
       "        9199.623 ,  9347.76  ,  9513.722 ,  9632.226 ,  9635.075 ,\n",
       "        9723.706 ,  9917.507 , 10816.89  , 11065.252 , 11312.262 ,\n",
       "       11287.22  , 11457.042 , 11734.932 , 11403.276 , 11313.545 ,\n",
       "       11263.021 , 11569.096 , 11754.811 , 11723.464 , 11786.648 ,\n",
       "       11764.195 , 11854.675 , 11537.9795, 11526.708 , 11692.802 ,\n",
       "       11801.935 , 11887.321 , 11930.72  , 12307.144 , 12236.015 ,\n",
       "       11946.685 , 11860.048 , 11706.565 , 11675.919 , 11642.204 ,\n",
       "       11732.188 , 11525.867 , 11468.437 , 11374.312 , 11449.849 ,\n",
       "       11504.39  , 11630.474 , 11709.364 , 11920.263 , 11666.073 ,\n",
       "       11032.591 , 10648.599 , 10201.219 , 10113.029 , 10211.147 ,\n",
       "       10108.999 , 10194.636 , 10311.622 , 10420.589 , 10449.04  ,\n",
       "       10390.114 , 10617.316 , 10809.97  , 11021.509 , 11024.726 ,\n",
       "       11016.155 , 11086.187 , 10973.642 , 10685.8955, 10553.356 ,\n",
       "       10360.766 , 10541.9795, 10677.923 , 10761.437 , 10785.718 ,\n",
       "       10880.62  , 10863.444 , 10797.028 , 10700.373 , 10625.218 ,\n",
       "       10582.57  , 10638.925 , 10740.035 , 10671.719 , 10669.536 ,\n",
       "       10847.142 , 11040.067 , 11300.961 , 11392.343 , 11644.7295,\n",
       "       11595.831 , 11508.546 , 11525.423 , 11450.92  , 11402.392 ,\n",
       "       11445.309 , 11705.447 , 11916.672 , 12761.137 , 13189.653 ,\n",
       "       13165.986 , 13176.851 , 13171.067 , 13145.46  , 13516.942 ,\n",
       "       13459.765 , 13504.186 , 13582.976 , 13873.587 , 13848.249 ,\n",
       "       13725.565 , 13837.559 , 14110.999 , 15053.121 , 15545.59  ,\n",
       "       15200.987 , 15435.4375, 15480.502 , 15493.81  , 15683.673 ,\n",
       "       16155.353 , 16423.559 , 16208.865 , 16072.747 , 16568.73  ,\n",
       "       17360.879 , 17823.457 , 18039.895 , 18575.125 , 18796.648 ,\n",
       "       18802.906 , 18642.297 , 18976.598 , 18931.312 , 17808.336 ,\n",
       "       17155.328 , 17518.992 , 17970.621 , 18895.688 , 19105.258 ,\n",
       "       19340.916 , 19548.49  , 19209.969 , 19113.936 , 19108.473 ,\n",
       "       19184.63  , 18864.984 , 18634.156 , 18472.748 , 18242.334 ,\n",
       "       18632.361 , 18982.031 , 19256.047 , 19457.688 , 20809.89  ,\n",
       "       22487.914 , 23184.434 , 23903.98  , 23988.371 , 23703.625 ,\n",
       "       23564.148 , 23403.113 , 23588.707 , 24270.334 , 25848.898 ,\n",
       "       26528.238 , 26884.836 , 27176.922 , 28484.438 , 29214.459 ,\n",
       "       29508.527 , 31456.531 , 32980.664 , 32404.137 , 33796.785 ,\n",
       "       35915.516 , 39013.754 , 40533.777 , 40952.188 , 39966.258 ,\n",
       "       36449.953 , 34625.77  , 35830.094 , 37624.35  , 37123.164 ,\n",
       "       36353.78  , 36570.18  , 36627.08  , 36543.258 , 35487.758 ,\n",
       "       32218.223 , 32520.182 , 32202.045 , 32150.607 , 32106.016 ,\n",
       "       32369.723 , 31338.848 , 32490.135 , 34320.727 , 34877.17  ,\n",
       "       33807.66  , 33754.71  , 35244.316 , 36907.605 , 37412.906 ,\n",
       "       37943.953 , 39881.477 , 39490.957 , 43053.65  , 46115.094 ,\n",
       "       46411.42  , 47383.336 , 48298.703 , 48100.77  , 48741.875 ,\n",
       "       48654.234 , 49041.39  , 51182.01  , 52106.5   , 54856.203 ,\n",
       "       55375.54  , 57105.72  , 55662.93  , 50833.766 , 48901.797 ,\n",
       "       48152.516 , 46365.836 , 45805.17  , 45199.477 , 47922.8   ,\n",
       "       48142.258 , 50099.39  , 49301.957 , 49412.793 , 49257.234 ,\n",
       "       50248.836 , 51330.79  , 53614.242 , 56403.438 , 57914.477 ,\n",
       "       58109.285 , 60265.383 , 60945.105 , 58249.56  , 56928.883 ,\n",
       "       58064.723 , 58317.44  , 58256.664 , 58557.49  , 58431.562 ,\n",
       "       55802.242 , 54809.36  , 53389.65  , 52349.64  , 53409.066 ,\n",
       "       55432.766 , 55771.83  , 57101.43  , 58701.133 , 59302.008 ,\n",
       "       59319.52  , 59253.61  , 58405.094 , 58225.816 , 58711.496 ,\n",
       "       58457.22  , 57174.4   , 57566.203 , 58183.504 , 59072.633 ,\n",
       "       59721.652 , 60128.65  , 62483.58  , 63320.36  , 63753.055 ,\n",
       "       62826.746 , 61559.53  , 58441.617 , 56508.273 , 56237.523 ,\n",
       "       54681.45  , 52479.477 , 50850.53  , 50591.324 , 49039.656 ,\n",
       "       51625.105 , 54285.43  , 55055.688 , 54087.63  , 56459.918 ,\n",
       "       58016.227 , 57278.95  , 57268.5   , 55234.35  , 56541.934 ,\n",
       "       56652.2   , 57144.88  , 58288.117 , 58560.266 , 57033.758 ,\n",
       "       56537.547 , 53782.938 , 50769.496 , 49624.336 , 48265.996 ,\n",
       "       46111.65  ], dtype=float32)>"
      ]
     },
     "execution_count": 85,
     "metadata": {},
     "output_type": "execute_result"
    }
   ],
   "source": [
    "# Making predictions\n",
    "model_5_preds = make_preds(model_5, test_windows)\n",
    "model_5_preds"
   ]
  },
  {
   "cell_type": "code",
   "execution_count": 86,
   "metadata": {},
   "outputs": [
    {
     "data": {
      "text/plain": [
       "{'mae': 594.1771,\n",
       " 'mse': 1270178.8,\n",
       " 'rmse': 1127.0221,\n",
       " 'mape': 2.6787813,\n",
       " 'mase': 1.0438046}"
      ]
     },
     "execution_count": 86,
     "metadata": {},
     "output_type": "execute_result"
    }
   ],
   "source": [
    "# Evaluating predictions\n",
    "model_5_results = evaluate_preds(\n",
    "    y_true=tf.squeeze(test_labels),\n",
    "    y_pred=model_5_preds\n",
    ")\n",
    "model_5_results"
   ]
  },
  {
   "cell_type": "code",
   "execution_count": null,
   "metadata": {},
   "outputs": [],
   "source": []
  }
 ],
 "metadata": {
  "kernelspec": {
   "display_name": "Python 3",
   "language": "python",
   "name": "python3"
  },
  "language_info": {
   "codemirror_mode": {
    "name": "ipython",
    "version": 3
   },
   "file_extension": ".py",
   "mimetype": "text/x-python",
   "name": "python",
   "nbconvert_exporter": "python",
   "pygments_lexer": "ipython3",
   "version": "3.8.10"
  },
  "orig_nbformat": 4,
  "vscode": {
   "interpreter": {
    "hash": "8230a386d8e0083990873cddb8ebb5b6213275a10339230a8504f0ef8ce7f888"
   }
  }
 },
 "nbformat": 4,
 "nbformat_minor": 2
}
