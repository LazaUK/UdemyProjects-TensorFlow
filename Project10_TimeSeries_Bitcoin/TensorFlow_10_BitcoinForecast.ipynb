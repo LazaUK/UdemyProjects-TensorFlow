{
 "cells": [
  {
   "attachments": {},
   "cell_type": "markdown",
   "metadata": {},
   "source": [
    "# Time Series: Forecasting Bitcoin price"
   ]
  },
  {
   "cell_type": "code",
   "execution_count": 1,
   "metadata": {},
   "outputs": [
    {
     "name": "stdout",
     "output_type": "stream",
     "text": [
      "2.10.1\n"
     ]
    }
   ],
   "source": [
    "# Importing TF and checking the version\n",
    "import tensorflow as tf\n",
    "\n",
    "print(tf.__version__)"
   ]
  },
  {
   "attachments": {},
   "cell_type": "markdown",
   "metadata": {},
   "source": [
    "### Importing time series with Pandas"
   ]
  },
  {
   "cell_type": "code",
   "execution_count": 2,
   "metadata": {},
   "outputs": [
    {
     "data": {
      "text/html": [
       "<div>\n",
       "<style scoped>\n",
       "    .dataframe tbody tr th:only-of-type {\n",
       "        vertical-align: middle;\n",
       "    }\n",
       "\n",
       "    .dataframe tbody tr th {\n",
       "        vertical-align: top;\n",
       "    }\n",
       "\n",
       "    .dataframe thead th {\n",
       "        text-align: right;\n",
       "    }\n",
       "</style>\n",
       "<table border=\"1\" class=\"dataframe\">\n",
       "  <thead>\n",
       "    <tr style=\"text-align: right;\">\n",
       "      <th></th>\n",
       "      <th>Currency</th>\n",
       "      <th>Closing Price (USD)</th>\n",
       "      <th>24h Open (USD)</th>\n",
       "      <th>24h High (USD)</th>\n",
       "      <th>24h Low (USD)</th>\n",
       "    </tr>\n",
       "    <tr>\n",
       "      <th>Date</th>\n",
       "      <th></th>\n",
       "      <th></th>\n",
       "      <th></th>\n",
       "      <th></th>\n",
       "      <th></th>\n",
       "    </tr>\n",
       "  </thead>\n",
       "  <tbody>\n",
       "    <tr>\n",
       "      <th>2013-10-01</th>\n",
       "      <td>BTC</td>\n",
       "      <td>123.65499</td>\n",
       "      <td>124.30466</td>\n",
       "      <td>124.75166</td>\n",
       "      <td>122.56349</td>\n",
       "    </tr>\n",
       "    <tr>\n",
       "      <th>2013-10-02</th>\n",
       "      <td>BTC</td>\n",
       "      <td>125.45500</td>\n",
       "      <td>123.65499</td>\n",
       "      <td>125.75850</td>\n",
       "      <td>123.63383</td>\n",
       "    </tr>\n",
       "    <tr>\n",
       "      <th>2013-10-03</th>\n",
       "      <td>BTC</td>\n",
       "      <td>108.58483</td>\n",
       "      <td>125.45500</td>\n",
       "      <td>125.66566</td>\n",
       "      <td>83.32833</td>\n",
       "    </tr>\n",
       "    <tr>\n",
       "      <th>2013-10-04</th>\n",
       "      <td>BTC</td>\n",
       "      <td>118.67466</td>\n",
       "      <td>108.58483</td>\n",
       "      <td>118.67500</td>\n",
       "      <td>107.05816</td>\n",
       "    </tr>\n",
       "    <tr>\n",
       "      <th>2013-10-05</th>\n",
       "      <td>BTC</td>\n",
       "      <td>121.33866</td>\n",
       "      <td>118.67466</td>\n",
       "      <td>121.93633</td>\n",
       "      <td>118.00566</td>\n",
       "    </tr>\n",
       "  </tbody>\n",
       "</table>\n",
       "</div>"
      ],
      "text/plain": [
       "           Currency  Closing Price (USD)  24h Open (USD)  24h High (USD)  \\\n",
       "Date                                                                       \n",
       "2013-10-01      BTC            123.65499       124.30466       124.75166   \n",
       "2013-10-02      BTC            125.45500       123.65499       125.75850   \n",
       "2013-10-03      BTC            108.58483       125.45500       125.66566   \n",
       "2013-10-04      BTC            118.67466       108.58483       118.67500   \n",
       "2013-10-05      BTC            121.33866       118.67466       121.93633   \n",
       "\n",
       "            24h Low (USD)  \n",
       "Date                       \n",
       "2013-10-01      122.56349  \n",
       "2013-10-02      123.63383  \n",
       "2013-10-03       83.32833  \n",
       "2013-10-04      107.05816  \n",
       "2013-10-05      118.00566  "
      ]
     },
     "execution_count": 2,
     "metadata": {},
     "output_type": "execute_result"
    }
   ],
   "source": [
    "# Reading Bitcoin data and parsing dates\n",
    "import pandas as pd\n",
    "\n",
    "df = pd.read_csv(\n",
    "    \"BTC_USD_2013-10-01_2021-05-18-CoinDesk.csv\",\n",
    "    parse_dates=[\"Date\"],\n",
    "    index_col=[\"Date\"]   \n",
    ")\n",
    "df.head()"
   ]
  },
  {
   "cell_type": "code",
   "execution_count": 3,
   "metadata": {},
   "outputs": [
    {
     "data": {
      "text/html": [
       "<div>\n",
       "<style scoped>\n",
       "    .dataframe tbody tr th:only-of-type {\n",
       "        vertical-align: middle;\n",
       "    }\n",
       "\n",
       "    .dataframe tbody tr th {\n",
       "        vertical-align: top;\n",
       "    }\n",
       "\n",
       "    .dataframe thead th {\n",
       "        text-align: right;\n",
       "    }\n",
       "</style>\n",
       "<table border=\"1\" class=\"dataframe\">\n",
       "  <thead>\n",
       "    <tr style=\"text-align: right;\">\n",
       "      <th></th>\n",
       "      <th>Currency</th>\n",
       "      <th>Closing Price (USD)</th>\n",
       "      <th>24h Open (USD)</th>\n",
       "      <th>24h High (USD)</th>\n",
       "      <th>24h Low (USD)</th>\n",
       "    </tr>\n",
       "    <tr>\n",
       "      <th>Date</th>\n",
       "      <th></th>\n",
       "      <th></th>\n",
       "      <th></th>\n",
       "      <th></th>\n",
       "      <th></th>\n",
       "    </tr>\n",
       "  </thead>\n",
       "  <tbody>\n",
       "    <tr>\n",
       "      <th>2021-05-14</th>\n",
       "      <td>BTC</td>\n",
       "      <td>49764.132082</td>\n",
       "      <td>49596.778891</td>\n",
       "      <td>51448.798576</td>\n",
       "      <td>46294.720180</td>\n",
       "    </tr>\n",
       "    <tr>\n",
       "      <th>2021-05-15</th>\n",
       "      <td>BTC</td>\n",
       "      <td>50032.693137</td>\n",
       "      <td>49717.354353</td>\n",
       "      <td>51578.312545</td>\n",
       "      <td>48944.346536</td>\n",
       "    </tr>\n",
       "    <tr>\n",
       "      <th>2021-05-16</th>\n",
       "      <td>BTC</td>\n",
       "      <td>47885.625255</td>\n",
       "      <td>49926.035067</td>\n",
       "      <td>50690.802950</td>\n",
       "      <td>47005.102292</td>\n",
       "    </tr>\n",
       "    <tr>\n",
       "      <th>2021-05-17</th>\n",
       "      <td>BTC</td>\n",
       "      <td>45604.615754</td>\n",
       "      <td>46805.537852</td>\n",
       "      <td>49670.414174</td>\n",
       "      <td>43868.638969</td>\n",
       "    </tr>\n",
       "    <tr>\n",
       "      <th>2021-05-18</th>\n",
       "      <td>BTC</td>\n",
       "      <td>43144.471291</td>\n",
       "      <td>46439.336570</td>\n",
       "      <td>46622.853437</td>\n",
       "      <td>42102.346430</td>\n",
       "    </tr>\n",
       "  </tbody>\n",
       "</table>\n",
       "</div>"
      ],
      "text/plain": [
       "           Currency  Closing Price (USD)  24h Open (USD)  24h High (USD)  \\\n",
       "Date                                                                       \n",
       "2021-05-14      BTC         49764.132082    49596.778891    51448.798576   \n",
       "2021-05-15      BTC         50032.693137    49717.354353    51578.312545   \n",
       "2021-05-16      BTC         47885.625255    49926.035067    50690.802950   \n",
       "2021-05-17      BTC         45604.615754    46805.537852    49670.414174   \n",
       "2021-05-18      BTC         43144.471291    46439.336570    46622.853437   \n",
       "\n",
       "            24h Low (USD)  \n",
       "Date                       \n",
       "2021-05-14   46294.720180  \n",
       "2021-05-15   48944.346536  \n",
       "2021-05-16   47005.102292  \n",
       "2021-05-17   43868.638969  \n",
       "2021-05-18   42102.346430  "
      ]
     },
     "execution_count": 3,
     "metadata": {},
     "output_type": "execute_result"
    }
   ],
   "source": [
    "df.tail()"
   ]
  },
  {
   "cell_type": "code",
   "execution_count": 4,
   "metadata": {},
   "outputs": [
    {
     "name": "stdout",
     "output_type": "stream",
     "text": [
      "<class 'pandas.core.frame.DataFrame'>\n",
      "DatetimeIndex: 2787 entries, 2013-10-01 to 2021-05-18\n",
      "Data columns (total 5 columns):\n",
      " #   Column               Non-Null Count  Dtype  \n",
      "---  ------               --------------  -----  \n",
      " 0   Currency             2787 non-null   object \n",
      " 1   Closing Price (USD)  2787 non-null   float64\n",
      " 2   24h Open (USD)       2787 non-null   float64\n",
      " 3   24h High (USD)       2787 non-null   float64\n",
      " 4   24h Low (USD)        2787 non-null   float64\n",
      "dtypes: float64(4), object(1)\n",
      "memory usage: 130.6+ KB\n"
     ]
    }
   ],
   "source": [
    "df.info()"
   ]
  },
  {
   "cell_type": "code",
   "execution_count": 5,
   "metadata": {},
   "outputs": [
    {
     "data": {
      "text/plain": [
       "2787"
      ]
     },
     "execution_count": 5,
     "metadata": {},
     "output_type": "execute_result"
    }
   ],
   "source": [
    "len(df)"
   ]
  },
  {
   "cell_type": "code",
   "execution_count": 6,
   "metadata": {},
   "outputs": [
    {
     "data": {
      "text/html": [
       "<div>\n",
       "<style scoped>\n",
       "    .dataframe tbody tr th:only-of-type {\n",
       "        vertical-align: middle;\n",
       "    }\n",
       "\n",
       "    .dataframe tbody tr th {\n",
       "        vertical-align: top;\n",
       "    }\n",
       "\n",
       "    .dataframe thead th {\n",
       "        text-align: right;\n",
       "    }\n",
       "</style>\n",
       "<table border=\"1\" class=\"dataframe\">\n",
       "  <thead>\n",
       "    <tr style=\"text-align: right;\">\n",
       "      <th></th>\n",
       "      <th>Price</th>\n",
       "    </tr>\n",
       "    <tr>\n",
       "      <th>Date</th>\n",
       "      <th></th>\n",
       "    </tr>\n",
       "  </thead>\n",
       "  <tbody>\n",
       "    <tr>\n",
       "      <th>2013-10-01</th>\n",
       "      <td>123.65499</td>\n",
       "    </tr>\n",
       "    <tr>\n",
       "      <th>2013-10-02</th>\n",
       "      <td>125.45500</td>\n",
       "    </tr>\n",
       "    <tr>\n",
       "      <th>2013-10-03</th>\n",
       "      <td>108.58483</td>\n",
       "    </tr>\n",
       "    <tr>\n",
       "      <th>2013-10-04</th>\n",
       "      <td>118.67466</td>\n",
       "    </tr>\n",
       "    <tr>\n",
       "      <th>2013-10-05</th>\n",
       "      <td>121.33866</td>\n",
       "    </tr>\n",
       "  </tbody>\n",
       "</table>\n",
       "</div>"
      ],
      "text/plain": [
       "                Price\n",
       "Date                 \n",
       "2013-10-01  123.65499\n",
       "2013-10-02  125.45500\n",
       "2013-10-03  108.58483\n",
       "2013-10-04  118.67466\n",
       "2013-10-05  121.33866"
      ]
     },
     "execution_count": 6,
     "metadata": {},
     "output_type": "execute_result"
    }
   ],
   "source": [
    "# Separating closing prices for each day\n",
    "bitcoin_prices = pd.DataFrame(df[\"Closing Price (USD)\"]).rename(columns={\"Closing Price (USD)\":\"Price\"})\n",
    "bitcoin_prices.head()"
   ]
  },
  {
   "cell_type": "code",
   "execution_count": 7,
   "metadata": {},
   "outputs": [
    {
     "data": {
      "image/png": "[encoded data removed]",
      "text/plain": [
       "<Figure size 720x504 with 1 Axes>"
      ]
     },
     "metadata": {
      "needs_background": "light"
     },
     "output_type": "display_data"
    }
   ],
   "source": [
    "# Visualising Bitcoin prices\n",
    "import matplotlib.pyplot as plt\n",
    "bitcoin_prices.plot(figsize=(10, 7))\n",
    "plt.ylabel(\"BTC Price\")\n",
    "plt.title(\"Price of Bitcoin: Oct 2013 - May 2021\", fontsize=16)\n",
    "plt.legend(fontsize=14);"
   ]
  },
  {
   "attachments": {},
   "cell_type": "markdown",
   "metadata": {},
   "source": [
    "### Importing time series with Python"
   ]
  },
  {
   "cell_type": "code",
   "execution_count": 8,
   "metadata": {},
   "outputs": [
    {
     "data": {
      "text/plain": [
       "([datetime.datetime(2013, 10, 1, 0, 0),\n",
       "  datetime.datetime(2013, 10, 2, 0, 0),\n",
       "  datetime.datetime(2013, 10, 3, 0, 0),\n",
       "  datetime.datetime(2013, 10, 4, 0, 0),\n",
       "  datetime.datetime(2013, 10, 5, 0, 0),\n",
       "  datetime.datetime(2013, 10, 6, 0, 0),\n",
       "  datetime.datetime(2013, 10, 7, 0, 0),\n",
       "  datetime.datetime(2013, 10, 8, 0, 0),\n",
       "  datetime.datetime(2013, 10, 9, 0, 0),\n",
       "  datetime.datetime(2013, 10, 10, 0, 0)],\n",
       " [123.65499,\n",
       "  125.455,\n",
       "  108.58483,\n",
       "  118.67466,\n",
       "  121.33866,\n",
       "  120.65533,\n",
       "  121.795,\n",
       "  123.033,\n",
       "  124.049,\n",
       "  125.96116])"
      ]
     },
     "execution_count": 8,
     "metadata": {},
     "output_type": "execute_result"
    }
   ],
   "source": [
    "# Importing Bitcoin data with Python\n",
    "import csv\n",
    "from datetime import datetime\n",
    "\n",
    "timestamps = []\n",
    "btc_price = []\n",
    "with open(\"BTC_USD_2013-10-01_2021-05-18-CoinDesk.csv\", \"r\") as f:\n",
    "    csv_reader = csv.reader(f, delimiter=\",\")\n",
    "    next(csv_reader) # Skips first line to remove column names\n",
    "    for line in csv_reader:\n",
    "        timestamps.append(datetime.strptime(line[1], \"%Y-%m-%d\"))\n",
    "        btc_price.append(float(line[2]))\n",
    "\n",
    "# Viewing first 10 records\n",
    "timestamps[:10], btc_price[:10]"
   ]
  },
  {
   "cell_type": "code",
   "execution_count": 9,
   "metadata": {},
   "outputs": [
    {
     "data": {
      "text/plain": [
       "Text(0.5, 1.0, 'Price of Bitcoin: Oct 2013 - May 2021')"
      ]
     },
     "execution_count": 9,
     "metadata": {},
     "output_type": "execute_result"
    },
    {
     "data": {
      "image/png": "[encoded data removed]",
      "text/plain": [
       "<Figure size 720x504 with 1 Axes>"
      ]
     },
     "metadata": {
      "needs_background": "light"
     },
     "output_type": "display_data"
    }
   ],
   "source": [
    "# Plotting from CSV\n",
    "import matplotlib.pyplot as plt\n",
    "import numpy as np\n",
    "\n",
    "plt.figure(figsize=(10, 7))\n",
    "plt.plot(timestamps, btc_price)\n",
    "plt.xlabel(\"Date\")\n",
    "plt.ylabel(\"BTC Price\")\n",
    "plt.title(\"Price of Bitcoin: Oct 2013 - May 2021\", fontsize=16)\n",
    "#plt.legend();"
   ]
  },
  {
   "attachments": {},
   "cell_type": "markdown",
   "metadata": {},
   "source": [
    "### Creating train and test data"
   ]
  },
  {
   "cell_type": "code",
   "execution_count": 10,
   "metadata": {},
   "outputs": [
    {
     "data": {
      "text/plain": [
       "(array(['2013-10-01T00:00:00.000000000', '2013-10-02T00:00:00.000000000',\n",
       "        '2013-10-03T00:00:00.000000000', '2013-10-04T00:00:00.000000000',\n",
       "        '2013-10-05T00:00:00.000000000', '2013-10-06T00:00:00.000000000',\n",
       "        '2013-10-07T00:00:00.000000000', '2013-10-08T00:00:00.000000000',\n",
       "        '2013-10-09T00:00:00.000000000', '2013-10-10T00:00:00.000000000'],\n",
       "       dtype='datetime64[ns]'),\n",
       " array([123.65499, 125.455  , 108.58483, 118.67466, 121.33866, 120.65533,\n",
       "        121.795  , 123.033  , 124.049  , 125.96116]))"
      ]
     },
     "execution_count": 10,
     "metadata": {},
     "output_type": "execute_result"
    }
   ],
   "source": [
    "# Get Bitcoin date array\n",
    "timestamps = bitcoin_prices.index.to_numpy()\n",
    "prices = bitcoin_prices[\"Price\"].to_numpy()\n",
    "\n",
    "timestamps[:10], prices[:10]"
   ]
  },
  {
   "cell_type": "code",
   "execution_count": 11,
   "metadata": {},
   "outputs": [
    {
     "data": {
      "text/plain": [
       "((2229,), (558,), (2229,), (558,))"
      ]
     },
     "execution_count": 11,
     "metadata": {},
     "output_type": "execute_result"
    }
   ],
   "source": [
    "# Wrong way to create train / test split for time series data\n",
    "from sklearn.model_selection import train_test_split\n",
    "\n",
    "X_train, X_test, y_train, y_test = train_test_split(\n",
    "    timestamps, # dates\n",
    "    prices, # BTC prices\n",
    "    test_size=0.2,\n",
    "    random_state=42\n",
    ")\n",
    "X_train.shape, X_test.shape, y_train.shape, y_test.shape"
   ]
  },
  {
   "cell_type": "code",
   "execution_count": 12,
   "metadata": {},
   "outputs": [
    {
     "data": {
      "image/png": "[encoded data removed]",
      "text/plain": [
       "<Figure size 720x504 with 1 Axes>"
      ]
     },
     "metadata": {
      "needs_background": "light"
     },
     "output_type": "display_data"
    }
   ],
   "source": [
    "# Plotting the wrong data split results\n",
    "plt.figure(figsize=(10, 7))\n",
    "plt.scatter(X_train, y_train, s=5, label=\"Train data\")\n",
    "plt.scatter(X_test, y_test, s=5, label=\"Test data\")\n",
    "plt.xlabel(\"Date\")\n",
    "plt.ylabel(\"BTC Price\")\n",
    "plt.legend(fontsize=14)\n",
    "plt.show();"
   ]
  },
  {
   "cell_type": "code",
   "execution_count": 13,
   "metadata": {},
   "outputs": [
    {
     "data": {
      "text/plain": [
       "(2229, 558, 2229, 558)"
      ]
     },
     "execution_count": 13,
     "metadata": {},
     "output_type": "execute_result"
    }
   ],
   "source": [
    "# Right way to create train / test split for time series data\n",
    "split_size = int(0.8 * len(prices)) # 80% - train, 20% - test\n",
    "\n",
    "X_train, y_train = timestamps[:split_size], prices[:split_size]\n",
    "X_test, y_test = timestamps[split_size:], prices[split_size:]\n",
    "\n",
    "len(X_train), len(X_test), len(y_train), len(y_test)"
   ]
  },
  {
   "cell_type": "code",
   "execution_count": 14,
   "metadata": {},
   "outputs": [
    {
     "data": {
      "image/png": "[encoded data removed]",
      "text/plain": [
       "<Figure size 720x504 with 1 Axes>"
      ]
     },
     "metadata": {
      "needs_background": "light"
     },
     "output_type": "display_data"
    }
   ],
   "source": [
    "# Plotting the right data split results\n",
    "plt.figure(figsize=(10, 7))\n",
    "plt.scatter(X_train, y_train, s=5, label=\"Train data\")\n",
    "plt.scatter(X_test, y_test, s=5, label=\"Test data\")\n",
    "plt.xlabel(\"Date\")\n",
    "plt.ylabel(\"BTC Price\")\n",
    "plt.legend(fontsize=14)\n",
    "plt.show();"
   ]
  },
  {
   "cell_type": "code",
   "execution_count": 15,
   "metadata": {},
   "outputs": [],
   "source": [
    "# Creating plotting function\n",
    "def plot_time_series(timestamps, values, marker=\",\", start=0, end=None, label=None):\n",
    "    plt.plot(timestamps[start:end], values[start:end], marker=marker, label=label)\n",
    "    plt.xlabel(\"Time\")\n",
    "    plt.ylabel(\"BTC Price\")\n",
    "    if label:\n",
    "        plt.legend(fontsize=14)\n",
    "    plt.grid(True)"
   ]
  },
  {
   "cell_type": "code",
   "execution_count": 16,
   "metadata": {},
   "outputs": [
    {
     "data": {
      "image/png": "[encoded data removed]",
      "text/plain": [
       "<Figure size 720x504 with 1 Axes>"
      ]
     },
     "metadata": {
      "needs_background": "light"
     },
     "output_type": "display_data"
    }
   ],
   "source": [
    "# Testing plot function\n",
    "plt.figure(figsize=(10, 7))\n",
    "plot_time_series(timestamps=X_train, values=y_train, label=\"Train data\")\n",
    "plot_time_series(timestamps=X_test, values=y_test, label=\"Test data\")"
   ]
  },
  {
   "attachments": {},
   "cell_type": "markdown",
   "metadata": {},
   "source": [
    "### Model 0 - Naive forecast (baseline)"
   ]
  },
  {
   "attachments": {},
   "cell_type": "markdown",
   "metadata": {},
   "source": [
    "The prediction at timestamp t(y-hat) is equal to the value at timestamp t-1 (previous timestamp), i.e horizon of 1.\n",
    "$$\\hat{y}_{t} = y_{t-1}$$"
   ]
  },
  {
   "cell_type": "code",
   "execution_count": 17,
   "metadata": {},
   "outputs": [
    {
     "name": "stdout",
     "output_type": "stream",
     "text": [
      "First 10 values: [9226.48582088 8794.35864452 8798.04205463 9081.18687849 8711.53433917\n",
      " 8760.89271814 8749.52059102 8656.97092235 8500.64355816 8469.2608989 ]\n",
      "\n",
      "Last 10 values: [57107.12067189 58788.20967893 58102.19142623 55715.54665129\n",
      " 56573.5554719  52147.82118698 49764.1320816  50032.69313676\n",
      " 47885.62525472 45604.61575361]\n"
     ]
    }
   ],
   "source": [
    "# Creating naive forecast\n",
    "naive_forecast = y_test[:-1]\n",
    "\n",
    "print(f\"First 10 values: {naive_forecast[:10]}\\n\")\n",
    "print(f\"Last 10 values: {naive_forecast[-10:]}\")"
   ]
  },
  {
   "cell_type": "code",
   "execution_count": 18,
   "metadata": {},
   "outputs": [
    {
     "data": {
      "image/png": "[encoded data removed]",
      "text/plain": [
       "<Figure size 720x504 with 1 Axes>"
      ]
     },
     "metadata": {
      "needs_background": "light"
     },
     "output_type": "display_data"
    }
   ],
   "source": [
    "# Plotting naive forecast\n",
    "plt.figure(figsize=(10, 7))\n",
    "# plot_time_series(timestamps=X_train, values=y_train, label=\"Train data\")\n",
    "plot_time_series(timestamps=X_test, values=y_test, start=500, label=\"Test data\")\n",
    "plot_time_series(timestamps=X_test[1:], values=naive_forecast, start=500, marker=\"o\", label=\"Naive forecast\")"
   ]
  },
  {
   "cell_type": "code",
   "execution_count": 19,
   "metadata": {},
   "outputs": [],
   "source": [
    "# MASE implementation\n",
    "def mean_absolute_scaled_error(y_true, y_pred):\n",
    "    mae = tf.reduce_mean(tf.abs(y_true - y_pred))\n",
    "\n",
    "    # Find MAE of Naive Forecast (no seasonality)\n",
    "    mae_naive_no_season = tf.reduce_mean(tf.abs(y_true[1:] - y_true[:-1])) # Seasonality of 1 day\n",
    "\n",
    "    return mae / mae_naive_no_season"
   ]
  },
  {
   "cell_type": "code",
   "execution_count": 20,
   "metadata": {},
   "outputs": [
    {
     "data": {
      "text/plain": [
       "<tf.Tensor: shape=(), dtype=float64, numpy=0.9995699939182626>"
      ]
     },
     "execution_count": 20,
     "metadata": {},
     "output_type": "execute_result"
    }
   ],
   "source": [
    "# Verify if MASE of Naive Forecast is 1\n",
    "mean_absolute_scaled_error(\n",
    "    y_true=y_test[1:],\n",
    "    y_pred=naive_forecast\n",
    ")"
   ]
  },
  {
   "cell_type": "code",
   "execution_count": 21,
   "metadata": {},
   "outputs": [],
   "source": [
    "# Function for evaluation matrix\n",
    "def evaluate_preds(y_true, y_pred):\n",
    "\n",
    "    # Ensuring that we use float32 dtype (for metric calculations)\n",
    "    y_true = tf.cast(y_true, dtype=tf.float32)\n",
    "    y_pred = tf.cast(y_pred, dtype=tf.float32)\n",
    "\n",
    "    # Calculating various evaluation metrics\n",
    "    mae = tf.keras.metrics.mean_absolute_error(y_true, y_pred)\n",
    "    mse = tf.keras.metrics.mean_squared_error(y_true, y_pred)\n",
    "    rmse = tf.sqrt(mse)\n",
    "    mape = tf.keras.metrics.mean_absolute_percentage_error(y_true, y_pred)\n",
    "    mase = mean_absolute_scaled_error(y_true, y_pred)\n",
    "\n",
    "    return {\n",
    "        \"mae\": mae.numpy(),\n",
    "        \"mse\": mse.numpy(),\n",
    "        \"rmse\": rmse.numpy(),\n",
    "        \"mape\": mape.numpy(),\n",
    "        \"mase\": mase.numpy()\n",
    "    }"
   ]
  },
  {
   "cell_type": "code",
   "execution_count": 22,
   "metadata": {},
   "outputs": [
    {
     "data": {
      "text/plain": [
       "{'mae': 567.9802,\n",
       " 'mse': 1147547.0,\n",
       " 'rmse': 1071.2362,\n",
       " 'mape': 2.5165248,\n",
       " 'mase': 0.99957}"
      ]
     },
     "execution_count": 22,
     "metadata": {},
     "output_type": "execute_result"
    }
   ],
   "source": [
    "# Evaluating naive forecast results\n",
    "naive_results = evaluate_preds(y_true=y_test[1:], y_pred=naive_forecast)\n",
    "naive_results"
   ]
  },
  {
   "attachments": {},
   "cell_type": "markdown",
   "metadata": {},
   "source": [
    "### Windowing data"
   ]
  },
  {
   "cell_type": "code",
   "execution_count": 23,
   "metadata": {},
   "outputs": [
    {
     "name": "stdout",
     "output_type": "stream",
     "text": [
      "Intention is to use [123.65499, 125.455, 108.58483, 118.67466, 121.33866, 120.65533, 121.795] to predict 123.033\n"
     ]
    }
   ],
   "source": [
    "# We want to use Bitcoin prices of the week to predict next day price\n",
    "print(f\"Intention is to use {btc_price[:7]} to predict {btc_price[7]}\")"
   ]
  },
  {
   "cell_type": "code",
   "execution_count": 24,
   "metadata": {},
   "outputs": [],
   "source": [
    "# Setting up global variables for window size and horizon\n",
    "HORIZON = 1 # predict next 1 day\n",
    "WINDOW_SIZE = 7 # use the past week of Bitcoin data"
   ]
  },
  {
   "cell_type": "code",
   "execution_count": 25,
   "metadata": {},
   "outputs": [],
   "source": [
    "# Creating function to label windowed data\n",
    "def get_labelled_window(x, horizon=HORIZON):\n",
    "    return x[:, :-horizon], x[:, -horizon:]"
   ]
  },
  {
   "cell_type": "code",
   "execution_count": 26,
   "metadata": {},
   "outputs": [
    {
     "data": {
      "text/plain": [
       "(<tf.Tensor: shape=(1, 7), dtype=int32, numpy=array([[1, 2, 3, 4, 5, 6, 7]])>,\n",
       " <tf.Tensor: shape=(1, 1), dtype=int32, numpy=array([[8]])>)"
      ]
     },
     "execution_count": 26,
     "metadata": {},
     "output_type": "execute_result"
    }
   ],
   "source": [
    "# Testing window labelling function\n",
    "test_window, test_label = get_labelled_window(tf.expand_dims(tf.range(8) + 1, axis=0))\n",
    "test_window, test_label"
   ]
  },
  {
   "cell_type": "code",
   "execution_count": 27,
   "metadata": {},
   "outputs": [],
   "source": [
    "# Creating function to view NumPy arrays as windows\n",
    "def make_windows(x, window_size=WINDOW_SIZE, horizon=HORIZON):\n",
    "\n",
    "    # 1. Creating window of specific window size\n",
    "    window_step = np.expand_dims(np.arange(window_size + horizon), axis=0)\n",
    "\n",
    "    # 2. Creating 2D array of multiple windows\n",
    "    window_indexes = window_step + np.expand_dims(np.arange(len(x) - (window_size + horizon - 1)), axis=0).T\n",
    "    # print(f\"Windows indexes: {window_indexes} with shape of {window_indexes.shape}\")\n",
    "\n",
    "    # 3. Index on the target array (time series) with 2D of multiple window steps\n",
    "    windowed_array = x[window_indexes]\n",
    "\n",
    "    # 4. Get the labelled windows\n",
    "    windows, labels = get_labelled_window(windowed_array, horizon=horizon)\n",
    "    return windows, labels"
   ]
  },
  {
   "cell_type": "code",
   "execution_count": 28,
   "metadata": {},
   "outputs": [
    {
     "data": {
      "text/plain": [
       "(2780, 2780)"
      ]
     },
     "execution_count": 28,
     "metadata": {},
     "output_type": "execute_result"
    }
   ],
   "source": [
    "# Testing the function\n",
    "full_windows, full_labels = make_windows(prices)\n",
    "len(full_windows), len(full_labels)"
   ]
  },
  {
   "cell_type": "code",
   "execution_count": 29,
   "metadata": {},
   "outputs": [
    {
     "name": "stdout",
     "output_type": "stream",
     "text": [
      "Window: [123.65499 125.455   108.58483 118.67466 121.33866 120.65533 121.795  ] -> Label: [123.033]\n",
      "Window: [125.455   108.58483 118.67466 121.33866 120.65533 121.795   123.033  ] -> Label: [124.049]\n",
      "Window: [108.58483 118.67466 121.33866 120.65533 121.795   123.033   124.049  ] -> Label: [125.96116]\n"
     ]
    }
   ],
   "source": [
    "# Viewing the first 3 windows / labels\n",
    "for i in range(3):\n",
    "    print(f\"Window: {full_windows[i]} -> Label: {full_labels[i]}\")"
   ]
  },
  {
   "cell_type": "code",
   "execution_count": 30,
   "metadata": {},
   "outputs": [
    {
     "name": "stdout",
     "output_type": "stream",
     "text": [
      "Window: [58788.20967893 58102.19142623 55715.54665129 56573.5554719\n",
      " 52147.82118698 49764.1320816  50032.69313676] -> Label: [47885.62525472]\n",
      "Window: [58102.19142623 55715.54665129 56573.5554719  52147.82118698\n",
      " 49764.1320816  50032.69313676 47885.62525472] -> Label: [45604.61575361]\n",
      "Window: [55715.54665129 56573.5554719  52147.82118698 49764.1320816\n",
      " 50032.69313676 47885.62525472 45604.61575361] -> Label: [43144.47129086]\n"
     ]
    }
   ],
   "source": [
    "# Viewing the last 3 windows / labels\n",
    "for i in range(3):\n",
    "    print(f\"Window: {full_windows[i-3]} -> Label: {full_labels[i-3]}\")"
   ]
  },
  {
   "attachments": {},
   "cell_type": "markdown",
   "metadata": {},
   "source": [
    "### Splitting windows into training and testing sets"
   ]
  },
  {
   "cell_type": "code",
   "execution_count": 31,
   "metadata": {},
   "outputs": [],
   "source": [
    "# Creating function to make train / test splits\n",
    "def make_train_test_splits(windows, labels, test_split=0.2):\n",
    "    split_size = int(len(windows) * (1 - test_split)) # Default 80% train / 20% test\n",
    "    train_windows = windows[:split_size]\n",
    "    train_labels = labels[:split_size]\n",
    "    test_windows = windows[split_size:]\n",
    "    test_labels = labels[split_size:]\n",
    "    return train_windows, test_windows, train_labels, test_labels"
   ]
  },
  {
   "cell_type": "code",
   "execution_count": 32,
   "metadata": {},
   "outputs": [
    {
     "data": {
      "text/plain": [
       "(2224, 556, 2224, 556)"
      ]
     },
     "execution_count": 32,
     "metadata": {},
     "output_type": "execute_result"
    }
   ],
   "source": [
    "# Creating training and testing windows\n",
    "train_windows, test_windows, train_labels, test_labels = make_train_test_splits(\n",
    "    full_windows, full_labels\n",
    ")\n",
    "len(train_windows), len(test_windows), len(train_labels), len(test_labels)"
   ]
  },
  {
   "cell_type": "code",
   "execution_count": 33,
   "metadata": {},
   "outputs": [
    {
     "data": {
      "text/plain": [
       "(array([[123.65499, 125.455  , 108.58483, 118.67466, 121.33866, 120.65533,\n",
       "         121.795  ],\n",
       "        [125.455  , 108.58483, 118.67466, 121.33866, 120.65533, 121.795  ,\n",
       "         123.033  ],\n",
       "        [108.58483, 118.67466, 121.33866, 120.65533, 121.795  , 123.033  ,\n",
       "         124.049  ],\n",
       "        [118.67466, 121.33866, 120.65533, 121.795  , 123.033  , 124.049  ,\n",
       "         125.96116],\n",
       "        [121.33866, 120.65533, 121.795  , 123.033  , 124.049  , 125.96116,\n",
       "         125.27966]]),\n",
       " array([[123.033  ],\n",
       "        [124.049  ],\n",
       "        [125.96116],\n",
       "        [125.27966],\n",
       "        [125.9275 ]]))"
      ]
     },
     "execution_count": 33,
     "metadata": {},
     "output_type": "execute_result"
    }
   ],
   "source": [
    "# Checking the first 5 train window values\n",
    "train_windows[:5], train_labels[:5]"
   ]
  },
  {
   "cell_type": "code",
   "execution_count": 34,
   "metadata": {},
   "outputs": [
    {
     "data": {
      "text/plain": [
       "(array([[9290.89660239, 9202.41545055, 9369.62808116, 9326.59962378,\n",
       "         9335.75240233, 9226.48582088, 8794.35864452],\n",
       "        [9202.41545055, 9369.62808116, 9326.59962378, 9335.75240233,\n",
       "         9226.48582088, 8794.35864452, 8798.04205463],\n",
       "        [9369.62808116, 9326.59962378, 9335.75240233, 9226.48582088,\n",
       "         8794.35864452, 8798.04205463, 9081.18687849],\n",
       "        [9326.59962378, 9335.75240233, 9226.48582088, 8794.35864452,\n",
       "         8798.04205463, 9081.18687849, 8711.53433917],\n",
       "        [9335.75240233, 9226.48582088, 8794.35864452, 8798.04205463,\n",
       "         9081.18687849, 8711.53433917, 8760.89271814]]),\n",
       " array([[8798.04205463],\n",
       "        [9081.18687849],\n",
       "        [8711.53433917],\n",
       "        [8760.89271814],\n",
       "        [8749.52059102]]))"
      ]
     },
     "execution_count": 34,
     "metadata": {},
     "output_type": "execute_result"
    }
   ],
   "source": [
    "# Checking the first test values\n",
    "test_windows[:5], test_labels[:5]"
   ]
  },
  {
   "attachments": {},
   "cell_type": "markdown",
   "metadata": {},
   "source": [
    "### Modelling checkpoint callback"
   ]
  },
  {
   "cell_type": "code",
   "execution_count": 35,
   "metadata": {},
   "outputs": [],
   "source": [
    "# Function to implement ModelCheckpoint callback\n",
    "import os\n",
    "\n",
    "def create_model_checkpoint(model_name, save_path=\"model_experiments\"):\n",
    "    return tf.keras.callbacks.ModelCheckpoint(\n",
    "        filepath=os.path.join(save_path, model_name),\n",
    "        verbose=0,\n",
    "        save_best_only=True\n",
    "    )"
   ]
  },
  {
   "attachments": {},
   "cell_type": "markdown",
   "metadata": {},
   "source": [
    "### Model 1 - Dense model (window = 7, horizon = 1)"
   ]
  },
  {
   "cell_type": "code",
   "execution_count": 36,
   "metadata": {},
   "outputs": [
    {
     "name": "stdout",
     "output_type": "stream",
     "text": [
      "Epoch 1/100\n",
      " 1/18 [>.............................] - ETA: 12s - loss: 3109.0698 - mae: 3109.0698 - mse: 19901784.0000INFO:tensorflow:Assets written to: model_experiments\\model_1_dense\\assets\n",
      "18/18 [==============================] - 2s 60ms/step - loss: 1244.0657 - mae: 1244.0657 - mse: 5649748.0000 - val_loss: 2969.3745 - val_mae: 2969.3745 - val_mse: 19015286.0000\n",
      "Epoch 2/100\n",
      " 1/18 [>.............................] - ETA: 0s - loss: 431.1550 - mae: 431.1550 - mse: 792186.1250INFO:tensorflow:Assets written to: model_experiments\\model_1_dense\\assets\n",
      "18/18 [==============================] - 0s 28ms/step - loss: 303.5293 - mae: 303.5293 - mse: 387971.2500 - val_loss: 963.3384 - val_mae: 963.3384 - val_mse: 2911530.0000\n",
      "Epoch 3/100\n",
      " 1/18 [>.............................] - ETA: 0s - loss: 126.7369 - mae: 126.7369 - mse: 64204.3125INFO:tensorflow:Assets written to: model_experiments\\model_1_dense\\assets\n",
      "18/18 [==============================] - 1s 40ms/step - loss: 175.9530 - mae: 175.9530 - mse: 151002.2500 - val_loss: 906.1940 - val_mae: 906.1940 - val_mse: 2691376.0000\n",
      "Epoch 4/100\n",
      " 1/18 [>.............................] - ETA: 0s - loss: 197.5199 - mae: 197.5199 - mse: 207100.2188INFO:tensorflow:Assets written to: model_experiments\\model_1_dense\\assets\n",
      "18/18 [==============================] - 1s 31ms/step - loss: 162.7229 - mae: 162.7229 - mse: 141971.0469 - val_loss: 858.2644 - val_mae: 858.2644 - val_mse: 2481960.0000\n",
      "Epoch 5/100\n",
      " 1/18 [>.............................] - ETA: 0s - loss: 158.0224 - mae: 158.0224 - mse: 93086.9688INFO:tensorflow:Assets written to: model_experiments\\model_1_dense\\assets\n",
      "18/18 [==============================] - 1s 30ms/step - loss: 153.5001 - mae: 153.5001 - mse: 128748.2031 - val_loss: 837.3532 - val_mae: 837.3532 - val_mse: 2282886.0000\n",
      "Epoch 6/100\n",
      " 1/18 [>.............................] - ETA: 0s - loss: 109.0870 - mae: 109.0870 - mse: 46952.6758INFO:tensorflow:Assets written to: model_experiments\\model_1_dense\\assets\n",
      "18/18 [==============================] - 0s 29ms/step - loss: 148.5766 - mae: 148.5766 - mse: 120468.4531 - val_loss: 803.2035 - val_mae: 803.2035 - val_mse: 2192434.7500\n",
      "Epoch 7/100\n",
      " 1/18 [>.............................] - ETA: 0s - loss: 169.3874 - mae: 169.3874 - mse: 227242.2812INFO:tensorflow:Assets written to: model_experiments\\model_1_dense\\assets\n",
      "18/18 [==============================] - 1s 30ms/step - loss: 143.5299 - mae: 143.5299 - mse: 113893.8594 - val_loss: 794.4690 - val_mae: 794.4690 - val_mse: 2079302.5000\n",
      "Epoch 8/100\n",
      " 1/18 [>.............................] - ETA: 0s - loss: 113.5414 - mae: 113.5414 - mse: 51022.4141INFO:tensorflow:Assets written to: model_experiments\\model_1_dense\\assets\n",
      "18/18 [==============================] - 1s 32ms/step - loss: 139.6415 - mae: 139.6415 - mse: 109299.6406 - val_loss: 772.5053 - val_mae: 772.5053 - val_mse: 2035081.6250\n",
      "Epoch 9/100\n",
      "18/18 [==============================] - 0s 3ms/step - loss: 140.6087 - mae: 140.6087 - mse: 109674.4141 - val_loss: 785.4498 - val_mae: 785.4498 - val_mse: 1956479.5000\n",
      "Epoch 10/100\n",
      " 1/18 [>.............................] - ETA: 0s - loss: 144.8822 - mae: 144.8822 - mse: 152556.2031INFO:tensorflow:Assets written to: model_experiments\\model_1_dense\\assets\n",
      "18/18 [==============================] - 1s 31ms/step - loss: 135.6803 - mae: 135.6803 - mse: 104685.6641 - val_loss: 737.2496 - val_mae: 737.2496 - val_mse: 1829242.8750\n",
      "Epoch 11/100\n",
      " 1/18 [>.............................] - ETA: 0s - loss: 137.2105 - mae: 137.2105 - mse: 88464.3516INFO:tensorflow:Assets written to: model_experiments\\model_1_dense\\assets\n",
      "18/18 [==============================] - 1s 33ms/step - loss: 131.4224 - mae: 131.4224 - mse: 98482.9688 - val_loss: 732.4432 - val_mae: 732.4432 - val_mse: 1759806.7500\n",
      "Epoch 12/100\n",
      "18/18 [==============================] - 0s 4ms/step - loss: 129.6993 - mae: 129.6993 - mse: 96289.7734 - val_loss: 791.8988 - val_mae: 791.8988 - val_mse: 1887094.5000\n",
      "Epoch 13/100\n",
      "18/18 [==============================] - 0s 4ms/step - loss: 132.2754 - mae: 132.2754 - mse: 97645.8047 - val_loss: 755.2544 - val_mae: 755.2544 - val_mse: 1762665.3750\n",
      "Epoch 14/100\n",
      " 1/18 [>.............................] - ETA: 0s - loss: 129.4836 - mae: 129.4836 - mse: 67665.1562INFO:tensorflow:Assets written to: model_experiments\\model_1_dense\\assets\n",
      "18/18 [==============================] - 1s 32ms/step - loss: 125.3374 - mae: 125.3374 - mse: 91302.5938 - val_loss: 706.8969 - val_mae: 706.8969 - val_mse: 1617741.0000\n",
      "Epoch 15/100\n",
      " 1/18 [>.............................] - ETA: 0s - loss: 122.9987 - mae: 122.9987 - mse: 60314.7891INFO:tensorflow:Assets written to: model_experiments\\model_1_dense\\assets\n",
      "18/18 [==============================] - 1s 33ms/step - loss: 127.5089 - mae: 127.5089 - mse: 90807.1484 - val_loss: 675.4247 - val_mae: 675.4247 - val_mse: 1536317.7500\n",
      "Epoch 16/100\n",
      " 1/18 [>.............................] - ETA: 0s - loss: 109.0686 - mae: 109.0686 - mse: 52599.9141INFO:tensorflow:Assets written to: model_experiments\\model_1_dense\\assets\n",
      "18/18 [==============================] - 1s 30ms/step - loss: 121.5231 - mae: 121.5231 - mse: 85854.1094 - val_loss: 669.5942 - val_mae: 669.5942 - val_mse: 1505575.8750\n",
      "Epoch 17/100\n",
      "18/18 [==============================] - 0s 4ms/step - loss: 120.9931 - mae: 120.9931 - mse: 87023.0156 - val_loss: 672.1047 - val_mae: 672.1047 - val_mse: 1495340.7500\n",
      "Epoch 18/100\n",
      " 1/18 [>.............................] - ETA: 0s - loss: 137.4615 - mae: 137.4615 - mse: 100766.2500INFO:tensorflow:Assets written to: model_experiments\\model_1_dense\\assets\n",
      "18/18 [==============================] - 1s 43ms/step - loss: 119.1095 - mae: 119.1095 - mse: 84861.1562 - val_loss: 647.8100 - val_mae: 647.8100 - val_mse: 1442978.2500\n",
      "Epoch 19/100\n",
      "18/18 [==============================] - 0s 4ms/step - loss: 122.1528 - mae: 122.1528 - mse: 85777.6406 - val_loss: 709.3585 - val_mae: 709.3585 - val_mse: 1570045.7500\n",
      "Epoch 20/100\n",
      "18/18 [==============================] - 0s 4ms/step - loss: 118.6219 - mae: 118.6219 - mse: 82838.9531 - val_loss: 650.7870 - val_mae: 650.7870 - val_mse: 1426039.0000\n",
      "Epoch 21/100\n",
      " 1/18 [>.............................] - ETA: 0s - loss: 124.2400 - mae: 124.2400 - mse: 73538.7812INFO:tensorflow:Assets written to: model_experiments\\model_1_dense\\assets\n",
      "18/18 [==============================] - 1s 35ms/step - loss: 121.2040 - mae: 121.2040 - mse: 83425.7969 - val_loss: 633.9065 - val_mae: 633.9065 - val_mse: 1392787.6250\n",
      "Epoch 22/100\n",
      " 1/18 [>.............................] - ETA: 0s - loss: 168.8049 - mae: 168.8049 - mse: 157551.7031INFO:tensorflow:Assets written to: model_experiments\\model_1_dense\\assets\n",
      "18/18 [==============================] - 0s 29ms/step - loss: 117.5348 - mae: 117.5348 - mse: 82734.8594 - val_loss: 630.1585 - val_mae: 630.1585 - val_mse: 1376153.5000\n",
      "Epoch 23/100\n",
      "18/18 [==============================] - ETA: 0s - loss: 116.6699 - mae: 116.6699 - mse: 80712.0547INFO:tensorflow:Assets written to: model_experiments\\model_1_dense\\assets\n",
      "18/18 [==============================] - 1s 33ms/step - loss: 116.6699 - mae: 116.6699 - mse: 80712.0547 - val_loss: 626.1022 - val_mae: 626.1022 - val_mse: 1369159.6250\n",
      "Epoch 24/100\n",
      " 1/18 [>.............................] - ETA: 0s - loss: 123.4844 - mae: 123.4844 - mse: 82961.7031INFO:tensorflow:Assets written to: model_experiments\\model_1_dense\\assets\n",
      "18/18 [==============================] - 1s 30ms/step - loss: 115.1169 - mae: 115.1169 - mse: 80572.7500 - val_loss: 622.5604 - val_mae: 622.5604 - val_mse: 1356467.6250\n",
      "Epoch 25/100\n",
      " 1/18 [>.............................] - ETA: 0s - loss: 126.2959 - mae: 126.2959 - mse: 63978.8359INFO:tensorflow:Assets written to: model_experiments\\model_1_dense\\assets\n",
      "18/18 [==============================] - 1s 30ms/step - loss: 115.5887 - mae: 115.5887 - mse: 79490.0703 - val_loss: 619.4437 - val_mae: 619.4437 - val_mse: 1345829.7500\n",
      "Epoch 26/100\n",
      "18/18 [==============================] - 0s 3ms/step - loss: 117.8482 - mae: 117.8482 - mse: 80235.0703 - val_loss: 624.2335 - val_mae: 624.2335 - val_mse: 1363284.0000\n",
      "Epoch 27/100\n",
      " 1/18 [>.............................] - ETA: 0s - loss: 164.9514 - mae: 164.9514 - mse: 135015.8750INFO:tensorflow:Assets written to: model_experiments\\model_1_dense\\assets\n",
      "18/18 [==============================] - 0s 27ms/step - loss: 117.5512 - mae: 117.5512 - mse: 80317.8359 - val_loss: 615.3596 - val_mae: 615.3596 - val_mse: 1325170.3750\n",
      "Epoch 28/100\n",
      " 1/18 [>.............................] - ETA: 0s - loss: 103.5381 - mae: 103.5381 - mse: 65708.7188INFO:tensorflow:Assets written to: model_experiments\\model_1_dense\\assets\n",
      "18/18 [==============================] - 1s 32ms/step - loss: 113.8627 - mae: 113.8627 - mse: 77208.4609 - val_loss: 612.0916 - val_mae: 612.0916 - val_mse: 1321468.3750\n",
      "Epoch 29/100\n",
      "18/18 [==============================] - 0s 3ms/step - loss: 112.5231 - mae: 112.5231 - mse: 77291.4297 - val_loss: 648.8663 - val_mae: 648.8663 - val_mse: 1381953.6250\n",
      "Epoch 30/100\n",
      "18/18 [==============================] - 0s 3ms/step - loss: 123.2573 - mae: 123.2573 - mse: 83659.0469 - val_loss: 718.8019 - val_mae: 718.8019 - val_mse: 1545833.2500\n",
      "Epoch 31/100\n",
      "18/18 [==============================] - 0s 4ms/step - loss: 133.5059 - mae: 133.5059 - mse: 89286.9922 - val_loss: 967.8024 - val_mae: 967.8024 - val_mse: 2368773.7500\n",
      "Epoch 32/100\n",
      " 1/18 [>.............................] - ETA: 0s - loss: 164.0931 - mae: 164.0931 - mse: 104080.5781INFO:tensorflow:Assets written to: model_experiments\\model_1_dense\\assets\n",
      "18/18 [==============================] - 1s 32ms/step - loss: 135.7666 - mae: 135.7666 - mse: 88894.1016 - val_loss: 611.8600 - val_mae: 611.8600 - val_mse: 1301518.0000\n",
      "Epoch 33/100\n",
      "18/18 [==============================] - 0s 4ms/step - loss: 116.2247 - mae: 116.2247 - mse: 76635.0547 - val_loss: 681.6787 - val_mae: 681.6787 - val_mse: 1444775.8750\n",
      "Epoch 34/100\n",
      " 1/18 [>.............................] - ETA: 0s - loss: 144.4259 - mae: 144.4259 - mse: 125582.0391INFO:tensorflow:Assets written to: model_experiments\\model_1_dense\\assets\n",
      "18/18 [==============================] - 1s 31ms/step - loss: 115.7994 - mae: 115.7994 - mse: 79705.7812 - val_loss: 601.1017 - val_mae: 601.1017 - val_mse: 1283101.5000\n",
      "Epoch 35/100\n",
      " 1/18 [>.............................] - ETA: 0s - loss: 99.4099 - mae: 99.4099 - mse: 53500.1641INFO:tensorflow:Assets written to: model_experiments\\model_1_dense\\assets\n",
      "18/18 [==============================] - 1s 44ms/step - loss: 111.4650 - mae: 111.4650 - mse: 75953.3594 - val_loss: 599.6586 - val_mae: 599.6586 - val_mse: 1275321.5000\n",
      "Epoch 36/100\n",
      "18/18 [==============================] - 0s 7ms/step - loss: 116.6789 - mae: 116.6789 - mse: 77157.0078 - val_loss: 611.4963 - val_mae: 611.4963 - val_mse: 1290169.1250\n",
      "Epoch 37/100\n",
      " 1/18 [>.............................] - ETA: 0s - loss: 135.2555 - mae: 135.2555 - mse: 117495.0625INFO:tensorflow:Assets written to: model_experiments\\model_1_dense\\assets\n",
      "18/18 [==============================] - 1s 31ms/step - loss: 112.2365 - mae: 112.2365 - mse: 76667.4844 - val_loss: 596.9784 - val_mae: 596.9784 - val_mse: 1267735.2500\n",
      "Epoch 38/100\n",
      " 1/18 [>.............................] - ETA: 0s - loss: 98.3981 - mae: 98.3981 - mse: 69768.4531INFO:tensorflow:Assets written to: model_experiments\\model_1_dense\\assets\n",
      "18/18 [==============================] - 1s 32ms/step - loss: 111.5384 - mae: 111.5384 - mse: 75716.0234 - val_loss: 596.8588 - val_mae: 596.8588 - val_mse: 1264857.5000\n",
      "Epoch 39/100\n",
      "18/18 [==============================] - 0s 4ms/step - loss: 111.1059 - mae: 111.1059 - mse: 75204.9688 - val_loss: 607.6461 - val_mae: 607.6461 - val_mse: 1298761.6250\n",
      "Epoch 40/100\n",
      "17/18 [===========================>..] - ETA: 0s - loss: 110.5454 - mae: 110.5454 - mse: 75852.8516INFO:tensorflow:Assets written to: model_experiments\\model_1_dense\\assets\n",
      "18/18 [==============================] - 1s 36ms/step - loss: 110.1393 - mae: 110.1393 - mse: 75073.5547 - val_loss: 593.1107 - val_mae: 593.1107 - val_mse: 1258282.3750\n",
      "Epoch 41/100\n",
      "18/18 [==============================] - 0s 4ms/step - loss: 112.5254 - mae: 112.5254 - mse: 74800.3984 - val_loss: 629.9059 - val_mae: 629.9059 - val_mse: 1350104.7500\n",
      "Epoch 42/100\n",
      "18/18 [==============================] - 0s 4ms/step - loss: 115.3717 - mae: 115.3717 - mse: 77982.6328 - val_loss: 618.0259 - val_mae: 618.0259 - val_mse: 1288212.1250\n",
      "Epoch 43/100\n",
      "18/18 [==============================] - 0s 4ms/step - loss: 115.6729 - mae: 115.6729 - mse: 75465.1719 - val_loss: 616.7834 - val_mae: 616.7834 - val_mse: 1313030.3750\n",
      "Epoch 44/100\n",
      "18/18 [==============================] - 0s 4ms/step - loss: 121.2926 - mae: 121.2926 - mse: 82965.4141 - val_loss: 638.0963 - val_mae: 638.0963 - val_mse: 1363049.3750\n",
      "Epoch 45/100\n",
      "18/18 [==============================] - 0s 6ms/step - loss: 110.6397 - mae: 110.6397 - mse: 75078.5781 - val_loss: 598.3234 - val_mae: 598.3234 - val_mse: 1250675.0000\n",
      "Epoch 46/100\n",
      "17/18 [===========================>..] - ETA: 0s - loss: 110.0441 - mae: 110.0441 - mse: 73647.4141INFO:tensorflow:Assets written to: model_experiments\\model_1_dense\\assets\n",
      "18/18 [==============================] - 1s 42ms/step - loss: 110.6126 - mae: 110.6126 - mse: 74124.5859 - val_loss: 590.4912 - val_mae: 590.4912 - val_mse: 1248045.1250\n",
      "Epoch 47/100\n",
      "18/18 [==============================] - 0s 4ms/step - loss: 109.6444 - mae: 109.6444 - mse: 74521.3750 - val_loss: 667.9784 - val_mae: 667.9784 - val_mse: 1389954.2500\n",
      "Epoch 48/100\n",
      "18/18 [==============================] - 0s 4ms/step - loss: 111.6425 - mae: 111.6425 - mse: 73627.8750 - val_loss: 636.9478 - val_mae: 636.9478 - val_mse: 1320109.1250\n",
      "Epoch 49/100\n",
      " 1/18 [>.............................] - ETA: 0s - loss: 170.9452 - mae: 170.9452 - mse: 138384.9531INFO:tensorflow:Assets written to: model_experiments\\model_1_dense\\assets\n",
      "18/18 [==============================] - 1s 32ms/step - loss: 112.6119 - mae: 112.6119 - mse: 74335.2266 - val_loss: 584.3745 - val_mae: 584.3745 - val_mse: 1225253.1250\n",
      "Epoch 50/100\n",
      "18/18 [==============================] - 0s 3ms/step - loss: 109.9223 - mae: 109.9223 - mse: 73382.8516 - val_loss: 605.0110 - val_mae: 605.0110 - val_mse: 1276518.0000\n",
      "Epoch 51/100\n",
      "18/18 [==============================] - 0s 4ms/step - loss: 110.6635 - mae: 110.6635 - mse: 74065.9688 - val_loss: 603.1708 - val_mae: 603.1708 - val_mse: 1249088.5000\n",
      "Epoch 52/100\n",
      "18/18 [==============================] - 0s 4ms/step - loss: 110.4279 - mae: 110.4279 - mse: 74719.4531 - val_loss: 584.4964 - val_mae: 584.4964 - val_mse: 1227185.1250\n",
      "Epoch 53/100\n",
      "18/18 [==============================] - 0s 3ms/step - loss: 111.8669 - mae: 111.8669 - mse: 74801.9297 - val_loss: 649.0535 - val_mae: 649.0535 - val_mse: 1342277.5000\n",
      "Epoch 54/100\n",
      " 1/18 [>.............................] - ETA: 0s - loss: 107.6782 - mae: 107.6782 - mse: 64567.3203INFO:tensorflow:Assets written to: model_experiments\\model_1_dense\\assets\n",
      "18/18 [==============================] - 1s 30ms/step - loss: 112.3848 - mae: 112.3848 - mse: 73864.5000 - val_loss: 582.7422 - val_mae: 582.7422 - val_mse: 1221235.5000\n",
      "Epoch 55/100\n",
      "18/18 [==============================] - 0s 3ms/step - loss: 113.1643 - mae: 113.1643 - mse: 76984.8594 - val_loss: 586.8604 - val_mae: 586.8604 - val_mse: 1221138.7500\n",
      "Epoch 56/100\n",
      "18/18 [==============================] - 0s 3ms/step - loss: 110.6560 - mae: 110.6560 - mse: 73756.5938 - val_loss: 718.7935 - val_mae: 718.7935 - val_mse: 1579686.8750\n",
      "Epoch 57/100\n",
      "18/18 [==============================] - 0s 5ms/step - loss: 121.5559 - mae: 121.5559 - mse: 81625.4297 - val_loss: 653.8524 - val_mae: 653.8524 - val_mse: 1386729.8750\n",
      "Epoch 58/100\n",
      " 1/18 [>.............................] - ETA: 0s - loss: 95.2707 - mae: 95.2707 - mse: 35720.6484INFO:tensorflow:Assets written to: model_experiments\\model_1_dense\\assets\n",
      "18/18 [==============================] - 1s 31ms/step - loss: 117.1749 - mae: 117.1749 - mse: 74907.2188 - val_loss: 582.5510 - val_mae: 582.5510 - val_mse: 1210643.6250\n",
      "Epoch 59/100\n",
      "18/18 [==============================] - 0s 4ms/step - loss: 109.0586 - mae: 109.0586 - mse: 72445.9844 - val_loss: 602.4498 - val_mae: 602.4498 - val_mse: 1262604.3750\n",
      "Epoch 60/100\n",
      "18/18 [==============================] - 0s 4ms/step - loss: 109.0026 - mae: 109.0026 - mse: 73021.2500 - val_loss: 591.5381 - val_mae: 591.5381 - val_mse: 1221034.3750\n",
      "Epoch 61/100\n",
      " 1/18 [>.............................] - ETA: 0s - loss: 127.5042 - mae: 127.5042 - mse: 93322.5938INFO:tensorflow:Assets written to: model_experiments\\model_1_dense\\assets\n",
      "18/18 [==============================] - 1s 31ms/step - loss: 108.7897 - mae: 108.7897 - mse: 72818.3828 - val_loss: 578.5981 - val_mae: 578.5981 - val_mse: 1201615.6250\n",
      "Epoch 62/100\n",
      "18/18 [==============================] - 0s 3ms/step - loss: 107.6274 - mae: 107.6274 - mse: 71343.3203 - val_loss: 581.6070 - val_mae: 581.6070 - val_mse: 1215495.3750\n",
      "Epoch 63/100\n",
      "18/18 [==============================] - 0s 4ms/step - loss: 108.3395 - mae: 108.3395 - mse: 72019.2344 - val_loss: 623.3162 - val_mae: 623.3162 - val_mse: 1280585.7500\n",
      "Epoch 64/100\n",
      "18/18 [==============================] - 0s 4ms/step - loss: 109.6646 - mae: 109.6646 - mse: 72527.1172 - val_loss: 584.6324 - val_mae: 584.6324 - val_mse: 1209066.5000\n",
      "Epoch 65/100\n",
      "18/18 [==============================] - 0s 5ms/step - loss: 108.0121 - mae: 108.0121 - mse: 71816.0781 - val_loss: 578.8391 - val_mae: 578.8391 - val_mse: 1204958.3750\n",
      "Epoch 66/100\n",
      " 1/18 [>.............................] - ETA: 0s - loss: 113.7538 - mae: 113.7538 - mse: 74336.9219INFO:tensorflow:Assets written to: model_experiments\\model_1_dense\\assets\n",
      "18/18 [==============================] - 1s 31ms/step - loss: 107.4663 - mae: 107.4663 - mse: 71359.8047 - val_loss: 577.9528 - val_mae: 577.9528 - val_mse: 1195628.8750\n",
      "Epoch 67/100\n",
      "18/18 [==============================] - 0s 4ms/step - loss: 107.6326 - mae: 107.6326 - mse: 70703.9688 - val_loss: 677.3035 - val_mae: 677.3035 - val_mse: 1444094.6250\n",
      "Epoch 68/100\n",
      "18/18 [==============================] - 0s 3ms/step - loss: 111.0551 - mae: 111.0551 - mse: 70395.5469 - val_loss: 640.7438 - val_mae: 640.7438 - val_mse: 1343636.0000\n",
      "Epoch 69/100\n",
      " 1/18 [>.............................] - ETA: 0s - loss: 100.3607 - mae: 100.3607 - mse: 35513.2305INFO:tensorflow:Assets written to: model_experiments\\model_1_dense\\assets\n",
      "18/18 [==============================] - 0s 28ms/step - loss: 120.4562 - mae: 120.4562 - mse: 78453.1406 - val_loss: 576.2681 - val_mae: 576.2681 - val_mse: 1195423.6250\n",
      "Epoch 70/100\n",
      "18/18 [==============================] - 0s 5ms/step - loss: 123.2176 - mae: 123.2176 - mse: 81243.3203 - val_loss: 603.1730 - val_mae: 603.1730 - val_mse: 1236257.0000\n",
      "Epoch 71/100\n",
      "18/18 [==============================] - 0s 4ms/step - loss: 114.9285 - mae: 114.9285 - mse: 73782.7344 - val_loss: 612.7938 - val_mae: 612.7938 - val_mse: 1254235.6250\n",
      "Epoch 72/100\n",
      "18/18 [==============================] - 0s 3ms/step - loss: 108.6231 - mae: 108.6231 - mse: 72981.8906 - val_loss: 600.0402 - val_mae: 600.0402 - val_mse: 1247876.7500\n",
      "Epoch 73/100\n",
      "18/18 [==============================] - 0s 4ms/step - loss: 111.1914 - mae: 111.1914 - mse: 73128.4531 - val_loss: 589.8430 - val_mae: 589.8430 - val_mse: 1226451.8750\n",
      "Epoch 74/100\n",
      " 1/18 [>.............................] - ETA: 0s - loss: 165.2814 - mae: 165.2814 - mse: 176729.9844INFO:tensorflow:Assets written to: model_experiments\\model_1_dense\\assets\n",
      "18/18 [==============================] - 0s 28ms/step - loss: 108.7286 - mae: 108.7286 - mse: 72097.7578 - val_loss: 575.5010 - val_mae: 575.5010 - val_mse: 1191560.0000\n",
      "Epoch 75/100\n",
      " 1/18 [>.............................] - ETA: 0s - loss: 126.3443 - mae: 126.3443 - mse: 65988.1953INFO:tensorflow:Assets written to: model_experiments\\model_1_dense\\assets\n",
      "18/18 [==============================] - 1s 30ms/step - loss: 107.9266 - mae: 107.9266 - mse: 70837.7188 - val_loss: 574.5502 - val_mae: 574.5502 - val_mse: 1185091.8750\n",
      "Epoch 76/100\n",
      " 1/18 [>.............................] - ETA: 0s - loss: 74.7586 - mae: 74.7586 - mse: 23925.6172INFO:tensorflow:Assets written to: model_experiments\\model_1_dense\\assets\n",
      "18/18 [==============================] - 1s 30ms/step - loss: 109.0074 - mae: 109.0074 - mse: 72075.9766 - val_loss: 574.2472 - val_mae: 574.2472 - val_mse: 1182499.2500\n",
      "Epoch 77/100\n",
      "18/18 [==============================] - 0s 4ms/step - loss: 108.8632 - mae: 108.8632 - mse: 71515.8906 - val_loss: 585.1970 - val_mae: 585.1970 - val_mse: 1215747.8750\n",
      "Epoch 78/100\n",
      "18/18 [==============================] - 0s 6ms/step - loss: 109.4031 - mae: 109.4031 - mse: 70800.0625 - val_loss: 580.2320 - val_mae: 580.2320 - val_mse: 1203231.2500\n",
      "Epoch 79/100\n",
      "18/18 [==============================] - 0s 5ms/step - loss: 110.4734 - mae: 110.4734 - mse: 74703.3047 - val_loss: 588.5962 - val_mae: 588.5962 - val_mse: 1221238.8750\n",
      "Epoch 80/100\n",
      "18/18 [==============================] - 0s 4ms/step - loss: 107.1008 - mae: 107.1008 - mse: 71383.0312 - val_loss: 593.2472 - val_mae: 593.2472 - val_mse: 1211845.0000\n",
      "Epoch 81/100\n",
      " 1/18 [>.............................] - ETA: 0s - loss: 95.8470 - mae: 95.8470 - mse: 42496.5859INFO:tensorflow:Assets written to: model_experiments\\model_1_dense\\assets\n",
      "18/18 [==============================] - 1s 31ms/step - loss: 106.6545 - mae: 106.6545 - mse: 70761.8438 - val_loss: 573.1928 - val_mae: 573.1928 - val_mse: 1180536.0000\n",
      "Epoch 82/100\n",
      "18/18 [==============================] - 0s 3ms/step - loss: 115.6525 - mae: 115.6525 - mse: 77099.5547 - val_loss: 573.3044 - val_mae: 573.3044 - val_mse: 1180323.8750\n",
      "Epoch 83/100\n",
      "18/18 [==============================] - 0s 3ms/step - loss: 114.5686 - mae: 114.5686 - mse: 75338.0859 - val_loss: 628.3783 - val_mae: 628.3783 - val_mse: 1305231.2500\n",
      "Epoch 84/100\n",
      "18/18 [==============================] - 0s 4ms/step - loss: 112.0002 - mae: 112.0002 - mse: 72335.4688 - val_loss: 589.2042 - val_mae: 589.2042 - val_mse: 1220180.0000\n",
      "Epoch 85/100\n",
      "18/18 [==============================] - 0s 4ms/step - loss: 107.9477 - mae: 107.9477 - mse: 71074.8906 - val_loss: 593.7113 - val_mae: 593.7113 - val_mse: 1211780.8750\n",
      "Epoch 86/100\n",
      "18/18 [==============================] - 0s 3ms/step - loss: 108.3887 - mae: 108.3887 - mse: 70210.6250 - val_loss: 577.5687 - val_mae: 577.5687 - val_mse: 1184016.1250\n",
      "Epoch 87/100\n",
      " 1/18 [>.............................] - ETA: 0s - loss: 121.8577 - mae: 121.8577 - mse: 84663.1328INFO:tensorflow:Assets written to: model_experiments\\model_1_dense\\assets\n",
      "18/18 [==============================] - 0s 29ms/step - loss: 106.4353 - mae: 106.4353 - mse: 69675.8281 - val_loss: 572.4929 - val_mae: 572.4929 - val_mse: 1179777.8750\n",
      "Epoch 88/100\n",
      "18/18 [==============================] - 0s 3ms/step - loss: 108.3105 - mae: 108.3105 - mse: 70709.6094 - val_loss: 572.5654 - val_mae: 572.5654 - val_mse: 1175815.6250\n",
      "Epoch 89/100\n",
      " 1/18 [>.............................] - ETA: 0s - loss: 103.0408 - mae: 103.0408 - mse: 56198.5781INFO:tensorflow:Assets written to: model_experiments\\model_1_dense\\assets\n",
      "18/18 [==============================] - 1s 31ms/step - loss: 106.9870 - mae: 106.9870 - mse: 69088.9062 - val_loss: 571.6294 - val_mae: 571.6294 - val_mse: 1173139.8750\n",
      "Epoch 90/100\n",
      "18/18 [==============================] - 0s 4ms/step - loss: 105.4440 - mae: 105.4440 - mse: 67425.2656 - val_loss: 592.3824 - val_mae: 592.3824 - val_mse: 1208450.7500\n",
      "Epoch 91/100\n",
      "18/18 [==============================] - 0s 4ms/step - loss: 108.8044 - mae: 108.8044 - mse: 71352.7188 - val_loss: 571.9218 - val_mae: 571.9218 - val_mse: 1177885.7500\n",
      "Epoch 92/100\n",
      "18/18 [==============================] - 0s 4ms/step - loss: 111.1584 - mae: 111.1584 - mse: 73334.7969 - val_loss: 572.8733 - val_mae: 572.8733 - val_mse: 1180195.2500\n",
      "Epoch 93/100\n",
      "18/18 [==============================] - 0s 3ms/step - loss: 113.9090 - mae: 113.9090 - mse: 73905.0859 - val_loss: 611.8999 - val_mae: 611.8999 - val_mse: 1265015.8750\n",
      "Epoch 94/100\n",
      "18/18 [==============================] - 0s 4ms/step - loss: 110.1171 - mae: 110.1171 - mse: 72383.1719 - val_loss: 585.5649 - val_mae: 585.5649 - val_mse: 1197943.2500\n",
      "Epoch 95/100\n",
      "18/18 [==============================] - 0s 5ms/step - loss: 106.2716 - mae: 106.2716 - mse: 68542.2344 - val_loss: 574.3979 - val_mae: 574.3979 - val_mse: 1183977.2500\n",
      "Epoch 96/100\n",
      "18/18 [==============================] - 0s 4ms/step - loss: 106.3276 - mae: 106.3276 - mse: 69826.3438 - val_loss: 592.8025 - val_mae: 592.8025 - val_mse: 1223418.5000\n",
      "Epoch 97/100\n",
      "18/18 [==============================] - 0s 3ms/step - loss: 106.7393 - mae: 106.7393 - mse: 70708.2969 - val_loss: 575.5028 - val_mae: 575.5028 - val_mse: 1177638.6250\n",
      "Epoch 98/100\n",
      "18/18 [==============================] - 0s 4ms/step - loss: 107.1226 - mae: 107.1226 - mse: 71056.8828 - val_loss: 573.8818 - val_mae: 573.8818 - val_mse: 1183597.1250\n",
      "Epoch 99/100\n",
      " 1/18 [>.............................] - ETA: 0s - loss: 150.0078 - mae: 150.0078 - mse: 122755.4844INFO:tensorflow:Assets written to: model_experiments\\model_1_dense\\assets\n",
      "18/18 [==============================] - 1s 31ms/step - loss: 108.3748 - mae: 108.3748 - mse: 70949.2734 - val_loss: 569.6900 - val_mae: 569.6900 - val_mse: 1169136.3750\n",
      "Epoch 100/100\n",
      "18/18 [==============================] - 0s 3ms/step - loss: 118.6755 - mae: 118.6755 - mse: 73815.1797 - val_loss: 677.2416 - val_mae: 677.2416 - val_mse: 1397738.8750\n"
     ]
    }
   ],
   "source": [
    "# Loading libraries\n",
    "import tensorflow as tf\n",
    "from tensorflow.keras import layers\n",
    "\n",
    "# Setting random seed\n",
    "tf.random.set_seed(42)\n",
    "\n",
    "# Constructing a model\n",
    "model_1 = tf.keras.Sequential([\n",
    "    layers.Dense(128, activation=\"relu\"),\n",
    "    layers.Dense(HORIZON, activation=\"linear\")\n",
    "], name=\"model_1_dense\")\n",
    "\n",
    "# Compiling the model\n",
    "model_1.compile(\n",
    "    loss=\"mae\",\n",
    "    optimizer=tf.keras.optimizers.Adam(),\n",
    "    metrics=[\"mae\", \"mse\"]\n",
    ")\n",
    "\n",
    "# Fitting the model\n",
    "history_1 = model_1.fit(\n",
    "    x=train_windows,\n",
    "    y=train_labels,\n",
    "    epochs=100,\n",
    "    verbose=1,\n",
    "    batch_size=128,\n",
    "    validation_data=(test_windows, test_labels),\n",
    "    callbacks=[create_model_checkpoint(model_name=model_1.name)]\n",
    ")"
   ]
  },
  {
   "cell_type": "code",
   "execution_count": 37,
   "metadata": {},
   "outputs": [
    {
     "name": "stdout",
     "output_type": "stream",
     "text": [
      "18/18 [==============================] - 0s 2ms/step - loss: 677.2416 - mae: 677.2416 - mse: 1397739.0000\n"
     ]
    },
    {
     "data": {
      "text/plain": [
       "[677.2416381835938, 677.2416381835938, 1397739.0]"
      ]
     },
     "execution_count": 37,
     "metadata": {},
     "output_type": "execute_result"
    }
   ],
   "source": [
    "# Evaluating the model on test data\n",
    "model_1.evaluate(test_windows, test_labels)"
   ]
  },
  {
   "cell_type": "code",
   "execution_count": 38,
   "metadata": {},
   "outputs": [
    {
     "name": "stdout",
     "output_type": "stream",
     "text": [
      "18/18 [==============================] - 0s 2ms/step - loss: 569.6900 - mae: 569.6900 - mse: 1169136.2500\n"
     ]
    },
    {
     "data": {
      "text/plain": [
       "[569.6900024414062, 569.6900024414062, 1169136.25]"
      ]
     },
     "execution_count": 38,
     "metadata": {},
     "output_type": "execute_result"
    }
   ],
   "source": [
    "# Loading the best performing model_1 run and evaluating on test data\n",
    "model_1_best = tf.keras.models.load_model(\"model_experiments/model_1_dense/\")\n",
    "model_1_best.evaluate(test_windows, test_labels)"
   ]
  },
  {
   "cell_type": "code",
   "execution_count": 39,
   "metadata": {},
   "outputs": [],
   "source": [
    "# Creating function to make predictions\n",
    "def make_preds(model, input_data):\n",
    "    forecast = model.predict(input_data)\n",
    "    return tf.squeeze(forecast) # 1D array of predictions"
   ]
  },
  {
   "cell_type": "code",
   "execution_count": 40,
   "metadata": {},
   "outputs": [
    {
     "name": "stdout",
     "output_type": "stream",
     "text": [
      "18/18 [==============================] - 0s 988us/step\n"
     ]
    },
    {
     "data": {
      "text/plain": [
       "(556,\n",
       " <tf.Tensor: shape=(10,), dtype=float32, numpy=\n",
       " array([8694.426, 8597.33 , 8873.645, 8642.759, 8561.909, 8587.356,\n",
       "        8530.637, 8348.235, 8312.795, 8369.705], dtype=float32)>)"
      ]
     },
     "execution_count": 40,
     "metadata": {},
     "output_type": "execute_result"
    }
   ],
   "source": [
    "# Making predictions with the model 1\n",
    "model_1_preds = make_preds(model_1, test_windows)\n",
    "len(model_1_preds), model_1_preds[:10]"
   ]
  },
  {
   "cell_type": "code",
   "execution_count": 41,
   "metadata": {},
   "outputs": [
    {
     "data": {
      "text/plain": [
       "{'mae': 677.2416,\n",
       " 'mse': 1397738.8,\n",
       " 'rmse': 1182.26,\n",
       " 'mape': 3.112577,\n",
       " 'mase': 1.1897259}"
      ]
     },
     "execution_count": 41,
     "metadata": {},
     "output_type": "execute_result"
    }
   ],
   "source": [
    "# Evaluting model 1 predictions\n",
    "model_1_results = evaluate_preds(\n",
    "    y_true=tf.squeeze(test_labels),\n",
    "    y_pred=model_1_preds\n",
    ")\n",
    "model_1_results"
   ]
  },
  {
   "cell_type": "code",
   "execution_count": 42,
   "metadata": {},
   "outputs": [
    {
     "data": {
      "image/png": "[encoded data removed]",
      "text/plain": [
       "<Figure size 720x504 with 1 Axes>"
      ]
     },
     "metadata": {
      "needs_background": "light"
     },
     "output_type": "display_data"
    }
   ],
   "source": [
    "# Plotting model results\n",
    "offset = 300\n",
    "plt.figure(figsize=(10, 7))\n",
    "\n",
    "plot_time_series(\n",
    "    timestamps=X_test[-len(test_windows):],\n",
    "    values=test_labels[:, ],\n",
    "    start=offset,\n",
    "    label=\"Test Data\"\n",
    ")\n",
    "\n",
    "plot_time_series(\n",
    "    timestamps=X_test[-len(test_windows):],\n",
    "    values=model_1_preds,\n",
    "    start=offset,\n",
    "    label=\"Model 1 Preds\"\n",
    ")"
   ]
  },
  {
   "attachments": {},
   "cell_type": "markdown",
   "metadata": {},
   "source": [
    "### Model 2 - Dense model (window = 30, horizon = 1)"
   ]
  },
  {
   "cell_type": "code",
   "execution_count": 43,
   "metadata": {},
   "outputs": [],
   "source": [
    "# Hyperparameters\n",
    "HORIZON = 1\n",
    "WINDOW_SIZE = 30"
   ]
  },
  {
   "cell_type": "code",
   "execution_count": 44,
   "metadata": {},
   "outputs": [
    {
     "data": {
      "text/plain": [
       "(2757, 2757)"
      ]
     },
     "execution_count": 44,
     "metadata": {},
     "output_type": "execute_result"
    }
   ],
   "source": [
    "# Making windows data\n",
    "full_windows, full_labels = make_windows(\n",
    "    prices,\n",
    "    window_size=WINDOW_SIZE,\n",
    "    horizon=HORIZON\n",
    ")\n",
    "len(full_windows), len(full_labels)"
   ]
  },
  {
   "cell_type": "code",
   "execution_count": 45,
   "metadata": {},
   "outputs": [
    {
     "data": {
      "text/plain": [
       "(2205, 552, 2205, 552)"
      ]
     },
     "execution_count": 45,
     "metadata": {},
     "output_type": "execute_result"
    }
   ],
   "source": [
    "# Making train and test windows\n",
    "train_windows, test_windows, train_labels, test_labels = make_train_test_splits(\n",
    "    windows=full_windows,\n",
    "    labels=full_labels,\n",
    "    test_split=0.2\n",
    ")\n",
    "len(train_windows), len(test_windows), len(train_labels), len(test_labels)"
   ]
  },
  {
   "cell_type": "code",
   "execution_count": 46,
   "metadata": {},
   "outputs": [
    {
     "data": {
      "text/plain": [
       "array([[123.65499, 125.455  , 108.58483, 118.67466, 121.33866, 120.65533,\n",
       "        121.795  , 123.033  , 124.049  , 125.96116, 125.27966, 125.9275 ,\n",
       "        126.38333, 135.24199, 133.20333, 142.76333, 137.92333, 142.95166,\n",
       "        152.55183, 160.33883, 164.31499, 177.63333, 188.29716, 200.70166,\n",
       "        180.355  , 175.03166, 177.6965 , 187.15983, 192.75666, 197.4    ],\n",
       "       [125.455  , 108.58483, 118.67466, 121.33866, 120.65533, 121.795  ,\n",
       "        123.033  , 124.049  , 125.96116, 125.27966, 125.9275 , 126.38333,\n",
       "        135.24199, 133.20333, 142.76333, 137.92333, 142.95166, 152.55183,\n",
       "        160.33883, 164.31499, 177.63333, 188.29716, 200.70166, 180.355  ,\n",
       "        175.03166, 177.6965 , 187.15983, 192.75666, 197.4    , 196.02499],\n",
       "       [108.58483, 118.67466, 121.33866, 120.65533, 121.795  , 123.033  ,\n",
       "        124.049  , 125.96116, 125.27966, 125.9275 , 126.38333, 135.24199,\n",
       "        133.20333, 142.76333, 137.92333, 142.95166, 152.55183, 160.33883,\n",
       "        164.31499, 177.63333, 188.29716, 200.70166, 180.355  , 175.03166,\n",
       "        177.6965 , 187.15983, 192.75666, 197.4    , 196.02499, 198.04883]])"
      ]
     },
     "execution_count": 46,
     "metadata": {},
     "output_type": "execute_result"
    }
   ],
   "source": [
    "# Checking first 3 train windows\n",
    "train_windows[:3]"
   ]
  },
  {
   "cell_type": "code",
   "execution_count": 47,
   "metadata": {},
   "outputs": [
    {
     "name": "stdout",
     "output_type": "stream",
     "text": [
      "INFO:tensorflow:Assets written to: model_experiments\\model_2_dense\\assets\n",
      "INFO:tensorflow:Assets written to: model_experiments\\model_2_dense\\assets\n",
      "INFO:tensorflow:Assets written to: model_experiments\\model_2_dense\\assets\n",
      "INFO:tensorflow:Assets written to: model_experiments\\model_2_dense\\assets\n",
      "INFO:tensorflow:Assets written to: model_experiments\\model_2_dense\\assets\n",
      "INFO:tensorflow:Assets written to: model_experiments\\model_2_dense\\assets\n",
      "INFO:tensorflow:Assets written to: model_experiments\\model_2_dense\\assets\n",
      "INFO:tensorflow:Assets written to: model_experiments\\model_2_dense\\assets\n",
      "INFO:tensorflow:Assets written to: model_experiments\\model_2_dense\\assets\n",
      "INFO:tensorflow:Assets written to: model_experiments\\model_2_dense\\assets\n",
      "INFO:tensorflow:Assets written to: model_experiments\\model_2_dense\\assets\n",
      "INFO:tensorflow:Assets written to: model_experiments\\model_2_dense\\assets\n",
      "INFO:tensorflow:Assets written to: model_experiments\\model_2_dense\\assets\n",
      "INFO:tensorflow:Assets written to: model_experiments\\model_2_dense\\assets\n",
      "INFO:tensorflow:Assets written to: model_experiments\\model_2_dense\\assets\n",
      "INFO:tensorflow:Assets written to: model_experiments\\model_2_dense\\assets\n",
      "INFO:tensorflow:Assets written to: model_experiments\\model_2_dense\\assets\n",
      "INFO:tensorflow:Assets written to: model_experiments\\model_2_dense\\assets\n",
      "INFO:tensorflow:Assets written to: model_experiments\\model_2_dense\\assets\n",
      "INFO:tensorflow:Assets written to: model_experiments\\model_2_dense\\assets\n",
      "INFO:tensorflow:Assets written to: model_experiments\\model_2_dense\\assets\n",
      "INFO:tensorflow:Assets written to: model_experiments\\model_2_dense\\assets\n",
      "INFO:tensorflow:Assets written to: model_experiments\\model_2_dense\\assets\n",
      "INFO:tensorflow:Assets written to: model_experiments\\model_2_dense\\assets\n",
      "INFO:tensorflow:Assets written to: model_experiments\\model_2_dense\\assets\n",
      "INFO:tensorflow:Assets written to: model_experiments\\model_2_dense\\assets\n",
      "INFO:tensorflow:Assets written to: model_experiments\\model_2_dense\\assets\n",
      "INFO:tensorflow:Assets written to: model_experiments\\model_2_dense\\assets\n",
      "INFO:tensorflow:Assets written to: model_experiments\\model_2_dense\\assets\n",
      "INFO:tensorflow:Assets written to: model_experiments\\model_2_dense\\assets\n",
      "INFO:tensorflow:Assets written to: model_experiments\\model_2_dense\\assets\n",
      "INFO:tensorflow:Assets written to: model_experiments\\model_2_dense\\assets\n",
      "INFO:tensorflow:Assets written to: model_experiments\\model_2_dense\\assets\n",
      "INFO:tensorflow:Assets written to: model_experiments\\model_2_dense\\assets\n",
      "INFO:tensorflow:Assets written to: model_experiments\\model_2_dense\\assets\n"
     ]
    }
   ],
   "source": [
    "# Creating a model\n",
    "model_2 = tf.keras.Sequential([\n",
    "    layers.Dense(128, activation=\"relu\"),\n",
    "    layers.Dense(HORIZON)\n",
    "], name=\"model_2_dense\")\n",
    "\n",
    "# Compiling the model\n",
    "model_2.compile(\n",
    "    loss=\"mae\",\n",
    "    optimizer=tf.keras.optimizers.Adam(),\n",
    "    metrics=[\"mae\"]\n",
    ")\n",
    "\n",
    "# Fitting the model\n",
    "history_2 = model_2.fit(\n",
    "    train_windows,\n",
    "    train_labels,\n",
    "    epochs=100,\n",
    "    batch_size=128,\n",
    "    verbose=0,\n",
    "    validation_data=(test_windows, test_labels),\n",
    "    callbacks=[create_model_checkpoint(model_name=model_2.name)]\n",
    ")"
   ]
  },
  {
   "cell_type": "code",
   "execution_count": 48,
   "metadata": {},
   "outputs": [
    {
     "name": "stdout",
     "output_type": "stream",
     "text": [
      "18/18 [==============================] - 0s 1ms/step - loss: 650.1509 - mae: 650.1509\n"
     ]
    },
    {
     "data": {
      "text/plain": [
       "[650.15087890625, 650.15087890625]"
      ]
     },
     "execution_count": 48,
     "metadata": {},
     "output_type": "execute_result"
    }
   ],
   "source": [
    "# Evaluating model 2\n",
    "model_2.evaluate(test_windows, test_labels)"
   ]
  },
  {
   "cell_type": "code",
   "execution_count": 49,
   "metadata": {},
   "outputs": [
    {
     "name": "stdout",
     "output_type": "stream",
     "text": [
      "18/18 [==============================] - 0s 2ms/step - loss: 633.3580 - mae: 633.3580\n"
     ]
    },
    {
     "data": {
      "text/plain": [
       "[633.3580322265625, 633.3580322265625]"
      ]
     },
     "execution_count": 49,
     "metadata": {},
     "output_type": "execute_result"
    }
   ],
   "source": [
    "# Loading the best model 2\n",
    "model_2_best = tf.keras.models.load_model(\"model_experiments/model_2_dense/\")\n",
    "model_2_best.evaluate(test_windows, test_labels)"
   ]
  },
  {
   "cell_type": "code",
   "execution_count": 50,
   "metadata": {},
   "outputs": [
    {
     "name": "stdout",
     "output_type": "stream",
     "text": [
      "18/18 [==============================] - 0s 2ms/step\n"
     ]
    }
   ],
   "source": [
    "# getting model 2 predictions\n",
    "model_2_preds = make_preds(\n",
    "    model_2,\n",
    "    input_data=test_windows\n",
    ")"
   ]
  },
  {
   "cell_type": "code",
   "execution_count": 51,
   "metadata": {},
   "outputs": [
    {
     "data": {
      "text/plain": [
       "{'mae': 650.15094,\n",
       " 'mse': 1405375.4,\n",
       " 'rmse': 1185.4854,\n",
       " 'mape': 2.9727616,\n",
       " 'mase': 1.1364702}"
      ]
     },
     "execution_count": 51,
     "metadata": {},
     "output_type": "execute_result"
    }
   ],
   "source": [
    "# Evaluating results\n",
    "model_2_results = evaluate_preds(\n",
    "    y_true=tf.squeeze(test_labels),\n",
    "    y_pred=model_2_preds\n",
    ")\n",
    "model_2_results"
   ]
  },
  {
   "cell_type": "code",
   "execution_count": 52,
   "metadata": {},
   "outputs": [
    {
     "data": {
      "image/png": "[encoded data removed]",
      "text/plain": [
       "<Figure size 720x504 with 1 Axes>"
      ]
     },
     "metadata": {
      "needs_background": "light"
     },
     "output_type": "display_data"
    }
   ],
   "source": [
    "# Visualising model 2 results\n",
    "offset = 300\n",
    "plt.figure(figsize=(10, 7))\n",
    "\n",
    "plot_time_series(\n",
    "    timestamps=X_test[-len(test_windows):],\n",
    "    values=test_labels[:, 0],\n",
    "    start=offset,\n",
    "    label=\"Test Data\"\n",
    ")\n",
    "\n",
    "plot_time_series(\n",
    "    timestamps=X_test[-len(test_windows):],\n",
    "    values=model_2_preds,\n",
    "    start=offset,\n",
    "    label=\"Model 2 Preds\"\n",
    ")"
   ]
  },
  {
   "attachments": {},
   "cell_type": "markdown",
   "metadata": {},
   "source": [
    "### Model 3 - Dense model (window = 30, horizon = 7)"
   ]
  },
  {
   "cell_type": "code",
   "execution_count": 53,
   "metadata": {},
   "outputs": [],
   "source": [
    "# Hyperparameters\n",
    "HORIZON = 7\n",
    "WINDOW_SIZE = 30"
   ]
  },
  {
   "cell_type": "code",
   "execution_count": 54,
   "metadata": {},
   "outputs": [
    {
     "data": {
      "text/plain": [
       "(2751, 2751)"
      ]
     },
     "execution_count": 54,
     "metadata": {},
     "output_type": "execute_result"
    }
   ],
   "source": [
    "# Making windows data\n",
    "full_windows, full_labels = make_windows(\n",
    "    prices,\n",
    "    window_size=WINDOW_SIZE,\n",
    "    horizon=HORIZON\n",
    ")\n",
    "len(full_windows), len(full_labels)"
   ]
  },
  {
   "cell_type": "code",
   "execution_count": 55,
   "metadata": {},
   "outputs": [
    {
     "data": {
      "text/plain": [
       "(2200, 551, 2200, 551)"
      ]
     },
     "execution_count": 55,
     "metadata": {},
     "output_type": "execute_result"
    }
   ],
   "source": [
    "# Making train and test windows\n",
    "train_windows, test_windows, train_labels, test_labels = make_train_test_splits(\n",
    "    windows=full_windows,\n",
    "    labels=full_labels,\n",
    "    test_split=0.2\n",
    ")\n",
    "len(train_windows), len(test_windows), len(train_labels), len(test_labels)"
   ]
  },
  {
   "cell_type": "code",
   "execution_count": 56,
   "metadata": {},
   "outputs": [
    {
     "name": "stdout",
     "output_type": "stream",
     "text": [
      "INFO:tensorflow:Assets written to: model_experiments\\model_3_dense\\assets\n",
      "INFO:tensorflow:Assets written to: model_experiments\\model_3_dense\\assets\n",
      "INFO:tensorflow:Assets written to: model_experiments\\model_3_dense\\assets\n",
      "INFO:tensorflow:Assets written to: model_experiments\\model_3_dense\\assets\n",
      "INFO:tensorflow:Assets written to: model_experiments\\model_3_dense\\assets\n",
      "INFO:tensorflow:Assets written to: model_experiments\\model_3_dense\\assets\n",
      "INFO:tensorflow:Assets written to: model_experiments\\model_3_dense\\assets\n",
      "INFO:tensorflow:Assets written to: model_experiments\\model_3_dense\\assets\n",
      "INFO:tensorflow:Assets written to: model_experiments\\model_3_dense\\assets\n",
      "INFO:tensorflow:Assets written to: model_experiments\\model_3_dense\\assets\n",
      "INFO:tensorflow:Assets written to: model_experiments\\model_3_dense\\assets\n",
      "INFO:tensorflow:Assets written to: model_experiments\\model_3_dense\\assets\n",
      "INFO:tensorflow:Assets written to: model_experiments\\model_3_dense\\assets\n",
      "INFO:tensorflow:Assets written to: model_experiments\\model_3_dense\\assets\n",
      "INFO:tensorflow:Assets written to: model_experiments\\model_3_dense\\assets\n",
      "INFO:tensorflow:Assets written to: model_experiments\\model_3_dense\\assets\n",
      "INFO:tensorflow:Assets written to: model_experiments\\model_3_dense\\assets\n",
      "INFO:tensorflow:Assets written to: model_experiments\\model_3_dense\\assets\n",
      "INFO:tensorflow:Assets written to: model_experiments\\model_3_dense\\assets\n",
      "INFO:tensorflow:Assets written to: model_experiments\\model_3_dense\\assets\n",
      "INFO:tensorflow:Assets written to: model_experiments\\model_3_dense\\assets\n",
      "INFO:tensorflow:Assets written to: model_experiments\\model_3_dense\\assets\n",
      "INFO:tensorflow:Assets written to: model_experiments\\model_3_dense\\assets\n"
     ]
    }
   ],
   "source": [
    "# Creating a model\n",
    "model_3 = tf.keras.Sequential([\n",
    "    layers.Dense(128, activation=\"relu\"),\n",
    "    layers.Dense(HORIZON)\n",
    "], name=\"model_3_dense\")\n",
    "\n",
    "# Compiling the model\n",
    "model_3.compile(\n",
    "    loss=\"mae\",\n",
    "    optimizer=tf.keras.optimizers.Adam(),\n",
    "    metrics=[\"mae\"]\n",
    ")\n",
    "\n",
    "# Fitting the model\n",
    "history_3 = model_3.fit(\n",
    "    train_windows,\n",
    "    train_labels,\n",
    "    epochs=100,\n",
    "    batch_size=128,\n",
    "    verbose=0,\n",
    "    validation_data=(test_windows, test_labels),\n",
    "    callbacks=[create_model_checkpoint(model_name=model_3.name)]\n",
    ")"
   ]
  },
  {
   "cell_type": "code",
   "execution_count": 57,
   "metadata": {},
   "outputs": [
    {
     "name": "stdout",
     "output_type": "stream",
     "text": [
      "18/18 [==============================] - 0s 1ms/step - loss: 1345.3651 - mae: 1345.3651\n"
     ]
    },
    {
     "data": {
      "text/plain": [
       "[1345.3651123046875, 1345.3651123046875]"
      ]
     },
     "execution_count": 57,
     "metadata": {},
     "output_type": "execute_result"
    }
   ],
   "source": [
    "# Evaluating model 3\n",
    "model_3.evaluate(test_windows, test_labels)"
   ]
  },
  {
   "cell_type": "code",
   "execution_count": 58,
   "metadata": {},
   "outputs": [
    {
     "name": "stdout",
     "output_type": "stream",
     "text": [
      "18/18 [==============================] - 0s 1ms/step\n"
     ]
    },
    {
     "data": {
      "text/plain": [
       "<tf.Tensor: shape=(3, 7), dtype=float32, numpy=\n",
       "array([[9046.786, 9099.817, 9087.908, 9038.482, 8894.147, 9105.09 ,\n",
       "        9155.04 ],\n",
       "       [8730.311, 8886.191, 8733.884, 8554.115, 8726.743, 8653.562,\n",
       "        8777.234],\n",
       "       [8439.44 , 8725.931, 8592.081, 8495.75 , 8689.501, 8684.842,\n",
       "        8702.595]], dtype=float32)>"
      ]
     },
     "execution_count": 58,
     "metadata": {},
     "output_type": "execute_result"
    }
   ],
   "source": [
    "# Making predictions with model 3\n",
    "model_3_preds = make_preds(\n",
    "    model_3,\n",
    "    input_data=test_windows\n",
    ")\n",
    "model_3_preds[:3]"
   ]
  },
  {
   "cell_type": "code",
   "execution_count": 59,
   "metadata": {},
   "outputs": [
    {
     "data": {
      "text/plain": [
       "{'mae': array([ 267.8238  ,  113.51869 ,  218.39816 ,  257.34    ,  262.2436  ,\n",
       "         297.54428 ,  313.32422 ,  302.74072 ,  313.66803 ,  398.5002  ,\n",
       "         577.51575 ,  606.1508  ,  559.4128  ,  563.18317 ,  330.50287 ,\n",
       "         317.30762 ,  312.5855  ,  470.92877 ,  500.81152 ,  500.90805 ,\n",
       "         207.94518 ,  207.49422 ,  121.606094,  113.41832 ,  247.66805 ,\n",
       "         234.62785 ,  210.39781 ,  313.35004 ,  284.54205 ,   92.92411 ,\n",
       "         118.47196 ,  112.822266,  102.48821 ,  183.01395 ,  189.9534  ,\n",
       "         197.88826 ,  193.99059 ,  315.70627 ,  297.6818  ,  385.46576 ,\n",
       "         718.6771  ,  319.5613  ,  191.49748 ,  259.94656 ,  166.03572 ,\n",
       "         142.20222 ,  234.05168 ,  241.33244 ,  230.21422 ,  179.48918 ,\n",
       "         217.0609  ,  130.05559 ,  140.70627 ,  243.92822 ,  457.2512  ,\n",
       "         529.3687  ,  820.4809  ,  752.2427  ,  631.2548  ,  784.4614  ,\n",
       "         600.46796 ,  304.04758 ,  378.43158 ,  624.7274  ,  585.1503  ,\n",
       "         679.5036  ,  695.2272  ,  709.38934 ,  283.1787  ,  114.4149  ,\n",
       "         126.46178 ,  251.99512 ,  326.0989  ,  145.994   ,  166.15681 ,\n",
       "         262.44098 ,  350.15765 ,  484.77344 ,  698.19696 ,  975.8122  ,\n",
       "        1000.2076  ,  772.8841  ,  495.09402 ,  289.70004 ,  131.26297 ,\n",
       "         259.05093 ,  422.4866  ,  472.5014  ,  572.28613 ,  881.53125 ,\n",
       "         732.1758  ,  529.7027  ,  553.36066 ,  470.07297 ,  259.28864 ,\n",
       "         315.68973 ,  249.0258  ,  335.60464 ,  450.06    ,  471.89453 ,\n",
       "         215.41643 ,  134.56725 ,  305.81808 ,  159.73006 ,  242.20451 ,\n",
       "         366.00375 ,  418.46973 ,  478.08832 ,  713.9442  ,  626.82294 ,\n",
       "         551.3962  ,  169.24832 ,  307.1511  ,  319.1363  ,  437.2596  ,\n",
       "         620.9366  ,  429.34634 ,  484.75424 ,  408.1479  ,  939.3481  ,\n",
       "        1434.5948  , 1825.0873  , 1692.5642  , 1788.9377  , 2038.452   ,\n",
       "        2278.1956  ,  973.5466  ,  603.85565 ,  418.2474  ,  595.3597  ,\n",
       "         508.47516 ,  448.5179  ,  583.333   ,  304.1723  ,  229.02916 ,\n",
       "         249.04994 ,  433.93842 ,  273.48138 ,  230.887   ,  258.59213 ,\n",
       "         386.19498 ,  436.27197 ,  580.28723 , 1071.3688  ,  815.24475 ,\n",
       "         587.38324 ,  567.25134 ,  150.03342 ,  297.91965 ,  264.84586 ,\n",
       "         290.18994 ,  202.45158 ,  255.88615 ,  314.66623 ,  459.68973 ,\n",
       "         174.03822 ,  313.71332 ,  304.01578 ,  324.4131  ,  378.90387 ,\n",
       "         430.38623 ,  258.87564 ,  320.27518 ,  312.9373  ,  315.4603  ,\n",
       "         613.74365 ,  828.7225  ,  844.06744 ,  702.4701  ,  780.4086  ,\n",
       "         954.2928  , 1063.888   , 1212.7334  , 1274.6543  ,  612.89386 ,\n",
       "         437.7832  ,  461.84402 ,  409.4961  ,  463.54742 ,  501.33398 ,\n",
       "         477.62973 ,  454.17844 ,  540.8751  ,  821.00867 ,  728.2811  ,\n",
       "         371.96848 ,  868.3467  ,  982.36383 ,  561.93176 ,  168.07059 ,\n",
       "         252.98953 ,  226.27107 ,  247.28362 ,  273.3979  ,  356.1031  ,\n",
       "         251.54185 ,  187.23283 ,  260.58148 ,  394.11176 ,  493.11508 ,\n",
       "         821.7513  , 1021.9135  ,  989.80273 ,  622.0218  ,  478.9202  ,\n",
       "         253.22517 ,  376.24512 ,  123.48926 ,  234.37082 ,  331.36118 ,\n",
       "         195.34193 ,  213.03502 ,  202.8259  ,  142.06125 ,  205.5325  ,\n",
       "         219.20006 ,  182.00252 ,  205.77316 ,  183.57994 ,  122.25893 ,\n",
       "         160.41252 ,  195.92188 ,  230.19211 ,  200.08803 ,  217.02176 ,\n",
       "         382.28    ,  302.94156 ,  208.15555 ,  120.72838 ,  254.66406 ,\n",
       "         118.17676 ,  259.43414 ,  183.42844 ,  333.1596  ,  349.18765 ,\n",
       "         285.84586 ,  229.5159  ,  254.15639 ,  286.05316 ,  378.08344 ,\n",
       "         419.48297 ,  438.36676 ,  273.82227 ,  241.93387 ,   84.60365 ,\n",
       "         108.2122  ,  218.31877 ,  264.4562  ,  169.52776 ,  183.86635 ,\n",
       "         214.19908 ,  193.29617 ,  362.96805 ,  455.947   ,  494.75797 ,\n",
       "         595.1289  ,  913.55695 ,  943.0347  , 1020.8686  , 1122.2322  ,\n",
       "        1381.4012  , 1612.4886  , 1582.5504  ,  660.3104  ,  370.06586 ,\n",
       "         232.25223 ,  340.87137 ,  367.4777  ,  251.61356 ,  347.96945 ,\n",
       "         459.3623  ,  426.44028 ,  229.70033 ,  112.97587 ,  117.94294 ,\n",
       "         157.2599  ,  229.86398 ,  199.13197 ,  523.0151  ,  547.68915 ,\n",
       "         329.79144 ,  301.48883 ,  259.13492 ,  223.89998 ,  199.86147 ,\n",
       "         260.48676 ,  198.39676 ,  125.041435,  133.13965 ,  177.71457 ,\n",
       "         222.07938 ,  201.62444 ,  428.2316  ,  484.04437 ,  534.91437 ,\n",
       "         537.45074 ,  575.62933 ,  587.171   ,  850.4899  , 1167.1405  ,\n",
       "        1009.5932  ,  425.55902 ,  136.94016 ,  385.12262 ,  438.24203 ,\n",
       "         427.28473 ,  626.0339  ,  620.08075 ,  662.07355 ,  688.7504  ,\n",
       "         667.0954  ,  756.6978  ,  507.26312 ,  228.65248 ,  169.03795 ,\n",
       "         147.47893 ,  198.77707 ,  216.24721 ,  262.78098 ,  405.90793 ,\n",
       "         446.23257 ,  629.04785 ,  341.86426 ,  244.91936 ,  127.581474,\n",
       "         128.74875 ,   96.80553 ,  100.87291 ,  135.48549 ,  243.42871 ,\n",
       "         352.86914 ,  511.16254 ,  590.9145  ,  662.5142  ,  853.52094 ,\n",
       "        1025.401   ,  905.25793 ,  717.11383 ,  427.40262 ,  269.34613 ,\n",
       "         134.5007  ,  248.55385 ,  580.381   ,  758.23676 , 1063.4347  ,\n",
       "        1335.4408  , 1473.5509  , 1425.5057  , 1434.3713  ,  572.7708  ,\n",
       "         204.25139 ,  408.19937 ,  413.0346  ,  532.6815  ,  657.94196 ,\n",
       "         189.17244 ,  390.9781  ,  671.38477 ,  890.1105  ,  886.2755  ,\n",
       "        1067.5753  , 1504.4735  , 1548.2177  , 1386.8508  ,  572.7108  ,\n",
       "         430.68903 ,  694.3337  ,  658.4605  ,  950.3164  , 1194.7461  ,\n",
       "        1225.7345  , 1037.9669  , 1148.1785  , 1624.5355  , 2263.4253  ,\n",
       "        1874.5479  , 1334.5098  ,  959.5126  ,  827.25446 ,  656.08234 ,\n",
       "         671.6149  ,  733.96094 ,  919.24414 ,  874.195   ,  939.7054  ,\n",
       "        1199.5848  , 2006.3113  , 1644.0566  , 1519.7272  ,  491.08707 ,\n",
       "         407.76285 ,  493.93918 ,  397.49664 ,  221.39397 ,  423.65598 ,\n",
       "         460.71402 ,  489.31445 ,  640.13086 , 1095.4445  , 1942.1666  ,\n",
       "        2978.8645  , 3328.603   , 3543.9487  , 3671.488   , 3910.052   ,\n",
       "        2812.1145  ,  992.72235 ,  726.05164 ,  819.0229  , 1155.7487  ,\n",
       "        1777.7704  , 2205.892   , 3040.558   , 3620.2397  , 3414.7349  ,\n",
       "        2641.5637  , 2870.908   , 3327.1067  , 4016.736   , 3864.6145  ,\n",
       "        4555.0103  , 5682.5513  , 4768.2983  , 4490.2485  , 5488.0054  ,\n",
       "        4093.006   , 3041.7673  , 2031.8627  , 3652.9214  , 4447.9854  ,\n",
       "        3788.405   ,  609.7461  , 2434.7517  , 1158.2717  , 2331.1038  ,\n",
       "        2185.25    , 1927.9353  , 2452.2925  , 2563.0645  , 2833.8713  ,\n",
       "        2441.906   , 1248.9733  ,  922.0148  , 1668.0109  , 2391.4768  ,\n",
       "        2048.5493  , 2768.6719  , 4807.1016  , 4350.285   , 2731.1267  ,\n",
       "        3317.1526  , 4468.5303  , 5795.247   , 5931.34    , 5624.8667  ,\n",
       "        6535.4297  , 7028.7495  , 6462.699   , 8664.039   , 4680.7974  ,\n",
       "        1328.6239  , 2617.2986  , 1773.2762  , 2513.0017  , 3758.466   ,\n",
       "        3227.766   , 4446.514   , 4739.7563  , 3492.846   , 3353.0625  ,\n",
       "        4670.086   , 6742.887   , 8444.415   , 7769.397   , 2711.1184  ,\n",
       "        2267.7036  , 1779.6127  , 2505.826   , 3461.332   , 4686.047   ,\n",
       "        3383.351   , 4504.3643  , 3310.9626  , 5133.5034  , 6074.6978  ,\n",
       "        7368.1562  , 7488.7896  , 7606.5786  , 5461.47    , 3436.4067  ,\n",
       "        2199.7812  , 2863.5364  , 1271.6473  , 1900.0742  , 1170.6691  ,\n",
       "        1762.7511  , 1977.1049  , 2915.2075  , 3966.1472  , 3996.302   ,\n",
       "        3263.0876  , 1573.3053  , 2575.3416  , 3985.486   , 5883.6616  ,\n",
       "        5000.938   , 3351.7896  , 4000.289   , 3344.2083  , 1607.591   ,\n",
       "        1356.4626  , 1132.7628  ,  629.9972  , 1381.2216  , 2088.684   ,\n",
       "        1502.8711  , 2467.72    , 5032.186   , 5146.7188  , 4631.9873  ,\n",
       "        4254.668   , 3494.4832  , 3063.8281  , 2950.4436  , 4277.7017  ,\n",
       "        6105.8438  , 6564.7607  , 5864.361   , 4296.5044  , 3138.207   ,\n",
       "        2529.4966  , 2512.816   , 2586.8962  , 4749.048   , 5311.3984  ,\n",
       "        7515.1675  , 5718.0117  , 2572.631   , 2318.793   , 3722.6216  ,\n",
       "        1760.8733  , 1302.9609  , 2631.4236  , 1839.2517  , 3822.2478  ,\n",
       "        2662.6997  , 2552.0525  , 2415.0403  , 4605.573   , 6078.585   ,\n",
       "        6745.383   ], dtype=float32),\n",
       " 'mse': array([9.34268594e+04, 2.32714199e+04, 8.49105781e+04, 9.37870547e+04,\n",
       "        9.35491016e+04, 1.09474602e+05, 1.15357539e+05, 1.56192578e+05,\n",
       "        1.54458000e+05, 2.46790672e+05, 5.24248188e+05, 5.20916906e+05,\n",
       "        3.62389062e+05, 3.45561656e+05, 1.64636281e+05, 1.46766172e+05,\n",
       "        1.53881469e+05, 2.66706844e+05, 2.78459656e+05, 2.70973750e+05,\n",
       "        5.09083750e+04, 8.61121797e+04, 2.00987168e+04, 1.88735664e+04,\n",
       "        6.79323203e+04, 6.89465547e+04, 6.90009531e+04, 1.00659820e+05,\n",
       "        8.79935156e+04, 1.64897930e+04, 2.02762051e+04, 1.73845078e+04,\n",
       "        2.37705176e+04, 5.95699727e+04, 6.28131016e+04, 5.62075039e+04,\n",
       "        7.45169766e+04, 1.20972953e+05, 1.07931625e+05, 1.56794219e+05,\n",
       "        5.45007125e+05, 1.08410625e+05, 4.12289375e+04, 8.06083594e+04,\n",
       "        3.14456211e+04, 2.29561055e+04, 7.44823750e+04, 7.03261172e+04,\n",
       "        7.18031172e+04, 4.73383828e+04, 6.09844727e+04, 2.25134883e+04,\n",
       "        2.33689961e+04, 8.95816406e+04, 2.89273406e+05, 4.38416000e+05,\n",
       "        7.92804000e+05, 6.69867875e+05, 4.72108438e+05, 6.42762562e+05,\n",
       "        3.85404156e+05, 1.42188766e+05, 2.71262844e+05, 5.37887688e+05,\n",
       "        4.42495438e+05, 6.03257938e+05, 5.56886938e+05, 5.21162844e+05,\n",
       "        1.02214945e+05, 1.78187109e+04, 2.30154785e+04, 7.94791641e+04,\n",
       "        1.28002852e+05, 3.73314922e+04, 3.71926641e+04, 8.12806094e+04,\n",
       "        1.73893359e+05, 4.04142688e+05, 6.91485125e+05, 1.06399812e+06,\n",
       "        1.02991394e+06, 6.20693875e+05, 2.57993281e+05, 1.15152711e+05,\n",
       "        2.11222832e+04, 9.04504609e+04, 2.36821359e+05, 3.17480219e+05,\n",
       "        4.49572156e+05, 8.49378688e+05, 6.02865375e+05, 3.27407531e+05,\n",
       "        3.60518000e+05, 2.77090219e+05, 1.00784117e+05, 1.31977516e+05,\n",
       "        9.01276953e+04, 1.61679859e+05, 2.55773531e+05, 2.71246250e+05,\n",
       "        7.12369531e+04, 2.65856543e+04, 1.47783875e+05, 4.40198555e+04,\n",
       "        1.33144984e+05, 1.80168672e+05, 2.42477406e+05, 3.03866188e+05,\n",
       "        6.09567625e+05, 4.78885844e+05, 3.26506312e+05, 4.37424883e+04,\n",
       "        1.28628070e+05, 1.43667734e+05, 2.48685141e+05, 4.72094000e+05,\n",
       "        2.55219141e+05, 2.60872719e+05, 1.83189984e+05, 1.62469388e+06,\n",
       "        3.31831025e+06, 4.65246350e+06, 4.07547925e+06, 4.23851150e+06,\n",
       "        4.63830950e+06, 5.24646050e+06, 1.16252925e+06, 4.30865781e+05,\n",
       "        2.38371422e+05, 4.26468156e+05, 4.02522938e+05, 2.42450172e+05,\n",
       "        4.12300500e+05, 1.55643391e+05, 7.97007422e+04, 7.84225547e+04,\n",
       "        2.58027547e+05, 1.01533586e+05, 1.11922586e+05, 9.65745234e+04,\n",
       "        1.81261047e+05, 2.94047500e+05, 4.42757500e+05, 1.21990500e+06,\n",
       "        7.13062438e+05, 4.13807844e+05, 3.69688562e+05, 3.32827188e+04,\n",
       "        1.00674953e+05, 1.16704516e+05, 9.84618750e+04, 5.86581172e+04,\n",
       "        8.32545000e+04, 1.23355555e+05, 2.41976781e+05, 3.99834648e+04,\n",
       "        1.34307297e+05, 1.30200328e+05, 1.53329328e+05, 1.89805125e+05,\n",
       "        2.20745281e+05, 7.85134453e+04, 1.29631820e+05, 1.24540734e+05,\n",
       "        1.15468922e+05, 4.73132656e+05, 7.39161000e+05, 9.03768812e+05,\n",
       "        8.17401312e+05, 9.98797938e+05, 1.27879800e+06, 1.43999200e+06,\n",
       "        1.60031188e+06, 1.63853000e+06, 3.97411781e+05, 2.92576562e+05,\n",
       "        3.74948156e+05, 2.81063406e+05, 3.74323781e+05, 3.33702688e+05,\n",
       "        3.39847281e+05, 2.59650250e+05, 4.20661562e+05, 8.51503438e+05,\n",
       "        6.88236625e+05, 1.76872719e+05, 8.22203062e+05, 1.01558388e+06,\n",
       "        3.39972938e+05, 4.70430312e+04, 8.88891328e+04, 6.90480469e+04,\n",
       "        7.73250781e+04, 8.77977266e+04, 1.58108625e+05, 8.17663125e+04,\n",
       "        4.68742266e+04, 8.62766953e+04, 2.29788234e+05, 3.62613531e+05,\n",
       "        8.63822938e+05, 1.23718075e+06, 1.06164662e+06, 4.69134688e+05,\n",
       "        3.30838406e+05, 1.09093477e+05, 2.20199203e+05, 2.42637949e+04,\n",
       "        7.72370156e+04, 1.42877781e+05, 4.85499375e+04, 8.43031172e+04,\n",
       "        5.41814023e+04, 2.87745586e+04, 5.27399648e+04, 8.15104141e+04,\n",
       "        4.06955820e+04, 5.48732852e+04, 5.09552383e+04, 1.88406289e+04,\n",
       "        3.34292734e+04, 7.15817969e+04, 6.87389531e+04, 7.17724609e+04,\n",
       "        8.36710703e+04, 1.81416781e+05, 1.05806766e+05, 7.43602344e+04,\n",
       "        2.60524102e+04, 7.54918984e+04, 2.29989707e+04, 7.39462578e+04,\n",
       "        4.43041562e+04, 1.25704586e+05, 1.30483547e+05, 8.53005547e+04,\n",
       "        5.48783945e+04, 9.41551875e+04, 1.16110195e+05, 1.73211234e+05,\n",
       "        1.97452891e+05, 2.06289469e+05, 7.54983047e+04, 7.89571953e+04,\n",
       "        1.24690605e+04, 1.33512480e+04, 5.59061484e+04, 7.69795469e+04,\n",
       "        3.14892344e+04, 3.90874180e+04, 5.88629609e+04, 5.20729727e+04,\n",
       "        1.87480141e+05, 2.68947344e+05, 3.16428438e+05, 4.17385438e+05,\n",
       "        1.18081762e+06, 1.30718162e+06, 1.60603388e+06, 1.82412225e+06,\n",
       "        2.34183300e+06, 2.89765575e+06, 2.57448050e+06, 4.98759344e+05,\n",
       "        1.77885047e+05, 9.96755391e+04, 1.55519203e+05, 1.90051875e+05,\n",
       "        7.98692891e+04, 1.55795359e+05, 2.28049281e+05, 2.18137078e+05,\n",
       "        8.32619766e+04, 2.14104980e+04, 2.92276562e+04, 3.86975820e+04,\n",
       "        6.44488398e+04, 8.13212969e+04, 3.43569281e+05, 3.69987438e+05,\n",
       "        1.45744797e+05, 1.31455594e+05, 1.08676289e+05, 1.10397477e+05,\n",
       "        4.34884297e+04, 7.35513359e+04, 5.47382773e+04, 2.27910879e+04,\n",
       "        3.36221797e+04, 4.13314492e+04, 6.98345859e+04, 4.63220430e+04,\n",
       "        2.48250219e+05, 2.96338688e+05, 3.65629531e+05, 3.09427469e+05,\n",
       "        4.30660562e+05, 5.22770844e+05, 8.63049125e+05, 1.55992138e+06,\n",
       "        1.09465700e+06, 2.93968844e+05, 2.78648477e+04, 1.96271969e+05,\n",
       "        2.26702828e+05, 2.22740578e+05, 4.56958031e+05, 4.52997531e+05,\n",
       "        5.30943375e+05, 5.82906688e+05, 4.99603438e+05, 5.86193938e+05,\n",
       "        2.99800812e+05, 6.79566328e+04, 3.38066367e+04, 3.81543477e+04,\n",
       "        5.43500000e+04, 5.39612383e+04, 7.44379297e+04, 1.95077797e+05,\n",
       "        2.65015781e+05, 4.18502312e+05, 1.39781375e+05, 7.36005469e+04,\n",
       "        2.64411035e+04, 2.75195605e+04, 1.66466895e+04, 1.28147236e+04,\n",
       "        2.87206270e+04, 8.52751016e+04, 1.75068203e+05, 3.70040594e+05,\n",
       "        5.07718312e+05, 6.32338625e+05, 9.08515438e+05, 1.14438788e+06,\n",
       "        8.60224375e+05, 5.37841562e+05, 1.95005531e+05, 9.47104297e+04,\n",
       "        3.08585566e+04, 1.11424555e+05, 7.41875188e+05, 1.14354412e+06,\n",
       "        1.80072588e+06, 2.29779750e+06, 2.53175250e+06, 2.17174250e+06,\n",
       "        2.11492550e+06, 3.83046719e+05, 1.03183805e+05, 2.28838359e+05,\n",
       "        2.28493828e+05, 3.56277562e+05, 5.16370250e+05, 6.59321641e+04,\n",
       "        1.93712141e+05, 8.44850438e+05, 1.32778075e+06, 1.39869975e+06,\n",
       "        1.69045025e+06, 2.62684125e+06, 2.56864400e+06, 1.97796938e+06,\n",
       "        4.79259156e+05, 2.36358391e+05, 6.82286312e+05, 5.72633188e+05,\n",
       "        1.07181725e+06, 1.90833175e+06, 2.05206175e+06, 1.67399562e+06,\n",
       "        1.70408688e+06, 3.39910575e+06, 5.59004750e+06, 3.64343325e+06,\n",
       "        1.85066638e+06, 9.89574938e+05, 7.24581062e+05, 7.52569438e+05,\n",
       "        8.01798375e+05, 9.68794562e+05, 1.11524538e+06, 1.11749812e+06,\n",
       "        1.19578362e+06, 2.05754900e+06, 4.31717450e+06, 2.86165150e+06,\n",
       "        2.33358625e+06, 2.67767438e+05, 2.44015000e+05, 3.02643438e+05,\n",
       "        2.69474188e+05, 5.99820273e+04, 2.21433750e+05, 2.50672922e+05,\n",
       "        2.71423312e+05, 5.37393125e+05, 2.20787450e+06, 6.34010550e+06,\n",
       "        1.23184750e+07, 1.49380820e+07, 1.59586820e+07, 1.54281730e+07,\n",
       "        1.58557010e+07, 7.99230050e+06, 1.09577888e+06, 8.26878125e+05,\n",
       "        1.50414225e+06, 2.29888525e+06, 5.22328450e+06, 7.25831300e+06,\n",
       "        1.17379910e+07, 1.54301010e+07, 1.30880010e+07, 9.76509000e+06,\n",
       "        1.26884820e+07, 1.44073050e+07, 1.96157120e+07, 1.96547380e+07,\n",
       "        3.00701480e+07, 4.31149680e+07, 3.27119100e+07, 2.59410100e+07,\n",
       "        3.57465960e+07, 2.31705920e+07, 1.20339780e+07, 5.83296350e+06,\n",
       "        1.82918040e+07, 2.38488840e+07, 1.61383820e+07, 6.54639875e+05,\n",
       "        7.19759450e+06, 2.39748175e+06, 9.68351300e+06, 8.27348900e+06,\n",
       "        6.75752100e+06, 8.47518500e+06, 8.39648300e+06, 9.25639200e+06,\n",
       "        6.79155100e+06, 2.26271625e+06, 1.32516562e+06, 4.25058250e+06,\n",
       "        7.65977600e+06, 5.01647050e+06, 9.32431400e+06, 2.53230040e+07,\n",
       "        2.06100760e+07, 1.05963190e+07, 1.37685750e+07, 2.39089220e+07,\n",
       "        4.21522520e+07, 4.99254960e+07, 4.84488560e+07, 5.96136920e+07,\n",
       "        6.23154320e+07, 5.04914560e+07, 7.86339360e+07, 2.35697900e+07,\n",
       "        2.31882825e+06, 9.57836300e+06, 4.68067250e+06, 1.07862190e+07,\n",
       "        2.25618120e+07, 1.80516600e+07, 2.59836660e+07, 2.96005900e+07,\n",
       "        1.42754220e+07, 1.20995890e+07, 3.27842380e+07, 5.78324560e+07,\n",
       "        8.04734320e+07, 6.27465240e+07, 1.04042250e+07, 6.23430750e+06,\n",
       "        4.97137200e+06, 8.99917300e+06, 1.56203540e+07, 2.21698820e+07,\n",
       "        1.25317050e+07, 2.49215340e+07, 1.79031540e+07, 3.61686160e+07,\n",
       "        4.94603960e+07, 6.64878160e+07, 6.72914080e+07, 6.19011120e+07,\n",
       "        3.39768920e+07, 1.37320890e+07, 6.26262050e+06, 1.08720870e+07,\n",
       "        2.45188275e+06, 4.85203350e+06, 2.31242300e+06, 3.99922575e+06,\n",
       "        8.13241700e+06, 1.15690170e+07, 2.08400040e+07, 1.91383960e+07,\n",
       "        1.26590860e+07, 3.35052625e+06, 8.83767100e+06, 1.96975320e+07,\n",
       "        3.84407600e+07, 2.70550040e+07, 1.31529870e+07, 1.65957950e+07,\n",
       "        1.14919750e+07, 2.68258800e+06, 2.34480075e+06, 1.92494212e+06,\n",
       "        5.84480125e+05, 2.81363975e+06, 6.08573950e+06, 2.97223825e+06,\n",
       "        1.04357220e+07, 3.18505980e+07, 3.10583580e+07, 2.48515300e+07,\n",
       "        2.13743840e+07, 1.42636640e+07, 1.01602880e+07, 1.30776220e+07,\n",
       "        2.36073540e+07, 4.65228880e+07, 5.23777640e+07, 3.89530600e+07,\n",
       "        2.33615140e+07, 1.23592470e+07, 1.00313150e+07, 7.54087250e+06,\n",
       "        8.77149500e+06, 2.67458880e+07, 3.50563240e+07, 5.94829240e+07,\n",
       "        3.53348560e+07, 9.24419300e+06, 7.20730900e+06, 1.52318580e+07,\n",
       "        3.93003875e+06, 3.71526225e+06, 8.99806300e+06, 5.34708750e+06,\n",
       "        1.85513420e+07, 7.80088250e+06, 8.69232500e+06, 9.06511600e+06,\n",
       "        3.11486980e+07, 5.04142280e+07, 5.93814200e+07], dtype=float32),\n",
       " 'rmse': array([ 305.65808,  152.54973,  291.3942 ,  306.24673,  305.85797,\n",
       "         330.86948,  339.64325,  395.21207,  393.01144,  496.7803 ,\n",
       "         724.04987,  721.7457 ,  601.9876 ,  587.8449 ,  405.75397,\n",
       "         383.10074,  392.27728,  516.4367 ,  527.69275,  520.5514 ,\n",
       "         225.62885,  293.44876,  141.76994,  137.3811 ,  260.6383 ,\n",
       "         262.57675,  262.68033,  317.26932,  296.63702,  128.41258,\n",
       "         142.39455,  131.85033,  154.17691,  244.06961,  250.62543,\n",
       "         237.08122,  272.97797,  347.81168,  328.52948,  395.9725 ,\n",
       "         738.246  ,  329.2577 ,  203.0491 ,  283.9161 ,  177.32913,\n",
       "         151.51273,  272.91458,  265.1907 ,  267.96103,  217.57385,\n",
       "         246.95035,  150.04495,  152.86922,  299.3019 ,  537.84143,\n",
       "         662.1299 ,  890.39545,  818.4546 ,  687.1015 ,  801.72473,\n",
       "         620.80927,  377.07925,  520.829  ,  733.40826,  665.2033 ,\n",
       "         776.69684,  746.2486 ,  721.9161 ,  319.71072,  133.48674,\n",
       "         151.70853,  281.9205 ,  357.77487,  193.2136 ,  192.854  ,\n",
       "         285.09753,  417.00522,  635.72217,  831.55585, 1031.5028 ,\n",
       "        1014.84674,  787.84125,  507.9304 ,  339.34158,  145.33507,\n",
       "         300.74982,  486.64294,  563.45386,  670.5014 ,  921.61743,\n",
       "         776.44403,  572.1954 ,  600.4315 ,  526.3936 ,  317.46515,\n",
       "         363.2871 ,  300.21274,  402.09433,  505.74057,  520.81305,\n",
       "         266.90253,  163.05109,  384.4267 ,  209.8091 ,  364.89038,\n",
       "         424.4628 ,  492.41995,  551.2406 ,  780.7481 ,  692.0158 ,\n",
       "         571.4073 ,  209.14705,  358.64755,  379.03528,  498.6834 ,\n",
       "         687.09094,  505.19217,  510.75702,  428.007  , 1274.6348 ,\n",
       "        1821.6229 , 2156.957  , 2018.7816 , 2058.7646 , 2153.6736 ,\n",
       "        2290.5154 , 1078.2065 ,  656.4037 ,  488.23297,  653.0453 ,\n",
       "         634.44696,  492.3923 ,  642.1063 ,  394.51666,  282.3132 ,\n",
       "         280.04028,  507.9641 ,  318.64334,  334.54834,  310.7644 ,\n",
       "         425.74762,  542.2615 ,  665.40027, 1104.493  ,  844.43024,\n",
       "         643.279  ,  608.0202 ,  182.43552,  317.29315,  341.62042,\n",
       "         313.78635,  242.19438,  288.53854,  351.2201 ,  491.91135,\n",
       "         199.95866,  366.4796 ,  360.83282,  391.57288,  435.6663 ,\n",
       "         469.8354 ,  280.2025 ,  360.0442 ,  352.9033 ,  339.8072 ,\n",
       "         687.8464 ,  859.74475,  950.66754,  904.1025 ,  999.3988 ,\n",
       "        1130.8395 , 1199.9967 , 1265.0343 , 1280.0508 ,  630.40607,\n",
       "         540.90344,  612.3301 ,  530.1541 ,  611.82007,  577.67004,\n",
       "         582.96423,  509.55887,  648.5843 ,  922.7694 ,  829.6003 ,\n",
       "         420.56238,  906.75415, 1007.76184,  583.07196,  216.89406,\n",
       "         298.1428 ,  262.76996,  278.07388,  296.30682,  397.62875,\n",
       "         285.9481 ,  216.50456,  293.72894,  479.36234,  602.174  ,\n",
       "         929.4208 , 1112.2863 , 1030.3624 ,  684.9341 ,  575.18555,\n",
       "         330.29303,  469.25388,  155.7684 ,  277.9155 ,  377.99176,\n",
       "         220.3405 ,  290.35   ,  232.76898,  169.63066,  229.65184,\n",
       "         285.50027,  201.73146,  234.25047,  225.73267,  137.26117,\n",
       "         182.83675,  267.54776,  262.18115,  267.90384,  289.25952,\n",
       "         425.93048,  325.2795 ,  272.69073,  161.4076 ,  274.7579 ,\n",
       "         151.65411,  271.9306 ,  210.48552,  354.54843,  361.22507,\n",
       "         292.0626 ,  234.26138,  306.84717,  340.74945,  416.18652,\n",
       "         444.35672,  454.191  ,  274.76956,  280.99323,  111.66495,\n",
       "         115.5476 ,  236.44481,  277.45187,  177.45206,  197.70538,\n",
       "         242.6169 ,  228.19504,  432.98978,  518.6013 ,  562.5197 ,\n",
       "         646.0538 , 1086.6543 , 1143.3204 , 1267.294  , 1350.6007 ,\n",
       "        1530.3049 , 1702.2502 , 1604.5188 ,  706.22894,  421.76422,\n",
       "         315.71432,  394.35922,  435.9494 ,  282.61154,  394.7092 ,\n",
       "         477.54504,  467.05148,  288.5515 ,  146.32327,  170.96098,\n",
       "         196.71701,  253.86777,  285.16888,  586.1478 ,  608.2659 ,\n",
       "         381.76538,  362.56805,  329.66086,  332.26117,  208.5388 ,\n",
       "         271.2035 ,  233.96213,  150.96718,  183.36353,  203.30138,\n",
       "         264.26233,  215.22556,  498.24713,  544.37   ,  604.6731 ,\n",
       "         556.262  ,  656.2473 ,  723.02893,  929.0044 , 1248.9681 ,\n",
       "        1046.2585 ,  542.18896,  166.92767,  443.0259 ,  476.1332 ,\n",
       "         471.954  ,  675.9867 ,  673.0509 ,  728.6586 ,  763.4833 ,\n",
       "         706.8263 ,  765.63306,  547.5407 ,  260.68494,  183.86581,\n",
       "         195.33138,  233.13086,  232.29558,  272.83316,  441.67612,\n",
       "         514.7968 ,  646.91754,  373.87347,  271.29422,  162.60721,\n",
       "         165.89021,  129.02205,  113.20213,  169.47162,  292.019  ,\n",
       "         418.41153,  608.30963,  712.5436 ,  795.1972 ,  953.16077,\n",
       "        1069.7606 ,  927.4828 ,  733.37683,  441.5943 ,  307.7506 ,\n",
       "         175.66603,  333.80316,  861.3218 , 1069.3662 , 1341.9113 ,\n",
       "        1515.8488 , 1591.1482 , 1473.6833 , 1454.2783 ,  618.90765,\n",
       "         321.22235,  478.3705 ,  478.01028,  596.8899 ,  718.58905,\n",
       "         256.77258,  440.1274 ,  919.1575 , 1152.2937 , 1182.6664 ,\n",
       "        1300.1732 , 1620.7533 , 1602.699  , 1406.403  ,  692.28546,\n",
       "         486.16705,  826.0062 ,  756.7253 , 1035.286  , 1381.4238 ,\n",
       "        1432.502  , 1293.8298 , 1305.4067 , 1843.6664 , 2364.3281 ,\n",
       "        1908.778  , 1360.392  ,  994.7738 ,  851.22327,  867.5076 ,\n",
       "         895.43195,  984.2736 , 1056.0518 , 1057.1178 , 1093.5189 ,\n",
       "        1434.4159 , 2077.7812 , 1691.6416 , 1527.608  ,  517.4625 ,\n",
       "         493.97873,  550.1304 ,  519.109  ,  244.9123 ,  470.56747,\n",
       "         500.67245,  520.98303,  733.07104, 1485.8918 , 2517.9565 ,\n",
       "        3509.7686 , 3864.9814 , 3994.832  , 3927.8713 , 3981.9219 ,\n",
       "        2827.0657 , 1046.7946 ,  909.32837, 1226.4348 , 1516.2075 ,\n",
       "        2285.4507 , 2694.1257 , 3426.0752 , 3928.1167 , 3617.7341 ,\n",
       "        3124.9143 , 3562.0896 , 3795.6956 , 4428.963  , 4433.366  ,\n",
       "        5483.6255 , 6566.1987 , 5719.4326 , 5093.232  , 5978.8457 ,\n",
       "        4813.584  , 3469.0024 , 2415.1528 , 4276.892  , 4883.5317 ,\n",
       "        4017.2605 ,  809.0982 , 2682.8333 , 1548.3804 , 3111.8342 ,\n",
       "        2876.3674 , 2599.5232 , 2911.217  , 2897.6685 , 3042.432  ,\n",
       "        2606.0605 , 1504.2328 , 1151.1583 , 2061.694  , 2767.6301 ,\n",
       "        2239.7478 , 3053.574  , 5032.197  , 4539.832  , 3255.1987 ,\n",
       "        3710.603  , 4889.675  , 6492.4766 , 7065.798  , 6960.5215 ,\n",
       "        7720.99   , 7894.012  , 7105.734  , 8867.578  , 4854.873  ,\n",
       "        1522.7699 , 3094.893  , 2163.486  , 3284.238  , 4749.9277 ,\n",
       "        4248.7246 , 5097.4175 , 5440.6426 , 3778.283  , 3478.4463 ,\n",
       "        5725.752  , 7604.765  , 8970.698  , 7921.2705 , 3225.558  ,\n",
       "        2496.8596 , 2229.6575 , 2999.862  , 3952.2593 , 4708.49   ,\n",
       "        3540.015  , 4992.1475 , 4231.212  , 6014.035  , 7032.8086 ,\n",
       "        8154.0063 , 8203.134  , 7867.726  , 5828.97   , 3705.6833 ,\n",
       "        2502.5227 , 3297.285  , 1565.8489 , 2202.7332 , 1520.6653 ,\n",
       "        1999.8064 , 2851.7393 , 3401.3257 , 4565.0854 , 4374.745  ,\n",
       "        3557.961  , 1830.4443 , 2972.822  , 4438.19   , 6200.0615 ,\n",
       "        5201.4424 , 3626.7046 , 4073.7937 , 3389.9814 , 1637.8608 ,\n",
       "        1531.2742 , 1387.4229 ,  764.513  , 1677.3907 , 2466.9292 ,\n",
       "        1724.0181 , 3230.4368 , 5643.6333 , 5573.0024 , 4985.131  ,\n",
       "        4623.2437 , 3776.7266 , 3187.5208 , 3616.2996 , 4858.7397 ,\n",
       "        6820.769  , 7237.2485 , 6241.239  , 4833.375  , 3515.572  ,\n",
       "        3167.225  , 2746.065  , 2961.671  , 5171.6426 , 5920.838  ,\n",
       "        7712.5176 , 5944.313  , 3040.4265 , 2684.643  , 3902.8013 ,\n",
       "        1982.4325 , 1927.5016 , 2999.6772 , 2312.377  , 4307.127  ,\n",
       "        2793.006  , 2948.275  , 3010.833  , 5581.102  , 7100.298  ,\n",
       "        7705.934  ], dtype=float32),\n",
       " 'mape': array([ 3.0665307 ,  1.2981919 ,  2.479572  ,  3.0052562 ,  3.0942445 ,\n",
       "         3.5465174 ,  3.776839  ,  3.7987895 ,  4.0643888 ,  5.2607355 ,\n",
       "         7.886741  ,  8.328146  ,  7.704989  ,  7.7617245 ,  4.604478  ,\n",
       "         4.2681193 ,  4.1505523 ,  6.2846355 ,  6.6933045 ,  6.688763  ,\n",
       "         2.7850275 ,  2.7440271 ,  1.6517678 ,  1.5472295 ,  3.3303673 ,\n",
       "         3.1461644 ,  2.812605  ,  4.232971  ,  3.8474555 ,  1.2494477 ,\n",
       "         1.6273228 ,  1.57265   ,  1.4563134 ,  2.6658914 ,  2.699542  ,\n",
       "         2.8201437 ,  2.8089817 ,  4.4927588 ,  4.2175236 ,  5.370787  ,\n",
       "         9.911941  ,  4.431344  ,  2.6525145 ,  3.6011271 ,  2.295718  ,\n",
       "         1.9570324 ,  3.2115214 ,  3.320054  ,  3.1653755 ,  2.4719942 ,\n",
       "         2.9798198 ,  1.7864436 ,  1.9576917 ,  3.2965248 ,  6.029046  ,\n",
       "         6.7793107 , 10.554163  ,  9.533901  ,  7.907462  ,  9.787595  ,\n",
       "         7.436081  ,  3.652342  ,  4.4197726 ,  7.2857776 ,  6.738709  ,\n",
       "         7.718073  ,  7.903494  ,  8.063962  ,  3.2104127 ,  1.306364  ,\n",
       "         1.461155  ,  2.9357889 ,  3.841253  ,  1.7312188 ,  1.9406822 ,\n",
       "         3.0327945 ,  3.9333236 ,  5.251854  ,  7.522382  , 10.532924  ,\n",
       "        10.73404   ,  8.253801  ,  5.284529  ,  3.0585954 ,  1.389605  ,\n",
       "         2.7042623 ,  4.363956  ,  4.8011637 ,  5.7813873 ,  8.862785  ,\n",
       "         7.2704577 ,  5.2185903 ,  5.412318  ,  4.58903   ,  2.5294085 ,\n",
       "         3.09588   ,  2.4572444 ,  3.4182258 ,  4.599913  ,  4.8501635 ,\n",
       "         2.2272167 ,  1.3644388 ,  3.0866427 ,  1.6573545 ,  2.6306024 ,\n",
       "         3.9596777 ,  4.60459   ,  5.3654222 ,  8.142482  ,  7.1838274 ,\n",
       "         6.3177786 ,  1.9378355 ,  3.4605987 ,  3.5661128 ,  4.8787866 ,\n",
       "         6.945055  ,  4.9892135 ,  5.749696  ,  4.8152423 , 13.633791  ,\n",
       "        22.36465   , 30.155304  , 29.684717  , 32.94355   , 37.50105   ,\n",
       "        42.345722  , 18.361034  , 11.064618  ,  7.305185  , 10.250168  ,\n",
       "         8.1666765 ,  7.162439  ,  9.042774  ,  4.6027865 ,  3.4390674 ,\n",
       "         3.7964609 ,  6.56736   ,  4.14804   ,  3.736759  ,  4.133218  ,\n",
       "         6.066755  ,  6.838028  ,  8.695849  , 15.951727  , 11.92896   ,\n",
       "         8.426785  ,  8.0043125 ,  2.0930817 ,  4.1903334 ,  3.669966  ,\n",
       "         4.037244  ,  2.901086  ,  3.6487558 ,  4.577378  ,  6.6827035 ,\n",
       "         2.495403  ,  4.422801  ,  4.270625  ,  4.5492125 ,  5.3239923 ,\n",
       "         6.033328  ,  3.5955842 ,  4.3806596 ,  4.2668495 ,  4.287218  ,\n",
       "         8.12029   , 10.901059  , 10.590257  ,  8.416985  ,  9.094483  ,\n",
       "        10.974275  , 12.10342   , 13.768174  , 14.35224   ,  6.8134336 ,\n",
       "         4.678492  ,  4.7964783 ,  4.224167  ,  4.777932  ,  5.238978  ,\n",
       "         4.9699435 ,  4.8617783 ,  6.0521994 ,  9.163512  ,  8.150887  ,\n",
       "         3.9710033 ,  9.1224575 , 10.22473   ,  5.830483  ,  1.7795837 ,\n",
       "         2.6990955 ,  2.385343  ,  2.6480153 ,  2.969976  ,  3.94772   ,\n",
       "         2.7911296 ,  2.0344806 ,  2.8308182 ,  4.205747  ,  5.2157497 ,\n",
       "         8.504086  , 10.551882  , 10.19827   ,  6.3469095 ,  4.8537807 ,\n",
       "         2.564208  ,  3.7938197 ,  1.2784927 ,  2.4055552 ,  3.3816602 ,\n",
       "         2.0177517 ,  2.1853657 ,  2.0840602 ,  1.4664222 ,  2.1613467 ,\n",
       "         2.323954  ,  1.9335164 ,  2.1754565 ,  1.9411193 ,  1.2977949 ,\n",
       "         1.710491  ,  2.056065  ,  2.4209473 ,  2.0983377 ,  2.2805586 ,\n",
       "         4.044287  ,  3.2219272 ,  2.1952097 ,  1.2895967 ,  2.7827353 ,\n",
       "         1.2914506 ,  2.836023  ,  2.003799  ,  3.641538  ,  3.822257  ,\n",
       "         3.1242664 ,  2.503848  ,  2.740308  ,  3.079125  ,  4.070786  ,\n",
       "         4.5205054 ,  4.7150426 ,  2.950186  ,  2.596286  ,  0.9146563 ,\n",
       "         1.1720302 ,  2.3700871 ,  2.871593  ,  1.8455503 ,  2.0007827 ,\n",
       "         2.3175845 ,  2.0722718 ,  3.8504083 ,  4.813438  ,  5.1779275 ,\n",
       "         6.16945   ,  8.991255  ,  9.012227  ,  9.438546  , 10.214394  ,\n",
       "        12.471496  , 14.335787  , 14.01404   ,  5.8161454 ,  3.2422402 ,\n",
       "         2.0113485 ,  2.9408426 ,  3.161386  ,  2.2065663 ,  2.9828742 ,\n",
       "         3.9297156 ,  3.6378748 ,  1.9566337 ,  0.9797626 ,  1.0180092 ,\n",
       "         1.3561771 ,  1.963584  ,  1.6560531 ,  4.3539286 ,  4.557515  ,\n",
       "         2.7364955 ,  2.5004077 ,  2.1504467 ,  1.8474404 ,  1.698133  ,\n",
       "         2.238797  ,  1.6977787 ,  1.0846192 ,  1.144132  ,  1.5391994 ,\n",
       "         1.9217656 ,  1.7534134 ,  3.6657128 ,  4.14815   ,  4.594285  ,\n",
       "         4.712965  ,  5.2600546 ,  5.6104403 ,  8.085014  , 11.321181  ,\n",
       "         9.845352  ,  4.188166  ,  1.3413677 ,  3.7232165 ,  4.2329307 ,\n",
       "         4.0986004 ,  5.94745   ,  5.816788  ,  6.147512  ,  6.346626  ,\n",
       "         6.11899   ,  6.93454   ,  4.6418486 ,  2.0922253 ,  1.5850184 ,\n",
       "         1.3985695 ,  1.8669518 ,  2.0443153 ,  2.4809442 ,  3.791874  ,\n",
       "         4.146146  ,  5.844795  ,  3.1774838 ,  2.2787998 ,  1.1903142 ,\n",
       "         1.2019147 ,  0.9027186 ,  0.94569874,  1.2699336 ,  2.268752  ,\n",
       "         3.259519  ,  4.644623  ,  5.306361  ,  5.857358  ,  7.5177627 ,\n",
       "         9.018491  ,  7.9220133 ,  6.2592425 ,  3.7307434 ,  2.3416276 ,\n",
       "         1.1663041 ,  2.1225882 ,  4.690102  ,  5.9673123 ,  8.321672  ,\n",
       "        10.4065    , 11.404575  , 10.977099  , 10.88381   ,  4.3202333 ,\n",
       "         1.5101967 ,  3.0327845 ,  3.0394967 ,  3.902036  ,  4.80733   ,\n",
       "         1.3737017 ,  2.8231883 ,  4.620713  ,  5.97785   ,  5.8790603 ,\n",
       "         7.021411  ,  9.91831   , 10.142696  ,  8.98812   ,  3.6333692 ,\n",
       "         2.7387896 ,  4.3301964 ,  4.1044006 ,  5.858273  ,  7.1598573 ,\n",
       "         7.1828523 ,  5.935583  ,  6.4911194 ,  8.991638  , 12.463008  ,\n",
       "        10.238833  ,  7.208235  ,  5.1438236 ,  4.4953475 ,  3.7190259 ,\n",
       "         3.839163  ,  4.2037272 ,  5.1258173 ,  4.9376283 ,  5.3049536 ,\n",
       "         6.2922144 , 10.589042  ,  8.61821   ,  7.935511  ,  2.5638363 ,\n",
       "         2.1366308 ,  2.6018739 ,  2.133461  ,  1.1884841 ,  2.2644033 ,\n",
       "         2.4728518 ,  2.6199498 ,  3.3792968 ,  5.478456  ,  9.258257  ,\n",
       "        13.871257  , 14.953481  , 15.575634  , 15.985203  , 16.88322   ,\n",
       "        12.053423  ,  4.227232  ,  3.0309095 ,  3.2656412 ,  4.552149  ,\n",
       "         6.834903  ,  8.363758  , 11.283595  , 13.155869  , 12.1777315 ,\n",
       "         8.938735  ,  9.281675  , 10.704289  , 12.555904  , 11.551246  ,\n",
       "        12.789896  , 15.354358  , 12.345752  , 11.579686  , 14.178285  ,\n",
       "        10.437358  ,  7.814817  ,  5.6041174 , 10.200852  , 12.44998   ,\n",
       "        10.617656  ,  1.6817596 ,  6.5795646 ,  3.1135802 ,  6.9740005 ,\n",
       "         6.611126  ,  5.960554  ,  7.576491  ,  7.9335756 ,  8.828001  ,\n",
       "         7.7234826 ,  3.821949  ,  2.8047884 ,  4.983206  ,  7.134142  ,\n",
       "         6.0739255 ,  8.113949  , 13.74369   , 12.222921  ,  7.433752  ,\n",
       "         8.873334  , 11.762732  , 14.525493  , 14.020075  , 12.805055  ,\n",
       "        14.48386   , 15.273931  , 13.84639   , 18.381592  ,  9.822772  ,\n",
       "         2.7544801 ,  5.287412  ,  3.520037  ,  4.7898984 ,  7.024943  ,\n",
       "         5.852016  ,  8.106019  ,  8.651697  ,  6.595638  ,  6.4785056 ,\n",
       "         9.678405  , 14.092059  , 17.930279  , 16.4997    ,  5.8331904 ,\n",
       "         4.8039813 ,  3.7617676 ,  5.111323  ,  7.023618  ,  9.499764  ,\n",
       "         6.792102  ,  8.776433  ,  6.1819324 ,  9.407406  , 10.915463  ,\n",
       "        12.918973  , 12.882712  , 13.113964  ,  9.33855   ,  5.853642  ,\n",
       "         3.7320025 ,  4.8374405 ,  2.2159946 ,  3.3154905 ,  2.0493994 ,\n",
       "         3.1016948 ,  3.6506016 ,  5.396145  ,  7.3839717 ,  7.416944  ,\n",
       "         6.0641527 ,  2.8696384 ,  4.5786433 ,  6.968698  , 10.207813  ,\n",
       "         8.604975  ,  5.7382164 ,  6.851645  ,  5.708908  ,  2.7482142 ,\n",
       "         2.3253999 ,  1.9386362 ,  1.0842727 ,  2.3634145 ,  3.547687  ,\n",
       "         2.553792  ,  4.0602345 ,  8.242084  ,  8.344308  ,  7.459315  ,\n",
       "         6.838434  ,  5.6476216 ,  5.0602226 ,  5.10241   ,  7.535118  ,\n",
       "        11.058428  , 12.206852  , 11.087372  ,  8.40001   ,  6.1407094 ,\n",
       "         5.002027  ,  4.8969717 ,  4.8761153 ,  8.75495   ,  9.551132  ,\n",
       "        13.482292  , 10.150429  ,  4.531185  ,  4.07109   ,  6.5394154 ,\n",
       "         3.0931354 ,  2.3045292 ,  4.611213  ,  3.2096057 ,  6.646587  ,\n",
       "         4.6891665 ,  4.6963067 ,  4.6112833 ,  9.1375065 , 12.470246  ,\n",
       "        14.3864975 ], dtype=float32),\n",
       " 'mase': 2.394002}"
      ]
     },
     "execution_count": 59,
     "metadata": {},
     "output_type": "execute_result"
    }
   ],
   "source": [
    "# Evaluating model 3 preds\n",
    "model_3_results = evaluate_preds(\n",
    "    y_true=tf.squeeze(test_labels),\n",
    "    y_pred=model_3_preds\n",
    ")\n",
    "model_3_results"
   ]
  },
  {
   "cell_type": "code",
   "execution_count": 60,
   "metadata": {},
   "outputs": [],
   "source": [
    "# Function for evaluation matrix\n",
    "# MAKING IT WORK FOR HIGHER HORIZON\n",
    "def evaluate_preds(y_true, y_pred):\n",
    "\n",
    "    # Ensuring that we use float32 dtype (for metric calculations)\n",
    "    y_true = tf.cast(y_true, dtype=tf.float32)\n",
    "    y_pred = tf.cast(y_pred, dtype=tf.float32)\n",
    "\n",
    "    # Calculating various evaluation metrics\n",
    "    mae = tf.keras.metrics.mean_absolute_error(y_true, y_pred)\n",
    "    mse = tf.keras.metrics.mean_squared_error(y_true, y_pred)\n",
    "    rmse = tf.sqrt(mse)\n",
    "    mape = tf.keras.metrics.mean_absolute_percentage_error(y_true, y_pred)\n",
    "    mase = mean_absolute_scaled_error(y_true, y_pred)\n",
    "\n",
    "    # Account for different size metrics\n",
    "    if mae.ndim > 0:\n",
    "        mae = tf.reduce_mean(mae)\n",
    "        mse = tf.reduce_mean(mse)\n",
    "        rmse = tf.reduce_mean(rmse)\n",
    "        mape = tf.reduce_mean(mape)\n",
    "        mase = tf.reduce_mean(mase)\n",
    "\n",
    "    return {\n",
    "        \"mae\": mae.numpy(),\n",
    "        \"mse\": mse.numpy(),\n",
    "        \"rmse\": rmse.numpy(),\n",
    "        \"mape\": mape.numpy(),\n",
    "        \"mase\": mase.numpy()\n",
    "    }"
   ]
  },
  {
   "cell_type": "code",
   "execution_count": 61,
   "metadata": {},
   "outputs": [
    {
     "data": {
      "text/plain": [
       "{'mae': 1345.3651,\n",
       " 'mse': 5760197.0,\n",
       " 'rmse': 1520.6954,\n",
       " 'mape': 5.9789634,\n",
       " 'mase': 2.394002}"
      ]
     },
     "execution_count": 61,
     "metadata": {},
     "output_type": "execute_result"
    }
   ],
   "source": [
    "# Re-evaluating model 3 preds\n",
    "model_3_results = evaluate_preds(\n",
    "    y_true=tf.squeeze(test_labels),\n",
    "    y_pred=model_3_preds\n",
    ")\n",
    "model_3_results"
   ]
  },
  {
   "cell_type": "code",
   "execution_count": 62,
   "metadata": {},
   "outputs": [
    {
     "data": {
      "image/png": "[encoded data removed]",
      "text/plain": [
       "<Figure size 720x504 with 1 Axes>"
      ]
     },
     "metadata": {
      "needs_background": "light"
     },
     "output_type": "display_data"
    }
   ],
   "source": [
    "# Visualising the data\n",
    "offset = 300\n",
    "plt.figure(figsize=(10, 7))\n",
    "plot_time_series(\n",
    "    timestamps=X_test[-len(test_windows):],\n",
    "    values=test_labels[:, 0],\n",
    "    start=offset,\n",
    "    label=\"Test data\"\n",
    ")\n",
    "plot_time_series(\n",
    "    timestamps=X_test[-len(test_windows):],\n",
    "    values=model_3_preds,\n",
    "    start=offset,\n",
    "    label=\"Model 3 preds\"\n",
    ")"
   ]
  },
  {
   "cell_type": "code",
   "execution_count": 63,
   "metadata": {},
   "outputs": [
    {
     "data": {
      "image/png": "[encoded data removed]",
      "text/plain": [
       "<Figure size 720x504 with 1 Axes>"
      ]
     },
     "metadata": {
      "needs_background": "light"
     },
     "output_type": "display_data"
    }
   ],
   "source": [
    "# Visualising the data\n",
    "offset = 300\n",
    "plt.figure(figsize=(10, 7))\n",
    "plot_time_series(\n",
    "    timestamps=X_test[-len(test_windows):],\n",
    "    values=test_labels[:, 0],\n",
    "    start=offset,\n",
    "    label=\"Test data\"\n",
    ")\n",
    "plot_time_series(\n",
    "    timestamps=X_test[-len(test_windows):],\n",
    "    values=tf.reduce_mean(model_3_preds, axis=1),\n",
    "    start=offset,\n",
    "    label=\"Model 3 preds\"\n",
    ")"
   ]
  },
  {
   "cell_type": "code",
   "execution_count": 64,
   "metadata": {},
   "outputs": [
    {
     "data": {
      "image/png": "[encoded data removed]",
      "text/plain": [
       "<Figure size 720x504 with 1 Axes>"
      ]
     },
     "metadata": {
      "needs_background": "light"
     },
     "output_type": "display_data"
    }
   ],
   "source": [
    "# Comparing models performance\n",
    "pd.DataFrame({\n",
    "    \"naive\": naive_results[\"mae\"],\n",
    "    \"horizon_1_window_7\": model_1_results[\"mae\"],\n",
    "    \"horizon_1_window_30\": model_2_results[\"mae\"],\n",
    "    \"horizon_7_window_30\": model_3_results[\"mae\"]\n",
    "}, index=[\"mae\"]).plot(figsize=(10, 7), kind=\"bar\");"
   ]
  },
  {
   "attachments": {},
   "cell_type": "markdown",
   "metadata": {},
   "source": [
    "### Model 4 - Using Conv1D"
   ]
  },
  {
   "cell_type": "code",
   "execution_count": 65,
   "metadata": {},
   "outputs": [],
   "source": [
    "# Defining horizon and window\n",
    "HORIZON = 1\n",
    "WINDOW_SIZE = 7"
   ]
  },
  {
   "cell_type": "code",
   "execution_count": 66,
   "metadata": {},
   "outputs": [
    {
     "data": {
      "text/plain": [
       "(2780, 2780)"
      ]
     },
     "execution_count": 66,
     "metadata": {},
     "output_type": "execute_result"
    }
   ],
   "source": [
    "# Creating windowed data\n",
    "full_windows,full_labels = make_windows(prices, window_size=WINDOW_SIZE, horizon=HORIZON)\n",
    "len(full_windows), len(full_labels)"
   ]
  },
  {
   "cell_type": "code",
   "execution_count": 67,
   "metadata": {},
   "outputs": [
    {
     "data": {
      "text/plain": [
       "(2224, 2224, 556, 556)"
      ]
     },
     "execution_count": 67,
     "metadata": {},
     "output_type": "execute_result"
    }
   ],
   "source": [
    "# Creating train / test datasets\n",
    "train_windows, test_windows, train_labels, test_labels = make_train_test_splits(full_windows, full_labels)\n",
    "len(train_windows), len(train_labels), len(test_windows), len(test_labels)"
   ]
  },
  {
   "cell_type": "code",
   "execution_count": 68,
   "metadata": {},
   "outputs": [
    {
     "data": {
      "text/plain": [
       "(7,)"
      ]
     },
     "execution_count": 68,
     "metadata": {},
     "output_type": "execute_result"
    }
   ],
   "source": [
    "# Checking data input shape\n",
    "train_windows[0].shape # returns WINDOW_SIZE"
   ]
  },
  {
   "cell_type": "code",
   "execution_count": 69,
   "metadata": {},
   "outputs": [],
   "source": [
    "# Conv1D expects input of (batch_size, timestamps, input_dim)"
   ]
  },
  {
   "cell_type": "code",
   "execution_count": 70,
   "metadata": {},
   "outputs": [
    {
     "data": {
      "text/plain": [
       "<tf.Tensor: shape=(7,), dtype=float64, numpy=\n",
       "array([123.65499, 125.455  , 108.58483, 118.67466, 121.33866, 120.65533,\n",
       "       121.795  ])>"
      ]
     },
     "execution_count": 70,
     "metadata": {},
     "output_type": "execute_result"
    }
   ],
   "source": [
    "# Reshaping the tensor\n",
    "x = tf.constant(train_windows[0])\n",
    "x"
   ]
  },
  {
   "cell_type": "code",
   "execution_count": 71,
   "metadata": {},
   "outputs": [],
   "source": [
    "# Creating Lambda layer\n",
    "expand_dim_layer = layers.Lambda(lambda x: tf.expand_dims(x, axis=1))"
   ]
  },
  {
   "cell_type": "code",
   "execution_count": 72,
   "metadata": {},
   "outputs": [
    {
     "name": "stdout",
     "output_type": "stream",
     "text": [
      "Original shape: (7,)\n",
      "Expanded shape: (7, 1)\n",
      "Original values with expanded shape:\n",
      " [[123.65499]\n",
      " [125.455  ]\n",
      " [108.58483]\n",
      " [118.67466]\n",
      " [121.33866]\n",
      " [120.65533]\n",
      " [121.795  ]]\n"
     ]
    }
   ],
   "source": [
    "# Testing Lambda layer\n",
    "print(f\"Original shape: {x.shape}\") # Output WINDOW_SIZE\n",
    "print(f\"Expanded shape: {expand_dim_layer(x).shape}\")\n",
    "print(f\"Original values with expanded shape:\\n {expand_dim_layer(x)}\")"
   ]
  },
  {
   "cell_type": "code",
   "execution_count": 73,
   "metadata": {},
   "outputs": [
    {
     "name": "stdout",
     "output_type": "stream",
     "text": [
      "Epoch 1/100\n",
      " 1/18 [>.............................] - ETA: 6s - loss: 4034.6411"
     ]
    },
    {
     "name": "stderr",
     "output_type": "stream",
     "text": [
      "WARNING:absl:Found untraced functions such as _jit_compiled_convolution_op while saving (showing 1 of 1). These functions will not be directly callable after loading.\n"
     ]
    },
    {
     "name": "stdout",
     "output_type": "stream",
     "text": [
      "INFO:tensorflow:Assets written to: model_experiments\\model_4_Conv1D\\assets\n"
     ]
    },
    {
     "name": "stderr",
     "output_type": "stream",
     "text": [
      "INFO:tensorflow:Assets written to: model_experiments\\model_4_Conv1D\\assets\n"
     ]
    },
    {
     "name": "stdout",
     "output_type": "stream",
     "text": [
      "18/18 [==============================] - 1s 52ms/step - loss: 2145.3318 - val_loss: 2736.8323\n",
      "Epoch 2/100\n",
      " 1/18 [>.............................] - ETA: 0s - loss: 317.5374"
     ]
    },
    {
     "name": "stderr",
     "output_type": "stream",
     "text": [
      "WARNING:absl:Found untraced functions such as _jit_compiled_convolution_op while saving (showing 1 of 1). These functions will not be directly callable after loading.\n"
     ]
    },
    {
     "name": "stdout",
     "output_type": "stream",
     "text": [
      "INFO:tensorflow:Assets written to: model_experiments\\model_4_Conv1D\\assets\n"
     ]
    },
    {
     "name": "stderr",
     "output_type": "stream",
     "text": [
      "INFO:tensorflow:Assets written to: model_experiments\\model_4_Conv1D\\assets\n"
     ]
    },
    {
     "name": "stdout",
     "output_type": "stream",
     "text": [
      "18/18 [==============================] - 1s 39ms/step - loss: 311.1281 - val_loss: 1375.1771\n",
      "Epoch 3/100\n",
      " 1/18 [>.............................] - ETA: 0s - loss: 180.3391"
     ]
    },
    {
     "name": "stderr",
     "output_type": "stream",
     "text": [
      "WARNING:absl:Found untraced functions such as _jit_compiled_convolution_op while saving (showing 1 of 1). These functions will not be directly callable after loading.\n"
     ]
    },
    {
     "name": "stdout",
     "output_type": "stream",
     "text": [
      "INFO:tensorflow:Assets written to: model_experiments\\model_4_Conv1D\\assets\n"
     ]
    },
    {
     "name": "stderr",
     "output_type": "stream",
     "text": [
      "INFO:tensorflow:Assets written to: model_experiments\\model_4_Conv1D\\assets\n"
     ]
    },
    {
     "name": "stdout",
     "output_type": "stream",
     "text": [
      "18/18 [==============================] - 1s 41ms/step - loss: 211.9078 - val_loss: 1012.7954\n",
      "Epoch 4/100\n",
      " 1/18 [>.............................] - ETA: 0s - loss: 224.9600"
     ]
    },
    {
     "name": "stderr",
     "output_type": "stream",
     "text": [
      "WARNING:absl:Found untraced functions such as _jit_compiled_convolution_op while saving (showing 1 of 1). These functions will not be directly callable after loading.\n"
     ]
    },
    {
     "name": "stdout",
     "output_type": "stream",
     "text": [
      "INFO:tensorflow:Assets written to: model_experiments\\model_4_Conv1D\\assets\n"
     ]
    },
    {
     "name": "stderr",
     "output_type": "stream",
     "text": [
      "INFO:tensorflow:Assets written to: model_experiments\\model_4_Conv1D\\assets\n"
     ]
    },
    {
     "name": "stdout",
     "output_type": "stream",
     "text": [
      "18/18 [==============================] - 1s 41ms/step - loss: 182.0354 - val_loss: 986.2043\n",
      "Epoch 5/100\n",
      "18/18 [==============================] - 0s 3ms/step - loss: 177.3302 - val_loss: 986.3846\n",
      "Epoch 6/100\n",
      " 1/18 [>.............................] - ETA: 0s - loss: 133.3731"
     ]
    },
    {
     "name": "stderr",
     "output_type": "stream",
     "text": [
      "WARNING:absl:Found untraced functions such as _jit_compiled_convolution_op while saving (showing 1 of 1). These functions will not be directly callable after loading.\n"
     ]
    },
    {
     "name": "stdout",
     "output_type": "stream",
     "text": [
      "INFO:tensorflow:Assets written to: model_experiments\\model_4_Conv1D\\assets\n"
     ]
    },
    {
     "name": "stderr",
     "output_type": "stream",
     "text": [
      "INFO:tensorflow:Assets written to: model_experiments\\model_4_Conv1D\\assets\n"
     ]
    },
    {
     "name": "stdout",
     "output_type": "stream",
     "text": [
      "18/18 [==============================] - 1s 53ms/step - loss: 174.8859 - val_loss: 985.2980\n",
      "Epoch 7/100\n",
      " 1/18 [>.............................] - ETA: 0s - loss: 216.6871"
     ]
    },
    {
     "name": "stderr",
     "output_type": "stream",
     "text": [
      "WARNING:absl:Found untraced functions such as _jit_compiled_convolution_op while saving (showing 1 of 1). These functions will not be directly callable after loading.\n"
     ]
    },
    {
     "name": "stdout",
     "output_type": "stream",
     "text": [
      "INFO:tensorflow:Assets written to: model_experiments\\model_4_Conv1D\\assets\n"
     ]
    },
    {
     "name": "stderr",
     "output_type": "stream",
     "text": [
      "INFO:tensorflow:Assets written to: model_experiments\\model_4_Conv1D\\assets\n"
     ]
    },
    {
     "name": "stdout",
     "output_type": "stream",
     "text": [
      "18/18 [==============================] - 1s 43ms/step - loss: 174.1095 - val_loss: 951.8898\n",
      "Epoch 8/100\n",
      " 1/18 [>.............................] - ETA: 0s - loss: 151.1229"
     ]
    },
    {
     "name": "stderr",
     "output_type": "stream",
     "text": [
      "WARNING:absl:Found untraced functions such as _jit_compiled_convolution_op while saving (showing 1 of 1). These functions will not be directly callable after loading.\n"
     ]
    },
    {
     "name": "stdout",
     "output_type": "stream",
     "text": [
      "INFO:tensorflow:Assets written to: model_experiments\\model_4_Conv1D\\assets\n"
     ]
    },
    {
     "name": "stderr",
     "output_type": "stream",
     "text": [
      "INFO:tensorflow:Assets written to: model_experiments\\model_4_Conv1D\\assets\n"
     ]
    },
    {
     "name": "stdout",
     "output_type": "stream",
     "text": [
      "18/18 [==============================] - 1s 41ms/step - loss: 169.3641 - val_loss: 949.3007\n",
      "Epoch 9/100\n",
      "18/18 [==============================] - 0s 4ms/step - loss: 167.5034 - val_loss: 974.5477\n",
      "Epoch 10/100\n",
      " 1/18 [>.............................] - ETA: 0s - loss: 184.3694"
     ]
    },
    {
     "name": "stderr",
     "output_type": "stream",
     "text": [
      "WARNING:absl:Found untraced functions such as _jit_compiled_convolution_op while saving (showing 1 of 1). These functions will not be directly callable after loading.\n"
     ]
    },
    {
     "name": "stdout",
     "output_type": "stream",
     "text": [
      "INFO:tensorflow:Assets written to: model_experiments\\model_4_Conv1D\\assets\n"
     ]
    },
    {
     "name": "stderr",
     "output_type": "stream",
     "text": [
      "INFO:tensorflow:Assets written to: model_experiments\\model_4_Conv1D\\assets\n"
     ]
    },
    {
     "name": "stdout",
     "output_type": "stream",
     "text": [
      "18/18 [==============================] - 1s 41ms/step - loss: 165.6008 - val_loss: 914.0368\n",
      "Epoch 11/100\n",
      " 1/18 [>.............................] - ETA: 0s - loss: 184.7004"
     ]
    },
    {
     "name": "stderr",
     "output_type": "stream",
     "text": [
      "WARNING:absl:Found untraced functions such as _jit_compiled_convolution_op while saving (showing 1 of 1). These functions will not be directly callable after loading.\n"
     ]
    },
    {
     "name": "stdout",
     "output_type": "stream",
     "text": [
      "INFO:tensorflow:Assets written to: model_experiments\\model_4_Conv1D\\assets\n"
     ]
    },
    {
     "name": "stderr",
     "output_type": "stream",
     "text": [
      "INFO:tensorflow:Assets written to: model_experiments\\model_4_Conv1D\\assets\n"
     ]
    },
    {
     "name": "stdout",
     "output_type": "stream",
     "text": [
      "18/18 [==============================] - 1s 42ms/step - loss: 163.2294 - val_loss: 900.0466\n",
      "Epoch 12/100\n",
      "18/18 [==============================] - 0s 3ms/step - loss: 160.5439 - val_loss: 961.2737\n",
      "Epoch 13/100\n",
      " 1/18 [>.............................] - ETA: 0s - loss: 126.0426"
     ]
    },
    {
     "name": "stderr",
     "output_type": "stream",
     "text": [
      "WARNING:absl:Found untraced functions such as _jit_compiled_convolution_op while saving (showing 1 of 1). These functions will not be directly callable after loading.\n"
     ]
    },
    {
     "name": "stdout",
     "output_type": "stream",
     "text": [
      "INFO:tensorflow:Assets written to: model_experiments\\model_4_Conv1D\\assets\n"
     ]
    },
    {
     "name": "stderr",
     "output_type": "stream",
     "text": [
      "INFO:tensorflow:Assets written to: model_experiments\\model_4_Conv1D\\assets\n"
     ]
    },
    {
     "name": "stdout",
     "output_type": "stream",
     "text": [
      "18/18 [==============================] - 1s 42ms/step - loss: 159.0933 - val_loss: 887.3884\n",
      "Epoch 14/100\n",
      "18/18 [==============================] - 0s 3ms/step - loss: 154.7516 - val_loss: 891.6061\n",
      "Epoch 15/100\n",
      "18/18 [==============================] - 0s 4ms/step - loss: 155.8949 - val_loss: 918.9929\n",
      "Epoch 16/100\n",
      "17/18 [===========================>..] - ETA: 0s - loss: 152.6519"
     ]
    },
    {
     "name": "stderr",
     "output_type": "stream",
     "text": [
      "WARNING:absl:Found untraced functions such as _jit_compiled_convolution_op while saving (showing 1 of 1). These functions will not be directly callable after loading.\n"
     ]
    },
    {
     "name": "stdout",
     "output_type": "stream",
     "text": [
      "INFO:tensorflow:Assets written to: model_experiments\\model_4_Conv1D\\assets\n"
     ]
    },
    {
     "name": "stderr",
     "output_type": "stream",
     "text": [
      "INFO:tensorflow:Assets written to: model_experiments\\model_4_Conv1D\\assets\n"
     ]
    },
    {
     "name": "stdout",
     "output_type": "stream",
     "text": [
      "18/18 [==============================] - 1s 46ms/step - loss: 150.9473 - val_loss: 836.6843\n",
      "Epoch 17/100\n",
      "18/18 [==============================] - 0s 4ms/step - loss: 147.4496 - val_loss: 857.7946\n",
      "Epoch 18/100\n",
      "18/18 [==============================] - 0s 4ms/step - loss: 145.9907 - val_loss: 848.3466\n",
      "Epoch 19/100\n",
      " 1/18 [>.............................] - ETA: 0s - loss: 82.2858"
     ]
    },
    {
     "name": "stderr",
     "output_type": "stream",
     "text": [
      "WARNING:absl:Found untraced functions such as _jit_compiled_convolution_op while saving (showing 1 of 1). These functions will not be directly callable after loading.\n"
     ]
    },
    {
     "name": "stdout",
     "output_type": "stream",
     "text": [
      "INFO:tensorflow:Assets written to: model_experiments\\model_4_Conv1D\\assets\n"
     ]
    },
    {
     "name": "stderr",
     "output_type": "stream",
     "text": [
      "INFO:tensorflow:Assets written to: model_experiments\\model_4_Conv1D\\assets\n"
     ]
    },
    {
     "name": "stdout",
     "output_type": "stream",
     "text": [
      "18/18 [==============================] - 1s 50ms/step - loss: 143.3268 - val_loss: 806.3787\n",
      "Epoch 20/100\n",
      "18/18 [==============================] - 0s 3ms/step - loss: 143.1059 - val_loss: 811.1816\n",
      "Epoch 21/100\n",
      " 1/18 [>.............................] - ETA: 0s - loss: 195.8304"
     ]
    },
    {
     "name": "stderr",
     "output_type": "stream",
     "text": [
      "WARNING:absl:Found untraced functions such as _jit_compiled_convolution_op while saving (showing 1 of 1). These functions will not be directly callable after loading.\n"
     ]
    },
    {
     "name": "stdout",
     "output_type": "stream",
     "text": [
      "INFO:tensorflow:Assets written to: model_experiments\\model_4_Conv1D\\assets\n"
     ]
    },
    {
     "name": "stderr",
     "output_type": "stream",
     "text": [
      "INFO:tensorflow:Assets written to: model_experiments\\model_4_Conv1D\\assets\n"
     ]
    },
    {
     "name": "stdout",
     "output_type": "stream",
     "text": [
      "18/18 [==============================] - 1s 40ms/step - loss: 140.9416 - val_loss: 765.5493\n",
      "Epoch 22/100\n",
      " 1/18 [>.............................] - ETA: 0s - loss: 182.7537"
     ]
    },
    {
     "name": "stderr",
     "output_type": "stream",
     "text": [
      "WARNING:absl:Found untraced functions such as _jit_compiled_convolution_op while saving (showing 1 of 1). These functions will not be directly callable after loading.\n"
     ]
    },
    {
     "name": "stdout",
     "output_type": "stream",
     "text": [
      "INFO:tensorflow:Assets written to: model_experiments\\model_4_Conv1D\\assets\n"
     ]
    },
    {
     "name": "stderr",
     "output_type": "stream",
     "text": [
      "INFO:tensorflow:Assets written to: model_experiments\\model_4_Conv1D\\assets\n"
     ]
    },
    {
     "name": "stdout",
     "output_type": "stream",
     "text": [
      "18/18 [==============================] - 1s 42ms/step - loss: 138.2726 - val_loss: 762.4732\n",
      "Epoch 23/100\n",
      "18/18 [==============================] - 0s 4ms/step - loss: 134.6571 - val_loss: 764.4458\n",
      "Epoch 24/100\n",
      " 1/18 [>.............................] - ETA: 0s - loss: 149.0313"
     ]
    },
    {
     "name": "stderr",
     "output_type": "stream",
     "text": [
      "WARNING:absl:Found untraced functions such as _jit_compiled_convolution_op while saving (showing 1 of 1). These functions will not be directly callable after loading.\n"
     ]
    },
    {
     "name": "stdout",
     "output_type": "stream",
     "text": [
      "INFO:tensorflow:Assets written to: model_experiments\\model_4_Conv1D\\assets\n"
     ]
    },
    {
     "name": "stderr",
     "output_type": "stream",
     "text": [
      "INFO:tensorflow:Assets written to: model_experiments\\model_4_Conv1D\\assets\n"
     ]
    },
    {
     "name": "stdout",
     "output_type": "stream",
     "text": [
      "18/18 [==============================] - 1s 53ms/step - loss: 136.0416 - val_loss: 757.5763\n",
      "Epoch 25/100\n",
      " 1/18 [>.............................] - ETA: 0s - loss: 140.7355"
     ]
    },
    {
     "name": "stderr",
     "output_type": "stream",
     "text": [
      "WARNING:absl:Found untraced functions such as _jit_compiled_convolution_op while saving (showing 1 of 1). These functions will not be directly callable after loading.\n"
     ]
    },
    {
     "name": "stdout",
     "output_type": "stream",
     "text": [
      "INFO:tensorflow:Assets written to: model_experiments\\model_4_Conv1D\\assets\n"
     ]
    },
    {
     "name": "stderr",
     "output_type": "stream",
     "text": [
      "INFO:tensorflow:Assets written to: model_experiments\\model_4_Conv1D\\assets\n"
     ]
    },
    {
     "name": "stdout",
     "output_type": "stream",
     "text": [
      "18/18 [==============================] - 1s 44ms/step - loss: 134.7039 - val_loss: 734.1655\n",
      "Epoch 26/100\n",
      " 1/18 [>.............................] - ETA: 0s - loss: 132.6941"
     ]
    },
    {
     "name": "stderr",
     "output_type": "stream",
     "text": [
      "WARNING:absl:Found untraced functions such as _jit_compiled_convolution_op while saving (showing 1 of 1). These functions will not be directly callable after loading.\n"
     ]
    },
    {
     "name": "stdout",
     "output_type": "stream",
     "text": [
      "INFO:tensorflow:Assets written to: model_experiments\\model_4_Conv1D\\assets\n"
     ]
    },
    {
     "name": "stderr",
     "output_type": "stream",
     "text": [
      "INFO:tensorflow:Assets written to: model_experiments\\model_4_Conv1D\\assets\n"
     ]
    },
    {
     "name": "stdout",
     "output_type": "stream",
     "text": [
      "18/18 [==============================] - 1s 47ms/step - loss: 130.3764 - val_loss: 716.3425\n",
      "Epoch 27/100\n",
      " 1/18 [>.............................] - ETA: 0s - loss: 190.8390"
     ]
    },
    {
     "name": "stderr",
     "output_type": "stream",
     "text": [
      "WARNING:absl:Found untraced functions such as _jit_compiled_convolution_op while saving (showing 1 of 1). These functions will not be directly callable after loading.\n"
     ]
    },
    {
     "name": "stdout",
     "output_type": "stream",
     "text": [
      "INFO:tensorflow:Assets written to: model_experiments\\model_4_Conv1D\\assets\n"
     ]
    },
    {
     "name": "stderr",
     "output_type": "stream",
     "text": [
      "INFO:tensorflow:Assets written to: model_experiments\\model_4_Conv1D\\assets\n"
     ]
    },
    {
     "name": "stdout",
     "output_type": "stream",
     "text": [
      "18/18 [==============================] - 1s 41ms/step - loss: 129.8537 - val_loss: 706.7351\n",
      "Epoch 28/100\n",
      " 1/18 [>.............................] - ETA: 0s - loss: 130.7316"
     ]
    },
    {
     "name": "stderr",
     "output_type": "stream",
     "text": [
      "WARNING:absl:Found untraced functions such as _jit_compiled_convolution_op while saving (showing 1 of 1). These functions will not be directly callable after loading.\n"
     ]
    },
    {
     "name": "stdout",
     "output_type": "stream",
     "text": [
      "INFO:tensorflow:Assets written to: model_experiments\\model_4_Conv1D\\assets\n"
     ]
    },
    {
     "name": "stderr",
     "output_type": "stream",
     "text": [
      "INFO:tensorflow:Assets written to: model_experiments\\model_4_Conv1D\\assets\n"
     ]
    },
    {
     "name": "stdout",
     "output_type": "stream",
     "text": [
      "18/18 [==============================] - 1s 44ms/step - loss: 127.0554 - val_loss: 702.8871\n",
      "Epoch 29/100\n",
      "18/18 [==============================] - 0s 4ms/step - loss: 126.0453 - val_loss: 707.4201\n",
      "Epoch 30/100\n",
      "18/18 [==============================] - 0s 4ms/step - loss: 128.8329 - val_loss: 813.4159\n",
      "Epoch 31/100\n",
      "18/18 [==============================] - 0s 4ms/step - loss: 136.3089 - val_loss: 780.4042\n",
      "Epoch 32/100\n",
      "18/18 [==============================] - 0s 4ms/step - loss: 130.0363 - val_loss: 708.7009\n",
      "Epoch 33/100\n",
      " 1/18 [>.............................] - ETA: 0s - loss: 152.4011"
     ]
    },
    {
     "name": "stderr",
     "output_type": "stream",
     "text": [
      "WARNING:absl:Found untraced functions such as _jit_compiled_convolution_op while saving (showing 1 of 1). These functions will not be directly callable after loading.\n"
     ]
    },
    {
     "name": "stdout",
     "output_type": "stream",
     "text": [
      "INFO:tensorflow:Assets written to: model_experiments\\model_4_Conv1D\\assets\n"
     ]
    },
    {
     "name": "stderr",
     "output_type": "stream",
     "text": [
      "INFO:tensorflow:Assets written to: model_experiments\\model_4_Conv1D\\assets\n"
     ]
    },
    {
     "name": "stdout",
     "output_type": "stream",
     "text": [
      "18/18 [==============================] - 1s 41ms/step - loss: 126.0117 - val_loss: 673.3005\n",
      "Epoch 34/100\n",
      " 1/18 [>.............................] - ETA: 0s - loss: 133.4146"
     ]
    },
    {
     "name": "stderr",
     "output_type": "stream",
     "text": [
      "WARNING:absl:Found untraced functions such as _jit_compiled_convolution_op while saving (showing 1 of 1). These functions will not be directly callable after loading.\n"
     ]
    },
    {
     "name": "stdout",
     "output_type": "stream",
     "text": [
      "INFO:tensorflow:Assets written to: model_experiments\\model_4_Conv1D\\assets\n"
     ]
    },
    {
     "name": "stderr",
     "output_type": "stream",
     "text": [
      "INFO:tensorflow:Assets written to: model_experiments\\model_4_Conv1D\\assets\n"
     ]
    },
    {
     "name": "stdout",
     "output_type": "stream",
     "text": [
      "18/18 [==============================] - 1s 48ms/step - loss: 120.9811 - val_loss: 658.8968\n",
      "Epoch 35/100\n",
      "18/18 [==============================] - 0s 3ms/step - loss: 120.4031 - val_loss: 665.1603\n",
      "Epoch 36/100\n",
      "18/18 [==============================] - 0s 4ms/step - loss: 126.6150 - val_loss: 765.8940\n",
      "Epoch 37/100\n",
      " 1/18 [>.............................] - ETA: 0s - loss: 163.5439"
     ]
    },
    {
     "name": "stderr",
     "output_type": "stream",
     "text": [
      "WARNING:absl:Found untraced functions such as _jit_compiled_convolution_op while saving (showing 1 of 1). These functions will not be directly callable after loading.\n"
     ]
    },
    {
     "name": "stdout",
     "output_type": "stream",
     "text": [
      "INFO:tensorflow:Assets written to: model_experiments\\model_4_Conv1D\\assets\n"
     ]
    },
    {
     "name": "stderr",
     "output_type": "stream",
     "text": [
      "INFO:tensorflow:Assets written to: model_experiments\\model_4_Conv1D\\assets\n"
     ]
    },
    {
     "name": "stdout",
     "output_type": "stream",
     "text": [
      "18/18 [==============================] - 1s 42ms/step - loss: 122.0523 - val_loss: 648.1558\n",
      "Epoch 38/100\n",
      " 1/18 [>.............................] - ETA: 0s - loss: 110.0457"
     ]
    },
    {
     "name": "stderr",
     "output_type": "stream",
     "text": [
      "WARNING:absl:Found untraced functions such as _jit_compiled_convolution_op while saving (showing 1 of 1). These functions will not be directly callable after loading.\n"
     ]
    },
    {
     "name": "stdout",
     "output_type": "stream",
     "text": [
      "INFO:tensorflow:Assets written to: model_experiments\\model_4_Conv1D\\assets\n"
     ]
    },
    {
     "name": "stderr",
     "output_type": "stream",
     "text": [
      "INFO:tensorflow:Assets written to: model_experiments\\model_4_Conv1D\\assets\n"
     ]
    },
    {
     "name": "stdout",
     "output_type": "stream",
     "text": [
      "18/18 [==============================] - 1s 50ms/step - loss: 117.9465 - val_loss: 640.0168\n",
      "Epoch 39/100\n",
      "18/18 [==============================] - 0s 4ms/step - loss: 117.3742 - val_loss: 641.3588\n",
      "Epoch 40/100\n",
      " 1/18 [>.............................] - ETA: 0s - loss: 110.6906"
     ]
    },
    {
     "name": "stderr",
     "output_type": "stream",
     "text": [
      "WARNING:absl:Found untraced functions such as _jit_compiled_convolution_op while saving (showing 1 of 1). These functions will not be directly callable after loading.\n"
     ]
    },
    {
     "name": "stdout",
     "output_type": "stream",
     "text": [
      "INFO:tensorflow:Assets written to: model_experiments\\model_4_Conv1D\\assets\n"
     ]
    },
    {
     "name": "stderr",
     "output_type": "stream",
     "text": [
      "INFO:tensorflow:Assets written to: model_experiments\\model_4_Conv1D\\assets\n"
     ]
    },
    {
     "name": "stdout",
     "output_type": "stream",
     "text": [
      "18/18 [==============================] - 1s 49ms/step - loss: 116.2992 - val_loss: 629.2969\n",
      "Epoch 41/100\n",
      "18/18 [==============================] - 0s 4ms/step - loss: 118.2114 - val_loss: 636.6942\n",
      "Epoch 42/100\n",
      " 1/18 [>.............................] - ETA: 0s - loss: 111.9071"
     ]
    },
    {
     "name": "stderr",
     "output_type": "stream",
     "text": [
      "WARNING:absl:Found untraced functions such as _jit_compiled_convolution_op while saving (showing 1 of 1). These functions will not be directly callable after loading.\n"
     ]
    },
    {
     "name": "stdout",
     "output_type": "stream",
     "text": [
      "INFO:tensorflow:Assets written to: model_experiments\\model_4_Conv1D\\assets\n"
     ]
    },
    {
     "name": "stderr",
     "output_type": "stream",
     "text": [
      "INFO:tensorflow:Assets written to: model_experiments\\model_4_Conv1D\\assets\n"
     ]
    },
    {
     "name": "stdout",
     "output_type": "stream",
     "text": [
      "18/18 [==============================] - 1s 54ms/step - loss: 120.5319 - val_loss: 627.8828\n",
      "Epoch 43/100\n",
      " 1/18 [>.............................] - ETA: 0s - loss: 95.6918"
     ]
    },
    {
     "name": "stderr",
     "output_type": "stream",
     "text": [
      "WARNING:absl:Found untraced functions such as _jit_compiled_convolution_op while saving (showing 1 of 1). These functions will not be directly callable after loading.\n"
     ]
    },
    {
     "name": "stdout",
     "output_type": "stream",
     "text": [
      "INFO:tensorflow:Assets written to: model_experiments\\model_4_Conv1D\\assets\n"
     ]
    },
    {
     "name": "stderr",
     "output_type": "stream",
     "text": [
      "INFO:tensorflow:Assets written to: model_experiments\\model_4_Conv1D\\assets\n"
     ]
    },
    {
     "name": "stdout",
     "output_type": "stream",
     "text": [
      "18/18 [==============================] - 1s 40ms/step - loss: 115.1136 - val_loss: 617.8412\n",
      "Epoch 44/100\n",
      "18/18 [==============================] - 0s 5ms/step - loss: 116.8287 - val_loss: 654.9953\n",
      "Epoch 45/100\n",
      " 1/18 [>.............................] - ETA: 0s - loss: 84.5598"
     ]
    },
    {
     "name": "stderr",
     "output_type": "stream",
     "text": [
      "WARNING:absl:Found untraced functions such as _jit_compiled_convolution_op while saving (showing 1 of 1). These functions will not be directly callable after loading.\n"
     ]
    },
    {
     "name": "stdout",
     "output_type": "stream",
     "text": [
      "INFO:tensorflow:Assets written to: model_experiments\\model_4_Conv1D\\assets\n"
     ]
    },
    {
     "name": "stderr",
     "output_type": "stream",
     "text": [
      "INFO:tensorflow:Assets written to: model_experiments\\model_4_Conv1D\\assets\n"
     ]
    },
    {
     "name": "stdout",
     "output_type": "stream",
     "text": [
      "18/18 [==============================] - 1s 51ms/step - loss: 118.4808 - val_loss: 616.6612\n",
      "Epoch 46/100\n",
      "18/18 [==============================] - 0s 4ms/step - loss: 114.6127 - val_loss: 625.0271\n",
      "Epoch 47/100\n",
      "18/18 [==============================] - 0s 3ms/step - loss: 116.8744 - val_loss: 716.9719\n",
      "Epoch 48/100\n",
      "18/18 [==============================] - 0s 3ms/step - loss: 115.9948 - val_loss: 634.0792\n",
      "Epoch 49/100\n",
      " 1/18 [>.............................] - ETA: 0s - loss: 165.0658"
     ]
    },
    {
     "name": "stderr",
     "output_type": "stream",
     "text": [
      "WARNING:absl:Found untraced functions such as _jit_compiled_convolution_op while saving (showing 1 of 1). These functions will not be directly callable after loading.\n"
     ]
    },
    {
     "name": "stdout",
     "output_type": "stream",
     "text": [
      "INFO:tensorflow:Assets written to: model_experiments\\model_4_Conv1D\\assets\n"
     ]
    },
    {
     "name": "stderr",
     "output_type": "stream",
     "text": [
      "INFO:tensorflow:Assets written to: model_experiments\\model_4_Conv1D\\assets\n"
     ]
    },
    {
     "name": "stdout",
     "output_type": "stream",
     "text": [
      "18/18 [==============================] - 1s 40ms/step - loss: 114.7244 - val_loss: 616.0653\n",
      "Epoch 50/100\n",
      " 1/18 [>.............................] - ETA: 0s - loss: 136.3271"
     ]
    },
    {
     "name": "stderr",
     "output_type": "stream",
     "text": [
      "WARNING:absl:Found untraced functions such as _jit_compiled_convolution_op while saving (showing 1 of 1). These functions will not be directly callable after loading.\n"
     ]
    },
    {
     "name": "stdout",
     "output_type": "stream",
     "text": [
      "INFO:tensorflow:Assets written to: model_experiments\\model_4_Conv1D\\assets\n"
     ]
    },
    {
     "name": "stderr",
     "output_type": "stream",
     "text": [
      "INFO:tensorflow:Assets written to: model_experiments\\model_4_Conv1D\\assets\n"
     ]
    },
    {
     "name": "stdout",
     "output_type": "stream",
     "text": [
      "18/18 [==============================] - 1s 42ms/step - loss: 115.3023 - val_loss: 610.9013\n",
      "Epoch 51/100\n",
      "18/18 [==============================] - 0s 4ms/step - loss: 114.4851 - val_loss: 627.1865\n",
      "Epoch 52/100\n",
      " 1/18 [>.............................] - ETA: 0s - loss: 121.9444"
     ]
    },
    {
     "name": "stderr",
     "output_type": "stream",
     "text": [
      "WARNING:absl:Found untraced functions such as _jit_compiled_convolution_op while saving (showing 1 of 1). These functions will not be directly callable after loading.\n"
     ]
    },
    {
     "name": "stdout",
     "output_type": "stream",
     "text": [
      "INFO:tensorflow:Assets written to: model_experiments\\model_4_Conv1D\\assets\n"
     ]
    },
    {
     "name": "stderr",
     "output_type": "stream",
     "text": [
      "INFO:tensorflow:Assets written to: model_experiments\\model_4_Conv1D\\assets\n"
     ]
    },
    {
     "name": "stdout",
     "output_type": "stream",
     "text": [
      "18/18 [==============================] - 1s 43ms/step - loss: 118.4350 - val_loss: 603.2871\n",
      "Epoch 53/100\n",
      " 1/18 [>.............................] - ETA: 0s - loss: 62.3733"
     ]
    },
    {
     "name": "stderr",
     "output_type": "stream",
     "text": [
      "WARNING:absl:Found untraced functions such as _jit_compiled_convolution_op while saving (showing 1 of 1). These functions will not be directly callable after loading.\n"
     ]
    },
    {
     "name": "stdout",
     "output_type": "stream",
     "text": [
      "INFO:tensorflow:Assets written to: model_experiments\\model_4_Conv1D\\assets\n"
     ]
    },
    {
     "name": "stderr",
     "output_type": "stream",
     "text": [
      "INFO:tensorflow:Assets written to: model_experiments\\model_4_Conv1D\\assets\n"
     ]
    },
    {
     "name": "stdout",
     "output_type": "stream",
     "text": [
      "18/18 [==============================] - 1s 52ms/step - loss: 116.4161 - val_loss: 602.6257\n",
      "Epoch 54/100\n",
      "18/18 [==============================] - 0s 5ms/step - loss: 111.9496 - val_loss: 611.9341\n",
      "Epoch 55/100\n",
      " 1/18 [>.............................] - ETA: 0s - loss: 131.6306"
     ]
    },
    {
     "name": "stderr",
     "output_type": "stream",
     "text": [
      "WARNING:absl:Found untraced functions such as _jit_compiled_convolution_op while saving (showing 1 of 1). These functions will not be directly callable after loading.\n"
     ]
    },
    {
     "name": "stdout",
     "output_type": "stream",
     "text": [
      "INFO:tensorflow:Assets written to: model_experiments\\model_4_Conv1D\\assets\n"
     ]
    },
    {
     "name": "stderr",
     "output_type": "stream",
     "text": [
      "INFO:tensorflow:Assets written to: model_experiments\\model_4_Conv1D\\assets\n"
     ]
    },
    {
     "name": "stdout",
     "output_type": "stream",
     "text": [
      "18/18 [==============================] - 1s 43ms/step - loss: 113.6415 - val_loss: 595.0054\n",
      "Epoch 56/100\n",
      "18/18 [==============================] - 0s 3ms/step - loss: 112.1603 - val_loss: 749.7710\n",
      "Epoch 57/100\n",
      "18/18 [==============================] - 0s 3ms/step - loss: 130.2076 - val_loss: 671.6971\n",
      "Epoch 58/100\n",
      "18/18 [==============================] - 0s 3ms/step - loss: 121.3148 - val_loss: 663.4364\n",
      "Epoch 59/100\n",
      "18/18 [==============================] - 0s 4ms/step - loss: 114.1769 - val_loss: 623.2312\n",
      "Epoch 60/100\n",
      "18/18 [==============================] - 0s 3ms/step - loss: 115.2914 - val_loss: 615.7896\n",
      "Epoch 61/100\n",
      " 1/18 [>.............................] - ETA: 0s - loss: 138.8223"
     ]
    },
    {
     "name": "stderr",
     "output_type": "stream",
     "text": [
      "WARNING:absl:Found untraced functions such as _jit_compiled_convolution_op while saving (showing 1 of 1). These functions will not be directly callable after loading.\n"
     ]
    },
    {
     "name": "stdout",
     "output_type": "stream",
     "text": [
      "INFO:tensorflow:Assets written to: model_experiments\\model_4_Conv1D\\assets\n"
     ]
    },
    {
     "name": "stderr",
     "output_type": "stream",
     "text": [
      "INFO:tensorflow:Assets written to: model_experiments\\model_4_Conv1D\\assets\n"
     ]
    },
    {
     "name": "stdout",
     "output_type": "stream",
     "text": [
      "18/18 [==============================] - 1s 40ms/step - loss: 112.1689 - val_loss: 591.6067\n",
      "Epoch 62/100\n",
      "18/18 [==============================] - 0s 5ms/step - loss: 110.4302 - val_loss: 597.3659\n",
      "Epoch 63/100\n",
      " 1/18 [>.............................] - ETA: 0s - loss: 95.8602"
     ]
    },
    {
     "name": "stderr",
     "output_type": "stream",
     "text": [
      "WARNING:absl:Found untraced functions such as _jit_compiled_convolution_op while saving (showing 1 of 1). These functions will not be directly callable after loading.\n"
     ]
    },
    {
     "name": "stdout",
     "output_type": "stream",
     "text": [
      "INFO:tensorflow:Assets written to: model_experiments\\model_4_Conv1D\\assets\n"
     ]
    },
    {
     "name": "stderr",
     "output_type": "stream",
     "text": [
      "INFO:tensorflow:Assets written to: model_experiments\\model_4_Conv1D\\assets\n"
     ]
    },
    {
     "name": "stdout",
     "output_type": "stream",
     "text": [
      "18/18 [==============================] - 1s 41ms/step - loss: 112.2657 - val_loss: 587.2382\n",
      "Epoch 64/100\n",
      "18/18 [==============================] - 0s 4ms/step - loss: 110.4251 - val_loss: 640.3224\n",
      "Epoch 65/100\n",
      "18/18 [==============================] - 0s 4ms/step - loss: 115.2323 - val_loss: 592.0240\n",
      "Epoch 66/100\n",
      "18/18 [==============================] - 0s 4ms/step - loss: 112.3571 - val_loss: 589.9928\n",
      "Epoch 67/100\n",
      "18/18 [==============================] - 0s 4ms/step - loss: 109.1241 - val_loss: 638.7326\n",
      "Epoch 68/100\n",
      "18/18 [==============================] - 0s 4ms/step - loss: 115.5237 - val_loss: 702.1850\n",
      "Epoch 69/100\n",
      "18/18 [==============================] - 0s 4ms/step - loss: 127.2586 - val_loss: 659.4138\n",
      "Epoch 70/100\n",
      "18/18 [==============================] - 0s 3ms/step - loss: 123.7295 - val_loss: 607.1403\n",
      "Epoch 71/100\n",
      "18/18 [==============================] - 0s 4ms/step - loss: 112.0009 - val_loss: 607.0163\n",
      "Epoch 72/100\n",
      "18/18 [==============================] - 0s 4ms/step - loss: 112.7674 - val_loss: 602.8669\n",
      "Epoch 73/100\n",
      "18/18 [==============================] - 0s 3ms/step - loss: 111.4917 - val_loss: 605.1140\n",
      "Epoch 74/100\n",
      " 1/18 [>.............................] - ETA: 0s - loss: 165.7287"
     ]
    },
    {
     "name": "stderr",
     "output_type": "stream",
     "text": [
      "WARNING:absl:Found untraced functions such as _jit_compiled_convolution_op while saving (showing 1 of 1). These functions will not be directly callable after loading.\n"
     ]
    },
    {
     "name": "stdout",
     "output_type": "stream",
     "text": [
      "INFO:tensorflow:Assets written to: model_experiments\\model_4_Conv1D\\assets\n"
     ]
    },
    {
     "name": "stderr",
     "output_type": "stream",
     "text": [
      "INFO:tensorflow:Assets written to: model_experiments\\model_4_Conv1D\\assets\n"
     ]
    },
    {
     "name": "stdout",
     "output_type": "stream",
     "text": [
      "18/18 [==============================] - 1s 68ms/step - loss: 110.3093 - val_loss: 579.0062\n",
      "Epoch 75/100\n",
      "18/18 [==============================] - 0s 6ms/step - loss: 110.0966 - val_loss: 595.9337\n",
      "Epoch 76/100\n",
      "18/18 [==============================] - 0s 7ms/step - loss: 111.7026 - val_loss: 593.5449\n",
      "Epoch 77/100\n",
      "18/18 [==============================] - 0s 7ms/step - loss: 110.1425 - val_loss: 579.6738\n",
      "Epoch 78/100\n",
      "18/18 [==============================] - 0s 8ms/step - loss: 111.0769 - val_loss: 584.4191\n",
      "Epoch 79/100\n",
      "18/18 [==============================] - 0s 7ms/step - loss: 110.7495 - val_loss: 614.4561\n",
      "Epoch 80/100\n",
      " 1/18 [>.............................] - ETA: 0s - loss: 120.4247"
     ]
    },
    {
     "name": "stderr",
     "output_type": "stream",
     "text": [
      "WARNING:absl:Found untraced functions such as _jit_compiled_convolution_op while saving (showing 1 of 1). These functions will not be directly callable after loading.\n"
     ]
    },
    {
     "name": "stdout",
     "output_type": "stream",
     "text": [
      "INFO:tensorflow:Assets written to: model_experiments\\model_4_Conv1D\\assets\n"
     ]
    },
    {
     "name": "stderr",
     "output_type": "stream",
     "text": [
      "INFO:tensorflow:Assets written to: model_experiments\\model_4_Conv1D\\assets\n"
     ]
    },
    {
     "name": "stdout",
     "output_type": "stream",
     "text": [
      "18/18 [==============================] - 1s 43ms/step - loss: 111.1496 - val_loss: 576.4575\n",
      "Epoch 81/100\n",
      " 1/18 [>.............................] - ETA: 0s - loss: 95.7861"
     ]
    },
    {
     "name": "stderr",
     "output_type": "stream",
     "text": [
      "WARNING:absl:Found untraced functions such as _jit_compiled_convolution_op while saving (showing 1 of 1). These functions will not be directly callable after loading.\n"
     ]
    },
    {
     "name": "stdout",
     "output_type": "stream",
     "text": [
      "INFO:tensorflow:Assets written to: model_experiments\\model_4_Conv1D\\assets\n"
     ]
    },
    {
     "name": "stderr",
     "output_type": "stream",
     "text": [
      "INFO:tensorflow:Assets written to: model_experiments\\model_4_Conv1D\\assets\n"
     ]
    },
    {
     "name": "stdout",
     "output_type": "stream",
     "text": [
      "18/18 [==============================] - 1s 39ms/step - loss: 108.1576 - val_loss: 575.6784\n",
      "Epoch 82/100\n",
      "16/18 [=========================>....] - ETA: 0s - loss: 113.7831"
     ]
    },
    {
     "name": "stderr",
     "output_type": "stream",
     "text": [
      "WARNING:absl:Found untraced functions such as _jit_compiled_convolution_op while saving (showing 1 of 1). These functions will not be directly callable after loading.\n"
     ]
    },
    {
     "name": "stdout",
     "output_type": "stream",
     "text": [
      "INFO:tensorflow:Assets written to: model_experiments\\model_4_Conv1D\\assets\n"
     ]
    },
    {
     "name": "stderr",
     "output_type": "stream",
     "text": [
      "INFO:tensorflow:Assets written to: model_experiments\\model_4_Conv1D\\assets\n"
     ]
    },
    {
     "name": "stdout",
     "output_type": "stream",
     "text": [
      "18/18 [==============================] - 1s 44ms/step - loss: 115.0918 - val_loss: 574.8387\n",
      "Epoch 83/100\n",
      "18/18 [==============================] - 0s 4ms/step - loss: 112.0234 - val_loss: 647.1276\n",
      "Epoch 84/100\n",
      "18/18 [==============================] - 0s 4ms/step - loss: 112.4035 - val_loss: 592.4685\n",
      "Epoch 85/100\n",
      "18/18 [==============================] - 0s 3ms/step - loss: 108.7901 - val_loss: 606.8494\n",
      "Epoch 86/100\n",
      "18/18 [==============================] - 0s 3ms/step - loss: 111.6650 - val_loss: 661.1389\n",
      "Epoch 87/100\n",
      " 1/18 [>.............................] - ETA: 0s - loss: 131.0135"
     ]
    },
    {
     "name": "stderr",
     "output_type": "stream",
     "text": [
      "WARNING:absl:Found untraced functions such as _jit_compiled_convolution_op while saving (showing 1 of 1). These functions will not be directly callable after loading.\n"
     ]
    },
    {
     "name": "stdout",
     "output_type": "stream",
     "text": [
      "INFO:tensorflow:Assets written to: model_experiments\\model_4_Conv1D\\assets\n"
     ]
    },
    {
     "name": "stderr",
     "output_type": "stream",
     "text": [
      "INFO:tensorflow:Assets written to: model_experiments\\model_4_Conv1D\\assets\n"
     ]
    },
    {
     "name": "stdout",
     "output_type": "stream",
     "text": [
      "18/18 [==============================] - 1s 38ms/step - loss: 110.9910 - val_loss: 571.8582\n",
      "Epoch 88/100\n",
      "18/18 [==============================] - 0s 4ms/step - loss: 108.7214 - val_loss: 601.8420\n",
      "Epoch 89/100\n",
      " 1/18 [>.............................] - ETA: 0s - loss: 105.6757"
     ]
    },
    {
     "name": "stderr",
     "output_type": "stream",
     "text": [
      "WARNING:absl:Found untraced functions such as _jit_compiled_convolution_op while saving (showing 1 of 1). These functions will not be directly callable after loading.\n"
     ]
    },
    {
     "name": "stdout",
     "output_type": "stream",
     "text": [
      "INFO:tensorflow:Assets written to: model_experiments\\model_4_Conv1D\\assets\n"
     ]
    },
    {
     "name": "stderr",
     "output_type": "stream",
     "text": [
      "INFO:tensorflow:Assets written to: model_experiments\\model_4_Conv1D\\assets\n"
     ]
    },
    {
     "name": "stdout",
     "output_type": "stream",
     "text": [
      "18/18 [==============================] - 1s 39ms/step - loss: 110.3381 - val_loss: 571.1859\n",
      "Epoch 90/100\n",
      "18/18 [==============================] - 0s 5ms/step - loss: 108.2587 - val_loss: 636.4944\n",
      "Epoch 91/100\n",
      "18/18 [==============================] - 0s 6ms/step - loss: 115.0613 - val_loss: 623.4879\n",
      "Epoch 92/100\n",
      "18/18 [==============================] - 0s 6ms/step - loss: 110.5158 - val_loss: 572.3904\n",
      "Epoch 93/100\n",
      "18/18 [==============================] - 0s 5ms/step - loss: 114.6687 - val_loss: 632.9797\n",
      "Epoch 94/100\n",
      "18/18 [==============================] - 0s 5ms/step - loss: 111.2449 - val_loss: 581.7937\n",
      "Epoch 95/100\n",
      "18/18 [==============================] - 0s 6ms/step - loss: 110.3620 - val_loss: 574.0161\n",
      "Epoch 96/100\n",
      "18/18 [==============================] - 0s 5ms/step - loss: 115.8674 - val_loss: 595.9524\n",
      "Epoch 97/100\n",
      "18/18 [==============================] - 0s 5ms/step - loss: 109.6485 - val_loss: 592.8004\n",
      "Epoch 98/100\n",
      "18/18 [==============================] - 0s 5ms/step - loss: 109.9520 - val_loss: 571.8185\n",
      "Epoch 99/100\n",
      "16/18 [=========================>....] - ETA: 0s - loss: 108.0231"
     ]
    },
    {
     "name": "stderr",
     "output_type": "stream",
     "text": [
      "WARNING:absl:Found untraced functions such as _jit_compiled_convolution_op while saving (showing 1 of 1). These functions will not be directly callable after loading.\n"
     ]
    },
    {
     "name": "stdout",
     "output_type": "stream",
     "text": [
      "INFO:tensorflow:Assets written to: model_experiments\\model_4_Conv1D\\assets\n"
     ]
    },
    {
     "name": "stderr",
     "output_type": "stream",
     "text": [
      "INFO:tensorflow:Assets written to: model_experiments\\model_4_Conv1D\\assets\n"
     ]
    },
    {
     "name": "stdout",
     "output_type": "stream",
     "text": [
      "18/18 [==============================] - 1s 48ms/step - loss: 109.0066 - val_loss: 569.1664\n",
      "Epoch 100/100\n",
      "18/18 [==============================] - 0s 5ms/step - loss: 110.6223 - val_loss: 631.2046\n"
     ]
    }
   ],
   "source": [
    "# Creating Conv1D model\n",
    "model_4 = tf.keras.Sequential([\n",
    "    layers.Lambda(lambda x: tf.expand_dims(x, axis=1)),\n",
    "    layers.Conv1D(filters=128, kernel_size=5, strides=1, padding=\"causal\", activation=\"relu\"),\n",
    "    layers.Dense(HORIZON)\n",
    "], name=\"model_4_Conv1D\")\n",
    "\n",
    "# Compiling the model\n",
    "model_4.compile(\n",
    "    loss=\"mae\",\n",
    "    optimizer=tf.keras.optimizers.Adam()\n",
    ")\n",
    "\n",
    "# Fitting the model\n",
    "history_4 = model_4.fit(\n",
    "    train_windows,\n",
    "    train_labels,\n",
    "    batch_size=128,\n",
    "    epochs=100,\n",
    "    validation_data=(test_windows, test_labels),\n",
    "    callbacks=[create_model_checkpoint(model_name=model_4.name)]\n",
    ")"
   ]
  },
  {
   "cell_type": "code",
   "execution_count": 74,
   "metadata": {},
   "outputs": [
    {
     "name": "stdout",
     "output_type": "stream",
     "text": [
      "Model: \"model_4_Conv1D\"\n",
      "_________________________________________________________________\n",
      " Layer (type)                Output Shape              Param #   \n",
      "=================================================================\n",
      " lambda_1 (Lambda)           (None, 1, 7)              0         \n",
      "                                                                 \n",
      " conv1d (Conv1D)             (None, 1, 128)            4608      \n",
      "                                                                 \n",
      " dense_6 (Dense)             (None, 1, 1)              129       \n",
      "                                                                 \n",
      "=================================================================\n",
      "Total params: 4,737\n",
      "Trainable params: 4,737\n",
      "Non-trainable params: 0\n",
      "_________________________________________________________________\n"
     ]
    }
   ],
   "source": [
    "# Checking the model structure\n",
    "model_4.summary()"
   ]
  },
  {
   "cell_type": "code",
   "execution_count": 75,
   "metadata": {},
   "outputs": [
    {
     "name": "stdout",
     "output_type": "stream",
     "text": [
      "18/18 [==============================] - 0s 2ms/step - loss: 631.2045\n"
     ]
    },
    {
     "data": {
      "text/plain": [
       "631.2045288085938"
      ]
     },
     "execution_count": 75,
     "metadata": {},
     "output_type": "execute_result"
    }
   ],
   "source": [
    "# Evaluating the model\n",
    "model_4.evaluate(test_windows, test_labels)"
   ]
  },
  {
   "cell_type": "code",
   "execution_count": 76,
   "metadata": {},
   "outputs": [
    {
     "name": "stdout",
     "output_type": "stream",
     "text": [
      "18/18 [==============================] - 0s 2ms/step - loss: 569.1664\n"
     ]
    },
    {
     "data": {
      "text/plain": [
       "569.1664428710938"
      ]
     },
     "execution_count": 76,
     "metadata": {},
     "output_type": "execute_result"
    }
   ],
   "source": [
    "# Loading back the best performing model\n",
    "model_4 = tf.keras.models.load_model(\"./model_experiments/model_4_Conv1D/\")\n",
    "model_4.evaluate(test_windows, test_labels)"
   ]
  },
  {
   "cell_type": "code",
   "execution_count": 77,
   "metadata": {},
   "outputs": [
    {
     "name": "stdout",
     "output_type": "stream",
     "text": [
      "18/18 [==============================] - 0s 1ms/step\n"
     ]
    },
    {
     "data": {
      "text/plain": [
       "<tf.Tensor: shape=(10,), dtype=float32, numpy=\n",
       "array([8910.83 , 8802.381, 9014.084, 8814.986, 8769.014, 8747.953,\n",
       "       8707.493, 8545.787, 8484.913, 8532.881], dtype=float32)>"
      ]
     },
     "execution_count": 77,
     "metadata": {},
     "output_type": "execute_result"
    }
   ],
   "source": [
    "# Making predictions\n",
    "model_4_preds = make_preds(model_4, test_windows)\n",
    "model_4_preds[:10]"
   ]
  },
  {
   "cell_type": "code",
   "execution_count": 78,
   "metadata": {},
   "outputs": [
    {
     "data": {
      "text/plain": [
       "{'mae': 569.1664,\n",
       " 'mse': 1181325.5,\n",
       " 'rmse': 1086.888,\n",
       " 'mape': 2.552507,\n",
       " 'mase': 0.9998677}"
      ]
     },
     "execution_count": 78,
     "metadata": {},
     "output_type": "execute_result"
    }
   ],
   "source": [
    "# Evaluating predictions\n",
    "model_4_results = evaluate_preds(\n",
    "    y_true=tf.squeeze(test_labels),\n",
    "    y_pred=model_4_preds\n",
    ")\n",
    "model_4_results"
   ]
  },
  {
   "attachments": {},
   "cell_type": "markdown",
   "metadata": {},
   "source": [
    "### Model 5 - LSTM (RNN)"
   ]
  },
  {
   "cell_type": "code",
   "execution_count": 79,
   "metadata": {},
   "outputs": [
    {
     "name": "stdout",
     "output_type": "stream",
     "text": [
      "Epoch 1/100\n",
      "15/18 [========================>.....] - ETA: 0s - loss: 2931.5405 INFO:tensorflow:Assets written to: model_experiments\\module_5_LSTM\\assets\n"
     ]
    },
    {
     "name": "stderr",
     "output_type": "stream",
     "text": [
      "INFO:tensorflow:Assets written to: model_experiments\\module_5_LSTM\\assets\n"
     ]
    },
    {
     "name": "stdout",
     "output_type": "stream",
     "text": [
      "18/18 [==============================] - 4s 137ms/step - loss: 2856.4241 - val_loss: 13039.9414\n",
      "Epoch 2/100\n",
      "18/18 [==============================] - ETA: 0s - loss: 1420.5686INFO:tensorflow:Assets written to: model_experiments\\module_5_LSTM\\assets\n"
     ]
    },
    {
     "name": "stderr",
     "output_type": "stream",
     "text": [
      "INFO:tensorflow:Assets written to: model_experiments\\module_5_LSTM\\assets\n"
     ]
    },
    {
     "name": "stdout",
     "output_type": "stream",
     "text": [
      "18/18 [==============================] - 2s 107ms/step - loss: 1420.5686 - val_loss: 4316.9175\n",
      "Epoch 3/100\n",
      "15/18 [========================>.....] - ETA: 0s - loss: 348.0896INFO:tensorflow:Assets written to: model_experiments\\module_5_LSTM\\assets\n"
     ]
    },
    {
     "name": "stderr",
     "output_type": "stream",
     "text": [
      "INFO:tensorflow:Assets written to: model_experiments\\module_5_LSTM\\assets\n"
     ]
    },
    {
     "name": "stdout",
     "output_type": "stream",
     "text": [
      "18/18 [==============================] - 2s 110ms/step - loss: 343.7108 - val_loss: 1502.3073\n",
      "Epoch 4/100\n",
      "14/18 [======================>.......] - ETA: 0s - loss: 222.0179INFO:tensorflow:Assets written to: model_experiments\\module_5_LSTM\\assets\n"
     ]
    },
    {
     "name": "stderr",
     "output_type": "stream",
     "text": [
      "INFO:tensorflow:Assets written to: model_experiments\\module_5_LSTM\\assets\n"
     ]
    },
    {
     "name": "stdout",
     "output_type": "stream",
     "text": [
      "18/18 [==============================] - 2s 134ms/step - loss: 215.4119 - val_loss: 1095.7948\n",
      "Epoch 5/100\n",
      "17/18 [===========================>..] - ETA: 0s - loss: 185.7545INFO:tensorflow:Assets written to: model_experiments\\module_5_LSTM\\assets\n"
     ]
    },
    {
     "name": "stderr",
     "output_type": "stream",
     "text": [
      "INFO:tensorflow:Assets written to: model_experiments\\module_5_LSTM\\assets\n"
     ]
    },
    {
     "name": "stdout",
     "output_type": "stream",
     "text": [
      "18/18 [==============================] - 2s 101ms/step - loss: 183.8213 - val_loss: 1063.1636\n",
      "Epoch 6/100\n",
      "17/18 [===========================>..] - ETA: 0s - loss: 177.7733INFO:tensorflow:Assets written to: model_experiments\\module_5_LSTM\\assets\n"
     ]
    },
    {
     "name": "stderr",
     "output_type": "stream",
     "text": [
      "INFO:tensorflow:Assets written to: model_experiments\\module_5_LSTM\\assets\n"
     ]
    },
    {
     "name": "stdout",
     "output_type": "stream",
     "text": [
      "18/18 [==============================] - 2s 104ms/step - loss: 179.5259 - val_loss: 1009.5812\n",
      "Epoch 7/100\n",
      "18/18 [==============================] - 0s 5ms/step - loss: 180.2101 - val_loss: 1025.3411\n",
      "Epoch 8/100\n",
      "18/18 [==============================] - 0s 6ms/step - loss: 178.5126 - val_loss: 1047.8469\n",
      "Epoch 9/100\n",
      "18/18 [==============================] - 0s 8ms/step - loss: 176.8947 - val_loss: 1023.5343\n",
      "Epoch 10/100\n",
      "16/18 [=========================>....] - ETA: 0s - loss: 173.5121INFO:tensorflow:Assets written to: model_experiments\\module_5_LSTM\\assets\n"
     ]
    },
    {
     "name": "stderr",
     "output_type": "stream",
     "text": [
      "INFO:tensorflow:Assets written to: model_experiments\\module_5_LSTM\\assets\n"
     ]
    },
    {
     "name": "stdout",
     "output_type": "stream",
     "text": [
      "18/18 [==============================] - 2s 110ms/step - loss: 176.1325 - val_loss: 1002.7930\n",
      "Epoch 11/100\n",
      "18/18 [==============================] - 0s 5ms/step - loss: 176.4488 - val_loss: 1011.0480\n",
      "Epoch 12/100\n",
      "18/18 [==============================] - 0s 6ms/step - loss: 174.1539 - val_loss: 1008.7361\n",
      "Epoch 13/100\n",
      "16/18 [=========================>....] - ETA: 0s - loss: 170.9170INFO:tensorflow:Assets written to: model_experiments\\module_5_LSTM\\assets\n"
     ]
    },
    {
     "name": "stderr",
     "output_type": "stream",
     "text": [
      "INFO:tensorflow:Assets written to: model_experiments\\module_5_LSTM\\assets\n"
     ]
    },
    {
     "name": "stdout",
     "output_type": "stream",
     "text": [
      "18/18 [==============================] - 2s 121ms/step - loss: 172.9229 - val_loss: 986.3596\n",
      "Epoch 14/100\n",
      "18/18 [==============================] - 0s 6ms/step - loss: 171.5979 - val_loss: 1002.9602\n",
      "Epoch 15/100\n",
      "18/18 [==============================] - 0s 7ms/step - loss: 170.8719 - val_loss: 996.6597\n",
      "Epoch 16/100\n",
      "11/18 [=================>............] - ETA: 0s - loss: 170.0181INFO:tensorflow:Assets written to: model_experiments\\module_5_LSTM\\assets\n"
     ]
    },
    {
     "name": "stderr",
     "output_type": "stream",
     "text": [
      "INFO:tensorflow:Assets written to: model_experiments\\module_5_LSTM\\assets\n"
     ]
    },
    {
     "name": "stdout",
     "output_type": "stream",
     "text": [
      "18/18 [==============================] - 2s 104ms/step - loss: 169.3057 - val_loss: 946.0333\n",
      "Epoch 17/100\n",
      "18/18 [==============================] - 0s 10ms/step - loss: 167.8150 - val_loss: 1007.6441\n",
      "Epoch 18/100\n",
      "18/18 [==============================] - 0s 9ms/step - loss: 167.8195 - val_loss: 973.1160\n",
      "Epoch 19/100\n",
      "18/18 [==============================] - 0s 7ms/step - loss: 165.9375 - val_loss: 967.7747\n",
      "Epoch 20/100\n",
      "16/18 [=========================>....] - ETA: 0s - loss: 162.8721INFO:tensorflow:Assets written to: model_experiments\\module_5_LSTM\\assets\n"
     ]
    },
    {
     "name": "stderr",
     "output_type": "stream",
     "text": [
      "INFO:tensorflow:Assets written to: model_experiments\\module_5_LSTM\\assets\n"
     ]
    },
    {
     "name": "stdout",
     "output_type": "stream",
     "text": [
      "18/18 [==============================] - 2s 110ms/step - loss: 163.9589 - val_loss: 918.1705\n",
      "Epoch 21/100\n",
      "16/18 [=========================>....] - ETA: 0s - loss: 162.2975INFO:tensorflow:Assets written to: model_experiments\\module_5_LSTM\\assets\n"
     ]
    },
    {
     "name": "stderr",
     "output_type": "stream",
     "text": [
      "INFO:tensorflow:Assets written to: model_experiments\\module_5_LSTM\\assets\n"
     ]
    },
    {
     "name": "stdout",
     "output_type": "stream",
     "text": [
      "18/18 [==============================] - 2s 103ms/step - loss: 163.5266 - val_loss: 916.9719\n",
      "Epoch 22/100\n",
      "18/18 [==============================] - 0s 5ms/step - loss: 162.0352 - val_loss: 919.5778\n",
      "Epoch 23/100\n",
      "18/18 [==============================] - 0s 6ms/step - loss: 161.7151 - val_loss: 939.3215\n",
      "Epoch 24/100\n",
      "18/18 [==============================] - 0s 10ms/step - loss: 160.0686 - val_loss: 949.4017\n",
      "Epoch 25/100\n",
      "17/18 [===========================>..] - ETA: 0s - loss: 159.1851INFO:tensorflow:Assets written to: model_experiments\\module_5_LSTM\\assets\n"
     ]
    },
    {
     "name": "stderr",
     "output_type": "stream",
     "text": [
      "INFO:tensorflow:Assets written to: model_experiments\\module_5_LSTM\\assets\n"
     ]
    },
    {
     "name": "stdout",
     "output_type": "stream",
     "text": [
      "18/18 [==============================] - 2s 121ms/step - loss: 158.3596 - val_loss: 891.5952\n",
      "Epoch 26/100\n",
      "15/18 [========================>.....] - ETA: 0s - loss: 160.8574INFO:tensorflow:Assets written to: model_experiments\\module_5_LSTM\\assets\n"
     ]
    },
    {
     "name": "stderr",
     "output_type": "stream",
     "text": [
      "INFO:tensorflow:Assets written to: model_experiments\\module_5_LSTM\\assets\n"
     ]
    },
    {
     "name": "stdout",
     "output_type": "stream",
     "text": [
      "18/18 [==============================] - 2s 106ms/step - loss: 156.2477 - val_loss: 883.9521\n",
      "Epoch 27/100\n",
      "14/18 [======================>.......] - ETA: 0s - loss: 157.4663INFO:tensorflow:Assets written to: model_experiments\\module_5_LSTM\\assets\n"
     ]
    },
    {
     "name": "stderr",
     "output_type": "stream",
     "text": [
      "INFO:tensorflow:Assets written to: model_experiments\\module_5_LSTM\\assets\n"
     ]
    },
    {
     "name": "stdout",
     "output_type": "stream",
     "text": [
      "18/18 [==============================] - 2s 103ms/step - loss: 155.1402 - val_loss: 878.9154\n",
      "Epoch 28/100\n",
      " 8/18 [============>.................] - ETA: 0s - loss: 161.2677INFO:tensorflow:Assets written to: model_experiments\\module_5_LSTM\\assets\n"
     ]
    },
    {
     "name": "stderr",
     "output_type": "stream",
     "text": [
      "INFO:tensorflow:Assets written to: model_experiments\\module_5_LSTM\\assets\n"
     ]
    },
    {
     "name": "stdout",
     "output_type": "stream",
     "text": [
      "18/18 [==============================] - 2s 113ms/step - loss: 153.7665 - val_loss: 859.8356\n",
      "Epoch 29/100\n",
      "18/18 [==============================] - 0s 6ms/step - loss: 152.5381 - val_loss: 878.7612\n",
      "Epoch 30/100\n",
      "18/18 [==============================] - 0s 7ms/step - loss: 151.4849 - val_loss: 866.8574\n",
      "Epoch 31/100\n",
      "15/18 [========================>.....] - ETA: 0s - loss: 147.5669INFO:tensorflow:Assets written to: model_experiments\\module_5_LSTM\\assets\n"
     ]
    },
    {
     "name": "stderr",
     "output_type": "stream",
     "text": [
      "INFO:tensorflow:Assets written to: model_experiments\\module_5_LSTM\\assets\n"
     ]
    },
    {
     "name": "stdout",
     "output_type": "stream",
     "text": [
      "18/18 [==============================] - 2s 104ms/step - loss: 149.4963 - val_loss: 832.4078\n",
      "Epoch 32/100\n",
      "13/18 [====================>.........] - ETA: 0s - loss: 149.9426INFO:tensorflow:Assets written to: model_experiments\\module_5_LSTM\\assets\n"
     ]
    },
    {
     "name": "stderr",
     "output_type": "stream",
     "text": [
      "INFO:tensorflow:Assets written to: model_experiments\\module_5_LSTM\\assets\n"
     ]
    },
    {
     "name": "stdout",
     "output_type": "stream",
     "text": [
      "18/18 [==============================] - 2s 112ms/step - loss: 148.3186 - val_loss: 825.2958\n",
      "Epoch 33/100\n",
      "18/18 [==============================] - 0s 6ms/step - loss: 150.5957 - val_loss: 899.1597\n",
      "Epoch 34/100\n",
      "14/18 [======================>.......] - ETA: 0s - loss: 153.4200INFO:tensorflow:Assets written to: model_experiments\\module_5_LSTM\\assets\n"
     ]
    },
    {
     "name": "stderr",
     "output_type": "stream",
     "text": [
      "INFO:tensorflow:Assets written to: model_experiments\\module_5_LSTM\\assets\n"
     ]
    },
    {
     "name": "stdout",
     "output_type": "stream",
     "text": [
      "18/18 [==============================] - 2s 99ms/step - loss: 149.2674 - val_loss: 813.4606\n",
      "Epoch 35/100\n",
      "18/18 [==============================] - 0s 6ms/step - loss: 144.9186 - val_loss: 838.0334\n",
      "Epoch 36/100\n",
      " 8/18 [============>.................] - ETA: 0s - loss: 139.2749INFO:tensorflow:Assets written to: model_experiments\\module_5_LSTM\\assets\n"
     ]
    },
    {
     "name": "stderr",
     "output_type": "stream",
     "text": [
      "INFO:tensorflow:Assets written to: model_experiments\\module_5_LSTM\\assets\n"
     ]
    },
    {
     "name": "stdout",
     "output_type": "stream",
     "text": [
      "18/18 [==============================] - 2s 120ms/step - loss: 146.0595 - val_loss: 805.5007\n",
      "Epoch 37/100\n",
      "13/18 [====================>.........] - ETA: 0s - loss: 145.8855INFO:tensorflow:Assets written to: model_experiments\\module_5_LSTM\\assets\n"
     ]
    },
    {
     "name": "stderr",
     "output_type": "stream",
     "text": [
      "INFO:tensorflow:Assets written to: model_experiments\\module_5_LSTM\\assets\n"
     ]
    },
    {
     "name": "stdout",
     "output_type": "stream",
     "text": [
      "18/18 [==============================] - 2s 100ms/step - loss: 143.7114 - val_loss: 794.7798\n",
      "Epoch 38/100\n",
      "13/18 [====================>.........] - ETA: 0s - loss: 145.8472INFO:tensorflow:Assets written to: model_experiments\\module_5_LSTM\\assets\n"
     ]
    },
    {
     "name": "stderr",
     "output_type": "stream",
     "text": [
      "INFO:tensorflow:Assets written to: model_experiments\\module_5_LSTM\\assets\n"
     ]
    },
    {
     "name": "stdout",
     "output_type": "stream",
     "text": [
      "18/18 [==============================] - 2s 101ms/step - loss: 140.6880 - val_loss: 776.6137\n",
      "Epoch 39/100\n",
      "12/18 [===================>..........] - ETA: 0s - loss: 139.4528INFO:tensorflow:Assets written to: model_experiments\\module_5_LSTM\\assets\n"
     ]
    },
    {
     "name": "stderr",
     "output_type": "stream",
     "text": [
      "INFO:tensorflow:Assets written to: model_experiments\\module_5_LSTM\\assets\n"
     ]
    },
    {
     "name": "stdout",
     "output_type": "stream",
     "text": [
      "18/18 [==============================] - 2s 104ms/step - loss: 138.9108 - val_loss: 772.5529\n",
      "Epoch 40/100\n",
      "18/18 [==============================] - 0s 6ms/step - loss: 138.2630 - val_loss: 776.8677\n",
      "Epoch 41/100\n",
      "12/18 [===================>..........] - ETA: 0s - loss: 139.9895INFO:tensorflow:Assets written to: model_experiments\\module_5_LSTM\\assets\n"
     ]
    },
    {
     "name": "stderr",
     "output_type": "stream",
     "text": [
      "INFO:tensorflow:Assets written to: model_experiments\\module_5_LSTM\\assets\n"
     ]
    },
    {
     "name": "stdout",
     "output_type": "stream",
     "text": [
      "18/18 [==============================] - 2s 117ms/step - loss: 136.3972 - val_loss: 756.8154\n",
      "Epoch 42/100\n",
      "13/18 [====================>.........] - ETA: 0s - loss: 134.8427INFO:tensorflow:Assets written to: model_experiments\\module_5_LSTM\\assets\n"
     ]
    },
    {
     "name": "stderr",
     "output_type": "stream",
     "text": [
      "INFO:tensorflow:Assets written to: model_experiments\\module_5_LSTM\\assets\n"
     ]
    },
    {
     "name": "stdout",
     "output_type": "stream",
     "text": [
      "18/18 [==============================] - 2s 106ms/step - loss: 135.4679 - val_loss: 756.0808\n",
      "Epoch 43/100\n",
      "12/18 [===================>..........] - ETA: 0s - loss: 130.5640INFO:tensorflow:Assets written to: model_experiments\\module_5_LSTM\\assets\n"
     ]
    },
    {
     "name": "stderr",
     "output_type": "stream",
     "text": [
      "INFO:tensorflow:Assets written to: model_experiments\\module_5_LSTM\\assets\n"
     ]
    },
    {
     "name": "stdout",
     "output_type": "stream",
     "text": [
      "18/18 [==============================] - 2s 117ms/step - loss: 134.3932 - val_loss: 752.7433\n",
      "Epoch 44/100\n",
      "12/18 [===================>..........] - ETA: 0s - loss: 131.7689INFO:tensorflow:Assets written to: model_experiments\\module_5_LSTM\\assets\n"
     ]
    },
    {
     "name": "stderr",
     "output_type": "stream",
     "text": [
      "INFO:tensorflow:Assets written to: model_experiments\\module_5_LSTM\\assets\n"
     ]
    },
    {
     "name": "stdout",
     "output_type": "stream",
     "text": [
      "18/18 [==============================] - 2s 107ms/step - loss: 132.1618 - val_loss: 738.0688\n",
      "Epoch 45/100\n",
      "13/18 [====================>.........] - ETA: 0s - loss: 128.4839INFO:tensorflow:Assets written to: model_experiments\\module_5_LSTM\\assets\n"
     ]
    },
    {
     "name": "stderr",
     "output_type": "stream",
     "text": [
      "INFO:tensorflow:Assets written to: model_experiments\\module_5_LSTM\\assets\n"
     ]
    },
    {
     "name": "stdout",
     "output_type": "stream",
     "text": [
      "18/18 [==============================] - 2s 118ms/step - loss: 132.0017 - val_loss: 736.7415\n",
      "Epoch 46/100\n",
      "12/18 [===================>..........] - ETA: 0s - loss: 137.4518INFO:tensorflow:Assets written to: model_experiments\\module_5_LSTM\\assets\n"
     ]
    },
    {
     "name": "stderr",
     "output_type": "stream",
     "text": [
      "INFO:tensorflow:Assets written to: model_experiments\\module_5_LSTM\\assets\n"
     ]
    },
    {
     "name": "stdout",
     "output_type": "stream",
     "text": [
      "18/18 [==============================] - 2s 101ms/step - loss: 131.1845 - val_loss: 732.0018\n",
      "Epoch 47/100\n",
      "13/18 [====================>.........] - ETA: 0s - loss: 120.3680INFO:tensorflow:Assets written to: model_experiments\\module_5_LSTM\\assets\n"
     ]
    },
    {
     "name": "stderr",
     "output_type": "stream",
     "text": [
      "INFO:tensorflow:Assets written to: model_experiments\\module_5_LSTM\\assets\n"
     ]
    },
    {
     "name": "stdout",
     "output_type": "stream",
     "text": [
      "18/18 [==============================] - 2s 133ms/step - loss: 131.3067 - val_loss: 723.2291\n",
      "Epoch 48/100\n",
      "18/18 [==============================] - 0s 7ms/step - loss: 129.3242 - val_loss: 731.7791\n",
      "Epoch 49/100\n",
      "18/18 [==============================] - 0s 11ms/step - loss: 128.5606 - val_loss: 725.8168\n",
      "Epoch 50/100\n",
      "18/18 [==============================] - 0s 10ms/step - loss: 130.3801 - val_loss: 731.2994\n",
      "Epoch 51/100\n",
      "18/18 [==============================] - 0s 9ms/step - loss: 130.8758 - val_loss: 786.1232\n",
      "Epoch 52/100\n",
      "10/18 [===============>..............] - ETA: 0s - loss: 137.5251INFO:tensorflow:Assets written to: model_experiments\\module_5_LSTM\\assets\n"
     ]
    },
    {
     "name": "stderr",
     "output_type": "stream",
     "text": [
      "INFO:tensorflow:Assets written to: model_experiments\\module_5_LSTM\\assets\n"
     ]
    },
    {
     "name": "stdout",
     "output_type": "stream",
     "text": [
      "18/18 [==============================] - 2s 106ms/step - loss: 133.5767 - val_loss: 692.8348\n",
      "Epoch 53/100\n",
      " 8/18 [============>.................] - ETA: 0s - loss: 118.1668INFO:tensorflow:Assets written to: model_experiments\\module_5_LSTM\\assets\n"
     ]
    },
    {
     "name": "stderr",
     "output_type": "stream",
     "text": [
      "INFO:tensorflow:Assets written to: model_experiments\\module_5_LSTM\\assets\n"
     ]
    },
    {
     "name": "stdout",
     "output_type": "stream",
     "text": [
      "18/18 [==============================] - 2s 123ms/step - loss: 126.9019 - val_loss: 689.1453\n",
      "Epoch 54/100\n",
      "18/18 [==============================] - 0s 6ms/step - loss: 125.7302 - val_loss: 693.1421\n",
      "Epoch 55/100\n",
      "11/18 [=================>............] - ETA: 0s - loss: 131.4832INFO:tensorflow:Assets written to: model_experiments\\module_5_LSTM\\assets\n"
     ]
    },
    {
     "name": "stderr",
     "output_type": "stream",
     "text": [
      "INFO:tensorflow:Assets written to: model_experiments\\module_5_LSTM\\assets\n"
     ]
    },
    {
     "name": "stdout",
     "output_type": "stream",
     "text": [
      "18/18 [==============================] - 2s 109ms/step - loss: 123.1570 - val_loss: 678.5352\n",
      "Epoch 56/100\n",
      "18/18 [==============================] - 0s 7ms/step - loss: 126.7094 - val_loss: 695.6416\n",
      "Epoch 57/100\n",
      "18/18 [==============================] - 0s 10ms/step - loss: 124.2018 - val_loss: 678.7340\n",
      "Epoch 58/100\n",
      " 9/18 [==============>...............] - ETA: 0s - loss: 123.9495INFO:tensorflow:Assets written to: model_experiments\\module_5_LSTM\\assets\n"
     ]
    },
    {
     "name": "stderr",
     "output_type": "stream",
     "text": [
      "INFO:tensorflow:Assets written to: model_experiments\\module_5_LSTM\\assets\n"
     ]
    },
    {
     "name": "stdout",
     "output_type": "stream",
     "text": [
      "18/18 [==============================] - 2s 109ms/step - loss: 121.2448 - val_loss: 666.2493\n",
      "Epoch 59/100\n",
      "18/18 [==============================] - 0s 6ms/step - loss: 120.4123 - val_loss: 666.5088\n",
      "Epoch 60/100\n",
      "18/18 [==============================] - 0s 8ms/step - loss: 121.8804 - val_loss: 667.9102\n",
      "Epoch 61/100\n",
      "18/18 [==============================] - 0s 7ms/step - loss: 122.8485 - val_loss: 723.2170\n",
      "Epoch 62/100\n",
      "18/18 [==============================] - 0s 6ms/step - loss: 128.1842 - val_loss: 752.8117\n",
      "Epoch 63/100\n",
      "12/18 [===================>..........] - ETA: 0s - loss: 129.0562INFO:tensorflow:Assets written to: model_experiments\\module_5_LSTM\\assets\n"
     ]
    },
    {
     "name": "stderr",
     "output_type": "stream",
     "text": [
      "INFO:tensorflow:Assets written to: model_experiments\\module_5_LSTM\\assets\n"
     ]
    },
    {
     "name": "stdout",
     "output_type": "stream",
     "text": [
      "18/18 [==============================] - 2s 127ms/step - loss: 124.2962 - val_loss: 665.5044\n",
      "Epoch 64/100\n",
      "13/18 [====================>.........] - ETA: 0s - loss: 122.5604INFO:tensorflow:Assets written to: model_experiments\\module_5_LSTM\\assets\n"
     ]
    },
    {
     "name": "stderr",
     "output_type": "stream",
     "text": [
      "INFO:tensorflow:Assets written to: model_experiments\\module_5_LSTM\\assets\n"
     ]
    },
    {
     "name": "stdout",
     "output_type": "stream",
     "text": [
      "18/18 [==============================] - 2s 98ms/step - loss: 118.9124 - val_loss: 649.8082\n",
      "Epoch 65/100\n",
      "13/18 [====================>.........] - ETA: 0s - loss: 117.2104INFO:tensorflow:Assets written to: model_experiments\\module_5_LSTM\\assets\n"
     ]
    },
    {
     "name": "stderr",
     "output_type": "stream",
     "text": [
      "INFO:tensorflow:Assets written to: model_experiments\\module_5_LSTM\\assets\n"
     ]
    },
    {
     "name": "stdout",
     "output_type": "stream",
     "text": [
      "18/18 [==============================] - 2s 111ms/step - loss: 118.2494 - val_loss: 643.5172\n",
      "Epoch 66/100\n",
      "18/18 [==============================] - 0s 10ms/step - loss: 117.8280 - val_loss: 655.8132\n",
      "Epoch 67/100\n",
      "16/18 [=========================>....] - ETA: 0s - loss: 115.3745INFO:tensorflow:Assets written to: model_experiments\\module_5_LSTM\\assets\n"
     ]
    },
    {
     "name": "stderr",
     "output_type": "stream",
     "text": [
      "INFO:tensorflow:Assets written to: model_experiments\\module_5_LSTM\\assets\n"
     ]
    },
    {
     "name": "stdout",
     "output_type": "stream",
     "text": [
      "18/18 [==============================] - 2s 108ms/step - loss: 118.2798 - val_loss: 638.9451\n",
      "Epoch 68/100\n",
      "10/18 [===============>..............] - ETA: 0s - loss: 116.5557INFO:tensorflow:Assets written to: model_experiments\\module_5_LSTM\\assets\n"
     ]
    },
    {
     "name": "stderr",
     "output_type": "stream",
     "text": [
      "INFO:tensorflow:Assets written to: model_experiments\\module_5_LSTM\\assets\n"
     ]
    },
    {
     "name": "stdout",
     "output_type": "stream",
     "text": [
      "18/18 [==============================] - 2s 114ms/step - loss: 118.5157 - val_loss: 636.2907\n",
      "Epoch 69/100\n",
      "18/18 [==============================] - 0s 7ms/step - loss: 120.0727 - val_loss: 637.7236\n",
      "Epoch 70/100\n",
      "13/18 [====================>.........] - ETA: 0s - loss: 114.4646INFO:tensorflow:Assets written to: model_experiments\\module_5_LSTM\\assets\n"
     ]
    },
    {
     "name": "stderr",
     "output_type": "stream",
     "text": [
      "INFO:tensorflow:Assets written to: model_experiments\\module_5_LSTM\\assets\n"
     ]
    },
    {
     "name": "stdout",
     "output_type": "stream",
     "text": [
      "18/18 [==============================] - 2s 106ms/step - loss: 116.2862 - val_loss: 630.0621\n",
      "Epoch 71/100\n",
      "18/18 [==============================] - 0s 7ms/step - loss: 116.2103 - val_loss: 652.1552\n",
      "Epoch 72/100\n",
      "18/18 [==============================] - 0s 7ms/step - loss: 121.0288 - val_loss: 650.8551\n",
      "Epoch 73/100\n",
      "12/18 [===================>..........] - ETA: 0s - loss: 117.9116INFO:tensorflow:Assets written to: model_experiments\\module_5_LSTM\\assets\n"
     ]
    },
    {
     "name": "stderr",
     "output_type": "stream",
     "text": [
      "INFO:tensorflow:Assets written to: model_experiments\\module_5_LSTM\\assets\n"
     ]
    },
    {
     "name": "stdout",
     "output_type": "stream",
     "text": [
      "18/18 [==============================] - 2s 113ms/step - loss: 117.5222 - val_loss: 626.4438\n",
      "Epoch 74/100\n",
      "18/18 [==============================] - 0s 7ms/step - loss: 115.7653 - val_loss: 634.6161\n",
      "Epoch 75/100\n",
      "14/18 [======================>.......] - ETA: 0s - loss: 113.6199INFO:tensorflow:Assets written to: model_experiments\\module_5_LSTM\\assets\n"
     ]
    },
    {
     "name": "stderr",
     "output_type": "stream",
     "text": [
      "INFO:tensorflow:Assets written to: model_experiments\\module_5_LSTM\\assets\n"
     ]
    },
    {
     "name": "stdout",
     "output_type": "stream",
     "text": [
      "18/18 [==============================] - 2s 106ms/step - loss: 116.0569 - val_loss: 623.4684\n",
      "Epoch 76/100\n",
      "10/18 [===============>..............] - ETA: 0s - loss: 115.8113INFO:tensorflow:Assets written to: model_experiments\\module_5_LSTM\\assets\n"
     ]
    },
    {
     "name": "stderr",
     "output_type": "stream",
     "text": [
      "INFO:tensorflow:Assets written to: model_experiments\\module_5_LSTM\\assets\n"
     ]
    },
    {
     "name": "stdout",
     "output_type": "stream",
     "text": [
      "18/18 [==============================] - 2s 118ms/step - loss: 115.1124 - val_loss: 616.6467\n",
      "Epoch 77/100\n",
      "18/18 [==============================] - 0s 6ms/step - loss: 121.6452 - val_loss: 660.3092\n",
      "Epoch 78/100\n",
      "18/18 [==============================] - ETA: 0s - loss: 118.8530INFO:tensorflow:Assets written to: model_experiments\\module_5_LSTM\\assets\n"
     ]
    },
    {
     "name": "stderr",
     "output_type": "stream",
     "text": [
      "INFO:tensorflow:Assets written to: model_experiments\\module_5_LSTM\\assets\n"
     ]
    },
    {
     "name": "stdout",
     "output_type": "stream",
     "text": [
      "18/18 [==============================] - 2s 106ms/step - loss: 118.8530 - val_loss: 614.8398\n",
      "Epoch 79/100\n",
      "13/18 [====================>.........] - ETA: 0s - loss: 110.5898INFO:tensorflow:Assets written to: model_experiments\\module_5_LSTM\\assets\n"
     ]
    },
    {
     "name": "stderr",
     "output_type": "stream",
     "text": [
      "INFO:tensorflow:Assets written to: model_experiments\\module_5_LSTM\\assets\n"
     ]
    },
    {
     "name": "stdout",
     "output_type": "stream",
     "text": [
      "18/18 [==============================] - 2s 102ms/step - loss: 113.7385 - val_loss: 613.7838\n",
      "Epoch 80/100\n",
      "18/18 [==============================] - 0s 7ms/step - loss: 115.2011 - val_loss: 653.7521\n",
      "Epoch 81/100\n",
      "18/18 [==============================] - 0s 8ms/step - loss: 114.4104 - val_loss: 633.6443\n",
      "Epoch 82/100\n",
      "18/18 [==============================] - 0s 7ms/step - loss: 117.0521 - val_loss: 624.3636\n",
      "Epoch 83/100\n",
      "18/18 [==============================] - 0s 13ms/step - loss: 113.6617 - val_loss: 663.2884\n",
      "Epoch 84/100\n",
      "18/18 [==============================] - 0s 14ms/step - loss: 117.5124 - val_loss: 642.5703\n",
      "Epoch 85/100\n",
      "14/18 [======================>.......] - ETA: 0s - loss: 111.8574INFO:tensorflow:Assets written to: model_experiments\\module_5_LSTM\\assets\n"
     ]
    },
    {
     "name": "stderr",
     "output_type": "stream",
     "text": [
      "INFO:tensorflow:Assets written to: model_experiments\\module_5_LSTM\\assets\n"
     ]
    },
    {
     "name": "stdout",
     "output_type": "stream",
     "text": [
      "18/18 [==============================] - 2s 118ms/step - loss: 115.9611 - val_loss: 608.7205\n",
      "Epoch 86/100\n",
      " 9/18 [==============>...............] - ETA: 0s - loss: 111.5029INFO:tensorflow:Assets written to: model_experiments\\module_5_LSTM\\assets\n"
     ]
    },
    {
     "name": "stderr",
     "output_type": "stream",
     "text": [
      "INFO:tensorflow:Assets written to: model_experiments\\module_5_LSTM\\assets\n"
     ]
    },
    {
     "name": "stdout",
     "output_type": "stream",
     "text": [
      "18/18 [==============================] - 2s 120ms/step - loss: 115.1266 - val_loss: 606.9202\n",
      "Epoch 87/100\n",
      "18/18 [==============================] - 0s 8ms/step - loss: 113.1660 - val_loss: 609.3209\n",
      "Epoch 88/100\n",
      "18/18 [==============================] - 0s 8ms/step - loss: 114.0886 - val_loss: 618.5907\n",
      "Epoch 89/100\n",
      "18/18 [==============================] - 0s 8ms/step - loss: 113.1908 - val_loss: 664.8265\n",
      "Epoch 90/100\n",
      "18/18 [==============================] - 0s 7ms/step - loss: 118.7805 - val_loss: 633.1198\n",
      "Epoch 91/100\n",
      "18/18 [==============================] - 0s 7ms/step - loss: 114.9102 - val_loss: 628.6816\n",
      "Epoch 92/100\n",
      "10/18 [===============>..............] - ETA: 0s - loss: 111.3499INFO:tensorflow:Assets written to: model_experiments\\module_5_LSTM\\assets\n"
     ]
    },
    {
     "name": "stderr",
     "output_type": "stream",
     "text": [
      "INFO:tensorflow:Assets written to: model_experiments\\module_5_LSTM\\assets\n"
     ]
    },
    {
     "name": "stdout",
     "output_type": "stream",
     "text": [
      "18/18 [==============================] - 2s 104ms/step - loss: 113.0774 - val_loss: 605.5792\n",
      "Epoch 93/100\n",
      "15/18 [========================>.....] - ETA: 0s - loss: 115.8250INFO:tensorflow:Assets written to: model_experiments\\module_5_LSTM\\assets\n"
     ]
    },
    {
     "name": "stderr",
     "output_type": "stream",
     "text": [
      "INFO:tensorflow:Assets written to: model_experiments\\module_5_LSTM\\assets\n"
     ]
    },
    {
     "name": "stdout",
     "output_type": "stream",
     "text": [
      "18/18 [==============================] - 2s 104ms/step - loss: 112.6874 - val_loss: 596.7761\n",
      "Epoch 94/100\n",
      "10/18 [===============>..............] - ETA: 0s - loss: 110.0650INFO:tensorflow:Assets written to: model_experiments\\module_5_LSTM\\assets\n"
     ]
    },
    {
     "name": "stderr",
     "output_type": "stream",
     "text": [
      "INFO:tensorflow:Assets written to: model_experiments\\module_5_LSTM\\assets\n"
     ]
    },
    {
     "name": "stdout",
     "output_type": "stream",
     "text": [
      "18/18 [==============================] - 2s 118ms/step - loss: 111.1934 - val_loss: 596.3157\n",
      "Epoch 95/100\n",
      "18/18 [==============================] - 0s 8ms/step - loss: 111.3134 - val_loss: 599.4597\n",
      "Epoch 96/100\n",
      "18/18 [==============================] - 0s 8ms/step - loss: 114.2572 - val_loss: 603.4771\n",
      "Epoch 97/100\n",
      "18/18 [==============================] - 0s 8ms/step - loss: 112.5291 - val_loss: 634.7333\n",
      "Epoch 98/100\n",
      "10/18 [===============>..............] - ETA: 0s - loss: 112.1632INFO:tensorflow:Assets written to: model_experiments\\module_5_LSTM\\assets\n"
     ]
    },
    {
     "name": "stderr",
     "output_type": "stream",
     "text": [
      "INFO:tensorflow:Assets written to: model_experiments\\module_5_LSTM\\assets\n"
     ]
    },
    {
     "name": "stdout",
     "output_type": "stream",
     "text": [
      "18/18 [==============================] - 2s 104ms/step - loss: 113.6169 - val_loss: 594.4846\n",
      "Epoch 99/100\n",
      "18/18 [==============================] - 0s 10ms/step - loss: 111.3812 - val_loss: 594.5536\n",
      "Epoch 100/100\n",
      "18/18 [==============================] - 0s 8ms/step - loss: 114.4297 - val_loss: 610.6525\n"
     ]
    }
   ],
   "source": [
    "# Building LSTM model with the Functional API\n",
    "inputs = layers.Input(shape=(WINDOW_SIZE))\n",
    "x = layers.Lambda(lambda x: tf.expand_dims(x, axis=1))(inputs)\n",
    "# x = layers.LSTM(128, return_sequences=True)(x)\n",
    "x = layers.LSTM(128, activation=\"relu\")(x)\n",
    "# x = layers.Dense(32, activation=\"relu\")(x)\n",
    "outputs = layers.Dense(HORIZON)(x)\n",
    "model_5 = tf.keras.Model(inputs=inputs, outputs=outputs, name=\"module_5_LSTM\")\n",
    "\n",
    "# Compiling the model\n",
    "model_5.compile(\n",
    "    loss=\"mae\",\n",
    "    optimizer=tf.keras.optimizers.Adam()\n",
    ")\n",
    "\n",
    "# Fitting the model\n",
    "history_5 = model_5.fit(\n",
    "    train_windows,\n",
    "    train_labels,\n",
    "    epochs=100,\n",
    "    verbose=1,\n",
    "    batch_size=128,\n",
    "    validation_data=(test_windows, test_labels),\n",
    "    callbacks=[create_model_checkpoint(model_name=model_5.name)]\n",
    ")"
   ]
  },
  {
   "cell_type": "code",
   "execution_count": 80,
   "metadata": {},
   "outputs": [
    {
     "name": "stdout",
     "output_type": "stream",
     "text": [
      "18/18 [==============================] - 0s 3ms/step - loss: 594.4846\n"
     ]
    },
    {
     "data": {
      "text/plain": [
       "594.4845581054688"
      ]
     },
     "execution_count": 80,
     "metadata": {},
     "output_type": "execute_result"
    }
   ],
   "source": [
    "# Loading the best version\n",
    "model_5 = tf.keras.models.load_model(\"model_experiments/module_5_LSTM/\")\n",
    "model_5.evaluate(test_windows, test_labels)"
   ]
  },
  {
   "cell_type": "code",
   "execution_count": 81,
   "metadata": {},
   "outputs": [
    {
     "name": "stdout",
     "output_type": "stream",
     "text": [
      "18/18 [==============================] - 0s 2ms/step\n"
     ]
    },
    {
     "data": {
      "text/plain": [
       "<tf.Tensor: shape=(556,), dtype=float32, numpy=\n",
       "array([ 8976.493 ,  8836.593 ,  8997.583 ,  8846.267 ,  8743.399 ,\n",
       "        8748.051 ,  8728.558 ,  8589.188 ,  8475.805 ,  8542.585 ,\n",
       "        8334.7295,  8156.957 ,  8094.4043,  7780.3394,  7378.7603,\n",
       "        7254.9863,  7109.6934,  7125.2324,  7116.5923,  7387.27  ,\n",
       "        7461.4883,  7644.46  ,  7667.273 ,  7492.4966,  7415.796 ,\n",
       "        7347.7603,  7286.738 ,  7332.258 ,  7483.4453,  7554.326 ,\n",
       "        7580.5605,  7447.5117,  7326.8135,  7245.7656,  7210.713 ,\n",
       "        7231.494 ,  7137.293 ,  7120.79  ,  6981.3193,  6704.837 ,\n",
       "        7154.3145,  7245.3867,  7171.4307,  7254.7095,  7305.3975,\n",
       "        7286.5312,  7219.2744,  7256.5557,  7232.9473,  7234.8774,\n",
       "        7310.371 ,  7398.055 ,  7328.8   ,  7239.696 ,  7214.6147,\n",
       "        7062.177 ,  7199.065 ,  7329.85  ,  7370.0557,  7625.324 ,\n",
       "        7975.6943,  8148.2793,  7965.8467,  8070.6797,  8171.5283,\n",
       "        8191.5186,  8159.8936,  8561.563 ,  8882.171 ,  8821.223 ,\n",
       "        8929.717 ,  9019.326 ,  8846.514 ,  8691.87  ,  8718.343 ,\n",
       "        8703.703 ,  8483.716 ,  8431.597 ,  8409.962 ,  8514.028 ,\n",
       "        8787.784 ,  9073.59  ,  9322.247 ,  9544.854 ,  9549.492 ,\n",
       "        9477.744 ,  9460.918 ,  9373.984 ,  9255.047 ,  9493.151 ,\n",
       "        9698.777 ,  9805.1045,  9933.298 , 10140.277 , 10040.936 ,\n",
       "       10170.682 , 10390.859 , 10340.897 , 10382.017 , 10119.773 ,\n",
       "        9975.107 ,  9748.074 , 10015.181 ,  9882.522 ,  9650.126 ,\n",
       "        9682.942 ,  9714.029 ,  9899.197 ,  9726.737 ,  9517.265 ,\n",
       "        9030.089 ,  8808.84  ,  8781.805 ,  8644.265 ,  8542.229 ,\n",
       "        8767.546 ,  8865.749 ,  8802.008 ,  9001.498 ,  9164.335 ,\n",
       "        9068.601 ,  8455.09  ,  8010.6997,  7954.9473,  7929.5293,\n",
       "        6538.755 ,  5696.6885,  5396.486 ,  5286.7393,  4951.243 ,\n",
       "        5068.376 ,  5373.72  ,  5978.441 ,  6260.331 ,  6241.7666,\n",
       "        6098.2856,  6341.6064,  6782.2827,  6761.46  ,  6763.538 ,\n",
       "        6751.343 ,  6485.016 ,  6069.629 ,  6291.529 ,  6456.7363,\n",
       "        6501.87  ,  6734.967 ,  6848.0522,  6926.585 ,  6868.418 ,\n",
       "        7181.2866,  7274.241 ,  7347.202 ,  7394.8413,  7080.4644,\n",
       "        6940.5596,  6999.975 ,  6964.7754,  6883.011 ,  6761.772 ,\n",
       "        7049.3794,  7133.3276,  7228.6636,  7255.69  ,  7014.635 ,\n",
       "        6956.2383,  7065.2354,  7446.6235,  7534.0537,  7557.825 ,\n",
       "        7671.046 ,  7812.453 ,  7845.7725,  8477.409 ,  8838.437 ,\n",
       "        8920.838 ,  9030.994 ,  9041.347 ,  9037.671 ,  8994.278 ,\n",
       "        9293.038 ,  9779.052 ,  9973.813 ,  9804.982 ,  9164.634 ,\n",
       "        8759.841 ,  8784.704 ,  9128.411 ,  9568.582 ,  9475.856 ,\n",
       "        9475.356 ,  9702.542 ,  9819.874 ,  9787.501 ,  9621.077 ,\n",
       "        9338.332 ,  9229.868 ,  9228.385 ,  9111.634 ,  8944.163 ,\n",
       "        8853.015 ,  9049.448 ,  9398.134 ,  9477.3955,  9649.826 ,\n",
       "        9589.421 , 10088.841 ,  9856.229 ,  9677.636 ,  9825.706 ,\n",
       "        9757.872 ,  9748.765 ,  9696.536 ,  9833.896 ,  9835.589 ,\n",
       "        9877.7705,  9515.606 ,  9439.858 ,  9487.863 ,  9409.011 ,\n",
       "        9421.866 ,  9478.655 ,  9533.445 ,  9455.521 ,  9355.15  ,\n",
       "        9374.667 ,  9345.249 ,  9575.839 ,  9665.587 ,  9455.147 ,\n",
       "        9326.333 ,  9244.026 ,  9124.194 ,  9074.894 ,  9154.442 ,\n",
       "        9184.549 ,  9232.919 ,  9177.571 ,  9147.198 ,  9156.935 ,\n",
       "        9112.236 ,  9240.661 ,  9282.499 ,  9441.639 ,  9364.849 ,\n",
       "        9293.276 ,  9294.664 ,  9308.011 ,  9298.667 ,  9269.955 ,\n",
       "        9266.978 ,  9198.375 ,  9189.614 ,  9201.063 ,  9219.607 ,\n",
       "        9208.169 ,  9355.014 ,  9531.937 ,  9640.844 ,  9643.192 ,\n",
       "        9727.27  ,  9939.908 , 10841.49  , 11107.559 , 11279.548 ,\n",
       "       11311.697 , 11451.094 , 11802.919 , 11404.815 , 11308.7   ,\n",
       "       11286.078 , 11585.835 , 11799.966 , 11705.478 , 11793.474 ,\n",
       "       11777.2705, 11875.806 , 11559.741 , 11515.385 , 11729.506 ,\n",
       "       11812.45  , 11905.026 , 11926.531 , 12324.119 , 12267.102 ,\n",
       "       11933.5625, 11874.338 , 11724.98  , 11700.151 , 11656.512 ,\n",
       "       11731.819 , 11543.325 , 11459.105 , 11400.637 , 11456.513 ,\n",
       "       11532.251 , 11627.2705, 11728.351 , 11923.775 , 11687.734 ,\n",
       "       11016.065 , 10656.601 , 10224.798 , 10131.771 , 10233.152 ,\n",
       "       10098.736 , 10191.913 , 10319.472 , 10432.337 , 10467.625 ,\n",
       "       10387.094 , 10631.667 , 10837.814 , 11029.286 , 11038.89  ,\n",
       "       11010.56  , 11110.43  , 10990.458 , 10693.977 , 10556.961 ,\n",
       "       10378.945 , 10554.564 , 10706.044 , 10753.242 , 10797.087 ,\n",
       "       10879.14  , 10889.81  , 10803.839 , 10712.844 , 10632.905 ,\n",
       "       10599.821 , 10649.481 , 10755.913 , 10678.668 , 10671.243 ,\n",
       "       10864.257 , 11061.224 , 11316.459 , 11401.511 , 11647.719 ,\n",
       "       11622.169 , 11506.337 , 11551.788 , 11463.076 , 11420.264 ,\n",
       "       11455.053 , 11720.423 , 11940.727 , 12771.587 , 13230.278 ,\n",
       "       13146.402 , 13187.573 , 13187.046 , 13191.252 , 13540.472 ,\n",
       "       13482.484 , 13492.725 , 13609.882 , 13883.009 , 13894.075 ,\n",
       "       13709.123 , 13858.384 , 14136.763 , 15092.171 , 15584.343 ,\n",
       "       15173.706 , 15427.993 , 15534.165 , 15526.81  , 15719.997 ,\n",
       "       16153.742 , 16466.164 , 16204.391 , 16072.538 , 16608.004 ,\n",
       "       17424.295 , 17851.213 , 18028.29  , 18579.93  , 18848.63  ,\n",
       "       18827.686 , 18666.232 , 18990.877 , 18991.87  , 17792.951 ,\n",
       "       17136.371 , 17570.957 , 18046.959 , 18916.477 , 19098.885 ,\n",
       "       19299.883 , 19604.574 , 19226.549 , 19152.96  , 19137.508 ,\n",
       "       19206.469 , 18895.178 , 18616.941 , 18505.79  , 18262.922 ,\n",
       "       18659.697 , 19019.072 , 19259.709 , 19472.771 , 20826.273 ,\n",
       "       22589.893 , 23205.043 , 23888.434 , 24013.084 , 23734.254 ,\n",
       "       23636.068 , 23439.674 , 23636.137 , 24309.73  , 25888.709 ,\n",
       "       26589.562 , 26848.98  , 27210.914 , 28534.01  , 29347.89  ,\n",
       "       29495.443 , 31502.    , 33082.406 , 32427.332 , 33776.266 ,\n",
       "       36067.414 , 39130.816 , 40658.766 , 40828.832 , 40031.695 ,\n",
       "       36446.18  , 34684.56  , 36034.457 , 37784.29  , 37110.863 ,\n",
       "       36150.094 , 36594.445 , 36778.938 , 36638.75  , 35475.33  ,\n",
       "       32170.281 , 32498.375 , 32435.408 , 32113.232 , 32167.807 ,\n",
       "       32236.477 , 31452.717 , 32448.371 , 34503.176 , 34889.    ,\n",
       "       33788.617 , 33660.227 , 35429.402 , 37054.57  , 37451.918 ,\n",
       "       37869.07  , 39945.758 , 39622.67  , 43067.363 , 46384.605 ,\n",
       "       46332.57  , 47420.824 , 48322.2   , 48280.742 , 48837.566 ,\n",
       "       48713.55  , 49079.375 , 51316.05  , 52187.    , 54906.58  ,\n",
       "       55500.266 , 57028.742 , 55892.445 , 50650.023 , 48995.23  ,\n",
       "       48344.53  , 46503.402 , 45764.152 , 45136.844 , 47960.605 ,\n",
       "       48356.902 , 49926.87  , 49488.438 , 49225.047 , 49541.086 ,\n",
       "       50214.258 , 51564.004 , 53573.535 , 56559.676 , 57935.242 ,\n",
       "       58152.547 , 60304.86  , 61180.09  , 58249.062 , 56905.566 ,\n",
       "       58210.867 , 58554.645 , 58271.406 , 58511.434 , 58471.867 ,\n",
       "       55880.758 , 54767.45  , 53562.508 , 52358.03  , 53525.96  ,\n",
       "       55475.715 , 55849.36  , 57030.47  , 58807.38  , 59391.023 ,\n",
       "       59407.684 , 59264.375 , 58508.832 , 58292.156 , 58829.9   ,\n",
       "       58530.06  , 57189.438 , 57560.53  , 58346.24  , 59146.92  ,\n",
       "       59795.523 , 60109.594 , 62590.047 , 63476.047 , 63748.83  ,\n",
       "       62907.32  , 61530.703 , 58591.17  , 56487.773 , 56419.81  ,\n",
       "       54739.75  , 52437.812 , 50787.895 , 50654.984 , 49165.195 ,\n",
       "       51591.32  , 54500.047 , 54980.42  , 54081.062 , 56387.027 ,\n",
       "       58380.523 , 57290.45  , 57265.938 , 55243.242 , 56626.28  ,\n",
       "       56934.453 , 57052.92  , 58442.01  , 58499.355 , 57133.88  ,\n",
       "       56517.63  , 53908.355 , 50729.61  , 49733.637 , 48312.117 ,\n",
       "       46162.97  ], dtype=float32)>"
      ]
     },
     "execution_count": 81,
     "metadata": {},
     "output_type": "execute_result"
    }
   ],
   "source": [
    "# Making predictions\n",
    "model_5_preds = make_preds(model_5, test_windows)\n",
    "model_5_preds"
   ]
  },
  {
   "cell_type": "code",
   "execution_count": 82,
   "metadata": {},
   "outputs": [
    {
     "data": {
      "text/plain": [
       "{'mae': 594.48456,\n",
       " 'mse': 1271945.2,\n",
       " 'rmse': 1127.8055,\n",
       " 'mape': 2.6879988,\n",
       " 'mase': 1.0443447}"
      ]
     },
     "execution_count": 82,
     "metadata": {},
     "output_type": "execute_result"
    }
   ],
   "source": [
    "# Evaluating predictions\n",
    "model_5_results = evaluate_preds(\n",
    "    y_true=tf.squeeze(test_labels),\n",
    "    y_pred=model_5_preds\n",
    ")\n",
    "model_5_results"
   ]
  },
  {
   "cell_type": "code",
   "execution_count": 83,
   "metadata": {},
   "outputs": [],
   "source": [
    "# Adding Blockchain halving events\n",
    "block_reward_1 = 50 # 3 January 2009\n",
    "block_reward_2 = 25 # 8 November 2012\n",
    "block_reward_3 = 12.5 # 9 July 2016\n",
    "block_reward_4 = 6.25 # 18 May 2020\n",
    "\n",
    "# Adding block reward dates\n",
    "block_reward_2_datetime = np.datetime64(\"2012-11-08\")\n",
    "block_reward_3_datetime = np.datetime64(\"2016-07-09\")\n",
    "block_reward_4_datetime = np.datetime64(\"2020-05-18\")\n"
   ]
  },
  {
   "cell_type": "code",
   "execution_count": 84,
   "metadata": {},
   "outputs": [
    {
     "data": {
      "text/plain": [
       "(1012, 2421)"
      ]
     },
     "execution_count": 84,
     "metadata": {},
     "output_type": "execute_result"
    }
   ],
   "source": [
    "# Creating date ranges\n",
    "block_reward_2_days = (block_reward_3_datetime - bitcoin_prices.index[0]).days\n",
    "block_reward_3_days = (block_reward_4_datetime - bitcoin_prices.index[0]).days\n",
    "\n",
    "block_reward_2_days, block_reward_3_days"
   ]
  },
  {
   "cell_type": "code",
   "execution_count": 85,
   "metadata": {},
   "outputs": [],
   "source": [
    "# Adding in block_reward column\n",
    "bitcoin_prices_block = bitcoin_prices.copy()\n",
    "bitcoin_prices_block[\"block_reward\"] = None\n",
    "\n",
    "# Adding in block_reward values\n",
    "bitcoin_prices_block.iloc[:block_reward_2_days, -1] = block_reward_2\n",
    "bitcoin_prices_block.iloc[block_reward_2_days:block_reward_3_days, -1] = block_reward_3\n",
    "bitcoin_prices_block.iloc[block_reward_3_days:, -1] = block_reward_4"
   ]
  },
  {
   "cell_type": "code",
   "execution_count": 86,
   "metadata": {},
   "outputs": [
    {
     "data": {
      "text/html": [
       "<div>\n",
       "<style scoped>\n",
       "    .dataframe tbody tr th:only-of-type {\n",
       "        vertical-align: middle;\n",
       "    }\n",
       "\n",
       "    .dataframe tbody tr th {\n",
       "        vertical-align: top;\n",
       "    }\n",
       "\n",
       "    .dataframe thead th {\n",
       "        text-align: right;\n",
       "    }\n",
       "</style>\n",
       "<table border=\"1\" class=\"dataframe\">\n",
       "  <thead>\n",
       "    <tr style=\"text-align: right;\">\n",
       "      <th></th>\n",
       "      <th>Price</th>\n",
       "      <th>block_reward</th>\n",
       "    </tr>\n",
       "    <tr>\n",
       "      <th>Date</th>\n",
       "      <th></th>\n",
       "      <th></th>\n",
       "    </tr>\n",
       "  </thead>\n",
       "  <tbody>\n",
       "    <tr>\n",
       "      <th>2013-10-01</th>\n",
       "      <td>123.65499</td>\n",
       "      <td>25</td>\n",
       "    </tr>\n",
       "    <tr>\n",
       "      <th>2013-10-02</th>\n",
       "      <td>125.45500</td>\n",
       "      <td>25</td>\n",
       "    </tr>\n",
       "    <tr>\n",
       "      <th>2013-10-03</th>\n",
       "      <td>108.58483</td>\n",
       "      <td>25</td>\n",
       "    </tr>\n",
       "    <tr>\n",
       "      <th>2013-10-04</th>\n",
       "      <td>118.67466</td>\n",
       "      <td>25</td>\n",
       "    </tr>\n",
       "    <tr>\n",
       "      <th>2013-10-05</th>\n",
       "      <td>121.33866</td>\n",
       "      <td>25</td>\n",
       "    </tr>\n",
       "  </tbody>\n",
       "</table>\n",
       "</div>"
      ],
      "text/plain": [
       "                Price block_reward\n",
       "Date                              \n",
       "2013-10-01  123.65499           25\n",
       "2013-10-02  125.45500           25\n",
       "2013-10-03  108.58483           25\n",
       "2013-10-04  118.67466           25\n",
       "2013-10-05  121.33866           25"
      ]
     },
     "execution_count": 86,
     "metadata": {},
     "output_type": "execute_result"
    }
   ],
   "source": [
    "# Check top 5 values\n",
    "bitcoin_prices_block.head()"
   ]
  },
  {
   "cell_type": "code",
   "execution_count": 87,
   "metadata": {},
   "outputs": [
    {
     "data": {
      "text/html": [
       "<div>\n",
       "<style scoped>\n",
       "    .dataframe tbody tr th:only-of-type {\n",
       "        vertical-align: middle;\n",
       "    }\n",
       "\n",
       "    .dataframe tbody tr th {\n",
       "        vertical-align: top;\n",
       "    }\n",
       "\n",
       "    .dataframe thead th {\n",
       "        text-align: right;\n",
       "    }\n",
       "</style>\n",
       "<table border=\"1\" class=\"dataframe\">\n",
       "  <thead>\n",
       "    <tr style=\"text-align: right;\">\n",
       "      <th></th>\n",
       "      <th>Price</th>\n",
       "      <th>block_reward</th>\n",
       "    </tr>\n",
       "    <tr>\n",
       "      <th>Date</th>\n",
       "      <th></th>\n",
       "      <th></th>\n",
       "    </tr>\n",
       "  </thead>\n",
       "  <tbody>\n",
       "    <tr>\n",
       "      <th>2017-11-09</th>\n",
       "      <td>7342.82375</td>\n",
       "      <td>12.5</td>\n",
       "    </tr>\n",
       "    <tr>\n",
       "      <th>2017-11-10</th>\n",
       "      <td>7250.77000</td>\n",
       "      <td>12.5</td>\n",
       "    </tr>\n",
       "    <tr>\n",
       "      <th>2017-11-11</th>\n",
       "      <td>6773.69500</td>\n",
       "      <td>12.5</td>\n",
       "    </tr>\n",
       "    <tr>\n",
       "      <th>2017-11-12</th>\n",
       "      <td>6075.30125</td>\n",
       "      <td>12.5</td>\n",
       "    </tr>\n",
       "    <tr>\n",
       "      <th>2017-11-13</th>\n",
       "      <td>5969.13000</td>\n",
       "      <td>12.5</td>\n",
       "    </tr>\n",
       "  </tbody>\n",
       "</table>\n",
       "</div>"
      ],
      "text/plain": [
       "                 Price block_reward\n",
       "Date                               \n",
       "2017-11-09  7342.82375         12.5\n",
       "2017-11-10  7250.77000         12.5\n",
       "2017-11-11  6773.69500         12.5\n",
       "2017-11-12  6075.30125         12.5\n",
       "2017-11-13  5969.13000         12.5"
      ]
     },
     "execution_count": 87,
     "metadata": {},
     "output_type": "execute_result"
    }
   ],
   "source": [
    "# Checking 5 mid values\n",
    "bitcoin_prices_block[1500:1505]"
   ]
  },
  {
   "cell_type": "code",
   "execution_count": 88,
   "metadata": {},
   "outputs": [
    {
     "data": {
      "text/html": [
       "<div>\n",
       "<style scoped>\n",
       "    .dataframe tbody tr th:only-of-type {\n",
       "        vertical-align: middle;\n",
       "    }\n",
       "\n",
       "    .dataframe tbody tr th {\n",
       "        vertical-align: top;\n",
       "    }\n",
       "\n",
       "    .dataframe thead th {\n",
       "        text-align: right;\n",
       "    }\n",
       "</style>\n",
       "<table border=\"1\" class=\"dataframe\">\n",
       "  <thead>\n",
       "    <tr style=\"text-align: right;\">\n",
       "      <th></th>\n",
       "      <th>Price</th>\n",
       "      <th>block_reward</th>\n",
       "    </tr>\n",
       "    <tr>\n",
       "      <th>Date</th>\n",
       "      <th></th>\n",
       "      <th></th>\n",
       "    </tr>\n",
       "  </thead>\n",
       "  <tbody>\n",
       "    <tr>\n",
       "      <th>2021-05-14</th>\n",
       "      <td>49764.132082</td>\n",
       "      <td>6.25</td>\n",
       "    </tr>\n",
       "    <tr>\n",
       "      <th>2021-05-15</th>\n",
       "      <td>50032.693137</td>\n",
       "      <td>6.25</td>\n",
       "    </tr>\n",
       "    <tr>\n",
       "      <th>2021-05-16</th>\n",
       "      <td>47885.625255</td>\n",
       "      <td>6.25</td>\n",
       "    </tr>\n",
       "    <tr>\n",
       "      <th>2021-05-17</th>\n",
       "      <td>45604.615754</td>\n",
       "      <td>6.25</td>\n",
       "    </tr>\n",
       "    <tr>\n",
       "      <th>2021-05-18</th>\n",
       "      <td>43144.471291</td>\n",
       "      <td>6.25</td>\n",
       "    </tr>\n",
       "  </tbody>\n",
       "</table>\n",
       "</div>"
      ],
      "text/plain": [
       "                   Price block_reward\n",
       "Date                                 \n",
       "2021-05-14  49764.132082         6.25\n",
       "2021-05-15  50032.693137         6.25\n",
       "2021-05-16  47885.625255         6.25\n",
       "2021-05-17  45604.615754         6.25\n",
       "2021-05-18  43144.471291         6.25"
      ]
     },
     "execution_count": 88,
     "metadata": {},
     "output_type": "execute_result"
    }
   ],
   "source": [
    "# Checking last 5 values\n",
    "bitcoin_prices_block.tail()"
   ]
  },
  {
   "cell_type": "code",
   "execution_count": 89,
   "metadata": {},
   "outputs": [
    {
     "data": {
      "text/plain": [
       "<AxesSubplot:xlabel='Date'>"
      ]
     },
     "execution_count": 89,
     "metadata": {},
     "output_type": "execute_result"
    },
    {
     "data": {
      "image/png": "[encoded data removed]",
      "text/plain": [
       "<Figure size 720x504 with 1 Axes>"
      ]
     },
     "metadata": {
      "needs_background": "light"
     },
     "output_type": "display_data"
    }
   ],
   "source": [
    "# Plotting block reward vs price over time\n",
    "from sklearn.preprocessing import minmax_scale\n",
    "\n",
    "scaled_price_block_df = pd.DataFrame(\n",
    "    minmax_scale(bitcoin_prices_block[[\"Price\", \"block_reward\"]]),\n",
    "    columns=bitcoin_prices_block.columns,\n",
    "    index=bitcoin_prices_block.index\n",
    ")\n",
    "scaled_price_block_df.plot(figsize=(10, 7))"
   ]
  },
  {
   "attachments": {},
   "cell_type": "markdown",
   "metadata": {},
   "source": [
    "### Creating windowed multi-variate dataset with pandas"
   ]
  },
  {
   "cell_type": "code",
   "execution_count": 90,
   "metadata": {},
   "outputs": [],
   "source": [
    "# Setting up hyperparameters\n",
    "HORIZON = 1\n",
    "WINDOW_SIZE = 7"
   ]
  },
  {
   "cell_type": "code",
   "execution_count": 91,
   "metadata": {},
   "outputs": [
    {
     "data": {
      "text/html": [
       "<div>\n",
       "<style scoped>\n",
       "    .dataframe tbody tr th:only-of-type {\n",
       "        vertical-align: middle;\n",
       "    }\n",
       "\n",
       "    .dataframe tbody tr th {\n",
       "        vertical-align: top;\n",
       "    }\n",
       "\n",
       "    .dataframe thead th {\n",
       "        text-align: right;\n",
       "    }\n",
       "</style>\n",
       "<table border=\"1\" class=\"dataframe\">\n",
       "  <thead>\n",
       "    <tr style=\"text-align: right;\">\n",
       "      <th></th>\n",
       "      <th>Price</th>\n",
       "      <th>block_reward</th>\n",
       "      <th>Price+1</th>\n",
       "      <th>Price+2</th>\n",
       "      <th>Price+3</th>\n",
       "      <th>Price+4</th>\n",
       "      <th>Price+5</th>\n",
       "      <th>Price+6</th>\n",
       "      <th>Price+7</th>\n",
       "    </tr>\n",
       "    <tr>\n",
       "      <th>Date</th>\n",
       "      <th></th>\n",
       "      <th></th>\n",
       "      <th></th>\n",
       "      <th></th>\n",
       "      <th></th>\n",
       "      <th></th>\n",
       "      <th></th>\n",
       "      <th></th>\n",
       "      <th></th>\n",
       "    </tr>\n",
       "  </thead>\n",
       "  <tbody>\n",
       "    <tr>\n",
       "      <th>2013-10-01</th>\n",
       "      <td>123.65499</td>\n",
       "      <td>25</td>\n",
       "      <td>NaN</td>\n",
       "      <td>NaN</td>\n",
       "      <td>NaN</td>\n",
       "      <td>NaN</td>\n",
       "      <td>NaN</td>\n",
       "      <td>NaN</td>\n",
       "      <td>NaN</td>\n",
       "    </tr>\n",
       "    <tr>\n",
       "      <th>2013-10-02</th>\n",
       "      <td>125.45500</td>\n",
       "      <td>25</td>\n",
       "      <td>123.65499</td>\n",
       "      <td>NaN</td>\n",
       "      <td>NaN</td>\n",
       "      <td>NaN</td>\n",
       "      <td>NaN</td>\n",
       "      <td>NaN</td>\n",
       "      <td>NaN</td>\n",
       "    </tr>\n",
       "    <tr>\n",
       "      <th>2013-10-03</th>\n",
       "      <td>108.58483</td>\n",
       "      <td>25</td>\n",
       "      <td>125.45500</td>\n",
       "      <td>123.65499</td>\n",
       "      <td>NaN</td>\n",
       "      <td>NaN</td>\n",
       "      <td>NaN</td>\n",
       "      <td>NaN</td>\n",
       "      <td>NaN</td>\n",
       "    </tr>\n",
       "    <tr>\n",
       "      <th>2013-10-04</th>\n",
       "      <td>118.67466</td>\n",
       "      <td>25</td>\n",
       "      <td>108.58483</td>\n",
       "      <td>125.45500</td>\n",
       "      <td>123.65499</td>\n",
       "      <td>NaN</td>\n",
       "      <td>NaN</td>\n",
       "      <td>NaN</td>\n",
       "      <td>NaN</td>\n",
       "    </tr>\n",
       "    <tr>\n",
       "      <th>2013-10-05</th>\n",
       "      <td>121.33866</td>\n",
       "      <td>25</td>\n",
       "      <td>118.67466</td>\n",
       "      <td>108.58483</td>\n",
       "      <td>125.45500</td>\n",
       "      <td>123.65499</td>\n",
       "      <td>NaN</td>\n",
       "      <td>NaN</td>\n",
       "      <td>NaN</td>\n",
       "    </tr>\n",
       "    <tr>\n",
       "      <th>2013-10-06</th>\n",
       "      <td>120.65533</td>\n",
       "      <td>25</td>\n",
       "      <td>121.33866</td>\n",
       "      <td>118.67466</td>\n",
       "      <td>108.58483</td>\n",
       "      <td>125.45500</td>\n",
       "      <td>123.65499</td>\n",
       "      <td>NaN</td>\n",
       "      <td>NaN</td>\n",
       "    </tr>\n",
       "    <tr>\n",
       "      <th>2013-10-07</th>\n",
       "      <td>121.79500</td>\n",
       "      <td>25</td>\n",
       "      <td>120.65533</td>\n",
       "      <td>121.33866</td>\n",
       "      <td>118.67466</td>\n",
       "      <td>108.58483</td>\n",
       "      <td>125.45500</td>\n",
       "      <td>123.65499</td>\n",
       "      <td>NaN</td>\n",
       "    </tr>\n",
       "    <tr>\n",
       "      <th>2013-10-08</th>\n",
       "      <td>123.03300</td>\n",
       "      <td>25</td>\n",
       "      <td>121.79500</td>\n",
       "      <td>120.65533</td>\n",
       "      <td>121.33866</td>\n",
       "      <td>118.67466</td>\n",
       "      <td>108.58483</td>\n",
       "      <td>125.45500</td>\n",
       "      <td>123.65499</td>\n",
       "    </tr>\n",
       "    <tr>\n",
       "      <th>2013-10-09</th>\n",
       "      <td>124.04900</td>\n",
       "      <td>25</td>\n",
       "      <td>123.03300</td>\n",
       "      <td>121.79500</td>\n",
       "      <td>120.65533</td>\n",
       "      <td>121.33866</td>\n",
       "      <td>118.67466</td>\n",
       "      <td>108.58483</td>\n",
       "      <td>125.45500</td>\n",
       "    </tr>\n",
       "    <tr>\n",
       "      <th>2013-10-10</th>\n",
       "      <td>125.96116</td>\n",
       "      <td>25</td>\n",
       "      <td>124.04900</td>\n",
       "      <td>123.03300</td>\n",
       "      <td>121.79500</td>\n",
       "      <td>120.65533</td>\n",
       "      <td>121.33866</td>\n",
       "      <td>118.67466</td>\n",
       "      <td>108.58483</td>\n",
       "    </tr>\n",
       "  </tbody>\n",
       "</table>\n",
       "</div>"
      ],
      "text/plain": [
       "                Price block_reward    Price+1    Price+2    Price+3  \\\n",
       "Date                                                                  \n",
       "2013-10-01  123.65499           25        NaN        NaN        NaN   \n",
       "2013-10-02  125.45500           25  123.65499        NaN        NaN   \n",
       "2013-10-03  108.58483           25  125.45500  123.65499        NaN   \n",
       "2013-10-04  118.67466           25  108.58483  125.45500  123.65499   \n",
       "2013-10-05  121.33866           25  118.67466  108.58483  125.45500   \n",
       "2013-10-06  120.65533           25  121.33866  118.67466  108.58483   \n",
       "2013-10-07  121.79500           25  120.65533  121.33866  118.67466   \n",
       "2013-10-08  123.03300           25  121.79500  120.65533  121.33866   \n",
       "2013-10-09  124.04900           25  123.03300  121.79500  120.65533   \n",
       "2013-10-10  125.96116           25  124.04900  123.03300  121.79500   \n",
       "\n",
       "              Price+4    Price+5    Price+6    Price+7  \n",
       "Date                                                    \n",
       "2013-10-01        NaN        NaN        NaN        NaN  \n",
       "2013-10-02        NaN        NaN        NaN        NaN  \n",
       "2013-10-03        NaN        NaN        NaN        NaN  \n",
       "2013-10-04        NaN        NaN        NaN        NaN  \n",
       "2013-10-05  123.65499        NaN        NaN        NaN  \n",
       "2013-10-06  125.45500  123.65499        NaN        NaN  \n",
       "2013-10-07  108.58483  125.45500  123.65499        NaN  \n",
       "2013-10-08  118.67466  108.58483  125.45500  123.65499  \n",
       "2013-10-09  121.33866  118.67466  108.58483  125.45500  \n",
       "2013-10-10  120.65533  121.33866  118.67466  108.58483  "
      ]
     },
     "execution_count": 91,
     "metadata": {},
     "output_type": "execute_result"
    }
   ],
   "source": [
    "# Making a copy of Bitcoin dataset\n",
    "bitcoin_prices_windowed = bitcoin_prices_block.copy()\n",
    "\n",
    "# Adding windowed column\n",
    "for i in range(WINDOW_SIZE):\n",
    "    bitcoin_prices_windowed[f\"Price+{i + 1}\"] = bitcoin_prices_windowed[\"Price\"].shift(periods=i+1)\n",
    "\n",
    "bitcoin_prices_windowed.head(10)"
   ]
  },
  {
   "cell_type": "code",
   "execution_count": 92,
   "metadata": {},
   "outputs": [
    {
     "data": {
      "text/plain": [
       "(            block_reward     Price+1     Price+2     Price+3     Price+4  \\\n",
       " Date                                                                       \n",
       " 2013-10-08          25.0  121.794998  120.655327  121.338661  118.674660   \n",
       " 2013-10-09          25.0  123.032997  121.794998  120.655327  121.338661   \n",
       " 2013-10-10          25.0  124.049004  123.032997  121.794998  120.655327   \n",
       " 2013-10-11          25.0  125.961159  124.049004  123.032997  121.794998   \n",
       " 2013-10-12          25.0  125.279663  125.961159  124.049004  123.032997   \n",
       " \n",
       "                Price+5     Price+6     Price+7  \n",
       " Date                                            \n",
       " 2013-10-08  108.584831  125.455002  123.654991  \n",
       " 2013-10-09  118.674660  108.584831  125.455002  \n",
       " 2013-10-10  121.338661  118.674660  108.584831  \n",
       " 2013-10-11  120.655327  121.338661  118.674660  \n",
       " 2013-10-12  121.794998  120.655327  121.338661  ,\n",
       " Date\n",
       " 2013-10-08    123.032997\n",
       " 2013-10-09    124.049004\n",
       " 2013-10-10    125.961159\n",
       " 2013-10-11    125.279663\n",
       " 2013-10-12    125.927498\n",
       " Name: Price, dtype: float32)"
      ]
     },
     "execution_count": 92,
     "metadata": {},
     "output_type": "execute_result"
    }
   ],
   "source": [
    "# Creating X (windows) and y (horizon)\n",
    "X = bitcoin_prices_windowed.dropna().drop(\"Price\", axis=1).astype(np.float32)\n",
    "y = bitcoin_prices_windowed.dropna()[\"Price\"].astype(np.float32)\n",
    "\n",
    "X.head(), y.head()"
   ]
  },
  {
   "cell_type": "code",
   "execution_count": 93,
   "metadata": {},
   "outputs": [
    {
     "data": {
      "text/plain": [
       "(2224, 2224, 556, 556)"
      ]
     },
     "execution_count": 93,
     "metadata": {},
     "output_type": "execute_result"
    }
   ],
   "source": [
    "# Making train and test sets, using indexing\n",
    "split_size = int(len(X) * 0.8)\n",
    "\n",
    "X_train, y_train = X[:split_size], y[:split_size]\n",
    "X_test, y_test = X[split_size:], y[split_size:]\n",
    "\n",
    "len(X_train), len(y_train), len(X_test), len(y_test)"
   ]
  },
  {
   "cell_type": "code",
   "execution_count": null,
   "metadata": {},
   "outputs": [],
   "source": []
  }
 ],
 "metadata": {
  "kernelspec": {
   "display_name": "Python 3",
   "language": "python",
   "name": "python3"
  },
  "language_info": {
   "codemirror_mode": {
    "name": "ipython",
    "version": 3
   },
   "file_extension": ".py",
   "mimetype": "text/x-python",
   "name": "python",
   "nbconvert_exporter": "python",
   "pygments_lexer": "ipython3",
   "version": "3.8.10"
  },
  "orig_nbformat": 4,
  "vscode": {
   "interpreter": {
    "hash": "8230a386d8e0083990873cddb8ebb5b6213275a10339230a8504f0ef8ce7f888"
   }
  }
 },
 "nbformat": 4,
 "nbformat_minor": 2
}
