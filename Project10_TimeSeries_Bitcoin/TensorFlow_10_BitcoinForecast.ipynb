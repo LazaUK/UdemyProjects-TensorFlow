{
 "cells": [
  {
   "attachments": {},
   "cell_type": "markdown",
   "metadata": {},
   "source": [
    "# Time Series: Forecasting Bitcoin price"
   ]
  },
  {
   "cell_type": "code",
   "execution_count": 1,
   "metadata": {},
   "outputs": [
    {
     "name": "stdout",
     "output_type": "stream",
     "text": [
      "2.10.1\n"
     ]
    }
   ],
   "source": [
    "# Importing TF and checking the version\n",
    "import tensorflow as tf\n",
    "\n",
    "print(tf.__version__)"
   ]
  },
  {
   "attachments": {},
   "cell_type": "markdown",
   "metadata": {},
   "source": [
    "### Importing time series with Pandas"
   ]
  },
  {
   "cell_type": "code",
   "execution_count": 2,
   "metadata": {},
   "outputs": [
    {
     "data": {
      "text/html": [
       "<div>\n",
       "<style scoped>\n",
       "    .dataframe tbody tr th:only-of-type {\n",
       "        vertical-align: middle;\n",
       "    }\n",
       "\n",
       "    .dataframe tbody tr th {\n",
       "        vertical-align: top;\n",
       "    }\n",
       "\n",
       "    .dataframe thead th {\n",
       "        text-align: right;\n",
       "    }\n",
       "</style>\n",
       "<table border=\"1\" class=\"dataframe\">\n",
       "  <thead>\n",
       "    <tr style=\"text-align: right;\">\n",
       "      <th></th>\n",
       "      <th>Currency</th>\n",
       "      <th>Closing Price (USD)</th>\n",
       "      <th>24h Open (USD)</th>\n",
       "      <th>24h High (USD)</th>\n",
       "      <th>24h Low (USD)</th>\n",
       "    </tr>\n",
       "    <tr>\n",
       "      <th>Date</th>\n",
       "      <th></th>\n",
       "      <th></th>\n",
       "      <th></th>\n",
       "      <th></th>\n",
       "      <th></th>\n",
       "    </tr>\n",
       "  </thead>\n",
       "  <tbody>\n",
       "    <tr>\n",
       "      <th>2013-10-01</th>\n",
       "      <td>BTC</td>\n",
       "      <td>123.65499</td>\n",
       "      <td>124.30466</td>\n",
       "      <td>124.75166</td>\n",
       "      <td>122.56349</td>\n",
       "    </tr>\n",
       "    <tr>\n",
       "      <th>2013-10-02</th>\n",
       "      <td>BTC</td>\n",
       "      <td>125.45500</td>\n",
       "      <td>123.65499</td>\n",
       "      <td>125.75850</td>\n",
       "      <td>123.63383</td>\n",
       "    </tr>\n",
       "    <tr>\n",
       "      <th>2013-10-03</th>\n",
       "      <td>BTC</td>\n",
       "      <td>108.58483</td>\n",
       "      <td>125.45500</td>\n",
       "      <td>125.66566</td>\n",
       "      <td>83.32833</td>\n",
       "    </tr>\n",
       "    <tr>\n",
       "      <th>2013-10-04</th>\n",
       "      <td>BTC</td>\n",
       "      <td>118.67466</td>\n",
       "      <td>108.58483</td>\n",
       "      <td>118.67500</td>\n",
       "      <td>107.05816</td>\n",
       "    </tr>\n",
       "    <tr>\n",
       "      <th>2013-10-05</th>\n",
       "      <td>BTC</td>\n",
       "      <td>121.33866</td>\n",
       "      <td>118.67466</td>\n",
       "      <td>121.93633</td>\n",
       "      <td>118.00566</td>\n",
       "    </tr>\n",
       "  </tbody>\n",
       "</table>\n",
       "</div>"
      ],
      "text/plain": [
       "           Currency  Closing Price (USD)  24h Open (USD)  24h High (USD)  \\\n",
       "Date                                                                       \n",
       "2013-10-01      BTC            123.65499       124.30466       124.75166   \n",
       "2013-10-02      BTC            125.45500       123.65499       125.75850   \n",
       "2013-10-03      BTC            108.58483       125.45500       125.66566   \n",
       "2013-10-04      BTC            118.67466       108.58483       118.67500   \n",
       "2013-10-05      BTC            121.33866       118.67466       121.93633   \n",
       "\n",
       "            24h Low (USD)  \n",
       "Date                       \n",
       "2013-10-01      122.56349  \n",
       "2013-10-02      123.63383  \n",
       "2013-10-03       83.32833  \n",
       "2013-10-04      107.05816  \n",
       "2013-10-05      118.00566  "
      ]
     },
     "execution_count": 2,
     "metadata": {},
     "output_type": "execute_result"
    }
   ],
   "source": [
    "# Reading Bitcoin data and parsing dates\n",
    "import pandas as pd\n",
    "\n",
    "df = pd.read_csv(\n",
    "    \"BTC_USD_2013-10-01_2021-05-18-CoinDesk.csv\",\n",
    "    parse_dates=[\"Date\"],\n",
    "    index_col=[\"Date\"]   \n",
    ")\n",
    "df.head()"
   ]
  },
  {
   "cell_type": "code",
   "execution_count": 3,
   "metadata": {},
   "outputs": [
    {
     "data": {
      "text/html": [
       "<div>\n",
       "<style scoped>\n",
       "    .dataframe tbody tr th:only-of-type {\n",
       "        vertical-align: middle;\n",
       "    }\n",
       "\n",
       "    .dataframe tbody tr th {\n",
       "        vertical-align: top;\n",
       "    }\n",
       "\n",
       "    .dataframe thead th {\n",
       "        text-align: right;\n",
       "    }\n",
       "</style>\n",
       "<table border=\"1\" class=\"dataframe\">\n",
       "  <thead>\n",
       "    <tr style=\"text-align: right;\">\n",
       "      <th></th>\n",
       "      <th>Currency</th>\n",
       "      <th>Closing Price (USD)</th>\n",
       "      <th>24h Open (USD)</th>\n",
       "      <th>24h High (USD)</th>\n",
       "      <th>24h Low (USD)</th>\n",
       "    </tr>\n",
       "    <tr>\n",
       "      <th>Date</th>\n",
       "      <th></th>\n",
       "      <th></th>\n",
       "      <th></th>\n",
       "      <th></th>\n",
       "      <th></th>\n",
       "    </tr>\n",
       "  </thead>\n",
       "  <tbody>\n",
       "    <tr>\n",
       "      <th>2021-05-14</th>\n",
       "      <td>BTC</td>\n",
       "      <td>49764.132082</td>\n",
       "      <td>49596.778891</td>\n",
       "      <td>51448.798576</td>\n",
       "      <td>46294.720180</td>\n",
       "    </tr>\n",
       "    <tr>\n",
       "      <th>2021-05-15</th>\n",
       "      <td>BTC</td>\n",
       "      <td>50032.693137</td>\n",
       "      <td>49717.354353</td>\n",
       "      <td>51578.312545</td>\n",
       "      <td>48944.346536</td>\n",
       "    </tr>\n",
       "    <tr>\n",
       "      <th>2021-05-16</th>\n",
       "      <td>BTC</td>\n",
       "      <td>47885.625255</td>\n",
       "      <td>49926.035067</td>\n",
       "      <td>50690.802950</td>\n",
       "      <td>47005.102292</td>\n",
       "    </tr>\n",
       "    <tr>\n",
       "      <th>2021-05-17</th>\n",
       "      <td>BTC</td>\n",
       "      <td>45604.615754</td>\n",
       "      <td>46805.537852</td>\n",
       "      <td>49670.414174</td>\n",
       "      <td>43868.638969</td>\n",
       "    </tr>\n",
       "    <tr>\n",
       "      <th>2021-05-18</th>\n",
       "      <td>BTC</td>\n",
       "      <td>43144.471291</td>\n",
       "      <td>46439.336570</td>\n",
       "      <td>46622.853437</td>\n",
       "      <td>42102.346430</td>\n",
       "    </tr>\n",
       "  </tbody>\n",
       "</table>\n",
       "</div>"
      ],
      "text/plain": [
       "           Currency  Closing Price (USD)  24h Open (USD)  24h High (USD)  \\\n",
       "Date                                                                       \n",
       "2021-05-14      BTC         49764.132082    49596.778891    51448.798576   \n",
       "2021-05-15      BTC         50032.693137    49717.354353    51578.312545   \n",
       "2021-05-16      BTC         47885.625255    49926.035067    50690.802950   \n",
       "2021-05-17      BTC         45604.615754    46805.537852    49670.414174   \n",
       "2021-05-18      BTC         43144.471291    46439.336570    46622.853437   \n",
       "\n",
       "            24h Low (USD)  \n",
       "Date                       \n",
       "2021-05-14   46294.720180  \n",
       "2021-05-15   48944.346536  \n",
       "2021-05-16   47005.102292  \n",
       "2021-05-17   43868.638969  \n",
       "2021-05-18   42102.346430  "
      ]
     },
     "execution_count": 3,
     "metadata": {},
     "output_type": "execute_result"
    }
   ],
   "source": [
    "df.tail()"
   ]
  },
  {
   "cell_type": "code",
   "execution_count": 4,
   "metadata": {},
   "outputs": [
    {
     "name": "stdout",
     "output_type": "stream",
     "text": [
      "<class 'pandas.core.frame.DataFrame'>\n",
      "DatetimeIndex: 2787 entries, 2013-10-01 to 2021-05-18\n",
      "Data columns (total 5 columns):\n",
      " #   Column               Non-Null Count  Dtype  \n",
      "---  ------               --------------  -----  \n",
      " 0   Currency             2787 non-null   object \n",
      " 1   Closing Price (USD)  2787 non-null   float64\n",
      " 2   24h Open (USD)       2787 non-null   float64\n",
      " 3   24h High (USD)       2787 non-null   float64\n",
      " 4   24h Low (USD)        2787 non-null   float64\n",
      "dtypes: float64(4), object(1)\n",
      "memory usage: 130.6+ KB\n"
     ]
    }
   ],
   "source": [
    "df.info()"
   ]
  },
  {
   "cell_type": "code",
   "execution_count": 5,
   "metadata": {},
   "outputs": [
    {
     "data": {
      "text/plain": [
       "2787"
      ]
     },
     "execution_count": 5,
     "metadata": {},
     "output_type": "execute_result"
    }
   ],
   "source": [
    "len(df)"
   ]
  },
  {
   "cell_type": "code",
   "execution_count": 6,
   "metadata": {},
   "outputs": [
    {
     "data": {
      "text/html": [
       "<div>\n",
       "<style scoped>\n",
       "    .dataframe tbody tr th:only-of-type {\n",
       "        vertical-align: middle;\n",
       "    }\n",
       "\n",
       "    .dataframe tbody tr th {\n",
       "        vertical-align: top;\n",
       "    }\n",
       "\n",
       "    .dataframe thead th {\n",
       "        text-align: right;\n",
       "    }\n",
       "</style>\n",
       "<table border=\"1\" class=\"dataframe\">\n",
       "  <thead>\n",
       "    <tr style=\"text-align: right;\">\n",
       "      <th></th>\n",
       "      <th>Price</th>\n",
       "    </tr>\n",
       "    <tr>\n",
       "      <th>Date</th>\n",
       "      <th></th>\n",
       "    </tr>\n",
       "  </thead>\n",
       "  <tbody>\n",
       "    <tr>\n",
       "      <th>2013-10-01</th>\n",
       "      <td>123.65499</td>\n",
       "    </tr>\n",
       "    <tr>\n",
       "      <th>2013-10-02</th>\n",
       "      <td>125.45500</td>\n",
       "    </tr>\n",
       "    <tr>\n",
       "      <th>2013-10-03</th>\n",
       "      <td>108.58483</td>\n",
       "    </tr>\n",
       "    <tr>\n",
       "      <th>2013-10-04</th>\n",
       "      <td>118.67466</td>\n",
       "    </tr>\n",
       "    <tr>\n",
       "      <th>2013-10-05</th>\n",
       "      <td>121.33866</td>\n",
       "    </tr>\n",
       "  </tbody>\n",
       "</table>\n",
       "</div>"
      ],
      "text/plain": [
       "                Price\n",
       "Date                 \n",
       "2013-10-01  123.65499\n",
       "2013-10-02  125.45500\n",
       "2013-10-03  108.58483\n",
       "2013-10-04  118.67466\n",
       "2013-10-05  121.33866"
      ]
     },
     "execution_count": 6,
     "metadata": {},
     "output_type": "execute_result"
    }
   ],
   "source": [
    "# Separating closing prices for each day\n",
    "bitcoin_prices = pd.DataFrame(df[\"Closing Price (USD)\"]).rename(columns={\"Closing Price (USD)\":\"Price\"})\n",
    "bitcoin_prices.head()"
   ]
  },
  {
   "cell_type": "code",
   "execution_count": 7,
   "metadata": {},
   "outputs": [
    {
     "data": {
      "image/png": "[encoded data removed]",
      "text/plain": [
       "<Figure size 720x504 with 1 Axes>"
      ]
     },
     "metadata": {
      "needs_background": "light"
     },
     "output_type": "display_data"
    }
   ],
   "source": [
    "# Visualising Bitcoin prices\n",
    "import matplotlib.pyplot as plt\n",
    "bitcoin_prices.plot(figsize=(10, 7))\n",
    "plt.ylabel(\"BTC Price\")\n",
    "plt.title(\"Price of Bitcoin: Oct 2013 - May 2021\", fontsize=16)\n",
    "plt.legend(fontsize=14);"
   ]
  },
  {
   "attachments": {},
   "cell_type": "markdown",
   "metadata": {},
   "source": [
    "### Importing time series with Python"
   ]
  },
  {
   "cell_type": "code",
   "execution_count": 8,
   "metadata": {},
   "outputs": [
    {
     "data": {
      "text/plain": [
       "([datetime.datetime(2013, 10, 1, 0, 0),\n",
       "  datetime.datetime(2013, 10, 2, 0, 0),\n",
       "  datetime.datetime(2013, 10, 3, 0, 0),\n",
       "  datetime.datetime(2013, 10, 4, 0, 0),\n",
       "  datetime.datetime(2013, 10, 5, 0, 0),\n",
       "  datetime.datetime(2013, 10, 6, 0, 0),\n",
       "  datetime.datetime(2013, 10, 7, 0, 0),\n",
       "  datetime.datetime(2013, 10, 8, 0, 0),\n",
       "  datetime.datetime(2013, 10, 9, 0, 0),\n",
       "  datetime.datetime(2013, 10, 10, 0, 0)],\n",
       " [123.65499,\n",
       "  125.455,\n",
       "  108.58483,\n",
       "  118.67466,\n",
       "  121.33866,\n",
       "  120.65533,\n",
       "  121.795,\n",
       "  123.033,\n",
       "  124.049,\n",
       "  125.96116])"
      ]
     },
     "execution_count": 8,
     "metadata": {},
     "output_type": "execute_result"
    }
   ],
   "source": [
    "# Importing Bitcoin data with Python\n",
    "import csv\n",
    "from datetime import datetime\n",
    "\n",
    "timestamps = []\n",
    "btc_price = []\n",
    "with open(\"BTC_USD_2013-10-01_2021-05-18-CoinDesk.csv\", \"r\") as f:\n",
    "    csv_reader = csv.reader(f, delimiter=\",\")\n",
    "    next(csv_reader) # Skips first line to remove column names\n",
    "    for line in csv_reader:\n",
    "        timestamps.append(datetime.strptime(line[1], \"%Y-%m-%d\"))\n",
    "        btc_price.append(float(line[2]))\n",
    "\n",
    "# Viewing first 10 records\n",
    "timestamps[:10], btc_price[:10]"
   ]
  },
  {
   "cell_type": "code",
   "execution_count": 9,
   "metadata": {},
   "outputs": [
    {
     "data": {
      "text/plain": [
       "Text(0.5, 1.0, 'Price of Bitcoin: Oct 2013 - May 2021')"
      ]
     },
     "execution_count": 9,
     "metadata": {},
     "output_type": "execute_result"
    },
    {
     "data": {
      "image/png": "[encoded data removed]",
      "text/plain": [
       "<Figure size 720x504 with 1 Axes>"
      ]
     },
     "metadata": {
      "needs_background": "light"
     },
     "output_type": "display_data"
    }
   ],
   "source": [
    "# Plotting from CSV\n",
    "import matplotlib.pyplot as plt\n",
    "import numpy as np\n",
    "\n",
    "plt.figure(figsize=(10, 7))\n",
    "plt.plot(timestamps, btc_price)\n",
    "plt.xlabel(\"Date\")\n",
    "plt.ylabel(\"BTC Price\")\n",
    "plt.title(\"Price of Bitcoin: Oct 2013 - May 2021\", fontsize=16)\n",
    "#plt.legend();"
   ]
  },
  {
   "attachments": {},
   "cell_type": "markdown",
   "metadata": {},
   "source": [
    "### Creating train and test data"
   ]
  },
  {
   "cell_type": "code",
   "execution_count": 10,
   "metadata": {},
   "outputs": [
    {
     "data": {
      "text/plain": [
       "(array(['2013-10-01T00:00:00.000000000', '2013-10-02T00:00:00.000000000',\n",
       "        '2013-10-03T00:00:00.000000000', '2013-10-04T00:00:00.000000000',\n",
       "        '2013-10-05T00:00:00.000000000', '2013-10-06T00:00:00.000000000',\n",
       "        '2013-10-07T00:00:00.000000000', '2013-10-08T00:00:00.000000000',\n",
       "        '2013-10-09T00:00:00.000000000', '2013-10-10T00:00:00.000000000'],\n",
       "       dtype='datetime64[ns]'),\n",
       " array([123.65499, 125.455  , 108.58483, 118.67466, 121.33866, 120.65533,\n",
       "        121.795  , 123.033  , 124.049  , 125.96116]))"
      ]
     },
     "execution_count": 10,
     "metadata": {},
     "output_type": "execute_result"
    }
   ],
   "source": [
    "# Get Bitcoin date array\n",
    "timestamps = bitcoin_prices.index.to_numpy()\n",
    "prices = bitcoin_prices[\"Price\"].to_numpy()\n",
    "\n",
    "timestamps[:10], prices[:10]"
   ]
  },
  {
   "cell_type": "code",
   "execution_count": 11,
   "metadata": {},
   "outputs": [
    {
     "data": {
      "text/plain": [
       "((2229,), (558,), (2229,), (558,))"
      ]
     },
     "execution_count": 11,
     "metadata": {},
     "output_type": "execute_result"
    }
   ],
   "source": [
    "# Wrong way to create train / test split for time series data\n",
    "from sklearn.model_selection import train_test_split\n",
    "\n",
    "X_train, X_test, y_train, y_test = train_test_split(\n",
    "    timestamps, # dates\n",
    "    prices, # BTC prices\n",
    "    test_size=0.2,\n",
    "    random_state=42\n",
    ")\n",
    "X_train.shape, X_test.shape, y_train.shape, y_test.shape"
   ]
  },
  {
   "cell_type": "code",
   "execution_count": 12,
   "metadata": {},
   "outputs": [
    {
     "data": {
      "image/png": "[encoded data removed]",
      "text/plain": [
       "<Figure size 720x504 with 1 Axes>"
      ]
     },
     "metadata": {
      "needs_background": "light"
     },
     "output_type": "display_data"
    }
   ],
   "source": [
    "# Plotting the wrong data split results\n",
    "plt.figure(figsize=(10, 7))\n",
    "plt.scatter(X_train, y_train, s=5, label=\"Train data\")\n",
    "plt.scatter(X_test, y_test, s=5, label=\"Test data\")\n",
    "plt.xlabel(\"Date\")\n",
    "plt.ylabel(\"BTC Price\")\n",
    "plt.legend(fontsize=14)\n",
    "plt.show();"
   ]
  },
  {
   "cell_type": "code",
   "execution_count": 13,
   "metadata": {},
   "outputs": [
    {
     "data": {
      "text/plain": [
       "(2229, 558, 2229, 558)"
      ]
     },
     "execution_count": 13,
     "metadata": {},
     "output_type": "execute_result"
    }
   ],
   "source": [
    "# Right way to create train / test split for time series data\n",
    "split_size = int(0.8 * len(prices)) # 80% - train, 20% - test\n",
    "\n",
    "X_train, y_train = timestamps[:split_size], prices[:split_size]\n",
    "X_test, y_test = timestamps[split_size:], prices[split_size:]\n",
    "\n",
    "len(X_train), len(X_test), len(y_train), len(y_test)"
   ]
  },
  {
   "cell_type": "code",
   "execution_count": 14,
   "metadata": {},
   "outputs": [
    {
     "data": {
      "image/png": "[encoded data removed]",
      "text/plain": [
       "<Figure size 720x504 with 1 Axes>"
      ]
     },
     "metadata": {
      "needs_background": "light"
     },
     "output_type": "display_data"
    }
   ],
   "source": [
    "# Plotting the right data split results\n",
    "plt.figure(figsize=(10, 7))\n",
    "plt.scatter(X_train, y_train, s=5, label=\"Train data\")\n",
    "plt.scatter(X_test, y_test, s=5, label=\"Test data\")\n",
    "plt.xlabel(\"Date\")\n",
    "plt.ylabel(\"BTC Price\")\n",
    "plt.legend(fontsize=14)\n",
    "plt.show();"
   ]
  },
  {
   "cell_type": "code",
   "execution_count": 15,
   "metadata": {},
   "outputs": [],
   "source": [
    "# Creating plotting function\n",
    "def plot_time_series(timestamps, values, marker=\",\", start=0, end=None, label=None):\n",
    "    plt.plot(timestamps[start:end], values[start:end], marker=marker, label=label)\n",
    "    plt.xlabel(\"Time\")\n",
    "    plt.ylabel(\"BTC Price\")\n",
    "    if label:\n",
    "        plt.legend(fontsize=14)\n",
    "    plt.grid(True)"
   ]
  },
  {
   "cell_type": "code",
   "execution_count": 16,
   "metadata": {},
   "outputs": [
    {
     "data": {
      "image/png": "[encoded data removed]",
      "text/plain": [
       "<Figure size 720x504 with 1 Axes>"
      ]
     },
     "metadata": {
      "needs_background": "light"
     },
     "output_type": "display_data"
    }
   ],
   "source": [
    "# Testing plot function\n",
    "plt.figure(figsize=(10, 7))\n",
    "plot_time_series(timestamps=X_train, values=y_train, label=\"Train data\")\n",
    "plot_time_series(timestamps=X_test, values=y_test, label=\"Test data\")"
   ]
  },
  {
   "attachments": {},
   "cell_type": "markdown",
   "metadata": {},
   "source": [
    "### Model 0 - Naive forecast (baseline)"
   ]
  },
  {
   "attachments": {},
   "cell_type": "markdown",
   "metadata": {},
   "source": [
    "The prediction at timestamp t(y-hat) is equal to the value at timestamp t-1 (previous timestamp), i.e horizon of 1.\n",
    "$$\\hat{y}_{t} = y_{t-1}$$"
   ]
  },
  {
   "cell_type": "code",
   "execution_count": 17,
   "metadata": {},
   "outputs": [
    {
     "name": "stdout",
     "output_type": "stream",
     "text": [
      "First 10 values: [9226.48582088 8794.35864452 8798.04205463 9081.18687849 8711.53433917\n",
      " 8760.89271814 8749.52059102 8656.97092235 8500.64355816 8469.2608989 ]\n",
      "\n",
      "Last 10 values: [57107.12067189 58788.20967893 58102.19142623 55715.54665129\n",
      " 56573.5554719  52147.82118698 49764.1320816  50032.69313676\n",
      " 47885.62525472 45604.61575361]\n"
     ]
    }
   ],
   "source": [
    "# Creating naive forecast\n",
    "naive_forecast = y_test[:-1]\n",
    "\n",
    "print(f\"First 10 values: {naive_forecast[:10]}\\n\")\n",
    "print(f\"Last 10 values: {naive_forecast[-10:]}\")"
   ]
  },
  {
   "cell_type": "code",
   "execution_count": 18,
   "metadata": {},
   "outputs": [
    {
     "data": {
      "image/png": "[encoded data removed]",
      "text/plain": [
       "<Figure size 720x504 with 1 Axes>"
      ]
     },
     "metadata": {
      "needs_background": "light"
     },
     "output_type": "display_data"
    }
   ],
   "source": [
    "# Plotting naive forecast\n",
    "plt.figure(figsize=(10, 7))\n",
    "# plot_time_series(timestamps=X_train, values=y_train, label=\"Train data\")\n",
    "plot_time_series(timestamps=X_test, values=y_test, start=500, label=\"Test data\")\n",
    "plot_time_series(timestamps=X_test[1:], values=naive_forecast, start=500, marker=\"o\", label=\"Naive forecast\")"
   ]
  },
  {
   "cell_type": "code",
   "execution_count": 19,
   "metadata": {},
   "outputs": [],
   "source": [
    "# MASE implementation\n",
    "def mean_absolute_scaled_error(y_true, y_pred):\n",
    "    mae = tf.reduce_mean(tf.abs(y_true - y_pred))\n",
    "\n",
    "    # Find MAE of Naive Forecast (no seasonality)\n",
    "    mae_naive_no_season = tf.reduce_mean(tf.abs(y_true[1:] - y_true[:-1])) # Seasonality of 1 day\n",
    "\n",
    "    return mae / mae_naive_no_season"
   ]
  },
  {
   "cell_type": "code",
   "execution_count": 20,
   "metadata": {},
   "outputs": [
    {
     "data": {
      "text/plain": [
       "<tf.Tensor: shape=(), dtype=float64, numpy=0.9995699939182626>"
      ]
     },
     "execution_count": 20,
     "metadata": {},
     "output_type": "execute_result"
    }
   ],
   "source": [
    "# Verify if MASE of Naive Forecast is 1\n",
    "mean_absolute_scaled_error(\n",
    "    y_true=y_test[1:],\n",
    "    y_pred=naive_forecast\n",
    ")"
   ]
  },
  {
   "cell_type": "code",
   "execution_count": 21,
   "metadata": {},
   "outputs": [],
   "source": [
    "# Function for evaluation matrix\n",
    "def evaluate_preds(y_true, y_pred):\n",
    "\n",
    "    # Ensuring that we use float32 dtype (for metric calculations)\n",
    "    y_true = tf.cast(y_true, dtype=tf.float32)\n",
    "    y_pred = tf.cast(y_pred, dtype=tf.float32)\n",
    "\n",
    "    # Calculating various evaluation metrics\n",
    "    mae = tf.keras.metrics.mean_absolute_error(y_true, y_pred)\n",
    "    mse = tf.keras.metrics.mean_squared_error(y_true, y_pred)\n",
    "    rmse = tf.sqrt(mse)\n",
    "    mape = tf.keras.metrics.mean_absolute_percentage_error(y_true, y_pred)\n",
    "    mase = mean_absolute_scaled_error(y_true, y_pred)\n",
    "\n",
    "    return {\n",
    "        \"mae\": mae.numpy(),\n",
    "        \"mse\": mse.numpy(),\n",
    "        \"rmse\": rmse.numpy(),\n",
    "        \"mape\": mape.numpy(),\n",
    "        \"mase\": mase.numpy()\n",
    "    }"
   ]
  },
  {
   "cell_type": "code",
   "execution_count": 22,
   "metadata": {},
   "outputs": [
    {
     "data": {
      "text/plain": [
       "{'mae': 567.9802,\n",
       " 'mse': 1147547.0,\n",
       " 'rmse': 1071.2362,\n",
       " 'mape': 2.5165248,\n",
       " 'mase': 0.99957}"
      ]
     },
     "execution_count": 22,
     "metadata": {},
     "output_type": "execute_result"
    }
   ],
   "source": [
    "# Evaluating naive forecast results\n",
    "naive_results = evaluate_preds(y_true=y_test[1:], y_pred=naive_forecast)\n",
    "naive_results"
   ]
  },
  {
   "attachments": {},
   "cell_type": "markdown",
   "metadata": {},
   "source": [
    "### Windowing data"
   ]
  },
  {
   "cell_type": "code",
   "execution_count": 23,
   "metadata": {},
   "outputs": [
    {
     "name": "stdout",
     "output_type": "stream",
     "text": [
      "Intention is to use [123.65499, 125.455, 108.58483, 118.67466, 121.33866, 120.65533, 121.795] to predict 123.033\n"
     ]
    }
   ],
   "source": [
    "# We want to use Bitcoin prices of the week to predict next day price\n",
    "print(f\"Intention is to use {btc_price[:7]} to predict {btc_price[7]}\")"
   ]
  },
  {
   "cell_type": "code",
   "execution_count": 24,
   "metadata": {},
   "outputs": [],
   "source": [
    "# Setting up global variables for window size and horizon\n",
    "HORIZON = 1 # predict next 1 day\n",
    "WINDOW_SIZE = 7 # use the past week of Bitcoin data"
   ]
  },
  {
   "cell_type": "code",
   "execution_count": 25,
   "metadata": {},
   "outputs": [],
   "source": [
    "# Creating function to label windowed data\n",
    "def get_labelled_window(x, horizon=HORIZON):\n",
    "    return x[:, :-horizon], x[:, -horizon:]"
   ]
  },
  {
   "cell_type": "code",
   "execution_count": 26,
   "metadata": {},
   "outputs": [
    {
     "data": {
      "text/plain": [
       "(<tf.Tensor: shape=(1, 7), dtype=int32, numpy=array([[1, 2, 3, 4, 5, 6, 7]])>,\n",
       " <tf.Tensor: shape=(1, 1), dtype=int32, numpy=array([[8]])>)"
      ]
     },
     "execution_count": 26,
     "metadata": {},
     "output_type": "execute_result"
    }
   ],
   "source": [
    "# Testing window labelling function\n",
    "test_window, test_label = get_labelled_window(tf.expand_dims(tf.range(8) + 1, axis=0))\n",
    "test_window, test_label"
   ]
  },
  {
   "cell_type": "code",
   "execution_count": 27,
   "metadata": {},
   "outputs": [],
   "source": [
    "# Creating function to view NumPy arrays as windows\n",
    "def make_windows(x, window_size=WINDOW_SIZE, horizon=HORIZON):\n",
    "\n",
    "    # 1. Creating window of specific window size\n",
    "    window_step = np.expand_dims(np.arange(window_size + horizon), axis=0)\n",
    "\n",
    "    # 2. Creating 2D array of multiple windows\n",
    "    window_indexes = window_step + np.expand_dims(np.arange(len(x) - (window_size + horizon - 1)), axis=0).T\n",
    "    # print(f\"Windows indexes: {window_indexes} with shape of {window_indexes.shape}\")\n",
    "\n",
    "    # 3. Index on the target array (time series) with 2D of multiple window steps\n",
    "    windowed_array = x[window_indexes]\n",
    "\n",
    "    # 4. Get the labelled windows\n",
    "    windows, labels = get_labelled_window(windowed_array, horizon=horizon)\n",
    "    return windows, labels"
   ]
  },
  {
   "cell_type": "code",
   "execution_count": 28,
   "metadata": {},
   "outputs": [
    {
     "data": {
      "text/plain": [
       "(2780, 2780)"
      ]
     },
     "execution_count": 28,
     "metadata": {},
     "output_type": "execute_result"
    }
   ],
   "source": [
    "# Testing the function\n",
    "full_windows, full_labels = make_windows(prices)\n",
    "len(full_windows), len(full_labels)"
   ]
  },
  {
   "cell_type": "code",
   "execution_count": 29,
   "metadata": {},
   "outputs": [
    {
     "name": "stdout",
     "output_type": "stream",
     "text": [
      "Window: [123.65499 125.455   108.58483 118.67466 121.33866 120.65533 121.795  ] -> Label: [123.033]\n",
      "Window: [125.455   108.58483 118.67466 121.33866 120.65533 121.795   123.033  ] -> Label: [124.049]\n",
      "Window: [108.58483 118.67466 121.33866 120.65533 121.795   123.033   124.049  ] -> Label: [125.96116]\n"
     ]
    }
   ],
   "source": [
    "# Viewing the first 3 windows / labels\n",
    "for i in range(3):\n",
    "    print(f\"Window: {full_windows[i]} -> Label: {full_labels[i]}\")"
   ]
  },
  {
   "cell_type": "code",
   "execution_count": 30,
   "metadata": {},
   "outputs": [
    {
     "name": "stdout",
     "output_type": "stream",
     "text": [
      "Window: [58788.20967893 58102.19142623 55715.54665129 56573.5554719\n",
      " 52147.82118698 49764.1320816  50032.69313676] -> Label: [47885.62525472]\n",
      "Window: [58102.19142623 55715.54665129 56573.5554719  52147.82118698\n",
      " 49764.1320816  50032.69313676 47885.62525472] -> Label: [45604.61575361]\n",
      "Window: [55715.54665129 56573.5554719  52147.82118698 49764.1320816\n",
      " 50032.69313676 47885.62525472 45604.61575361] -> Label: [43144.47129086]\n"
     ]
    }
   ],
   "source": [
    "# Viewing the last 3 windows / labels\n",
    "for i in range(3):\n",
    "    print(f\"Window: {full_windows[i-3]} -> Label: {full_labels[i-3]}\")"
   ]
  },
  {
   "attachments": {},
   "cell_type": "markdown",
   "metadata": {},
   "source": [
    "### Splitting windows into training and testing sets"
   ]
  },
  {
   "cell_type": "code",
   "execution_count": 31,
   "metadata": {},
   "outputs": [],
   "source": [
    "# Creating function to make train / test splits\n",
    "def make_train_test_splits(windows, labels, test_split=0.2):\n",
    "    split_size = int(len(windows) * (1 - test_split)) # Default 80% train / 20% test\n",
    "    train_windows = windows[:split_size]\n",
    "    train_labels = labels[:split_size]\n",
    "    test_windows = windows[split_size:]\n",
    "    test_labels = labels[split_size:]\n",
    "    return train_windows, test_windows, train_labels, test_labels"
   ]
  },
  {
   "cell_type": "code",
   "execution_count": 32,
   "metadata": {},
   "outputs": [
    {
     "data": {
      "text/plain": [
       "(2224, 556, 2224, 556)"
      ]
     },
     "execution_count": 32,
     "metadata": {},
     "output_type": "execute_result"
    }
   ],
   "source": [
    "# Creating training and testing windows\n",
    "train_windows, test_windows, train_labels, test_labels = make_train_test_splits(\n",
    "    full_windows, full_labels\n",
    ")\n",
    "len(train_windows), len(test_windows), len(train_labels), len(test_labels)"
   ]
  },
  {
   "cell_type": "code",
   "execution_count": 33,
   "metadata": {},
   "outputs": [
    {
     "data": {
      "text/plain": [
       "(array([[123.65499, 125.455  , 108.58483, 118.67466, 121.33866, 120.65533,\n",
       "         121.795  ],\n",
       "        [125.455  , 108.58483, 118.67466, 121.33866, 120.65533, 121.795  ,\n",
       "         123.033  ],\n",
       "        [108.58483, 118.67466, 121.33866, 120.65533, 121.795  , 123.033  ,\n",
       "         124.049  ],\n",
       "        [118.67466, 121.33866, 120.65533, 121.795  , 123.033  , 124.049  ,\n",
       "         125.96116],\n",
       "        [121.33866, 120.65533, 121.795  , 123.033  , 124.049  , 125.96116,\n",
       "         125.27966]]),\n",
       " array([[123.033  ],\n",
       "        [124.049  ],\n",
       "        [125.96116],\n",
       "        [125.27966],\n",
       "        [125.9275 ]]))"
      ]
     },
     "execution_count": 33,
     "metadata": {},
     "output_type": "execute_result"
    }
   ],
   "source": [
    "# Checking the first 5 train window values\n",
    "train_windows[:5], train_labels[:5]"
   ]
  },
  {
   "cell_type": "code",
   "execution_count": 34,
   "metadata": {},
   "outputs": [
    {
     "data": {
      "text/plain": [
       "(array([[9290.89660239, 9202.41545055, 9369.62808116, 9326.59962378,\n",
       "         9335.75240233, 9226.48582088, 8794.35864452],\n",
       "        [9202.41545055, 9369.62808116, 9326.59962378, 9335.75240233,\n",
       "         9226.48582088, 8794.35864452, 8798.04205463],\n",
       "        [9369.62808116, 9326.59962378, 9335.75240233, 9226.48582088,\n",
       "         8794.35864452, 8798.04205463, 9081.18687849],\n",
       "        [9326.59962378, 9335.75240233, 9226.48582088, 8794.35864452,\n",
       "         8798.04205463, 9081.18687849, 8711.53433917],\n",
       "        [9335.75240233, 9226.48582088, 8794.35864452, 8798.04205463,\n",
       "         9081.18687849, 8711.53433917, 8760.89271814]]),\n",
       " array([[8798.04205463],\n",
       "        [9081.18687849],\n",
       "        [8711.53433917],\n",
       "        [8760.89271814],\n",
       "        [8749.52059102]]))"
      ]
     },
     "execution_count": 34,
     "metadata": {},
     "output_type": "execute_result"
    }
   ],
   "source": [
    "# Checking the first test values\n",
    "test_windows[:5], test_labels[:5]"
   ]
  },
  {
   "attachments": {},
   "cell_type": "markdown",
   "metadata": {},
   "source": [
    "### Modelling checkpoint callback"
   ]
  },
  {
   "cell_type": "code",
   "execution_count": 35,
   "metadata": {},
   "outputs": [],
   "source": [
    "# Function to implement ModelCheckpoint callback\n",
    "import os\n",
    "\n",
    "def create_model_checkpoint(model_name, save_path=\"model_experiments\"):\n",
    "    return tf.keras.callbacks.ModelCheckpoint(\n",
    "        filepath=os.path.join(save_path, model_name),\n",
    "        verbose=0,\n",
    "        save_best_only=True\n",
    "    )"
   ]
  },
  {
   "attachments": {},
   "cell_type": "markdown",
   "metadata": {},
   "source": [
    "### Model 1 - Dense model (window = 7, horizon = 1)"
   ]
  },
  {
   "cell_type": "code",
   "execution_count": 36,
   "metadata": {},
   "outputs": [
    {
     "name": "stdout",
     "output_type": "stream",
     "text": [
      "Epoch 1/100\n",
      "14/18 [======================>.......] - ETA: 0s - loss: 1054.2434 - mae: 1054.2434 - mse: 4000636.5000  INFO:tensorflow:Assets written to: model_experiments\\model_1_dense\\assets\n",
      "18/18 [==============================] - 5s 184ms/step - loss: 939.8355 - mae: 939.8355 - mse: 3348946.0000 - val_loss: 2637.3821 - val_mae: 2637.3821 - val_mse: 15850944.0000\n",
      "Epoch 2/100\n",
      "12/18 [===================>..........] - ETA: 0s - loss: 289.4474 - mae: 289.4474 - mse: 378824.2188INFO:tensorflow:Assets written to: model_experiments\\model_1_dense\\assets\n",
      "18/18 [==============================] - 2s 99ms/step - loss: 265.6639 - mae: 265.6639 - mse: 315430.7188 - val_loss: 1003.1210 - val_mae: 1003.1210 - val_mse: 3360920.5000\n",
      "Epoch 3/100\n",
      "16/18 [=========================>....] - ETA: 0s - loss: 190.7744 - mae: 190.7744 - mse: 168099.3125INFO:tensorflow:Assets written to: model_experiments\\model_1_dense\\assets\n",
      "18/18 [==============================] - 2s 111ms/step - loss: 187.8885 - mae: 187.8885 - mse: 168131.7969 - val_loss: 976.1526 - val_mae: 976.1526 - val_mse: 3048057.7500\n",
      "Epoch 4/100\n",
      "15/18 [========================>.....] - ETA: 0s - loss: 175.6380 - mae: 175.6380 - mse: 165516.5625INFO:tensorflow:Assets written to: model_experiments\\model_1_dense\\assets\n",
      "18/18 [==============================] - 2s 107ms/step - loss: 174.1818 - mae: 174.1818 - mse: 160772.6406 - val_loss: 939.1409 - val_mae: 939.1409 - val_mse: 2971668.7500\n",
      "Epoch 5/100\n",
      "11/18 [=================>............] - ETA: 0s - loss: 175.8983 - mae: 175.8983 - mse: 163290.0781INFO:tensorflow:Assets written to: model_experiments\\model_1_dense\\assets\n",
      "18/18 [==============================] - 2s 103ms/step - loss: 166.9693 - mae: 166.9693 - mse: 147764.2500 - val_loss: 917.7813 - val_mae: 917.7813 - val_mse: 2724103.2500\n",
      "Epoch 6/100\n",
      "11/18 [=================>............] - ETA: 0s - loss: 161.4352 - mae: 161.4352 - mse: 128600.2188INFO:tensorflow:Assets written to: model_experiments\\model_1_dense\\assets\n",
      "18/18 [==============================] - 2s 101ms/step - loss: 163.7400 - mae: 163.7400 - mse: 142598.5156 - val_loss: 884.1314 - val_mae: 884.1314 - val_mse: 2632706.7500\n",
      "Epoch 7/100\n",
      "14/18 [======================>.......] - ETA: 0s - loss: 162.7428 - mae: 162.7428 - mse: 146371.5625INFO:tensorflow:Assets written to: model_experiments\\model_1_dense\\assets\n",
      "18/18 [==============================] - 2s 92ms/step - loss: 156.5127 - mae: 156.5127 - mse: 133211.3906 - val_loss: 877.2836 - val_mae: 877.2836 - val_mse: 2480284.0000\n",
      "Epoch 8/100\n",
      "15/18 [========================>.....] - ETA: 0s - loss: 149.9930 - mae: 149.9930 - mse: 125438.3047INFO:tensorflow:Assets written to: model_experiments\\model_1_dense\\assets\n",
      "18/18 [==============================] - 2s 98ms/step - loss: 152.1600 - mae: 152.1600 - mse: 127940.2891 - val_loss: 836.8062 - val_mae: 836.8062 - val_mse: 2353171.2500\n",
      "Epoch 9/100\n",
      "18/18 [==============================] - 0s 13ms/step - loss: 152.2399 - mae: 152.2399 - mse: 126508.1016 - val_loss: 856.9952 - val_mae: 856.9952 - val_mse: 2288206.7500\n",
      "Epoch 10/100\n",
      "11/18 [=================>............] - ETA: 0s - loss: 144.1576 - mae: 144.1576 - mse: 109618.2266INFO:tensorflow:Assets written to: model_experiments\\model_1_dense\\assets\n",
      "18/18 [==============================] - 2s 101ms/step - loss: 146.7554 - mae: 146.7554 - mse: 120657.1719 - val_loss: 798.3605 - val_mae: 798.3605 - val_mse: 2093065.6250\n",
      "Epoch 11/100\n",
      "15/18 [========================>.....] - ETA: 0s - loss: 141.6184 - mae: 141.6184 - mse: 114789.9453INFO:tensorflow:Assets written to: model_experiments\\model_1_dense\\assets\n",
      "18/18 [==============================] - 2s 94ms/step - loss: 140.6181 - mae: 140.6181 - mse: 111891.0938 - val_loss: 776.2147 - val_mae: 776.2147 - val_mse: 2006359.2500\n",
      "Epoch 12/100\n",
      "18/18 [==============================] - 0s 11ms/step - loss: 138.0981 - mae: 138.0981 - mse: 108055.8750 - val_loss: 807.6580 - val_mae: 807.6580 - val_mse: 2017936.1250\n",
      "Epoch 13/100\n",
      "18/18 [==============================] - 0s 10ms/step - loss: 138.4562 - mae: 138.4562 - mse: 107650.7344 - val_loss: 800.8060 - val_mae: 800.8060 - val_mse: 1974151.1250\n",
      "Epoch 14/100\n",
      "11/18 [=================>............] - ETA: 0s - loss: 128.2856 - mae: 128.2856 - mse: 94502.5156INFO:tensorflow:Assets written to: model_experiments\\model_1_dense\\assets\n",
      "18/18 [==============================] - 2s 98ms/step - loss: 133.8532 - mae: 133.8532 - mse: 102555.8281 - val_loss: 758.7883 - val_mae: 758.7883 - val_mse: 1837243.3750\n",
      "Epoch 15/100\n",
      "12/18 [===================>..........] - ETA: 0s - loss: 127.9557 - mae: 127.9557 - mse: 91844.6797INFO:tensorflow:Assets written to: model_experiments\\model_1_dense\\assets\n",
      "18/18 [==============================] - 2s 97ms/step - loss: 133.9424 - mae: 133.9424 - mse: 100788.8281 - val_loss: 724.7148 - val_mae: 724.7148 - val_mse: 1746053.2500\n",
      "Epoch 16/100\n",
      "11/18 [=================>............] - ETA: 0s - loss: 128.0834 - mae: 128.0834 - mse: 87215.4922INFO:tensorflow:Assets written to: model_experiments\\model_1_dense\\assets\n",
      "18/18 [==============================] - 2s 106ms/step - loss: 129.5263 - mae: 129.5263 - mse: 95954.9531 - val_loss: 724.1547 - val_mae: 724.1547 - val_mse: 1708949.6250\n",
      "Epoch 17/100\n",
      "18/18 [==============================] - 0s 13ms/step - loss: 127.6523 - mae: 127.6523 - mse: 95443.3594 - val_loss: 737.5851 - val_mae: 737.5851 - val_mse: 1724859.3750\n",
      "Epoch 18/100\n",
      "11/18 [=================>............] - ETA: 0s - loss: 132.1596 - mae: 132.1596 - mse: 101706.4531INFO:tensorflow:Assets written to: model_experiments\\model_1_dense\\assets\n",
      "18/18 [==============================] - 2s 132ms/step - loss: 127.2523 - mae: 127.2523 - mse: 93972.3438 - val_loss: 695.4716 - val_mae: 695.4716 - val_mse: 1610793.2500\n",
      "Epoch 19/100\n",
      "18/18 [==============================] - 0s 12ms/step - loss: 125.6046 - mae: 125.6046 - mse: 92132.8828 - val_loss: 699.9526 - val_mae: 699.9526 - val_mse: 1603962.5000\n",
      "Epoch 20/100\n",
      "18/18 [==============================] - 0s 12ms/step - loss: 128.5750 - mae: 128.5750 - mse: 94806.5703 - val_loss: 700.7360 - val_mae: 700.7360 - val_mse: 1597227.5000\n",
      "Epoch 21/100\n",
      "18/18 [==============================] - ETA: 0s - loss: 129.6011 - mae: 129.6011 - mse: 94866.2031INFO:tensorflow:Assets written to: model_experiments\\model_1_dense\\assets\n",
      "18/18 [==============================] - 2s 107ms/step - loss: 129.6011 - mae: 129.6011 - mse: 94866.2031 - val_loss: 686.2137 - val_mae: 686.2137 - val_mse: 1554354.0000\n",
      "Epoch 22/100\n",
      "15/18 [========================>.....] - ETA: 0s - loss: 125.9824 - mae: 125.9824 - mse: 95115.3438 INFO:tensorflow:Assets written to: model_experiments\\model_1_dense\\assets\n",
      "18/18 [==============================] - 2s 93ms/step - loss: 122.0773 - mae: 122.0773 - mse: 87987.6562 - val_loss: 673.2997 - val_mae: 673.2997 - val_mse: 1517976.8750\n",
      "Epoch 23/100\n",
      "12/18 [===================>..........] - ETA: 0s - loss: 117.5982 - mae: 117.5982 - mse: 75532.8750INFO:tensorflow:Assets written to: model_experiments\\model_1_dense\\assets\n",
      "18/18 [==============================] - 2s 102ms/step - loss: 122.2347 - mae: 122.2347 - mse: 87425.8125 - val_loss: 659.7953 - val_mae: 659.7953 - val_mse: 1486276.6250\n",
      "Epoch 24/100\n",
      "18/18 [==============================] - 0s 12ms/step - loss: 122.0712 - mae: 122.0712 - mse: 88067.6797 - val_loss: 673.5330 - val_mae: 673.5330 - val_mse: 1554105.8750\n",
      "Epoch 25/100\n",
      "18/18 [==============================] - 0s 11ms/step - loss: 123.2940 - mae: 123.2940 - mse: 86068.8594 - val_loss: 672.7007 - val_mae: 672.7007 - val_mse: 1548697.1250\n",
      "Epoch 26/100\n",
      "18/18 [==============================] - 0s 12ms/step - loss: 124.9159 - mae: 124.9159 - mse: 87389.8672 - val_loss: 672.4715 - val_mae: 672.4715 - val_mse: 1545277.6250\n",
      "Epoch 27/100\n",
      "18/18 [==============================] - 0s 11ms/step - loss: 128.1423 - mae: 128.1423 - mse: 89981.0859 - val_loss: 679.6605 - val_mae: 679.6605 - val_mse: 1564726.7500\n",
      "Epoch 28/100\n",
      "12/18 [===================>..........] - ETA: 0s - loss: 122.4783 - mae: 122.4783 - mse: 84895.9297INFO:tensorflow:Assets written to: model_experiments\\model_1_dense\\assets\n",
      "18/18 [==============================] - 2s 94ms/step - loss: 122.5236 - mae: 122.5236 - mse: 86265.7656 - val_loss: 640.6445 - val_mae: 640.6445 - val_mse: 1413770.5000\n",
      "Epoch 29/100\n",
      "11/18 [=================>............] - ETA: 0s - loss: 131.0592 - mae: 131.0592 - mse: 102559.8828INFO:tensorflow:Assets written to: model_experiments\\model_1_dense\\assets\n",
      "18/18 [==============================] - 2s 91ms/step - loss: 129.7103 - mae: 129.7103 - mse: 92304.5781 - val_loss: 638.5231 - val_mae: 638.5231 - val_mse: 1404999.7500\n",
      "Epoch 30/100\n",
      "18/18 [==============================] - 0s 14ms/step - loss: 122.6192 - mae: 122.6192 - mse: 86474.3906 - val_loss: 665.5082 - val_mae: 665.5082 - val_mse: 1453808.7500\n",
      "Epoch 31/100\n",
      "18/18 [==============================] - 0s 11ms/step - loss: 130.3781 - mae: 130.3781 - mse: 89548.0000 - val_loss: 857.8134 - val_mae: 857.8134 - val_mse: 2008102.0000\n",
      "Epoch 32/100\n",
      "11/18 [=================>............] - ETA: 0s - loss: 134.8350 - mae: 134.8350 - mse: 86815.1328INFO:tensorflow:Assets written to: model_experiments\\model_1_dense\\assets\n",
      "18/18 [==============================] - 2s 107ms/step - loss: 131.9136 - mae: 131.9136 - mse: 88824.4062 - val_loss: 629.2146 - val_mae: 629.2146 - val_mse: 1389054.7500\n",
      "Epoch 33/100\n",
      "18/18 [==============================] - 0s 10ms/step - loss: 121.8676 - mae: 121.8676 - mse: 81631.9688 - val_loss: 650.1782 - val_mae: 650.1782 - val_mse: 1455973.6250\n",
      "Epoch 34/100\n",
      "17/18 [===========================>..] - ETA: 0s - loss: 119.1676 - mae: 119.1676 - mse: 83556.3047INFO:tensorflow:Assets written to: model_experiments\\model_1_dense\\assets\n",
      "18/18 [==============================] - 2s 127ms/step - loss: 119.5046 - mae: 119.5046 - mse: 83204.4453 - val_loss: 622.2654 - val_mae: 622.2654 - val_mse: 1361335.5000\n",
      "Epoch 35/100\n",
      "18/18 [==============================] - 0s 11ms/step - loss: 118.7969 - mae: 118.7969 - mse: 83370.6406 - val_loss: 635.1478 - val_mae: 635.1478 - val_mse: 1373280.7500\n",
      "Epoch 36/100\n",
      "18/18 [==============================] - 0s 10ms/step - loss: 126.0200 - mae: 126.0200 - mse: 86325.4688 - val_loss: 722.0112 - val_mae: 722.0112 - val_mse: 1571829.2500\n",
      "Epoch 37/100\n",
      "18/18 [==============================] - 0s 11ms/step - loss: 117.6523 - mae: 117.6523 - mse: 79537.3438 - val_loss: 629.2864 - val_mae: 629.2864 - val_mse: 1355070.7500\n",
      "Epoch 38/100\n",
      "13/18 [====================>.........] - ETA: 0s - loss: 117.6133 - mae: 117.6133 - mse: 80426.7188INFO:tensorflow:Assets written to: model_experiments\\model_1_dense\\assets\n",
      "18/18 [==============================] - 2s 94ms/step - loss: 115.7074 - mae: 115.7074 - mse: 79850.9141 - val_loss: 613.8332 - val_mae: 613.8332 - val_mse: 1330068.6250\n",
      "Epoch 39/100\n",
      "18/18 [==============================] - 0s 10ms/step - loss: 116.8588 - mae: 116.8588 - mse: 80172.1562 - val_loss: 685.2224 - val_mae: 685.2224 - val_mse: 1536598.2500\n",
      "Epoch 40/100\n",
      "11/18 [=================>............] - ETA: 0s - loss: 114.7405 - mae: 114.7405 - mse: 80730.4375 INFO:tensorflow:Assets written to: model_experiments\\model_1_dense\\assets\n",
      "18/18 [==============================] - 2s 90ms/step - loss: 115.2318 - mae: 115.2318 - mse: 79462.3750 - val_loss: 611.9067 - val_mae: 611.9067 - val_mse: 1327489.6250\n",
      "Epoch 41/100\n",
      "18/18 [==============================] - 0s 11ms/step - loss: 114.2824 - mae: 114.2824 - mse: 79023.1406 - val_loss: 614.6219 - val_mae: 614.6219 - val_mse: 1336567.0000\n",
      "Epoch 42/100\n",
      "12/18 [===================>..........] - ETA: 0s - loss: 115.5046 - mae: 115.5046 - mse: 80485.5938INFO:tensorflow:Assets written to: model_experiments\\model_1_dense\\assets\n",
      "18/18 [==============================] - 2s 132ms/step - loss: 116.9915 - mae: 116.9915 - mse: 81068.5078 - val_loss: 607.5485 - val_mae: 607.5485 - val_mse: 1305731.2500\n",
      "Epoch 43/100\n",
      "18/18 [==============================] - 0s 12ms/step - loss: 113.6408 - mae: 113.6408 - mse: 77983.4062 - val_loss: 613.8495 - val_mae: 613.8495 - val_mse: 1331840.5000\n",
      "Epoch 44/100\n",
      "18/18 [==============================] - 0s 12ms/step - loss: 116.1697 - mae: 116.1697 - mse: 79926.6328 - val_loss: 617.2604 - val_mae: 617.2604 - val_mse: 1339417.7500\n",
      "Epoch 45/100\n",
      "18/18 [==============================] - 0s 12ms/step - loss: 113.5479 - mae: 113.5479 - mse: 78297.0938 - val_loss: 612.4442 - val_mae: 612.4442 - val_mse: 1303702.5000\n",
      "Epoch 46/100\n",
      "18/18 [==============================] - 0s 12ms/step - loss: 114.9249 - mae: 114.9249 - mse: 78719.7344 - val_loss: 610.9659 - val_mae: 610.9659 - val_mse: 1319674.2500\n",
      "Epoch 47/100\n",
      "18/18 [==============================] - 0s 12ms/step - loss: 114.0539 - mae: 114.0539 - mse: 79148.2188 - val_loss: 641.0169 - val_mae: 641.0169 - val_mse: 1351829.1250\n",
      "Epoch 48/100\n",
      "18/18 [==============================] - 0s 11ms/step - loss: 113.3984 - mae: 113.3984 - mse: 76257.2656 - val_loss: 652.4466 - val_mae: 652.4466 - val_mse: 1374150.5000\n",
      "Epoch 49/100\n",
      "13/18 [====================>.........] - ETA: 0s - loss: 121.3640 - mae: 121.3640 - mse: 88322.0938 INFO:tensorflow:Assets written to: model_experiments\\model_1_dense\\assets\n",
      "18/18 [==============================] - 2s 109ms/step - loss: 118.6117 - mae: 118.6117 - mse: 78408.5547 - val_loss: 597.6657 - val_mae: 597.6657 - val_mse: 1272282.2500\n",
      "Epoch 50/100\n",
      "18/18 [==============================] - 0s 12ms/step - loss: 112.1549 - mae: 112.1549 - mse: 77111.3984 - val_loss: 617.0193 - val_mae: 617.0193 - val_mse: 1325075.5000\n",
      "Epoch 51/100\n",
      " 9/18 [==============>...............] - ETA: 0s - loss: 107.9956 - mae: 107.9956 - mse: 71125.9688INFO:tensorflow:Assets written to: model_experiments\\model_1_dense\\assets\n",
      "18/18 [==============================] - 2s 103ms/step - loss: 112.1190 - mae: 112.1190 - mse: 76039.3047 - val_loss: 594.2613 - val_mae: 594.2613 - val_mse: 1264223.2500\n",
      "Epoch 52/100\n",
      "18/18 [==============================] - 0s 13ms/step - loss: 112.6550 - mae: 112.6550 - mse: 77242.8125 - val_loss: 615.3663 - val_mae: 615.3663 - val_mse: 1317296.2500\n",
      "Epoch 53/100\n",
      "12/18 [===================>..........] - ETA: 0s - loss: 111.6992 - mae: 111.6992 - mse: 74530.4297INFO:tensorflow:Assets written to: model_experiments\\model_1_dense\\assets\n",
      "18/18 [==============================] - 2s 105ms/step - loss: 114.2434 - mae: 114.2434 - mse: 77556.0781 - val_loss: 592.5695 - val_mae: 592.5695 - val_mse: 1255391.6250\n",
      "Epoch 54/100\n",
      "18/18 [==============================] - 0s 11ms/step - loss: 112.1634 - mae: 112.1634 - mse: 75823.5078 - val_loss: 605.1258 - val_mae: 605.1258 - val_mse: 1269412.6250\n",
      "Epoch 55/100\n",
      "18/18 [==============================] - 0s 13ms/step - loss: 113.4995 - mae: 113.4995 - mse: 77674.4766 - val_loss: 611.2559 - val_mae: 611.2559 - val_mse: 1277990.2500\n",
      "Epoch 56/100\n",
      "18/18 [==============================] - 0s 12ms/step - loss: 113.8593 - mae: 113.8593 - mse: 76535.3750 - val_loss: 782.5271 - val_mae: 782.5270 - val_mse: 1811792.3750\n",
      "Epoch 57/100\n",
      "18/18 [==============================] - 0s 11ms/step - loss: 134.4428 - mae: 134.4428 - mse: 93447.9219 - val_loss: 691.1618 - val_mae: 691.1618 - val_mse: 1509549.8750\n",
      "Epoch 58/100\n",
      "18/18 [==============================] - 0s 13ms/step - loss: 121.8982 - mae: 121.8982 - mse: 81610.6094 - val_loss: 687.0489 - val_mae: 687.0489 - val_mse: 1495624.2500\n",
      "Epoch 59/100\n",
      "12/18 [===================>..........] - ETA: 0s - loss: 108.6044 - mae: 108.6044 - mse: 76117.2422INFO:tensorflow:Assets written to: model_experiments\\model_1_dense\\assets\n",
      "18/18 [==============================] - 2s 132ms/step - loss: 110.9598 - mae: 110.9598 - mse: 74096.1719 - val_loss: 589.7066 - val_mae: 589.7066 - val_mse: 1251817.2500\n",
      "Epoch 60/100\n",
      "18/18 [==============================] - 0s 12ms/step - loss: 110.8503 - mae: 110.8503 - mse: 74692.6562 - val_loss: 597.2337 - val_mae: 597.2337 - val_mse: 1250975.7500\n",
      "Epoch 61/100\n",
      "18/18 [==============================] - 0s 11ms/step - loss: 110.6009 - mae: 110.6009 - mse: 74666.5078 - val_loss: 590.4509 - val_mae: 590.4509 - val_mse: 1239716.8750\n",
      "Epoch 62/100\n",
      "18/18 [==============================] - 0s 12ms/step - loss: 110.3887 - mae: 110.3887 - mse: 73600.4375 - val_loss: 602.4401 - val_mae: 602.4401 - val_mse: 1276306.8750\n",
      "Epoch 63/100\n",
      "18/18 [==============================] - 0s 13ms/step - loss: 112.0121 - mae: 112.0121 - mse: 75394.5000 - val_loss: 670.6314 - val_mae: 670.6314 - val_mse: 1399790.5000\n",
      "Epoch 64/100\n",
      "18/18 [==============================] - 0s 11ms/step - loss: 116.9082 - mae: 116.9082 - mse: 77792.2969 - val_loss: 745.5053 - val_mae: 745.5053 - val_mse: 1604754.6250\n",
      "Epoch 65/100\n",
      "18/18 [==============================] - 0s 12ms/step - loss: 120.2279 - mae: 120.2279 - mse: 80028.0391 - val_loss: 615.6555 - val_mae: 615.6555 - val_mse: 1275982.1250\n",
      "Epoch 66/100\n",
      "10/18 [===============>..............] - ETA: 0s - loss: 110.0463 - mae: 110.0463 - mse: 60394.1875INFO:tensorflow:Assets written to: model_experiments\\model_1_dense\\assets\n",
      "18/18 [==============================] - 2s 104ms/step - loss: 114.0925 - mae: 114.0925 - mse: 74990.8828 - val_loss: 588.4137 - val_mae: 588.4137 - val_mse: 1241560.0000\n",
      "Epoch 67/100\n",
      "18/18 [==============================] - 0s 13ms/step - loss: 108.5905 - mae: 108.5905 - mse: 72153.8906 - val_loss: 603.6697 - val_mae: 603.6697 - val_mse: 1272547.5000\n",
      "Epoch 68/100\n",
      "18/18 [==============================] - 0s 12ms/step - loss: 115.3601 - mae: 115.3601 - mse: 73557.1797 - val_loss: 684.3725 - val_mae: 684.3725 - val_mse: 1474289.6250\n",
      "Epoch 69/100\n",
      "18/18 [==============================] - 0s 11ms/step - loss: 128.2322 - mae: 128.2322 - mse: 84669.5000 - val_loss: 690.9084 - val_mae: 690.9084 - val_mse: 1493308.3750\n",
      "Epoch 70/100\n",
      "18/18 [==============================] - 0s 12ms/step - loss: 124.5270 - mae: 124.5270 - mse: 83423.0234 - val_loss: 595.8778 - val_mae: 595.8778 - val_mse: 1254433.0000\n",
      "Epoch 71/100\n",
      "18/18 [==============================] - 0s 12ms/step - loss: 112.3423 - mae: 112.3423 - mse: 74744.7891 - val_loss: 600.3196 - val_mae: 600.3196 - val_mse: 1242754.1250\n",
      "Epoch 72/100\n",
      "18/18 [==============================] - 0s 12ms/step - loss: 111.5187 - mae: 111.5187 - mse: 74371.1875 - val_loss: 591.3610 - val_mae: 591.3610 - val_mse: 1226657.6250\n",
      "Epoch 73/100\n",
      "18/18 [==============================] - 0s 12ms/step - loss: 110.9813 - mae: 110.9813 - mse: 73667.4062 - val_loss: 605.3749 - val_mae: 605.3749 - val_mse: 1270792.0000\n",
      "Epoch 74/100\n",
      "17/18 [===========================>..] - ETA: 0s - loss: 109.3484 - mae: 109.3484 - mse: 73817.9453INFO:tensorflow:Assets written to: model_experiments\\model_1_dense\\assets\n",
      "18/18 [==============================] - 2s 98ms/step - loss: 109.5596 - mae: 109.5596 - mse: 73519.3906 - val_loss: 581.6759 - val_mae: 581.6759 - val_mse: 1221671.5000\n",
      "Epoch 75/100\n",
      "18/18 [==============================] - 0s 13ms/step - loss: 109.8936 - mae: 109.8936 - mse: 72683.0234 - val_loss: 606.6445 - val_mae: 606.6445 - val_mse: 1251863.1250\n",
      "Epoch 76/100\n",
      "18/18 [==============================] - 0s 10ms/step - loss: 112.8134 - mae: 112.8134 - mse: 75415.6797 - val_loss: 611.1178 - val_mae: 611.1178 - val_mse: 1279253.1250\n",
      "Epoch 77/100\n",
      "10/18 [===============>..............] - ETA: 0s - loss: 113.0538 - mae: 113.0538 - mse: 76377.9531INFO:tensorflow:Assets written to: model_experiments\\model_1_dense\\assets\n",
      "18/18 [==============================] - 2s 92ms/step - loss: 110.7022 - mae: 110.7022 - mse: 73093.8125 - val_loss: 581.0223 - val_mae: 581.0223 - val_mse: 1217706.3750\n",
      "Epoch 78/100\n",
      "18/18 [==============================] - 0s 11ms/step - loss: 111.7508 - mae: 111.7508 - mse: 74357.8906 - val_loss: 605.6868 - val_mae: 605.6868 - val_mse: 1248109.3750\n",
      "Epoch 79/100\n",
      "18/18 [==============================] - 0s 11ms/step - loss: 110.0944 - mae: 110.0944 - mse: 74450.6484 - val_loss: 612.2284 - val_mae: 612.2284 - val_mse: 1279048.7500\n",
      "Epoch 80/100\n",
      "18/18 [==============================] - ETA: 0s - loss: 110.1464 - mae: 110.1464 - mse: 73593.7109INFO:tensorflow:Assets written to: model_experiments\\model_1_dense\\assets\n",
      "18/18 [==============================] - 2s 95ms/step - loss: 110.1464 - mae: 110.1464 - mse: 73593.7109 - val_loss: 576.2678 - val_mae: 576.2678 - val_mse: 1200122.8750\n",
      "Epoch 81/100\n",
      "13/18 [====================>.........] - ETA: 0s - loss: 103.7602 - mae: 103.7602 - mse: 68964.8594INFO:tensorflow:Assets written to: model_experiments\\model_1_dense\\assets\n",
      "18/18 [==============================] - 2s 96ms/step - loss: 107.3765 - mae: 107.3765 - mse: 71535.0000 - val_loss: 575.6053 - val_mae: 575.6053 - val_mse: 1198252.8750\n",
      "Epoch 82/100\n",
      "18/18 [==============================] - 0s 11ms/step - loss: 115.7150 - mae: 115.7150 - mse: 77839.5078 - val_loss: 575.6613 - val_mae: 575.6613 - val_mse: 1196421.8750\n",
      "Epoch 83/100\n",
      "18/18 [==============================] - 0s 10ms/step - loss: 113.1387 - mae: 113.1387 - mse: 75474.0469 - val_loss: 621.3745 - val_mae: 621.3745 - val_mse: 1295541.2500\n",
      "Epoch 84/100\n",
      "17/18 [===========================>..] - ETA: 0s - loss: 114.2342 - mae: 114.2342 - mse: 73961.5703INFO:tensorflow:Assets written to: model_experiments\\model_1_dense\\assets\n",
      "18/18 [==============================] - 2s 106ms/step - loss: 113.8136 - mae: 113.8136 - mse: 73359.9531 - val_loss: 574.7125 - val_mae: 574.7125 - val_mse: 1195994.2500\n",
      "Epoch 85/100\n",
      "18/18 [==============================] - 0s 10ms/step - loss: 108.3532 - mae: 108.3532 - mse: 72464.8281 - val_loss: 578.0032 - val_mae: 578.0032 - val_mse: 1196452.7500\n",
      "Epoch 86/100\n",
      "18/18 [==============================] - 0s 11ms/step - loss: 110.0395 - mae: 110.0395 - mse: 72640.2266 - val_loss: 650.5125 - val_mae: 650.5125 - val_mse: 1342691.0000\n",
      "Epoch 87/100\n",
      "18/18 [==============================] - 0s 11ms/step - loss: 108.2878 - mae: 108.2878 - mse: 69712.8828 - val_loss: 595.5126 - val_mae: 595.5126 - val_mse: 1239404.3750\n",
      "Epoch 88/100\n",
      "18/18 [==============================] - 0s 11ms/step - loss: 108.7422 - mae: 108.7422 - mse: 72310.7578 - val_loss: 575.9176 - val_mae: 575.9176 - val_mse: 1199465.8750\n",
      "Epoch 89/100\n",
      "18/18 [==============================] - 0s 9ms/step - loss: 109.0460 - mae: 109.0460 - mse: 70827.0547 - val_loss: 584.6606 - val_mae: 584.6606 - val_mse: 1217336.5000\n",
      "Epoch 90/100\n",
      "18/18 [==============================] - 0s 10ms/step - loss: 106.4980 - mae: 106.4980 - mse: 69049.0703 - val_loss: 608.2814 - val_mae: 608.2814 - val_mse: 1248957.1250\n",
      "Epoch 91/100\n",
      "18/18 [==============================] - 0s 12ms/step - loss: 109.9357 - mae: 109.9357 - mse: 72644.4688 - val_loss: 580.9789 - val_mae: 580.9789 - val_mse: 1210036.6250\n",
      "Epoch 92/100\n",
      "18/18 [==============================] - 0s 15ms/step - loss: 111.5054 - mae: 111.5054 - mse: 74281.6328 - val_loss: 574.7133 - val_mae: 574.7133 - val_mse: 1187545.0000\n",
      "Epoch 93/100\n",
      "18/18 [==============================] - 0s 10ms/step - loss: 113.2568 - mae: 113.2568 - mse: 75036.5391 - val_loss: 589.8607 - val_mae: 589.8607 - val_mse: 1225777.7500\n",
      "Epoch 94/100\n",
      "18/18 [==============================] - 0s 12ms/step - loss: 109.2772 - mae: 109.2772 - mse: 72566.6875 - val_loss: 586.9622 - val_mae: 586.9622 - val_mse: 1205900.2500\n",
      "Epoch 95/100\n",
      "14/18 [======================>.......] - ETA: 0s - loss: 107.0793 - mae: 107.0793 - mse: 74534.3516 INFO:tensorflow:Assets written to: model_experiments\\model_1_dense\\assets\n",
      "18/18 [==============================] - 2s 101ms/step - loss: 106.6058 - mae: 106.6058 - mse: 70180.9375 - val_loss: 571.7388 - val_mae: 571.7388 - val_mse: 1182697.5000\n",
      "Epoch 96/100\n",
      "18/18 [==============================] - 0s 12ms/step - loss: 112.1400 - mae: 112.1400 - mse: 72805.1328 - val_loss: 679.4200 - val_mae: 679.4200 - val_mse: 1439094.8750\n",
      "Epoch 97/100\n",
      "18/18 [==============================] - 0s 11ms/step - loss: 113.6246 - mae: 113.6246 - mse: 75319.1328 - val_loss: 583.4467 - val_mae: 583.4467 - val_mse: 1211920.6250\n",
      "Epoch 98/100\n",
      "18/18 [==============================] - 0s 12ms/step - loss: 108.5404 - mae: 108.5404 - mse: 70852.9844 - val_loss: 572.6094 - val_mae: 572.6094 - val_mse: 1186665.2500\n",
      "Epoch 99/100\n",
      "18/18 [==============================] - 0s 10ms/step - loss: 107.2001 - mae: 107.2001 - mse: 71059.8203 - val_loss: 572.3155 - val_mae: 572.3155 - val_mse: 1185478.5000\n",
      "Epoch 100/100\n",
      "18/18 [==============================] - 0s 11ms/step - loss: 110.3533 - mae: 110.3533 - mse: 70458.1406 - val_loss: 623.7064 - val_mae: 623.7064 - val_mse: 1280865.6250\n"
     ]
    }
   ],
   "source": [
    "# Loading libraries\n",
    "import tensorflow as tf\n",
    "from tensorflow.keras import layers\n",
    "\n",
    "# Setting random seed\n",
    "tf.random.set_seed(42)\n",
    "\n",
    "# Constructing a model\n",
    "model_1 = tf.keras.Sequential([\n",
    "    layers.Dense(128, activation=\"relu\"),\n",
    "    layers.Dense(HORIZON, activation=\"linear\")\n",
    "], name=\"model_1_dense\")\n",
    "\n",
    "# Compiling the model\n",
    "model_1.compile(\n",
    "    loss=\"mae\",\n",
    "    optimizer=tf.keras.optimizers.Adam(),\n",
    "    metrics=[\"mae\", \"mse\"]\n",
    ")\n",
    "\n",
    "# Fitting the model\n",
    "history_1 = model_1.fit(\n",
    "    x=train_windows,\n",
    "    y=train_labels,\n",
    "    epochs=100,\n",
    "    verbose=1,\n",
    "    batch_size=128,\n",
    "    validation_data=(test_windows, test_labels),\n",
    "    callbacks=[create_model_checkpoint(model_name=model_1.name)]\n",
    ")"
   ]
  },
  {
   "cell_type": "code",
   "execution_count": 37,
   "metadata": {},
   "outputs": [
    {
     "name": "stdout",
     "output_type": "stream",
     "text": [
      "18/18 [==============================] - 0s 4ms/step - loss: 623.7064 - mae: 623.7064 - mse: 1280865.6250\n"
     ]
    },
    {
     "data": {
      "text/plain": [
       "[623.7064208984375, 623.7064208984375, 1280865.625]"
      ]
     },
     "execution_count": 37,
     "metadata": {},
     "output_type": "execute_result"
    }
   ],
   "source": [
    "# Evaluating the model on test data\n",
    "model_1.evaluate(test_windows, test_labels)"
   ]
  },
  {
   "cell_type": "code",
   "execution_count": 38,
   "metadata": {},
   "outputs": [
    {
     "name": "stdout",
     "output_type": "stream",
     "text": [
      "18/18 [==============================] - 0s 5ms/step - loss: 571.7388 - mae: 571.7388 - mse: 1182697.5000\n"
     ]
    },
    {
     "data": {
      "text/plain": [
       "[571.73876953125, 571.73876953125, 1182697.5]"
      ]
     },
     "execution_count": 38,
     "metadata": {},
     "output_type": "execute_result"
    }
   ],
   "source": [
    "# Loading the best performing model_1 run and evaluating on test data\n",
    "model_1_best = tf.keras.models.load_model(\"model_experiments/model_1_dense/\")\n",
    "model_1_best.evaluate(test_windows, test_labels)"
   ]
  },
  {
   "cell_type": "code",
   "execution_count": 39,
   "metadata": {},
   "outputs": [],
   "source": [
    "# Creating function to make predictions\n",
    "def make_preds(model, input_data):\n",
    "    forecast = model.predict(input_data)\n",
    "    return tf.squeeze(forecast) # 1D array of predictions"
   ]
  },
  {
   "cell_type": "code",
   "execution_count": 40,
   "metadata": {},
   "outputs": [
    {
     "name": "stdout",
     "output_type": "stream",
     "text": [
      "18/18 [==============================] - 0s 5ms/step\n"
     ]
    },
    {
     "data": {
      "text/plain": [
       "(556,\n",
       " <tf.Tensor: shape=(10,), dtype=float32, numpy=\n",
       " array([8776.944, 8660.995, 8921.642, 8707.462, 8624.36 , 8655.247,\n",
       "        8593.641, 8414.611, 8375.3  , 8426.443], dtype=float32)>)"
      ]
     },
     "execution_count": 40,
     "metadata": {},
     "output_type": "execute_result"
    }
   ],
   "source": [
    "# Making predictions with the model 1\n",
    "model_1_preds = make_preds(model_1, test_windows)\n",
    "len(model_1_preds), model_1_preds[:10]"
   ]
  },
  {
   "cell_type": "code",
   "execution_count": 41,
   "metadata": {},
   "outputs": [
    {
     "data": {
      "text/plain": [
       "{'mae': 623.7064,\n",
       " 'mse': 1280865.5,\n",
       " 'rmse': 1131.7533,\n",
       " 'mape': 2.803442,\n",
       " 'mase': 1.0956794}"
      ]
     },
     "execution_count": 41,
     "metadata": {},
     "output_type": "execute_result"
    }
   ],
   "source": [
    "# Evaluting model 1 predictions\n",
    "model_1_results = evaluate_preds(\n",
    "    y_true=tf.squeeze(test_labels),\n",
    "    y_pred=model_1_preds\n",
    ")\n",
    "model_1_results"
   ]
  },
  {
   "cell_type": "code",
   "execution_count": 42,
   "metadata": {},
   "outputs": [
    {
     "data": {
      "image/png": "[encoded data removed]",
      "text/plain": [
       "<Figure size 720x504 with 1 Axes>"
      ]
     },
     "metadata": {
      "needs_background": "light"
     },
     "output_type": "display_data"
    }
   ],
   "source": [
    "# Plotting model results\n",
    "offset = 300\n",
    "plt.figure(figsize=(10, 7))\n",
    "\n",
    "plot_time_series(\n",
    "    timestamps=X_test[-len(test_windows):],\n",
    "    values=test_labels[:, ],\n",
    "    start=offset,\n",
    "    label=\"Test Data\"\n",
    ")\n",
    "\n",
    "plot_time_series(\n",
    "    timestamps=X_test[-len(test_windows):],\n",
    "    values=model_1_preds,\n",
    "    start=offset,\n",
    "    label=\"Model 1 Preds\"\n",
    ")"
   ]
  },
  {
   "attachments": {},
   "cell_type": "markdown",
   "metadata": {},
   "source": [
    "### Model 2 - Dense model (window = 30, horizon = 1)"
   ]
  },
  {
   "cell_type": "code",
   "execution_count": 43,
   "metadata": {},
   "outputs": [],
   "source": [
    "# Hyperparameters\n",
    "HORIZON = 1\n",
    "WINDOW_SIZE = 30"
   ]
  },
  {
   "cell_type": "code",
   "execution_count": 44,
   "metadata": {},
   "outputs": [
    {
     "data": {
      "text/plain": [
       "(2757, 2757)"
      ]
     },
     "execution_count": 44,
     "metadata": {},
     "output_type": "execute_result"
    }
   ],
   "source": [
    "# Making windows data\n",
    "full_windows, full_labels = make_windows(\n",
    "    prices,\n",
    "    window_size=WINDOW_SIZE,\n",
    "    horizon=HORIZON\n",
    ")\n",
    "len(full_windows), len(full_labels)"
   ]
  },
  {
   "cell_type": "code",
   "execution_count": 45,
   "metadata": {},
   "outputs": [
    {
     "data": {
      "text/plain": [
       "(2205, 552, 2205, 552)"
      ]
     },
     "execution_count": 45,
     "metadata": {},
     "output_type": "execute_result"
    }
   ],
   "source": [
    "# Making train and test windows\n",
    "train_windows, test_windows, train_labels, test_labels = make_train_test_splits(\n",
    "    windows=full_windows,\n",
    "    labels=full_labels,\n",
    "    test_split=0.2\n",
    ")\n",
    "len(train_windows), len(test_windows), len(train_labels), len(test_labels)"
   ]
  },
  {
   "cell_type": "code",
   "execution_count": 46,
   "metadata": {},
   "outputs": [
    {
     "data": {
      "text/plain": [
       "array([[123.65499, 125.455  , 108.58483, 118.67466, 121.33866, 120.65533,\n",
       "        121.795  , 123.033  , 124.049  , 125.96116, 125.27966, 125.9275 ,\n",
       "        126.38333, 135.24199, 133.20333, 142.76333, 137.92333, 142.95166,\n",
       "        152.55183, 160.33883, 164.31499, 177.63333, 188.29716, 200.70166,\n",
       "        180.355  , 175.03166, 177.6965 , 187.15983, 192.75666, 197.4    ],\n",
       "       [125.455  , 108.58483, 118.67466, 121.33866, 120.65533, 121.795  ,\n",
       "        123.033  , 124.049  , 125.96116, 125.27966, 125.9275 , 126.38333,\n",
       "        135.24199, 133.20333, 142.76333, 137.92333, 142.95166, 152.55183,\n",
       "        160.33883, 164.31499, 177.63333, 188.29716, 200.70166, 180.355  ,\n",
       "        175.03166, 177.6965 , 187.15983, 192.75666, 197.4    , 196.02499],\n",
       "       [108.58483, 118.67466, 121.33866, 120.65533, 121.795  , 123.033  ,\n",
       "        124.049  , 125.96116, 125.27966, 125.9275 , 126.38333, 135.24199,\n",
       "        133.20333, 142.76333, 137.92333, 142.95166, 152.55183, 160.33883,\n",
       "        164.31499, 177.63333, 188.29716, 200.70166, 180.355  , 175.03166,\n",
       "        177.6965 , 187.15983, 192.75666, 197.4    , 196.02499, 198.04883]])"
      ]
     },
     "execution_count": 46,
     "metadata": {},
     "output_type": "execute_result"
    }
   ],
   "source": [
    "# Checking first 3 train windows\n",
    "train_windows[:3]"
   ]
  },
  {
   "cell_type": "code",
   "execution_count": 47,
   "metadata": {},
   "outputs": [
    {
     "name": "stdout",
     "output_type": "stream",
     "text": [
      "INFO:tensorflow:Assets written to: model_experiments\\model_2_dense\\assets\n",
      "INFO:tensorflow:Assets written to: model_experiments\\model_2_dense\\assets\n",
      "INFO:tensorflow:Assets written to: model_experiments\\model_2_dense\\assets\n",
      "INFO:tensorflow:Assets written to: model_experiments\\model_2_dense\\assets\n",
      "INFO:tensorflow:Assets written to: model_experiments\\model_2_dense\\assets\n",
      "INFO:tensorflow:Assets written to: model_experiments\\model_2_dense\\assets\n",
      "INFO:tensorflow:Assets written to: model_experiments\\model_2_dense\\assets\n",
      "INFO:tensorflow:Assets written to: model_experiments\\model_2_dense\\assets\n",
      "INFO:tensorflow:Assets written to: model_experiments\\model_2_dense\\assets\n",
      "INFO:tensorflow:Assets written to: model_experiments\\model_2_dense\\assets\n",
      "INFO:tensorflow:Assets written to: model_experiments\\model_2_dense\\assets\n",
      "INFO:tensorflow:Assets written to: model_experiments\\model_2_dense\\assets\n",
      "INFO:tensorflow:Assets written to: model_experiments\\model_2_dense\\assets\n",
      "INFO:tensorflow:Assets written to: model_experiments\\model_2_dense\\assets\n",
      "INFO:tensorflow:Assets written to: model_experiments\\model_2_dense\\assets\n",
      "INFO:tensorflow:Assets written to: model_experiments\\model_2_dense\\assets\n",
      "INFO:tensorflow:Assets written to: model_experiments\\model_2_dense\\assets\n",
      "INFO:tensorflow:Assets written to: model_experiments\\model_2_dense\\assets\n",
      "INFO:tensorflow:Assets written to: model_experiments\\model_2_dense\\assets\n",
      "INFO:tensorflow:Assets written to: model_experiments\\model_2_dense\\assets\n",
      "INFO:tensorflow:Assets written to: model_experiments\\model_2_dense\\assets\n",
      "INFO:tensorflow:Assets written to: model_experiments\\model_2_dense\\assets\n",
      "INFO:tensorflow:Assets written to: model_experiments\\model_2_dense\\assets\n",
      "INFO:tensorflow:Assets written to: model_experiments\\model_2_dense\\assets\n",
      "INFO:tensorflow:Assets written to: model_experiments\\model_2_dense\\assets\n",
      "INFO:tensorflow:Assets written to: model_experiments\\model_2_dense\\assets\n",
      "INFO:tensorflow:Assets written to: model_experiments\\model_2_dense\\assets\n",
      "INFO:tensorflow:Assets written to: model_experiments\\model_2_dense\\assets\n",
      "INFO:tensorflow:Assets written to: model_experiments\\model_2_dense\\assets\n"
     ]
    }
   ],
   "source": [
    "# Creating a model\n",
    "model_2 = tf.keras.Sequential([\n",
    "    layers.Dense(128, activation=\"relu\"),\n",
    "    layers.Dense(HORIZON)\n",
    "], name=\"model_2_dense\")\n",
    "\n",
    "# Compiling the model\n",
    "model_2.compile(\n",
    "    loss=\"mae\",\n",
    "    optimizer=tf.keras.optimizers.Adam(),\n",
    "    metrics=[\"mae\"]\n",
    ")\n",
    "\n",
    "# Fitting the model\n",
    "history_2 = model_2.fit(\n",
    "    train_windows,\n",
    "    train_labels,\n",
    "    epochs=100,\n",
    "    batch_size=128,\n",
    "    verbose=0,\n",
    "    validation_data=(test_windows, test_labels),\n",
    "    callbacks=[create_model_checkpoint(model_name=model_2.name)]\n",
    ")"
   ]
  },
  {
   "cell_type": "code",
   "execution_count": 48,
   "metadata": {},
   "outputs": [
    {
     "name": "stdout",
     "output_type": "stream",
     "text": [
      "18/18 [==============================] - 0s 4ms/step - loss: 765.5753 - mae: 765.5753\n"
     ]
    },
    {
     "data": {
      "text/plain": [
       "[765.5752563476562, 765.5752563476562]"
      ]
     },
     "execution_count": 48,
     "metadata": {},
     "output_type": "execute_result"
    }
   ],
   "source": [
    "# Evaluating model 2\n",
    "model_2.evaluate(test_windows, test_labels)"
   ]
  },
  {
   "cell_type": "code",
   "execution_count": 49,
   "metadata": {},
   "outputs": [
    {
     "name": "stdout",
     "output_type": "stream",
     "text": [
      "18/18 [==============================] - 0s 5ms/step - loss: 620.5169 - mae: 620.5169\n"
     ]
    },
    {
     "data": {
      "text/plain": [
       "[620.5169067382812, 620.5169067382812]"
      ]
     },
     "execution_count": 49,
     "metadata": {},
     "output_type": "execute_result"
    }
   ],
   "source": [
    "# Loading the best model 2\n",
    "model_2_best = tf.keras.models.load_model(\"model_experiments/model_2_dense/\")\n",
    "model_2_best.evaluate(test_windows, test_labels)"
   ]
  },
  {
   "cell_type": "code",
   "execution_count": 50,
   "metadata": {},
   "outputs": [
    {
     "name": "stdout",
     "output_type": "stream",
     "text": [
      "18/18 [==============================] - 0s 4ms/step\n"
     ]
    }
   ],
   "source": [
    "# getting model 2 predictions\n",
    "model_2_preds = make_preds(\n",
    "    model_2,\n",
    "    input_data=test_windows\n",
    ")"
   ]
  },
  {
   "cell_type": "code",
   "execution_count": 51,
   "metadata": {},
   "outputs": [
    {
     "data": {
      "text/plain": [
       "{'mae': 765.5753,\n",
       " 'mse': 1714130.8,\n",
       " 'rmse': 1309.2482,\n",
       " 'mape': 3.6745667,\n",
       " 'mase': 1.3382332}"
      ]
     },
     "execution_count": 51,
     "metadata": {},
     "output_type": "execute_result"
    }
   ],
   "source": [
    "# Evaluating results\n",
    "model_2_results = evaluate_preds(\n",
    "    y_true=tf.squeeze(test_labels),\n",
    "    y_pred=model_2_preds\n",
    ")\n",
    "model_2_results"
   ]
  },
  {
   "cell_type": "code",
   "execution_count": 52,
   "metadata": {},
   "outputs": [
    {
     "data": {
      "image/png": "[encoded data removed]",
      "text/plain": [
       "<Figure size 720x504 with 1 Axes>"
      ]
     },
     "metadata": {
      "needs_background": "light"
     },
     "output_type": "display_data"
    }
   ],
   "source": [
    "# Visualising model 2 results\n",
    "offset = 300\n",
    "plt.figure(figsize=(10, 7))\n",
    "\n",
    "plot_time_series(\n",
    "    timestamps=X_test[-len(test_windows):],\n",
    "    values=test_labels[:, 0],\n",
    "    start=offset,\n",
    "    label=\"Test Data\"\n",
    ")\n",
    "\n",
    "plot_time_series(\n",
    "    timestamps=X_test[-len(test_windows):],\n",
    "    values=model_2_preds,\n",
    "    start=offset,\n",
    "    label=\"Model 2 Preds\"\n",
    ")"
   ]
  },
  {
   "attachments": {},
   "cell_type": "markdown",
   "metadata": {},
   "source": [
    "### Model 3 - Dense model (window = 30, horizon = 7)"
   ]
  },
  {
   "cell_type": "code",
   "execution_count": 53,
   "metadata": {},
   "outputs": [],
   "source": [
    "# Hyperparameters\n",
    "HORIZON = 7\n",
    "WINDOW_SIZE = 30"
   ]
  },
  {
   "cell_type": "code",
   "execution_count": 54,
   "metadata": {},
   "outputs": [
    {
     "data": {
      "text/plain": [
       "(2751, 2751)"
      ]
     },
     "execution_count": 54,
     "metadata": {},
     "output_type": "execute_result"
    }
   ],
   "source": [
    "# Making windows data\n",
    "full_windows, full_labels = make_windows(\n",
    "    prices,\n",
    "    window_size=WINDOW_SIZE,\n",
    "    horizon=HORIZON\n",
    ")\n",
    "len(full_windows), len(full_labels)"
   ]
  },
  {
   "cell_type": "code",
   "execution_count": 55,
   "metadata": {},
   "outputs": [
    {
     "data": {
      "text/plain": [
       "(2200, 551, 2200, 551)"
      ]
     },
     "execution_count": 55,
     "metadata": {},
     "output_type": "execute_result"
    }
   ],
   "source": [
    "# Making train and test windows\n",
    "train_windows, test_windows, train_labels, test_labels = make_train_test_splits(\n",
    "    windows=full_windows,\n",
    "    labels=full_labels,\n",
    "    test_split=0.2\n",
    ")\n",
    "len(train_windows), len(test_windows), len(train_labels), len(test_labels)"
   ]
  },
  {
   "cell_type": "code",
   "execution_count": 56,
   "metadata": {},
   "outputs": [
    {
     "name": "stdout",
     "output_type": "stream",
     "text": [
      "INFO:tensorflow:Assets written to: model_experiments\\model_3_dense\\assets\n",
      "INFO:tensorflow:Assets written to: model_experiments\\model_3_dense\\assets\n",
      "INFO:tensorflow:Assets written to: model_experiments\\model_3_dense\\assets\n",
      "INFO:tensorflow:Assets written to: model_experiments\\model_3_dense\\assets\n",
      "INFO:tensorflow:Assets written to: model_experiments\\model_3_dense\\assets\n",
      "INFO:tensorflow:Assets written to: model_experiments\\model_3_dense\\assets\n",
      "INFO:tensorflow:Assets written to: model_experiments\\model_3_dense\\assets\n",
      "INFO:tensorflow:Assets written to: model_experiments\\model_3_dense\\assets\n",
      "INFO:tensorflow:Assets written to: model_experiments\\model_3_dense\\assets\n",
      "INFO:tensorflow:Assets written to: model_experiments\\model_3_dense\\assets\n",
      "INFO:tensorflow:Assets written to: model_experiments\\model_3_dense\\assets\n",
      "INFO:tensorflow:Assets written to: model_experiments\\model_3_dense\\assets\n",
      "INFO:tensorflow:Assets written to: model_experiments\\model_3_dense\\assets\n",
      "INFO:tensorflow:Assets written to: model_experiments\\model_3_dense\\assets\n",
      "INFO:tensorflow:Assets written to: model_experiments\\model_3_dense\\assets\n",
      "INFO:tensorflow:Assets written to: model_experiments\\model_3_dense\\assets\n",
      "INFO:tensorflow:Assets written to: model_experiments\\model_3_dense\\assets\n",
      "INFO:tensorflow:Assets written to: model_experiments\\model_3_dense\\assets\n",
      "INFO:tensorflow:Assets written to: model_experiments\\model_3_dense\\assets\n",
      "INFO:tensorflow:Assets written to: model_experiments\\model_3_dense\\assets\n",
      "INFO:tensorflow:Assets written to: model_experiments\\model_3_dense\\assets\n",
      "INFO:tensorflow:Assets written to: model_experiments\\model_3_dense\\assets\n",
      "INFO:tensorflow:Assets written to: model_experiments\\model_3_dense\\assets\n"
     ]
    }
   ],
   "source": [
    "# Creating a model\n",
    "model_3 = tf.keras.Sequential([\n",
    "    layers.Dense(128, activation=\"relu\"),\n",
    "    layers.Dense(HORIZON)\n",
    "], name=\"model_3_dense\")\n",
    "\n",
    "# Compiling the model\n",
    "model_3.compile(\n",
    "    loss=\"mae\",\n",
    "    optimizer=tf.keras.optimizers.Adam(),\n",
    "    metrics=[\"mae\"]\n",
    ")\n",
    "\n",
    "# Fitting the model\n",
    "history_3 = model_3.fit(\n",
    "    train_windows,\n",
    "    train_labels,\n",
    "    epochs=100,\n",
    "    batch_size=128,\n",
    "    verbose=0,\n",
    "    validation_data=(test_windows, test_labels),\n",
    "    callbacks=[create_model_checkpoint(model_name=model_3.name)]\n",
    ")"
   ]
  },
  {
   "cell_type": "code",
   "execution_count": 57,
   "metadata": {},
   "outputs": [
    {
     "name": "stdout",
     "output_type": "stream",
     "text": [
      "18/18 [==============================] - 0s 4ms/step - loss: 1326.2664 - mae: 1326.2664\n"
     ]
    },
    {
     "data": {
      "text/plain": [
       "[1326.266357421875, 1326.266357421875]"
      ]
     },
     "execution_count": 57,
     "metadata": {},
     "output_type": "execute_result"
    }
   ],
   "source": [
    "# Evaluating model 3\n",
    "model_3.evaluate(test_windows, test_labels)"
   ]
  },
  {
   "cell_type": "code",
   "execution_count": 58,
   "metadata": {},
   "outputs": [
    {
     "name": "stdout",
     "output_type": "stream",
     "text": [
      "18/18 [==============================] - 0s 5ms/step\n"
     ]
    },
    {
     "data": {
      "text/plain": [
       "<tf.Tensor: shape=(3, 7), dtype=float32, numpy=\n",
       "array([[9255.955 , 9178.522 , 9083.936 , 9248.64  , 9202.789 , 9339.381 ,\n",
       "        9146.415 ],\n",
       "       [8769.312 , 8791.857 , 8861.8955, 9082.627 , 8853.502 , 8853.644 ,\n",
       "        8888.793 ],\n",
       "       [8603.942 , 8843.108 , 8941.346 , 9067.371 , 8716.259 , 8588.802 ,\n",
       "        8762.202 ]], dtype=float32)>"
      ]
     },
     "execution_count": 58,
     "metadata": {},
     "output_type": "execute_result"
    }
   ],
   "source": [
    "# Making predictions with model 3\n",
    "model_3_preds = make_preds(\n",
    "    model_3,\n",
    "    input_data=test_windows\n",
    ")\n",
    "model_3_preds[:3]"
   ]
  },
  {
   "cell_type": "code",
   "execution_count": 59,
   "metadata": {},
   "outputs": [
    {
     "data": {
      "text/plain": [
       "{'mae': array([ 414.73325 ,  211.27986 ,  221.07283 ,  250.26855 ,  173.3291  ,\n",
       "         278.62787 ,  294.66336 ,  299.8674  ,  407.95166 ,  409.55197 ,\n",
       "         506.75278 ,  572.7226  ,  670.5959  ,  757.41895 ,  475.01834 ,\n",
       "         207.32108 ,  254.0364  ,  472.69504 ,  465.9246  ,  494.10944 ,\n",
       "         290.21762 ,  162.31104 ,  142.71422 ,  150.29381 ,  165.04666 ,\n",
       "         249.7115  ,  353.33322 ,  361.63406 ,  173.67348 ,  140.5865  ,\n",
       "         121.01423 ,  256.01297 ,  153.40262 ,  173.28871 ,  204.85226 ,\n",
       "         245.6199  ,  267.69266 ,  268.27057 ,  268.41617 ,  402.59555 ,\n",
       "         714.75775 ,  237.13477 ,  253.63567 ,  191.97768 ,  126.46917 ,\n",
       "         183.69943 ,  168.13498 ,  154.19789 ,  232.49861 ,  133.62318 ,\n",
       "         189.70627 ,  180.36873 ,  187.4675  ,  181.64949 ,  401.8748  ,\n",
       "         503.09006 ,  715.04694 ,  696.08545 ,  787.3537  ,  668.63184 ,\n",
       "         473.2308  ,  432.0835  ,  279.26367 ,  481.652   ,  609.20026 ,\n",
       "         624.18066 ,  583.9175  ,  715.60504 ,  351.6395  ,   96.22782 ,\n",
       "         159.32617 ,  246.39844 ,  382.04172 ,  264.65945 ,  199.79897 ,\n",
       "         312.60953 ,  394.14606 ,  574.13165 ,  775.4832  ,  922.8647  ,\n",
       "         919.2335  ,  830.67255 ,  478.02176 ,  178.31668 ,  230.00307 ,\n",
       "         284.7108  ,  327.62863 ,  408.68527 ,  679.68097 ,  862.03613 ,\n",
       "         672.0677  ,  673.316   ,  541.92413 ,  333.47586 ,  176.16379 ,\n",
       "         273.96262 ,  249.0978  ,  320.80692 ,  441.61664 ,  551.28235 ,\n",
       "         232.23215 ,  196.7387  ,  249.45955 ,  132.0007  ,  168.87639 ,\n",
       "         263.40988 ,  379.1084  ,  455.75516 ,  761.9989  ,  719.3439  ,\n",
       "         563.91223 ,  200.22559 ,  303.9968  ,  409.06723 ,  418.6027  ,\n",
       "         441.64236 ,  331.6086  ,  363.199   ,  519.32043 ,  895.6773  ,\n",
       "        1353.9395  , 1922.0167  , 1753.2626  , 1771.2502  , 2035.7196  ,\n",
       "        2225.8772  , 1057.7593  ,  634.0917  ,  498.38406 ,  456.55795 ,\n",
       "         490.7348  ,  524.6618  ,  473.79108 ,  366.5778  ,  260.41595 ,\n",
       "         223.15834 ,  417.62857 ,  326.91336 ,  149.28474 ,  330.64886 ,\n",
       "         269.74707 ,  371.20074 ,  494.61377 ,  631.67316 ,  710.7631  ,\n",
       "         547.16205 ,  385.35107 ,  268.4349  ,  264.9139  ,  212.91127 ,\n",
       "         227.75266 ,  216.38484 ,  404.88226 ,  461.248   ,  373.17535 ,\n",
       "         213.42258 ,  278.2602  ,  272.4207  ,  304.02972 ,  247.8409  ,\n",
       "         533.6417  ,  377.8189  ,  293.99295 ,  277.4926  ,  336.42996 ,\n",
       "         504.62387 ,  744.58295 ,  961.0587  ,  739.48376 ,  697.78625 ,\n",
       "         941.78656 , 1095.7377  , 1062.8676  , 1234.6276  ,  661.10706 ,\n",
       "         394.58453 ,  463.68527 ,  488.41    ,  457.09668 ,  444.4456  ,\n",
       "         468.55328 ,  492.6946  ,  691.3531  ,  787.588   ,  602.0869  ,\n",
       "         365.34808 ,  686.52985 ,  977.9258  ,  663.5445  ,  120.25865 ,\n",
       "         128.21555 ,  267.40933 ,  241.60115 ,  400.41812 ,  439.3934  ,\n",
       "         355.8182  ,  271.24692 ,  487.54617 ,  436.53473 ,  426.69434 ,\n",
       "         632.73016 ,  951.2984  ,  931.6197  ,  597.67633 ,  498.60547 ,\n",
       "         220.88477 ,  307.97183 ,  305.26675 ,  213.06961 ,  299.96945 ,\n",
       "         169.97307 ,  221.69377 ,  115.56041 ,  174.19852 ,  166.48647 ,\n",
       "         216.56947 ,  258.06656 ,  130.25252 ,  108.57171 ,  125.2207  ,\n",
       "         239.58691 ,  213.24428 ,  233.08846 ,  257.35562 ,  230.0498  ,\n",
       "         263.86523 ,  263.3934  ,  245.82785 ,  191.09026 ,  233.81152 ,\n",
       "         180.83566 ,   85.75823 ,  195.02748 ,  305.20535 ,  258.5593  ,\n",
       "         294.3178  ,  220.52092 ,  212.32994 ,  290.3284  ,  305.37192 ,\n",
       "         266.9615  ,  434.95508 ,  275.36996 ,  214.54617 ,  116.405136,\n",
       "         124.71931 ,  120.93346 ,  122.188194,  185.65457 ,  148.29855 ,\n",
       "         165.73367 ,  225.52637 ,  305.07547 ,  354.3259  ,  463.93066 ,\n",
       "         543.92413 ,  843.362   ,  924.2358  ,  969.7232  , 1073.0109  ,\n",
       "        1308.545   , 1550.7875  , 1514.1964  ,  624.7206  ,  398.1663  ,\n",
       "         185.36217 ,  302.89508 ,  397.7719  ,  341.7263  ,  252.0699  ,\n",
       "         397.78305 ,  458.15973 ,  246.44518 ,  161.65904 ,  220.21178 ,\n",
       "         171.61063 ,  254.22656 ,  343.45465 ,  436.6589  ,  496.4382  ,\n",
       "         491.91867 ,  301.6896  ,  248.96094 ,  224.23047 ,  223.50334 ,\n",
       "         199.07059 ,  138.76535 ,   79.03376 ,  182.83064 ,  154.99707 ,\n",
       "         272.7136  ,  229.94768 ,  345.7645  ,  443.11356 ,  550.731   ,\n",
       "         404.19644 ,  504.43988 ,  657.1249  ,  899.2719  , 1195.3722  ,\n",
       "        1031.0852  ,  491.8902  ,  251.22209 ,  394.76492 ,  524.70734 ,\n",
       "         339.06363 ,  595.9008  ,  620.9083  ,  622.3422  ,  626.9284  ,\n",
       "         617.8735  ,  814.94055 ,  583.059   ,  254.35338 ,  146.02664 ,\n",
       "         179.69629 ,  203.15067 ,  222.45187 ,  248.32478 ,  350.25473 ,\n",
       "         315.48312 ,  623.314   ,  382.92926 ,  132.05092 ,  102.87877 ,\n",
       "          91.00795 ,  143.07812 ,  218.86496 ,  179.32883 ,  175.50432 ,\n",
       "         338.98926 ,  502.95425 ,  608.0727  ,  644.644   ,  829.3432  ,\n",
       "         949.80383 ,  848.3111  ,  677.8433  ,  291.2581  ,  265.43082 ,\n",
       "         179.78711 ,  253.01353 ,  558.25726 ,  725.529   ,  998.6331  ,\n",
       "        1301.5623  , 1462.5549  , 1387.322   , 1380.1373  ,  568.01825 ,\n",
       "         230.95717 ,  280.17145 ,  352.01242 ,  547.41296 ,  547.8008  ,\n",
       "         258.6356  ,  456.54184 ,  637.7037  ,  868.9951  ,  921.3735  ,\n",
       "        1020.2333  , 1279.9904  , 1498.9742  , 1433.7284  ,  631.6159  ,\n",
       "         456.19547 ,  702.66394 ,  523.16364 ,  852.0717  , 1184.9744  ,\n",
       "        1094.9651  , 1050.2511  , 1276.6573  , 1520.9977  , 2175.4988  ,\n",
       "        1903.1974  , 1284.7682  ,  939.16016 ,  580.7949  ,  484.00278 ,\n",
       "         660.80774 ,  626.6839  ,  831.9883  ,  973.65985 , 1117.7305  ,\n",
       "        1135.4994  , 1912.5677  , 1934.8099  , 1584.2765  ,  465.57422 ,\n",
       "         320.95425 ,  281.2112  ,  413.31558 ,  287.9012  ,  386.54605 ,\n",
       "         447.125   ,  612.9872  ,  769.8175  , 1229.5022  , 2006.508   ,\n",
       "        2831.4807  , 3100.0234  , 3368.1323  , 3677.7385  , 3942.023   ,\n",
       "        2749.0876  , 1156.7131  ,  536.8393  ,  850.7673  , 1250.6487  ,\n",
       "        1662.4874  , 2176.2827  , 3086.5356  , 3416.8457  , 3504.299   ,\n",
       "        2974.4922  , 2934.1956  , 3011.438   , 3980.8777  , 3698.3113  ,\n",
       "        4179.374   , 5535.2256  , 5111.125   , 4647.303   , 5270.0166  ,\n",
       "        3992.2278  , 3029.8677  , 2104.6567  , 3416.8542  , 4467.4224  ,\n",
       "        4200.0015  ,  549.50336 , 2690.9675  , 1035.8225  , 1845.0547  ,\n",
       "        1981.7606  , 1801.865   , 2353.5972  , 2934.6392  , 3217.176   ,\n",
       "        3321.285   ,  995.11804 , 1352.0642  , 2086.595   , 2198.1624  ,\n",
       "        1620.7537  , 2502.4648  , 3923.3862  , 3804.656   , 2947.2769  ,\n",
       "        3055.8503  , 3618.6323  , 5486.4995  , 6200.321   , 5448.2705  ,\n",
       "        6561.4116  , 7269.0303  , 6088.3794  , 7511.371   , 4808.313   ,\n",
       "        1632.4447  , 1905.0675  , 1966.0095  , 2440.5442  , 3328.3433  ,\n",
       "        3866.692   , 5028.564   , 3880.957   , 2204.2153  , 3309.2388  ,\n",
       "        4546.3667  , 6517.2915  , 8723.938   , 8465.086   , 3348.0378  ,\n",
       "        2022.6914  , 2296.5134  , 3425.3494  , 2563.362   , 5112.9185  ,\n",
       "        3537.437   , 3418.7114  , 3213.289   , 3882.8699  , 5471.86    ,\n",
       "        7369.599   , 7977.8525  , 7651.5225  , 5759.5625  , 3848.573   ,\n",
       "        2032.9698  , 2015.6111  , 1099.3822  , 2154.0151  , 1356.6083  ,\n",
       "        1364.8572  , 1764.5892  , 3207.2036  , 3614.9102  , 3368.308   ,\n",
       "        3907.448   , 2142.484   , 2589.1614  , 3911.1824  , 5172.432   ,\n",
       "        5298.6597  , 3624.3928  , 3659.6423  , 2734.3064  , 2478.9175  ,\n",
       "         883.5993  ,  758.59875 ,  882.44305 , 1725.7288  , 1637.6122  ,\n",
       "        2269.7253  , 2686.2292  , 3864.5574  , 4762.847   , 5335.5024  ,\n",
       "        3388.6233  , 2404.4553  , 2673.6003  , 2981.9006  , 5004.071   ,\n",
       "        5971.8447  , 6938.6665  , 6701.386   , 4260.747   , 3013.803   ,\n",
       "        3244.26    , 2726.384   , 2432.7817  , 3826.8801  , 4715.404   ,\n",
       "        7074.703   , 5303.6416  , 2809.9832  , 2403.7925  , 3602.4778  ,\n",
       "        2618.3716  , 1575.1786  , 2139.0925  , 2161.4631  , 3982.9805  ,\n",
       "        1896.1189  , 2536.1406  , 2760.7964  , 5449.6494  , 6639.6943  ,\n",
       "        7072.718   ], dtype=float32),\n",
       " 'mse': array([2.04155750e+05, 5.86872305e+04, 6.79668125e+04, 8.11801797e+04,\n",
       "        4.02330273e+04, 9.26064844e+04, 1.03995391e+05, 1.21177414e+05,\n",
       "        2.61788281e+05, 2.40556125e+05, 3.86242719e+05, 4.32892219e+05,\n",
       "        5.11801250e+05, 6.39476312e+05, 2.84115344e+05, 5.99275352e+04,\n",
       "        1.02953523e+05, 2.80459812e+05, 2.38330359e+05, 2.63455938e+05,\n",
       "        9.19221797e+04, 5.03168203e+04, 2.16194336e+04, 2.76372832e+04,\n",
       "        3.68797109e+04, 9.17904375e+04, 1.61734734e+05, 1.39072359e+05,\n",
       "        4.04431875e+04, 2.09372188e+04, 2.06169492e+04, 7.11417500e+04,\n",
       "        3.86731328e+04, 5.57293555e+04, 6.57285859e+04, 8.72154297e+04,\n",
       "        1.31073594e+05, 9.14592344e+04, 1.08355297e+05, 1.87118750e+05,\n",
       "        5.30971625e+05, 7.12127656e+04, 7.46991406e+04, 4.79263047e+04,\n",
       "        2.09559434e+04, 5.68418203e+04, 4.77346992e+04, 3.56358047e+04,\n",
       "        5.97396758e+04, 2.51697988e+04, 4.86809180e+04, 5.80089609e+04,\n",
       "        4.69239062e+04, 5.86159336e+04, 2.49379203e+05, 4.25797438e+05,\n",
       "        6.42767062e+05, 5.89414188e+05, 7.04916188e+05, 4.83820156e+05,\n",
       "        2.53167156e+05, 2.90941594e+05, 1.73592016e+05, 3.65105469e+05,\n",
       "        5.54382625e+05, 5.06798344e+05, 4.02900219e+05, 5.27889375e+05,\n",
       "        1.39853297e+05, 1.31561426e+04, 3.32687617e+04, 6.77665469e+04,\n",
       "        1.63247375e+05, 9.88814297e+04, 4.98712930e+04, 1.33672109e+05,\n",
       "        1.96777469e+05, 5.66674438e+05, 8.56721125e+05, 9.67813000e+05,\n",
       "        9.01933000e+05, 7.20187000e+05, 2.36899000e+05, 6.59644609e+04,\n",
       "        7.37380547e+04, 1.10245852e+05, 1.41304891e+05, 2.62335062e+05,\n",
       "        5.89125312e+05, 8.57962000e+05, 5.60380500e+05, 5.59271938e+05,\n",
       "        3.59877688e+05, 1.40799906e+05, 4.68569570e+04, 9.74171641e+04,\n",
       "        7.83301406e+04, 1.60997844e+05, 2.46434172e+05, 3.35848750e+05,\n",
       "        8.91336875e+04, 5.30429023e+04, 1.07522836e+05, 3.14022188e+04,\n",
       "        6.00788867e+04, 1.06328320e+05, 1.82417016e+05, 2.67920531e+05,\n",
       "        7.25789500e+05, 6.10269312e+05, 3.53477312e+05, 6.10546445e+04,\n",
       "        1.24899023e+05, 2.36960109e+05, 2.48319125e+05, 2.34648734e+05,\n",
       "        1.30857375e+05, 1.42727875e+05, 2.85233906e+05, 1.48610600e+06,\n",
       "        3.13618150e+06, 4.99354300e+06, 4.41605700e+06, 4.21405300e+06,\n",
       "        4.68855150e+06, 5.00558400e+06, 1.33531062e+06, 4.88762562e+05,\n",
       "        2.94578312e+05, 2.21452484e+05, 3.14812250e+05, 3.76028312e+05,\n",
       "        3.03465500e+05, 1.56632266e+05, 1.05539773e+05, 7.03008281e+04,\n",
       "        2.17418891e+05, 1.34457094e+05, 4.36913945e+04, 2.15624094e+05,\n",
       "        1.31777922e+05, 1.70801781e+05, 3.03771656e+05, 4.47636000e+05,\n",
       "        6.30358125e+05, 3.25160281e+05, 1.80145906e+05, 1.66739594e+05,\n",
       "        8.86918203e+04, 6.02452227e+04, 7.27742734e+04, 7.48743906e+04,\n",
       "        2.25422266e+05, 2.82769750e+05, 1.71342172e+05, 5.78667812e+04,\n",
       "        1.00573984e+05, 1.13268133e+05, 1.31918188e+05, 7.95533750e+04,\n",
       "        3.20592344e+05, 2.14655500e+05, 1.23643141e+05, 9.02931328e+04,\n",
       "        1.39215172e+05, 3.16935156e+05, 6.15323125e+05, 1.20058625e+06,\n",
       "        9.05042812e+05, 8.80488938e+05, 1.29838625e+06, 1.51515338e+06,\n",
       "        1.27513525e+06, 1.53500862e+06, 4.93712156e+05, 2.75493906e+05,\n",
       "        3.78477531e+05, 3.75518281e+05, 3.45562938e+05, 2.73592531e+05,\n",
       "        3.30776594e+05, 2.61219734e+05, 6.94564938e+05, 9.27190312e+05,\n",
       "        5.37067938e+05, 1.79371953e+05, 5.58748875e+05, 1.01629212e+06,\n",
       "        4.99410312e+05, 1.86164395e+04, 2.76793066e+04, 8.10565469e+04,\n",
       "        7.78602656e+04, 2.13891750e+05, 2.39449344e+05, 1.67229797e+05,\n",
       "        1.11536500e+05, 3.06232281e+05, 2.94990281e+05, 2.59440250e+05,\n",
       "        5.75887125e+05, 1.03788712e+06, 9.86910312e+05, 4.13488781e+05,\n",
       "        3.47015969e+05, 8.93076953e+04, 1.59863281e+05, 1.21890234e+05,\n",
       "        4.90525430e+04, 1.23950930e+05, 4.21413750e+04, 7.17376406e+04,\n",
       "        1.65790508e+04, 5.47304688e+04, 4.10400625e+04, 6.42941055e+04,\n",
       "        8.98142422e+04, 2.83850410e+04, 1.62023389e+04, 2.04323262e+04,\n",
       "        7.04575312e+04, 6.71607734e+04, 9.15434297e+04, 8.91515781e+04,\n",
       "        8.92918672e+04, 8.88126641e+04, 9.40782969e+04, 9.28344297e+04,\n",
       "        4.29741250e+04, 9.47236875e+04, 4.49867852e+04, 1.39690703e+04,\n",
       "        5.27609180e+04, 1.04174664e+05, 8.02046406e+04, 1.18359453e+05,\n",
       "        8.11629609e+04, 7.19409844e+04, 1.36069391e+05, 1.29753680e+05,\n",
       "        7.77725156e+04, 2.04845969e+05, 9.28453750e+04, 7.93275156e+04,\n",
       "        1.65138926e+04, 2.01599004e+04, 1.89009980e+04, 2.03629219e+04,\n",
       "        4.25950859e+04, 3.21788770e+04, 4.05446250e+04, 1.05757297e+05,\n",
       "        1.64182094e+05, 1.97024297e+05, 2.76408094e+05, 3.66944844e+05,\n",
       "        1.11238362e+06, 1.41454012e+06, 1.60207200e+06, 1.71339800e+06,\n",
       "        2.15402050e+06, 2.69622875e+06, 2.40089950e+06, 4.85155344e+05,\n",
       "        1.82092172e+05, 7.41526094e+04, 1.39106859e+05, 1.88907891e+05,\n",
       "        1.64352328e+05, 7.78826250e+04, 2.05525672e+05, 2.31176422e+05,\n",
       "        8.49071719e+04, 3.93633086e+04, 7.11753203e+04, 4.59724805e+04,\n",
       "        8.91788047e+04, 1.54114328e+05, 2.86727344e+05, 3.18711438e+05,\n",
       "        2.77577719e+05, 1.31896797e+05, 7.85955703e+04, 1.06266938e+05,\n",
       "        7.25516172e+04, 5.06971914e+04, 2.33671973e+04, 8.82216895e+03,\n",
       "        4.55787695e+04, 3.01309590e+04, 1.07345984e+05, 7.37819062e+04,\n",
       "        1.93025359e+05, 2.79019594e+05, 3.56421938e+05, 1.74332969e+05,\n",
       "        3.42948062e+05, 5.53111188e+05, 9.48423438e+05, 1.66884688e+06,\n",
       "        1.13638525e+06, 2.88041969e+05, 8.57107578e+04, 2.14447641e+05,\n",
       "        3.61518281e+05, 1.88031359e+05, 4.51577781e+05, 5.42177375e+05,\n",
       "        4.94741344e+05, 4.64571281e+05, 4.38661719e+05, 7.01197938e+05,\n",
       "        3.72507438e+05, 9.32162344e+04, 3.85143320e+04, 5.66377695e+04,\n",
       "        5.18428242e+04, 9.98333828e+04, 7.95827891e+04, 1.57341969e+05,\n",
       "        1.25145359e+05, 4.03620188e+05, 1.73962719e+05, 2.15584863e+04,\n",
       "        1.93589219e+04, 1.58102256e+04, 3.34449297e+04, 5.60526523e+04,\n",
       "        4.94445664e+04, 5.54867422e+04, 1.91922484e+05, 4.33983688e+05,\n",
       "        5.81427562e+05, 6.75250438e+05, 8.46163500e+05, 9.94795438e+05,\n",
       "        7.58269562e+05, 4.79554938e+05, 1.02427789e+05, 9.29394453e+04,\n",
       "        4.57283750e+04, 9.36469141e+04, 6.84467562e+05, 1.11211925e+06,\n",
       "        1.65616625e+06, 2.28277975e+06, 2.53952275e+06, 2.07124875e+06,\n",
       "        2.00812825e+06, 4.28817406e+05, 9.97702266e+04, 1.04022328e+05,\n",
       "        1.88274969e+05, 3.79806438e+05, 4.30014688e+05, 1.00719234e+05,\n",
       "        3.18402500e+05, 9.88724125e+05, 1.70133588e+06, 1.47403925e+06,\n",
       "        1.71715300e+06, 2.02277388e+06, 2.46703475e+06, 2.22735375e+06,\n",
       "        6.01945500e+05, 3.25937312e+05, 7.25947000e+05, 3.79242219e+05,\n",
       "        9.20183562e+05, 1.91637588e+06, 1.90591075e+06, 1.89144925e+06,\n",
       "        2.48637750e+06, 3.25809325e+06, 5.21198900e+06, 3.85533800e+06,\n",
       "        1.82425962e+06, 9.89090000e+05, 4.40325562e+05, 4.55598406e+05,\n",
       "        7.69891375e+05, 7.77152312e+05, 1.05225525e+06, 1.48155312e+06,\n",
       "        1.42259375e+06, 1.98978962e+06, 4.11584625e+06, 3.98757775e+06,\n",
       "        2.54839050e+06, 2.48268984e+05, 1.58480359e+05, 1.13353750e+05,\n",
       "        2.00584250e+05, 1.14573953e+05, 2.18311109e+05, 2.82877688e+05,\n",
       "        4.55455562e+05, 8.41314312e+05, 2.94576150e+06, 7.10719700e+06,\n",
       "        1.14585310e+07, 1.36067250e+07, 1.44627260e+07, 1.56231570e+07,\n",
       "        1.60256910e+07, 7.67482400e+06, 1.41227988e+06, 5.27742750e+05,\n",
       "        1.42329825e+06, 2.74395550e+06, 4.78198150e+06, 7.16680400e+06,\n",
       "        1.26591180e+07, 1.39820430e+07, 1.45849060e+07, 1.32795630e+07,\n",
       "        1.39135820e+07, 1.27488510e+07, 1.94585940e+07, 1.92969880e+07,\n",
       "        2.76261480e+07, 4.28902480e+07, 3.78304720e+07, 2.87484540e+07,\n",
       "        3.24811940e+07, 2.08365020e+07, 1.15021090e+07, 6.96173550e+06,\n",
       "        1.67415220e+07, 2.30968520e+07, 1.93772300e+07, 7.73518188e+05,\n",
       "        7.59726500e+06, 2.01580575e+06, 6.63558050e+06, 6.75585100e+06,\n",
       "        7.38874400e+06, 8.13754000e+06, 1.09499700e+07, 1.16479760e+07,\n",
       "        1.25021970e+07, 1.44031138e+06, 4.23972750e+06, 6.83320350e+06,\n",
       "        5.94996100e+06, 3.34824750e+06, 7.82195100e+06, 1.85874100e+07,\n",
       "        1.92496640e+07, 1.16863140e+07, 1.41817210e+07, 1.70241820e+07,\n",
       "        3.68469040e+07, 5.43186760e+07, 4.49041240e+07, 5.61142680e+07,\n",
       "        6.66667000e+07, 4.42205520e+07, 5.88778240e+07, 2.53794780e+07,\n",
       "        3.36314275e+06, 6.16167900e+06, 7.24828500e+06, 1.14639610e+07,\n",
       "        1.63236420e+07, 2.33998120e+07, 3.16584680e+07, 1.96808800e+07,\n",
       "        5.71158450e+06, 1.23500210e+07, 2.90908860e+07, 5.40701440e+07,\n",
       "        8.48199280e+07, 7.50448480e+07, 1.59935150e+07, 6.07793950e+06,\n",
       "        6.64450800e+06, 1.54992860e+07, 8.15955500e+06, 2.97318500e+07,\n",
       "        1.49948950e+07, 1.76688100e+07, 2.16196760e+07, 2.42696980e+07,\n",
       "        4.02415000e+07, 6.78901200e+07, 7.42876000e+07, 6.41847560e+07,\n",
       "        3.60613360e+07, 1.78378820e+07, 5.61448250e+06, 4.61252300e+06,\n",
       "        2.10920850e+06, 5.48441250e+06, 5.12473550e+06, 2.33839125e+06,\n",
       "        6.06800300e+06, 1.35908730e+07, 1.69753480e+07, 1.63083990e+07,\n",
       "        1.97986520e+07, 6.96922350e+06, 9.82423900e+06, 2.03782340e+07,\n",
       "        3.10964520e+07, 3.20573180e+07, 1.50398630e+07, 1.41181770e+07,\n",
       "        8.29976000e+06, 6.52475200e+06, 1.27764375e+06, 6.80932125e+05,\n",
       "        1.36109225e+06, 3.96352275e+06, 3.78323875e+06, 7.25878250e+06,\n",
       "        1.27766910e+07, 2.00427480e+07, 2.86015540e+07, 3.23031860e+07,\n",
       "        1.31593830e+07, 6.51572550e+06, 8.49941900e+06, 1.26644870e+07,\n",
       "        3.30595420e+07, 4.48869680e+07, 5.61650600e+07, 4.98379080e+07,\n",
       "        2.26338720e+07, 1.22428320e+07, 1.47365140e+07, 1.04813090e+07,\n",
       "        7.49100250e+06, 1.86062920e+07, 3.02170140e+07, 5.37587760e+07,\n",
       "        3.04341980e+07, 9.81139400e+06, 7.71557900e+06, 1.49442290e+07,\n",
       "        8.46951100e+06, 4.16488975e+06, 5.52859200e+06, 7.00199950e+06,\n",
       "        1.73387460e+07, 4.24426050e+06, 7.67928100e+06, 1.01173060e+07,\n",
       "        4.27870520e+07, 5.77121600e+07, 6.12543680e+07], dtype=float32),\n",
       " 'rmse': array([ 451.83597 ,  242.25447 ,  260.70447 ,  284.92136 ,  200.58173 ,\n",
       "         304.31314 ,  322.48315 ,  348.10547 ,  511.6525  ,  490.4652  ,\n",
       "         621.4843  ,  657.94543 ,  715.40283 ,  799.6726  ,  533.0247  ,\n",
       "         244.80101 ,  320.8637  ,  529.5846  ,  488.19092 ,  513.2796  ,\n",
       "         303.1867  ,  224.31412 ,  147.03548 ,  166.24464 ,  192.04091 ,\n",
       "         302.96936 ,  402.16257 ,  372.92407 ,  201.10492 ,  144.69699 ,\n",
       "         143.58603 ,  266.72412 ,  196.65486 ,  236.07066 ,  256.37585 ,\n",
       "         295.32257 ,  362.04086 ,  302.42227 ,  329.17365 ,  432.57224 ,\n",
       "         728.678   ,  266.8572  ,  273.31143 ,  218.92078 ,  144.76167 ,\n",
       "         238.41522 ,  218.48273 ,  188.77448 ,  244.417   ,  158.64993 ,\n",
       "         220.63753 ,  240.8505  ,  216.61926 ,  242.10728 ,  499.3788  ,\n",
       "         652.53156 ,  801.72754 ,  767.73315 ,  839.5929  ,  695.57184 ,\n",
       "         503.1572  ,  539.39    ,  416.64374 ,  604.23956 ,  744.5687  ,\n",
       "         711.8977  ,  634.7442  ,  726.55994 ,  373.96964 ,  114.700226,\n",
       "         182.39726 ,  260.3201  ,  404.03882 ,  314.45416 ,  223.31882 ,\n",
       "         365.61197 ,  443.59607 ,  752.77783 ,  925.5923  ,  983.7749  ,\n",
       "         949.70154 ,  848.6383  ,  486.72272 ,  256.83548 ,  271.54752 ,\n",
       "         332.0329  ,  375.90543 ,  512.1865  ,  767.545   ,  926.2624  ,\n",
       "         748.5857  ,  747.84485 ,  599.8981  ,  375.23312 ,  216.46468 ,\n",
       "         312.11722 ,  279.8752  ,  401.24536 ,  496.42136 ,  579.5246  ,\n",
       "         298.55264 ,  230.31046 ,  327.90674 ,  177.20671 ,  245.10995 ,\n",
       "         326.08023 ,  427.10306 ,  517.6104  ,  851.9328  ,  781.1974  ,\n",
       "         594.53955 ,  247.09238 ,  353.41055 ,  486.7855  ,  498.31628 ,\n",
       "         484.40555 ,  361.74213 ,  377.79343 ,  534.07294 , 1219.0594  ,\n",
       "        1770.9268  , 2234.6238  , 2101.4417  , 2052.816   , 2165.3064  ,\n",
       "        2237.3162  , 1155.5564  ,  699.11554 ,  542.7507  ,  470.58737 ,\n",
       "         561.0813  ,  613.2115  ,  550.877   ,  395.76794 ,  324.86887 ,\n",
       "         265.14304 ,  466.28198 ,  366.68393 ,  209.02487 ,  464.35342 ,\n",
       "         363.0123  ,  413.2817  ,  551.15485 ,  669.056   ,  793.951   ,\n",
       "         570.2283  ,  424.43597 ,  408.3376  ,  297.8117  ,  245.44902 ,\n",
       "         269.76706 ,  273.63187 ,  474.78656 ,  531.761   ,  413.935   ,\n",
       "         240.55515 ,  317.134   ,  336.5533  ,  363.20544 ,  282.0521  ,\n",
       "         566.20874 ,  463.3093  ,  351.62927 ,  300.48816 ,  373.1155  ,\n",
       "         562.97    ,  784.42535 , 1095.7126  ,  951.3374  ,  938.34375 ,\n",
       "        1139.4675  , 1230.9156  , 1129.2189  , 1238.9546  ,  702.64655 ,\n",
       "         524.8751  ,  615.20526 ,  612.7955  ,  587.846   ,  523.0607  ,\n",
       "         575.13184 ,  511.0966  ,  833.40564 ,  962.9072  ,  732.8492  ,\n",
       "         423.52325 ,  747.49506 , 1008.11316 ,  706.6897  ,  136.44208 ,\n",
       "         166.37099 ,  284.7043  ,  279.03452 ,  462.4843  ,  489.3356  ,\n",
       "         408.9374  ,  333.9708  ,  553.38257 ,  543.13007 ,  509.35278 ,\n",
       "         758.87225 , 1018.76746 ,  993.4336  ,  643.03094 ,  589.0806  ,\n",
       "         298.84393 ,  399.82907 ,  349.1278  ,  221.47809 ,  352.06665 ,\n",
       "         205.28365 ,  267.83884 ,  128.75966 ,  233.94543 ,  202.58347 ,\n",
       "         253.56282 ,  299.69025 ,  168.4786  ,  127.28841 ,  142.94168 ,\n",
       "         265.4384  ,  259.15396 ,  302.56146 ,  298.5826  ,  298.81744 ,\n",
       "         298.01453 ,  306.72186 ,  304.68744 ,  207.30202 ,  307.77213 ,\n",
       "         212.10089 ,  118.19082 ,  229.69745 ,  322.761   ,  283.20422 ,\n",
       "         344.0341  ,  284.89114 ,  268.21817 ,  368.87585 ,  360.21338 ,\n",
       "         278.87723 ,  452.59912 ,  304.70538 ,  281.6514  ,  128.5064  ,\n",
       "         141.98557 ,  137.4809  ,  142.69872 ,  206.38577 ,  179.38472 ,\n",
       "         201.35696 ,  325.20346 ,  405.1939  ,  443.87418 ,  525.7453  ,\n",
       "         605.7597  , 1054.696   , 1189.3444  , 1265.7299  , 1308.9683  ,\n",
       "        1467.6582  , 1642.0198  , 1549.4836  ,  696.53094 ,  426.7226  ,\n",
       "         272.30975 ,  372.9703  ,  434.63535 ,  405.4039  ,  279.0746  ,\n",
       "         453.3494  ,  480.8081  ,  291.38837 ,  198.40189 ,  266.78702 ,\n",
       "         214.41194 ,  298.6282  ,  392.57397 ,  535.4693  ,  564.54535 ,\n",
       "         526.85645 ,  363.176   ,  280.34903 ,  325.9861  ,  269.35406 ,\n",
       "         225.16037 ,  152.86333 ,   93.9264  ,  213.49185 ,  173.58272 ,\n",
       "         327.63696 ,  271.62823 ,  439.34653 ,  528.2231  ,  597.01086 ,\n",
       "         417.53198 ,  585.6177  ,  743.7145  ,  973.87036 , 1291.8386  ,\n",
       "        1066.0137  ,  536.69543 ,  292.764   ,  463.08493 ,  601.2639  ,\n",
       "         433.62582 ,  671.99536 ,  736.32697 ,  703.37854 ,  681.59467 ,\n",
       "         662.3154  ,  837.3756  ,  610.33386 ,  305.31332 ,  196.25069 ,\n",
       "         237.98691 ,  227.6902  ,  315.9642  ,  282.10422 ,  396.66354 ,\n",
       "         353.7589  ,  635.3111  ,  417.08838 ,  146.82808 ,  139.13634 ,\n",
       "         125.738716,  182.87955 ,  236.75441 ,  222.36134 ,  235.55624 ,\n",
       "         438.0896  ,  658.77435 ,  762.514   ,  821.7362  ,  919.87146 ,\n",
       "         997.39435 ,  870.78674 ,  692.499   ,  320.04343 ,  304.8597  ,\n",
       "         213.84193 ,  306.01782 ,  827.32556 , 1054.5707  , 1286.9213  ,\n",
       "        1510.8871  , 1593.588   , 1439.1833  , 1417.0845  ,  654.8415  ,\n",
       "         315.86426 ,  322.52493 ,  433.90665 ,  616.28436 ,  655.75507 ,\n",
       "         317.36295 ,  564.27167 ,  994.34607 , 1304.3527  , 1214.1002  ,\n",
       "        1310.4019  , 1422.2426  , 1570.6797  , 1492.4321  ,  775.85144 ,\n",
       "         570.9092  ,  852.0252  ,  615.8265  ,  959.26196 , 1384.3323  ,\n",
       "        1380.5472  , 1375.2997  , 1576.8251  , 1805.0189  , 2282.978   ,\n",
       "        1963.5015  , 1350.6516  ,  994.53    ,  663.5703  ,  674.9803  ,\n",
       "         877.4346  ,  881.56244 , 1025.7949  , 1217.1907  , 1192.7253  ,\n",
       "        1410.599   , 2028.7549  , 1996.892   , 1596.3679  ,  498.266   ,\n",
       "         398.09592 ,  336.68048 ,  447.86633 ,  338.48773 ,  467.23773 ,\n",
       "         531.8625  ,  674.87445 ,  917.2319  , 1716.3221  , 2665.9326  ,\n",
       "        3385.0452  , 3688.7295  , 3802.989   , 3952.614   , 4003.2102  ,\n",
       "        2770.3472  , 1188.3938  ,  726.45905 , 1193.0206  , 1656.4889  ,\n",
       "        2186.7742  , 2677.0886  , 3557.9653  , 3739.257   , 3819.019   ,\n",
       "        3644.1135  , 3730.0913  , 3570.5532  , 4411.1895  , 4392.8335  ,\n",
       "        5256.058   , 6549.0645  , 6150.648   , 5361.7583  , 5699.2275  ,\n",
       "        4564.7017  , 3391.4758  , 2638.51    , 4091.6404  , 4805.9185  ,\n",
       "        4401.9575  ,  879.49884 , 2756.3137  , 1419.7908  , 2575.9622  ,\n",
       "        2599.202   , 2718.2244  , 2852.6375  , 3309.074   , 3412.913   ,\n",
       "        3535.8445  , 1200.1298  , 2059.0598  , 2614.0398  , 2439.2542  ,\n",
       "        1829.8217  , 2796.7751  , 4311.312   , 4387.444   , 3418.5251  ,\n",
       "        3765.8625  , 4126.037   , 6070.165   , 7370.1206  , 6701.0537  ,\n",
       "        7490.946   , 8164.968   , 6649.8535  , 7673.1885  , 5037.8047  ,\n",
       "        1833.8873  , 2482.273   , 2692.264   , 3385.8472  , 4040.2527  ,\n",
       "        4837.3354  , 5626.586   , 4436.314   , 2389.892   , 3514.2598  ,\n",
       "        5393.5967  , 7353.24    , 9209.773   , 8662.843   , 3999.1892  ,\n",
       "        2465.3477  , 2577.6943  , 3936.9133  , 2856.4934  , 5452.692   ,\n",
       "        3872.3242  , 4203.428   , 4649.6963  , 4926.4287  , 6343.6187  ,\n",
       "        8239.546   , 8619.025   , 8011.539   , 6005.1094  , 4223.4917  ,\n",
       "        2369.49    , 2147.6785  , 1452.3114  , 2341.8823  , 2263.7878  ,\n",
       "        1529.1799  , 2463.3318  , 3686.58    , 4120.115   , 4038.366   ,\n",
       "        4449.5674  , 2639.9287  , 3134.3643  , 4514.2256  , 5576.4194  ,\n",
       "        5661.9185  , 3878.1262  , 3757.4163  , 2880.9304  , 2554.3594  ,\n",
       "        1130.3291  ,  825.1861  , 1166.6586  , 1990.8597  , 1945.0549  ,\n",
       "        2694.213   , 3574.4497  , 4476.9126  , 5348.042   , 5683.5894  ,\n",
       "        3627.5864  , 2552.5918  , 2915.3762  , 3558.72    , 5749.7427  ,\n",
       "        6699.774   , 7494.335   , 7059.5967  , 4757.507   , 3498.9758  ,\n",
       "        3838.8167  , 3237.4849  , 2736.9695  , 4313.501   , 5497.0005  ,\n",
       "        7332.0376  , 5516.7197  , 3132.3145  , 2777.693   , 3865.7766  ,\n",
       "        2910.2424  , 2040.8062  , 2351.296   , 2646.1292  , 4163.982   ,\n",
       "        2060.1604  , 2771.1516  , 3180.7712  , 6541.181   , 7596.852   ,\n",
       "        7826.517   ], dtype=float32),\n",
       " 'mape': array([ 4.7440667 ,  2.4196239 ,  2.519857  ,  2.9056358 ,  2.0316324 ,\n",
       "         3.3196602 ,  3.549829  ,  3.7222762 ,  5.2740088 ,  5.3836546 ,\n",
       "         6.9021597 ,  7.848572  ,  9.233054  , 10.463636  ,  6.6021905 ,\n",
       "         2.8382287 ,  3.3748593 ,  6.306246  ,  6.238303  ,  6.60396   ,\n",
       "         3.8930516 ,  2.1491265 ,  1.9304577 ,  2.0420744 ,  2.2173746 ,\n",
       "         3.3430629 ,  4.7483897 ,  4.890998  ,  2.343761  ,  1.9137243 ,\n",
       "         1.6529305 ,  3.5634491 ,  2.1758127 ,  2.533994  ,  2.9644141 ,\n",
       "         3.506108  ,  3.8767495 ,  3.8498945 ,  3.8153164 ,  5.5916786 ,\n",
       "         9.866227  ,  3.2896175 ,  3.5142593 ,  2.6550741 ,  1.7457025 ,\n",
       "         2.5195239 ,  2.301295  ,  2.1163366 ,  3.2039313 ,  1.8434833 ,\n",
       "         2.612567  ,  2.4673982 ,  2.6146562 ,  2.4626966 ,  5.275102  ,\n",
       "         6.4225435 ,  9.168593  ,  8.812296  ,  9.890021  ,  8.329292  ,\n",
       "         5.8565207 ,  5.1912327 ,  3.2444916 ,  5.588008  ,  6.9667654 ,\n",
       "         7.093586  ,  6.644175  ,  8.143788  ,  3.9947186 ,  1.1034069 ,\n",
       "         1.8413652 ,  2.8727655 ,  4.4930477 ,  3.12844   ,  2.3301747 ,\n",
       "         3.6002073 ,  4.463502  ,  6.227479  ,  8.352618  ,  9.952327  ,\n",
       "         9.854241  ,  8.87417   ,  5.108607  ,  1.8733723 ,  2.4322119 ,\n",
       "         2.9721136 ,  3.401779  ,  4.1437054 ,  6.885518  ,  8.652056  ,\n",
       "         6.656159  ,  6.626486  ,  5.2938504 ,  3.2543995 ,  1.7186202 ,\n",
       "         2.6923966 ,  2.4864693 ,  3.2713335 ,  4.506519  ,  5.6476145 ,\n",
       "         2.3970187 ,  2.0084407 ,  2.5154536 ,  1.3550664 ,  1.8371861 ,\n",
       "         2.8806734 ,  4.178453  ,  5.0756693 ,  8.706834  ,  8.238218  ,\n",
       "         6.468039  ,  2.3047435 ,  3.4399662 ,  4.5765924 ,  4.662302  ,\n",
       "         4.9464045 ,  3.8105607 ,  4.289057  ,  6.2055492 , 13.02689   ,\n",
       "        21.316858  , 31.569866  , 30.769148  , 32.687523  , 37.53102   ,\n",
       "        41.35972   , 19.92632   , 11.841527  ,  8.756453  ,  7.891422  ,\n",
       "         7.956046  ,  8.210875  ,  7.2929025 ,  5.6895313 ,  4.1333666 ,\n",
       "         3.44721   ,  6.3349066 ,  5.0526643 ,  2.3114784 ,  5.345709  ,\n",
       "         4.2734423 ,  5.7899904 ,  7.4740267 ,  9.393567  , 10.309057  ,\n",
       "         7.8817077 ,  5.4454827 ,  3.6976595 ,  3.7182837 ,  3.039279  ,\n",
       "         3.1536217 ,  3.0770051 ,  5.8078647 ,  6.6795955 ,  5.4193206 ,\n",
       "         3.0600266 ,  3.9257991 ,  3.81391   ,  4.269613  ,  3.4857523 ,\n",
       "         7.4975452 ,  5.195698  ,  4.0394893 ,  3.8260963 ,  4.54893   ,\n",
       "         6.6732025 ,  9.7845125 , 12.045968  ,  8.864682  ,  8.079245  ,\n",
       "        10.798149  , 12.475111  , 12.034322  , 13.90387   ,  7.3319116 ,\n",
       "         4.19269   ,  4.82136   ,  5.0620337 ,  4.7203236 ,  4.65678   ,\n",
       "         4.886543  ,  5.2857137 ,  7.740921  ,  8.859895  ,  6.773125  ,\n",
       "         3.9318323 ,  7.1819687 , 10.180855  ,  6.8836083 ,  1.260552  ,\n",
       "         1.3370976 ,  2.830629  ,  2.6100984 ,  4.389871  ,  4.864329  ,\n",
       "         3.9528768 ,  2.9605186 ,  5.2702885 ,  4.650678  ,  4.5197916 ,\n",
       "         6.510838  ,  9.833661  ,  9.578754  ,  6.1159143 ,  5.0534925 ,\n",
       "         2.2235768 ,  3.1031358 ,  3.1528394 ,  2.1888623 ,  3.059732  ,\n",
       "         1.7491211 ,  2.2844436 ,  1.1968244 ,  1.8275833 ,  1.7440325 ,\n",
       "         2.291885  ,  2.7505283 ,  1.3779892 ,  1.1516999 ,  1.329889  ,\n",
       "         2.5519075 ,  2.2543151 ,  2.4406803 ,  2.7113657 ,  2.4241984 ,\n",
       "         2.7958682 ,  2.7903726 ,  2.6090128 ,  2.0631003 ,  2.5652063 ,\n",
       "         1.982281  ,  0.9394755 ,  2.134947  ,  3.3418834 ,  2.827718  ,\n",
       "         3.2063437 ,  2.392485  ,  2.2867234 ,  3.120013  ,  3.282212  ,\n",
       "         2.879528  ,  4.6790156 ,  2.9662917 ,  2.2986782 ,  1.2589259 ,\n",
       "         1.3514981 ,  1.3152517 ,  1.3274359 ,  2.0198212 ,  1.6122285 ,\n",
       "         1.7901139 ,  2.4029026 ,  3.2217867 ,  3.7263322 ,  4.8578773 ,\n",
       "         5.630515  ,  8.252915  ,  8.764606  ,  8.901286  ,  9.750199  ,\n",
       "        11.793203  , 13.780218  , 13.396406  ,  5.4944105 ,  3.5031443 ,\n",
       "         1.604758  ,  2.6058757 ,  3.4318912 ,  3.006581  ,  2.1651042 ,\n",
       "         3.3875844 ,  3.9195445 ,  2.110004  ,  1.3953491 ,  1.9002948 ,\n",
       "         1.4809002 ,  2.1728206 ,  2.881203  ,  3.6244657 ,  4.1279216 ,\n",
       "         4.0978985 ,  2.5154784 ,  2.0824547 ,  1.8598778 ,  1.9107157 ,\n",
       "         1.7114105 ,  1.1903616 ,  0.68804336,  1.582157  ,  1.3409351 ,\n",
       "         2.3584208 ,  1.991566  ,  2.9516344 ,  3.7929184 ,  4.7472053 ,\n",
       "         3.5512128 ,  4.627116  ,  6.202942  ,  8.556622  , 11.60349   ,\n",
       "        10.048608  ,  4.8226366 ,  2.4703653 ,  3.813097  ,  5.0649643 ,\n",
       "         3.2395964 ,  5.6474333 ,  5.788994  ,  5.7673473 ,  5.7869186 ,\n",
       "         5.6655526 ,  7.461398  ,  5.345002  ,  2.342097  ,  1.3765254 ,\n",
       "         1.7070678 ,  1.9140514 ,  2.1311188 ,  2.355722  ,  3.2753873 ,\n",
       "         2.9322462 ,  5.7946744 ,  3.5621252 ,  1.2294351 ,  0.95737773,\n",
       "         0.84935594,  1.3457903 ,  2.0572412 ,  1.6862419 ,  1.6364688 ,\n",
       "         3.1238897 ,  4.550747  ,  5.4491587 ,  5.6757946 ,  7.31007   ,\n",
       "         8.349015  ,  7.42554   ,  5.9212303 ,  2.5395958 ,  2.308331  ,\n",
       "         1.5615954 ,  2.1737528 ,  4.513603  ,  5.691863  ,  7.7954345 ,\n",
       "        10.117507  , 11.311998  , 10.683439  , 10.460575  ,  4.2702193 ,\n",
       "         1.717735  ,  2.090362  ,  2.5839105 ,  4.0107565 ,  3.990547  ,\n",
       "         1.8889232 ,  3.2874174 ,  4.3409476 ,  5.742616  ,  6.1199465 ,\n",
       "         6.671837  ,  8.405691  ,  9.8054085 ,  9.273553  ,  4.011899  ,\n",
       "         2.8746262 ,  4.3800616 ,  3.2580535 ,  5.246103  ,  7.1061916 ,\n",
       "         6.37265   ,  5.980082  ,  7.153175  ,  8.385504  , 11.970549  ,\n",
       "        10.381823  ,  6.9217076 ,  5.0337324 ,  3.1278272 ,  2.7634857 ,\n",
       "         3.7781763 ,  3.603037  ,  4.693607  ,  5.5360136 ,  6.219567  ,\n",
       "         5.943877  , 10.066766  , 10.143353  ,  8.271902  ,  2.4315965 ,\n",
       "         1.6718466 ,  1.4752512 ,  2.2030933 ,  1.5474687 ,  2.0837555 ,\n",
       "         2.4075966 ,  3.2735054 ,  4.055694  ,  6.136614  ,  9.525139  ,\n",
       "        13.152592  , 13.857935  , 14.79803   , 16.000402  , 17.028482  ,\n",
       "        11.778736  ,  4.932306  ,  2.2348645 ,  3.4395013 ,  4.9140863 ,\n",
       "         6.378265  ,  8.239691  , 11.422569  , 12.401637  , 12.450552  ,\n",
       "        10.018972  ,  9.458727  ,  9.62871   , 12.432291  , 10.9917    ,\n",
       "        11.63886   , 14.889094  , 13.232188  , 11.9284525 , 13.638018  ,\n",
       "        10.232045  ,  7.7855206 ,  5.8235893 ,  9.576119  , 12.475926  ,\n",
       "        11.752986  ,  1.5402251 ,  7.302683  ,  2.7843058 ,  5.5485797 ,\n",
       "         5.991528  ,  5.623657  ,  7.2897515 ,  9.10929   , 10.007874  ,\n",
       "        10.504361  ,  3.0619812 ,  4.007863  ,  6.1977882 ,  6.6053705 ,\n",
       "         4.8357224 ,  7.3114624 , 11.154878  , 10.557134  ,  8.051025  ,\n",
       "         8.037961  ,  9.47365   , 13.778131  , 14.671074  , 12.416003  ,\n",
       "        14.648117  , 15.799078  , 13.081434  , 15.945336  , 10.087667  ,\n",
       "         3.3929918 ,  3.831131  ,  3.8872612 ,  4.623904  ,  6.2565923 ,\n",
       "         7.055186  ,  9.190336  ,  7.08881   ,  4.1268377 ,  6.276556  ,\n",
       "         9.383722  , 13.633816  , 18.516989  , 17.977468  ,  7.208137  ,\n",
       "         4.3151627 ,  4.745057  ,  6.9980226 ,  5.2218766 , 10.317192  ,\n",
       "         7.0652733 ,  6.603638  ,  5.9109597 ,  7.036501  ,  9.829329  ,\n",
       "        12.910832  , 13.752855  , 13.157429  ,  9.87541   ,  6.5518103 ,\n",
       "         3.4442728 ,  3.4222217 ,  1.9101331 ,  3.7513971 ,  2.432864  ,\n",
       "         2.3870935 ,  3.2497764 ,  5.924465  ,  6.7097793 ,  6.2977834 ,\n",
       "         7.285073  ,  3.9606209 ,  4.5946302 ,  6.8200746 ,  8.958733  ,\n",
       "         9.100639  ,  6.2211003 ,  6.2787814 ,  4.6650553 ,  4.2404923 ,\n",
       "         1.5086455 ,  1.3101715 ,  1.5183331 ,  2.9560025 ,  2.7878995 ,\n",
       "         3.8479812 ,  4.4141645 ,  6.311431  ,  7.694264  ,  8.601548  ,\n",
       "         5.452103  ,  3.9015348 ,  4.3691745 ,  5.1561465 ,  8.823131  ,\n",
       "        10.810231  , 12.866638  , 12.65115   ,  8.304834  ,  5.89344   ,\n",
       "         6.3851876 ,  5.3400126 ,  4.6356893 ,  7.03393   ,  8.445513  ,\n",
       "        12.678655  ,  9.414456  ,  4.9753666 ,  4.222745  ,  6.3245716 ,\n",
       "         4.597943  ,  2.8048208 ,  3.7531402 ,  3.7854128 ,  6.944717  ,\n",
       "         3.3549092 ,  4.6037655 ,  5.2309012 , 10.821251  , 13.573035  ,\n",
       "        14.995763  ], dtype=float32),\n",
       " 'mase': 2.3600166}"
      ]
     },
     "execution_count": 59,
     "metadata": {},
     "output_type": "execute_result"
    }
   ],
   "source": [
    "# Evaluating model 3 preds\n",
    "model_3_results = evaluate_preds(\n",
    "    y_true=tf.squeeze(test_labels),\n",
    "    y_pred=model_3_preds\n",
    ")\n",
    "model_3_results"
   ]
  },
  {
   "cell_type": "code",
   "execution_count": 60,
   "metadata": {},
   "outputs": [],
   "source": [
    "# Function for evaluation matrix\n",
    "# MAKING IT WORK FOR HIGHER HORIZON\n",
    "def evaluate_preds(y_true, y_pred):\n",
    "\n",
    "    # Ensuring that we use float32 dtype (for metric calculations)\n",
    "    y_true = tf.cast(y_true, dtype=tf.float32)\n",
    "    y_pred = tf.cast(y_pred, dtype=tf.float32)\n",
    "\n",
    "    # Calculating various evaluation metrics\n",
    "    mae = tf.keras.metrics.mean_absolute_error(y_true, y_pred)\n",
    "    mse = tf.keras.metrics.mean_squared_error(y_true, y_pred)\n",
    "    rmse = tf.sqrt(mse)\n",
    "    mape = tf.keras.metrics.mean_absolute_percentage_error(y_true, y_pred)\n",
    "    mase = mean_absolute_scaled_error(y_true, y_pred)\n",
    "\n",
    "    # Account for different size metrics\n",
    "    if mae.ndim > 0:\n",
    "        mae = tf.reduce_mean(mae)\n",
    "        mse = tf.reduce_mean(mse)\n",
    "        rmse = tf.reduce_mean(rmse)\n",
    "        mape = tf.reduce_mean(mape)\n",
    "        mase = tf.reduce_mean(mase)\n",
    "\n",
    "    return {\n",
    "        \"mae\": mae.numpy(),\n",
    "        \"mse\": mse.numpy(),\n",
    "        \"rmse\": rmse.numpy(),\n",
    "        \"mape\": mape.numpy(),\n",
    "        \"mase\": mase.numpy()\n",
    "    }"
   ]
  },
  {
   "cell_type": "code",
   "execution_count": 61,
   "metadata": {},
   "outputs": [
    {
     "data": {
      "text/plain": [
       "{'mae': 1326.2665,\n",
       " 'mse': 5710666.5,\n",
       " 'rmse': 1515.7599,\n",
       " 'mape': 5.88193,\n",
       " 'mase': 2.3600166}"
      ]
     },
     "execution_count": 61,
     "metadata": {},
     "output_type": "execute_result"
    }
   ],
   "source": [
    "# Re-evaluating model 3 preds\n",
    "model_3_results = evaluate_preds(\n",
    "    y_true=tf.squeeze(test_labels),\n",
    "    y_pred=model_3_preds\n",
    ")\n",
    "model_3_results"
   ]
  },
  {
   "cell_type": "code",
   "execution_count": 62,
   "metadata": {},
   "outputs": [
    {
     "data": {
      "image/png": "[encoded data removed]",
      "text/plain": [
       "<Figure size 720x504 with 1 Axes>"
      ]
     },
     "metadata": {
      "needs_background": "light"
     },
     "output_type": "display_data"
    }
   ],
   "source": [
    "# Visualising the data\n",
    "offset = 300\n",
    "plt.figure(figsize=(10, 7))\n",
    "plot_time_series(\n",
    "    timestamps=X_test[-len(test_windows):],\n",
    "    values=test_labels[:, 0],\n",
    "    start=offset,\n",
    "    label=\"Test data\"\n",
    ")\n",
    "plot_time_series(\n",
    "    timestamps=X_test[-len(test_windows):],\n",
    "    values=model_3_preds,\n",
    "    start=offset,\n",
    "    label=\"Model 3 preds\"\n",
    ")"
   ]
  },
  {
   "cell_type": "code",
   "execution_count": 63,
   "metadata": {},
   "outputs": [
    {
     "data": {
      "image/png": "[encoded data removed]",
      "text/plain": [
       "<Figure size 720x504 with 1 Axes>"
      ]
     },
     "metadata": {
      "needs_background": "light"
     },
     "output_type": "display_data"
    }
   ],
   "source": [
    "# Visualising the data\n",
    "offset = 300\n",
    "plt.figure(figsize=(10, 7))\n",
    "plot_time_series(\n",
    "    timestamps=X_test[-len(test_windows):],\n",
    "    values=test_labels[:, 0],\n",
    "    start=offset,\n",
    "    label=\"Test data\"\n",
    ")\n",
    "plot_time_series(\n",
    "    timestamps=X_test[-len(test_windows):],\n",
    "    values=tf.reduce_mean(model_3_preds, axis=1),\n",
    "    start=offset,\n",
    "    label=\"Model 3 preds\"\n",
    ")"
   ]
  },
  {
   "cell_type": "code",
   "execution_count": 64,
   "metadata": {},
   "outputs": [
    {
     "data": {
      "image/png": "[encoded data removed]",
      "text/plain": [
       "<Figure size 720x504 with 1 Axes>"
      ]
     },
     "metadata": {
      "needs_background": "light"
     },
     "output_type": "display_data"
    }
   ],
   "source": [
    "# Comparing models performance\n",
    "pd.DataFrame({\n",
    "    \"naive\": naive_results[\"mae\"],\n",
    "    \"horizon_1_window_7\": model_1_results[\"mae\"],\n",
    "    \"horizon_1_window_30\": model_2_results[\"mae\"],\n",
    "    \"horizon_7_window_30\": model_3_results[\"mae\"]\n",
    "}, index=[\"mae\"]).plot(figsize=(10, 7), kind=\"bar\");"
   ]
  },
  {
   "attachments": {},
   "cell_type": "markdown",
   "metadata": {},
   "source": [
    "### Model 4 - Using Conv1D"
   ]
  },
  {
   "cell_type": "code",
   "execution_count": 65,
   "metadata": {},
   "outputs": [],
   "source": [
    "# Defining horizon and window\n",
    "HORIZON = 1\n",
    "WINDOW_SIZE = 7"
   ]
  },
  {
   "cell_type": "code",
   "execution_count": 66,
   "metadata": {},
   "outputs": [
    {
     "data": {
      "text/plain": [
       "(2780, 2780)"
      ]
     },
     "execution_count": 66,
     "metadata": {},
     "output_type": "execute_result"
    }
   ],
   "source": [
    "# Creating windowed data\n",
    "full_windows,full_labels = make_windows(prices, window_size=WINDOW_SIZE, horizon=HORIZON)\n",
    "len(full_windows), len(full_labels)"
   ]
  },
  {
   "cell_type": "code",
   "execution_count": 67,
   "metadata": {},
   "outputs": [
    {
     "data": {
      "text/plain": [
       "(2224, 2224, 556, 556)"
      ]
     },
     "execution_count": 67,
     "metadata": {},
     "output_type": "execute_result"
    }
   ],
   "source": [
    "# Creating train / test datasets\n",
    "train_windows, test_windows, train_labels, test_labels = make_train_test_splits(full_windows, full_labels)\n",
    "len(train_windows), len(train_labels), len(test_windows), len(test_labels)"
   ]
  },
  {
   "cell_type": "code",
   "execution_count": 68,
   "metadata": {},
   "outputs": [
    {
     "data": {
      "text/plain": [
       "(7,)"
      ]
     },
     "execution_count": 68,
     "metadata": {},
     "output_type": "execute_result"
    }
   ],
   "source": [
    "# Checking data input shape\n",
    "train_windows[0].shape # returns WINDOW_SIZE"
   ]
  },
  {
   "cell_type": "code",
   "execution_count": 69,
   "metadata": {},
   "outputs": [],
   "source": [
    "# Conv1D expects input of (batch_size, timestamps, input_dim)"
   ]
  },
  {
   "cell_type": "code",
   "execution_count": 70,
   "metadata": {},
   "outputs": [
    {
     "data": {
      "text/plain": [
       "<tf.Tensor: shape=(7,), dtype=float64, numpy=\n",
       "array([123.65499, 125.455  , 108.58483, 118.67466, 121.33866, 120.65533,\n",
       "       121.795  ])>"
      ]
     },
     "execution_count": 70,
     "metadata": {},
     "output_type": "execute_result"
    }
   ],
   "source": [
    "# Reshaping the tensor\n",
    "x = tf.constant(train_windows[0])\n",
    "x"
   ]
  },
  {
   "cell_type": "code",
   "execution_count": 71,
   "metadata": {},
   "outputs": [],
   "source": [
    "# Creating Lambda layer\n",
    "expand_dim_layer = layers.Lambda(lambda x: tf.expand_dims(x, axis=1))"
   ]
  },
  {
   "cell_type": "code",
   "execution_count": 72,
   "metadata": {},
   "outputs": [
    {
     "name": "stdout",
     "output_type": "stream",
     "text": [
      "Original shape: (7,)\n",
      "Expanded shape: (7, 1)\n",
      "Original values with expanded shape:\n",
      " [[123.65499]\n",
      " [125.455  ]\n",
      " [108.58483]\n",
      " [118.67466]\n",
      " [121.33866]\n",
      " [120.65533]\n",
      " [121.795  ]]\n"
     ]
    }
   ],
   "source": [
    "# Testing Lambda layer\n",
    "print(f\"Original shape: {x.shape}\") # Output WINDOW_SIZE\n",
    "print(f\"Expanded shape: {expand_dim_layer(x).shape}\")\n",
    "print(f\"Original values with expanded shape:\\n {expand_dim_layer(x)}\")"
   ]
  },
  {
   "cell_type": "code",
   "execution_count": 73,
   "metadata": {},
   "outputs": [
    {
     "name": "stdout",
     "output_type": "stream",
     "text": [
      "Epoch 1/100\n",
      " 9/18 [==============>...............] - ETA: 0s - loss: 2526.9424 "
     ]
    },
    {
     "name": "stderr",
     "output_type": "stream",
     "text": [
      "WARNING:absl:Found untraced functions such as _jit_compiled_convolution_op while saving (showing 1 of 1). These functions will not be directly callable after loading.\n"
     ]
    },
    {
     "name": "stdout",
     "output_type": "stream",
     "text": [
      "INFO:tensorflow:Assets written to: model_experiments\\model_4_Conv1D\\assets\n"
     ]
    },
    {
     "name": "stderr",
     "output_type": "stream",
     "text": [
      "INFO:tensorflow:Assets written to: model_experiments\\model_4_Conv1D\\assets\n"
     ]
    },
    {
     "name": "stdout",
     "output_type": "stream",
     "text": [
      "18/18 [==============================] - 5s 185ms/step - loss: 1887.9539 - val_loss: 2186.8008\n",
      "Epoch 2/100\n",
      "11/18 [=================>............] - ETA: 0s - loss: 342.9960"
     ]
    },
    {
     "name": "stderr",
     "output_type": "stream",
     "text": [
      "WARNING:absl:Found untraced functions such as _jit_compiled_convolution_op while saving (showing 1 of 1). These functions will not be directly callable after loading.\n"
     ]
    },
    {
     "name": "stdout",
     "output_type": "stream",
     "text": [
      "INFO:tensorflow:Assets written to: model_experiments\\model_4_Conv1D\\assets\n"
     ]
    },
    {
     "name": "stderr",
     "output_type": "stream",
     "text": [
      "INFO:tensorflow:Assets written to: model_experiments\\model_4_Conv1D\\assets\n"
     ]
    },
    {
     "name": "stdout",
     "output_type": "stream",
     "text": [
      "18/18 [==============================] - 3s 147ms/step - loss: 302.9980 - val_loss: 1449.3881\n",
      "Epoch 3/100\n",
      "12/18 [===================>..........] - ETA: 0s - loss: 228.7165"
     ]
    },
    {
     "name": "stderr",
     "output_type": "stream",
     "text": [
      "WARNING:absl:Found untraced functions such as _jit_compiled_convolution_op while saving (showing 1 of 1). These functions will not be directly callable after loading.\n"
     ]
    },
    {
     "name": "stdout",
     "output_type": "stream",
     "text": [
      "INFO:tensorflow:Assets written to: model_experiments\\model_4_Conv1D\\assets\n"
     ]
    },
    {
     "name": "stderr",
     "output_type": "stream",
     "text": [
      "INFO:tensorflow:Assets written to: model_experiments\\model_4_Conv1D\\assets\n"
     ]
    },
    {
     "name": "stdout",
     "output_type": "stream",
     "text": [
      "18/18 [==============================] - 2s 136ms/step - loss: 217.8420 - val_loss: 1059.5205\n",
      "Epoch 4/100\n",
      "14/18 [======================>.......] - ETA: 0s - loss: 191.3775"
     ]
    },
    {
     "name": "stderr",
     "output_type": "stream",
     "text": [
      "WARNING:absl:Found untraced functions such as _jit_compiled_convolution_op while saving (showing 1 of 1). These functions will not be directly callable after loading.\n"
     ]
    },
    {
     "name": "stdout",
     "output_type": "stream",
     "text": [
      "INFO:tensorflow:Assets written to: model_experiments\\model_4_Conv1D\\assets\n"
     ]
    },
    {
     "name": "stderr",
     "output_type": "stream",
     "text": [
      "INFO:tensorflow:Assets written to: model_experiments\\model_4_Conv1D\\assets\n"
     ]
    },
    {
     "name": "stdout",
     "output_type": "stream",
     "text": [
      "18/18 [==============================] - 2s 126ms/step - loss: 188.6645 - val_loss: 1024.0699\n",
      "Epoch 5/100\n",
      "12/18 [===================>..........] - ETA: 0s - loss: 192.0741"
     ]
    },
    {
     "name": "stderr",
     "output_type": "stream",
     "text": [
      "WARNING:absl:Found untraced functions such as _jit_compiled_convolution_op while saving (showing 1 of 1). These functions will not be directly callable after loading.\n"
     ]
    },
    {
     "name": "stdout",
     "output_type": "stream",
     "text": [
      "INFO:tensorflow:Assets written to: model_experiments\\model_4_Conv1D\\assets\n"
     ]
    },
    {
     "name": "stderr",
     "output_type": "stream",
     "text": [
      "INFO:tensorflow:Assets written to: model_experiments\\model_4_Conv1D\\assets\n"
     ]
    },
    {
     "name": "stdout",
     "output_type": "stream",
     "text": [
      "18/18 [==============================] - 2s 124ms/step - loss: 182.9053 - val_loss: 1016.8403\n",
      "Epoch 6/100\n",
      " 9/18 [==============>...............] - ETA: 0s - loss: 174.3914"
     ]
    },
    {
     "name": "stderr",
     "output_type": "stream",
     "text": [
      "WARNING:absl:Found untraced functions such as _jit_compiled_convolution_op while saving (showing 1 of 1). These functions will not be directly callable after loading.\n"
     ]
    },
    {
     "name": "stdout",
     "output_type": "stream",
     "text": [
      "INFO:tensorflow:Assets written to: model_experiments\\model_4_Conv1D\\assets\n"
     ]
    },
    {
     "name": "stderr",
     "output_type": "stream",
     "text": [
      "INFO:tensorflow:Assets written to: model_experiments\\model_4_Conv1D\\assets\n"
     ]
    },
    {
     "name": "stdout",
     "output_type": "stream",
     "text": [
      "18/18 [==============================] - 2s 136ms/step - loss: 179.8296 - val_loss: 1004.4086\n",
      "Epoch 7/100\n",
      "12/18 [===================>..........] - ETA: 0s - loss: 184.4539"
     ]
    },
    {
     "name": "stderr",
     "output_type": "stream",
     "text": [
      "WARNING:absl:Found untraced functions such as _jit_compiled_convolution_op while saving (showing 1 of 1). These functions will not be directly callable after loading.\n"
     ]
    },
    {
     "name": "stdout",
     "output_type": "stream",
     "text": [
      "INFO:tensorflow:Assets written to: model_experiments\\model_4_Conv1D\\assets\n"
     ]
    },
    {
     "name": "stderr",
     "output_type": "stream",
     "text": [
      "INFO:tensorflow:Assets written to: model_experiments\\model_4_Conv1D\\assets\n"
     ]
    },
    {
     "name": "stdout",
     "output_type": "stream",
     "text": [
      "18/18 [==============================] - 2s 137ms/step - loss: 178.0421 - val_loss: 978.7353\n",
      "Epoch 8/100\n",
      "18/18 [==============================] - 0s 12ms/step - loss: 173.7126 - val_loss: 985.7573\n",
      "Epoch 9/100\n",
      "18/18 [==============================] - 0s 11ms/step - loss: 171.4274 - val_loss: 993.4628\n",
      "Epoch 10/100\n",
      " 9/18 [==============>...............] - ETA: 0s - loss: 164.3276"
     ]
    },
    {
     "name": "stderr",
     "output_type": "stream",
     "text": [
      "WARNING:absl:Found untraced functions such as _jit_compiled_convolution_op while saving (showing 1 of 1). These functions will not be directly callable after loading.\n"
     ]
    },
    {
     "name": "stdout",
     "output_type": "stream",
     "text": [
      "INFO:tensorflow:Assets written to: model_experiments\\model_4_Conv1D\\assets\n"
     ]
    },
    {
     "name": "stderr",
     "output_type": "stream",
     "text": [
      "INFO:tensorflow:Assets written to: model_experiments\\model_4_Conv1D\\assets\n"
     ]
    },
    {
     "name": "stdout",
     "output_type": "stream",
     "text": [
      "18/18 [==============================] - 2s 145ms/step - loss: 169.0494 - val_loss: 941.9500\n",
      "Epoch 11/100\n",
      "18/18 [==============================] - ETA: 0s - loss: 165.8656"
     ]
    },
    {
     "name": "stderr",
     "output_type": "stream",
     "text": [
      "WARNING:absl:Found untraced functions such as _jit_compiled_convolution_op while saving (showing 1 of 1). These functions will not be directly callable after loading.\n"
     ]
    },
    {
     "name": "stdout",
     "output_type": "stream",
     "text": [
      "INFO:tensorflow:Assets written to: model_experiments\\model_4_Conv1D\\assets\n"
     ]
    },
    {
     "name": "stderr",
     "output_type": "stream",
     "text": [
      "INFO:tensorflow:Assets written to: model_experiments\\model_4_Conv1D\\assets\n"
     ]
    },
    {
     "name": "stdout",
     "output_type": "stream",
     "text": [
      "18/18 [==============================] - 3s 170ms/step - loss: 165.8656 - val_loss: 921.0366\n",
      "Epoch 12/100\n",
      "18/18 [==============================] - 0s 11ms/step - loss: 164.6485 - val_loss: 959.6221\n",
      "Epoch 13/100\n",
      "18/18 [==============================] - 0s 13ms/step - loss: 161.5572 - val_loss: 931.5994\n",
      "Epoch 14/100\n",
      "10/18 [===============>..............] - ETA: 0s - loss: 155.0899"
     ]
    },
    {
     "name": "stderr",
     "output_type": "stream",
     "text": [
      "WARNING:absl:Found untraced functions such as _jit_compiled_convolution_op while saving (showing 1 of 1). These functions will not be directly callable after loading.\n"
     ]
    },
    {
     "name": "stdout",
     "output_type": "stream",
     "text": [
      "INFO:tensorflow:Assets written to: model_experiments\\model_4_Conv1D\\assets\n"
     ]
    },
    {
     "name": "stderr",
     "output_type": "stream",
     "text": [
      "INFO:tensorflow:Assets written to: model_experiments\\model_4_Conv1D\\assets\n"
     ]
    },
    {
     "name": "stdout",
     "output_type": "stream",
     "text": [
      "18/18 [==============================] - 2s 142ms/step - loss: 158.3349 - val_loss: 900.0290\n",
      "Epoch 15/100\n",
      "18/18 [==============================] - 0s 13ms/step - loss: 157.2901 - val_loss: 918.4592\n",
      "Epoch 16/100\n",
      "11/18 [=================>............] - ETA: 0s - loss: 154.7330"
     ]
    },
    {
     "name": "stderr",
     "output_type": "stream",
     "text": [
      "WARNING:absl:Found untraced functions such as _jit_compiled_convolution_op while saving (showing 1 of 1). These functions will not be directly callable after loading.\n"
     ]
    },
    {
     "name": "stdout",
     "output_type": "stream",
     "text": [
      "INFO:tensorflow:Assets written to: model_experiments\\model_4_Conv1D\\assets\n"
     ]
    },
    {
     "name": "stderr",
     "output_type": "stream",
     "text": [
      "INFO:tensorflow:Assets written to: model_experiments\\model_4_Conv1D\\assets\n"
     ]
    },
    {
     "name": "stdout",
     "output_type": "stream",
     "text": [
      "18/18 [==============================] - 2s 124ms/step - loss: 153.2428 - val_loss: 851.8499\n",
      "Epoch 17/100\n",
      "18/18 [==============================] - 0s 10ms/step - loss: 150.8117 - val_loss: 876.7770\n",
      "Epoch 18/100\n",
      "10/18 [===============>..............] - ETA: 0s - loss: 158.7771"
     ]
    },
    {
     "name": "stderr",
     "output_type": "stream",
     "text": [
      "WARNING:absl:Found untraced functions such as _jit_compiled_convolution_op while saving (showing 1 of 1). These functions will not be directly callable after loading.\n"
     ]
    },
    {
     "name": "stdout",
     "output_type": "stream",
     "text": [
      "INFO:tensorflow:Assets written to: model_experiments\\model_4_Conv1D\\assets\n"
     ]
    },
    {
     "name": "stderr",
     "output_type": "stream",
     "text": [
      "INFO:tensorflow:Assets written to: model_experiments\\model_4_Conv1D\\assets\n"
     ]
    },
    {
     "name": "stdout",
     "output_type": "stream",
     "text": [
      "18/18 [==============================] - 3s 149ms/step - loss: 148.9546 - val_loss: 840.9674\n",
      "Epoch 19/100\n",
      "18/18 [==============================] - 0s 13ms/step - loss: 145.1058 - val_loss: 847.8958\n",
      "Epoch 20/100\n",
      "12/18 [===================>..........] - ETA: 0s - loss: 148.7657"
     ]
    },
    {
     "name": "stderr",
     "output_type": "stream",
     "text": [
      "WARNING:absl:Found untraced functions such as _jit_compiled_convolution_op while saving (showing 1 of 1). These functions will not be directly callable after loading.\n"
     ]
    },
    {
     "name": "stdout",
     "output_type": "stream",
     "text": [
      "INFO:tensorflow:Assets written to: model_experiments\\model_4_Conv1D\\assets\n"
     ]
    },
    {
     "name": "stderr",
     "output_type": "stream",
     "text": [
      "INFO:tensorflow:Assets written to: model_experiments\\model_4_Conv1D\\assets\n"
     ]
    },
    {
     "name": "stdout",
     "output_type": "stream",
     "text": [
      "18/18 [==============================] - 3s 148ms/step - loss: 145.8051 - val_loss: 817.5411\n",
      "Epoch 21/100\n",
      "12/18 [===================>..........] - ETA: 0s - loss: 145.9957"
     ]
    },
    {
     "name": "stderr",
     "output_type": "stream",
     "text": [
      "WARNING:absl:Found untraced functions such as _jit_compiled_convolution_op while saving (showing 1 of 1). These functions will not be directly callable after loading.\n"
     ]
    },
    {
     "name": "stdout",
     "output_type": "stream",
     "text": [
      "INFO:tensorflow:Assets written to: model_experiments\\model_4_Conv1D\\assets\n"
     ]
    },
    {
     "name": "stderr",
     "output_type": "stream",
     "text": [
      "INFO:tensorflow:Assets written to: model_experiments\\model_4_Conv1D\\assets\n"
     ]
    },
    {
     "name": "stdout",
     "output_type": "stream",
     "text": [
      "18/18 [==============================] - 2s 113ms/step - loss: 143.8980 - val_loss: 779.0353\n",
      "Epoch 22/100\n",
      "18/18 [==============================] - 0s 10ms/step - loss: 140.2889 - val_loss: 784.4783\n",
      "Epoch 23/100\n",
      "18/18 [==============================] - 0s 9ms/step - loss: 137.4549 - val_loss: 785.0850\n",
      "Epoch 24/100\n",
      "13/18 [====================>.........] - ETA: 0s - loss: 136.5244"
     ]
    },
    {
     "name": "stderr",
     "output_type": "stream",
     "text": [
      "WARNING:absl:Found untraced functions such as _jit_compiled_convolution_op while saving (showing 1 of 1). These functions will not be directly callable after loading.\n"
     ]
    },
    {
     "name": "stdout",
     "output_type": "stream",
     "text": [
      "INFO:tensorflow:Assets written to: model_experiments\\model_4_Conv1D\\assets\n"
     ]
    },
    {
     "name": "stderr",
     "output_type": "stream",
     "text": [
      "INFO:tensorflow:Assets written to: model_experiments\\model_4_Conv1D\\assets\n"
     ]
    },
    {
     "name": "stdout",
     "output_type": "stream",
     "text": [
      "18/18 [==============================] - 2s 125ms/step - loss: 137.8338 - val_loss: 770.8898\n",
      "Epoch 25/100\n",
      "11/18 [=================>............] - ETA: 0s - loss: 141.5843"
     ]
    },
    {
     "name": "stderr",
     "output_type": "stream",
     "text": [
      "WARNING:absl:Found untraced functions such as _jit_compiled_convolution_op while saving (showing 1 of 1). These functions will not be directly callable after loading.\n"
     ]
    },
    {
     "name": "stdout",
     "output_type": "stream",
     "text": [
      "INFO:tensorflow:Assets written to: model_experiments\\model_4_Conv1D\\assets\n"
     ]
    },
    {
     "name": "stderr",
     "output_type": "stream",
     "text": [
      "INFO:tensorflow:Assets written to: model_experiments\\model_4_Conv1D\\assets\n"
     ]
    },
    {
     "name": "stdout",
     "output_type": "stream",
     "text": [
      "18/18 [==============================] - 2s 125ms/step - loss: 135.0244 - val_loss: 744.4581\n",
      "Epoch 26/100\n",
      " 9/18 [==============>...............] - ETA: 0s - loss: 129.3306"
     ]
    },
    {
     "name": "stderr",
     "output_type": "stream",
     "text": [
      "WARNING:absl:Found untraced functions such as _jit_compiled_convolution_op while saving (showing 1 of 1). These functions will not be directly callable after loading.\n"
     ]
    },
    {
     "name": "stdout",
     "output_type": "stream",
     "text": [
      "INFO:tensorflow:Assets written to: model_experiments\\model_4_Conv1D\\assets\n"
     ]
    },
    {
     "name": "stderr",
     "output_type": "stream",
     "text": [
      "INFO:tensorflow:Assets written to: model_experiments\\model_4_Conv1D\\assets\n"
     ]
    },
    {
     "name": "stdout",
     "output_type": "stream",
     "text": [
      "18/18 [==============================] - 2s 136ms/step - loss: 132.5399 - val_loss: 736.7206\n",
      "Epoch 27/100\n",
      "11/18 [=================>............] - ETA: 0s - loss: 138.9493"
     ]
    },
    {
     "name": "stderr",
     "output_type": "stream",
     "text": [
      "WARNING:absl:Found untraced functions such as _jit_compiled_convolution_op while saving (showing 1 of 1). These functions will not be directly callable after loading.\n"
     ]
    },
    {
     "name": "stdout",
     "output_type": "stream",
     "text": [
      "INFO:tensorflow:Assets written to: model_experiments\\model_4_Conv1D\\assets\n"
     ]
    },
    {
     "name": "stderr",
     "output_type": "stream",
     "text": [
      "INFO:tensorflow:Assets written to: model_experiments\\model_4_Conv1D\\assets\n"
     ]
    },
    {
     "name": "stdout",
     "output_type": "stream",
     "text": [
      "18/18 [==============================] - 2s 128ms/step - loss: 132.1542 - val_loss: 721.9399\n",
      "Epoch 28/100\n",
      "13/18 [====================>.........] - ETA: 0s - loss: 128.7419"
     ]
    },
    {
     "name": "stderr",
     "output_type": "stream",
     "text": [
      "WARNING:absl:Found untraced functions such as _jit_compiled_convolution_op while saving (showing 1 of 1). These functions will not be directly callable after loading.\n"
     ]
    },
    {
     "name": "stdout",
     "output_type": "stream",
     "text": [
      "INFO:tensorflow:Assets written to: model_experiments\\model_4_Conv1D\\assets\n"
     ]
    },
    {
     "name": "stderr",
     "output_type": "stream",
     "text": [
      "INFO:tensorflow:Assets written to: model_experiments\\model_4_Conv1D\\assets\n"
     ]
    },
    {
     "name": "stdout",
     "output_type": "stream",
     "text": [
      "18/18 [==============================] - 3s 146ms/step - loss: 128.9762 - val_loss: 712.9829\n",
      "Epoch 29/100\n",
      "12/18 [===================>..........] - ETA: 0s - loss: 128.7174"
     ]
    },
    {
     "name": "stderr",
     "output_type": "stream",
     "text": [
      "WARNING:absl:Found untraced functions such as _jit_compiled_convolution_op while saving (showing 1 of 1). These functions will not be directly callable after loading.\n"
     ]
    },
    {
     "name": "stdout",
     "output_type": "stream",
     "text": [
      "INFO:tensorflow:Assets written to: model_experiments\\model_4_Conv1D\\assets\n"
     ]
    },
    {
     "name": "stderr",
     "output_type": "stream",
     "text": [
      "INFO:tensorflow:Assets written to: model_experiments\\model_4_Conv1D\\assets\n"
     ]
    },
    {
     "name": "stdout",
     "output_type": "stream",
     "text": [
      "18/18 [==============================] - 2s 136ms/step - loss: 127.3865 - val_loss: 712.7511\n",
      "Epoch 30/100\n",
      "18/18 [==============================] - 0s 11ms/step - loss: 131.8496 - val_loss: 896.9760\n",
      "Epoch 31/100\n",
      "18/18 [==============================] - 0s 11ms/step - loss: 137.5156 - val_loss: 755.3363\n",
      "Epoch 32/100\n",
      "12/18 [===================>..........] - ETA: 0s - loss: 134.0678"
     ]
    },
    {
     "name": "stderr",
     "output_type": "stream",
     "text": [
      "WARNING:absl:Found untraced functions such as _jit_compiled_convolution_op while saving (showing 1 of 1). These functions will not be directly callable after loading.\n"
     ]
    },
    {
     "name": "stdout",
     "output_type": "stream",
     "text": [
      "INFO:tensorflow:Assets written to: model_experiments\\model_4_Conv1D\\assets\n"
     ]
    },
    {
     "name": "stderr",
     "output_type": "stream",
     "text": [
      "INFO:tensorflow:Assets written to: model_experiments\\model_4_Conv1D\\assets\n"
     ]
    },
    {
     "name": "stdout",
     "output_type": "stream",
     "text": [
      "18/18 [==============================] - 2s 144ms/step - loss: 130.2168 - val_loss: 708.9256\n",
      "Epoch 33/100\n",
      "10/18 [===============>..............] - ETA: 0s - loss: 131.3530"
     ]
    },
    {
     "name": "stderr",
     "output_type": "stream",
     "text": [
      "WARNING:absl:Found untraced functions such as _jit_compiled_convolution_op while saving (showing 1 of 1). These functions will not be directly callable after loading.\n"
     ]
    },
    {
     "name": "stdout",
     "output_type": "stream",
     "text": [
      "INFO:tensorflow:Assets written to: model_experiments\\model_4_Conv1D\\assets\n"
     ]
    },
    {
     "name": "stderr",
     "output_type": "stream",
     "text": [
      "INFO:tensorflow:Assets written to: model_experiments\\model_4_Conv1D\\assets\n"
     ]
    },
    {
     "name": "stdout",
     "output_type": "stream",
     "text": [
      "18/18 [==============================] - 3s 149ms/step - loss: 127.1676 - val_loss: 682.4948\n",
      "Epoch 34/100\n",
      "10/18 [===============>..............] - ETA: 0s - loss: 126.1490"
     ]
    },
    {
     "name": "stderr",
     "output_type": "stream",
     "text": [
      "WARNING:absl:Found untraced functions such as _jit_compiled_convolution_op while saving (showing 1 of 1). These functions will not be directly callable after loading.\n"
     ]
    },
    {
     "name": "stdout",
     "output_type": "stream",
     "text": [
      "INFO:tensorflow:Assets written to: model_experiments\\model_4_Conv1D\\assets\n"
     ]
    },
    {
     "name": "stderr",
     "output_type": "stream",
     "text": [
      "INFO:tensorflow:Assets written to: model_experiments\\model_4_Conv1D\\assets\n"
     ]
    },
    {
     "name": "stdout",
     "output_type": "stream",
     "text": [
      "18/18 [==============================] - 3s 150ms/step - loss: 122.9006 - val_loss: 675.5162\n",
      "Epoch 35/100\n",
      "18/18 [==============================] - 0s 11ms/step - loss: 122.9866 - val_loss: 675.9838\n",
      "Epoch 36/100\n",
      "18/18 [==============================] - 0s 14ms/step - loss: 125.3057 - val_loss: 727.5203\n",
      "Epoch 37/100\n",
      "12/18 [===================>..........] - ETA: 0s - loss: 120.6730"
     ]
    },
    {
     "name": "stderr",
     "output_type": "stream",
     "text": [
      "WARNING:absl:Found untraced functions such as _jit_compiled_convolution_op while saving (showing 1 of 1). These functions will not be directly callable after loading.\n"
     ]
    },
    {
     "name": "stdout",
     "output_type": "stream",
     "text": [
      "INFO:tensorflow:Assets written to: model_experiments\\model_4_Conv1D\\assets\n"
     ]
    },
    {
     "name": "stderr",
     "output_type": "stream",
     "text": [
      "INFO:tensorflow:Assets written to: model_experiments\\model_4_Conv1D\\assets\n"
     ]
    },
    {
     "name": "stdout",
     "output_type": "stream",
     "text": [
      "18/18 [==============================] - 2s 134ms/step - loss: 122.1610 - val_loss: 654.7719\n",
      "Epoch 38/100\n",
      "11/18 [=================>............] - ETA: 0s - loss: 126.9309"
     ]
    },
    {
     "name": "stderr",
     "output_type": "stream",
     "text": [
      "WARNING:absl:Found untraced functions such as _jit_compiled_convolution_op while saving (showing 1 of 1). These functions will not be directly callable after loading.\n"
     ]
    },
    {
     "name": "stdout",
     "output_type": "stream",
     "text": [
      "INFO:tensorflow:Assets written to: model_experiments\\model_4_Conv1D\\assets\n"
     ]
    },
    {
     "name": "stderr",
     "output_type": "stream",
     "text": [
      "INFO:tensorflow:Assets written to: model_experiments\\model_4_Conv1D\\assets\n"
     ]
    },
    {
     "name": "stdout",
     "output_type": "stream",
     "text": [
      "18/18 [==============================] - 2s 126ms/step - loss: 120.2524 - val_loss: 648.6943\n",
      "Epoch 39/100\n",
      "18/18 [==============================] - 0s 12ms/step - loss: 119.4254 - val_loss: 650.8372\n",
      "Epoch 40/100\n",
      "11/18 [=================>............] - ETA: 0s - loss: 116.5275"
     ]
    },
    {
     "name": "stderr",
     "output_type": "stream",
     "text": [
      "WARNING:absl:Found untraced functions such as _jit_compiled_convolution_op while saving (showing 1 of 1). These functions will not be directly callable after loading.\n"
     ]
    },
    {
     "name": "stdout",
     "output_type": "stream",
     "text": [
      "INFO:tensorflow:Assets written to: model_experiments\\model_4_Conv1D\\assets\n"
     ]
    },
    {
     "name": "stderr",
     "output_type": "stream",
     "text": [
      "INFO:tensorflow:Assets written to: model_experiments\\model_4_Conv1D\\assets\n"
     ]
    },
    {
     "name": "stdout",
     "output_type": "stream",
     "text": [
      "18/18 [==============================] - 2s 132ms/step - loss: 117.8483 - val_loss: 642.7382\n",
      "Epoch 41/100\n",
      "13/18 [====================>.........] - ETA: 0s - loss: 124.4041"
     ]
    },
    {
     "name": "stderr",
     "output_type": "stream",
     "text": [
      "WARNING:absl:Found untraced functions such as _jit_compiled_convolution_op while saving (showing 1 of 1). These functions will not be directly callable after loading.\n"
     ]
    },
    {
     "name": "stdout",
     "output_type": "stream",
     "text": [
      "INFO:tensorflow:Assets written to: model_experiments\\model_4_Conv1D\\assets\n"
     ]
    },
    {
     "name": "stderr",
     "output_type": "stream",
     "text": [
      "INFO:tensorflow:Assets written to: model_experiments\\model_4_Conv1D\\assets\n"
     ]
    },
    {
     "name": "stdout",
     "output_type": "stream",
     "text": [
      "18/18 [==============================] - 2s 130ms/step - loss: 119.1532 - val_loss: 635.2268\n",
      "Epoch 42/100\n",
      "10/18 [===============>..............] - ETA: 0s - loss: 116.2293"
     ]
    },
    {
     "name": "stderr",
     "output_type": "stream",
     "text": [
      "WARNING:absl:Found untraced functions such as _jit_compiled_convolution_op while saving (showing 1 of 1). These functions will not be directly callable after loading.\n"
     ]
    },
    {
     "name": "stdout",
     "output_type": "stream",
     "text": [
      "INFO:tensorflow:Assets written to: model_experiments\\model_4_Conv1D\\assets\n"
     ]
    },
    {
     "name": "stderr",
     "output_type": "stream",
     "text": [
      "INFO:tensorflow:Assets written to: model_experiments\\model_4_Conv1D\\assets\n"
     ]
    },
    {
     "name": "stdout",
     "output_type": "stream",
     "text": [
      "18/18 [==============================] - 3s 149ms/step - loss: 120.0234 - val_loss: 633.6756\n",
      "Epoch 43/100\n",
      "18/18 [==============================] - 0s 11ms/step - loss: 116.4959 - val_loss: 636.0463\n",
      "Epoch 44/100\n",
      "10/18 [===============>..............] - ETA: 0s - loss: 112.1047"
     ]
    },
    {
     "name": "stderr",
     "output_type": "stream",
     "text": [
      "WARNING:absl:Found untraced functions such as _jit_compiled_convolution_op while saving (showing 1 of 1). These functions will not be directly callable after loading.\n"
     ]
    },
    {
     "name": "stdout",
     "output_type": "stream",
     "text": [
      "INFO:tensorflow:Assets written to: model_experiments\\model_4_Conv1D\\assets\n"
     ]
    },
    {
     "name": "stderr",
     "output_type": "stream",
     "text": [
      "INFO:tensorflow:Assets written to: model_experiments\\model_4_Conv1D\\assets\n"
     ]
    },
    {
     "name": "stdout",
     "output_type": "stream",
     "text": [
      "18/18 [==============================] - 2s 132ms/step - loss: 116.8688 - val_loss: 623.7988\n",
      "Epoch 45/100\n",
      "12/18 [===================>..........] - ETA: 0s - loss: 114.1031"
     ]
    },
    {
     "name": "stderr",
     "output_type": "stream",
     "text": [
      "WARNING:absl:Found untraced functions such as _jit_compiled_convolution_op while saving (showing 1 of 1). These functions will not be directly callable after loading.\n"
     ]
    },
    {
     "name": "stdout",
     "output_type": "stream",
     "text": [
      "INFO:tensorflow:Assets written to: model_experiments\\model_4_Conv1D\\assets\n"
     ]
    },
    {
     "name": "stderr",
     "output_type": "stream",
     "text": [
      "INFO:tensorflow:Assets written to: model_experiments\\model_4_Conv1D\\assets\n"
     ]
    },
    {
     "name": "stdout",
     "output_type": "stream",
     "text": [
      "18/18 [==============================] - 2s 141ms/step - loss: 116.3528 - val_loss: 622.8845\n",
      "Epoch 46/100\n",
      "18/18 [==============================] - 0s 10ms/step - loss: 115.8617 - val_loss: 625.4021\n",
      "Epoch 47/100\n",
      "18/18 [==============================] - 0s 11ms/step - loss: 121.7197 - val_loss: 728.8495\n",
      "Epoch 48/100\n",
      "18/18 [==============================] - 0s 9ms/step - loss: 118.6225 - val_loss: 663.3306\n",
      "Epoch 49/100\n",
      "10/18 [===============>..............] - ETA: 0s - loss: 126.3371"
     ]
    },
    {
     "name": "stderr",
     "output_type": "stream",
     "text": [
      "WARNING:absl:Found untraced functions such as _jit_compiled_convolution_op while saving (showing 1 of 1). These functions will not be directly callable after loading.\n"
     ]
    },
    {
     "name": "stdout",
     "output_type": "stream",
     "text": [
      "INFO:tensorflow:Assets written to: model_experiments\\model_4_Conv1D\\assets\n"
     ]
    },
    {
     "name": "stderr",
     "output_type": "stream",
     "text": [
      "INFO:tensorflow:Assets written to: model_experiments\\model_4_Conv1D\\assets\n"
     ]
    },
    {
     "name": "stdout",
     "output_type": "stream",
     "text": [
      "18/18 [==============================] - 2s 127ms/step - loss: 117.9867 - val_loss: 610.2754\n",
      "Epoch 50/100\n",
      "18/18 [==============================] - 0s 11ms/step - loss: 113.4122 - val_loss: 625.3512\n",
      "Epoch 51/100\n",
      "18/18 [==============================] - 0s 10ms/step - loss: 114.0531 - val_loss: 615.7504\n",
      "Epoch 52/100\n",
      " 9/18 [==============>...............] - ETA: 0s - loss: 115.3630"
     ]
    },
    {
     "name": "stderr",
     "output_type": "stream",
     "text": [
      "WARNING:absl:Found untraced functions such as _jit_compiled_convolution_op while saving (showing 1 of 1). These functions will not be directly callable after loading.\n"
     ]
    },
    {
     "name": "stdout",
     "output_type": "stream",
     "text": [
      "INFO:tensorflow:Assets written to: model_experiments\\model_4_Conv1D\\assets\n"
     ]
    },
    {
     "name": "stderr",
     "output_type": "stream",
     "text": [
      "INFO:tensorflow:Assets written to: model_experiments\\model_4_Conv1D\\assets\n"
     ]
    },
    {
     "name": "stdout",
     "output_type": "stream",
     "text": [
      "18/18 [==============================] - 2s 130ms/step - loss: 116.7223 - val_loss: 602.2559\n",
      "Epoch 53/100\n",
      "18/18 [==============================] - 0s 10ms/step - loss: 116.6385 - val_loss: 612.8491\n",
      "Epoch 54/100\n",
      "18/18 [==============================] - 0s 12ms/step - loss: 113.9730 - val_loss: 618.8113\n",
      "Epoch 55/100\n",
      "18/18 [==============================] - 0s 11ms/step - loss: 116.3725 - val_loss: 619.4916\n",
      "Epoch 56/100\n",
      "18/18 [==============================] - 0s 10ms/step - loss: 113.4825 - val_loss: 803.0759\n",
      "Epoch 57/100\n",
      "18/18 [==============================] - 0s 10ms/step - loss: 133.1799 - val_loss: 662.8362\n",
      "Epoch 58/100\n",
      "18/18 [==============================] - 0s 11ms/step - loss: 121.7818 - val_loss: 657.1966\n",
      "Epoch 59/100\n",
      "12/18 [===================>..........] - ETA: 0s - loss: 108.7383"
     ]
    },
    {
     "name": "stderr",
     "output_type": "stream",
     "text": [
      "WARNING:absl:Found untraced functions such as _jit_compiled_convolution_op while saving (showing 1 of 1). These functions will not be directly callable after loading.\n"
     ]
    },
    {
     "name": "stdout",
     "output_type": "stream",
     "text": [
      "INFO:tensorflow:Assets written to: model_experiments\\model_4_Conv1D\\assets\n"
     ]
    },
    {
     "name": "stderr",
     "output_type": "stream",
     "text": [
      "INFO:tensorflow:Assets written to: model_experiments\\model_4_Conv1D\\assets\n"
     ]
    },
    {
     "name": "stdout",
     "output_type": "stream",
     "text": [
      "18/18 [==============================] - 4s 213ms/step - loss: 112.0005 - val_loss: 598.8893\n",
      "Epoch 60/100\n",
      "18/18 [==============================] - 0s 19ms/step - loss: 111.3997 - val_loss: 615.5808\n",
      "Epoch 61/100\n",
      "18/18 [==============================] - 0s 16ms/step - loss: 111.4572 - val_loss: 601.9135\n",
      "Epoch 62/100\n",
      " 9/18 [==============>...............] - ETA: 0s - loss: 101.6422"
     ]
    },
    {
     "name": "stderr",
     "output_type": "stream",
     "text": [
      "WARNING:absl:Found untraced functions such as _jit_compiled_convolution_op while saving (showing 1 of 1). These functions will not be directly callable after loading.\n"
     ]
    },
    {
     "name": "stdout",
     "output_type": "stream",
     "text": [
      "INFO:tensorflow:Assets written to: model_experiments\\model_4_Conv1D\\assets\n"
     ]
    },
    {
     "name": "stderr",
     "output_type": "stream",
     "text": [
      "INFO:tensorflow:Assets written to: model_experiments\\model_4_Conv1D\\assets\n"
     ]
    },
    {
     "name": "stdout",
     "output_type": "stream",
     "text": [
      "18/18 [==============================] - 3s 155ms/step - loss: 110.9479 - val_loss: 596.6279\n",
      "Epoch 63/100\n",
      "11/18 [=================>............] - ETA: 0s - loss: 117.7787"
     ]
    },
    {
     "name": "stderr",
     "output_type": "stream",
     "text": [
      "WARNING:absl:Found untraced functions such as _jit_compiled_convolution_op while saving (showing 1 of 1). These functions will not be directly callable after loading.\n"
     ]
    },
    {
     "name": "stdout",
     "output_type": "stream",
     "text": [
      "INFO:tensorflow:Assets written to: model_experiments\\model_4_Conv1D\\assets\n"
     ]
    },
    {
     "name": "stderr",
     "output_type": "stream",
     "text": [
      "INFO:tensorflow:Assets written to: model_experiments\\model_4_Conv1D\\assets\n"
     ]
    },
    {
     "name": "stdout",
     "output_type": "stream",
     "text": [
      "18/18 [==============================] - 2s 130ms/step - loss: 113.0671 - val_loss: 591.8348\n",
      "Epoch 64/100\n",
      "18/18 [==============================] - 0s 10ms/step - loss: 112.1425 - val_loss: 677.8894\n",
      "Epoch 65/100\n",
      "10/18 [===============>..............] - ETA: 0s - loss: 116.9775"
     ]
    },
    {
     "name": "stderr",
     "output_type": "stream",
     "text": [
      "WARNING:absl:Found untraced functions such as _jit_compiled_convolution_op while saving (showing 1 of 1). These functions will not be directly callable after loading.\n"
     ]
    },
    {
     "name": "stdout",
     "output_type": "stream",
     "text": [
      "INFO:tensorflow:Assets written to: model_experiments\\model_4_Conv1D\\assets\n"
     ]
    },
    {
     "name": "stderr",
     "output_type": "stream",
     "text": [
      "INFO:tensorflow:Assets written to: model_experiments\\model_4_Conv1D\\assets\n"
     ]
    },
    {
     "name": "stdout",
     "output_type": "stream",
     "text": [
      "18/18 [==============================] - 2s 127ms/step - loss: 115.4447 - val_loss: 591.6058\n",
      "Epoch 66/100\n",
      "12/18 [===================>..........] - ETA: 0s - loss: 109.0890"
     ]
    },
    {
     "name": "stderr",
     "output_type": "stream",
     "text": [
      "WARNING:absl:Found untraced functions such as _jit_compiled_convolution_op while saving (showing 1 of 1). These functions will not be directly callable after loading.\n"
     ]
    },
    {
     "name": "stdout",
     "output_type": "stream",
     "text": [
      "INFO:tensorflow:Assets written to: model_experiments\\model_4_Conv1D\\assets\n"
     ]
    },
    {
     "name": "stderr",
     "output_type": "stream",
     "text": [
      "INFO:tensorflow:Assets written to: model_experiments\\model_4_Conv1D\\assets\n"
     ]
    },
    {
     "name": "stdout",
     "output_type": "stream",
     "text": [
      "18/18 [==============================] - 2s 124ms/step - loss: 111.4573 - val_loss: 584.3912\n",
      "Epoch 67/100\n",
      "18/18 [==============================] - 0s 12ms/step - loss: 109.0982 - val_loss: 617.8762\n",
      "Epoch 68/100\n",
      "18/18 [==============================] - 0s 11ms/step - loss: 115.5542 - val_loss: 683.1103\n",
      "Epoch 69/100\n",
      "18/18 [==============================] - 0s 10ms/step - loss: 126.0997 - val_loss: 675.0789\n",
      "Epoch 70/100\n",
      "18/18 [==============================] - 0s 10ms/step - loss: 123.0430 - val_loss: 610.0998\n",
      "Epoch 71/100\n",
      "18/18 [==============================] - 0s 11ms/step - loss: 111.8844 - val_loss: 608.9645\n",
      "Epoch 72/100\n",
      "18/18 [==============================] - 0s 11ms/step - loss: 112.4521 - val_loss: 596.4814\n",
      "Epoch 73/100\n",
      "11/18 [=================>............] - ETA: 0s - loss: 110.7491"
     ]
    },
    {
     "name": "stderr",
     "output_type": "stream",
     "text": [
      "WARNING:absl:Found untraced functions such as _jit_compiled_convolution_op while saving (showing 1 of 1). These functions will not be directly callable after loading.\n"
     ]
    },
    {
     "name": "stdout",
     "output_type": "stream",
     "text": [
      "INFO:tensorflow:Assets written to: model_experiments\\model_4_Conv1D\\assets\n"
     ]
    },
    {
     "name": "stderr",
     "output_type": "stream",
     "text": [
      "INFO:tensorflow:Assets written to: model_experiments\\model_4_Conv1D\\assets\n"
     ]
    },
    {
     "name": "stdout",
     "output_type": "stream",
     "text": [
      "18/18 [==============================] - 2s 127ms/step - loss: 110.0205 - val_loss: 583.8210\n",
      "Epoch 74/100\n",
      "11/18 [=================>............] - ETA: 0s - loss: 112.8885"
     ]
    },
    {
     "name": "stderr",
     "output_type": "stream",
     "text": [
      "WARNING:absl:Found untraced functions such as _jit_compiled_convolution_op while saving (showing 1 of 1). These functions will not be directly callable after loading.\n"
     ]
    },
    {
     "name": "stdout",
     "output_type": "stream",
     "text": [
      "INFO:tensorflow:Assets written to: model_experiments\\model_4_Conv1D\\assets\n"
     ]
    },
    {
     "name": "stderr",
     "output_type": "stream",
     "text": [
      "INFO:tensorflow:Assets written to: model_experiments\\model_4_Conv1D\\assets\n"
     ]
    },
    {
     "name": "stdout",
     "output_type": "stream",
     "text": [
      "18/18 [==============================] - 2s 125ms/step - loss: 111.2019 - val_loss: 581.8687\n",
      "Epoch 75/100\n",
      "13/18 [====================>.........] - ETA: 0s - loss: 108.0128"
     ]
    },
    {
     "name": "stderr",
     "output_type": "stream",
     "text": [
      "WARNING:absl:Found untraced functions such as _jit_compiled_convolution_op while saving (showing 1 of 1). These functions will not be directly callable after loading.\n"
     ]
    },
    {
     "name": "stdout",
     "output_type": "stream",
     "text": [
      "INFO:tensorflow:Assets written to: model_experiments\\model_4_Conv1D\\assets\n"
     ]
    },
    {
     "name": "stderr",
     "output_type": "stream",
     "text": [
      "INFO:tensorflow:Assets written to: model_experiments\\model_4_Conv1D\\assets\n"
     ]
    },
    {
     "name": "stdout",
     "output_type": "stream",
     "text": [
      "18/18 [==============================] - 2s 130ms/step - loss: 109.5231 - val_loss: 580.0074\n",
      "Epoch 76/100\n",
      "11/18 [=================>............] - ETA: 0s - loss: 110.5611"
     ]
    },
    {
     "name": "stderr",
     "output_type": "stream",
     "text": [
      "WARNING:absl:Found untraced functions such as _jit_compiled_convolution_op while saving (showing 1 of 1). These functions will not be directly callable after loading.\n"
     ]
    },
    {
     "name": "stdout",
     "output_type": "stream",
     "text": [
      "INFO:tensorflow:Assets written to: model_experiments\\model_4_Conv1D\\assets\n"
     ]
    },
    {
     "name": "stderr",
     "output_type": "stream",
     "text": [
      "INFO:tensorflow:Assets written to: model_experiments\\model_4_Conv1D\\assets\n"
     ]
    },
    {
     "name": "stdout",
     "output_type": "stream",
     "text": [
      "18/18 [==============================] - 2s 131ms/step - loss: 109.5727 - val_loss: 576.9750\n",
      "Epoch 77/100\n",
      "11/18 [=================>............] - ETA: 0s - loss: 115.6366"
     ]
    },
    {
     "name": "stderr",
     "output_type": "stream",
     "text": [
      "WARNING:absl:Found untraced functions such as _jit_compiled_convolution_op while saving (showing 1 of 1). These functions will not be directly callable after loading.\n"
     ]
    },
    {
     "name": "stdout",
     "output_type": "stream",
     "text": [
      "INFO:tensorflow:Assets written to: model_experiments\\model_4_Conv1D\\assets\n"
     ]
    },
    {
     "name": "stderr",
     "output_type": "stream",
     "text": [
      "INFO:tensorflow:Assets written to: model_experiments\\model_4_Conv1D\\assets\n"
     ]
    },
    {
     "name": "stdout",
     "output_type": "stream",
     "text": [
      "18/18 [==============================] - 2s 128ms/step - loss: 110.4910 - val_loss: 576.4438\n",
      "Epoch 78/100\n",
      "18/18 [==============================] - 0s 11ms/step - loss: 110.0415 - val_loss: 589.0298\n",
      "Epoch 79/100\n",
      "18/18 [==============================] - 0s 11ms/step - loss: 110.1972 - val_loss: 611.6005\n",
      "Epoch 80/100\n",
      "18/18 [==============================] - 0s 11ms/step - loss: 109.4893 - val_loss: 595.1813\n",
      "Epoch 81/100\n",
      "18/18 [==============================] - 0s 11ms/step - loss: 108.8827 - val_loss: 578.8881\n",
      "Epoch 82/100\n",
      "11/18 [=================>............] - ETA: 0s - loss: 120.6394"
     ]
    },
    {
     "name": "stderr",
     "output_type": "stream",
     "text": [
      "WARNING:absl:Found untraced functions such as _jit_compiled_convolution_op while saving (showing 1 of 1). These functions will not be directly callable after loading.\n"
     ]
    },
    {
     "name": "stdout",
     "output_type": "stream",
     "text": [
      "INFO:tensorflow:Assets written to: model_experiments\\model_4_Conv1D\\assets\n"
     ]
    },
    {
     "name": "stderr",
     "output_type": "stream",
     "text": [
      "INFO:tensorflow:Assets written to: model_experiments\\model_4_Conv1D\\assets\n"
     ]
    },
    {
     "name": "stdout",
     "output_type": "stream",
     "text": [
      "18/18 [==============================] - 2s 136ms/step - loss: 115.1524 - val_loss: 573.6578\n",
      "Epoch 83/100\n",
      "18/18 [==============================] - 0s 10ms/step - loss: 111.9541 - val_loss: 672.8416\n",
      "Epoch 84/100\n",
      "10/18 [===============>..............] - ETA: 0s - loss: 116.9272"
     ]
    },
    {
     "name": "stderr",
     "output_type": "stream",
     "text": [
      "WARNING:absl:Found untraced functions such as _jit_compiled_convolution_op while saving (showing 1 of 1). These functions will not be directly callable after loading.\n"
     ]
    },
    {
     "name": "stdout",
     "output_type": "stream",
     "text": [
      "INFO:tensorflow:Assets written to: model_experiments\\model_4_Conv1D\\assets\n"
     ]
    },
    {
     "name": "stderr",
     "output_type": "stream",
     "text": [
      "INFO:tensorflow:Assets written to: model_experiments\\model_4_Conv1D\\assets\n"
     ]
    },
    {
     "name": "stdout",
     "output_type": "stream",
     "text": [
      "18/18 [==============================] - 3s 157ms/step - loss: 115.3863 - val_loss: 572.7822\n",
      "Epoch 85/100\n",
      "18/18 [==============================] - 0s 11ms/step - loss: 108.5197 - val_loss: 593.0728\n",
      "Epoch 86/100\n",
      "18/18 [==============================] - 0s 10ms/step - loss: 109.0155 - val_loss: 624.4894\n",
      "Epoch 87/100\n",
      "18/18 [==============================] - 0s 12ms/step - loss: 111.5949 - val_loss: 577.5103\n",
      "Epoch 88/100\n",
      "18/18 [==============================] - 0s 10ms/step - loss: 111.3508 - val_loss: 581.1912\n",
      "Epoch 89/100\n",
      "18/18 [==============================] - 0s 10ms/step - loss: 113.3462 - val_loss: 587.9492\n",
      "Epoch 90/100\n",
      "18/18 [==============================] - 0s 12ms/step - loss: 108.4579 - val_loss: 650.9540\n",
      "Epoch 91/100\n",
      "18/18 [==============================] - 0s 10ms/step - loss: 110.0238 - val_loss: 592.0925\n",
      "Epoch 92/100\n",
      "18/18 [==============================] - 0s 12ms/step - loss: 110.9153 - val_loss: 591.5746\n",
      "Epoch 93/100\n",
      "18/18 [==============================] - 0s 11ms/step - loss: 113.0316 - val_loss: 608.1525\n",
      "Epoch 94/100\n",
      "18/18 [==============================] - 0s 11ms/step - loss: 109.5249 - val_loss: 577.1381\n",
      "Epoch 95/100\n",
      "18/18 [==============================] - 0s 11ms/step - loss: 108.0303 - val_loss: 574.2922\n",
      "Epoch 96/100\n",
      "18/18 [==============================] - 0s 11ms/step - loss: 113.9660 - val_loss: 594.6858\n",
      "Epoch 97/100\n",
      "18/18 [==============================] - 0s 12ms/step - loss: 109.4259 - val_loss: 582.3400\n",
      "Epoch 98/100\n",
      "13/18 [====================>.........] - ETA: 0s - loss: 110.3515"
     ]
    },
    {
     "name": "stderr",
     "output_type": "stream",
     "text": [
      "WARNING:absl:Found untraced functions such as _jit_compiled_convolution_op while saving (showing 1 of 1). These functions will not be directly callable after loading.\n"
     ]
    },
    {
     "name": "stdout",
     "output_type": "stream",
     "text": [
      "INFO:tensorflow:Assets written to: model_experiments\\model_4_Conv1D\\assets\n"
     ]
    },
    {
     "name": "stderr",
     "output_type": "stream",
     "text": [
      "INFO:tensorflow:Assets written to: model_experiments\\model_4_Conv1D\\assets\n"
     ]
    },
    {
     "name": "stdout",
     "output_type": "stream",
     "text": [
      "18/18 [==============================] - 2s 129ms/step - loss: 108.5325 - val_loss: 568.7681\n",
      "Epoch 99/100\n",
      "18/18 [==============================] - 0s 12ms/step - loss: 108.4674 - val_loss: 570.7642\n",
      "Epoch 100/100\n",
      "18/18 [==============================] - 0s 12ms/step - loss: 115.3415 - val_loss: 663.9744\n"
     ]
    }
   ],
   "source": [
    "# Creating Conv1D model\n",
    "model_4 = tf.keras.Sequential([\n",
    "    layers.Lambda(lambda x: tf.expand_dims(x, axis=1)),\n",
    "    layers.Conv1D(filters=128, kernel_size=5, strides=1, padding=\"causal\", activation=\"relu\"),\n",
    "    layers.Dense(HORIZON)\n",
    "], name=\"model_4_Conv1D\")\n",
    "\n",
    "# Compiling the model\n",
    "model_4.compile(\n",
    "    loss=\"mae\",\n",
    "    optimizer=tf.keras.optimizers.Adam()\n",
    ")\n",
    "\n",
    "# Fitting the model\n",
    "history_4 = model_4.fit(\n",
    "    train_windows,\n",
    "    train_labels,\n",
    "    batch_size=128,\n",
    "    epochs=100,\n",
    "    validation_data=(test_windows, test_labels),\n",
    "    callbacks=[create_model_checkpoint(model_name=model_4.name)]\n",
    ")"
   ]
  },
  {
   "cell_type": "code",
   "execution_count": 74,
   "metadata": {},
   "outputs": [
    {
     "name": "stdout",
     "output_type": "stream",
     "text": [
      "Model: \"model_4_Conv1D\"\n",
      "_________________________________________________________________\n",
      " Layer (type)                Output Shape              Param #   \n",
      "=================================================================\n",
      " lambda_1 (Lambda)           (None, 1, 7)              0         \n",
      "                                                                 \n",
      " conv1d (Conv1D)             (None, 1, 128)            4608      \n",
      "                                                                 \n",
      " dense_6 (Dense)             (None, 1, 1)              129       \n",
      "                                                                 \n",
      "=================================================================\n",
      "Total params: 4,737\n",
      "Trainable params: 4,737\n",
      "Non-trainable params: 0\n",
      "_________________________________________________________________\n"
     ]
    }
   ],
   "source": [
    "# Checking the model structure\n",
    "model_4.summary()"
   ]
  },
  {
   "cell_type": "code",
   "execution_count": 75,
   "metadata": {},
   "outputs": [
    {
     "name": "stdout",
     "output_type": "stream",
     "text": [
      "18/18 [==============================] - 0s 4ms/step - loss: 663.9744\n"
     ]
    },
    {
     "data": {
      "text/plain": [
       "663.9744262695312"
      ]
     },
     "execution_count": 75,
     "metadata": {},
     "output_type": "execute_result"
    }
   ],
   "source": [
    "# Evaluating the model\n",
    "model_4.evaluate(test_windows, test_labels)"
   ]
  },
  {
   "cell_type": "code",
   "execution_count": 76,
   "metadata": {},
   "outputs": [
    {
     "name": "stdout",
     "output_type": "stream",
     "text": [
      "18/18 [==============================] - 0s 4ms/step - loss: 568.7682\n"
     ]
    },
    {
     "data": {
      "text/plain": [
       "568.7681884765625"
      ]
     },
     "execution_count": 76,
     "metadata": {},
     "output_type": "execute_result"
    }
   ],
   "source": [
    "# Loading back the best performing model\n",
    "model_4 = tf.keras.models.load_model(\"./model_experiments/model_4_Conv1D/\")\n",
    "model_4.evaluate(test_windows, test_labels)"
   ]
  },
  {
   "cell_type": "code",
   "execution_count": 77,
   "metadata": {},
   "outputs": [
    {
     "name": "stdout",
     "output_type": "stream",
     "text": [
      "18/18 [==============================] - 0s 4ms/step\n"
     ]
    },
    {
     "data": {
      "text/plain": [
       "<tf.Tensor: shape=(10,), dtype=float32, numpy=\n",
       "array([8900.047, 8800.511, 9016.179, 8804.795, 8756.841, 8747.84 ,\n",
       "       8692.319, 8549.319, 8473.356, 8530.593], dtype=float32)>"
      ]
     },
     "execution_count": 77,
     "metadata": {},
     "output_type": "execute_result"
    }
   ],
   "source": [
    "# Making predictions\n",
    "model_4_preds = make_preds(model_4, test_windows)\n",
    "model_4_preds[:10]"
   ]
  },
  {
   "cell_type": "code",
   "execution_count": 78,
   "metadata": {},
   "outputs": [
    {
     "data": {
      "text/plain": [
       "{'mae': 568.7682,\n",
       " 'mse': 1181881.5,\n",
       " 'rmse': 1087.1437,\n",
       " 'mape': 2.543415,\n",
       " 'mase': 0.99916816}"
      ]
     },
     "execution_count": 78,
     "metadata": {},
     "output_type": "execute_result"
    }
   ],
   "source": [
    "# Evaluating predictions\n",
    "model_4_results = evaluate_preds(\n",
    "    y_true=tf.squeeze(test_labels),\n",
    "    y_pred=model_4_preds\n",
    ")\n",
    "model_4_results"
   ]
  },
  {
   "attachments": {},
   "cell_type": "markdown",
   "metadata": {},
   "source": [
    "### Model 5 - LSTM (RNN)"
   ]
  },
  {
   "cell_type": "code",
   "execution_count": 79,
   "metadata": {},
   "outputs": [
    {
     "name": "stdout",
     "output_type": "stream",
     "text": [
      "Epoch 1/100\n",
      "15/18 [========================>.....] - ETA: 0s - loss: 2296.6931INFO:tensorflow:Assets written to: model_experiments\\module_5_LSTM\\assets\n"
     ]
    },
    {
     "name": "stderr",
     "output_type": "stream",
     "text": [
      "INFO:tensorflow:Assets written to: model_experiments\\module_5_LSTM\\assets\n"
     ]
    },
    {
     "name": "stdout",
     "output_type": "stream",
     "text": [
      "18/18 [==============================] - 10s 374ms/step - loss: 2212.2332 - val_loss: 8630.6533\n",
      "Epoch 2/100\n",
      "15/18 [========================>.....] - ETA: 0s - loss: 805.6957INFO:tensorflow:Assets written to: model_experiments\\module_5_LSTM\\assets\n"
     ]
    },
    {
     "name": "stderr",
     "output_type": "stream",
     "text": [
      "INFO:tensorflow:Assets written to: model_experiments\\module_5_LSTM\\assets\n"
     ]
    },
    {
     "name": "stdout",
     "output_type": "stream",
     "text": [
      "18/18 [==============================] - 6s 357ms/step - loss: 721.1108 - val_loss: 1121.8828\n",
      "Epoch 3/100\n",
      "18/18 [==============================] - 0s 17ms/step - loss: 251.4267 - val_loss: 1267.7952\n",
      "Epoch 4/100\n",
      "17/18 [===========================>..] - ETA: 0s - loss: 202.1107INFO:tensorflow:Assets written to: model_experiments\\module_5_LSTM\\assets\n"
     ]
    },
    {
     "name": "stderr",
     "output_type": "stream",
     "text": [
      "INFO:tensorflow:Assets written to: model_experiments\\module_5_LSTM\\assets\n"
     ]
    },
    {
     "name": "stdout",
     "output_type": "stream",
     "text": [
      "18/18 [==============================] - 6s 331ms/step - loss: 200.2527 - val_loss: 1056.6847\n",
      "Epoch 5/100\n",
      "17/18 [===========================>..] - ETA: 0s - loss: 189.5662INFO:tensorflow:Assets written to: model_experiments\\module_5_LSTM\\assets\n"
     ]
    },
    {
     "name": "stderr",
     "output_type": "stream",
     "text": [
      "INFO:tensorflow:Assets written to: model_experiments\\module_5_LSTM\\assets\n"
     ]
    },
    {
     "name": "stdout",
     "output_type": "stream",
     "text": [
      "18/18 [==============================] - 6s 376ms/step - loss: 187.5312 - val_loss: 1051.7360\n",
      "Epoch 6/100\n",
      "14/18 [======================>.......] - ETA: 0s - loss: 186.8185INFO:tensorflow:Assets written to: model_experiments\\module_5_LSTM\\assets\n"
     ]
    },
    {
     "name": "stderr",
     "output_type": "stream",
     "text": [
      "INFO:tensorflow:Assets written to: model_experiments\\module_5_LSTM\\assets\n"
     ]
    },
    {
     "name": "stdout",
     "output_type": "stream",
     "text": [
      "18/18 [==============================] - 6s 347ms/step - loss: 187.6809 - val_loss: 1044.8405\n",
      "Epoch 7/100\n",
      "18/18 [==============================] - 0s 17ms/step - loss: 182.9844 - val_loss: 1049.7795\n",
      "Epoch 8/100\n",
      "18/18 [==============================] - 0s 17ms/step - loss: 181.1038 - val_loss: 1058.2222\n",
      "Epoch 9/100\n",
      "15/18 [========================>.....] - ETA: 0s - loss: 182.1863INFO:tensorflow:Assets written to: model_experiments\\module_5_LSTM\\assets\n"
     ]
    },
    {
     "name": "stderr",
     "output_type": "stream",
     "text": [
      "INFO:tensorflow:Assets written to: model_experiments\\module_5_LSTM\\assets\n"
     ]
    },
    {
     "name": "stdout",
     "output_type": "stream",
     "text": [
      "18/18 [==============================] - 7s 390ms/step - loss: 179.2342 - val_loss: 1040.2291\n",
      "Epoch 10/100\n",
      "16/18 [=========================>....] - ETA: 0s - loss: 175.3288INFO:tensorflow:Assets written to: model_experiments\\module_5_LSTM\\assets\n"
     ]
    },
    {
     "name": "stderr",
     "output_type": "stream",
     "text": [
      "INFO:tensorflow:Assets written to: model_experiments\\module_5_LSTM\\assets\n"
     ]
    },
    {
     "name": "stdout",
     "output_type": "stream",
     "text": [
      "18/18 [==============================] - 6s 357ms/step - loss: 178.2449 - val_loss: 1017.6225\n",
      "Epoch 11/100\n",
      "16/18 [=========================>....] - ETA: 0s - loss: 175.8622INFO:tensorflow:Assets written to: model_experiments\\module_5_LSTM\\assets\n"
     ]
    },
    {
     "name": "stderr",
     "output_type": "stream",
     "text": [
      "INFO:tensorflow:Assets written to: model_experiments\\module_5_LSTM\\assets\n"
     ]
    },
    {
     "name": "stdout",
     "output_type": "stream",
     "text": [
      "18/18 [==============================] - 6s 346ms/step - loss: 177.6210 - val_loss: 1005.7858\n",
      "Epoch 12/100\n",
      "17/18 [===========================>..] - ETA: 0s - loss: 175.6471INFO:tensorflow:Assets written to: model_experiments\\module_5_LSTM\\assets\n"
     ]
    },
    {
     "name": "stderr",
     "output_type": "stream",
     "text": [
      "INFO:tensorflow:Assets written to: model_experiments\\module_5_LSTM\\assets\n"
     ]
    },
    {
     "name": "stdout",
     "output_type": "stream",
     "text": [
      "18/18 [==============================] - 6s 351ms/step - loss: 176.1094 - val_loss: 1003.2762\n",
      "Epoch 13/100\n",
      "14/18 [======================>.......] - ETA: 0s - loss: 174.0424INFO:tensorflow:Assets written to: model_experiments\\module_5_LSTM\\assets\n"
     ]
    },
    {
     "name": "stderr",
     "output_type": "stream",
     "text": [
      "INFO:tensorflow:Assets written to: model_experiments\\module_5_LSTM\\assets\n"
     ]
    },
    {
     "name": "stdout",
     "output_type": "stream",
     "text": [
      "18/18 [==============================] - 6s 379ms/step - loss: 174.6107 - val_loss: 994.2542\n",
      "Epoch 14/100\n",
      "18/18 [==============================] - 0s 19ms/step - loss: 172.7436 - val_loss: 996.2549\n",
      "Epoch 15/100\n",
      "16/18 [=========================>....] - ETA: 0s - loss: 174.9570INFO:tensorflow:Assets written to: model_experiments\\module_5_LSTM\\assets\n"
     ]
    },
    {
     "name": "stderr",
     "output_type": "stream",
     "text": [
      "INFO:tensorflow:Assets written to: model_experiments\\module_5_LSTM\\assets\n"
     ]
    },
    {
     "name": "stdout",
     "output_type": "stream",
     "text": [
      "18/18 [==============================] - 7s 406ms/step - loss: 171.9842 - val_loss: 975.3300\n",
      "Epoch 16/100\n",
      "18/18 [==============================] - ETA: 0s - loss: 170.3668INFO:tensorflow:Assets written to: model_experiments\\module_5_LSTM\\assets\n"
     ]
    },
    {
     "name": "stderr",
     "output_type": "stream",
     "text": [
      "INFO:tensorflow:Assets written to: model_experiments\\module_5_LSTM\\assets\n"
     ]
    },
    {
     "name": "stdout",
     "output_type": "stream",
     "text": [
      "18/18 [==============================] - 7s 383ms/step - loss: 170.3668 - val_loss: 950.4330\n",
      "Epoch 17/100\n",
      "18/18 [==============================] - 0s 22ms/step - loss: 168.1453 - val_loss: 1009.0681\n",
      "Epoch 18/100\n",
      "18/18 [==============================] - 0s 20ms/step - loss: 167.4894 - val_loss: 981.6176\n",
      "Epoch 19/100\n",
      "18/18 [==============================] - 0s 19ms/step - loss: 165.1358 - val_loss: 977.6594\n",
      "Epoch 20/100\n",
      "14/18 [======================>.......] - ETA: 0s - loss: 167.5623INFO:tensorflow:Assets written to: model_experiments\\module_5_LSTM\\assets\n"
     ]
    },
    {
     "name": "stderr",
     "output_type": "stream",
     "text": [
      "INFO:tensorflow:Assets written to: model_experiments\\module_5_LSTM\\assets\n"
     ]
    },
    {
     "name": "stdout",
     "output_type": "stream",
     "text": [
      "18/18 [==============================] - 7s 412ms/step - loss: 164.7935 - val_loss: 919.3468\n",
      "Epoch 21/100\n",
      "14/18 [======================>.......] - ETA: 0s - loss: 163.4447INFO:tensorflow:Assets written to: model_experiments\\module_5_LSTM\\assets\n"
     ]
    },
    {
     "name": "stderr",
     "output_type": "stream",
     "text": [
      "INFO:tensorflow:Assets written to: model_experiments\\module_5_LSTM\\assets\n"
     ]
    },
    {
     "name": "stdout",
     "output_type": "stream",
     "text": [
      "18/18 [==============================] - 7s 382ms/step - loss: 162.0534 - val_loss: 911.1464\n",
      "Epoch 22/100\n",
      "18/18 [==============================] - 0s 19ms/step - loss: 160.5040 - val_loss: 923.4189\n",
      "Epoch 23/100\n",
      "18/18 [==============================] - 0s 19ms/step - loss: 159.4736 - val_loss: 934.5196\n",
      "Epoch 24/100\n",
      "17/18 [===========================>..] - ETA: 0s - loss: 158.7747INFO:tensorflow:Assets written to: model_experiments\\module_5_LSTM\\assets\n"
     ]
    },
    {
     "name": "stderr",
     "output_type": "stream",
     "text": [
      "INFO:tensorflow:Assets written to: model_experiments\\module_5_LSTM\\assets\n"
     ]
    },
    {
     "name": "stdout",
     "output_type": "stream",
     "text": [
      "18/18 [==============================] - 6s 344ms/step - loss: 157.0614 - val_loss: 901.5856\n",
      "Epoch 25/100\n",
      "14/18 [======================>.......] - ETA: 0s - loss: 161.1266INFO:tensorflow:Assets written to: model_experiments\\module_5_LSTM\\assets\n"
     ]
    },
    {
     "name": "stderr",
     "output_type": "stream",
     "text": [
      "INFO:tensorflow:Assets written to: model_experiments\\module_5_LSTM\\assets\n"
     ]
    },
    {
     "name": "stdout",
     "output_type": "stream",
     "text": [
      "18/18 [==============================] - 6s 356ms/step - loss: 155.7305 - val_loss: 866.5682\n",
      "Epoch 26/100\n",
      "18/18 [==============================] - 0s 19ms/step - loss: 153.7575 - val_loss: 872.1699\n",
      "Epoch 27/100\n",
      "14/18 [======================>.......] - ETA: 0s - loss: 154.0384INFO:tensorflow:Assets written to: model_experiments\\module_5_LSTM\\assets\n"
     ]
    },
    {
     "name": "stderr",
     "output_type": "stream",
     "text": [
      "INFO:tensorflow:Assets written to: model_experiments\\module_5_LSTM\\assets\n"
     ]
    },
    {
     "name": "stdout",
     "output_type": "stream",
     "text": [
      "18/18 [==============================] - 6s 351ms/step - loss: 152.0445 - val_loss: 857.0906\n",
      "Epoch 28/100\n",
      "17/18 [===========================>..] - ETA: 0s - loss: 150.0688INFO:tensorflow:Assets written to: model_experiments\\module_5_LSTM\\assets\n"
     ]
    },
    {
     "name": "stderr",
     "output_type": "stream",
     "text": [
      "INFO:tensorflow:Assets written to: model_experiments\\module_5_LSTM\\assets\n"
     ]
    },
    {
     "name": "stdout",
     "output_type": "stream",
     "text": [
      "18/18 [==============================] - 6s 328ms/step - loss: 150.2058 - val_loss: 835.2406\n",
      "Epoch 29/100\n",
      "18/18 [==============================] - 0s 18ms/step - loss: 149.9725 - val_loss: 847.8663\n",
      "Epoch 30/100\n",
      "18/18 [==============================] - 0s 19ms/step - loss: 149.1074 - val_loss: 860.9618\n",
      "Epoch 31/100\n",
      "14/18 [======================>.......] - ETA: 0s - loss: 146.4646INFO:tensorflow:Assets written to: model_experiments\\module_5_LSTM\\assets\n"
     ]
    },
    {
     "name": "stderr",
     "output_type": "stream",
     "text": [
      "INFO:tensorflow:Assets written to: model_experiments\\module_5_LSTM\\assets\n"
     ]
    },
    {
     "name": "stdout",
     "output_type": "stream",
     "text": [
      "18/18 [==============================] - 6s 350ms/step - loss: 146.2399 - val_loss: 808.3894\n",
      "Epoch 32/100\n",
      "18/18 [==============================] - 0s 19ms/step - loss: 144.3579 - val_loss: 817.9324\n",
      "Epoch 33/100\n",
      "14/18 [======================>.......] - ETA: 0s - loss: 142.3427INFO:tensorflow:Assets written to: model_experiments\\module_5_LSTM\\assets\n"
     ]
    },
    {
     "name": "stderr",
     "output_type": "stream",
     "text": [
      "INFO:tensorflow:Assets written to: model_experiments\\module_5_LSTM\\assets\n"
     ]
    },
    {
     "name": "stdout",
     "output_type": "stream",
     "text": [
      "18/18 [==============================] - 5s 322ms/step - loss: 143.1125 - val_loss: 806.5958\n",
      "Epoch 34/100\n",
      "18/18 [==============================] - ETA: 0s - loss: 142.7856INFO:tensorflow:Assets written to: model_experiments\\module_5_LSTM\\assets\n"
     ]
    },
    {
     "name": "stderr",
     "output_type": "stream",
     "text": [
      "INFO:tensorflow:Assets written to: model_experiments\\module_5_LSTM\\assets\n"
     ]
    },
    {
     "name": "stdout",
     "output_type": "stream",
     "text": [
      "18/18 [==============================] - 6s 360ms/step - loss: 142.7856 - val_loss: 782.1422\n",
      "Epoch 35/100\n",
      "18/18 [==============================] - 0s 20ms/step - loss: 140.3260 - val_loss: 790.8011\n",
      "Epoch 36/100\n",
      "17/18 [===========================>..] - ETA: 0s - loss: 142.7655INFO:tensorflow:Assets written to: model_experiments\\module_5_LSTM\\assets\n"
     ]
    },
    {
     "name": "stderr",
     "output_type": "stream",
     "text": [
      "INFO:tensorflow:Assets written to: model_experiments\\module_5_LSTM\\assets\n"
     ]
    },
    {
     "name": "stdout",
     "output_type": "stream",
     "text": [
      "18/18 [==============================] - 6s 327ms/step - loss: 143.6331 - val_loss: 773.8061\n",
      "Epoch 37/100\n",
      "18/18 [==============================] - 0s 20ms/step - loss: 137.9823 - val_loss: 774.4484\n",
      "Epoch 38/100\n",
      "16/18 [=========================>....] - ETA: 0s - loss: 136.6867INFO:tensorflow:Assets written to: model_experiments\\module_5_LSTM\\assets\n"
     ]
    },
    {
     "name": "stderr",
     "output_type": "stream",
     "text": [
      "INFO:tensorflow:Assets written to: model_experiments\\module_5_LSTM\\assets\n"
     ]
    },
    {
     "name": "stdout",
     "output_type": "stream",
     "text": [
      "18/18 [==============================] - 6s 379ms/step - loss: 136.2702 - val_loss: 751.4194\n",
      "Epoch 39/100\n",
      "18/18 [==============================] - 0s 21ms/step - loss: 135.6704 - val_loss: 754.0483\n",
      "Epoch 40/100\n",
      "18/18 [==============================] - 0s 21ms/step - loss: 136.6096 - val_loss: 772.4741\n",
      "Epoch 41/100\n",
      "17/18 [===========================>..] - ETA: 0s - loss: 134.9187INFO:tensorflow:Assets written to: model_experiments\\module_5_LSTM\\assets\n"
     ]
    },
    {
     "name": "stderr",
     "output_type": "stream",
     "text": [
      "INFO:tensorflow:Assets written to: model_experiments\\module_5_LSTM\\assets\n"
     ]
    },
    {
     "name": "stdout",
     "output_type": "stream",
     "text": [
      "18/18 [==============================] - 6s 340ms/step - loss: 134.0457 - val_loss: 730.5930\n",
      "Epoch 42/100\n",
      "16/18 [=========================>....] - ETA: 0s - loss: 131.2755INFO:tensorflow:Assets written to: model_experiments\\module_5_LSTM\\assets\n"
     ]
    },
    {
     "name": "stderr",
     "output_type": "stream",
     "text": [
      "INFO:tensorflow:Assets written to: model_experiments\\module_5_LSTM\\assets\n"
     ]
    },
    {
     "name": "stdout",
     "output_type": "stream",
     "text": [
      "18/18 [==============================] - 7s 435ms/step - loss: 131.7877 - val_loss: 728.2534\n",
      "Epoch 43/100\n",
      "15/18 [========================>.....] - ETA: 0s - loss: 130.6087INFO:tensorflow:Assets written to: model_experiments\\module_5_LSTM\\assets\n"
     ]
    },
    {
     "name": "stderr",
     "output_type": "stream",
     "text": [
      "INFO:tensorflow:Assets written to: model_experiments\\module_5_LSTM\\assets\n"
     ]
    },
    {
     "name": "stdout",
     "output_type": "stream",
     "text": [
      "18/18 [==============================] - 6s 363ms/step - loss: 130.8757 - val_loss: 723.6268\n",
      "Epoch 44/100\n",
      "17/18 [===========================>..] - ETA: 0s - loss: 130.3211INFO:tensorflow:Assets written to: model_experiments\\module_5_LSTM\\assets\n"
     ]
    },
    {
     "name": "stderr",
     "output_type": "stream",
     "text": [
      "INFO:tensorflow:Assets written to: model_experiments\\module_5_LSTM\\assets\n"
     ]
    },
    {
     "name": "stdout",
     "output_type": "stream",
     "text": [
      "18/18 [==============================] - 6s 351ms/step - loss: 129.0682 - val_loss: 712.0540\n",
      "Epoch 45/100\n",
      "17/18 [===========================>..] - ETA: 0s - loss: 128.3233INFO:tensorflow:Assets written to: model_experiments\\module_5_LSTM\\assets\n"
     ]
    },
    {
     "name": "stderr",
     "output_type": "stream",
     "text": [
      "INFO:tensorflow:Assets written to: model_experiments\\module_5_LSTM\\assets\n"
     ]
    },
    {
     "name": "stdout",
     "output_type": "stream",
     "text": [
      "18/18 [==============================] - 6s 363ms/step - loss: 128.2048 - val_loss: 705.8147\n",
      "Epoch 46/100\n",
      "16/18 [=========================>....] - ETA: 0s - loss: 130.2381INFO:tensorflow:Assets written to: model_experiments\\module_5_LSTM\\assets\n"
     ]
    },
    {
     "name": "stderr",
     "output_type": "stream",
     "text": [
      "INFO:tensorflow:Assets written to: model_experiments\\module_5_LSTM\\assets\n"
     ]
    },
    {
     "name": "stdout",
     "output_type": "stream",
     "text": [
      "18/18 [==============================] - 7s 420ms/step - loss: 129.1072 - val_loss: 703.7343\n",
      "Epoch 47/100\n",
      "18/18 [==============================] - 0s 25ms/step - loss: 127.5873 - val_loss: 713.0031\n",
      "Epoch 48/100\n",
      "16/18 [=========================>....] - ETA: 0s - loss: 125.9142INFO:tensorflow:Assets written to: model_experiments\\module_5_LSTM\\assets\n"
     ]
    },
    {
     "name": "stderr",
     "output_type": "stream",
     "text": [
      "INFO:tensorflow:Assets written to: model_experiments\\module_5_LSTM\\assets\n"
     ]
    },
    {
     "name": "stdout",
     "output_type": "stream",
     "text": [
      "18/18 [==============================] - 6s 380ms/step - loss: 127.2812 - val_loss: 692.0219\n",
      "Epoch 49/100\n",
      "18/18 [==============================] - 0s 22ms/step - loss: 125.5861 - val_loss: 697.8636\n",
      "Epoch 50/100\n",
      "18/18 [==============================] - 0s 24ms/step - loss: 128.8465 - val_loss: 719.6351\n",
      "Epoch 51/100\n",
      "18/18 [==============================] - 0s 23ms/step - loss: 126.3682 - val_loss: 766.5574\n",
      "Epoch 52/100\n",
      "15/18 [========================>.....] - ETA: 0s - loss: 130.5980INFO:tensorflow:Assets written to: model_experiments\\module_5_LSTM\\assets\n"
     ]
    },
    {
     "name": "stderr",
     "output_type": "stream",
     "text": [
      "INFO:tensorflow:Assets written to: model_experiments\\module_5_LSTM\\assets\n"
     ]
    },
    {
     "name": "stdout",
     "output_type": "stream",
     "text": [
      "18/18 [==============================] - 7s 435ms/step - loss: 125.9111 - val_loss: 672.2169\n",
      "Epoch 53/100\n",
      "18/18 [==============================] - 0s 22ms/step - loss: 123.1401 - val_loss: 674.2870\n",
      "Epoch 54/100\n",
      "18/18 [==============================] - 0s 22ms/step - loss: 123.2862 - val_loss: 702.5900\n",
      "Epoch 55/100\n",
      "14/18 [======================>.......] - ETA: 0s - loss: 127.2507INFO:tensorflow:Assets written to: model_experiments\\module_5_LSTM\\assets\n"
     ]
    },
    {
     "name": "stderr",
     "output_type": "stream",
     "text": [
      "INFO:tensorflow:Assets written to: model_experiments\\module_5_LSTM\\assets\n"
     ]
    },
    {
     "name": "stdout",
     "output_type": "stream",
     "text": [
      "18/18 [==============================] - 7s 408ms/step - loss: 123.2021 - val_loss: 661.2172\n",
      "Epoch 56/100\n",
      "18/18 [==============================] - ETA: 0s - loss: 124.7901INFO:tensorflow:Assets written to: model_experiments\\module_5_LSTM\\assets\n"
     ]
    },
    {
     "name": "stderr",
     "output_type": "stream",
     "text": [
      "INFO:tensorflow:Assets written to: model_experiments\\module_5_LSTM\\assets\n"
     ]
    },
    {
     "name": "stdout",
     "output_type": "stream",
     "text": [
      "18/18 [==============================] - 7s 432ms/step - loss: 124.7901 - val_loss: 656.8714\n",
      "Epoch 57/100\n",
      "18/18 [==============================] - 0s 22ms/step - loss: 126.5760 - val_loss: 694.6683\n",
      "Epoch 58/100\n",
      "16/18 [=========================>....] - ETA: 0s - loss: 122.7441INFO:tensorflow:Assets written to: model_experiments\\module_5_LSTM\\assets\n"
     ]
    },
    {
     "name": "stderr",
     "output_type": "stream",
     "text": [
      "INFO:tensorflow:Assets written to: model_experiments\\module_5_LSTM\\assets\n"
     ]
    },
    {
     "name": "stdout",
     "output_type": "stream",
     "text": [
      "18/18 [==============================] - 6s 359ms/step - loss: 122.0348 - val_loss: 651.8395\n",
      "Epoch 59/100\n",
      "18/18 [==============================] - 0s 21ms/step - loss: 120.4582 - val_loss: 653.1014\n",
      "Epoch 60/100\n",
      "17/18 [===========================>..] - ETA: 0s - loss: 120.3646INFO:tensorflow:Assets written to: model_experiments\\module_5_LSTM\\assets\n"
     ]
    },
    {
     "name": "stderr",
     "output_type": "stream",
     "text": [
      "INFO:tensorflow:Assets written to: model_experiments\\module_5_LSTM\\assets\n"
     ]
    },
    {
     "name": "stdout",
     "output_type": "stream",
     "text": [
      "18/18 [==============================] - 6s 376ms/step - loss: 121.7277 - val_loss: 646.5540\n",
      "Epoch 61/100\n",
      "18/18 [==============================] - 0s 22ms/step - loss: 120.8778 - val_loss: 688.4051\n",
      "Epoch 62/100\n",
      "18/18 [==============================] - 0s 23ms/step - loss: 122.4291 - val_loss: 688.5784\n",
      "Epoch 63/100\n",
      "14/18 [======================>.......] - ETA: 0s - loss: 127.9322INFO:tensorflow:Assets written to: model_experiments\\module_5_LSTM\\assets\n"
     ]
    },
    {
     "name": "stderr",
     "output_type": "stream",
     "text": [
      "INFO:tensorflow:Assets written to: model_experiments\\module_5_LSTM\\assets\n"
     ]
    },
    {
     "name": "stdout",
     "output_type": "stream",
     "text": [
      "18/18 [==============================] - 6s 381ms/step - loss: 124.5070 - val_loss: 638.6009\n",
      "Epoch 64/100\n",
      "18/18 [==============================] - 0s 24ms/step - loss: 117.8602 - val_loss: 658.7512\n",
      "Epoch 65/100\n",
      "15/18 [========================>.....] - ETA: 0s - loss: 118.3184INFO:tensorflow:Assets written to: model_experiments\\module_5_LSTM\\assets\n"
     ]
    },
    {
     "name": "stderr",
     "output_type": "stream",
     "text": [
      "INFO:tensorflow:Assets written to: model_experiments\\module_5_LSTM\\assets\n"
     ]
    },
    {
     "name": "stdout",
     "output_type": "stream",
     "text": [
      "18/18 [==============================] - 6s 361ms/step - loss: 119.9021 - val_loss: 633.5303\n",
      "Epoch 66/100\n",
      "18/18 [==============================] - 0s 20ms/step - loss: 117.8750 - val_loss: 650.1520\n",
      "Epoch 67/100\n",
      "17/18 [===========================>..] - ETA: 0s - loss: 119.1473INFO:tensorflow:Assets written to: model_experiments\\module_5_LSTM\\assets\n"
     ]
    },
    {
     "name": "stderr",
     "output_type": "stream",
     "text": [
      "INFO:tensorflow:Assets written to: model_experiments\\module_5_LSTM\\assets\n"
     ]
    },
    {
     "name": "stdout",
     "output_type": "stream",
     "text": [
      "18/18 [==============================] - 6s 368ms/step - loss: 120.2370 - val_loss: 629.1321\n",
      "Epoch 68/100\n",
      "18/18 [==============================] - 0s 23ms/step - loss: 119.1457 - val_loss: 636.2714\n",
      "Epoch 69/100\n",
      "18/18 [==============================] - 0s 22ms/step - loss: 121.0323 - val_loss: 636.1795\n",
      "Epoch 70/100\n",
      "18/18 [==============================] - ETA: 0s - loss: 117.0361INFO:tensorflow:Assets written to: model_experiments\\module_5_LSTM\\assets\n"
     ]
    },
    {
     "name": "stderr",
     "output_type": "stream",
     "text": [
      "INFO:tensorflow:Assets written to: model_experiments\\module_5_LSTM\\assets\n"
     ]
    },
    {
     "name": "stdout",
     "output_type": "stream",
     "text": [
      "18/18 [==============================] - 6s 350ms/step - loss: 117.0361 - val_loss: 623.9708\n",
      "Epoch 71/100\n",
      "18/18 [==============================] - 0s 22ms/step - loss: 117.1871 - val_loss: 658.2291\n",
      "Epoch 72/100\n",
      "18/18 [==============================] - 0s 22ms/step - loss: 119.7945 - val_loss: 638.5642\n",
      "Epoch 73/100\n",
      "15/18 [========================>.....] - ETA: 0s - loss: 117.5660INFO:tensorflow:Assets written to: model_experiments\\module_5_LSTM\\assets\n"
     ]
    },
    {
     "name": "stderr",
     "output_type": "stream",
     "text": [
      "INFO:tensorflow:Assets written to: model_experiments\\module_5_LSTM\\assets\n"
     ]
    },
    {
     "name": "stdout",
     "output_type": "stream",
     "text": [
      "18/18 [==============================] - 7s 403ms/step - loss: 116.9994 - val_loss: 622.6934\n",
      "Epoch 74/100\n",
      "18/18 [==============================] - 1s 31ms/step - loss: 116.0049 - val_loss: 625.0591\n",
      "Epoch 75/100\n",
      "18/18 [==============================] - 1s 30ms/step - loss: 116.1462 - val_loss: 645.2767\n",
      "Epoch 76/100\n",
      "15/18 [========================>.....] - ETA: 0s - loss: 115.8329INFO:tensorflow:Assets written to: model_experiments\\module_5_LSTM\\assets\n"
     ]
    },
    {
     "name": "stderr",
     "output_type": "stream",
     "text": [
      "INFO:tensorflow:Assets written to: model_experiments\\module_5_LSTM\\assets\n"
     ]
    },
    {
     "name": "stdout",
     "output_type": "stream",
     "text": [
      "18/18 [==============================] - 6s 368ms/step - loss: 115.9963 - val_loss: 616.4913\n",
      "Epoch 77/100\n",
      "18/18 [==============================] - 0s 22ms/step - loss: 118.6287 - val_loss: 702.5146\n",
      "Epoch 78/100\n",
      "18/18 [==============================] - 0s 25ms/step - loss: 119.9976 - val_loss: 623.0681\n",
      "Epoch 79/100\n",
      "15/18 [========================>.....] - ETA: 0s - loss: 114.6256INFO:tensorflow:Assets written to: model_experiments\\module_5_LSTM\\assets\n"
     ]
    },
    {
     "name": "stderr",
     "output_type": "stream",
     "text": [
      "INFO:tensorflow:Assets written to: model_experiments\\module_5_LSTM\\assets\n"
     ]
    },
    {
     "name": "stdout",
     "output_type": "stream",
     "text": [
      "18/18 [==============================] - 6s 364ms/step - loss: 115.2381 - val_loss: 610.8716\n",
      "Epoch 80/100\n",
      "18/18 [==============================] - 0s 22ms/step - loss: 114.6019 - val_loss: 621.5486\n",
      "Epoch 81/100\n",
      "18/18 [==============================] - 0s 22ms/step - loss: 115.8644 - val_loss: 683.8515\n",
      "Epoch 82/100\n",
      "18/18 [==============================] - 0s 20ms/step - loss: 118.1946 - val_loss: 612.7002\n",
      "Epoch 83/100\n",
      "18/18 [==============================] - 0s 21ms/step - loss: 114.0730 - val_loss: 640.5140\n",
      "Epoch 84/100\n",
      "18/18 [==============================] - 0s 21ms/step - loss: 116.4053 - val_loss: 620.2571\n",
      "Epoch 85/100\n",
      "18/18 [==============================] - 0s 20ms/step - loss: 115.0275 - val_loss: 659.3213\n",
      "Epoch 86/100\n",
      "18/18 [==============================] - 0s 21ms/step - loss: 117.0531 - val_loss: 619.6105\n",
      "Epoch 87/100\n",
      "16/18 [=========================>....] - ETA: 0s - loss: 115.3584INFO:tensorflow:Assets written to: model_experiments\\module_5_LSTM\\assets\n"
     ]
    },
    {
     "name": "stderr",
     "output_type": "stream",
     "text": [
      "INFO:tensorflow:Assets written to: model_experiments\\module_5_LSTM\\assets\n"
     ]
    },
    {
     "name": "stdout",
     "output_type": "stream",
     "text": [
      "18/18 [==============================] - 6s 335ms/step - loss: 115.0193 - val_loss: 608.3981\n",
      "Epoch 88/100\n",
      "18/18 [==============================] - ETA: 0s - loss: 113.5240INFO:tensorflow:Assets written to: model_experiments\\module_5_LSTM\\assets\n"
     ]
    },
    {
     "name": "stderr",
     "output_type": "stream",
     "text": [
      "INFO:tensorflow:Assets written to: model_experiments\\module_5_LSTM\\assets\n"
     ]
    },
    {
     "name": "stdout",
     "output_type": "stream",
     "text": [
      "18/18 [==============================] - 6s 377ms/step - loss: 113.5240 - val_loss: 608.0374\n",
      "Epoch 89/100\n",
      "18/18 [==============================] - 0s 22ms/step - loss: 113.0737 - val_loss: 641.6539\n",
      "Epoch 90/100\n",
      "18/18 [==============================] - 0s 26ms/step - loss: 118.7848 - val_loss: 641.6370\n",
      "Epoch 91/100\n",
      "18/18 [==============================] - 0s 22ms/step - loss: 115.2542 - val_loss: 612.7881\n",
      "Epoch 92/100\n",
      "17/18 [===========================>..] - ETA: 0s - loss: 113.2628INFO:tensorflow:Assets written to: model_experiments\\module_5_LSTM\\assets\n"
     ]
    },
    {
     "name": "stderr",
     "output_type": "stream",
     "text": [
      "INFO:tensorflow:Assets written to: model_experiments\\module_5_LSTM\\assets\n"
     ]
    },
    {
     "name": "stdout",
     "output_type": "stream",
     "text": [
      "18/18 [==============================] - 7s 393ms/step - loss: 113.2013 - val_loss: 598.4113\n",
      "Epoch 93/100\n",
      "18/18 [==============================] - 0s 21ms/step - loss: 113.9142 - val_loss: 598.9164\n",
      "Epoch 94/100\n",
      "16/18 [=========================>....] - ETA: 0s - loss: 113.2511INFO:tensorflow:Assets written to: model_experiments\\module_5_LSTM\\assets\n"
     ]
    },
    {
     "name": "stderr",
     "output_type": "stream",
     "text": [
      "INFO:tensorflow:Assets written to: model_experiments\\module_5_LSTM\\assets\n"
     ]
    },
    {
     "name": "stdout",
     "output_type": "stream",
     "text": [
      "18/18 [==============================] - 6s 352ms/step - loss: 111.9871 - val_loss: 597.2342\n",
      "Epoch 95/100\n",
      "18/18 [==============================] - 0s 22ms/step - loss: 112.6085 - val_loss: 598.4952\n",
      "Epoch 96/100\n",
      "18/18 [==============================] - 0s 23ms/step - loss: 111.9209 - val_loss: 600.4897\n",
      "Epoch 97/100\n",
      "18/18 [==============================] - 0s 21ms/step - loss: 112.3771 - val_loss: 617.5010\n",
      "Epoch 98/100\n",
      "18/18 [==============================] - 0s 22ms/step - loss: 113.0297 - val_loss: 597.4396\n",
      "Epoch 99/100\n",
      "17/18 [===========================>..] - ETA: 0s - loss: 112.1992INFO:tensorflow:Assets written to: model_experiments\\module_5_LSTM\\assets\n"
     ]
    },
    {
     "name": "stderr",
     "output_type": "stream",
     "text": [
      "INFO:tensorflow:Assets written to: model_experiments\\module_5_LSTM\\assets\n"
     ]
    },
    {
     "name": "stdout",
     "output_type": "stream",
     "text": [
      "18/18 [==============================] - 7s 403ms/step - loss: 111.5945 - val_loss: 592.9869\n",
      "Epoch 100/100\n",
      "18/18 [==============================] - 0s 22ms/step - loss: 112.9189 - val_loss: 593.1179\n"
     ]
    }
   ],
   "source": [
    "# Building LSTM model with the Functional API\n",
    "inputs = layers.Input(shape=(WINDOW_SIZE))\n",
    "x = layers.Lambda(lambda x: tf.expand_dims(x, axis=1))(inputs)\n",
    "# x = layers.LSTM(128, return_sequences=True)(x)\n",
    "x = layers.LSTM(128, activation=\"relu\")(x)\n",
    "# x = layers.Dense(32, activation=\"relu\")(x)\n",
    "outputs = layers.Dense(HORIZON)(x)\n",
    "model_5 = tf.keras.Model(inputs=inputs, outputs=outputs, name=\"module_5_LSTM\")\n",
    "\n",
    "# Compiling the model\n",
    "model_5.compile(\n",
    "    loss=\"mae\",\n",
    "    optimizer=tf.keras.optimizers.Adam()\n",
    ")\n",
    "\n",
    "# Fitting the model\n",
    "history_5 = model_5.fit(\n",
    "    train_windows,\n",
    "    train_labels,\n",
    "    epochs=100,\n",
    "    verbose=1,\n",
    "    batch_size=128,\n",
    "    validation_data=(test_windows, test_labels),\n",
    "    callbacks=[create_model_checkpoint(model_name=model_5.name)]\n",
    ")"
   ]
  },
  {
   "cell_type": "code",
   "execution_count": 80,
   "metadata": {},
   "outputs": [
    {
     "name": "stdout",
     "output_type": "stream",
     "text": [
      "18/18 [==============================] - 1s 9ms/step - loss: 592.9869\n"
     ]
    },
    {
     "data": {
      "text/plain": [
       "592.9868774414062"
      ]
     },
     "execution_count": 80,
     "metadata": {},
     "output_type": "execute_result"
    }
   ],
   "source": [
    "# Loading the best version\n",
    "model_5 = tf.keras.models.load_model(\"model_experiments/module_5_LSTM/\")\n",
    "model_5.evaluate(test_windows, test_labels)"
   ]
  },
  {
   "cell_type": "code",
   "execution_count": 81,
   "metadata": {},
   "outputs": [
    {
     "name": "stdout",
     "output_type": "stream",
     "text": [
      "18/18 [==============================] - 1s 7ms/step\n"
     ]
    },
    {
     "data": {
      "text/plain": [
       "<tf.Tensor: shape=(556,), dtype=float32, numpy=\n",
       "array([ 8958.168 ,  8828.231 ,  8952.694 ,  8811.08  ,  8765.488 ,\n",
       "        8714.307 ,  8702.132 ,  8580.18  ,  8460.122 ,  8515.767 ,\n",
       "        8311.379 ,  8159.531 ,  8064.1787,  7752.301 ,  7381.2256,\n",
       "        7228.6865,  7064.8457,  7126.1943,  7090.2686,  7383.4136,\n",
       "        7435.486 ,  7655.524 ,  7638.0444,  7495.0977,  7401.79  ,\n",
       "        7316.311 ,  7268.009 ,  7324.2227,  7457.59  ,  7545.0586,\n",
       "        7576.9316,  7431.6484,  7318.051 ,  7220.8037,  7187.796 ,\n",
       "        7217.241 ,  7122.5376,  7116.3975,  6957.756 ,  6696.6855,\n",
       "        7143.4473,  7177.2705,  7216.3315,  7246.799 ,  7266.0137,\n",
       "        7282.131 ,  7209.3047,  7231.617 ,  7222.1353,  7223.1978,\n",
       "        7291.487 ,  7382.553 ,  7317.4927,  7235.2734,  7194.288 ,\n",
       "        7038.827 ,  7194.451 ,  7291.9385,  7370.373 ,  7624.1567,\n",
       "        7944.092 ,  8139.3877,  7973.7383,  8065.933 ,  8121.589 ,\n",
       "        8185.2188,  8150.115 ,  8548.494 ,  8839.88  ,  8834.403 ,\n",
       "        8935.539 ,  8976.303 ,  8831.762 ,  8692.23  ,  8679.616 ,\n",
       "        8677.747 ,  8477.684 ,  8422.447 ,  8372.762 ,  8502.117 ,\n",
       "        8763.655 ,  9055.959 ,  9319.811 ,  9537.119 ,  9530.291 ,\n",
       "        9474.801 ,  9432.709 ,  9344.287 ,  9242.837 ,  9474.163 ,\n",
       "        9655.272 ,  9811.099 ,  9923.723 , 10116.059 , 10018.465 ,\n",
       "       10174.944 , 10338.894 , 10328.86  , 10386.4   , 10080.366 ,\n",
       "        9972.676 ,  9707.709 ,  9993.137 ,  9832.527 ,  9681.088 ,\n",
       "        9651.816 ,  9671.349 ,  9886.359 ,  9703.904 ,  9521.467 ,\n",
       "        9005.758 ,  8789.135 ,  8727.249 ,  8621.797 ,  8542.242 ,\n",
       "        8750.12  ,  8825.942 ,  8812.584 ,  8987.451 ,  9123.544 ,\n",
       "        9066.789 ,  8452.976 ,  8004.566 ,  7897.935 ,  7882.7256,\n",
       "        6473.457 ,  5765.8564,  5328.042 ,  5265.4214,  4977.1523,\n",
       "        5087.3657,  5327.373 ,  5998.915 ,  6223.6436,  6280.9004,\n",
       "        6093.7783,  6323.497 ,  6727.1914,  6765.0337,  6788.7485,\n",
       "        6729.851 ,  6461.631 ,  6070.393 ,  6264.6763,  6396.974 ,\n",
       "        6527.361 ,  6735.8906,  6818.8613,  6933.497 ,  6851.42  ,\n",
       "        7167.6577,  7239.8027,  7363.501 ,  7375.8   ,  7067.475 ,\n",
       "        6943.253 ,  6955.277 ,  6935.8438,  6893.9727,  6744.292 ,\n",
       "        7037.079 ,  7093.8633,  7243.577 ,  7238.306 ,  7006.38  ,\n",
       "        6952.1875,  7025.3955,  7422.824 ,  7522.867 ,  7576.9727,\n",
       "        7654.41  ,  7786.3457,  7828.698 ,  8475.032 ,  8783.643 ,\n",
       "        8960.699 ,  9027.711 ,  9005.463 ,  9023.693 ,  8974.227 ,\n",
       "        9267.965 ,  9752.584 ,  9960.458 ,  9821.045 ,  9157.039 ,\n",
       "        8742.308 ,  8715.555 ,  9084.047 ,  9558.535 ,  9482.968 ,\n",
       "        9503.464 ,  9655.345 ,  9775.698 ,  9788.176 ,  9609.939 ,\n",
       "        9319.931 ,  9213.17  ,  9180.72  ,  9090.922 ,  8943.166 ,\n",
       "        8832.052 ,  9022.459 ,  9366.84  ,  9462.723 ,  9665.519 ,\n",
       "        9557.176 , 10086.713 ,  9791.008 ,  9727.926 ,  9774.467 ,\n",
       "        9713.824 ,  9755.119 ,  9672.138 ,  9806.898 ,  9819.785 ,\n",
       "        9863.579 ,  9490.438 ,  9448.213 ,  9425.921 ,  9389.3955,\n",
       "        9421.536 ,  9450.193 ,  9513.959 ,  9446.16  ,  9335.258 ,\n",
       "        9354.25  ,  9315.985 ,  9564.196 ,  9631.665 ,  9459.499 ,\n",
       "        9322.09  ,  9201.31  ,  9098.3125,  9062.623 ,  9126.022 ,\n",
       "        9166.799 ,  9226.18  ,  9154.133 ,  9136.478 ,  9132.381 ,\n",
       "        9088.537 ,  9229.378 ,  9252.936 ,  9436.512 ,  9340.008 ,\n",
       "        9292.725 ,  9265.058 ,  9282.237 ,  9280.116 ,  9257.779 ,\n",
       "        9245.873 ,  9180.979 ,  9172.163 ,  9176.124 ,  9201.619 ,\n",
       "        9192.416 ,  9338.918 ,  9503.946 ,  9629.606 ,  9633.026 ,\n",
       "        9713.815 ,  9910.555 , 10821.152 , 11055.219 , 11344.35  ,\n",
       "       11278.59  , 11426.854 , 11764.696 , 11372.574 , 11338.875 ,\n",
       "       11224.688 , 11552.552 , 11770.694 , 11702.751 , 11792.33  ,\n",
       "       11735.121 , 11853.459 , 11528.562 , 11518.515 , 11673.203 ,\n",
       "       11782.556 , 11904.635 , 11903.305 , 12303.598 , 12223.176 ,\n",
       "       11948.448 , 11851.568 , 11662.868 , 11688.465 , 11624.287 ,\n",
       "       11710.307 , 11521.332 , 11454.311 , 11353.383 , 11436.805 ,\n",
       "       11501.049 , 11612.084 , 11707.444 , 11906.991 , 11653.994 ,\n",
       "       11025.818 , 10632.775 , 10149.717 , 10117.481 , 10189.855 ,\n",
       "       10078.425 , 10208.915 , 10273.858 , 10412.0625, 10459.146 ,\n",
       "       10365.439 , 10617.683 , 10795.646 , 11021.048 , 11026.584 ,\n",
       "       11001.014 , 11081.689 , 10956.875 , 10685.957 , 10538.893 ,\n",
       "       10331.688 , 10542.256 , 10660.749 , 10751.508 , 10791.017 ,\n",
       "       10853.21  , 10860.892 , 10792.071 , 10687.654 , 10610.377 ,\n",
       "       10574.604 , 10624.423 , 10731.348 , 10661.104 , 10664.549 ,\n",
       "       10831.286 , 11028.331 , 11307.964 , 11381.168 , 11643.02  ,\n",
       "       11585.482 , 11504.129 , 11522.189 , 11422.638 , 11410.6875,\n",
       "       11427.743 , 11689.777 , 11915.126 , 12765.842 , 13174.13  ,\n",
       "       13184.575 , 13188.123 , 13120.615 , 13164.853 , 13516.979 ,\n",
       "       13427.273 , 13524.807 , 13562.443 , 13842.751 , 13867.649 ,\n",
       "       13707.555 , 13827.999 , 14087.129 , 15065.786 , 15533.545 ,\n",
       "       15214.896 , 15450.328 , 15407.186 , 15523.303 , 15700.322 ,\n",
       "       16099.492 , 16445.703 , 16201.012 , 16057.889 , 16550.234 ,\n",
       "       17346.588 , 17840.188 , 18053.152 , 18555.676 , 18777.5   ,\n",
       "       18822.973 , 18633.924 , 18949.928 , 18918.89  , 17793.57  ,\n",
       "       17154.191 , 17435.973 , 17946.525 , 18947.652 , 19057.635 ,\n",
       "       19344.777 , 19547.535 , 19154.875 , 19159.605 , 19055.633 ,\n",
       "       19161.043 , 18874.727 , 18595.414 , 18444.84  , 18215.836 ,\n",
       "       18627.691 , 18942.793 , 19260.281 , 19457.072 , 20786.848 ,\n",
       "       22489.094 , 23211.71  , 23964.402 , 23931.188 , 23712.488 ,\n",
       "       23585.98  , 23337.379 , 23607.969 , 24250.953 , 25826.078 ,\n",
       "       26537.207 , 26915.688 , 27158.5   , 28454.754 , 29234.662 ,\n",
       "       29530.873 , 31487.945 , 32900.348 , 32481.28  , 33874.04  ,\n",
       "       35759.18  , 39116.035 , 40643.305 , 40910.617 , 40013.812 ,\n",
       "       36337.926 , 34638.566 , 35693.29  , 37550.84  , 37232.03  ,\n",
       "       36303.55  , 36423.58  , 36573.395 , 36597.895 , 35418.7   ,\n",
       "       32136.188 , 32513.61  , 31966.908 , 32210.695 , 32160.082 ,\n",
       "       32128.547 , 31413.27  , 32457.465 , 34217.777 , 34907.29  ,\n",
       "       33896.22  , 33622.07  , 35206.14  , 36911.438 , 37472.19  ,\n",
       "       37943.305 , 39836.184 , 39434.16  , 43222.234 , 45993.03  ,\n",
       "       46455.156 , 47638.227 , 47988.46  , 48201.277 , 48859.12  ,\n",
       "       48454.28  , 49113.176 , 51191.11  , 51948.273 , 55046.195 ,\n",
       "       55266.453 , 57122.64  , 55689.15  , 50685.984 , 48978.234 ,\n",
       "       47772.652 , 46382.117 , 45882.094 , 44873.54  , 47949.14  ,\n",
       "       48075.133 , 50107.883 , 49290.84  , 49306.39  , 49307.316 ,\n",
       "       50091.234 , 51430.367 , 53541.273 , 56432.375 , 57895.434 ,\n",
       "       58182.4   , 60237.027 , 60858.523 , 58309.51  , 56968.008 ,\n",
       "       57783.28  , 58302.18  , 58375.52  , 58395.465 , 58326.117 ,\n",
       "       55801.055 , 54736.67  , 53202.19  , 52303.07  , 53407.223 ,\n",
       "       55225.473 , 55831.47  , 57128.777 , 58549.24  , 59305.4   ,\n",
       "       59403.914 , 59118.27  , 58373.477 , 58214.133 , 58604.24  ,\n",
       "       58402.434 , 57175.89  , 57466.477 , 58056.875 , 59087.12  ,\n",
       "       59712.28  , 60026.746 , 62514.566 , 63212.543 , 63819.89  ,\n",
       "       62800.574 , 61410.098 , 58420.344 , 56394.46  , 56105.207 ,\n",
       "       54535.23  , 52504.484 , 50655.105 , 50422.21  , 48981.688 ,\n",
       "       51623.305 , 54119.344 , 55078.664 , 54213.227 , 56255.477 ,\n",
       "       57966.53  , 57375.766 , 57324.79  , 54953.54  , 56653.62  ,\n",
       "       56505.664 , 57107.65  , 58399.133 , 58292.504 , 57136.367 ,\n",
       "       56479.41  , 53561.805 , 50792.027 , 49521.098 , 47972.11  ,\n",
       "       46190.17  ], dtype=float32)>"
      ]
     },
     "execution_count": 81,
     "metadata": {},
     "output_type": "execute_result"
    }
   ],
   "source": [
    "# Making predictions\n",
    "model_5_preds = make_preds(model_5, test_windows)\n",
    "model_5_preds"
   ]
  },
  {
   "cell_type": "code",
   "execution_count": 82,
   "metadata": {},
   "outputs": [
    {
     "data": {
      "text/plain": [
       "{'mae': 592.9869,\n",
       " 'mse': 1257434.5,\n",
       " 'rmse': 1121.3539,\n",
       " 'mape': 2.6739311,\n",
       " 'mase': 1.0417137}"
      ]
     },
     "execution_count": 82,
     "metadata": {},
     "output_type": "execute_result"
    }
   ],
   "source": [
    "# Evaluating predictions\n",
    "model_5_results = evaluate_preds(\n",
    "    y_true=tf.squeeze(test_labels),\n",
    "    y_pred=model_5_preds\n",
    ")\n",
    "model_5_results"
   ]
  },
  {
   "cell_type": "code",
   "execution_count": 83,
   "metadata": {},
   "outputs": [],
   "source": [
    "# Adding Blockchain halving events\n",
    "block_reward_1 = 50 # 3 January 2009\n",
    "block_reward_2 = 25 # 8 November 2012\n",
    "block_reward_3 = 12.5 # 9 July 2016\n",
    "block_reward_4 = 6.25 # 18 May 2020\n",
    "\n",
    "# Adding block reward dates\n",
    "block_reward_2_datetime = np.datetime64(\"2012-11-08\")\n",
    "block_reward_3_datetime = np.datetime64(\"2016-07-09\")\n",
    "block_reward_4_datetime = np.datetime64(\"2020-05-18\")\n"
   ]
  },
  {
   "cell_type": "code",
   "execution_count": 84,
   "metadata": {},
   "outputs": [
    {
     "data": {
      "text/plain": [
       "(1012, 2421)"
      ]
     },
     "execution_count": 84,
     "metadata": {},
     "output_type": "execute_result"
    }
   ],
   "source": [
    "# Creating date ranges\n",
    "block_reward_2_days = (block_reward_3_datetime - bitcoin_prices.index[0]).days\n",
    "block_reward_3_days = (block_reward_4_datetime - bitcoin_prices.index[0]).days\n",
    "\n",
    "block_reward_2_days, block_reward_3_days"
   ]
  },
  {
   "cell_type": "code",
   "execution_count": 85,
   "metadata": {},
   "outputs": [],
   "source": [
    "# Adding in block_reward column\n",
    "bitcoin_prices_block = bitcoin_prices.copy()\n",
    "bitcoin_prices_block[\"block_reward\"] = None\n",
    "\n",
    "# Adding in block_reward values\n",
    "bitcoin_prices_block.iloc[:block_reward_2_days, -1] = block_reward_2\n",
    "bitcoin_prices_block.iloc[block_reward_2_days:block_reward_3_days, -1] = block_reward_3\n",
    "bitcoin_prices_block.iloc[block_reward_3_days:, -1] = block_reward_4"
   ]
  },
  {
   "cell_type": "code",
   "execution_count": 86,
   "metadata": {},
   "outputs": [
    {
     "data": {
      "text/html": [
       "<div>\n",
       "<style scoped>\n",
       "    .dataframe tbody tr th:only-of-type {\n",
       "        vertical-align: middle;\n",
       "    }\n",
       "\n",
       "    .dataframe tbody tr th {\n",
       "        vertical-align: top;\n",
       "    }\n",
       "\n",
       "    .dataframe thead th {\n",
       "        text-align: right;\n",
       "    }\n",
       "</style>\n",
       "<table border=\"1\" class=\"dataframe\">\n",
       "  <thead>\n",
       "    <tr style=\"text-align: right;\">\n",
       "      <th></th>\n",
       "      <th>Price</th>\n",
       "      <th>block_reward</th>\n",
       "    </tr>\n",
       "    <tr>\n",
       "      <th>Date</th>\n",
       "      <th></th>\n",
       "      <th></th>\n",
       "    </tr>\n",
       "  </thead>\n",
       "  <tbody>\n",
       "    <tr>\n",
       "      <th>2013-10-01</th>\n",
       "      <td>123.65499</td>\n",
       "      <td>25</td>\n",
       "    </tr>\n",
       "    <tr>\n",
       "      <th>2013-10-02</th>\n",
       "      <td>125.45500</td>\n",
       "      <td>25</td>\n",
       "    </tr>\n",
       "    <tr>\n",
       "      <th>2013-10-03</th>\n",
       "      <td>108.58483</td>\n",
       "      <td>25</td>\n",
       "    </tr>\n",
       "    <tr>\n",
       "      <th>2013-10-04</th>\n",
       "      <td>118.67466</td>\n",
       "      <td>25</td>\n",
       "    </tr>\n",
       "    <tr>\n",
       "      <th>2013-10-05</th>\n",
       "      <td>121.33866</td>\n",
       "      <td>25</td>\n",
       "    </tr>\n",
       "  </tbody>\n",
       "</table>\n",
       "</div>"
      ],
      "text/plain": [
       "                Price block_reward\n",
       "Date                              \n",
       "2013-10-01  123.65499           25\n",
       "2013-10-02  125.45500           25\n",
       "2013-10-03  108.58483           25\n",
       "2013-10-04  118.67466           25\n",
       "2013-10-05  121.33866           25"
      ]
     },
     "execution_count": 86,
     "metadata": {},
     "output_type": "execute_result"
    }
   ],
   "source": [
    "# Check top 5 values\n",
    "bitcoin_prices_block.head()"
   ]
  },
  {
   "cell_type": "code",
   "execution_count": 87,
   "metadata": {},
   "outputs": [
    {
     "data": {
      "text/html": [
       "<div>\n",
       "<style scoped>\n",
       "    .dataframe tbody tr th:only-of-type {\n",
       "        vertical-align: middle;\n",
       "    }\n",
       "\n",
       "    .dataframe tbody tr th {\n",
       "        vertical-align: top;\n",
       "    }\n",
       "\n",
       "    .dataframe thead th {\n",
       "        text-align: right;\n",
       "    }\n",
       "</style>\n",
       "<table border=\"1\" class=\"dataframe\">\n",
       "  <thead>\n",
       "    <tr style=\"text-align: right;\">\n",
       "      <th></th>\n",
       "      <th>Price</th>\n",
       "      <th>block_reward</th>\n",
       "    </tr>\n",
       "    <tr>\n",
       "      <th>Date</th>\n",
       "      <th></th>\n",
       "      <th></th>\n",
       "    </tr>\n",
       "  </thead>\n",
       "  <tbody>\n",
       "    <tr>\n",
       "      <th>2017-11-09</th>\n",
       "      <td>7342.82375</td>\n",
       "      <td>12.5</td>\n",
       "    </tr>\n",
       "    <tr>\n",
       "      <th>2017-11-10</th>\n",
       "      <td>7250.77000</td>\n",
       "      <td>12.5</td>\n",
       "    </tr>\n",
       "    <tr>\n",
       "      <th>2017-11-11</th>\n",
       "      <td>6773.69500</td>\n",
       "      <td>12.5</td>\n",
       "    </tr>\n",
       "    <tr>\n",
       "      <th>2017-11-12</th>\n",
       "      <td>6075.30125</td>\n",
       "      <td>12.5</td>\n",
       "    </tr>\n",
       "    <tr>\n",
       "      <th>2017-11-13</th>\n",
       "      <td>5969.13000</td>\n",
       "      <td>12.5</td>\n",
       "    </tr>\n",
       "  </tbody>\n",
       "</table>\n",
       "</div>"
      ],
      "text/plain": [
       "                 Price block_reward\n",
       "Date                               \n",
       "2017-11-09  7342.82375         12.5\n",
       "2017-11-10  7250.77000         12.5\n",
       "2017-11-11  6773.69500         12.5\n",
       "2017-11-12  6075.30125         12.5\n",
       "2017-11-13  5969.13000         12.5"
      ]
     },
     "execution_count": 87,
     "metadata": {},
     "output_type": "execute_result"
    }
   ],
   "source": [
    "# Checking 5 mid values\n",
    "bitcoin_prices_block[1500:1505]"
   ]
  },
  {
   "cell_type": "code",
   "execution_count": 88,
   "metadata": {},
   "outputs": [
    {
     "data": {
      "text/html": [
       "<div>\n",
       "<style scoped>\n",
       "    .dataframe tbody tr th:only-of-type {\n",
       "        vertical-align: middle;\n",
       "    }\n",
       "\n",
       "    .dataframe tbody tr th {\n",
       "        vertical-align: top;\n",
       "    }\n",
       "\n",
       "    .dataframe thead th {\n",
       "        text-align: right;\n",
       "    }\n",
       "</style>\n",
       "<table border=\"1\" class=\"dataframe\">\n",
       "  <thead>\n",
       "    <tr style=\"text-align: right;\">\n",
       "      <th></th>\n",
       "      <th>Price</th>\n",
       "      <th>block_reward</th>\n",
       "    </tr>\n",
       "    <tr>\n",
       "      <th>Date</th>\n",
       "      <th></th>\n",
       "      <th></th>\n",
       "    </tr>\n",
       "  </thead>\n",
       "  <tbody>\n",
       "    <tr>\n",
       "      <th>2021-05-14</th>\n",
       "      <td>49764.132082</td>\n",
       "      <td>6.25</td>\n",
       "    </tr>\n",
       "    <tr>\n",
       "      <th>2021-05-15</th>\n",
       "      <td>50032.693137</td>\n",
       "      <td>6.25</td>\n",
       "    </tr>\n",
       "    <tr>\n",
       "      <th>2021-05-16</th>\n",
       "      <td>47885.625255</td>\n",
       "      <td>6.25</td>\n",
       "    </tr>\n",
       "    <tr>\n",
       "      <th>2021-05-17</th>\n",
       "      <td>45604.615754</td>\n",
       "      <td>6.25</td>\n",
       "    </tr>\n",
       "    <tr>\n",
       "      <th>2021-05-18</th>\n",
       "      <td>43144.471291</td>\n",
       "      <td>6.25</td>\n",
       "    </tr>\n",
       "  </tbody>\n",
       "</table>\n",
       "</div>"
      ],
      "text/plain": [
       "                   Price block_reward\n",
       "Date                                 \n",
       "2021-05-14  49764.132082         6.25\n",
       "2021-05-15  50032.693137         6.25\n",
       "2021-05-16  47885.625255         6.25\n",
       "2021-05-17  45604.615754         6.25\n",
       "2021-05-18  43144.471291         6.25"
      ]
     },
     "execution_count": 88,
     "metadata": {},
     "output_type": "execute_result"
    }
   ],
   "source": [
    "# Checking last 5 values\n",
    "bitcoin_prices_block.tail()"
   ]
  },
  {
   "cell_type": "code",
   "execution_count": 89,
   "metadata": {},
   "outputs": [
    {
     "data": {
      "text/plain": [
       "<AxesSubplot:xlabel='Date'>"
      ]
     },
     "execution_count": 89,
     "metadata": {},
     "output_type": "execute_result"
    },
    {
     "data": {
      "image/png": "[encoded data removed]",
      "text/plain": [
       "<Figure size 720x504 with 1 Axes>"
      ]
     },
     "metadata": {
      "needs_background": "light"
     },
     "output_type": "display_data"
    }
   ],
   "source": [
    "# Plotting block reward vs price over time\n",
    "from sklearn.preprocessing import minmax_scale\n",
    "\n",
    "scaled_price_block_df = pd.DataFrame(\n",
    "    minmax_scale(bitcoin_prices_block[[\"Price\", \"block_reward\"]]),\n",
    "    columns=bitcoin_prices_block.columns,\n",
    "    index=bitcoin_prices_block.index\n",
    ")\n",
    "scaled_price_block_df.plot(figsize=(10, 7))"
   ]
  },
  {
   "attachments": {},
   "cell_type": "markdown",
   "metadata": {},
   "source": [
    "### Creating windowed multi-variate dataset with pandas"
   ]
  },
  {
   "cell_type": "code",
   "execution_count": 90,
   "metadata": {},
   "outputs": [],
   "source": [
    "# Setting up hyperparameters\n",
    "HORIZON = 1\n",
    "WINDOW_SIZE = 7"
   ]
  },
  {
   "cell_type": "code",
   "execution_count": 91,
   "metadata": {},
   "outputs": [
    {
     "data": {
      "text/html": [
       "<div>\n",
       "<style scoped>\n",
       "    .dataframe tbody tr th:only-of-type {\n",
       "        vertical-align: middle;\n",
       "    }\n",
       "\n",
       "    .dataframe tbody tr th {\n",
       "        vertical-align: top;\n",
       "    }\n",
       "\n",
       "    .dataframe thead th {\n",
       "        text-align: right;\n",
       "    }\n",
       "</style>\n",
       "<table border=\"1\" class=\"dataframe\">\n",
       "  <thead>\n",
       "    <tr style=\"text-align: right;\">\n",
       "      <th></th>\n",
       "      <th>Price</th>\n",
       "      <th>block_reward</th>\n",
       "      <th>Price+1</th>\n",
       "      <th>Price+2</th>\n",
       "      <th>Price+3</th>\n",
       "      <th>Price+4</th>\n",
       "      <th>Price+5</th>\n",
       "      <th>Price+6</th>\n",
       "      <th>Price+7</th>\n",
       "    </tr>\n",
       "    <tr>\n",
       "      <th>Date</th>\n",
       "      <th></th>\n",
       "      <th></th>\n",
       "      <th></th>\n",
       "      <th></th>\n",
       "      <th></th>\n",
       "      <th></th>\n",
       "      <th></th>\n",
       "      <th></th>\n",
       "      <th></th>\n",
       "    </tr>\n",
       "  </thead>\n",
       "  <tbody>\n",
       "    <tr>\n",
       "      <th>2013-10-01</th>\n",
       "      <td>123.65499</td>\n",
       "      <td>25</td>\n",
       "      <td>NaN</td>\n",
       "      <td>NaN</td>\n",
       "      <td>NaN</td>\n",
       "      <td>NaN</td>\n",
       "      <td>NaN</td>\n",
       "      <td>NaN</td>\n",
       "      <td>NaN</td>\n",
       "    </tr>\n",
       "    <tr>\n",
       "      <th>2013-10-02</th>\n",
       "      <td>125.45500</td>\n",
       "      <td>25</td>\n",
       "      <td>123.65499</td>\n",
       "      <td>NaN</td>\n",
       "      <td>NaN</td>\n",
       "      <td>NaN</td>\n",
       "      <td>NaN</td>\n",
       "      <td>NaN</td>\n",
       "      <td>NaN</td>\n",
       "    </tr>\n",
       "    <tr>\n",
       "      <th>2013-10-03</th>\n",
       "      <td>108.58483</td>\n",
       "      <td>25</td>\n",
       "      <td>125.45500</td>\n",
       "      <td>123.65499</td>\n",
       "      <td>NaN</td>\n",
       "      <td>NaN</td>\n",
       "      <td>NaN</td>\n",
       "      <td>NaN</td>\n",
       "      <td>NaN</td>\n",
       "    </tr>\n",
       "    <tr>\n",
       "      <th>2013-10-04</th>\n",
       "      <td>118.67466</td>\n",
       "      <td>25</td>\n",
       "      <td>108.58483</td>\n",
       "      <td>125.45500</td>\n",
       "      <td>123.65499</td>\n",
       "      <td>NaN</td>\n",
       "      <td>NaN</td>\n",
       "      <td>NaN</td>\n",
       "      <td>NaN</td>\n",
       "    </tr>\n",
       "    <tr>\n",
       "      <th>2013-10-05</th>\n",
       "      <td>121.33866</td>\n",
       "      <td>25</td>\n",
       "      <td>118.67466</td>\n",
       "      <td>108.58483</td>\n",
       "      <td>125.45500</td>\n",
       "      <td>123.65499</td>\n",
       "      <td>NaN</td>\n",
       "      <td>NaN</td>\n",
       "      <td>NaN</td>\n",
       "    </tr>\n",
       "    <tr>\n",
       "      <th>2013-10-06</th>\n",
       "      <td>120.65533</td>\n",
       "      <td>25</td>\n",
       "      <td>121.33866</td>\n",
       "      <td>118.67466</td>\n",
       "      <td>108.58483</td>\n",
       "      <td>125.45500</td>\n",
       "      <td>123.65499</td>\n",
       "      <td>NaN</td>\n",
       "      <td>NaN</td>\n",
       "    </tr>\n",
       "    <tr>\n",
       "      <th>2013-10-07</th>\n",
       "      <td>121.79500</td>\n",
       "      <td>25</td>\n",
       "      <td>120.65533</td>\n",
       "      <td>121.33866</td>\n",
       "      <td>118.67466</td>\n",
       "      <td>108.58483</td>\n",
       "      <td>125.45500</td>\n",
       "      <td>123.65499</td>\n",
       "      <td>NaN</td>\n",
       "    </tr>\n",
       "    <tr>\n",
       "      <th>2013-10-08</th>\n",
       "      <td>123.03300</td>\n",
       "      <td>25</td>\n",
       "      <td>121.79500</td>\n",
       "      <td>120.65533</td>\n",
       "      <td>121.33866</td>\n",
       "      <td>118.67466</td>\n",
       "      <td>108.58483</td>\n",
       "      <td>125.45500</td>\n",
       "      <td>123.65499</td>\n",
       "    </tr>\n",
       "    <tr>\n",
       "      <th>2013-10-09</th>\n",
       "      <td>124.04900</td>\n",
       "      <td>25</td>\n",
       "      <td>123.03300</td>\n",
       "      <td>121.79500</td>\n",
       "      <td>120.65533</td>\n",
       "      <td>121.33866</td>\n",
       "      <td>118.67466</td>\n",
       "      <td>108.58483</td>\n",
       "      <td>125.45500</td>\n",
       "    </tr>\n",
       "    <tr>\n",
       "      <th>2013-10-10</th>\n",
       "      <td>125.96116</td>\n",
       "      <td>25</td>\n",
       "      <td>124.04900</td>\n",
       "      <td>123.03300</td>\n",
       "      <td>121.79500</td>\n",
       "      <td>120.65533</td>\n",
       "      <td>121.33866</td>\n",
       "      <td>118.67466</td>\n",
       "      <td>108.58483</td>\n",
       "    </tr>\n",
       "  </tbody>\n",
       "</table>\n",
       "</div>"
      ],
      "text/plain": [
       "                Price block_reward    Price+1    Price+2    Price+3  \\\n",
       "Date                                                                  \n",
       "2013-10-01  123.65499           25        NaN        NaN        NaN   \n",
       "2013-10-02  125.45500           25  123.65499        NaN        NaN   \n",
       "2013-10-03  108.58483           25  125.45500  123.65499        NaN   \n",
       "2013-10-04  118.67466           25  108.58483  125.45500  123.65499   \n",
       "2013-10-05  121.33866           25  118.67466  108.58483  125.45500   \n",
       "2013-10-06  120.65533           25  121.33866  118.67466  108.58483   \n",
       "2013-10-07  121.79500           25  120.65533  121.33866  118.67466   \n",
       "2013-10-08  123.03300           25  121.79500  120.65533  121.33866   \n",
       "2013-10-09  124.04900           25  123.03300  121.79500  120.65533   \n",
       "2013-10-10  125.96116           25  124.04900  123.03300  121.79500   \n",
       "\n",
       "              Price+4    Price+5    Price+6    Price+7  \n",
       "Date                                                    \n",
       "2013-10-01        NaN        NaN        NaN        NaN  \n",
       "2013-10-02        NaN        NaN        NaN        NaN  \n",
       "2013-10-03        NaN        NaN        NaN        NaN  \n",
       "2013-10-04        NaN        NaN        NaN        NaN  \n",
       "2013-10-05  123.65499        NaN        NaN        NaN  \n",
       "2013-10-06  125.45500  123.65499        NaN        NaN  \n",
       "2013-10-07  108.58483  125.45500  123.65499        NaN  \n",
       "2013-10-08  118.67466  108.58483  125.45500  123.65499  \n",
       "2013-10-09  121.33866  118.67466  108.58483  125.45500  \n",
       "2013-10-10  120.65533  121.33866  118.67466  108.58483  "
      ]
     },
     "execution_count": 91,
     "metadata": {},
     "output_type": "execute_result"
    }
   ],
   "source": [
    "# Making a copy of Bitcoin dataset\n",
    "bitcoin_prices_windowed = bitcoin_prices_block.copy()\n",
    "\n",
    "# Adding windowed column\n",
    "for i in range(WINDOW_SIZE):\n",
    "    bitcoin_prices_windowed[f\"Price+{i + 1}\"] = bitcoin_prices_windowed[\"Price\"].shift(periods=i+1)\n",
    "\n",
    "bitcoin_prices_windowed.head(10)"
   ]
  },
  {
   "cell_type": "code",
   "execution_count": 92,
   "metadata": {},
   "outputs": [
    {
     "data": {
      "text/plain": [
       "(            block_reward     Price+1     Price+2     Price+3     Price+4  \\\n",
       " Date                                                                       \n",
       " 2013-10-08          25.0  121.794998  120.655327  121.338661  118.674660   \n",
       " 2013-10-09          25.0  123.032997  121.794998  120.655327  121.338661   \n",
       " 2013-10-10          25.0  124.049004  123.032997  121.794998  120.655327   \n",
       " 2013-10-11          25.0  125.961159  124.049004  123.032997  121.794998   \n",
       " 2013-10-12          25.0  125.279663  125.961159  124.049004  123.032997   \n",
       " \n",
       "                Price+5     Price+6     Price+7  \n",
       " Date                                            \n",
       " 2013-10-08  108.584831  125.455002  123.654991  \n",
       " 2013-10-09  118.674660  108.584831  125.455002  \n",
       " 2013-10-10  121.338661  118.674660  108.584831  \n",
       " 2013-10-11  120.655327  121.338661  118.674660  \n",
       " 2013-10-12  121.794998  120.655327  121.338661  ,\n",
       " Date\n",
       " 2013-10-08    123.032997\n",
       " 2013-10-09    124.049004\n",
       " 2013-10-10    125.961159\n",
       " 2013-10-11    125.279663\n",
       " 2013-10-12    125.927498\n",
       " Name: Price, dtype: float32)"
      ]
     },
     "execution_count": 92,
     "metadata": {},
     "output_type": "execute_result"
    }
   ],
   "source": [
    "# Creating X (windows) and y (horizon)\n",
    "X = bitcoin_prices_windowed.dropna().drop(\"Price\", axis=1).astype(np.float32)\n",
    "y = bitcoin_prices_windowed.dropna()[\"Price\"].astype(np.float32)\n",
    "\n",
    "X.head(), y.head()"
   ]
  },
  {
   "cell_type": "code",
   "execution_count": 93,
   "metadata": {},
   "outputs": [
    {
     "data": {
      "text/plain": [
       "(2224, 2224, 556, 556)"
      ]
     },
     "execution_count": 93,
     "metadata": {},
     "output_type": "execute_result"
    }
   ],
   "source": [
    "# Making train and test sets, using indexing\n",
    "split_size = int(len(X) * 0.8)\n",
    "\n",
    "X_train, y_train = X[:split_size], y[:split_size]\n",
    "X_test, y_test = X[split_size:], y[split_size:]\n",
    "\n",
    "len(X_train), len(y_train), len(X_test), len(y_test)"
   ]
  },
  {
   "attachments": {},
   "cell_type": "markdown",
   "metadata": {},
   "source": [
    "### Model 6 - Dense (multivariate time series)"
   ]
  },
  {
   "cell_type": "code",
   "execution_count": 94,
   "metadata": {},
   "outputs": [
    {
     "name": "stdout",
     "output_type": "stream",
     "text": [
      "Epoch 1/100\n",
      "11/18 [=================>............] - ETA: 0s - loss: 1066.9863 INFO:tensorflow:Assets written to: model_experiments\\model_6_dense_multivariate\\assets\n"
     ]
    },
    {
     "name": "stderr",
     "output_type": "stream",
     "text": [
      "INFO:tensorflow:Assets written to: model_experiments\\model_6_dense_multivariate\\assets\n"
     ]
    },
    {
     "name": "stdout",
     "output_type": "stream",
     "text": [
      "18/18 [==============================] - 4s 150ms/step - loss: 837.4468 - val_loss: 2015.5699\n",
      "Epoch 2/100\n",
      "12/18 [===================>..........] - ETA: 0s - loss: 254.0809INFO:tensorflow:Assets written to: model_experiments\\model_6_dense_multivariate\\assets\n"
     ]
    },
    {
     "name": "stderr",
     "output_type": "stream",
     "text": [
      "INFO:tensorflow:Assets written to: model_experiments\\model_6_dense_multivariate\\assets\n"
     ]
    },
    {
     "name": "stdout",
     "output_type": "stream",
     "text": [
      "18/18 [==============================] - 2s 90ms/step - loss: 234.4892 - val_loss: 1202.4396\n",
      "Epoch 3/100\n",
      "13/18 [====================>.........] - ETA: 0s - loss: 192.3786INFO:tensorflow:Assets written to: model_experiments\\model_6_dense_multivariate\\assets\n"
     ]
    },
    {
     "name": "stderr",
     "output_type": "stream",
     "text": [
      "INFO:tensorflow:Assets written to: model_experiments\\model_6_dense_multivariate\\assets\n"
     ]
    },
    {
     "name": "stdout",
     "output_type": "stream",
     "text": [
      "18/18 [==============================] - 2s 93ms/step - loss: 188.7472 - val_loss: 991.2485\n",
      "Epoch 4/100\n",
      "18/18 [==============================] - 0s 11ms/step - loss: 178.2491 - val_loss: 992.9229\n",
      "Epoch 5/100\n",
      "12/18 [===================>..........] - ETA: 0s - loss: 185.1179INFO:tensorflow:Assets written to: model_experiments\\model_6_dense_multivariate\\assets\n"
     ]
    },
    {
     "name": "stderr",
     "output_type": "stream",
     "text": [
      "INFO:tensorflow:Assets written to: model_experiments\\model_6_dense_multivariate\\assets\n"
     ]
    },
    {
     "name": "stdout",
     "output_type": "stream",
     "text": [
      "18/18 [==============================] - 2s 91ms/step - loss: 176.7009 - val_loss: 988.5407\n",
      "Epoch 6/100\n",
      "10/18 [===============>..............] - ETA: 0s - loss: 168.5044INFO:tensorflow:Assets written to: model_experiments\\model_6_dense_multivariate\\assets\n"
     ]
    },
    {
     "name": "stderr",
     "output_type": "stream",
     "text": [
      "INFO:tensorflow:Assets written to: model_experiments\\model_6_dense_multivariate\\assets\n"
     ]
    },
    {
     "name": "stdout",
     "output_type": "stream",
     "text": [
      "18/18 [==============================] - 2s 93ms/step - loss: 171.4262 - val_loss: 961.1464\n",
      "Epoch 7/100\n",
      "17/18 [===========================>..] - ETA: 0s - loss: 165.0211INFO:tensorflow:Assets written to: model_experiments\\model_6_dense_multivariate\\assets\n"
     ]
    },
    {
     "name": "stderr",
     "output_type": "stream",
     "text": [
      "INFO:tensorflow:Assets written to: model_experiments\\model_6_dense_multivariate\\assets\n"
     ]
    },
    {
     "name": "stdout",
     "output_type": "stream",
     "text": [
      "18/18 [==============================] - 2s 101ms/step - loss: 164.1448 - val_loss: 955.2941\n",
      "Epoch 8/100\n",
      "13/18 [====================>.........] - ETA: 0s - loss: 157.2998INFO:tensorflow:Assets written to: model_experiments\\model_6_dense_multivariate\\assets\n"
     ]
    },
    {
     "name": "stderr",
     "output_type": "stream",
     "text": [
      "INFO:tensorflow:Assets written to: model_experiments\\model_6_dense_multivariate\\assets\n"
     ]
    },
    {
     "name": "stdout",
     "output_type": "stream",
     "text": [
      "18/18 [==============================] - 2s 92ms/step - loss: 156.1147 - val_loss: 852.5029\n",
      "Epoch 9/100\n",
      "11/18 [=================>............] - ETA: 0s - loss: 154.4891INFO:tensorflow:Assets written to: model_experiments\\model_6_dense_multivariate\\assets\n"
     ]
    },
    {
     "name": "stderr",
     "output_type": "stream",
     "text": [
      "INFO:tensorflow:Assets written to: model_experiments\\model_6_dense_multivariate\\assets\n"
     ]
    },
    {
     "name": "stdout",
     "output_type": "stream",
     "text": [
      "18/18 [==============================] - 2s 90ms/step - loss: 153.3041 - val_loss: 813.9771\n",
      "Epoch 10/100\n",
      "12/18 [===================>..........] - ETA: 0s - loss: 140.2118INFO:tensorflow:Assets written to: model_experiments\\model_6_dense_multivariate\\assets\n"
     ]
    },
    {
     "name": "stderr",
     "output_type": "stream",
     "text": [
      "INFO:tensorflow:Assets written to: model_experiments\\model_6_dense_multivariate\\assets\n"
     ]
    },
    {
     "name": "stdout",
     "output_type": "stream",
     "text": [
      "18/18 [==============================] - 1s 87ms/step - loss: 146.0242 - val_loss: 774.3479\n",
      "Epoch 11/100\n",
      "18/18 [==============================] - 0s 11ms/step - loss: 138.0024 - val_loss: 809.6813\n",
      "Epoch 12/100\n",
      "18/18 [==============================] - 0s 11ms/step - loss: 134.4968 - val_loss: 830.4316\n",
      "Epoch 13/100\n",
      "10/18 [===============>..............] - ETA: 0s - loss: 130.0929INFO:tensorflow:Assets written to: model_experiments\\model_6_dense_multivariate\\assets\n"
     ]
    },
    {
     "name": "stderr",
     "output_type": "stream",
     "text": [
      "INFO:tensorflow:Assets written to: model_experiments\\model_6_dense_multivariate\\assets\n"
     ]
    },
    {
     "name": "stdout",
     "output_type": "stream",
     "text": [
      "18/18 [==============================] - 2s 113ms/step - loss: 135.9010 - val_loss: 762.7087\n",
      "Epoch 14/100\n",
      "13/18 [====================>.........] - ETA: 0s - loss: 128.7328INFO:tensorflow:Assets written to: model_experiments\\model_6_dense_multivariate\\assets\n"
     ]
    },
    {
     "name": "stderr",
     "output_type": "stream",
     "text": [
      "INFO:tensorflow:Assets written to: model_experiments\\model_6_dense_multivariate\\assets\n"
     ]
    },
    {
     "name": "stdout",
     "output_type": "stream",
     "text": [
      "18/18 [==============================] - 2s 94ms/step - loss: 130.7937 - val_loss: 713.7661\n",
      "Epoch 15/100\n",
      "18/18 [==============================] - 0s 10ms/step - loss: 136.1564 - val_loss: 770.3311\n",
      "Epoch 16/100\n",
      "18/18 [==============================] - 0s 11ms/step - loss: 131.5014 - val_loss: 832.9944\n",
      "Epoch 17/100\n",
      "18/18 [==============================] - 0s 12ms/step - loss: 125.1766 - val_loss: 743.1682\n",
      "Epoch 18/100\n",
      "11/18 [=================>............] - ETA: 0s - loss: 126.0797INFO:tensorflow:Assets written to: model_experiments\\model_6_dense_multivariate\\assets\n"
     ]
    },
    {
     "name": "stderr",
     "output_type": "stream",
     "text": [
      "INFO:tensorflow:Assets written to: model_experiments\\model_6_dense_multivariate\\assets\n"
     ]
    },
    {
     "name": "stdout",
     "output_type": "stream",
     "text": [
      "18/18 [==============================] - 2s 103ms/step - loss: 120.4873 - val_loss: 654.5245\n",
      "Epoch 19/100\n",
      "18/18 [==============================] - 0s 12ms/step - loss: 117.7674 - val_loss: 715.4783\n",
      "Epoch 20/100\n",
      "11/18 [=================>............] - ETA: 0s - loss: 121.6788INFO:tensorflow:Assets written to: model_experiments\\model_6_dense_multivariate\\assets\n"
     ]
    },
    {
     "name": "stderr",
     "output_type": "stream",
     "text": [
      "INFO:tensorflow:Assets written to: model_experiments\\model_6_dense_multivariate\\assets\n"
     ]
    },
    {
     "name": "stdout",
     "output_type": "stream",
     "text": [
      "18/18 [==============================] - 2s 93ms/step - loss: 117.8872 - val_loss: 641.8597\n",
      "Epoch 21/100\n",
      "18/18 [==============================] - 0s 11ms/step - loss: 120.2477 - val_loss: 642.0820\n",
      "Epoch 22/100\n",
      "11/18 [=================>............] - ETA: 0s - loss: 124.7522INFO:tensorflow:Assets written to: model_experiments\\model_6_dense_multivariate\\assets\n"
     ]
    },
    {
     "name": "stderr",
     "output_type": "stream",
     "text": [
      "INFO:tensorflow:Assets written to: model_experiments\\model_6_dense_multivariate\\assets\n"
     ]
    },
    {
     "name": "stdout",
     "output_type": "stream",
     "text": [
      "18/18 [==============================] - 2s 97ms/step - loss: 114.2518 - val_loss: 623.9644\n",
      "Epoch 23/100\n",
      "10/18 [===============>..............] - ETA: 0s - loss: 109.5055INFO:tensorflow:Assets written to: model_experiments\\model_6_dense_multivariate\\assets\n"
     ]
    },
    {
     "name": "stderr",
     "output_type": "stream",
     "text": [
      "INFO:tensorflow:Assets written to: model_experiments\\model_6_dense_multivariate\\assets\n"
     ]
    },
    {
     "name": "stdout",
     "output_type": "stream",
     "text": [
      "18/18 [==============================] - 2s 96ms/step - loss: 112.2519 - val_loss: 611.6459\n",
      "Epoch 24/100\n",
      "11/18 [=================>............] - ETA: 0s - loss: 112.3774INFO:tensorflow:Assets written to: model_experiments\\model_6_dense_multivariate\\assets\n"
     ]
    },
    {
     "name": "stderr",
     "output_type": "stream",
     "text": [
      "INFO:tensorflow:Assets written to: model_experiments\\model_6_dense_multivariate\\assets\n"
     ]
    },
    {
     "name": "stdout",
     "output_type": "stream",
     "text": [
      "18/18 [==============================] - 2s 90ms/step - loss: 112.3419 - val_loss: 604.2345\n",
      "Epoch 25/100\n",
      "17/18 [===========================>..] - ETA: 0s - loss: 112.9001INFO:tensorflow:Assets written to: model_experiments\\model_6_dense_multivariate\\assets\n"
     ]
    },
    {
     "name": "stderr",
     "output_type": "stream",
     "text": [
      "INFO:tensorflow:Assets written to: model_experiments\\model_6_dense_multivariate\\assets\n"
     ]
    },
    {
     "name": "stdout",
     "output_type": "stream",
     "text": [
      "18/18 [==============================] - 2s 91ms/step - loss: 112.5093 - val_loss: 596.5444\n",
      "Epoch 26/100\n",
      "14/18 [======================>.......] - ETA: 0s - loss: 111.4963INFO:tensorflow:Assets written to: model_experiments\\model_6_dense_multivariate\\assets\n"
     ]
    },
    {
     "name": "stderr",
     "output_type": "stream",
     "text": [
      "INFO:tensorflow:Assets written to: model_experiments\\model_6_dense_multivariate\\assets\n"
     ]
    },
    {
     "name": "stdout",
     "output_type": "stream",
     "text": [
      "18/18 [==============================] - 2s 91ms/step - loss: 111.6410 - val_loss: 591.9797\n",
      "Epoch 27/100\n",
      "18/18 [==============================] - 0s 12ms/step - loss: 112.3916 - val_loss: 609.7314\n",
      "Epoch 28/100\n",
      "12/18 [===================>..........] - ETA: 0s - loss: 110.0361INFO:tensorflow:Assets written to: model_experiments\\model_6_dense_multivariate\\assets\n"
     ]
    },
    {
     "name": "stderr",
     "output_type": "stream",
     "text": [
      "INFO:tensorflow:Assets written to: model_experiments\\model_6_dense_multivariate\\assets\n"
     ]
    },
    {
     "name": "stdout",
     "output_type": "stream",
     "text": [
      "18/18 [==============================] - 2s 92ms/step - loss: 109.2080 - val_loss: 585.9574\n",
      "Epoch 29/100\n",
      "18/18 [==============================] - 0s 12ms/step - loss: 110.4720 - val_loss: 591.7134\n",
      "Epoch 30/100\n",
      "12/18 [===================>..........] - ETA: 0s - loss: 115.4555INFO:tensorflow:Assets written to: model_experiments\\model_6_dense_multivariate\\assets\n"
     ]
    },
    {
     "name": "stderr",
     "output_type": "stream",
     "text": [
      "INFO:tensorflow:Assets written to: model_experiments\\model_6_dense_multivariate\\assets\n"
     ]
    },
    {
     "name": "stdout",
     "output_type": "stream",
     "text": [
      "18/18 [==============================] - 2s 98ms/step - loss: 115.2856 - val_loss: 579.3574\n",
      "Epoch 31/100\n",
      "18/18 [==============================] - 0s 13ms/step - loss: 108.4878 - val_loss: 603.4230\n",
      "Epoch 32/100\n",
      "18/18 [==============================] - 0s 10ms/step - loss: 112.0629 - val_loss: 631.3937\n",
      "Epoch 33/100\n",
      "18/18 [==============================] - 0s 11ms/step - loss: 111.1190 - val_loss: 579.5723\n",
      "Epoch 34/100\n",
      "13/18 [====================>.........] - ETA: 0s - loss: 112.0621INFO:tensorflow:Assets written to: model_experiments\\model_6_dense_multivariate\\assets\n"
     ]
    },
    {
     "name": "stderr",
     "output_type": "stream",
     "text": [
      "INFO:tensorflow:Assets written to: model_experiments\\model_6_dense_multivariate\\assets\n"
     ]
    },
    {
     "name": "stdout",
     "output_type": "stream",
     "text": [
      "18/18 [==============================] - 2s 96ms/step - loss: 109.7698 - val_loss: 575.0445\n",
      "Epoch 35/100\n",
      "10/18 [===============>..............] - ETA: 0s - loss: 108.1565INFO:tensorflow:Assets written to: model_experiments\\model_6_dense_multivariate\\assets\n"
     ]
    },
    {
     "name": "stderr",
     "output_type": "stream",
     "text": [
      "INFO:tensorflow:Assets written to: model_experiments\\model_6_dense_multivariate\\assets\n"
     ]
    },
    {
     "name": "stdout",
     "output_type": "stream",
     "text": [
      "18/18 [==============================] - 2s 96ms/step - loss: 108.4252 - val_loss: 574.3498\n",
      "Epoch 36/100\n",
      " 1/18 [>.............................] - ETA: 0s - loss: 149.9538INFO:tensorflow:Assets written to: model_experiments\\model_6_dense_multivariate\\assets\n"
     ]
    },
    {
     "name": "stderr",
     "output_type": "stream",
     "text": [
      "INFO:tensorflow:Assets written to: model_experiments\\model_6_dense_multivariate\\assets\n"
     ]
    },
    {
     "name": "stdout",
     "output_type": "stream",
     "text": [
      "18/18 [==============================] - 2s 88ms/step - loss: 114.5829 - val_loss: 573.6526\n",
      "Epoch 37/100\n",
      "18/18 [==============================] - 0s 12ms/step - loss: 108.3277 - val_loss: 575.5991\n",
      "Epoch 38/100\n",
      "18/18 [==============================] - 0s 12ms/step - loss: 110.7496 - val_loss: 588.8859\n",
      "Epoch 39/100\n",
      "18/18 [==============================] - 0s 11ms/step - loss: 107.8536 - val_loss: 588.4160\n",
      "Epoch 40/100\n",
      "18/18 [==============================] - 0s 12ms/step - loss: 107.5754 - val_loss: 574.8030\n",
      "Epoch 41/100\n",
      "18/18 [==============================] - 0s 10ms/step - loss: 106.5625 - val_loss: 594.8533\n",
      "Epoch 42/100\n",
      "18/18 [==============================] - 0s 12ms/step - loss: 116.5429 - val_loss: 607.5731\n",
      "Epoch 43/100\n",
      "18/18 [==============================] - 0s 13ms/step - loss: 115.4264 - val_loss: 640.5305\n",
      "Epoch 44/100\n",
      "18/18 [==============================] - 0s 12ms/step - loss: 109.6542 - val_loss: 579.1795\n",
      "Epoch 45/100\n",
      "18/18 [==============================] - 0s 11ms/step - loss: 106.5772 - val_loss: 574.0607\n",
      "Epoch 46/100\n",
      "18/18 [==============================] - 0s 12ms/step - loss: 108.5739 - val_loss: 613.4578\n",
      "Epoch 47/100\n",
      "18/18 [==============================] - 0s 13ms/step - loss: 109.1167 - val_loss: 584.9932\n",
      "Epoch 48/100\n",
      "18/18 [==============================] - 0s 15ms/step - loss: 107.0296 - val_loss: 594.7453\n",
      "Epoch 49/100\n",
      "18/18 [==============================] - 0s 12ms/step - loss: 111.6218 - val_loss: 597.5203\n",
      "Epoch 50/100\n",
      "18/18 [==============================] - 0s 11ms/step - loss: 113.6451 - val_loss: 694.3026\n",
      "Epoch 51/100\n",
      "18/18 [==============================] - 0s 10ms/step - loss: 112.6661 - val_loss: 574.7625\n",
      "Epoch 52/100\n",
      "18/18 [==============================] - 0s 15ms/step - loss: 112.6208 - val_loss: 591.8192\n",
      "Epoch 53/100\n",
      "18/18 [==============================] - 0s 11ms/step - loss: 108.3407 - val_loss: 587.5991\n",
      "Epoch 54/100\n",
      "11/18 [=================>............] - ETA: 0s - loss: 107.5581INFO:tensorflow:Assets written to: model_experiments\\model_6_dense_multivariate\\assets\n"
     ]
    },
    {
     "name": "stderr",
     "output_type": "stream",
     "text": [
      "INFO:tensorflow:Assets written to: model_experiments\\model_6_dense_multivariate\\assets\n"
     ]
    },
    {
     "name": "stdout",
     "output_type": "stream",
     "text": [
      "18/18 [==============================] - 2s 108ms/step - loss: 107.6631 - val_loss: 563.9786\n",
      "Epoch 55/100\n",
      "18/18 [==============================] - 0s 12ms/step - loss: 106.1372 - val_loss: 564.4312\n",
      "Epoch 56/100\n",
      "18/18 [==============================] - 0s 17ms/step - loss: 106.4981 - val_loss: 736.4146\n",
      "Epoch 57/100\n",
      "18/18 [==============================] - 0s 12ms/step - loss: 112.3465 - val_loss: 590.9473\n",
      "Epoch 58/100\n",
      "18/18 [==============================] - 0s 14ms/step - loss: 108.0496 - val_loss: 565.2203\n",
      "Epoch 59/100\n",
      "18/18 [==============================] - 0s 12ms/step - loss: 105.8282 - val_loss: 599.3562\n",
      "Epoch 60/100\n",
      "18/18 [==============================] - 0s 13ms/step - loss: 112.3110 - val_loss: 622.2213\n",
      "Epoch 61/100\n",
      "18/18 [==============================] - 0s 12ms/step - loss: 110.1563 - val_loss: 568.4861\n",
      "Epoch 62/100\n",
      "18/18 [==============================] - 0s 12ms/step - loss: 105.6980 - val_loss: 595.5148\n",
      "Epoch 63/100\n",
      "18/18 [==============================] - ETA: 0s - loss: 106.9296INFO:tensorflow:Assets written to: model_experiments\\model_6_dense_multivariate\\assets\n"
     ]
    },
    {
     "name": "stderr",
     "output_type": "stream",
     "text": [
      "INFO:tensorflow:Assets written to: model_experiments\\model_6_dense_multivariate\\assets\n"
     ]
    },
    {
     "name": "stdout",
     "output_type": "stream",
     "text": [
      "18/18 [==============================] - 2s 138ms/step - loss: 106.9296 - val_loss: 562.9752\n",
      "Epoch 64/100\n",
      "18/18 [==============================] - 0s 13ms/step - loss: 106.1801 - val_loss: 571.0188\n",
      "Epoch 65/100\n",
      "13/18 [====================>.........] - ETA: 0s - loss: 106.4632INFO:tensorflow:Assets written to: model_experiments\\model_6_dense_multivariate\\assets\n"
     ]
    },
    {
     "name": "stderr",
     "output_type": "stream",
     "text": [
      "INFO:tensorflow:Assets written to: model_experiments\\model_6_dense_multivariate\\assets\n"
     ]
    },
    {
     "name": "stdout",
     "output_type": "stream",
     "text": [
      "18/18 [==============================] - 2s 103ms/step - loss: 106.7803 - val_loss: 562.3105\n",
      "Epoch 66/100\n",
      "18/18 [==============================] - 0s 11ms/step - loss: 105.5581 - val_loss: 564.4138\n",
      "Epoch 67/100\n",
      "18/18 [==============================] - 0s 14ms/step - loss: 105.3125 - val_loss: 642.8511\n",
      "Epoch 68/100\n",
      "18/18 [==============================] - 0s 11ms/step - loss: 105.3517 - val_loss: 567.0644\n",
      "Epoch 69/100\n",
      "18/18 [==============================] - 0s 11ms/step - loss: 109.1856 - val_loss: 671.2708\n",
      "Epoch 70/100\n",
      "18/18 [==============================] - 0s 12ms/step - loss: 123.0056 - val_loss: 578.3080\n",
      "Epoch 71/100\n",
      "18/18 [==============================] - 0s 12ms/step - loss: 106.1636 - val_loss: 585.2537\n",
      "Epoch 72/100\n",
      "18/18 [==============================] - 0s 10ms/step - loss: 111.1573 - val_loss: 567.7679\n",
      "Epoch 73/100\n",
      "18/18 [==============================] - 0s 10ms/step - loss: 110.8375 - val_loss: 583.8505\n",
      "Epoch 74/100\n",
      "18/18 [==============================] - 0s 10ms/step - loss: 109.6403 - val_loss: 599.2336\n",
      "Epoch 75/100\n",
      "18/18 [==============================] - 0s 12ms/step - loss: 112.8629 - val_loss: 636.9694\n",
      "Epoch 76/100\n",
      "18/18 [==============================] - 0s 12ms/step - loss: 112.6150 - val_loss: 572.8976\n",
      "Epoch 77/100\n",
      "18/18 [==============================] - 0s 9ms/step - loss: 105.3090 - val_loss: 565.7611\n",
      "Epoch 78/100\n",
      "18/18 [==============================] - 0s 10ms/step - loss: 105.9477 - val_loss: 563.6996\n",
      "Epoch 79/100\n",
      "18/18 [==============================] - 0s 13ms/step - loss: 105.5962 - val_loss: 620.2996\n",
      "Epoch 80/100\n",
      "18/18 [==============================] - 0s 11ms/step - loss: 111.8290 - val_loss: 595.3062\n",
      "Epoch 81/100\n",
      "18/18 [==============================] - 0s 10ms/step - loss: 106.6950 - val_loss: 563.7059\n",
      "Epoch 82/100\n",
      "18/18 [==============================] - 0s 11ms/step - loss: 117.4162 - val_loss: 568.2562\n",
      "Epoch 83/100\n",
      "18/18 [==============================] - 0s 11ms/step - loss: 114.2757 - val_loss: 692.6219\n",
      "Epoch 84/100\n",
      "18/18 [==============================] - 0s 11ms/step - loss: 114.7577 - val_loss: 573.1642\n",
      "Epoch 85/100\n",
      "18/18 [==============================] - 0s 11ms/step - loss: 106.9941 - val_loss: 564.7127\n",
      "Epoch 86/100\n",
      "18/18 [==============================] - 0s 10ms/step - loss: 106.6135 - val_loss: 562.4458\n",
      "Epoch 87/100\n",
      "18/18 [==============================] - 0s 13ms/step - loss: 105.5920 - val_loss: 598.0557\n",
      "Epoch 88/100\n",
      "18/18 [==============================] - 0s 10ms/step - loss: 109.2216 - val_loss: 563.0502\n",
      "Epoch 89/100\n",
      "18/18 [==============================] - 0s 16ms/step - loss: 106.7562 - val_loss: 563.4549\n",
      "Epoch 90/100\n",
      "18/18 [==============================] - 0s 14ms/step - loss: 104.6616 - val_loss: 576.9158\n",
      "Epoch 91/100\n",
      "18/18 [==============================] - 0s 13ms/step - loss: 109.3716 - val_loss: 562.4849\n",
      "Epoch 92/100\n",
      "18/18 [==============================] - 0s 15ms/step - loss: 109.0491 - val_loss: 627.8165\n",
      "Epoch 93/100\n",
      "18/18 [==============================] - 0s 12ms/step - loss: 121.8219 - val_loss: 675.9214\n",
      "Epoch 94/100\n",
      "18/18 [==============================] - 0s 11ms/step - loss: 115.2555 - val_loss: 632.5336\n",
      "Epoch 95/100\n",
      "18/18 [==============================] - 0s 11ms/step - loss: 106.6800 - val_loss: 571.1395\n",
      "Epoch 96/100\n",
      "18/18 [==============================] - 0s 11ms/step - loss: 106.0997 - val_loss: 565.9996\n",
      "Epoch 97/100\n",
      "18/18 [==============================] - 0s 13ms/step - loss: 104.7123 - val_loss: 563.4334\n",
      "Epoch 98/100\n",
      "18/18 [==============================] - 0s 12ms/step - loss: 105.9617 - val_loss: 563.1124\n",
      "Epoch 99/100\n",
      "18/18 [==============================] - 0s 11ms/step - loss: 108.9954 - val_loss: 562.5811\n",
      "Epoch 100/100\n",
      "18/18 [==============================] - 0s 11ms/step - loss: 120.6311 - val_loss: 700.9353\n"
     ]
    }
   ],
   "source": [
    "# Making miultivariate tiem series model\n",
    "model_6 = tf.keras.Sequential([\n",
    "    tf.keras.layers.Dense(128, activation=\"relu\"),\n",
    "    tf.keras.layers.Dense(HORIZON)\n",
    "], name=\"model_6_dense_multivariate\")\n",
    "\n",
    "# Compiling the model\n",
    "model_6.compile(\n",
    "    loss=\"mae\",\n",
    "    optimizer=tf.keras.optimizers.Adam()\n",
    ")\n",
    "\n",
    "# Fitting the model\n",
    "history_6 = model_6.fit(\n",
    "    X_train, y_train,\n",
    "    epochs=100,\n",
    "    batch_size=128,\n",
    "    verbose=1,\n",
    "    validation_data=(X_test, y_test),\n",
    "    callbacks=[create_model_checkpoint(model_name=model_6.name)]\n",
    ")"
   ]
  },
  {
   "cell_type": "code",
   "execution_count": 95,
   "metadata": {},
   "outputs": [
    {
     "name": "stdout",
     "output_type": "stream",
     "text": [
      "18/18 [==============================] - 0s 5ms/step - loss: 700.9354\n"
     ]
    },
    {
     "data": {
      "text/plain": [
       "700.9353637695312"
      ]
     },
     "execution_count": 95,
     "metadata": {},
     "output_type": "execute_result"
    }
   ],
   "source": [
    "# Ecaluating the model\n",
    "model_6.evaluate(X_test, y_test)"
   ]
  },
  {
   "cell_type": "code",
   "execution_count": 96,
   "metadata": {},
   "outputs": [
    {
     "name": "stdout",
     "output_type": "stream",
     "text": [
      "18/18 [==============================] - 0s 4ms/step - loss: 562.3105\n"
     ]
    },
    {
     "data": {
      "text/plain": [
       "562.310546875"
      ]
     },
     "execution_count": 96,
     "metadata": {},
     "output_type": "execute_result"
    }
   ],
   "source": [
    "# Loading the best performing model\n",
    "model_6 = tf.keras.models.load_model(\"model_experiments/model_6_dense_multivariate/\")\n",
    "model_6.evaluate(X_test, y_test)"
   ]
  },
  {
   "cell_type": "code",
   "execution_count": 97,
   "metadata": {},
   "outputs": [
    {
     "name": "stdout",
     "output_type": "stream",
     "text": [
      "18/18 [==============================] - 0s 4ms/step\n"
     ]
    },
    {
     "data": {
      "text/plain": [
       "<tf.Tensor: shape=(10,), dtype=float32, numpy=\n",
       "array([8838.257 , 8776.473 , 9032.07  , 8766.235 , 8737.27  , 8722.237 ,\n",
       "       8677.642 , 8510.004 , 8449.2705, 8522.576 ], dtype=float32)>"
      ]
     },
     "execution_count": 97,
     "metadata": {},
     "output_type": "execute_result"
    }
   ],
   "source": [
    "# Making predictions with multivariate model\n",
    "model_6_preds = tf.squeeze(model_6.predict(X_test))\n",
    "model_6_preds[:10]"
   ]
  },
  {
   "cell_type": "code",
   "execution_count": 98,
   "metadata": {},
   "outputs": [
    {
     "data": {
      "text/plain": [
       "{'mae': 562.31067,\n",
       " 'mse': 1147212.2,\n",
       " 'rmse': 1071.08,\n",
       " 'mape': 2.51212,\n",
       " 'mase': 0.9878241}"
      ]
     },
     "execution_count": 98,
     "metadata": {},
     "output_type": "execute_result"
    }
   ],
   "source": [
    "# Evaluate predictions\n",
    "model_6_results = evaluate_preds(\n",
    "    y_true=y_test,\n",
    "    y_pred=model_6_preds\n",
    ")\n",
    "model_6_results"
   ]
  },
  {
   "attachments": {},
   "cell_type": "markdown",
   "metadata": {},
   "source": [
    "### Model 7 - N-BEATS algorithm"
   ]
  },
  {
   "cell_type": "code",
   "execution_count": 99,
   "metadata": {},
   "outputs": [],
   "source": [
    "# Creating NBeatBlock custom layer\n",
    "class NBeatBlock(tf.keras.layers.Layer):\n",
    "    def __init__(\n",
    "        self,\n",
    "        input_size: int,\n",
    "        theta_size: int,\n",
    "        horizon: int,\n",
    "        n_neurons: int,\n",
    "        n_layers: int,\n",
    "        **kwargs # Will take care of super class arguments\n",
    "    ):\n",
    "        super().__init__(**kwargs)\n",
    "        self.input_size = input_size\n",
    "        self.theta_size = theta_size\n",
    "        self.horizon = horizon\n",
    "        self.n_neurons = n_neurons\n",
    "        self.n_layers = n_layers\n",
    "\n",
    "        # Block contains stack of 4 fully connected layers, each with RELU activation\n",
    "        self.hidden = [tf.keras.layers.Dense(n_neurons, activation=\"relu\") for _ in range(n_layers)]\n",
    "\n",
    "        # Output of block is a theta layer with linear activation\n",
    "        self.theta_layer = tf.keras.layers.Dense(theta_size, activation=\"linear\", name=\"theta_layer\")\n",
    "\n",
    "    def call(self, inputs):\n",
    "        x = inputs\n",
    "        for layer in self.hidden:\n",
    "            x = layer(x)\n",
    "        theta = self.theta_layer(x)\n",
    "        # Output the backcast and the forecast from theta\n",
    "        backcast, forecast = theta[:, :self.input_size], theta[:, -self.horizon:]\n",
    "        return backcast, forecast\n"
   ]
  },
  {
   "cell_type": "code",
   "execution_count": 100,
   "metadata": {},
   "outputs": [],
   "source": [
    "# Setting up dummy NBeatsBlock layer to represent inputs and outputs\n",
    "dummy_nbeats_block_layer = NBeatBlock(\n",
    "    input_size=WINDOW_SIZE,\n",
    "    theta_size=WINDOW_SIZE+HORIZON,\n",
    "    horizon=HORIZON,\n",
    "    n_neurons=128,\n",
    "    n_layers=4\n",
    ")"
   ]
  },
  {
   "cell_type": "code",
   "execution_count": 101,
   "metadata": {},
   "outputs": [
    {
     "data": {
      "text/plain": [
       "<tf.Tensor: shape=(1, 7), dtype=int32, numpy=array([[1, 2, 3, 4, 5, 6, 7]])>"
      ]
     },
     "execution_count": 101,
     "metadata": {},
     "output_type": "execute_result"
    }
   ],
   "source": [
    "# Create dummy inputs (have to be the same size as input_size)\n",
    "dummy_inputs = tf.expand_dims(tf.range(WINDOW_SIZE) + 1, axis=0)\n",
    "dummy_inputs"
   ]
  },
  {
   "cell_type": "code",
   "execution_count": 103,
   "metadata": {},
   "outputs": [
    {
     "name": "stdout",
     "output_type": "stream",
     "text": [
      "Backcast: [-0.14183313  1.3316932  -0.6800094   0.01850083  0.99933946 -0.22882082\n",
      " -0.94514227]\n",
      "Forecast: -0.67649906873703\n"
     ]
    }
   ],
   "source": [
    "# Pass dummy inputs to dummy NBeatsBlock layer\n",
    "backcast, forecast = dummy_nbeats_block_layer(dummy_inputs)\n",
    "print(f\"Backcast: {tf.squeeze(backcast.numpy())}\")\n",
    "print(f\"Forecast: {tf.squeeze(forecast.numpy())}\")"
   ]
  },
  {
   "cell_type": "code",
   "execution_count": null,
   "metadata": {},
   "outputs": [],
   "source": []
  }
 ],
 "metadata": {
  "kernelspec": {
   "display_name": "Python 3",
   "language": "python",
   "name": "python3"
  },
  "language_info": {
   "codemirror_mode": {
    "name": "ipython",
    "version": 3
   },
   "file_extension": ".py",
   "mimetype": "text/x-python",
   "name": "python",
   "nbconvert_exporter": "python",
   "pygments_lexer": "ipython3",
   "version": "3.8.10"
  },
  "orig_nbformat": 4,
  "vscode": {
   "interpreter": {
    "hash": "8230a386d8e0083990873cddb8ebb5b6213275a10339230a8504f0ef8ce7f888"
   }
  }
 },
 "nbformat": 4,
 "nbformat_minor": 2
}
