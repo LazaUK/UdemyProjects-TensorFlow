{
 "cells": [
  {
   "attachments": {},
   "cell_type": "markdown",
   "metadata": {},
   "source": [
    "# Time Series: Forecasting Bitcoin price"
   ]
  },
  {
   "cell_type": "code",
   "execution_count": 1,
   "metadata": {},
   "outputs": [
    {
     "name": "stdout",
     "output_type": "stream",
     "text": [
      "2.10.1\n"
     ]
    }
   ],
   "source": [
    "# Importing TF and checking the version\n",
    "import tensorflow as tf\n",
    "\n",
    "print(tf.__version__)"
   ]
  },
  {
   "attachments": {},
   "cell_type": "markdown",
   "metadata": {},
   "source": [
    "### Importing time series with Pandas"
   ]
  },
  {
   "cell_type": "code",
   "execution_count": 2,
   "metadata": {},
   "outputs": [
    {
     "data": {
      "text/html": [
       "<div>\n",
       "<style scoped>\n",
       "    .dataframe tbody tr th:only-of-type {\n",
       "        vertical-align: middle;\n",
       "    }\n",
       "\n",
       "    .dataframe tbody tr th {\n",
       "        vertical-align: top;\n",
       "    }\n",
       "\n",
       "    .dataframe thead th {\n",
       "        text-align: right;\n",
       "    }\n",
       "</style>\n",
       "<table border=\"1\" class=\"dataframe\">\n",
       "  <thead>\n",
       "    <tr style=\"text-align: right;\">\n",
       "      <th></th>\n",
       "      <th>Currency</th>\n",
       "      <th>Closing Price (USD)</th>\n",
       "      <th>24h Open (USD)</th>\n",
       "      <th>24h High (USD)</th>\n",
       "      <th>24h Low (USD)</th>\n",
       "    </tr>\n",
       "    <tr>\n",
       "      <th>Date</th>\n",
       "      <th></th>\n",
       "      <th></th>\n",
       "      <th></th>\n",
       "      <th></th>\n",
       "      <th></th>\n",
       "    </tr>\n",
       "  </thead>\n",
       "  <tbody>\n",
       "    <tr>\n",
       "      <th>2013-10-01</th>\n",
       "      <td>BTC</td>\n",
       "      <td>123.65499</td>\n",
       "      <td>124.30466</td>\n",
       "      <td>124.75166</td>\n",
       "      <td>122.56349</td>\n",
       "    </tr>\n",
       "    <tr>\n",
       "      <th>2013-10-02</th>\n",
       "      <td>BTC</td>\n",
       "      <td>125.45500</td>\n",
       "      <td>123.65499</td>\n",
       "      <td>125.75850</td>\n",
       "      <td>123.63383</td>\n",
       "    </tr>\n",
       "    <tr>\n",
       "      <th>2013-10-03</th>\n",
       "      <td>BTC</td>\n",
       "      <td>108.58483</td>\n",
       "      <td>125.45500</td>\n",
       "      <td>125.66566</td>\n",
       "      <td>83.32833</td>\n",
       "    </tr>\n",
       "    <tr>\n",
       "      <th>2013-10-04</th>\n",
       "      <td>BTC</td>\n",
       "      <td>118.67466</td>\n",
       "      <td>108.58483</td>\n",
       "      <td>118.67500</td>\n",
       "      <td>107.05816</td>\n",
       "    </tr>\n",
       "    <tr>\n",
       "      <th>2013-10-05</th>\n",
       "      <td>BTC</td>\n",
       "      <td>121.33866</td>\n",
       "      <td>118.67466</td>\n",
       "      <td>121.93633</td>\n",
       "      <td>118.00566</td>\n",
       "    </tr>\n",
       "  </tbody>\n",
       "</table>\n",
       "</div>"
      ],
      "text/plain": [
       "           Currency  Closing Price (USD)  24h Open (USD)  24h High (USD)  \\\n",
       "Date                                                                       \n",
       "2013-10-01      BTC            123.65499       124.30466       124.75166   \n",
       "2013-10-02      BTC            125.45500       123.65499       125.75850   \n",
       "2013-10-03      BTC            108.58483       125.45500       125.66566   \n",
       "2013-10-04      BTC            118.67466       108.58483       118.67500   \n",
       "2013-10-05      BTC            121.33866       118.67466       121.93633   \n",
       "\n",
       "            24h Low (USD)  \n",
       "Date                       \n",
       "2013-10-01      122.56349  \n",
       "2013-10-02      123.63383  \n",
       "2013-10-03       83.32833  \n",
       "2013-10-04      107.05816  \n",
       "2013-10-05      118.00566  "
      ]
     },
     "execution_count": 2,
     "metadata": {},
     "output_type": "execute_result"
    }
   ],
   "source": [
    "# Reading Bitcoin data and parsing dates\n",
    "import pandas as pd\n",
    "\n",
    "df = pd.read_csv(\n",
    "    \"BTC_USD_2013-10-01_2021-05-18-CoinDesk.csv\",\n",
    "    parse_dates=[\"Date\"],\n",
    "    index_col=[\"Date\"]   \n",
    ")\n",
    "df.head()"
   ]
  },
  {
   "cell_type": "code",
   "execution_count": 3,
   "metadata": {},
   "outputs": [
    {
     "data": {
      "text/html": [
       "<div>\n",
       "<style scoped>\n",
       "    .dataframe tbody tr th:only-of-type {\n",
       "        vertical-align: middle;\n",
       "    }\n",
       "\n",
       "    .dataframe tbody tr th {\n",
       "        vertical-align: top;\n",
       "    }\n",
       "\n",
       "    .dataframe thead th {\n",
       "        text-align: right;\n",
       "    }\n",
       "</style>\n",
       "<table border=\"1\" class=\"dataframe\">\n",
       "  <thead>\n",
       "    <tr style=\"text-align: right;\">\n",
       "      <th></th>\n",
       "      <th>Currency</th>\n",
       "      <th>Closing Price (USD)</th>\n",
       "      <th>24h Open (USD)</th>\n",
       "      <th>24h High (USD)</th>\n",
       "      <th>24h Low (USD)</th>\n",
       "    </tr>\n",
       "    <tr>\n",
       "      <th>Date</th>\n",
       "      <th></th>\n",
       "      <th></th>\n",
       "      <th></th>\n",
       "      <th></th>\n",
       "      <th></th>\n",
       "    </tr>\n",
       "  </thead>\n",
       "  <tbody>\n",
       "    <tr>\n",
       "      <th>2021-05-14</th>\n",
       "      <td>BTC</td>\n",
       "      <td>49764.132082</td>\n",
       "      <td>49596.778891</td>\n",
       "      <td>51448.798576</td>\n",
       "      <td>46294.720180</td>\n",
       "    </tr>\n",
       "    <tr>\n",
       "      <th>2021-05-15</th>\n",
       "      <td>BTC</td>\n",
       "      <td>50032.693137</td>\n",
       "      <td>49717.354353</td>\n",
       "      <td>51578.312545</td>\n",
       "      <td>48944.346536</td>\n",
       "    </tr>\n",
       "    <tr>\n",
       "      <th>2021-05-16</th>\n",
       "      <td>BTC</td>\n",
       "      <td>47885.625255</td>\n",
       "      <td>49926.035067</td>\n",
       "      <td>50690.802950</td>\n",
       "      <td>47005.102292</td>\n",
       "    </tr>\n",
       "    <tr>\n",
       "      <th>2021-05-17</th>\n",
       "      <td>BTC</td>\n",
       "      <td>45604.615754</td>\n",
       "      <td>46805.537852</td>\n",
       "      <td>49670.414174</td>\n",
       "      <td>43868.638969</td>\n",
       "    </tr>\n",
       "    <tr>\n",
       "      <th>2021-05-18</th>\n",
       "      <td>BTC</td>\n",
       "      <td>43144.471291</td>\n",
       "      <td>46439.336570</td>\n",
       "      <td>46622.853437</td>\n",
       "      <td>42102.346430</td>\n",
       "    </tr>\n",
       "  </tbody>\n",
       "</table>\n",
       "</div>"
      ],
      "text/plain": [
       "           Currency  Closing Price (USD)  24h Open (USD)  24h High (USD)  \\\n",
       "Date                                                                       \n",
       "2021-05-14      BTC         49764.132082    49596.778891    51448.798576   \n",
       "2021-05-15      BTC         50032.693137    49717.354353    51578.312545   \n",
       "2021-05-16      BTC         47885.625255    49926.035067    50690.802950   \n",
       "2021-05-17      BTC         45604.615754    46805.537852    49670.414174   \n",
       "2021-05-18      BTC         43144.471291    46439.336570    46622.853437   \n",
       "\n",
       "            24h Low (USD)  \n",
       "Date                       \n",
       "2021-05-14   46294.720180  \n",
       "2021-05-15   48944.346536  \n",
       "2021-05-16   47005.102292  \n",
       "2021-05-17   43868.638969  \n",
       "2021-05-18   42102.346430  "
      ]
     },
     "execution_count": 3,
     "metadata": {},
     "output_type": "execute_result"
    }
   ],
   "source": [
    "df.tail()"
   ]
  },
  {
   "cell_type": "code",
   "execution_count": 4,
   "metadata": {},
   "outputs": [
    {
     "name": "stdout",
     "output_type": "stream",
     "text": [
      "<class 'pandas.core.frame.DataFrame'>\n",
      "DatetimeIndex: 2787 entries, 2013-10-01 to 2021-05-18\n",
      "Data columns (total 5 columns):\n",
      " #   Column               Non-Null Count  Dtype  \n",
      "---  ------               --------------  -----  \n",
      " 0   Currency             2787 non-null   object \n",
      " 1   Closing Price (USD)  2787 non-null   float64\n",
      " 2   24h Open (USD)       2787 non-null   float64\n",
      " 3   24h High (USD)       2787 non-null   float64\n",
      " 4   24h Low (USD)        2787 non-null   float64\n",
      "dtypes: float64(4), object(1)\n",
      "memory usage: 130.6+ KB\n"
     ]
    }
   ],
   "source": [
    "df.info()"
   ]
  },
  {
   "cell_type": "code",
   "execution_count": 5,
   "metadata": {},
   "outputs": [
    {
     "data": {
      "text/plain": [
       "2787"
      ]
     },
     "execution_count": 5,
     "metadata": {},
     "output_type": "execute_result"
    }
   ],
   "source": [
    "len(df)"
   ]
  },
  {
   "cell_type": "code",
   "execution_count": 6,
   "metadata": {},
   "outputs": [
    {
     "data": {
      "text/html": [
       "<div>\n",
       "<style scoped>\n",
       "    .dataframe tbody tr th:only-of-type {\n",
       "        vertical-align: middle;\n",
       "    }\n",
       "\n",
       "    .dataframe tbody tr th {\n",
       "        vertical-align: top;\n",
       "    }\n",
       "\n",
       "    .dataframe thead th {\n",
       "        text-align: right;\n",
       "    }\n",
       "</style>\n",
       "<table border=\"1\" class=\"dataframe\">\n",
       "  <thead>\n",
       "    <tr style=\"text-align: right;\">\n",
       "      <th></th>\n",
       "      <th>Price</th>\n",
       "    </tr>\n",
       "    <tr>\n",
       "      <th>Date</th>\n",
       "      <th></th>\n",
       "    </tr>\n",
       "  </thead>\n",
       "  <tbody>\n",
       "    <tr>\n",
       "      <th>2013-10-01</th>\n",
       "      <td>123.65499</td>\n",
       "    </tr>\n",
       "    <tr>\n",
       "      <th>2013-10-02</th>\n",
       "      <td>125.45500</td>\n",
       "    </tr>\n",
       "    <tr>\n",
       "      <th>2013-10-03</th>\n",
       "      <td>108.58483</td>\n",
       "    </tr>\n",
       "    <tr>\n",
       "      <th>2013-10-04</th>\n",
       "      <td>118.67466</td>\n",
       "    </tr>\n",
       "    <tr>\n",
       "      <th>2013-10-05</th>\n",
       "      <td>121.33866</td>\n",
       "    </tr>\n",
       "  </tbody>\n",
       "</table>\n",
       "</div>"
      ],
      "text/plain": [
       "                Price\n",
       "Date                 \n",
       "2013-10-01  123.65499\n",
       "2013-10-02  125.45500\n",
       "2013-10-03  108.58483\n",
       "2013-10-04  118.67466\n",
       "2013-10-05  121.33866"
      ]
     },
     "execution_count": 6,
     "metadata": {},
     "output_type": "execute_result"
    }
   ],
   "source": [
    "# Separating closing prices for each day\n",
    "bitcoin_prices = pd.DataFrame(df[\"Closing Price (USD)\"]).rename(columns={\"Closing Price (USD)\":\"Price\"})\n",
    "bitcoin_prices.head()"
   ]
  },
  {
   "cell_type": "code",
   "execution_count": 7,
   "metadata": {},
   "outputs": [
    {
     "data": {
      "image/png": "[encoded data removed]",
      "text/plain": [
       "<Figure size 720x504 with 1 Axes>"
      ]
     },
     "metadata": {
      "needs_background": "light"
     },
     "output_type": "display_data"
    }
   ],
   "source": [
    "# Visualising Bitcoin prices\n",
    "import matplotlib.pyplot as plt\n",
    "bitcoin_prices.plot(figsize=(10, 7))\n",
    "plt.ylabel(\"BTC Price\")\n",
    "plt.title(\"Price of Bitcoin: Oct 2013 - May 2021\", fontsize=16)\n",
    "plt.legend(fontsize=14);"
   ]
  },
  {
   "attachments": {},
   "cell_type": "markdown",
   "metadata": {},
   "source": [
    "### Importing time series with Python"
   ]
  },
  {
   "cell_type": "code",
   "execution_count": 8,
   "metadata": {},
   "outputs": [
    {
     "data": {
      "text/plain": [
       "([datetime.datetime(2013, 10, 1, 0, 0),\n",
       "  datetime.datetime(2013, 10, 2, 0, 0),\n",
       "  datetime.datetime(2013, 10, 3, 0, 0),\n",
       "  datetime.datetime(2013, 10, 4, 0, 0),\n",
       "  datetime.datetime(2013, 10, 5, 0, 0),\n",
       "  datetime.datetime(2013, 10, 6, 0, 0),\n",
       "  datetime.datetime(2013, 10, 7, 0, 0),\n",
       "  datetime.datetime(2013, 10, 8, 0, 0),\n",
       "  datetime.datetime(2013, 10, 9, 0, 0),\n",
       "  datetime.datetime(2013, 10, 10, 0, 0)],\n",
       " [123.65499,\n",
       "  125.455,\n",
       "  108.58483,\n",
       "  118.67466,\n",
       "  121.33866,\n",
       "  120.65533,\n",
       "  121.795,\n",
       "  123.033,\n",
       "  124.049,\n",
       "  125.96116])"
      ]
     },
     "execution_count": 8,
     "metadata": {},
     "output_type": "execute_result"
    }
   ],
   "source": [
    "# Importing Bitcoin data with Python\n",
    "import csv\n",
    "from datetime import datetime\n",
    "\n",
    "timestamps = []\n",
    "btc_price = []\n",
    "with open(\"BTC_USD_2013-10-01_2021-05-18-CoinDesk.csv\", \"r\") as f:\n",
    "    csv_reader = csv.reader(f, delimiter=\",\")\n",
    "    next(csv_reader) # Skips first line to remove column names\n",
    "    for line in csv_reader:\n",
    "        timestamps.append(datetime.strptime(line[1], \"%Y-%m-%d\"))\n",
    "        btc_price.append(float(line[2]))\n",
    "\n",
    "# Viewing first 10 records\n",
    "timestamps[:10], btc_price[:10]"
   ]
  },
  {
   "cell_type": "code",
   "execution_count": 9,
   "metadata": {},
   "outputs": [
    {
     "data": {
      "text/plain": [
       "Text(0.5, 1.0, 'Price of Bitcoin: Oct 2013 - May 2021')"
      ]
     },
     "execution_count": 9,
     "metadata": {},
     "output_type": "execute_result"
    },
    {
     "data": {
      "image/png": "[encoded data removed]",
      "text/plain": [
       "<Figure size 720x504 with 1 Axes>"
      ]
     },
     "metadata": {
      "needs_background": "light"
     },
     "output_type": "display_data"
    }
   ],
   "source": [
    "# Plotting from CSV\n",
    "import matplotlib.pyplot as plt\n",
    "import numpy as np\n",
    "\n",
    "plt.figure(figsize=(10, 7))\n",
    "plt.plot(timestamps, btc_price)\n",
    "plt.xlabel(\"Date\")\n",
    "plt.ylabel(\"BTC Price\")\n",
    "plt.title(\"Price of Bitcoin: Oct 2013 - May 2021\", fontsize=16)\n",
    "#plt.legend();"
   ]
  },
  {
   "attachments": {},
   "cell_type": "markdown",
   "metadata": {},
   "source": [
    "### Creating train and test data"
   ]
  },
  {
   "cell_type": "code",
   "execution_count": 10,
   "metadata": {},
   "outputs": [
    {
     "data": {
      "text/plain": [
       "(array(['2013-10-01T00:00:00.000000000', '2013-10-02T00:00:00.000000000',\n",
       "        '2013-10-03T00:00:00.000000000', '2013-10-04T00:00:00.000000000',\n",
       "        '2013-10-05T00:00:00.000000000', '2013-10-06T00:00:00.000000000',\n",
       "        '2013-10-07T00:00:00.000000000', '2013-10-08T00:00:00.000000000',\n",
       "        '2013-10-09T00:00:00.000000000', '2013-10-10T00:00:00.000000000'],\n",
       "       dtype='datetime64[ns]'),\n",
       " array([123.65499, 125.455  , 108.58483, 118.67466, 121.33866, 120.65533,\n",
       "        121.795  , 123.033  , 124.049  , 125.96116]))"
      ]
     },
     "execution_count": 10,
     "metadata": {},
     "output_type": "execute_result"
    }
   ],
   "source": [
    "# Get Bitcoin date array\n",
    "timestamps = bitcoin_prices.index.to_numpy()\n",
    "prices = bitcoin_prices[\"Price\"].to_numpy()\n",
    "\n",
    "timestamps[:10], prices[:10]"
   ]
  },
  {
   "cell_type": "code",
   "execution_count": 11,
   "metadata": {},
   "outputs": [
    {
     "data": {
      "text/plain": [
       "((2229,), (558,), (2229,), (558,))"
      ]
     },
     "execution_count": 11,
     "metadata": {},
     "output_type": "execute_result"
    }
   ],
   "source": [
    "# Wrong way to create train / test split for time series data\n",
    "from sklearn.model_selection import train_test_split\n",
    "\n",
    "X_train, X_test, y_train, y_test = train_test_split(\n",
    "    timestamps, # dates\n",
    "    prices, # BTC prices\n",
    "    test_size=0.2,\n",
    "    random_state=42\n",
    ")\n",
    "X_train.shape, X_test.shape, y_train.shape, y_test.shape"
   ]
  },
  {
   "cell_type": "code",
   "execution_count": 12,
   "metadata": {},
   "outputs": [
    {
     "data": {
      "image/png": "[encoded data removed]",
      "text/plain": [
       "<Figure size 720x504 with 1 Axes>"
      ]
     },
     "metadata": {
      "needs_background": "light"
     },
     "output_type": "display_data"
    }
   ],
   "source": [
    "# Plotting the wrong data split results\n",
    "plt.figure(figsize=(10, 7))\n",
    "plt.scatter(X_train, y_train, s=5, label=\"Train data\")\n",
    "plt.scatter(X_test, y_test, s=5, label=\"Test data\")\n",
    "plt.xlabel(\"Date\")\n",
    "plt.ylabel(\"BTC Price\")\n",
    "plt.legend(fontsize=14)\n",
    "plt.show();"
   ]
  },
  {
   "cell_type": "code",
   "execution_count": 13,
   "metadata": {},
   "outputs": [
    {
     "data": {
      "text/plain": [
       "(2229, 558, 2229, 558)"
      ]
     },
     "execution_count": 13,
     "metadata": {},
     "output_type": "execute_result"
    }
   ],
   "source": [
    "# Right way to create train / test split for time series data\n",
    "split_size = int(0.8 * len(prices)) # 80% - train, 20% - test\n",
    "\n",
    "X_train, y_train = timestamps[:split_size], prices[:split_size]\n",
    "X_test, y_test = timestamps[split_size:], prices[split_size:]\n",
    "\n",
    "len(X_train), len(X_test), len(y_train), len(y_test)"
   ]
  },
  {
   "cell_type": "code",
   "execution_count": 14,
   "metadata": {},
   "outputs": [
    {
     "data": {
      "image/png": "[encoded data removed]",
      "text/plain": [
       "<Figure size 720x504 with 1 Axes>"
      ]
     },
     "metadata": {
      "needs_background": "light"
     },
     "output_type": "display_data"
    }
   ],
   "source": [
    "# Plotting the right data split results\n",
    "plt.figure(figsize=(10, 7))\n",
    "plt.scatter(X_train, y_train, s=5, label=\"Train data\")\n",
    "plt.scatter(X_test, y_test, s=5, label=\"Test data\")\n",
    "plt.xlabel(\"Date\")\n",
    "plt.ylabel(\"BTC Price\")\n",
    "plt.legend(fontsize=14)\n",
    "plt.show();"
   ]
  },
  {
   "cell_type": "code",
   "execution_count": 15,
   "metadata": {},
   "outputs": [],
   "source": [
    "# Creating plotting function\n",
    "def plot_time_series(timestamps, values, marker=\",\", start=0, end=None, label=None):\n",
    "    plt.plot(timestamps[start:end], values[start:end], marker=marker, label=label)\n",
    "    plt.xlabel(\"Time\")\n",
    "    plt.ylabel(\"BTC Price\")\n",
    "    if label:\n",
    "        plt.legend(fontsize=14)\n",
    "    plt.grid(True)"
   ]
  },
  {
   "cell_type": "code",
   "execution_count": 16,
   "metadata": {},
   "outputs": [
    {
     "data": {
      "image/png": "[encoded data removed]",
      "text/plain": [
       "<Figure size 720x504 with 1 Axes>"
      ]
     },
     "metadata": {
      "needs_background": "light"
     },
     "output_type": "display_data"
    }
   ],
   "source": [
    "# Testing plot function\n",
    "plt.figure(figsize=(10, 7))\n",
    "plot_time_series(timestamps=X_train, values=y_train, label=\"Train data\")\n",
    "plot_time_series(timestamps=X_test, values=y_test, label=\"Test data\")"
   ]
  },
  {
   "attachments": {},
   "cell_type": "markdown",
   "metadata": {},
   "source": [
    "### Model 0 - Naive forecast (baseline)"
   ]
  },
  {
   "attachments": {},
   "cell_type": "markdown",
   "metadata": {},
   "source": [
    "The prediction at timestamp t(y-hat) is equal to the value at timestamp t-1 (previous timestamp), i.e horizon of 1.\n",
    "$$\\hat{y}_{t} = y_{t-1}$$"
   ]
  },
  {
   "cell_type": "code",
   "execution_count": 17,
   "metadata": {},
   "outputs": [
    {
     "name": "stdout",
     "output_type": "stream",
     "text": [
      "First 10 values: [9226.48582088 8794.35864452 8798.04205463 9081.18687849 8711.53433917\n",
      " 8760.89271814 8749.52059102 8656.97092235 8500.64355816 8469.2608989 ]\n",
      "\n",
      "Last 10 values: [57107.12067189 58788.20967893 58102.19142623 55715.54665129\n",
      " 56573.5554719  52147.82118698 49764.1320816  50032.69313676\n",
      " 47885.62525472 45604.61575361]\n"
     ]
    }
   ],
   "source": [
    "# Creating naive forecast\n",
    "naive_forecast = y_test[:-1]\n",
    "\n",
    "print(f\"First 10 values: {naive_forecast[:10]}\\n\")\n",
    "print(f\"Last 10 values: {naive_forecast[-10:]}\")"
   ]
  },
  {
   "cell_type": "code",
   "execution_count": 18,
   "metadata": {},
   "outputs": [
    {
     "data": {
      "image/png": "[encoded data removed]",
      "text/plain": [
       "<Figure size 720x504 with 1 Axes>"
      ]
     },
     "metadata": {
      "needs_background": "light"
     },
     "output_type": "display_data"
    }
   ],
   "source": [
    "# Plotting naive forecast\n",
    "plt.figure(figsize=(10, 7))\n",
    "# plot_time_series(timestamps=X_train, values=y_train, label=\"Train data\")\n",
    "plot_time_series(timestamps=X_test, values=y_test, start=500, label=\"Test data\")\n",
    "plot_time_series(timestamps=X_test[1:], values=naive_forecast, start=500, marker=\"o\", label=\"Naive forecast\")"
   ]
  },
  {
   "cell_type": "code",
   "execution_count": 19,
   "metadata": {},
   "outputs": [],
   "source": [
    "# MASE implementation\n",
    "def mean_absolute_scaled_error(y_true, y_pred):\n",
    "    mae = tf.reduce_mean(tf.abs(y_true - y_pred))\n",
    "\n",
    "    # Find MAE of Naive Forecast (no seasonality)\n",
    "    mae_naive_no_season = tf.reduce_mean(tf.abs(y_true[1:] - y_true[:-1])) # Seasonality of 1 day\n",
    "\n",
    "    return mae / mae_naive_no_season"
   ]
  },
  {
   "cell_type": "code",
   "execution_count": 20,
   "metadata": {},
   "outputs": [
    {
     "data": {
      "text/plain": [
       "<tf.Tensor: shape=(), dtype=float64, numpy=0.9995699939182626>"
      ]
     },
     "execution_count": 20,
     "metadata": {},
     "output_type": "execute_result"
    }
   ],
   "source": [
    "# Verify if MASE of Naive Forecast is 1\n",
    "mean_absolute_scaled_error(\n",
    "    y_true=y_test[1:],\n",
    "    y_pred=naive_forecast\n",
    ")"
   ]
  },
  {
   "cell_type": "code",
   "execution_count": 21,
   "metadata": {},
   "outputs": [],
   "source": [
    "# Function for evaluation matrix\n",
    "def evaluate_preds(y_true, y_pred):\n",
    "\n",
    "    # Ensuring that we use float32 dtype (for metric calculations)\n",
    "    y_true = tf.cast(y_true, dtype=tf.float32)\n",
    "    y_pred = tf.cast(y_pred, dtype=tf.float32)\n",
    "\n",
    "    # Calculating various evaluation metrics\n",
    "    mae = tf.keras.metrics.mean_absolute_error(y_true, y_pred)\n",
    "    mse = tf.keras.metrics.mean_squared_error(y_true, y_pred)\n",
    "    rmse = tf.sqrt(mse)\n",
    "    mape = tf.keras.metrics.mean_absolute_percentage_error(y_true, y_pred)\n",
    "    mase = mean_absolute_scaled_error(y_true, y_pred)\n",
    "\n",
    "    return {\n",
    "        \"mae\": mae.numpy(),\n",
    "        \"mse\": mse.numpy(),\n",
    "        \"rmse\": rmse.numpy(),\n",
    "        \"mape\": mape.numpy(),\n",
    "        \"mase\": mase.numpy()\n",
    "    }"
   ]
  },
  {
   "cell_type": "code",
   "execution_count": 22,
   "metadata": {},
   "outputs": [
    {
     "data": {
      "text/plain": [
       "{'mae': 567.9802,\n",
       " 'mse': 1147547.0,\n",
       " 'rmse': 1071.2362,\n",
       " 'mape': 2.5165248,\n",
       " 'mase': 0.99957}"
      ]
     },
     "execution_count": 22,
     "metadata": {},
     "output_type": "execute_result"
    }
   ],
   "source": [
    "# Evaluating naive forecast results\n",
    "naive_results = evaluate_preds(y_true=y_test[1:], y_pred=naive_forecast)\n",
    "naive_results"
   ]
  },
  {
   "attachments": {},
   "cell_type": "markdown",
   "metadata": {},
   "source": [
    "### Windowing data"
   ]
  },
  {
   "cell_type": "code",
   "execution_count": 23,
   "metadata": {},
   "outputs": [
    {
     "name": "stdout",
     "output_type": "stream",
     "text": [
      "Intention is to use [123.65499, 125.455, 108.58483, 118.67466, 121.33866, 120.65533, 121.795] to predict 123.033\n"
     ]
    }
   ],
   "source": [
    "# We want to use Bitcoin prices of the week to predict next day price\n",
    "print(f\"Intention is to use {btc_price[:7]} to predict {btc_price[7]}\")"
   ]
  },
  {
   "cell_type": "code",
   "execution_count": 24,
   "metadata": {},
   "outputs": [],
   "source": [
    "# Setting up global variables for window size and horizon\n",
    "HORIZON = 1 # predict next 1 day\n",
    "WINDOW_SIZE = 7 # use the past week of Bitcoin data"
   ]
  },
  {
   "cell_type": "code",
   "execution_count": 25,
   "metadata": {},
   "outputs": [],
   "source": [
    "# Creating function to label windowed data\n",
    "def get_labelled_window(x, horizon=HORIZON):\n",
    "    return x[:, :-horizon], x[:, -horizon:]"
   ]
  },
  {
   "cell_type": "code",
   "execution_count": 26,
   "metadata": {},
   "outputs": [
    {
     "data": {
      "text/plain": [
       "(<tf.Tensor: shape=(1, 7), dtype=int32, numpy=array([[1, 2, 3, 4, 5, 6, 7]])>,\n",
       " <tf.Tensor: shape=(1, 1), dtype=int32, numpy=array([[8]])>)"
      ]
     },
     "execution_count": 26,
     "metadata": {},
     "output_type": "execute_result"
    }
   ],
   "source": [
    "# Testing window labelling function\n",
    "test_window, test_label = get_labelled_window(tf.expand_dims(tf.range(8) + 1, axis=0))\n",
    "test_window, test_label"
   ]
  },
  {
   "cell_type": "code",
   "execution_count": 27,
   "metadata": {},
   "outputs": [],
   "source": [
    "# Creating function to view NumPy arrays as windows\n",
    "def make_windows(x, window_size=WINDOW_SIZE, horizon=HORIZON):\n",
    "\n",
    "    # 1. Creating window of specific window size\n",
    "    window_step = np.expand_dims(np.arange(window_size + horizon), axis=0)\n",
    "\n",
    "    # 2. Creating 2D array of multiple windows\n",
    "    window_indexes = window_step + np.expand_dims(np.arange(len(x) - (window_size + horizon - 1)), axis=0).T\n",
    "    # print(f\"Windows indexes: {window_indexes} with shape of {window_indexes.shape}\")\n",
    "\n",
    "    # 3. Index on the target array (time series) with 2D of multiple window steps\n",
    "    windowed_array = x[window_indexes]\n",
    "\n",
    "    # 4. Get the labelled windows\n",
    "    windows, labels = get_labelled_window(windowed_array, horizon=horizon)\n",
    "    return windows, labels"
   ]
  },
  {
   "cell_type": "code",
   "execution_count": 28,
   "metadata": {},
   "outputs": [
    {
     "data": {
      "text/plain": [
       "(2780, 2780)"
      ]
     },
     "execution_count": 28,
     "metadata": {},
     "output_type": "execute_result"
    }
   ],
   "source": [
    "# Testing the function\n",
    "full_windows, full_labels = make_windows(prices)\n",
    "len(full_windows), len(full_labels)"
   ]
  },
  {
   "cell_type": "code",
   "execution_count": 29,
   "metadata": {},
   "outputs": [
    {
     "name": "stdout",
     "output_type": "stream",
     "text": [
      "Window: [123.65499 125.455   108.58483 118.67466 121.33866 120.65533 121.795  ] -> Label: [123.033]\n",
      "Window: [125.455   108.58483 118.67466 121.33866 120.65533 121.795   123.033  ] -> Label: [124.049]\n",
      "Window: [108.58483 118.67466 121.33866 120.65533 121.795   123.033   124.049  ] -> Label: [125.96116]\n"
     ]
    }
   ],
   "source": [
    "# Viewing the first 3 windows / labels\n",
    "for i in range(3):\n",
    "    print(f\"Window: {full_windows[i]} -> Label: {full_labels[i]}\")"
   ]
  },
  {
   "cell_type": "code",
   "execution_count": 30,
   "metadata": {},
   "outputs": [
    {
     "name": "stdout",
     "output_type": "stream",
     "text": [
      "Window: [58788.20967893 58102.19142623 55715.54665129 56573.5554719\n",
      " 52147.82118698 49764.1320816  50032.69313676] -> Label: [47885.62525472]\n",
      "Window: [58102.19142623 55715.54665129 56573.5554719  52147.82118698\n",
      " 49764.1320816  50032.69313676 47885.62525472] -> Label: [45604.61575361]\n",
      "Window: [55715.54665129 56573.5554719  52147.82118698 49764.1320816\n",
      " 50032.69313676 47885.62525472 45604.61575361] -> Label: [43144.47129086]\n"
     ]
    }
   ],
   "source": [
    "# Viewing the last 3 windows / labels\n",
    "for i in range(3):\n",
    "    print(f\"Window: {full_windows[i-3]} -> Label: {full_labels[i-3]}\")"
   ]
  },
  {
   "attachments": {},
   "cell_type": "markdown",
   "metadata": {},
   "source": [
    "### Splitting windows into training and testing sets"
   ]
  },
  {
   "cell_type": "code",
   "execution_count": 31,
   "metadata": {},
   "outputs": [],
   "source": [
    "# Creating function to make train / test splits\n",
    "def make_train_test_splits(windows, labels, test_split=0.2):\n",
    "    split_size = int(len(windows) * (1 - test_split)) # Default 80% train / 20% test\n",
    "    train_windows = windows[:split_size]\n",
    "    train_labels = labels[:split_size]\n",
    "    test_windows = windows[split_size:]\n",
    "    test_labels = labels[split_size:]\n",
    "    return train_windows, test_windows, train_labels, test_labels"
   ]
  },
  {
   "cell_type": "code",
   "execution_count": 32,
   "metadata": {},
   "outputs": [
    {
     "data": {
      "text/plain": [
       "(2224, 556, 2224, 556)"
      ]
     },
     "execution_count": 32,
     "metadata": {},
     "output_type": "execute_result"
    }
   ],
   "source": [
    "# Creating training and testing windows\n",
    "train_windows, test_windows, train_labels, test_labels = make_train_test_splits(\n",
    "    full_windows, full_labels\n",
    ")\n",
    "len(train_windows), len(test_windows), len(train_labels), len(test_labels)"
   ]
  },
  {
   "cell_type": "code",
   "execution_count": 33,
   "metadata": {},
   "outputs": [
    {
     "data": {
      "text/plain": [
       "(array([[123.65499, 125.455  , 108.58483, 118.67466, 121.33866, 120.65533,\n",
       "         121.795  ],\n",
       "        [125.455  , 108.58483, 118.67466, 121.33866, 120.65533, 121.795  ,\n",
       "         123.033  ],\n",
       "        [108.58483, 118.67466, 121.33866, 120.65533, 121.795  , 123.033  ,\n",
       "         124.049  ],\n",
       "        [118.67466, 121.33866, 120.65533, 121.795  , 123.033  , 124.049  ,\n",
       "         125.96116],\n",
       "        [121.33866, 120.65533, 121.795  , 123.033  , 124.049  , 125.96116,\n",
       "         125.27966]]),\n",
       " array([[123.033  ],\n",
       "        [124.049  ],\n",
       "        [125.96116],\n",
       "        [125.27966],\n",
       "        [125.9275 ]]))"
      ]
     },
     "execution_count": 33,
     "metadata": {},
     "output_type": "execute_result"
    }
   ],
   "source": [
    "# Checking the first 5 train window values\n",
    "train_windows[:5], train_labels[:5]"
   ]
  },
  {
   "cell_type": "code",
   "execution_count": 34,
   "metadata": {},
   "outputs": [
    {
     "data": {
      "text/plain": [
       "(array([[9290.89660239, 9202.41545055, 9369.62808116, 9326.59962378,\n",
       "         9335.75240233, 9226.48582088, 8794.35864452],\n",
       "        [9202.41545055, 9369.62808116, 9326.59962378, 9335.75240233,\n",
       "         9226.48582088, 8794.35864452, 8798.04205463],\n",
       "        [9369.62808116, 9326.59962378, 9335.75240233, 9226.48582088,\n",
       "         8794.35864452, 8798.04205463, 9081.18687849],\n",
       "        [9326.59962378, 9335.75240233, 9226.48582088, 8794.35864452,\n",
       "         8798.04205463, 9081.18687849, 8711.53433917],\n",
       "        [9335.75240233, 9226.48582088, 8794.35864452, 8798.04205463,\n",
       "         9081.18687849, 8711.53433917, 8760.89271814]]),\n",
       " array([[8798.04205463],\n",
       "        [9081.18687849],\n",
       "        [8711.53433917],\n",
       "        [8760.89271814],\n",
       "        [8749.52059102]]))"
      ]
     },
     "execution_count": 34,
     "metadata": {},
     "output_type": "execute_result"
    }
   ],
   "source": [
    "# Checking the first test values\n",
    "test_windows[:5], test_labels[:5]"
   ]
  },
  {
   "attachments": {},
   "cell_type": "markdown",
   "metadata": {},
   "source": [
    "### Modelling checkpoint callback"
   ]
  },
  {
   "cell_type": "code",
   "execution_count": 35,
   "metadata": {},
   "outputs": [],
   "source": [
    "# Function to implement ModelCheckpoint callback\n",
    "import os\n",
    "\n",
    "def create_model_checkpoint(model_name, save_path=\"model_experiments\"):\n",
    "    return tf.keras.callbacks.ModelCheckpoint(\n",
    "        filepath=os.path.join(save_path, model_name),\n",
    "        verbose=0,\n",
    "        save_best_only=True\n",
    "    )"
   ]
  },
  {
   "attachments": {},
   "cell_type": "markdown",
   "metadata": {},
   "source": [
    "### Model 1 - Dense model (window = 7, horizon = 1)"
   ]
  },
  {
   "cell_type": "code",
   "execution_count": 36,
   "metadata": {},
   "outputs": [
    {
     "name": "stdout",
     "output_type": "stream",
     "text": [
      "Epoch 1/100\n",
      " 1/18 [>.............................] - ETA: 19s - loss: 3989.4507 - mae: 3989.4507 - mse: 32800060.0000INFO:tensorflow:Assets written to: model_experiments\\model_1_dense\\assets\n",
      "18/18 [==============================] - 2s 66ms/step - loss: 2042.0002 - mae: 2042.0002 - mse: 12310790.0000 - val_loss: 1418.2930 - val_mae: 1418.2930 - val_mse: 5210290.5000\n",
      "Epoch 2/100\n",
      "18/18 [==============================] - 0s 4ms/step - loss: 373.3944 - mae: 373.3944 - mse: 536825.7500 - val_loss: 1789.7322 - val_mae: 1789.7322 - val_mse: 7562394.0000\n",
      "Epoch 3/100\n",
      " 1/18 [>.............................] - ETA: 0s - loss: 239.5740 - mae: 239.5740 - mse: 194800.5625INFO:tensorflow:Assets written to: model_experiments\\model_1_dense\\assets\n",
      "18/18 [==============================] - 1s 33ms/step - loss: 241.4730 - mae: 241.4730 - mse: 270828.4688 - val_loss: 1112.8051 - val_mae: 1112.8051 - val_mse: 3792504.7500\n",
      "Epoch 4/100\n",
      "15/18 [========================>.....] - ETA: 0s - loss: 195.6695 - mae: 195.6695 - mse: 196198.6719INFO:tensorflow:Assets written to: model_experiments\\model_1_dense\\assets\n",
      "18/18 [==============================] - 1s 46ms/step - loss: 195.9850 - mae: 195.9850 - mse: 193863.7031 - val_loss: 1026.1870 - val_mae: 1026.1870 - val_mse: 3479510.2500\n",
      "Epoch 5/100\n",
      "18/18 [==============================] - 0s 7ms/step - loss: 185.3312 - mae: 185.3312 - mse: 184337.2031 - val_loss: 1064.7198 - val_mae: 1064.7198 - val_mse: 3455912.5000\n",
      "Epoch 6/100\n",
      " 1/18 [>.............................] - ETA: 0s - loss: 134.9609 - mae: 134.9609 - mse: 70977.4062INFO:tensorflow:Assets written to: model_experiments\\model_1_dense\\assets\n",
      "18/18 [==============================] - 1s 38ms/step - loss: 178.5018 - mae: 178.5018 - mse: 170220.2344 - val_loss: 979.2015 - val_mae: 979.2015 - val_mse: 3236048.0000\n",
      "Epoch 7/100\n",
      " 1/18 [>.............................] - ETA: 0s - loss: 211.4173 - mae: 211.4173 - mse: 321042.5000INFO:tensorflow:Assets written to: model_experiments\\model_1_dense\\assets\n",
      "18/18 [==============================] - 1s 38ms/step - loss: 170.9752 - mae: 170.9752 - mse: 159755.6719 - val_loss: 959.4187 - val_mae: 959.4187 - val_mse: 2929677.5000\n",
      "Epoch 8/100\n",
      "17/18 [===========================>..] - ETA: 0s - loss: 166.1590 - mae: 166.1590 - mse: 152109.4844INFO:tensorflow:Assets written to: model_experiments\\model_1_dense\\assets\n",
      "18/18 [==============================] - 1s 40ms/step - loss: 166.1129 - mae: 166.1129 - mse: 150729.2656 - val_loss: 915.9973 - val_mae: 915.9973 - val_mse: 2775229.0000\n",
      "Epoch 9/100\n",
      "18/18 [==============================] - 0s 5ms/step - loss: 163.5292 - mae: 163.5292 - mse: 147372.5000 - val_loss: 963.3560 - val_mae: 963.3560 - val_mse: 2798857.0000\n",
      "Epoch 10/100\n",
      " 1/18 [>.............................] - ETA: 0s - loss: 175.6369 - mae: 175.6369 - mse: 210715.4219INFO:tensorflow:Assets written to: model_experiments\\model_1_dense\\assets\n",
      "18/18 [==============================] - 1s 46ms/step - loss: 159.9355 - mae: 159.9355 - mse: 141401.9531 - val_loss: 883.9698 - val_mae: 883.9698 - val_mse: 2544283.5000\n",
      "Epoch 11/100\n",
      " 1/18 [>.............................] - ETA: 0s - loss: 167.2832 - mae: 167.2832 - mse: 130911.0156INFO:tensorflow:Assets written to: model_experiments\\model_1_dense\\assets\n",
      "18/18 [==============================] - 1s 33ms/step - loss: 156.3730 - mae: 156.3730 - mse: 134383.1719 - val_loss: 862.7099 - val_mae: 862.7099 - val_mse: 2431288.7500\n",
      "Epoch 12/100\n",
      "18/18 [==============================] - 0s 4ms/step - loss: 152.2137 - mae: 152.2137 - mse: 129065.2812 - val_loss: 881.6857 - val_mae: 881.6857 - val_mse: 2407236.2500\n",
      "Epoch 13/100\n",
      " 1/18 [>.............................] - ETA: 0s - loss: 120.5775 - mae: 120.5775 - mse: 91740.6875INFO:tensorflow:Assets written to: model_experiments\\model_1_dense\\assets\n",
      "18/18 [==============================] - 1s 40ms/step - loss: 151.1720 - mae: 151.1720 - mse: 128559.7578 - val_loss: 853.9797 - val_mae: 853.9797 - val_mse: 2289229.0000\n",
      "Epoch 14/100\n",
      " 1/18 [>.............................] - ETA: 0s - loss: 152.0218 - mae: 152.0218 - mse: 109069.5312INFO:tensorflow:Assets written to: model_experiments\\model_1_dense\\assets\n",
      "18/18 [==============================] - 1s 42ms/step - loss: 148.1954 - mae: 148.1954 - mse: 121487.3359 - val_loss: 833.0504 - val_mae: 833.0504 - val_mse: 2191198.0000\n",
      "Epoch 15/100\n",
      " 1/18 [>.............................] - ETA: 0s - loss: 152.5134 - mae: 152.5134 - mse: 90371.2578INFO:tensorflow:Assets written to: model_experiments\\model_1_dense\\assets\n",
      "18/18 [==============================] - 1s 38ms/step - loss: 145.2984 - mae: 145.2984 - mse: 117456.8125 - val_loss: 806.3924 - val_mae: 806.3924 - val_mse: 2088555.2500\n",
      "Epoch 16/100\n",
      "18/18 [==============================] - 0s 5ms/step - loss: 141.8575 - mae: 141.8575 - mse: 113360.5859 - val_loss: 814.7637 - val_mae: 814.7637 - val_mse: 2070104.8750\n",
      "Epoch 17/100\n",
      "18/18 [==============================] - 0s 5ms/step - loss: 141.7074 - mae: 141.7074 - mse: 111889.6250 - val_loss: 807.4302 - val_mae: 807.4302 - val_mse: 2020410.5000\n",
      "Epoch 18/100\n",
      "18/18 [==============================] - ETA: 0s - loss: 141.8023 - mae: 141.8023 - mse: 112961.3828INFO:tensorflow:Assets written to: model_experiments\\model_1_dense\\assets\n",
      "18/18 [==============================] - 1s 74ms/step - loss: 141.8023 - mae: 141.8023 - mse: 112961.3828 - val_loss: 783.8221 - val_mae: 783.8221 - val_mse: 1934055.8750\n",
      "Epoch 19/100\n",
      " 1/18 [>.............................] - ETA: 0s - loss: 79.7189 - mae: 79.7189 - mse: 32783.5273INFO:tensorflow:Assets written to: model_experiments\\model_1_dense\\assets\n",
      "18/18 [==============================] - 1s 78ms/step - loss: 137.5752 - mae: 137.5752 - mse: 106842.1562 - val_loss: 765.0300 - val_mae: 765.0301 - val_mse: 1866157.1250\n",
      "Epoch 20/100\n",
      "18/18 [==============================] - 0s 5ms/step - loss: 136.7986 - mae: 136.7986 - mse: 107451.4688 - val_loss: 772.5751 - val_mae: 772.5751 - val_mse: 1997477.1250\n",
      "Epoch 21/100\n",
      " 1/18 [>.............................] - ETA: 0s - loss: 187.7697 - mae: 187.7697 - mse: 151060.2656INFO:tensorflow:Assets written to: model_experiments\\model_1_dense\\assets\n",
      "18/18 [==============================] - 1s 42ms/step - loss: 137.8062 - mae: 137.8062 - mse: 106557.7031 - val_loss: 731.1138 - val_mae: 731.1138 - val_mse: 1801135.6250\n",
      "Epoch 22/100\n",
      " 1/18 [>.............................] - ETA: 0s - loss: 182.7001 - mae: 182.7001 - mse: 193907.9062INFO:tensorflow:Assets written to: model_experiments\\model_1_dense\\assets\n",
      "18/18 [==============================] - 1s 47ms/step - loss: 134.7583 - mae: 134.7583 - mse: 102953.5547 - val_loss: 722.5231 - val_mae: 722.5231 - val_mse: 1721051.6250\n",
      "Epoch 23/100\n",
      " 1/18 [>.............................] - ETA: 0s - loss: 127.6442 - mae: 127.6442 - mse: 75827.5938INFO:tensorflow:Assets written to: model_experiments\\model_1_dense\\assets\n",
      "18/18 [==============================] - 1s 40ms/step - loss: 132.5199 - mae: 132.5199 - mse: 99841.4531 - val_loss: 716.7077 - val_mae: 716.7077 - val_mse: 1742047.0000\n",
      "Epoch 24/100\n",
      " 1/18 [>.............................] - ETA: 0s - loss: 152.0215 - mae: 152.0215 - mse: 110693.4141INFO:tensorflow:Assets written to: model_experiments\\model_1_dense\\assets\n",
      "18/18 [==============================] - 1s 40ms/step - loss: 130.9178 - mae: 130.9178 - mse: 98304.5781 - val_loss: 709.9451 - val_mae: 709.9451 - val_mse: 1654377.6250\n",
      "Epoch 25/100\n",
      "18/18 [==============================] - 0s 5ms/step - loss: 130.4049 - mae: 130.4049 - mse: 94991.6641 - val_loss: 736.7104 - val_mae: 736.7104 - val_mse: 1812372.2500\n",
      "Epoch 26/100\n",
      "18/18 [==============================] - 0s 7ms/step - loss: 136.2931 - mae: 136.2931 - mse: 98369.6953 - val_loss: 741.8475 - val_mae: 741.8475 - val_mse: 1824160.7500\n",
      "Epoch 27/100\n",
      "15/18 [========================>.....] - ETA: 0s - loss: 131.5477 - mae: 131.5477 - mse: 96544.7734 INFO:tensorflow:Assets written to: model_experiments\\model_1_dense\\assets\n",
      "18/18 [==============================] - 1s 74ms/step - loss: 131.1654 - mae: 131.1654 - mse: 97535.3750 - val_loss: 690.4568 - val_mae: 690.4568 - val_mse: 1621809.0000\n",
      "Epoch 28/100\n",
      " 1/18 [>.............................] - ETA: 0s - loss: 126.7193 - mae: 126.7193 - mse: 75695.9609INFO:tensorflow:Assets written to: model_experiments\\model_1_dense\\assets\n",
      "18/18 [==============================] - 1s 54ms/step - loss: 127.0581 - mae: 127.0581 - mse: 91821.7188 - val_loss: 681.0601 - val_mae: 681.0601 - val_mse: 1544358.6250\n",
      "Epoch 29/100\n",
      " 1/18 [>.............................] - ETA: 0s - loss: 124.0714 - mae: 124.0714 - mse: 93102.2344INFO:tensorflow:Assets written to: model_experiments\\model_1_dense\\assets\n",
      "18/18 [==============================] - 1s 39ms/step - loss: 133.2758 - mae: 133.2758 - mse: 97418.4531 - val_loss: 674.8746 - val_mae: 674.8746 - val_mse: 1551560.7500\n",
      "Epoch 30/100\n",
      "18/18 [==============================] - 0s 4ms/step - loss: 126.0574 - mae: 126.0574 - mse: 90588.0469 - val_loss: 679.0257 - val_mae: 679.0257 - val_mse: 1517698.7500\n",
      "Epoch 31/100\n",
      "18/18 [==============================] - 0s 5ms/step - loss: 124.2940 - mae: 124.2940 - mse: 87063.8750 - val_loss: 743.4700 - val_mae: 743.4700 - val_mse: 1676068.3750\n",
      "Epoch 32/100\n",
      "18/18 [==============================] - 0s 6ms/step - loss: 127.0145 - mae: 127.0145 - mse: 91784.4219 - val_loss: 698.0493 - val_mae: 698.0493 - val_mse: 1545678.0000\n",
      "Epoch 33/100\n",
      " 1/18 [>.............................] - ETA: 0s - loss: 153.3555 - mae: 153.3555 - mse: 162728.1875INFO:tensorflow:Assets written to: model_experiments\\model_1_dense\\assets\n",
      "18/18 [==============================] - 1s 43ms/step - loss: 121.4660 - mae: 121.4660 - mse: 85679.7578 - val_loss: 659.4155 - val_mae: 659.4155 - val_mse: 1456424.7500\n",
      "Epoch 34/100\n",
      " 1/18 [>.............................] - ETA: 0s - loss: 133.2118 - mae: 133.2118 - mse: 131665.5000INFO:tensorflow:Assets written to: model_experiments\\model_1_dense\\assets\n",
      "18/18 [==============================] - 1s 78ms/step - loss: 121.4569 - mae: 121.4569 - mse: 87387.1172 - val_loss: 649.9956 - val_mae: 649.9956 - val_mse: 1432397.5000\n",
      "Epoch 35/100\n",
      "18/18 [==============================] - 0s 5ms/step - loss: 119.7176 - mae: 119.7176 - mse: 85145.6953 - val_loss: 655.2466 - val_mae: 655.2466 - val_mse: 1433359.2500\n",
      "Epoch 36/100\n",
      "18/18 [==============================] - 0s 6ms/step - loss: 128.6632 - mae: 128.6632 - mse: 89010.3203 - val_loss: 796.6199 - val_mae: 796.6199 - val_mse: 1822029.7500\n",
      "Epoch 37/100\n",
      "17/18 [===========================>..] - ETA: 0s - loss: 122.8178 - mae: 122.8178 - mse: 80251.8125 INFO:tensorflow:Assets written to: model_experiments\\model_1_dense\\assets\n",
      "18/18 [==============================] - 1s 59ms/step - loss: 123.7201 - mae: 123.7201 - mse: 84620.7422 - val_loss: 640.2144 - val_mae: 640.2144 - val_mse: 1392580.7500\n",
      "Epoch 38/100\n",
      "18/18 [==============================] - 0s 10ms/step - loss: 118.6272 - mae: 118.6272 - mse: 83509.7734 - val_loss: 641.9971 - val_mae: 641.9971 - val_mse: 1414688.8750\n",
      "Epoch 39/100\n",
      "18/18 [==============================] - 0s 7ms/step - loss: 121.0465 - mae: 121.0465 - mse: 84362.6641 - val_loss: 702.2930 - val_mae: 702.2930 - val_mse: 1609139.0000\n",
      "Epoch 40/100\n",
      "13/18 [====================>.........] - ETA: 0s - loss: 119.7028 - mae: 119.7028 - mse: 87136.6797 INFO:tensorflow:Assets written to: model_experiments\\model_1_dense\\assets\n",
      "18/18 [==============================] - 1s 58ms/step - loss: 118.2027 - mae: 118.2027 - mse: 83224.1406 - val_loss: 632.0297 - val_mae: 632.0297 - val_mse: 1359709.8750\n",
      "Epoch 41/100\n",
      "13/18 [====================>.........] - ETA: 0s - loss: 122.3496 - mae: 122.3496 - mse: 90247.0391INFO:tensorflow:Assets written to: model_experiments\\model_1_dense\\assets\n",
      "18/18 [==============================] - 1s 70ms/step - loss: 117.3010 - mae: 117.3010 - mse: 82121.4375 - val_loss: 630.7549 - val_mae: 630.7549 - val_mse: 1371607.0000\n",
      "Epoch 42/100\n",
      "18/18 [==============================] - 0s 9ms/step - loss: 121.1587 - mae: 121.1587 - mse: 85171.8672 - val_loss: 632.3623 - val_mae: 632.3623 - val_mse: 1351230.5000\n",
      "Epoch 43/100\n",
      "12/18 [===================>..........] - ETA: 0s - loss: 112.9798 - mae: 112.9798 - mse: 66891.3672INFO:tensorflow:Assets written to: model_experiments\\model_1_dense\\assets\n",
      "18/18 [==============================] - 1s 69ms/step - loss: 118.2197 - mae: 118.2197 - mse: 79515.9453 - val_loss: 628.0707 - val_mae: 628.0707 - val_mse: 1362610.8750\n",
      "Epoch 44/100\n",
      "18/18 [==============================] - 0s 11ms/step - loss: 118.3195 - mae: 118.3195 - mse: 81966.5781 - val_loss: 639.4083 - val_mae: 639.4083 - val_mse: 1396264.7500\n",
      "Epoch 45/100\n",
      "15/18 [========================>.....] - ETA: 0s - loss: 113.6531 - mae: 113.6531 - mse: 78461.8672INFO:tensorflow:Assets written to: model_experiments\\model_1_dense\\assets\n",
      "18/18 [==============================] - 1s 65ms/step - loss: 115.1203 - mae: 115.1203 - mse: 79547.1562 - val_loss: 620.3542 - val_mae: 620.3542 - val_mse: 1317547.5000\n",
      "Epoch 46/100\n",
      "18/18 [==============================] - 0s 8ms/step - loss: 117.3033 - mae: 117.3033 - mse: 80012.2266 - val_loss: 658.3961 - val_mae: 658.3961 - val_mse: 1442213.1250\n",
      "Epoch 47/100\n",
      "18/18 [==============================] - 0s 10ms/step - loss: 118.7627 - mae: 118.7627 - mse: 81836.6484 - val_loss: 658.9535 - val_mae: 658.9535 - val_mse: 1400301.8750\n",
      "Epoch 48/100\n",
      "18/18 [==============================] - 0s 11ms/step - loss: 114.2287 - mae: 114.2287 - mse: 76529.4141 - val_loss: 638.6340 - val_mae: 638.6340 - val_mse: 1349682.6250\n",
      "Epoch 49/100\n",
      "10/18 [===============>..............] - ETA: 0s - loss: 126.0088 - mae: 126.0088 - mse: 96811.2500 INFO:tensorflow:Assets written to: model_experiments\\model_1_dense\\assets\n",
      "18/18 [==============================] - 1s 83ms/step - loss: 117.5426 - mae: 117.5426 - mse: 78372.6641 - val_loss: 603.0831 - val_mae: 603.0831 - val_mse: 1273160.8750\n",
      "Epoch 50/100\n",
      "18/18 [==============================] - 0s 10ms/step - loss: 111.9270 - mae: 111.9270 - mse: 76033.8125 - val_loss: 625.4786 - val_mae: 625.4786 - val_mse: 1339458.1250\n",
      "Epoch 51/100\n",
      "18/18 [==============================] - 0s 4ms/step - loss: 113.3675 - mae: 113.3675 - mse: 76318.0156 - val_loss: 614.7938 - val_mae: 614.7938 - val_mse: 1289712.7500\n",
      "Epoch 52/100\n",
      "17/18 [===========================>..] - ETA: 0s - loss: 113.5371 - mae: 113.5371 - mse: 77951.5078INFO:tensorflow:Assets written to: model_experiments\\model_1_dense\\assets\n",
      "18/18 [==============================] - 1s 61ms/step - loss: 112.9845 - mae: 112.9845 - mse: 77020.7500 - val_loss: 600.7475 - val_mae: 600.7475 - val_mse: 1268700.8750\n",
      "Epoch 53/100\n",
      "18/18 [==============================] - 0s 9ms/step - loss: 114.1743 - mae: 114.1743 - mse: 77492.0547 - val_loss: 653.8328 - val_mae: 653.8328 - val_mse: 1374233.3750\n",
      "Epoch 54/100\n",
      "18/18 [==============================] - 0s 10ms/step - loss: 116.1419 - mae: 116.1419 - mse: 77255.4453 - val_loss: 616.1492 - val_mae: 616.1492 - val_mse: 1286933.6250\n",
      "Epoch 55/100\n",
      "11/18 [=================>............] - ETA: 0s - loss: 122.3864 - mae: 122.3864 - mse: 88209.5938 INFO:tensorflow:Assets written to: model_experiments\\model_1_dense\\assets\n",
      "18/18 [==============================] - 1s 49ms/step - loss: 114.3849 - mae: 114.3849 - mse: 78012.8125 - val_loss: 597.0055 - val_mae: 597.0055 - val_mse: 1255996.8750\n",
      "Epoch 56/100\n",
      "18/18 [==============================] - 0s 9ms/step - loss: 110.0498 - mae: 110.0498 - mse: 73700.2578 - val_loss: 743.6409 - val_mae: 743.6409 - val_mse: 1673549.3750\n",
      "Epoch 57/100\n",
      "18/18 [==============================] - 0s 9ms/step - loss: 118.4788 - mae: 118.4788 - mse: 80327.1562 - val_loss: 613.1076 - val_mae: 613.1076 - val_mse: 1294590.1250\n",
      "Epoch 58/100\n",
      "18/18 [==============================] - 0s 9ms/step - loss: 115.1800 - mae: 115.1800 - mse: 75220.4844 - val_loss: 618.2311 - val_mae: 618.2311 - val_mse: 1285152.5000\n",
      "Epoch 59/100\n",
      "18/18 [==============================] - 0s 10ms/step - loss: 112.1750 - mae: 112.1750 - mse: 75594.1094 - val_loss: 609.0533 - val_mae: 609.0533 - val_mse: 1283565.6250\n",
      "Epoch 60/100\n",
      "18/18 [==============================] - 0s 8ms/step - loss: 109.9047 - mae: 109.9047 - mse: 74173.8125 - val_loss: 605.5377 - val_mae: 605.5377 - val_mse: 1256323.0000\n",
      "Epoch 61/100\n",
      "14/18 [======================>.......] - ETA: 0s - loss: 109.2576 - mae: 109.2576 - mse: 72833.8359INFO:tensorflow:Assets written to: model_experiments\\model_1_dense\\assets\n",
      "18/18 [==============================] - 1s 48ms/step - loss: 109.6555 - mae: 109.6555 - mse: 73857.0547 - val_loss: 586.9549 - val_mae: 586.9549 - val_mse: 1223990.1250\n",
      "Epoch 62/100\n",
      "18/18 [==============================] - 0s 10ms/step - loss: 108.3656 - mae: 108.3656 - mse: 71830.4375 - val_loss: 594.2323 - val_mae: 594.2323 - val_mse: 1243268.5000\n",
      "Epoch 63/100\n",
      "18/18 [==============================] - 0s 8ms/step - loss: 114.1235 - mae: 114.1235 - mse: 75713.1172 - val_loss: 648.3143 - val_mae: 648.3143 - val_mse: 1346747.8750\n",
      "Epoch 64/100\n",
      "18/18 [==============================] - 0s 8ms/step - loss: 111.4271 - mae: 111.4271 - mse: 73845.9688 - val_loss: 617.8880 - val_mae: 617.8880 - val_mse: 1277946.2500\n",
      "Epoch 65/100\n",
      " 1/18 [>.............................] - ETA: 0s - loss: 131.5770 - mae: 131.5770 - mse: 157420.2344INFO:tensorflow:Assets written to: model_experiments\\model_1_dense\\assets\n",
      "18/18 [==============================] - 1s 36ms/step - loss: 111.2002 - mae: 111.2002 - mse: 74114.6406 - val_loss: 582.9572 - val_mae: 582.9572 - val_mse: 1211211.2500\n",
      "Epoch 66/100\n",
      " 1/18 [>.............................] - ETA: 0s - loss: 113.5044 - mae: 113.5044 - mse: 73199.6562INFO:tensorflow:Assets written to: model_experiments\\model_1_dense\\assets\n",
      "18/18 [==============================] - 1s 38ms/step - loss: 108.3325 - mae: 108.3325 - mse: 72506.9766 - val_loss: 581.4615 - val_mae: 581.4615 - val_mse: 1206508.1250\n",
      "Epoch 67/100\n",
      "18/18 [==============================] - 0s 5ms/step - loss: 107.7050 - mae: 107.7050 - mse: 71293.5781 - val_loss: 619.0267 - val_mae: 619.0267 - val_mse: 1297626.5000\n",
      "Epoch 68/100\n",
      "18/18 [==============================] - 0s 7ms/step - loss: 112.3340 - mae: 112.3340 - mse: 71381.0156 - val_loss: 621.9215 - val_mae: 621.9215 - val_mse: 1303676.5000\n",
      "Epoch 69/100\n",
      " 1/18 [>.............................] - ETA: 0s - loss: 97.5205 - mae: 97.5205 - mse: 35039.4766INFO:tensorflow:Assets written to: model_experiments\\model_1_dense\\assets\n",
      "18/18 [==============================] - 1s 47ms/step - loss: 123.6223 - mae: 123.6223 - mse: 80807.2812 - val_loss: 580.0170 - val_mae: 580.0170 - val_mse: 1202731.8750\n",
      "Epoch 70/100\n",
      "18/18 [==============================] - 0s 4ms/step - loss: 132.0852 - mae: 132.0852 - mse: 88337.5156 - val_loss: 587.5259 - val_mae: 587.5259 - val_mse: 1226004.2500\n",
      "Epoch 71/100\n",
      "18/18 [==============================] - 0s 4ms/step - loss: 114.5217 - mae: 114.5217 - mse: 74925.0859 - val_loss: 616.3841 - val_mae: 616.3841 - val_mse: 1267182.5000\n",
      "Epoch 72/100\n",
      "18/18 [==============================] - 0s 6ms/step - loss: 108.4610 - mae: 108.4610 - mse: 72686.4766 - val_loss: 593.6544 - val_mae: 593.6544 - val_mse: 1235101.8750\n",
      "Epoch 73/100\n",
      "18/18 [==============================] - 0s 7ms/step - loss: 113.1094 - mae: 113.1094 - mse: 74657.9766 - val_loss: 610.4728 - val_mae: 610.4728 - val_mse: 1273015.5000\n",
      "Epoch 74/100\n",
      "18/18 [==============================] - 0s 7ms/step - loss: 109.1287 - mae: 109.1287 - mse: 72517.4062 - val_loss: 586.8159 - val_mae: 586.8159 - val_mse: 1218763.7500\n",
      "Epoch 75/100\n",
      "18/18 [==============================] - 0s 7ms/step - loss: 110.2873 - mae: 110.2873 - mse: 72577.2891 - val_loss: 590.5129 - val_mae: 590.5129 - val_mse: 1214090.1250\n",
      "Epoch 76/100\n",
      "18/18 [==============================] - 0s 8ms/step - loss: 108.8275 - mae: 108.8275 - mse: 72568.5625 - val_loss: 580.5292 - val_mae: 580.5292 - val_mse: 1201820.3750\n",
      "Epoch 77/100\n",
      "18/18 [==============================] - 0s 7ms/step - loss: 108.3418 - mae: 108.3418 - mse: 71071.5000 - val_loss: 581.6033 - val_mae: 581.6033 - val_mse: 1196292.6250\n",
      "Epoch 78/100\n",
      "14/18 [======================>.......] - ETA: 0s - loss: 110.4688 - mae: 110.4688 - mse: 71822.6875INFO:tensorflow:Assets written to: model_experiments\\model_1_dense\\assets\n",
      "18/18 [==============================] - 1s 38ms/step - loss: 110.7662 - mae: 110.7662 - mse: 71090.9688 - val_loss: 578.4930 - val_mae: 578.4930 - val_mse: 1196498.6250\n",
      "Epoch 79/100\n",
      "18/18 [==============================] - 0s 4ms/step - loss: 109.0409 - mae: 109.0409 - mse: 73488.3594 - val_loss: 609.8795 - val_mae: 609.8795 - val_mse: 1266886.5000\n",
      "Epoch 80/100\n",
      "18/18 [==============================] - 0s 5ms/step - loss: 108.7974 - mae: 108.7974 - mse: 72716.1016 - val_loss: 613.6459 - val_mae: 613.6459 - val_mse: 1258572.3750\n",
      "Epoch 81/100\n",
      " 1/18 [>.............................] - ETA: 0s - loss: 100.1300 - mae: 100.1300 - mse: 45830.0781INFO:tensorflow:Assets written to: model_experiments\\model_1_dense\\assets\n",
      "18/18 [==============================] - 1s 31ms/step - loss: 107.3632 - mae: 107.3632 - mse: 70552.0469 - val_loss: 574.8634 - val_mae: 574.8634 - val_mse: 1184815.6250\n",
      "Epoch 82/100\n",
      "18/18 [==============================] - 0s 5ms/step - loss: 116.9768 - mae: 116.9768 - mse: 78108.3984 - val_loss: 592.2593 - val_mae: 592.2593 - val_mse: 1228427.5000\n",
      "Epoch 83/100\n",
      "18/18 [==============================] - 0s 8ms/step - loss: 111.9217 - mae: 111.9217 - mse: 73596.2031 - val_loss: 720.1550 - val_mae: 720.1550 - val_mse: 1556933.3750\n",
      "Epoch 84/100\n",
      "18/18 [==============================] - 0s 6ms/step - loss: 114.0300 - mae: 114.0300 - mse: 73329.4062 - val_loss: 590.2316 - val_mae: 590.2316 - val_mse: 1223054.7500\n",
      "Epoch 85/100\n",
      "18/18 [==============================] - 0s 5ms/step - loss: 107.1970 - mae: 107.1970 - mse: 70469.6953 - val_loss: 592.1685 - val_mae: 592.1685 - val_mse: 1211570.6250\n",
      "Epoch 86/100\n",
      "18/18 [==============================] - 0s 5ms/step - loss: 109.1361 - mae: 109.1361 - mse: 70352.4375 - val_loss: 584.0824 - val_mae: 584.0824 - val_mse: 1196687.2500\n",
      "Epoch 87/100\n",
      "18/18 [==============================] - 0s 6ms/step - loss: 106.1112 - mae: 106.1112 - mse: 68814.5938 - val_loss: 598.4266 - val_mae: 598.4266 - val_mse: 1239135.0000\n",
      "Epoch 88/100\n",
      "18/18 [==============================] - 0s 8ms/step - loss: 106.9669 - mae: 106.9669 - mse: 70782.6250 - val_loss: 582.7382 - val_mae: 582.7382 - val_mse: 1205033.5000\n",
      "Epoch 89/100\n",
      "15/18 [========================>.....] - ETA: 0s - loss: 100.7835 - mae: 100.7835 - mse: 63231.1484INFO:tensorflow:Assets written to: model_experiments\\model_1_dense\\assets\n",
      "18/18 [==============================] - 1s 35ms/step - loss: 106.7016 - mae: 106.7016 - mse: 69517.6797 - val_loss: 572.6540 - val_mae: 572.6540 - val_mse: 1177629.2500\n",
      "Epoch 90/100\n",
      "18/18 [==============================] - 0s 4ms/step - loss: 105.2689 - mae: 105.2689 - mse: 67576.4844 - val_loss: 596.6170 - val_mae: 596.6170 - val_mse: 1218844.8750\n",
      "Epoch 91/100\n",
      " 1/18 [>.............................] - ETA: 0s - loss: 87.8404 - mae: 87.8404 - mse: 28825.5078INFO:tensorflow:Assets written to: model_experiments\\model_1_dense\\assets\n",
      "18/18 [==============================] - 1s 29ms/step - loss: 108.0970 - mae: 108.0970 - mse: 70768.6953 - val_loss: 572.1234 - val_mae: 572.1234 - val_mse: 1174875.6250\n",
      "Epoch 92/100\n",
      "18/18 [==============================] - 0s 6ms/step - loss: 108.8635 - mae: 108.8635 - mse: 71991.8438 - val_loss: 589.2743 - val_mae: 589.2743 - val_mse: 1217178.0000\n",
      "Epoch 93/100\n",
      "18/18 [==============================] - 0s 4ms/step - loss: 119.4038 - mae: 119.4038 - mse: 77250.8828 - val_loss: 655.6918 - val_mae: 655.6918 - val_mse: 1370991.3750\n",
      "Epoch 94/100\n",
      "18/18 [==============================] - 0s 4ms/step - loss: 110.6972 - mae: 110.6972 - mse: 72675.8203 - val_loss: 580.3572 - val_mae: 580.3572 - val_mse: 1187854.8750\n",
      "Epoch 95/100\n",
      " 1/18 [>.............................] - ETA: 0s - loss: 134.5365 - mae: 134.5365 - mse: 117209.9688INFO:tensorflow:Assets written to: model_experiments\\model_1_dense\\assets\n",
      "18/18 [==============================] - 1s 44ms/step - loss: 104.8653 - mae: 104.8653 - mse: 68179.0000 - val_loss: 571.2491 - val_mae: 571.2491 - val_mse: 1174661.2500\n",
      "Epoch 96/100\n",
      "18/18 [==============================] - 0s 5ms/step - loss: 107.3027 - mae: 107.3027 - mse: 69390.1094 - val_loss: 606.1039 - val_mae: 606.1039 - val_mse: 1254031.7500\n",
      "Epoch 97/100\n",
      "18/18 [==============================] - 0s 4ms/step - loss: 106.8310 - mae: 106.8310 - mse: 70358.6797 - val_loss: 571.4717 - val_mae: 571.4717 - val_mse: 1171413.5000\n",
      "Epoch 98/100\n",
      "18/18 [==============================] - 0s 5ms/step - loss: 105.3959 - mae: 105.3959 - mse: 69517.3984 - val_loss: 573.3212 - val_mae: 573.3212 - val_mse: 1179942.5000\n",
      "Epoch 99/100\n",
      "18/18 [==============================] - 0s 6ms/step - loss: 106.6015 - mae: 106.6015 - mse: 70173.5391 - val_loss: 573.4866 - val_mae: 573.4866 - val_mse: 1171813.5000\n",
      "Epoch 100/100\n",
      "18/18 [==============================] - 0s 8ms/step - loss: 116.5442 - mae: 116.5442 - mse: 72251.0547 - val_loss: 667.6862 - val_mae: 667.6862 - val_mse: 1371963.7500\n"
     ]
    }
   ],
   "source": [
    "# Loading libraries\n",
    "import tensorflow as tf\n",
    "from tensorflow.keras import layers\n",
    "\n",
    "# Setting random seed\n",
    "tf.random.set_seed(42)\n",
    "\n",
    "# Constructing a model\n",
    "model_1 = tf.keras.Sequential([\n",
    "    layers.Dense(128, activation=\"relu\"),\n",
    "    layers.Dense(HORIZON, activation=\"linear\")\n",
    "], name=\"model_1_dense\")\n",
    "\n",
    "# Compiling the model\n",
    "model_1.compile(\n",
    "    loss=\"mae\",\n",
    "    optimizer=tf.keras.optimizers.Adam(),\n",
    "    metrics=[\"mae\", \"mse\"]\n",
    ")\n",
    "\n",
    "# Fitting the model\n",
    "history_1 = model_1.fit(\n",
    "    x=train_windows,\n",
    "    y=train_labels,\n",
    "    epochs=100,\n",
    "    verbose=1,\n",
    "    batch_size=128,\n",
    "    validation_data=(test_windows, test_labels),\n",
    "    callbacks=[create_model_checkpoint(model_name=model_1.name)]\n",
    ")"
   ]
  },
  {
   "cell_type": "code",
   "execution_count": 37,
   "metadata": {},
   "outputs": [
    {
     "name": "stdout",
     "output_type": "stream",
     "text": [
      "18/18 [==============================] - 0s 2ms/step - loss: 667.6861 - mae: 667.6861 - mse: 1371963.8750\n"
     ]
    },
    {
     "data": {
      "text/plain": [
       "[667.6860961914062, 667.6860961914062, 1371963.875]"
      ]
     },
     "execution_count": 37,
     "metadata": {},
     "output_type": "execute_result"
    }
   ],
   "source": [
    "# Evaluating the model on test data\n",
    "model_1.evaluate(test_windows, test_labels)"
   ]
  },
  {
   "cell_type": "code",
   "execution_count": 38,
   "metadata": {},
   "outputs": [
    {
     "name": "stdout",
     "output_type": "stream",
     "text": [
      "18/18 [==============================] - 0s 2ms/step - loss: 571.2491 - mae: 571.2491 - mse: 1174661.2500\n"
     ]
    },
    {
     "data": {
      "text/plain": [
       "[571.2491455078125, 571.2491455078125, 1174661.25]"
      ]
     },
     "execution_count": 38,
     "metadata": {},
     "output_type": "execute_result"
    }
   ],
   "source": [
    "# Loading the best performing model_1 run and evaluating on test data\n",
    "model_1_best = tf.keras.models.load_model(\"model_experiments/model_1_dense/\")\n",
    "model_1_best.evaluate(test_windows, test_labels)"
   ]
  },
  {
   "cell_type": "code",
   "execution_count": 39,
   "metadata": {},
   "outputs": [],
   "source": [
    "# Creating function to make predictions\n",
    "def make_preds(model, input_data):\n",
    "    forecast = model.predict(input_data)\n",
    "    return tf.squeeze(forecast) # 1D array of predictions"
   ]
  },
  {
   "cell_type": "code",
   "execution_count": 40,
   "metadata": {},
   "outputs": [
    {
     "name": "stdout",
     "output_type": "stream",
     "text": [
      "18/18 [==============================] - 0s 2ms/step\n"
     ]
    },
    {
     "data": {
      "text/plain": [
       "(556,\n",
       " <tf.Tensor: shape=(10,), dtype=float32, numpy=\n",
       " array([8690.964, 8599.783, 8878.035, 8613.987, 8565.705, 8612.553,\n",
       "        8522.885, 8339.065, 8322.954, 8371.132], dtype=float32)>)"
      ]
     },
     "execution_count": 40,
     "metadata": {},
     "output_type": "execute_result"
    }
   ],
   "source": [
    "# Making predictions with the model 1\n",
    "model_1_preds = make_preds(model_1, test_windows)\n",
    "len(model_1_preds), model_1_preds[:10]"
   ]
  },
  {
   "cell_type": "code",
   "execution_count": 41,
   "metadata": {},
   "outputs": [
    {
     "data": {
      "text/plain": [
       "{'mae': 667.68616,\n",
       " 'mse': 1371963.9,\n",
       " 'rmse': 1171.3086,\n",
       " 'mape': 3.0773184,\n",
       " 'mase': 1.1729397}"
      ]
     },
     "execution_count": 41,
     "metadata": {},
     "output_type": "execute_result"
    }
   ],
   "source": [
    "# Evaluting model 1 predictions\n",
    "model_1_results = evaluate_preds(\n",
    "    y_true=tf.squeeze(test_labels),\n",
    "    y_pred=model_1_preds\n",
    ")\n",
    "model_1_results"
   ]
  },
  {
   "cell_type": "code",
   "execution_count": 45,
   "metadata": {},
   "outputs": [
    {
     "data": {
      "image/png": "[encoded data removed]",
      "text/plain": [
       "<Figure size 720x504 with 1 Axes>"
      ]
     },
     "metadata": {
      "needs_background": "light"
     },
     "output_type": "display_data"
    }
   ],
   "source": [
    "# Plotting model results\n",
    "offset = 300\n",
    "plt.figure(figsize=(10, 7))\n",
    "\n",
    "plot_time_series(\n",
    "    timestamps=X_test[-len(test_windows):],\n",
    "    values=test_labels[:, ],\n",
    "    start=offset,\n",
    "    label=\"Test Data\"\n",
    ")\n",
    "\n",
    "plot_time_series(\n",
    "    timestamps=X_test[-len(test_windows):],\n",
    "    values=model_1_preds,\n",
    "    start=offset,\n",
    "    label=\"Model 1 Preds\"\n",
    ")"
   ]
  },
  {
   "attachments": {},
   "cell_type": "markdown",
   "metadata": {},
   "source": [
    "### Model 2 - Dense model (window = 30, horizon = 1)"
   ]
  },
  {
   "cell_type": "code",
   "execution_count": 46,
   "metadata": {},
   "outputs": [],
   "source": [
    "# Hyperparameters\n",
    "HORIZON = 1\n",
    "WINDOW_SIZE = 30"
   ]
  },
  {
   "cell_type": "code",
   "execution_count": 47,
   "metadata": {},
   "outputs": [
    {
     "data": {
      "text/plain": [
       "(2757, 2757)"
      ]
     },
     "execution_count": 47,
     "metadata": {},
     "output_type": "execute_result"
    }
   ],
   "source": [
    "# Making windows data\n",
    "full_windows, full_labels = make_windows(\n",
    "    prices,\n",
    "    window_size=WINDOW_SIZE,\n",
    "    horizon=HORIZON\n",
    ")\n",
    "len(full_windows), len(full_labels)"
   ]
  },
  {
   "cell_type": "code",
   "execution_count": 48,
   "metadata": {},
   "outputs": [
    {
     "data": {
      "text/plain": [
       "(2205, 552, 2205, 552)"
      ]
     },
     "execution_count": 48,
     "metadata": {},
     "output_type": "execute_result"
    }
   ],
   "source": [
    "# Making train and test windows\n",
    "train_windows, test_windows, train_labels, test_labels = make_train_test_splits(\n",
    "    windows=full_windows,\n",
    "    labels=full_labels,\n",
    "    test_split=0.2\n",
    ")\n",
    "len(train_windows), len(test_windows), len(train_labels), len(test_labels)"
   ]
  },
  {
   "cell_type": "code",
   "execution_count": 49,
   "metadata": {},
   "outputs": [
    {
     "data": {
      "text/plain": [
       "array([[123.65499, 125.455  , 108.58483, 118.67466, 121.33866, 120.65533,\n",
       "        121.795  , 123.033  , 124.049  , 125.96116, 125.27966, 125.9275 ,\n",
       "        126.38333, 135.24199, 133.20333, 142.76333, 137.92333, 142.95166,\n",
       "        152.55183, 160.33883, 164.31499, 177.63333, 188.29716, 200.70166,\n",
       "        180.355  , 175.03166, 177.6965 , 187.15983, 192.75666, 197.4    ],\n",
       "       [125.455  , 108.58483, 118.67466, 121.33866, 120.65533, 121.795  ,\n",
       "        123.033  , 124.049  , 125.96116, 125.27966, 125.9275 , 126.38333,\n",
       "        135.24199, 133.20333, 142.76333, 137.92333, 142.95166, 152.55183,\n",
       "        160.33883, 164.31499, 177.63333, 188.29716, 200.70166, 180.355  ,\n",
       "        175.03166, 177.6965 , 187.15983, 192.75666, 197.4    , 196.02499],\n",
       "       [108.58483, 118.67466, 121.33866, 120.65533, 121.795  , 123.033  ,\n",
       "        124.049  , 125.96116, 125.27966, 125.9275 , 126.38333, 135.24199,\n",
       "        133.20333, 142.76333, 137.92333, 142.95166, 152.55183, 160.33883,\n",
       "        164.31499, 177.63333, 188.29716, 200.70166, 180.355  , 175.03166,\n",
       "        177.6965 , 187.15983, 192.75666, 197.4    , 196.02499, 198.04883]])"
      ]
     },
     "execution_count": 49,
     "metadata": {},
     "output_type": "execute_result"
    }
   ],
   "source": [
    "# Checking first 3 train windows\n",
    "train_windows[:3]"
   ]
  },
  {
   "cell_type": "code",
   "execution_count": 50,
   "metadata": {},
   "outputs": [
    {
     "name": "stdout",
     "output_type": "stream",
     "text": [
      "INFO:tensorflow:Assets written to: model_experiments\\model_2_dense\\assets\n",
      "INFO:tensorflow:Assets written to: model_experiments\\model_2_dense\\assets\n",
      "INFO:tensorflow:Assets written to: model_experiments\\model_2_dense\\assets\n",
      "INFO:tensorflow:Assets written to: model_experiments\\model_2_dense\\assets\n",
      "INFO:tensorflow:Assets written to: model_experiments\\model_2_dense\\assets\n",
      "INFO:tensorflow:Assets written to: model_experiments\\model_2_dense\\assets\n",
      "INFO:tensorflow:Assets written to: model_experiments\\model_2_dense\\assets\n",
      "INFO:tensorflow:Assets written to: model_experiments\\model_2_dense\\assets\n",
      "INFO:tensorflow:Assets written to: model_experiments\\model_2_dense\\assets\n",
      "INFO:tensorflow:Assets written to: model_experiments\\model_2_dense\\assets\n",
      "INFO:tensorflow:Assets written to: model_experiments\\model_2_dense\\assets\n",
      "INFO:tensorflow:Assets written to: model_experiments\\model_2_dense\\assets\n",
      "INFO:tensorflow:Assets written to: model_experiments\\model_2_dense\\assets\n",
      "INFO:tensorflow:Assets written to: model_experiments\\model_2_dense\\assets\n",
      "INFO:tensorflow:Assets written to: model_experiments\\model_2_dense\\assets\n",
      "INFO:tensorflow:Assets written to: model_experiments\\model_2_dense\\assets\n",
      "INFO:tensorflow:Assets written to: model_experiments\\model_2_dense\\assets\n",
      "INFO:tensorflow:Assets written to: model_experiments\\model_2_dense\\assets\n",
      "INFO:tensorflow:Assets written to: model_experiments\\model_2_dense\\assets\n",
      "INFO:tensorflow:Assets written to: model_experiments\\model_2_dense\\assets\n",
      "INFO:tensorflow:Assets written to: model_experiments\\model_2_dense\\assets\n",
      "INFO:tensorflow:Assets written to: model_experiments\\model_2_dense\\assets\n",
      "INFO:tensorflow:Assets written to: model_experiments\\model_2_dense\\assets\n",
      "INFO:tensorflow:Assets written to: model_experiments\\model_2_dense\\assets\n",
      "INFO:tensorflow:Assets written to: model_experiments\\model_2_dense\\assets\n",
      "INFO:tensorflow:Assets written to: model_experiments\\model_2_dense\\assets\n"
     ]
    }
   ],
   "source": [
    "# Creating a model\n",
    "model_2 = tf.keras.Sequential([\n",
    "    layers.Dense(128, activation=\"relu\"),\n",
    "    layers.Dense(HORIZON)\n",
    "], name=\"model_2_dense\")\n",
    "\n",
    "# Compiling the model\n",
    "model_2.compile(\n",
    "    loss=\"mae\",\n",
    "    optimizer=tf.keras.optimizers.Adam(),\n",
    "    metrics=[\"mae\"]\n",
    ")\n",
    "\n",
    "# Fitting the model\n",
    "history_2 = model_2.fit(\n",
    "    train_windows,\n",
    "    train_labels,\n",
    "    epochs=100,\n",
    "    batch_size=128,\n",
    "    verbose=0,\n",
    "    validation_data=(test_windows, test_labels),\n",
    "    callbacks=[create_model_checkpoint(model_name=model_2.name)]\n",
    ")"
   ]
  },
  {
   "cell_type": "code",
   "execution_count": 51,
   "metadata": {},
   "outputs": [
    {
     "name": "stdout",
     "output_type": "stream",
     "text": [
      "18/18 [==============================] - 0s 7ms/step - loss: 637.3038 - mae: 637.3038\n"
     ]
    },
    {
     "data": {
      "text/plain": [
       "[637.3037719726562, 637.3037719726562]"
      ]
     },
     "execution_count": 51,
     "metadata": {},
     "output_type": "execute_result"
    }
   ],
   "source": [
    "# Evaluating model 2\n",
    "model_2.evaluate(test_windows, test_labels)"
   ]
  },
  {
   "cell_type": "code",
   "execution_count": 52,
   "metadata": {},
   "outputs": [
    {
     "name": "stdout",
     "output_type": "stream",
     "text": [
      "18/18 [==============================] - 1s 5ms/step - loss: 604.6503 - mae: 604.6503\n"
     ]
    },
    {
     "data": {
      "text/plain": [
       "[604.6502685546875, 604.6502685546875]"
      ]
     },
     "execution_count": 52,
     "metadata": {},
     "output_type": "execute_result"
    }
   ],
   "source": [
    "# Loading the best model 2\n",
    "model_2_best = tf.keras.models.load_model(\"model_experiments/model_2_dense/\")\n",
    "model_2_best.evaluate(test_windows, test_labels)"
   ]
  },
  {
   "cell_type": "code",
   "execution_count": 53,
   "metadata": {},
   "outputs": [
    {
     "name": "stdout",
     "output_type": "stream",
     "text": [
      "18/18 [==============================] - 0s 2ms/step\n"
     ]
    }
   ],
   "source": [
    "# getting model 2 predictions\n",
    "model_2_preds = make_preds(\n",
    "    model_2,\n",
    "    input_data=test_windows\n",
    ")"
   ]
  },
  {
   "cell_type": "code",
   "execution_count": 54,
   "metadata": {},
   "outputs": [
    {
     "data": {
      "text/plain": [
       "{'mae': 637.3038,\n",
       " 'mse': 1323569.4,\n",
       " 'rmse': 1150.4648,\n",
       " 'mape': 2.9163902,\n",
       " 'mase': 1.1140133}"
      ]
     },
     "execution_count": 54,
     "metadata": {},
     "output_type": "execute_result"
    }
   ],
   "source": [
    "# Evaluating results\n",
    "model_2_results = evaluate_preds(\n",
    "    y_true=tf.squeeze(test_labels),\n",
    "    y_pred=model_2_preds\n",
    ")\n",
    "model_2_results"
   ]
  },
  {
   "cell_type": "code",
   "execution_count": 55,
   "metadata": {},
   "outputs": [
    {
     "data": {
      "image/png": "[encoded data removed]",
      "text/plain": [
       "<Figure size 720x504 with 1 Axes>"
      ]
     },
     "metadata": {
      "needs_background": "light"
     },
     "output_type": "display_data"
    }
   ],
   "source": [
    "# Visualising model 2 results\n",
    "offset = 300\n",
    "plt.figure(figsize=(10, 7))\n",
    "\n",
    "plot_time_series(\n",
    "    timestamps=X_test[-len(test_windows):],\n",
    "    values=test_labels[:, 0],\n",
    "    start=offset,\n",
    "    label=\"Test Data\"\n",
    ")\n",
    "\n",
    "plot_time_series(\n",
    "    timestamps=X_test[-len(test_windows):],\n",
    "    values=model_2_preds,\n",
    "    start=offset,\n",
    "    label=\"Model 2 Preds\"\n",
    ")"
   ]
  },
  {
   "attachments": {},
   "cell_type": "markdown",
   "metadata": {},
   "source": [
    "### Model 3 - Dense model (window = 30, horizon = 7)"
   ]
  },
  {
   "cell_type": "code",
   "execution_count": 56,
   "metadata": {},
   "outputs": [],
   "source": [
    "# Hyperparameters\n",
    "HORIZON = 7\n",
    "WINDOW_SIZE = 30"
   ]
  },
  {
   "cell_type": "code",
   "execution_count": 57,
   "metadata": {},
   "outputs": [
    {
     "data": {
      "text/plain": [
       "(2751, 2751)"
      ]
     },
     "execution_count": 57,
     "metadata": {},
     "output_type": "execute_result"
    }
   ],
   "source": [
    "# Making windows data\n",
    "full_windows, full_labels = make_windows(\n",
    "    prices,\n",
    "    window_size=WINDOW_SIZE,\n",
    "    horizon=HORIZON\n",
    ")\n",
    "len(full_windows), len(full_labels)"
   ]
  },
  {
   "cell_type": "code",
   "execution_count": 58,
   "metadata": {},
   "outputs": [
    {
     "data": {
      "text/plain": [
       "(2200, 551, 2200, 551)"
      ]
     },
     "execution_count": 58,
     "metadata": {},
     "output_type": "execute_result"
    }
   ],
   "source": [
    "# Making train and test windows\n",
    "train_windows, test_windows, train_labels, test_labels = make_train_test_splits(\n",
    "    windows=full_windows,\n",
    "    labels=full_labels,\n",
    "    test_split=0.2\n",
    ")\n",
    "len(train_windows), len(test_windows), len(train_labels), len(test_labels)"
   ]
  },
  {
   "cell_type": "code",
   "execution_count": 59,
   "metadata": {},
   "outputs": [
    {
     "name": "stdout",
     "output_type": "stream",
     "text": [
      "INFO:tensorflow:Assets written to: model_experiments\\model_3_dense\\assets\n",
      "INFO:tensorflow:Assets written to: model_experiments\\model_3_dense\\assets\n",
      "INFO:tensorflow:Assets written to: model_experiments\\model_3_dense\\assets\n",
      "INFO:tensorflow:Assets written to: model_experiments\\model_3_dense\\assets\n",
      "INFO:tensorflow:Assets written to: model_experiments\\model_3_dense\\assets\n",
      "INFO:tensorflow:Assets written to: model_experiments\\model_3_dense\\assets\n",
      "INFO:tensorflow:Assets written to: model_experiments\\model_3_dense\\assets\n",
      "INFO:tensorflow:Assets written to: model_experiments\\model_3_dense\\assets\n",
      "INFO:tensorflow:Assets written to: model_experiments\\model_3_dense\\assets\n",
      "INFO:tensorflow:Assets written to: model_experiments\\model_3_dense\\assets\n",
      "INFO:tensorflow:Assets written to: model_experiments\\model_3_dense\\assets\n",
      "INFO:tensorflow:Assets written to: model_experiments\\model_3_dense\\assets\n",
      "INFO:tensorflow:Assets written to: model_experiments\\model_3_dense\\assets\n",
      "INFO:tensorflow:Assets written to: model_experiments\\model_3_dense\\assets\n",
      "INFO:tensorflow:Assets written to: model_experiments\\model_3_dense\\assets\n",
      "INFO:tensorflow:Assets written to: model_experiments\\model_3_dense\\assets\n",
      "INFO:tensorflow:Assets written to: model_experiments\\model_3_dense\\assets\n",
      "INFO:tensorflow:Assets written to: model_experiments\\model_3_dense\\assets\n",
      "INFO:tensorflow:Assets written to: model_experiments\\model_3_dense\\assets\n",
      "INFO:tensorflow:Assets written to: model_experiments\\model_3_dense\\assets\n",
      "INFO:tensorflow:Assets written to: model_experiments\\model_3_dense\\assets\n",
      "INFO:tensorflow:Assets written to: model_experiments\\model_3_dense\\assets\n"
     ]
    }
   ],
   "source": [
    "# Creating a model\n",
    "model_3 = tf.keras.Sequential([\n",
    "    layers.Dense(128, activation=\"relu\"),\n",
    "    layers.Dense(HORIZON)\n",
    "], name=\"model_3_dense\")\n",
    "\n",
    "# Compiling the model\n",
    "model_3.compile(\n",
    "    loss=\"mae\",\n",
    "    optimizer=tf.keras.optimizers.Adam(),\n",
    "    metrics=[\"mae\"]\n",
    ")\n",
    "\n",
    "# Fitting the model\n",
    "history_3 = model_3.fit(\n",
    "    train_windows,\n",
    "    train_labels,\n",
    "    epochs=100,\n",
    "    batch_size=128,\n",
    "    verbose=0,\n",
    "    validation_data=(test_windows, test_labels),\n",
    "    callbacks=[create_model_checkpoint(model_name=model_3.name)]\n",
    ")"
   ]
  },
  {
   "cell_type": "code",
   "execution_count": 61,
   "metadata": {},
   "outputs": [
    {
     "name": "stdout",
     "output_type": "stream",
     "text": [
      "18/18 [==============================] - 0s 5ms/step - loss: 1426.0170 - mae: 1426.0170\n"
     ]
    },
    {
     "data": {
      "text/plain": [
       "[1426.0169677734375, 1426.0169677734375]"
      ]
     },
     "execution_count": 61,
     "metadata": {},
     "output_type": "execute_result"
    }
   ],
   "source": [
    "# Evaluating model 3\n",
    "model_3.evaluate(test_windows, test_labels)"
   ]
  },
  {
   "cell_type": "code",
   "execution_count": 62,
   "metadata": {},
   "outputs": [
    {
     "name": "stdout",
     "output_type": "stream",
     "text": [
      "18/18 [==============================] - 0s 3ms/step\n"
     ]
    },
    {
     "data": {
      "text/plain": [
       "<tf.Tensor: shape=(3, 7), dtype=float32, numpy=\n",
       "array([[9182.564, 8978.301, 9014.152, 9028.289, 9040.986, 9013.556,\n",
       "        9143.393],\n",
       "       [8864.64 , 8539.224, 8755.714, 8629.711, 8741.757, 8675.981,\n",
       "        8948.458],\n",
       "       [8649.996, 8356.5  , 8720.532, 8571.909, 8658.619, 8559.204,\n",
       "        8775.466]], dtype=float32)>"
      ]
     },
     "execution_count": 62,
     "metadata": {},
     "output_type": "execute_result"
    }
   ],
   "source": [
    "# Making predictions with model 3\n",
    "model_3_preds = make_preds(\n",
    "    model_3,\n",
    "    input_data=test_windows\n",
    ")\n",
    "model_3_preds[:3]"
   ]
  },
  {
   "cell_type": "code",
   "execution_count": 63,
   "metadata": {},
   "outputs": [
    {
     "data": {
      "text/plain": [
       "{'mae': array([ 283.2578  ,  179.78725 ,  195.80148 ,  232.0572  ,  273.8221  ,\n",
       "         222.82764 ,  116.20048 ,  188.91399 ,  318.30658 ,  448.51953 ,\n",
       "         542.36084 ,  558.28033 ,  492.99832 ,  534.41156 ,  344.333   ,\n",
       "         240.12605 ,  327.38547 ,  486.66846 ,  468.86734 ,  515.87213 ,\n",
       "         210.08057 ,  158.2304  ,   95.66999 ,  115.99107 ,  142.17418 ,\n",
       "         335.34445 ,  270.88937 ,  448.14572 ,  331.51138 ,  160.9458  ,\n",
       "         179.3967  ,  102.01514 ,  143.79506 ,  182.88602 ,  203.88107 ,\n",
       "         226.12877 ,  253.62346 ,  266.8397  ,  314.502   ,  426.3337  ,\n",
       "         789.3023  ,  372.2823  ,  276.85883 ,  302.08295 ,  261.5793  ,\n",
       "         171.20082 ,  311.1831  ,  233.04402 ,  296.75977 ,  273.93088 ,\n",
       "         341.83273 ,  217.4652  ,  156.03201 ,  292.35004 ,  429.42105 ,\n",
       "         568.5996  ,  827.77203 ,  789.5668  ,  735.3929  ,  800.70746 ,\n",
       "         663.9982  ,  424.8355  ,  339.01813 ,  622.0008  ,  635.7333  ,\n",
       "         720.51263 ,  741.0908  ,  832.4712  ,  297.74332 ,  151.9866  ,\n",
       "         166.69963 ,  209.28166 ,  334.44156 ,  180.6469  ,  181.49344 ,\n",
       "         234.3199  ,  294.95535 ,  615.3949  ,  789.4492  ,  972.139   ,\n",
       "        1084.6117  ,  899.0306  ,  494.51508 ,  315.26968 ,  175.53976 ,\n",
       "         254.29436 ,  350.89035 ,  466.5237  ,  710.1671  ,  954.958   ,\n",
       "         847.59753 ,  634.36664 ,  626.5798  ,  480.8796  ,  280.2585  ,\n",
       "         363.5403  ,  275.2772  ,  345.1702  ,  397.48074 ,  368.02457 ,\n",
       "         144.1815  ,  137.81892 ,  388.55148 ,  169.9414  ,  266.2429  ,\n",
       "         403.09067 ,  433.6109  ,  533.0922  ,  644.7002  ,  629.26495 ,\n",
       "         409.74637 ,  189.79451 ,  367.76703 ,  371.3743  ,  441.9064  ,\n",
       "         635.49084 ,  448.1072  ,  514.5373  ,  575.33563 ,  950.7193  ,\n",
       "        1407.8342  , 1754.0165  , 1618.0814  , 1767.9244  , 2015.3967  ,\n",
       "        2229.2341  , 1031.4905  ,  511.9013  ,  444.31918 ,  442.34793 ,\n",
       "         817.4167  ,  727.94025 ,  928.5576  ,  279.61978 ,  289.70117 ,\n",
       "         250.67445 ,  632.91077 ,  463.76117 ,  204.93596 ,  320.0987  ,\n",
       "         419.4458  ,  470.70724 ,  668.4378  , 1115.8727  ,  979.52203 ,\n",
       "         859.9834  ,  617.61554 ,  490.40652 ,  327.87653 ,  430.5941  ,\n",
       "         243.2717  ,  234.39537 ,  324.2348  ,  221.75565 ,  340.056   ,\n",
       "         161.94002 ,  306.2779  ,  412.08078 ,  335.16226 ,  425.35953 ,\n",
       "         445.0302  ,  329.17563 ,  315.0844  ,  280.15598 ,  299.2648  ,\n",
       "         611.5703  ,  929.17706 ,  891.77454 ,  757.3785  ,  877.14923 ,\n",
       "        1079.0182  , 1176.5223  , 1147.2144  , 1328.7227  ,  593.57605 ,\n",
       "         448.82993 ,  480.6264  ,  474.51883 ,  480.25766 ,  514.4933  ,\n",
       "         525.1751  ,  467.49176 ,  483.95676 ,  672.98425 ,  643.2741  ,\n",
       "         349.46234 ,  894.6875  , 1071.2996  ,  646.83203 ,  198.60254 ,\n",
       "         196.18248 ,  281.07883 ,  256.023   ,  351.67285 ,  321.36246 ,\n",
       "         282.48383 ,  256.37738 ,  352.72476 ,  422.024   ,  461.90836 ,\n",
       "         935.8881  , 1156.6052  , 1095.5012  ,  640.48047 ,  469.17145 ,\n",
       "         255.07004 ,  473.40192 ,   97.486885,  213.381   ,  317.6331  ,\n",
       "         245.16322 ,  240.30553 ,  376.54938 ,  262.3566  ,  195.64857 ,\n",
       "         177.9781  ,  226.64998 ,  238.50697 ,  208.52428 ,  265.97    ,\n",
       "         173.20703 ,  248.66838 ,  311.4012  ,  316.71164 ,  316.8277  ,\n",
       "         391.6801  ,  357.88406 ,  424.9968  ,  140.69057 ,  204.17717 ,\n",
       "         112.074356,  275.63812 ,  206.58873 ,  433.0262  ,  371.86746 ,\n",
       "         411.98145 ,  310.96957 ,  264.2525  ,  387.84277 ,  383.69516 ,\n",
       "         487.1345  ,  507.36523 ,  373.61313 ,  309.04312 ,  184.4933  ,\n",
       "         164.24902 ,  264.65305 ,  311.30762 ,  256.9827  ,  238.16643 ,\n",
       "         224.98494 ,  280.95605 ,  442.2885  ,  500.28558 ,  565.75574 ,\n",
       "         615.97784 ,  985.65656 , 1033.8408  , 1076.79    , 1189.6703  ,\n",
       "        1451.255   , 1667.4435  , 1652.2572  ,  733.7067  ,  431.20898 ,\n",
       "         250.5431  ,  394.30344 ,  300.19043 ,  179.02888 ,  259.65903 ,\n",
       "         546.0382  ,  549.52875 ,  333.70355 ,  182.08846 ,  113.61217 ,\n",
       "         176.37305 ,  166.91518 ,  248.43303 ,  484.56445 ,  616.09766 ,\n",
       "         561.85785 ,  400.3662  ,  382.86523 ,  322.81488 ,  189.31111 ,\n",
       "         263.28043 ,  137.23703 ,  249.85408 ,  229.59334 ,  289.49902 ,\n",
       "         232.5886  ,  226.34389 ,  545.7282  ,  589.5751  ,  652.59094 ,\n",
       "         488.6218  ,  595.7997  ,  650.33606 ,  799.2192  , 1041.7861  ,\n",
       "         953.20215 ,  312.2733  ,  161.84877 ,  495.3898  ,  578.5537  ,\n",
       "         457.91895 ,  620.64954 ,  700.6571  ,  651.76746 ,  651.10504 ,\n",
       "         644.02136 ,  811.32996 ,  630.3923  ,  367.12613 ,  216.75545 ,\n",
       "         178.476   ,  209.53906 ,  220.16113 ,  274.0272  ,  427.72867 ,\n",
       "         441.05386 ,  729.4704  ,  500.24594 ,  267.91196 ,  242.64648 ,\n",
       "         162.65443 ,  148.99889 ,  206.4011  ,  191.43275 ,  345.3065  ,\n",
       "         492.58105 ,  643.7963  ,  731.2666  ,  754.7692  ,  970.6278  ,\n",
       "        1070.8636  ,  972.72504 ,  769.3785  ,  480.31613 ,  308.8439  ,\n",
       "         162.40652 ,  266.60004 ,  631.2281  ,  789.9018  , 1106.4812  ,\n",
       "        1451.1337  , 1609.3191  , 1501.5848  , 1538.991   ,  637.14606 ,\n",
       "         260.0261  ,  332.28738 ,  523.1723  ,  560.2613  ,  690.67426 ,\n",
       "         326.2726  ,  514.74774 ,  854.763   , 1065.0339  ,  871.1352  ,\n",
       "        1060.1973  , 1493.4618  , 1658.3168  , 1473.4618  ,  685.26086 ,\n",
       "         482.7762  ,  751.38324 ,  798.3849  ,  953.8072  , 1329.3734  ,\n",
       "        1231.0693  , 1129.9504  , 1186.9955  , 1741.9758  , 2292.3223  ,\n",
       "        1925.3484  , 1354.7257  , 1046.721   ,  745.88055 ,  743.9542  ,\n",
       "         688.4219  ,  772.1088  ,  848.72797 ,  833.40375 ,  792.2374  ,\n",
       "        1195.4052  , 2001.7238  , 1896.2316  , 1724.9043  ,  678.93164 ,\n",
       "         302.93414 ,  391.0106  ,  359.0519  ,  377.14117 ,  381.7316  ,\n",
       "         381.3259  ,  443.012   ,  680.44836 , 1145.9548  , 2144.736   ,\n",
       "        3112.882   , 3548.3147  , 3466.8005  , 3815.6597  , 4099.8022  ,\n",
       "        2814.0535  , 1151.5505  ,  788.69836 ,  730.2832  , 1063.5803  ,\n",
       "        1627.5402  , 2329.9214  , 3147.1113  , 3880.5544  , 3771.9238  ,\n",
       "        2974.4548  , 2861.9592  , 3302.5708  , 4161.5254  , 3765.589   ,\n",
       "        4604.6704  , 5734.809   , 5094.7026  , 4667.8438  , 5542.6284  ,\n",
       "        4323.6357  , 2980.5156  , 2163.1501  , 3368.8276  , 4652.4995  ,\n",
       "        3793.2825  ,  935.173   , 2449.576   , 1151.7142  , 1953.7003  ,\n",
       "        1884.5865  , 2089.0222  , 2802.798   , 3014.805   , 2890.6335  ,\n",
       "        2851.275   , 1395.628   , 1996.9922  , 2458.5378  , 2322.577   ,\n",
       "        2514.5476  , 3164.306   , 5124.216   , 4001.3535  , 2828.4956  ,\n",
       "        2757.634   , 4924.663   , 6228.6016  , 6539.048   , 5937.5273  ,\n",
       "        6297.0737  , 7227.388   , 6925.505   , 9041.772   , 4948.4697  ,\n",
       "        1307.6562  , 2187.034   , 2613.2886  , 2273.1172  , 3518.3555  ,\n",
       "        3644.3137  , 4815.682   , 4800.9883  , 3622.9966  , 4272.1714  ,\n",
       "        5048.471   , 6431.601   , 8421.87    , 7939.3115  , 2596.5625  ,\n",
       "        1566.6719  , 1932.2947  , 3436.7551  , 4211.721   , 6356.4575  ,\n",
       "        4082.529   , 4359.065   , 3429.7278  , 4961.038   , 6876.8013  ,\n",
       "        8766.82    , 7568.938   , 8353.045   , 6561.417   , 4270.7466  ,\n",
       "        2714.0994  , 2301.125   , 1224.9069  , 2389.0942  , 1285.7277  ,\n",
       "        1842.2969  , 2017.1886  , 3346.2483  , 3438.1016  , 3754.3208  ,\n",
       "        2827.3455  , 1755.2869  , 2115.8784  , 3432.5261  , 6852.293   ,\n",
       "        6246.4414  , 4485.2373  , 4128.9814  , 4163.6094  , 2134.8599  ,\n",
       "        1743.5374  , 1128.3689  , 1326.8387  , 1858.4073  , 2323.5933  ,\n",
       "        1658.298   , 2631.269   , 5304.8525  , 5696.7563  , 4739.757   ,\n",
       "        4165.925   , 3429.4219  , 3217.234   , 3167.5786  , 4269.8423  ,\n",
       "        5698.6016  , 6133.723   , 5711.461   , 3506.0613  , 2737.4153  ,\n",
       "        2183.0603  , 2394.1753  , 2462.427   , 4049.596   , 5566.012   ,\n",
       "        7630.947   , 5526.5854  , 2539.6936  , 2768.6028  , 4368.2817  ,\n",
       "        2422.2288  , 1836.1311  , 2387.2522  , 3118.9844  , 4760.474   ,\n",
       "        3816.2427  , 2932.029   , 3220.0999  , 4189.9536  , 5827.8877  ,\n",
       "        6562.419   ], dtype=float32),\n",
       " 'mse': array([9.61139609e+04, 7.40398516e+04, 6.31918242e+04, 6.62362812e+04,\n",
       "        8.51623281e+04, 7.16981641e+04, 2.19243320e+04, 7.98402578e+04,\n",
       "        2.13205250e+05, 2.72184156e+05, 4.39296500e+05, 3.86364562e+05,\n",
       "        2.69927219e+05, 3.04017656e+05, 1.46580531e+05, 8.45046797e+04,\n",
       "        1.60032766e+05, 2.71215844e+05, 2.61262219e+05, 2.84243781e+05,\n",
       "        6.58628906e+04, 5.37470234e+04, 1.36610557e+04, 1.98178965e+04,\n",
       "        3.15247129e+04, 1.35681578e+05, 9.68317891e+04, 2.14606547e+05,\n",
       "        1.26827570e+05, 3.62208711e+04, 4.35951562e+04, 1.58545840e+04,\n",
       "        3.41497305e+04, 6.63920234e+04, 5.53302227e+04, 7.43186172e+04,\n",
       "        9.06370625e+04, 8.82775078e+04, 1.27861789e+05, 2.10093031e+05,\n",
       "        6.39684438e+05, 1.50206953e+05, 9.85390859e+04, 9.92527422e+04,\n",
       "        7.10999766e+04, 3.71226875e+04, 1.13248266e+05, 7.94743281e+04,\n",
       "        9.77726406e+04, 8.61920391e+04, 1.29003984e+05, 6.30848984e+04,\n",
       "        3.14958887e+04, 1.03548375e+05, 3.02008062e+05, 4.67695062e+05,\n",
       "        7.88384688e+05, 7.08514875e+05, 5.94532875e+05, 6.66672438e+05,\n",
       "        4.61206719e+05, 2.36887469e+05, 2.06335719e+05, 4.97102219e+05,\n",
       "        5.45697938e+05, 6.03783812e+05, 6.33480688e+05, 7.14289062e+05,\n",
       "        1.04568875e+05, 3.76248125e+04, 5.28452266e+04, 6.17586836e+04,\n",
       "        1.51705469e+05, 4.31019570e+04, 3.86190352e+04, 7.58343906e+04,\n",
       "        1.57318359e+05, 5.65664938e+05, 8.00707688e+05, 1.05281088e+06,\n",
       "        1.23049238e+06, 8.26526688e+05, 2.72855844e+05, 1.25081805e+05,\n",
       "        4.49999102e+04, 8.54684922e+04, 1.73196672e+05, 3.20154844e+05,\n",
       "        6.28822375e+05, 9.60785188e+05, 7.85705000e+05, 4.47452594e+05,\n",
       "        4.27027562e+05, 2.72487188e+05, 1.06025500e+05, 1.88661359e+05,\n",
       "        1.01832320e+05, 1.70543781e+05, 2.03252375e+05, 1.63509391e+05,\n",
       "        2.90296113e+04, 3.58412305e+04, 2.15887500e+05, 4.25868828e+04,\n",
       "        1.39574109e+05, 1.93031750e+05, 2.18352031e+05, 3.36669594e+05,\n",
       "        5.54725625e+05, 4.47000469e+05, 1.97280781e+05, 4.51811133e+04,\n",
       "        1.62495172e+05, 1.80548391e+05, 2.67700750e+05, 4.91631188e+05,\n",
       "        2.54331922e+05, 2.79929562e+05, 3.67501938e+05, 1.60660438e+06,\n",
       "        3.31013175e+06, 4.48058300e+06, 4.00771975e+06, 4.13072550e+06,\n",
       "        4.58810950e+06, 5.06469500e+06, 1.25336375e+06, 2.90926000e+05,\n",
       "        3.05436094e+05, 3.10856781e+05, 7.93010438e+05, 6.82259562e+05,\n",
       "        9.74431188e+05, 1.10658336e+05, 1.16340945e+05, 7.61158281e+04,\n",
       "        4.89232562e+05, 2.72420719e+05, 5.76465547e+04, 1.27049016e+05,\n",
       "        2.16249828e+05, 2.93970844e+05, 5.52645250e+05, 1.32348888e+06,\n",
       "        1.05858000e+06, 7.99872938e+05, 4.14530188e+05, 3.03967469e+05,\n",
       "        1.36600250e+05, 2.20797391e+05, 9.41580000e+04, 8.96380391e+04,\n",
       "        1.26895070e+05, 6.50873086e+04, 1.45173641e+05, 3.51533867e+04,\n",
       "        1.42046188e+05, 2.41080141e+05, 1.75288750e+05, 2.55228672e+05,\n",
       "        2.33077219e+05, 1.68070500e+05, 1.12082305e+05, 1.12809133e+05,\n",
       "        1.20459750e+05, 4.52000906e+05, 9.22309438e+05, 1.00567081e+06,\n",
       "        8.55997000e+05, 1.15638512e+06, 1.57202800e+06, 1.60641375e+06,\n",
       "        1.47832488e+06, 1.77205512e+06, 3.79785219e+05, 3.21986062e+05,\n",
       "        3.83146938e+05, 3.75606969e+05, 3.13967906e+05, 3.74810312e+05,\n",
       "        4.15002031e+05, 2.88816094e+05, 3.80649656e+05, 6.02126500e+05,\n",
       "        5.01886406e+05, 1.30805125e+05, 8.87089000e+05, 1.22363225e+06,\n",
       "        4.69866750e+05, 5.17077930e+04, 5.07720586e+04, 1.32634422e+05,\n",
       "        9.22428672e+04, 1.72239172e+05, 1.53261500e+05, 1.01289391e+05,\n",
       "        9.97031484e+04, 1.59211719e+05, 2.58924078e+05, 3.39980250e+05,\n",
       "        1.12804162e+06, 1.55856275e+06, 1.27945312e+06, 5.38473062e+05,\n",
       "        2.46529750e+05, 1.39737641e+05, 2.60716172e+05, 1.76210352e+04,\n",
       "        9.10739609e+04, 1.16751289e+05, 8.76799219e+04, 8.82007734e+04,\n",
       "        1.62609844e+05, 8.35000625e+04, 5.39086172e+04, 4.34470625e+04,\n",
       "        6.30272852e+04, 7.70953984e+04, 4.99823398e+04, 8.73200391e+04,\n",
       "        6.40659375e+04, 8.76411250e+04, 1.31462266e+05, 1.58910844e+05,\n",
       "        1.47539531e+05, 1.70438531e+05, 1.66185078e+05, 2.37229375e+05,\n",
       "        3.36261836e+04, 5.91805898e+04, 2.08372246e+04, 8.93277344e+04,\n",
       "        6.83846016e+04, 2.00477469e+05, 1.64496844e+05, 1.90564250e+05,\n",
       "        1.19198867e+05, 9.39755625e+04, 1.94766625e+05, 1.72935281e+05,\n",
       "        2.64264969e+05, 2.68765188e+05, 1.67013797e+05, 1.22918461e+05,\n",
       "        3.91384727e+04, 3.58940977e+04, 7.80603828e+04, 1.05303391e+05,\n",
       "        8.44440625e+04, 7.26271016e+04, 5.89335508e+04, 1.09329477e+05,\n",
       "        2.40473172e+05, 3.02304344e+05, 3.63949438e+05, 4.34538281e+05,\n",
       "        1.27947612e+06, 1.52830262e+06, 1.70128488e+06, 1.90644525e+06,\n",
       "        2.48992075e+06, 3.05882475e+06, 2.81759950e+06, 6.19193500e+05,\n",
       "        2.30596469e+05, 1.15084141e+05, 2.30074828e+05, 1.57870609e+05,\n",
       "        4.82143438e+04, 8.93062891e+04, 3.29538156e+05, 3.73394000e+05,\n",
       "        1.39988156e+05, 4.33438750e+04, 2.32978164e+04, 4.49450000e+04,\n",
       "        4.24096445e+04, 9.62621406e+04, 3.03085562e+05, 4.27381281e+05,\n",
       "        3.44339281e+05, 1.89876453e+05, 2.13790125e+05, 1.87228609e+05,\n",
       "        4.24763008e+04, 1.00863805e+05, 2.23338105e+04, 7.02986953e+04,\n",
       "        6.84958203e+04, 1.17260039e+05, 6.23152773e+04, 7.81372344e+04,\n",
       "        3.34316000e+05, 4.35613906e+05, 4.70234188e+05, 2.91598969e+05,\n",
       "        4.19016781e+05, 5.63884875e+05, 7.54269312e+05, 1.34586788e+06,\n",
       "        9.98314562e+05, 1.29103547e+05, 4.82786367e+04, 3.12327406e+05,\n",
       "        3.73975438e+05, 2.57011109e+05, 4.24056000e+05, 5.62927875e+05,\n",
       "        4.83802344e+05, 4.70033219e+05, 4.88239562e+05, 6.88429562e+05,\n",
       "        4.47088594e+05, 1.69130969e+05, 7.34267500e+04, 5.72852266e+04,\n",
       "        6.37389375e+04, 6.65795312e+04, 1.10504555e+05, 2.13447828e+05,\n",
       "        2.35292391e+05, 5.44169062e+05, 2.68498438e+05, 8.63073359e+04,\n",
       "        7.58498594e+04, 4.35834492e+04, 3.01773281e+04, 5.52396523e+04,\n",
       "        4.71919023e+04, 1.29923539e+05, 2.95292000e+05, 5.10132344e+05,\n",
       "        6.79846625e+05, 7.65289500e+05, 1.07763412e+06, 1.22155862e+06,\n",
       "        9.99997438e+05, 6.05176188e+05, 2.63143594e+05, 1.12916320e+05,\n",
       "        3.59128320e+04, 1.13545508e+05, 7.20411000e+05, 1.18737025e+06,\n",
       "        1.80805062e+06, 2.61075950e+06, 2.88632250e+06, 2.38571650e+06,\n",
       "        2.41698525e+06, 4.52107562e+05, 1.12918938e+05, 1.50592969e+05,\n",
       "        3.44619156e+05, 4.17370156e+05, 5.21718031e+05, 1.35553219e+05,\n",
       "        3.22858844e+05, 1.03963869e+06, 1.70232325e+06, 1.26671675e+06,\n",
       "        1.61484812e+06, 2.62341675e+06, 2.98211650e+06, 2.27369525e+06,\n",
       "        5.70182125e+05, 2.77379250e+05, 6.95621812e+05, 7.50875312e+05,\n",
       "        1.06384062e+06, 2.03165375e+06, 2.00705012e+06, 1.90643562e+06,\n",
       "        2.16394550e+06, 3.76458200e+06, 5.57952650e+06, 3.86523450e+06,\n",
       "        1.92985000e+06, 1.30594775e+06, 5.75185312e+05, 7.35107188e+05,\n",
       "        8.28991688e+05, 9.39338562e+05, 9.40109438e+05, 9.73771062e+05,\n",
       "        7.55568000e+05, 1.87172600e+06, 4.25702350e+06, 3.79426050e+06,\n",
       "        3.03654575e+06, 5.33534562e+05, 1.68239578e+05, 2.30141406e+05,\n",
       "        2.02771906e+05, 2.06596297e+05, 1.87226625e+05, 1.97924625e+05,\n",
       "        3.36689719e+05, 6.28525375e+05, 2.30857375e+06, 7.14750700e+06,\n",
       "        1.29782470e+07, 1.62242740e+07, 1.52337990e+07, 1.63257190e+07,\n",
       "        1.72362700e+07, 7.96488900e+06, 1.52835888e+06, 8.76639562e+05,\n",
       "        1.35945475e+06, 2.53984350e+06, 4.42332300e+06, 7.35185500e+06,\n",
       "        1.24678950e+07, 1.69212140e+07, 1.57186930e+07, 1.19656050e+07,\n",
       "        1.17511520e+07, 1.37768250e+07, 2.03025100e+07, 1.90519640e+07,\n",
       "        2.98772060e+07, 4.31204760e+07, 3.64691120e+07, 2.78766860e+07,\n",
       "        3.59363920e+07, 2.50188600e+07, 1.15370180e+07, 6.94655300e+06,\n",
       "        1.68076780e+07, 2.44038440e+07, 1.55959410e+07, 1.67184612e+06,\n",
       "        7.16062150e+06, 1.81187025e+06, 8.12516750e+06, 7.46068250e+06,\n",
       "        7.29669250e+06, 1.02068980e+07, 1.21203130e+07, 9.36909600e+06,\n",
       "        1.02411090e+07, 2.35011725e+06, 5.83181500e+06, 7.54503450e+06,\n",
       "        6.97222450e+06, 8.28803150e+06, 1.23042450e+07, 2.79686660e+07,\n",
       "        1.82517400e+07, 9.90379700e+06, 1.19600410e+07, 2.90047240e+07,\n",
       "        4.58813400e+07, 5.67308160e+07, 4.72519600e+07, 5.50056440e+07,\n",
       "        6.52418560e+07, 5.72109760e+07, 8.42083760e+07, 2.54951220e+07,\n",
       "        2.04774638e+06, 7.44260550e+06, 1.03694510e+07, 1.00591770e+07,\n",
       "        1.75551280e+07, 1.98830400e+07, 2.91127360e+07, 2.77630300e+07,\n",
       "        1.66637090e+07, 1.86747180e+07, 3.64325640e+07, 5.26619320e+07,\n",
       "        8.08511360e+07, 6.55306320e+07, 9.14547600e+06, 3.65643050e+06,\n",
       "        6.91747050e+06, 1.44425540e+07, 2.20950440e+07, 4.15884280e+07,\n",
       "        1.78025700e+07, 2.22167400e+07, 1.94395480e+07, 3.51106960e+07,\n",
       "        5.77122760e+07, 8.76304640e+07, 6.67890200e+07, 7.50111440e+07,\n",
       "        4.64629960e+07, 2.10944900e+07, 1.12601010e+07, 7.04172350e+06,\n",
       "        2.33907925e+06, 6.24648750e+06, 3.26939450e+06, 3.81191200e+06,\n",
       "        6.75794250e+06, 1.60861500e+07, 1.56455440e+07, 1.81778000e+07,\n",
       "        1.04357520e+07, 3.70743600e+06, 7.92623350e+06, 1.57742450e+07,\n",
       "        5.02510000e+07, 4.15697920e+07, 2.24813860e+07, 1.73234460e+07,\n",
       "        1.75596060e+07, 4.90159650e+06, 3.98666350e+06, 1.92283300e+06,\n",
       "        2.26961100e+06, 4.04550950e+06, 6.69368900e+06, 4.57263700e+06,\n",
       "        1.12193530e+07, 3.23953260e+07, 3.73890040e+07, 2.55558080e+07,\n",
       "        1.86623700e+07, 1.44831780e+07, 1.14978580e+07, 1.30311840e+07,\n",
       "        2.43762300e+07, 4.37951160e+07, 4.75641280e+07, 3.80985720e+07,\n",
       "        1.76031980e+07, 9.42164600e+06, 7.24357600e+06, 6.81680000e+06,\n",
       "        8.77365400e+06, 2.19277240e+07, 3.73736560e+07, 6.03662360e+07,\n",
       "        3.30076520e+07, 9.05659700e+06, 1.01290990e+07, 2.10983720e+07,\n",
       "        6.45346800e+06, 4.40566550e+06, 8.35994300e+06, 1.26304800e+07,\n",
       "        2.43095000e+07, 1.54420590e+07, 1.16937650e+07, 1.37768770e+07,\n",
       "        2.83677820e+07, 4.61142080e+07, 5.74822840e+07], dtype=float32),\n",
       " 'rmse': array([ 310.02252 ,  272.10266 ,  251.37984 ,  257.3641  ,  291.82587 ,\n",
       "         267.76514 ,  148.06868 ,  282.56018 ,  461.74155 ,  521.7127  ,\n",
       "         662.79443 ,  621.5823  ,  519.5452  ,  551.378   ,  382.85837 ,\n",
       "         290.6969  ,  400.04095 ,  520.7839  ,  511.13815 ,  533.1452  ,\n",
       "         256.63766 ,  231.83405 ,  116.880516,  140.77605 ,  177.552   ,\n",
       "         368.3498  ,  311.17807 ,  463.25647 ,  356.1286  ,  190.31781 ,\n",
       "         208.79453 ,  125.914986,  184.79646 ,  257.6665  ,  235.22377 ,\n",
       "         272.6144  ,  301.0599  ,  297.1153  ,  357.57767 ,  458.35907 ,\n",
       "         799.80273 ,  387.56543 ,  313.90936 ,  315.04404 ,  266.64578 ,\n",
       "         192.67249 ,  336.5238  ,  281.91193 ,  312.68616 ,  293.5848  ,\n",
       "         359.17123 ,  251.16707 ,  177.47081 ,  321.78934 ,  549.5526  ,\n",
       "         683.8823  ,  887.9103  ,  841.7333  ,  771.0596  ,  816.5001  ,\n",
       "         679.122   ,  486.71088 ,  454.2419  ,  705.05475 ,  738.7137  ,\n",
       "         777.0353  ,  795.915   ,  845.15625 ,  323.37112 ,  193.97116 ,\n",
       "         229.88089 ,  248.51294 ,  389.49387 ,  207.6101  ,  196.51726 ,\n",
       "         275.38043 ,  396.6338  ,  752.107   ,  894.8227  , 1026.0657  ,\n",
       "        1109.2756  ,  909.13513 ,  522.3561  ,  353.66907 ,  212.13182 ,\n",
       "         292.34995 ,  416.16904 ,  565.82227 ,  792.9832  ,  980.19653 ,\n",
       "         886.4     ,  668.91895 ,  653.47345 ,  522.00305 ,  325.61557 ,\n",
       "         434.35165 ,  319.11176 ,  412.96948 ,  450.8352  ,  404.36295 ,\n",
       "         170.38078 ,  189.31781 ,  464.63696 ,  206.36589 ,  373.5962  ,\n",
       "         439.3538  ,  467.28152 ,  580.23236 ,  744.7991  ,  668.58093 ,\n",
       "         444.16302 ,  212.55849 ,  403.1069  ,  424.90985 ,  517.3981  ,\n",
       "         701.1642  ,  504.31332 ,  529.0837  ,  606.21936 , 1267.519   ,\n",
       "        1819.3767  , 2116.7388  , 2001.929   , 2032.4186  , 2141.9873  ,\n",
       "        2250.4878  , 1119.5374  ,  539.37555 ,  552.6627  ,  557.5453  ,\n",
       "         890.51135 ,  825.99005 ,  987.1328  ,  332.65347 ,  341.0879  ,\n",
       "         275.89096 ,  699.4516  ,  521.9394  ,  240.09697 ,  356.43936 ,\n",
       "         465.0267  ,  542.1908  ,  743.4011  , 1150.4298  , 1028.8732  ,\n",
       "         894.35614 ,  643.8402  ,  551.33246 ,  369.5947  ,  469.89084 ,\n",
       "         306.85175 ,  299.39612 ,  356.22336 ,  255.12215 ,  381.0166  ,\n",
       "         187.49237 ,  376.89017 ,  490.9991  ,  418.675   ,  505.20163 ,\n",
       "         482.7807  ,  409.96402 ,  334.78696 ,  335.8707  ,  347.07312 ,\n",
       "         672.3101  ,  960.36945 , 1002.8314  ,  925.20105 , 1075.3535  ,\n",
       "        1253.8054  , 1267.4437  , 1215.8639  , 1331.1857  ,  616.26715 ,\n",
       "         567.4382  ,  618.98865 ,  612.8678  ,  560.32837 ,  612.2175  ,\n",
       "         644.20654 ,  537.41614 ,  616.96814 ,  775.9681  ,  708.4394  ,\n",
       "         361.66992 ,  941.854   , 1106.1791  ,  685.46826 ,  227.39348 ,\n",
       "         225.32655 ,  364.1901  ,  303.71512 ,  415.01706 ,  391.48627 ,\n",
       "         318.25995 ,  315.75806 ,  399.01343 ,  508.84583 ,  583.07825 ,\n",
       "        1062.093   , 1248.4241  , 1131.1292  ,  733.80725 ,  496.5176  ,\n",
       "         373.81497 ,  510.60373 ,  132.74425 ,  301.78464 ,  341.68887 ,\n",
       "         296.10797 ,  296.98615 ,  403.2491  ,  288.96378 ,  232.1823  ,\n",
       "         208.43959 ,  251.05235 ,  277.66058 ,  223.5673  ,  295.49963 ,\n",
       "         253.1125  ,  296.04245 ,  362.57724 ,  398.63623 ,  384.10873 ,\n",
       "         412.842   ,  407.65805 ,  487.06198 ,  183.37444 ,  243.27061 ,\n",
       "         144.35104 ,  298.87747 ,  261.5045  ,  447.7471  ,  405.5821  ,\n",
       "         436.53665 ,  345.2519  ,  306.55435 ,  441.32373 ,  415.8549  ,\n",
       "         514.0671  ,  518.42566 ,  408.67322 ,  350.5973  ,  197.83446 ,\n",
       "         189.45738 ,  279.39288 ,  324.50485 ,  290.59262 ,  269.49417 ,\n",
       "         242.76233 ,  330.6501  ,  490.38065 ,  549.8221  ,  603.2822  ,\n",
       "         659.1952  , 1131.1393  , 1236.2454  , 1304.3331  , 1380.7408  ,\n",
       "        1577.9482  , 1748.9496  , 1678.5707  ,  786.8885  ,  480.20462 ,\n",
       "         339.24054 ,  479.66116 ,  397.32935 ,  219.57765 ,  298.84158 ,\n",
       "         574.05414 ,  611.05975 ,  374.1499  ,  208.19193 ,  152.63622 ,\n",
       "         212.00237 ,  205.93602 ,  310.2614  ,  550.53204 ,  653.744   ,\n",
       "         586.8043  ,  435.74814 ,  462.37445 ,  432.69922 ,  206.0978  ,\n",
       "         317.59064 ,  149.445   ,  265.139   ,  261.71707 ,  342.43253 ,\n",
       "         249.63028 ,  279.5304  ,  578.2007  ,  660.01056 ,  685.73627 ,\n",
       "         539.999   ,  647.31506 ,  750.92267 ,  868.4868  , 1160.1155  ,\n",
       "         999.1569  ,  359.3098  ,  219.724   ,  558.8626  ,  611.53534 ,\n",
       "         506.96262 ,  651.1958  ,  750.2852  ,  695.559   ,  685.58966 ,\n",
       "         698.7414  ,  829.71655 ,  668.64685 ,  411.25537 ,  270.9737  ,\n",
       "         239.34332 ,  252.46571 ,  258.0301  ,  332.42224 ,  462.00415 ,\n",
       "         485.06946 ,  737.67816 ,  518.16833 ,  293.7811  ,  275.40854 ,\n",
       "         208.7665  ,  173.71623 ,  235.03117 ,  217.23697 ,  360.44907 ,\n",
       "         543.4078  ,  714.2355  ,  824.52814 ,  874.8083  , 1038.0916  ,\n",
       "        1105.2415  ,  999.9987  ,  777.9307  ,  512.9752  ,  336.03024 ,\n",
       "         189.5068  ,  336.96515 ,  848.77026 , 1089.6652  , 1344.6377  ,\n",
       "        1615.7844  , 1698.9181  , 1544.5765  , 1554.6656  ,  672.38947 ,\n",
       "         336.03412 ,  388.0631  ,  587.0427  ,  646.04193 ,  722.30054 ,\n",
       "         368.17554 ,  568.20667 , 1019.6267  , 1304.7311  , 1125.4851  ,\n",
       "        1270.7667  , 1619.6965  , 1726.8806  , 1507.8777  ,  755.10406 ,\n",
       "         526.6681  ,  834.0394  ,  866.53064 , 1031.4265  , 1425.361   ,\n",
       "        1416.704   , 1380.7373  , 1471.0355  , 1940.253   , 2362.102   ,\n",
       "        1966.02    , 1389.1904  , 1142.7808  ,  758.4097  ,  857.3839  ,\n",
       "         910.4898  ,  969.1948  ,  969.5924  ,  986.7984  ,  869.23413 ,\n",
       "        1368.1104  , 2063.2556  , 1947.8861  , 1742.5687  ,  730.4345  ,\n",
       "         410.1702  ,  479.73056 ,  450.302   ,  454.52866 ,  432.69693 ,\n",
       "         444.8872  ,  580.2497  ,  792.7959  , 1519.3992  , 2673.4822  ,\n",
       "        3602.5334  , 4027.9368  , 3903.05    , 4040.5098  , 4151.6587  ,\n",
       "        2822.2134  , 1236.2681  ,  936.29034 , 1165.9565  , 1593.6886  ,\n",
       "        2103.1697  , 2711.4304  , 3530.9907  , 4113.5405  , 3964.6807  ,\n",
       "        3459.1335  , 3427.9954  , 3711.7146  , 4505.8306  , 4364.8555  ,\n",
       "        5466.0044  , 6566.618   , 6038.9663  , 5279.838   , 5994.697   ,\n",
       "        5001.8857  , 3396.6187  , 2635.6313  , 4099.717   , 4940.025   ,\n",
       "        3949.1697  , 1292.9989  , 2675.9338  , 1346.0573  , 2850.468   ,\n",
       "        2731.425   , 2701.239   , 3194.8237  , 3481.424   , 3060.898   ,\n",
       "        3200.1733  , 1533.0092  , 2414.915   , 2746.8225  , 2640.497   ,\n",
       "        2878.894   , 3507.7407  , 5288.541   , 4272.2056  , 3147.0298  ,\n",
       "        3458.329   , 5385.6035  , 6773.5767  , 7531.9863  , 6874.0063  ,\n",
       "        7416.579   , 8077.243   , 7563.794   , 9176.512   , 5049.2695  ,\n",
       "        1430.9949  , 2728.114   , 3220.163   , 3171.6206  , 4189.884   ,\n",
       "        4459.04    , 5395.622   , 5269.0635  , 4082.1206  , 4321.4253  ,\n",
       "        6035.9395  , 7256.854   , 8991.726   , 8095.099   , 3024.149   ,\n",
       "        1912.1796  , 2630.1084  , 3800.336   , 4700.5366  , 6448.909   ,\n",
       "        4219.309   , 4713.464   , 4409.0303  , 5925.4277  , 7596.8594  ,\n",
       "        9361.114   , 8172.455   , 8660.897   , 6816.377   , 4592.874   ,\n",
       "        3355.6074  , 2653.6245  , 1529.4049  , 2499.2974  , 1808.1467  ,\n",
       "        1952.4119  , 2599.6042  , 4010.7544  , 3955.4448  , 4263.543   ,\n",
       "        3230.4414  , 1925.4703  , 2815.3567  , 3971.6804  , 7088.794   ,\n",
       "        6447.464   , 4741.454   , 4162.1445  , 4190.4185  , 2213.9548  ,\n",
       "        1996.6631  , 1386.6626  , 1506.5228  , 2011.3452  , 2587.2166  ,\n",
       "        2138.3726  , 3349.5303  , 5691.689   , 6114.655   , 5055.2754  ,\n",
       "        4319.9966  , 3805.677   , 3390.849   , 3609.873   , 4937.229   ,\n",
       "        6617.788   , 6896.6753  , 6172.4043  , 4195.6167  , 3069.47    ,\n",
       "        2691.3892  , 2610.9001  , 2962.0354  , 4682.7046  , 6113.4     ,\n",
       "        7769.5713  , 5745.2285  , 3009.418   , 3182.6245  , 4593.2964  ,\n",
       "        2540.3677  , 2098.9678  , 2891.3567  , 3553.9387  , 4930.4663  ,\n",
       "        3929.6384  , 3419.6147  , 3711.7217  , 5326.1416  , 6790.744   ,\n",
       "        7581.707   ], dtype=float32),\n",
       " 'mape': array([ 3.2387097,  2.0436811,  2.2339556,  2.7034185,  3.2195382,\n",
       "         2.6669455,  1.4120013,  2.379715 ,  4.1246004,  5.8779964,\n",
       "         7.382573 ,  7.630571 ,  6.7738185,  7.3698297,  4.779237 ,\n",
       "         3.2291214,  4.3662624,  6.5116515,  6.2502184,  6.888584 ,\n",
       "         2.7952878,  2.0899217,  1.305897 ,  1.5779706,  1.9059612,\n",
       "         4.5052443,  3.640353 ,  6.0429344,  4.483202 ,  2.1767323,\n",
       "         2.4593043,  1.4245386,  2.0337462,  2.667206 ,  2.8810112,\n",
       "         3.1935804,  3.6350727,  3.778041 ,  4.3843203,  5.9145393,\n",
       "        10.898165 ,  5.1669354,  3.834822 ,  4.1776996,  3.6204278,\n",
       "         2.3544798,  4.2755256,  3.200345 ,  4.090895 ,  3.7894468,\n",
       "         4.7126746,  2.9826033,  2.1769736,  3.9652638,  5.61113  ,\n",
       "         7.313502 , 10.671143 , 10.033083 ,  9.251805 ,  9.986659 ,\n",
       "         8.227858 ,  5.1344523,  3.961838 ,  7.2798467,  7.3027983,\n",
       "         8.2339   ,  8.426122 ,  9.464704 ,  3.3778126,  1.7206099,\n",
       "         1.9101974,  2.4460728,  3.9494145,  2.131529 ,  2.1161795,\n",
       "         2.6941066,  3.2767215,  6.708034 ,  8.549045 , 10.490823 ,\n",
       "        11.630796 ,  9.609257 ,  5.27168  ,  3.3326366,  1.849603 ,\n",
       "         2.6564653,  3.6168303,  4.729623 ,  7.199323 ,  9.617277 ,\n",
       "         8.427574 ,  6.261995 ,  6.1388235,  4.702311 ,  2.7390444,\n",
       "         3.5663805,  2.7169194,  3.5048838,  4.0614095,  3.7856705,\n",
       "         1.479782 ,  1.3878164,  3.9307685,  1.757586 ,  2.8617387,\n",
       "         4.3395734,  4.6826625,  5.94065  ,  7.390372 ,  7.18134  ,\n",
       "         4.706663 ,  2.1671584,  4.154893 ,  4.162795 ,  4.918986 ,\n",
       "         7.096067 ,  5.148478 ,  6.068595 ,  6.7978406, 13.759826 ,\n",
       "        22.07648  , 29.204073 , 28.722977 , 32.558475 , 37.147667 ,\n",
       "        41.50422  , 19.406715 ,  9.220884 ,  7.609178 ,  7.391084 ,\n",
       "        13.366355 , 11.454068 , 14.462354 ,  4.235353 ,  4.363117 ,\n",
       "         3.924493 ,  9.5840435,  6.9880834,  3.1517055,  5.0381813,\n",
       "         6.409663 ,  7.2241373, 10.012416 , 16.635733 , 14.311706 ,\n",
       "        12.398238 ,  8.736401 ,  6.8208346,  4.5709944,  6.0227113,\n",
       "         3.3501332,  3.34302  ,  4.640488 ,  3.1816642,  4.940005 ,\n",
       "         2.3183708,  4.297388 ,  5.77461  ,  4.6845293,  5.9613485,\n",
       "         6.2418303,  4.516307 ,  4.330485 ,  3.7948818,  4.036688 ,\n",
       "         8.099394 , 12.226558 , 11.202115 ,  9.140893 , 10.291728 ,\n",
       "        12.445857 , 13.488427 , 12.988888 , 14.970295 ,  6.5941997,\n",
       "         4.788195 ,  5.00556  ,  4.8905396,  5.0163636,  5.3736186,\n",
       "         5.4630976,  4.964044 ,  5.4382925,  7.5284996,  7.172685 ,\n",
       "         3.7626975,  9.384562 , 11.146639 ,  6.7107396,  2.0939026,\n",
       "         2.0561745,  2.9193711,  2.7285683,  3.8597863,  3.5690253,\n",
       "         3.1346433,  2.776007 ,  3.8102891,  4.4953246,  4.870785 ,\n",
       "         9.679908 , 11.947101 , 11.306148 ,  6.527199 ,  4.79843  ,\n",
       "         2.558129 ,  4.812104 ,  1.0105954,  2.1821048,  3.2499087,\n",
       "         2.5215929,  2.469288 ,  3.8868184,  2.7243247,  2.0371058,\n",
       "         1.8678441,  2.41442  ,  2.5213416,  2.2101288,  2.8258336,\n",
       "         1.8367591,  2.6199682,  3.2745261,  3.326689 ,  3.3372264,\n",
       "         4.1602874,  3.7945528,  4.515759 ,  1.5018381,  2.23386  ,\n",
       "         1.2296453,  3.0108063,  2.2578652,  4.7347646,  4.0701194,\n",
       "         4.49735  ,  3.384025 ,  2.8525503,  4.182456 ,  4.135651 ,\n",
       "         5.250054 ,  5.4676185,  4.014146 ,  3.320799 ,  1.9949886,\n",
       "         1.7777247,  2.8705192,  3.3812144,  2.7935889,  2.5885148,\n",
       "         2.440918 ,  3.0125988,  4.7081833,  5.2920203,  5.9474554,\n",
       "         6.393643 ,  9.745288 ,  9.900772 ,  9.995192 , 10.89279  ,\n",
       "        13.143037 , 14.837132 , 14.630426 ,  6.463092 ,  3.7879884,\n",
       "         2.1656876,  3.3915896,  2.5643127,  1.5675969,  2.2287226,\n",
       "         4.663996 ,  4.681934 ,  2.8456664,  1.5672001,  0.9836248,\n",
       "         1.4998642,  1.412447 ,  2.0730293,  4.0377398,  5.1330004,\n",
       "         4.6816664,  3.3357964,  3.1785977,  2.6767952,  1.6065685,\n",
       "         2.269535 ,  1.1804043,  2.1587903,  1.9832319,  2.4976776,\n",
       "         2.0267713,  1.9575974,  4.693731 ,  5.052237 ,  5.6413436,\n",
       "         4.2852883,  5.3550806,  6.0771646,  7.604225 , 10.150596 ,\n",
       "         9.302911 ,  3.0645485,  1.59043  ,  4.7858486,  5.59811  ,\n",
       "         4.396867 ,  5.9008675,  6.5705156,  6.064183 ,  6.0262713,\n",
       "         5.9019146,  7.4320817,  5.769253 ,  3.365903 ,  2.0187092,\n",
       "         1.6492462,  1.9543955,  2.0773125,  2.6011095,  3.9972317,\n",
       "         4.10406  ,  6.781472 ,  4.6515293,  2.4935932,  2.2596743,\n",
       "         1.5147084,  1.3943436,  1.936711 ,  1.7973387,  3.2323484,\n",
       "         4.5627255,  5.8726735,  6.600312 ,  6.6925936,  8.581602 ,\n",
       "         9.427364 ,  8.51212  ,  6.7247405,  4.186991 ,  2.6889536,\n",
       "         1.4078934,  2.2811277,  5.1528606,  6.235792 ,  8.705133 ,\n",
       "        11.339823 , 12.497449 , 11.571204 , 11.682945 ,  4.8103385,\n",
       "         1.9406121,  2.4689245,  3.8548696,  4.0991273,  5.0564747,\n",
       "         2.381636 ,  3.7188623,  5.9456387,  7.193727 ,  5.799606 ,\n",
       "         6.9861965,  9.836225 , 10.85467  ,  9.540023 ,  4.3690586,\n",
       "         3.0759003,  4.7056613,  4.990811 ,  5.8829536,  8.021752 ,\n",
       "         7.2260776,  6.4725747,  6.626039 ,  9.660745 , 12.640597 ,\n",
       "        10.514312 ,  7.3156834,  5.6033483,  4.036031 ,  4.1668262,\n",
       "         3.930403 ,  4.3950315,  4.7655888,  4.6770473,  4.404393 ,\n",
       "         6.289338 , 10.562238 ,  9.938031 ,  8.999944 ,  3.5484846,\n",
       "         1.5793628,  2.050655 ,  1.9268777,  2.0255396,  2.0471106,\n",
       "         2.0326478,  2.336338 ,  3.5790431,  5.73812  , 10.286366 ,\n",
       "        14.545099 , 16.02233  , 15.249917 , 16.64749  , 17.722439 ,\n",
       "        12.062712 ,  4.898485 ,  3.3011456,  2.8920467,  4.127369 ,\n",
       "         6.252947 ,  8.888016 , 11.689927 , 14.152971 , 13.466837 ,\n",
       "        10.092863 ,  9.309481 , 10.642369 , 13.050987 , 11.234492 ,\n",
       "        12.964003 , 15.528199 , 13.222636 , 12.018404 , 14.336118 ,\n",
       "        11.054123 ,  7.6424656,  5.9292803,  9.449438 , 12.960519 ,\n",
       "        10.600971 ,  2.5445385,  6.6056805,  3.141484 ,  5.908997 ,\n",
       "         5.767485 ,  6.4308963,  8.602735 ,  9.373236 ,  8.987761 ,\n",
       "         9.066428 ,  4.269083 ,  5.9979806,  7.3420844,  6.9373465,\n",
       "         7.429054 ,  9.237664 , 14.67118  , 11.220299 ,  7.7755384,\n",
       "         7.242953 , 12.959199 , 15.6781435, 15.55814  , 13.7144   ,\n",
       "        13.97036  , 15.72921  , 14.8500395, 19.210833 , 10.410399 ,\n",
       "         2.7318132,  4.4048586,  5.1766305,  4.297474 ,  6.626892 ,\n",
       "         6.661893 ,  8.800089 ,  8.801382 ,  6.693648 ,  8.186148 ,\n",
       "        10.4236555, 13.452293 , 17.905184 , 16.859457 ,  5.579618 ,\n",
       "         3.3293672,  4.039198 ,  7.0344915,  8.560105 , 12.879273 ,\n",
       "         8.187528 ,  8.521477 ,  6.4049206,  9.064462 , 12.434907 ,\n",
       "        15.474293 , 13.044233 , 14.376237 , 11.257141 ,  7.2704673,\n",
       "         4.585078 ,  3.8838055,  2.098788 ,  4.1522107,  2.2721004,\n",
       "         3.2308102,  3.680775 ,  6.196907 ,  6.39783  ,  6.994597 ,\n",
       "         5.276134 ,  3.1848528,  3.7015002,  5.984239 , 11.906104 ,\n",
       "        10.754035 ,  7.691185 ,  7.0682993,  7.1085854,  3.6470413,\n",
       "         2.9816341,  1.9365042,  2.2862406,  3.1831913,  3.9516735,\n",
       "         2.7976453,  4.3393784,  8.721909 ,  9.244757 ,  7.6436477,\n",
       "         6.723386 ,  5.527866 ,  5.26252  ,  5.4346137,  7.5391607,\n",
       "        10.373332 , 11.439105 , 10.825598 ,  6.8931146,  5.3358135,\n",
       "         4.3051057,  4.6184306,  4.6079016,  7.393199 , 10.028673 ,\n",
       "        13.7114   ,  9.813494 ,  4.477915 ,  4.8533754,  7.665099 ,\n",
       "         4.263518 ,  3.2564337,  4.1310363,  5.4362273,  8.308733 ,\n",
       "         6.7183604,  5.333297 ,  6.0935907,  8.371015 , 11.953144 ,\n",
       "        14.012347 ], dtype=float32),\n",
       " 'mase': 2.5375173}"
      ]
     },
     "execution_count": 63,
     "metadata": {},
     "output_type": "execute_result"
    }
   ],
   "source": [
    "# Evaluating model 3 preds\n",
    "model_3_results = evaluate_preds(\n",
    "    y_true=tf.squeeze(test_labels),\n",
    "    y_pred=model_3_preds\n",
    ")\n",
    "model_3_results"
   ]
  },
  {
   "cell_type": "code",
   "execution_count": 66,
   "metadata": {},
   "outputs": [],
   "source": [
    "# Function for evaluation matrix\n",
    "# MAKING IT WORK FOR HIGHER HORIZON\n",
    "def evaluate_preds(y_true, y_pred):\n",
    "\n",
    "    # Ensuring that we use float32 dtype (for metric calculations)\n",
    "    y_true = tf.cast(y_true, dtype=tf.float32)\n",
    "    y_pred = tf.cast(y_pred, dtype=tf.float32)\n",
    "\n",
    "    # Calculating various evaluation metrics\n",
    "    mae = tf.keras.metrics.mean_absolute_error(y_true, y_pred)\n",
    "    mse = tf.keras.metrics.mean_squared_error(y_true, y_pred)\n",
    "    rmse = tf.sqrt(mse)\n",
    "    mape = tf.keras.metrics.mean_absolute_percentage_error(y_true, y_pred)\n",
    "    mase = mean_absolute_scaled_error(y_true, y_pred)\n",
    "\n",
    "    # Account for different size metrics\n",
    "    if mae.ndim > 0:\n",
    "        mae = tf.reduce_mean(mae)\n",
    "        mse = tf.reduce_mean(mse)\n",
    "        rmse = tf.reduce_mean(rmse)\n",
    "        mape = tf.reduce_mean(mape)\n",
    "        mase = tf.reduce_mean(mase)\n",
    "\n",
    "    return {\n",
    "        \"mae\": mae.numpy(),\n",
    "        \"mse\": mse.numpy(),\n",
    "        \"rmse\": rmse.numpy(),\n",
    "        \"mape\": mape.numpy(),\n",
    "        \"mase\": mase.numpy()\n",
    "    }"
   ]
  },
  {
   "cell_type": "code",
   "execution_count": 67,
   "metadata": {},
   "outputs": [
    {
     "data": {
      "text/plain": [
       "{'mae': 1426.017,\n",
       " 'mse': 6205560.5,\n",
       " 'rmse': 1596.676,\n",
       " 'mape': 6.3850183,\n",
       " 'mase': 2.5375173}"
      ]
     },
     "execution_count": 67,
     "metadata": {},
     "output_type": "execute_result"
    }
   ],
   "source": [
    "# Re-evaluating model 3 preds\n",
    "model_3_results = evaluate_preds(\n",
    "    y_true=tf.squeeze(test_labels),\n",
    "    y_pred=model_3_preds\n",
    ")\n",
    "model_3_results"
   ]
  },
  {
   "cell_type": "code",
   "execution_count": null,
   "metadata": {},
   "outputs": [],
   "source": []
  }
 ],
 "metadata": {
  "kernelspec": {
   "display_name": "Python 3",
   "language": "python",
   "name": "python3"
  },
  "language_info": {
   "codemirror_mode": {
    "name": "ipython",
    "version": 3
   },
   "file_extension": ".py",
   "mimetype": "text/x-python",
   "name": "python",
   "nbconvert_exporter": "python",
   "pygments_lexer": "ipython3",
   "version": "3.8.10"
  },
  "orig_nbformat": 4,
  "vscode": {
   "interpreter": {
    "hash": "8230a386d8e0083990873cddb8ebb5b6213275a10339230a8504f0ef8ce7f888"
   }
  }
 },
 "nbformat": 4,
 "nbformat_minor": 2
}
