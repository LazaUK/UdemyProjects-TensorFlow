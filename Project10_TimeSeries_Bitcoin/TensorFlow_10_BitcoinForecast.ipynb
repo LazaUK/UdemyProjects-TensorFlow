{
 "cells": [
  {
   "attachments": {},
   "cell_type": "markdown",
   "metadata": {},
   "source": [
    "# Time Series: Forecasting Bitcoin price"
   ]
  },
  {
   "cell_type": "code",
   "execution_count": 1,
   "metadata": {},
   "outputs": [
    {
     "name": "stdout",
     "output_type": "stream",
     "text": [
      "2.10.1\n"
     ]
    }
   ],
   "source": [
    "# Importing TF and checking the version\n",
    "import tensorflow as tf\n",
    "\n",
    "print(tf.__version__)"
   ]
  },
  {
   "attachments": {},
   "cell_type": "markdown",
   "metadata": {},
   "source": [
    "### Importing time series with Pandas"
   ]
  },
  {
   "cell_type": "code",
   "execution_count": 2,
   "metadata": {},
   "outputs": [
    {
     "data": {
      "text/html": [
       "<div>\n",
       "<style scoped>\n",
       "    .dataframe tbody tr th:only-of-type {\n",
       "        vertical-align: middle;\n",
       "    }\n",
       "\n",
       "    .dataframe tbody tr th {\n",
       "        vertical-align: top;\n",
       "    }\n",
       "\n",
       "    .dataframe thead th {\n",
       "        text-align: right;\n",
       "    }\n",
       "</style>\n",
       "<table border=\"1\" class=\"dataframe\">\n",
       "  <thead>\n",
       "    <tr style=\"text-align: right;\">\n",
       "      <th></th>\n",
       "      <th>Currency</th>\n",
       "      <th>Closing Price (USD)</th>\n",
       "      <th>24h Open (USD)</th>\n",
       "      <th>24h High (USD)</th>\n",
       "      <th>24h Low (USD)</th>\n",
       "    </tr>\n",
       "    <tr>\n",
       "      <th>Date</th>\n",
       "      <th></th>\n",
       "      <th></th>\n",
       "      <th></th>\n",
       "      <th></th>\n",
       "      <th></th>\n",
       "    </tr>\n",
       "  </thead>\n",
       "  <tbody>\n",
       "    <tr>\n",
       "      <th>2013-10-01</th>\n",
       "      <td>BTC</td>\n",
       "      <td>123.65499</td>\n",
       "      <td>124.30466</td>\n",
       "      <td>124.75166</td>\n",
       "      <td>122.56349</td>\n",
       "    </tr>\n",
       "    <tr>\n",
       "      <th>2013-10-02</th>\n",
       "      <td>BTC</td>\n",
       "      <td>125.45500</td>\n",
       "      <td>123.65499</td>\n",
       "      <td>125.75850</td>\n",
       "      <td>123.63383</td>\n",
       "    </tr>\n",
       "    <tr>\n",
       "      <th>2013-10-03</th>\n",
       "      <td>BTC</td>\n",
       "      <td>108.58483</td>\n",
       "      <td>125.45500</td>\n",
       "      <td>125.66566</td>\n",
       "      <td>83.32833</td>\n",
       "    </tr>\n",
       "    <tr>\n",
       "      <th>2013-10-04</th>\n",
       "      <td>BTC</td>\n",
       "      <td>118.67466</td>\n",
       "      <td>108.58483</td>\n",
       "      <td>118.67500</td>\n",
       "      <td>107.05816</td>\n",
       "    </tr>\n",
       "    <tr>\n",
       "      <th>2013-10-05</th>\n",
       "      <td>BTC</td>\n",
       "      <td>121.33866</td>\n",
       "      <td>118.67466</td>\n",
       "      <td>121.93633</td>\n",
       "      <td>118.00566</td>\n",
       "    </tr>\n",
       "  </tbody>\n",
       "</table>\n",
       "</div>"
      ],
      "text/plain": [
       "           Currency  Closing Price (USD)  24h Open (USD)  24h High (USD)  \\\n",
       "Date                                                                       \n",
       "2013-10-01      BTC            123.65499       124.30466       124.75166   \n",
       "2013-10-02      BTC            125.45500       123.65499       125.75850   \n",
       "2013-10-03      BTC            108.58483       125.45500       125.66566   \n",
       "2013-10-04      BTC            118.67466       108.58483       118.67500   \n",
       "2013-10-05      BTC            121.33866       118.67466       121.93633   \n",
       "\n",
       "            24h Low (USD)  \n",
       "Date                       \n",
       "2013-10-01      122.56349  \n",
       "2013-10-02      123.63383  \n",
       "2013-10-03       83.32833  \n",
       "2013-10-04      107.05816  \n",
       "2013-10-05      118.00566  "
      ]
     },
     "execution_count": 2,
     "metadata": {},
     "output_type": "execute_result"
    }
   ],
   "source": [
    "# Reading Bitcoin data and parsing dates\n",
    "import pandas as pd\n",
    "\n",
    "df = pd.read_csv(\n",
    "    \"BTC_USD_2013-10-01_2021-05-18-CoinDesk.csv\",\n",
    "    parse_dates=[\"Date\"],\n",
    "    index_col=[\"Date\"]   \n",
    ")\n",
    "df.head()"
   ]
  },
  {
   "cell_type": "code",
   "execution_count": 3,
   "metadata": {},
   "outputs": [
    {
     "data": {
      "text/html": [
       "<div>\n",
       "<style scoped>\n",
       "    .dataframe tbody tr th:only-of-type {\n",
       "        vertical-align: middle;\n",
       "    }\n",
       "\n",
       "    .dataframe tbody tr th {\n",
       "        vertical-align: top;\n",
       "    }\n",
       "\n",
       "    .dataframe thead th {\n",
       "        text-align: right;\n",
       "    }\n",
       "</style>\n",
       "<table border=\"1\" class=\"dataframe\">\n",
       "  <thead>\n",
       "    <tr style=\"text-align: right;\">\n",
       "      <th></th>\n",
       "      <th>Currency</th>\n",
       "      <th>Closing Price (USD)</th>\n",
       "      <th>24h Open (USD)</th>\n",
       "      <th>24h High (USD)</th>\n",
       "      <th>24h Low (USD)</th>\n",
       "    </tr>\n",
       "    <tr>\n",
       "      <th>Date</th>\n",
       "      <th></th>\n",
       "      <th></th>\n",
       "      <th></th>\n",
       "      <th></th>\n",
       "      <th></th>\n",
       "    </tr>\n",
       "  </thead>\n",
       "  <tbody>\n",
       "    <tr>\n",
       "      <th>2021-05-14</th>\n",
       "      <td>BTC</td>\n",
       "      <td>49764.132082</td>\n",
       "      <td>49596.778891</td>\n",
       "      <td>51448.798576</td>\n",
       "      <td>46294.720180</td>\n",
       "    </tr>\n",
       "    <tr>\n",
       "      <th>2021-05-15</th>\n",
       "      <td>BTC</td>\n",
       "      <td>50032.693137</td>\n",
       "      <td>49717.354353</td>\n",
       "      <td>51578.312545</td>\n",
       "      <td>48944.346536</td>\n",
       "    </tr>\n",
       "    <tr>\n",
       "      <th>2021-05-16</th>\n",
       "      <td>BTC</td>\n",
       "      <td>47885.625255</td>\n",
       "      <td>49926.035067</td>\n",
       "      <td>50690.802950</td>\n",
       "      <td>47005.102292</td>\n",
       "    </tr>\n",
       "    <tr>\n",
       "      <th>2021-05-17</th>\n",
       "      <td>BTC</td>\n",
       "      <td>45604.615754</td>\n",
       "      <td>46805.537852</td>\n",
       "      <td>49670.414174</td>\n",
       "      <td>43868.638969</td>\n",
       "    </tr>\n",
       "    <tr>\n",
       "      <th>2021-05-18</th>\n",
       "      <td>BTC</td>\n",
       "      <td>43144.471291</td>\n",
       "      <td>46439.336570</td>\n",
       "      <td>46622.853437</td>\n",
       "      <td>42102.346430</td>\n",
       "    </tr>\n",
       "  </tbody>\n",
       "</table>\n",
       "</div>"
      ],
      "text/plain": [
       "           Currency  Closing Price (USD)  24h Open (USD)  24h High (USD)  \\\n",
       "Date                                                                       \n",
       "2021-05-14      BTC         49764.132082    49596.778891    51448.798576   \n",
       "2021-05-15      BTC         50032.693137    49717.354353    51578.312545   \n",
       "2021-05-16      BTC         47885.625255    49926.035067    50690.802950   \n",
       "2021-05-17      BTC         45604.615754    46805.537852    49670.414174   \n",
       "2021-05-18      BTC         43144.471291    46439.336570    46622.853437   \n",
       "\n",
       "            24h Low (USD)  \n",
       "Date                       \n",
       "2021-05-14   46294.720180  \n",
       "2021-05-15   48944.346536  \n",
       "2021-05-16   47005.102292  \n",
       "2021-05-17   43868.638969  \n",
       "2021-05-18   42102.346430  "
      ]
     },
     "execution_count": 3,
     "metadata": {},
     "output_type": "execute_result"
    }
   ],
   "source": [
    "df.tail()"
   ]
  },
  {
   "cell_type": "code",
   "execution_count": 4,
   "metadata": {},
   "outputs": [
    {
     "name": "stdout",
     "output_type": "stream",
     "text": [
      "<class 'pandas.core.frame.DataFrame'>\n",
      "DatetimeIndex: 2787 entries, 2013-10-01 to 2021-05-18\n",
      "Data columns (total 5 columns):\n",
      " #   Column               Non-Null Count  Dtype  \n",
      "---  ------               --------------  -----  \n",
      " 0   Currency             2787 non-null   object \n",
      " 1   Closing Price (USD)  2787 non-null   float64\n",
      " 2   24h Open (USD)       2787 non-null   float64\n",
      " 3   24h High (USD)       2787 non-null   float64\n",
      " 4   24h Low (USD)        2787 non-null   float64\n",
      "dtypes: float64(4), object(1)\n",
      "memory usage: 130.6+ KB\n"
     ]
    }
   ],
   "source": [
    "df.info()"
   ]
  },
  {
   "cell_type": "code",
   "execution_count": 5,
   "metadata": {},
   "outputs": [
    {
     "data": {
      "text/plain": [
       "2787"
      ]
     },
     "execution_count": 5,
     "metadata": {},
     "output_type": "execute_result"
    }
   ],
   "source": [
    "len(df)"
   ]
  },
  {
   "cell_type": "code",
   "execution_count": 6,
   "metadata": {},
   "outputs": [
    {
     "data": {
      "text/html": [
       "<div>\n",
       "<style scoped>\n",
       "    .dataframe tbody tr th:only-of-type {\n",
       "        vertical-align: middle;\n",
       "    }\n",
       "\n",
       "    .dataframe tbody tr th {\n",
       "        vertical-align: top;\n",
       "    }\n",
       "\n",
       "    .dataframe thead th {\n",
       "        text-align: right;\n",
       "    }\n",
       "</style>\n",
       "<table border=\"1\" class=\"dataframe\">\n",
       "  <thead>\n",
       "    <tr style=\"text-align: right;\">\n",
       "      <th></th>\n",
       "      <th>Price</th>\n",
       "    </tr>\n",
       "    <tr>\n",
       "      <th>Date</th>\n",
       "      <th></th>\n",
       "    </tr>\n",
       "  </thead>\n",
       "  <tbody>\n",
       "    <tr>\n",
       "      <th>2013-10-01</th>\n",
       "      <td>123.65499</td>\n",
       "    </tr>\n",
       "    <tr>\n",
       "      <th>2013-10-02</th>\n",
       "      <td>125.45500</td>\n",
       "    </tr>\n",
       "    <tr>\n",
       "      <th>2013-10-03</th>\n",
       "      <td>108.58483</td>\n",
       "    </tr>\n",
       "    <tr>\n",
       "      <th>2013-10-04</th>\n",
       "      <td>118.67466</td>\n",
       "    </tr>\n",
       "    <tr>\n",
       "      <th>2013-10-05</th>\n",
       "      <td>121.33866</td>\n",
       "    </tr>\n",
       "  </tbody>\n",
       "</table>\n",
       "</div>"
      ],
      "text/plain": [
       "                Price\n",
       "Date                 \n",
       "2013-10-01  123.65499\n",
       "2013-10-02  125.45500\n",
       "2013-10-03  108.58483\n",
       "2013-10-04  118.67466\n",
       "2013-10-05  121.33866"
      ]
     },
     "execution_count": 6,
     "metadata": {},
     "output_type": "execute_result"
    }
   ],
   "source": [
    "# Separating closing prices for each day\n",
    "bitcoin_prices = pd.DataFrame(df[\"Closing Price (USD)\"]).rename(columns={\"Closing Price (USD)\":\"Price\"})\n",
    "bitcoin_prices.head()"
   ]
  },
  {
   "cell_type": "code",
   "execution_count": 7,
   "metadata": {},
   "outputs": [
    {
     "data": {
      "image/png": "[encoded data removed]",
      "text/plain": [
       "<Figure size 720x504 with 1 Axes>"
      ]
     },
     "metadata": {
      "needs_background": "light"
     },
     "output_type": "display_data"
    }
   ],
   "source": [
    "# Visualising Bitcoin prices\n",
    "import matplotlib.pyplot as plt\n",
    "bitcoin_prices.plot(figsize=(10, 7))\n",
    "plt.ylabel(\"BTC Price\")\n",
    "plt.title(\"Price of Bitcoin: Oct 2013 - May 2021\", fontsize=16)\n",
    "plt.legend(fontsize=14);"
   ]
  },
  {
   "attachments": {},
   "cell_type": "markdown",
   "metadata": {},
   "source": [
    "### Importing time series with Python"
   ]
  },
  {
   "cell_type": "code",
   "execution_count": 8,
   "metadata": {},
   "outputs": [
    {
     "data": {
      "text/plain": [
       "([datetime.datetime(2013, 10, 1, 0, 0),\n",
       "  datetime.datetime(2013, 10, 2, 0, 0),\n",
       "  datetime.datetime(2013, 10, 3, 0, 0),\n",
       "  datetime.datetime(2013, 10, 4, 0, 0),\n",
       "  datetime.datetime(2013, 10, 5, 0, 0),\n",
       "  datetime.datetime(2013, 10, 6, 0, 0),\n",
       "  datetime.datetime(2013, 10, 7, 0, 0),\n",
       "  datetime.datetime(2013, 10, 8, 0, 0),\n",
       "  datetime.datetime(2013, 10, 9, 0, 0),\n",
       "  datetime.datetime(2013, 10, 10, 0, 0)],\n",
       " [123.65499,\n",
       "  125.455,\n",
       "  108.58483,\n",
       "  118.67466,\n",
       "  121.33866,\n",
       "  120.65533,\n",
       "  121.795,\n",
       "  123.033,\n",
       "  124.049,\n",
       "  125.96116])"
      ]
     },
     "execution_count": 8,
     "metadata": {},
     "output_type": "execute_result"
    }
   ],
   "source": [
    "# Importing Bitcoin data with Python\n",
    "import csv\n",
    "from datetime import datetime\n",
    "\n",
    "timestamps = []\n",
    "btc_price = []\n",
    "with open(\"BTC_USD_2013-10-01_2021-05-18-CoinDesk.csv\", \"r\") as f:\n",
    "    csv_reader = csv.reader(f, delimiter=\",\")\n",
    "    next(csv_reader) # Skips first line to remove column names\n",
    "    for line in csv_reader:\n",
    "        timestamps.append(datetime.strptime(line[1], \"%Y-%m-%d\"))\n",
    "        btc_price.append(float(line[2]))\n",
    "\n",
    "# Viewing first 10 records\n",
    "timestamps[:10], btc_price[:10]"
   ]
  },
  {
   "cell_type": "code",
   "execution_count": 9,
   "metadata": {},
   "outputs": [
    {
     "data": {
      "text/plain": [
       "Text(0.5, 1.0, 'Price of Bitcoin: Oct 2013 - May 2021')"
      ]
     },
     "execution_count": 9,
     "metadata": {},
     "output_type": "execute_result"
    },
    {
     "data": {
      "image/png": "[encoded data removed]",
      "text/plain": [
       "<Figure size 720x504 with 1 Axes>"
      ]
     },
     "metadata": {
      "needs_background": "light"
     },
     "output_type": "display_data"
    }
   ],
   "source": [
    "# Plotting from CSV\n",
    "import matplotlib.pyplot as plt\n",
    "import numpy as np\n",
    "\n",
    "plt.figure(figsize=(10, 7))\n",
    "plt.plot(timestamps, btc_price)\n",
    "plt.xlabel(\"Date\")\n",
    "plt.ylabel(\"BTC Price\")\n",
    "plt.title(\"Price of Bitcoin: Oct 2013 - May 2021\", fontsize=16)\n",
    "#plt.legend();"
   ]
  },
  {
   "attachments": {},
   "cell_type": "markdown",
   "metadata": {},
   "source": [
    "### Creating train and test data"
   ]
  },
  {
   "cell_type": "code",
   "execution_count": 10,
   "metadata": {},
   "outputs": [
    {
     "data": {
      "text/plain": [
       "(array(['2013-10-01T00:00:00.000000000', '2013-10-02T00:00:00.000000000',\n",
       "        '2013-10-03T00:00:00.000000000', '2013-10-04T00:00:00.000000000',\n",
       "        '2013-10-05T00:00:00.000000000', '2013-10-06T00:00:00.000000000',\n",
       "        '2013-10-07T00:00:00.000000000', '2013-10-08T00:00:00.000000000',\n",
       "        '2013-10-09T00:00:00.000000000', '2013-10-10T00:00:00.000000000'],\n",
       "       dtype='datetime64[ns]'),\n",
       " array([123.65499, 125.455  , 108.58483, 118.67466, 121.33866, 120.65533,\n",
       "        121.795  , 123.033  , 124.049  , 125.96116]))"
      ]
     },
     "execution_count": 10,
     "metadata": {},
     "output_type": "execute_result"
    }
   ],
   "source": [
    "# Get Bitcoin date array\n",
    "timestamps = bitcoin_prices.index.to_numpy()\n",
    "prices = bitcoin_prices[\"Price\"].to_numpy()\n",
    "\n",
    "timestamps[:10], prices[:10]"
   ]
  },
  {
   "cell_type": "code",
   "execution_count": 11,
   "metadata": {},
   "outputs": [
    {
     "data": {
      "text/plain": [
       "((2229,), (558,), (2229,), (558,))"
      ]
     },
     "execution_count": 11,
     "metadata": {},
     "output_type": "execute_result"
    }
   ],
   "source": [
    "# Wrong way to create train / test split for time series data\n",
    "from sklearn.model_selection import train_test_split\n",
    "\n",
    "X_train, X_test, y_train, y_test = train_test_split(\n",
    "    timestamps, # dates\n",
    "    prices, # BTC prices\n",
    "    test_size=0.2,\n",
    "    random_state=42\n",
    ")\n",
    "X_train.shape, X_test.shape, y_train.shape, y_test.shape"
   ]
  },
  {
   "cell_type": "code",
   "execution_count": 12,
   "metadata": {},
   "outputs": [
    {
     "data": {
      "image/png": "[encoded data removed]",
      "text/plain": [
       "<Figure size 720x504 with 1 Axes>"
      ]
     },
     "metadata": {
      "needs_background": "light"
     },
     "output_type": "display_data"
    }
   ],
   "source": [
    "# Plotting the wrong data split results\n",
    "plt.figure(figsize=(10, 7))\n",
    "plt.scatter(X_train, y_train, s=5, label=\"Train data\")\n",
    "plt.scatter(X_test, y_test, s=5, label=\"Test data\")\n",
    "plt.xlabel(\"Date\")\n",
    "plt.ylabel(\"BTC Price\")\n",
    "plt.legend(fontsize=14)\n",
    "plt.show();"
   ]
  },
  {
   "cell_type": "code",
   "execution_count": 13,
   "metadata": {},
   "outputs": [
    {
     "data": {
      "text/plain": [
       "(2229, 558, 2229, 558)"
      ]
     },
     "execution_count": 13,
     "metadata": {},
     "output_type": "execute_result"
    }
   ],
   "source": [
    "# Right way to create train / test split for time series data\n",
    "split_size = int(0.8 * len(prices)) # 80% - train, 20% - test\n",
    "\n",
    "X_train, y_train = timestamps[:split_size], prices[:split_size]\n",
    "X_test, y_test = timestamps[split_size:], prices[split_size:]\n",
    "\n",
    "len(X_train), len(X_test), len(y_train), len(y_test)"
   ]
  },
  {
   "cell_type": "code",
   "execution_count": 14,
   "metadata": {},
   "outputs": [
    {
     "data": {
      "image/png": "[encoded data removed]",
      "text/plain": [
       "<Figure size 720x504 with 1 Axes>"
      ]
     },
     "metadata": {
      "needs_background": "light"
     },
     "output_type": "display_data"
    }
   ],
   "source": [
    "# Plotting the right data split results\n",
    "plt.figure(figsize=(10, 7))\n",
    "plt.scatter(X_train, y_train, s=5, label=\"Train data\")\n",
    "plt.scatter(X_test, y_test, s=5, label=\"Test data\")\n",
    "plt.xlabel(\"Date\")\n",
    "plt.ylabel(\"BTC Price\")\n",
    "plt.legend(fontsize=14)\n",
    "plt.show();"
   ]
  },
  {
   "cell_type": "code",
   "execution_count": 15,
   "metadata": {},
   "outputs": [],
   "source": [
    "# Creating plotting function\n",
    "def plot_time_series(timestamps, values, marker=\",\", start=0, end=None, label=None):\n",
    "    plt.plot(timestamps[start:end], values[start:end], marker=marker, label=label)\n",
    "    plt.xlabel(\"Time\")\n",
    "    plt.ylabel(\"BTC Price\")\n",
    "    if label:\n",
    "        plt.legend(fontsize=14)\n",
    "    plt.grid(True)"
   ]
  },
  {
   "cell_type": "code",
   "execution_count": 16,
   "metadata": {},
   "outputs": [
    {
     "data": {
      "image/png": "[encoded data removed]",
      "text/plain": [
       "<Figure size 720x504 with 1 Axes>"
      ]
     },
     "metadata": {
      "needs_background": "light"
     },
     "output_type": "display_data"
    }
   ],
   "source": [
    "# Testing plot function\n",
    "plt.figure(figsize=(10, 7))\n",
    "plot_time_series(timestamps=X_train, values=y_train, label=\"Train data\")\n",
    "plot_time_series(timestamps=X_test, values=y_test, label=\"Test data\")"
   ]
  },
  {
   "attachments": {},
   "cell_type": "markdown",
   "metadata": {},
   "source": [
    "### Model 0 - Naive forecast (baseline)"
   ]
  },
  {
   "attachments": {},
   "cell_type": "markdown",
   "metadata": {},
   "source": [
    "The prediction at timestamp t(y-hat) is equal to the value at timestamp t-1 (previous timestamp), i.e horizon of 1.\n",
    "$$\\hat{y}_{t} = y_{t-1}$$"
   ]
  },
  {
   "cell_type": "code",
   "execution_count": 17,
   "metadata": {},
   "outputs": [
    {
     "name": "stdout",
     "output_type": "stream",
     "text": [
      "First 10 values: [9226.48582088 8794.35864452 8798.04205463 9081.18687849 8711.53433917\n",
      " 8760.89271814 8749.52059102 8656.97092235 8500.64355816 8469.2608989 ]\n",
      "\n",
      "Last 10 values: [57107.12067189 58788.20967893 58102.19142623 55715.54665129\n",
      " 56573.5554719  52147.82118698 49764.1320816  50032.69313676\n",
      " 47885.62525472 45604.61575361]\n"
     ]
    }
   ],
   "source": [
    "# Creating naive forecast\n",
    "naive_forecast = y_test[:-1]\n",
    "\n",
    "print(f\"First 10 values: {naive_forecast[:10]}\\n\")\n",
    "print(f\"Last 10 values: {naive_forecast[-10:]}\")"
   ]
  },
  {
   "cell_type": "code",
   "execution_count": 18,
   "metadata": {},
   "outputs": [
    {
     "data": {
      "image/png": "[encoded data removed]",
      "text/plain": [
       "<Figure size 720x504 with 1 Axes>"
      ]
     },
     "metadata": {
      "needs_background": "light"
     },
     "output_type": "display_data"
    }
   ],
   "source": [
    "# Plotting naive forecast\n",
    "plt.figure(figsize=(10, 7))\n",
    "# plot_time_series(timestamps=X_train, values=y_train, label=\"Train data\")\n",
    "plot_time_series(timestamps=X_test, values=y_test, start=500, label=\"Test data\")\n",
    "plot_time_series(timestamps=X_test[1:], values=naive_forecast, start=500, marker=\"o\", label=\"Naive forecast\")"
   ]
  },
  {
   "cell_type": "code",
   "execution_count": 19,
   "metadata": {},
   "outputs": [],
   "source": [
    "# MASE implementation\n",
    "def mean_absolute_scaled_error(y_true, y_pred):\n",
    "    mae = tf.reduce_mean(tf.abs(y_true - y_pred))\n",
    "\n",
    "    # Find MAE of Naive Forecast (no seasonality)\n",
    "    mae_naive_no_season = tf.reduce_mean(tf.abs(y_true[1:] - y_true[:-1])) # Seasonality of 1 day\n",
    "\n",
    "    return mae / mae_naive_no_season"
   ]
  },
  {
   "cell_type": "code",
   "execution_count": 20,
   "metadata": {},
   "outputs": [
    {
     "data": {
      "text/plain": [
       "<tf.Tensor: shape=(), dtype=float64, numpy=0.9995699939182626>"
      ]
     },
     "execution_count": 20,
     "metadata": {},
     "output_type": "execute_result"
    }
   ],
   "source": [
    "# Verify if MASE of Naive Forecast is 1\n",
    "mean_absolute_scaled_error(\n",
    "    y_true=y_test[1:],\n",
    "    y_pred=naive_forecast\n",
    ")"
   ]
  },
  {
   "cell_type": "code",
   "execution_count": 21,
   "metadata": {},
   "outputs": [],
   "source": [
    "# Function for evaluation matrix\n",
    "def evaluate_preds(y_true, y_pred):\n",
    "\n",
    "    # Ensuring that we use float32 dtype (for metric calculations)\n",
    "    y_true = tf.cast(y_true, dtype=tf.float32)\n",
    "    y_pred = tf.cast(y_pred, dtype=tf.float32)\n",
    "\n",
    "    # Calculating various evaluation metrics\n",
    "    mae = tf.keras.metrics.mean_absolute_error(y_true, y_pred)\n",
    "    mse = tf.keras.metrics.mean_squared_error(y_true, y_pred)\n",
    "    rmse = tf.sqrt(mse)\n",
    "    mape = tf.keras.metrics.mean_absolute_percentage_error(y_true, y_pred)\n",
    "    mase = mean_absolute_scaled_error(y_true, y_pred)\n",
    "\n",
    "    return {\n",
    "        \"mae\": mae.numpy(),\n",
    "        \"mse\": mse.numpy(),\n",
    "        \"rmse\": rmse.numpy(),\n",
    "        \"mape\": mape.numpy(),\n",
    "        \"mase\": mase.numpy()\n",
    "    }"
   ]
  },
  {
   "cell_type": "code",
   "execution_count": 22,
   "metadata": {},
   "outputs": [
    {
     "data": {
      "text/plain": [
       "{'mae': 567.9802,\n",
       " 'mse': 1147547.0,\n",
       " 'rmse': 1071.2362,\n",
       " 'mape': 2.5165248,\n",
       " 'mase': 0.99957}"
      ]
     },
     "execution_count": 22,
     "metadata": {},
     "output_type": "execute_result"
    }
   ],
   "source": [
    "# Evaluating naive forecast results\n",
    "naive_results = evaluate_preds(y_true=y_test[1:], y_pred=naive_forecast)\n",
    "naive_results"
   ]
  },
  {
   "attachments": {},
   "cell_type": "markdown",
   "metadata": {},
   "source": [
    "### Windowing data"
   ]
  },
  {
   "cell_type": "code",
   "execution_count": 23,
   "metadata": {},
   "outputs": [
    {
     "name": "stdout",
     "output_type": "stream",
     "text": [
      "Intention is to use [123.65499, 125.455, 108.58483, 118.67466, 121.33866, 120.65533, 121.795] to predict 123.033\n"
     ]
    }
   ],
   "source": [
    "# We want to use Bitcoin prices of the week to predict next day price\n",
    "print(f\"Intention is to use {btc_price[:7]} to predict {btc_price[7]}\")"
   ]
  },
  {
   "cell_type": "code",
   "execution_count": 24,
   "metadata": {},
   "outputs": [],
   "source": [
    "# Setting up global variables for window size and horizon\n",
    "HORIZON = 1 # predict next 1 day\n",
    "WINDOW_SIZE = 7 # use the past week of Bitcoin data"
   ]
  },
  {
   "cell_type": "code",
   "execution_count": 25,
   "metadata": {},
   "outputs": [],
   "source": [
    "# Creating function to label windowed data\n",
    "def get_labelled_window(x, horizon=HORIZON):\n",
    "    return x[:, :-horizon], x[:, -horizon:]"
   ]
  },
  {
   "cell_type": "code",
   "execution_count": 26,
   "metadata": {},
   "outputs": [
    {
     "data": {
      "text/plain": [
       "(<tf.Tensor: shape=(1, 7), dtype=int32, numpy=array([[1, 2, 3, 4, 5, 6, 7]])>,\n",
       " <tf.Tensor: shape=(1, 1), dtype=int32, numpy=array([[8]])>)"
      ]
     },
     "execution_count": 26,
     "metadata": {},
     "output_type": "execute_result"
    }
   ],
   "source": [
    "# Testing window labelling function\n",
    "test_window, test_label = get_labelled_window(tf.expand_dims(tf.range(8) + 1, axis=0))\n",
    "test_window, test_label"
   ]
  },
  {
   "cell_type": "code",
   "execution_count": 27,
   "metadata": {},
   "outputs": [],
   "source": [
    "# Creating function to view NumPy arrays as windows\n",
    "def make_windows(x, window_size=WINDOW_SIZE, horizon=HORIZON):\n",
    "\n",
    "    # 1. Creating window of specific window size\n",
    "    window_step = np.expand_dims(np.arange(window_size + horizon), axis=0)\n",
    "\n",
    "    # 2. Creating 2D array of multiple windows\n",
    "    window_indexes = window_step + np.expand_dims(np.arange(len(x) - (window_size + horizon - 1)), axis=0).T\n",
    "    # print(f\"Windows indexes: {window_indexes} with shape of {window_indexes.shape}\")\n",
    "\n",
    "    # 3. Index on the target array (time series) with 2D of multiple window steps\n",
    "    windowed_array = x[window_indexes]\n",
    "\n",
    "    # 4. Get the labelled windows\n",
    "    windows, labels = get_labelled_window(windowed_array, horizon=horizon)\n",
    "    return windows, labels"
   ]
  },
  {
   "cell_type": "code",
   "execution_count": 28,
   "metadata": {},
   "outputs": [
    {
     "data": {
      "text/plain": [
       "(2780, 2780)"
      ]
     },
     "execution_count": 28,
     "metadata": {},
     "output_type": "execute_result"
    }
   ],
   "source": [
    "# Testing the function\n",
    "full_windows, full_labels = make_windows(prices)\n",
    "len(full_windows), len(full_labels)"
   ]
  },
  {
   "cell_type": "code",
   "execution_count": 29,
   "metadata": {},
   "outputs": [
    {
     "name": "stdout",
     "output_type": "stream",
     "text": [
      "Window: [123.65499 125.455   108.58483 118.67466 121.33866 120.65533 121.795  ] -> Label: [123.033]\n",
      "Window: [125.455   108.58483 118.67466 121.33866 120.65533 121.795   123.033  ] -> Label: [124.049]\n",
      "Window: [108.58483 118.67466 121.33866 120.65533 121.795   123.033   124.049  ] -> Label: [125.96116]\n"
     ]
    }
   ],
   "source": [
    "# Viewing the first 3 windows / labels\n",
    "for i in range(3):\n",
    "    print(f\"Window: {full_windows[i]} -> Label: {full_labels[i]}\")"
   ]
  },
  {
   "cell_type": "code",
   "execution_count": 30,
   "metadata": {},
   "outputs": [
    {
     "name": "stdout",
     "output_type": "stream",
     "text": [
      "Window: [58788.20967893 58102.19142623 55715.54665129 56573.5554719\n",
      " 52147.82118698 49764.1320816  50032.69313676] -> Label: [47885.62525472]\n",
      "Window: [58102.19142623 55715.54665129 56573.5554719  52147.82118698\n",
      " 49764.1320816  50032.69313676 47885.62525472] -> Label: [45604.61575361]\n",
      "Window: [55715.54665129 56573.5554719  52147.82118698 49764.1320816\n",
      " 50032.69313676 47885.62525472 45604.61575361] -> Label: [43144.47129086]\n"
     ]
    }
   ],
   "source": [
    "# Viewing the last 3 windows / labels\n",
    "for i in range(3):\n",
    "    print(f\"Window: {full_windows[i-3]} -> Label: {full_labels[i-3]}\")"
   ]
  },
  {
   "attachments": {},
   "cell_type": "markdown",
   "metadata": {},
   "source": [
    "### Splitting windows into training and testing sets"
   ]
  },
  {
   "cell_type": "code",
   "execution_count": 31,
   "metadata": {},
   "outputs": [],
   "source": [
    "# Creating function to make train / test splits\n",
    "def make_train_test_splits(windows, labels, test_split=0.2):\n",
    "    split_size = int(len(windows) * (1 - test_split)) # Default 80% train / 20% test\n",
    "    train_windows = windows[:split_size]\n",
    "    train_labels = labels[:split_size]\n",
    "    test_windows = windows[split_size:]\n",
    "    test_labels = labels[split_size:]\n",
    "    return train_windows, test_windows, train_labels, test_labels"
   ]
  },
  {
   "cell_type": "code",
   "execution_count": 32,
   "metadata": {},
   "outputs": [
    {
     "data": {
      "text/plain": [
       "(2224, 556, 2224, 556)"
      ]
     },
     "execution_count": 32,
     "metadata": {},
     "output_type": "execute_result"
    }
   ],
   "source": [
    "# Creating training and testing windows\n",
    "train_windows, test_windows, train_labels, test_labels = make_train_test_splits(\n",
    "    full_windows, full_labels\n",
    ")\n",
    "len(train_windows), len(test_windows), len(train_labels), len(test_labels)"
   ]
  },
  {
   "cell_type": "code",
   "execution_count": 33,
   "metadata": {},
   "outputs": [
    {
     "data": {
      "text/plain": [
       "(array([[123.65499, 125.455  , 108.58483, 118.67466, 121.33866, 120.65533,\n",
       "         121.795  ],\n",
       "        [125.455  , 108.58483, 118.67466, 121.33866, 120.65533, 121.795  ,\n",
       "         123.033  ],\n",
       "        [108.58483, 118.67466, 121.33866, 120.65533, 121.795  , 123.033  ,\n",
       "         124.049  ],\n",
       "        [118.67466, 121.33866, 120.65533, 121.795  , 123.033  , 124.049  ,\n",
       "         125.96116],\n",
       "        [121.33866, 120.65533, 121.795  , 123.033  , 124.049  , 125.96116,\n",
       "         125.27966]]),\n",
       " array([[123.033  ],\n",
       "        [124.049  ],\n",
       "        [125.96116],\n",
       "        [125.27966],\n",
       "        [125.9275 ]]))"
      ]
     },
     "execution_count": 33,
     "metadata": {},
     "output_type": "execute_result"
    }
   ],
   "source": [
    "# Checking the first 5 train window values\n",
    "train_windows[:5], train_labels[:5]"
   ]
  },
  {
   "cell_type": "code",
   "execution_count": 34,
   "metadata": {},
   "outputs": [
    {
     "data": {
      "text/plain": [
       "(array([[9290.89660239, 9202.41545055, 9369.62808116, 9326.59962378,\n",
       "         9335.75240233, 9226.48582088, 8794.35864452],\n",
       "        [9202.41545055, 9369.62808116, 9326.59962378, 9335.75240233,\n",
       "         9226.48582088, 8794.35864452, 8798.04205463],\n",
       "        [9369.62808116, 9326.59962378, 9335.75240233, 9226.48582088,\n",
       "         8794.35864452, 8798.04205463, 9081.18687849],\n",
       "        [9326.59962378, 9335.75240233, 9226.48582088, 8794.35864452,\n",
       "         8798.04205463, 9081.18687849, 8711.53433917],\n",
       "        [9335.75240233, 9226.48582088, 8794.35864452, 8798.04205463,\n",
       "         9081.18687849, 8711.53433917, 8760.89271814]]),\n",
       " array([[8798.04205463],\n",
       "        [9081.18687849],\n",
       "        [8711.53433917],\n",
       "        [8760.89271814],\n",
       "        [8749.52059102]]))"
      ]
     },
     "execution_count": 34,
     "metadata": {},
     "output_type": "execute_result"
    }
   ],
   "source": [
    "# Checking the first test values\n",
    "test_windows[:5], test_labels[:5]"
   ]
  },
  {
   "attachments": {},
   "cell_type": "markdown",
   "metadata": {},
   "source": [
    "### Modelling checkpoint callback"
   ]
  },
  {
   "cell_type": "code",
   "execution_count": 35,
   "metadata": {},
   "outputs": [],
   "source": [
    "# Function to implement ModelCheckpoint callback\n",
    "import os\n",
    "\n",
    "def create_model_checkpoint(model_name, save_path=\"model_experiments\"):\n",
    "    return tf.keras.callbacks.ModelCheckpoint(\n",
    "        filepath=os.path.join(save_path, model_name),\n",
    "        verbose=0,\n",
    "        save_best_only=True\n",
    "    )"
   ]
  },
  {
   "attachments": {},
   "cell_type": "markdown",
   "metadata": {},
   "source": [
    "### Model 1 - Dense model (window = 7, horizon = 1)"
   ]
  },
  {
   "cell_type": "code",
   "execution_count": 36,
   "metadata": {},
   "outputs": [
    {
     "name": "stdout",
     "output_type": "stream",
     "text": [
      "Epoch 1/100\n",
      " 1/18 [>.............................] - ETA: 15s - loss: 4025.6899 - mae: 4025.6899 - mse: 33322744.0000INFO:tensorflow:Assets written to: model_experiments\\model_1_dense\\assets\n",
      "18/18 [==============================] - 2s 64ms/step - loss: 2190.9929 - mae: 2190.9929 - mse: 13417588.0000 - val_loss: 3482.8196 - val_mae: 3482.8196 - val_mse: 24156650.0000\n",
      "Epoch 2/100\n",
      " 1/18 [>.............................] - ETA: 0s - loss: 395.5812 - mae: 395.5812 - mse: 577356.1875INFO:tensorflow:Assets written to: model_experiments\\model_1_dense\\assets\n",
      "18/18 [==============================] - 1s 31ms/step - loss: 343.7538 - mae: 343.7538 - mse: 450533.3125 - val_loss: 1242.3649 - val_mae: 1242.3649 - val_mse: 4469391.5000\n",
      "Epoch 3/100\n",
      " 1/18 [>.............................] - ETA: 0s - loss: 156.9705 - mae: 156.9705 - mse: 100701.7344INFO:tensorflow:Assets written to: model_experiments\\model_1_dense\\assets\n",
      "18/18 [==============================] - 1s 41ms/step - loss: 221.1889 - mae: 221.1889 - mse: 238410.0938 - val_loss: 1042.1466 - val_mae: 1042.1466 - val_mse: 3632780.0000\n",
      "Epoch 4/100\n",
      "17/18 [===========================>..] - ETA: 0s - loss: 184.6651 - mae: 184.6651 - mse: 179783.4531INFO:tensorflow:Assets written to: model_experiments\\model_1_dense\\assets\n",
      "18/18 [==============================] - 1s 43ms/step - loss: 182.8954 - mae: 182.8954 - mse: 176827.3906 - val_loss: 1002.0987 - val_mae: 1002.0987 - val_mse: 3288531.7500\n",
      "Epoch 5/100\n",
      "18/18 [==============================] - 0s 8ms/step - loss: 180.5323 - mae: 180.5323 - mse: 173608.2344 - val_loss: 1009.9915 - val_mae: 1009.9915 - val_mse: 3137956.7500\n",
      "Epoch 6/100\n",
      " 1/18 [>.............................] - ETA: 0s - loss: 132.7150 - mae: 132.7150 - mse: 65472.9023INFO:tensorflow:Assets written to: model_experiments\\model_1_dense\\assets\n",
      "18/18 [==============================] - 1s 35ms/step - loss: 168.7041 - mae: 168.7041 - mse: 150618.9688 - val_loss: 928.9415 - val_mae: 928.9415 - val_mse: 2869081.2500\n",
      "Epoch 7/100\n",
      " 1/18 [>.............................] - ETA: 0s - loss: 198.8840 - mae: 198.8840 - mse: 276761.1250INFO:tensorflow:Assets written to: model_experiments\\model_1_dense\\assets\n",
      "18/18 [==============================] - 1s 36ms/step - loss: 161.5862 - mae: 161.5862 - mse: 139651.1875 - val_loss: 923.0972 - val_mae: 923.0972 - val_mse: 2679571.5000\n",
      "Epoch 8/100\n",
      " 1/18 [>.............................] - ETA: 0s - loss: 135.2200 - mae: 135.2200 - mse: 73842.4141INFO:tensorflow:Assets written to: model_experiments\\model_1_dense\\assets\n",
      "18/18 [==============================] - 1s 35ms/step - loss: 159.8461 - mae: 159.8461 - mse: 134179.0781 - val_loss: 863.0627 - val_mae: 863.0627 - val_mse: 2459517.7500\n",
      "Epoch 9/100\n",
      "18/18 [==============================] - 0s 5ms/step - loss: 154.7129 - mae: 154.7129 - mse: 129645.6094 - val_loss: 931.0447 - val_mae: 931.0447 - val_mse: 2543835.7500\n",
      "Epoch 10/100\n",
      " 1/18 [>.............................] - ETA: 0s - loss: 170.5418 - mae: 170.5418 - mse: 188951.7344INFO:tensorflow:Assets written to: model_experiments\\model_1_dense\\assets\n",
      "18/18 [==============================] - 1s 35ms/step - loss: 149.2952 - mae: 149.2952 - mse: 120193.2734 - val_loss: 810.3484 - val_mae: 810.3484 - val_mse: 2158626.5000\n",
      "Epoch 11/100\n",
      " 1/18 [>.............................] - ETA: 0s - loss: 158.2256 - mae: 158.2256 - mse: 109156.3125INFO:tensorflow:Assets written to: model_experiments\\model_1_dense\\assets\n",
      "18/18 [==============================] - 1s 48ms/step - loss: 142.3386 - mae: 142.3386 - mse: 111153.1016 - val_loss: 784.1200 - val_mae: 784.1200 - val_mse: 2028063.7500\n",
      "Epoch 12/100\n",
      "18/18 [==============================] - 0s 5ms/step - loss: 137.5189 - mae: 137.5189 - mse: 105349.5469 - val_loss: 820.9683 - val_mae: 820.9683 - val_mse: 2041083.8750\n",
      "Epoch 13/100\n",
      "18/18 [==============================] - 0s 7ms/step - loss: 136.1878 - mae: 136.1878 - mse: 104526.8203 - val_loss: 816.2141 - val_mae: 816.2141 - val_mse: 1986473.8750\n",
      "Epoch 14/100\n",
      " 1/18 [>.............................] - ETA: 0s - loss: 143.1526 - mae: 143.1526 - mse: 91137.4062INFO:tensorflow:Assets written to: model_experiments\\model_1_dense\\assets\n",
      "18/18 [==============================] - 1s 42ms/step - loss: 131.2338 - mae: 131.2338 - mse: 97114.9531 - val_loss: 751.8273 - val_mae: 751.8273 - val_mse: 1779744.2500\n",
      "Epoch 15/100\n",
      " 1/18 [>.............................] - ETA: 0s - loss: 127.1366 - mae: 127.1366 - mse: 58250.4336INFO:tensorflow:Assets written to: model_experiments\\model_1_dense\\assets\n",
      "18/18 [==============================] - 1s 35ms/step - loss: 130.5546 - mae: 130.5546 - mse: 94368.6562 - val_loss: 747.9720 - val_mae: 747.9720 - val_mse: 1732658.1250\n",
      "Epoch 16/100\n",
      "18/18 [==============================] - 0s 3ms/step - loss: 128.8848 - mae: 128.8848 - mse: 91751.0078 - val_loss: 762.7197 - val_mae: 762.7197 - val_mse: 1741867.5000\n",
      "Epoch 17/100\n",
      " 1/18 [>.............................] - ETA: 0s - loss: 119.3614 - mae: 119.3614 - mse: 60028.3516INFO:tensorflow:Assets written to: model_experiments\\model_1_dense\\assets\n",
      "18/18 [==============================] - 1s 50ms/step - loss: 125.7622 - mae: 125.7622 - mse: 87700.9531 - val_loss: 720.4645 - val_mae: 720.4645 - val_mse: 1610558.6250\n",
      "Epoch 18/100\n",
      " 1/18 [>.............................] - ETA: 0s - loss: 132.1736 - mae: 132.1736 - mse: 88723.5938INFO:tensorflow:Assets written to: model_experiments\\model_1_dense\\assets\n",
      "18/18 [==============================] - 1s 47ms/step - loss: 123.2210 - mae: 123.2210 - mse: 87243.5312 - val_loss: 694.2531 - val_mae: 694.2531 - val_mse: 1528032.2500\n",
      "Epoch 19/100\n",
      "18/18 [==============================] - 0s 6ms/step - loss: 120.1206 - mae: 120.1206 - mse: 83090.8828 - val_loss: 744.9670 - val_mae: 744.9670 - val_mse: 1651286.3750\n",
      "Epoch 20/100\n",
      " 1/18 [>.............................] - ETA: 0s - loss: 128.9817 - mae: 128.9817 - mse: 84492.4844INFO:tensorflow:Assets written to: model_experiments\\model_1_dense\\assets\n",
      "18/18 [==============================] - 1s 63ms/step - loss: 119.0958 - mae: 119.0958 - mse: 81617.2578 - val_loss: 641.3910 - val_mae: 641.3910 - val_mse: 1394269.6250\n",
      "Epoch 21/100\n",
      "18/18 [==============================] - 0s 6ms/step - loss: 121.0508 - mae: 121.0508 - mse: 84532.2812 - val_loss: 661.5309 - val_mae: 661.5309 - val_mse: 1416284.3750\n",
      "Epoch 22/100\n",
      " 1/18 [>.............................] - ETA: 0s - loss: 161.7180 - mae: 161.7180 - mse: 151100.0938INFO:tensorflow:Assets written to: model_experiments\\model_1_dense\\assets\n",
      "18/18 [==============================] - 1s 47ms/step - loss: 115.7130 - mae: 115.7130 - mse: 79434.5547 - val_loss: 639.0274 - val_mae: 639.0274 - val_mse: 1360954.1250\n",
      "Epoch 23/100\n",
      "16/18 [=========================>....] - ETA: 0s - loss: 115.8632 - mae: 115.8632 - mse: 75723.9766INFO:tensorflow:Assets written to: model_experiments\\model_1_dense\\assets\n",
      "18/18 [==============================] - 1s 54ms/step - loss: 116.0830 - mae: 116.0830 - mse: 78257.8203 - val_loss: 618.4351 - val_mae: 618.4351 - val_mse: 1317484.7500\n",
      "Epoch 24/100\n",
      "16/18 [=========================>....] - ETA: 0s - loss: 116.4176 - mae: 116.4176 - mse: 80928.0312INFO:tensorflow:Assets written to: model_experiments\\model_1_dense\\assets\n",
      "18/18 [==============================] - 1s 51ms/step - loss: 115.2995 - mae: 115.2995 - mse: 78956.4453 - val_loss: 613.2754 - val_mae: 613.2754 - val_mse: 1300449.3750\n",
      "Epoch 25/100\n",
      "18/18 [==============================] - 0s 7ms/step - loss: 113.4015 - mae: 113.4015 - mse: 76352.4375 - val_loss: 615.1660 - val_mae: 615.1660 - val_mse: 1306866.3750\n",
      "Epoch 26/100\n",
      "18/18 [==============================] - ETA: 0s - loss: 113.9925 - mae: 113.9925 - mse: 76331.8672INFO:tensorflow:Assets written to: model_experiments\\model_1_dense\\assets\n",
      "18/18 [==============================] - 1s 43ms/step - loss: 113.9925 - mae: 113.9925 - mse: 76331.8672 - val_loss: 604.2417 - val_mae: 604.2417 - val_mse: 1271422.3750\n",
      "Epoch 27/100\n",
      "18/18 [==============================] - 0s 7ms/step - loss: 114.9092 - mae: 114.9092 - mse: 76460.1016 - val_loss: 605.3540 - val_mae: 605.3540 - val_mse: 1268643.2500\n",
      "Epoch 28/100\n",
      "18/18 [==============================] - 0s 8ms/step - loss: 114.5359 - mae: 114.5359 - mse: 76749.4453 - val_loss: 622.0241 - val_mae: 622.0241 - val_mse: 1321247.2500\n",
      "Epoch 29/100\n",
      "17/18 [===========================>..] - ETA: 0s - loss: 109.8894 - mae: 109.8894 - mse: 73078.2656 INFO:tensorflow:Assets written to: model_experiments\\model_1_dense\\assets\n",
      "18/18 [==============================] - 1s 60ms/step - loss: 112.2571 - mae: 112.2571 - mse: 76394.6875 - val_loss: 602.4498 - val_mae: 602.4498 - val_mse: 1258193.5000\n",
      "Epoch 30/100\n",
      "16/18 [=========================>....] - ETA: 0s - loss: 112.6867 - mae: 112.6867 - mse: 73767.4062INFO:tensorflow:Assets written to: model_experiments\\model_1_dense\\assets\n",
      "18/18 [==============================] - 1s 55ms/step - loss: 114.1581 - mae: 114.1581 - mse: 76021.5938 - val_loss: 596.0108 - val_mae: 596.0108 - val_mse: 1243736.3750\n",
      "Epoch 31/100\n",
      "18/18 [==============================] - 0s 5ms/step - loss: 114.0093 - mae: 114.0093 - mse: 74345.7656 - val_loss: 660.7825 - val_mae: 660.7825 - val_mse: 1381970.6250\n",
      "Epoch 32/100\n",
      "18/18 [==============================] - 0s 8ms/step - loss: 112.8522 - mae: 112.8522 - mse: 76710.4219 - val_loss: 606.0195 - val_mae: 606.0195 - val_mse: 1259515.3750\n",
      "Epoch 33/100\n",
      "18/18 [==============================] - 0s 7ms/step - loss: 111.4791 - mae: 111.4791 - mse: 73355.8750 - val_loss: 599.3207 - val_mae: 599.3207 - val_mse: 1243702.5000\n",
      "Epoch 34/100\n",
      "17/18 [===========================>..] - ETA: 0s - loss: 110.4125 - mae: 110.4125 - mse: 75274.5234 INFO:tensorflow:Assets written to: model_experiments\\model_1_dense\\assets\n",
      "18/18 [==============================] - 1s 50ms/step - loss: 111.0431 - mae: 111.0431 - mse: 75249.7969 - val_loss: 587.9550 - val_mae: 587.9550 - val_mse: 1220488.6250\n",
      "Epoch 35/100\n",
      " 1/18 [>.............................] - ETA: 0s - loss: 97.5604 - mae: 97.5604 - mse: 48464.9844INFO:tensorflow:Assets written to: model_experiments\\model_1_dense\\assets\n",
      "18/18 [==============================] - 1s 46ms/step - loss: 110.1977 - mae: 110.1977 - mse: 73564.1406 - val_loss: 586.2225 - val_mae: 586.2225 - val_mse: 1215758.7500\n",
      "Epoch 36/100\n",
      "18/18 [==============================] - 0s 7ms/step - loss: 116.6747 - mae: 116.6747 - mse: 76238.4609 - val_loss: 619.9543 - val_mae: 619.9543 - val_mse: 1284423.7500\n",
      "Epoch 37/100\n",
      "18/18 [==============================] - 0s 8ms/step - loss: 112.8935 - mae: 112.8935 - mse: 75882.9375 - val_loss: 598.5678 - val_mae: 598.5678 - val_mse: 1246892.3750\n",
      "Epoch 38/100\n",
      "17/18 [===========================>..] - ETA: 0s - loss: 110.3903 - mae: 110.3903 - mse: 73652.1562INFO:tensorflow:Assets written to: model_experiments\\model_1_dense\\assets\n",
      "18/18 [==============================] - 1s 48ms/step - loss: 109.9843 - mae: 109.9843 - mse: 73094.1172 - val_loss: 583.1750 - val_mae: 583.1750 - val_mse: 1205900.3750\n",
      "Epoch 39/100\n",
      "18/18 [==============================] - 0s 6ms/step - loss: 110.7179 - mae: 110.7179 - mse: 72905.2812 - val_loss: 606.2255 - val_mae: 606.2255 - val_mse: 1262770.8750\n",
      "Epoch 40/100\n",
      "18/18 [==============================] - 0s 7ms/step - loss: 109.8742 - mae: 109.8742 - mse: 73268.1719 - val_loss: 589.0491 - val_mae: 589.0491 - val_mse: 1222126.6250\n",
      "Epoch 41/100\n",
      "18/18 [==============================] - 0s 8ms/step - loss: 114.1877 - mae: 114.1877 - mse: 74063.8594 - val_loss: 733.1569 - val_mae: 733.1569 - val_mse: 1614202.1250\n",
      "Epoch 42/100\n",
      "18/18 [==============================] - 0s 7ms/step - loss: 122.5060 - mae: 122.5060 - mse: 78746.9844 - val_loss: 626.0021 - val_mae: 626.0021 - val_mse: 1306070.0000\n",
      "Epoch 43/100\n",
      "18/18 [==============================] - 0s 7ms/step - loss: 109.6042 - mae: 109.6042 - mse: 72517.9297 - val_loss: 591.3491 - val_mae: 591.3491 - val_mse: 1224874.8750\n",
      "Epoch 44/100\n",
      "18/18 [==============================] - 0s 8ms/step - loss: 115.1807 - mae: 115.1807 - mse: 75785.6641 - val_loss: 631.1287 - val_mae: 631.1287 - val_mse: 1316848.3750\n",
      "Epoch 45/100\n",
      "18/18 [==============================] - 0s 9ms/step - loss: 111.4106 - mae: 111.4106 - mse: 74070.9062 - val_loss: 608.8353 - val_mae: 608.8353 - val_mse: 1250326.1250\n",
      "Epoch 46/100\n",
      "18/18 [==============================] - 0s 10ms/step - loss: 110.8646 - mae: 110.8646 - mse: 72910.8672 - val_loss: 586.6627 - val_mae: 586.6627 - val_mse: 1213205.0000\n",
      "Epoch 47/100\n",
      "18/18 [==============================] - 0s 11ms/step - loss: 109.7086 - mae: 109.7086 - mse: 73321.6719 - val_loss: 632.4738 - val_mae: 632.4738 - val_mse: 1303919.0000\n",
      "Epoch 48/100\n",
      "18/18 [==============================] - 0s 6ms/step - loss: 108.6230 - mae: 108.6230 - mse: 71482.4141 - val_loss: 591.8654 - val_mae: 591.8654 - val_mse: 1212731.2500\n",
      "Epoch 49/100\n",
      "13/18 [====================>.........] - ETA: 0s - loss: 114.1774 - mae: 114.1774 - mse: 81850.0078 INFO:tensorflow:Assets written to: model_experiments\\model_1_dense\\assets\n",
      "18/18 [==============================] - 1s 60ms/step - loss: 110.7667 - mae: 110.7667 - mse: 72449.6875 - val_loss: 575.2609 - val_mae: 575.2609 - val_mse: 1185161.0000\n",
      "Epoch 50/100\n",
      "18/18 [==============================] - 0s 5ms/step - loss: 111.7611 - mae: 111.7611 - mse: 72625.2578 - val_loss: 576.4471 - val_mae: 576.4471 - val_mse: 1188831.5000\n",
      "Epoch 51/100\n",
      "18/18 [==============================] - 0s 8ms/step - loss: 109.3520 - mae: 109.3520 - mse: 71863.3828 - val_loss: 576.1348 - val_mae: 576.1348 - val_mse: 1181542.5000\n",
      "Epoch 52/100\n",
      "18/18 [==============================] - 0s 8ms/step - loss: 112.0395 - mae: 112.0395 - mse: 74725.9922 - val_loss: 599.6240 - val_mae: 599.6240 - val_mse: 1237136.7500\n",
      "Epoch 53/100\n",
      "13/18 [====================>.........] - ETA: 0s - loss: 112.5472 - mae: 112.5472 - mse: 72990.2188INFO:tensorflow:Assets written to: model_experiments\\model_1_dense\\assets\n",
      "18/18 [==============================] - 1s 55ms/step - loss: 115.1854 - mae: 115.1854 - mse: 75633.5312 - val_loss: 572.5359 - val_mae: 572.5359 - val_mse: 1179376.7500\n",
      "Epoch 54/100\n",
      "18/18 [==============================] - 0s 8ms/step - loss: 115.0353 - mae: 115.0353 - mse: 75462.2891 - val_loss: 679.7290 - val_mae: 679.7290 - val_mse: 1416097.7500\n",
      "Epoch 55/100\n",
      "18/18 [==============================] - 0s 7ms/step - loss: 113.0841 - mae: 113.0841 - mse: 72769.6797 - val_loss: 628.0422 - val_mae: 628.0422 - val_mse: 1300112.6250\n",
      "Epoch 56/100\n",
      "18/18 [==============================] - 0s 9ms/step - loss: 117.5704 - mae: 117.5704 - mse: 77033.7578 - val_loss: 869.0938 - val_mae: 869.0938 - val_mse: 2058710.1250\n",
      "Epoch 57/100\n",
      "18/18 [==============================] - 0s 7ms/step - loss: 134.1361 - mae: 134.1361 - mse: 91324.1328 - val_loss: 638.6299 - val_mae: 638.6299 - val_mse: 1326320.1250\n",
      "Epoch 58/100\n",
      "18/18 [==============================] - 0s 8ms/step - loss: 116.7880 - mae: 116.7880 - mse: 75560.3047 - val_loss: 694.4555 - val_mae: 694.4555 - val_mse: 1481132.6250\n",
      "Epoch 59/100\n",
      "18/18 [==============================] - 0s 9ms/step - loss: 110.4709 - mae: 110.4709 - mse: 71415.5391 - val_loss: 583.1097 - val_mae: 583.1097 - val_mse: 1201470.6250\n",
      "Epoch 60/100\n",
      "18/18 [==============================] - 0s 8ms/step - loss: 110.0067 - mae: 110.0067 - mse: 72980.1094 - val_loss: 617.2498 - val_mae: 617.2498 - val_mse: 1262305.3750\n",
      "Epoch 61/100\n",
      "18/18 [==============================] - 0s 6ms/step - loss: 108.7969 - mae: 108.7969 - mse: 71839.3125 - val_loss: 583.7953 - val_mae: 583.7953 - val_mse: 1190750.1250\n",
      "Epoch 62/100\n",
      "18/18 [==============================] - 0s 8ms/step - loss: 107.9174 - mae: 107.9174 - mse: 69955.7344 - val_loss: 575.5952 - val_mae: 575.5952 - val_mse: 1183645.5000\n",
      "Epoch 63/100\n",
      "18/18 [==============================] - 0s 9ms/step - loss: 109.5008 - mae: 109.5008 - mse: 71673.4375 - val_loss: 609.7883 - val_mae: 609.7883 - val_mse: 1244080.3750\n",
      "Epoch 64/100\n",
      "18/18 [==============================] - 0s 9ms/step - loss: 111.7225 - mae: 111.7225 - mse: 72073.4219 - val_loss: 671.8908 - val_mae: 671.8908 - val_mse: 1391559.3750\n",
      "Epoch 65/100\n",
      "15/18 [========================>.....] - ETA: 0s - loss: 111.9290 - mae: 111.9290 - mse: 74404.9766 INFO:tensorflow:Assets written to: model_experiments\\model_1_dense\\assets\n",
      "18/18 [==============================] - 1s 56ms/step - loss: 113.3644 - mae: 113.3644 - mse: 74359.2266 - val_loss: 566.5636 - val_mae: 566.5636 - val_mse: 1161382.7500\n",
      "Epoch 66/100\n",
      "18/18 [==============================] - 0s 8ms/step - loss: 111.5120 - mae: 111.5120 - mse: 71143.6562 - val_loss: 598.3245 - val_mae: 598.3245 - val_mse: 1227465.3750\n",
      "Epoch 67/100\n",
      "18/18 [==============================] - 0s 7ms/step - loss: 107.2354 - mae: 107.2354 - mse: 69107.0156 - val_loss: 589.7963 - val_mae: 589.7963 - val_mse: 1210653.0000\n",
      "Epoch 68/100\n",
      "18/18 [==============================] - 0s 9ms/step - loss: 111.5213 - mae: 111.5213 - mse: 69864.4688 - val_loss: 698.3022 - val_mae: 698.3022 - val_mse: 1481546.8750\n",
      "Epoch 69/100\n",
      "18/18 [==============================] - 0s 9ms/step - loss: 126.5635 - mae: 126.5635 - mse: 81826.3438 - val_loss: 746.4166 - val_mae: 746.4166 - val_mse: 1622928.0000\n",
      "Epoch 70/100\n",
      "18/18 [==============================] - 0s 8ms/step - loss: 118.9989 - mae: 118.9989 - mse: 78066.7188 - val_loss: 568.5940 - val_mae: 568.5940 - val_mse: 1167743.7500\n",
      "Epoch 71/100\n",
      "18/18 [==============================] - 0s 8ms/step - loss: 109.4945 - mae: 109.4945 - mse: 69992.2891 - val_loss: 593.2452 - val_mae: 593.2452 - val_mse: 1204843.0000\n",
      "Epoch 72/100\n",
      "18/18 [==============================] - 0s 6ms/step - loss: 107.4517 - mae: 107.4517 - mse: 70728.8125 - val_loss: 574.1016 - val_mae: 574.1016 - val_mse: 1178284.3750\n",
      "Epoch 73/100\n",
      "18/18 [==============================] - 0s 6ms/step - loss: 110.4839 - mae: 110.4839 - mse: 71624.7031 - val_loss: 600.5321 - val_mae: 600.5321 - val_mse: 1231647.7500\n",
      "Epoch 74/100\n",
      "18/18 [==============================] - 0s 5ms/step - loss: 106.3686 - mae: 106.3686 - mse: 69748.4375 - val_loss: 569.6531 - val_mae: 569.6531 - val_mse: 1160909.5000\n",
      "Epoch 75/100\n",
      "18/18 [==============================] - 0s 6ms/step - loss: 108.0711 - mae: 108.0711 - mse: 69599.3438 - val_loss: 599.2548 - val_mae: 599.2548 - val_mse: 1217211.0000\n",
      "Epoch 76/100\n",
      "18/18 [==============================] - 0s 7ms/step - loss: 111.1381 - mae: 111.1381 - mse: 72179.6562 - val_loss: 567.3898 - val_mae: 567.3898 - val_mse: 1163545.3750\n",
      "Epoch 77/100\n",
      "15/18 [========================>.....] - ETA: 0s - loss: 111.7474 - mae: 111.7474 - mse: 74458.3203INFO:tensorflow:Assets written to: model_experiments\\model_1_dense\\assets\n",
      "18/18 [==============================] - 1s 57ms/step - loss: 108.9846 - mae: 108.9846 - mse: 69777.0547 - val_loss: 565.9259 - val_mae: 565.9259 - val_mse: 1159725.8750\n",
      "Epoch 78/100\n",
      " 1/18 [>.............................] - ETA: 0s - loss: 101.8781 - mae: 101.8781 - mse: 45481.3477INFO:tensorflow:Assets written to: model_experiments\\model_1_dense\\assets\n",
      "18/18 [==============================] - 1s 60ms/step - loss: 108.2104 - mae: 108.2104 - mse: 69129.7500 - val_loss: 565.5292 - val_mae: 565.5292 - val_mse: 1158500.2500\n",
      "Epoch 79/100\n",
      "18/18 [==============================] - 0s 8ms/step - loss: 108.7407 - mae: 108.7407 - mse: 72555.1094 - val_loss: 625.3274 - val_mae: 625.3274 - val_mse: 1285218.1250\n",
      "Epoch 80/100\n",
      "18/18 [==============================] - 0s 5ms/step - loss: 108.8836 - mae: 108.8836 - mse: 71407.8281 - val_loss: 578.7809 - val_mae: 578.7809 - val_mse: 1175639.1250\n",
      "Epoch 81/100\n",
      " 4/18 [=====>........................] - ETA: 0s - loss: 88.6271 - mae: 88.6271 - mse: 39928.1953  INFO:tensorflow:Assets written to: model_experiments\\model_1_dense\\assets\n",
      "18/18 [==============================] - 1s 73ms/step - loss: 105.8328 - mae: 105.8328 - mse: 69057.0156 - val_loss: 564.2170 - val_mae: 564.2170 - val_mse: 1152180.2500\n",
      "Epoch 82/100\n",
      "18/18 [==============================] - 0s 9ms/step - loss: 115.4292 - mae: 115.4292 - mse: 76115.6406 - val_loss: 568.6136 - val_mae: 568.6136 - val_mse: 1163774.8750\n",
      "Epoch 83/100\n",
      "18/18 [==============================] - 0s 8ms/step - loss: 109.6708 - mae: 109.6708 - mse: 71486.5156 - val_loss: 656.5416 - val_mae: 656.5416 - val_mse: 1361186.1250\n",
      "Epoch 84/100\n",
      "18/18 [==============================] - 0s 9ms/step - loss: 112.5414 - mae: 112.5414 - mse: 71572.0781 - val_loss: 575.1887 - val_mae: 575.1887 - val_mse: 1178067.8750\n",
      "Epoch 85/100\n",
      "18/18 [==============================] - 0s 9ms/step - loss: 106.7975 - mae: 106.7975 - mse: 70022.9219 - val_loss: 579.9578 - val_mae: 579.9578 - val_mse: 1176938.5000\n",
      "Epoch 86/100\n",
      "18/18 [==============================] - 0s 8ms/step - loss: 108.4165 - mae: 108.4165 - mse: 69992.0781 - val_loss: 621.9017 - val_mae: 621.9017 - val_mse: 1266232.2500\n",
      "Epoch 87/100\n",
      "18/18 [==============================] - 0s 8ms/step - loss: 107.1979 - mae: 107.1979 - mse: 67683.8281 - val_loss: 582.0792 - val_mae: 582.0792 - val_mse: 1191341.6250\n",
      "Epoch 88/100\n",
      "18/18 [==============================] - 0s 8ms/step - loss: 106.6756 - mae: 106.6756 - mse: 70513.9609 - val_loss: 575.7366 - val_mae: 575.7366 - val_mse: 1179527.3750\n",
      "Epoch 89/100\n",
      "18/18 [==============================] - 0s 8ms/step - loss: 106.6543 - mae: 106.6543 - mse: 68877.8594 - val_loss: 569.0571 - val_mae: 569.0571 - val_mse: 1164600.5000\n",
      "Epoch 90/100\n",
      "18/18 [==============================] - 0s 7ms/step - loss: 106.3346 - mae: 106.3346 - mse: 67002.5078 - val_loss: 598.8809 - val_mae: 598.8809 - val_mse: 1214197.7500\n",
      "Epoch 91/100\n",
      "18/18 [==============================] - 0s 9ms/step - loss: 112.6600 - mae: 112.6600 - mse: 72214.8047 - val_loss: 598.1422 - val_mae: 598.1422 - val_mse: 1222897.2500\n",
      "Epoch 92/100\n",
      "16/18 [=========================>....] - ETA: 0s - loss: 106.9208 - mae: 106.9208 - mse: 70493.2969INFO:tensorflow:Assets written to: model_experiments\\model_1_dense\\assets\n",
      "18/18 [==============================] - 1s 52ms/step - loss: 108.2687 - mae: 108.2687 - mse: 70735.1875 - val_loss: 562.7973 - val_mae: 562.7973 - val_mse: 1149010.6250\n",
      "Epoch 93/100\n",
      "18/18 [==============================] - 0s 7ms/step - loss: 111.8133 - mae: 111.8133 - mse: 72429.3281 - val_loss: 583.4424 - val_mae: 583.4424 - val_mse: 1193731.6250\n",
      "Epoch 94/100\n",
      "18/18 [==============================] - 0s 8ms/step - loss: 111.0461 - mae: 111.0461 - mse: 72537.1953 - val_loss: 613.0797 - val_mae: 613.0797 - val_mse: 1244740.0000\n",
      "Epoch 95/100\n",
      "18/18 [==============================] - 0s 8ms/step - loss: 108.4037 - mae: 108.4037 - mse: 68472.0469 - val_loss: 579.0474 - val_mae: 579.0474 - val_mse: 1173568.8750\n",
      "Epoch 96/100\n",
      "18/18 [==============================] - 0s 11ms/step - loss: 115.1999 - mae: 115.1999 - mse: 73972.1250 - val_loss: 619.5652 - val_mae: 619.5652 - val_mse: 1268760.0000\n",
      "Epoch 97/100\n",
      "18/18 [==============================] - 0s 9ms/step - loss: 109.8976 - mae: 109.8976 - mse: 71263.9062 - val_loss: 618.7318 - val_mae: 618.7318 - val_mse: 1267060.3750\n",
      "Epoch 98/100\n",
      "18/18 [==============================] - 0s 8ms/step - loss: 111.3124 - mae: 111.3124 - mse: 70764.1172 - val_loss: 562.9769 - val_mae: 562.9769 - val_mse: 1147150.7500\n",
      "Epoch 99/100\n",
      "18/18 [==============================] - 0s 8ms/step - loss: 108.6987 - mae: 108.6987 - mse: 70359.1016 - val_loss: 564.2947 - val_mae: 564.2947 - val_mse: 1147337.5000\n",
      "Epoch 100/100\n",
      "18/18 [==============================] - 0s 8ms/step - loss: 106.9961 - mae: 106.9961 - mse: 68456.9531 - val_loss: 606.9350 - val_mae: 606.9350 - val_mse: 1229846.6250\n"
     ]
    }
   ],
   "source": [
    "# Loading libraries\n",
    "import tensorflow as tf\n",
    "from tensorflow.keras import layers\n",
    "\n",
    "# Setting random seed\n",
    "tf.random.set_seed(42)\n",
    "\n",
    "# Constructing a model\n",
    "model_1 = tf.keras.Sequential([\n",
    "    layers.Dense(128, activation=\"relu\"),\n",
    "    layers.Dense(HORIZON, activation=\"linear\")\n",
    "], name=\"model_1_dense\")\n",
    "\n",
    "# Compiling the model\n",
    "model_1.compile(\n",
    "    loss=\"mae\",\n",
    "    optimizer=tf.keras.optimizers.Adam(),\n",
    "    metrics=[\"mae\", \"mse\"]\n",
    ")\n",
    "\n",
    "# Fitting the model\n",
    "history_1 = model_1.fit(\n",
    "    x=train_windows,\n",
    "    y=train_labels,\n",
    "    epochs=100,\n",
    "    verbose=1,\n",
    "    batch_size=128,\n",
    "    validation_data=(test_windows, test_labels),\n",
    "    callbacks=[create_model_checkpoint(model_name=model_1.name)]\n",
    ")"
   ]
  },
  {
   "cell_type": "code",
   "execution_count": 37,
   "metadata": {},
   "outputs": [
    {
     "name": "stdout",
     "output_type": "stream",
     "text": [
      "18/18 [==============================] - 0s 3ms/step - loss: 606.9350 - mae: 606.9350 - mse: 1229846.7500\n"
     ]
    },
    {
     "data": {
      "text/plain": [
       "[606.9349975585938, 606.9349975585938, 1229846.75]"
      ]
     },
     "execution_count": 37,
     "metadata": {},
     "output_type": "execute_result"
    }
   ],
   "source": [
    "# Evaluating the model on test data\n",
    "model_1.evaluate(test_windows, test_labels)"
   ]
  },
  {
   "cell_type": "code",
   "execution_count": 38,
   "metadata": {},
   "outputs": [
    {
     "name": "stdout",
     "output_type": "stream",
     "text": [
      "18/18 [==============================] - 0s 2ms/step - loss: 562.7974 - mae: 562.7974 - mse: 1149010.6250\n"
     ]
    },
    {
     "data": {
      "text/plain": [
       "[562.79736328125, 562.79736328125, 1149010.625]"
      ]
     },
     "execution_count": 38,
     "metadata": {},
     "output_type": "execute_result"
    }
   ],
   "source": [
    "# Loading the best performing model_1 run and evaluating on test data\n",
    "model_1_best = tf.keras.models.load_model(\"model_experiments/model_1_dense/\")\n",
    "model_1_best.evaluate(test_windows, test_labels)"
   ]
  },
  {
   "cell_type": "code",
   "execution_count": 39,
   "metadata": {},
   "outputs": [],
   "source": [
    "# Creating function to make predictions\n",
    "def make_preds(model, input_data):\n",
    "    forecast = model.predict(input_data)\n",
    "    return tf.squeeze(forecast) # 1D array of predictions"
   ]
  },
  {
   "cell_type": "code",
   "execution_count": 40,
   "metadata": {},
   "outputs": [
    {
     "name": "stdout",
     "output_type": "stream",
     "text": [
      "18/18 [==============================] - 0s 2ms/step\n"
     ]
    },
    {
     "data": {
      "text/plain": [
       "(556,\n",
       " <tf.Tensor: shape=(10,), dtype=float32, numpy=\n",
       " array([8749.524, 8682.506, 8914.29 , 8674.899, 8679.462, 8617.574,\n",
       "        8592.657, 8421.531, 8370.753, 8426.944], dtype=float32)>)"
      ]
     },
     "execution_count": 40,
     "metadata": {},
     "output_type": "execute_result"
    }
   ],
   "source": [
    "# Making predictions with the model 1\n",
    "model_1_preds = make_preds(model_1, test_windows)\n",
    "len(model_1_preds), model_1_preds[:10]"
   ]
  },
  {
   "cell_type": "code",
   "execution_count": 41,
   "metadata": {},
   "outputs": [
    {
     "data": {
      "text/plain": [
       "{'mae': 606.935,\n",
       " 'mse': 1229846.5,\n",
       " 'rmse': 1108.9845,\n",
       " 'mape': 2.756294,\n",
       " 'mase': 1.0662167}"
      ]
     },
     "execution_count": 41,
     "metadata": {},
     "output_type": "execute_result"
    }
   ],
   "source": [
    "# Evaluting model 1 predictions\n",
    "model_1_results = evaluate_preds(\n",
    "    y_true=tf.squeeze(test_labels),\n",
    "    y_pred=model_1_preds\n",
    ")\n",
    "model_1_results"
   ]
  },
  {
   "cell_type": "code",
   "execution_count": 42,
   "metadata": {},
   "outputs": [
    {
     "data": {
      "image/png": "[encoded data removed]",
      "text/plain": [
       "<Figure size 720x504 with 1 Axes>"
      ]
     },
     "metadata": {
      "needs_background": "light"
     },
     "output_type": "display_data"
    }
   ],
   "source": [
    "# Plotting model results\n",
    "offset = 300\n",
    "plt.figure(figsize=(10, 7))\n",
    "\n",
    "plot_time_series(\n",
    "    timestamps=X_test[-len(test_windows):],\n",
    "    values=test_labels[:, ],\n",
    "    start=offset,\n",
    "    label=\"Test Data\"\n",
    ")\n",
    "\n",
    "plot_time_series(\n",
    "    timestamps=X_test[-len(test_windows):],\n",
    "    values=model_1_preds,\n",
    "    start=offset,\n",
    "    label=\"Model 1 Preds\"\n",
    ")"
   ]
  },
  {
   "attachments": {},
   "cell_type": "markdown",
   "metadata": {},
   "source": [
    "### Model 2 - Dense model (window = 30, horizon = 1)"
   ]
  },
  {
   "cell_type": "code",
   "execution_count": 43,
   "metadata": {},
   "outputs": [],
   "source": [
    "# Hyperparameters\n",
    "HORIZON = 1\n",
    "WINDOW_SIZE = 30"
   ]
  },
  {
   "cell_type": "code",
   "execution_count": 44,
   "metadata": {},
   "outputs": [
    {
     "data": {
      "text/plain": [
       "(2757, 2757)"
      ]
     },
     "execution_count": 44,
     "metadata": {},
     "output_type": "execute_result"
    }
   ],
   "source": [
    "# Making windows data\n",
    "full_windows, full_labels = make_windows(\n",
    "    prices,\n",
    "    window_size=WINDOW_SIZE,\n",
    "    horizon=HORIZON\n",
    ")\n",
    "len(full_windows), len(full_labels)"
   ]
  },
  {
   "cell_type": "code",
   "execution_count": 45,
   "metadata": {},
   "outputs": [
    {
     "data": {
      "text/plain": [
       "(2205, 552, 2205, 552)"
      ]
     },
     "execution_count": 45,
     "metadata": {},
     "output_type": "execute_result"
    }
   ],
   "source": [
    "# Making train and test windows\n",
    "train_windows, test_windows, train_labels, test_labels = make_train_test_splits(\n",
    "    windows=full_windows,\n",
    "    labels=full_labels,\n",
    "    test_split=0.2\n",
    ")\n",
    "len(train_windows), len(test_windows), len(train_labels), len(test_labels)"
   ]
  },
  {
   "cell_type": "code",
   "execution_count": 46,
   "metadata": {},
   "outputs": [
    {
     "data": {
      "text/plain": [
       "array([[123.65499, 125.455  , 108.58483, 118.67466, 121.33866, 120.65533,\n",
       "        121.795  , 123.033  , 124.049  , 125.96116, 125.27966, 125.9275 ,\n",
       "        126.38333, 135.24199, 133.20333, 142.76333, 137.92333, 142.95166,\n",
       "        152.55183, 160.33883, 164.31499, 177.63333, 188.29716, 200.70166,\n",
       "        180.355  , 175.03166, 177.6965 , 187.15983, 192.75666, 197.4    ],\n",
       "       [125.455  , 108.58483, 118.67466, 121.33866, 120.65533, 121.795  ,\n",
       "        123.033  , 124.049  , 125.96116, 125.27966, 125.9275 , 126.38333,\n",
       "        135.24199, 133.20333, 142.76333, 137.92333, 142.95166, 152.55183,\n",
       "        160.33883, 164.31499, 177.63333, 188.29716, 200.70166, 180.355  ,\n",
       "        175.03166, 177.6965 , 187.15983, 192.75666, 197.4    , 196.02499],\n",
       "       [108.58483, 118.67466, 121.33866, 120.65533, 121.795  , 123.033  ,\n",
       "        124.049  , 125.96116, 125.27966, 125.9275 , 126.38333, 135.24199,\n",
       "        133.20333, 142.76333, 137.92333, 142.95166, 152.55183, 160.33883,\n",
       "        164.31499, 177.63333, 188.29716, 200.70166, 180.355  , 175.03166,\n",
       "        177.6965 , 187.15983, 192.75666, 197.4    , 196.02499, 198.04883]])"
      ]
     },
     "execution_count": 46,
     "metadata": {},
     "output_type": "execute_result"
    }
   ],
   "source": [
    "# Checking first 3 train windows\n",
    "train_windows[:3]"
   ]
  },
  {
   "cell_type": "code",
   "execution_count": 47,
   "metadata": {},
   "outputs": [
    {
     "name": "stdout",
     "output_type": "stream",
     "text": [
      "INFO:tensorflow:Assets written to: model_experiments\\model_2_dense\\assets\n",
      "INFO:tensorflow:Assets written to: model_experiments\\model_2_dense\\assets\n",
      "INFO:tensorflow:Assets written to: model_experiments\\model_2_dense\\assets\n",
      "INFO:tensorflow:Assets written to: model_experiments\\model_2_dense\\assets\n",
      "INFO:tensorflow:Assets written to: model_experiments\\model_2_dense\\assets\n",
      "INFO:tensorflow:Assets written to: model_experiments\\model_2_dense\\assets\n",
      "INFO:tensorflow:Assets written to: model_experiments\\model_2_dense\\assets\n",
      "INFO:tensorflow:Assets written to: model_experiments\\model_2_dense\\assets\n",
      "INFO:tensorflow:Assets written to: model_experiments\\model_2_dense\\assets\n",
      "INFO:tensorflow:Assets written to: model_experiments\\model_2_dense\\assets\n",
      "INFO:tensorflow:Assets written to: model_experiments\\model_2_dense\\assets\n",
      "INFO:tensorflow:Assets written to: model_experiments\\model_2_dense\\assets\n",
      "INFO:tensorflow:Assets written to: model_experiments\\model_2_dense\\assets\n",
      "INFO:tensorflow:Assets written to: model_experiments\\model_2_dense\\assets\n",
      "INFO:tensorflow:Assets written to: model_experiments\\model_2_dense\\assets\n",
      "INFO:tensorflow:Assets written to: model_experiments\\model_2_dense\\assets\n",
      "INFO:tensorflow:Assets written to: model_experiments\\model_2_dense\\assets\n",
      "INFO:tensorflow:Assets written to: model_experiments\\model_2_dense\\assets\n",
      "INFO:tensorflow:Assets written to: model_experiments\\model_2_dense\\assets\n",
      "INFO:tensorflow:Assets written to: model_experiments\\model_2_dense\\assets\n",
      "INFO:tensorflow:Assets written to: model_experiments\\model_2_dense\\assets\n",
      "INFO:tensorflow:Assets written to: model_experiments\\model_2_dense\\assets\n",
      "INFO:tensorflow:Assets written to: model_experiments\\model_2_dense\\assets\n"
     ]
    }
   ],
   "source": [
    "# Creating a model\n",
    "model_2 = tf.keras.Sequential([\n",
    "    layers.Dense(128, activation=\"relu\"),\n",
    "    layers.Dense(HORIZON)\n",
    "], name=\"model_2_dense\")\n",
    "\n",
    "# Compiling the model\n",
    "model_2.compile(\n",
    "    loss=\"mae\",\n",
    "    optimizer=tf.keras.optimizers.Adam(),\n",
    "    metrics=[\"mae\"]\n",
    ")\n",
    "\n",
    "# Fitting the model\n",
    "history_2 = model_2.fit(\n",
    "    train_windows,\n",
    "    train_labels,\n",
    "    epochs=100,\n",
    "    batch_size=128,\n",
    "    verbose=0,\n",
    "    validation_data=(test_windows, test_labels),\n",
    "    callbacks=[create_model_checkpoint(model_name=model_2.name)]\n",
    ")"
   ]
  },
  {
   "cell_type": "code",
   "execution_count": 48,
   "metadata": {},
   "outputs": [
    {
     "name": "stdout",
     "output_type": "stream",
     "text": [
      "18/18 [==============================] - 0s 4ms/step - loss: 616.6722 - mae: 616.6722\n"
     ]
    },
    {
     "data": {
      "text/plain": [
       "[616.6722412109375, 616.6722412109375]"
      ]
     },
     "execution_count": 48,
     "metadata": {},
     "output_type": "execute_result"
    }
   ],
   "source": [
    "# Evaluating model 2\n",
    "model_2.evaluate(test_windows, test_labels)"
   ]
  },
  {
   "cell_type": "code",
   "execution_count": 49,
   "metadata": {},
   "outputs": [
    {
     "name": "stdout",
     "output_type": "stream",
     "text": [
      "18/18 [==============================] - 0s 3ms/step - loss: 602.0375 - mae: 602.0375\n"
     ]
    },
    {
     "data": {
      "text/plain": [
       "[602.0374755859375, 602.0374755859375]"
      ]
     },
     "execution_count": 49,
     "metadata": {},
     "output_type": "execute_result"
    }
   ],
   "source": [
    "# Loading the best model 2\n",
    "model_2_best = tf.keras.models.load_model(\"model_experiments/model_2_dense/\")\n",
    "model_2_best.evaluate(test_windows, test_labels)"
   ]
  },
  {
   "cell_type": "code",
   "execution_count": 50,
   "metadata": {},
   "outputs": [
    {
     "name": "stdout",
     "output_type": "stream",
     "text": [
      "18/18 [==============================] - 0s 2ms/step\n"
     ]
    }
   ],
   "source": [
    "# getting model 2 predictions\n",
    "model_2_preds = make_preds(\n",
    "    model_2,\n",
    "    input_data=test_windows\n",
    ")"
   ]
  },
  {
   "cell_type": "code",
   "execution_count": 51,
   "metadata": {},
   "outputs": [
    {
     "data": {
      "text/plain": [
       "{'mae': 616.6723,\n",
       " 'mse': 1259239.0,\n",
       " 'rmse': 1122.1582,\n",
       " 'mape': 2.8094363,\n",
       " 'mase': 1.0779493}"
      ]
     },
     "execution_count": 51,
     "metadata": {},
     "output_type": "execute_result"
    }
   ],
   "source": [
    "# Evaluating results\n",
    "model_2_results = evaluate_preds(\n",
    "    y_true=tf.squeeze(test_labels),\n",
    "    y_pred=model_2_preds\n",
    ")\n",
    "model_2_results"
   ]
  },
  {
   "cell_type": "code",
   "execution_count": 52,
   "metadata": {},
   "outputs": [
    {
     "data": {
      "image/png": "[encoded data removed]",
      "text/plain": [
       "<Figure size 720x504 with 1 Axes>"
      ]
     },
     "metadata": {
      "needs_background": "light"
     },
     "output_type": "display_data"
    }
   ],
   "source": [
    "# Visualising model 2 results\n",
    "offset = 300\n",
    "plt.figure(figsize=(10, 7))\n",
    "\n",
    "plot_time_series(\n",
    "    timestamps=X_test[-len(test_windows):],\n",
    "    values=test_labels[:, 0],\n",
    "    start=offset,\n",
    "    label=\"Test Data\"\n",
    ")\n",
    "\n",
    "plot_time_series(\n",
    "    timestamps=X_test[-len(test_windows):],\n",
    "    values=model_2_preds,\n",
    "    start=offset,\n",
    "    label=\"Model 2 Preds\"\n",
    ")"
   ]
  },
  {
   "attachments": {},
   "cell_type": "markdown",
   "metadata": {},
   "source": [
    "### Model 3 - Dense model (window = 30, horizon = 7)"
   ]
  },
  {
   "cell_type": "code",
   "execution_count": 53,
   "metadata": {},
   "outputs": [],
   "source": [
    "# Hyperparameters\n",
    "HORIZON = 7\n",
    "WINDOW_SIZE = 30"
   ]
  },
  {
   "cell_type": "code",
   "execution_count": 54,
   "metadata": {},
   "outputs": [
    {
     "data": {
      "text/plain": [
       "(2751, 2751)"
      ]
     },
     "execution_count": 54,
     "metadata": {},
     "output_type": "execute_result"
    }
   ],
   "source": [
    "# Making windows data\n",
    "full_windows, full_labels = make_windows(\n",
    "    prices,\n",
    "    window_size=WINDOW_SIZE,\n",
    "    horizon=HORIZON\n",
    ")\n",
    "len(full_windows), len(full_labels)"
   ]
  },
  {
   "cell_type": "code",
   "execution_count": 55,
   "metadata": {},
   "outputs": [
    {
     "data": {
      "text/plain": [
       "(2200, 551, 2200, 551)"
      ]
     },
     "execution_count": 55,
     "metadata": {},
     "output_type": "execute_result"
    }
   ],
   "source": [
    "# Making train and test windows\n",
    "train_windows, test_windows, train_labels, test_labels = make_train_test_splits(\n",
    "    windows=full_windows,\n",
    "    labels=full_labels,\n",
    "    test_split=0.2\n",
    ")\n",
    "len(train_windows), len(test_windows), len(train_labels), len(test_labels)"
   ]
  },
  {
   "cell_type": "code",
   "execution_count": 56,
   "metadata": {},
   "outputs": [
    {
     "name": "stdout",
     "output_type": "stream",
     "text": [
      "INFO:tensorflow:Assets written to: model_experiments\\model_3_dense\\assets\n",
      "INFO:tensorflow:Assets written to: model_experiments\\model_3_dense\\assets\n",
      "INFO:tensorflow:Assets written to: model_experiments\\model_3_dense\\assets\n",
      "INFO:tensorflow:Assets written to: model_experiments\\model_3_dense\\assets\n",
      "INFO:tensorflow:Assets written to: model_experiments\\model_3_dense\\assets\n",
      "INFO:tensorflow:Assets written to: model_experiments\\model_3_dense\\assets\n",
      "INFO:tensorflow:Assets written to: model_experiments\\model_3_dense\\assets\n",
      "INFO:tensorflow:Assets written to: model_experiments\\model_3_dense\\assets\n",
      "INFO:tensorflow:Assets written to: model_experiments\\model_3_dense\\assets\n",
      "INFO:tensorflow:Assets written to: model_experiments\\model_3_dense\\assets\n",
      "INFO:tensorflow:Assets written to: model_experiments\\model_3_dense\\assets\n",
      "INFO:tensorflow:Assets written to: model_experiments\\model_3_dense\\assets\n",
      "INFO:tensorflow:Assets written to: model_experiments\\model_3_dense\\assets\n",
      "INFO:tensorflow:Assets written to: model_experiments\\model_3_dense\\assets\n",
      "INFO:tensorflow:Assets written to: model_experiments\\model_3_dense\\assets\n",
      "INFO:tensorflow:Assets written to: model_experiments\\model_3_dense\\assets\n",
      "INFO:tensorflow:Assets written to: model_experiments\\model_3_dense\\assets\n",
      "INFO:tensorflow:Assets written to: model_experiments\\model_3_dense\\assets\n",
      "INFO:tensorflow:Assets written to: model_experiments\\model_3_dense\\assets\n",
      "INFO:tensorflow:Assets written to: model_experiments\\model_3_dense\\assets\n",
      "INFO:tensorflow:Assets written to: model_experiments\\model_3_dense\\assets\n",
      "INFO:tensorflow:Assets written to: model_experiments\\model_3_dense\\assets\n",
      "INFO:tensorflow:Assets written to: model_experiments\\model_3_dense\\assets\n",
      "INFO:tensorflow:Assets written to: model_experiments\\model_3_dense\\assets\n",
      "INFO:tensorflow:Assets written to: model_experiments\\model_3_dense\\assets\n",
      "INFO:tensorflow:Assets written to: model_experiments\\model_3_dense\\assets\n",
      "INFO:tensorflow:Assets written to: model_experiments\\model_3_dense\\assets\n"
     ]
    }
   ],
   "source": [
    "# Creating a model\n",
    "model_3 = tf.keras.Sequential([\n",
    "    layers.Dense(128, activation=\"relu\"),\n",
    "    layers.Dense(HORIZON)\n",
    "], name=\"model_3_dense\")\n",
    "\n",
    "# Compiling the model\n",
    "model_3.compile(\n",
    "    loss=\"mae\",\n",
    "    optimizer=tf.keras.optimizers.Adam(),\n",
    "    metrics=[\"mae\"]\n",
    ")\n",
    "\n",
    "# Fitting the model\n",
    "history_3 = model_3.fit(\n",
    "    train_windows,\n",
    "    train_labels,\n",
    "    epochs=100,\n",
    "    batch_size=128,\n",
    "    verbose=0,\n",
    "    validation_data=(test_windows, test_labels),\n",
    "    callbacks=[create_model_checkpoint(model_name=model_3.name)]\n",
    ")"
   ]
  },
  {
   "cell_type": "code",
   "execution_count": 57,
   "metadata": {},
   "outputs": [
    {
     "name": "stdout",
     "output_type": "stream",
     "text": [
      "18/18 [==============================] - 0s 1ms/step - loss: 1361.4065 - mae: 1361.4065\n"
     ]
    },
    {
     "data": {
      "text/plain": [
       "[1361.406494140625, 1361.406494140625]"
      ]
     },
     "execution_count": 57,
     "metadata": {},
     "output_type": "execute_result"
    }
   ],
   "source": [
    "# Evaluating model 3\n",
    "model_3.evaluate(test_windows, test_labels)"
   ]
  },
  {
   "cell_type": "code",
   "execution_count": 58,
   "metadata": {},
   "outputs": [
    {
     "name": "stdout",
     "output_type": "stream",
     "text": [
      "18/18 [==============================] - 0s 2ms/step\n"
     ]
    },
    {
     "data": {
      "text/plain": [
       "<tf.Tensor: shape=(3, 7), dtype=float32, numpy=\n",
       "array([[9126.128 , 9149.938 , 9105.844 , 9335.867 , 8966.995 , 8757.823 ,\n",
       "        9163.019 ],\n",
       "       [8755.093 , 8938.084 , 8876.472 , 8969.779 , 8795.191 , 8575.734 ,\n",
       "        8931.122 ],\n",
       "       [8562.1045, 8818.906 , 8721.364 , 8733.755 , 8682.541 , 8558.99  ,\n",
       "        8875.105 ]], dtype=float32)>"
      ]
     },
     "execution_count": 58,
     "metadata": {},
     "output_type": "execute_result"
    }
   ],
   "source": [
    "# Making predictions with model 3\n",
    "model_3_preds = make_preds(\n",
    "    model_3,\n",
    "    input_data=test_windows\n",
    ")\n",
    "model_3_preds[:3]"
   ]
  },
  {
   "cell_type": "code",
   "execution_count": 59,
   "metadata": {},
   "outputs": [
    {
     "data": {
      "text/plain": [
       "{'mae': array([ 293.30133,  159.60881,  167.35854,  303.74484,  231.39592,\n",
       "         295.46158,  366.1169 ,  228.60393,  266.21555,  346.15668,\n",
       "         544.64746,  654.706  ,  648.2613 ,  638.5557 ,  377.57953,\n",
       "         281.52316,  320.05942,  589.36926,  607.97656,  556.73987,\n",
       "         312.6128 ,  229.33977,  183.48723,  156.06152,  196.10791,\n",
       "         204.15479,  231.85184,  300.3737 ,  269.57602,  133.00049,\n",
       "         168.19734,  134.25984,  152.57205,  200.62256,  176.80957,\n",
       "         222.30594,  230.53697,  249.05838,  294.91818,  410.04297,\n",
       "         758.2214 ,  347.5696 ,  241.75865,  280.8127 ,  109.54659,\n",
       "         147.82883,  201.0083 ,  154.28209,  169.24107,  228.34367,\n",
       "         174.94176,  173.47168,  197.2936 ,  255.07365,  416.62582,\n",
       "         470.89664,  812.13043,  717.34753,  671.8624 ,  830.8485 ,\n",
       "         563.2889 ,  434.66705,  464.76938,  564.70215,  566.66486,\n",
       "         614.20685,  676.846  ,  726.4604 ,  317.607  ,  181.30482,\n",
       "         214.32854,  215.94518,  298.6932 ,  149.76283,  208.75041,\n",
       "         294.1822 ,  386.8379 ,  536.1197 ,  735.49304, 1005.2801 ,\n",
       "        1033.6345 ,  837.5342 ,  558.7603 ,  304.6303 ,  212.79826,\n",
       "         292.02664,  382.3029 ,  419.26645,  543.2984 ,  873.7499 ,\n",
       "         723.5599 ,  671.65735,  647.8422 ,  471.47754,  267.1045 ,\n",
       "         353.0766 ,  222.04688,  334.72992,  429.382  ,  500.60394,\n",
       "         264.8213 ,  181.58775,  291.55008,  241.63783,  212.85574,\n",
       "         305.0784 ,  393.7059 ,  502.00027,  709.36914,  694.44366,\n",
       "         628.12305,  190.70451,  276.7825 ,  379.47293,  498.6628 ,\n",
       "         513.8065 ,  419.15723,  399.8494 ,  480.95898,  905.2796 ,\n",
       "        1444.217  , 1879.1115 , 1807.8568 , 1836.4601 , 1990.8094 ,\n",
       "        2234.1929 ,  947.24396,  599.41394,  526.7216 ,  599.32605,\n",
       "         589.9756 ,  474.87668,  560.1577 ,  468.7092 ,  351.73892,\n",
       "         229.07903,  370.71185,  199.75252,  176.0277 ,  279.20193,\n",
       "         272.83063,  328.45242,  491.11057,  857.3781 ,  649.79724,\n",
       "         634.63446,  613.7253 ,  215.94412,  342.69232,  227.87737,\n",
       "         331.43158,  268.01807,  234.48006,  353.08356,  367.73807,\n",
       "         176.3817 ,  310.65723,  261.46793,  352.63763,  382.50168,\n",
       "         418.48026,  312.18198,  346.27225,  366.13324,  324.82895,\n",
       "         550.6541 ,  769.9451 ,  906.86035,  711.6849 ,  843.1246 ,\n",
       "         944.6877 , 1102.762  , 1253.5184 , 1273.8162 ,  707.10754,\n",
       "         434.05246,  471.8771 ,  462.97336,  469.8994 ,  522.7183 ,\n",
       "         417.63617,  419.1804 ,  459.3584 ,  720.8753 ,  575.87946,\n",
       "         373.34332,  690.27313,  934.4664 ,  617.54047,  214.7274 ,\n",
       "         181.98228,  182.82115,  224.81209,  256.06528,  415.41226,\n",
       "         433.9604 ,  225.5664 ,  317.94922,  407.30875,  490.41196,\n",
       "         759.4979 ,  992.65125, 1060.2732 ,  680.51605,  505.78403,\n",
       "         193.50041,  262.47195,  225.19601,  202.54533,  306.51117,\n",
       "         217.03488,  171.85324,  196.03781,  224.55037,  173.93918,\n",
       "         221.60574,  283.05566,  175.87053,  171.98424,   72.23507,\n",
       "         248.59123,  186.9834 ,  250.90178,  267.03195,  288.66293,\n",
       "         336.50125,  254.54451,  201.91951,  128.77428,  289.93512,\n",
       "         189.07812,  156.10951,  171.23982,  326.6582 ,  284.95047,\n",
       "         251.44852,  253.39928,  263.5222 ,  264.90918,  370.1063 ,\n",
       "         313.22015,  452.1147 ,  263.76645,  223.05092,  142.74721,\n",
       "         134.23926,  175.46275,  198.54924,  177.7468 ,  182.1377 ,\n",
       "         176.53516,  213.96205,  355.22488,  406.59262,  506.6822 ,\n",
       "         598.0162 ,  873.1246 ,  974.7858 , 1038.3556 , 1139.3057 ,\n",
       "        1370.361  , 1567.2655 , 1598.1351 ,  766.42676,  517.653  ,\n",
       "         348.65903,  288.96527,  441.1328 ,  346.5088 ,  281.47168,\n",
       "         388.37207,  443.90054,  287.58524,  132.24959,  245.01395,\n",
       "         235.19783,  273.51562,  336.7225 ,  551.3226 ,  413.30273,\n",
       "         353.00098,  376.96332,  322.38168,  283.8387 ,  165.7627 ,\n",
       "         212.94392,  164.63142,  181.47768,  131.00209,  159.23117,\n",
       "         230.90332,  280.09125,  397.632  ,  503.2613 ,  568.02106,\n",
       "         470.90973,  509.423  ,  668.82196,  884.227  , 1193.4467 ,\n",
       "        1025.9591 ,  525.8594 ,  231.5692 ,  342.00433,  506.64273,\n",
       "         454.29562,  649.6494 ,  677.4859 ,  696.0177 ,  741.12   ,\n",
       "         692.2374 ,  686.6243 ,  518.5378 ,  258.08133,  152.75642,\n",
       "         155.05623,  277.01508,  303.82047,  257.07086,  379.82632,\n",
       "         352.28613,  491.73578,  388.00894,  245.14803,  196.98605,\n",
       "         196.9428 ,  144.71066,  203.4174 ,  187.28572,  144.36398,\n",
       "         333.46567,  454.773  ,  597.39874,  700.9619 ,  851.4442 ,\n",
       "        1016.858  ,  842.24567,  730.0247 ,  416.59906,  237.77219,\n",
       "         191.72461,  278.3679 ,  576.85504,  773.1378 , 1021.0626 ,\n",
       "        1345.4686 , 1481.2498 , 1465.7782 , 1554.746  ,  697.4908 ,\n",
       "         386.02094,  419.8411 ,  396.49246,  515.7831 ,  624.5063 ,\n",
       "         240.23103,  409.66782,  733.42523,  973.40765, 1029.4832 ,\n",
       "        1180.2992 , 1396.9812 , 1460.7894 , 1450.9695 ,  759.9224 ,\n",
       "         553.39746,  717.6136 ,  612.6032 ,  908.0297 , 1280.4288 ,\n",
       "        1226.7078 ,  977.2984 , 1278.6976 , 1652.0955 , 2237.0076 ,\n",
       "        2056.531  , 1418.733  , 1104.2073 ,  822.27203,  514.55695,\n",
       "         541.7257 ,  606.5812 ,  807.8895 , 1008.9149 , 1012.2132 ,\n",
       "        1182.5848 , 1783.074  , 1715.5525 , 1728.6833 ,  704.0524 ,\n",
       "         442.43332,  384.96597,  323.83286,  205.37863,  331.91293,\n",
       "         530.2768 ,  568.3613 ,  698.93024, 1228.7891 , 2010.8127 ,\n",
       "        2943.172  , 3264.9978 , 3580.7695 , 3569.6177 , 3995.1086 ,\n",
       "        2887.2993 , 1359.7997 , 1004.8019 ,  921.7324 , 1191.2291 ,\n",
       "        1782.3466 , 2141.393  , 2974.0886 , 3538.8098 , 3604.7288 ,\n",
       "        3195.5427 , 3530.9622 , 3616.1882 , 4112.149  , 3952.2456 ,\n",
       "        4624.4307 , 5728.3154 , 4976.2925 , 4844.5054 , 5727.793  ,\n",
       "        4091.8225 , 2764.2942 , 1895.3359 , 3160.4648 , 4256.12   ,\n",
       "        3866.273  ,  704.2868 , 1829.7701 ,  976.4224 , 1986.4744 ,\n",
       "        1789.7734 , 2037.1869 , 2061.875  , 2440.7446 , 3389.5627 ,\n",
       "        3187.982  ,  871.9339 , 1057.4596 , 2011.678  , 2373.5315 ,\n",
       "        2189.799  , 3025.903  , 5432.336  , 4718.876  , 2554.275  ,\n",
       "        2849.111  , 3338.8264 , 5204.3525 , 6127.7354 , 6131.9165 ,\n",
       "        6997.3247 , 6930.574  , 6436.481  , 8738.221  , 5329.021  ,\n",
       "        2300.6658 , 2681.6824 , 1902.735  , 2415.2878 , 3899.5686 ,\n",
       "        3969.8733 , 4499.5938 , 4773.39   , 2919.5842 , 3073.4895 ,\n",
       "        3823.2036 , 6343.1865 , 8317.675  , 8277.052  , 3536.211  ,\n",
       "        2144.101  , 1917.2311 , 3031.9314 , 3520.9565 , 4837.471  ,\n",
       "        4618.0156 , 4626.6353 , 3315.5552 , 4581.188  , 4893.8203 ,\n",
       "        7157.485  , 7519.4526 , 7031.077  , 6260.183  , 3603.486  ,\n",
       "        3419.6702 , 2821.3499 , 1352.7166 , 1447.904  , 1062.5413 ,\n",
       "        1600.0217 , 1879.7567 , 2619.181  , 3020.8872 , 3556.0078 ,\n",
       "        2975.2288 , 2201.7769 , 2484.506  , 3761.0637 , 4855.09   ,\n",
       "        4954.4556 , 3761.155  , 4533.874  , 3330.7522 , 2002.3292 ,\n",
       "        1650.8203 ,  570.6724 ,  610.4085 , 1145.2689 , 1517.8611 ,\n",
       "        1817.048  , 2448.3733 , 4708.7275 , 5282.663  , 5138.101  ,\n",
       "        4428.563  , 3178.0212 , 2589.7622 , 2675.638  , 4205.097  ,\n",
       "        5611.1943 , 6650.582  , 6542.099  , 4592.7544 , 3591.6719 ,\n",
       "        3122.5217 , 2678.7126 , 2366.5442 , 4414.81   , 5326.458  ,\n",
       "        7863.36   , 5757.9497 , 2829.659  , 2696.6584 , 3469.5496 ,\n",
       "        2312.2305 , 1864.5284 , 2558.8906 , 1515.3275 , 3508.8906 ,\n",
       "        2545.8198 , 2554.6992 , 2339.7466 , 4637.903  , 6159.315  ,\n",
       "        6664.13   ], dtype=float32),\n",
       " 'mse': array([1.31847641e+05, 4.10225625e+04, 6.45077227e+04, 1.07447414e+05,\n",
       "        6.56719922e+04, 9.67030156e+04, 1.50827547e+05, 1.08347234e+05,\n",
       "        1.20642047e+05, 1.81828656e+05, 4.43589250e+05, 5.53264875e+05,\n",
       "        4.67927562e+05, 4.48458062e+05, 1.82211172e+05, 1.04865336e+05,\n",
       "        1.92941125e+05, 4.36898156e+05, 3.97793500e+05, 3.37539062e+05,\n",
       "        1.15288000e+05, 8.50976172e+04, 4.32737227e+04, 3.84483398e+04,\n",
       "        5.24962148e+04, 6.58298594e+04, 8.03835625e+04, 9.60323281e+04,\n",
       "        8.97891094e+04, 2.38296582e+04, 3.73688555e+04, 2.38125410e+04,\n",
       "        3.78082070e+04, 7.47869453e+04, 4.64206484e+04, 7.70068984e+04,\n",
       "        9.61737891e+04, 7.28593047e+04, 1.23702484e+05, 2.04518578e+05,\n",
       "        6.01411312e+05, 1.52207328e+05, 7.33933516e+04, 9.05080156e+04,\n",
       "        1.97294688e+04, 3.39489609e+04, 7.05457422e+04, 4.09836250e+04,\n",
       "        4.00512773e+04, 5.69288984e+04, 3.99034102e+04, 5.30023320e+04,\n",
       "        4.70801562e+04, 9.25110859e+04, 2.75477719e+05, 4.01512312e+05,\n",
       "        7.83665875e+05, 6.21119875e+05, 5.18596031e+05, 7.35230812e+05,\n",
       "        3.50538156e+05, 2.56218766e+05, 3.89280656e+05, 4.70899188e+05,\n",
       "        4.92092938e+05, 5.14549094e+05, 5.32842625e+05, 5.42161312e+05,\n",
       "        1.12467688e+05, 4.14791484e+04, 5.95660859e+04, 5.83628359e+04,\n",
       "        1.09210164e+05, 4.25494688e+04, 5.39535859e+04, 1.09792445e+05,\n",
       "        1.93766078e+05, 4.58950156e+05, 7.98988375e+05, 1.15433675e+06,\n",
       "        1.12592862e+06, 7.47687125e+05, 3.18826281e+05, 1.18459984e+05,\n",
       "        5.92159805e+04, 1.12569336e+05, 2.01858984e+05, 2.86657188e+05,\n",
       "        4.22240719e+05, 8.55594125e+05, 6.18445562e+05, 5.51917562e+05,\n",
       "        4.92020969e+05, 2.91819656e+05, 1.01733805e+05, 1.34592078e+05,\n",
       "        6.38198945e+04, 1.71509859e+05, 2.38419266e+05, 2.70562438e+05,\n",
       "        1.06703664e+05, 3.76366484e+04, 1.55158766e+05, 7.36550000e+04,\n",
       "        1.05297266e+05, 1.55283922e+05, 2.13531828e+05, 3.36387281e+05,\n",
       "        6.39239688e+05, 5.72094062e+05, 4.38330000e+05, 5.08239102e+04,\n",
       "        9.41942734e+04, 2.03194719e+05, 3.25580344e+05, 3.34851688e+05,\n",
       "        2.49019719e+05, 1.76818469e+05, 2.47030859e+05, 1.65888288e+06,\n",
       "        3.30134350e+06, 4.90059600e+06, 4.64777750e+06, 4.55597200e+06,\n",
       "        4.51966650e+06, 5.04780350e+06, 1.11046525e+06, 4.16331438e+05,\n",
       "        4.35781281e+05, 4.74779469e+05, 4.36991844e+05, 3.71731031e+05,\n",
       "        4.62276031e+05, 2.99492594e+05, 1.86926469e+05, 1.00095203e+05,\n",
       "        1.46363031e+05, 6.25206484e+04, 5.42319961e+04, 1.25237125e+05,\n",
       "        1.15291820e+05, 1.95431094e+05, 3.58339500e+05, 8.04355562e+05,\n",
       "        5.16018500e+05, 4.73190562e+05, 4.04152219e+05, 9.77327422e+04,\n",
       "        1.65452500e+05, 6.62192734e+04, 1.36235828e+05, 8.74644766e+04,\n",
       "        6.95017344e+04, 1.62324078e+05, 1.57073156e+05, 3.69847969e+04,\n",
       "        1.43653422e+05, 1.17418891e+05, 1.77297453e+05, 1.74478359e+05,\n",
       "        1.97879109e+05, 1.22366586e+05, 1.73797672e+05, 1.53818922e+05,\n",
       "        1.24595383e+05, 3.86667250e+05, 6.48616438e+05, 1.02062088e+06,\n",
       "        8.86676938e+05, 1.11714588e+06, 1.26694000e+06, 1.52946625e+06,\n",
       "        1.73527538e+06, 1.64873238e+06, 5.34355312e+05, 3.39376312e+05,\n",
       "        4.42508312e+05, 3.75391812e+05, 3.80876750e+05, 4.03619531e+05,\n",
       "        2.66896031e+05, 2.24842875e+05, 3.59998438e+05, 7.22850438e+05,\n",
       "        4.78599312e+05, 1.58569078e+05, 5.99222312e+05, 9.57673688e+05,\n",
       "        4.29654219e+05, 6.53935352e+04, 4.28789570e+04, 8.16060703e+04,\n",
       "        7.25893672e+04, 1.04206508e+05, 2.03837203e+05, 1.98883859e+05,\n",
       "        6.68686719e+04, 1.16743867e+05, 2.34252297e+05, 3.71570156e+05,\n",
       "        8.12924188e+05, 1.17927588e+06, 1.27746488e+06, 5.24585438e+05,\n",
       "        3.38547406e+05, 7.41674453e+04, 1.62322766e+05, 6.31797070e+04,\n",
       "        5.49665117e+04, 1.39744812e+05, 7.65068047e+04, 6.39146562e+04,\n",
       "        5.11156875e+04, 7.15482500e+04, 4.01606133e+04, 7.98958750e+04,\n",
       "        9.80213828e+04, 4.82817773e+04, 3.65654922e+04, 7.26132910e+03,\n",
       "        7.10932500e+04, 5.41305703e+04, 9.37611641e+04, 1.23328125e+05,\n",
       "        1.21120578e+05, 1.33768562e+05, 8.68807578e+04, 7.81777891e+04,\n",
       "        2.89262207e+04, 1.16636070e+05, 4.89504570e+04, 3.89631328e+04,\n",
       "        4.28610508e+04, 1.28550664e+05, 9.39425000e+04, 7.98544609e+04,\n",
       "        9.40988047e+04, 9.36567109e+04, 1.24399984e+05, 1.87114172e+05,\n",
       "        1.12649055e+05, 2.19636078e+05, 8.52132109e+04, 7.96792344e+04,\n",
       "        2.62600137e+04, 2.54310117e+04, 4.45016562e+04, 5.66497305e+04,\n",
       "        4.57115000e+04, 4.95369297e+04, 4.04002188e+04, 7.26388828e+04,\n",
       "        1.96709469e+05, 2.45579609e+05, 3.38999656e+05, 4.24759844e+05,\n",
       "        1.13459450e+06, 1.46943925e+06, 1.73746712e+06, 1.85220688e+06,\n",
       "        2.33095925e+06, 2.73659525e+06, 2.69524000e+06, 6.94017812e+05,\n",
       "        2.91963469e+05, 1.63003672e+05, 1.41667797e+05, 2.57709734e+05,\n",
       "        1.44674234e+05, 1.15608812e+05, 1.88775234e+05, 2.34751672e+05,\n",
       "        1.23143641e+05, 2.49762539e+04, 9.28519609e+04, 7.48142578e+04,\n",
       "        1.18805555e+05, 1.66559859e+05, 3.90937969e+05, 2.46624531e+05,\n",
       "        1.58779578e+05, 1.90371672e+05, 1.16124930e+05, 1.65142578e+05,\n",
       "        5.69681914e+04, 7.04793047e+04, 4.12066758e+04, 5.07914805e+04,\n",
       "        2.84371465e+04, 2.88105879e+04, 6.89456484e+04, 9.65634609e+04,\n",
       "        2.27183500e+05, 3.60612344e+05, 4.06078188e+05, 2.44712781e+05,\n",
       "        3.73464719e+05, 5.90209938e+05, 8.94658125e+05, 1.72821188e+06,\n",
       "        1.13675412e+06, 3.58991250e+05, 8.08722734e+04, 1.81044609e+05,\n",
       "        3.13586062e+05, 2.71268562e+05, 4.88448406e+05, 5.84128062e+05,\n",
       "        6.30631812e+05, 6.83888562e+05, 5.48316625e+05, 5.06094500e+05,\n",
       "        3.09226094e+05, 9.39985625e+04, 3.71745039e+04, 4.50105703e+04,\n",
       "        8.83370703e+04, 1.30610500e+05, 9.24181719e+04, 1.76555391e+05,\n",
       "        1.67024078e+05, 2.65449688e+05, 1.80749594e+05, 7.93833203e+04,\n",
       "        4.76028672e+04, 6.12692852e+04, 3.40318789e+04, 5.75936875e+04,\n",
       "        4.19608555e+04, 3.88736875e+04, 1.79589844e+05, 3.36504688e+05,\n",
       "        5.45939125e+05, 7.55372312e+05, 9.12684938e+05, 1.16081150e+06,\n",
       "        7.59079938e+05, 5.76594875e+05, 1.94639828e+05, 8.64646797e+04,\n",
       "        5.28766602e+04, 1.19536555e+05, 7.20315312e+05, 1.24519412e+06,\n",
       "        1.75680012e+06, 2.38089175e+06, 2.56905150e+06, 2.32030075e+06,\n",
       "        2.49579275e+06, 6.72944000e+05, 2.58540094e+05, 2.51408656e+05,\n",
       "        2.37158078e+05, 3.81453344e+05, 4.94706562e+05, 8.50364609e+04,\n",
       "        2.57033625e+05, 9.75429188e+05, 1.70768912e+06, 1.95356812e+06,\n",
       "        2.08096938e+06, 2.36649950e+06, 2.38825050e+06, 2.20798275e+06,\n",
       "        7.87278625e+05, 4.67016250e+05, 7.90855375e+05, 5.10057500e+05,\n",
       "        9.93904688e+05, 2.16355300e+06, 2.19749750e+06, 1.69458388e+06,\n",
       "        2.31375025e+06, 3.61195400e+06, 5.61696250e+06, 4.53455550e+06,\n",
       "        2.21392475e+06, 1.39821288e+06, 7.73892875e+05, 5.06706719e+05,\n",
       "        4.62802344e+05, 8.01114438e+05, 1.07382512e+06, 1.50493762e+06,\n",
       "        1.26910362e+06, 2.05385088e+06, 3.69640950e+06, 3.13471650e+06,\n",
       "        3.04270350e+06, 6.10419000e+05, 3.17435562e+05, 2.16876859e+05,\n",
       "        1.87321172e+05, 8.51082500e+04, 1.58017766e+05, 4.13165344e+05,\n",
       "        3.91801906e+05, 5.95898812e+05, 2.45793925e+06, 7.06500550e+06,\n",
       "        1.24804030e+07, 1.50249550e+07, 1.62077870e+07, 1.48112890e+07,\n",
       "        1.64066830e+07, 8.48245900e+06, 1.96937088e+06, 1.45992200e+06,\n",
       "        1.71409775e+06, 2.86643775e+06, 5.64672800e+06, 6.74450300e+06,\n",
       "        1.18934580e+07, 1.51412460e+07, 1.48123590e+07, 1.40609110e+07,\n",
       "        1.75801800e+07, 1.76367740e+07, 2.06654540e+07, 2.16493920e+07,\n",
       "        3.20254600e+07, 4.47769360e+07, 3.60450920e+07, 3.06267960e+07,\n",
       "        3.81701320e+07, 2.15912180e+07, 1.11027150e+07, 5.56007650e+06,\n",
       "        1.46971180e+07, 2.12919580e+07, 1.68145020e+07, 9.22586875e+05,\n",
       "        3.89240450e+06, 1.28573662e+06, 8.08149450e+06, 6.44029100e+06,\n",
       "        7.30916400e+06, 7.04160150e+06, 7.58827500e+06, 1.33148800e+07,\n",
       "        1.14777820e+07, 1.03335506e+06, 1.58597388e+06, 6.33905150e+06,\n",
       "        8.04797950e+06, 5.57371550e+06, 1.12612180e+07, 3.16943040e+07,\n",
       "        2.52075420e+07, 1.04205060e+07, 1.25238020e+07, 1.49417600e+07,\n",
       "        3.35301800e+07, 5.19857160e+07, 5.55507920e+07, 6.55588560e+07,\n",
       "        6.14079560e+07, 5.15665280e+07, 7.90532640e+07, 3.14706840e+07,\n",
       "        6.68407050e+06, 9.64741300e+06, 6.95822250e+06, 1.28133930e+07,\n",
       "        2.50258740e+07, 2.45577080e+07, 2.68539620e+07, 2.95810500e+07,\n",
       "        1.04429230e+07, 1.14657760e+07, 2.18491620e+07, 4.81043120e+07,\n",
       "        7.75050000e+07, 6.97609760e+07, 1.61348410e+07, 6.80322800e+06,\n",
       "        5.94162850e+06, 1.37129760e+07, 1.45862350e+07, 2.60316580e+07,\n",
       "        2.35805720e+07, 2.64392000e+07, 2.20536620e+07, 3.15241440e+07,\n",
       "        3.34721240e+07, 6.31288360e+07, 6.60501120e+07, 5.56360960e+07,\n",
       "        4.10634320e+07, 1.49769060e+07, 1.38489740e+07, 1.12437850e+07,\n",
       "        2.97026000e+06, 3.20736925e+06, 2.29328800e+06, 4.38224900e+06,\n",
       "        7.22303550e+06, 1.01399950e+07, 1.13299470e+07, 1.70005400e+07,\n",
       "        1.18904810e+07, 5.62047200e+06, 9.63871900e+06, 2.04089220e+07,\n",
       "        2.70557440e+07, 2.74546700e+07, 1.62497530e+07, 2.08203380e+07,\n",
       "        1.20379730e+07, 5.20754850e+06, 3.94566600e+06, 5.46529375e+05,\n",
       "        4.44245500e+05, 1.78589188e+06, 3.56072375e+06, 4.54780500e+06,\n",
       "        1.13040470e+07, 2.84080160e+07, 3.50070440e+07, 3.18743660e+07,\n",
       "        2.29814260e+07, 1.09959890e+07, 8.55969000e+06, 1.00859340e+07,\n",
       "        2.44584620e+07, 4.10574960e+07, 5.23058000e+07, 4.71559120e+07,\n",
       "        2.65110300e+07, 1.55780690e+07, 1.38581060e+07, 9.39320700e+06,\n",
       "        7.63065850e+06, 2.24017000e+07, 3.71053480e+07, 6.65049320e+07,\n",
       "        3.61559520e+07, 1.21093700e+07, 8.69637500e+06, 1.42856110e+07,\n",
       "        6.25462750e+06, 5.23554450e+06, 7.97652700e+06, 4.87053900e+06,\n",
       "        1.38385090e+07, 7.60195650e+06, 8.67973600e+06, 8.74681500e+06,\n",
       "        3.10297820e+07, 5.46500200e+07, 5.56877880e+07], dtype=float32),\n",
       " 'rmse': array([ 363.1083 ,  202.54027,  253.9837 ,  327.79172,  256.26547,\n",
       "         310.9711 ,  388.36523,  329.1614 ,  347.33563,  426.41373,\n",
       "         666.02496,  743.81775,  684.0523 ,  669.6701 ,  426.862  ,\n",
       "         323.82916,  439.25064,  660.9827 ,  630.70874,  580.98114,\n",
       "         339.54086,  291.71497,  208.02338,  196.08249,  229.12053,\n",
       "         256.5733 ,  283.51996,  309.89084,  299.64832,  154.36858,\n",
       "         193.31026,  154.31313,  194.44333,  273.47202,  215.45451,\n",
       "         277.50116,  310.119  ,  269.92462,  351.71365,  452.2373 ,\n",
       "         775.50714,  390.13757,  270.91208,  300.8455 ,  140.46162,\n",
       "         184.25244,  265.6045 ,  202.44412,  200.12816,  238.59778,\n",
       "         199.75838,  230.22235,  216.97961,  304.15634,  524.85974,\n",
       "         633.64996,  885.249  ,  788.1116 ,  720.1361 ,  857.456  ,\n",
       "         592.0626 ,  506.18057,  623.9236 ,  686.22095,  701.49335,\n",
       "         717.3208 ,  729.9607 ,  736.31604,  335.36203,  203.6643 ,\n",
       "         244.06165,  241.58401,  330.4696 ,  206.27522,  232.27911,\n",
       "         331.34943,  440.1887 ,  677.4586 ,  893.8615 , 1074.4006 ,\n",
       "        1061.0979 ,  864.689  ,  564.64703,  344.18018,  243.34334,\n",
       "         335.51355,  449.2872 ,  535.40375,  649.80054,  924.98334,\n",
       "         786.4131 ,  742.91156,  701.4421 ,  540.20337,  318.95737,\n",
       "         366.86792,  252.62599,  414.13748,  488.28195,  520.1562 ,\n",
       "         326.65527,  194.00168,  393.90198,  271.39456,  324.4954 ,\n",
       "         394.06082,  462.09503,  579.989  ,  799.52466,  756.369  ,\n",
       "         662.06494,  225.44159,  306.91086,  450.77124,  570.5965 ,\n",
       "         578.6637 ,  499.01877,  420.4979 ,  497.022  , 1287.9763 ,\n",
       "        1816.96   , 2213.729  , 2155.8704 , 2134.4724 , 2125.9507 ,\n",
       "        2246.7317 , 1053.7861 ,  645.2375 ,  660.1373 ,  689.0424 ,\n",
       "         661.0536 ,  609.6975 ,  679.9088 ,  547.25916,  432.34995,\n",
       "         316.37827,  382.57422,  250.04129,  232.87764,  353.88858,\n",
       "         339.54648,  442.0759 ,  598.6146 ,  896.8587 ,  718.3443 ,\n",
       "         687.8885 ,  635.7297 ,  312.62238,  406.7585 ,  257.33105,\n",
       "         369.10138,  295.74393,  263.6318 ,  402.89462,  396.32455,\n",
       "         192.31432,  379.0164 ,  342.6644 ,  421.06705,  417.70605,\n",
       "         444.83606,  349.80936,  416.89047,  392.19754,  352.9807 ,\n",
       "         621.82574,  805.36725, 1010.2578 ,  941.63525, 1056.9512 ,\n",
       "        1125.5844 , 1236.716  , 1317.2985 , 1284.0298 ,  730.9961 ,\n",
       "         582.5601 ,  665.213  ,  612.69226,  617.1521 ,  635.3106 ,\n",
       "         516.6198 ,  474.176  ,  599.9987 ,  850.2061 ,  691.8087 ,\n",
       "         398.20734,  774.0945 ,  978.60803,  655.48016,  255.7216 ,\n",
       "         207.07234,  285.66776,  269.42413,  322.81033,  451.48334,\n",
       "         445.96396,  258.58978,  341.678  ,  483.9962 ,  609.56555,\n",
       "         901.6231 , 1085.9447 , 1130.2499 ,  724.2827 ,  581.84827,\n",
       "         272.337  ,  402.893  ,  251.35574,  234.44939,  373.8246 ,\n",
       "         276.59863,  252.81348,  226.08778,  267.48505,  200.40114,\n",
       "         282.65857,  313.08368,  219.73116,  191.22105,   85.21343,\n",
       "         266.63318,  232.65977,  306.20444,  351.18103,  348.0238 ,\n",
       "         365.74384,  294.75543,  279.6029 ,  170.0771 ,  341.52023,\n",
       "         221.2475 ,  197.39081,  207.0291 ,  358.5396 ,  306.5004 ,\n",
       "         282.58533,  306.75528,  306.03384,  352.70383,  432.56696,\n",
       "         335.63232,  468.65347,  291.91302,  282.27512,  162.04942,\n",
       "         159.47104,  210.95416,  238.01204,  213.80247,  222.56894,\n",
       "         200.99806,  269.51602,  443.5194 ,  495.5599 ,  582.23676,\n",
       "         651.736  , 1065.1735 , 1212.2043 , 1318.1301 , 1360.9581 ,\n",
       "        1526.7479 , 1654.2657 , 1641.7186 ,  833.07733,  540.3364 ,\n",
       "         403.73712,  376.38782,  507.65118,  380.36066,  340.01297,\n",
       "         434.48273,  484.51178,  350.91827,  158.03877,  304.7162 ,\n",
       "         273.52194,  344.68182,  408.11746,  625.2503 ,  496.61307,\n",
       "         398.47156,  436.316  ,  340.7711 ,  406.37738,  238.6801 ,\n",
       "         265.4794 ,  202.99428,  225.36966,  168.63318,  169.73682,\n",
       "         262.57504,  310.7466 ,  476.6377 ,  600.5101 ,  637.2426 ,\n",
       "         494.68454,  611.1176 ,  768.2512 ,  945.8637 , 1314.6147 ,\n",
       "        1066.1868 ,  599.1588 ,  284.3805 ,  425.49338,  559.98755,\n",
       "         520.8345 ,  698.89087,  764.2827 ,  794.1233 ,  826.9755 ,\n",
       "         740.4841 ,  711.4032 ,  556.081  ,  306.59186,  192.80692,\n",
       "         212.15695,  297.2155 ,  361.40076,  304.00357,  420.18494,\n",
       "         408.6858 ,  515.2181 ,  425.14655,  281.75046,  218.18082,\n",
       "         247.52634,  184.47731,  239.98685,  204.84349,  197.16411,\n",
       "         423.78043,  580.0903 ,  738.87695,  869.1216 ,  955.34546,\n",
       "        1077.4097 ,  871.25195,  759.33844,  441.18005,  294.04877,\n",
       "         229.94925,  345.7406 ,  848.7139 , 1115.8827 , 1325.4434 ,\n",
       "        1543.0138 , 1602.826  , 1523.2533 , 1579.8079 ,  820.33167,\n",
       "         508.46838,  501.40668,  486.9888 ,  617.6191 ,  703.3538 ,\n",
       "         291.6101 ,  506.98483,  987.6382 , 1306.7858 , 1397.701  ,\n",
       "        1442.5565 , 1538.3431 , 1545.3966 , 1485.9282 ,  887.28723,\n",
       "         683.38586,  889.3005 ,  714.1831 ,  996.9477 , 1470.9021 ,\n",
       "        1482.3959 , 1301.7618 , 1521.1017 , 1900.5142 , 2370.0132 ,\n",
       "        2129.4495 , 1487.9263 , 1182.4606 ,  879.7118 ,  711.8334 ,\n",
       "         680.2958 ,  895.05   , 1036.2554 , 1226.759  , 1126.545  ,\n",
       "        1433.1262 , 1922.6049 , 1770.5131 , 1744.3347 ,  781.29315,\n",
       "         563.4142 ,  465.7004 ,  432.80615,  291.7332 ,  397.5145 ,\n",
       "         642.7794 ,  625.9408 ,  771.9448 , 1567.7816 , 2658.0078 ,\n",
       "        3532.7615 , 3876.2036 , 4025.8896 , 3848.5437 , 4050.5164 ,\n",
       "        2912.466  , 1403.3428 , 1208.2723 , 1309.2356 , 1693.0558 ,\n",
       "        2376.2844 , 2597.018  , 3448.6892 , 3891.1753 , 3848.6829 ,\n",
       "        3749.788  , 4192.8726 , 4199.6157 , 4545.9272 , 4652.8906 ,\n",
       "        5659.104  , 6691.557  , 6003.7563 , 5534.148  , 6178.198  ,\n",
       "        4646.6353 , 3332.0737 , 2357.9814 , 3833.6821 , 4614.321  ,\n",
       "        4100.549  ,  960.51385, 1972.9177 , 1133.9033 , 2842.7969 ,\n",
       "        2537.773  , 2703.5466 , 2653.6016 , 2754.6824 , 3648.956  ,\n",
       "        3387.8875 , 1016.5407 , 1259.3545 , 2517.7473 , 2836.896  ,\n",
       "        2360.8718 , 3355.774  , 5629.7695 , 5020.7114 , 3228.0808 ,\n",
       "        3538.8984 , 3865.4573 , 5790.525  , 7210.1123 , 7453.24   ,\n",
       "        8096.8423 , 7836.3228 , 7180.984  , 8891.19   , 5609.874  ,\n",
       "        2585.357  , 3106.0286 , 2637.8442 , 3579.58   , 5002.587  ,\n",
       "        4955.573  , 5182.081  , 5438.846  , 3231.5513 , 3386.1152 ,\n",
       "        4674.3086 , 6935.727  , 8803.692  , 8352.304  , 4016.8198 ,\n",
       "        2608.2998 , 2437.5457 , 3703.1035 , 3819.1929 , 5102.123  ,\n",
       "        4855.983  , 5141.9062 , 4696.133  , 5614.6367 , 5785.51   ,\n",
       "        7945.3657 , 8127.122  , 7458.961  , 6408.0757 , 3870.0007 ,\n",
       "        3721.421  , 3353.1753 , 1723.4442 , 1790.913  , 1514.3606 ,\n",
       "        2093.382  , 2687.5706 , 3184.336  , 3365.9988 , 4123.171  ,\n",
       "        3448.2576 , 2370.7534 , 3104.6287 , 4517.6235 , 5201.5137 ,\n",
       "        5239.72   , 4031.0981 , 4562.9307 , 3469.5781 , 2282.0054 ,\n",
       "        1986.3701 ,  739.27625,  666.51746, 1336.3727 , 1886.988  ,\n",
       "        2132.5583 , 3362.1492 , 5329.917  , 5916.6753 , 5645.739  ,\n",
       "        4793.8945 , 3316.02   , 2925.6948 , 3175.836  , 4945.55   ,\n",
       "        6407.6123 , 7232.275  , 6867.016  , 5148.886  , 3946.9062 ,\n",
       "        3722.6477 , 3064.834  , 2762.3647 , 4733.0435 , 6091.416  ,\n",
       "        8155.0557 , 6012.982  , 3479.852  , 2948.9617 , 3779.631  ,\n",
       "        2500.9253 , 2288.131  , 2824.2747 , 2206.9297 , 3720.0146 ,\n",
       "        2757.1646 , 2946.1392 , 2957.5015 , 5570.438  , 7392.565  ,\n",
       "        7462.4253 ], dtype=float32),\n",
       " 'mape': array([ 3.3576396 ,  1.8380082 ,  1.9076642 ,  3.533884  ,  2.7278066 ,\n",
       "         3.5143847 ,  4.401416  ,  2.8608356 ,  3.4470205 ,  4.5479593 ,\n",
       "         7.4054136 ,  8.967362  ,  8.922331  ,  8.81575   ,  5.2489614 ,\n",
       "         3.7921984 ,  4.2286034 ,  7.8537116 ,  8.142001  ,  7.4365697 ,\n",
       "         4.195418  ,  3.0543966 ,  2.489862  ,  2.1152816 ,  2.6303723 ,\n",
       "         2.731838  ,  3.1119664 ,  4.055214  ,  3.6406868 ,  1.809974  ,\n",
       "         2.3028862 ,  1.8621889 ,  2.1598046 ,  2.9241447 ,  2.5411005 ,\n",
       "         3.1751058 ,  3.3472652 ,  3.5624151 ,  4.149825  ,  5.6784663 ,\n",
       "        10.466392  ,  4.8173785 ,  3.3486314 ,  3.8866632 ,  1.5172688 ,\n",
       "         2.0304399 ,  2.750313  ,  2.1195443 ,  2.337884  ,  3.1585727 ,\n",
       "         2.408303  ,  2.3762872 ,  2.7411876 ,  3.453327  ,  5.465297  ,\n",
       "         5.994176  , 10.442335  ,  9.08518   ,  8.435564  , 10.354877  ,\n",
       "         6.9773393 ,  5.2528152 ,  5.435877  ,  6.565902  ,  6.481559  ,\n",
       "         6.965816  ,  7.6952314 ,  8.268179  ,  3.6115122 ,  2.066441  ,\n",
       "         2.4542737 ,  2.509407  ,  3.5121713 ,  1.7738898 ,  2.4528346 ,\n",
       "         3.4073424 ,  4.349485  ,  5.8328366 ,  7.9123816 , 10.8366165 ,\n",
       "        11.090844  ,  8.946739  ,  5.971732  ,  3.2252333 ,  2.2511249 ,\n",
       "         3.0547185 ,  3.947841  ,  4.2480865 ,  5.4865155 ,  8.7767315 ,\n",
       "         7.1785355 ,  6.6112623 ,  6.3429565 ,  4.6006613 ,  2.6165648 ,\n",
       "         3.4853752 ,  2.1947253 ,  3.4136481 ,  4.3873286 ,  5.1279774 ,\n",
       "         2.7310512 ,  1.8542161 ,  2.938328  ,  2.4948397 ,  2.3103228 ,\n",
       "         3.3186336 ,  4.365099  ,  5.6005263 ,  8.10777   ,  7.946523  ,\n",
       "         7.204479  ,  2.1907427 ,  3.1290498 ,  4.246702  ,  5.5606275 ,\n",
       "         5.740955  ,  4.834994  ,  4.661625  ,  5.657432  , 13.298956  ,\n",
       "        22.440588  , 31.016546  , 31.681337  , 33.9529    , 36.76365   ,\n",
       "        41.510662  , 17.909412  , 11.0554285 ,  9.05829   , 10.174787  ,\n",
       "         9.600706  ,  7.4029098 ,  8.585783  ,  7.18711   ,  5.3992424 ,\n",
       "         3.493684  ,  5.6986985 ,  3.0077474 ,  2.8041975 ,  4.4593835 ,\n",
       "         4.338946  ,  5.207894  ,  7.3230104 , 12.76062   ,  9.451735  ,\n",
       "         9.089865  ,  8.687421  ,  2.9975948 ,  4.7587533 ,  3.1711447 ,\n",
       "         4.596385  ,  3.8297567 ,  3.358521  ,  5.1193023 ,  5.3441525 ,\n",
       "         2.5327933 ,  4.373469  ,  3.661465  ,  4.94392   ,  5.391587  ,\n",
       "         5.879393  ,  4.3305464 ,  4.709488  ,  5.0119157 ,  4.4058537 ,\n",
       "         7.275551  , 10.118333  , 11.399718  ,  8.503745  ,  9.858253  ,\n",
       "        10.863303  , 12.561872  , 14.221424  , 14.3431425 ,  7.85954   ,\n",
       "         4.6110697 ,  4.878018  ,  4.7755775 ,  4.843483  ,  5.436234  ,\n",
       "         4.342036  ,  4.4974065 ,  5.1628613 ,  8.084655  ,  6.470821  ,\n",
       "         4.0388336 ,  7.2083416 ,  9.718366  ,  6.402581  ,  2.2424264 ,\n",
       "         1.9193918 ,  1.9005421 ,  2.4058347 ,  2.7933073 ,  4.5869427 ,\n",
       "         4.8025756 ,  2.4875412 ,  3.449369  ,  4.351375  ,  5.1833673 ,\n",
       "         7.830816  , 10.248945  , 10.901039  ,  6.970827  ,  5.136191  ,\n",
       "         1.9457632 ,  2.6310682 ,  2.3284662 ,  2.0751927 ,  3.1249804 ,\n",
       "         2.2494652 ,  1.7580447 ,  2.0315626 ,  2.3403292 ,  1.8301142 ,\n",
       "         2.3247867 ,  3.011023  ,  1.8577307 ,  1.8254535 ,  0.7682882 ,\n",
       "         2.64688   ,  1.9729581 ,  2.635356  ,  2.8009338 ,  3.0470264 ,\n",
       "         3.5715308 ,  2.7075396 ,  2.1290574 ,  1.3795279 ,  3.1748393 ,\n",
       "         2.0698562 ,  1.7069658 ,  1.8745258 ,  3.5802968 ,  3.1167963 ,\n",
       "         2.7473547 ,  2.7519395 ,  2.8448505 ,  2.846837  ,  3.9817982 ,\n",
       "         3.3803468 ,  4.8668404 ,  2.841774  ,  2.3903823 ,  1.5434904 ,\n",
       "         1.4537847 ,  1.9088957 ,  2.158664  ,  1.9343885 ,  1.9810084 ,\n",
       "         1.9119005 ,  2.290956  ,  3.7633724 ,  4.2818127 ,  5.3068595 ,\n",
       "         6.202289  ,  8.571812  ,  9.288378  ,  9.57121   , 10.389246  ,\n",
       "        12.3673725 , 13.939726  , 14.131817  ,  6.7540517 ,  4.559673  ,\n",
       "         3.0385392 ,  2.4862633 ,  3.7956862 ,  3.030679  ,  2.411508  ,\n",
       "         3.3141215 ,  3.787515  ,  2.4569128 ,  1.1342161 ,  2.1080635 ,\n",
       "         2.018586  ,  2.3313541 ,  2.825803  ,  4.587292  ,  3.4298544 ,\n",
       "         2.9379606 ,  3.1398692 ,  2.6985679 ,  2.354499  ,  1.4166783 ,\n",
       "         1.83744   ,  1.4070055 ,  1.5788933 ,  1.1284664 ,  1.381268  ,\n",
       "         2.0022867 ,  2.427306  ,  3.40301   ,  4.3088036 ,  4.9033823 ,\n",
       "         4.1349707 ,  4.691363  ,  6.3225613 ,  8.398323  , 11.610307  ,\n",
       "         9.999674  ,  5.1575513 ,  2.2773883 ,  3.3025343 ,  4.891086  ,\n",
       "         4.3555202 ,  6.1729875 ,  6.3428984 ,  6.457807  ,  6.8317785 ,\n",
       "         6.3536773 ,  6.2856684 ,  4.745517  ,  2.3659127 ,  1.4247807 ,\n",
       "         1.4625852 ,  2.6012025 ,  2.8867645 ,  2.4294934 ,  3.5632405 ,\n",
       "         3.2701454 ,  4.5698256 ,  3.6087565 ,  2.2841747 ,  1.8394647 ,\n",
       "         1.8373579 ,  1.3569796 ,  1.9048195 ,  1.7595272 ,  1.3459948 ,\n",
       "         3.0738664 ,  4.12252   ,  5.360816  ,  6.1876144 ,  7.5032964 ,\n",
       "         8.937995  ,  7.3771224 ,  6.373048  ,  3.6385055 ,  2.0676532 ,\n",
       "         1.6675053 ,  2.3862903 ,  4.6675434 ,  6.070478  ,  7.963268  ,\n",
       "        10.475726  , 11.468328  , 11.28568   , 11.801048  ,  5.239915  ,\n",
       "         2.8761344 ,  3.1233945 ,  2.915911  ,  3.7688975 ,  4.55789   ,\n",
       "         1.7551744 ,  2.9511864 ,  5.055251  ,  6.5147214 ,  6.8184776 ,\n",
       "         7.764162  ,  9.19105   ,  9.550311  ,  9.398643  ,  4.83262   ,\n",
       "         3.478072  ,  4.4699287 ,  3.8198988 ,  5.602931  ,  7.6863832 ,\n",
       "         7.1662054 ,  5.5551353 ,  7.182977  ,  9.135144  , 12.294825  ,\n",
       "        11.218261  ,  7.6512203 ,  5.913708  ,  4.450978  ,  2.926729  ,\n",
       "         3.0778298 ,  3.494637  ,  4.5571504 ,  5.694339  ,  5.676939  ,\n",
       "         6.191701  ,  9.370299  ,  8.999102  ,  9.036212  ,  3.6742191 ,\n",
       "         2.3082619 ,  2.0225892 ,  1.734286  ,  1.0997707 ,  1.7884046 ,\n",
       "         2.8699574 ,  3.0531325 ,  3.6820524 ,  6.1895976 ,  9.563174  ,\n",
       "        13.6617775 , 14.6062765 , 15.7519655 , 15.522133  , 17.264627  ,\n",
       "        12.373189  ,  5.8015585 ,  4.2085485 ,  3.701598  ,  4.64962   ,\n",
       "         6.824232  ,  8.123859  , 10.994766  , 12.834197  , 12.843778  ,\n",
       "        10.834838  , 11.501927  , 11.604075  , 12.853374  , 11.765511  ,\n",
       "        12.939568  , 15.446338  , 12.877316  , 12.457181  , 14.83033   ,\n",
       "        10.502715  ,  7.0142083 ,  5.1876044 ,  8.864366  , 11.896066  ,\n",
       "        10.842569  ,  1.966439  ,  4.951391  ,  2.657342  ,  5.9802294 ,\n",
       "         5.4672804 ,  6.294526  ,  6.4211874 ,  7.5351143 , 10.542341  ,\n",
       "        10.083823  ,  2.709689  ,  3.251018  ,  5.9633236 ,  7.050253  ,\n",
       "         6.5225325 ,  8.824204  , 15.54834   , 13.22989   ,  6.9128327 ,\n",
       "         7.484563  ,  8.72614   , 13.057367  , 14.518157  , 14.003387  ,\n",
       "        15.574035  , 15.047479  , 13.765727  , 18.558664  , 11.170314  ,\n",
       "         4.7773266 ,  5.428623  ,  3.7648227 ,  4.542762  ,  7.2746515 ,\n",
       "         7.234698  ,  8.209526  ,  8.709604  ,  5.4351807 ,  5.779224  ,\n",
       "         7.9029202 , 13.183726  , 17.644016  , 17.53994   ,  7.586323  ,\n",
       "         4.5806537 ,  4.075331  ,  6.1736865 ,  7.1878395 ,  9.770694  ,\n",
       "         9.262335  ,  9.010702  ,  6.1183066 ,  8.341324  ,  8.761376  ,\n",
       "        12.544605  , 12.955715  , 12.068619  , 10.754936  ,  6.147336  ,\n",
       "         5.8213525 ,  4.7656364 ,  2.3552752 ,  2.5331433 ,  1.8945975 ,\n",
       "         2.850808  ,  3.4657338 ,  4.860202  ,  5.5935774 ,  6.6206656 ,\n",
       "         5.553728  ,  4.0065503 ,  4.4259596 ,  6.5314136 ,  8.414674  ,\n",
       "         8.514545  ,  6.4510202 ,  7.7683196 ,  5.6924634 ,  3.4189303 ,\n",
       "         2.8259766 ,  0.97836655,  1.0562457 ,  1.9600418 ,  2.5786805 ,\n",
       "         3.0878458 ,  4.023349  ,  7.706988  ,  8.541615  ,  8.269274  ,\n",
       "         7.122792  ,  5.147116  ,  4.2577486 ,  4.6090474 ,  7.4244423 ,\n",
       "        10.180736  , 12.343103  , 12.343921  ,  8.962284  ,  7.006816  ,\n",
       "         6.143386  ,  5.2242956 ,  4.480802  ,  8.153309  ,  9.5563135 ,\n",
       "        14.09018   , 10.22092   ,  4.975099  ,  4.7507396 ,  6.0800056 ,\n",
       "         4.0780144 ,  3.2963202 ,  4.475339  ,  2.6621351 ,  6.1159415 ,\n",
       "         4.5057454 ,  4.6742063 ,  4.4557867 ,  9.196656  , 12.671603  ,\n",
       "        14.159104  ], dtype=float32),\n",
       " 'mase': 2.4225461}"
      ]
     },
     "execution_count": 59,
     "metadata": {},
     "output_type": "execute_result"
    }
   ],
   "source": [
    "# Evaluating model 3 preds\n",
    "model_3_results = evaluate_preds(\n",
    "    y_true=tf.squeeze(test_labels),\n",
    "    y_pred=model_3_preds\n",
    ")\n",
    "model_3_results"
   ]
  },
  {
   "cell_type": "code",
   "execution_count": 60,
   "metadata": {},
   "outputs": [],
   "source": [
    "# Function for evaluation matrix\n",
    "# MAKING IT WORK FOR HIGHER HORIZON\n",
    "def evaluate_preds(y_true, y_pred):\n",
    "\n",
    "    # Ensuring that we use float32 dtype (for metric calculations)\n",
    "    y_true = tf.cast(y_true, dtype=tf.float32)\n",
    "    y_pred = tf.cast(y_pred, dtype=tf.float32)\n",
    "\n",
    "    # Calculating various evaluation metrics\n",
    "    mae = tf.keras.metrics.mean_absolute_error(y_true, y_pred)\n",
    "    mse = tf.keras.metrics.mean_squared_error(y_true, y_pred)\n",
    "    rmse = tf.sqrt(mse)\n",
    "    mape = tf.keras.metrics.mean_absolute_percentage_error(y_true, y_pred)\n",
    "    mase = mean_absolute_scaled_error(y_true, y_pred)\n",
    "\n",
    "    # Account for different size metrics\n",
    "    if mae.ndim > 0:\n",
    "        mae = tf.reduce_mean(mae)\n",
    "        mse = tf.reduce_mean(mse)\n",
    "        rmse = tf.reduce_mean(rmse)\n",
    "        mape = tf.reduce_mean(mape)\n",
    "        mase = tf.reduce_mean(mase)\n",
    "\n",
    "    return {\n",
    "        \"mae\": mae.numpy(),\n",
    "        \"mse\": mse.numpy(),\n",
    "        \"rmse\": rmse.numpy(),\n",
    "        \"mape\": mape.numpy(),\n",
    "        \"mase\": mase.numpy()\n",
    "    }"
   ]
  },
  {
   "cell_type": "code",
   "execution_count": 61,
   "metadata": {},
   "outputs": [
    {
     "data": {
      "text/plain": [
       "{'mae': 1361.4065,\n",
       " 'mse': 5906334.0,\n",
       " 'rmse': 1554.4658,\n",
       " 'mape': 6.0741053,\n",
       " 'mase': 2.4225461}"
      ]
     },
     "execution_count": 61,
     "metadata": {},
     "output_type": "execute_result"
    }
   ],
   "source": [
    "# Re-evaluating model 3 preds\n",
    "model_3_results = evaluate_preds(\n",
    "    y_true=tf.squeeze(test_labels),\n",
    "    y_pred=model_3_preds\n",
    ")\n",
    "model_3_results"
   ]
  },
  {
   "cell_type": "code",
   "execution_count": null,
   "metadata": {},
   "outputs": [],
   "source": []
  }
 ],
 "metadata": {
  "kernelspec": {
   "display_name": "Python 3",
   "language": "python",
   "name": "python3"
  },
  "language_info": {
   "codemirror_mode": {
    "name": "ipython",
    "version": 3
   },
   "file_extension": ".py",
   "mimetype": "text/x-python",
   "name": "python",
   "nbconvert_exporter": "python",
   "pygments_lexer": "ipython3",
   "version": "3.8.10"
  },
  "orig_nbformat": 4,
  "vscode": {
   "interpreter": {
    "hash": "8230a386d8e0083990873cddb8ebb5b6213275a10339230a8504f0ef8ce7f888"
   }
  }
 },
 "nbformat": 4,
 "nbformat_minor": 2
}
