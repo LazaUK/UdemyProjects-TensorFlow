{
 "cells": [
  {
   "attachments": {},
   "cell_type": "markdown",
   "metadata": {},
   "source": [
    "# Natural Language Processing"
   ]
  },
  {
   "cell_type": "code",
   "execution_count": 1,
   "metadata": {},
   "outputs": [
    {
     "name": "stdout",
     "output_type": "stream",
     "text": [
      "2.10.1\n"
     ]
    }
   ],
   "source": [
    "# Importing TF and checking the version\n",
    "import tensorflow as tf\n",
    "\n",
    "print(tf.__version__)"
   ]
  },
  {
   "cell_type": "code",
   "execution_count": 2,
   "metadata": {},
   "outputs": [],
   "source": [
    "# Importing helper functions\n",
    "from DanielBourke_HelperFunctions import create_tensorboard_callback, plot_loss_curves, compare_historys"
   ]
  },
  {
   "attachments": {},
   "cell_type": "markdown",
   "metadata": {},
   "source": [
    "### Analysing text dataset"
   ]
  },
  {
   "cell_type": "code",
   "execution_count": 3,
   "metadata": {},
   "outputs": [
    {
     "data": {
      "text/html": [
       "<div>\n",
       "<style scoped>\n",
       "    .dataframe tbody tr th:only-of-type {\n",
       "        vertical-align: middle;\n",
       "    }\n",
       "\n",
       "    .dataframe tbody tr th {\n",
       "        vertical-align: top;\n",
       "    }\n",
       "\n",
       "    .dataframe thead th {\n",
       "        text-align: right;\n",
       "    }\n",
       "</style>\n",
       "<table border=\"1\" class=\"dataframe\">\n",
       "  <thead>\n",
       "    <tr style=\"text-align: right;\">\n",
       "      <th></th>\n",
       "      <th>id</th>\n",
       "      <th>keyword</th>\n",
       "      <th>location</th>\n",
       "      <th>text</th>\n",
       "      <th>target</th>\n",
       "    </tr>\n",
       "  </thead>\n",
       "  <tbody>\n",
       "    <tr>\n",
       "      <th>0</th>\n",
       "      <td>1</td>\n",
       "      <td>NaN</td>\n",
       "      <td>NaN</td>\n",
       "      <td>Our Deeds are the Reason of this #earthquake M...</td>\n",
       "      <td>1</td>\n",
       "    </tr>\n",
       "    <tr>\n",
       "      <th>1</th>\n",
       "      <td>4</td>\n",
       "      <td>NaN</td>\n",
       "      <td>NaN</td>\n",
       "      <td>Forest fire near La Ronge Sask. Canada</td>\n",
       "      <td>1</td>\n",
       "    </tr>\n",
       "    <tr>\n",
       "      <th>2</th>\n",
       "      <td>5</td>\n",
       "      <td>NaN</td>\n",
       "      <td>NaN</td>\n",
       "      <td>All residents asked to 'shelter in place' are ...</td>\n",
       "      <td>1</td>\n",
       "    </tr>\n",
       "    <tr>\n",
       "      <th>3</th>\n",
       "      <td>6</td>\n",
       "      <td>NaN</td>\n",
       "      <td>NaN</td>\n",
       "      <td>13,000 people receive #wildfires evacuation or...</td>\n",
       "      <td>1</td>\n",
       "    </tr>\n",
       "    <tr>\n",
       "      <th>4</th>\n",
       "      <td>7</td>\n",
       "      <td>NaN</td>\n",
       "      <td>NaN</td>\n",
       "      <td>Just got sent this photo from Ruby #Alaska as ...</td>\n",
       "      <td>1</td>\n",
       "    </tr>\n",
       "  </tbody>\n",
       "</table>\n",
       "</div>"
      ],
      "text/plain": [
       "   id keyword location                                               text  \\\n",
       "0   1     NaN      NaN  Our Deeds are the Reason of this #earthquake M...   \n",
       "1   4     NaN      NaN             Forest fire near La Ronge Sask. Canada   \n",
       "2   5     NaN      NaN  All residents asked to 'shelter in place' are ...   \n",
       "3   6     NaN      NaN  13,000 people receive #wildfires evacuation or...   \n",
       "4   7     NaN      NaN  Just got sent this photo from Ruby #Alaska as ...   \n",
       "\n",
       "   target  \n",
       "0       1  \n",
       "1       1  \n",
       "2       1  \n",
       "3       1  \n",
       "4       1  "
      ]
     },
     "execution_count": 3,
     "metadata": {},
     "output_type": "execute_result"
    }
   ],
   "source": [
    "# Loading data\n",
    "import pandas as pd\n",
    "\n",
    "train_df = pd.read_csv(\"NLP_text/train.csv\")\n",
    "test_df = pd.read_csv(\"NLP_text/test.csv\")\n",
    "\n",
    "train_df.head()"
   ]
  },
  {
   "cell_type": "code",
   "execution_count": 4,
   "metadata": {},
   "outputs": [
    {
     "data": {
      "text/html": [
       "<div>\n",
       "<style scoped>\n",
       "    .dataframe tbody tr th:only-of-type {\n",
       "        vertical-align: middle;\n",
       "    }\n",
       "\n",
       "    .dataframe tbody tr th {\n",
       "        vertical-align: top;\n",
       "    }\n",
       "\n",
       "    .dataframe thead th {\n",
       "        text-align: right;\n",
       "    }\n",
       "</style>\n",
       "<table border=\"1\" class=\"dataframe\">\n",
       "  <thead>\n",
       "    <tr style=\"text-align: right;\">\n",
       "      <th></th>\n",
       "      <th>id</th>\n",
       "      <th>keyword</th>\n",
       "      <th>location</th>\n",
       "      <th>text</th>\n",
       "      <th>target</th>\n",
       "    </tr>\n",
       "  </thead>\n",
       "  <tbody>\n",
       "    <tr>\n",
       "      <th>2644</th>\n",
       "      <td>3796</td>\n",
       "      <td>destruction</td>\n",
       "      <td>NaN</td>\n",
       "      <td>So you have a new weapon that can cause un-ima...</td>\n",
       "      <td>1</td>\n",
       "    </tr>\n",
       "    <tr>\n",
       "      <th>2227</th>\n",
       "      <td>3185</td>\n",
       "      <td>deluge</td>\n",
       "      <td>NaN</td>\n",
       "      <td>The f$&amp;amp;@ing things I do for #GISHWHES Just...</td>\n",
       "      <td>0</td>\n",
       "    </tr>\n",
       "    <tr>\n",
       "      <th>5448</th>\n",
       "      <td>7769</td>\n",
       "      <td>police</td>\n",
       "      <td>UK</td>\n",
       "      <td>DT @georgegalloway: RT @Galloway4Mayor: ÛÏThe...</td>\n",
       "      <td>1</td>\n",
       "    </tr>\n",
       "    <tr>\n",
       "      <th>132</th>\n",
       "      <td>191</td>\n",
       "      <td>aftershock</td>\n",
       "      <td>NaN</td>\n",
       "      <td>Aftershock back to school kick off was great. ...</td>\n",
       "      <td>0</td>\n",
       "    </tr>\n",
       "    <tr>\n",
       "      <th>6845</th>\n",
       "      <td>9810</td>\n",
       "      <td>trauma</td>\n",
       "      <td>Montgomery County, MD</td>\n",
       "      <td>in response to trauma Children of Addicts deve...</td>\n",
       "      <td>0</td>\n",
       "    </tr>\n",
       "  </tbody>\n",
       "</table>\n",
       "</div>"
      ],
      "text/plain": [
       "        id      keyword               location  \\\n",
       "2644  3796  destruction                    NaN   \n",
       "2227  3185       deluge                    NaN   \n",
       "5448  7769       police                     UK   \n",
       "132    191   aftershock                    NaN   \n",
       "6845  9810       trauma  Montgomery County, MD   \n",
       "\n",
       "                                                   text  target  \n",
       "2644  So you have a new weapon that can cause un-ima...       1  \n",
       "2227  The f$&amp;@ing things I do for #GISHWHES Just...       0  \n",
       "5448  DT @georgegalloway: RT @Galloway4Mayor: ÛÏThe...       1  \n",
       "132   Aftershock back to school kick off was great. ...       0  \n",
       "6845  in response to trauma Children of Addicts deve...       0  "
      ]
     },
     "execution_count": 4,
     "metadata": {},
     "output_type": "execute_result"
    }
   ],
   "source": [
    "# Shuffling training dataframe\n",
    "train_df_shuffled = train_df.sample(frac=1, random_state=42)\n",
    "train_df_shuffled.head()"
   ]
  },
  {
   "cell_type": "code",
   "execution_count": 5,
   "metadata": {},
   "outputs": [
    {
     "data": {
      "text/html": [
       "<div>\n",
       "<style scoped>\n",
       "    .dataframe tbody tr th:only-of-type {\n",
       "        vertical-align: middle;\n",
       "    }\n",
       "\n",
       "    .dataframe tbody tr th {\n",
       "        vertical-align: top;\n",
       "    }\n",
       "\n",
       "    .dataframe thead th {\n",
       "        text-align: right;\n",
       "    }\n",
       "</style>\n",
       "<table border=\"1\" class=\"dataframe\">\n",
       "  <thead>\n",
       "    <tr style=\"text-align: right;\">\n",
       "      <th></th>\n",
       "      <th>id</th>\n",
       "      <th>keyword</th>\n",
       "      <th>location</th>\n",
       "      <th>text</th>\n",
       "    </tr>\n",
       "  </thead>\n",
       "  <tbody>\n",
       "    <tr>\n",
       "      <th>0</th>\n",
       "      <td>0</td>\n",
       "      <td>NaN</td>\n",
       "      <td>NaN</td>\n",
       "      <td>Just happened a terrible car crash</td>\n",
       "    </tr>\n",
       "    <tr>\n",
       "      <th>1</th>\n",
       "      <td>2</td>\n",
       "      <td>NaN</td>\n",
       "      <td>NaN</td>\n",
       "      <td>Heard about #earthquake is different cities, s...</td>\n",
       "    </tr>\n",
       "    <tr>\n",
       "      <th>2</th>\n",
       "      <td>3</td>\n",
       "      <td>NaN</td>\n",
       "      <td>NaN</td>\n",
       "      <td>there is a forest fire at spot pond, geese are...</td>\n",
       "    </tr>\n",
       "    <tr>\n",
       "      <th>3</th>\n",
       "      <td>9</td>\n",
       "      <td>NaN</td>\n",
       "      <td>NaN</td>\n",
       "      <td>Apocalypse lighting. #Spokane #wildfires</td>\n",
       "    </tr>\n",
       "    <tr>\n",
       "      <th>4</th>\n",
       "      <td>11</td>\n",
       "      <td>NaN</td>\n",
       "      <td>NaN</td>\n",
       "      <td>Typhoon Soudelor kills 28 in China and Taiwan</td>\n",
       "    </tr>\n",
       "  </tbody>\n",
       "</table>\n",
       "</div>"
      ],
      "text/plain": [
       "   id keyword location                                               text\n",
       "0   0     NaN      NaN                 Just happened a terrible car crash\n",
       "1   2     NaN      NaN  Heard about #earthquake is different cities, s...\n",
       "2   3     NaN      NaN  there is a forest fire at spot pond, geese are...\n",
       "3   9     NaN      NaN           Apocalypse lighting. #Spokane #wildfires\n",
       "4  11     NaN      NaN      Typhoon Soudelor kills 28 in China and Taiwan"
      ]
     },
     "execution_count": 5,
     "metadata": {},
     "output_type": "execute_result"
    }
   ],
   "source": [
    "# Checking test dataframe\n",
    "test_df.head()"
   ]
  },
  {
   "cell_type": "code",
   "execution_count": 6,
   "metadata": {},
   "outputs": [
    {
     "data": {
      "text/plain": [
       "0    4342\n",
       "1    3271\n",
       "Name: target, dtype: int64"
      ]
     },
     "execution_count": 6,
     "metadata": {},
     "output_type": "execute_result"
    }
   ],
   "source": [
    "# Checking number of training records\n",
    "train_df.target.value_counts()"
   ]
  },
  {
   "cell_type": "code",
   "execution_count": 7,
   "metadata": {},
   "outputs": [
    {
     "data": {
      "text/plain": [
       "(7613, 3263)"
      ]
     },
     "execution_count": 7,
     "metadata": {},
     "output_type": "execute_result"
    }
   ],
   "source": [
    "# Checking total number of samples\n",
    "len(train_df), len(test_df)"
   ]
  },
  {
   "cell_type": "code",
   "execution_count": 8,
   "metadata": {},
   "outputs": [
    {
     "name": "stdout",
     "output_type": "stream",
     "text": [
      "Target: 0 (not real disaster)\n",
      "Text:\n",
      "The things we fear most in organizations--fluctuations disturbances imbalances--are the primary sources of creativity. - Margaret Wheatley\n",
      "---\n",
      "Target: 0 (not real disaster)\n",
      "Text:\n",
      "FedEx no longer to transport bioterror germs in wake of anthrax lab mishaps http://t.co/qZQc8WWwcN via @usatoday\n",
      "---\n",
      "Target: 0 (not real disaster)\n",
      "Text:\n",
      "Am now repped by the fantastic Laura Milne @TheJonesesVoice for all your liguistic needs. And that's some tongue twister tweets\n",
      "---\n",
      "Target: 1 (real disaster)\n",
      "Text:\n",
      "@KopiteLuke1892 Its broken its fully exploded.\n",
      "---\n",
      "Target: 0 (not real disaster)\n",
      "Text:\n",
      "Yay for sirens\n",
      "---\n"
     ]
    }
   ],
   "source": [
    "# Visualising random samples\n",
    "import random\n",
    "\n",
    "random_index = random.randint(0, len(train_df) - 5)\n",
    "\n",
    "for row in train_df_shuffled[[\"text\", \"target\"]][random_index : random_index + 5].itertuples():\n",
    "    _, text, target = row\n",
    "    print(f\"Target: {target}\", \"(real disaster)\" if target > 0 else \"(not real disaster)\")\n",
    "    print(f\"Text:\\n{text}\")\n",
    "    print(\"---\")"
   ]
  },
  {
   "attachments": {},
   "cell_type": "markdown",
   "metadata": {},
   "source": [
    "### Creating validation data"
   ]
  },
  {
   "cell_type": "code",
   "execution_count": 9,
   "metadata": {},
   "outputs": [],
   "source": [
    "# Splitting dataset\n",
    "from sklearn.model_selection import train_test_split\n",
    "\n",
    "train_sentences, val_sentences, train_labels, val_labels = train_test_split(\n",
    "    train_df_shuffled[\"text\"].to_numpy(),\n",
    "    train_df_shuffled[\"target\"].to_numpy(),\n",
    "    test_size=0.1, # Allocating 10% to validation data\n",
    "    random_state=42\n",
    ")"
   ]
  },
  {
   "cell_type": "code",
   "execution_count": 10,
   "metadata": {},
   "outputs": [
    {
     "data": {
      "text/plain": [
       "(6851, 6851, 762, 762)"
      ]
     },
     "execution_count": 10,
     "metadata": {},
     "output_type": "execute_result"
    }
   ],
   "source": [
    "# Checking dataset length\n",
    "len(train_sentences), len(train_labels), len(val_sentences), len(val_labels)"
   ]
  },
  {
   "cell_type": "code",
   "execution_count": 11,
   "metadata": {},
   "outputs": [
    {
     "data": {
      "text/plain": [
       "(array(['@mogacola @zamtriossu i screamed after hitting tweet',\n",
       "        'Imagine getting flattened by Kurt Zouma',\n",
       "        '@Gurmeetramrahim #MSGDoing111WelfareWorks Green S welfare force ke appx 65000 members har time disaster victim ki help ke liye tyar hai....',\n",
       "        \"@shakjn @C7 @Magnums im shaking in fear he's gonna hack the planet\",\n",
       "        'Somehow find you and I collide http://t.co/Ee8RpOahPk',\n",
       "        '@EvaHanderek @MarleyKnysh great times until the bus driver held us hostage in the mall parking lot lmfao',\n",
       "        'destroy the free fandom honestly',\n",
       "        'Weapons stolen from National Guard Armory in New Albany still missing #Gunsense http://t.co/lKNU8902JE',\n",
       "        '@wfaaweather Pete when will the heat wave pass? Is it really going to be mid month? Frisco Boy Scouts have a canoe trip in Okla.',\n",
       "        'Patient-reported outcomes in long-term survivors of metastatic colorectal cancer - British Journal of Surgery http://t.co/5Yl4DC1Tqt'],\n",
       "       dtype=object),\n",
       " array([0, 0, 1, 0, 0, 1, 1, 0, 1, 1], dtype=int64))"
      ]
     },
     "execution_count": 11,
     "metadata": {},
     "output_type": "execute_result"
    }
   ],
   "source": [
    "# Checking the first 10 samples\n",
    "train_sentences[:10], train_labels[:10]"
   ]
  },
  {
   "attachments": {},
   "cell_type": "markdown",
   "metadata": {},
   "source": [
    "### Converting text to numbers"
   ]
  },
  {
   "cell_type": "code",
   "execution_count": 12,
   "metadata": {},
   "outputs": [],
   "source": [
    "# Using text vectorisation\n",
    "from tensorflow.keras.layers.experimental.preprocessing import TextVectorization\n",
    "\n",
    "text_vectorizer = TextVectorization(\n",
    "    max_tokens=None,\n",
    "    standardize=\"lower_and_strip_punctuation\",\n",
    "    split=\"whitespace\",\n",
    "    ngrams=None,\n",
    "    output_mode=\"int\",\n",
    "    output_sequence_length=None,\n",
    "    pad_to_max_tokens=False\n",
    ")"
   ]
  },
  {
   "cell_type": "code",
   "execution_count": 13,
   "metadata": {},
   "outputs": [
    {
     "data": {
      "text/plain": [
       "15"
      ]
     },
     "execution_count": 13,
     "metadata": {},
     "output_type": "execute_result"
    }
   ],
   "source": [
    "# Finding the average number of tokens\n",
    "round(sum([len(i.split()) for i in train_sentences]) / len(train_sentences))"
   ]
  },
  {
   "cell_type": "code",
   "execution_count": 14,
   "metadata": {},
   "outputs": [],
   "source": [
    "# Setting up text vectorisation variables\n",
    "max_vocab_length = 10000\n",
    "max_length = 15\n",
    "\n",
    "text_vectorizer = TextVectorization(\n",
    "    max_tokens=max_vocab_length,\n",
    "    output_mode=\"int\",\n",
    "    output_sequence_length=max_length\n",
    ")"
   ]
  },
  {
   "cell_type": "code",
   "execution_count": 15,
   "metadata": {},
   "outputs": [],
   "source": [
    "# Fitting text vectorisation to the training dataset\n",
    "text_vectorizer.adapt(train_sentences)"
   ]
  },
  {
   "cell_type": "code",
   "execution_count": 16,
   "metadata": {},
   "outputs": [
    {
     "data": {
      "text/plain": [
       "<tf.Tensor: shape=(1, 15), dtype=int64, numpy=\n",
       "array([[ 74,   9,   3, 232,   4,  13, 698,   0,   0,   0,   0,   0,   0,\n",
       "          0,   0]], dtype=int64)>"
      ]
     },
     "execution_count": 16,
     "metadata": {},
     "output_type": "execute_result"
    }
   ],
   "source": [
    "# Create a sample sentnence and tokenise it\n",
    "sample_sentence = \"There is a flood in my street\"\n",
    "text_vectorizer([sample_sentence])"
   ]
  },
  {
   "cell_type": "code",
   "execution_count": 17,
   "metadata": {},
   "outputs": [
    {
     "name": "stdout",
     "output_type": "stream",
     "text": [
      "Original text:\n",
      "Edwin wow. Crushed.,\n",
      "tokenised version:\n",
      "[[  1 970 553   0   0   0   0   0   0   0   0   0   0   0   0]]\n"
     ]
    }
   ],
   "source": [
    "# Tokenising random sentence from the training set\n",
    "random_sentence = random.choice(train_sentences)\n",
    "print(\n",
    "    f\"Original text:\\n{random_sentence},\\ntokenised version:\\n{text_vectorizer([random_sentence])}\"\n",
    ")"
   ]
  },
  {
   "cell_type": "code",
   "execution_count": 18,
   "metadata": {},
   "outputs": [
    {
     "data": {
      "text/plain": [
       "(10000,\n",
       " ['', '[UNK]', 'the', 'a', 'in'],\n",
       " ['pages', 'paeds', 'pads', 'padres', 'paddytomlinson1'])"
      ]
     },
     "execution_count": 18,
     "metadata": {},
     "output_type": "execute_result"
    }
   ],
   "source": [
    "# Getting unique words in the vocabulary\n",
    "words_in_vocab = text_vectorizer.get_vocabulary()\n",
    "top_5_words = words_in_vocab[:5]\n",
    "bottom_5_words = words_in_vocab[-5:]\n",
    "\n",
    "len(words_in_vocab), top_5_words, bottom_5_words"
   ]
  },
  {
   "attachments": {},
   "cell_type": "markdown",
   "metadata": {},
   "source": [
    "### Creating Embedding layer"
   ]
  },
  {
   "cell_type": "code",
   "execution_count": 19,
   "metadata": {},
   "outputs": [
    {
     "data": {
      "text/plain": [
       "<keras.layers.core.embedding.Embedding at 0x1a2d8342280>"
      ]
     },
     "execution_count": 19,
     "metadata": {},
     "output_type": "execute_result"
    }
   ],
   "source": [
    "# Defining the layer\n",
    "from tensorflow.keras import layers\n",
    "\n",
    "embedding = layers.Embedding(\n",
    "    input_dim=max_vocab_length,\n",
    "    output_dim=128,\n",
    "    input_length=max_length\n",
    ")\n",
    "embedding"
   ]
  },
  {
   "cell_type": "code",
   "execution_count": 20,
   "metadata": {},
   "outputs": [
    {
     "name": "stdout",
     "output_type": "stream",
     "text": [
      "Original text:\n",
      "The Pak terrorist who has been caught alive must be tried fast not delayed as KasabWe must send very hard message to Pak instead of Biryani,\n",
      "embedded version:\n"
     ]
    },
    {
     "data": {
      "text/plain": [
       "<tf.Tensor: shape=(1, 15, 128), dtype=float32, numpy=\n",
       "array([[[-0.00326527, -0.00817797,  0.01461886, ..., -0.01599415,\n",
       "          0.01874011,  0.01582913],\n",
       "        [-0.03426911, -0.00376127, -0.02496681, ...,  0.0427187 ,\n",
       "         -0.03176917,  0.04822988],\n",
       "        [-0.02119344, -0.01479244,  0.00993613, ...,  0.02746631,\n",
       "          0.03505886, -0.03882639],\n",
       "        ...,\n",
       "        [ 0.04498056, -0.04354383, -0.01037494, ...,  0.0176453 ,\n",
       "          0.032415  ,  0.04745475],\n",
       "        [ 0.00133324,  0.04248324, -0.00118713, ..., -0.03938041,\n",
       "          0.03681395,  0.04983443],\n",
       "        [-0.04643248,  0.00022953, -0.03369727, ..., -0.01626524,\n",
       "         -0.01432688,  0.00503927]]], dtype=float32)>"
      ]
     },
     "execution_count": 20,
     "metadata": {},
     "output_type": "execute_result"
    }
   ],
   "source": [
    "# Get a random sentence\n",
    "random_sentence = random.choice(train_sentences)\n",
    "print(\n",
    "    f\"Original text:\\n{random_sentence},\\nembedded version:\"\n",
    ")\n",
    "\n",
    "# Embed random sentence\n",
    "embed_sentence = embedding(text_vectorizer([random_sentence]))\n",
    "embed_sentence"
   ]
  },
  {
   "cell_type": "code",
   "execution_count": 21,
   "metadata": {},
   "outputs": [
    {
     "data": {
      "text/plain": [
       "(<tf.Tensor: shape=(128,), dtype=float32, numpy=\n",
       " array([-0.00326527, -0.00817797,  0.01461886,  0.00886587,  0.02068162,\n",
       "        -0.03897413,  0.00342506, -0.00036552, -0.04472829,  0.01619818,\n",
       "        -0.04360384, -0.01073884,  0.01733044, -0.04707032, -0.0385352 ,\n",
       "        -0.02642183, -0.0343307 , -0.02304293, -0.02311422, -0.01936759,\n",
       "         0.00119736,  0.02465841, -0.04964794,  0.03368571,  0.02426518,\n",
       "        -0.02993971, -0.04314683,  0.00483416, -0.0392665 ,  0.01123195,\n",
       "        -0.04018022, -0.01217418,  0.01607722,  0.01499415,  0.01174126,\n",
       "         0.02360303,  0.01317627, -0.00841619, -0.00974532, -0.04491959,\n",
       "        -0.03423746,  0.00694048,  0.01682514,  0.0321232 , -0.03170371,\n",
       "         0.02058133,  0.02117027, -0.0289373 , -0.02254883, -0.03639784,\n",
       "        -0.0359205 ,  0.00954002, -0.04463658, -0.02411673,  0.03123839,\n",
       "         0.03743069,  0.01038805, -0.02703222,  0.00864452,  0.04613056,\n",
       "        -0.04184423,  0.01197431,  0.030732  , -0.02826252, -0.00770863,\n",
       "        -0.04899704,  0.00243194, -0.04228408,  0.00847925, -0.01632135,\n",
       "         0.02395232, -0.01633699, -0.03312062, -0.00973082,  0.01724032,\n",
       "        -0.03915305,  0.03545001,  0.0163108 ,  0.0045009 ,  0.03996546,\n",
       "         0.00276704, -0.03194636,  0.03236886,  0.0286064 ,  0.02731236,\n",
       "         0.00019683, -0.0301738 , -0.00936371,  0.00341022,  0.04137248,\n",
       "        -0.03639493, -0.02533845,  0.01404257,  0.01229956,  0.04331573,\n",
       "        -0.01428197,  0.04408119, -0.01949036,  0.00685721, -0.00027788,\n",
       "        -0.0229543 ,  0.04816678,  0.00395332,  0.01297963, -0.03416064,\n",
       "         0.00707484, -0.0005689 , -0.02230201,  0.0465985 , -0.01486744,\n",
       "        -0.04547583, -0.01173881, -0.00450284,  0.00519488,  0.01860185,\n",
       "        -0.02033305,  0.04732097, -0.04463241,  0.01264038,  0.02938192,\n",
       "         0.03332881,  0.02131829, -0.04822171,  0.00431756,  0.01796171,\n",
       "        -0.01599415,  0.01874011,  0.01582913], dtype=float32)>,\n",
       " TensorShape([128]),\n",
       " 'The Pak terrorist who has been caught alive must be tried fast not delayed as KasabWe must send very hard message to Pak instead of Biryani')"
      ]
     },
     "execution_count": 21,
     "metadata": {},
     "output_type": "execute_result"
    }
   ],
   "source": [
    "# Checking single token's embedding\n",
    "embed_sentence[0][0], embed_sentence[0][0].shape, random_sentence"
   ]
  },
  {
   "attachments": {},
   "cell_type": "markdown",
   "metadata": {},
   "source": [
    "### Building base model"
   ]
  },
  {
   "cell_type": "code",
   "execution_count": 22,
   "metadata": {},
   "outputs": [
    {
     "data": {
      "text/plain": [
       "Pipeline(steps=[('tfidf', TfidfVectorizer()), ('clf', MultinomialNB())])"
      ]
     },
     "execution_count": 22,
     "metadata": {},
     "output_type": "execute_result"
    }
   ],
   "source": [
    "# Using SKLearn to build base model\n",
    "from sklearn.feature_extraction.text import TfidfVectorizer\n",
    "from sklearn.naive_bayes import MultinomialNB\n",
    "from sklearn.pipeline import Pipeline\n",
    "\n",
    "# Create tokenisation and modelling pipeline\n",
    "model_0 = Pipeline([\n",
    "    (\"tfidf\", TfidfVectorizer()), # Convert words to numbers\n",
    "    (\"clf\", MultinomialNB()) # Model the text\n",
    "])\n",
    "\n",
    "# Fit the pipeline to training data\n",
    "model_0.fit(train_sentences, train_labels)"
   ]
  },
  {
   "cell_type": "code",
   "execution_count": 23,
   "metadata": {},
   "outputs": [
    {
     "name": "stdout",
     "output_type": "stream",
     "text": [
      "Achieved accuracy: 79.27%\n"
     ]
    }
   ],
   "source": [
    "# Evaluating baseline model\n",
    "baseline_score = model_0.score(val_sentences, val_labels)\n",
    "print(f\"Achieved accuracy: {baseline_score * 100:.2f}%\")"
   ]
  },
  {
   "cell_type": "code",
   "execution_count": 24,
   "metadata": {},
   "outputs": [
    {
     "data": {
      "text/plain": [
       "array([1, 1, 1, 0, 0, 1, 1, 1, 1, 0, 0, 1, 0, 0, 0, 0, 0, 0, 0, 1],\n",
       "      dtype=int64)"
      ]
     },
     "execution_count": 24,
     "metadata": {},
     "output_type": "execute_result"
    }
   ],
   "source": [
    "# Making predictions\n",
    "baseline_predictions = model_0.predict(val_sentences)\n",
    "baseline_predictions[:20]"
   ]
  },
  {
   "attachments": {},
   "cell_type": "markdown",
   "metadata": {},
   "source": [
    "### Function to evaluate model performance"
   ]
  },
  {
   "cell_type": "code",
   "execution_count": 25,
   "metadata": {},
   "outputs": [],
   "source": [
    "# Importing SKLearn functions\n",
    "from sklearn.metrics import accuracy_score, precision_recall_fscore_support\n",
    "\n",
    "# Developing function to evaluate accuracy, precision, recall and F1 scor\n",
    "def calculate_results(y_true, y_pred):\n",
    "    \"\"\"\n",
    "    Evaluate binary classification model\n",
    "    \"\"\"\n",
    "    # Calculate model accuracy\n",
    "    model_accuracy = accuracy_score(y_true, y_pred) * 100\n",
    "    # Calculate model precision, recall and F1 score using \"weighted\" average\n",
    "    model_precision, model_recall, model_f1, _ = precision_recall_fscore_support(y_true, y_pred, average=\"weighted\")\n",
    "    model_results = {\n",
    "        \"accuracy\": model_accuracy,\n",
    "        \"precision\": model_precision,\n",
    "        \"recall\": model_recall,\n",
    "        \"f1\": model_f1\n",
    "    }\n",
    "    return model_results"
   ]
  },
  {
   "cell_type": "code",
   "execution_count": 26,
   "metadata": {},
   "outputs": [
    {
     "data": {
      "text/plain": [
       "{'accuracy': 79.26509186351706,\n",
       " 'precision': 0.8111390004213173,\n",
       " 'recall': 0.7926509186351706,\n",
       " 'f1': 0.7862189758049549}"
      ]
     },
     "execution_count": 26,
     "metadata": {},
     "output_type": "execute_result"
    }
   ],
   "source": [
    "# Getting baseline results\n",
    "baseline_results = calculate_results(\n",
    "    y_true=val_labels,\n",
    "    y_pred=baseline_predictions\n",
    ")\n",
    "baseline_results"
   ]
  },
  {
   "attachments": {},
   "cell_type": "markdown",
   "metadata": {},
   "source": [
    "### Model 1: a simple dense model"
   ]
  },
  {
   "cell_type": "code",
   "execution_count": 27,
   "metadata": {},
   "outputs": [],
   "source": [
    "# Creating tensorboard callback\n",
    "from DanielBourke_HelperFunctions import create_tensorboard_callback\n",
    "\n",
    "# Creating log directory\n",
    "SAVE_DIR = \"model_logs\""
   ]
  },
  {
   "cell_type": "code",
   "execution_count": 28,
   "metadata": {},
   "outputs": [],
   "source": [
    "# Building model with Functional API\n",
    "from tensorflow.keras import layers\n",
    "\n",
    "inputs = layers.Input(shape=(1, ), dtype=tf.string)\n",
    "x = text_vectorizer(inputs) # Turn the input text into numbers\n",
    "x = embedding(x) # Create embedding of numberised inputs\n",
    "x = layers.GlobalAveragePooling1D()(x) # Condence the feature vector\n",
    "outputs = layers.Dense(1, activation=\"sigmoid\")(x)\n",
    "model_1 = tf.keras.Model(inputs, outputs, name=\"model_1_dense\")"
   ]
  },
  {
   "cell_type": "code",
   "execution_count": 29,
   "metadata": {},
   "outputs": [
    {
     "name": "stdout",
     "output_type": "stream",
     "text": [
      "Model: \"model_1_dense\"\n",
      "_________________________________________________________________\n",
      " Layer (type)                Output Shape              Param #   \n",
      "=================================================================\n",
      " input_1 (InputLayer)        [(None, 1)]               0         \n",
      "                                                                 \n",
      " text_vectorization_1 (TextV  (None, 15)               0         \n",
      " ectorization)                                                   \n",
      "                                                                 \n",
      " embedding (Embedding)       (None, 15, 128)           1280000   \n",
      "                                                                 \n",
      " global_average_pooling1d (G  (None, 128)              0         \n",
      " lobalAveragePooling1D)                                          \n",
      "                                                                 \n",
      " dense (Dense)               (None, 1)                 129       \n",
      "                                                                 \n",
      "=================================================================\n",
      "Total params: 1,280,129\n",
      "Trainable params: 1,280,129\n",
      "Non-trainable params: 0\n",
      "_________________________________________________________________\n"
     ]
    }
   ],
   "source": [
    "# Getting model summary\n",
    "model_1.summary()"
   ]
  },
  {
   "cell_type": "code",
   "execution_count": 30,
   "metadata": {},
   "outputs": [],
   "source": [
    "# Compiling model\n",
    "model_1.compile(\n",
    "    loss=\"binary_crossentropy\",\n",
    "    optimizer=tf.keras.optimizers.Adam(),\n",
    "    metrics=[\"accuracy\"]\n",
    ")"
   ]
  },
  {
   "cell_type": "code",
   "execution_count": 31,
   "metadata": {},
   "outputs": [
    {
     "name": "stdout",
     "output_type": "stream",
     "text": [
      "Saving TensorBoard log files to: model_logs/model_1_dense/20230117-144615\n",
      "Epoch 1/5\n",
      "215/215 [==============================] - 6s 22ms/step - loss: 0.6121 - accuracy: 0.6968 - val_loss: 0.5348 - val_accuracy: 0.7638\n",
      "Epoch 2/5\n",
      "215/215 [==============================] - 4s 19ms/step - loss: 0.4419 - accuracy: 0.8184 - val_loss: 0.4691 - val_accuracy: 0.7795\n",
      "Epoch 3/5\n",
      "215/215 [==============================] - 4s 17ms/step - loss: 0.3468 - accuracy: 0.8606 - val_loss: 0.4576 - val_accuracy: 0.7861\n",
      "Epoch 4/5\n",
      "215/215 [==============================] - 4s 17ms/step - loss: 0.2846 - accuracy: 0.8895 - val_loss: 0.4652 - val_accuracy: 0.7861\n",
      "Epoch 5/5\n",
      "215/215 [==============================] - 3s 16ms/step - loss: 0.2381 - accuracy: 0.9120 - val_loss: 0.4807 - val_accuracy: 0.7887\n"
     ]
    }
   ],
   "source": [
    "# Fitting the model\n",
    "history_1 = model_1.fit(\n",
    "    x=train_sentences,\n",
    "    y=train_labels,\n",
    "    epochs=5,\n",
    "    validation_data=(val_sentences, val_labels),\n",
    "    callbacks=[create_tensorboard_callback(\n",
    "        dir_name=SAVE_DIR,\n",
    "        experiment_name=\"model_1_dense\"\n",
    "    )]\n",
    ")"
   ]
  },
  {
   "cell_type": "code",
   "execution_count": 32,
   "metadata": {},
   "outputs": [
    {
     "name": "stdout",
     "output_type": "stream",
     "text": [
      "24/24 [==============================] - 0s 4ms/step - loss: 0.4807 - accuracy: 0.7887\n"
     ]
    },
    {
     "data": {
      "text/plain": [
       "[0.4806691110134125, 0.7887139320373535]"
      ]
     },
     "execution_count": 32,
     "metadata": {},
     "output_type": "execute_result"
    }
   ],
   "source": [
    "# Checking the results\n",
    "model_1.evaluate(val_sentences, val_labels)"
   ]
  },
  {
   "cell_type": "code",
   "execution_count": 33,
   "metadata": {},
   "outputs": [
    {
     "name": "stdout",
     "output_type": "stream",
     "text": [
      "24/24 [==============================] - 0s 2ms/step\n"
     ]
    },
    {
     "data": {
      "text/plain": [
       "(762, 1)"
      ]
     },
     "execution_count": 33,
     "metadata": {},
     "output_type": "execute_result"
    }
   ],
   "source": [
    "# Making predictions\n",
    "model_1_pred_probs = model_1.predict(val_sentences)\n",
    "model_1_pred_probs.shape"
   ]
  },
  {
   "cell_type": "code",
   "execution_count": 34,
   "metadata": {},
   "outputs": [
    {
     "data": {
      "text/plain": [
       "array([[0.3341781 ],\n",
       "       [0.7539585 ],\n",
       "       [0.99782854],\n",
       "       [0.12091462],\n",
       "       [0.09899848],\n",
       "       [0.93790734],\n",
       "       [0.9062346 ],\n",
       "       [0.9936596 ],\n",
       "       [0.9634924 ],\n",
       "       [0.2944509 ]], dtype=float32)"
      ]
     },
     "execution_count": 34,
     "metadata": {},
     "output_type": "execute_result"
    }
   ],
   "source": [
    "# First 10 predictions\n",
    "model_1_pred_probs[:10]"
   ]
  },
  {
   "cell_type": "code",
   "execution_count": 35,
   "metadata": {},
   "outputs": [
    {
     "data": {
      "text/plain": [
       "<tf.Tensor: shape=(20,), dtype=float32, numpy=\n",
       "array([0., 1., 1., 0., 0., 1., 1., 1., 1., 0., 0., 1., 0., 0., 0., 0., 0.,\n",
       "       0., 0., 0.], dtype=float32)>"
      ]
     },
     "execution_count": 35,
     "metadata": {},
     "output_type": "execute_result"
    }
   ],
   "source": [
    "# Converting model predictions to label format\n",
    "model_1_preds = tf.squeeze(tf.round(model_1_pred_probs))\n",
    "model_1_preds[:20]"
   ]
  },
  {
   "cell_type": "code",
   "execution_count": 36,
   "metadata": {},
   "outputs": [
    {
     "data": {
      "text/plain": [
       "{'accuracy': 78.87139107611549,\n",
       " 'precision': 0.7948464726843409,\n",
       " 'recall': 0.7887139107611548,\n",
       " 'f1': 0.7853694687698636}"
      ]
     },
     "execution_count": 36,
     "metadata": {},
     "output_type": "execute_result"
    }
   ],
   "source": [
    "# Calculating model 1 results\n",
    "model_1_results = calculate_results(\n",
    "    y_true=val_labels,\n",
    "    y_pred=model_1_preds\n",
    ")\n",
    "model_1_results"
   ]
  },
  {
   "cell_type": "code",
   "execution_count": 37,
   "metadata": {},
   "outputs": [
    {
     "data": {
      "text/plain": [
       "{'accuracy': 79.26509186351706,\n",
       " 'precision': 0.8111390004213173,\n",
       " 'recall': 0.7926509186351706,\n",
       " 'f1': 0.7862189758049549}"
      ]
     },
     "execution_count": 37,
     "metadata": {},
     "output_type": "execute_result"
    }
   ],
   "source": [
    "# Retrieving baseline results\n",
    "baseline_results"
   ]
  },
  {
   "cell_type": "code",
   "execution_count": 38,
   "metadata": {},
   "outputs": [
    {
     "data": {
      "text/plain": [
       "array([False, False, False, False])"
      ]
     },
     "execution_count": 38,
     "metadata": {},
     "output_type": "execute_result"
    }
   ],
   "source": [
    "# Comparing model results\n",
    "import numpy as np\n",
    "\n",
    "np.array(list(model_1_results.values())) > np.array(list(baseline_results.values()))"
   ]
  },
  {
   "attachments": {},
   "cell_type": "markdown",
   "metadata": {},
   "source": [
    "### Visualising learned embeddings"
   ]
  },
  {
   "cell_type": "code",
   "execution_count": 39,
   "metadata": {},
   "outputs": [
    {
     "data": {
      "text/plain": [
       "(10000, ['', '[UNK]', 'the', 'a', 'in', 'to', 'of', 'and', 'i', 'is'])"
      ]
     },
     "execution_count": 39,
     "metadata": {},
     "output_type": "execute_result"
    }
   ],
   "source": [
    "# Getting vocabulary from the text vectorisation layer\n",
    "words_in_vocab = text_vectorizer.get_vocabulary()\n",
    "len(words_in_vocab), words_in_vocab[:10]"
   ]
  },
  {
   "cell_type": "code",
   "execution_count": 40,
   "metadata": {},
   "outputs": [
    {
     "name": "stdout",
     "output_type": "stream",
     "text": [
      "Model: \"model_1_dense\"\n",
      "_________________________________________________________________\n",
      " Layer (type)                Output Shape              Param #   \n",
      "=================================================================\n",
      " input_1 (InputLayer)        [(None, 1)]               0         \n",
      "                                                                 \n",
      " text_vectorization_1 (TextV  (None, 15)               0         \n",
      " ectorization)                                                   \n",
      "                                                                 \n",
      " embedding (Embedding)       (None, 15, 128)           1280000   \n",
      "                                                                 \n",
      " global_average_pooling1d (G  (None, 128)              0         \n",
      " lobalAveragePooling1D)                                          \n",
      "                                                                 \n",
      " dense (Dense)               (None, 1)                 129       \n",
      "                                                                 \n",
      "=================================================================\n",
      "Total params: 1,280,129\n",
      "Trainable params: 1,280,129\n",
      "Non-trainable params: 0\n",
      "_________________________________________________________________\n"
     ]
    }
   ],
   "source": [
    "# Checking model 1 details\n",
    "model_1.summary()"
   ]
  },
  {
   "cell_type": "code",
   "execution_count": 41,
   "metadata": {},
   "outputs": [
    {
     "data": {
      "text/plain": [
       "([array([[ 2.6767540e-03, -3.2777602e-03,  4.5976691e-02, ...,\n",
       "           5.5052131e-02, -1.6638136e-02,  1.2244918e-02],\n",
       "         [-5.3494737e-02,  2.8274154e-02,  2.5087100e-02, ...,\n",
       "          -8.2938997e-03, -1.2823562e-02,  3.0468582e-05],\n",
       "         [-1.5043786e-02,  5.3968546e-03,  2.7731257e-02, ...,\n",
       "           4.8143580e-04,  5.3653554e-03,  3.6919019e-03],\n",
       "         ...,\n",
       "         [ 2.9636178e-02,  1.9981328e-02,  2.8004497e-04, ...,\n",
       "           4.3947946e-02, -1.5317760e-02,  2.6961081e-03],\n",
       "         [-3.0326257e-02, -1.3019651e-03,  5.0665926e-02, ...,\n",
       "           6.0863372e-02, -5.9041396e-02,  8.6783441e-03],\n",
       "         [-5.5409823e-02,  1.1034158e-01,  7.3128663e-02, ...,\n",
       "           8.5190937e-02, -6.7571141e-02, -2.7192261e-02]], dtype=float32)],\n",
       " (10000, 128))"
      ]
     },
     "execution_count": 41,
     "metadata": {},
     "output_type": "execute_result"
    }
   ],
   "source": [
    "# Getting the weights\n",
    "embed_weights = model_1.get_layer(\"embedding\").get_weights()\n",
    "embed_weights, embed_weights[0].shape"
   ]
  },
  {
   "cell_type": "code",
   "execution_count": 42,
   "metadata": {},
   "outputs": [],
   "source": [
    "# Creating embedding files (sample from TF Word Embedding documentation)\n",
    "import io\n",
    "\n",
    "out_v = io.open(\"vectors.tsv\", \"w\", encoding=\"utf-8\")\n",
    "out_m = io.open(\"metadata.tsv\", \"w\", encoding=\"utf-8\")\n",
    "\n",
    "for index, word in enumerate(words_in_vocab):\n",
    "    if index == 0:\n",
    "        continue # Skip 0, as it's a padding\n",
    "    vec = embed_weights[0][index]\n",
    "    out_v.write(\"\\t\".join([str(x) for x in vec]) + \"\\n\")\n",
    "    out_m.write(word + \"\\n\")\n",
    "\n",
    "out_v.close()\n",
    "out_m.close()"
   ]
  },
  {
   "attachments": {},
   "cell_type": "markdown",
   "metadata": {},
   "source": [
    "Generated vectors.tsv and metadata.tsv can be uploaded into Tensorflow Embedding Projector tool at https://projector.tensorflow.org/ to visualise weights in 3D space."
   ]
  },
  {
   "attachments": {},
   "cell_type": "markdown",
   "metadata": {},
   "source": [
    "### Model 2 - RNN (Recurrent Neural Network) with LSTM (Long Short-Term Memory)"
   ]
  },
  {
   "cell_type": "code",
   "execution_count": 43,
   "metadata": {},
   "outputs": [
    {
     "name": "stdout",
     "output_type": "stream",
     "text": [
      "(None, 15, 128)\n",
      "(None, 64)\n"
     ]
    }
   ],
   "source": [
    "# CReating an RNN model\n",
    "from tensorflow.keras import layers\n",
    "\n",
    "inputs = layers.Input(shape=(1,), dtype=\"string\")\n",
    "x = text_vectorizer(inputs)\n",
    "x = embedding(x)\n",
    "print(x.shape)\n",
    "# x = layers.LSTM(units=64, return_sequences=True)(x) # Sequences required when you stack LSTM layers\n",
    "# print(x.shape)\n",
    "x = layers.LSTM(64)(x)\n",
    "print(x.shape)\n",
    "# x = layers.Dense(64, activation=\"relu\")(x)\n",
    "outputs = layers.Dense(1, activation=\"sigmoid\")(x)\n",
    "model_2 = tf.keras.Model(inputs, outputs, name=\"model_2_LSTM\")"
   ]
  },
  {
   "cell_type": "code",
   "execution_count": 44,
   "metadata": {},
   "outputs": [
    {
     "name": "stdout",
     "output_type": "stream",
     "text": [
      "Model: \"model_2_LSTM\"\n",
      "_________________________________________________________________\n",
      " Layer (type)                Output Shape              Param #   \n",
      "=================================================================\n",
      " input_2 (InputLayer)        [(None, 1)]               0         \n",
      "                                                                 \n",
      " text_vectorization_1 (TextV  (None, 15)               0         \n",
      " ectorization)                                                   \n",
      "                                                                 \n",
      " embedding (Embedding)       (None, 15, 128)           1280000   \n",
      "                                                                 \n",
      " lstm (LSTM)                 (None, 64)                49408     \n",
      "                                                                 \n",
      " dense_1 (Dense)             (None, 1)                 65        \n",
      "                                                                 \n",
      "=================================================================\n",
      "Total params: 1,329,473\n",
      "Trainable params: 1,329,473\n",
      "Non-trainable params: 0\n",
      "_________________________________________________________________\n"
     ]
    }
   ],
   "source": [
    "# Checking model's summary\n",
    "model_2.summary()"
   ]
  },
  {
   "cell_type": "code",
   "execution_count": 45,
   "metadata": {},
   "outputs": [],
   "source": [
    "# Compiling the model\n",
    "model_2.compile(\n",
    "    loss=\"binary_crossentropy\",\n",
    "    optimizer=tf.keras.optimizers.Adam(),\n",
    "    metrics=[\"accuracy\"]\n",
    ")"
   ]
  },
  {
   "cell_type": "code",
   "execution_count": 46,
   "metadata": {},
   "outputs": [
    {
     "name": "stdout",
     "output_type": "stream",
     "text": [
      "Saving TensorBoard log files to: model_logs/model_2_LSTM/20230117-144640\n",
      "Epoch 1/5\n",
      "215/215 [==============================] - 10s 28ms/step - loss: 0.2223 - accuracy: 0.9215 - val_loss: 0.5274 - val_accuracy: 0.7848\n",
      "Epoch 2/5\n",
      "215/215 [==============================] - 5s 23ms/step - loss: 0.1563 - accuracy: 0.9429 - val_loss: 0.6688 - val_accuracy: 0.7782\n",
      "Epoch 3/5\n",
      "215/215 [==============================] - 5s 23ms/step - loss: 0.1308 - accuracy: 0.9495 - val_loss: 0.8233 - val_accuracy: 0.7769\n",
      "Epoch 4/5\n",
      "215/215 [==============================] - 5s 23ms/step - loss: 0.1075 - accuracy: 0.9596 - val_loss: 0.8376 - val_accuracy: 0.7769\n",
      "Epoch 5/5\n",
      "215/215 [==============================] - 5s 23ms/step - loss: 0.0844 - accuracy: 0.9669 - val_loss: 0.9954 - val_accuracy: 0.7690\n"
     ]
    }
   ],
   "source": [
    "# Fittting the model\n",
    "history_2 = model_2.fit(\n",
    "    x=train_sentences,\n",
    "    y=train_labels,\n",
    "    epochs=5,\n",
    "    validation_data=(val_sentences, val_labels),\n",
    "    callbacks=[create_tensorboard_callback(\n",
    "        dir_name=SAVE_DIR,\n",
    "        experiment_name=\"model_2_LSTM\"\n",
    "    )]\n",
    ")"
   ]
  },
  {
   "cell_type": "code",
   "execution_count": 47,
   "metadata": {},
   "outputs": [
    {
     "name": "stdout",
     "output_type": "stream",
     "text": [
      "24/24 [==============================] - 1s 6ms/step\n"
     ]
    },
    {
     "data": {
      "text/plain": [
       "array([[4.2517679e-03],\n",
       "       [7.5846618e-01],\n",
       "       [9.9988163e-01],\n",
       "       [2.5216393e-02],\n",
       "       [4.0567457e-04],\n",
       "       [9.9919766e-01],\n",
       "       [3.9032951e-01],\n",
       "       [9.9992549e-01],\n",
       "       [9.9986601e-01],\n",
       "       [5.4421079e-01]], dtype=float32)"
      ]
     },
     "execution_count": 47,
     "metadata": {},
     "output_type": "execute_result"
    }
   ],
   "source": [
    "# Meking predictions\n",
    "model_2_pred_probs = model_2.predict(val_sentences)\n",
    "model_2_pred_probs[:10]"
   ]
  },
  {
   "cell_type": "code",
   "execution_count": 48,
   "metadata": {},
   "outputs": [
    {
     "data": {
      "text/plain": [
       "<tf.Tensor: shape=(10,), dtype=float32, numpy=array([0., 1., 1., 0., 0., 1., 0., 1., 1., 1.], dtype=float32)>"
      ]
     },
     "execution_count": 48,
     "metadata": {},
     "output_type": "execute_result"
    }
   ],
   "source": [
    "# Converting pred probs to label format\n",
    "model_2_preds = tf.squeeze(tf.round(model_2_pred_probs))\n",
    "model_2_preds[:10]"
   ]
  },
  {
   "cell_type": "code",
   "execution_count": 49,
   "metadata": {},
   "outputs": [
    {
     "data": {
      "text/plain": [
       "{'accuracy': 76.9028871391076,\n",
       " 'precision': 0.7711368167182066,\n",
       " 'recall': 0.7690288713910761,\n",
       " 'f1': 0.7666669868908192}"
      ]
     },
     "execution_count": 49,
     "metadata": {},
     "output_type": "execute_result"
    }
   ],
   "source": [
    "#Calculate model 2 results\n",
    "model_2_results = calculate_results(\n",
    "    y_true=val_labels,\n",
    "    y_pred=model_2_preds\n",
    ")\n",
    "model_2_results"
   ]
  },
  {
   "attachments": {},
   "cell_type": "markdown",
   "metadata": {},
   "source": [
    "### Model 3 - RNN with GRU (gated recurrent unit)"
   ]
  },
  {
   "cell_type": "code",
   "execution_count": 50,
   "metadata": {},
   "outputs": [],
   "source": [
    "# Building the model\n",
    "from tensorflow.keras import layers\n",
    "\n",
    "inputs = layers.Input(shape=(1,), dtype=tf.string)\n",
    "x = text_vectorizer(inputs)\n",
    "x = embedding(x)\n",
    "# x = layers.GRU(64, return_sequences=True)(x) # Sequences, if GRU are stuck on each other\n",
    "x = layers.GRU(64)(x)\n",
    "# x = layers.Dense(64, activation=\"relu\")(x)\n",
    "# x = layers.GlobalAveragePooling1D()(x) # If we want to consolidate GRU layer with sequences\n",
    "outputs = layers.Dense(1, activation=\"sigmoid\")(x)\n",
    "model_3 = tf.keras.Model(inputs, outputs, name=\"model_3_GRU\")"
   ]
  },
  {
   "cell_type": "code",
   "execution_count": 51,
   "metadata": {},
   "outputs": [
    {
     "name": "stdout",
     "output_type": "stream",
     "text": [
      "Model: \"model_3_GRU\"\n",
      "_________________________________________________________________\n",
      " Layer (type)                Output Shape              Param #   \n",
      "=================================================================\n",
      " input_3 (InputLayer)        [(None, 1)]               0         \n",
      "                                                                 \n",
      " text_vectorization_1 (TextV  (None, 15)               0         \n",
      " ectorization)                                                   \n",
      "                                                                 \n",
      " embedding (Embedding)       (None, 15, 128)           1280000   \n",
      "                                                                 \n",
      " gru (GRU)                   (None, 64)                37248     \n",
      "                                                                 \n",
      " dense_2 (Dense)             (None, 1)                 65        \n",
      "                                                                 \n",
      "=================================================================\n",
      "Total params: 1,317,313\n",
      "Trainable params: 1,317,313\n",
      "Non-trainable params: 0\n",
      "_________________________________________________________________\n"
     ]
    }
   ],
   "source": [
    "# Getting model summary\n",
    "model_3.summary()"
   ]
  },
  {
   "cell_type": "code",
   "execution_count": 52,
   "metadata": {},
   "outputs": [],
   "source": [
    "# Compiling the model\n",
    "model_3.compile(\n",
    "    loss=\"binary_crossentropy\",\n",
    "    optimizer=tf.keras.optimizers.Adam(),\n",
    "    metrics=[\"accuracy\"]\n",
    ")"
   ]
  },
  {
   "cell_type": "code",
   "execution_count": 53,
   "metadata": {},
   "outputs": [
    {
     "name": "stdout",
     "output_type": "stream",
     "text": [
      "Saving TensorBoard log files to: model_logs/model_3_GRU/20230117-144712\n",
      "Epoch 1/5\n",
      "215/215 [==============================] - 10s 28ms/step - loss: 0.1552 - accuracy: 0.9371 - val_loss: 0.7951 - val_accuracy: 0.7756\n",
      "Epoch 2/5\n",
      "215/215 [==============================] - 5s 23ms/step - loss: 0.0822 - accuracy: 0.9688 - val_loss: 0.8613 - val_accuracy: 0.7808\n",
      "Epoch 3/5\n",
      "215/215 [==============================] - 5s 23ms/step - loss: 0.0695 - accuracy: 0.9742 - val_loss: 1.0881 - val_accuracy: 0.7730\n",
      "Epoch 4/5\n",
      "215/215 [==============================] - 5s 22ms/step - loss: 0.0618 - accuracy: 0.9731 - val_loss: 0.8623 - val_accuracy: 0.7730\n",
      "Epoch 5/5\n",
      "215/215 [==============================] - 5s 21ms/step - loss: 0.0543 - accuracy: 0.9769 - val_loss: 1.2238 - val_accuracy: 0.7717\n"
     ]
    }
   ],
   "source": [
    "# Fitting the model\n",
    "history_3 = model_3.fit(\n",
    "    train_sentences,\n",
    "    train_labels,\n",
    "    epochs=5,\n",
    "    validation_data=(val_sentences, val_labels),\n",
    "    callbacks=[create_tensorboard_callback(\n",
    "        dir_name=SAVE_DIR,\n",
    "        experiment_name=\"model_3_GRU\"\n",
    "    )]\n",
    ")"
   ]
  },
  {
   "cell_type": "code",
   "execution_count": 54,
   "metadata": {},
   "outputs": [
    {
     "name": "stdout",
     "output_type": "stream",
     "text": [
      "24/24 [==============================] - 1s 4ms/step\n"
     ]
    },
    {
     "data": {
      "text/plain": [
       "array([[2.18061241e-03],\n",
       "       [6.28073812e-01],\n",
       "       [9.99931395e-01],\n",
       "       [1.77777320e-01],\n",
       "       [7.85981974e-05],\n",
       "       [9.99894738e-01],\n",
       "       [7.83210039e-01],\n",
       "       [9.99971390e-01],\n",
       "       [9.99941826e-01],\n",
       "       [9.95610654e-01],\n",
       "       [2.11663457e-04],\n",
       "       [9.86105263e-01],\n",
       "       [2.61931971e-04],\n",
       "       [1.62298679e-01],\n",
       "       [7.24547062e-05],\n",
       "       [3.28263524e-03],\n",
       "       [4.43045923e-04],\n",
       "       [3.24096705e-04],\n",
       "       [6.54874593e-02],\n",
       "       [9.99921918e-01],\n",
       "       [9.99978542e-01],\n",
       "       [3.75662385e-05],\n",
       "       [9.99355972e-01],\n",
       "       [6.70541264e-03],\n",
       "       [9.99959052e-01],\n",
       "       [9.99956846e-01],\n",
       "       [2.06564227e-03],\n",
       "       [4.96006629e-04],\n",
       "       [2.42066861e-04],\n",
       "       [6.77800477e-01],\n",
       "       [9.99692321e-01],\n",
       "       [1.51984976e-03],\n",
       "       [3.45256738e-02],\n",
       "       [1.46777101e-03],\n",
       "       [7.87342548e-01],\n",
       "       [2.42188275e-01],\n",
       "       [9.99915242e-01],\n",
       "       [3.45686972e-01],\n",
       "       [4.43611369e-02],\n",
       "       [9.99960303e-01],\n",
       "       [3.88509542e-01],\n",
       "       [7.09223532e-05],\n",
       "       [7.01442599e-01],\n",
       "       [1.39358075e-04],\n",
       "       [9.98326480e-01],\n",
       "       [9.99917269e-01],\n",
       "       [9.99199271e-01],\n",
       "       [9.55623507e-01],\n",
       "       [2.28972407e-03],\n",
       "       [1.65828973e-01],\n",
       "       [4.96789627e-03],\n",
       "       [4.62083727e-01],\n",
       "       [1.07308449e-02],\n",
       "       [3.74087528e-03],\n",
       "       [9.15989518e-01],\n",
       "       [4.03362066e-02],\n",
       "       [2.18684017e-03],\n",
       "       [9.99929607e-01],\n",
       "       [2.96135491e-04],\n",
       "       [5.02522045e-04],\n",
       "       [7.40840435e-02],\n",
       "       [9.99929845e-01],\n",
       "       [9.99525309e-01],\n",
       "       [7.93344021e-01],\n",
       "       [9.99973953e-01],\n",
       "       [9.99969900e-01],\n",
       "       [9.86945331e-01],\n",
       "       [2.15182435e-02],\n",
       "       [9.99656737e-01],\n",
       "       [2.94939965e-01],\n",
       "       [3.94017510e-02],\n",
       "       [4.05177101e-02],\n",
       "       [9.99957263e-01],\n",
       "       [3.26451589e-03],\n",
       "       [5.67833364e-01],\n",
       "       [9.99624431e-01],\n",
       "       [1.16813891e-01],\n",
       "       [9.99662757e-01],\n",
       "       [4.32637393e-01],\n",
       "       [6.88863546e-02],\n",
       "       [6.19892206e-04],\n",
       "       [1.31320208e-01],\n",
       "       [9.99952734e-01],\n",
       "       [4.92636464e-04],\n",
       "       [4.53119836e-04],\n",
       "       [1.35722489e-03],\n",
       "       [4.80804127e-04],\n",
       "       [6.10812334e-04],\n",
       "       [2.83254706e-03],\n",
       "       [9.99877572e-01],\n",
       "       [9.99923229e-01],\n",
       "       [8.58232888e-05],\n",
       "       [9.11822557e-01],\n",
       "       [1.40863471e-04],\n",
       "       [9.99950409e-01],\n",
       "       [6.03216290e-01],\n",
       "       [9.93292689e-01],\n",
       "       [9.99986827e-01],\n",
       "       [9.99874651e-01],\n",
       "       [9.68318343e-01],\n",
       "       [9.99983609e-01],\n",
       "       [1.00234933e-02],\n",
       "       [6.70304726e-05],\n",
       "       [9.98681068e-01],\n",
       "       [9.99914944e-01],\n",
       "       [3.32620621e-01],\n",
       "       [9.99779284e-01],\n",
       "       [9.98062670e-01],\n",
       "       [4.57782618e-04],\n",
       "       [9.99912202e-01],\n",
       "       [9.99589264e-01],\n",
       "       [2.18924804e-04],\n",
       "       [8.83240461e-01],\n",
       "       [9.97328083e-04],\n",
       "       [5.12492144e-04],\n",
       "       [8.35707784e-02],\n",
       "       [8.47243845e-01],\n",
       "       [9.99890566e-01],\n",
       "       [4.69524739e-03],\n",
       "       [4.04594728e-04],\n",
       "       [9.99962687e-01],\n",
       "       [1.01603007e-04],\n",
       "       [9.53213384e-05],\n",
       "       [9.91240501e-01],\n",
       "       [1.12023177e-02],\n",
       "       [1.26469485e-03],\n",
       "       [9.99910235e-01],\n",
       "       [7.79699403e-05],\n",
       "       [7.64086610e-04],\n",
       "       [9.99683857e-01],\n",
       "       [1.33519294e-03],\n",
       "       [9.99962687e-01],\n",
       "       [9.99965787e-01],\n",
       "       [9.99956846e-01],\n",
       "       [9.99911010e-01],\n",
       "       [8.89318297e-04],\n",
       "       [9.99932051e-01],\n",
       "       [1.13369577e-01],\n",
       "       [3.78549169e-03],\n",
       "       [6.38389029e-04],\n",
       "       [9.99967813e-01],\n",
       "       [9.91337538e-01],\n",
       "       [1.62298679e-01],\n",
       "       [9.99813557e-01],\n",
       "       [2.11891159e-01],\n",
       "       [1.50707960e-02],\n",
       "       [1.73443579e-04],\n",
       "       [5.11930739e-05],\n",
       "       [9.53997433e-01],\n",
       "       [9.99931335e-01],\n",
       "       [5.18560468e-04],\n",
       "       [7.87800401e-02],\n",
       "       [9.12253372e-03],\n",
       "       [2.93835532e-04],\n",
       "       [3.79685982e-04],\n",
       "       [9.99830842e-01],\n",
       "       [9.95372593e-01],\n",
       "       [3.27149895e-03],\n",
       "       [9.99754369e-01],\n",
       "       [2.10278900e-04],\n",
       "       [9.99969780e-01],\n",
       "       [2.36884807e-03],\n",
       "       [5.00695646e-01],\n",
       "       [9.99241889e-01],\n",
       "       [8.40159506e-02],\n",
       "       [7.68714599e-05],\n",
       "       [9.99942660e-01],\n",
       "       [3.97618592e-01],\n",
       "       [9.99951720e-01],\n",
       "       [7.41455376e-01],\n",
       "       [9.99946237e-01],\n",
       "       [9.98714924e-01],\n",
       "       [9.99913216e-01],\n",
       "       [2.04321579e-04],\n",
       "       [9.99988973e-01],\n",
       "       [1.08958839e-03],\n",
       "       [3.01364972e-03],\n",
       "       [4.07863893e-02],\n",
       "       [9.28780138e-01],\n",
       "       [9.99941289e-01],\n",
       "       [1.28041371e-03],\n",
       "       [9.87866521e-01],\n",
       "       [9.99932230e-01],\n",
       "       [9.99952376e-01],\n",
       "       [9.99958396e-01],\n",
       "       [4.16273018e-04],\n",
       "       [5.08744386e-04],\n",
       "       [9.99987781e-01],\n",
       "       [6.10667121e-05],\n",
       "       [7.49964092e-05],\n",
       "       [4.72333422e-03],\n",
       "       [9.99873161e-01],\n",
       "       [4.47019789e-04],\n",
       "       [2.69690936e-04],\n",
       "       [1.02362013e-04],\n",
       "       [4.99575981e-04],\n",
       "       [4.63829550e-04],\n",
       "       [4.90745204e-03],\n",
       "       [9.99908507e-01],\n",
       "       [6.35503791e-03],\n",
       "       [2.50214264e-02],\n",
       "       [9.99938607e-01],\n",
       "       [9.99931872e-01],\n",
       "       [1.91995455e-03],\n",
       "       [2.48667144e-04],\n",
       "       [9.99928951e-01],\n",
       "       [9.99857903e-01],\n",
       "       [9.99874294e-01],\n",
       "       [9.99875128e-01],\n",
       "       [9.98019993e-01],\n",
       "       [2.88407523e-02],\n",
       "       [9.99927640e-01],\n",
       "       [1.41477169e-04],\n",
       "       [1.31189835e-03],\n",
       "       [1.30594330e-04],\n",
       "       [8.59599895e-05],\n",
       "       [9.99931037e-01],\n",
       "       [9.99515057e-01],\n",
       "       [9.99877155e-01],\n",
       "       [4.10646975e-01],\n",
       "       [5.63005991e-02],\n",
       "       [2.66063167e-03],\n",
       "       [2.10916717e-02],\n",
       "       [2.31177919e-03],\n",
       "       [9.99926507e-01],\n",
       "       [5.14852330e-02],\n",
       "       [1.14949115e-01],\n",
       "       [9.99977887e-01],\n",
       "       [9.99665260e-01],\n",
       "       [9.88482952e-01],\n",
       "       [1.20355246e-04],\n",
       "       [7.91665260e-03],\n",
       "       [9.99136865e-01],\n",
       "       [5.31884551e-01],\n",
       "       [6.92867100e-01],\n",
       "       [4.66110073e-02],\n",
       "       [5.85099459e-01],\n",
       "       [2.25792512e-01],\n",
       "       [1.12431170e-03],\n",
       "       [1.24577153e-03],\n",
       "       [9.99803722e-01],\n",
       "       [4.99237403e-02],\n",
       "       [9.99937236e-01],\n",
       "       [9.99909520e-01],\n",
       "       [6.51864044e-04],\n",
       "       [1.00737059e-04],\n",
       "       [9.99915004e-01],\n",
       "       [2.02437062e-04],\n",
       "       [9.43941902e-03],\n",
       "       [1.86739773e-01],\n",
       "       [4.18991753e-04],\n",
       "       [9.99498248e-01],\n",
       "       [5.91719145e-05],\n",
       "       [4.74615628e-03],\n",
       "       [9.99893904e-01],\n",
       "       [1.04462601e-01],\n",
       "       [9.99922097e-01],\n",
       "       [9.99971092e-01],\n",
       "       [5.75365201e-02],\n",
       "       [2.15725304e-04],\n",
       "       [3.94628197e-03],\n",
       "       [2.25396579e-04],\n",
       "       [3.79657140e-05],\n",
       "       [9.99759257e-01],\n",
       "       [9.99951124e-01],\n",
       "       [4.76293378e-02],\n",
       "       [9.99900401e-01],\n",
       "       [2.96706625e-04],\n",
       "       [3.52668110e-03],\n",
       "       [1.75450230e-04],\n",
       "       [4.59029106e-04],\n",
       "       [1.47351951e-04],\n",
       "       [9.99889791e-01],\n",
       "       [2.57541938e-03],\n",
       "       [9.59296449e-05],\n",
       "       [9.99907792e-01],\n",
       "       [1.83447031e-04],\n",
       "       [2.09199003e-04],\n",
       "       [9.99913514e-01],\n",
       "       [2.81791086e-04],\n",
       "       [2.44358964e-02],\n",
       "       [1.22884026e-04],\n",
       "       [9.99922931e-01],\n",
       "       [8.37690294e-01],\n",
       "       [5.79786003e-01],\n",
       "       [1.26510169e-02],\n",
       "       [9.99743044e-01],\n",
       "       [3.54951061e-03],\n",
       "       [9.99938726e-01],\n",
       "       [5.88360103e-03],\n",
       "       [9.97717023e-01],\n",
       "       [9.68445897e-01],\n",
       "       [9.99159873e-01],\n",
       "       [5.74365437e-01],\n",
       "       [1.69506727e-03],\n",
       "       [4.73942906e-01],\n",
       "       [7.52849830e-03],\n",
       "       [7.30994018e-03],\n",
       "       [6.25090790e-04],\n",
       "       [9.48209688e-02],\n",
       "       [4.30930013e-05],\n",
       "       [4.84820222e-04],\n",
       "       [2.77862195e-02],\n",
       "       [9.99940395e-01],\n",
       "       [6.69378845e-04],\n",
       "       [2.76125707e-02],\n",
       "       [6.50019422e-02],\n",
       "       [3.96441787e-01],\n",
       "       [3.80882211e-02],\n",
       "       [5.66587783e-04],\n",
       "       [2.03154443e-04],\n",
       "       [9.99838948e-01],\n",
       "       [4.85254526e-01],\n",
       "       [3.83502871e-01],\n",
       "       [9.99975562e-01],\n",
       "       [2.69475800e-04],\n",
       "       [9.55482185e-01],\n",
       "       [3.25340748e-01],\n",
       "       [2.94615584e-03],\n",
       "       [1.39551222e-01],\n",
       "       [2.80891720e-04],\n",
       "       [2.66611055e-02],\n",
       "       [9.99741673e-01],\n",
       "       [9.69257712e-01],\n",
       "       [9.99932647e-01],\n",
       "       [2.25721076e-01],\n",
       "       [1.75953319e-04],\n",
       "       [9.99939382e-01],\n",
       "       [3.44687549e-04],\n",
       "       [9.99944329e-01],\n",
       "       [1.85211515e-03],\n",
       "       [9.43198975e-04],\n",
       "       [9.99925137e-01],\n",
       "       [4.32416040e-04],\n",
       "       [1.98061985e-04],\n",
       "       [9.99845982e-01],\n",
       "       [2.35393803e-04],\n",
       "       [3.39704799e-03],\n",
       "       [9.97058749e-01],\n",
       "       [9.98586714e-01],\n",
       "       [1.06745669e-04],\n",
       "       [2.23251549e-03],\n",
       "       [9.99923587e-01],\n",
       "       [9.99974132e-01],\n",
       "       [9.99829233e-01],\n",
       "       [1.12288423e-01],\n",
       "       [9.99184668e-01],\n",
       "       [9.96996105e-01],\n",
       "       [4.07175021e-03],\n",
       "       [3.02042754e-04],\n",
       "       [7.58925825e-02],\n",
       "       [4.12913896e-02],\n",
       "       [1.17411830e-04],\n",
       "       [4.87066805e-03],\n",
       "       [1.07772492e-01],\n",
       "       [1.45891376e-04],\n",
       "       [9.99914229e-01],\n",
       "       [9.99956846e-01],\n",
       "       [9.99950767e-01],\n",
       "       [3.41365318e-04],\n",
       "       [2.54502684e-01],\n",
       "       [2.59681821e-01],\n",
       "       [5.80801144e-02],\n",
       "       [9.96369720e-01],\n",
       "       [1.74429223e-01],\n",
       "       [1.27495689e-04],\n",
       "       [3.69498390e-04],\n",
       "       [4.04786231e-04],\n",
       "       [9.99708235e-01],\n",
       "       [7.03321362e-04],\n",
       "       [5.98317897e-03],\n",
       "       [2.86003953e-04],\n",
       "       [1.18119025e-03],\n",
       "       [1.13051191e-01],\n",
       "       [9.95827556e-01],\n",
       "       [1.20613500e-01],\n",
       "       [3.11048498e-04],\n",
       "       [1.70551392e-03],\n",
       "       [5.81314613e-04],\n",
       "       [9.99946654e-01],\n",
       "       [9.99882460e-01],\n",
       "       [9.74366963e-01],\n",
       "       [9.95099247e-01],\n",
       "       [9.67840679e-05],\n",
       "       [9.84165728e-01],\n",
       "       [9.99945223e-01],\n",
       "       [7.44459033e-01],\n",
       "       [8.14777389e-02],\n",
       "       [9.99846816e-01],\n",
       "       [1.62336230e-02],\n",
       "       [9.99938786e-01],\n",
       "       [3.53852600e-01],\n",
       "       [2.92924629e-03],\n",
       "       [8.43217790e-01],\n",
       "       [4.48394865e-02],\n",
       "       [9.99908864e-01],\n",
       "       [1.28128856e-01],\n",
       "       [6.72321257e-05],\n",
       "       [9.37541947e-04],\n",
       "       [1.74429223e-01],\n",
       "       [9.99990463e-01],\n",
       "       [5.99447812e-05],\n",
       "       [4.87967938e-01],\n",
       "       [9.99983668e-01],\n",
       "       [3.92704715e-05],\n",
       "       [9.99962687e-01],\n",
       "       [5.36796520e-04],\n",
       "       [4.59092110e-03],\n",
       "       [3.85533262e-04],\n",
       "       [9.99881983e-01],\n",
       "       [9.99616563e-01],\n",
       "       [6.49639114e-04],\n",
       "       [2.52224010e-04],\n",
       "       [9.99832571e-01],\n",
       "       [9.99938548e-01],\n",
       "       [5.37472129e-01],\n",
       "       [3.13688826e-04],\n",
       "       [3.74563783e-03],\n",
       "       [1.02581650e-01],\n",
       "       [4.53384069e-04],\n",
       "       [9.99954641e-01],\n",
       "       [9.93665040e-01],\n",
       "       [9.99964297e-01],\n",
       "       [9.99917269e-01],\n",
       "       [8.10055155e-03],\n",
       "       [3.40663224e-01],\n",
       "       [4.67081991e-04],\n",
       "       [9.99868035e-01],\n",
       "       [9.78258848e-01],\n",
       "       [9.91351068e-01],\n",
       "       [1.95858870e-02],\n",
       "       [2.30717808e-02],\n",
       "       [2.03824090e-03],\n",
       "       [1.08930872e-04],\n",
       "       [3.70383933e-02],\n",
       "       [5.84005713e-02],\n",
       "       [9.99440670e-01],\n",
       "       [3.15488037e-03],\n",
       "       [9.99962330e-01],\n",
       "       [9.99944568e-01],\n",
       "       [3.58051877e-03],\n",
       "       [6.28073812e-01],\n",
       "       [1.50240713e-03],\n",
       "       [3.55498953e-04],\n",
       "       [5.75591624e-01],\n",
       "       [9.99934256e-01],\n",
       "       [7.00414740e-03],\n",
       "       [1.35038301e-01],\n",
       "       [7.57911330e-05],\n",
       "       [5.03156595e-02],\n",
       "       [2.58652617e-05],\n",
       "       [9.99935031e-01],\n",
       "       [9.99599874e-01],\n",
       "       [9.99944150e-01],\n",
       "       [9.98120129e-01],\n",
       "       [9.94295776e-01],\n",
       "       [4.42258781e-03],\n",
       "       [9.80244222e-05],\n",
       "       [6.27043068e-01],\n",
       "       [9.99763668e-01],\n",
       "       [9.99932170e-01],\n",
       "       [2.54031620e-04],\n",
       "       [3.88246425e-03],\n",
       "       [3.72583163e-04],\n",
       "       [9.99942720e-01],\n",
       "       [9.99934018e-01],\n",
       "       [8.84419598e-04],\n",
       "       [7.25614205e-02],\n",
       "       [9.99980986e-01],\n",
       "       [4.74788528e-03],\n",
       "       [6.03454048e-03],\n",
       "       [9.96832728e-01],\n",
       "       [6.25185494e-04],\n",
       "       [5.80605643e-04],\n",
       "       [9.98654366e-01],\n",
       "       [2.97324896e-01],\n",
       "       [1.34923533e-01],\n",
       "       [9.99987066e-01],\n",
       "       [1.48758467e-04],\n",
       "       [1.44811755e-03],\n",
       "       [4.17783413e-05],\n",
       "       [1.29025953e-04],\n",
       "       [7.49689993e-04],\n",
       "       [9.99934316e-01],\n",
       "       [2.25439770e-04],\n",
       "       [6.53617203e-01],\n",
       "       [9.86257911e-01],\n",
       "       [6.77143410e-02],\n",
       "       [2.97105890e-02],\n",
       "       [5.83882902e-05],\n",
       "       [8.28287099e-04],\n",
       "       [9.99963105e-01],\n",
       "       [9.99907315e-01],\n",
       "       [6.24692580e-03],\n",
       "       [5.03272982e-04],\n",
       "       [1.75402651e-03],\n",
       "       [3.60428996e-04],\n",
       "       [9.99750376e-01],\n",
       "       [1.08677498e-03],\n",
       "       [9.99863029e-01],\n",
       "       [9.99596119e-01],\n",
       "       [9.63781476e-01],\n",
       "       [9.91496027e-01],\n",
       "       [3.45239528e-02],\n",
       "       [5.55894896e-02],\n",
       "       [1.82496815e-03],\n",
       "       [2.22058401e-01],\n",
       "       [8.08266759e-01],\n",
       "       [9.37218666e-01],\n",
       "       [2.90001035e-01],\n",
       "       [5.94717683e-04],\n",
       "       [5.97782127e-05],\n",
       "       [5.64144284e-04],\n",
       "       [5.86204464e-03],\n",
       "       [4.09662500e-02],\n",
       "       [1.83870107e-01],\n",
       "       [9.99962032e-01],\n",
       "       [9.99882281e-01],\n",
       "       [6.03216290e-01],\n",
       "       [9.99871492e-01],\n",
       "       [1.00304589e-01],\n",
       "       [1.39528629e-03],\n",
       "       [9.99881268e-01],\n",
       "       [1.16895549e-02],\n",
       "       [7.94679625e-04],\n",
       "       [1.01726487e-01],\n",
       "       [9.97147441e-01],\n",
       "       [5.06121251e-05],\n",
       "       [9.96737778e-01],\n",
       "       [9.98077512e-01],\n",
       "       [9.99873817e-01],\n",
       "       [9.99876797e-01],\n",
       "       [6.30543567e-04],\n",
       "       [1.03436798e-01],\n",
       "       [9.96200681e-01],\n",
       "       [1.50217791e-04],\n",
       "       [7.71236494e-02],\n",
       "       [4.08963054e-01],\n",
       "       [9.99821246e-01],\n",
       "       [9.91409659e-01],\n",
       "       [1.07192679e-03],\n",
       "       [1.90146756e-03],\n",
       "       [9.97729838e-01],\n",
       "       [7.46292819e-04],\n",
       "       [3.28705786e-03],\n",
       "       [5.85308408e-05],\n",
       "       [3.77362937e-01],\n",
       "       [9.99951780e-01],\n",
       "       [9.99737978e-01],\n",
       "       [4.33057509e-02],\n",
       "       [9.99946415e-01],\n",
       "       [9.99947786e-01],\n",
       "       [6.29641509e-05],\n",
       "       [9.99924242e-01],\n",
       "       [7.43786320e-02],\n",
       "       [9.96046782e-01],\n",
       "       [4.75970507e-01],\n",
       "       [3.87873151e-03],\n",
       "       [2.14911313e-04],\n",
       "       [1.67742779e-04],\n",
       "       [2.05211900e-03],\n",
       "       [1.36039584e-04],\n",
       "       [9.96886253e-01],\n",
       "       [8.74229823e-04],\n",
       "       [9.99939442e-01],\n",
       "       [1.39289733e-03],\n",
       "       [9.98849392e-01],\n",
       "       [9.99521971e-01],\n",
       "       [2.59728433e-04],\n",
       "       [1.02349196e-03],\n",
       "       [9.99976993e-01],\n",
       "       [2.15068110e-03],\n",
       "       [9.99936342e-01],\n",
       "       [1.64598554e-01],\n",
       "       [1.13821384e-02],\n",
       "       [5.83146155e-01],\n",
       "       [4.37848939e-04],\n",
       "       [4.48636442e-01],\n",
       "       [9.99947786e-01],\n",
       "       [1.12846115e-04],\n",
       "       [7.51127722e-04],\n",
       "       [4.64698002e-02],\n",
       "       [9.99945819e-01],\n",
       "       [2.23153383e-02],\n",
       "       [5.08418132e-04],\n",
       "       [9.99867082e-01],\n",
       "       [6.75513220e-05],\n",
       "       [3.75723437e-04],\n",
       "       [5.53658698e-04],\n",
       "       [6.19660258e-01],\n",
       "       [9.18842666e-03],\n",
       "       [3.38682741e-01],\n",
       "       [7.94150412e-01],\n",
       "       [1.06248772e-02],\n",
       "       [1.09596032e-04],\n",
       "       [1.53707825e-02],\n",
       "       [7.48325256e-05],\n",
       "       [9.99277771e-01],\n",
       "       [9.96138513e-01],\n",
       "       [3.81837226e-02],\n",
       "       [1.17709227e-04],\n",
       "       [2.48875772e-03],\n",
       "       [9.99967694e-01],\n",
       "       [9.92987156e-01],\n",
       "       [9.99977767e-01],\n",
       "       [3.47393123e-03],\n",
       "       [9.99853075e-01],\n",
       "       [8.47599236e-04],\n",
       "       [9.97949362e-01],\n",
       "       [9.82873857e-01],\n",
       "       [9.53777198e-05],\n",
       "       [9.99959588e-01],\n",
       "       [2.11200416e-02],\n",
       "       [9.98183846e-01],\n",
       "       [9.99986768e-01],\n",
       "       [5.57639450e-03],\n",
       "       [3.23606451e-04],\n",
       "       [7.53659248e-01],\n",
       "       [1.79992319e-04],\n",
       "       [9.81629133e-01],\n",
       "       [9.99928951e-01],\n",
       "       [3.54151189e-01],\n",
       "       [9.99877274e-01],\n",
       "       [1.07461788e-01],\n",
       "       [9.99909818e-01],\n",
       "       [9.84546542e-01],\n",
       "       [6.00309521e-02],\n",
       "       [1.01967758e-04],\n",
       "       [9.99100626e-01],\n",
       "       [1.93853150e-04],\n",
       "       [1.84148923e-01],\n",
       "       [9.99928653e-01],\n",
       "       [9.99846995e-01],\n",
       "       [9.99955833e-01],\n",
       "       [9.99896944e-01],\n",
       "       [9.69166011e-02],\n",
       "       [9.98746455e-01],\n",
       "       [2.93747318e-04],\n",
       "       [9.73618150e-01],\n",
       "       [9.99332726e-01],\n",
       "       [9.99894142e-01],\n",
       "       [4.08912660e-04],\n",
       "       [9.99801159e-01],\n",
       "       [9.99942958e-01],\n",
       "       [5.43755479e-03],\n",
       "       [1.05271889e-02],\n",
       "       [2.90001035e-01],\n",
       "       [1.83970446e-03],\n",
       "       [9.91524756e-01],\n",
       "       [9.99568760e-01],\n",
       "       [9.99933362e-01],\n",
       "       [1.96892675e-03],\n",
       "       [1.12332396e-04],\n",
       "       [1.66248690e-04],\n",
       "       [1.52659342e-01],\n",
       "       [1.28523875e-02],\n",
       "       [3.61055620e-02],\n",
       "       [9.93322968e-01],\n",
       "       [8.18569315e-05],\n",
       "       [1.52431667e-01],\n",
       "       [2.32009757e-02],\n",
       "       [5.58018088e-02],\n",
       "       [9.99855101e-01],\n",
       "       [1.71584182e-03],\n",
       "       [9.99792278e-01],\n",
       "       [5.87163912e-03],\n",
       "       [4.63266042e-05],\n",
       "       [5.05555363e-04],\n",
       "       [9.99955773e-01],\n",
       "       [9.93917823e-01],\n",
       "       [1.75117311e-04],\n",
       "       [1.54773802e-01],\n",
       "       [4.40864176e-01],\n",
       "       [9.03893597e-05],\n",
       "       [9.99925733e-01],\n",
       "       [8.02606577e-04],\n",
       "       [9.99457955e-01],\n",
       "       [4.42916125e-01],\n",
       "       [6.45273132e-04],\n",
       "       [6.16822600e-01],\n",
       "       [3.01163495e-01],\n",
       "       [4.48908983e-03],\n",
       "       [9.99969304e-01],\n",
       "       [7.60371089e-02],\n",
       "       [9.85384524e-01],\n",
       "       [9.99975920e-01],\n",
       "       [3.78542036e-01],\n",
       "       [5.39397895e-01],\n",
       "       [5.06121251e-05],\n",
       "       [4.73593712e-01],\n",
       "       [9.98305559e-01],\n",
       "       [9.99962687e-01],\n",
       "       [7.73353398e-01],\n",
       "       [9.70319193e-03],\n",
       "       [9.99938965e-01],\n",
       "       [1.91167861e-01],\n",
       "       [9.99857247e-01],\n",
       "       [1.91167861e-01],\n",
       "       [9.99954939e-01],\n",
       "       [6.92193935e-05],\n",
       "       [8.37530755e-03],\n",
       "       [6.93165566e-05],\n",
       "       [9.99963522e-01],\n",
       "       [1.44642638e-03],\n",
       "       [4.10486199e-03],\n",
       "       [1.46737395e-04],\n",
       "       [2.93038413e-03],\n",
       "       [6.01247652e-04],\n",
       "       [5.12762286e-04],\n",
       "       [1.13451872e-02],\n",
       "       [1.41561381e-03],\n",
       "       [3.72428237e-03],\n",
       "       [9.99252737e-01],\n",
       "       [8.94303666e-04],\n",
       "       [2.99252477e-02],\n",
       "       [8.26375326e-04],\n",
       "       [7.10375534e-05],\n",
       "       [1.25072494e-01],\n",
       "       [9.99794602e-01],\n",
       "       [6.63574028e-04],\n",
       "       [5.00577353e-02],\n",
       "       [3.67428036e-03],\n",
       "       [9.99789417e-01],\n",
       "       [9.99913216e-01],\n",
       "       [1.78328439e-04],\n",
       "       [1.51929111e-04],\n",
       "       [1.63321369e-04],\n",
       "       [4.03762060e-05],\n",
       "       [9.99898911e-01],\n",
       "       [7.10375534e-05],\n",
       "       [5.48532931e-03],\n",
       "       [9.99851108e-01],\n",
       "       [9.99933898e-01],\n",
       "       [9.99933362e-01],\n",
       "       [9.99981821e-01],\n",
       "       [9.99995589e-01],\n",
       "       [4.49682033e-04],\n",
       "       [2.94648547e-04],\n",
       "       [2.19234318e-01],\n",
       "       [9.99758899e-01],\n",
       "       [9.99953389e-01],\n",
       "       [9.90953267e-01],\n",
       "       [1.99757493e-03],\n",
       "       [9.99678254e-01],\n",
       "       [9.88292515e-01],\n",
       "       [5.68824689e-05],\n",
       "       [1.80103380e-04],\n",
       "       [5.12251630e-03],\n",
       "       [3.98515835e-02],\n",
       "       [1.03958555e-04],\n",
       "       [1.29396981e-02],\n",
       "       [9.94100451e-01],\n",
       "       [9.99973834e-01],\n",
       "       [6.72856055e-04],\n",
       "       [9.99919295e-01],\n",
       "       [9.98632908e-01],\n",
       "       [5.68035543e-02],\n",
       "       [2.08214447e-01],\n",
       "       [1.00323074e-02],\n",
       "       [5.60905397e-01],\n",
       "       [2.35283859e-02],\n",
       "       [1.84052013e-04]], dtype=float32)"
      ]
     },
     "execution_count": 54,
     "metadata": {},
     "output_type": "execute_result"
    }
   ],
   "source": [
    "# Meking predictions\n",
    "model_3_pred_probs = model_3.predict(val_sentences)\n",
    "model_3_pred_probs"
   ]
  },
  {
   "cell_type": "code",
   "execution_count": 55,
   "metadata": {},
   "outputs": [
    {
     "data": {
      "text/plain": [
       "<tf.Tensor: shape=(10,), dtype=float32, numpy=array([0., 1., 1., 0., 0., 1., 1., 1., 1., 1.], dtype=float32)>"
      ]
     },
     "execution_count": 55,
     "metadata": {},
     "output_type": "execute_result"
    }
   ],
   "source": [
    "# Converting model 3 pred probs to label format\n",
    "model_3_preds = tf.squeeze(tf.round(model_3_pred_probs))\n",
    "model_3_preds[:10]"
   ]
  },
  {
   "cell_type": "code",
   "execution_count": 56,
   "metadata": {},
   "outputs": [
    {
     "data": {
      "text/plain": [
       "{'accuracy': 77.16535433070865,\n",
       " 'precision': 0.7717840407633899,\n",
       " 'recall': 0.7716535433070866,\n",
       " 'f1': 0.7705026760144871}"
      ]
     },
     "execution_count": 56,
     "metadata": {},
     "output_type": "execute_result"
    }
   ],
   "source": [
    "# Calculate model 3 results\n",
    "model_3_results = calculate_results(\n",
    "    y_true=val_labels,\n",
    "    y_pred=model_3_preds\n",
    ")\n",
    "model_3_results"
   ]
  },
  {
   "attachments": {},
   "cell_type": "markdown",
   "metadata": {},
   "source": [
    "### Model 4 - Bidirectional RNN"
   ]
  },
  {
   "cell_type": "code",
   "execution_count": 57,
   "metadata": {},
   "outputs": [],
   "source": [
    "# Create a model\n",
    "from tensorflow.keras import layers\n",
    "\n",
    "inputs = layers.Input(shape=(1,), dtype=tf.string)\n",
    "x = text_vectorizer(inputs)\n",
    "x = embedding(x)\n",
    "# x = layers.Bidirectional(layers.LSTM(64, return_sequences=True))(x)\n",
    "x = layers.Bidirectional(layers.LSTM(64))(x)\n",
    "outputs = layers.Dense(1, activation=\"sigmoid\")(x)\n",
    "model_4 = tf.keras.Model(inputs, outputs, name=\"model_4_bidir\")"
   ]
  },
  {
   "cell_type": "code",
   "execution_count": 58,
   "metadata": {},
   "outputs": [
    {
     "name": "stdout",
     "output_type": "stream",
     "text": [
      "Model: \"model_4_bidir\"\n",
      "_________________________________________________________________\n",
      " Layer (type)                Output Shape              Param #   \n",
      "=================================================================\n",
      " input_4 (InputLayer)        [(None, 1)]               0         \n",
      "                                                                 \n",
      " text_vectorization_1 (TextV  (None, 15)               0         \n",
      " ectorization)                                                   \n",
      "                                                                 \n",
      " embedding (Embedding)       (None, 15, 128)           1280000   \n",
      "                                                                 \n",
      " bidirectional (Bidirectiona  (None, 128)              98816     \n",
      " l)                                                              \n",
      "                                                                 \n",
      " dense_3 (Dense)             (None, 1)                 129       \n",
      "                                                                 \n",
      "=================================================================\n",
      "Total params: 1,378,945\n",
      "Trainable params: 1,378,945\n",
      "Non-trainable params: 0\n",
      "_________________________________________________________________\n"
     ]
    }
   ],
   "source": [
    "# Checking model details\n",
    "model_4.summary()"
   ]
  },
  {
   "cell_type": "code",
   "execution_count": 59,
   "metadata": {},
   "outputs": [],
   "source": [
    "# Compiling the model\n",
    "model_4.compile(\n",
    "    loss=\"binary_crossentropy\",\n",
    "    optimizer=tf.keras.optimizers.Adam(),\n",
    "    metrics=[\"accuracy\"]\n",
    ")"
   ]
  },
  {
   "cell_type": "code",
   "execution_count": 60,
   "metadata": {},
   "outputs": [
    {
     "name": "stdout",
     "output_type": "stream",
     "text": [
      "Saving TensorBoard log files to: model_logs/model_4_bidir/20230117-144743\n",
      "Epoch 1/5\n",
      "215/215 [==============================] - 14s 33ms/step - loss: 0.1111 - accuracy: 0.9664 - val_loss: 1.0688 - val_accuracy: 0.7703\n",
      "Epoch 2/5\n",
      "215/215 [==============================] - 5s 25ms/step - loss: 0.0538 - accuracy: 0.9774 - val_loss: 1.2419 - val_accuracy: 0.7533\n",
      "Epoch 3/5\n",
      "215/215 [==============================] - 5s 24ms/step - loss: 0.0490 - accuracy: 0.9777 - val_loss: 1.2073 - val_accuracy: 0.7717\n",
      "Epoch 4/5\n",
      "215/215 [==============================] - 5s 25ms/step - loss: 0.0420 - accuracy: 0.9807 - val_loss: 1.4051 - val_accuracy: 0.7677\n",
      "Epoch 5/5\n",
      "215/215 [==============================] - 5s 24ms/step - loss: 0.0393 - accuracy: 0.9816 - val_loss: 1.1991 - val_accuracy: 0.7703\n"
     ]
    }
   ],
   "source": [
    "# Fitting the model\n",
    "history_4 = model_4.fit(\n",
    "    train_sentences,\n",
    "    train_labels,\n",
    "    epochs=5,\n",
    "    validation_data=(val_sentences, val_labels),\n",
    "    callbacks=[create_tensorboard_callback(\n",
    "        dir_name=SAVE_DIR,\n",
    "        experiment_name=\"model_4_bidir\"\n",
    "    )]\n",
    ")"
   ]
  },
  {
   "cell_type": "code",
   "execution_count": 61,
   "metadata": {},
   "outputs": [
    {
     "name": "stdout",
     "output_type": "stream",
     "text": [
      "24/24 [==============================] - 1s 6ms/step\n"
     ]
    },
    {
     "data": {
      "text/plain": [
       "array([[1.4363564e-02],\n",
       "       [8.1049281e-01],\n",
       "       [9.9998158e-01],\n",
       "       [2.5529242e-01],\n",
       "       [6.3961175e-05],\n",
       "       [9.9976748e-01],\n",
       "       [7.1143770e-01],\n",
       "       [9.9998945e-01],\n",
       "       [9.9997586e-01],\n",
       "       [9.7562039e-01]], dtype=float32)"
      ]
     },
     "execution_count": 61,
     "metadata": {},
     "output_type": "execute_result"
    }
   ],
   "source": [
    "# Making predictions\n",
    "model_4_pred_probs = model_4.predict(val_sentences)\n",
    "model_4_pred_probs[:10]"
   ]
  },
  {
   "cell_type": "code",
   "execution_count": 62,
   "metadata": {},
   "outputs": [
    {
     "data": {
      "text/plain": [
       "<tf.Tensor: shape=(10,), dtype=float32, numpy=array([0., 1., 1., 0., 0., 1., 1., 1., 1., 1.], dtype=float32)>"
      ]
     },
     "execution_count": 62,
     "metadata": {},
     "output_type": "execute_result"
    }
   ],
   "source": [
    "# Adjusting model's probs to the label format\n",
    "model_4_preds = tf.squeeze(tf.round(model_4_pred_probs))\n",
    "model_4_preds[:10]"
   ]
  },
  {
   "cell_type": "code",
   "execution_count": 63,
   "metadata": {},
   "outputs": [
    {
     "data": {
      "text/plain": [
       "{'accuracy': 77.03412073490814,\n",
       " 'precision': 0.7723473976820748,\n",
       " 'recall': 0.7703412073490814,\n",
       " 'f1': 0.7680604812955161}"
      ]
     },
     "execution_count": 63,
     "metadata": {},
     "output_type": "execute_result"
    }
   ],
   "source": [
    "# Checking results of predictions\n",
    "model_4_results = calculate_results(\n",
    "    y_true=val_labels,\n",
    "    y_pred=model_4_preds\n",
    ")\n",
    "model_4_results"
   ]
  },
  {
   "attachments": {},
   "cell_type": "markdown",
   "metadata": {},
   "source": [
    "### Model 5 - Conv1D"
   ]
  },
  {
   "cell_type": "code",
   "execution_count": 64,
   "metadata": {},
   "outputs": [
    {
     "data": {
      "text/plain": [
       "(TensorShape([1, 15, 128]), TensorShape([1, 11, 32]), TensorShape([1, 32]))"
      ]
     },
     "execution_count": 64,
     "metadata": {},
     "output_type": "execute_result"
    }
   ],
   "source": [
    "# Testing embedding layer\n",
    "from tensorflow.keras import layers\n",
    "\n",
    "embedding_test = embedding(text_vectorizer(\"This is a test sentence\"))\n",
    "# print(embedding_test.shape)\n",
    "embedding_test = tf.expand_dims(embedding_test, axis=0)\n",
    "# print(embedding_test.shape)\n",
    "conv_1d = layers.Conv1D(\n",
    "    filters=32,\n",
    "    kernel_size=5,\n",
    "    activation=\"relu\",\n",
    "    padding=\"valid\"\n",
    ")\n",
    "conv_1d_output = conv_1d(embedding_test)\n",
    "max_pool = layers.GlobalMaxPool1D()\n",
    "max_pool_output = max_pool(conv_1d_output)\n",
    "\n",
    "embedding_test.shape, conv_1d_output.shape, max_pool_output.shape"
   ]
  },
  {
   "attachments": {},
   "cell_type": "markdown",
   "metadata": {},
   "source": [
    "### Model 5 - 1D Convolutional Network layer"
   ]
  },
  {
   "cell_type": "code",
   "execution_count": 65,
   "metadata": {},
   "outputs": [],
   "source": [
    "# Creating a model\n",
    "from tensorflow.keras import layers\n",
    "\n",
    "inputs = layers.Input(shape=(1,), dtype=tf.string, name=\"input_layer\")\n",
    "x = text_vectorizer(inputs)\n",
    "x = embedding(x)\n",
    "x = layers.Conv1D(\n",
    "    filters=64,\n",
    "    kernel_size=5,\n",
    "    strides=1,\n",
    "    activation=\"relu\",\n",
    "    padding=\"valid\"\n",
    ")(x)\n",
    "x = layers.GlobalMaxPool1D()(x)\n",
    "outputs = layers.Dense(1, activation=\"sigmoid\")(x)\n",
    "model_5 = tf.keras.Model(inputs, outputs, name=\"model_5_conv1d\")"
   ]
  },
  {
   "cell_type": "code",
   "execution_count": 66,
   "metadata": {},
   "outputs": [
    {
     "name": "stdout",
     "output_type": "stream",
     "text": [
      "Model: \"model_5_conv1d\"\n",
      "_________________________________________________________________\n",
      " Layer (type)                Output Shape              Param #   \n",
      "=================================================================\n",
      " input_layer (InputLayer)    [(None, 1)]               0         \n",
      "                                                                 \n",
      " text_vectorization_1 (TextV  (None, 15)               0         \n",
      " ectorization)                                                   \n",
      "                                                                 \n",
      " embedding (Embedding)       (None, 15, 128)           1280000   \n",
      "                                                                 \n",
      " conv1d_1 (Conv1D)           (None, 11, 64)            41024     \n",
      "                                                                 \n",
      " global_max_pooling1d_1 (Glo  (None, 64)               0         \n",
      " balMaxPooling1D)                                                \n",
      "                                                                 \n",
      " dense_4 (Dense)             (None, 1)                 65        \n",
      "                                                                 \n",
      "=================================================================\n",
      "Total params: 1,321,089\n",
      "Trainable params: 1,321,089\n",
      "Non-trainable params: 0\n",
      "_________________________________________________________________\n"
     ]
    }
   ],
   "source": [
    "# Checking model details\n",
    "model_5.summary()"
   ]
  },
  {
   "cell_type": "code",
   "execution_count": 67,
   "metadata": {},
   "outputs": [],
   "source": [
    "# Compiling the model\n",
    "model_5.compile(\n",
    "    loss=\"binary_crossentropy\",\n",
    "    optimizer=tf.keras.optimizers.Adam(),\n",
    "    metrics=[\"accuracy\"]\n",
    ")"
   ]
  },
  {
   "cell_type": "code",
   "execution_count": 68,
   "metadata": {},
   "outputs": [
    {
     "name": "stdout",
     "output_type": "stream",
     "text": [
      "Saving TensorBoard log files to: model_logs/model_5_conv1d/20230117-144821\n",
      "Epoch 1/5\n",
      "215/215 [==============================] - 5s 19ms/step - loss: 0.1201 - accuracy: 0.9618 - val_loss: 0.9034 - val_accuracy: 0.7703\n",
      "Epoch 2/5\n",
      "215/215 [==============================] - 4s 19ms/step - loss: 0.0776 - accuracy: 0.9705 - val_loss: 1.0078 - val_accuracy: 0.7690\n",
      "Epoch 3/5\n",
      "215/215 [==============================] - 3s 16ms/step - loss: 0.0614 - accuracy: 0.9761 - val_loss: 1.1213 - val_accuracy: 0.7664\n",
      "Epoch 4/5\n",
      "215/215 [==============================] - 4s 17ms/step - loss: 0.0540 - accuracy: 0.9775 - val_loss: 1.1958 - val_accuracy: 0.7572\n",
      "Epoch 5/5\n",
      "215/215 [==============================] - 3s 16ms/step - loss: 0.0528 - accuracy: 0.9791 - val_loss: 1.2641 - val_accuracy: 0.7638\n"
     ]
    }
   ],
   "source": [
    "# Fitting the model\n",
    "history_5 = model_5.fit(\n",
    "    train_sentences,\n",
    "    train_labels,\n",
    "    epochs=5,\n",
    "    validation_data=(val_sentences, val_labels),\n",
    "    callbacks=[create_tensorboard_callback(\n",
    "        dir_name=SAVE_DIR,\n",
    "        experiment_name=\"model_5_conv1d\"\n",
    "    )]\n",
    ")"
   ]
  },
  {
   "cell_type": "code",
   "execution_count": 69,
   "metadata": {},
   "outputs": [
    {
     "name": "stdout",
     "output_type": "stream",
     "text": [
      "24/24 [==============================] - 0s 4ms/step\n"
     ]
    },
    {
     "data": {
      "text/plain": [
       "array([[5.5975154e-02],\n",
       "       [9.3387508e-01],\n",
       "       [9.9985701e-01],\n",
       "       [6.2383004e-02],\n",
       "       [4.0971180e-08],\n",
       "       [9.7855866e-01],\n",
       "       [9.7411549e-01],\n",
       "       [9.9995136e-01],\n",
       "       [9.9999928e-01],\n",
       "       [7.8184485e-01]], dtype=float32)"
      ]
     },
     "execution_count": 69,
     "metadata": {},
     "output_type": "execute_result"
    }
   ],
   "source": [
    "# Making predictions\n",
    "model_5_pred_probs = model_5.predict(val_sentences)\n",
    "model_5_pred_probs[:10]"
   ]
  },
  {
   "cell_type": "code",
   "execution_count": 70,
   "metadata": {},
   "outputs": [
    {
     "data": {
      "text/plain": [
       "<tf.Tensor: shape=(10,), dtype=float32, numpy=array([0., 1., 1., 0., 0., 1., 1., 1., 1., 1.], dtype=float32)>"
      ]
     },
     "execution_count": 70,
     "metadata": {},
     "output_type": "execute_result"
    }
   ],
   "source": [
    "# Converting probs into label format\n",
    "model_5_preds = tf.squeeze(tf.round(model_5_pred_probs))\n",
    "model_5_preds[:10]"
   ]
  },
  {
   "cell_type": "code",
   "execution_count": 71,
   "metadata": {},
   "outputs": [
    {
     "data": {
      "text/plain": [
       "{'accuracy': 76.37795275590551,\n",
       " 'precision': 0.766310461192351,\n",
       " 'recall': 0.7637795275590551,\n",
       " 'f1': 0.7610762606610089}"
      ]
     },
     "execution_count": 71,
     "metadata": {},
     "output_type": "execute_result"
    }
   ],
   "source": [
    "# Evaluating model's predictions\n",
    "model_5_results = calculate_results(\n",
    "    y_true=val_labels,\n",
    "    y_pred=model_5_preds\n",
    ")\n",
    "model_5_results"
   ]
  },
  {
   "attachments": {},
   "cell_type": "markdown",
   "metadata": {},
   "source": [
    "### Model 6 - TensorflowHub pretrained model"
   ]
  },
  {
   "cell_type": "code",
   "execution_count": 72,
   "metadata": {},
   "outputs": [
    {
     "name": "stdout",
     "output_type": "stream",
     "text": [
      "tf.Tensor(\n",
      "[-0.01602832  0.01068848  0.02425467 -0.01405769  0.01434426  0.08292625\n",
      "  0.01963372  0.06160142 -0.00352702 -0.01216412  0.00978647 -0.01248495\n",
      "  0.01232345  0.09748451  0.06141113 -0.03728353  0.01860884 -0.04669856\n",
      "  0.00413913 -0.06363907 -0.02469898  0.02713691  0.02284444 -0.00210026\n",
      " -0.00630592 -0.03964961  0.02220404  0.00115077 -0.03132177  0.00119527\n",
      " -0.0401255   0.04561892 -0.01530598 -0.00175918  0.02173131 -0.08450424\n",
      "  0.03340026  0.04604554 -0.0248025  -0.08681665  0.00702694 -0.00770478\n",
      " -0.01434539  0.07814164 -0.10676058 -0.05152997 -0.00858155 -0.03232232\n",
      " -0.03871097  0.02581467], shape=(50,), dtype=float32)\n"
     ]
    }
   ],
   "source": [
    "# Reusing USE (Universal Sentence Encoder) model\n",
    "import tensorflow_hub as hub\n",
    "\n",
    "embed = hub.load(\"https://tfhub.dev/google/universal-sentence-encoder/4\")\n",
    "embed_samples = embed([\n",
    "    sample_sentence,\n",
    "    \"When you apple USE to text, it converts it into numbers\"\n",
    "])\n",
    "print(embed_samples[0][:50])"
   ]
  },
  {
   "cell_type": "code",
   "execution_count": 73,
   "metadata": {},
   "outputs": [
    {
     "data": {
      "text/plain": [
       "TensorShape([512])"
      ]
     },
     "execution_count": 73,
     "metadata": {},
     "output_type": "execute_result"
    }
   ],
   "source": [
    "# Sampling shape\n",
    "embed_samples[0].shape"
   ]
  },
  {
   "cell_type": "code",
   "execution_count": 74,
   "metadata": {},
   "outputs": [
    {
     "name": "stdout",
     "output_type": "stream",
     "text": [
      "WARNING:tensorflow:Please fix your imports. Module tensorflow.python.training.tracking.data_structures has been moved to tensorflow.python.trackable.data_structures. The old module will be deleted in version 2.11.\n"
     ]
    },
    {
     "name": "stderr",
     "output_type": "stream",
     "text": [
      "WARNING:tensorflow:Please fix your imports. Module tensorflow.python.training.tracking.data_structures has been moved to tensorflow.python.trackable.data_structures. The old module will be deleted in version 2.11.\n"
     ]
    }
   ],
   "source": [
    "# Creating layer with USE pretrained model\n",
    "sentence_encoder_layer = hub.KerasLayer(\n",
    "    \"https://tfhub.dev/google/universal-sentence-encoder/4\",\n",
    "    input_shape=[],\n",
    "    dtype=tf.string,\n",
    "    trainable=False,\n",
    "    name=\"USE\"\n",
    ")"
   ]
  },
  {
   "cell_type": "code",
   "execution_count": 75,
   "metadata": {},
   "outputs": [],
   "source": [
    "# Building a new model with pretrained layer\n",
    "model_6 = tf.keras.Sequential([\n",
    "    sentence_encoder_layer,\n",
    "    # layers.Dense(64, activation=\"relu\"),\n",
    "    layers.Dense(1, activation=\"sigmoid\")\n",
    "], name=\"model_6_use\")"
   ]
  },
  {
   "cell_type": "code",
   "execution_count": 76,
   "metadata": {},
   "outputs": [],
   "source": [
    "# Compiling the model\n",
    "model_6.compile(\n",
    "    loss=\"binary_crossentropy\",\n",
    "    optimizer=tf.keras.optimizers.Adam(),\n",
    "    metrics=[\"accuracy\"]\n",
    ")"
   ]
  },
  {
   "cell_type": "code",
   "execution_count": 77,
   "metadata": {},
   "outputs": [
    {
     "name": "stdout",
     "output_type": "stream",
     "text": [
      "Saving TensorBoard log files to: model_logs/model_6_use/20230117-144908\n",
      "Epoch 1/5\n",
      "215/215 [==============================] - 9s 17ms/step - loss: 0.6495 - accuracy: 0.7268 - val_loss: 0.6130 - val_accuracy: 0.7717\n",
      "Epoch 2/5\n",
      "215/215 [==============================] - 3s 13ms/step - loss: 0.5822 - accuracy: 0.7846 - val_loss: 0.5634 - val_accuracy: 0.7835\n",
      "Epoch 3/5\n",
      "215/215 [==============================] - 3s 13ms/step - loss: 0.5391 - accuracy: 0.7936 - val_loss: 0.5319 - val_accuracy: 0.7861\n",
      "Epoch 4/5\n",
      "215/215 [==============================] - 3s 13ms/step - loss: 0.5105 - accuracy: 0.7978 - val_loss: 0.5110 - val_accuracy: 0.7900\n",
      "Epoch 5/5\n",
      "215/215 [==============================] - 3s 15ms/step - loss: 0.4902 - accuracy: 0.7992 - val_loss: 0.4964 - val_accuracy: 0.7887\n"
     ]
    }
   ],
   "source": [
    "# Fitting the model\n",
    "history_6 = model_6.fit(\n",
    "    train_sentences,\n",
    "    train_labels,\n",
    "    epochs=5,\n",
    "    validation_data=(val_sentences, val_labels),\n",
    "    callbacks=[create_tensorboard_callback(\n",
    "        dir_name=SAVE_DIR,\n",
    "        experiment_name=\"model_6_use\"\n",
    "    )]\n",
    ")"
   ]
  },
  {
   "cell_type": "code",
   "execution_count": 78,
   "metadata": {},
   "outputs": [
    {
     "name": "stdout",
     "output_type": "stream",
     "text": [
      "Model: \"model_6_use\"\n",
      "_________________________________________________________________\n",
      " Layer (type)                Output Shape              Param #   \n",
      "=================================================================\n",
      " USE (KerasLayer)            (None, 512)               256797824 \n",
      "                                                                 \n",
      " dense_5 (Dense)             (None, 1)                 513       \n",
      "                                                                 \n",
      "=================================================================\n",
      "Total params: 256,798,337\n",
      "Trainable params: 513\n",
      "Non-trainable params: 256,797,824\n",
      "_________________________________________________________________\n"
     ]
    }
   ],
   "source": [
    "# Checking the model details\n",
    "model_6.summary()"
   ]
  },
  {
   "cell_type": "code",
   "execution_count": 79,
   "metadata": {},
   "outputs": [
    {
     "name": "stdout",
     "output_type": "stream",
     "text": [
      "24/24 [==============================] - 1s 16ms/step\n"
     ]
    },
    {
     "data": {
      "text/plain": [
       "array([[0.35497832],\n",
       "       [0.66525245],\n",
       "       [0.85687435],\n",
       "       [0.35462275],\n",
       "       [0.639239  ],\n",
       "       [0.7456621 ],\n",
       "       [0.8292034 ],\n",
       "       [0.837728  ],\n",
       "       [0.76416767],\n",
       "       [0.19532351]], dtype=float32)"
      ]
     },
     "execution_count": 79,
     "metadata": {},
     "output_type": "execute_result"
    }
   ],
   "source": [
    "# Making predictions\n",
    "model_6_pred_probs = model_6.predict(val_sentences)\n",
    "model_6_pred_probs[:10]"
   ]
  },
  {
   "cell_type": "code",
   "execution_count": 80,
   "metadata": {},
   "outputs": [
    {
     "data": {
      "text/plain": [
       "<tf.Tensor: shape=(10,), dtype=float32, numpy=array([0., 1., 1., 0., 1., 1., 1., 1., 1., 0.], dtype=float32)>"
      ]
     },
     "execution_count": 80,
     "metadata": {},
     "output_type": "execute_result"
    }
   ],
   "source": [
    "# Converting prediction probs into label format\n",
    "model_6_preds = tf.squeeze(tf.round(model_6_pred_probs))\n",
    "model_6_preds[:10]"
   ]
  },
  {
   "cell_type": "code",
   "execution_count": 81,
   "metadata": {},
   "outputs": [
    {
     "data": {
      "text/plain": [
       "{'accuracy': 78.87139107611549,\n",
       " 'precision': 0.789001261975436,\n",
       " 'recall': 0.7887139107611548,\n",
       " 'f1': 0.7876955870597856}"
      ]
     },
     "execution_count": 81,
     "metadata": {},
     "output_type": "execute_result"
    }
   ],
   "source": [
    "# Calculating model's performance metrics\n",
    "model_6_results = calculate_results(\n",
    "    y_true=val_labels,\n",
    "    y_pred=model_6_preds\n",
    ")\n",
    "model_6_results"
   ]
  },
  {
   "attachments": {},
   "cell_type": "markdown",
   "metadata": {},
   "source": [
    "### Model 7 - Pretrained USE with 10% of training data"
   ]
  },
  {
   "cell_type": "code",
   "execution_count": 82,
   "metadata": {},
   "outputs": [
    {
     "data": {
      "text/plain": [
       "(761, 761)"
      ]
     },
     "execution_count": 82,
     "metadata": {},
     "output_type": "execute_result"
    }
   ],
   "source": [
    "## THIS IS WRONG WAY TO SPLIT, because of potential data leak,\n",
    "##  i.e. some data may end up in validation seubset\n",
    "\n",
    "# Creating subset of 10% training data\n",
    "train_data_10p = train_df_shuffled[[\"text\", \"target\"]].sample(frac=0.1, random_state=42)\n",
    "train_sentences_10p = train_data_10p[\"text\"].to_list()\n",
    "train_labels_10p = train_data_10p[\"target\"].to_list()\n",
    "len(train_sentences_10p), len(train_labels_10p)"
   ]
  },
  {
   "cell_type": "code",
   "execution_count": 83,
   "metadata": {},
   "outputs": [
    {
     "data": {
      "text/plain": [
       "(685, 685)"
      ]
     },
     "execution_count": 83,
     "metadata": {},
     "output_type": "execute_result"
    }
   ],
   "source": [
    "## MAKING A BETTER SPLIT\n",
    "\n",
    "# Creating 10% subset\n",
    "train_10p_split = int(0.1 * len(train_sentences))\n",
    "train_sentences_10p = train_sentences[:train_10p_split]\n",
    "train_labels_10p = train_labels[:train_10p_split]\n",
    "len(train_sentences_10p), len(train_labels_10p)"
   ]
  },
  {
   "cell_type": "code",
   "execution_count": 84,
   "metadata": {},
   "outputs": [
    {
     "data": {
      "text/plain": [
       "7613"
      ]
     },
     "execution_count": 84,
     "metadata": {},
     "output_type": "execute_result"
    }
   ],
   "source": [
    "# Checking the length of original dataset\n",
    "len(train_df_shuffled)"
   ]
  },
  {
   "cell_type": "code",
   "execution_count": 85,
   "metadata": {},
   "outputs": [
    {
     "data": {
      "text/plain": [
       "0    413\n",
       "1    348\n",
       "Name: target, dtype: int64"
      ]
     },
     "execution_count": 85,
     "metadata": {},
     "output_type": "execute_result"
    }
   ],
   "source": [
    "# Checking the number of targets - 10%\n",
    "train_data_10p[\"target\"].value_counts()"
   ]
  },
  {
   "cell_type": "code",
   "execution_count": 86,
   "metadata": {},
   "outputs": [
    {
     "data": {
      "text/plain": [
       "0    4342\n",
       "1    3271\n",
       "Name: target, dtype: int64"
      ]
     },
     "execution_count": 86,
     "metadata": {},
     "output_type": "execute_result"
    }
   ],
   "source": [
    "# Checking the number of targets - Full set\n",
    "train_df_shuffled[\"target\"].value_counts()"
   ]
  },
  {
   "cell_type": "code",
   "execution_count": 87,
   "metadata": {},
   "outputs": [
    {
     "name": "stdout",
     "output_type": "stream",
     "text": [
      "Model: \"model_6_use\"\n",
      "_________________________________________________________________\n",
      " Layer (type)                Output Shape              Param #   \n",
      "=================================================================\n",
      " USE (KerasLayer)            (None, 512)               256797824 \n",
      "                                                                 \n",
      " dense_5 (Dense)             (None, 1)                 513       \n",
      "                                                                 \n",
      "=================================================================\n",
      "Total params: 256,798,337\n",
      "Trainable params: 513\n",
      "Non-trainable params: 256,797,824\n",
      "_________________________________________________________________\n"
     ]
    }
   ],
   "source": [
    "# Cloning model 6\n",
    "model_7 = tf.keras.models.clone_model(model_6)\n",
    "\n",
    "# Compiling the model\n",
    "model_7.compile(\n",
    "    loss=\"binary_crossentropy\",\n",
    "    optimizer=tf.keras.optimizers.Adam(),\n",
    "    metrics=[\"accuracy\"]\n",
    ")\n",
    "\n",
    "# Checking the model details\n",
    "model_7.summary()"
   ]
  },
  {
   "cell_type": "code",
   "execution_count": 88,
   "metadata": {},
   "outputs": [
    {
     "name": "stdout",
     "output_type": "stream",
     "text": [
      "Saving TensorBoard log files to: model_logs/model_7_use/20230117-144944\n",
      "Epoch 1/5\n",
      "22/22 [==============================] - 6s 71ms/step - loss: 0.6852 - accuracy: 0.6029 - val_loss: 0.6822 - val_accuracy: 0.6535\n",
      "Epoch 2/5\n",
      "22/22 [==============================] - 1s 35ms/step - loss: 0.6722 - accuracy: 0.7285 - val_loss: 0.6732 - val_accuracy: 0.7034\n",
      "Epoch 3/5\n",
      "22/22 [==============================] - 1s 36ms/step - loss: 0.6606 - accuracy: 0.7562 - val_loss: 0.6645 - val_accuracy: 0.7283\n",
      "Epoch 4/5\n",
      "22/22 [==============================] - 1s 31ms/step - loss: 0.6495 - accuracy: 0.7766 - val_loss: 0.6561 - val_accuracy: 0.7441\n",
      "Epoch 5/5\n",
      "22/22 [==============================] - 1s 28ms/step - loss: 0.6387 - accuracy: 0.7971 - val_loss: 0.6484 - val_accuracy: 0.7467\n"
     ]
    }
   ],
   "source": [
    "# Fitting the model\n",
    "history_7 = model_7.fit(\n",
    "    train_sentences_10p,\n",
    "    train_labels_10p,\n",
    "    epochs=5,\n",
    "    validation_data=(val_sentences, val_labels),\n",
    "    callbacks=[create_tensorboard_callback(\n",
    "        dir_name=SAVE_DIR,\n",
    "        experiment_name=\"model_7_use\"\n",
    "    )]\n",
    ")"
   ]
  },
  {
   "cell_type": "code",
   "execution_count": 89,
   "metadata": {},
   "outputs": [
    {
     "name": "stdout",
     "output_type": "stream",
     "text": [
      "24/24 [==============================] - 1s 12ms/step\n"
     ]
    },
    {
     "data": {
      "text/plain": [
       "array([[0.45520055],\n",
       "       [0.5080701 ],\n",
       "       [0.5653684 ],\n",
       "       [0.46164846],\n",
       "       [0.49443656],\n",
       "       [0.53588665],\n",
       "       [0.5401494 ],\n",
       "       [0.5295273 ],\n",
       "       [0.53797776],\n",
       "       [0.42686749]], dtype=float32)"
      ]
     },
     "execution_count": 89,
     "metadata": {},
     "output_type": "execute_result"
    }
   ],
   "source": [
    "# Making predictions\n",
    "model_7_pred_probs = model_7.predict(val_sentences)\n",
    "model_7_pred_probs[:10]"
   ]
  },
  {
   "cell_type": "code",
   "execution_count": 90,
   "metadata": {},
   "outputs": [
    {
     "data": {
      "text/plain": [
       "<tf.Tensor: shape=(10,), dtype=float32, numpy=array([0., 1., 1., 0., 0., 1., 1., 1., 1., 0.], dtype=float32)>"
      ]
     },
     "execution_count": 90,
     "metadata": {},
     "output_type": "execute_result"
    }
   ],
   "source": [
    "# Converting pred probs to label format\n",
    "model_7_preds = tf.squeeze(tf.round(model_7_pred_probs))\n",
    "model_7_preds[:10]"
   ]
  },
  {
   "cell_type": "code",
   "execution_count": 91,
   "metadata": {},
   "outputs": [
    {
     "data": {
      "text/plain": [
       "{'accuracy': 74.67191601049869,\n",
       " 'precision': 0.7613282978891178,\n",
       " 'recall': 0.7467191601049868,\n",
       " 'f1': 0.7384717304023649}"
      ]
     },
     "execution_count": 91,
     "metadata": {},
     "output_type": "execute_result"
    }
   ],
   "source": [
    "# Evaluating model predictions\n",
    "model_7_results = calculate_results(\n",
    "    y_true=val_labels,\n",
    "    y_pred=model_7_preds\n",
    ")\n",
    "model_7_results"
   ]
  },
  {
   "attachments": {},
   "cell_type": "markdown",
   "metadata": {},
   "source": [
    "### Comparing performance of each model"
   ]
  },
  {
   "cell_type": "code",
   "execution_count": 92,
   "metadata": {},
   "outputs": [
    {
     "data": {
      "text/html": [
       "<div>\n",
       "<style scoped>\n",
       "    .dataframe tbody tr th:only-of-type {\n",
       "        vertical-align: middle;\n",
       "    }\n",
       "\n",
       "    .dataframe tbody tr th {\n",
       "        vertical-align: top;\n",
       "    }\n",
       "\n",
       "    .dataframe thead th {\n",
       "        text-align: right;\n",
       "    }\n",
       "</style>\n",
       "<table border=\"1\" class=\"dataframe\">\n",
       "  <thead>\n",
       "    <tr style=\"text-align: right;\">\n",
       "      <th></th>\n",
       "      <th>accuracy</th>\n",
       "      <th>precision</th>\n",
       "      <th>recall</th>\n",
       "      <th>f1</th>\n",
       "    </tr>\n",
       "  </thead>\n",
       "  <tbody>\n",
       "    <tr>\n",
       "      <th>0_baseline</th>\n",
       "      <td>79.265092</td>\n",
       "      <td>0.811139</td>\n",
       "      <td>0.792651</td>\n",
       "      <td>0.786219</td>\n",
       "    </tr>\n",
       "    <tr>\n",
       "      <th>1_simple_dense</th>\n",
       "      <td>78.871391</td>\n",
       "      <td>0.794846</td>\n",
       "      <td>0.788714</td>\n",
       "      <td>0.785369</td>\n",
       "    </tr>\n",
       "    <tr>\n",
       "      <th>2_lstm</th>\n",
       "      <td>76.902887</td>\n",
       "      <td>0.771137</td>\n",
       "      <td>0.769029</td>\n",
       "      <td>0.766667</td>\n",
       "    </tr>\n",
       "    <tr>\n",
       "      <th>3_gru</th>\n",
       "      <td>77.165354</td>\n",
       "      <td>0.771784</td>\n",
       "      <td>0.771654</td>\n",
       "      <td>0.770503</td>\n",
       "    </tr>\n",
       "    <tr>\n",
       "      <th>4_bidirectional</th>\n",
       "      <td>77.034121</td>\n",
       "      <td>0.772347</td>\n",
       "      <td>0.770341</td>\n",
       "      <td>0.768060</td>\n",
       "    </tr>\n",
       "    <tr>\n",
       "      <th>5_conv1d</th>\n",
       "      <td>76.377953</td>\n",
       "      <td>0.766310</td>\n",
       "      <td>0.763780</td>\n",
       "      <td>0.761076</td>\n",
       "    </tr>\n",
       "    <tr>\n",
       "      <th>6_tfhub_use</th>\n",
       "      <td>78.871391</td>\n",
       "      <td>0.789001</td>\n",
       "      <td>0.788714</td>\n",
       "      <td>0.787696</td>\n",
       "    </tr>\n",
       "    <tr>\n",
       "      <th>7_tfhub_use10p</th>\n",
       "      <td>74.671916</td>\n",
       "      <td>0.761328</td>\n",
       "      <td>0.746719</td>\n",
       "      <td>0.738472</td>\n",
       "    </tr>\n",
       "  </tbody>\n",
       "</table>\n",
       "</div>"
      ],
      "text/plain": [
       "                  accuracy  precision    recall        f1\n",
       "0_baseline       79.265092   0.811139  0.792651  0.786219\n",
       "1_simple_dense   78.871391   0.794846  0.788714  0.785369\n",
       "2_lstm           76.902887   0.771137  0.769029  0.766667\n",
       "3_gru            77.165354   0.771784  0.771654  0.770503\n",
       "4_bidirectional  77.034121   0.772347  0.770341  0.768060\n",
       "5_conv1d         76.377953   0.766310  0.763780  0.761076\n",
       "6_tfhub_use      78.871391   0.789001  0.788714  0.787696\n",
       "7_tfhub_use10p   74.671916   0.761328  0.746719  0.738472"
      ]
     },
     "execution_count": 92,
     "metadata": {},
     "output_type": "execute_result"
    }
   ],
   "source": [
    "# Combining model results into a single dataframe\n",
    "all_model_results = pd.DataFrame({\n",
    "    \"0_baseline\": baseline_results,\n",
    "    \"1_simple_dense\": model_1_results,\n",
    "    \"2_lstm\": model_2_results,\n",
    "    \"3_gru\": model_3_results,\n",
    "    \"4_bidirectional\": model_4_results,\n",
    "    \"5_conv1d\": model_5_results,\n",
    "    \"6_tfhub_use\": model_6_results,\n",
    "    \"7_tfhub_use10p\": model_7_results\n",
    "})\n",
    "\n",
    "all_model_results = all_model_results.transpose()\n",
    "all_model_results"
   ]
  },
  {
   "cell_type": "code",
   "execution_count": 93,
   "metadata": {},
   "outputs": [
    {
     "data": {
      "text/html": [
       "<div>\n",
       "<style scoped>\n",
       "    .dataframe tbody tr th:only-of-type {\n",
       "        vertical-align: middle;\n",
       "    }\n",
       "\n",
       "    .dataframe tbody tr th {\n",
       "        vertical-align: top;\n",
       "    }\n",
       "\n",
       "    .dataframe thead th {\n",
       "        text-align: right;\n",
       "    }\n",
       "</style>\n",
       "<table border=\"1\" class=\"dataframe\">\n",
       "  <thead>\n",
       "    <tr style=\"text-align: right;\">\n",
       "      <th></th>\n",
       "      <th>accuracy</th>\n",
       "      <th>precision</th>\n",
       "      <th>recall</th>\n",
       "      <th>f1</th>\n",
       "    </tr>\n",
       "  </thead>\n",
       "  <tbody>\n",
       "    <tr>\n",
       "      <th>0_baseline</th>\n",
       "      <td>0.792651</td>\n",
       "      <td>0.811139</td>\n",
       "      <td>0.792651</td>\n",
       "      <td>0.786219</td>\n",
       "    </tr>\n",
       "    <tr>\n",
       "      <th>1_simple_dense</th>\n",
       "      <td>0.788714</td>\n",
       "      <td>0.794846</td>\n",
       "      <td>0.788714</td>\n",
       "      <td>0.785369</td>\n",
       "    </tr>\n",
       "    <tr>\n",
       "      <th>2_lstm</th>\n",
       "      <td>0.769029</td>\n",
       "      <td>0.771137</td>\n",
       "      <td>0.769029</td>\n",
       "      <td>0.766667</td>\n",
       "    </tr>\n",
       "    <tr>\n",
       "      <th>3_gru</th>\n",
       "      <td>0.771654</td>\n",
       "      <td>0.771784</td>\n",
       "      <td>0.771654</td>\n",
       "      <td>0.770503</td>\n",
       "    </tr>\n",
       "    <tr>\n",
       "      <th>4_bidirectional</th>\n",
       "      <td>0.770341</td>\n",
       "      <td>0.772347</td>\n",
       "      <td>0.770341</td>\n",
       "      <td>0.768060</td>\n",
       "    </tr>\n",
       "    <tr>\n",
       "      <th>5_conv1d</th>\n",
       "      <td>0.763780</td>\n",
       "      <td>0.766310</td>\n",
       "      <td>0.763780</td>\n",
       "      <td>0.761076</td>\n",
       "    </tr>\n",
       "    <tr>\n",
       "      <th>6_tfhub_use</th>\n",
       "      <td>0.788714</td>\n",
       "      <td>0.789001</td>\n",
       "      <td>0.788714</td>\n",
       "      <td>0.787696</td>\n",
       "    </tr>\n",
       "    <tr>\n",
       "      <th>7_tfhub_use10p</th>\n",
       "      <td>0.746719</td>\n",
       "      <td>0.761328</td>\n",
       "      <td>0.746719</td>\n",
       "      <td>0.738472</td>\n",
       "    </tr>\n",
       "  </tbody>\n",
       "</table>\n",
       "</div>"
      ],
      "text/plain": [
       "                 accuracy  precision    recall        f1\n",
       "0_baseline       0.792651   0.811139  0.792651  0.786219\n",
       "1_simple_dense   0.788714   0.794846  0.788714  0.785369\n",
       "2_lstm           0.769029   0.771137  0.769029  0.766667\n",
       "3_gru            0.771654   0.771784  0.771654  0.770503\n",
       "4_bidirectional  0.770341   0.772347  0.770341  0.768060\n",
       "5_conv1d         0.763780   0.766310  0.763780  0.761076\n",
       "6_tfhub_use      0.788714   0.789001  0.788714  0.787696\n",
       "7_tfhub_use10p   0.746719   0.761328  0.746719  0.738472"
      ]
     },
     "execution_count": 93,
     "metadata": {},
     "output_type": "execute_result"
    }
   ],
   "source": [
    "# Adjusting accuracy scale\n",
    "all_model_results[\"accuracy\"] = all_model_results[\"accuracy\"] / 100\n",
    "all_model_results"
   ]
  },
  {
   "cell_type": "code",
   "execution_count": 94,
   "metadata": {},
   "outputs": [
    {
     "data": {
      "text/plain": [
       "<matplotlib.legend.Legend at 0x1a3866932e0>"
      ]
     },
     "execution_count": 94,
     "metadata": {},
     "output_type": "execute_result"
    },
    {
     "data": {
      "image/png": "[encoded data removed]",
      "text/plain": [
       "<Figure size 720x504 with 1 Axes>"
      ]
     },
     "metadata": {
      "needs_background": "light"
     },
     "output_type": "display_data"
    }
   ],
   "source": [
    "# Plot and compare all model results\n",
    "all_model_results.plot(kind=\"bar\", figsize=(10, 7)).legend(bbox_to_anchor=(1.0, 1.0))"
   ]
  },
  {
   "cell_type": "code",
   "execution_count": 95,
   "metadata": {},
   "outputs": [
    {
     "data": {
      "text/plain": [
       "<AxesSubplot:>"
      ]
     },
     "execution_count": 95,
     "metadata": {},
     "output_type": "execute_result"
    },
    {
     "data": {
      "image/png": "[encoded data removed]",
      "text/plain": [
       "<Figure size 720x504 with 1 Axes>"
      ]
     },
     "metadata": {
      "needs_background": "light"
     },
     "output_type": "display_data"
    }
   ],
   "source": [
    "# Visualising F1 score\n",
    "all_model_results.sort_values(\"f1\", ascending=False)[\"f1\"].plot(kind=\"bar\", figsize=(10, 7))"
   ]
  },
  {
   "attachments": {},
   "cell_type": "markdown",
   "metadata": {},
   "source": [
    "### TensorBoard visualisation"
   ]
  },
  {
   "cell_type": "code",
   "execution_count": 96,
   "metadata": {},
   "outputs": [],
   "source": [
    "# Local execution of TensorBoard\n",
    "# !tensorboard --logdir ./model_logs"
   ]
  },
  {
   "attachments": {
    "image.png": {
     "image/png": "[encoded data removed]"
    }
   },
   "cell_type": "markdown",
   "metadata": {},
   "source": [
    "![image.png](attachment:image.png)"
   ]
  },
  {
   "attachments": {},
   "cell_type": "markdown",
   "metadata": {},
   "source": [
    "### Saving and loading models"
   ]
  },
  {
   "cell_type": "code",
   "execution_count": 97,
   "metadata": {},
   "outputs": [],
   "source": [
    "# Saving TFHub's Sentence Encoder to HDF5 format\n",
    "model_6.save(\"model_6.h5\")"
   ]
  },
  {
   "cell_type": "code",
   "execution_count": 98,
   "metadata": {},
   "outputs": [],
   "source": [
    "# Loading model back\n",
    "import tensorflow_hub as hub\n",
    "\n",
    "loaded_model_6 = tf.keras.models.load_model(\n",
    "    \"model_6.h5\",\n",
    "    custom_objects={\"KerasLayer\": hub.KerasLayer}\n",
    ")"
   ]
  },
  {
   "cell_type": "code",
   "execution_count": null,
   "metadata": {},
   "outputs": [],
   "source": []
  }
 ],
 "metadata": {
  "kernelspec": {
   "display_name": "Python 3",
   "language": "python",
   "name": "python3"
  },
  "language_info": {
   "codemirror_mode": {
    "name": "ipython",
    "version": 3
   },
   "file_extension": ".py",
   "mimetype": "text/x-python",
   "name": "python",
   "nbconvert_exporter": "python",
   "pygments_lexer": "ipython3",
   "version": "3.8.10"
  },
  "orig_nbformat": 4,
  "vscode": {
   "interpreter": {
    "hash": "8230a386d8e0083990873cddb8ebb5b6213275a10339230a8504f0ef8ce7f888"
   }
  }
 },
 "nbformat": 4,
 "nbformat_minor": 2
}
