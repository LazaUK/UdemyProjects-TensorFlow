{
 "cells": [
  {
   "cell_type": "markdown",
   "metadata": {},
   "source": [
    "# Classification Neural Network"
   ]
  },
  {
   "cell_type": "code",
   "execution_count": 5,
   "metadata": {},
   "outputs": [
    {
     "name": "stdout",
     "output_type": "stream",
     "text": [
      "2.10.0\n"
     ]
    }
   ],
   "source": [
    "# Importing TF and checking the version\n",
    "import tensorflow as tf\n",
    "print(tf.__version__)"
   ]
  },
  {
   "cell_type": "code",
   "execution_count": 6,
   "metadata": {},
   "outputs": [],
   "source": [
    "# Creaye data\n",
    "from sklearn.datasets import make_circles\n",
    "\n",
    "# 1000 circles\n",
    "n_samples = 1000\n",
    "X, y = make_circles(\n",
    "    n_samples,\n",
    "    noise=0.03,\n",
    "    random_state=42\n",
    ")"
   ]
  },
  {
   "cell_type": "markdown",
   "metadata": {},
   "source": [
    "## Function to visualise predictions of the model"
   ]
  },
  {
   "cell_type": "code",
   "execution_count": 7,
   "metadata": {},
   "outputs": [],
   "source": [
    "import numpy as np\n",
    "import matplotlib.pyplot as plt\n",
    "\n",
    "def plot_decision_boundary(model, X, y):\n",
    "    # create a meshgrid\n",
    "    x_min, x_max = X[:, 0].min() - 0.1, X[:, 0].max() + 0.1\n",
    "    y_min, y_max = X[:, 1].min() - 0.1, X[:, 1].max() + 0.1\n",
    "    xx, yy = np.meshgrid(\n",
    "        np.linspace(x_min, x_max, 100),\n",
    "        np.linspace(y_min, y_max, 100)\n",
    "    )\n",
    "    # create x values\n",
    "    x_in = np.c_[xx.ravel(), yy.ravel()] # stack 2D arrays together\n",
    "    # make predictions\n",
    "    y_pred = model.predict(x_in)\n",
    "    # check for multi-class\n",
    "    if len(y_pred[0]) > 1:\n",
    "        print(\"Doing multi-class classification\")\n",
    "        # so, we re-shaping our pred for plotting\n",
    "        y_pred = np.argmax(y_pred, axis=1).reshape(xx.shape)\n",
    "    else:\n",
    "        print(\"Doing binary classification\")\n",
    "        y_pred = np.round(y_pred).reshape(xx.shape)\n",
    "    # plot the decision boundary\n",
    "    plt.contourf(xx, yy, y_pred, cmap=plt.cm.RdYlBu, alpha=0.7)\n",
    "    plt.scatter(X[:, 0], X[:, 1], c=y, s=40, cmap=plt.cm.RdYlBu)\n",
    "    plt.xlim(xx.min(), xx.max())\n",
    "    plt.ylim(yy.min(), yy.max())"
   ]
  },
  {
   "cell_type": "markdown",
   "metadata": {},
   "source": [
    "# Non-linear models"
   ]
  },
  {
   "cell_type": "markdown",
   "metadata": {},
   "source": [
    "## Model 1"
   ]
  },
  {
   "cell_type": "code",
   "execution_count": 8,
   "metadata": {},
   "outputs": [
    {
     "name": "stdout",
     "output_type": "stream",
     "text": [
      "Epoch 1/100\n",
      "32/32 [==============================] - 1s 2ms/step - loss: 4.9749 - accuracy: 0.4700\n",
      "Epoch 2/100\n",
      "32/32 [==============================] - 0s 2ms/step - loss: 4.7559 - accuracy: 0.4720\n",
      "Epoch 3/100\n",
      "32/32 [==============================] - 0s 2ms/step - loss: 4.7060 - accuracy: 0.4720\n",
      "Epoch 4/100\n",
      "32/32 [==============================] - 0s 2ms/step - loss: 4.6173 - accuracy: 0.4760\n",
      "Epoch 5/100\n",
      "32/32 [==============================] - 0s 2ms/step - loss: 4.5539 - accuracy: 0.4710\n",
      "Epoch 6/100\n",
      "32/32 [==============================] - 0s 2ms/step - loss: 4.5458 - accuracy: 0.4740\n",
      "Epoch 7/100\n",
      "32/32 [==============================] - 0s 2ms/step - loss: 4.5440 - accuracy: 0.4740\n",
      "Epoch 8/100\n",
      "32/32 [==============================] - 0s 2ms/step - loss: 4.5423 - accuracy: 0.4740\n",
      "Epoch 9/100\n",
      "32/32 [==============================] - 0s 2ms/step - loss: 4.5406 - accuracy: 0.4730\n",
      "Epoch 10/100\n",
      "32/32 [==============================] - 0s 2ms/step - loss: 4.5388 - accuracy: 0.4730\n",
      "Epoch 11/100\n",
      "32/32 [==============================] - 0s 2ms/step - loss: 4.5369 - accuracy: 0.4730\n",
      "Epoch 12/100\n",
      "32/32 [==============================] - 0s 2ms/step - loss: 4.5354 - accuracy: 0.4730\n",
      "Epoch 13/100\n",
      "32/32 [==============================] - 0s 2ms/step - loss: 4.5336 - accuracy: 0.4720\n",
      "Epoch 14/100\n",
      "32/32 [==============================] - 0s 2ms/step - loss: 4.5320 - accuracy: 0.4720\n",
      "Epoch 15/100\n",
      "32/32 [==============================] - 0s 2ms/step - loss: 4.5303 - accuracy: 0.4720\n",
      "Epoch 16/100\n",
      "32/32 [==============================] - 0s 4ms/step - loss: 4.5288 - accuracy: 0.4720\n",
      "Epoch 17/100\n",
      "32/32 [==============================] - 0s 2ms/step - loss: 4.5272 - accuracy: 0.4710\n",
      "Epoch 18/100\n",
      "32/32 [==============================] - 0s 3ms/step - loss: 4.5255 - accuracy: 0.4710\n",
      "Epoch 19/100\n",
      "32/32 [==============================] - 0s 3ms/step - loss: 4.5238 - accuracy: 0.4720\n",
      "Epoch 20/100\n",
      "32/32 [==============================] - 0s 5ms/step - loss: 4.5224 - accuracy: 0.4720\n",
      "Epoch 21/100\n",
      "32/32 [==============================] - 0s 6ms/step - loss: 4.5208 - accuracy: 0.4730\n",
      "Epoch 22/100\n",
      "32/32 [==============================] - 0s 11ms/step - loss: 4.5193 - accuracy: 0.4730\n",
      "Epoch 23/100\n",
      "32/32 [==============================] - 0s 5ms/step - loss: 4.5180 - accuracy: 0.4740\n",
      "Epoch 24/100\n",
      "32/32 [==============================] - 0s 11ms/step - loss: 4.5163 - accuracy: 0.4740\n",
      "Epoch 25/100\n",
      "32/32 [==============================] - 0s 7ms/step - loss: 4.5149 - accuracy: 0.4740\n",
      "Epoch 26/100\n",
      "32/32 [==============================] - 0s 5ms/step - loss: 4.5134 - accuracy: 0.4740\n",
      "Epoch 27/100\n",
      "32/32 [==============================] - 0s 2ms/step - loss: 4.5121 - accuracy: 0.4740\n",
      "Epoch 28/100\n",
      "32/32 [==============================] - 0s 2ms/step - loss: 4.5104 - accuracy: 0.4740\n",
      "Epoch 29/100\n",
      "32/32 [==============================] - 0s 2ms/step - loss: 4.5091 - accuracy: 0.4740\n",
      "Epoch 30/100\n",
      "32/32 [==============================] - 0s 2ms/step - loss: 4.5078 - accuracy: 0.4740\n",
      "Epoch 31/100\n",
      "32/32 [==============================] - 0s 2ms/step - loss: 4.5064 - accuracy: 0.4730\n",
      "Epoch 32/100\n",
      "32/32 [==============================] - 0s 2ms/step - loss: 4.5050 - accuracy: 0.4730\n",
      "Epoch 33/100\n",
      "32/32 [==============================] - 0s 3ms/step - loss: 4.5037 - accuracy: 0.4720\n",
      "Epoch 34/100\n",
      "32/32 [==============================] - 0s 2ms/step - loss: 4.5024 - accuracy: 0.4710\n",
      "Epoch 35/100\n",
      "32/32 [==============================] - 0s 3ms/step - loss: 4.5011 - accuracy: 0.4710\n",
      "Epoch 36/100\n",
      "32/32 [==============================] - 0s 3ms/step - loss: 4.4999 - accuracy: 0.4700\n",
      "Epoch 37/100\n",
      "32/32 [==============================] - 0s 2ms/step - loss: 4.4986 - accuracy: 0.4700\n",
      "Epoch 38/100\n",
      "32/32 [==============================] - 0s 2ms/step - loss: 4.4973 - accuracy: 0.4680\n",
      "Epoch 39/100\n",
      "32/32 [==============================] - 0s 2ms/step - loss: 4.4961 - accuracy: 0.4690\n",
      "Epoch 40/100\n",
      "32/32 [==============================] - 0s 2ms/step - loss: 4.4948 - accuracy: 0.4690\n",
      "Epoch 41/100\n",
      "32/32 [==============================] - 0s 2ms/step - loss: 4.4855 - accuracy: 0.4690\n",
      "Epoch 42/100\n",
      "32/32 [==============================] - 0s 2ms/step - loss: 4.4714 - accuracy: 0.4690\n",
      "Epoch 43/100\n",
      "32/32 [==============================] - 0s 2ms/step - loss: 4.4693 - accuracy: 0.4690\n",
      "Epoch 44/100\n",
      "32/32 [==============================] - 0s 2ms/step - loss: 4.4676 - accuracy: 0.4690\n",
      "Epoch 45/100\n",
      "32/32 [==============================] - 0s 2ms/step - loss: 4.4658 - accuracy: 0.4690\n",
      "Epoch 46/100\n",
      "32/32 [==============================] - 0s 2ms/step - loss: 4.4556 - accuracy: 0.4690\n",
      "Epoch 47/100\n",
      "32/32 [==============================] - 0s 2ms/step - loss: 4.4521 - accuracy: 0.4690\n",
      "Epoch 48/100\n",
      "32/32 [==============================] - 0s 2ms/step - loss: 4.4424 - accuracy: 0.4670\n",
      "Epoch 49/100\n",
      "32/32 [==============================] - 0s 2ms/step - loss: 4.4045 - accuracy: 0.4680\n",
      "Epoch 50/100\n",
      "32/32 [==============================] - 0s 2ms/step - loss: 4.3856 - accuracy: 0.4670\n",
      "Epoch 51/100\n",
      "32/32 [==============================] - 0s 2ms/step - loss: 4.3562 - accuracy: 0.4680\n",
      "Epoch 52/100\n",
      "32/32 [==============================] - 0s 2ms/step - loss: 4.3522 - accuracy: 0.4680\n",
      "Epoch 53/100\n",
      "32/32 [==============================] - 0s 2ms/step - loss: 4.3499 - accuracy: 0.4670\n",
      "Epoch 54/100\n",
      "32/32 [==============================] - 0s 2ms/step - loss: 4.3477 - accuracy: 0.4670\n",
      "Epoch 55/100\n",
      "32/32 [==============================] - 0s 2ms/step - loss: 4.3456 - accuracy: 0.4670\n",
      "Epoch 56/100\n",
      "32/32 [==============================] - 0s 2ms/step - loss: 4.3437 - accuracy: 0.4670\n",
      "Epoch 57/100\n",
      "32/32 [==============================] - 0s 2ms/step - loss: 4.3416 - accuracy: 0.4670\n",
      "Epoch 58/100\n",
      "32/32 [==============================] - 0s 2ms/step - loss: 4.3397 - accuracy: 0.4670\n",
      "Epoch 59/100\n",
      "32/32 [==============================] - 0s 2ms/step - loss: 4.3381 - accuracy: 0.4670\n",
      "Epoch 60/100\n",
      "32/32 [==============================] - 0s 2ms/step - loss: 4.3362 - accuracy: 0.4660\n",
      "Epoch 61/100\n",
      "32/32 [==============================] - 0s 2ms/step - loss: 4.3346 - accuracy: 0.4660\n",
      "Epoch 62/100\n",
      "32/32 [==============================] - 0s 2ms/step - loss: 4.3328 - accuracy: 0.4660\n",
      "Epoch 63/100\n",
      "32/32 [==============================] - 0s 2ms/step - loss: 4.3312 - accuracy: 0.4660\n",
      "Epoch 64/100\n",
      "32/32 [==============================] - 0s 2ms/step - loss: 4.3296 - accuracy: 0.4660\n",
      "Epoch 65/100\n",
      "32/32 [==============================] - 0s 2ms/step - loss: 4.3280 - accuracy: 0.4660\n",
      "Epoch 66/100\n",
      "32/32 [==============================] - 0s 2ms/step - loss: 4.3265 - accuracy: 0.4660\n",
      "Epoch 67/100\n",
      "32/32 [==============================] - 0s 2ms/step - loss: 4.3249 - accuracy: 0.4650\n",
      "Epoch 68/100\n",
      "32/32 [==============================] - 0s 2ms/step - loss: 4.3049 - accuracy: 0.4650\n",
      "Epoch 69/100\n",
      "32/32 [==============================] - 0s 2ms/step - loss: 4.2812 - accuracy: 0.4670\n",
      "Epoch 70/100\n",
      "32/32 [==============================] - 0s 2ms/step - loss: 4.2658 - accuracy: 0.4670\n",
      "Epoch 71/100\n",
      "32/32 [==============================] - 0s 2ms/step - loss: 4.2626 - accuracy: 0.4680\n",
      "Epoch 72/100\n",
      "32/32 [==============================] - 0s 2ms/step - loss: 4.2510 - accuracy: 0.4680\n",
      "Epoch 73/100\n",
      "32/32 [==============================] - 0s 2ms/step - loss: 4.2347 - accuracy: 0.4720\n",
      "Epoch 74/100\n",
      "32/32 [==============================] - 0s 2ms/step - loss: 4.2327 - accuracy: 0.4720\n",
      "Epoch 75/100\n",
      "32/32 [==============================] - 0s 4ms/step - loss: 4.2305 - accuracy: 0.4720\n",
      "Epoch 76/100\n",
      "32/32 [==============================] - 0s 5ms/step - loss: 4.2286 - accuracy: 0.4710\n",
      "Epoch 77/100\n",
      "32/32 [==============================] - 0s 5ms/step - loss: 4.2266 - accuracy: 0.4690\n",
      "Epoch 78/100\n",
      "32/32 [==============================] - 0s 5ms/step - loss: 4.1759 - accuracy: 0.4720\n",
      "Epoch 79/100\n",
      "32/32 [==============================] - 0s 5ms/step - loss: 4.0947 - accuracy: 0.4690\n",
      "Epoch 80/100\n",
      "32/32 [==============================] - 0s 6ms/step - loss: 4.0783 - accuracy: 0.4700\n",
      "Epoch 81/100\n",
      "32/32 [==============================] - 0s 5ms/step - loss: 4.0724 - accuracy: 0.4730\n",
      "Epoch 82/100\n",
      "32/32 [==============================] - 0s 5ms/step - loss: 4.0702 - accuracy: 0.4730\n",
      "Epoch 83/100\n",
      "32/32 [==============================] - 0s 6ms/step - loss: 4.0679 - accuracy: 0.4730\n",
      "Epoch 84/100\n",
      "32/32 [==============================] - 0s 6ms/step - loss: 4.0660 - accuracy: 0.4730\n",
      "Epoch 85/100\n",
      "32/32 [==============================] - 0s 5ms/step - loss: 4.0640 - accuracy: 0.4720\n",
      "Epoch 86/100\n",
      "32/32 [==============================] - 0s 5ms/step - loss: 4.0621 - accuracy: 0.4710\n",
      "Epoch 87/100\n",
      "32/32 [==============================] - 0s 6ms/step - loss: 4.0604 - accuracy: 0.4720\n",
      "Epoch 88/100\n",
      "32/32 [==============================] - 0s 6ms/step - loss: 4.0404 - accuracy: 0.4740\n",
      "Epoch 89/100\n",
      "32/32 [==============================] - 0s 5ms/step - loss: 3.9590 - accuracy: 0.4680\n",
      "Epoch 90/100\n",
      "32/32 [==============================] - 0s 5ms/step - loss: 3.9206 - accuracy: 0.4730\n",
      "Epoch 91/100\n",
      "32/32 [==============================] - 0s 5ms/step - loss: 3.9187 - accuracy: 0.4730\n",
      "Epoch 92/100\n",
      "32/32 [==============================] - 0s 4ms/step - loss: 3.9168 - accuracy: 0.4730\n",
      "Epoch 93/100\n",
      "32/32 [==============================] - 0s 4ms/step - loss: 3.9152 - accuracy: 0.4730\n",
      "Epoch 94/100\n",
      "32/32 [==============================] - 0s 5ms/step - loss: 3.9136 - accuracy: 0.4730\n",
      "Epoch 95/100\n",
      "32/32 [==============================] - 0s 4ms/step - loss: 3.9120 - accuracy: 0.4730\n",
      "Epoch 96/100\n",
      "32/32 [==============================] - 0s 4ms/step - loss: 3.9105 - accuracy: 0.4730\n",
      "Epoch 97/100\n",
      "32/32 [==============================] - 0s 5ms/step - loss: 3.9090 - accuracy: 0.4730\n",
      "Epoch 98/100\n",
      "32/32 [==============================] - 0s 5ms/step - loss: 3.9076 - accuracy: 0.4730\n",
      "Epoch 99/100\n",
      "32/32 [==============================] - 0s 5ms/step - loss: 3.8976 - accuracy: 0.4730\n",
      "Epoch 100/100\n",
      "32/32 [==============================] - 0s 4ms/step - loss: 3.8868 - accuracy: 0.4730\n"
     ]
    }
   ],
   "source": [
    "# Create a model\n",
    "model_nl1 = tf.keras.models.Sequential([\n",
    "    tf.keras.layers.Dense(1, activation=tf.keras.activations.relu)\n",
    "])\n",
    "\n",
    "# Compile the model\n",
    "model_nl1.compile(\n",
    "    loss=tf.keras.losses.BinaryCrossentropy(),\n",
    "    optimizer=tf.keras.optimizers.Adam(learning_rate=0.001),\n",
    "    metrics=[\"accuracy\"]\n",
    ")\n",
    "\n",
    "# Fit the model\n",
    "history1 = model_nl1.fit(X, y, epochs=100)"
   ]
  },
  {
   "cell_type": "code",
   "execution_count": 9,
   "metadata": {},
   "outputs": [
    {
     "name": "stdout",
     "output_type": "stream",
     "text": [
      "313/313 [==============================] - 1s 4ms/step\n",
      "Doing binary classification\n"
     ]
    },
    {
     "data": {
      "image/png": "[encoded data removed]",
      "text/plain": [
       "<Figure size 432x288 with 1 Axes>"
      ]
     },
     "metadata": {
      "needs_background": "light"
     },
     "output_type": "display_data"
    }
   ],
   "source": [
    "plot_decision_boundary(model_nl1, X, y)"
   ]
  },
  {
   "cell_type": "markdown",
   "metadata": {},
   "source": [
    "## Model 2"
   ]
  },
  {
   "cell_type": "code",
   "execution_count": 10,
   "metadata": {},
   "outputs": [
    {
     "name": "stdout",
     "output_type": "stream",
     "text": [
      "Epoch 1/100\n",
      "32/32 [==============================] - 2s 6ms/step - loss: 4.3245 - accuracy: 0.5000\n",
      "Epoch 2/100\n",
      "32/32 [==============================] - 0s 5ms/step - loss: 3.7418 - accuracy: 0.5000\n",
      "Epoch 3/100\n",
      "32/32 [==============================] - 0s 5ms/step - loss: 2.4210 - accuracy: 0.5000\n",
      "Epoch 4/100\n",
      "32/32 [==============================] - 0s 5ms/step - loss: 1.1177 - accuracy: 0.5000\n",
      "Epoch 5/100\n",
      "32/32 [==============================] - 0s 5ms/step - loss: 0.9937 - accuracy: 0.5000\n",
      "Epoch 6/100\n",
      "32/32 [==============================] - 0s 5ms/step - loss: 0.9209 - accuracy: 0.5000\n",
      "Epoch 7/100\n",
      "32/32 [==============================] - 0s 5ms/step - loss: 0.8696 - accuracy: 0.5000\n",
      "Epoch 8/100\n",
      "32/32 [==============================] - 0s 5ms/step - loss: 0.8317 - accuracy: 0.4990\n",
      "Epoch 9/100\n",
      "32/32 [==============================] - 0s 6ms/step - loss: 0.7998 - accuracy: 0.4700\n",
      "Epoch 10/100\n",
      "32/32 [==============================] - 0s 6ms/step - loss: 0.7759 - accuracy: 0.4220\n",
      "Epoch 11/100\n",
      "32/32 [==============================] - 0s 6ms/step - loss: 0.7623 - accuracy: 0.4030\n",
      "Epoch 12/100\n",
      "32/32 [==============================] - 0s 6ms/step - loss: 0.7559 - accuracy: 0.3860\n",
      "Epoch 13/100\n",
      "32/32 [==============================] - 0s 5ms/step - loss: 0.7522 - accuracy: 0.3990\n",
      "Epoch 14/100\n",
      "32/32 [==============================] - 0s 6ms/step - loss: 0.7488 - accuracy: 0.4120\n",
      "Epoch 15/100\n",
      "32/32 [==============================] - 0s 5ms/step - loss: 0.7458 - accuracy: 0.4120\n",
      "Epoch 16/100\n",
      "32/32 [==============================] - 0s 5ms/step - loss: 0.7424 - accuracy: 0.4110\n",
      "Epoch 17/100\n",
      "32/32 [==============================] - 0s 4ms/step - loss: 0.7403 - accuracy: 0.4260\n",
      "Epoch 18/100\n",
      "32/32 [==============================] - 0s 5ms/step - loss: 0.7370 - accuracy: 0.4130\n",
      "Epoch 19/100\n",
      "32/32 [==============================] - 0s 5ms/step - loss: 0.7343 - accuracy: 0.4020\n",
      "Epoch 20/100\n",
      "32/32 [==============================] - 0s 6ms/step - loss: 0.7323 - accuracy: 0.4030\n",
      "Epoch 21/100\n",
      "32/32 [==============================] - 0s 7ms/step - loss: 0.7297 - accuracy: 0.3880\n",
      "Epoch 22/100\n",
      "32/32 [==============================] - 0s 6ms/step - loss: 0.7273 - accuracy: 0.3910\n",
      "Epoch 23/100\n",
      "32/32 [==============================] - 0s 5ms/step - loss: 0.7252 - accuracy: 0.3890\n",
      "Epoch 24/100\n",
      "32/32 [==============================] - 0s 5ms/step - loss: 0.7232 - accuracy: 0.3920\n",
      "Epoch 25/100\n",
      "32/32 [==============================] - 0s 6ms/step - loss: 0.7214 - accuracy: 0.4050\n",
      "Epoch 26/100\n",
      "32/32 [==============================] - 0s 5ms/step - loss: 0.7191 - accuracy: 0.4110\n",
      "Epoch 27/100\n",
      "32/32 [==============================] - 0s 5ms/step - loss: 0.7169 - accuracy: 0.4100\n",
      "Epoch 28/100\n",
      "32/32 [==============================] - 0s 5ms/step - loss: 0.7148 - accuracy: 0.4080\n",
      "Epoch 29/100\n",
      "32/32 [==============================] - 0s 4ms/step - loss: 0.7131 - accuracy: 0.4040\n",
      "Epoch 30/100\n",
      "32/32 [==============================] - 0s 3ms/step - loss: 0.7111 - accuracy: 0.4410\n",
      "Epoch 31/100\n",
      "32/32 [==============================] - 0s 2ms/step - loss: 0.7093 - accuracy: 0.4780\n",
      "Epoch 32/100\n",
      "32/32 [==============================] - 0s 3ms/step - loss: 0.7078 - accuracy: 0.4930\n",
      "Epoch 33/100\n",
      "32/32 [==============================] - 0s 2ms/step - loss: 0.7060 - accuracy: 0.4940\n",
      "Epoch 34/100\n",
      "32/32 [==============================] - 0s 2ms/step - loss: 0.7043 - accuracy: 0.4990\n",
      "Epoch 35/100\n",
      "32/32 [==============================] - 0s 2ms/step - loss: 0.7027 - accuracy: 0.5000\n",
      "Epoch 36/100\n",
      "32/32 [==============================] - 0s 2ms/step - loss: 0.7013 - accuracy: 0.5020\n",
      "Epoch 37/100\n",
      "32/32 [==============================] - 0s 2ms/step - loss: 0.7000 - accuracy: 0.5050\n",
      "Epoch 38/100\n",
      "32/32 [==============================] - 0s 2ms/step - loss: 0.6984 - accuracy: 0.5080\n",
      "Epoch 39/100\n",
      "32/32 [==============================] - 0s 2ms/step - loss: 0.6967 - accuracy: 0.5030\n",
      "Epoch 40/100\n",
      "32/32 [==============================] - 0s 3ms/step - loss: 0.6956 - accuracy: 0.5120\n",
      "Epoch 41/100\n",
      "32/32 [==============================] - 0s 3ms/step - loss: 0.6940 - accuracy: 0.5230\n",
      "Epoch 42/100\n",
      "32/32 [==============================] - 0s 3ms/step - loss: 0.6927 - accuracy: 0.5240\n",
      "Epoch 43/100\n",
      "32/32 [==============================] - 0s 2ms/step - loss: 0.6916 - accuracy: 0.5310\n",
      "Epoch 44/100\n",
      "32/32 [==============================] - 0s 3ms/step - loss: 0.6906 - accuracy: 0.5300\n",
      "Epoch 45/100\n",
      "32/32 [==============================] - 0s 3ms/step - loss: 0.6893 - accuracy: 0.5350\n",
      "Epoch 46/100\n",
      "32/32 [==============================] - 0s 3ms/step - loss: 0.6879 - accuracy: 0.5360\n",
      "Epoch 47/100\n",
      "32/32 [==============================] - 0s 2ms/step - loss: 0.6866 - accuracy: 0.5360\n",
      "Epoch 48/100\n",
      "32/32 [==============================] - 0s 2ms/step - loss: 0.6853 - accuracy: 0.5310\n",
      "Epoch 49/100\n",
      "32/32 [==============================] - 0s 2ms/step - loss: 0.6843 - accuracy: 0.5320\n",
      "Epoch 50/100\n",
      "32/32 [==============================] - 0s 2ms/step - loss: 0.6834 - accuracy: 0.5320\n",
      "Epoch 51/100\n",
      "32/32 [==============================] - 0s 2ms/step - loss: 0.6824 - accuracy: 0.5420\n",
      "Epoch 52/100\n",
      "32/32 [==============================] - 0s 3ms/step - loss: 0.6808 - accuracy: 0.5400\n",
      "Epoch 53/100\n",
      "32/32 [==============================] - 0s 2ms/step - loss: 0.6797 - accuracy: 0.5420\n",
      "Epoch 54/100\n",
      "32/32 [==============================] - 0s 2ms/step - loss: 0.6781 - accuracy: 0.5470\n",
      "Epoch 55/100\n",
      "32/32 [==============================] - 0s 2ms/step - loss: 0.6759 - accuracy: 0.5470\n",
      "Epoch 56/100\n",
      "32/32 [==============================] - 0s 3ms/step - loss: 0.6727 - accuracy: 0.5540\n",
      "Epoch 57/100\n",
      "32/32 [==============================] - 0s 4ms/step - loss: 0.6701 - accuracy: 0.5490\n",
      "Epoch 58/100\n",
      "32/32 [==============================] - 0s 3ms/step - loss: 0.6678 - accuracy: 0.5570\n",
      "Epoch 59/100\n",
      "32/32 [==============================] - 0s 4ms/step - loss: 0.6667 - accuracy: 0.5520\n",
      "Epoch 60/100\n",
      "32/32 [==============================] - 0s 4ms/step - loss: 0.6659 - accuracy: 0.5510\n",
      "Epoch 61/100\n",
      "32/32 [==============================] - 0s 3ms/step - loss: 0.6654 - accuracy: 0.5540\n",
      "Epoch 62/100\n",
      "32/32 [==============================] - 0s 3ms/step - loss: 0.6644 - accuracy: 0.5560\n",
      "Epoch 63/100\n",
      "32/32 [==============================] - 0s 3ms/step - loss: 0.6639 - accuracy: 0.5510\n",
      "Epoch 64/100\n",
      "32/32 [==============================] - 0s 3ms/step - loss: 0.6634 - accuracy: 0.5550\n",
      "Epoch 65/100\n",
      "32/32 [==============================] - 0s 3ms/step - loss: 0.6638 - accuracy: 0.5580\n",
      "Epoch 66/100\n",
      "32/32 [==============================] - 0s 4ms/step - loss: 0.6615 - accuracy: 0.5550\n",
      "Epoch 67/100\n",
      "32/32 [==============================] - 0s 4ms/step - loss: 0.6611 - accuracy: 0.5570\n",
      "Epoch 68/100\n",
      "32/32 [==============================] - 0s 6ms/step - loss: 0.6606 - accuracy: 0.5600\n",
      "Epoch 69/100\n",
      "32/32 [==============================] - 0s 4ms/step - loss: 0.6601 - accuracy: 0.5560\n",
      "Epoch 70/100\n",
      "32/32 [==============================] - 0s 2ms/step - loss: 0.6595 - accuracy: 0.5640\n",
      "Epoch 71/100\n",
      "32/32 [==============================] - 0s 2ms/step - loss: 0.6581 - accuracy: 0.5600\n",
      "Epoch 72/100\n",
      "32/32 [==============================] - 0s 2ms/step - loss: 0.6577 - accuracy: 0.5560\n",
      "Epoch 73/100\n",
      "32/32 [==============================] - 0s 2ms/step - loss: 0.6568 - accuracy: 0.5570\n",
      "Epoch 74/100\n",
      "32/32 [==============================] - 0s 3ms/step - loss: 0.6571 - accuracy: 0.5640\n",
      "Epoch 75/100\n",
      "32/32 [==============================] - 0s 2ms/step - loss: 0.6560 - accuracy: 0.5590\n",
      "Epoch 76/100\n",
      "32/32 [==============================] - 0s 2ms/step - loss: 0.6566 - accuracy: 0.5560\n",
      "Epoch 77/100\n",
      "32/32 [==============================] - 0s 2ms/step - loss: 0.6549 - accuracy: 0.5630\n",
      "Epoch 78/100\n",
      "32/32 [==============================] - 0s 2ms/step - loss: 0.6545 - accuracy: 0.5620\n",
      "Epoch 79/100\n",
      "32/32 [==============================] - 0s 2ms/step - loss: 0.6538 - accuracy: 0.5620\n",
      "Epoch 80/100\n",
      "32/32 [==============================] - 0s 2ms/step - loss: 0.6534 - accuracy: 0.5620\n",
      "Epoch 81/100\n",
      "32/32 [==============================] - 0s 2ms/step - loss: 0.6533 - accuracy: 0.5550\n",
      "Epoch 82/100\n",
      "32/32 [==============================] - 0s 2ms/step - loss: 0.6529 - accuracy: 0.5590\n",
      "Epoch 83/100\n",
      "32/32 [==============================] - 0s 2ms/step - loss: 0.6519 - accuracy: 0.5650\n",
      "Epoch 84/100\n",
      "32/32 [==============================] - 0s 2ms/step - loss: 0.6524 - accuracy: 0.5600\n",
      "Epoch 85/100\n",
      "32/32 [==============================] - 0s 3ms/step - loss: 0.6510 - accuracy: 0.5630\n",
      "Epoch 86/100\n",
      "32/32 [==============================] - 0s 2ms/step - loss: 0.6513 - accuracy: 0.5610\n",
      "Epoch 87/100\n",
      "32/32 [==============================] - 0s 3ms/step - loss: 0.6507 - accuracy: 0.5780\n",
      "Epoch 88/100\n",
      "32/32 [==============================] - 0s 3ms/step - loss: 0.6492 - accuracy: 0.5700\n",
      "Epoch 89/100\n",
      "32/32 [==============================] - 0s 3ms/step - loss: 0.6485 - accuracy: 0.5700\n",
      "Epoch 90/100\n",
      "32/32 [==============================] - 0s 4ms/step - loss: 0.6477 - accuracy: 0.5690\n",
      "Epoch 91/100\n",
      "32/32 [==============================] - 0s 4ms/step - loss: 0.6462 - accuracy: 0.5740\n",
      "Epoch 92/100\n",
      "32/32 [==============================] - 0s 3ms/step - loss: 0.6460 - accuracy: 0.5700\n",
      "Epoch 93/100\n",
      "32/32 [==============================] - 0s 4ms/step - loss: 0.6447 - accuracy: 0.5730\n",
      "Epoch 94/100\n",
      "32/32 [==============================] - 0s 3ms/step - loss: 0.6436 - accuracy: 0.5740\n",
      "Epoch 95/100\n",
      "32/32 [==============================] - 0s 4ms/step - loss: 0.6423 - accuracy: 0.5730\n",
      "Epoch 96/100\n",
      "32/32 [==============================] - 0s 4ms/step - loss: 0.6414 - accuracy: 0.5780\n",
      "Epoch 97/100\n",
      "32/32 [==============================] - 0s 3ms/step - loss: 0.6396 - accuracy: 0.5780\n",
      "Epoch 98/100\n",
      "32/32 [==============================] - 0s 3ms/step - loss: 0.6390 - accuracy: 0.5740\n",
      "Epoch 99/100\n",
      "32/32 [==============================] - 0s 3ms/step - loss: 0.6376 - accuracy: 0.5960\n",
      "Epoch 100/100\n",
      "32/32 [==============================] - 0s 3ms/step - loss: 0.6361 - accuracy: 0.5890\n"
     ]
    },
    {
     "data": {
      "text/plain": [
       "<keras.callbacks.History at 0x207ee7b7700>"
      ]
     },
     "execution_count": 10,
     "metadata": {},
     "output_type": "execute_result"
    }
   ],
   "source": [
    "# Create a model\n",
    "model_nl2 = tf.keras.models.Sequential([\n",
    "    tf.keras.layers.Dense(4, activation=\"relu\"),\n",
    "    tf.keras.layers.Dense(4, activation=\"relu\"),\n",
    "    tf.keras.layers.Dense(1)\n",
    "])\n",
    "\n",
    "# Compile the model\n",
    "model_nl2.compile(\n",
    "    loss=tf.keras.losses.BinaryCrossentropy(),\n",
    "    optimizer=tf.keras.optimizers.Adam(learning_rate=0.001),\n",
    "    metrics=[\"accuracy\"]\n",
    ")\n",
    "\n",
    "# Fit the model\n",
    "model_nl2.fit(X, y, epochs=100)"
   ]
  },
  {
   "cell_type": "code",
   "execution_count": 11,
   "metadata": {},
   "outputs": [
    {
     "name": "stdout",
     "output_type": "stream",
     "text": [
      "313/313 [==============================] - 1s 2ms/step\n",
      "Doing binary classification\n"
     ]
    },
    {
     "data": {
      "image/png": "[encoded data removed]",
      "text/plain": [
       "<Figure size 432x288 with 1 Axes>"
      ]
     },
     "metadata": {
      "needs_background": "light"
     },
     "output_type": "display_data"
    }
   ],
   "source": [
    "plot_decision_boundary(model_nl2, X, y)"
   ]
  },
  {
   "cell_type": "markdown",
   "metadata": {},
   "source": [
    "## Model 3"
   ]
  },
  {
   "cell_type": "code",
   "execution_count": 12,
   "metadata": {},
   "outputs": [
    {
     "name": "stdout",
     "output_type": "stream",
     "text": [
      "Epoch 1/100\n",
      "32/32 [==============================] - 1s 3ms/step - loss: 0.6884 - accuracy: 0.5020\n",
      "Epoch 2/100\n",
      "32/32 [==============================] - 0s 3ms/step - loss: 0.6871 - accuracy: 0.5030\n",
      "Epoch 3/100\n",
      "32/32 [==============================] - 0s 3ms/step - loss: 0.6863 - accuracy: 0.5150\n",
      "Epoch 4/100\n",
      "32/32 [==============================] - 0s 2ms/step - loss: 0.6857 - accuracy: 0.5280\n",
      "Epoch 5/100\n",
      "32/32 [==============================] - 0s 3ms/step - loss: 0.6850 - accuracy: 0.5310\n",
      "Epoch 6/100\n",
      "32/32 [==============================] - 0s 2ms/step - loss: 0.6839 - accuracy: 0.5330\n",
      "Epoch 7/100\n",
      "32/32 [==============================] - 0s 3ms/step - loss: 0.6831 - accuracy: 0.5310\n",
      "Epoch 8/100\n",
      "32/32 [==============================] - 0s 3ms/step - loss: 0.6824 - accuracy: 0.5340\n",
      "Epoch 9/100\n",
      "32/32 [==============================] - 0s 3ms/step - loss: 0.6816 - accuracy: 0.5420\n",
      "Epoch 10/100\n",
      "32/32 [==============================] - 0s 3ms/step - loss: 0.6807 - accuracy: 0.5400\n",
      "Epoch 11/100\n",
      "32/32 [==============================] - 0s 3ms/step - loss: 0.6799 - accuracy: 0.5390\n",
      "Epoch 12/100\n",
      "32/32 [==============================] - 0s 3ms/step - loss: 0.6791 - accuracy: 0.5390\n",
      "Epoch 13/100\n",
      "32/32 [==============================] - 0s 3ms/step - loss: 0.6782 - accuracy: 0.5340\n",
      "Epoch 14/100\n",
      "32/32 [==============================] - 0s 4ms/step - loss: 0.6766 - accuracy: 0.5400\n",
      "Epoch 15/100\n",
      "32/32 [==============================] - 0s 4ms/step - loss: 0.6748 - accuracy: 0.5440\n",
      "Epoch 16/100\n",
      "32/32 [==============================] - 0s 4ms/step - loss: 0.6727 - accuracy: 0.5600\n",
      "Epoch 17/100\n",
      "32/32 [==============================] - 0s 4ms/step - loss: 0.6713 - accuracy: 0.5830\n",
      "Epoch 18/100\n",
      "32/32 [==============================] - 0s 3ms/step - loss: 0.6691 - accuracy: 0.5750\n",
      "Epoch 19/100\n",
      "32/32 [==============================] - 0s 3ms/step - loss: 0.6675 - accuracy: 0.5940\n",
      "Epoch 20/100\n",
      "32/32 [==============================] - 0s 3ms/step - loss: 0.6655 - accuracy: 0.5930\n",
      "Epoch 21/100\n",
      "32/32 [==============================] - 0s 3ms/step - loss: 0.6643 - accuracy: 0.5790\n",
      "Epoch 22/100\n",
      "32/32 [==============================] - 0s 4ms/step - loss: 0.6615 - accuracy: 0.5880\n",
      "Epoch 23/100\n",
      "32/32 [==============================] - 0s 3ms/step - loss: 0.6596 - accuracy: 0.5950\n",
      "Epoch 24/100\n",
      "32/32 [==============================] - 0s 3ms/step - loss: 0.6577 - accuracy: 0.5990\n",
      "Epoch 25/100\n",
      "32/32 [==============================] - 0s 3ms/step - loss: 0.6556 - accuracy: 0.6010\n",
      "Epoch 26/100\n",
      "32/32 [==============================] - 0s 3ms/step - loss: 0.6537 - accuracy: 0.6160\n",
      "Epoch 27/100\n",
      "32/32 [==============================] - 0s 3ms/step - loss: 0.6509 - accuracy: 0.6280\n",
      "Epoch 28/100\n",
      "32/32 [==============================] - 0s 3ms/step - loss: 0.6486 - accuracy: 0.6560\n",
      "Epoch 29/100\n",
      "32/32 [==============================] - 0s 2ms/step - loss: 0.6461 - accuracy: 0.6730\n",
      "Epoch 30/100\n",
      "32/32 [==============================] - 0s 4ms/step - loss: 0.6441 - accuracy: 0.6720\n",
      "Epoch 31/100\n",
      "32/32 [==============================] - 0s 5ms/step - loss: 0.6407 - accuracy: 0.7050\n",
      "Epoch 32/100\n",
      "32/32 [==============================] - 0s 5ms/step - loss: 0.6380 - accuracy: 0.7140\n",
      "Epoch 33/100\n",
      "32/32 [==============================] - 0s 5ms/step - loss: 0.6352 - accuracy: 0.7330\n",
      "Epoch 34/100\n",
      "32/32 [==============================] - 0s 5ms/step - loss: 0.6322 - accuracy: 0.7050\n",
      "Epoch 35/100\n",
      "32/32 [==============================] - 0s 4ms/step - loss: 0.6289 - accuracy: 0.7250\n",
      "Epoch 36/100\n",
      "32/32 [==============================] - 0s 5ms/step - loss: 0.6260 - accuracy: 0.7760\n",
      "Epoch 37/100\n",
      "32/32 [==============================] - 0s 4ms/step - loss: 0.6211 - accuracy: 0.7640\n",
      "Epoch 38/100\n",
      "32/32 [==============================] - 0s 4ms/step - loss: 0.6173 - accuracy: 0.7270\n",
      "Epoch 39/100\n",
      "32/32 [==============================] - 0s 4ms/step - loss: 0.6130 - accuracy: 0.7760\n",
      "Epoch 40/100\n",
      "32/32 [==============================] - 0s 4ms/step - loss: 0.6092 - accuracy: 0.7980\n",
      "Epoch 41/100\n",
      "32/32 [==============================] - 0s 4ms/step - loss: 0.6053 - accuracy: 0.7840\n",
      "Epoch 42/100\n",
      "32/32 [==============================] - 0s 4ms/step - loss: 0.6008 - accuracy: 0.7900\n",
      "Epoch 43/100\n",
      "32/32 [==============================] - 0s 3ms/step - loss: 0.5972 - accuracy: 0.8080\n",
      "Epoch 44/100\n",
      "32/32 [==============================] - 0s 2ms/step - loss: 0.5930 - accuracy: 0.8120\n",
      "Epoch 45/100\n",
      "32/32 [==============================] - 0s 3ms/step - loss: 0.5887 - accuracy: 0.8110\n",
      "Epoch 46/100\n",
      "32/32 [==============================] - 0s 3ms/step - loss: 0.5849 - accuracy: 0.8240\n",
      "Epoch 47/100\n",
      "32/32 [==============================] - 0s 3ms/step - loss: 0.5806 - accuracy: 0.8220\n",
      "Epoch 48/100\n",
      "32/32 [==============================] - 0s 3ms/step - loss: 0.5759 - accuracy: 0.8290\n",
      "Epoch 49/100\n",
      "32/32 [==============================] - 0s 3ms/step - loss: 0.5724 - accuracy: 0.8380\n",
      "Epoch 50/100\n",
      "32/32 [==============================] - 0s 3ms/step - loss: 0.5674 - accuracy: 0.8440\n",
      "Epoch 51/100\n",
      "32/32 [==============================] - 0s 3ms/step - loss: 0.5631 - accuracy: 0.8450\n",
      "Epoch 52/100\n",
      "32/32 [==============================] - 0s 2ms/step - loss: 0.5583 - accuracy: 0.8520\n",
      "Epoch 53/100\n",
      "32/32 [==============================] - 0s 3ms/step - loss: 0.5540 - accuracy: 0.8500\n",
      "Epoch 54/100\n",
      "32/32 [==============================] - 0s 2ms/step - loss: 0.5489 - accuracy: 0.8520\n",
      "Epoch 55/100\n",
      "32/32 [==============================] - 0s 2ms/step - loss: 0.5448 - accuracy: 0.8600\n",
      "Epoch 56/100\n",
      "32/32 [==============================] - 0s 3ms/step - loss: 0.5407 - accuracy: 0.8440\n",
      "Epoch 57/100\n",
      "32/32 [==============================] - 0s 3ms/step - loss: 0.5347 - accuracy: 0.8520\n",
      "Epoch 58/100\n",
      "32/32 [==============================] - 0s 3ms/step - loss: 0.5311 - accuracy: 0.8520\n",
      "Epoch 59/100\n",
      "32/32 [==============================] - 0s 3ms/step - loss: 0.5258 - accuracy: 0.8660\n",
      "Epoch 60/100\n",
      "32/32 [==============================] - 0s 3ms/step - loss: 0.5215 - accuracy: 0.8680\n",
      "Epoch 61/100\n",
      "32/32 [==============================] - 0s 3ms/step - loss: 0.5174 - accuracy: 0.8660\n",
      "Epoch 62/100\n",
      "32/32 [==============================] - 0s 3ms/step - loss: 0.5112 - accuracy: 0.8750\n",
      "Epoch 63/100\n",
      "32/32 [==============================] - 0s 3ms/step - loss: 0.5069 - accuracy: 0.8690\n",
      "Epoch 64/100\n",
      "32/32 [==============================] - 0s 2ms/step - loss: 0.5020 - accuracy: 0.8780\n",
      "Epoch 65/100\n",
      "32/32 [==============================] - 0s 3ms/step - loss: 0.4971 - accuracy: 0.8770\n",
      "Epoch 66/100\n",
      "32/32 [==============================] - 0s 3ms/step - loss: 0.4923 - accuracy: 0.8870\n",
      "Epoch 67/100\n",
      "32/32 [==============================] - 0s 3ms/step - loss: 0.4869 - accuracy: 0.8830\n",
      "Epoch 68/100\n",
      "32/32 [==============================] - 0s 3ms/step - loss: 0.4828 - accuracy: 0.8850\n",
      "Epoch 69/100\n",
      "32/32 [==============================] - 0s 3ms/step - loss: 0.4779 - accuracy: 0.8870\n",
      "Epoch 70/100\n",
      "32/32 [==============================] - 0s 2ms/step - loss: 0.4727 - accuracy: 0.8980\n",
      "Epoch 71/100\n",
      "32/32 [==============================] - 0s 2ms/step - loss: 0.4677 - accuracy: 0.8910\n",
      "Epoch 72/100\n",
      "32/32 [==============================] - 0s 3ms/step - loss: 0.4635 - accuracy: 0.8970\n",
      "Epoch 73/100\n",
      "32/32 [==============================] - 0s 3ms/step - loss: 0.4585 - accuracy: 0.8880\n",
      "Epoch 74/100\n",
      "32/32 [==============================] - 0s 3ms/step - loss: 0.4537 - accuracy: 0.9110\n",
      "Epoch 75/100\n",
      "32/32 [==============================] - 0s 3ms/step - loss: 0.4484 - accuracy: 0.8960\n",
      "Epoch 76/100\n",
      "32/32 [==============================] - 0s 3ms/step - loss: 0.4431 - accuracy: 0.9080\n",
      "Epoch 77/100\n",
      "32/32 [==============================] - 0s 2ms/step - loss: 0.4381 - accuracy: 0.9170\n",
      "Epoch 78/100\n",
      "32/32 [==============================] - 0s 2ms/step - loss: 0.4338 - accuracy: 0.9250\n",
      "Epoch 79/100\n",
      "32/32 [==============================] - 0s 2ms/step - loss: 0.4291 - accuracy: 0.9210\n",
      "Epoch 80/100\n",
      "32/32 [==============================] - 0s 3ms/step - loss: 0.4242 - accuracy: 0.9230\n",
      "Epoch 81/100\n",
      "32/32 [==============================] - 0s 3ms/step - loss: 0.4194 - accuracy: 0.9270\n",
      "Epoch 82/100\n",
      "32/32 [==============================] - 0s 3ms/step - loss: 0.4141 - accuracy: 0.9300\n",
      "Epoch 83/100\n",
      "32/32 [==============================] - 0s 4ms/step - loss: 0.4094 - accuracy: 0.9330\n",
      "Epoch 84/100\n",
      "32/32 [==============================] - 0s 3ms/step - loss: 0.4043 - accuracy: 0.9360\n",
      "Epoch 85/100\n",
      "32/32 [==============================] - 0s 4ms/step - loss: 0.3995 - accuracy: 0.9370\n",
      "Epoch 86/100\n",
      "32/32 [==============================] - 0s 5ms/step - loss: 0.3950 - accuracy: 0.9460\n",
      "Epoch 87/100\n",
      "32/32 [==============================] - 0s 3ms/step - loss: 0.3901 - accuracy: 0.9420\n",
      "Epoch 88/100\n",
      "32/32 [==============================] - 0s 4ms/step - loss: 0.3854 - accuracy: 0.9390\n",
      "Epoch 89/100\n",
      "32/32 [==============================] - 0s 4ms/step - loss: 0.3802 - accuracy: 0.9470\n",
      "Epoch 90/100\n",
      "32/32 [==============================] - 0s 4ms/step - loss: 0.3757 - accuracy: 0.9460\n",
      "Epoch 91/100\n",
      "32/32 [==============================] - 0s 3ms/step - loss: 0.3710 - accuracy: 0.9490\n",
      "Epoch 92/100\n",
      "32/32 [==============================] - 0s 2ms/step - loss: 0.3662 - accuracy: 0.9600\n",
      "Epoch 93/100\n",
      "32/32 [==============================] - 0s 2ms/step - loss: 0.3620 - accuracy: 0.9520\n",
      "Epoch 94/100\n",
      "32/32 [==============================] - 0s 3ms/step - loss: 0.3560 - accuracy: 0.9550\n",
      "Epoch 95/100\n",
      "32/32 [==============================] - 0s 3ms/step - loss: 0.3519 - accuracy: 0.9570\n",
      "Epoch 96/100\n",
      "32/32 [==============================] - 0s 3ms/step - loss: 0.3467 - accuracy: 0.9650\n",
      "Epoch 97/100\n",
      "32/32 [==============================] - 0s 2ms/step - loss: 0.3428 - accuracy: 0.9670\n",
      "Epoch 98/100\n",
      "32/32 [==============================] - 0s 3ms/step - loss: 0.3384 - accuracy: 0.9640\n",
      "Epoch 99/100\n",
      "32/32 [==============================] - 0s 3ms/step - loss: 0.3332 - accuracy: 0.9670\n",
      "Epoch 100/100\n",
      "32/32 [==============================] - 0s 2ms/step - loss: 0.3289 - accuracy: 0.9670\n"
     ]
    }
   ],
   "source": [
    "# Create a model\n",
    "model_nl3 = tf.keras.models.Sequential([\n",
    "    tf.keras.layers.Dense(4, activation=\"relu\"),\n",
    "    tf.keras.layers.Dense(4, activation=\"relu\"),\n",
    "    tf.keras.layers.Dense(1, activation=\"sigmoid\")\n",
    "])\n",
    "\n",
    "# Compile the model\n",
    "model_nl3.compile(\n",
    "    loss=tf.keras.losses.BinaryCrossentropy(),\n",
    "    optimizer=tf.keras.optimizers.Adam(learning_rate=0.001),\n",
    "    metrics=[\"accuracy\"]\n",
    ")\n",
    "\n",
    "# Fit the model\n",
    "history3 = model_nl3.fit(X, y, epochs=100)"
   ]
  },
  {
   "cell_type": "code",
   "execution_count": 13,
   "metadata": {},
   "outputs": [
    {
     "name": "stdout",
     "output_type": "stream",
     "text": [
      "313/313 [==============================] - 1s 2ms/step\n",
      "Doing binary classification\n"
     ]
    },
    {
     "data": {
      "image/png": "[encoded data removed]",
      "text/plain": [
       "<Figure size 432x288 with 1 Axes>"
      ]
     },
     "metadata": {
      "needs_background": "light"
     },
     "output_type": "display_data"
    }
   ],
   "source": [
    "plot_decision_boundary(model_nl3, X, y)"
   ]
  },
  {
   "cell_type": "markdown",
   "metadata": {},
   "source": [
    "## Model evaluation"
   ]
  },
  {
   "cell_type": "code",
   "execution_count": 14,
   "metadata": {},
   "outputs": [
    {
     "data": {
      "text/plain": [
       "<tf.Tensor: shape=(20,), dtype=float32, numpy=\n",
       "array([-10.,  -9.,  -8.,  -7.,  -6.,  -5.,  -4.,  -3.,  -2.,  -1.,   0.,\n",
       "         1.,   2.,   3.,   4.,   5.,   6.,   7.,   8.,   9.],\n",
       "      dtype=float32)>"
      ]
     },
     "execution_count": 14,
     "metadata": {},
     "output_type": "execute_result"
    }
   ],
   "source": [
    "# Mock tensor\n",
    "A = tf.cast(tf.range(-10, 10), tf.float32)\n",
    "A"
   ]
  },
  {
   "cell_type": "code",
   "execution_count": 15,
   "metadata": {},
   "outputs": [
    {
     "data": {
      "text/plain": [
       "[<matplotlib.lines.Line2D at 0x207f0a26280>]"
      ]
     },
     "execution_count": 15,
     "metadata": {},
     "output_type": "execute_result"
    },
    {
     "data": {
      "image/png": "[encoded data removed]",
      "text/plain": [
       "<Figure size 432x288 with 1 Axes>"
      ]
     },
     "metadata": {
      "needs_background": "light"
     },
     "output_type": "display_data"
    }
   ],
   "source": [
    "plt.plot(A)"
   ]
  },
  {
   "cell_type": "code",
   "execution_count": 16,
   "metadata": {},
   "outputs": [],
   "source": [
    "# Replicating sigmoid function\n",
    "def sigmoid(x):\n",
    "    return 1 / (1 + tf.exp(-x))"
   ]
  },
  {
   "cell_type": "code",
   "execution_count": 17,
   "metadata": {},
   "outputs": [
    {
     "data": {
      "text/plain": [
       "[<matplotlib.lines.Line2D at 0x207f0a97130>]"
      ]
     },
     "execution_count": 17,
     "metadata": {},
     "output_type": "execute_result"
    },
    {
     "data": {
      "image/png": "[encoded data removed]",
      "text/plain": [
       "<Figure size 432x288 with 1 Axes>"
      ]
     },
     "metadata": {
      "needs_background": "light"
     },
     "output_type": "display_data"
    }
   ],
   "source": [
    "# Apply sigmoid to mock tensor and plot it\n",
    "plt.plot(sigmoid(A))"
   ]
  },
  {
   "cell_type": "code",
   "execution_count": 18,
   "metadata": {},
   "outputs": [],
   "source": [
    "# Replicating relu function\n",
    "def relu(x):\n",
    "    return tf.maximum(0, x)"
   ]
  },
  {
   "cell_type": "code",
   "execution_count": 19,
   "metadata": {},
   "outputs": [
    {
     "data": {
      "text/plain": [
       "[<matplotlib.lines.Line2D at 0x207f0975310>]"
      ]
     },
     "execution_count": 19,
     "metadata": {},
     "output_type": "execute_result"
    },
    {
     "data": {
      "image/png": "[encoded data removed]",
      "text/plain": [
       "<Figure size 432x288 with 1 Axes>"
      ]
     },
     "metadata": {
      "needs_background": "light"
     },
     "output_type": "display_data"
    }
   ],
   "source": [
    "# Aply relu function to mock tensor and plot it\n",
    "plt.plot(relu(A))"
   ]
  },
  {
   "cell_type": "code",
   "execution_count": 20,
   "metadata": {},
   "outputs": [
    {
     "data": {
      "text/plain": [
       "[<matplotlib.lines.Line2D at 0x207f0b0ce20>]"
      ]
     },
     "execution_count": 20,
     "metadata": {},
     "output_type": "execute_result"
    },
    {
     "data": {
      "image/png": "[encoded data removed]",
      "text/plain": [
       "<Figure size 432x288 with 1 Axes>"
      ]
     },
     "metadata": {
      "needs_background": "light"
     },
     "output_type": "display_data"
    }
   ],
   "source": [
    "# Checking linear function\n",
    "plt.plot(tf.keras.activations.linear(A))"
   ]
  },
  {
   "cell_type": "code",
   "execution_count": 21,
   "metadata": {},
   "outputs": [
    {
     "data": {
      "text/plain": [
       "<tf.Tensor: shape=(20,), dtype=bool, numpy=\n",
       "array([ True,  True,  True,  True,  True,  True,  True,  True,  True,\n",
       "        True,  True,  True,  True,  True,  True,  True,  True,  True,\n",
       "        True,  True])>"
      ]
     },
     "execution_count": 21,
     "metadata": {},
     "output_type": "execute_result"
    }
   ],
   "source": [
    "# Does linear activation changes anything in tendor? No!\n",
    "A == tf.keras.activations.linear(A)"
   ]
  },
  {
   "cell_type": "markdown",
   "metadata": {},
   "source": [
    "## Splitting dataset into training and testing parts"
   ]
  },
  {
   "cell_type": "code",
   "execution_count": 22,
   "metadata": {},
   "outputs": [
    {
     "data": {
      "text/plain": [
       "1000"
      ]
     },
     "execution_count": 22,
     "metadata": {},
     "output_type": "execute_result"
    }
   ],
   "source": [
    "len(X)"
   ]
  },
  {
   "cell_type": "code",
   "execution_count": 23,
   "metadata": {},
   "outputs": [
    {
     "data": {
      "text/plain": [
       "((800, 2), (200, 2), (800,), (200,))"
      ]
     },
     "execution_count": 23,
     "metadata": {},
     "output_type": "execute_result"
    }
   ],
   "source": [
    "# 80/20 split\n",
    "X_train, y_train = X[:800], y[:800]\n",
    "X_test, y_test = X[800:], y[800:]\n",
    "\n",
    "X_train.shape, X_test.shape, y_train.shape, y_test.shape"
   ]
  },
  {
   "cell_type": "code",
   "execution_count": null,
   "metadata": {},
   "outputs": [],
   "source": []
  }
 ],
 "metadata": {
  "kernelspec": {
   "display_name": "Python 3.8.10 64-bit",
   "language": "python",
   "name": "python3"
  },
  "language_info": {
   "codemirror_mode": {
    "name": "ipython",
    "version": 3
   },
   "file_extension": ".py",
   "mimetype": "text/x-python",
   "name": "python",
   "nbconvert_exporter": "python",
   "pygments_lexer": "ipython3",
   "version": "3.8.10"
  },
  "orig_nbformat": 4,
  "vscode": {
   "interpreter": {
    "hash": "8230a386d8e0083990873cddb8ebb5b6213275a10339230a8504f0ef8ce7f888"
   }
  }
 },
 "nbformat": 4,
 "nbformat_minor": 2
}
