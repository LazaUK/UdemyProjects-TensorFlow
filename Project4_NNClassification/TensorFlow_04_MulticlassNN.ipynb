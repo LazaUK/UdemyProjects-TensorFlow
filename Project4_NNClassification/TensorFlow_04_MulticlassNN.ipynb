{
 "cells": [
  {
   "cell_type": "markdown",
   "metadata": {},
   "source": [
    "# Multiclass Classification Neural Network"
   ]
  },
  {
   "cell_type": "code",
   "execution_count": 1,
   "metadata": {},
   "outputs": [
    {
     "name": "stdout",
     "output_type": "stream",
     "text": [
      "2.10.0\n"
     ]
    }
   ],
   "source": [
    "# Importing TF and checking the version\n",
    "import tensorflow as tf\n",
    "print(tf.__version__)"
   ]
  },
  {
   "cell_type": "code",
   "execution_count": 2,
   "metadata": {},
   "outputs": [
    {
     "data": {
      "text/plain": [
       "((60000, 28, 28), (60000,), (10000, 28, 28), (10000,))"
      ]
     },
     "execution_count": 2,
     "metadata": {},
     "output_type": "execute_result"
    }
   ],
   "source": [
    "from tensorflow.keras.datasets import fashion_mnist\n",
    "\n",
    "# The data is already split into training and testing subsets\n",
    "(train_data, train_labels), (test_data, test_labels) = fashion_mnist.load_data()\n",
    "train_data.shape, train_labels.shape, test_data.shape, test_labels.shape"
   ]
  },
  {
   "cell_type": "code",
   "execution_count": 3,
   "metadata": {},
   "outputs": [
    {
     "name": "stdout",
     "output_type": "stream",
     "text": [
      "Training sample:\n",
      "[[  0   0   0   0   0   0   0   0   0   0   0   0   0   0   0   0   0   0\n",
      "    0   0   0   0   0   0   0   0   0   0]\n",
      " [  0   0   0   0   0   0   0   0   0   0   0   0   0   0   0   0   0   0\n",
      "    0   0   0   0   0   0   0   0   0   0]\n",
      " [  0   0   0   0   0   0   0   0   0   0   0   0   0   0   0   0   0   0\n",
      "    0   0   0   0   0   0   0   0   0   0]\n",
      " [  0   0   0   0   0   0   0   0   0   0   0   0   1   0   0  13  73   0\n",
      "    0   1   4   0   0   0   0   1   1   0]\n",
      " [  0   0   0   0   0   0   0   0   0   0   0   0   3   0  36 136 127  62\n",
      "   54   0   0   0   1   3   4   0   0   3]\n",
      " [  0   0   0   0   0   0   0   0   0   0   0   0   6   0 102 204 176 134\n",
      "  144 123  23   0   0   0   0  12  10   0]\n",
      " [  0   0   0   0   0   0   0   0   0   0   0   0   0   0 155 236 207 178\n",
      "  107 156 161 109  64  23  77 130  72  15]\n",
      " [  0   0   0   0   0   0   0   0   0   0   0   1   0  69 207 223 218 216\n",
      "  216 163 127 121 122 146 141  88 172  66]\n",
      " [  0   0   0   0   0   0   0   0   0   1   1   1   0 200 232 232 233 229\n",
      "  223 223 215 213 164 127 123 196 229   0]\n",
      " [  0   0   0   0   0   0   0   0   0   0   0   0   0 183 225 216 223 228\n",
      "  235 227 224 222 224 221 223 245 173   0]\n",
      " [  0   0   0   0   0   0   0   0   0   0   0   0   0 193 228 218 213 198\n",
      "  180 212 210 211 213 223 220 243 202   0]\n",
      " [  0   0   0   0   0   0   0   0   0   1   3   0  12 219 220 212 218 192\n",
      "  169 227 208 218 224 212 226 197 209  52]\n",
      " [  0   0   0   0   0   0   0   0   0   0   6   0  99 244 222 220 218 203\n",
      "  198 221 215 213 222 220 245 119 167  56]\n",
      " [  0   0   0   0   0   0   0   0   0   4   0   0  55 236 228 230 228 240\n",
      "  232 213 218 223 234 217 217 209  92   0]\n",
      " [  0   0   1   4   6   7   2   0   0   0   0   0 237 226 217 223 222 219\n",
      "  222 221 216 223 229 215 218 255  77   0]\n",
      " [  0   3   0   0   0   0   0   0   0  62 145 204 228 207 213 221 218 208\n",
      "  211 218 224 223 219 215 224 244 159   0]\n",
      " [  0   0   0   0  18  44  82 107 189 228 220 222 217 226 200 205 211 230\n",
      "  224 234 176 188 250 248 233 238 215   0]\n",
      " [  0  57 187 208 224 221 224 208 204 214 208 209 200 159 245 193 206 223\n",
      "  255 255 221 234 221 211 220 232 246   0]\n",
      " [  3 202 228 224 221 211 211 214 205 205 205 220 240  80 150 255 229 221\n",
      "  188 154 191 210 204 209 222 228 225   0]\n",
      " [ 98 233 198 210 222 229 229 234 249 220 194 215 217 241  65  73 106 117\n",
      "  168 219 221 215 217 223 223 224 229  29]\n",
      " [ 75 204 212 204 193 205 211 225 216 185 197 206 198 213 240 195 227 245\n",
      "  239 223 218 212 209 222 220 221 230  67]\n",
      " [ 48 203 183 194 213 197 185 190 194 192 202 214 219 221 220 236 225 216\n",
      "  199 206 186 181 177 172 181 205 206 115]\n",
      " [  0 122 219 193 179 171 183 196 204 210 213 207 211 210 200 196 194 191\n",
      "  195 191 198 192 176 156 167 177 210  92]\n",
      " [  0   0  74 189 212 191 175 172 175 181 185 188 189 188 193 198 204 209\n",
      "  210 210 211 188 188 194 192 216 170   0]\n",
      " [  2   0   0   0  66 200 222 237 239 242 246 243 244 221 220 193 191 179\n",
      "  182 182 181 176 166 168  99  58   0   0]\n",
      " [  0   0   0   0   0   0   0  40  61  44  72  41  35   0   0   0   0   0\n",
      "    0   0   0   0   0   0   0   0   0   0]\n",
      " [  0   0   0   0   0   0   0   0   0   0   0   0   0   0   0   0   0   0\n",
      "    0   0   0   0   0   0   0   0   0   0]\n",
      " [  0   0   0   0   0   0   0   0   0   0   0   0   0   0   0   0   0   0\n",
      "    0   0   0   0   0   0   0   0   0   0]]\n",
      "\n",
      "Training label:\n",
      "9\n",
      "\n"
     ]
    }
   ],
   "source": [
    "# Show first training sample\n",
    "print(f\"Training sample:\\n{train_data[0]}\\n\")\n",
    "print(f\"Training label:\\n{train_labels[0]}\\n\")"
   ]
  },
  {
   "cell_type": "code",
   "execution_count": 4,
   "metadata": {},
   "outputs": [
    {
     "data": {
      "text/plain": [
       "<matplotlib.image.AxesImage at 0x1ace6e218e0>"
      ]
     },
     "execution_count": 4,
     "metadata": {},
     "output_type": "execute_result"
    },
    {
     "data": {
      "image/png": "[encoded data removed]",
      "text/plain": [
       "<Figure size 432x288 with 1 Axes>"
      ]
     },
     "metadata": {
      "needs_background": "light"
     },
     "output_type": "display_data"
    }
   ],
   "source": [
    "# Plot first training sample\n",
    "import matplotlib.pyplot as plt\n",
    "\n",
    "plt.imshow(train_data[0])"
   ]
  },
  {
   "cell_type": "code",
   "execution_count": 5,
   "metadata": {},
   "outputs": [
    {
     "data": {
      "text/plain": [
       "10"
      ]
     },
     "execution_count": 5,
     "metadata": {},
     "output_type": "execute_result"
    }
   ],
   "source": [
    "# List of actual classes\n",
    "\n",
    "class_names = [\n",
    "    \"T-shirt/top\", \"Trouser\", \"Pullover\", \"Dress\", \"Coat\",\n",
    "    \"Sandal\", \"Shirt\", \"Sneaker\", \"Bag\", \"Ankle Boot\"\n",
    "]\n",
    "len(class_names)"
   ]
  },
  {
   "cell_type": "code",
   "execution_count": 6,
   "metadata": {},
   "outputs": [
    {
     "data": {
      "text/plain": [
       "Text(0.5, 1.0, 'Sneaker')"
      ]
     },
     "execution_count": 6,
     "metadata": {},
     "output_type": "execute_result"
    },
    {
     "data": {
      "image/png": "[encoded data removed]",
      "text/plain": [
       "<Figure size 432x288 with 1 Axes>"
      ]
     },
     "metadata": {
      "needs_background": "light"
     },
     "output_type": "display_data"
    }
   ],
   "source": [
    "# Plot an example image and its label\n",
    "index_of_choice = 108\n",
    "plt.imshow(train_data[index_of_choice], cmap=plt.cm.binary)\n",
    "plt.title(class_names[train_labels[index_of_choice]])"
   ]
  },
  {
   "cell_type": "code",
   "execution_count": 7,
   "metadata": {},
   "outputs": [
    {
     "data": {
      "image/png": "[encoded data removed]",
      "text/plain": [
       "<Figure size 360x360 with 8 Axes>"
      ]
     },
     "metadata": {
      "needs_background": "light"
     },
     "output_type": "display_data"
    }
   ],
   "source": [
    "# Random 4 images from the training dataset\n",
    "import random\n",
    "\n",
    "plt.figure(figsize=(5, 5))\n",
    "\n",
    "for i in range(8):\n",
    "    ax = plt.subplot(2, 4, i+1)\n",
    "    rand_index = random.choice(range(len(train_data)))\n",
    "    plt.imshow(train_data[rand_index], cmap=plt.cm.binary)\n",
    "    plt.title(class_names[train_labels[rand_index]])\n",
    "    plt.axis(False)"
   ]
  },
  {
   "cell_type": "markdown",
   "metadata": {},
   "source": [
    "## Model 1"
   ]
  },
  {
   "cell_type": "code",
   "execution_count": 8,
   "metadata": {},
   "outputs": [
    {
     "name": "stdout",
     "output_type": "stream",
     "text": [
      "Epoch 1/10\n",
      "1875/1875 [==============================] - 11s 5ms/step - loss: 2.3213 - accuracy: 0.0992 - val_loss: 2.3026 - val_accuracy: 0.1000\n",
      "Epoch 2/10\n",
      "1875/1875 [==============================] - 7s 4ms/step - loss: 2.3028 - accuracy: 0.0986 - val_loss: 2.3026 - val_accuracy: 0.1000\n",
      "Epoch 3/10\n",
      "1875/1875 [==============================] - 7s 4ms/step - loss: 2.3028 - accuracy: 0.0996 - val_loss: 2.3026 - val_accuracy: 0.1000\n",
      "Epoch 4/10\n",
      "1875/1875 [==============================] - 7s 4ms/step - loss: 2.3027 - accuracy: 0.0991 - val_loss: 2.3027 - val_accuracy: 0.1000\n",
      "Epoch 5/10\n",
      "1875/1875 [==============================] - 8s 4ms/step - loss: 2.3028 - accuracy: 0.1001 - val_loss: 2.3026 - val_accuracy: 0.1000\n",
      "Epoch 6/10\n",
      "1875/1875 [==============================] - 8s 4ms/step - loss: 2.3028 - accuracy: 0.0977 - val_loss: 2.3026 - val_accuracy: 0.1000\n",
      "Epoch 7/10\n",
      "1875/1875 [==============================] - 9s 5ms/step - loss: 2.3027 - accuracy: 0.0952 - val_loss: 2.3026 - val_accuracy: 0.1000\n",
      "Epoch 8/10\n",
      "1875/1875 [==============================] - 8s 4ms/step - loss: 2.3028 - accuracy: 0.0984 - val_loss: 2.3026 - val_accuracy: 0.1000\n",
      "Epoch 9/10\n",
      "1875/1875 [==============================] - 9s 5ms/step - loss: 2.3028 - accuracy: 0.0988 - val_loss: 2.3026 - val_accuracy: 0.1000\n",
      "Epoch 10/10\n",
      "1875/1875 [==============================] - 10s 5ms/step - loss: 2.3028 - accuracy: 0.1007 - val_loss: 2.3026 - val_accuracy: 0.1000\n"
     ]
    }
   ],
   "source": [
    "# Create a model\n",
    "model_mc1 = tf.keras.models.Sequential([\n",
    "    tf.keras.layers.Flatten(input_shape=(28, 28)),\n",
    "    tf.keras.layers.Dense(4, activation=\"relu\"),\n",
    "    tf.keras.layers.Dense(4, activation=\"relu\"),\n",
    "    tf.keras.layers.Dense(10, activation=\"softmax\")\n",
    "])\n",
    "\n",
    "# Compile the model - Sparse Categorical Crossentropy\n",
    "model_mc1.compile(\n",
    "    loss=tf.keras.losses.SparseCategoricalCrossentropy(),\n",
    "    optimizer=tf.keras.optimizers.Adam(),\n",
    "    metrics=[\"accuracy\"]\n",
    ")\n",
    "\n",
    "# Fit the model\n",
    "history_mc1 = model_mc1.fit(\n",
    "    train_data,\n",
    "    train_labels,\n",
    "    epochs=10,\n",
    "    validation_data=(test_data, test_labels)\n",
    ")"
   ]
  },
  {
   "cell_type": "code",
   "execution_count": 9,
   "metadata": {},
   "outputs": [
    {
     "data": {
      "text/plain": [
       "<tf.Tensor: shape=(60000, 10), dtype=float32, numpy=\n",
       "array([[0., 0., 0., ..., 0., 0., 1.],\n",
       "       [1., 0., 0., ..., 0., 0., 0.],\n",
       "       [1., 0., 0., ..., 0., 0., 0.],\n",
       "       ...,\n",
       "       [0., 0., 0., ..., 0., 0., 0.],\n",
       "       [1., 0., 0., ..., 0., 0., 0.],\n",
       "       [0., 0., 0., ..., 0., 0., 0.]], dtype=float32)>"
      ]
     },
     "execution_count": 9,
     "metadata": {},
     "output_type": "execute_result"
    }
   ],
   "source": [
    "tf.one_hot(train_labels, depth=10)"
   ]
  },
  {
   "cell_type": "code",
   "execution_count": 10,
   "metadata": {},
   "outputs": [
    {
     "name": "stdout",
     "output_type": "stream",
     "text": [
      "Epoch 1/10\n",
      "1875/1875 [==============================] - 11s 5ms/step - loss: 2.1785 - accuracy: 0.3000 - val_loss: 1.6517 - val_accuracy: 0.4072\n",
      "Epoch 2/10\n",
      "1875/1875 [==============================] - 8s 4ms/step - loss: 1.4217 - accuracy: 0.4396 - val_loss: 1.3033 - val_accuracy: 0.4831\n",
      "Epoch 3/10\n",
      "1875/1875 [==============================] - 8s 4ms/step - loss: 1.2375 - accuracy: 0.4926 - val_loss: 1.2633 - val_accuracy: 0.5030\n",
      "Epoch 4/10\n",
      "1875/1875 [==============================] - 7s 4ms/step - loss: 1.1943 - accuracy: 0.5151 - val_loss: 1.1801 - val_accuracy: 0.5228\n",
      "Epoch 5/10\n",
      "1875/1875 [==============================] - 7s 4ms/step - loss: 1.1180 - accuracy: 0.5396 - val_loss: 1.1811 - val_accuracy: 0.5370\n",
      "Epoch 6/10\n",
      "1875/1875 [==============================] - 7s 4ms/step - loss: 1.0715 - accuracy: 0.5702 - val_loss: 1.0300 - val_accuracy: 0.5944\n",
      "Epoch 7/10\n",
      "1875/1875 [==============================] - 7s 4ms/step - loss: 0.9970 - accuracy: 0.6028 - val_loss: 0.9642 - val_accuracy: 0.6068\n",
      "Epoch 8/10\n",
      "1875/1875 [==============================] - 7s 4ms/step - loss: 0.9435 - accuracy: 0.6277 - val_loss: 0.9416 - val_accuracy: 0.6351\n",
      "Epoch 9/10\n",
      "1875/1875 [==============================] - 7s 4ms/step - loss: 0.9106 - accuracy: 0.6307 - val_loss: 0.9468 - val_accuracy: 0.6260\n",
      "Epoch 10/10\n",
      "1875/1875 [==============================] - 7s 4ms/step - loss: 0.8875 - accuracy: 0.6347 - val_loss: 0.8895 - val_accuracy: 0.6279\n"
     ]
    }
   ],
   "source": [
    "# Create a model\n",
    "model_mc1 = tf.keras.models.Sequential([\n",
    "    tf.keras.layers.Flatten(input_shape=(28, 28)),\n",
    "    tf.keras.layers.Dense(4, activation=\"relu\"),\n",
    "    tf.keras.layers.Dense(4, activation=\"relu\"),\n",
    "    tf.keras.layers.Dense(10, activation=\"softmax\")\n",
    "])\n",
    "\n",
    "# Compile the model\n",
    "model_mc1.compile(\n",
    "    loss=tf.keras.losses.CategoricalCrossentropy(),\n",
    "    optimizer=tf.keras.optimizers.Adam(),\n",
    "    metrics=[\"accuracy\"]\n",
    ")\n",
    "\n",
    "# Fit the model\n",
    "history_mc1 = model_mc1.fit(\n",
    "    train_data,\n",
    "    tf.one_hot(train_labels, depth=10),\n",
    "    epochs=10,\n",
    "    validation_data=(test_data, tf.one_hot(test_labels, depth=10))\n",
    ")"
   ]
  },
  {
   "cell_type": "code",
   "execution_count": 11,
   "metadata": {},
   "outputs": [
    {
     "name": "stdout",
     "output_type": "stream",
     "text": [
      "Model: \"sequential_1\"\n",
      "_________________________________________________________________\n",
      " Layer (type)                Output Shape              Param #   \n",
      "=================================================================\n",
      " flatten_1 (Flatten)         (None, 784)               0         \n",
      "                                                                 \n",
      " dense_3 (Dense)             (None, 4)                 3140      \n",
      "                                                                 \n",
      " dense_4 (Dense)             (None, 4)                 20        \n",
      "                                                                 \n",
      " dense_5 (Dense)             (None, 10)                50        \n",
      "                                                                 \n",
      "=================================================================\n",
      "Total params: 3,210\n",
      "Trainable params: 3,210\n",
      "Non-trainable params: 0\n",
      "_________________________________________________________________\n"
     ]
    }
   ],
   "source": [
    "# Model summary\n",
    "model_mc1.summary()"
   ]
  },
  {
   "cell_type": "code",
   "execution_count": 12,
   "metadata": {},
   "outputs": [
    {
     "data": {
      "text/plain": [
       "(0, 255)"
      ]
     },
     "execution_count": 12,
     "metadata": {},
     "output_type": "execute_result"
    }
   ],
   "source": [
    "# Checking min/max values\n",
    "train_data.min(), train_data.max()"
   ]
  },
  {
   "cell_type": "code",
   "execution_count": 13,
   "metadata": {},
   "outputs": [],
   "source": [
    "# Normalise the data in the interval 0 to 1\n",
    "train_data_norm = train_data / 255.0\n",
    "test_data_norm = test_data / 255.0"
   ]
  },
  {
   "cell_type": "code",
   "execution_count": 14,
   "metadata": {},
   "outputs": [
    {
     "data": {
      "text/plain": [
       "(0.0, 1.0)"
      ]
     },
     "execution_count": 14,
     "metadata": {},
     "output_type": "execute_result"
    }
   ],
   "source": [
    "# Checking normalised min/max values\n",
    "train_data_norm.min(), train_data_norm.max()"
   ]
  },
  {
   "cell_type": "code",
   "execution_count": 15,
   "metadata": {},
   "outputs": [
    {
     "name": "stdout",
     "output_type": "stream",
     "text": [
      "Epoch 1/10\n",
      "1875/1875 [==============================] - 9s 4ms/step - loss: 1.0651 - accuracy: 0.6242 - val_loss: 0.7602 - val_accuracy: 0.7422\n",
      "Epoch 2/10\n",
      "1875/1875 [==============================] - 8s 4ms/step - loss: 0.6897 - accuracy: 0.7651 - val_loss: 0.6792 - val_accuracy: 0.7681\n",
      "Epoch 3/10\n",
      "1875/1875 [==============================] - 7s 4ms/step - loss: 0.6353 - accuracy: 0.7781 - val_loss: 0.6409 - val_accuracy: 0.7812\n",
      "Epoch 4/10\n",
      "1875/1875 [==============================] - 8s 4ms/step - loss: 0.6041 - accuracy: 0.7888 - val_loss: 0.6387 - val_accuracy: 0.7763\n",
      "Epoch 5/10\n",
      "1875/1875 [==============================] - 7s 4ms/step - loss: 0.5836 - accuracy: 0.7927 - val_loss: 0.6043 - val_accuracy: 0.7896\n",
      "Epoch 6/10\n",
      "1875/1875 [==============================] - 7s 4ms/step - loss: 0.5677 - accuracy: 0.7994 - val_loss: 0.5957 - val_accuracy: 0.7933\n",
      "Epoch 7/10\n",
      "1875/1875 [==============================] - 7s 4ms/step - loss: 0.5536 - accuracy: 0.8042 - val_loss: 0.5815 - val_accuracy: 0.7983\n",
      "Epoch 8/10\n",
      "1875/1875 [==============================] - 7s 4ms/step - loss: 0.5429 - accuracy: 0.8078 - val_loss: 0.5820 - val_accuracy: 0.7966\n",
      "Epoch 9/10\n",
      "1875/1875 [==============================] - 7s 4ms/step - loss: 0.5331 - accuracy: 0.8112 - val_loss: 0.5719 - val_accuracy: 0.8010\n",
      "Epoch 10/10\n",
      "1875/1875 [==============================] - 7s 4ms/step - loss: 0.5275 - accuracy: 0.8131 - val_loss: 0.5596 - val_accuracy: 0.8032\n"
     ]
    }
   ],
   "source": [
    "# Create a model\n",
    "model_mc2 = tf.keras.models.Sequential([\n",
    "    tf.keras.layers.Flatten(input_shape=(28, 28)),\n",
    "    tf.keras.layers.Dense(4, activation=\"relu\"),\n",
    "    tf.keras.layers.Dense(4, activation=\"relu\"),\n",
    "    tf.keras.layers.Dense(10, activation=\"softmax\")\n",
    "])\n",
    "\n",
    "# Compile the model\n",
    "model_mc2.compile(\n",
    "    loss=tf.keras.losses.SparseCategoricalCrossentropy(),\n",
    "    optimizer=tf.keras.optimizers.Adam(),\n",
    "    metrics=[\"accuracy\"]\n",
    ")\n",
    "\n",
    "# Fit the model\n",
    "history_mc2 = model_mc2.fit(\n",
    "    train_data_norm,\n",
    "    train_labels,\n",
    "    epochs=10,\n",
    "    validation_data=(test_data_norm, test_labels)\n",
    ")"
   ]
  },
  {
   "cell_type": "code",
   "execution_count": 16,
   "metadata": {},
   "outputs": [
    {
     "data": {
      "text/plain": [
       "<AxesSubplot:title={'center':'Normalised data'}>"
      ]
     },
     "execution_count": 16,
     "metadata": {},
     "output_type": "execute_result"
    },
    {
     "data": {
      "image/png": "[encoded data removed]",
      "text/plain": [
       "<Figure size 432x288 with 1 Axes>"
      ]
     },
     "metadata": {
      "needs_background": "light"
     },
     "output_type": "display_data"
    },
    {
     "data": {
      "image/png": "[encoded data removed]",
      "text/plain": [
       "<Figure size 432x288 with 1 Axes>"
      ]
     },
     "metadata": {
      "needs_background": "light"
     },
     "output_type": "display_data"
    }
   ],
   "source": [
    "import pandas as pd\n",
    "\n",
    "# Plot curves\n",
    "pd.DataFrame(history_mc1.history).plot(title=\"Non-normalised data\")\n",
    "pd.DataFrame(history_mc2.history).plot(title=\"Normalised data\")"
   ]
  },
  {
   "cell_type": "markdown",
   "metadata": {},
   "source": [
    "## Finding ideal learning rate"
   ]
  },
  {
   "cell_type": "code",
   "execution_count": 18,
   "metadata": {},
   "outputs": [
    {
     "name": "stdout",
     "output_type": "stream",
     "text": [
      "Epoch 1/40\n",
      "1875/1875 [==============================] - 9s 4ms/step - loss: 1.1124 - accuracy: 0.6118 - val_loss: 0.7620 - val_accuracy: 0.7442 - lr: 0.0010\n",
      "Epoch 2/40\n",
      "1875/1875 [==============================] - 9s 5ms/step - loss: 0.6814 - accuracy: 0.7696 - val_loss: 0.6613 - val_accuracy: 0.7746 - lr: 0.0011\n",
      "Epoch 3/40\n",
      "1875/1875 [==============================] - 8s 4ms/step - loss: 0.6164 - accuracy: 0.7927 - val_loss: 0.6206 - val_accuracy: 0.7912 - lr: 0.0013\n",
      "Epoch 4/40\n",
      "1875/1875 [==============================] - 7s 4ms/step - loss: 0.5828 - accuracy: 0.8040 - val_loss: 0.6074 - val_accuracy: 0.7969 - lr: 0.0014\n",
      "Epoch 5/40\n",
      "1875/1875 [==============================] - 7s 4ms/step - loss: 0.5678 - accuracy: 0.8086 - val_loss: 0.5925 - val_accuracy: 0.7998 - lr: 0.0016\n",
      "Epoch 6/40\n",
      "1875/1875 [==============================] - 9s 5ms/step - loss: 0.5605 - accuracy: 0.8104 - val_loss: 0.5965 - val_accuracy: 0.7975 - lr: 0.0018\n",
      "Epoch 7/40\n",
      "1875/1875 [==============================] - 9s 5ms/step - loss: 0.5522 - accuracy: 0.8124 - val_loss: 0.5847 - val_accuracy: 0.8011 - lr: 0.0020\n",
      "Epoch 8/40\n",
      "1875/1875 [==============================] - 13s 7ms/step - loss: 0.5508 - accuracy: 0.8115 - val_loss: 0.5847 - val_accuracy: 0.8030 - lr: 0.0022\n",
      "Epoch 9/40\n",
      "1875/1875 [==============================] - 14s 7ms/step - loss: 0.5470 - accuracy: 0.8134 - val_loss: 0.5805 - val_accuracy: 0.8062 - lr: 0.0025\n",
      "Epoch 10/40\n",
      "1875/1875 [==============================] - 13s 7ms/step - loss: 0.5463 - accuracy: 0.8147 - val_loss: 0.6109 - val_accuracy: 0.7918 - lr: 0.0028\n",
      "Epoch 11/40\n",
      "1875/1875 [==============================] - 13s 7ms/step - loss: 0.5453 - accuracy: 0.8139 - val_loss: 0.5680 - val_accuracy: 0.8093 - lr: 0.0032\n",
      "Epoch 12/40\n",
      "1875/1875 [==============================] - 13s 7ms/step - loss: 0.5451 - accuracy: 0.8125 - val_loss: 0.5937 - val_accuracy: 0.8017 - lr: 0.0035\n",
      "Epoch 13/40\n",
      "1875/1875 [==============================] - 12s 6ms/step - loss: 0.5448 - accuracy: 0.8141 - val_loss: 0.5781 - val_accuracy: 0.8002 - lr: 0.0040\n",
      "Epoch 14/40\n",
      "1875/1875 [==============================] - 7s 4ms/step - loss: 0.5470 - accuracy: 0.8130 - val_loss: 0.5865 - val_accuracy: 0.8012 - lr: 0.0045\n",
      "Epoch 15/40\n",
      "1875/1875 [==============================] - 8s 4ms/step - loss: 0.5472 - accuracy: 0.8137 - val_loss: 0.5815 - val_accuracy: 0.7986 - lr: 0.0050\n",
      "Epoch 16/40\n",
      "1875/1875 [==============================] - 7s 4ms/step - loss: 0.5456 - accuracy: 0.8136 - val_loss: 0.5995 - val_accuracy: 0.8044 - lr: 0.0056\n",
      "Epoch 17/40\n",
      "1875/1875 [==============================] - 7s 4ms/step - loss: 0.5514 - accuracy: 0.8102 - val_loss: 0.5772 - val_accuracy: 0.8005 - lr: 0.0063\n",
      "Epoch 18/40\n",
      "1875/1875 [==============================] - 7s 4ms/step - loss: 0.5516 - accuracy: 0.8115 - val_loss: 0.6049 - val_accuracy: 0.7884 - lr: 0.0071\n",
      "Epoch 19/40\n",
      "1875/1875 [==============================] - 6s 3ms/step - loss: 0.5538 - accuracy: 0.8112 - val_loss: 0.6169 - val_accuracy: 0.7905 - lr: 0.0079\n",
      "Epoch 20/40\n",
      "1875/1875 [==============================] - 12s 7ms/step - loss: 0.5610 - accuracy: 0.8076 - val_loss: 0.5921 - val_accuracy: 0.7880 - lr: 0.0089\n",
      "Epoch 21/40\n",
      "1875/1875 [==============================] - 7s 4ms/step - loss: 0.5630 - accuracy: 0.8071 - val_loss: 0.6074 - val_accuracy: 0.7867 - lr: 0.0100\n",
      "Epoch 22/40\n",
      "1875/1875 [==============================] - 6s 3ms/step - loss: 0.5724 - accuracy: 0.8031 - val_loss: 0.6061 - val_accuracy: 0.7821 - lr: 0.0112\n",
      "Epoch 23/40\n",
      "1875/1875 [==============================] - 6s 3ms/step - loss: 0.5783 - accuracy: 0.8016 - val_loss: 0.5769 - val_accuracy: 0.8030 - lr: 0.0126\n",
      "Epoch 24/40\n",
      "1875/1875 [==============================] - 10s 5ms/step - loss: 0.5848 - accuracy: 0.8008 - val_loss: 0.6569 - val_accuracy: 0.7736 - lr: 0.0141\n",
      "Epoch 25/40\n",
      "1875/1875 [==============================] - 14s 7ms/step - loss: 0.5949 - accuracy: 0.7982 - val_loss: 0.6249 - val_accuracy: 0.7895 - lr: 0.0158\n",
      "Epoch 26/40\n",
      "1875/1875 [==============================] - 11s 6ms/step - loss: 0.6025 - accuracy: 0.7954 - val_loss: 0.6461 - val_accuracy: 0.7810 - lr: 0.0178\n",
      "Epoch 27/40\n",
      "1875/1875 [==============================] - 7s 4ms/step - loss: 0.6149 - accuracy: 0.7902 - val_loss: 0.6593 - val_accuracy: 0.7863 - lr: 0.0200\n",
      "Epoch 28/40\n",
      "1875/1875 [==============================] - 13s 7ms/step - loss: 0.6258 - accuracy: 0.7871 - val_loss: 0.6018 - val_accuracy: 0.7979 - lr: 0.0224\n",
      "Epoch 29/40\n",
      "1875/1875 [==============================] - 8s 4ms/step - loss: 0.6400 - accuracy: 0.7845 - val_loss: 0.6385 - val_accuracy: 0.7998 - lr: 0.0251\n",
      "Epoch 30/40\n",
      "1875/1875 [==============================] - 7s 4ms/step - loss: 0.6601 - accuracy: 0.7743 - val_loss: 0.7081 - val_accuracy: 0.7572 - lr: 0.0282\n",
      "Epoch 31/40\n",
      "1875/1875 [==============================] - 10s 5ms/step - loss: 0.6738 - accuracy: 0.7710 - val_loss: 0.6573 - val_accuracy: 0.7839 - lr: 0.0316\n",
      "Epoch 32/40\n",
      "1875/1875 [==============================] - 11s 6ms/step - loss: 0.7285 - accuracy: 0.7426 - val_loss: 0.7621 - val_accuracy: 0.7423 - lr: 0.0355\n",
      "Epoch 33/40\n",
      "1875/1875 [==============================] - 7s 4ms/step - loss: 0.7750 - accuracy: 0.7242 - val_loss: 0.8676 - val_accuracy: 0.6721 - lr: 0.0398\n",
      "Epoch 34/40\n",
      "1875/1875 [==============================] - 6s 3ms/step - loss: 0.7944 - accuracy: 0.7164 - val_loss: 1.0837 - val_accuracy: 0.6972 - lr: 0.0447\n",
      "Epoch 35/40\n",
      "1875/1875 [==============================] - 7s 4ms/step - loss: 0.8969 - accuracy: 0.6856 - val_loss: 0.9104 - val_accuracy: 0.6629 - lr: 0.0501\n",
      "Epoch 36/40\n",
      "1875/1875 [==============================] - 11s 6ms/step - loss: 1.2738 - accuracy: 0.4981 - val_loss: 1.4988 - val_accuracy: 0.3347 - lr: 0.0562\n",
      "Epoch 37/40\n",
      "1875/1875 [==============================] - 6s 3ms/step - loss: 1.5517 - accuracy: 0.3308 - val_loss: 1.5487 - val_accuracy: 0.3382 - lr: 0.0631\n",
      "Epoch 38/40\n",
      "1875/1875 [==============================] - 6s 3ms/step - loss: 1.5469 - accuracy: 0.3373 - val_loss: 1.4518 - val_accuracy: 0.4012 - lr: 0.0708\n",
      "Epoch 39/40\n",
      "1875/1875 [==============================] - 7s 3ms/step - loss: 1.4294 - accuracy: 0.3608 - val_loss: 1.4297 - val_accuracy: 0.3249 - lr: 0.0794\n",
      "Epoch 40/40\n",
      "1875/1875 [==============================] - 7s 4ms/step - loss: 1.4310 - accuracy: 0.3573 - val_loss: 1.3550 - val_accuracy: 0.3706 - lr: 0.0891\n"
     ]
    }
   ],
   "source": [
    "# Create a model\n",
    "model_mc3 = tf.keras.models.Sequential([\n",
    "    tf.keras.layers.Flatten(input_shape=(28, 28)),\n",
    "    tf.keras.layers.Dense(4, activation=\"relu\"),\n",
    "    tf.keras.layers.Dense(4, activation=\"relu\"),\n",
    "    tf.keras.layers.Dense(10, activation=\"softmax\")\n",
    "])\n",
    "\n",
    "# Compile a model\n",
    "model_mc3.compile(\n",
    "    loss=tf.keras.losses.SparseCategoricalCrossentropy(),\n",
    "    optimizer=tf.keras.optimizers.Adam(),\n",
    "    metrics=[\"accuracy\"]\n",
    ")\n",
    "\n",
    "# Create a learning rate call back\n",
    "lr_scheduler = tf.keras.callbacks.LearningRateScheduler(lambda epoch: 1e-3 * 10**(epoch/20))\n",
    "\n",
    "# Fit the model\n",
    "history_mc3 = model_mc3.fit(\n",
    "    train_data_norm,\n",
    "    train_labels,\n",
    "    epochs=40,\n",
    "    validation_data=(test_data_norm, test_labels),\n",
    "    callbacks=[lr_scheduler]\n",
    ")"
   ]
  },
  {
   "cell_type": "code",
   "execution_count": 20,
   "metadata": {},
   "outputs": [
    {
     "data": {
      "text/plain": [
       "Text(0.5, 1.0, 'Finding the best learning rate')"
      ]
     },
     "execution_count": 20,
     "metadata": {},
     "output_type": "execute_result"
    },
    {
     "data": {
      "image/png": "[encoded data removed]",
      "text/plain": [
       "<Figure size 432x288 with 1 Axes>"
      ]
     },
     "metadata": {
      "needs_background": "light"
     },
     "output_type": "display_data"
    }
   ],
   "source": [
    "# Plot the learning rate curve\n",
    "import numpy as np\n",
    "import matplotlib.pyplot as plt\n",
    "\n",
    "lrs = 1e-3 * (10**(tf.range(40)/20))\n",
    "plt.semilogx(lrs, history_mc3.history[\"loss\"])\n",
    "plt.xlabel(\"Learning Rate\")\n",
    "plt.ylabel(\"Loss\")\n",
    "plt.title(\"Finding the best learning rate\")"
   ]
  },
  {
   "cell_type": "markdown",
   "metadata": {},
   "source": [
    "Ideal learning rate seems to be at around 1e-3, i.e. 0.001"
   ]
  },
  {
   "cell_type": "code",
   "execution_count": 22,
   "metadata": {},
   "outputs": [
    {
     "name": "stdout",
     "output_type": "stream",
     "text": [
      "Epoch 1/20\n",
      "1875/1875 [==============================] - 8s 4ms/step - loss: 1.0011 - accuracy: 0.6239 - val_loss: 0.7089 - val_accuracy: 0.7236\n",
      "Epoch 2/20\n",
      "1875/1875 [==============================] - 11s 6ms/step - loss: 0.6388 - accuracy: 0.7602 - val_loss: 0.6295 - val_accuracy: 0.7560\n",
      "Epoch 3/20\n",
      "1875/1875 [==============================] - 12s 6ms/step - loss: 0.5901 - accuracy: 0.7736 - val_loss: 0.5992 - val_accuracy: 0.7672\n",
      "Epoch 4/20\n",
      "1875/1875 [==============================] - 11s 6ms/step - loss: 0.5582 - accuracy: 0.7918 - val_loss: 0.5809 - val_accuracy: 0.7938\n",
      "Epoch 5/20\n",
      "1875/1875 [==============================] - 7s 3ms/step - loss: 0.5307 - accuracy: 0.8139 - val_loss: 0.5605 - val_accuracy: 0.8056\n",
      "Epoch 6/20\n",
      "1875/1875 [==============================] - 6s 3ms/step - loss: 0.5164 - accuracy: 0.8203 - val_loss: 0.5459 - val_accuracy: 0.8098\n",
      "Epoch 7/20\n",
      "1875/1875 [==============================] - 6s 3ms/step - loss: 0.5065 - accuracy: 0.8225 - val_loss: 0.5459 - val_accuracy: 0.8081\n",
      "Epoch 8/20\n",
      "1875/1875 [==============================] - 6s 3ms/step - loss: 0.5003 - accuracy: 0.8248 - val_loss: 0.5255 - val_accuracy: 0.8165\n",
      "Epoch 9/20\n",
      "1875/1875 [==============================] - 7s 4ms/step - loss: 0.4949 - accuracy: 0.8269 - val_loss: 0.5284 - val_accuracy: 0.8161\n",
      "Epoch 10/20\n",
      "1875/1875 [==============================] - 6s 3ms/step - loss: 0.4903 - accuracy: 0.8288 - val_loss: 0.5263 - val_accuracy: 0.8165\n",
      "Epoch 11/20\n",
      "1875/1875 [==============================] - 6s 3ms/step - loss: 0.4863 - accuracy: 0.8305 - val_loss: 0.5239 - val_accuracy: 0.8171\n",
      "Epoch 12/20\n",
      "1875/1875 [==============================] - 7s 4ms/step - loss: 0.4829 - accuracy: 0.8301 - val_loss: 0.5157 - val_accuracy: 0.8174\n",
      "Epoch 13/20\n",
      "1875/1875 [==============================] - 7s 4ms/step - loss: 0.4790 - accuracy: 0.8328 - val_loss: 0.5256 - val_accuracy: 0.8173\n",
      "Epoch 14/20\n",
      "1875/1875 [==============================] - 10s 5ms/step - loss: 0.4767 - accuracy: 0.8333 - val_loss: 0.5186 - val_accuracy: 0.8200\n",
      "Epoch 15/20\n",
      "1875/1875 [==============================] - 12s 6ms/step - loss: 0.4754 - accuracy: 0.8349 - val_loss: 0.5163 - val_accuracy: 0.8221\n",
      "Epoch 16/20\n",
      "1875/1875 [==============================] - 12s 6ms/step - loss: 0.4727 - accuracy: 0.8339 - val_loss: 0.5201 - val_accuracy: 0.8197\n",
      "Epoch 17/20\n",
      "1875/1875 [==============================] - 12s 6ms/step - loss: 0.4712 - accuracy: 0.8339 - val_loss: 0.5202 - val_accuracy: 0.8195\n",
      "Epoch 18/20\n",
      "1875/1875 [==============================] - 12s 6ms/step - loss: 0.4697 - accuracy: 0.8351 - val_loss: 0.5183 - val_accuracy: 0.8189\n",
      "Epoch 19/20\n",
      "1875/1875 [==============================] - 13s 7ms/step - loss: 0.4689 - accuracy: 0.8354 - val_loss: 0.5176 - val_accuracy: 0.8196\n",
      "Epoch 20/20\n",
      "1875/1875 [==============================] - 12s 6ms/step - loss: 0.4664 - accuracy: 0.8375 - val_loss: 0.5120 - val_accuracy: 0.8226\n"
     ]
    }
   ],
   "source": [
    "# Creating a model with ideal learning rate\n",
    "model_mc4 = tf.keras.models.Sequential([\n",
    "    tf.keras.layers.Flatten(input_shape=(28, 28)),\n",
    "    tf.keras.layers.Dense(4, activation=\"relu\"),\n",
    "    tf.keras.layers.Dense(4, activation=\"relu\"),\n",
    "    tf.keras.layers.Dense(10, activation=\"softmax\")\n",
    "])\n",
    "\n",
    "# Compile the model\n",
    "model_mc4.compile(\n",
    "    loss=tf.keras.losses.SparseCategoricalCrossentropy(),\n",
    "    optimizer=tf.keras.optimizers.Adam(learning_rate=0.001),\n",
    "    metrics=[\"accuracy\"]\n",
    ")\n",
    "\n",
    "# Fit the model\n",
    "history_mc4 = model_mc4.fit(\n",
    "    train_data_norm,\n",
    "    train_labels,\n",
    "    epochs=20,\n",
    "    validation_data=(test_data_norm, test_labels)\n",
    ")"
   ]
  },
  {
   "cell_type": "code",
   "execution_count": null,
   "metadata": {},
   "outputs": [],
   "source": []
  }
 ],
 "metadata": {
  "kernelspec": {
   "display_name": "Python 3.8.10 64-bit",
   "language": "python",
   "name": "python3"
  },
  "language_info": {
   "codemirror_mode": {
    "name": "ipython",
    "version": 3
   },
   "file_extension": ".py",
   "mimetype": "text/x-python",
   "name": "python",
   "nbconvert_exporter": "python",
   "pygments_lexer": "ipython3",
   "version": "3.8.10"
  },
  "orig_nbformat": 4,
  "vscode": {
   "interpreter": {
    "hash": "8230a386d8e0083990873cddb8ebb5b6213275a10339230a8504f0ef8ce7f888"
   }
  }
 },
 "nbformat": 4,
 "nbformat_minor": 2
}
