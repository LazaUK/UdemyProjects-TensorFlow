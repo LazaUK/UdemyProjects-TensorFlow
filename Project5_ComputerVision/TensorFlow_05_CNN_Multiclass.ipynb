{
 "cells": [
  {
   "cell_type": "markdown",
   "metadata": {},
   "source": [
    "# Computer Vision - Convolutional Neural Network"
   ]
  },
  {
   "cell_type": "code",
   "execution_count": 1,
   "metadata": {},
   "outputs": [
    {
     "name": "stdout",
     "output_type": "stream",
     "text": [
      "2.10.0\n"
     ]
    }
   ],
   "source": [
    "# Importing TF and checking the version\n",
    "import tensorflow as tf\n",
    "print(tf.__version__)"
   ]
  },
  {
   "cell_type": "code",
   "execution_count": null,
   "metadata": {},
   "outputs": [],
   "source": [
    "# Get data from https://storage.googleapis.com/ztm_tf_course/food_vision/pizza_steak.zip\n",
    "# import zipfile\n",
    "\n",
    "# # Unzip the data\n",
    "# zip_ref = zipfile.ZipFile(\"pizza_steak.zip\")\n",
    "# zip_ref.extractall()\n",
    "# zip_ref.close()"
   ]
  },
  {
   "cell_type": "markdown",
   "metadata": {},
   "source": [
    "## CNN Model - Multiclass Classification"
   ]
  },
  {
   "cell_type": "markdown",
   "metadata": {},
   "source": [
    "### Pre-processing the data"
   ]
  },
  {
   "cell_type": "code",
   "execution_count": 2,
   "metadata": {},
   "outputs": [
    {
     "name": "stdout",
     "output_type": "stream",
     "text": [
      "There are 2 directories and 0 images in 10_food_classes_all_data.\n",
      "There are 10 directories and 0 images in 10_food_classes_all_data\\test.\n",
      "There are 0 directories and 250 images in 10_food_classes_all_data\\test\\chicken_curry.\n",
      "There are 0 directories and 250 images in 10_food_classes_all_data\\test\\chicken_wings.\n",
      "There are 0 directories and 250 images in 10_food_classes_all_data\\test\\fried_rice.\n",
      "There are 0 directories and 250 images in 10_food_classes_all_data\\test\\grilled_salmon.\n",
      "There are 0 directories and 250 images in 10_food_classes_all_data\\test\\hamburger.\n",
      "There are 0 directories and 250 images in 10_food_classes_all_data\\test\\ice_cream.\n",
      "There are 0 directories and 250 images in 10_food_classes_all_data\\test\\pizza.\n",
      "There are 0 directories and 250 images in 10_food_classes_all_data\\test\\ramen.\n",
      "There are 0 directories and 250 images in 10_food_classes_all_data\\test\\steak.\n",
      "There are 0 directories and 250 images in 10_food_classes_all_data\\test\\sushi.\n",
      "There are 10 directories and 0 images in 10_food_classes_all_data\\train.\n",
      "There are 0 directories and 750 images in 10_food_classes_all_data\\train\\chicken_curry.\n",
      "There are 0 directories and 750 images in 10_food_classes_all_data\\train\\chicken_wings.\n",
      "There are 0 directories and 750 images in 10_food_classes_all_data\\train\\fried_rice.\n",
      "There are 0 directories and 750 images in 10_food_classes_all_data\\train\\grilled_salmon.\n",
      "There are 0 directories and 750 images in 10_food_classes_all_data\\train\\hamburger.\n",
      "There are 0 directories and 750 images in 10_food_classes_all_data\\train\\ice_cream.\n",
      "There are 0 directories and 750 images in 10_food_classes_all_data\\train\\pizza.\n",
      "There are 0 directories and 750 images in 10_food_classes_all_data\\train\\ramen.\n",
      "There are 0 directories and 750 images in 10_food_classes_all_data\\train\\steak.\n",
      "There are 0 directories and 750 images in 10_food_classes_all_data\\train\\sushi.\n"
     ]
    }
   ],
   "source": [
    "# Walk through dataset directories\n",
    "import os\n",
    "\n",
    "for dirpath, dirnames, filenames in os.walk(\"10_food_classes_all_data\"):\n",
    "    print(f\"There are {len(dirnames)} directories and {len(filenames)} images in {dirpath}.\")"
   ]
  },
  {
   "cell_type": "code",
   "execution_count": 3,
   "metadata": {},
   "outputs": [],
   "source": [
    "# Setting up train and test directories\n",
    "train_dir = \"10_food_classes_all_data/train/\"\n",
    "test_dir = \"10_food_classes_all_data/test/\""
   ]
  },
  {
   "cell_type": "code",
   "execution_count": 4,
   "metadata": {},
   "outputs": [
    {
     "name": "stdout",
     "output_type": "stream",
     "text": [
      "['chicken_curry' 'chicken_wings' 'fried_rice' 'grilled_salmon' 'hamburger'\n",
      " 'ice_cream' 'pizza' 'ramen' 'steak' 'sushi']\n"
     ]
    }
   ],
   "source": [
    "# Getting the class names\n",
    "import pathlib\n",
    "import numpy as np\n",
    "\n",
    "data_dir = pathlib.Path(train_dir)\n",
    "class_names = np.array(sorted([item.name for item in data_dir.glob(\"*\")]))\n",
    "print(class_names)"
   ]
  },
  {
   "cell_type": "code",
   "execution_count": null,
   "metadata": {},
   "outputs": [],
   "source": []
  }
 ],
 "metadata": {
  "kernelspec": {
   "display_name": "Python 3.8.10 64-bit",
   "language": "python",
   "name": "python3"
  },
  "language_info": {
   "codemirror_mode": {
    "name": "ipython",
    "version": 3
   },
   "file_extension": ".py",
   "mimetype": "text/x-python",
   "name": "python",
   "nbconvert_exporter": "python",
   "pygments_lexer": "ipython3",
   "version": "3.8.10"
  },
  "orig_nbformat": 4,
  "vscode": {
   "interpreter": {
    "hash": "8230a386d8e0083990873cddb8ebb5b6213275a10339230a8504f0ef8ce7f888"
   }
  }
 },
 "nbformat": 4,
 "nbformat_minor": 2
}
