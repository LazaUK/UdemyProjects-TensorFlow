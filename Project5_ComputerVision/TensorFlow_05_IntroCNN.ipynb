{
 "cells": [
  {
   "cell_type": "markdown",
   "metadata": {},
   "source": [
    "# Computer Vision - Convolutional Neural Network"
   ]
  },
  {
   "cell_type": "code",
   "execution_count": 8,
   "metadata": {},
   "outputs": [
    {
     "name": "stdout",
     "output_type": "stream",
     "text": [
      "2.10.0\n"
     ]
    }
   ],
   "source": [
    "# Importing TF and checking the version\n",
    "import tensorflow as tf\n",
    "print(tf.__version__)"
   ]
  },
  {
   "cell_type": "code",
   "execution_count": 9,
   "metadata": {},
   "outputs": [],
   "source": [
    "# Get data from https://storage.googleapis.com/ztm_tf_course/food_vision/pizza_steak.zip\n",
    "import zipfile\n",
    "\n",
    "# Unzip the data\n",
    "zip_ref = zipfile.ZipFile(\"pizza_steak.zip\")\n",
    "zip_ref.extractall()\n",
    "zip_ref.close()"
   ]
  },
  {
   "cell_type": "code",
   "execution_count": 10,
   "metadata": {},
   "outputs": [
    {
     "name": "stdout",
     "output_type": "stream",
     "text": [
      "test\n",
      "train\n"
     ]
    }
   ],
   "source": [
    "# Check the structure\n",
    "!dir /b pizza_steak"
   ]
  },
  {
   "cell_type": "code",
   "execution_count": 11,
   "metadata": {},
   "outputs": [
    {
     "name": "stdout",
     "output_type": "stream",
     "text": [
      "There are 2 directories and 0 files in pizza_steak.\n",
      "There are 2 directories and 0 files in pizza_steak\\test.\n",
      "There are 0 directories and 250 files in pizza_steak\\test\\pizza.\n",
      "There are 0 directories and 250 files in pizza_steak\\test\\steak.\n",
      "There are 2 directories and 0 files in pizza_steak\\train.\n",
      "There are 0 directories and 750 files in pizza_steak\\train\\pizza.\n",
      "There are 0 directories and 750 files in pizza_steak\\train\\steak.\n"
     ]
    }
   ],
   "source": [
    "# Walk through the dir structure\n",
    "import os\n",
    "\n",
    "for dirpath, dirnames, filenames in os.walk(\"pizza_steak\"):\n",
    "    print(f\"There are {len(dirnames)} directories and {len(filenames)} files in {dirpath}.\")"
   ]
  },
  {
   "cell_type": "code",
   "execution_count": 12,
   "metadata": {},
   "outputs": [
    {
     "data": {
      "text/plain": [
       "750"
      ]
     },
     "execution_count": 12,
     "metadata": {},
     "output_type": "execute_result"
    }
   ],
   "source": [
    "# Another way to find out how many images are in the target directory\n",
    "num_steak_images_train = len(os.listdir(\"pizza_steak/train/steak/\"))\n",
    "num_steak_images_train"
   ]
  },
  {
   "cell_type": "code",
   "execution_count": null,
   "metadata": {},
   "outputs": [],
   "source": []
  }
 ],
 "metadata": {
  "kernelspec": {
   "display_name": "Python 3.8.10 64-bit",
   "language": "python",
   "name": "python3"
  },
  "language_info": {
   "codemirror_mode": {
    "name": "ipython",
    "version": 3
   },
   "file_extension": ".py",
   "mimetype": "text/x-python",
   "name": "python",
   "nbconvert_exporter": "python",
   "pygments_lexer": "ipython3",
   "version": "3.8.10"
  },
  "orig_nbformat": 4,
  "vscode": {
   "interpreter": {
    "hash": "8230a386d8e0083990873cddb8ebb5b6213275a10339230a8504f0ef8ce7f888"
   }
  }
 },
 "nbformat": 4,
 "nbformat_minor": 2
}
