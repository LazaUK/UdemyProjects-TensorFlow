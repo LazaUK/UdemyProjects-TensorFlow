{
 "cells": [
  {
   "cell_type": "markdown",
   "metadata": {},
   "source": [
    "# Computer Vision - Convolutional Neural Network"
   ]
  },
  {
   "cell_type": "code",
   "execution_count": 49,
   "metadata": {},
   "outputs": [
    {
     "name": "stdout",
     "output_type": "stream",
     "text": [
      "2.10.0\n"
     ]
    }
   ],
   "source": [
    "# Importing TF and checking the version\n",
    "import tensorflow as tf\n",
    "print(tf.__version__)"
   ]
  },
  {
   "cell_type": "code",
   "execution_count": 50,
   "metadata": {},
   "outputs": [],
   "source": [
    "# Get data from https://storage.googleapis.com/ztm_tf_course/food_vision/pizza_steak.zip\n",
    "# import zipfile\n",
    "\n",
    "# # Unzip the data\n",
    "# zip_ref = zipfile.ZipFile(\"pizza_steak.zip\")\n",
    "# zip_ref.extractall()\n",
    "# zip_ref.close()"
   ]
  },
  {
   "cell_type": "markdown",
   "metadata": {},
   "source": [
    "## CNN Model - Binary Classification"
   ]
  },
  {
   "cell_type": "markdown",
   "metadata": {},
   "source": [
    "### Pre-processing the data"
   ]
  },
  {
   "cell_type": "code",
   "execution_count": 51,
   "metadata": {},
   "outputs": [],
   "source": [
    "# Dataset directories\n",
    "train_dir = \"pizza_steak/train/\"\n",
    "test_dir = \"pizza_steak/test\""
   ]
  },
  {
   "cell_type": "code",
   "execution_count": 52,
   "metadata": {},
   "outputs": [],
   "source": [
    "# Train and test data generators\n",
    "from tensorflow.keras.preprocessing.image import ImageDataGenerator\n",
    "\n",
    "train_datagen = ImageDataGenerator(rescale=1/255.)\n",
    "test_datagen = ImageDataGenerator(rescale=1/255.)"
   ]
  },
  {
   "cell_type": "code",
   "execution_count": 53,
   "metadata": {},
   "outputs": [
    {
     "name": "stdout",
     "output_type": "stream",
     "text": [
      "Found 1500 images belonging to 2 classes.\n",
      "Found 500 images belonging to 2 classes.\n"
     ]
    }
   ],
   "source": [
    "# Loading images and turning them into batches\n",
    "train_data = train_datagen.flow_from_directory(\n",
    "    directory=train_dir,\n",
    "    target_size=(224, 224),\n",
    "    class_mode=\"binary\",\n",
    "    batch_size=32\n",
    ")\n",
    "\n",
    "test_data = test_datagen.flow_from_directory(\n",
    "    directory=test_dir,\n",
    "    target_size=(224, 224),\n",
    "    class_mode=\"binary\",\n",
    "    batch_size=32\n",
    ")"
   ]
  },
  {
   "cell_type": "code",
   "execution_count": 54,
   "metadata": {},
   "outputs": [
    {
     "data": {
      "text/plain": [
       "(32, 32)"
      ]
     },
     "execution_count": 54,
     "metadata": {},
     "output_type": "execute_result"
    }
   ],
   "source": [
    "# Get a sample batch\n",
    "images, labels = train_data.next()\n",
    "len(images), len(labels)"
   ]
  },
  {
   "cell_type": "code",
   "execution_count": 55,
   "metadata": {},
   "outputs": [
    {
     "name": "stdout",
     "output_type": "stream",
     "text": [
      "47 16\n",
      "46.875\n"
     ]
    }
   ],
   "source": [
    "# Number of batches\n",
    "print(len(train_data), len(test_data))\n",
    "# Based on the number of images\n",
    "print(1500 / len(images))"
   ]
  },
  {
   "cell_type": "code",
   "execution_count": 56,
   "metadata": {},
   "outputs": [
    {
     "data": {
      "text/plain": [
       "(array([[[0.9450981 , 0.9921569 , 0.8980393 ],\n",
       "         [0.9450981 , 0.9921569 , 0.8980393 ],\n",
       "         [0.9450981 , 0.9921569 , 0.8980393 ],\n",
       "         ...,\n",
       "         [0.909804  , 0.9490197 , 0.854902  ],\n",
       "         [0.9058824 , 0.9450981 , 0.85098046],\n",
       "         [0.90196085, 0.94117653, 0.8470589 ]],\n",
       " \n",
       "        [[0.9450981 , 0.9921569 , 0.8980393 ],\n",
       "         [0.9450981 , 0.9921569 , 0.8980393 ],\n",
       "         [0.9450981 , 0.9921569 , 0.8980393 ],\n",
       "         ...,\n",
       "         [0.91372555, 0.95294124, 0.8588236 ],\n",
       "         [0.909804  , 0.9490197 , 0.854902  ],\n",
       "         [0.9058824 , 0.9450981 , 0.85098046]],\n",
       " \n",
       "        [[0.9450981 , 0.9921569 , 0.8980393 ],\n",
       "         [0.9450981 , 0.9921569 , 0.8980393 ],\n",
       "         [0.9450981 , 0.9921569 , 0.8980393 ],\n",
       "         ...,\n",
       "         [0.9176471 , 0.9568628 , 0.86274517],\n",
       "         [0.91372555, 0.95294124, 0.8588236 ],\n",
       "         [0.909804  , 0.9490197 , 0.854902  ]],\n",
       " \n",
       "        ...,\n",
       " \n",
       "        [[0.6117647 , 0.17254902, 0.11764707],\n",
       "         [0.63529414, 0.19215688, 0.13725491],\n",
       "         [0.6901961 , 0.23529413, 0.18431373],\n",
       "         ...,\n",
       "         [0.9058824 , 0.9607844 , 0.86274517],\n",
       "         [0.9058824 , 0.9607844 , 0.86274517],\n",
       "         [0.9058824 , 0.9607844 , 0.86274517]],\n",
       " \n",
       "        [[0.62352943, 0.18431373, 0.13725491],\n",
       "         [0.627451  , 0.18039216, 0.13725491],\n",
       "         [0.6156863 , 0.16078432, 0.10980393],\n",
       "         ...,\n",
       "         [0.9058824 , 0.9607844 , 0.86274517],\n",
       "         [0.9058824 , 0.9607844 , 0.86274517],\n",
       "         [0.9058824 , 0.9607844 , 0.86274517]],\n",
       " \n",
       "        [[0.6117647 , 0.16470589, 0.12156864],\n",
       "         [0.6       , 0.15294118, 0.10980393],\n",
       "         [0.62352943, 0.16078432, 0.1137255 ],\n",
       "         ...,\n",
       "         [0.9058824 , 0.9607844 , 0.86274517],\n",
       "         [0.9058824 , 0.9607844 , 0.86274517],\n",
       "         [0.9058824 , 0.9607844 , 0.86274517]]], dtype=float32),\n",
       " (224, 224, 3))"
      ]
     },
     "execution_count": 56,
     "metadata": {},
     "output_type": "execute_result"
    }
   ],
   "source": [
    "# Check if the images were scaled on a batch sample\n",
    "images[0], images[0].shape"
   ]
  },
  {
   "cell_type": "code",
   "execution_count": 57,
   "metadata": {},
   "outputs": [
    {
     "data": {
      "text/plain": [
       "(array([0., 1., 1., 1., 1., 0., 0., 0., 1., 1., 0., 1., 0., 0., 1., 0., 0.,\n",
       "        1., 1., 0., 0., 0., 1., 0., 1., 0., 1., 1., 1., 0., 1., 1.],\n",
       "       dtype=float32),\n",
       " (32,))"
      ]
     },
     "execution_count": 57,
     "metadata": {},
     "output_type": "execute_result"
    }
   ],
   "source": [
    "# View the batch labels\n",
    "labels, labels.shape"
   ]
  },
  {
   "cell_type": "markdown",
   "metadata": {},
   "source": [
    "### Creating baseline CNN model"
   ]
  },
  {
   "cell_type": "code",
   "execution_count": 58,
   "metadata": {},
   "outputs": [],
   "source": [
    "# Simplifying the model creation\n",
    "from tensorflow.keras.layers import Flatten, Dense, Conv2D, MaxPool2D, Activation\n",
    "from tensorflow.keras.models import Sequential"
   ]
  },
  {
   "cell_type": "code",
   "execution_count": 59,
   "metadata": {},
   "outputs": [],
   "source": [
    "# Creating 3-layer CNN model\n",
    "model_cnn1 = Sequential([\n",
    "    Conv2D(\n",
    "        filters=10,\n",
    "        kernel_size=3,\n",
    "        strides=1,\n",
    "        padding=\"valid\",\n",
    "        activation=\"relu\",\n",
    "        input_shape=(224, 224, 3)\n",
    "    ),\n",
    "    Conv2D(10, 3, activation=\"relu\"),\n",
    "    Conv2D(10, 3, activation=\"relu\"),\n",
    "    Flatten(),\n",
    "    Dense(1, activation=\"sigmoid\")\n",
    "])"
   ]
  },
  {
   "cell_type": "code",
   "execution_count": 60,
   "metadata": {},
   "outputs": [],
   "source": [
    "# Compiling the model\n",
    "model_cnn1.compile(\n",
    "    loss=tf.keras.losses.BinaryCrossentropy(),\n",
    "    optimizer=tf.keras.optimizers.Adam(),\n",
    "    metrics=[\"accuracy\"]\n",
    ")"
   ]
  },
  {
   "cell_type": "code",
   "execution_count": 61,
   "metadata": {},
   "outputs": [
    {
     "name": "stdout",
     "output_type": "stream",
     "text": [
      "Model: \"sequential_4\"\n",
      "_________________________________________________________________\n",
      " Layer (type)                Output Shape              Param #   \n",
      "=================================================================\n",
      " conv2d_12 (Conv2D)          (None, 222, 222, 10)      280       \n",
      "                                                                 \n",
      " conv2d_13 (Conv2D)          (None, 220, 220, 10)      910       \n",
      "                                                                 \n",
      " conv2d_14 (Conv2D)          (None, 218, 218, 10)      910       \n",
      "                                                                 \n",
      " flatten_4 (Flatten)         (None, 475240)            0         \n",
      "                                                                 \n",
      " dense_4 (Dense)             (None, 1)                 475241    \n",
      "                                                                 \n",
      "=================================================================\n",
      "Total params: 477,341\n",
      "Trainable params: 477,341\n",
      "Non-trainable params: 0\n",
      "_________________________________________________________________\n"
     ]
    }
   ],
   "source": [
    "# Model summary\n",
    "model_cnn1.summary()"
   ]
  },
  {
   "cell_type": "code",
   "execution_count": 62,
   "metadata": {},
   "outputs": [
    {
     "data": {
      "text/plain": [
       "(47, 16)"
      ]
     },
     "execution_count": 62,
     "metadata": {},
     "output_type": "execute_result"
    }
   ],
   "source": [
    "# Legth of training and testing data in batches\n",
    "len(train_data), len(test_data)"
   ]
  },
  {
   "cell_type": "code",
   "execution_count": 63,
   "metadata": {},
   "outputs": [
    {
     "name": "stdout",
     "output_type": "stream",
     "text": [
      "Epoch 1/5\n",
      "47/47 [==============================] - 52s 1s/step - loss: 1.1012 - accuracy: 0.6600 - val_loss: 0.4411 - val_accuracy: 0.7980\n",
      "Epoch 2/5\n",
      "47/47 [==============================] - 54s 1s/step - loss: 0.4419 - accuracy: 0.8073 - val_loss: 0.3869 - val_accuracy: 0.8480\n",
      "Epoch 3/5\n",
      "47/47 [==============================] - 46s 970ms/step - loss: 0.3637 - accuracy: 0.8433 - val_loss: 0.3792 - val_accuracy: 0.8140\n",
      "Epoch 4/5\n",
      "47/47 [==============================] - 45s 945ms/step - loss: 0.2636 - accuracy: 0.8993 - val_loss: 0.3383 - val_accuracy: 0.8420\n",
      "Epoch 5/5\n",
      "47/47 [==============================] - 42s 880ms/step - loss: 0.1459 - accuracy: 0.9567 - val_loss: 0.3776 - val_accuracy: 0.8440\n"
     ]
    }
   ],
   "source": [
    "# Fit the model\n",
    "history_cnn1 = model_cnn1.fit(\n",
    "    train_data,\n",
    "    epochs=5,\n",
    "    steps_per_epoch=len(train_data),\n",
    "    validation_data=test_data,\n",
    "    validation_steps=len(test_data)\n",
    ")"
   ]
  },
  {
   "cell_type": "markdown",
   "metadata": {},
   "source": [
    "### Evaluating CNN model"
   ]
  },
  {
   "cell_type": "code",
   "execution_count": 64,
   "metadata": {},
   "outputs": [
    {
     "data": {
      "text/plain": [
       "<AxesSubplot:>"
      ]
     },
     "execution_count": 64,
     "metadata": {},
     "output_type": "execute_result"
    },
    {
     "data": {
      "image/png": "[encoded data removed]",
      "text/plain": [
       "<Figure size 720x576 with 1 Axes>"
      ]
     },
     "metadata": {
      "needs_background": "light"
     },
     "output_type": "display_data"
    }
   ],
   "source": [
    "# Plotting the history\n",
    "import pandas as pd\n",
    "import matplotlib.pyplot as plt\n",
    "\n",
    "pd.DataFrame(history_cnn1.history).plot(figsize=(10, 8))"
   ]
  },
  {
   "cell_type": "code",
   "execution_count": 65,
   "metadata": {},
   "outputs": [],
   "source": [
    "# Plotting function for each metric\n",
    "def plot_loss_curves(history):\n",
    "    # Loss values\n",
    "    loss = history.history[\"loss\"]\n",
    "    val_loss = history.history[\"val_loss\"]\n",
    "\n",
    "    # Accuracy values\n",
    "    accuracy = history.history[\"accuracy\"]\n",
    "    val_accuracy = history.history[\"val_accuracy\"]\n",
    "\n",
    "    # Number of epochs\n",
    "    epochs = range(len(history.history[\"loss\"]))\n",
    "\n",
    "    # Plot losses\n",
    "    plt.plot(epochs, loss, label=\"Training_Loss\")\n",
    "    plt.plot(epochs, val_loss, label=\"Validation_Loss\")\n",
    "    plt.title(\"Loss\")\n",
    "    plt.xlabel(\"Epochs\")\n",
    "    plt.legend()\n",
    "\n",
    "    # Plot accuracy\n",
    "    plt.figure()\n",
    "    plt.plot(epochs, accuracy, label=\"Training_Accuracy\")\n",
    "    plt.plot(epochs, val_accuracy, label=\"Validation_Accuracy\")\n",
    "    plt.title(\"Accuracy\")\n",
    "    plt.xlabel(\"Epochs\")\n",
    "    plt.legend()"
   ]
  },
  {
   "cell_type": "code",
   "execution_count": 66,
   "metadata": {},
   "outputs": [
    {
     "data": {
      "image/png": "[encoded data removed]",
      "text/plain": [
       "<Figure size 432x288 with 1 Axes>"
      ]
     },
     "metadata": {
      "needs_background": "light"
     },
     "output_type": "display_data"
    },
    {
     "data": {
      "image/png": "[encoded data removed]",
      "text/plain": [
       "<Figure size 432x288 with 1 Axes>"
      ]
     },
     "metadata": {
      "needs_background": "light"
     },
     "output_type": "display_data"
    }
   ],
   "source": [
    "plot_loss_curves(history_cnn1)"
   ]
  },
  {
   "cell_type": "markdown",
   "metadata": {},
   "source": [
    "### Adjusting parameters to improve CNN model's performance"
   ]
  },
  {
   "cell_type": "code",
   "execution_count": 67,
   "metadata": {},
   "outputs": [],
   "source": [
    "# Creating a model\n",
    "model_cnn2 = Sequential([\n",
    "    Conv2D(10, 3, activation=\"relu\", input_shape=(224, 224, 3)),\n",
    "    MaxPool2D(pool_size=2),\n",
    "    Conv2D(10, 3, activation=\"relu\"),\n",
    "    MaxPool2D(),\n",
    "    Conv2D(10, 3, activation=\"relu\"),\n",
    "    MaxPool2D(),\n",
    "    Flatten(),\n",
    "    Dense(1, activation=\"sigmoid\")\n",
    "])"
   ]
  },
  {
   "cell_type": "code",
   "execution_count": 68,
   "metadata": {},
   "outputs": [],
   "source": [
    "# Compiling the model\n",
    "model_cnn2.compile(\n",
    "    loss=\"binary_crossentropy\",\n",
    "    optimizer=tf.keras.optimizers.Adam(),\n",
    "    metrics=[\"accuracy\"]\n",
    ")"
   ]
  },
  {
   "cell_type": "code",
   "execution_count": 69,
   "metadata": {},
   "outputs": [
    {
     "name": "stdout",
     "output_type": "stream",
     "text": [
      "Epoch 1/5\n",
      "47/47 [==============================] - 19s 387ms/step - loss: 0.5835 - accuracy: 0.7013 - val_loss: 0.4969 - val_accuracy: 0.7540\n",
      "Epoch 2/5\n",
      "47/47 [==============================] - 19s 404ms/step - loss: 0.5062 - accuracy: 0.7493 - val_loss: 0.4415 - val_accuracy: 0.8160\n",
      "Epoch 3/5\n",
      "47/47 [==============================] - 19s 402ms/step - loss: 0.4198 - accuracy: 0.8067 - val_loss: 0.3306 - val_accuracy: 0.8580\n",
      "Epoch 4/5\n",
      "47/47 [==============================] - 19s 408ms/step - loss: 0.3833 - accuracy: 0.8233 - val_loss: 0.3113 - val_accuracy: 0.8840\n",
      "Epoch 5/5\n",
      "47/47 [==============================] - 20s 420ms/step - loss: 0.3742 - accuracy: 0.8373 - val_loss: 0.3042 - val_accuracy: 0.8720\n"
     ]
    }
   ],
   "source": [
    "# Fit the model\n",
    "history_cnn2 = model_cnn2.fit(\n",
    "    train_data,\n",
    "    epochs=5,\n",
    "    steps_per_epoch=len(train_data),\n",
    "    validation_data=test_data,\n",
    "    validation_steps=len(test_data)\n",
    ")"
   ]
  },
  {
   "cell_type": "code",
   "execution_count": 70,
   "metadata": {},
   "outputs": [
    {
     "name": "stdout",
     "output_type": "stream",
     "text": [
      "Model: \"sequential_5\"\n",
      "_________________________________________________________________\n",
      " Layer (type)                Output Shape              Param #   \n",
      "=================================================================\n",
      " conv2d_15 (Conv2D)          (None, 222, 222, 10)      280       \n",
      "                                                                 \n",
      " max_pooling2d_6 (MaxPooling  (None, 111, 111, 10)     0         \n",
      " 2D)                                                             \n",
      "                                                                 \n",
      " conv2d_16 (Conv2D)          (None, 109, 109, 10)      910       \n",
      "                                                                 \n",
      " max_pooling2d_7 (MaxPooling  (None, 54, 54, 10)       0         \n",
      " 2D)                                                             \n",
      "                                                                 \n",
      " conv2d_17 (Conv2D)          (None, 52, 52, 10)        910       \n",
      "                                                                 \n",
      " max_pooling2d_8 (MaxPooling  (None, 26, 26, 10)       0         \n",
      " 2D)                                                             \n",
      "                                                                 \n",
      " flatten_5 (Flatten)         (None, 6760)              0         \n",
      "                                                                 \n",
      " dense_5 (Dense)             (None, 1)                 6761      \n",
      "                                                                 \n",
      "=================================================================\n",
      "Total params: 8,861\n",
      "Trainable params: 8,861\n",
      "Non-trainable params: 0\n",
      "_________________________________________________________________\n"
     ]
    }
   ],
   "source": [
    "# Model's summary\n",
    "model_cnn2.summary()"
   ]
  },
  {
   "cell_type": "code",
   "execution_count": 71,
   "metadata": {},
   "outputs": [
    {
     "data": {
      "image/png": "[encoded data removed]",
      "text/plain": [
       "<Figure size 432x288 with 1 Axes>"
      ]
     },
     "metadata": {
      "needs_background": "light"
     },
     "output_type": "display_data"
    },
    {
     "data": {
      "image/png": "[encoded data removed]",
      "text/plain": [
       "<Figure size 432x288 with 1 Axes>"
      ]
     },
     "metadata": {
      "needs_background": "light"
     },
     "output_type": "display_data"
    }
   ],
   "source": [
    "# Plotting the curves\n",
    "plot_loss_curves(history_cnn2)"
   ]
  },
  {
   "cell_type": "markdown",
   "metadata": {},
   "source": [
    "### Data augmentation"
   ]
  },
  {
   "cell_type": "code",
   "execution_count": 72,
   "metadata": {},
   "outputs": [],
   "source": [
    "# Training data with augmentation\n",
    "train_datagen_augmented = ImageDataGenerator(\n",
    "    rescale=1/255.,\n",
    "    rotation_range=0.2,\n",
    "    shear_range=0.2,\n",
    "    zoom_range=0.2,\n",
    "    width_shift_range=0.2,\n",
    "    height_shift_range=0.2,\n",
    "    horizontal_flip=True\n",
    ")\n",
    "\n",
    "# Training data without augmentation\n",
    "train_datagen = ImageDataGenerator(rescale=1/255.)\n",
    "\n",
    "# Test data without augmentation\n",
    "test_datagen_augmented = ImageDataGenerator(rescale=1/255.)"
   ]
  },
  {
   "cell_type": "code",
   "execution_count": 74,
   "metadata": {},
   "outputs": [
    {
     "name": "stdout",
     "output_type": "stream",
     "text": [
      "Generating augmented training data:\n",
      "Found 1500 images belonging to 2 classes.\n",
      "Generating non-augmented training data\n",
      "Found 1500 images belonging to 2 classes.\n"
     ]
    }
   ],
   "source": [
    "# Augmented training data\n",
    "print(\"Generating augmented training data:\")\n",
    "train_data_augmented = train_datagen_augmented.flow_from_directory(\n",
    "    train_dir,\n",
    "    target_size=(224, 224),\n",
    "    batch_size=32,\n",
    "    class_mode=\"binary\",\n",
    "    shuffle=False\n",
    ")\n",
    "\n",
    "# Non-augmented training data\n",
    "print(\"Generating non-augmented training data\")\n",
    "train_data = train_datagen.flow_from_directory(\n",
    "    train_dir,\n",
    "    target_size=(224, 224),\n",
    "    batch_size=32,\n",
    "    class_mode=\"binary\",\n",
    "    shuffle=False\n",
    ")"
   ]
  },
  {
   "cell_type": "code",
   "execution_count": null,
   "metadata": {},
   "outputs": [],
   "source": []
  }
 ],
 "metadata": {
  "kernelspec": {
   "display_name": "Python 3.8.10 64-bit",
   "language": "python",
   "name": "python3"
  },
  "language_info": {
   "codemirror_mode": {
    "name": "ipython",
    "version": 3
   },
   "file_extension": ".py",
   "mimetype": "text/x-python",
   "name": "python",
   "nbconvert_exporter": "python",
   "pygments_lexer": "ipython3",
   "version": "3.8.10"
  },
  "orig_nbformat": 4,
  "vscode": {
   "interpreter": {
    "hash": "8230a386d8e0083990873cddb8ebb5b6213275a10339230a8504f0ef8ce7f888"
   }
  }
 },
 "nbformat": 4,
 "nbformat_minor": 2
}
