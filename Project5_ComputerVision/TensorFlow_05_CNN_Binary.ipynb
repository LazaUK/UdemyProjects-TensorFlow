{
 "cells": [
  {
   "cell_type": "markdown",
   "metadata": {},
   "source": [
    "# Computer Vision - Convolutional Neural Network"
   ]
  },
  {
   "cell_type": "code",
   "execution_count": 17,
   "metadata": {},
   "outputs": [
    {
     "name": "stdout",
     "output_type": "stream",
     "text": [
      "2.10.0\n"
     ]
    }
   ],
   "source": [
    "# Importing TF and checking the version\n",
    "import tensorflow as tf\n",
    "print(tf.__version__)"
   ]
  },
  {
   "cell_type": "code",
   "execution_count": 18,
   "metadata": {},
   "outputs": [],
   "source": [
    "# Get data from https://storage.googleapis.com/ztm_tf_course/food_vision/pizza_steak.zip\n",
    "# import zipfile\n",
    "\n",
    "# # Unzip the data\n",
    "# zip_ref = zipfile.ZipFile(\"pizza_steak.zip\")\n",
    "# zip_ref.extractall()\n",
    "# zip_ref.close()"
   ]
  },
  {
   "cell_type": "markdown",
   "metadata": {},
   "source": [
    "## CNN Model - Binary Classification"
   ]
  },
  {
   "cell_type": "markdown",
   "metadata": {},
   "source": [
    "### Pre-processing the data"
   ]
  },
  {
   "cell_type": "code",
   "execution_count": 19,
   "metadata": {},
   "outputs": [],
   "source": [
    "# Dataset directories\n",
    "train_dir = \"pizza_steak/train/\"\n",
    "test_dir = \"pizza_steak/test\""
   ]
  },
  {
   "cell_type": "code",
   "execution_count": 20,
   "metadata": {},
   "outputs": [],
   "source": [
    "# Train and test data generators\n",
    "from tensorflow.keras.preprocessing.image import ImageDataGenerator\n",
    "\n",
    "train_datagen = ImageDataGenerator(rescale=1/255.)\n",
    "test_datagen = ImageDataGenerator(rescale=1/255.)"
   ]
  },
  {
   "cell_type": "code",
   "execution_count": 21,
   "metadata": {},
   "outputs": [
    {
     "name": "stdout",
     "output_type": "stream",
     "text": [
      "Found 1500 images belonging to 2 classes.\n",
      "Found 500 images belonging to 2 classes.\n"
     ]
    }
   ],
   "source": [
    "# Loading images and turning them into batches\n",
    "train_data = train_datagen.flow_from_directory(\n",
    "    directory=train_dir,\n",
    "    target_size=(224, 224),\n",
    "    class_mode=\"binary\",\n",
    "    batch_size=32\n",
    ")\n",
    "\n",
    "test_data = test_datagen.flow_from_directory(\n",
    "    directory=test_dir,\n",
    "    target_size=(224, 224),\n",
    "    class_mode=\"binary\",\n",
    "    batch_size=32\n",
    ")"
   ]
  },
  {
   "cell_type": "code",
   "execution_count": 22,
   "metadata": {},
   "outputs": [
    {
     "data": {
      "text/plain": [
       "(32, 32)"
      ]
     },
     "execution_count": 22,
     "metadata": {},
     "output_type": "execute_result"
    }
   ],
   "source": [
    "# Get a sample batch\n",
    "images, labels = train_data.next()\n",
    "len(images), len(labels)"
   ]
  },
  {
   "cell_type": "code",
   "execution_count": 23,
   "metadata": {},
   "outputs": [
    {
     "name": "stdout",
     "output_type": "stream",
     "text": [
      "47 16\n",
      "46.875\n"
     ]
    }
   ],
   "source": [
    "# Number of batches\n",
    "print(len(train_data), len(test_data))\n",
    "# Based on the number of images\n",
    "print(1500 / len(images))"
   ]
  },
  {
   "cell_type": "code",
   "execution_count": 24,
   "metadata": {},
   "outputs": [
    {
     "data": {
      "text/plain": [
       "(array([[[0.27450982, 0.        , 0.        ],\n",
       "         [0.2784314 , 0.00392157, 0.00392157],\n",
       "         [0.28235295, 0.        , 0.00392157],\n",
       "         ...,\n",
       "         [0.05882353, 0.01568628, 0.        ],\n",
       "         [0.0627451 , 0.00784314, 0.        ],\n",
       "         [0.0627451 , 0.00784314, 0.        ]],\n",
       " \n",
       "        [[0.3647059 , 0.01568628, 0.        ],\n",
       "         [0.36862746, 0.01176471, 0.        ],\n",
       "         [0.3803922 , 0.01176471, 0.00392157],\n",
       "         ...,\n",
       "         [0.0627451 , 0.00784314, 0.        ],\n",
       "         [0.07058824, 0.01176471, 0.        ],\n",
       "         [0.07450981, 0.01568628, 0.00392157]],\n",
       " \n",
       "        [[0.49411768, 0.01568628, 0.        ],\n",
       "         [0.49411768, 0.01568628, 0.        ],\n",
       "         [0.5019608 , 0.01960784, 0.        ],\n",
       "         ...,\n",
       "         [0.08235294, 0.01176471, 0.        ],\n",
       "         [0.08627451, 0.01568628, 0.        ],\n",
       "         [0.09411766, 0.01960784, 0.00392157]],\n",
       " \n",
       "        ...,\n",
       " \n",
       "        [[0.9294118 , 0.7568628 , 0.65882355],\n",
       "         [0.95294124, 0.7686275 , 0.6666667 ],\n",
       "         [0.96470594, 0.77647066, 0.6862745 ],\n",
       "         ...,\n",
       "         [0.16862746, 0.01176471, 0.        ],\n",
       "         [0.18039216, 0.        , 0.        ],\n",
       "         [0.30588236, 0.08235294, 0.04705883]],\n",
       " \n",
       "        [[0.90196085, 0.7372549 , 0.6431373 ],\n",
       "         [0.92549026, 0.7490196 , 0.6666667 ],\n",
       "         [0.93725497, 0.7686275 , 0.7019608 ],\n",
       "         ...,\n",
       "         [0.20000002, 0.05882353, 0.00392157],\n",
       "         [0.21176472, 0.03137255, 0.        ],\n",
       "         [0.3647059 , 0.13333334, 0.07058824]],\n",
       " \n",
       "        [[0.87843144, 0.73333335, 0.65882355],\n",
       "         [0.90196085, 0.7490196 , 0.68235296],\n",
       "         [0.92549026, 0.7686275 , 0.72156864],\n",
       "         ...,\n",
       "         [0.454902  , 0.30980393, 0.2392157 ],\n",
       "         [0.41176474, 0.21176472, 0.12941177],\n",
       "         [0.4901961 , 0.227451  , 0.1254902 ]]], dtype=float32),\n",
       " (224, 224, 3))"
      ]
     },
     "execution_count": 24,
     "metadata": {},
     "output_type": "execute_result"
    }
   ],
   "source": [
    "# Check if the images were scaled on a batch sample\n",
    "images[0], images[0].shape"
   ]
  },
  {
   "cell_type": "code",
   "execution_count": 25,
   "metadata": {},
   "outputs": [
    {
     "data": {
      "text/plain": [
       "(array([0., 0., 0., 1., 1., 0., 0., 0., 1., 0., 0., 0., 0., 1., 1., 0., 1.,\n",
       "        0., 0., 1., 0., 0., 0., 1., 1., 1., 0., 0., 0., 0., 1., 0.],\n",
       "       dtype=float32),\n",
       " (32,))"
      ]
     },
     "execution_count": 25,
     "metadata": {},
     "output_type": "execute_result"
    }
   ],
   "source": [
    "# View the batch labels\n",
    "labels, labels.shape"
   ]
  },
  {
   "cell_type": "markdown",
   "metadata": {},
   "source": [
    "### Creating baseline CNN model"
   ]
  },
  {
   "cell_type": "code",
   "execution_count": 26,
   "metadata": {},
   "outputs": [],
   "source": [
    "# Simplifying the model creation\n",
    "from tensorflow.keras.layers import Flatten, Dense, Conv2D, MaxPool2D, Activation\n",
    "from tensorflow.keras.models import Sequential"
   ]
  },
  {
   "cell_type": "code",
   "execution_count": 27,
   "metadata": {},
   "outputs": [],
   "source": [
    "# Creating 3-layer CNN model\n",
    "model_cnn1 = Sequential([\n",
    "    Conv2D(\n",
    "        filters=10,\n",
    "        kernel_size=3,\n",
    "        strides=1,\n",
    "        padding=\"valid\",\n",
    "        activation=\"relu\",\n",
    "        input_shape=(224, 224, 3)\n",
    "    ),\n",
    "    Conv2D(10, 3, activation=\"relu\"),\n",
    "    Conv2D(10, 3, activation=\"relu\"),\n",
    "    Flatten(),\n",
    "    Dense(1, activation=\"sigmoid\")\n",
    "])"
   ]
  },
  {
   "cell_type": "code",
   "execution_count": 32,
   "metadata": {},
   "outputs": [],
   "source": [
    "# Compiling the model\n",
    "model_cnn1.compile(\n",
    "    loss=tf.keras.losses.BinaryCrossentropy(),\n",
    "    optimizer=tf.keras.optimizers.Adam(),\n",
    "    metrics=[\"accuracy\"]\n",
    ")"
   ]
  },
  {
   "cell_type": "code",
   "execution_count": 33,
   "metadata": {},
   "outputs": [
    {
     "name": "stdout",
     "output_type": "stream",
     "text": [
      "Model: \"sequential_1\"\n",
      "_________________________________________________________________\n",
      " Layer (type)                Output Shape              Param #   \n",
      "=================================================================\n",
      " conv2d_3 (Conv2D)           (None, 222, 222, 10)      280       \n",
      "                                                                 \n",
      " conv2d_4 (Conv2D)           (None, 220, 220, 10)      910       \n",
      "                                                                 \n",
      " conv2d_5 (Conv2D)           (None, 218, 218, 10)      910       \n",
      "                                                                 \n",
      " flatten_1 (Flatten)         (None, 475240)            0         \n",
      "                                                                 \n",
      " dense_1 (Dense)             (None, 1)                 475241    \n",
      "                                                                 \n",
      "=================================================================\n",
      "Total params: 477,341\n",
      "Trainable params: 477,341\n",
      "Non-trainable params: 0\n",
      "_________________________________________________________________\n"
     ]
    }
   ],
   "source": [
    "# Model summary\n",
    "model_cnn1.summary()"
   ]
  },
  {
   "cell_type": "code",
   "execution_count": 34,
   "metadata": {},
   "outputs": [
    {
     "data": {
      "text/plain": [
       "(47, 16)"
      ]
     },
     "execution_count": 34,
     "metadata": {},
     "output_type": "execute_result"
    }
   ],
   "source": [
    "# Legth of training and testing data in batches\n",
    "len(train_data), len(test_data)"
   ]
  },
  {
   "cell_type": "code",
   "execution_count": 35,
   "metadata": {},
   "outputs": [
    {
     "name": "stdout",
     "output_type": "stream",
     "text": [
      "Epoch 1/5\n",
      "47/47 [==============================] - 59s 1s/step - loss: 1.1354 - accuracy: 0.6387 - val_loss: 0.5081 - val_accuracy: 0.7660\n",
      "Epoch 2/5\n",
      "47/47 [==============================] - 53s 1s/step - loss: 0.4878 - accuracy: 0.7853 - val_loss: 0.3796 - val_accuracy: 0.8400\n",
      "Epoch 3/5\n",
      "47/47 [==============================] - 53s 1s/step - loss: 0.3847 - accuracy: 0.8300 - val_loss: 0.3748 - val_accuracy: 0.8340\n",
      "Epoch 4/5\n",
      "47/47 [==============================] - 50s 1s/step - loss: 0.2792 - accuracy: 0.9027 - val_loss: 0.3238 - val_accuracy: 0.8600\n",
      "Epoch 5/5\n",
      "47/47 [==============================] - 43s 914ms/step - loss: 0.1431 - accuracy: 0.9507 - val_loss: 0.4150 - val_accuracy: 0.8180\n"
     ]
    }
   ],
   "source": [
    "# Fit the model\n",
    "history_cnn1 = model_cnn1.fit(\n",
    "    train_data,\n",
    "    epochs=5,\n",
    "    steps_per_epoch=len(train_data),\n",
    "    validation_data=test_data,\n",
    "    validation_steps=len(test_data)\n",
    ")"
   ]
  },
  {
   "cell_type": "markdown",
   "metadata": {},
   "source": [
    "### Evaluating CNN model"
   ]
  },
  {
   "cell_type": "code",
   "execution_count": 42,
   "metadata": {},
   "outputs": [
    {
     "data": {
      "text/plain": [
       "<AxesSubplot:>"
      ]
     },
     "execution_count": 42,
     "metadata": {},
     "output_type": "execute_result"
    },
    {
     "data": {
      "image/png": "[encoded data removed]",
      "text/plain": [
       "<Figure size 720x576 with 1 Axes>"
      ]
     },
     "metadata": {
      "needs_background": "light"
     },
     "output_type": "display_data"
    }
   ],
   "source": [
    "# Plotting the history\n",
    "import pandas as pd\n",
    "import matplotlib.pyplot as plt\n",
    "\n",
    "pd.DataFrame(history_cnn1.history).plot(figsize=(10, 8))"
   ]
  },
  {
   "cell_type": "code",
   "execution_count": 43,
   "metadata": {},
   "outputs": [],
   "source": [
    "# Plotting function for each metric\n",
    "def plot_loss_curves(history):\n",
    "    # Loss values\n",
    "    loss = history.history[\"loss\"]\n",
    "    val_loss = history.history[\"val_loss\"]\n",
    "\n",
    "    # Accuracy values\n",
    "    accuracy = history.history[\"accuracy\"]\n",
    "    val_accuracy = history.history[\"val_accuracy\"]\n",
    "\n",
    "    # Number of epochs\n",
    "    epochs = range(len(history.history[\"loss\"]))\n",
    "\n",
    "    # Plot losses\n",
    "    plt.plot(epochs, loss, label=\"Training_Loss\")\n",
    "    plt.plot(epochs, val_loss, label=\"Validation_Loss\")\n",
    "    plt.title(\"Loss\")\n",
    "    plt.xlabel(\"Epochs\")\n",
    "    plt.legend()\n",
    "\n",
    "    # Plot accuracy\n",
    "    plt.figure()\n",
    "    plt.plot(epochs, accuracy, label=\"Training_Accuracy\")\n",
    "    plt.plot(epochs, val_accuracy, label=\"Validation_Accuracy\")\n",
    "    plt.title(\"Accuracy\")\n",
    "    plt.xlabel(\"Epochs\")\n",
    "    plt.legend()"
   ]
  },
  {
   "cell_type": "code",
   "execution_count": 44,
   "metadata": {},
   "outputs": [
    {
     "data": {
      "image/png": "[encoded data removed]",
      "text/plain": [
       "<Figure size 432x288 with 1 Axes>"
      ]
     },
     "metadata": {
      "needs_background": "light"
     },
     "output_type": "display_data"
    },
    {
     "data": {
      "image/png": "[encoded data removed]",
      "text/plain": [
       "<Figure size 432x288 with 1 Axes>"
      ]
     },
     "metadata": {
      "needs_background": "light"
     },
     "output_type": "display_data"
    }
   ],
   "source": [
    "plot_loss_curves(history_cnn1)"
   ]
  },
  {
   "cell_type": "code",
   "execution_count": null,
   "metadata": {},
   "outputs": [],
   "source": []
  }
 ],
 "metadata": {
  "kernelspec": {
   "display_name": "Python 3.8.10 64-bit",
   "language": "python",
   "name": "python3"
  },
  "language_info": {
   "codemirror_mode": {
    "name": "ipython",
    "version": 3
   },
   "file_extension": ".py",
   "mimetype": "text/x-python",
   "name": "python",
   "nbconvert_exporter": "python",
   "pygments_lexer": "ipython3",
   "version": "3.8.10"
  },
  "orig_nbformat": 4,
  "vscode": {
   "interpreter": {
    "hash": "8230a386d8e0083990873cddb8ebb5b6213275a10339230a8504f0ef8ce7f888"
   }
  }
 },
 "nbformat": 4,
 "nbformat_minor": 2
}
