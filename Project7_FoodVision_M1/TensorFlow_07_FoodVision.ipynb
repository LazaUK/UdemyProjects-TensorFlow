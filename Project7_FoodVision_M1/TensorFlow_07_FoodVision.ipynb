{
 "cells": [
  {
   "attachments": {},
   "cell_type": "markdown",
   "metadata": {},
   "source": [
    "# Food Vision - Milestone"
   ]
  },
  {
   "cell_type": "code",
   "execution_count": 1,
   "metadata": {},
   "outputs": [
    {
     "name": "stdout",
     "output_type": "stream",
     "text": [
      "2.10.1\n"
     ]
    }
   ],
   "source": [
    "# Importing TF and checking the version\n",
    "import tensorflow as tf\n",
    "\n",
    "print(tf.__version__)"
   ]
  },
  {
   "cell_type": "code",
   "execution_count": 2,
   "metadata": {},
   "outputs": [],
   "source": [
    "# Getting helper functions\n",
    "from DanielBourke_HelperFunctions import create_tensorboard_callback, plot_loss_curves, compare_historys"
   ]
  },
  {
   "attachments": {},
   "cell_type": "markdown",
   "metadata": {},
   "source": [
    "### Using TensorFlow Datasets (TFDS)"
   ]
  },
  {
   "cell_type": "code",
   "execution_count": 3,
   "metadata": {},
   "outputs": [],
   "source": [
    "# Getting TensorFlow Datasets\n",
    "import tensorflow_datasets as tfds"
   ]
  },
  {
   "cell_type": "code",
   "execution_count": 4,
   "metadata": {},
   "outputs": [],
   "source": [
    "# Listing all available datasets\n",
    "datasets_list = tfds.list_builders()\n",
    "#datasets_list"
   ]
  },
  {
   "cell_type": "code",
   "execution_count": 5,
   "metadata": {},
   "outputs": [],
   "source": [
    "# Loading in the data\n",
    "(train_data, test_data), ds_info = tfds.load(\n",
    "    name=\"food101\",\n",
    "    split=[\"train\", \"validation\"],\n",
    "    shuffle_files=True,\n",
    "    as_supervised=True,\n",
    "    with_info=True\n",
    ")"
   ]
  },
  {
   "attachments": {},
   "cell_type": "markdown",
   "metadata": {},
   "source": [
    "### Exploring TFDS Food101 dataset"
   ]
  },
  {
   "cell_type": "code",
   "execution_count": 6,
   "metadata": {},
   "outputs": [
    {
     "data": {
      "text/plain": [
       "FeaturesDict({\n",
       "    'image': Image(shape=(None, None, 3), dtype=tf.uint8),\n",
       "    'label': ClassLabel(shape=(), dtype=tf.int64, num_classes=101),\n",
       "})"
      ]
     },
     "execution_count": 6,
     "metadata": {},
     "output_type": "execute_result"
    }
   ],
   "source": [
    "# Features of Food101 dataset from TFDS\n",
    "ds_info.features"
   ]
  },
  {
   "cell_type": "code",
   "execution_count": 7,
   "metadata": {},
   "outputs": [
    {
     "data": {
      "text/plain": [
       "['apple_pie',\n",
       " 'baby_back_ribs',\n",
       " 'baklava',\n",
       " 'beef_carpaccio',\n",
       " 'beef_tartare',\n",
       " 'beet_salad',\n",
       " 'beignets',\n",
       " 'bibimbap',\n",
       " 'bread_pudding',\n",
       " 'breakfast_burrito']"
      ]
     },
     "execution_count": 7,
     "metadata": {},
     "output_type": "execute_result"
    }
   ],
   "source": [
    "# Get the class names\n",
    "class_names = ds_info.features[\"label\"].names\n",
    "class_names[:10]"
   ]
  },
  {
   "cell_type": "code",
   "execution_count": 8,
   "metadata": {},
   "outputs": [
    {
     "data": {
      "text/plain": [
       "<TakeDataset element_spec=(TensorSpec(shape=(None, None, 3), dtype=tf.uint8, name=None), TensorSpec(shape=(), dtype=tf.int64, name=None))>"
      ]
     },
     "execution_count": 8,
     "metadata": {},
     "output_type": "execute_result"
    }
   ],
   "source": [
    "# Taking one sample of train data\n",
    "train_one_sample = train_data.take(1) # Samples are in format (image_tensor, label)\n",
    "train_one_sample"
   ]
  },
  {
   "cell_type": "code",
   "execution_count": 9,
   "metadata": {},
   "outputs": [
    {
     "name": "stdout",
     "output_type": "stream",
     "text": [
      "\n",
      "    Image shape: (382, 512, 3)\n",
      "    Image datatype: <dtype: 'uint8'>\n",
      "    Target class: 52\n",
      "    Class name(str form): gyoza\n",
      "    \n"
     ]
    }
   ],
   "source": [
    "# Output info about our sample\n",
    "for image, label in train_one_sample:\n",
    "    print(f\"\"\"\n",
    "    Image shape: {image.shape}\n",
    "    Image datatype: {image.dtype}\n",
    "    Target class: {label}\n",
    "    Class name(str form): {class_names[label.numpy()]}\n",
    "    \"\"\")"
   ]
  },
  {
   "cell_type": "code",
   "execution_count": 10,
   "metadata": {},
   "outputs": [
    {
     "data": {
      "text/plain": [
       "<tf.Tensor: shape=(382, 512, 3), dtype=uint8, numpy=\n",
       "array([[[207, 220, 237],\n",
       "        [207, 220, 237],\n",
       "        [207, 220, 236],\n",
       "        ...,\n",
       "        [ 10,  11,  13],\n",
       "        [ 11,  12,  14],\n",
       "        [ 12,  13,  15]],\n",
       "\n",
       "       [[208, 219, 237],\n",
       "        [207, 220, 236],\n",
       "        [208, 220, 236],\n",
       "        ...,\n",
       "        [  9,  10,  12],\n",
       "        [ 10,  11,  13],\n",
       "        [ 11,  12,  14]],\n",
       "\n",
       "       [[216, 225, 242],\n",
       "        [213, 225, 239],\n",
       "        [214, 223, 238],\n",
       "        ...,\n",
       "        [ 11,  12,  14],\n",
       "        [ 12,  13,  15],\n",
       "        [ 12,  13,  15]],\n",
       "\n",
       "       ...,\n",
       "\n",
       "       [[ 33,  10,  16],\n",
       "        [ 34,  11,  17],\n",
       "        [ 33,  12,  17],\n",
       "        ...,\n",
       "        [ 10,   6,   5],\n",
       "        [ 13,   7,   7],\n",
       "        [ 15,   9,   9]],\n",
       "\n",
       "       [[ 37,  12,  18],\n",
       "        [ 36,  13,  19],\n",
       "        [ 35,  15,  17],\n",
       "        ...,\n",
       "        [ 14,  10,   9],\n",
       "        [ 19,  13,  13],\n",
       "        [ 21,  15,  15]],\n",
       "\n",
       "       [[ 39,  14,  20],\n",
       "        [ 37,  14,  20],\n",
       "        [ 36,  14,  17],\n",
       "        ...,\n",
       "        [ 19,  15,  14],\n",
       "        [ 23,  17,  17],\n",
       "        [ 26,  20,  20]]], dtype=uint8)>"
      ]
     },
     "execution_count": 10,
     "metadata": {},
     "output_type": "execute_result"
    }
   ],
   "source": [
    "# Sample image structure\n",
    "image"
   ]
  },
  {
   "cell_type": "code",
   "execution_count": 11,
   "metadata": {},
   "outputs": [
    {
     "data": {
      "text/plain": [
       "(<tf.Tensor: shape=(), dtype=uint8, numpy=0>,\n",
       " <tf.Tensor: shape=(), dtype=uint8, numpy=255>)"
      ]
     },
     "execution_count": 11,
     "metadata": {},
     "output_type": "execute_result"
    }
   ],
   "source": [
    "# Checking image's min/max values\n",
    "tf.reduce_min(image), tf.reduce_max(image)"
   ]
  },
  {
   "attachments": {},
   "cell_type": "markdown",
   "metadata": {},
   "source": [
    "### Plotting TFDS sample image"
   ]
  },
  {
   "cell_type": "code",
   "execution_count": 12,
   "metadata": {},
   "outputs": [
    {
     "data": {
      "text/plain": [
       "(-0.5, 511.5, 381.5, -0.5)"
      ]
     },
     "execution_count": 12,
     "metadata": {},
     "output_type": "execute_result"
    },
    {
     "data": {
      "image/png": "[encoded data removed]",
      "text/plain": [
       "<Figure size 432x288 with 1 Axes>"
      ]
     },
     "metadata": {
      "needs_background": "light"
     },
     "output_type": "display_data"
    }
   ],
   "source": [
    "# Plotting an image tensor\n",
    "import matplotlib.pyplot as plt\n",
    "\n",
    "plt.imshow(image)\n",
    "plt.title(class_names[label.numpy()])\n",
    "plt.axis(False)"
   ]
  },
  {
   "attachments": {},
   "cell_type": "markdown",
   "metadata": {},
   "source": [
    "### Building a preprocessing function"
   ]
  },
  {
   "cell_type": "code",
   "execution_count": 13,
   "metadata": {},
   "outputs": [],
   "source": [
    "# Making a function\n",
    "def preprocess_img(image, label, img_shape=224):\n",
    "    # Resize the image\n",
    "    image = tf.image.resize(image, [img_shape, img_shape])\n",
    "    # image = image / 255. # Optional rescaling\n",
    "    # Convert image from uint8 to float32\n",
    "    return tf.cast(image, tf.float32), label"
   ]
  },
  {
   "cell_type": "code",
   "execution_count": 14,
   "metadata": {},
   "outputs": [
    {
     "name": "stdout",
     "output_type": "stream",
     "text": [
      "\n",
      "Image before preprocessing: [[[207 220 237]\n",
      "  [207 220 237]\n",
      "  [207 220 236]\n",
      "  ...\n",
      "  [ 10  11  13]\n",
      "  [ 11  12  14]\n",
      "  [ 12  13  15]]\n",
      "\n",
      " [[208 219 237]\n",
      "  [207 220 236]\n",
      "  [208 220 236]\n",
      "  ...\n",
      "  [  9  10  12]\n",
      "  [ 10  11  13]\n",
      "  [ 11  12  14]]]\n",
      "Image shape: (382, 512, 3)\n",
      "Image data type: <dtype: 'uint8'>\n",
      "Image after preprocessing: [[[207.12596  219.87404  236.77328 ]\n",
      "  [206.75159  219.39891  235.39891 ]\n",
      "  [206.33514  216.86098  232.36958 ]\n",
      "  ...\n",
      "  [ 10.433058  11.433058  13.433058]\n",
      "  [  9.974804  10.974804  12.974804]\n",
      "  [ 11.004499  12.004499  14.004499]]\n",
      "\n",
      " [[214.51498  225.25287  240.26627 ]\n",
      "  [214.24043  223.17825  238.07462 ]\n",
      "  [213.40561  221.28954  234.25638 ]\n",
      "  ...\n",
      "  [ 12.571472  13.571472  15.571472]\n",
      "  [ 11.928558  12.928558  14.928558]\n",
      "  [ 11.941964  12.941964  14.941964]]]\n",
      "Image shape: (224, 224, 3)\n",
      "Image data type: <dtype: 'float32'>\n",
      "\n"
     ]
    }
   ],
   "source": [
    "# Preporcessing sample tensor\n",
    "preprocessed_img = preprocess_img(image, label)[0]\n",
    "print(f\"\"\"\n",
    "Image before preprocessing: {image[:2]}\n",
    "Image shape: {image.shape}\n",
    "Image data type: {image.dtype}\n",
    "Image after preprocessing: {preprocessed_img[:2]}\n",
    "Image shape: {preprocessed_img.shape}\n",
    "Image data type: {preprocessed_img.dtype}\n",
    "\"\"\")"
   ]
  },
  {
   "attachments": {},
   "cell_type": "markdown",
   "metadata": {},
   "source": [
    "### Batch and prepare datasets"
   ]
  },
  {
   "cell_type": "code",
   "execution_count": 15,
   "metadata": {},
   "outputs": [],
   "source": [
    "# Map preprocessing function to training (and parallelise it)\n",
    "train_data = train_data.map(map_func=preprocess_img, num_parallel_calls=tf.data.AUTOTUNE)\n",
    "\n",
    "# Shuffle training data and turn into batches\n",
    "train_data = train_data.shuffle(buffer_size=1000).batch(batch_size=32).prefetch(buffer_size=tf.data.AUTOTUNE)\n",
    "\n",
    "# Map preprocessing function to test\n",
    "test_data = test_data.map(map_func=preprocess_img, num_parallel_calls=tf.data.AUTOTUNE).batch(32).prefetch(tf.data.AUTOTUNE)"
   ]
  },
  {
   "cell_type": "code",
   "execution_count": 16,
   "metadata": {},
   "outputs": [
    {
     "data": {
      "text/plain": [
       "(<PrefetchDataset element_spec=(TensorSpec(shape=(None, 224, 224, 3), dtype=tf.float32, name=None), TensorSpec(shape=(None,), dtype=tf.int64, name=None))>,\n",
       " <PrefetchDataset element_spec=(TensorSpec(shape=(None, 224, 224, 3), dtype=tf.float32, name=None), TensorSpec(shape=(None,), dtype=tf.int64, name=None))>)"
      ]
     },
     "execution_count": 16,
     "metadata": {},
     "output_type": "execute_result"
    }
   ],
   "source": [
    "train_data, train_data"
   ]
  },
  {
   "attachments": {},
   "cell_type": "markdown",
   "metadata": {},
   "source": [
    "### Create modelling callbacks"
   ]
  },
  {
   "cell_type": "code",
   "execution_count": 17,
   "metadata": {},
   "outputs": [],
   "source": [
    "# Getting callback function from the helper package\n",
    "from DanielBourke_HelperFunctions import create_tensorboard_callback"
   ]
  },
  {
   "cell_type": "code",
   "execution_count": 18,
   "metadata": {},
   "outputs": [],
   "source": [
    "# Creating ModelCheckpoint callback to save model's progress\n",
    "checkpoint_path = \"model_checkpoints/cp.ckpt\"\n",
    "model_checkpoint = tf.keras.callbacks.ModelCheckpoint(\n",
    "    checkpoint_path,\n",
    "    monitor=\"val_acc\",\n",
    "    save_best_only=True,\n",
    "    save_weights_only=True,\n",
    "    verbose=0 # Don't print anything\n",
    ")"
   ]
  },
  {
   "attachments": {},
   "cell_type": "markdown",
   "metadata": {},
   "source": [
    "### Setup mixed precision policy"
   ]
  },
  {
   "cell_type": "code",
   "execution_count": 19,
   "metadata": {},
   "outputs": [],
   "source": [
    "# Activating mixed precision\n",
    "from tensorflow.keras import mixed_precision\n",
    "# mixed_precision.set_global_policy(\"mixed_float16\") # SETTING IT ON\n",
    "mixed_precision.set_global_policy(\"float32\") # SETTING IT OFF"
   ]
  },
  {
   "cell_type": "code",
   "execution_count": 20,
   "metadata": {},
   "outputs": [
    {
     "data": {
      "text/plain": [
       "<Policy \"float32\">"
      ]
     },
     "execution_count": 20,
     "metadata": {},
     "output_type": "execute_result"
    }
   ],
   "source": [
    "# Checking global policy settings\n",
    "mixed_precision.global_policy()"
   ]
  },
  {
   "attachments": {},
   "cell_type": "markdown",
   "metadata": {},
   "source": [
    "### Building feature extraction model"
   ]
  },
  {
   "cell_type": "code",
   "execution_count": 21,
   "metadata": {},
   "outputs": [],
   "source": [
    "# Creating a base model\n",
    "from tensorflow.keras import layers\n",
    "from tensorflow.keras.layers.experimental import preprocessing\n",
    "\n",
    "input_shape = (224, 224, 3)\n",
    "base_model = tf.keras.applications.EfficientNetB0(include_top=False)\n",
    "base_model.trainable = False\n",
    "\n",
    "# Creating functional model\n",
    "inputs = layers.Input(shape=input_shape, name=\"input_layer\")\n",
    "# x = preprocessing.Rescaling(1/255.)(x)\n",
    "x = base_model(inputs, training=False)\n",
    "x = layers.GlobalAveragePooling2D()(x)\n",
    "x = layers.Dense(len(class_names))(x)\n",
    "outputs = layers.Activation(\"softmax\")(x)\n",
    "model = tf.keras.Model(inputs, outputs)\n",
    "\n",
    "# Compiling the model\n",
    "model.compile(\n",
    "    loss=tf.keras.losses.SparseCategoricalCrossentropy(),\n",
    "    optimizer=tf.keras.optimizers.Adam(),\n",
    "    metrics=[\"accuracy\"]\n",
    ")"
   ]
  },
  {
   "cell_type": "code",
   "execution_count": 22,
   "metadata": {},
   "outputs": [
    {
     "name": "stdout",
     "output_type": "stream",
     "text": [
      "Model: \"model\"\n",
      "_________________________________________________________________\n",
      " Layer (type)                Output Shape              Param #   \n",
      "=================================================================\n",
      " input_layer (InputLayer)    [(None, 224, 224, 3)]     0         \n",
      "                                                                 \n",
      " efficientnetb0 (Functional)  (None, None, None, 1280)  4049571  \n",
      "                                                                 \n",
      " global_average_pooling2d (G  (None, 1280)             0         \n",
      " lobalAveragePooling2D)                                          \n",
      "                                                                 \n",
      " dense (Dense)               (None, 101)               129381    \n",
      "                                                                 \n",
      " activation (Activation)     (None, 101)               0         \n",
      "                                                                 \n",
      "=================================================================\n",
      "Total params: 4,178,952\n",
      "Trainable params: 129,381\n",
      "Non-trainable params: 4,049,571\n",
      "_________________________________________________________________\n"
     ]
    }
   ],
   "source": [
    "# Model summary\n",
    "model.summary()"
   ]
  },
  {
   "cell_type": "code",
   "execution_count": 23,
   "metadata": {},
   "outputs": [
    {
     "name": "stdout",
     "output_type": "stream",
     "text": [
      "input_layer True float32 <Policy \"float32\">\n",
      "efficientnetb0 False float32 <Policy \"float32\">\n",
      "global_average_pooling2d True float32 <Policy \"float32\">\n",
      "dense True float32 <Policy \"float32\">\n",
      "activation True float32 <Policy \"float32\">\n"
     ]
    }
   ],
   "source": [
    "# Checking data types at each layer level\n",
    "for layer in model.layers:\n",
    "    print(layer.name, layer.trainable, layer.dtype, layer.dtype_policy)"
   ]
  },
  {
   "cell_type": "code",
   "execution_count": 24,
   "metadata": {},
   "outputs": [
    {
     "name": "stdout",
     "output_type": "stream",
     "text": [
      "Saving TensorBoard log files to: training_logs/efficientb0/20230106-094453\n",
      "WARNING:tensorflow:Model failed to serialize as JSON. Ignoring... Unable to serialize [2.0896919 2.1128857 2.1081853] to JSON. Unrecognized type <class 'tensorflow.python.framework.ops.EagerTensor'>.\n"
     ]
    },
    {
     "name": "stderr",
     "output_type": "stream",
     "text": [
      "WARNING:tensorflow:Model failed to serialize as JSON. Ignoring... Unable to serialize [2.0896919 2.1128857 2.1081853] to JSON. Unrecognized type <class 'tensorflow.python.framework.ops.EagerTensor'>.\n"
     ]
    },
    {
     "name": "stdout",
     "output_type": "stream",
     "text": [
      "Epoch 1/3\n",
      "2368/2368 [==============================] - ETA: 0s - loss: 1.7169 - accuracy: 0.5822WARNING:tensorflow:Can save best model only with val_acc available, skipping.\n"
     ]
    },
    {
     "name": "stderr",
     "output_type": "stream",
     "text": [
      "WARNING:tensorflow:Can save best model only with val_acc available, skipping.\n"
     ]
    },
    {
     "name": "stdout",
     "output_type": "stream",
     "text": [
      "2368/2368 [==============================] - 4458s 2s/step - loss: 1.7169 - accuracy: 0.5822 - val_loss: 1.1166 - val_accuracy: 0.7005\n",
      "Epoch 2/3\n",
      "2368/2368 [==============================] - ETA: 0s - loss: 1.1992 - accuracy: 0.6901WARNING:tensorflow:Can save best model only with val_acc available, skipping.\n"
     ]
    },
    {
     "name": "stderr",
     "output_type": "stream",
     "text": [
      "WARNING:tensorflow:Can save best model only with val_acc available, skipping.\n"
     ]
    },
    {
     "name": "stdout",
     "output_type": "stream",
     "text": [
      "2368/2368 [==============================] - 2363s 997ms/step - loss: 1.1992 - accuracy: 0.6901 - val_loss: 1.0388 - val_accuracy: 0.7246\n",
      "Epoch 3/3\n",
      "2368/2368 [==============================] - ETA: 0s - loss: 1.0529 - accuracy: 0.7235WARNING:tensorflow:Can save best model only with val_acc available, skipping.\n"
     ]
    },
    {
     "name": "stderr",
     "output_type": "stream",
     "text": [
      "WARNING:tensorflow:Can save best model only with val_acc available, skipping.\n"
     ]
    },
    {
     "name": "stdout",
     "output_type": "stream",
     "text": [
      "2368/2368 [==============================] - 2643s 1s/step - loss: 1.0529 - accuracy: 0.7235 - val_loss: 0.9984 - val_accuracy: 0.7291\n"
     ]
    }
   ],
   "source": [
    "# Fitting the model\n",
    "history1 = model.fit(\n",
    "    train_data,\n",
    "    epochs=3,\n",
    "    steps_per_epoch=len(train_data),\n",
    "    validation_data=test_data,\n",
    "    validation_steps=int(0.15 * len(test_data)),\n",
    "    callbacks=[create_tensorboard_callback(\n",
    "        dir_name=\"training_logs\",\n",
    "        experiment_name=\"efficientb0\"\n",
    "    ),\n",
    "    model_checkpoint]\n",
    ")"
   ]
  },
  {
   "cell_type": "code",
   "execution_count": 25,
   "metadata": {},
   "outputs": [
    {
     "name": "stdout",
     "output_type": "stream",
     "text": [
      "790/790 [==============================] - 825s 1s/step - loss: 1.0025 - accuracy: 0.7264\n"
     ]
    },
    {
     "data": {
      "text/plain": [
       "[1.002529263496399, 0.7264158129692078]"
      ]
     },
     "execution_count": 25,
     "metadata": {},
     "output_type": "execute_result"
    }
   ],
   "source": [
    "# Evaluating the model on the full dataset\n",
    "results = model.evaluate(test_data)\n",
    "results"
   ]
  },
  {
   "cell_type": "code",
   "execution_count": null,
   "metadata": {},
   "outputs": [],
   "source": []
  }
 ],
 "metadata": {
  "kernelspec": {
   "display_name": "Python 3.8.10 64-bit",
   "language": "python",
   "name": "python3"
  },
  "language_info": {
   "codemirror_mode": {
    "name": "ipython",
    "version": 3
   },
   "file_extension": ".py",
   "mimetype": "text/x-python",
   "name": "python",
   "nbconvert_exporter": "python",
   "pygments_lexer": "ipython3",
   "version": "3.8.10"
  },
  "orig_nbformat": 4,
  "vscode": {
   "interpreter": {
    "hash": "8230a386d8e0083990873cddb8ebb5b6213275a10339230a8504f0ef8ce7f888"
   }
  }
 },
 "nbformat": 4,
 "nbformat_minor": 2
}
